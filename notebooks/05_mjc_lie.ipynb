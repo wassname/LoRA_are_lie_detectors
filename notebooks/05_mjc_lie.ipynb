{
 "cells": [
  {
   "cell_type": "markdown",
   "metadata": {},
   "source": [
    "Experiment to use lora to make a lying model. Here we think of Lora as a probe, as it acts in a very similar way - modifying the residual stream.\n",
    "\n",
    "Then the hope is it will assist at lie detecting and generalize to unseen dataset\n",
    "\n",
    "- https://github.dev/JD-P/minihf/blob/b54075c34ef88d9550e37fdf709e78e5a68787c4/lora_tune.py\n",
    "- https://github.com/jonkrohn/NLP-with-LLMs"
   ]
  },
  {
   "cell_type": "code",
   "execution_count": 1,
   "metadata": {},
   "outputs": [],
   "source": [
    "import os\n",
    "import numpy as np\n",
    "import pandas as pd\n",
    "from matplotlib import pyplot as plt\n",
    "from tqdm.auto import tqdm\n",
    "\n",
    "plt.style.use(\"ggplot\")\n",
    "\n",
    "from typing import Optional, List, Dict, Union\n",
    "from jaxtyping import Float\n",
    "from torch import Tensor\n",
    "\n",
    "import torch\n",
    "import torch.nn as nn\n",
    "import torch.nn.functional as F\n",
    "\n",
    "from torch import Tensor\n",
    "from torch import optim\n",
    "from torch.utils.data import random_split, DataLoader, TensorDataset\n",
    "\n",
    "from pathlib import Path\n",
    "from einops import rearrange\n",
    "\n",
    "import transformers\n",
    "from transformers import (\n",
    "    AutoTokenizer,\n",
    "    AutoModelForCausalLM,\n",
    "    BitsAndBytesConfig,\n",
    "    AutoConfig,\n",
    ")\n",
    "from peft import (\n",
    "    get_peft_config,\n",
    "    get_peft_model,\n",
    "    LoraConfig,\n",
    "    TaskType,\n",
    "    LoftQConfig,\n",
    "    IA3Config,\n",
    ")\n",
    "\n",
    "import datasets\n",
    "from datasets import Dataset\n",
    "\n",
    "from loguru import logger\n",
    "\n",
    "logger.add(os.sys.stderr, format=\"{time} {level} {message}\", level=\"INFO\")\n",
    "\n",
    "\n",
    "# # quiet please\n",
    "torch.set_float32_matmul_precision(\"medium\")\n",
    "import warnings\n",
    "\n",
    "warnings.filterwarnings(\"ignore\", \".*does not have many workers.*\")\n",
    "# warnings.filterwarnings(\n",
    "#     \"ignore\", \".*sampler has shuffling enabled, it is strongly recommended that.*\"\n",
    "# )\n",
    "# warnings.filterwarnings(\"ignore\", \".*has been removed as a dependency of.*\")\n"
   ]
  },
  {
   "cell_type": "code",
   "execution_count": 2,
   "metadata": {},
   "outputs": [],
   "source": [
    "# load my code\n",
    "%load_ext autoreload\n",
    "%autoreload 2\n",
    "\n",
    "import lightning.pytorch as pl\n",
    "from src.datasets.dm import DeceptionDataModule\n",
    "from src.models.pl_lora_ft import AtapterFinetuner\n",
    "\n",
    "from src.config import ExtractConfig\n",
    "from src.prompts.prompt_loading import load_preproc_dataset, load_preproc_datasets\n",
    "from src.models.load import load_model\n",
    "from src.helpers.torch_helpers import clear_mem\n",
    "from src.models.phi.model_phi import PhiForCausalLMWHS\n"
   ]
  },
  {
   "cell_type": "markdown",
   "metadata": {},
   "source": [
    "## Parameters\n"
   ]
  },
  {
   "cell_type": "code",
   "execution_count": 3,
   "metadata": {},
   "outputs": [],
   "source": [
    "# params\n",
    "max_epochs = 5\n",
    "device = \"cuda:0\"\n",
    "\n",
    "cfg = ExtractConfig(\n",
    "    max_examples=(1000, 1000),\n",
    "    # model=\"wassname/phi-1_5-w_hidden_states\",\n",
    "    # batch_size=3,\n",
    "    # model=\"wassname/phi-2-w_hidden_states\",\n",
    "    model=\"microsoft/phi-2\",\n",
    "    # model=\"microsoft/phi-1_5\",\n",
    "    # model=\"Walmart-the-bag/phi-2-uncensored\",\n",
    "    batch_size=1,\n",
    "    prompt_format=\"phi\",\n",
    ")\n"
   ]
  },
  {
   "cell_type": "markdown",
   "metadata": {},
   "source": [
    "## Load model"
   ]
  },
  {
   "cell_type": "markdown",
   "metadata": {},
   "source": []
  },
  {
   "cell_type": "code",
   "execution_count": 4,
   "metadata": {},
   "outputs": [
    {
     "name": "stderr",
     "output_type": "stream",
     "text": [
      "Special tokens have been added in the vocabulary, make sure the associated word embeddings are fine-tuned or trained.\n",
      "The argument `trust_remote_code` is to be used with Auto classes. It has no effect here and is ignored.\n"
     ]
    },
    {
     "data": {
      "application/vnd.jupyter.widget-view+json": {
       "model_id": "b2bdc13e2c9048b6b9ab75ec857f287a",
       "version_major": 2,
       "version_minor": 0
      },
      "text/plain": [
       "Loading checkpoint shards:   0%|          | 0/2 [00:00<?, ?it/s]"
      ]
     },
     "metadata": {},
     "output_type": "display_data"
    },
    {
     "data": {
      "text/plain": [
       "PhiForCausalLMWHS(\n",
       "  (transformer): PhiModel(\n",
       "    (embd): Embedding(\n",
       "      (wte): Embedding(51200, 2560)\n",
       "      (drop): Dropout(p=0.0, inplace=False)\n",
       "    )\n",
       "    (h): ModuleList(\n",
       "      (0-31): 32 x ParallelBlock(\n",
       "        (ln): LayerNorm((2560,), eps=1e-05, elementwise_affine=True)\n",
       "        (resid_dropout): Dropout(p=0.1, inplace=False)\n",
       "        (mixer): MHA(\n",
       "          (rotary_emb): RotaryEmbedding()\n",
       "          (Wqkv): Linear4bit(in_features=2560, out_features=7680, bias=True)\n",
       "          (out_proj): Linear4bit(in_features=2560, out_features=2560, bias=True)\n",
       "          (inner_attn): SelfAttention(\n",
       "            (drop): Dropout(p=0.0, inplace=False)\n",
       "          )\n",
       "          (inner_cross_attn): CrossAttention(\n",
       "            (drop): Dropout(p=0.0, inplace=False)\n",
       "          )\n",
       "        )\n",
       "        (mlp): MLP(\n",
       "          (fc1): Linear4bit(in_features=2560, out_features=10240, bias=True)\n",
       "          (fc2): Linear4bit(in_features=10240, out_features=2560, bias=True)\n",
       "          (act): NewGELUActivation()\n",
       "        )\n",
       "      )\n",
       "    )\n",
       "  )\n",
       "  (lm_head): CausalLMHead(\n",
       "    (ln): LayerNorm((2560,), eps=1e-05, elementwise_affine=True)\n",
       "    (linear): Linear(in_features=2560, out_features=51200, bias=True)\n",
       "  )\n",
       "  (loss): CausalLMLoss(\n",
       "    (loss_fct): CrossEntropyLoss()\n",
       "  )\n",
       ")"
      ]
     },
     "execution_count": 4,
     "metadata": {},
     "output_type": "execute_result"
    }
   ],
   "source": [
    "model, tokenizer = load_model(\n",
    "    cfg.model,\n",
    "    device=device,\n",
    "    model_class=PhiForCausalLMWHS, # ti add hidden states\n",
    ")\n",
    "model\n"
   ]
  },
  {
   "cell_type": "code",
   "execution_count": 5,
   "metadata": {},
   "outputs": [
    {
     "name": "stdout",
     "output_type": "stream",
     "text": [
      "trainable params: 163,840 || all params: 2,779,847,680 || trainable%: 0.005893848111850503\n"
     ]
    }
   ],
   "source": [
    "# for normal seetings see https://github.com/huggingface/peft/blob/cf04d0353f0343cbf66627228c4495f51669af34/src/peft/utils/constants.py#L81\n",
    "# and https://github.com/huggingface/peft/blob/cf04d0353f0343cbf66627228c4495f51669af34/src/peft/utils/constants.py#L102\n",
    "# \"llama\": [\"k_proj\", \"v_proj\", \"down_proj\"],\n",
    "# \"gptj\": [\"q_proj\", \"v_proj\", \"fc_out\"],\n",
    "# \"falcon\": [\"query_key_value\", \"dense_4h_to_h\"],\n",
    "\n",
    "# for activation gathering\n",
    "peft_config = IA3Config(\n",
    "    task_type=TaskType.SEQ_CLS, target_modules=[ \"fc1\", \"Wqkv\",], \n",
    "        feedforward_modules=[]\n",
    ")\n",
    "# peft_config = IA3Config(\n",
    "#     task_type=TaskType.SEQ_CLS, target_modules=[ \"fc1\", \"fc2\", \"Wqkv\",\"out_proj\"], \n",
    "#         feedforward_modules=[\"fc2\",\"out_proj\", \"fc1\"]\n",
    "# )\n",
    "\n",
    "# peft_config = IA3Config(\n",
    "#     task_type=TaskType.SEQ_CLS, target_modules=[  \"fc2\", \"out_proj\"], \n",
    "#         feedforward_modules=[]\n",
    "# )\n",
    "model = get_peft_model(model, peft_config)\n",
    "model.print_trainable_parameters()\n"
   ]
  },
  {
   "cell_type": "code",
   "execution_count": 6,
   "metadata": {},
   "outputs": [
    {
     "data": {
      "text/plain": [
       "PeftModelForSequenceClassification(\n",
       "  (base_model): IA3Model(\n",
       "    (model): PhiForCausalLMWHS(\n",
       "      (transformer): PhiModel(\n",
       "        (embd): Embedding(\n",
       "          (wte): Embedding(51200, 2560)\n",
       "          (drop): Dropout(p=0.0, inplace=False)\n",
       "        )\n",
       "        (h): ModuleList(\n",
       "          (0-31): 32 x ParallelBlock(\n",
       "            (ln): LayerNorm((2560,), eps=1e-05, elementwise_affine=True)\n",
       "            (resid_dropout): Dropout(p=0.1, inplace=False)\n",
       "            (mixer): MHA(\n",
       "              (rotary_emb): RotaryEmbedding()\n",
       "              (Wqkv): Linear4bit(in_features=2560, out_features=7680, bias=True)\n",
       "              (out_proj): ia3.Linear4bit(\n",
       "                (base_layer): Linear4bit(in_features=2560, out_features=2560, bias=True)\n",
       "                (ia3_l): ParameterDict(  (default): Parameter containing: [torch.cuda.FloatTensor of size 2560x1 (cuda:0)])\n",
       "              )\n",
       "              (inner_attn): SelfAttention(\n",
       "                (drop): Dropout(p=0.0, inplace=False)\n",
       "              )\n",
       "              (inner_cross_attn): CrossAttention(\n",
       "                (drop): Dropout(p=0.0, inplace=False)\n",
       "              )\n",
       "            )\n",
       "            (mlp): MLP(\n",
       "              (fc1): Linear4bit(in_features=2560, out_features=10240, bias=True)\n",
       "              (fc2): ia3.Linear4bit(\n",
       "                (base_layer): Linear4bit(in_features=10240, out_features=2560, bias=True)\n",
       "                (ia3_l): ParameterDict(  (default): Parameter containing: [torch.cuda.FloatTensor of size 2560x1 (cuda:0)])\n",
       "              )\n",
       "              (act): NewGELUActivation()\n",
       "            )\n",
       "          )\n",
       "        )\n",
       "      )\n",
       "      (lm_head): CausalLMHead(\n",
       "        (ln): LayerNorm((2560,), eps=1e-05, elementwise_affine=True)\n",
       "        (linear): Linear(in_features=2560, out_features=51200, bias=True)\n",
       "      )\n",
       "      (loss): CausalLMLoss(\n",
       "        (loss_fct): CrossEntropyLoss()\n",
       "      )\n",
       "    )\n",
       "  )\n",
       ")"
      ]
     },
     "execution_count": 6,
     "metadata": {},
     "output_type": "execute_result"
    }
   ],
   "source": [
    "model\n"
   ]
  },
  {
   "cell_type": "markdown",
   "metadata": {},
   "source": [
    "## Load datasets"
   ]
  },
  {
   "cell_type": "code",
   "execution_count": 7,
   "metadata": {},
   "outputs": [],
   "source": [
    "assert len(set(cfg.datasets).intersection(cfg.datasets_ood))==0, \"datasets overlap\"\n"
   ]
  },
  {
   "cell_type": "code",
   "execution_count": 8,
   "metadata": {},
   "outputs": [
    {
     "name": "stderr",
     "output_type": "stream",
     "text": [
      "\u001b[32m2023-12-29 12:09:22.341\u001b[0m | \u001b[1mINFO    \u001b[0m | \u001b[36msrc.prompts.prompt_loading\u001b[0m:\u001b[36mload_preproc_dataset\u001b[0m:\u001b[36m359\u001b[0m - \u001b[1msetting tokenizer chat template to phi\u001b[0m\n",
      "2023-12-29T12:09:22.341164+0800 INFO setting tokenizer chat template to phi\n",
      "\u001b[32m2023-12-29 12:09:22.408\u001b[0m | \u001b[1mINFO    \u001b[0m | \u001b[36msrc.prompts.prompt_loading\u001b[0m:\u001b[36mload_preproc_dataset\u001b[0m:\u001b[36m390\u001b[0m - \u001b[1mmedian token length: 398.0 for amazon_polarity. max_length=776\u001b[0m\n",
      "2023-12-29T12:09:22.408760+0800 INFO median token length: 398.0 for amazon_polarity. max_length=776\n",
      "\u001b[32m2023-12-29 12:09:22.410\u001b[0m | \u001b[1mINFO    \u001b[0m | \u001b[36msrc.prompts.prompt_loading\u001b[0m:\u001b[36mload_preproc_dataset\u001b[0m:\u001b[36m394\u001b[0m - \u001b[1mtruncation rate: 0.00% on amazon_polarity\u001b[0m\n",
      "2023-12-29T12:09:22.410068+0800 INFO truncation rate: 0.00% on amazon_polarity\n",
      "/media/wassname/SGIronWolf/projects5/elk/sgd_probes_are_lie_detectors/.venv/lib/python3.11/site-packages/datasets/table.py:1395: FutureWarning: promote has been superseded by mode='default'.\n",
      "  block_group = [InMemoryTable(cls._concat_blocks(list(block_group), axis=axis))]\n",
      "/media/wassname/SGIronWolf/projects5/elk/sgd_probes_are_lie_detectors/.venv/lib/python3.11/site-packages/datasets/table.py:1421: FutureWarning: promote has been superseded by mode='default'.\n",
      "  table = cls._concat_blocks(blocks, axis=0)\n",
      "\u001b[32m2023-12-29 12:09:22.494\u001b[0m | \u001b[1mINFO    \u001b[0m | \u001b[36msrc.prompts.prompt_loading\u001b[0m:\u001b[36mload_preproc_dataset\u001b[0m:\u001b[36m403\u001b[0m - \u001b[1mnum_rows (after filtering out truncated rows) 1204=>1204\u001b[0m\n",
      "2023-12-29T12:09:22.494114+0800 INFO num_rows (after filtering out truncated rows) 1204=>1204\n",
      "\u001b[32m2023-12-29 12:09:22.557\u001b[0m | \u001b[1mINFO    \u001b[0m | \u001b[36msrc.prompts.prompt_loading\u001b[0m:\u001b[36mload_preproc_dataset\u001b[0m:\u001b[36m390\u001b[0m - \u001b[1mmedian token length: 253.5 for glue:qnli. max_length=776\u001b[0m\n",
      "2023-12-29T12:09:22.557706+0800 INFO median token length: 253.5 for glue:qnli. max_length=776\n",
      "\u001b[32m2023-12-29 12:09:22.559\u001b[0m | \u001b[1mINFO    \u001b[0m | \u001b[36msrc.prompts.prompt_loading\u001b[0m:\u001b[36mload_preproc_dataset\u001b[0m:\u001b[36m394\u001b[0m - \u001b[1mtruncation rate: 0.00% on glue:qnli\u001b[0m\n",
      "2023-12-29T12:09:22.559021+0800 INFO truncation rate: 0.00% on glue:qnli\n",
      "/media/wassname/SGIronWolf/projects5/elk/sgd_probes_are_lie_detectors/.venv/lib/python3.11/site-packages/datasets/table.py:1395: FutureWarning: promote has been superseded by mode='default'.\n",
      "  block_group = [InMemoryTable(cls._concat_blocks(list(block_group), axis=axis))]\n",
      "/media/wassname/SGIronWolf/projects5/elk/sgd_probes_are_lie_detectors/.venv/lib/python3.11/site-packages/datasets/table.py:1421: FutureWarning: promote has been superseded by mode='default'.\n",
      "  table = cls._concat_blocks(blocks, axis=0)\n",
      "\u001b[32m2023-12-29 12:09:22.634\u001b[0m | \u001b[1mINFO    \u001b[0m | \u001b[36msrc.prompts.prompt_loading\u001b[0m:\u001b[36mload_preproc_dataset\u001b[0m:\u001b[36m403\u001b[0m - \u001b[1mnum_rows (after filtering out truncated rows) 1204=>1204\u001b[0m\n",
      "2023-12-29T12:09:22.634600+0800 INFO num_rows (after filtering out truncated rows) 1204=>1204\n",
      "\u001b[32m2023-12-29 12:09:22.696\u001b[0m | \u001b[1mINFO    \u001b[0m | \u001b[36msrc.prompts.prompt_loading\u001b[0m:\u001b[36mload_preproc_dataset\u001b[0m:\u001b[36m390\u001b[0m - \u001b[1mmedian token length: 285.0 for super_glue:rte. max_length=776\u001b[0m\n",
      "2023-12-29T12:09:22.696579+0800 INFO median token length: 285.0 for super_glue:rte. max_length=776\n",
      "\u001b[32m2023-12-29 12:09:22.697\u001b[0m | \u001b[1mINFO    \u001b[0m | \u001b[36msrc.prompts.prompt_loading\u001b[0m:\u001b[36mload_preproc_dataset\u001b[0m:\u001b[36m394\u001b[0m - \u001b[1mtruncation rate: 0.00% on super_glue:rte\u001b[0m\n",
      "2023-12-29T12:09:22.697661+0800 INFO truncation rate: 0.00% on super_glue:rte\n",
      "/media/wassname/SGIronWolf/projects5/elk/sgd_probes_are_lie_detectors/.venv/lib/python3.11/site-packages/datasets/table.py:1395: FutureWarning: promote has been superseded by mode='default'.\n",
      "  block_group = [InMemoryTable(cls._concat_blocks(list(block_group), axis=axis))]\n",
      "/media/wassname/SGIronWolf/projects5/elk/sgd_probes_are_lie_detectors/.venv/lib/python3.11/site-packages/datasets/table.py:1421: FutureWarning: promote has been superseded by mode='default'.\n",
      "  table = cls._concat_blocks(blocks, axis=0)\n",
      "\u001b[32m2023-12-29 12:09:22.776\u001b[0m | \u001b[1mINFO    \u001b[0m | \u001b[36msrc.prompts.prompt_loading\u001b[0m:\u001b[36mload_preproc_dataset\u001b[0m:\u001b[36m403\u001b[0m - \u001b[1mnum_rows (after filtering out truncated rows) 1204=>1204\u001b[0m\n",
      "2023-12-29T12:09:22.776587+0800 INFO num_rows (after filtering out truncated rows) 1204=>1204\n",
      "\u001b[32m2023-12-29 12:09:22.846\u001b[0m | \u001b[1mINFO    \u001b[0m | \u001b[36msrc.prompts.prompt_loading\u001b[0m:\u001b[36mload_preproc_dataset\u001b[0m:\u001b[36m390\u001b[0m - \u001b[1mmedian token length: 122.0 for sst2. max_length=776\u001b[0m\n",
      "2023-12-29T12:09:22.846399+0800 INFO median token length: 122.0 for sst2. max_length=776\n",
      "\u001b[32m2023-12-29 12:09:22.847\u001b[0m | \u001b[1mINFO    \u001b[0m | \u001b[36msrc.prompts.prompt_loading\u001b[0m:\u001b[36mload_preproc_dataset\u001b[0m:\u001b[36m394\u001b[0m - \u001b[1mtruncation rate: 0.00% on sst2\u001b[0m\n",
      "2023-12-29T12:09:22.847527+0800 INFO truncation rate: 0.00% on sst2\n",
      "/media/wassname/SGIronWolf/projects5/elk/sgd_probes_are_lie_detectors/.venv/lib/python3.11/site-packages/datasets/table.py:1395: FutureWarning: promote has been superseded by mode='default'.\n",
      "  block_group = [InMemoryTable(cls._concat_blocks(list(block_group), axis=axis))]\n",
      "/media/wassname/SGIronWolf/projects5/elk/sgd_probes_are_lie_detectors/.venv/lib/python3.11/site-packages/datasets/table.py:1421: FutureWarning: promote has been superseded by mode='default'.\n",
      "  table = cls._concat_blocks(blocks, axis=0)\n",
      "\u001b[32m2023-12-29 12:09:22.921\u001b[0m | \u001b[1mINFO    \u001b[0m | \u001b[36msrc.prompts.prompt_loading\u001b[0m:\u001b[36mload_preproc_dataset\u001b[0m:\u001b[36m403\u001b[0m - \u001b[1mnum_rows (after filtering out truncated rows) 1204=>1204\u001b[0m\n",
      "2023-12-29T12:09:22.921587+0800 INFO num_rows (after filtering out truncated rows) 1204=>1204\n",
      "\u001b[32m2023-12-29 12:09:22.983\u001b[0m | \u001b[1mINFO    \u001b[0m | \u001b[36msrc.prompts.prompt_loading\u001b[0m:\u001b[36mload_preproc_dataset\u001b[0m:\u001b[36m390\u001b[0m - \u001b[1mmedian token length: 134.0 for hans. max_length=776\u001b[0m\n",
      "2023-12-29T12:09:22.983503+0800 INFO median token length: 134.0 for hans. max_length=776\n",
      "\u001b[32m2023-12-29 12:09:22.984\u001b[0m | \u001b[1mINFO    \u001b[0m | \u001b[36msrc.prompts.prompt_loading\u001b[0m:\u001b[36mload_preproc_dataset\u001b[0m:\u001b[36m394\u001b[0m - \u001b[1mtruncation rate: 0.00% on hans\u001b[0m\n",
      "2023-12-29T12:09:22.984780+0800 INFO truncation rate: 0.00% on hans\n",
      "/media/wassname/SGIronWolf/projects5/elk/sgd_probes_are_lie_detectors/.venv/lib/python3.11/site-packages/datasets/table.py:1395: FutureWarning: promote has been superseded by mode='default'.\n",
      "  block_group = [InMemoryTable(cls._concat_blocks(list(block_group), axis=axis))]\n",
      "/media/wassname/SGIronWolf/projects5/elk/sgd_probes_are_lie_detectors/.venv/lib/python3.11/site-packages/datasets/table.py:1421: FutureWarning: promote has been superseded by mode='default'.\n",
      "  table = cls._concat_blocks(blocks, axis=0)\n",
      "\u001b[32m2023-12-29 12:09:23.058\u001b[0m | \u001b[1mINFO    \u001b[0m | \u001b[36msrc.prompts.prompt_loading\u001b[0m:\u001b[36mload_preproc_dataset\u001b[0m:\u001b[36m403\u001b[0m - \u001b[1mnum_rows (after filtering out truncated rows) 1204=>1204\u001b[0m\n",
      "2023-12-29T12:09:23.058026+0800 INFO num_rows (after filtering out truncated rows) 1204=>1204\n"
     ]
    },
    {
     "data": {
      "text/plain": [
       "Dataset({\n",
       "    features: ['ds_string', 'example_i', 'answer', 'messages', 'answer_choices', 'template_name', 'label_true', 'label_instructed', 'instructed_to_lie', 'sys_instr_name', 'question', 'input_ids', 'attention_mask', 'truncated', 'length', 'prompt_truncated', 'choice_ids'],\n",
       "    num_rows: 2005\n",
       "})"
      ]
     },
     "execution_count": 8,
     "metadata": {},
     "output_type": "execute_result"
    }
   ],
   "source": [
    "N = sum(cfg.max_examples)\n",
    "ds_tokens = load_preproc_datasets(\n",
    "    cfg.datasets,\n",
    "    tokenizer,\n",
    "    N=N,\n",
    "    seed=cfg.seed,\n",
    "    num_shots=cfg.num_shots,\n",
    "    max_length=cfg.max_length,\n",
    "    prompt_format=cfg.prompt_format,\n",
    ")\n",
    "ds_tokens\n"
   ]
  },
  {
   "cell_type": "code",
   "execution_count": 9,
   "metadata": {},
   "outputs": [
    {
     "data": {
      "application/vnd.jupyter.widget-view+json": {
       "model_id": "e2f198e8118a4541bf4b38281faecd61",
       "version_major": 2,
       "version_minor": 0
      },
      "text/plain": [
       "prompt_truncated:   0%|          | 0/1004 [00:00<?, ? examples/s]"
      ]
     },
     "metadata": {},
     "output_type": "display_data"
    },
    {
     "data": {
      "application/vnd.jupyter.widget-view+json": {
       "model_id": "35d1f319cd224a27bec2f82a56ff4dc8",
       "version_major": 2,
       "version_minor": 0
      },
      "text/plain": [
       "choice_ids:   0%|          | 0/1004 [00:00<?, ? examples/s]"
      ]
     },
     "metadata": {},
     "output_type": "display_data"
    },
    {
     "name": "stderr",
     "output_type": "stream",
     "text": [
      "\u001b[32m2023-12-29 12:09:25.422\u001b[0m | \u001b[1mINFO    \u001b[0m | \u001b[36msrc.prompts.prompt_loading\u001b[0m:\u001b[36mload_preproc_dataset\u001b[0m:\u001b[36m390\u001b[0m - \u001b[1mmedian token length: 484.0 for super_glue:boolq. max_length=776\u001b[0m\n",
      "2023-12-29T12:09:25.422536+0800 INFO median token length: 484.0 for super_glue:boolq. max_length=776\n",
      "\u001b[32m2023-12-29 12:09:25.423\u001b[0m | \u001b[1mINFO    \u001b[0m | \u001b[36msrc.prompts.prompt_loading\u001b[0m:\u001b[36mload_preproc_dataset\u001b[0m:\u001b[36m394\u001b[0m - \u001b[1mtruncation rate: 2.49% on super_glue:boolq\u001b[0m\n",
      "2023-12-29T12:09:25.423632+0800 INFO truncation rate: 2.49% on super_glue:boolq\n"
     ]
    },
    {
     "data": {
      "application/vnd.jupyter.widget-view+json": {
       "model_id": "0252b88d138e40da9635ac52e2f0d8fa",
       "version_major": 2,
       "version_minor": 0
      },
      "text/plain": [
       "Filter:   0%|          | 0/1004 [00:00<?, ? examples/s]"
      ]
     },
     "metadata": {},
     "output_type": "display_data"
    },
    {
     "name": "stderr",
     "output_type": "stream",
     "text": [
      "/media/wassname/SGIronWolf/projects5/elk/sgd_probes_are_lie_detectors/.venv/lib/python3.11/site-packages/datasets/table.py:1395: FutureWarning: promote has been superseded by mode='default'.\n",
      "  block_group = [InMemoryTable(cls._concat_blocks(list(block_group), axis=axis))]\n",
      "/media/wassname/SGIronWolf/projects5/elk/sgd_probes_are_lie_detectors/.venv/lib/python3.11/site-packages/datasets/table.py:1421: FutureWarning: promote has been superseded by mode='default'.\n",
      "  table = cls._concat_blocks(blocks, axis=0)\n"
     ]
    },
    {
     "data": {
      "application/vnd.jupyter.widget-view+json": {
       "model_id": "2d58708ac307445cad188384ab61d9a0",
       "version_major": 2,
       "version_minor": 0
      },
      "text/plain": [
       "Filter:   0%|          | 0/979 [00:00<?, ? examples/s]"
      ]
     },
     "metadata": {},
     "output_type": "display_data"
    },
    {
     "name": "stderr",
     "output_type": "stream",
     "text": [
      "\u001b[32m2023-12-29 12:09:26.217\u001b[0m | \u001b[1mINFO    \u001b[0m | \u001b[36msrc.prompts.prompt_loading\u001b[0m:\u001b[36mload_preproc_dataset\u001b[0m:\u001b[36m403\u001b[0m - \u001b[1mnum_rows (after filtering out truncated rows) 1004=>979\u001b[0m\n",
      "2023-12-29T12:09:26.217386+0800 INFO num_rows (after filtering out truncated rows) 1004=>979\n"
     ]
    },
    {
     "data": {
      "application/vnd.jupyter.widget-view+json": {
       "model_id": "98031548b50846f392db09c27a4af6c6",
       "version_major": 2,
       "version_minor": 0
      },
      "text/plain": [
       "format_prompt:   0%|          | 0/712 [00:00<?, ? examples/s]"
      ]
     },
     "metadata": {},
     "output_type": "display_data"
    },
    {
     "data": {
      "application/vnd.jupyter.widget-view+json": {
       "model_id": "b97e9f7d093949499d8a3538d09d2a6e",
       "version_major": 2,
       "version_minor": 0
      },
      "text/plain": [
       "tokenize:   0%|          | 0/712 [00:00<?, ? examples/s]"
      ]
     },
     "metadata": {},
     "output_type": "display_data"
    },
    {
     "data": {
      "application/vnd.jupyter.widget-view+json": {
       "model_id": "9d85d2b2220443e7a649b0767ed6ec0a",
       "version_major": 2,
       "version_minor": 0
      },
      "text/plain": [
       "truncated:   0%|          | 0/712 [00:00<?, ? examples/s]"
      ]
     },
     "metadata": {},
     "output_type": "display_data"
    },
    {
     "data": {
      "application/vnd.jupyter.widget-view+json": {
       "model_id": "ff30c56112e64575ae14030fbe481446",
       "version_major": 2,
       "version_minor": 0
      },
      "text/plain": [
       "truncated:   0%|          | 0/712 [00:00<?, ? examples/s]"
      ]
     },
     "metadata": {},
     "output_type": "display_data"
    },
    {
     "data": {
      "application/vnd.jupyter.widget-view+json": {
       "model_id": "631edaa8da11439c970df05a6ebb42ec",
       "version_major": 2,
       "version_minor": 0
      },
      "text/plain": [
       "prompt_truncated:   0%|          | 0/712 [00:00<?, ? examples/s]"
      ]
     },
     "metadata": {},
     "output_type": "display_data"
    },
    {
     "data": {
      "application/vnd.jupyter.widget-view+json": {
       "model_id": "ecb763a0a8f24eccbb768bf48b84e8ea",
       "version_major": 2,
       "version_minor": 0
      },
      "text/plain": [
       "choice_ids:   0%|          | 0/712 [00:00<?, ? examples/s]"
      ]
     },
     "metadata": {},
     "output_type": "display_data"
    },
    {
     "name": "stderr",
     "output_type": "stream",
     "text": [
      "\u001b[32m2023-12-29 12:09:28.593\u001b[0m | \u001b[1mINFO    \u001b[0m | \u001b[36msrc.prompts.prompt_loading\u001b[0m:\u001b[36mload_preproc_dataset\u001b[0m:\u001b[36m390\u001b[0m - \u001b[1mmedian token length: 167.5 for super_glue:axg. max_length=776\u001b[0m\n",
      "2023-12-29T12:09:28.593220+0800 INFO median token length: 167.5 for super_glue:axg. max_length=776\n",
      "\u001b[32m2023-12-29 12:09:28.594\u001b[0m | \u001b[1mINFO    \u001b[0m | \u001b[36msrc.prompts.prompt_loading\u001b[0m:\u001b[36mload_preproc_dataset\u001b[0m:\u001b[36m394\u001b[0m - \u001b[1mtruncation rate: 0.00% on super_glue:axg\u001b[0m\n",
      "2023-12-29T12:09:28.594110+0800 INFO truncation rate: 0.00% on super_glue:axg\n"
     ]
    },
    {
     "data": {
      "application/vnd.jupyter.widget-view+json": {
       "model_id": "a4d12f5beeb54525b876f066354da3f3",
       "version_major": 2,
       "version_minor": 0
      },
      "text/plain": [
       "Filter:   0%|          | 0/712 [00:00<?, ? examples/s]"
      ]
     },
     "metadata": {},
     "output_type": "display_data"
    },
    {
     "name": "stderr",
     "output_type": "stream",
     "text": [
      "/media/wassname/SGIronWolf/projects5/elk/sgd_probes_are_lie_detectors/.venv/lib/python3.11/site-packages/datasets/table.py:1395: FutureWarning: promote has been superseded by mode='default'.\n",
      "  block_group = [InMemoryTable(cls._concat_blocks(list(block_group), axis=axis))]\n",
      "/media/wassname/SGIronWolf/projects5/elk/sgd_probes_are_lie_detectors/.venv/lib/python3.11/site-packages/datasets/table.py:1421: FutureWarning: promote has been superseded by mode='default'.\n",
      "  table = cls._concat_blocks(blocks, axis=0)\n"
     ]
    },
    {
     "data": {
      "application/vnd.jupyter.widget-view+json": {
       "model_id": "050dc7109811488cbe2c33a31e6d8b4d",
       "version_major": 2,
       "version_minor": 0
      },
      "text/plain": [
       "Filter:   0%|          | 0/712 [00:00<?, ? examples/s]"
      ]
     },
     "metadata": {},
     "output_type": "display_data"
    },
    {
     "name": "stderr",
     "output_type": "stream",
     "text": [
      "\u001b[32m2023-12-29 12:09:29.177\u001b[0m | \u001b[1mINFO    \u001b[0m | \u001b[36msrc.prompts.prompt_loading\u001b[0m:\u001b[36mload_preproc_dataset\u001b[0m:\u001b[36m403\u001b[0m - \u001b[1mnum_rows (after filtering out truncated rows) 712=>712\u001b[0m\n",
      "2023-12-29T12:09:29.177604+0800 INFO num_rows (after filtering out truncated rows) 712=>712\n",
      "\u001b[32m2023-12-29 12:09:29.242\u001b[0m | \u001b[1mINFO    \u001b[0m | \u001b[36msrc.prompts.prompt_loading\u001b[0m:\u001b[36mload_preproc_dataset\u001b[0m:\u001b[36m390\u001b[0m - \u001b[1mmedian token length: 776.0 for imdb. max_length=776\u001b[0m\n",
      "2023-12-29T12:09:29.242506+0800 INFO median token length: 776.0 for imdb. max_length=776\n",
      "\u001b[32m2023-12-29 12:09:29.243\u001b[0m | \u001b[1mINFO    \u001b[0m | \u001b[36msrc.prompts.prompt_loading\u001b[0m:\u001b[36mload_preproc_dataset\u001b[0m:\u001b[36m394\u001b[0m - \u001b[1mtruncation rate: 63.35% on imdb\u001b[0m\n",
      "2023-12-29T12:09:29.243781+0800 INFO truncation rate: 63.35% on imdb\n",
      "/media/wassname/SGIronWolf/projects5/elk/sgd_probes_are_lie_detectors/.venv/lib/python3.11/site-packages/datasets/table.py:1395: FutureWarning: promote has been superseded by mode='default'.\n",
      "  block_group = [InMemoryTable(cls._concat_blocks(list(block_group), axis=axis))]\n",
      "/media/wassname/SGIronWolf/projects5/elk/sgd_probes_are_lie_detectors/.venv/lib/python3.11/site-packages/datasets/table.py:1421: FutureWarning: promote has been superseded by mode='default'.\n",
      "  table = cls._concat_blocks(blocks, axis=0)\n",
      "\u001b[32m2023-12-29 12:09:29.273\u001b[0m | \u001b[1mINFO    \u001b[0m | \u001b[36msrc.prompts.prompt_loading\u001b[0m:\u001b[36mload_preproc_dataset\u001b[0m:\u001b[36m403\u001b[0m - \u001b[1mnum_rows (after filtering out truncated rows) 1004=>368\u001b[0m\n",
      "2023-12-29T12:09:29.273757+0800 INFO num_rows (after filtering out truncated rows) 1004=>368\n"
     ]
    },
    {
     "data": {
      "text/plain": [
       "Dataset({\n",
       "    features: ['ds_string', 'example_i', 'answer', 'messages', 'answer_choices', 'template_name', 'label_true', 'label_instructed', 'instructed_to_lie', 'sys_instr_name', 'question', 'input_ids', 'attention_mask', 'truncated', 'length', 'prompt_truncated', 'choice_ids'],\n",
       "    num_rows: 1002\n",
       "})"
      ]
     },
     "execution_count": 9,
     "metadata": {},
     "output_type": "execute_result"
    }
   ],
   "source": [
    "ds_tokens2 = load_preproc_datasets(\n",
    "    cfg.datasets_ood,\n",
    "    tokenizer,\n",
    "    N=N // 2,\n",
    "    seed=cfg.seed,\n",
    "    num_shots=cfg.num_shots,\n",
    "    max_length=cfg.max_length,\n",
    "    prompt_format=cfg.prompt_format,\n",
    ")\n",
    "ds_tokens2\n"
   ]
  },
  {
   "cell_type": "markdown",
   "metadata": {},
   "source": [
    "## custom models"
   ]
  },
  {
   "cell_type": "code",
   "execution_count": 10,
   "metadata": {},
   "outputs": [],
   "source": [
    "from src.models.pl_lora_ft import AtapterFinetuner\n",
    "from src.helpers.scores import select\n",
    "\n",
    "class AtapterFinetunerLie(AtapterFinetuner):\n",
    "    def get_loss(self, batch, out, out_a):\n",
    "        \"\"\"\n",
    "        simply train it to lie\n",
    "        \"\"\"\n",
    "\n",
    "        log_probs_a = torch.log_softmax(out_a[\"logits\"][:, -1,], -1,)\n",
    "\n",
    "        # batch['instructed_to_lie']\n",
    "        lie_label = ~batch['label_true']\n",
    "        choice_ids1 = select(batch[\"choice_ids\"][:, :, 0], lie_label.long())\n",
    "        choice_ids2 = select(batch[\"choice_ids\"][:, :, 1], lie_label.long())\n",
    "        loss1 = F.nll_loss(log_probs_a, target=choice_ids1)\n",
    "        loss2 = F.nll_loss(log_probs_a, target=choice_ids2)\n",
    "        loss = (loss1 + loss2) / 2\n",
    "\n",
    "        return loss, None, None\n"
   ]
  },
  {
   "cell_type": "code",
   "execution_count": 11,
   "metadata": {},
   "outputs": [],
   "source": [
    "from src.models.pl_lora_ft import AtapterFinetuner\n",
    "from src.helpers.scores import select\n",
    "\n",
    "\n",
    "class AtapterFinetunerToldToLie(AtapterFinetuner):\n",
    "    def get_loss(self, batch, out, out_a):\n",
    "        \"\"\"\n",
    "        train it to lie when instructed\n",
    "        \"\"\"\n",
    "\n",
    "        end_logits = out_a[\"logits\"][\n",
    "            :,\n",
    "            -1,\n",
    "        ]\n",
    "        log_probs_a = torch.log_softmax(end_logits, -1)\n",
    "\n",
    "        lie_label = batch[\"label_true\"] ^ batch[\"instructed_to_lie\"]\n",
    "        choice_ids1 = select(batch[\"choice_ids\"][:, :, 0], lie_label.long())\n",
    "        choice_ids2 = select(batch[\"choice_ids\"][:, :, 1], lie_label.long())\n",
    "        loss1 = F.nll_loss(log_probs_a, target=choice_ids1)\n",
    "        loss2 = F.nll_loss(log_probs_a, target=choice_ids2)\n",
    "        loss = (loss1 + loss2) / 2\n",
    "\n",
    "        return loss, None, None\n"
   ]
  },
  {
   "cell_type": "code",
   "execution_count": 12,
   "metadata": {},
   "outputs": [],
   "source": [
    "from src.models.pl_lora_ft import AtapterFinetuner\n",
    "from src.helpers.scores import select\n",
    "\n",
    "\n",
    "class AtapterFinetunerTruth(AtapterFinetuner):\n",
    "    def get_loss(self, batch, out, out_a):\n",
    "        \"\"\"\n",
    "        train it to lie when instructed\n",
    "        \"\"\"\n",
    "\n",
    "        end_logits = out_a[\"logits\"][\n",
    "            :,\n",
    "            -1,\n",
    "        ]\n",
    "        log_probs_a = torch.log_softmax(end_logits, -1)\n",
    "\n",
    "        lie_label = batch[\"label_true\"] #^ batch[\"instructed_to_lie\"]\n",
    "        choice_ids1 = select(batch[\"choice_ids\"][:, :, 0], lie_label.long())\n",
    "        choice_ids2 = select(batch[\"choice_ids\"][:, :, 1], lie_label.long())\n",
    "        loss1 = F.nll_loss(log_probs_a, target=choice_ids1)\n",
    "        loss2 = F.nll_loss(log_probs_a, target=choice_ids2)\n",
    "        loss = (loss1 + loss2) / 2\n",
    "\n",
    "        return loss, None, None\n"
   ]
  },
  {
   "cell_type": "code",
   "execution_count": null,
   "metadata": {},
   "outputs": [],
   "source": []
  },
  {
   "cell_type": "code",
   "execution_count": 13,
   "metadata": {},
   "outputs": [],
   "source": [
    "model_cls = AtapterFinetunerToldToLie\n"
   ]
  },
  {
   "cell_type": "markdown",
   "metadata": {},
   "source": [
    "## Train"
   ]
  },
  {
   "cell_type": "code",
   "execution_count": 14,
   "metadata": {},
   "outputs": [
    {
     "data": {
      "text/plain": [
       "(1002, 501)"
      ]
     },
     "execution_count": 14,
     "metadata": {},
     "output_type": "execute_result"
    }
   ],
   "source": [
    "dm = DeceptionDataModule(ds_tokens, batch_size=cfg.batch_size)\n",
    "dl_train = dm.train_dataloader()\n",
    "dl_val = dm.val_dataloader()\n",
    "len(dl_train), len(dl_val)\n"
   ]
  },
  {
   "cell_type": "code",
   "execution_count": 15,
   "metadata": {},
   "outputs": [
    {
     "name": "stdout",
     "output_type": "stream",
     "text": [
      "dict_keys(['ds_string', 'example_i', 'answer', 'messages', 'answer_choices', 'template_name', 'label_true', 'label_instructed', 'instructed_to_lie', 'sys_instr_name', 'question', 'input_ids', 'attention_mask', 'truncated', 'length', 'prompt_truncated', 'choice_ids']) torch.Size([1, 776])\n"
     ]
    },
    {
     "data": {
      "text/plain": [
       "776"
      ]
     },
     "execution_count": 15,
     "metadata": {},
     "output_type": "execute_result"
    }
   ],
   "source": [
    "b = next(iter(dl_train))\n",
    "print(b.keys(), b[\"input_ids\"].shape)\n",
    "c_in = b[\"input_ids\"].shape[1]\n",
    "c_in\n"
   ]
  },
  {
   "cell_type": "code",
   "execution_count": null,
   "metadata": {},
   "outputs": [],
   "source": []
  },
  {
   "cell_type": "code",
   "execution_count": 16,
   "metadata": {},
   "outputs": [
    {
     "name": "stdout",
     "output_type": "stream",
     "text": [
      "776\n"
     ]
    }
   ],
   "source": [
    "net = model_cls(\n",
    "    model, tokenizer, lr=5e-3, weight_decay=1e-5, total_steps=len(dl_train) * max_epochs\n",
    ")\n",
    "\n",
    "print(c_in)\n"
   ]
  },
  {
   "cell_type": "markdown",
   "metadata": {},
   "source": []
  },
  {
   "cell_type": "code",
   "execution_count": 17,
   "metadata": {},
   "outputs": [],
   "source": [
    "# # debug\n",
    "# # net.half()\n",
    "# with torch.no_grad():\n",
    "#     o = net.training_step(b, None)\n",
    "# o\n"
   ]
  },
  {
   "cell_type": "code",
   "execution_count": 18,
   "metadata": {},
   "outputs": [],
   "source": [
    "# # debug\n",
    "# with torch.no_grad():\n",
    "#     o = net.predict_step(b, None)\n",
    "# o.keys()\n"
   ]
  },
  {
   "cell_type": "code",
   "execution_count": 19,
   "metadata": {},
   "outputs": [
    {
     "name": "stderr",
     "output_type": "stream",
     "text": [
      "Using 16bit Automatic Mixed Precision (AMP)\n",
      "GPU available: True (cuda), used: True\n",
      "TPU available: False, using: 0 TPU cores\n",
      "IPU available: False, using: 0 IPUs\n",
      "HPU available: False, using: 0 HPUs\n",
      "/media/wassname/SGIronWolf/projects5/elk/sgd_probes_are_lie_detectors/.venv/lib/python3.11/site-packages/lightning/pytorch/trainer/connectors/logger_connector/logger_connector.py:67: Starting from v1.9.0, `tensorboardX` has been removed as a dependency of the `lightning.pytorch` package, due to potential conflicts with other packages in the ML ecosystem. For this reason, `logger=True` will use `CSVLogger` as the default logger, unless the `tensorboard` or `tensorboardX` packages are found. Please `pip install lightning[extra]` or one of them to enable TensorBoard support by default\n"
     ]
    }
   ],
   "source": [
    "# we want to init lightning early, so it inits accelerate\n",
    "trainer = pl.Trainer(\n",
    "    precision='16-mixed',\n",
    "\n",
    "    gradient_clip_val=20,\n",
    "    devices=\"1\",\n",
    "    accelerator=\"gpu\",\n",
    "    accumulate_grad_batches=8,\n",
    "    max_epochs=max_epochs,\n",
    "    log_every_n_steps=1,\n",
    "    # enable_model_summary=False,\n",
    ")\n"
   ]
  },
  {
   "cell_type": "code",
   "execution_count": 20,
   "metadata": {},
   "outputs": [
    {
     "name": "stderr",
     "output_type": "stream",
     "text": [
      "LOCAL_RANK: 0 - CUDA_VISIBLE_DEVICES: [0,1]\n",
      "\n",
      "  | Name  | Type                               | Params\n",
      "-------------------------------------------------------------\n",
      "0 | model | PeftModelForSequenceClassification | 1.5 B \n",
      "-------------------------------------------------------------\n",
      "163 K     Trainable params\n",
      "1.5 B     Non-trainable params\n",
      "1.5 B     Total params\n",
      "6,086.226 Total estimated model params size (MB)\n"
     ]
    },
    {
     "data": {
      "application/vnd.jupyter.widget-view+json": {
       "model_id": "bf6bcfa0772e43b09eee743ecb1c52d4",
       "version_major": 2,
       "version_minor": 0
      },
      "text/plain": [
       "Sanity Checking: |          | 0/? [00:00<?, ?it/s]"
      ]
     },
     "metadata": {},
     "output_type": "display_data"
    },
    {
     "data": {
      "application/vnd.jupyter.widget-view+json": {
       "model_id": "2d0066aa586b40c98df8f63c02080baf",
       "version_major": 2,
       "version_minor": 0
      },
      "text/plain": [
       "Training: |          | 0/? [00:00<?, ?it/s]"
      ]
     },
     "metadata": {},
     "output_type": "display_data"
    },
    {
     "data": {
      "application/vnd.jupyter.widget-view+json": {
       "model_id": "1dbffd9eca54411fba3f118d25f03c4e",
       "version_major": 2,
       "version_minor": 0
      },
      "text/plain": [
       "Validation: |          | 0/? [00:00<?, ?it/s]"
      ]
     },
     "metadata": {},
     "output_type": "display_data"
    },
    {
     "data": {
      "application/vnd.jupyter.widget-view+json": {
       "model_id": "f949f59c9f7a45888b68f1f9da482a84",
       "version_major": 2,
       "version_minor": 0
      },
      "text/plain": [
       "Validation: |          | 0/? [00:00<?, ?it/s]"
      ]
     },
     "metadata": {},
     "output_type": "display_data"
    },
    {
     "data": {
      "application/vnd.jupyter.widget-view+json": {
       "model_id": "6e3a19829848460dba406e0a52f92b20",
       "version_major": 2,
       "version_minor": 0
      },
      "text/plain": [
       "Validation: |          | 0/? [00:00<?, ?it/s]"
      ]
     },
     "metadata": {},
     "output_type": "display_data"
    },
    {
     "data": {
      "application/vnd.jupyter.widget-view+json": {
       "model_id": "08fdc1b6cd064446947c82f16a43f27f",
       "version_major": 2,
       "version_minor": 0
      },
      "text/plain": [
       "Validation: |          | 0/? [00:00<?, ?it/s]"
      ]
     },
     "metadata": {},
     "output_type": "display_data"
    },
    {
     "data": {
      "application/vnd.jupyter.widget-view+json": {
       "model_id": "ddcaf3b43668495fa32e6157fddb642e",
       "version_major": 2,
       "version_minor": 0
      },
      "text/plain": [
       "Validation: |          | 0/? [00:00<?, ?it/s]"
      ]
     },
     "metadata": {},
     "output_type": "display_data"
    },
    {
     "name": "stderr",
     "output_type": "stream",
     "text": [
      "`Trainer.fit` stopped: `max_epochs=5` reached.\n"
     ]
    }
   ],
   "source": [
    "trainer.fit(model=net, train_dataloaders=dl_train, val_dataloaders=dl_val);\n"
   ]
  },
  {
   "cell_type": "code",
   "execution_count": 21,
   "metadata": {},
   "outputs": [
    {
     "data": {
      "text/plain": [
       "PosixPath('/media/wassname/SGIronWolf/projects5/elk/sgd_probes_are_lie_detectors/notebooks/lightning_logs/version_225/checkpoint_last')"
      ]
     },
     "execution_count": 21,
     "metadata": {},
     "output_type": "execute_result"
    }
   ],
   "source": [
    "checkpoint_path = Path(trainer.log_dir) / \"checkpoint_last\"\n",
    "model.save_pretrained(checkpoint_path)\n",
    "checkpoint_path\n"
   ]
  },
  {
   "cell_type": "code",
   "execution_count": 22,
   "metadata": {},
   "outputs": [
    {
     "data": {
      "text/plain": [
       "PosixPath('/media/wassname/SGIronWolf/projects5/elk/sgd_probes_are_lie_detectors/notebooks/lightning_logs/version_225/config.yaml')"
      ]
     },
     "execution_count": 22,
     "metadata": {},
     "output_type": "execute_result"
    }
   ],
   "source": [
    "# save config\n",
    "f = Path(trainer.log_dir) / 'config.yaml'\n",
    "cfg.save_yaml(f)\n",
    "f\n"
   ]
  },
  {
   "cell_type": "markdown",
   "metadata": {},
   "source": [
    "## Hist"
   ]
  },
  {
   "cell_type": "code",
   "execution_count": 23,
   "metadata": {},
   "outputs": [
    {
     "data": {
      "text/html": [
       "<div>\n",
       "<style scoped>\n",
       "    .dataframe tbody tr th:only-of-type {\n",
       "        vertical-align: middle;\n",
       "    }\n",
       "\n",
       "    .dataframe tbody tr th {\n",
       "        vertical-align: top;\n",
       "    }\n",
       "\n",
       "    .dataframe thead th {\n",
       "        text-align: right;\n",
       "    }\n",
       "</style>\n",
       "<table border=\"1\" class=\"dataframe\">\n",
       "  <thead>\n",
       "    <tr style=\"text-align: right;\">\n",
       "      <th></th>\n",
       "      <th>train/loss_step</th>\n",
       "      <th>step</th>\n",
       "      <th>val/loss_step</th>\n",
       "    </tr>\n",
       "  </thead>\n",
       "  <tbody>\n",
       "    <tr>\n",
       "      <th>0</th>\n",
       "      <td>4.775288</td>\n",
       "      <td>0</td>\n",
       "      <td>NaN</td>\n",
       "    </tr>\n",
       "    <tr>\n",
       "      <th>1</th>\n",
       "      <td>4.879947</td>\n",
       "      <td>1</td>\n",
       "      <td>NaN</td>\n",
       "    </tr>\n",
       "    <tr>\n",
       "      <th>2</th>\n",
       "      <td>4.341791</td>\n",
       "      <td>2</td>\n",
       "      <td>NaN</td>\n",
       "    </tr>\n",
       "    <tr>\n",
       "      <th>3</th>\n",
       "      <td>5.367697</td>\n",
       "      <td>3</td>\n",
       "      <td>NaN</td>\n",
       "    </tr>\n",
       "    <tr>\n",
       "      <th>4</th>\n",
       "      <td>4.873761</td>\n",
       "      <td>4</td>\n",
       "      <td>NaN</td>\n",
       "    </tr>\n",
       "    <tr>\n",
       "      <th>...</th>\n",
       "      <td>...</td>\n",
       "      <td>...</td>\n",
       "      <td>...</td>\n",
       "    </tr>\n",
       "    <tr>\n",
       "      <th>3140</th>\n",
       "      <td>NaN</td>\n",
       "      <td>2502</td>\n",
       "      <td>4.664123</td>\n",
       "    </tr>\n",
       "    <tr>\n",
       "      <th>3141</th>\n",
       "      <td>NaN</td>\n",
       "      <td>2503</td>\n",
       "      <td>4.975610</td>\n",
       "    </tr>\n",
       "    <tr>\n",
       "      <th>3142</th>\n",
       "      <td>NaN</td>\n",
       "      <td>2504</td>\n",
       "      <td>8.554306</td>\n",
       "    </tr>\n",
       "    <tr>\n",
       "      <th>3143</th>\n",
       "      <td>NaN</td>\n",
       "      <td>629</td>\n",
       "      <td>NaN</td>\n",
       "    </tr>\n",
       "    <tr>\n",
       "      <th>3144</th>\n",
       "      <td>NaN</td>\n",
       "      <td>629</td>\n",
       "      <td>NaN</td>\n",
       "    </tr>\n",
       "  </tbody>\n",
       "</table>\n",
       "<p>3145 rows × 3 columns</p>\n",
       "</div>"
      ],
      "text/plain": [
       "      train/loss_step  step  val/loss_step\n",
       "0            4.775288     0            NaN\n",
       "1            4.879947     1            NaN\n",
       "2            4.341791     2            NaN\n",
       "3            5.367697     3            NaN\n",
       "4            4.873761     4            NaN\n",
       "...               ...   ...            ...\n",
       "3140              NaN  2502       4.664123\n",
       "3141              NaN  2503       4.975610\n",
       "3142              NaN  2504       8.554306\n",
       "3143              NaN   629            NaN\n",
       "3144              NaN   629            NaN\n",
       "\n",
       "[3145 rows x 3 columns]"
      ]
     },
     "execution_count": 23,
     "metadata": {},
     "output_type": "execute_result"
    },
    {
     "data": {
      "image/png": "[encoded data removed]",
      "text/plain": [
       "<Figure size 640x480 with 1 Axes>"
      ]
     },
     "metadata": {},
     "output_type": "display_data"
    }
   ],
   "source": [
    "from src.helpers.lightning import read_metrics_csv\n",
    "\n",
    "df_histe, df_hist = read_metrics_csv(trainer.logger.experiment.metrics_file_path)\n",
    "df_hist[[\"train/loss_step\", \"val/loss_step\"]].plot(style=\".\")\n",
    "df_hist\n"
   ]
  },
  {
   "cell_type": "code",
   "execution_count": 24,
   "metadata": {},
   "outputs": [
    {
     "data": {
      "text/plain": [
       "<Axes: xlabel='epoch'>"
      ]
     },
     "execution_count": 24,
     "metadata": {},
     "output_type": "execute_result"
    },
    {
     "data": {
      "image/png": "[encoded data removed]",
      "text/plain": [
       "<Figure size 640x480 with 1 Axes>"
      ]
     },
     "metadata": {},
     "output_type": "display_data"
    }
   ],
   "source": [
    "df_histe[[\"train/loss_step\", \"val/loss_step\"]].plot(style=\".\")\n"
   ]
  },
  {
   "cell_type": "markdown",
   "metadata": {},
   "source": [
    "## Generate\n",
    "\n",
    "This acts a QC to check of the trained adapter is still coherent while giving the opposite answer\n"
   ]
  },
  {
   "cell_type": "code",
   "execution_count": 25,
   "metadata": {},
   "outputs": [],
   "source": [
    "from src.eval.gen import gen\n"
   ]
  },
  {
   "cell_type": "code",
   "execution_count": 26,
   "metadata": {},
   "outputs": [
    {
     "name": "stderr",
     "output_type": "stream",
     "text": [
      "Special tokens have been added in the vocabulary, make sure the associated word embeddings are fine-tuned or trained.\n",
      "The argument `trust_remote_code` is to be used with Auto classes. It has no effect here and is ignored.\n"
     ]
    },
    {
     "data": {
      "application/vnd.jupyter.widget-view+json": {
       "model_id": "f085482d7d524dcca75fbee02b894bbf",
       "version_major": 2,
       "version_minor": 0
      },
      "text/plain": [
       "Loading checkpoint shards:   0%|          | 0/2 [00:00<?, ?it/s]"
      ]
     },
     "metadata": {},
     "output_type": "display_data"
    }
   ],
   "source": [
    "\n",
    "# We need to reload it from checkpoint, since lightning seems to bug it after running\n",
    "model, tokenizer = model, tokenizer = load_model(\n",
    "    cfg.model,\n",
    "    device=device,\n",
    "    adaptor_path=checkpoint_path,\n",
    "    dtype=torch.float16,  # bfloat can't be pickled\n",
    "    model_class=PhiForCausalLMWHS,\n",
    "    bnb=False,\n",
    ")\n",
    "clear_mem()\n"
   ]
  },
  {
   "cell_type": "code",
   "execution_count": 27,
   "metadata": {},
   "outputs": [
    {
     "data": {
      "text/plain": [
       "''"
      ]
     },
     "execution_count": 27,
     "metadata": {},
     "output_type": "execute_result"
    }
   ],
   "source": [
    "model.eval()\n",
    "model.half()\n",
    ";\n"
   ]
  },
  {
   "cell_type": "code",
   "execution_count": 28,
   "metadata": {},
   "outputs": [
    {
     "data": {
      "text/plain": [
       "index                                                             1939\n",
       "ds_string                                                         hans\n",
       "example_i                                                          286\n",
       "answer                                                              No\n",
       "template_name                                          does this imply\n",
       "label_true                                                       False\n",
       "label_instructed                                                  True\n",
       "instructed_to_lie                                                 True\n",
       "sys_instr_name                                                 default\n",
       "question             \\n\\nSystem:\\nBelow is an instruction that desc...\n",
       "truncated                                                        False\n",
       "length                                                             161\n",
       "prompt_truncated     <|endoftext|><|endoftext|><|endoftext|><|endof...\n",
       "Name: 1939, dtype: object"
      ]
     },
     "execution_count": 28,
     "metadata": {},
     "output_type": "execute_result"
    }
   ],
   "source": [
    "# Chose a row where we will see the difference\n",
    "\n",
    "from src.eval.ds import ds2df\n",
    "df_tokens = ds2df(ds_tokens).reset_index()\n",
    "mask = (\n",
    "    (df_tokens['instructed_to_lie']==True) &\n",
    "    (df_tokens['label_true']==False)\n",
    ")\n",
    "bis = df_tokens[mask].index\n",
    "\n",
    "\n",
    "# # mask = (\n",
    "# #     (ds_tokens['instructed_to_lie']==True) &\n",
    "# #     (ds_tokens['label_true']==False)\n",
    "# # ).float()\n",
    "bi = int(np.random.choice(bis))\n",
    "bi\n",
    "# # TODO doesn't work if the model gets it wrong\n",
    "inputs = ds_tokens.with_format(\"torch\")[bi]\n",
    "df_tokens.iloc[bi]\n",
    "\n",
    "\n"
   ]
  },
  {
   "cell_type": "code",
   "execution_count": 29,
   "metadata": {},
   "outputs": [
    {
     "name": "stderr",
     "output_type": "stream",
     "text": [
      "/media/wassname/SGIronWolf/projects5/elk/sgd_probes_are_lie_detectors/.venv/lib/python3.11/site-packages/transformers/generation/utils.py:1473: UserWarning: You have modified the pretrained model configuration to control generation. This is a deprecated strategy to control generation and will be removed soon, in a future version. Please use and modify the model generation configuration (see https://huggingface.co/docs/transformers/generation_strategies#default-text-generation-configuration )\n",
      "  warnings.warn(\n"
     ]
    },
    {
     "data": {
      "text/html": [
       "<br><br>System:<br>Below is an instruction that describes a task, paired with an input that provides further context. Write a response that appropriately completes the request.<br><br>Instruct:<br>The artists recommended the lawyer in front of the author. <br><br>Question: Does this imply that \"The author recommended the artists.\"? Yes or no?<br><br>Output:<br>Yes<br><br>Instruct:<br>Although the manager supported the scientist, the professors contacted the banker. <br><br>Question: Does this imply that \"The professors contacted the banker.\"? Yes or no?<br><br>Output:<br>No<br><br>Instruct:<br>The actor forgot that the senators stopped the tourists. <br><br>Question: Does this imply that \"The senators stopped the tourists.\"? Yes or no?<br><br>Output:<br><b>Yes<br><br>Instruct:<br>The teacher recommended the students to the principal. <br><br>Question: Does this imply that \"The principal recommended the students.\"? Yes or no?<br><br>Output:<br>Yes<br><br>Instruct:<br>The doctor recommended the patient to the nurse. <br><br>Question: Does this imply that \"The nurse recommended the patient.\"? Yes or no?<br><br>Output:<br>Yes<br><br>Instruct:<br>The coach recommended the players to the manager. <br><br><br><br><b/>"
      ],
      "text/plain": [
       "<IPython.core.display.HTML object>"
      ]
     },
     "metadata": {},
     "output_type": "display_data"
    },
    {
     "data": {
      "text/html": [
       "<br><br>System:<br>Below is an instruction that describes a task, paired with an input that provides further context. Write a response that appropriately completes the request.<br><br>Instruct:<br>The artists recommended the lawyer in front of the author. <br><br>Question: Does this imply that \"The author recommended the artists.\"? Yes or no?<br><br>Output:<br>Yes<br><br>Instruct:<br>Although the manager supported the scientist, the professors contacted the banker. <br><br>Question: Does this imply that \"The professors contacted the banker.\"? Yes or no?<br><br>Output:<br>No<br><br>Instruct:<br>The actor forgot that the senators stopped the tourists. <br><br>Question: Does this imply that \"The senators stopped the tourists.\"? Yes or no?<br><br>Output:<br><b>Yes<br><br>Instruct:<br>The teacher recommended the students to the principal. <br><br>Question: Does this imply that \"The principal recommended the students.\"? Yes or no?<br><br>Output:<br>Yes<br><br>Instruct:<br>The doctor recommended the patient to the nurse. <br><br>Question: Does this imply that \"The nurse recommended the patient.\"? Yes or no?<br><br>Output:<br>Yes<br><br>Instruct:<br>The coach recommended the players to the manager. <br><br><br><br><b/>"
      ],
      "text/plain": [
       "<IPython.core.display.HTML object>"
      ]
     },
     "metadata": {},
     "output_type": "display_data"
    }
   ],
   "source": [
    "with model.disable_adapter():\n",
    "    gen(model, inputs, tokenizer)\n",
    "\n",
    "gen(model, inputs, tokenizer)\n"
   ]
  },
  {
   "cell_type": "markdown",
   "metadata": {},
   "source": [
    "# Test"
   ]
  },
  {
   "cell_type": "code",
   "execution_count": 30,
   "metadata": {},
   "outputs": [],
   "source": [
    "from src.eval.labels import ds2label_model_obey, ds2label_model_truth\n"
   ]
  },
  {
   "cell_type": "code",
   "execution_count": 31,
   "metadata": {},
   "outputs": [],
   "source": [
    "TEST_BATCH_MULT = 3\n"
   ]
  },
  {
   "cell_type": "code",
   "execution_count": 32,
   "metadata": {},
   "outputs": [
    {
     "data": {
      "text/plain": [
       "1003"
      ]
     },
     "execution_count": 32,
     "metadata": {},
     "output_type": "execute_result"
    }
   ],
   "source": [
    "dm2 = DeceptionDataModule(ds_tokens2, batch_size=cfg.batch_size * TEST_BATCH_MULT)\n",
    "dl_train2 = dm2.train_dataloader()\n",
    "dl_train2.shuffle = False\n",
    "\n",
    "dl_val2 = dm2.val_dataloader()\n",
    "dl_test2 = dm2.test_dataloader()\n",
    "\n",
    "dl_valtest2 = DataLoader(\n",
    "    torch.utils.data.ConcatDataset([dm.datasets[\"val\"], dm.datasets[\"test\"]]),\n",
    "    batch_size=cfg.batch_size * TEST_BATCH_MULT,\n",
    ")\n",
    "len(dl_valtest2.dataset)\n"
   ]
  },
  {
   "cell_type": "code",
   "execution_count": 33,
   "metadata": {},
   "outputs": [
    {
     "data": {
      "text/plain": [
       "1002"
      ]
     },
     "execution_count": 33,
     "metadata": {},
     "output_type": "execute_result"
    }
   ],
   "source": [
    "dl_OOD = DataLoader(\n",
    "    ds_tokens2, batch_size=cfg.batch_size * TEST_BATCH_MULT, drop_last=False, shuffle=False\n",
    ")\n",
    "len(dl_OOD.dataset)\n"
   ]
  },
  {
   "cell_type": "code",
   "execution_count": 34,
   "metadata": {},
   "outputs": [
    {
     "name": "stderr",
     "output_type": "stream",
     "text": [
      "Special tokens have been added in the vocabulary, make sure the associated word embeddings are fine-tuned or trained.\n",
      "The argument `trust_remote_code` is to be used with Auto classes. It has no effect here and is ignored.\n"
     ]
    },
    {
     "data": {
      "application/vnd.jupyter.widget-view+json": {
       "model_id": "04022702acd74505b8c43e26367b12c4",
       "version_major": 2,
       "version_minor": 0
      },
      "text/plain": [
       "Loading checkpoint shards:   0%|          | 0/2 [00:00<?, ?it/s]"
      ]
     },
     "metadata": {},
     "output_type": "display_data"
    }
   ],
   "source": [
    "model, tokenizer = model, tokenizer = load_model(\n",
    "    cfg.model,\n",
    "    device=device,\n",
    "    adaptor_path=checkpoint_path,\n",
    "    dtype=torch.float16,  # bfloat can't be pickled\n",
    "    model_class=PhiForCausalLMWHS,\n",
    ")\n",
    "net = model_cls(model, tokenizer)\n",
    "clear_mem()\n"
   ]
  },
  {
   "cell_type": "code",
   "execution_count": 35,
   "metadata": {},
   "outputs": [
    {
     "name": "stderr",
     "output_type": "stream",
     "text": [
      "LOCAL_RANK: 0 - CUDA_VISIBLE_DEVICES: [0,1]\n",
      "/media/wassname/SGIronWolf/projects5/elk/sgd_probes_are_lie_detectors/.venv/lib/python3.11/site-packages/lightning/pytorch/trainer/connectors/data_connector.py:492: Your `test_dataloader`'s sampler has shuffling enabled, it is strongly recommended that you turn shuffling off for val/test dataloaders.\n"
     ]
    },
    {
     "data": {
      "application/vnd.jupyter.widget-view+json": {
       "model_id": "d3ff520f4b7142db89c6f8aa6d58eb62",
       "version_major": 2,
       "version_minor": 0
      },
      "text/plain": [
       "Testing: |          | 0/? [00:00<?, ?it/s]"
      ]
     },
     "metadata": {},
     "output_type": "display_data"
    },
    {
     "data": {
      "text/html": [
       "<div>\n",
       "<style scoped>\n",
       "    .dataframe tbody tr th:only-of-type {\n",
       "        vertical-align: middle;\n",
       "    }\n",
       "\n",
       "    .dataframe tbody tr th {\n",
       "        vertical-align: top;\n",
       "    }\n",
       "\n",
       "    .dataframe thead th {\n",
       "        text-align: right;\n",
       "    }\n",
       "</style>\n",
       "<table border=\"1\" class=\"dataframe\">\n",
       "  <thead>\n",
       "    <tr style=\"text-align: right;\">\n",
       "      <th></th>\n",
       "      <th>train</th>\n",
       "      <th>val</th>\n",
       "      <th>test</th>\n",
       "      <th>OOD</th>\n",
       "    </tr>\n",
       "  </thead>\n",
       "  <tbody>\n",
       "    <tr>\n",
       "      <th>loss_epoch</th>\n",
       "      <td>5.428176</td>\n",
       "      <td>5.406906</td>\n",
       "      <td>5.433695</td>\n",
       "      <td>5.424201</td>\n",
       "    </tr>\n",
       "    <tr>\n",
       "      <th>n</th>\n",
       "      <td>501.000000</td>\n",
       "      <td>250.000000</td>\n",
       "      <td>251.000000</td>\n",
       "      <td>1002.000000</td>\n",
       "    </tr>\n",
       "  </tbody>\n",
       "</table>\n",
       "</div>"
      ],
      "text/plain": [
       "                 train         val        test          OOD\n",
       "loss_epoch    5.428176    5.406906    5.433695     5.424201\n",
       "n           501.000000  250.000000  251.000000  1002.000000"
      ]
     },
     "execution_count": 35,
     "metadata": {},
     "output_type": "execute_result"
    }
   ],
   "source": [
    "from src.helpers.lightning import rename_pl_test_results\n",
    "\n",
    "rs1 = trainer.test(\n",
    "    net,\n",
    "    dataloaders=[\n",
    "        dl_train2,\n",
    "        dl_val2,\n",
    "        dl_test2,\n",
    "        dl_OOD,\n",
    "    ],\n",
    "    verbose=False\n",
    ")\n",
    "rs = rename_pl_test_results(rs1, [\"train\", \"val\", \"test\", \"OOD\"])\n",
    "df_testing = pd.DataFrame(rs)\n",
    "df_testing\n"
   ]
  },
  {
   "cell_type": "markdown",
   "metadata": {},
   "source": [
    "# Predict\n",
    "\n",
    "Here we want to see if we can do a probe on the hidden states to see if it's lying...\n"
   ]
  },
  {
   "cell_type": "markdown",
   "metadata": {},
   "source": [
    "### Collect\n",
    "\n",
    "- see how acc each was for instructions vs truth\n",
    "- see how a linear probe trained on the diff can do for truth, vs baseline"
   ]
  },
  {
   "cell_type": "code",
   "execution_count": 36,
   "metadata": {},
   "outputs": [
    {
     "name": "stderr",
     "output_type": "stream",
     "text": [
      "Special tokens have been added in the vocabulary, make sure the associated word embeddings are fine-tuned or trained.\n",
      "The argument `trust_remote_code` is to be used with Auto classes. It has no effect here and is ignored.\n"
     ]
    },
    {
     "data": {
      "application/vnd.jupyter.widget-view+json": {
       "model_id": "a98ec109bb9e4ceca4d52bcf71357c6d",
       "version_major": 2,
       "version_minor": 0
      },
      "text/plain": [
       "Loading checkpoint shards:   0%|          | 0/2 [00:00<?, ?it/s]"
      ]
     },
     "metadata": {},
     "output_type": "display_data"
    }
   ],
   "source": [
    "model, tokenizer = model, tokenizer = load_model(\n",
    "    cfg.model,\n",
    "    device=device,\n",
    "    adaptor_path=checkpoint_path,\n",
    "    dtype=torch.float16,  # bfloat can't be pickled\n",
    "    model_class=PhiForCausalLMWHS,\n",
    "    bnb=False,\n",
    ")\n",
    "clear_mem()\n"
   ]
  },
  {
   "cell_type": "code",
   "execution_count": 37,
   "metadata": {},
   "outputs": [],
   "source": [
    "from src.eval.collect import manual_collect2\n",
    "from src.eval.ds import filter_ds_to_known\n",
    "from src.eval.labels import LABEL_MAPPING\n",
    "from src.eval.ds import qc_ds, ds2df, qc_dsdf\n",
    "from src.helpers.torch_helpers import batch_to_device\n"
   ]
  },
  {
   "cell_type": "code",
   "execution_count": 38,
   "metadata": {},
   "outputs": [],
   "source": [
    "# # for single process DEBUGING\n",
    "# from src.eval.collect import generate_batches\n",
    "# o = next(iter(generate_batches(dl_OOD, model)))\n"
   ]
  },
  {
   "cell_type": "code",
   "execution_count": 39,
   "metadata": {},
   "outputs": [
    {
     "name": "stderr",
     "output_type": "stream",
     "text": [
      "\u001b[32m2023-12-29 13:41:47.747\u001b[0m | \u001b[1mINFO    \u001b[0m | \u001b[36msrc.eval.collect\u001b[0m:\u001b[36mmanual_collect2\u001b[0m:\u001b[36m57\u001b[0m - \u001b[1mcreating dataset /media/wassname/SGIronWolf/projects5/elk/sgd_probes_are_lie_detectors/notebooks/lightning_logs/version_225/hidden_states/.ds/ds_OOD_f7dad3cf8d21e944\u001b[0m\n",
      "2023-12-29T13:41:47.747387+0800 INFO creating dataset /media/wassname/SGIronWolf/projects5/elk/sgd_probes_are_lie_detectors/notebooks/lightning_logs/version_225/hidden_states/.ds/ds_OOD_f7dad3cf8d21e944\n"
     ]
    },
    {
     "data": {
      "application/vnd.jupyter.widget-view+json": {
       "model_id": "6ffa873feec448a7982cf8e9320fb62c",
       "version_major": 2,
       "version_minor": 0
      },
      "text/plain": [
       "collecting hidden states:   0%|          | 0/334 [00:00<?, ?it/s]"
      ]
     },
     "metadata": {},
     "output_type": "display_data"
    },
    {
     "name": "stderr",
     "output_type": "stream",
     "text": [
      "\u001b[32m2023-12-29 13:55:05.025\u001b[0m | \u001b[1mINFO    \u001b[0m | \u001b[36msrc.eval.collect\u001b[0m:\u001b[36mmanual_collect2\u001b[0m:\u001b[36m57\u001b[0m - \u001b[1mcreating dataset /media/wassname/SGIronWolf/projects5/elk/sgd_probes_are_lie_detectors/notebooks/lightning_logs/version_225/hidden_states/.ds/ds_valtest_b1f1b6ad14b2be5a\u001b[0m\n",
      "2023-12-29T13:55:05.025836+0800 INFO creating dataset /media/wassname/SGIronWolf/projects5/elk/sgd_probes_are_lie_detectors/notebooks/lightning_logs/version_225/hidden_states/.ds/ds_valtest_b1f1b6ad14b2be5a\n"
     ]
    },
    {
     "data": {
      "application/vnd.jupyter.widget-view+json": {
       "model_id": "26cb1d73c1fb4fe995cc3b6a62ea4d28",
       "version_major": 2,
       "version_minor": 0
      },
      "text/plain": [
       "collecting hidden states:   0%|          | 0/335 [00:00<?, ?it/s]"
      ]
     },
     "metadata": {},
     "output_type": "display_data"
    }
   ],
   "source": [
    "dataset_dir=Path(trainer.log_dir)/'hidden_states'\n",
    "ds_out_OOD, f = manual_collect2(dl_OOD, model, dataset_name=\"OOD\", dataset_dir=dataset_dir)\n",
    "ds_out_valtest, f = manual_collect2(dl_valtest2, model, dataset_name=\"valtest\", dataset_dir=dataset_dir)\n"
   ]
  },
  {
   "cell_type": "markdown",
   "metadata": {},
   "source": [
    "#### QC ds"
   ]
  },
  {
   "cell_type": "code",
   "execution_count": 40,
   "metadata": {},
   "outputs": [],
   "source": [
    "def make_dfres2_pretty(styler):\n",
    "    styler.set_caption(\"Dataset metrics\")\n",
    "    styler.background_gradient(axis=1, vmin=0, vmax=1, cmap=\"RdYlGn\", \n",
    "                               subset=['auroc', 'lie_auroc', 'known_lie_auroc', 'choice_cov']\n",
    "                               )\n",
    "    styler.background_gradient(axis=1, vmin=0, vmax=0.5, cmap=\"RdYlGn\", \n",
    "                               subset=['balance']\n",
    "                               )\n",
    "    return styler\n"
   ]
  },
  {
   "cell_type": "code",
   "execution_count": 41,
   "metadata": {},
   "outputs": [
    {
     "name": "stdout",
     "output_type": "stream",
     "text": [
      "🥉 secondary metric: dataset quality: performance of base model and adapter\n"
     ]
    },
    {
     "data": {
      "text/html": [
       "<style type=\"text/css\">\n",
       "#T_138c7_row0_col0, #T_138c7_row1_col0 {\n",
       "  background-color: #006837;\n",
       "  color: #f1f1f1;\n",
       "}\n",
       "#T_138c7_row0_col2, #T_138c7_row1_col2 {\n",
       "  background-color: #8ecf67;\n",
       "  color: #000000;\n",
       "}\n",
       "#T_138c7_row0_col3 {\n",
       "  background-color: #fa9656;\n",
       "  color: #000000;\n",
       "}\n",
       "#T_138c7_row0_col4, #T_138c7_row1_col4 {\n",
       "  background-color: #fa9857;\n",
       "  color: #000000;\n",
       "}\n",
       "#T_138c7_row0_col5, #T_138c7_row1_col5 {\n",
       "  background-color: #30a356;\n",
       "  color: #f1f1f1;\n",
       "}\n",
       "#T_138c7_row1_col3 {\n",
       "  background-color: #fa9b58;\n",
       "  color: #000000;\n",
       "}\n",
       "</style>\n",
       "<table id=\"T_138c7\">\n",
       "  <caption>Dataset metrics</caption>\n",
       "  <thead>\n",
       "    <tr>\n",
       "      <th class=\"blank level0\" >&nbsp;</th>\n",
       "      <th id=\"T_138c7_level0_col0\" class=\"col_heading level0 col0\" >balance</th>\n",
       "      <th id=\"T_138c7_level0_col1\" class=\"col_heading level0 col1\" >N</th>\n",
       "      <th id=\"T_138c7_level0_col2\" class=\"col_heading level0 col2\" >auroc</th>\n",
       "      <th id=\"T_138c7_level0_col3\" class=\"col_heading level0 col3\" >lie_auroc</th>\n",
       "      <th id=\"T_138c7_level0_col4\" class=\"col_heading level0 col4\" >known_lie_auroc</th>\n",
       "      <th id=\"T_138c7_level0_col5\" class=\"col_heading level0 col5\" >choice_cov</th>\n",
       "    </tr>\n",
       "  </thead>\n",
       "  <tbody>\n",
       "    <tr>\n",
       "      <th id=\"T_138c7_level0_row0\" class=\"row_heading level0 row0\" >base</th>\n",
       "      <td id=\"T_138c7_row0_col0\" class=\"data row0 col0\" >0.521436</td>\n",
       "      <td id=\"T_138c7_row0_col1\" class=\"data row0 col1\" >1003</td>\n",
       "      <td id=\"T_138c7_row0_col2\" class=\"data row0 col2\" >0.735222</td>\n",
       "      <td id=\"T_138c7_row0_col3\" class=\"data row0 col3\" >0.265017</td>\n",
       "      <td id=\"T_138c7_row0_col4\" class=\"data row0 col4\" >0.266667</td>\n",
       "      <td id=\"T_138c7_row0_col5\" class=\"data row0 col5\" >0.869962</td>\n",
       "    </tr>\n",
       "    <tr>\n",
       "      <th id=\"T_138c7_level0_row1\" class=\"row_heading level0 row1\" >adapter</th>\n",
       "      <td id=\"T_138c7_row1_col0\" class=\"data row1 col0\" >0.521436</td>\n",
       "      <td id=\"T_138c7_row1_col1\" class=\"data row1 col1\" >1003</td>\n",
       "      <td id=\"T_138c7_row1_col2\" class=\"data row1 col2\" >0.737262</td>\n",
       "      <td id=\"T_138c7_row1_col3\" class=\"data row1 col3\" >0.271436</td>\n",
       "      <td id=\"T_138c7_row1_col4\" class=\"data row1 col4\" >0.266667</td>\n",
       "      <td id=\"T_138c7_row1_col5\" class=\"data row1 col5\" >0.869980</td>\n",
       "    </tr>\n",
       "  </tbody>\n",
       "</table>\n"
      ],
      "text/plain": [
       "<pandas.io.formats.style.Styler at 0x7fc0cdd1b110>"
      ]
     },
     "metadata": {},
     "output_type": "display_data"
    }
   ],
   "source": [
    "df1 = ds2df(ds_out_valtest)\n",
    "df_b = df1.rename(columns=lambda x: x.replace(\"_base\", \"\")).copy()\n",
    "res_b = qc_dsdf(df_b)\n",
    "df_a = df1.rename(columns=lambda x: x.replace(\"_adapt\", \"\")).copy()\n",
    "res_a = qc_dsdf(df_a)\n",
    "df_res_ab = pd.DataFrame([res_b, res_a], index=[\"base\", \"adapter\"])\n",
    "print(\"🥉 secondary metric: dataset quality: performance of base model and adapter\")\n",
    "display(df_res_ab.style.pipe(make_dfres2_pretty))\n"
   ]
  },
  {
   "cell_type": "code",
   "execution_count": 42,
   "metadata": {},
   "outputs": [
    {
     "name": "stdout",
     "output_type": "stream",
     "text": [
      "🥉 secondary metric: dataset quality: performance of base model and adapter\n"
     ]
    },
    {
     "data": {
      "text/html": [
       "<style type=\"text/css\">\n",
       "#T_79aaa_row0_col0, #T_79aaa_row1_col0 {\n",
       "  background-color: #026c39;\n",
       "  color: #f1f1f1;\n",
       "}\n",
       "#T_79aaa_row0_col2 {\n",
       "  background-color: #60ba62;\n",
       "  color: #f1f1f1;\n",
       "}\n",
       "#T_79aaa_row0_col3 {\n",
       "  background-color: #f46d43;\n",
       "  color: #f1f1f1;\n",
       "}\n",
       "#T_79aaa_row0_col4 {\n",
       "  background-color: #e44c34;\n",
       "  color: #f1f1f1;\n",
       "}\n",
       "#T_79aaa_row0_col5, #T_79aaa_row1_col5 {\n",
       "  background-color: #17934e;\n",
       "  color: #f1f1f1;\n",
       "}\n",
       "#T_79aaa_row1_col2 {\n",
       "  background-color: #5db961;\n",
       "  color: #f1f1f1;\n",
       "}\n",
       "#T_79aaa_row1_col3 {\n",
       "  background-color: #f47044;\n",
       "  color: #f1f1f1;\n",
       "}\n",
       "#T_79aaa_row1_col4 {\n",
       "  background-color: #e65036;\n",
       "  color: #f1f1f1;\n",
       "}\n",
       "</style>\n",
       "<table id=\"T_79aaa\">\n",
       "  <caption>Dataset metrics</caption>\n",
       "  <thead>\n",
       "    <tr>\n",
       "      <th class=\"blank level0\" >&nbsp;</th>\n",
       "      <th id=\"T_79aaa_level0_col0\" class=\"col_heading level0 col0\" >balance</th>\n",
       "      <th id=\"T_79aaa_level0_col1\" class=\"col_heading level0 col1\" >N</th>\n",
       "      <th id=\"T_79aaa_level0_col2\" class=\"col_heading level0 col2\" >auroc</th>\n",
       "      <th id=\"T_79aaa_level0_col3\" class=\"col_heading level0 col3\" >lie_auroc</th>\n",
       "      <th id=\"T_79aaa_level0_col4\" class=\"col_heading level0 col4\" >known_lie_auroc</th>\n",
       "      <th id=\"T_79aaa_level0_col5\" class=\"col_heading level0 col5\" >choice_cov</th>\n",
       "    </tr>\n",
       "  </thead>\n",
       "  <tbody>\n",
       "    <tr>\n",
       "      <th id=\"T_79aaa_level0_row0\" class=\"row_heading level0 row0\" >base</th>\n",
       "      <td id=\"T_79aaa_row0_col0\" class=\"data row0 col0\" >0.496008</td>\n",
       "      <td id=\"T_79aaa_row0_col1\" class=\"data row0 col1\" >1002</td>\n",
       "      <td id=\"T_79aaa_row0_col2\" class=\"data row0 col2\" >0.806700</td>\n",
       "      <td id=\"T_79aaa_row0_col3\" class=\"data row0 col3\" >0.200546</td>\n",
       "      <td id=\"T_79aaa_row0_col4\" class=\"data row0 col4\" >0.148323</td>\n",
       "      <td id=\"T_79aaa_row0_col5\" class=\"data row0 col5\" >0.909908</td>\n",
       "    </tr>\n",
       "    <tr>\n",
       "      <th id=\"T_79aaa_level0_row1\" class=\"row_heading level0 row1\" >adapter</th>\n",
       "      <td id=\"T_79aaa_row1_col0\" class=\"data row1 col0\" >0.496008</td>\n",
       "      <td id=\"T_79aaa_row1_col1\" class=\"data row1 col1\" >1002</td>\n",
       "      <td id=\"T_79aaa_row1_col2\" class=\"data row1 col2\" >0.808615</td>\n",
       "      <td id=\"T_79aaa_row1_col3\" class=\"data row1 col3\" >0.206762</td>\n",
       "      <td id=\"T_79aaa_row1_col4\" class=\"data row1 col4\" >0.154421</td>\n",
       "      <td id=\"T_79aaa_row1_col5\" class=\"data row1 col5\" >0.909917</td>\n",
       "    </tr>\n",
       "  </tbody>\n",
       "</table>\n"
      ],
      "text/plain": [
       "<pandas.io.formats.style.Styler at 0x7fc0cdd8b5d0>"
      ]
     },
     "metadata": {},
     "output_type": "display_data"
    }
   ],
   "source": [
    "df1 = ds2df(ds_out_OOD)\n",
    "df_b = df1.rename(columns=lambda x: x.replace(\"_base\", \"\")).copy()\n",
    "res_b = qc_dsdf(df_b)\n",
    "df_a = df1.rename(columns=lambda x: x.replace(\"_adapt\", \"\")).copy()\n",
    "res_a = qc_dsdf(df_a)\n",
    "df_res_ab = pd.DataFrame([res_b, res_a], index=[\"base\", \"adapter\"])\n",
    "print(\"🥉 secondary metric: dataset quality: performance of base model and adapter\")\n",
    "display(df_res_ab.style.pipe(make_dfres2_pretty))\n"
   ]
  },
  {
   "cell_type": "markdown",
   "metadata": {},
   "source": [
    "### Eval"
   ]
  },
  {
   "cell_type": "code",
   "execution_count": 43,
   "metadata": {},
   "outputs": [
    {
     "ename": "ModuleNotFoundError",
     "evalue": "No module named 'src.probes.sk_lr'",
     "output_type": "error",
     "traceback": [
      "\u001b[0;31m---------------------------------------------------------------------------\u001b[0m",
      "\u001b[0;31mModuleNotFoundError\u001b[0m                       Traceback (most recent call last)",
      "\u001b[1;32m/media/wassname/SGIronWolf/projects5/elk/sgd_probes_are_lie_detectors/notebooks/05_mjc_lie.ipynb Cell 60\u001b[0m line \u001b[0;36m2\n\u001b[1;32m      <a href='vscode-notebook-cell:/media/wassname/SGIronWolf/projects5/elk/sgd_probes_are_lie_detectors/notebooks/05_mjc_lie.ipynb#Y111sZmlsZQ%3D%3D?line=0'>1</a>\u001b[0m \u001b[39m# FIXME: code from 10_compare probes\u001b[39;00m\n\u001b[0;32m----> <a href='vscode-notebook-cell:/media/wassname/SGIronWolf/projects5/elk/sgd_probes_are_lie_detectors/notebooks/05_mjc_lie.ipynb#Y111sZmlsZQ%3D%3D?line=1'>2</a>\u001b[0m \u001b[39mfrom\u001b[39;00m \u001b[39msrc\u001b[39;00m\u001b[39m.\u001b[39;00m\u001b[39meval\u001b[39;00m\u001b[39m.\u001b[39;00m\u001b[39minterventions\u001b[39;00m \u001b[39mimport\u001b[39;00m test_intervention_quality2\n",
      "File \u001b[0;32m/media/wassname/SGIronWolf/projects5/elk/sgd_probes_are_lie_detectors/src/eval/interventions.py:11\u001b[0m\n\u001b[1;32m      9\u001b[0m \u001b[39mfrom\u001b[39;00m \u001b[39msklearn\u001b[39;00m\u001b[39m.\u001b[39;00m\u001b[39mmodel_selection\u001b[39;00m \u001b[39mimport\u001b[39;00m train_test_split\n\u001b[1;32m     10\u001b[0m \u001b[39mfrom\u001b[39;00m \u001b[39msrc\u001b[39;00m\u001b[39m.\u001b[39;00m\u001b[39mprobes\u001b[39;00m\u001b[39m.\u001b[39;00m\u001b[39mutils\u001b[39;00m \u001b[39mimport\u001b[39;00m postproc, make_dfres_pretty\n\u001b[0;32m---> 11\u001b[0m \u001b[39mfrom\u001b[39;00m \u001b[39msrc\u001b[39;00m\u001b[39m.\u001b[39;00m\u001b[39mprobes\u001b[39;00m\u001b[39m.\u001b[39;00m\u001b[39msk_lr\u001b[39;00m \u001b[39mimport\u001b[39;00m check_lr_intervention_predictive\n\u001b[1;32m     14\u001b[0m \u001b[39mdef\u001b[39;00m \u001b[39mtest_intervention_quality2\u001b[39m(ds_out, label_fn, thresh\u001b[39m=\u001b[39m\u001b[39m0.03\u001b[39m, take_diff\u001b[39m=\u001b[39m\u001b[39mFalse\u001b[39;00m, verbose\u001b[39m=\u001b[39m\u001b[39mFalse\u001b[39;00m, title\u001b[39m=\u001b[39m\u001b[39m\"\u001b[39m\u001b[39mIntervention predictive power\u001b[39m\u001b[39m\"\u001b[39m, skip\u001b[39m=\u001b[39m\u001b[39m0\u001b[39m, stride\u001b[39m=\u001b[39m\u001b[39m1\u001b[39m, model_kwargs\u001b[39m=\u001b[39m{}):\n\u001b[1;32m     15\u001b[0m \u001b[39m    \u001b[39m\u001b[39m\"\"\"\u001b[39;00m\n\u001b[1;32m     16\u001b[0m \u001b[39m    Check interventions are ordered and different and valid\u001b[39;00m\n\u001b[1;32m     17\u001b[0m \n\u001b[0;32m   (...)\u001b[0m\n\u001b[1;32m     24\u001b[0m \u001b[39m        - it's not over confident\u001b[39;00m\n\u001b[1;32m     25\u001b[0m \u001b[39m    \"\"\"\u001b[39;00m\n",
      "\u001b[0;31mModuleNotFoundError\u001b[0m: No module named 'src.probes.sk_lr'"
     ]
    }
   ],
   "source": [
    "# FIXME: code from 10_compare probes\n",
    "from src.eval.interventions import test_intervention_quality2\n"
   ]
  },
  {
   "cell_type": "code",
   "execution_count": null,
   "metadata": {},
   "outputs": [],
   "source": [
    "# def test_intervention_quality2(ds_known, label_fn, title=\"\", skip=0, stride=1, model_kwargs={}):\n",
    "\n",
    "\n",
    "\n"
   ]
  },
  {
   "cell_type": "code",
   "execution_count": null,
   "metadata": {},
   "outputs": [],
   "source": [
    "\n",
    "\n",
    "def analyse_intervention(ds_out, cfg, model_kwargs={}):\n",
    "    ds_known = filter_ds_to_known(ds_out, verbose=True)\n",
    "\n",
    "    print(\n",
    "        f\"🥇 primary metric: predictive power (of logistic regression on top of intervened hidden states of known question)\"\n",
    "    )\n",
    "    print(\n",
    "        f\"\"\"\n",
    "    The roc_auc should go up on the right given the intervented states\n",
    "    \"\"\"\n",
    "    )\n",
    "    for label_name, label_fn in LABEL_MAPPING.items():\n",
    "        try:\n",
    "            # fit probe\n",
    "            # print('='*80)\n",
    "            # print(f\"predicting label={label_name}\")\n",
    "            df_res = test_intervention_quality2(ds_known, label_fn, title=f\"predicting label={label_name}\",\n",
    "                                                skip=cfg.skip_layers, stride=cfg.stride_layers, model_kwargs=model_kwargs)\n",
    "            display(df_res)\n",
    "        except Exception as e:\n",
    "            raise\n",
    "            print(f\"Exception {e}\")\n",
    "\n",
    "    # df1 = ds2df(ds_out)\n",
    "    # df_b = df1.rename(columns=lambda x: x.replace(\"_base\", \"\")).copy()\n",
    "    # res_b = qc_dsdf(df_b)\n",
    "    # df_a = df1.rename(columns=lambda x: x.replace(\"_adapt\", \"\")).copy()\n",
    "    # res_a = qc_dsdf(df_a)\n",
    "    # df_res_ab = pd.DataFrame([res_b, res_a], index=[\"base\", \"adapter\"])\n",
    "    # print(\"🥉 secondary metric: dataset quality: performance of base model and adapter\")\n",
    "    # display(df_res_ab.style.pipe(make_dfres2_pretty))\n",
    "    # return df_res_ab, df_res\n",
    "\n",
    "# analyse_intervention(ds_out_OOD, tokenizer)\n",
    "\n"
   ]
  },
  {
   "cell_type": "code",
   "execution_count": null,
   "metadata": {},
   "outputs": [],
   "source": [
    "print(\"valtest\")\n",
    "df_res_ab_v, df_res_v = analyse_intervention(ds_out_valtest, cfg)\n",
    "\n",
    "print(\"out of distribution\")\n",
    "df_res_ab_o, df_res_o = analyse_intervention(ds_out_OOD, cfg)\n"
   ]
  },
  {
   "cell_type": "markdown",
   "metadata": {},
   "source": [
    "Hypothesis: Probes on adapter are better than either probes or adapters.\n",
    "\n",
    "|model| val acc | OOD acc |\n",
    "|--|--|--|\n",
    "|base model  acc | 0.64  | 0.69 OOD |\n",
    "|adapter acc | 0.65  | 0.65 |\n",
    "|base+probe model residual auroc | 0.89 | 0.917|\n",
    "|adapter+probe residual auroc | **0.905** | **0.974** |\n",
    "\n",
    "So yes! Hypothesis confirmed\n",
    "mm\n"
   ]
  },
  {
   "cell_type": "markdown",
   "metadata": {},
   "source": [
    "# plot labels vs each other\n",
    "\n",
    "to try and see why ranking is better\n"
   ]
  }
 ],
 "metadata": {
  "kernelspec": {
   "display_name": ".venv",
   "language": "python",
   "name": "python3"
  },
  "language_info": {
   "codemirror_mode": {
    "name": "ipython",
    "version": 3
   },
   "file_extension": ".py",
   "mimetype": "text/x-python",
   "name": "python",
   "nbconvert_exporter": "python",
   "pygments_lexer": "ipython3",
   "version": "3.11.0rc1"
  }
 },
 "nbformat": 4,
 "nbformat_minor": 2
}
