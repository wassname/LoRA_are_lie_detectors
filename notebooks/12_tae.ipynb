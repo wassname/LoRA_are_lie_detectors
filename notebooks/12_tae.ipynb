{
 "cells": [
  {
   "cell_type": "markdown",
   "metadata": {},
   "source": [
    "# Trying a tokenized autoencoder\n",
    "\n",
    "E.g. from IRIS https://github.dev/eloialonso/iris where sparsity is enforced by the tokenization/embedding quantisation bottleneck"
   ]
  },
  {
   "cell_type": "markdown",
   "metadata": {},
   "source": []
  },
  {
   "cell_type": "code",
   "execution_count": 145,
   "metadata": {},
   "outputs": [
    {
     "name": "stdout",
     "output_type": "stream",
     "text": [
      "The autoreload extension is already loaded. To reload it, use:\n",
      "  %reload_ext autoreload\n"
     ]
    }
   ],
   "source": [
    "import os\n",
    "import numpy as np\n",
    "import pandas as pd\n",
    "from matplotlib import pyplot as plt\n",
    "from tqdm.auto import tqdm\n",
    "\n",
    "\n",
    "from typing import Optional, List, Dict, Union\n",
    "from jaxtyping import Float\n",
    "from torch import Tensor\n",
    "\n",
    "import torch\n",
    "import torch.nn as nn\n",
    "import torch.nn.functional as F\n",
    "\n",
    "from torch import Tensor\n",
    "from torch import optim\n",
    "from torch.utils.data import random_split, DataLoader, TensorDataset\n",
    "# from safetensors.torch import save_file, safe_open\n",
    "import safetensors.torch\n",
    "\n",
    "from pathlib import Path\n",
    "from einops import rearrange\n",
    "\n",
    "import transformers\n",
    "from transformers import (\n",
    "    AutoTokenizer,\n",
    "    AutoModelForCausalLM,\n",
    "    BitsAndBytesConfig,\n",
    "    AutoConfig,\n",
    ")\n",
    "from peft import (\n",
    "    get_peft_config,\n",
    "    get_peft_model,\n",
    "    LoraConfig,\n",
    "    TaskType,\n",
    "    LoftQConfig,\n",
    "    IA3Config,\n",
    ")\n",
    "from pathlib import Path\n",
    "import datasets\n",
    "from datasets import Dataset\n",
    "\n",
    "from loguru import logger\n",
    "\n",
    "logger.add(os.sys.stderr, format=\"{time} {level} {message}\", level=\"INFO\")\n",
    "\n",
    "# load my code\n",
    "%load_ext autoreload\n",
    "%autoreload 2\n",
    "\n",
    "import lightning.pytorch as pl\n",
    "\n",
    "from src.config import ExtractConfig\n",
    "from src.llms.load import load_model\n",
    "from src.helpers.torch_helpers import clear_mem\n",
    "from src.llms.phi.model_phi import PhiForCausalLMWHS\n",
    "from src.eval.ds import filter_ds_to_known\n",
    "from src.datasets.act_dm import ActivationDataModule\n",
    "\n",
    "# plt.style.use(\"ggplot\")\n",
    "# plt.style.use(\"seaborn-v0_8\")\n",
    "import seaborn as sns\n",
    "\n",
    "sns.set_theme(\"paper\")\n",
    "\n",
    "plt.rcParams[\"figure.figsize\"] = (4, 3)"
   ]
  },
  {
   "cell_type": "code",
   "execution_count": 146,
   "metadata": {},
   "outputs": [],
   "source": [
    "import logging\n",
    "import warnings\n",
    "\n",
    "logging.getLogger(\"pytorch_lightning\").setLevel(logging.WARNING)\n",
    "\n",
    "\n",
    "warnings.filterwarnings(\"ignore\", \".*does not have many workers.*\")\n",
    "warnings.filterwarnings(\n",
    "    \"ignore\", \".*sampler has shuffling enabled, it is strongly recommended that.*\"\n",
    ")\n",
    "# warnings.filterwarnings(\"ignore\", \".*has been removed as a dependency of.*\")"
   ]
  },
  {
   "cell_type": "code",
   "execution_count": 147,
   "metadata": {},
   "outputs": [],
   "source": [
    "os.environ[\"TQDM_MININTERVAL\"] = \"9\"\n",
    "# os.environ[\"TQDM_DISABLE\"] = \"1\"\n",
    "\n",
    "verbose = False"
   ]
  },
  {
   "cell_type": "markdown",
   "metadata": {},
   "source": [
    "## Paramsnet\n"
   ]
  },
  {
   "cell_type": "code",
   "execution_count": 148,
   "metadata": {},
   "outputs": [],
   "source": [
    "# params\n",
    "# params\n",
    "batch_size = 32\n",
    "lr = 4e-3\n",
    "wd = 0  # 1e-5\n",
    "\n",
    "MAX_ROWS = 2000\n",
    "\n",
    "SKIP = 15  # skip initial N layers\n",
    "STRIDE = 4  # skip every N layers\n",
    "DECIMATE = 1  # discard N features for speed\n",
    "\n",
    "device = \"cuda:0\"\n",
    "max_epochs = 84\n",
    "max_ae_epochs = 84\n",
    "\n",
    "l1_coeff = 1e-2  # 0.5  # neel uses 3e-4 ! https://github.dev/neelnanda-io/1L-Sparse-Autoencoder/blob/bcae01328a2f41d24bd4a9160828f2fc22737f75/utils.py#L106, but them they sum l1 where mean l2\n",
    "# x_feats=x_feats. other use 1e-1\n",
    "# in ai saftey foundation. They use l1_coefficient=Parameter(max=0.03, min=0.008),\n",
    "\n",
    "\n",
    "BASE_FOLDER = Path(\n",
    "    \"/media/wassname/SGIronWolf/projects5/elk/sgd_probes_are_lie_detectors/notebooks/lightning_logs/version_24/\"\n",
    ")\n",
    "layers_names = (\"fc1\", \"Wqkv\",\n",
    "                 \"fc2\", \"out_proj\"\n",
    "                 )"
   ]
  },
  {
   "cell_type": "markdown",
   "metadata": {},
   "source": [
    "## Load data"
   ]
  },
  {
   "cell_type": "code",
   "execution_count": null,
   "metadata": {},
   "outputs": [],
   "source": [
    "# load hidden state from a previously loaded adapter\n",
    "# the columns with _base are from the base model, and adapt from adapter\n",
    "# FROM TRAINING TRUTH\n",
    "f1_val = next(iter(BASE_FOLDER.glob(\"hidden_states/.ds/ds_valtest_*\")))\n",
    "f1_ood = next(iter(BASE_FOLDER.glob(\"hidden_states/.ds/ds_OOD_*\")))\n",
    "f1_val, f1_ood"
   ]
  },
  {
   "cell_type": "code",
   "execution_count": null,
   "metadata": {},
   "outputs": [],
   "source": [
    "input_columns = (\n",
    "    [\"binary_ans_base\", \"binary_ans_adapt\"]\n",
    "    + [f\"end_residual_{layer}_base\" for layer in layers_names]\n",
    "    + [f\"end_residual_{layer}_adapt\" for layer in layers_names]\n",
    ")\n",
    "\n",
    "y_thresh = 0.5\n",
    "def get_label(ds):\n",
    "    # What are we predicting? Here it's whether the adapter is more truthfull than the base\n",
    "    # return ds[\"binary_ans_base\"] - ds[\"binary_ans_adapt\"]\n",
    "\n",
    "    # if base is truthfull. relative token prob, flipped for truth\n",
    "    return ds[\"binary_ans_base\"]\n",
    "\n",
    "\n",
    "def ds2xy_batched(ds):\n",
    "    data = []\n",
    "    for layer in layers_names:\n",
    "        # Stack the base and adapter representations as a 4th dim\n",
    "        X1 = [ds[f\"end_residual_{layer}_base\"], ds[f\"end_residual_{layer}_adapt\"]]\n",
    "        X1 = rearrange(X1, \"versions b l f  -> b l f versions\")[..., 0]\n",
    "        data.append(X1)\n",
    "\n",
    "    # concat layers\n",
    "    # x = rearrange(data, 'b parts l f v -> b l (parts f) v')\n",
    "    X = torch.concat(data, dim=2)[:, SKIP::STRIDE, ::DECIMATE]\n",
    "\n",
    "    \n",
    "    y = get_label(ds)\n",
    "    return dict(X=X, y=y)\n",
    "\n",
    "\n",
    "def prepare_ds(ds):\n",
    "    \"\"\"\n",
    "    prepare a dataset for training\n",
    "\n",
    "    this should front load much of the computation\n",
    "    it should restrict it to the needed rows X and y\n",
    "\n",
    "    \"\"\"\n",
    "    ds = (\n",
    "        ds.with_format(\"torch\")\n",
    "        .select_columns(input_columns)\n",
    "        .map(ds2xy_batched, batched=True, batch_size=128, remove_columns=input_columns)\n",
    "    )\n",
    "    return ds\n",
    "\n",
    "\n",
    "def load_file_to_dm(f, stage):\n",
    "    ds1 = Dataset.from_file(str(f1_val), in_memory=True).with_format(\"torch\")\n",
    "    ds1 = filter_ds_to_known(ds1, verbose=True, true_col=\"truth\")\n",
    "    ds = prepare_ds(ds1)\n",
    "\n",
    "    # limit size\n",
    "    MAX_SAMPLES = min(len(ds), MAX_ROWS * 2)\n",
    "    ds = ds.select(range(0, MAX_SAMPLES))\n",
    "    ds1 = ds1.select(range(0, MAX_SAMPLES))\n",
    "\n",
    "    dm = ActivationDataModule(ds, f.stem, batch_size=batch_size, num_workers=0)\n",
    "    dm.setup(stage)\n",
    "    dm.ds_orig = ds1\n",
    "    assert (get_label(dm.ds_orig)==dm.ds['y']).all()\n",
    "    return dm\n",
    "\n",
    "\n",
    "# HACK this is so we can rerun all cells notebook without rerunning this slow step\n",
    "try:\n",
    "    print(dm)\n",
    "except NameError:\n",
    "    dm = load_file_to_dm(f1_val, \"train\")\n",
    "    dm_ood = load_file_to_dm(f1_ood, \"all\")"
   ]
  },
  {
   "cell_type": "code",
   "execution_count": null,
   "metadata": {},
   "outputs": [],
   "source": [
    "dm_ood.datasets"
   ]
  },
  {
   "cell_type": "code",
   "execution_count": null,
   "metadata": {},
   "outputs": [],
   "source": [
    "dl_train = dm.train_dataloader()\n",
    "dl_val = dm.val_dataloader()\n",
    "dl = dm.test_dataloader()\n",
    "dl_ood = dm_ood.all_dataloader()"
   ]
  },
  {
   "cell_type": "markdown",
   "metadata": {},
   "source": [
    "Experiment with dataloading speeds:\n",
    "- does it help to save the Xy dataset to disc, then load, while keeping in mem?. no not faster at all\n",
    "- does it help to use num_workers > 0? yes 3x faster\n",
    "- the shared dataset wrapper is 10x faster, and less mem"
   ]
  },
  {
   "cell_type": "markdown",
   "metadata": {},
   "source": [
    "# Get importance matrix from adapter"
   ]
  },
  {
   "cell_type": "code",
   "execution_count": null,
   "metadata": {},
   "outputs": [],
   "source": [
    "from src.probes.importance_matrix import get_importance_matrix\n",
    "\n",
    "\n",
    "f = f\"{BASE_FOLDER}/checkpoint_last/adapter_model.safetensors\"\n",
    "importance_matrix = get_importance_matrix(f, layers=layers_names)[\n",
    "    SKIP::STRIDE, ::DECIMATE\n",
    "]\n",
    "\n",
    "\n",
    "# importance_matrix = importance_matrix ** 3 # square to make it positive\n",
    "importance_matrix = (importance_matrix - 1).abs() ** 2\n",
    "\n",
    "\n",
    "# importance_matrix = importance_matrix / (0.1*importance_matrix.std())\n",
    "# importance_matrix = importance_matrix + 1\n",
    "\n",
    "# square to make it positive\n",
    "# importance_matrix = importance_matrix.clamp(0, None)\n",
    "# importance_matrix -= importance_matrix.mean() - 1\n",
    "\n",
    "s = importance_matrix.std()\n",
    "# importance_matrix = (importance_matrix > s * 3) * 1.0\n",
    "# print(f\"keeping top {importance_matrix.mean():2.2%} of features\")\n",
    "importance_matrix = importance_matrix / importance_matrix.mean()\n",
    "\n",
    "plt.hist(importance_matrix.flatten(), bins=155)\n",
    "\n",
    "importance_matrix.mean()\n",
    "\n",
    "# importance_matrix = None"
   ]
  },
  {
   "cell_type": "code",
   "execution_count": null,
   "metadata": {},
   "outputs": [],
   "source": [
    "# ((importance_matrix>0)*1.0).sum()\n",
    "\n",
    "# importance_matrix.mean()"
   ]
  },
  {
   "cell_type": "code",
   "execution_count": null,
   "metadata": {},
   "outputs": [],
   "source": [
    "# ds_test2 = dm.datasets['test']\n",
    "# shape1 = ds_test2[0][0].shape\n",
    "# shape2= importance_matrix.shape\n",
    "# np.testing.assert_equal(shape1, shape2, err_msg=\"shape mismatch between ds and importance matrix\")\n"
   ]
  },
  {
   "cell_type": "markdown",
   "metadata": {},
   "source": [
    "### helpers"
   ]
  },
  {
   "cell_type": "code",
   "execution_count": null,
   "metadata": {},
   "outputs": [],
   "source": [
    "from src.eval.ds import ds2df\n",
    "from src.helpers.pandas_classification_report import classification_report, confusion_matrix\n",
    "\n",
    "\n",
    "\n",
    "def get_acc_subset(df, query, verbose=True):\n",
    "    # assert (df[\"y\"].mean() < 0).any(), \"y should be [-1, 1]\"\n",
    "    assert (df[\"y\"].min() >= 0).all(), \"y should be [-1, 1]\"\n",
    "    assert (df[\"y\"].max() <= 1).all(), \"y should be [-1, 1]\"\n",
    "    assert (df[\"probe_pred\"].min() >= 0).all(), \"pred should be [0,1]\"\n",
    "    assert (df[\"probe_pred\"].max() <= 1).all(), \"pred should be [0,1]\"\n",
    "\n",
    "    if query:\n",
    "        df = df.query(query)\n",
    "    acc = ((df[\"probe_pred\"] > 0.5) == (df[\"y\"] > y_thresh)).mean()\n",
    "    # print(df['probe_pred'])\n",
    "    # print(df['y'])\n",
    "    if verbose:\n",
    "        print(f\"acc={acc:2.2%},\\tn={len(df)},\\t[{query}] \")\n",
    "    return acc\n",
    "\n",
    "\n",
    "def calc_metrics(dm, net, trainer=None, split=\"test\", verbose=True):\n",
    "    # predict\n",
    "    dl = dm.create_dataloader(split)\n",
    "    if trainer is None:\n",
    "        trainer = pl.Trainer(\n",
    "            logger=False, enable_progress_bar=False, enable_model_summary=False, barebones=True,\n",
    "        )\n",
    "    rt = trainer.predict(net, dataloaders=dl)\n",
    "    y_test_pred = np.concatenate(rt)\n",
    "\n",
    "    # get original df\n",
    "    splits = dm.splits[split]\n",
    "    df = ds2df(dm.ds_orig).rename(columns=lambda s: s.replace(\"_base\", \"\"))\n",
    "    df[\"y\"] = dm.ds[\"y\"]\n",
    "    df[\"label_true\"]\n",
    "    df_test = df.iloc[splits[0] : splits[1]].copy()\n",
    "    df_test[\"probe_pred\"] = y_test_pred\n",
    "    \n",
    "    if verbose:\n",
    "        target_names = ['true','lie']\n",
    "        df_cls = classification_report(df_test[\"y\"]>y_thresh, df_test[\"probe_pred\"] > 0.5, target_names=target_names)\n",
    "        display(df_cls.format(precision=2))\n",
    "        display(confusion_matrix(df_test[\"y\"]>y_thresh, df_test[\"probe_pred\"] > 0.5, target_names=target_names, normalize='all',).format(precision=2))\n",
    "\n",
    "    if verbose:\n",
    "        print(f\"probe results on subsets of the data for {split}\")\n",
    "    acc = get_acc_subset(df_test, \"\", verbose=verbose)\n",
    "    get_acc_subset(\n",
    "        df_test, \"instructed_to_lie==True\", verbose=verbose\n",
    "    )  # it was ph told to lie\n",
    "    get_acc_subset(\n",
    "        df_test, \"instructed_to_lie==False\", verbose=verbose\n",
    "    )  # it was told not to lie\n",
    "    get_acc_subset(\n",
    "        df_test, \"ans==label_true\", verbose=verbose\n",
    "    )  # the llm gave the true ans\n",
    "    get_acc_subset(\n",
    "        df_test, \"ans==label_instructed\", verbose=verbose\n",
    "    )  # the llm gave the desired ans\n",
    "    acc_lie_lie = get_acc_subset(\n",
    "        df_test, \"instructed_to_lie==True & ans==label_instructed\", verbose=verbose\n",
    "    )  # it was told to lie, and it did lie\n",
    "    acc_lie_truth = get_acc_subset(\n",
    "        df_test, \"instructed_to_lie==True & ans!=label_instructed\", verbose=verbose\n",
    "    )\n",
    "\n",
    "    a = get_acc_subset(\n",
    "        df_test, \"instructed_to_lie==False & ans==label_instructed\", verbose=False\n",
    "    )\n",
    "    b = get_acc_subset(\n",
    "        df_test, \"instructed_to_lie==False & ans!=label_instructed\", verbose=False\n",
    "    )\n",
    "    c = get_acc_subset(\n",
    "        df_test, \"instructed_to_lie==True & ans==label_instructed\", verbose=False\n",
    "    )\n",
    "    d = get_acc_subset(\n",
    "        df_test, \"instructed_to_lie==True & ans!=label_instructed\", verbose=False\n",
    "    )\n",
    "\n",
    "    df_quad = pd.DataFrame(\n",
    "        [[a, b], [c, d]],\n",
    "        index=[\"tell a truth\", \"tell a lie\"],\n",
    "        columns=[\"did\", \"didn't\"],\n",
    "    )\n",
    "    df_quad.index.name = \"instructed to\"\n",
    "    df_quad.columns.name = \"llm gave\"\n",
    "\n",
    "    if verbose:\n",
    "        print(f\"⭐PRIMARY METRIC⭐ acc={acc:2.2%} from probe on {split}\")\n",
    "        print(\n",
    "            f\"⭐SECONDARY METRIC⭐ acc_lie_lie={acc_lie_lie:2.2%} from probe on {split}\"\n",
    "        )\n",
    "\n",
    "    print(\"\\n\\nprobe accuracy for quadrants (doesn't need to add up):\")\n",
    "    print(df_quad.round(2).to_markdown())\n",
    "    print(\"\\n\\n\")\n",
    "\n",
    "    return dict(\n",
    "        acc=acc,\n",
    "        acc_lie_lie=acc_lie_lie,\n",
    "        acc_lie_truth=acc_lie_truth,\n",
    "        df_test=df_test,\n",
    "        df_confusion=df_quad,\n",
    "    )\n",
    "\n",
    "\n",
    "# r = testval_metrics = calc_metrics(dm, net)\n",
    "# r['df_test']"
   ]
  },
  {
   "cell_type": "code",
   "execution_count": null,
   "metadata": {},
   "outputs": [],
   "source": [
    "# visualize latent space\n",
    "from matplotlib import cm\n",
    "\n",
    "\n",
    "def plot_latent(latent):\n",
    "    # plot image of latent space \n",
    "    vmax = latent.abs().max()\n",
    "    for i in range(4): # first 4 batches\n",
    "        plt.subplot(2, 2, i + 1)\n",
    "        vmax = latent[i].max()\n",
    "        plt.imshow(\n",
    "            latent[i],\n",
    "            cmap=cm.coolwarm,\n",
    "            interpolation=\"none\",\n",
    "            aspect=\"auto\",\n",
    "            vmin=-vmax,\n",
    "            vmax=vmax,\n",
    "        )\n",
    "        plt.title(f\"batch {i}\")\n",
    "        plt.ylabel(\"layer\")\n",
    "        plt.xlabel(\"neuron\")\n",
    "        if i < 2:\n",
    "            plt.xlabel(\"\")\n",
    "            plt.xticks([])\n",
    "        if i % 2 == 1:\n",
    "            plt.ylabel(\"\")\n",
    "            plt.yticks([])\n",
    "        plt.grid(False)\n",
    "        plt.colorbar()\n",
    "    # plt.colorbar()\n",
    "    plt.subplots_adjust(wspace=0.05, hspace=0.05)\n",
    "    plt.show()\n",
    "\n",
    "    # histogram\n",
    "    latentf = rearrange(latent, \"b l n -> (b n) l\").T#.flatten()\n",
    "    print(latentf.shape)\n",
    "    for i in range(latent.shape[1]):\n",
    "        plt.hist(latentf[i], bins=25,\n",
    "                histtype=\"step\", log=True, label=f\"layer {i}\", density=True)\n",
    "    plt.title(\"latents by layer\")\n",
    "    plt.xlabel('latent magnitude')\n",
    "    plt.legend()\n",
    "    plt.show()\n",
    "\n",
    "# plot_latent(latent)"
   ]
  },
  {
   "cell_type": "code",
   "execution_count": null,
   "metadata": {},
   "outputs": [],
   "source": [
    "\n",
    "def partial_load_from_pl_checkpoint(net, f, allowed_prefixes = ['ae.', 'norm.']):\n",
    "    sd = torch.load(open(f, 'rb'))['state_dict']\n",
    "    \n",
    "    sd2 = {k: v for k, v in sd.items() if any(k.startswith(p) for p in allowed_prefixes)}\n",
    "    print(net.load_state_dict(sd2, strict=False))\n",
    "    \n",
    "# partial_load_from_pl_checkpoint(net2, LOAD_CHECKPONT)"
   ]
  },
  {
   "cell_type": "code",
   "execution_count": null,
   "metadata": {},
   "outputs": [],
   "source": [
    "from src.helpers.lightning import read_metrics_csv, plot_hist, rename_pl_test_results"
   ]
  },
  {
   "cell_type": "markdown",
   "metadata": {},
   "source": [
    "# Model"
   ]
  },
  {
   "cell_type": "code",
   "execution_count": null,
   "metadata": {},
   "outputs": [],
   "source": [
    "from src.vae.tae import PL_TAE"
   ]
  },
  {
   "cell_type": "markdown",
   "metadata": {},
   "source": [
    "# Train"
   ]
  },
  {
   "cell_type": "code",
   "execution_count": null,
   "metadata": {},
   "outputs": [],
   "source": []
  },
  {
   "cell_type": "markdown",
   "metadata": {},
   "source": [
    "### Setup"
   ]
  },
  {
   "cell_type": "code",
   "execution_count": 149,
   "metadata": {},
   "outputs": [
    {
     "name": "stdout",
     "output_type": "stream",
     "text": [
      "10 5\n",
      "torch.Size([32, 5, 23040]) x\n"
     ]
    }
   ],
   "source": [
    "print(len(dl_train), len(dl_val))\n",
    "b = next(iter(dl_train))\n",
    "x, y = b  # b['X'], b['y']\n",
    "print(x.shape, \"x\")\n",
    "if x.ndim == 3:\n",
    "    x = x.unsqueeze(-1)\n",
    "c_in = x.shape[1:-1]"
   ]
  },
  {
   "cell_type": "code",
   "execution_count": null,
   "metadata": {},
   "outputs": [],
   "source": []
  },
  {
   "cell_type": "code",
   "execution_count": 150,
   "metadata": {},
   "outputs": [
    {
     "name": "stdout",
     "output_type": "stream",
     "text": [
      "PL_TAE(\n",
      "  (tae): TokenizedAutoEncoder(\n",
      "    (tokenizer): Tokenizer(\n",
      "      (encoder): Encoder(\n",
      "        (encoder): Sequential(\n",
      "          (0): NormedLinears(\n",
      "            (linears): ModuleList(\n",
      "              (0-4): 5 x NormedLinear(in_features=23040, out_features=16, bias=False)\n",
      "            )\n",
      "            (act): ReLU()\n",
      "          )\n",
      "          (1): NormedLinears(\n",
      "            (linears): ModuleList(\n",
      "              (0-4): 5 x NormedLinear(in_features=16, out_features=16, bias=False)\n",
      "            )\n",
      "            (act): ReLU()\n",
      "          )\n",
      "          (2): NormedLinears(\n",
      "            (linears): ModuleList(\n",
      "              (0-4): 5 x NormedLinear(in_features=16, out_features=16, bias=True)\n",
      "            )\n",
      "            (act): ReLU()\n",
      "          )\n",
      "          (3): Rearrange('b l f -> b (l f)')\n",
      "          (4): Linear(in_features=80, out_features=80, bias=True)\n",
      "          (5): Rearrange('b (l f) -> b l f', l=5)\n",
      "          (6): NormedLinears(\n",
      "            (linears): ModuleList(\n",
      "              (0-4): 5 x NormedLinear(in_features=16, out_features=384, bias=True)\n",
      "            )\n",
      "          )\n",
      "        )\n",
      "      )\n",
      "      (embedding): Embedding(32, 32)\n",
      "      (decoder): Decoder(\n",
      "        (decoder): Sequential(\n",
      "          (0): NormedLinears(\n",
      "            (linears): ModuleList(\n",
      "              (0-4): 5 x NormedLinear(in_features=384, out_features=16, bias=True)\n",
      "            )\n",
      "            (act): ReLU()\n",
      "          )\n",
      "          (1): NormedLinears(\n",
      "            (linears): ModuleList(\n",
      "              (0-4): 5 x NormedLinear(in_features=16, out_features=16, bias=True)\n",
      "            )\n",
      "            (act): ReLU()\n",
      "          )\n",
      "          (2): NormedLinears(\n",
      "            (linears): ModuleList(\n",
      "              (0-4): 5 x NormedLinear(in_features=16, out_features=16, bias=True)\n",
      "            )\n",
      "            (act): ReLU()\n",
      "          )\n",
      "          (3): Rearrange('b l f -> b (l f)')\n",
      "          (4): Linear(in_features=80, out_features=80, bias=True)\n",
      "          (5): Rearrange('b (l f) -> b l f', l=5)\n",
      "          (6): NormedLinears(\n",
      "            (linears): ModuleList(\n",
      "              (0-4): 5 x NormedLinear(in_features=16, out_features=23040, bias=True)\n",
      "            )\n",
      "          )\n",
      "        )\n",
      "      )\n",
      "      (norm): Affines(\n",
      "        (affines): ModuleList(\n",
      "          (0-4): 5 x AffineInstanceNorm1d(23040, eps=1e-05, momentum=0.1, affine=False, track_running_stats=True)\n",
      "        )\n",
      "      )\n",
      "    )\n",
      "  )\n",
      ")\n"
     ]
    }
   ],
   "source": [
    "net = PL_TAE(\n",
    "    c_in=c_in,\n",
    "    steps_per_epoch=len(dl_train),\n",
    "    max_epochs=max_ae_epochs,\n",
    "    lr=lr,\n",
    "    encoder_sizes=[16,16, 16],\n",
    "    weight_decay=wd,\n",
    "    n_latent=32,  # there will be layers * n_latent latent features\n",
    "    importance_matrix=importance_matrix,\n",
    "    tokens_per_layer=12,\n",
    "    probe_embedd_dim=128,\n",
    ")\n",
    "print(net)"
   ]
  },
  {
   "cell_type": "code",
   "execution_count": null,
   "metadata": {},
   "outputs": [],
   "source": []
  },
  {
   "cell_type": "code",
   "execution_count": 151,
   "metadata": {},
   "outputs": [
    {
     "name": "stdout",
     "output_type": "stream",
     "text": [
      "torch.Size([5, 23040])\n"
     ]
    }
   ],
   "source": [
    "print(c_in)\n",
    "x1 = x[..., 0]\n",
    "with torch.no_grad():\n",
    "    y = net(x1)\n",
    "# {k: v.abs().mean() for k, v in y.items()}, {k: v.shape for k, v in y.items()}\n",
    "# y"
   ]
  },
  {
   "cell_type": "code",
   "execution_count": 152,
   "metadata": {},
   "outputs": [
    {
     "data": {
      "text/plain": [
       "==================================================================================================================================\n",
       "Layer (type:depth-idx)                                  Input Shape               Output Shape              Param #\n",
       "==================================================================================================================================\n",
       "PL_TAE                                                  [32, 5, 23040]            --                        --\n",
       "├─TokenizedAutoEncoder: 1-1                             --                        --                        --\n",
       "│    └─Tokenizer: 2-1                                   --                        --                        (recursive)\n",
       "│    │    └─Encoder: 3-1                                [32, 5, 23040]            [32, 5, 384]              41,760\n",
       "│    │    │    └─Sequential: 4-16                       --                        --                        (recursive)\n",
       "│    │    └─Decoder: 3-16                               --                        --                        (recursive)\n",
       "│    │    │    └─Sequential: 4-17                       --                        --                        (recursive)\n",
       "│    │    └─Encoder: 3-17                               --                        --                        (recursive)\n",
       "│    │    │    └─Sequential: 4-16                       --                        --                        (recursive)\n",
       "│    │    └─Decoder: 3-16                               --                        --                        (recursive)\n",
       "│    │    │    └─Sequential: 4-17                       --                        --                        (recursive)\n",
       "│    │    └─Encoder: 3-17                               --                        --                        (recursive)\n",
       "│    │    │    └─Sequential: 4-16                       --                        --                        (recursive)\n",
       "│    │    └─Decoder: 3-16                               --                        --                        (recursive)\n",
       "│    │    │    └─Sequential: 4-17                       --                        --                        (recursive)\n",
       "│    │    └─Encoder: 3-17                               --                        --                        (recursive)\n",
       "│    │    │    └─Sequential: 4-16                       --                        --                        (recursive)\n",
       "│    │    └─Embedding: 3-8                              [1920]                    [1920, 32]                1,024\n",
       "│    │    └─Decoder: 3-9                                [32, 5, 384]              [32, 5, 23040]            --\n",
       "│    │    │    └─Sequential: 4-17                       --                        --                        (recursive)\n",
       "│    └─Tokenizer: 2-2                                   [32, 5, 23040]            [32, 5, 32, 12]           3,884,384\n",
       "│    │    └─Affines: 3-10                               [32, 5, 23040]            [32, 5, 23040]            --\n",
       "│    │    │    └─ModuleList: 4-9                        --                        --                        --\n",
       "│    │    └─Encoder: 3-11                               [32, 5, 23040]            [32, 5, 384]              (recursive)\n",
       "│    │    │    └─Sequential: 4-16                       --                        --                        (recursive)\n",
       "│    │    └─Decoder: 3-16                               --                        --                        (recursive)\n",
       "│    │    │    └─Sequential: 4-17                       --                        --                        (recursive)\n",
       "│    │    └─Encoder: 3-17                               --                        --                        (recursive)\n",
       "│    │    │    └─Sequential: 4-16                       --                        --                        (recursive)\n",
       "│    │    └─Decoder: 3-16                               --                        --                        (recursive)\n",
       "│    │    │    └─Sequential: 4-17                       --                        --                        (recursive)\n",
       "│    │    └─Encoder: 3-17                               --                        --                        (recursive)\n",
       "│    │    │    └─Sequential: 4-16                       --                        --                        (recursive)\n",
       "│    │    └─Decoder: 3-16                               --                        --                        (recursive)\n",
       "│    │    │    └─Sequential: 4-17                       --                        --                        (recursive)\n",
       "│    │    └─Encoder: 3-17                               --                        --                        (recursive)\n",
       "│    │    │    └─Sequential: 4-16                       --                        --                        (recursive)\n",
       "│    │    └─Embedding: 3-18                             [1920]                    [1920, 32]                (recursive)\n",
       "│    │    └─Decoder: 3-19                               [32, 5, 384]              [32, 5, 23040]            (recursive)\n",
       "│    │    │    └─Sequential: 4-17                       --                        --                        (recursive)\n",
       "==================================================================================================================================\n",
       "Total params: 7,810,528\n",
       "Trainable params: 7,810,528\n",
       "Non-trainable params: 0\n",
       "Total mult-adds (Units.MEGABYTES): 252.47\n",
       "==================================================================================================================================\n",
       "Input size (MB): 14.75\n",
       "Forward/backward pass size (MB): 61.28\n",
       "Params size (MB): 15.54\n",
       "Estimated Total Size (MB): 91.56\n",
       "=================================================================================================================================="
      ]
     },
     "execution_count": 152,
     "metadata": {},
     "output_type": "execute_result"
    }
   ],
   "source": [
    "from torchinfo import summary\n",
    "\n",
    "summary(net, input_data=x1, depth=4, col_names=(\"input_size\", \"output_size\", \"num_params\",))  # input_size=(batch_size, 1, 28, 28))"
   ]
  },
  {
   "cell_type": "markdown",
   "metadata": {},
   "source": [
    "### Train autoencoder"
   ]
  },
  {
   "cell_type": "code",
   "execution_count": 153,
   "metadata": {},
   "outputs": [],
   "source": [
    "torch.set_float32_matmul_precision(\"medium\")"
   ]
  },
  {
   "cell_type": "code",
   "execution_count": 154,
   "metadata": {},
   "outputs": [],
   "source": [
    "# with torch.no_grad():\n",
    "#     o = net.predict_step(b)\n",
    "#     l1_loss, l2_loss, loss, acts, h_reconstructed = net.ae(b[0])\n",
    "#     # l1_loss, l2_loss, loss, latent, h_rec = self.ae(x)"
   ]
  },
  {
   "cell_type": "code",
   "execution_count": 155,
   "metadata": {},
   "outputs": [
    {
     "name": "stderr",
     "output_type": "stream",
     "text": [
      "LOCAL_RANK: 0 - CUDA_VISIBLE_DEVICES: [0,1]\n",
      "\n",
      "  | Name | Type                 | Params\n",
      "----------------------------------------------\n",
      "0 | tae  | TokenizedAutoEncoder | 3.9 M \n",
      "----------------------------------------------\n",
      "3.9 M     Trainable params\n",
      "0         Non-trainable params\n",
      "3.9 M     Total params\n",
      "15.538    Total estimated model params size (MB)\n"
     ]
    },
    {
     "data": {
      "image/png": "[encoded data removed]",
      "text/plain": [
       "<Figure size 500x200 with 1 Axes>"
      ]
     },
     "metadata": {},
     "output_type": "display_data"
    },
    {
     "data": {
      "image/png": "[encoded data removed]",
      "text/plain": [
       "<Figure size 500x200 with 1 Axes>"
      ]
     },
     "metadata": {},
     "output_type": "display_data"
    },
    {
     "data": {
      "text/html": [
       "<div>\n",
       "<style scoped>\n",
       "    .dataframe tbody tr th:only-of-type {\n",
       "        vertical-align: middle;\n",
       "    }\n",
       "\n",
       "    .dataframe tbody tr th {\n",
       "        vertical-align: top;\n",
       "    }\n",
       "\n",
       "    .dataframe thead th {\n",
       "        text-align: right;\n",
       "    }\n",
       "</style>\n",
       "<table border=\"1\" class=\"dataframe\">\n",
       "  <thead>\n",
       "    <tr style=\"text-align: right;\">\n",
       "      <th></th>\n",
       "      <th>step</th>\n",
       "      <th>train/loss_rec_step</th>\n",
       "      <th>val/loss_rec_step</th>\n",
       "      <th>val/reconstruction_loss</th>\n",
       "      <th>val/commitment_loss</th>\n",
       "      <th>val/loss_rec_epoch</th>\n",
       "      <th>val/n</th>\n",
       "      <th>train/loss_rec_epoch</th>\n",
       "      <th>train/n</th>\n",
       "      <th>train/commitment_loss</th>\n",
       "      <th>train/reconstruction_loss</th>\n",
       "    </tr>\n",
       "    <tr>\n",
       "      <th>epoch</th>\n",
       "      <th></th>\n",
       "      <th></th>\n",
       "      <th></th>\n",
       "      <th></th>\n",
       "      <th></th>\n",
       "      <th></th>\n",
       "      <th></th>\n",
       "      <th></th>\n",
       "      <th></th>\n",
       "      <th></th>\n",
       "      <th></th>\n",
       "    </tr>\n",
       "  </thead>\n",
       "  <tbody>\n",
       "    <tr>\n",
       "      <th>0.0</th>\n",
       "      <td>9</td>\n",
       "      <td>1.524678</td>\n",
       "      <td>1.495484</td>\n",
       "      <td>1.442630</td>\n",
       "      <td>0.061311</td>\n",
       "      <td>1.503941</td>\n",
       "      <td>154.0</td>\n",
       "      <td>1.646295</td>\n",
       "      <td>307.0</td>\n",
       "      <td>0.056568</td>\n",
       "      <td>1.589727</td>\n",
       "    </tr>\n",
       "    <tr>\n",
       "      <th>1.0</th>\n",
       "      <td>19</td>\n",
       "      <td>1.685009</td>\n",
       "      <td>1.561904</td>\n",
       "      <td>1.383318</td>\n",
       "      <td>0.206054</td>\n",
       "      <td>1.589372</td>\n",
       "      <td>154.0</td>\n",
       "      <td>1.615752</td>\n",
       "      <td>307.0</td>\n",
       "      <td>0.176402</td>\n",
       "      <td>1.439350</td>\n",
       "    </tr>\n",
       "    <tr>\n",
       "      <th>2.0</th>\n",
       "      <td>29</td>\n",
       "      <td>1.995583</td>\n",
       "      <td>1.762561</td>\n",
       "      <td>1.342355</td>\n",
       "      <td>0.483472</td>\n",
       "      <td>1.825827</td>\n",
       "      <td>154.0</td>\n",
       "      <td>1.869842</td>\n",
       "      <td>307.0</td>\n",
       "      <td>0.473846</td>\n",
       "      <td>1.395996</td>\n",
       "    </tr>\n",
       "    <tr>\n",
       "      <th>3.0</th>\n",
       "      <td>39</td>\n",
       "      <td>1.805062</td>\n",
       "      <td>1.625632</td>\n",
       "      <td>1.286682</td>\n",
       "      <td>0.375052</td>\n",
       "      <td>1.661734</td>\n",
       "      <td>154.0</td>\n",
       "      <td>1.992633</td>\n",
       "      <td>307.0</td>\n",
       "      <td>0.646676</td>\n",
       "      <td>1.345957</td>\n",
       "    </tr>\n",
       "    <tr>\n",
       "      <th>4.0</th>\n",
       "      <td>49</td>\n",
       "      <td>1.384649</td>\n",
       "      <td>1.332093</td>\n",
       "      <td>1.203268</td>\n",
       "      <td>0.157576</td>\n",
       "      <td>1.360844</td>\n",
       "      <td>154.0</td>\n",
       "      <td>1.555725</td>\n",
       "      <td>307.0</td>\n",
       "      <td>0.277266</td>\n",
       "      <td>1.278459</td>\n",
       "    </tr>\n",
       "    <tr>\n",
       "      <th>...</th>\n",
       "      <td>...</td>\n",
       "      <td>...</td>\n",
       "      <td>...</td>\n",
       "      <td>...</td>\n",
       "      <td>...</td>\n",
       "      <td>...</td>\n",
       "      <td>...</td>\n",
       "      <td>...</td>\n",
       "      <td>...</td>\n",
       "      <td>...</td>\n",
       "      <td>...</td>\n",
       "    </tr>\n",
       "    <tr>\n",
       "      <th>79.0</th>\n",
       "      <td>799</td>\n",
       "      <td>0.344620</td>\n",
       "      <td>0.396280</td>\n",
       "      <td>0.367915</td>\n",
       "      <td>0.032448</td>\n",
       "      <td>0.400363</td>\n",
       "      <td>154.0</td>\n",
       "      <td>0.379191</td>\n",
       "      <td>307.0</td>\n",
       "      <td>0.047534</td>\n",
       "      <td>0.331657</td>\n",
       "    </tr>\n",
       "    <tr>\n",
       "      <th>80.0</th>\n",
       "      <td>809</td>\n",
       "      <td>0.343785</td>\n",
       "      <td>0.396259</td>\n",
       "      <td>0.367883</td>\n",
       "      <td>0.032483</td>\n",
       "      <td>0.400366</td>\n",
       "      <td>154.0</td>\n",
       "      <td>0.378754</td>\n",
       "      <td>307.0</td>\n",
       "      <td>0.047432</td>\n",
       "      <td>0.331323</td>\n",
       "    </tr>\n",
       "    <tr>\n",
       "      <th>81.0</th>\n",
       "      <td>819</td>\n",
       "      <td>0.342586</td>\n",
       "      <td>0.396374</td>\n",
       "      <td>0.367707</td>\n",
       "      <td>0.032564</td>\n",
       "      <td>0.400272</td>\n",
       "      <td>154.0</td>\n",
       "      <td>0.378691</td>\n",
       "      <td>307.0</td>\n",
       "      <td>0.047450</td>\n",
       "      <td>0.331240</td>\n",
       "    </tr>\n",
       "    <tr>\n",
       "      <th>82.0</th>\n",
       "      <td>829</td>\n",
       "      <td>0.342572</td>\n",
       "      <td>0.396325</td>\n",
       "      <td>0.367702</td>\n",
       "      <td>0.032547</td>\n",
       "      <td>0.400249</td>\n",
       "      <td>154.0</td>\n",
       "      <td>0.378756</td>\n",
       "      <td>307.0</td>\n",
       "      <td>0.047440</td>\n",
       "      <td>0.331316</td>\n",
       "    </tr>\n",
       "    <tr>\n",
       "      <th>83.0</th>\n",
       "      <td>839</td>\n",
       "      <td>0.342560</td>\n",
       "      <td>0.396327</td>\n",
       "      <td>0.367705</td>\n",
       "      <td>0.032544</td>\n",
       "      <td>0.400249</td>\n",
       "      <td>154.0</td>\n",
       "      <td>0.378739</td>\n",
       "      <td>307.0</td>\n",
       "      <td>0.047434</td>\n",
       "      <td>0.331305</td>\n",
       "    </tr>\n",
       "  </tbody>\n",
       "</table>\n",
       "<p>84 rows × 11 columns</p>\n",
       "</div>"
      ],
      "text/plain": [
       "       step  train/loss_rec_step  val/loss_rec_step  val/reconstruction_loss  \\\n",
       "epoch                                                                          \n",
       "0.0       9             1.524678           1.495484                 1.442630   \n",
       "1.0      19             1.685009           1.561904                 1.383318   \n",
       "2.0      29             1.995583           1.762561                 1.342355   \n",
       "3.0      39             1.805062           1.625632                 1.286682   \n",
       "4.0      49             1.384649           1.332093                 1.203268   \n",
       "...     ...                  ...                ...                      ...   \n",
       "79.0    799             0.344620           0.396280                 0.367915   \n",
       "80.0    809             0.343785           0.396259                 0.367883   \n",
       "81.0    819             0.342586           0.396374                 0.367707   \n",
       "82.0    829             0.342572           0.396325                 0.367702   \n",
       "83.0    839             0.342560           0.396327                 0.367705   \n",
       "\n",
       "       val/commitment_loss  val/loss_rec_epoch  val/n  train/loss_rec_epoch  \\\n",
       "epoch                                                                         \n",
       "0.0               0.061311            1.503941  154.0              1.646295   \n",
       "1.0               0.206054            1.589372  154.0              1.615752   \n",
       "2.0               0.483472            1.825827  154.0              1.869842   \n",
       "3.0               0.375052            1.661734  154.0              1.992633   \n",
       "4.0               0.157576            1.360844  154.0              1.555725   \n",
       "...                    ...                 ...    ...                   ...   \n",
       "79.0              0.032448            0.400363  154.0              0.379191   \n",
       "80.0              0.032483            0.400366  154.0              0.378754   \n",
       "81.0              0.032564            0.400272  154.0              0.378691   \n",
       "82.0              0.032547            0.400249  154.0              0.378756   \n",
       "83.0              0.032544            0.400249  154.0              0.378739   \n",
       "\n",
       "       train/n  train/commitment_loss  train/reconstruction_loss  \n",
       "epoch                                                             \n",
       "0.0      307.0               0.056568                   1.589727  \n",
       "1.0      307.0               0.176402                   1.439350  \n",
       "2.0      307.0               0.473846                   1.395996  \n",
       "3.0      307.0               0.646676                   1.345957  \n",
       "4.0      307.0               0.277266                   1.278459  \n",
       "...        ...                    ...                        ...  \n",
       "79.0     307.0               0.047534                   0.331657  \n",
       "80.0     307.0               0.047432                   0.331323  \n",
       "81.0     307.0               0.047450                   0.331240  \n",
       "82.0     307.0               0.047440                   0.331316  \n",
       "83.0     307.0               0.047434                   0.331305  \n",
       "\n",
       "[84 rows x 11 columns]"
      ]
     },
     "metadata": {},
     "output_type": "display_data"
    }
   ],
   "source": [
    "\n",
    "trainer1 = pl.Trainer(\n",
    "    precision=\"16-mixed\",\n",
    "    gradient_clip_val=20,\n",
    "    accelerator=\"auto\",\n",
    "    devices=\"1\",\n",
    "    max_epochs=max_ae_epochs,\n",
    "    log_every_n_steps=1,\n",
    "    enable_progress_bar=verbose,\n",
    "    # enable_model_summary=verbose,\n",
    ")\n",
    "\n",
    "LOAD_CHECKPONT='/media/wassname/SGIronWolf/projects5/elk/sgd_probes_are_lie_detectors/notebooks/lightning_logs/version_377/checkpoints/epoch=83-step=840.ckpt'\n",
    "LOAD_AE_SAFETENSORS = '/media/wassname/SGIronWolf/projects5/elk/sgd_probes_are_lie_detectors/notebooks/lightning_logs/version_377/ae.safetensors'\n",
    "\n",
    "LOAD_CHECKPONT = None\n",
    "LOAD_AE_SAFETENSORS = None # good for when probe changed but no ae\n",
    "if LOAD_AE_SAFETENSORS is not None:\n",
    "    print(f\"loading ae from {LOAD_AE_SAFETENSORS}\")\n",
    "    # net.ae.load_state_dict(safetensors.torch.load_file(LOAD_AE_SAFETENSORS))\n",
    "    partial_load_from_pl_checkpoint(net, LOAD_CHECKPONT)\n",
    "elif LOAD_CHECKPONT:\n",
    "    print(f\"loading from {LOAD_CHECKPONT}\")\n",
    "    net = PL_TAE.load_from_checkpoint(LOAD_CHECKPONT)\n",
    "\n",
    "else:\n",
    "    trainer1.fit(model=net, train_dataloaders=dl_train, val_dataloaders=dl_val)\n",
    "    df_hist, df_hist_step = read_metrics_csv(\n",
    "        trainer1.logger.experiment.metrics_file_path\n",
    "    )\n",
    "    plot_hist(df_hist, [\"reconstruction_loss\", \"commitment_loss\", \"loss_rec\"], logy=True)\n",
    "    # plt.show()\n",
    "    # plot_hist(df_hist_step, ['loss_rec_step'], logy=True)\n",
    "    display(df_hist)\n",
    "    df_hist, df_hist_step = read_metrics_csv(trainer1.logger.experiment.metrics_file_path)"
   ]
  },
  {
   "cell_type": "code",
   "execution_count": 156,
   "metadata": {},
   "outputs": [],
   "source": [
    "# plot_hist(df_hist, [\"reconstruction_loss\", \"commitment_loss\", \"loss_rec\"], logy=True)"
   ]
  },
  {
   "cell_type": "code",
   "execution_count": 157,
   "metadata": {},
   "outputs": [
    {
     "name": "stderr",
     "output_type": "stream",
     "text": [
      "LOCAL_RANK: 0 - CUDA_VISIBLE_DEVICES: [0,1]\n"
     ]
    },
    {
     "name": "stdout",
     "output_type": "stream",
     "text": [
      "|                     |   train |     val |    test |     ood |\n",
      "|:--------------------|--------:|--------:|--------:|--------:|\n",
      "| loss_rec_epoch      |   0.382 |   0.4   |   0.375 |   0.385 |\n",
      "| commitment_loss     |   0.047 |   0.033 |   0.028 |   0.038 |\n",
      "| reconstruction_loss |   0.336 |   0.368 |   0.347 |   0.347 |\n",
      "| n                   | 307     | 154     | 154     | 615     |\n"
     ]
    }
   ],
   "source": [
    "# note, loss, should be <1\n",
    "rs3r = trainer1.test(\n",
    "    net, dataloaders=[dl_train, dl_val, dl, dl_ood], verbose=False\n",
    ")\n",
    "rs3 = rename_pl_test_results(rs3r, [\"train\", \"val\", \"test\", \"ood\"])"
   ]
  },
  {
   "cell_type": "code",
   "execution_count": 158,
   "metadata": {},
   "outputs": [
    {
     "name": "stdout",
     "output_type": "stream",
     "text": [
      "LOAD_CHECKPONT='/media/wassname/SGIronWolf/projects5/elk/sgd_probes_are_lie_detectors/notebooks/lightning_logs/version_483/checkpoints/epoch=83-step=840.ckpt'\n",
      "LOAD_AE_SAFETENSORS = '/media/wassname/SGIronWolf/projects5/elk/sgd_probes_are_lie_detectors/notebooks/lightning_logs/version_483/tae.safetensors'\n"
     ]
    }
   ],
   "source": [
    "best_model_path = trainer1.checkpoint_callback.best_model_path\n",
    "print(f\"LOAD_CHECKPONT='{best_model_path}'\")\n",
    "\n",
    "f = trainer1.log_dir + \"/tae.safetensors\"\n",
    "safetensors.torch.save_file(net.tae.state_dict(), f)\n",
    "print(f\"LOAD_AE_SAFETENSORS = '{f}'\")"
   ]
  },
  {
   "cell_type": "code",
   "execution_count": 159,
   "metadata": {},
   "outputs": [],
   "source": [
    "# # QC: check loading\n",
    "# net2 = PL_TAE(\n",
    "#     c_in=c_in,\n",
    "#     steps_per_epoch=len(dl_train),\n",
    "#     max_epochs=max_epochs,\n",
    "#     lr=lr,\n",
    "#     dropout=0.2,\n",
    "#     encoder_sizes=[64,64, 64, 64],\n",
    "#     weight_decay=wd,\n",
    "#     n_latent=512,  # there will be layers * n_latent latent features\n",
    "#     importance_matrix=importance_matrix,\n",
    "#     tokens_per_layer=6,\n",
    "#     probe_embedd_dim=512,\n",
    "# )\n",
    "# net2.ae_mode(0)\n",
    "# partial_load_from_pl_checkpoint(net2, LOAD_CHECKPONT)\n",
    "\n",
    "# # note, loss, should be <1\n",
    "# rs3r = trainer1.test(\n",
    "#     net2, dataloaders=[dl_train, dl_val, dl, dl_ood], verbose=False\n",
    "# )\n",
    "# rs3 = rename_pl_test_results(rs3r, [\"train\", \"val\", \"test\", \"ood\"])"
   ]
  },
  {
   "cell_type": "code",
   "execution_count": null,
   "metadata": {},
   "outputs": [],
   "source": []
  },
  {
   "cell_type": "markdown",
   "metadata": {},
   "source": [
    "#### QC"
   ]
  },
  {
   "cell_type": "code",
   "execution_count": 160,
   "metadata": {},
   "outputs": [
    {
     "name": "stdout",
     "output_type": "stream",
     "text": [
      "QC: view latent\n"
     ]
    }
   ],
   "source": [
    "x1 = x[..., 0]\n",
    "with torch.no_grad():\n",
    "    y = net(x1)\n",
    "\n",
    "print('QC: view latent')\n"
   ]
  },
  {
   "cell_type": "code",
   "execution_count": 161,
   "metadata": {},
   "outputs": [
    {
     "name": "stdout",
     "output_type": "stream",
     "text": [
      "z before quant\n"
     ]
    },
    {
     "data": {
      "image/png": "[encoded data removed]",
      "text/plain": [
       "<Figure size 400x300 with 8 Axes>"
      ]
     },
     "metadata": {},
     "output_type": "display_data"
    },
    {
     "name": "stdout",
     "output_type": "stream",
     "text": [
      "torch.Size([5, 1024])\n"
     ]
    },
    {
     "data": {
      "image/png": "[encoded data removed]",
      "text/plain": [
       "<Figure size 400x300 with 1 Axes>"
      ]
     },
     "metadata": {},
     "output_type": "display_data"
    }
   ],
   "source": [
    "print('z before quant')\n",
    "plot_latent(y['z'][..., 0]) \n"
   ]
  },
  {
   "cell_type": "code",
   "execution_count": null,
   "metadata": {},
   "outputs": [],
   "source": []
  },
  {
   "cell_type": "code",
   "execution_count": 162,
   "metadata": {},
   "outputs": [
    {
     "name": "stdout",
     "output_type": "stream",
     "text": [
      "z after quant\n"
     ]
    },
    {
     "data": {
      "image/png": "[encoded data removed]",
      "text/plain": [
       "<Figure size 400x300 with 8 Axes>"
      ]
     },
     "metadata": {},
     "output_type": "display_data"
    },
    {
     "name": "stdout",
     "output_type": "stream",
     "text": [
      "torch.Size([5, 1024])\n"
     ]
    },
    {
     "data": {
      "image/png": "[encoded data removed]",
      "text/plain": [
       "<Figure size 400x300 with 1 Axes>"
      ]
     },
     "metadata": {},
     "output_type": "display_data"
    }
   ],
   "source": [
    "print('z after quant')\n",
    "plot_latent(y['z_q'][..., 0]) \n"
   ]
  },
  {
   "cell_type": "code",
   "execution_count": 163,
   "metadata": {},
   "outputs": [
    {
     "data": {
      "text/plain": [
       "dict_keys(['loss', 'z', 'z_q', 'tokens', 'h_rec', 'commitment_loss', 'reconstruction_loss'])"
      ]
     },
     "execution_count": 163,
     "metadata": {},
     "output_type": "execute_result"
    }
   ],
   "source": [
    "\n",
    "y.keys()\n",
    "# y['z_q'].shape, y['tokens'].shape"
   ]
  },
  {
   "cell_type": "code",
   "execution_count": 164,
   "metadata": {},
   "outputs": [],
   "source": [
    "# print('z_q after embed(z.argmin())')\n",
    "# latent = y[\"latent_probe\"].cpu()  # .reshape(64, 24, 12) # [Batch, Latent, Layer]\n",
    "# plot_latent(latent[..., 0])"
   ]
  },
  {
   "cell_type": "code",
   "execution_count": 165,
   "metadata": {},
   "outputs": [],
   "source": [
    "# sparsity = ((latent!=0) * 1.0).mean()\n",
    "# print(f'QC: latent usage {sparsity:2.2%}')\n",
    "# # sparsity_mult = y['l1_losses']/y['l1_raw']\n",
    "# # print(f'QC: sparsity multiplier per layer {sparsity_mult.mean(0)}')"
   ]
  },
  {
   "cell_type": "code",
   "execution_count": 166,
   "metadata": {},
   "outputs": [
    {
     "name": "stdout",
     "output_type": "stream",
     "text": [
      "torch.Size([32, 5, 12])\n"
     ]
    },
    {
     "data": {
      "text/plain": [
       "<matplotlib.colorbar.Colorbar at 0x7f156845d710>"
      ]
     },
     "execution_count": 166,
     "metadata": {},
     "output_type": "execute_result"
    },
    {
     "data": {
      "image/png": "[encoded data removed]",
      "text/plain": [
       "<Figure size 400x300 with 2 Axes>"
      ]
     },
     "metadata": {},
     "output_type": "display_data"
    }
   ],
   "source": [
    "print(y['tokens'].shape)\n",
    "im = y['tokens']/net.tae.tokenizer.vocab_size\n",
    "# batch, layers, tokens_per_layer\n",
    "\n",
    "plt.imshow(im[0])\n",
    "plt.colorbar()"
   ]
  },
  {
   "cell_type": "markdown",
   "metadata": {},
   "source": [
    "### Train probe"
   ]
  },
  {
   "cell_type": "code",
   "execution_count": 167,
   "metadata": {},
   "outputs": [],
   "source": [
    "# x,y = next(iter(dl_train))\n",
    "# y"
   ]
  },
  {
   "cell_type": "code",
   "execution_count": 168,
   "metadata": {},
   "outputs": [],
   "source": [
    "from einops.layers.torch import Rearrange, Reduce\n",
    "from einops import reduce\n",
    "from src.vae.conv_inception import LinBnDrop\n",
    "from src.vae.tae import PL_TAEProbeBase\n",
    "from src.helpers.layers import HeadBlock\n",
    "    \n",
    "\n",
    "\n",
    "class PL_TAEProbeZQ(PL_TAEProbeBase):    \n",
    "    \"\"\"probe which takes in the quantized latent space.\"\"\"\n",
    "    \n",
    "    def __init__(self, c_in, *args, layers=[], dropout=0, **kwargs):\n",
    "        super().__init__( *args, **kwargs)\n",
    "        tokens_per_layer = self.tae.tokenizer.tokens_per_layer\n",
    "        vocab_size = self.tae.tokenizer.vocab_size\n",
    "        n_layers, n_channels = c_in\n",
    "        n_feats = n_layers * tokens_per_layer * vocab_size\n",
    "        self.head = nn.Sequential(\n",
    "            Rearrange(\"b l h v -> b (l h v)\"),\n",
    "            HeadBlock(n_feats, layers=layers, dropout=dropout),\n",
    "            Rearrange(\"b l -> (b l)\")\n",
    "        )\n",
    "\n",
    "    def forward(self, x):\n",
    "        with torch.no_grad():\n",
    "            o = self.tae.tokenizer.encode(x)        \n",
    "        z, z_q, tokens = o.z, o.z_quantized, o.tokens\n",
    "        logits = self.head(z_q)\n",
    "        y_probs = F.sigmoid(logits)\n",
    "        return y_probs\n",
    "    \n",
    "\n",
    "class PL_TAEProbeToken(PL_TAEProbeBase):\n",
    "    \"\"\"\n",
    "    Probe which embeds and projects tokens\n",
    "    \"\"\"\n",
    "    def __init__(self, c_in, *args, layers=[], dropout=0, **kwargs):\n",
    "        super().__init__(*args, **kwargs)\n",
    "        tokens_per_layer = self.tae.tokenizer.tokens_per_layer\n",
    "        vocab_size = self.tae.tokenizer.vocab_size\n",
    "        n_layers, n_channels = c_in\n",
    "        n_feats = n_layers * tokens_per_layer * vocab_size\n",
    "        \n",
    "        self.head = nn.Sequential(\n",
    "            nn.Embedding(vocab_size, vocab_size, \n",
    "                                        # max_norm=1.0\n",
    "                                        ),\n",
    "            Rearrange(\"b l h v -> b (l h v)\"),  \n",
    "            HeadBlock(n_feats, layers=layers, dropout=dropout),\n",
    "            Rearrange(\"b l -> (b l)\"), \n",
    "        )\n",
    "\n",
    "    def forward(self, x):\n",
    "        with torch.no_grad():\n",
    "            o = self.tae.tokenizer.encode(x)\n",
    "        \n",
    "        z, z_q, tokens = o.z, o.z_quantized, o.tokens\n",
    "        logits = self.head(tokens)\n",
    "        y_probs = F.sigmoid(logits)\n",
    "        return y_probs\n",
    "        \n",
    "        \n",
    "\n",
    "\n",
    "class PL_TAEProbeEmbed(PL_TAEProbeBase):\n",
    "    \"\"\"\n",
    "    Probe which embeds tokens only\n",
    "    \"\"\"\n",
    "    def __init__(self, c_in, *args, **kwargs):\n",
    "        super().__init__(*args, **kwargs)\n",
    "        vocab_size = self.tae.tokenizer.vocab_size\n",
    "        self.head = nn.Sequential(\n",
    "            nn.Embedding(vocab_size, vocab_size, \n",
    "                                        max_norm=1.0\n",
    "                                        ),\n",
    "            Reduce(\"b l h v -> b\", \"max\"),\n",
    "        )\n",
    "\n",
    "    def forward(self, x):\n",
    "        with torch.no_grad():\n",
    "            o = self.tae.tokenizer.encode(x)\n",
    "        \n",
    "        z, z_q, tokens = o.z, o.z_quantized, o.tokens\n",
    "        \n",
    "        y_probs = self.head(tokens)\n",
    "        return y_probs\n",
    "    \n",
    "\n",
    "        \n",
    "class PL_TAEProbeZ(PL_TAEProbeBase):    \n",
    "    \"\"\"probe which takes in the latent space.\"\"\"\n",
    "    \n",
    "    def __init__(self, c_in, *args, layers=[], dropout=0, **kwargs):\n",
    "        super().__init__(*args, **kwargs)\n",
    "        tokens_per_layer = self.tae.tokenizer.tokens_per_layer\n",
    "        vocab_size = self.tae.tokenizer.vocab_size\n",
    "        n_layers, n_channels = c_in\n",
    "        n_feats = n_layers * tokens_per_layer * vocab_size\n",
    "        \n",
    "        self.head = nn.Sequential(\n",
    "            Rearrange(\"b l h v -> b (l h v)\"),\n",
    "            HeadBlock(n_feats, layers=layers, dropout=dropout),\n",
    "            Rearrange(\"b l -> (b l)\")\n",
    "        )\n",
    "\n",
    "    def forward(self, x):\n",
    "        with torch.no_grad():\n",
    "            o = self.tae.tokenizer.encode(x)        \n",
    "        z, z_q, tokens = o.z, o.z_quantized, o.tokens\n",
    "        logits = self.head(z)\n",
    "        y_probs = F.sigmoid(logits)\n",
    "        return y_probs\n",
    "        "
   ]
  },
  {
   "cell_type": "code",
   "execution_count": 169,
   "metadata": {},
   "outputs": [],
   "source": [
    "import sklearn.metrics\n",
    "\n",
    "def get_df_results(dm, net, trainer=None, split=\"test\", verbose=True):\n",
    "    # predict\n",
    "    dl = dm.create_dataloader(split)\n",
    "    dl.shuffle = False\n",
    "    if trainer is None:\n",
    "        trainer = pl.Trainer(\n",
    "            logger=False, enable_progress_bar=False, enable_model_summary=False, barebones=True,\n",
    "        )\n",
    "    rt = trainer.predict(net, dataloaders=dl)\n",
    "    y_test_pred = np.concatenate(rt)\n",
    "\n",
    "    # get original df\n",
    "    splits = dm.splits[split]\n",
    "    print(splits, split)\n",
    "    df = ds2df(dm.ds_orig).rename(columns=lambda s: s.replace(\"_base\", \"\"))\n",
    "    df[\"y\"] = dm.ds[\"y\"]\n",
    "    # print(dm.ds[\"y\"], df[\"binary_ans\"])\n",
    "    # assert (dm.ds[\"y\"]==df[\"binary_ans\"]).all()\n",
    "    np.testing.assert_allclose(dm.ds[\"y\"], df[\"binary_ans\"])\n",
    "    df_test = df.iloc[splits[0] : splits[1]].copy()\n",
    "    df_test[\"probe_pred\"] = y_test_pred\n",
    "    return df_test\n",
    "\n",
    "def get_score(dm, probe, trainer=None, split=\"test\", verbose=True):\n",
    "    df_test = get_df_results(dm, probe, trainer, split, verbose)    \n",
    "    # print(df_test[['y', 'probe_pred']])\n",
    "    roc_auc = sklearn.metrics.roc_auc_score(df_test[\"y\"]>0.5, df_test[\"probe_pred\"])\n",
    "    acc = sklearn.metrics.accuracy_score(df_test[\"y\"]>0.5, df_test[\"probe_pred\"]>0.5)\n",
    "    return dict(roc_auc=roc_auc, acc=acc, n=len(df_test), balance=df_test[\"y\"].mean())\n",
    "\n",
    "def get_scores(dm, probe, trainer=None, verbose=True):\n",
    "    scores = {s:get_score(dm, probe, trainer, split=s, verbose=verbose) for s in ['train', 'val', 'test']}\n",
    "    scores['ood'] = get_score(dm_ood, probe, trainer, split='all', verbose=verbose)\n",
    "    return pd.DataFrame(scores).T"
   ]
  },
  {
   "cell_type": "code",
   "execution_count": 170,
   "metadata": {},
   "outputs": [
    {
     "name": "stderr",
     "output_type": "stream",
     "text": [
      "LOCAL_RANK: 0 - CUDA_VISIBLE_DEVICES: [0,1]\n",
      "\n",
      "  | Name | Type                 | Params\n",
      "----------------------------------------------\n",
      "0 | tae  | TokenizedAutoEncoder | 3.9 M \n",
      "1 | head | Sequential           | 1.0 K \n",
      "----------------------------------------------\n",
      "1.0 K     Trainable params\n",
      "3.9 M     Non-trainable params\n",
      "3.9 M     Total params\n",
      "15.542    Total estimated model params size (MB)\n"
     ]
    },
    {
     "name": "stdout",
     "output_type": "stream",
     "text": [
      "training PL_TAEProbeEmbed\n",
      "Sequential(\n",
      "  (0): Embedding(32, 32, max_norm=1.0)\n",
      "  (1): Reduce('b l h v -> b', 'max')\n",
      ")\n"
     ]
    },
    {
     "data": {
      "image/png": "[encoded data removed]",
      "text/plain": [
       "<Figure size 500x200 with 1 Axes>"
      ]
     },
     "metadata": {},
     "output_type": "display_data"
    },
    {
     "data": {
      "image/png": "[encoded data removed]",
      "text/plain": [
       "<Figure size 500x200 with 1 Axes>"
      ]
     },
     "metadata": {},
     "output_type": "display_data"
    },
    {
     "name": "stderr",
     "output_type": "stream",
     "text": [
      "LOCAL_RANK: 0 - CUDA_VISIBLE_DEVICES: [0,1]\n"
     ]
    },
    {
     "name": "stdout",
     "output_type": "stream",
     "text": [
      "(0, 307) train\n"
     ]
    },
    {
     "name": "stderr",
     "output_type": "stream",
     "text": [
      "LOCAL_RANK: 0 - CUDA_VISIBLE_DEVICES: [0,1]\n"
     ]
    },
    {
     "name": "stdout",
     "output_type": "stream",
     "text": [
      "(307, 461) val\n"
     ]
    },
    {
     "name": "stderr",
     "output_type": "stream",
     "text": [
      "LOCAL_RANK: 0 - CUDA_VISIBLE_DEVICES: [0,1]\n"
     ]
    },
    {
     "name": "stdout",
     "output_type": "stream",
     "text": [
      "(461, 615) test\n"
     ]
    },
    {
     "name": "stderr",
     "output_type": "stream",
     "text": [
      "LOCAL_RANK: 0 - CUDA_VISIBLE_DEVICES: [0,1]\n"
     ]
    },
    {
     "name": "stdout",
     "output_type": "stream",
     "text": [
      "(0, 615) all\n"
     ]
    },
    {
     "name": "stderr",
     "output_type": "stream",
     "text": [
      "LOCAL_RANK: 0 - CUDA_VISIBLE_DEVICES: [0,1]\n",
      "\n",
      "  | Name | Type                 | Params\n",
      "----------------------------------------------\n",
      "0 | tae  | TokenizedAutoEncoder | 3.9 M \n",
      "1 | head | Sequential           | 63.1 K\n",
      "----------------------------------------------\n",
      "63.1 K    Trainable params\n",
      "3.9 M     Non-trainable params\n",
      "3.9 M     Total params\n",
      "15.790    Total estimated model params size (MB)\n"
     ]
    },
    {
     "name": "stdout",
     "output_type": "stream",
     "text": [
      "PL_TAEProbeEmbed\n",
      "|       |   roc_auc |   acc |   n |   balance |\n",
      "|:------|----------:|------:|----:|----------:|\n",
      "| train |     0.514 | 0.528 | 307 |     0.484 |\n",
      "| val   |     0.498 | 0.487 | 154 |     0.545 |\n",
      "| test  |     0.554 | 0.532 | 154 |     0.516 |\n",
      "| ood   |     0.519 | 0.519 | 615 |     0.507 |\n",
      "training PL_TAEProbeToken\n",
      "Sequential(\n",
      "  (0): Embedding(32, 32)\n",
      "  (1): Rearrange('b l h v -> b (l h v)')\n",
      "  (2): HeadBlock(\n",
      "    (head): Sequential(\n",
      "      (0): LinBnDrop(\n",
      "        (lin): Linear(in_features=1920, out_features=32, bias=True)\n",
      "        (bn): BatchNorm1d(32, eps=1e-05, momentum=0.1, affine=True, track_running_stats=True)\n",
      "        (act): ReLU()\n",
      "      )\n",
      "      (1): LinBnDrop(\n",
      "        (lin): Linear(in_features=32, out_features=16, bias=True)\n",
      "        (bn): BatchNorm1d(16, eps=1e-05, momentum=0.1, affine=True, track_running_stats=True)\n",
      "        (act): ReLU()\n",
      "      )\n",
      "      (2): LinBnDrop(\n",
      "        (lin): Linear(in_features=16, out_features=1, bias=True)\n",
      "        (bn): BatchNorm1d(1, eps=1e-05, momentum=0.1, affine=True, track_running_stats=True)\n",
      "        (act): ReLU()\n",
      "      )\n",
      "    )\n",
      "  )\n",
      "  (3): Rearrange('b l -> (b l)')\n",
      ")\n"
     ]
    },
    {
     "data": {
      "image/png": "[encoded data removed]",
      "text/plain": [
       "<Figure size 500x200 with 1 Axes>"
      ]
     },
     "metadata": {},
     "output_type": "display_data"
    },
    {
     "data": {
      "image/png": "[encoded data removed]",
      "text/plain": [
       "<Figure size 500x200 with 1 Axes>"
      ]
     },
     "metadata": {},
     "output_type": "display_data"
    },
    {
     "name": "stderr",
     "output_type": "stream",
     "text": [
      "LOCAL_RANK: 0 - CUDA_VISIBLE_DEVICES: [0,1]\n"
     ]
    },
    {
     "name": "stdout",
     "output_type": "stream",
     "text": [
      "(0, 307) train\n"
     ]
    },
    {
     "name": "stderr",
     "output_type": "stream",
     "text": [
      "LOCAL_RANK: 0 - CUDA_VISIBLE_DEVICES: [0,1]\n"
     ]
    },
    {
     "name": "stdout",
     "output_type": "stream",
     "text": [
      "(307, 461) val\n"
     ]
    },
    {
     "name": "stderr",
     "output_type": "stream",
     "text": [
      "LOCAL_RANK: 0 - CUDA_VISIBLE_DEVICES: [0,1]\n"
     ]
    },
    {
     "name": "stdout",
     "output_type": "stream",
     "text": [
      "(461, 615) test\n"
     ]
    },
    {
     "name": "stderr",
     "output_type": "stream",
     "text": [
      "LOCAL_RANK: 0 - CUDA_VISIBLE_DEVICES: [0,1]\n"
     ]
    },
    {
     "name": "stdout",
     "output_type": "stream",
     "text": [
      "(0, 615) all\n",
      "PL_TAEProbeToken\n",
      "|       |   roc_auc |   acc |   n |   balance |\n",
      "|:------|----------:|------:|----:|----------:|\n",
      "| train |     0.651 | 0.681 | 307 |     0.484 |\n",
      "| val   |     0.544 | 0.494 | 154 |     0.545 |\n",
      "| test  |     0.546 | 0.506 | 154 |     0.516 |\n",
      "| ood   |     0.594 | 0.59  | 615 |     0.507 |\n",
      "training PL_TAEProbeZ\n",
      "Sequential(\n",
      "  (0): Rearrange('b l h v -> b (l h v)')\n",
      "  (1): HeadBlock(\n",
      "    (head): Sequential(\n",
      "      (0): LinBnDrop(\n",
      "        (lin): Linear(in_features=1920, out_features=32, bias=True)\n",
      "        (bn): BatchNorm1d(32, eps=1e-05, momentum=0.1, affine=True, track_running_stats=True)\n",
      "        (act): ReLU()\n",
      "      )\n",
      "      (1): LinBnDrop(\n",
      "        (lin): Linear(in_features=32, out_features=16, bias=True)\n",
      "        (bn): BatchNorm1d(16, eps=1e-05, momentum=0.1, affine=True, track_running_stats=True)\n",
      "        (act): ReLU()\n",
      "      )\n",
      "      (2): LinBnDrop(\n",
      "        (lin): Linear(in_features=16, out_features=1, bias=True)\n",
      "        (bn): BatchNorm1d(1, eps=1e-05, momentum=0.1, affine=True, track_running_stats=True)\n",
      "        (act): ReLU()\n",
      "      )\n",
      "    )\n",
      "  )\n",
      "  (2): Rearrange('b l -> (b l)')\n",
      ")\n"
     ]
    },
    {
     "name": "stderr",
     "output_type": "stream",
     "text": [
      "LOCAL_RANK: 0 - CUDA_VISIBLE_DEVICES: [0,1]\n",
      "\n",
      "  | Name | Type                 | Params\n",
      "----------------------------------------------\n",
      "0 | tae  | TokenizedAutoEncoder | 3.9 M \n",
      "1 | head | Sequential           | 62.1 K\n",
      "----------------------------------------------\n",
      "62.1 K    Trainable params\n",
      "3.9 M     Non-trainable params\n",
      "3.9 M     Total params\n",
      "15.786    Total estimated model params size (MB)\n"
     ]
    },
    {
     "data": {
      "image/png": "[encoded data removed]",
      "text/plain": [
       "<Figure size 500x200 with 1 Axes>"
      ]
     },
     "metadata": {},
     "output_type": "display_data"
    },
    {
     "data": {
      "image/png": "[encoded data removed]",
      "text/plain": [
       "<Figure size 500x200 with 1 Axes>"
      ]
     },
     "metadata": {},
     "output_type": "display_data"
    },
    {
     "name": "stderr",
     "output_type": "stream",
     "text": [
      "LOCAL_RANK: 0 - CUDA_VISIBLE_DEVICES: [0,1]\n"
     ]
    },
    {
     "name": "stdout",
     "output_type": "stream",
     "text": [
      "(0, 307) train\n"
     ]
    },
    {
     "name": "stderr",
     "output_type": "stream",
     "text": [
      "LOCAL_RANK: 0 - CUDA_VISIBLE_DEVICES: [0,1]\n",
      "LOCAL_RANK: 0 - CUDA_VISIBLE_DEVICES: [0,1]\n"
     ]
    },
    {
     "name": "stdout",
     "output_type": "stream",
     "text": [
      "(307, 461) val\n"
     ]
    },
    {
     "name": "stderr",
     "output_type": "stream",
     "text": [
      "LOCAL_RANK: 0 - CUDA_VISIBLE_DEVICES: [0,1]\n"
     ]
    },
    {
     "name": "stdout",
     "output_type": "stream",
     "text": [
      "(461, 615) test\n",
      "(0, 615) all\n",
      "PL_TAEProbeZ\n",
      "|       |   roc_auc |   acc |   n |   balance |\n",
      "|:------|----------:|------:|----:|----------:|\n",
      "| train |     0.567 | 0.609 | 307 |     0.484 |\n",
      "| val   |     0.507 | 0.474 | 154 |     0.545 |\n",
      "| test  |     0.533 | 0.461 | 154 |     0.516 |\n",
      "| ood   |     0.54  | 0.538 | 615 |     0.507 |\n",
      "training PL_TAEProbeZQ\n",
      "Sequential(\n",
      "  (0): Rearrange('b l h v -> b (l h v)')\n",
      "  (1): HeadBlock(\n",
      "    (head): Sequential(\n",
      "      (0): LinBnDrop(\n",
      "        (lin): Linear(in_features=1920, out_features=32, bias=True)\n",
      "        (bn): BatchNorm1d(32, eps=1e-05, momentum=0.1, affine=True, track_running_stats=True)\n",
      "        (act): ReLU()\n",
      "      )\n",
      "      (1): LinBnDrop(\n",
      "        (lin): Linear(in_features=32, out_features=16, bias=True)\n",
      "        (bn): BatchNorm1d(16, eps=1e-05, momentum=0.1, affine=True, track_running_stats=True)\n",
      "        (act): ReLU()\n",
      "      )\n",
      "      (2): LinBnDrop(\n",
      "        (lin): Linear(in_features=16, out_features=1, bias=True)\n",
      "        (bn): BatchNorm1d(1, eps=1e-05, momentum=0.1, affine=True, track_running_stats=True)\n",
      "        (act): ReLU()\n",
      "      )\n",
      "    )\n",
      "  )\n",
      "  (2): Rearrange('b l -> (b l)')\n",
      ")\n"
     ]
    },
    {
     "name": "stderr",
     "output_type": "stream",
     "text": [
      "LOCAL_RANK: 0 - CUDA_VISIBLE_DEVICES: [0,1]\n",
      "\n",
      "  | Name | Type                 | Params\n",
      "----------------------------------------------\n",
      "0 | tae  | TokenizedAutoEncoder | 3.9 M \n",
      "1 | head | Sequential           | 62.1 K\n",
      "----------------------------------------------\n",
      "62.1 K    Trainable params\n",
      "3.9 M     Non-trainable params\n",
      "3.9 M     Total params\n",
      "15.786    Total estimated model params size (MB)\n"
     ]
    },
    {
     "data": {
      "image/png": "[encoded data removed]",
      "text/plain": [
       "<Figure size 500x200 with 1 Axes>"
      ]
     },
     "metadata": {},
     "output_type": "display_data"
    },
    {
     "data": {
      "image/png": "[encoded data removed]",
      "text/plain": [
       "<Figure size 500x200 with 1 Axes>"
      ]
     },
     "metadata": {},
     "output_type": "display_data"
    },
    {
     "name": "stderr",
     "output_type": "stream",
     "text": [
      "LOCAL_RANK: 0 - CUDA_VISIBLE_DEVICES: [0,1]\n"
     ]
    },
    {
     "name": "stdout",
     "output_type": "stream",
     "text": [
      "(0, 307) train\n"
     ]
    },
    {
     "name": "stderr",
     "output_type": "stream",
     "text": [
      "LOCAL_RANK: 0 - CUDA_VISIBLE_DEVICES: [0,1]\n"
     ]
    },
    {
     "name": "stdout",
     "output_type": "stream",
     "text": [
      "(307, 461) val\n"
     ]
    },
    {
     "name": "stderr",
     "output_type": "stream",
     "text": [
      "LOCAL_RANK: 0 - CUDA_VISIBLE_DEVICES: [0,1]\n"
     ]
    },
    {
     "name": "stdout",
     "output_type": "stream",
     "text": [
      "(461, 615) test\n"
     ]
    },
    {
     "name": "stderr",
     "output_type": "stream",
     "text": [
      "LOCAL_RANK: 0 - CUDA_VISIBLE_DEVICES: [0,1]\n"
     ]
    },
    {
     "name": "stdout",
     "output_type": "stream",
     "text": [
      "(0, 615) all\n",
      "PL_TAEProbeZQ\n",
      "|       |   roc_auc |   acc |   n |   balance |\n",
      "|:------|----------:|------:|----:|----------:|\n",
      "| train |     0.797 | 0.743 | 307 |     0.484 |\n",
      "| val   |     0.594 | 0.604 | 154 |     0.545 |\n",
      "| test  |     0.6   | 0.584 | 154 |     0.516 |\n",
      "| ood   |     0.693 | 0.668 | 615 |     0.507 |\n"
     ]
    }
   ],
   "source": [
    "results = {}\n",
    "for cls in [PL_TAEProbeEmbed, PL_TAEProbeToken, PL_TAEProbeZ, PL_TAEProbeZQ]:\n",
    "    model_name = cls.__name__\n",
    "    print('training', model_name)\n",
    "    probe = cls(c_in=c_in, layers=[32, 16], tae=net.tae, steps_per_epoch=len(dl_train), max_epochs=max_epochs, dropout=0.,)\n",
    "    print(probe.head)\n",
    "    trainer2 = pl.Trainer(\n",
    "        precision=\"16-mixed\",\n",
    "        gradient_clip_val=20,\n",
    "        max_epochs=max_epochs,\n",
    "        log_every_n_steps=1,\n",
    "        enable_progress_bar=verbose,\n",
    "        # enable_model_summary=verbose,\n",
    "        # callbacks=[lr_logger],\n",
    "    )\n",
    "    trainer2.fit(model=probe, train_dataloaders=dl_train, val_dataloaders=dl_val)\n",
    "    \n",
    "    df_hist, _ = read_metrics_csv(trainer2.logger.experiment.metrics_file_path)\n",
    "    plot_hist(df_hist, [\"loss_pred_epoch\", \"auroc\"])\n",
    "    \n",
    "    # rs3r = trainer2.test(\n",
    "    #     probe, dataloaders=[dl_train, dl_val, dl, dl_ood], verbose=False\n",
    "    # )\n",
    "    # print(model_name)\n",
    "    # rs3 = rename_pl_test_results(rs3r, [\"train\", \"val\", \"test\", \"ood\"])\n",
    "    # display(rs3)\n",
    "    \n",
    "    # just in case the torchmetrics one isn't working, or is adding batch scores in a weird way\n",
    "    df_scores = get_scores(dm, probe)\n",
    "    print(model_name)\n",
    "    print(df_scores.round(3).to_markdown())\n",
    "    \n",
    "    results[model_name] = df_scores"
   ]
  },
  {
   "cell_type": "code",
   "execution_count": 171,
   "metadata": {},
   "outputs": [
    {
     "data": {
      "text/html": [
       "<div>\n",
       "<style scoped>\n",
       "    .dataframe tbody tr th:only-of-type {\n",
       "        vertical-align: middle;\n",
       "    }\n",
       "\n",
       "    .dataframe tbody tr th {\n",
       "        vertical-align: top;\n",
       "    }\n",
       "\n",
       "    .dataframe thead th {\n",
       "        text-align: right;\n",
       "    }\n",
       "</style>\n",
       "<table border=\"1\" class=\"dataframe\">\n",
       "  <thead>\n",
       "    <tr style=\"text-align: right;\">\n",
       "      <th></th>\n",
       "      <th></th>\n",
       "      <th>train</th>\n",
       "      <th>val</th>\n",
       "      <th>test</th>\n",
       "      <th>ood</th>\n",
       "    </tr>\n",
       "  </thead>\n",
       "  <tbody>\n",
       "    <tr>\n",
       "      <th rowspan=\"4\" valign=\"top\">roc_auc</th>\n",
       "      <th>PL_TAEProbeEmbed</th>\n",
       "      <td>0.514</td>\n",
       "      <td>0.498</td>\n",
       "      <td>0.554</td>\n",
       "      <td>0.519</td>\n",
       "    </tr>\n",
       "    <tr>\n",
       "      <th>PL_TAEProbeToken</th>\n",
       "      <td>0.651</td>\n",
       "      <td>0.544</td>\n",
       "      <td>0.546</td>\n",
       "      <td>0.594</td>\n",
       "    </tr>\n",
       "    <tr>\n",
       "      <th>PL_TAEProbeZ</th>\n",
       "      <td>0.567</td>\n",
       "      <td>0.507</td>\n",
       "      <td>0.533</td>\n",
       "      <td>0.540</td>\n",
       "    </tr>\n",
       "    <tr>\n",
       "      <th>PL_TAEProbeZQ</th>\n",
       "      <td>0.797</td>\n",
       "      <td>0.594</td>\n",
       "      <td>0.600</td>\n",
       "      <td>0.693</td>\n",
       "    </tr>\n",
       "    <tr>\n",
       "      <th rowspan=\"4\" valign=\"top\">acc</th>\n",
       "      <th>PL_TAEProbeEmbed</th>\n",
       "      <td>0.528</td>\n",
       "      <td>0.487</td>\n",
       "      <td>0.532</td>\n",
       "      <td>0.519</td>\n",
       "    </tr>\n",
       "    <tr>\n",
       "      <th>PL_TAEProbeToken</th>\n",
       "      <td>0.681</td>\n",
       "      <td>0.494</td>\n",
       "      <td>0.506</td>\n",
       "      <td>0.590</td>\n",
       "    </tr>\n",
       "    <tr>\n",
       "      <th>PL_TAEProbeZ</th>\n",
       "      <td>0.609</td>\n",
       "      <td>0.474</td>\n",
       "      <td>0.461</td>\n",
       "      <td>0.538</td>\n",
       "    </tr>\n",
       "    <tr>\n",
       "      <th>PL_TAEProbeZQ</th>\n",
       "      <td>0.743</td>\n",
       "      <td>0.604</td>\n",
       "      <td>0.584</td>\n",
       "      <td>0.668</td>\n",
       "    </tr>\n",
       "    <tr>\n",
       "      <th rowspan=\"4\" valign=\"top\">n</th>\n",
       "      <th>PL_TAEProbeEmbed</th>\n",
       "      <td>307.000</td>\n",
       "      <td>154.000</td>\n",
       "      <td>154.000</td>\n",
       "      <td>615.000</td>\n",
       "    </tr>\n",
       "    <tr>\n",
       "      <th>PL_TAEProbeToken</th>\n",
       "      <td>307.000</td>\n",
       "      <td>154.000</td>\n",
       "      <td>154.000</td>\n",
       "      <td>615.000</td>\n",
       "    </tr>\n",
       "    <tr>\n",
       "      <th>PL_TAEProbeZ</th>\n",
       "      <td>307.000</td>\n",
       "      <td>154.000</td>\n",
       "      <td>154.000</td>\n",
       "      <td>615.000</td>\n",
       "    </tr>\n",
       "    <tr>\n",
       "      <th>PL_TAEProbeZQ</th>\n",
       "      <td>307.000</td>\n",
       "      <td>154.000</td>\n",
       "      <td>154.000</td>\n",
       "      <td>615.000</td>\n",
       "    </tr>\n",
       "    <tr>\n",
       "      <th rowspan=\"4\" valign=\"top\">balance</th>\n",
       "      <th>PL_TAEProbeEmbed</th>\n",
       "      <td>0.484</td>\n",
       "      <td>0.545</td>\n",
       "      <td>0.516</td>\n",
       "      <td>0.507</td>\n",
       "    </tr>\n",
       "    <tr>\n",
       "      <th>PL_TAEProbeToken</th>\n",
       "      <td>0.484</td>\n",
       "      <td>0.545</td>\n",
       "      <td>0.516</td>\n",
       "      <td>0.507</td>\n",
       "    </tr>\n",
       "    <tr>\n",
       "      <th>PL_TAEProbeZ</th>\n",
       "      <td>0.484</td>\n",
       "      <td>0.545</td>\n",
       "      <td>0.516</td>\n",
       "      <td>0.507</td>\n",
       "    </tr>\n",
       "    <tr>\n",
       "      <th>PL_TAEProbeZQ</th>\n",
       "      <td>0.484</td>\n",
       "      <td>0.545</td>\n",
       "      <td>0.516</td>\n",
       "      <td>0.507</td>\n",
       "    </tr>\n",
       "  </tbody>\n",
       "</table>\n",
       "</div>"
      ],
      "text/plain": [
       "                            train      val     test      ood\n",
       "roc_auc PL_TAEProbeEmbed    0.514    0.498    0.554    0.519\n",
       "        PL_TAEProbeToken    0.651    0.544    0.546    0.594\n",
       "        PL_TAEProbeZ        0.567    0.507    0.533    0.540\n",
       "        PL_TAEProbeZQ       0.797    0.594    0.600    0.693\n",
       "acc     PL_TAEProbeEmbed    0.528    0.487    0.532    0.519\n",
       "        PL_TAEProbeToken    0.681    0.494    0.506    0.590\n",
       "        PL_TAEProbeZ        0.609    0.474    0.461    0.538\n",
       "        PL_TAEProbeZQ       0.743    0.604    0.584    0.668\n",
       "n       PL_TAEProbeEmbed  307.000  154.000  154.000  615.000\n",
       "        PL_TAEProbeToken  307.000  154.000  154.000  615.000\n",
       "        PL_TAEProbeZ      307.000  154.000  154.000  615.000\n",
       "        PL_TAEProbeZQ     307.000  154.000  154.000  615.000\n",
       "balance PL_TAEProbeEmbed    0.484    0.545    0.516    0.507\n",
       "        PL_TAEProbeToken    0.484    0.545    0.516    0.507\n",
       "        PL_TAEProbeZ        0.484    0.545    0.516    0.507\n",
       "        PL_TAEProbeZQ       0.484    0.545    0.516    0.507"
      ]
     },
     "execution_count": 171,
     "metadata": {},
     "output_type": "execute_result"
    }
   ],
   "source": [
    "df_res = pd.concat(results).unstack(0).T\n",
    "df_res.round(3)"
   ]
  },
  {
   "cell_type": "code",
   "execution_count": 172,
   "metadata": {},
   "outputs": [
    {
     "name": "stdout",
     "output_type": "stream",
     "text": [
      "results: roc_auc\n",
      "| probe            |   train |   val |   test |   ood |\n",
      "|:-----------------|--------:|------:|-------:|------:|\n",
      "| PL_TAEProbeZQ    |   0.797 | 0.594 |  0.6   | 0.693 |\n",
      "| PL_TAEProbeToken |   0.651 | 0.544 |  0.546 | 0.594 |\n",
      "| PL_TAEProbeZ     |   0.567 | 0.507 |  0.533 | 0.54  |\n",
      "| PL_TAEProbeEmbed |   0.514 | 0.498 |  0.554 | 0.519 |\n"
     ]
    },
    {
     "ename": "",
     "evalue": "",
     "output_type": "error",
     "traceback": [
      "\u001b[1;31mThe Kernel crashed while executing code in the the current cell or a previous cell. Please review the code in the cell(s) to identify a possible cause of the failure. Click <a href='https://aka.ms/vscodeJupyterKernelCrash'>here</a> for more info. View Jupyter <a href='command:jupyter.viewOutput'>log</a> for further details."
     ]
    }
   ],
   "source": [
    "d = pd.concat(results)['roc_auc'].unstack().sort_values('ood', ascending=False)\n",
    "d.index.name = 'probe'\n",
    "print('results: roc_auc')\n",
    "print(d.round(3).to_markdown())"
   ]
  },
  {
   "cell_type": "code",
   "execution_count": null,
   "metadata": {},
   "outputs": [],
   "source": []
  }
 ],
 "metadata": {
  "kernelspec": {
   "display_name": ".venv",
   "language": "python",
   "name": "python3"
  },
  "language_info": {
   "codemirror_mode": {
    "name": "ipython",
    "version": 3
   },
   "file_extension": ".py",
   "mimetype": "text/x-python",
   "name": "python",
   "nbconvert_exporter": "python",
   "pygments_lexer": "ipython3",
   "version": "3.11.0rc1"
  }
 },
 "nbformat": 4,
 "nbformat_minor": 2
}
