{
 "cells": [
  {
   "cell_type": "markdown",
   "metadata": {},
   "source": [
    "# Trying a tokenized autoencoder\n",
    "\n",
    "E.g. from IRIS https://github.dev/eloialonso/iris where sparsity is enforced by the tokenization/embedding quantisation bottleneck"
   ]
  },
  {
   "cell_type": "markdown",
   "metadata": {},
   "source": []
  },
  {
   "cell_type": "code",
   "execution_count": 1,
   "metadata": {},
   "outputs": [],
   "source": [
    "import os\n",
    "import numpy as np\n",
    "import pandas as pd\n",
    "from matplotlib import pyplot as plt\n",
    "from tqdm.auto import tqdm\n",
    "\n",
    "\n",
    "from typing import Optional, List, Dict, Union\n",
    "from jaxtyping import Float\n",
    "from torch import Tensor\n",
    "\n",
    "import torch\n",
    "import torch.nn as nn\n",
    "import torch.nn.functional as F\n",
    "\n",
    "from torch import Tensor\n",
    "from torch import optim\n",
    "from torch.utils.data import random_split, DataLoader, TensorDataset\n",
    "\n",
    "from pathlib import Path\n",
    "from einops import rearrange\n",
    "\n",
    "import transformers\n",
    "from transformers import (\n",
    "    AutoTokenizer,\n",
    "    AutoModelForCausalLM,\n",
    "    BitsAndBytesConfig,\n",
    "    AutoConfig,\n",
    ")\n",
    "from peft import (\n",
    "    get_peft_config,\n",
    "    get_peft_model,\n",
    "    LoraConfig,\n",
    "    TaskType,\n",
    "    LoftQConfig,\n",
    "    IA3Config,\n",
    ")\n",
    "from pathlib import Path\n",
    "import datasets\n",
    "from datasets import Dataset\n",
    "\n",
    "from loguru import logger\n",
    "\n",
    "logger.add(os.sys.stderr, format=\"{time} {level} {message}\", level=\"INFO\")\n",
    "\n",
    "# load my code\n",
    "%load_ext autoreload\n",
    "%autoreload 2\n",
    "\n",
    "import lightning.pytorch as pl\n",
    "\n",
    "from src.config import ExtractConfig\n",
    "from src.llms.load import load_model\n",
    "from src.helpers.torch_helpers import clear_mem\n",
    "from src.llms.phi.model_phi import PhiForCausalLMWHS\n",
    "from src.eval.ds import filter_ds_to_known\n",
    "from src.datasets.act_dm import ActivationDataModule\n",
    "\n",
    "# plt.style.use(\"ggplot\")\n",
    "# plt.style.use(\"seaborn-v0_8\")\n",
    "import seaborn as sns\n",
    "\n",
    "\n",
    "sns.set_theme(\"paper\")\n",
    "\n",
    "plt.rcParams[\"figure.figsize\"] = (4, 3)"
   ]
  },
  {
   "cell_type": "code",
   "execution_count": 2,
   "metadata": {},
   "outputs": [],
   "source": [
    "import logging\n",
    "import warnings\n",
    "\n",
    "logging.getLogger(\"pytorch_lightning\").setLevel(logging.WARNING)\n",
    "\n",
    "\n",
    "warnings.filterwarnings(\"ignore\", \".*does not have many workers.*\")\n",
    "warnings.filterwarnings(\n",
    "    \"ignore\", \".*sampler has shuffling enabled, it is strongly recommended that.*\"\n",
    ")\n",
    "# warnings.filterwarnings(\"ignore\", \".*has been removed as a dependency of.*\")"
   ]
  },
  {
   "cell_type": "code",
   "execution_count": 3,
   "metadata": {},
   "outputs": [],
   "source": [
    "os.environ[\"TQDM_MININTERVAL\"] = \"9\"\n",
    "# os.environ[\"TQDM_DISABLE\"] = \"1\"\n",
    "\n",
    "verbose = False"
   ]
  },
  {
   "cell_type": "markdown",
   "metadata": {},
   "source": [
    "## Paramsnet\n"
   ]
  },
  {
   "cell_type": "code",
   "execution_count": 4,
   "metadata": {},
   "outputs": [],
   "source": [
    "# params\n",
    "# params\n",
    "batch_size = 32\n",
    "lr = 4e-3\n",
    "wd = 0  # 1e-5\n",
    "\n",
    "MAX_ROWS = 2000\n",
    "\n",
    "SKIP = 15  # skip initial N layers\n",
    "STRIDE = 3  # skip every N layers\n",
    "DECIMATE = 1  # discard N features for speed\n",
    "\n",
    "device = \"cuda:0\"\n",
    "max_epochs = 84\n",
    "\n",
    "l1_coeff = 1e-2  # 0.5  # neel uses 3e-4 ! https://github.dev/neelnanda-io/1L-Sparse-Autoencoder/blob/bcae01328a2f41d24bd4a9160828f2fc22737f75/utils.py#L106, but them they sum l1 where mean l2\n",
    "# x_feats=x_feats. other use 1e-1\n",
    "# in ai saftey foundation. They use l1_coefficient=Parameter(max=0.03, min=0.008),\n",
    "\n",
    "\n",
    "BASE_FOLDER = Path(\n",
    "    \"/media/wassname/SGIronWolf/projects5/elk/sgd_probes_are_lie_detectors/notebooks/lightning_logs/version_24/\"\n",
    ")\n",
    "layers_names = (\"fc1\", \"Wqkv\",\n",
    "                #  \"fc2\", \"out_proj\"\n",
    "                 )"
   ]
  },
  {
   "cell_type": "markdown",
   "metadata": {},
   "source": [
    "## Load data"
   ]
  },
  {
   "cell_type": "code",
   "execution_count": 5,
   "metadata": {},
   "outputs": [
    {
     "data": {
      "text/plain": [
       "(PosixPath('/media/wassname/SGIronWolf/projects5/elk/sgd_probes_are_lie_detectors/notebooks/lightning_logs/version_24/hidden_states/.ds/ds_valtest_8b8fd6070504d5ef'),\n",
       " PosixPath('/media/wassname/SGIronWolf/projects5/elk/sgd_probes_are_lie_detectors/notebooks/lightning_logs/version_24/hidden_states/.ds/ds_OOD_a41d3a61513ade30'))"
      ]
     },
     "execution_count": 5,
     "metadata": {},
     "output_type": "execute_result"
    }
   ],
   "source": [
    "# load hidden state from a previously loaded adapter\n",
    "# the columns with _base are from the base model, and adapt from adapter\n",
    "# FROM TRAINING TRUTH\n",
    "f1_val = next(iter(BASE_FOLDER.glob(\"hidden_states/.ds/ds_valtest_*\")))\n",
    "f1_ood = next(iter(BASE_FOLDER.glob(\"hidden_states/.ds/ds_OOD_*\")))\n",
    "f1_val, f1_ood"
   ]
  },
  {
   "cell_type": "code",
   "execution_count": 6,
   "metadata": {},
   "outputs": [
    {
     "name": "stdout",
     "output_type": "stream",
     "text": [
      "select rows are 74.39% based on knowledge\n"
     ]
    },
    {
     "data": {
      "application/vnd.jupyter.widget-view+json": {
       "model_id": "bfc3f7b416ca4dac9222d50a34c63286",
       "version_major": 2,
       "version_minor": 0
      },
      "text/plain": [
       "Map:   0%|          | 0/615 [00:00<?, ? examples/s]"
      ]
     },
     "metadata": {},
     "output_type": "display_data"
    },
    {
     "name": "stderr",
     "output_type": "stream",
     "text": [
      "\u001b[32m2024-01-14 16:04:30.992\u001b[0m | \u001b[1mINFO    \u001b[0m | \u001b[36msrc.datasets.act_dm\u001b[0m:\u001b[36msetup\u001b[0m:\u001b[36m68\u001b[0m - \u001b[1mconverting datasets this may take a while... ds_valtest_8b8fd6070504d5ef train\u001b[0m\n",
      "2024-01-14T16:04:30.992748+0800 INFO converting datasets this may take a while... ds_valtest_8b8fd6070504d5ef train\n"
     ]
    },
    {
     "name": "stdout",
     "output_type": "stream",
     "text": [
      "setup train\n",
      "select rows are 74.39% based on knowledge\n"
     ]
    },
    {
     "data": {
      "application/vnd.jupyter.widget-view+json": {
       "model_id": "dc2b6a2152af471fb4e3321190822b7c",
       "version_major": 2,
       "version_minor": 0
      },
      "text/plain": [
       "Map:   0%|          | 0/615 [00:00<?, ? examples/s]"
      ]
     },
     "metadata": {},
     "output_type": "display_data"
    },
    {
     "name": "stderr",
     "output_type": "stream",
     "text": [
      "\u001b[32m2024-01-14 16:05:20.464\u001b[0m | \u001b[1mINFO    \u001b[0m | \u001b[36msrc.datasets.act_dm\u001b[0m:\u001b[36msetup\u001b[0m:\u001b[36m68\u001b[0m - \u001b[1mconverting datasets this may take a while... ds_OOD_a41d3a61513ade30 all\u001b[0m\n",
      "2024-01-14T16:05:20.464709+0800 INFO converting datasets this may take a while... ds_OOD_a41d3a61513ade30 all\n"
     ]
    },
    {
     "name": "stdout",
     "output_type": "stream",
     "text": [
      "setup all\n"
     ]
    }
   ],
   "source": [
    "input_columns = (\n",
    "    [\"binary_ans_base\", \"binary_ans_adapt\"]\n",
    "    + [f\"end_residual_{layer}_base\" for layer in layers_names]\n",
    "    + [f\"end_residual_{layer}_adapt\" for layer in layers_names]\n",
    ")\n",
    "\n",
    "\n",
    "def ds2xy_batched(ds):\n",
    "    data = []\n",
    "    for layer in layers_names:\n",
    "        # Stack the base and adapter representations as a 4th dim\n",
    "        X1 = [ds[f\"end_residual_{layer}_base\"], ds[f\"end_residual_{layer}_adapt\"]]\n",
    "        X1 = rearrange(X1, \"versions b l f  -> b l f versions\")[..., 0]\n",
    "        data.append(X1)\n",
    "\n",
    "    # concat layers\n",
    "    # x = rearrange(data, 'b parts l f v -> b l (parts f) v')\n",
    "    X = torch.concat(data, dim=2)[:, SKIP::STRIDE, ::DECIMATE]\n",
    "\n",
    "    y = ds[\"binary_ans_base\"] - ds[\"binary_ans_adapt\"]\n",
    "    return dict(X=X, y=y)\n",
    "\n",
    "\n",
    "def prepare_ds(ds):\n",
    "    \"\"\"\n",
    "    prepare a dataset for training\n",
    "\n",
    "    this should front load much of the computation\n",
    "    it should restrict it to the needed rows X and y\n",
    "\n",
    "    \"\"\"\n",
    "    ds = (\n",
    "        ds.with_format(\"torch\")\n",
    "        .select_columns(input_columns)\n",
    "        .map(ds2xy_batched, batched=True, batch_size=128, remove_columns=input_columns)\n",
    "    )\n",
    "    return ds\n",
    "\n",
    "\n",
    "def load_file_to_dm(f, stage):\n",
    "    ds1 = Dataset.from_file(str(f1_val), in_memory=True).with_format(\"torch\")\n",
    "    ds1 = filter_ds_to_known(ds1, verbose=True, true_col=\"truth\")\n",
    "    ds = prepare_ds(ds1)\n",
    "\n",
    "    # limit size\n",
    "    MAX_SAMPLES = min(len(ds), MAX_ROWS * 2)\n",
    "    ds = ds.select(range(0, MAX_SAMPLES))\n",
    "\n",
    "    dm = ActivationDataModule(ds, f.stem, batch_size=batch_size, num_workers=0)\n",
    "    dm.setup(stage)\n",
    "    dm.dm_orig = ds1\n",
    "    return dm\n",
    "\n",
    "\n",
    "dm = load_file_to_dm(f1_val, \"train\")\n",
    "dm_ood = load_file_to_dm(f1_ood, \"all\")"
   ]
  },
  {
   "cell_type": "code",
   "execution_count": 7,
   "metadata": {},
   "outputs": [
    {
     "data": {
      "text/plain": [
       "{'all': <torch.utils.data.dataset.TensorDataset at 0x7fdae2177ed0>}"
      ]
     },
     "execution_count": 7,
     "metadata": {},
     "output_type": "execute_result"
    }
   ],
   "source": [
    "dm_ood.datasets"
   ]
  },
  {
   "cell_type": "code",
   "execution_count": 8,
   "metadata": {},
   "outputs": [],
   "source": [
    "dl_train = dm.train_dataloader()\n",
    "dl_val = dm.val_dataloader()\n",
    "dl_test = dm.test_dataloader()\n",
    "dl_ood = dm_ood.all_dataloader()"
   ]
  },
  {
   "cell_type": "markdown",
   "metadata": {},
   "source": [
    "Experiment with dataloading speeds:\n",
    "- does it help to save the Xy dataset to disc, then load, while keeping in mem?. no not faster at all\n",
    "- does it help to use num_workers > 0? yes 3x faster\n",
    "- the shared dataset wrapper is 10x faster, and less mem"
   ]
  },
  {
   "cell_type": "markdown",
   "metadata": {},
   "source": [
    "# Get importance matrix from adapter"
   ]
  },
  {
   "cell_type": "code",
   "execution_count": 9,
   "metadata": {},
   "outputs": [
    {
     "name": "stdout",
     "output_type": "stream",
     "text": [
      "Wqkv torch.Size([32, 7680])\n",
      "out_proj torch.Size([32, 2560])\n",
      "fc1 torch.Size([32, 10240])\n",
      "fc2 torch.Size([32, 2560])\n",
      "keeping top 3.90% of features\n"
     ]
    },
    {
     "data": {
      "image/png": "[encoded data removed]",
      "text/plain": [
       "<Figure size 400x300 with 1 Axes>"
      ]
     },
     "metadata": {},
     "output_type": "display_data"
    }
   ],
   "source": [
    "from src.probes.importance_matrix import get_importance_matrix\n",
    "\n",
    "\n",
    "f = f\"{BASE_FOLDER}/checkpoint_last/adapter_model.safetensors\"\n",
    "importance_matrix = get_importance_matrix(f, layers=layers_names)[\n",
    "    SKIP::STRIDE, ::DECIMATE\n",
    "]\n",
    "\n",
    "\n",
    "# importance_matrix = importance_matrix ** 3 # square to make it positive\n",
    "importance_matrix = (importance_matrix - 1).abs() ** 2\n",
    "\n",
    "\n",
    "# importance_matrix = importance_matrix / (0.1*importance_matrix.std())\n",
    "# importance_matrix = importance_matrix + 1\n",
    "\n",
    "# square to make it positive\n",
    "# importance_matrix = importance_matrix.clamp(0, None)\n",
    "# importance_matrix -= importance_matrix.mean() - 1\n",
    "\n",
    "s = importance_matrix.std()\n",
    "importance_matrix = (importance_matrix > s * 3) * 1.0\n",
    "print(f\"keeping top {importance_matrix.mean():2.2%} of features\")\n",
    "importance_matrix = importance_matrix / importance_matrix.mean()\n",
    "\n",
    "plt.hist(importance_matrix.flatten(), bins=155)\n",
    "\n",
    "importance_matrix.mean()\n",
    "\n",
    "importance_matrix = None"
   ]
  },
  {
   "cell_type": "code",
   "execution_count": 10,
   "metadata": {},
   "outputs": [],
   "source": [
    "# ((importance_matrix>0)*1.0).sum()"
   ]
  },
  {
   "cell_type": "code",
   "execution_count": 11,
   "metadata": {},
   "outputs": [],
   "source": [
    "# ds_test2 = dm.datasets['test']\n",
    "# shape1 = ds_test2[0][0].shape\n",
    "# shape2= importance_matrix.shape\n",
    "# np.testing.assert_equal(shape1, shape2, err_msg=\"shape mismatch between ds and importance matrix\")\n"
   ]
  },
  {
   "cell_type": "markdown",
   "metadata": {},
   "source": [
    "### helpers"
   ]
  },
  {
   "cell_type": "code",
   "execution_count": 12,
   "metadata": {},
   "outputs": [],
   "source": [
    "from src.eval.ds import ds2df\n",
    "\n",
    "\n",
    "def get_acc_subset(df, query, verbose=True):\n",
    "    assert (df[\"y\"].mean() < 0).any(), \"y should be [-1, 1]\"\n",
    "    assert (df[\"y\"].mean() > -1).all(), \"y should be [-1, 1]\"\n",
    "    assert (df[\"y\"].mean() < 1).all(), \"y should be [-1, 1]\"\n",
    "    assert (df[\"probe_pred\"].mean() > 0).all(), \"pred should be [0,1]\"\n",
    "    assert (df[\"probe_pred\"].mean() < 1).all(), \"pred should be [0,1]\"\n",
    "\n",
    "    if query:\n",
    "        df = df.query(query)\n",
    "    # df[\"probe_cls\"] = df[\"probe_pred\"] > 0.5\n",
    "    acc = ((df[\"probe_pred\"] > 0.5) == (df[\"y\"] > 0)).mean()\n",
    "    if verbose:\n",
    "        print(f\"acc={acc:2.2%},\\tn={len(df)},\\t[{query}] \")\n",
    "    return acc\n",
    "\n",
    "\n",
    "def calc_metrics(dm, net, trainer=None, split=\"test\", verbose=True):\n",
    "    # predict\n",
    "    dl_test = dm.create_dataloader(split)\n",
    "    if trainer is None:\n",
    "        trainer = pl.Trainer(\n",
    "            logger=False, enable_progress_bar=False, enable_model_summary=False\n",
    "        )\n",
    "    rt = trainer.predict(net, dataloaders=dl_test)\n",
    "    y_test_pred = np.concatenate(rt)\n",
    "\n",
    "    # get original df\n",
    "    splits = dm.splits[split]\n",
    "    df = ds2df(dm.dm_orig).rename(columns=lambda s: s.replace(\"_base\", \"\"))\n",
    "    df[\"y\"] = dm.ds[\"y\"]\n",
    "    df_test = df.iloc[splits[0] : splits[1]].copy()\n",
    "    df_test[\"probe_pred\"] = y_test_pred\n",
    "\n",
    "    if verbose:\n",
    "        print(f\"probe results on subsets of the data for {split}\")\n",
    "    acc = get_acc_subset(df_test, \"\", verbose=verbose)\n",
    "    get_acc_subset(\n",
    "        df_test, \"instructed_to_lie==True\", verbose=verbose\n",
    "    )  # it was ph told to lie\n",
    "    get_acc_subset(\n",
    "        df_test, \"instructed_to_lie==False\", verbose=verbose\n",
    "    )  # it was told not to lie\n",
    "    get_acc_subset(\n",
    "        df_test, \"ans==label_true\", verbose=verbose\n",
    "    )  # the llm gave the true ans\n",
    "    get_acc_subset(\n",
    "        df_test, \"ans==label_instructed\", verbose=verbose\n",
    "    )  # the llm gave the desired ans\n",
    "    acc_lie_lie = get_acc_subset(\n",
    "        df_test, \"instructed_to_lie==True & ans==label_instructed\", verbose=verbose\n",
    "    )  # it was told to lie, and it did lie\n",
    "    acc_lie_truth = get_acc_subset(\n",
    "        df_test, \"instructed_to_lie==True & ans!=label_instructed\", verbose=verbose\n",
    "    )\n",
    "\n",
    "    a = get_acc_subset(\n",
    "        df_test, \"instructed_to_lie==False & ans==label_instructed\", verbose=False\n",
    "    )\n",
    "    b = get_acc_subset(\n",
    "        df_test, \"instructed_to_lie==False & ans!=label_instructed\", verbose=False\n",
    "    )\n",
    "    c = get_acc_subset(\n",
    "        df_test, \"instructed_to_lie==True & ans==label_instructed\", verbose=False\n",
    "    )\n",
    "    d = get_acc_subset(\n",
    "        df_test, \"instructed_to_lie==True & ans!=label_instructed\", verbose=False\n",
    "    )\n",
    "\n",
    "    df_confusion = pd.DataFrame(\n",
    "        [[a, b], [c, d]],\n",
    "        index=[\"tell a truth\", \"tell a lie\"],\n",
    "        columns=[\"did\", \"didn't\"],\n",
    "    )\n",
    "    df_confusion.index.name = \"instructed to\"\n",
    "    df_confusion.columns.name = \"llm gave\"\n",
    "\n",
    "    if verbose:\n",
    "        print(f\"⭐PRIMARY METRIC⭐ acc={acc:2.2%} from probe on {split}\")\n",
    "        print(\n",
    "            f\"⭐SECONDARY METRIC⭐ acc_lie_lie={acc_lie_lie:2.2%} from probe on {split}\"\n",
    "        )\n",
    "\n",
    "    print(\"\\n\\nprobe accuracy for quadrants:\")\n",
    "    print(df_confusion.round(2).to_markdown())\n",
    "    print(\"\\n\\n\")\n",
    "\n",
    "    return dict(\n",
    "        acc=acc,\n",
    "        acc_lie_lie=acc_lie_lie,\n",
    "        acc_lie_truth=acc_lie_truth,\n",
    "        df_test=df_test,\n",
    "        df_confusion=df_confusion,\n",
    "    )\n",
    "\n",
    "\n",
    "# r = testval_metrics = calc_metrics(dm, trainer3, net, use_val=True)\n",
    "# r['df_test']"
   ]
  },
  {
   "cell_type": "code",
   "execution_count": 13,
   "metadata": {},
   "outputs": [],
   "source": [
    "# visualize latent space\n",
    "from matplotlib import cm\n",
    "\n",
    "\n",
    "def plot_latent(latent):\n",
    "    # plot image of latent space \n",
    "    vmax = latent.abs().max()\n",
    "    for i in range(4): # first 4 batches\n",
    "        plt.subplot(2, 2, i + 1)\n",
    "        vmax = latent[i].max()\n",
    "        plt.imshow(\n",
    "            latent[i],\n",
    "            cmap=cm.coolwarm,\n",
    "            interpolation=\"none\",\n",
    "            aspect=\"auto\",\n",
    "            vmin=-vmax,\n",
    "            vmax=vmax,\n",
    "        )\n",
    "        plt.title(f\"batch {i}\")\n",
    "        plt.ylabel(\"layer\")\n",
    "        plt.xlabel(\"neuron\")\n",
    "        if i < 2:\n",
    "            plt.xlabel(\"\")\n",
    "            plt.xticks([])\n",
    "        if i % 2 == 1:\n",
    "            plt.ylabel(\"\")\n",
    "            plt.yticks([])\n",
    "        plt.grid(False)\n",
    "        plt.colorbar()\n",
    "    # plt.colorbar()\n",
    "    plt.subplots_adjust(wspace=0.05, hspace=0.05)\n",
    "    plt.show()\n",
    "\n",
    "    # histogram\n",
    "    latentf = rearrange(latent, \"b l n -> (b n) l\").T#.flatten()\n",
    "    print(latentf.shape)\n",
    "    for i in range(latent.shape[1]):\n",
    "        plt.hist(latentf[i], bins=25,\n",
    "                histtype=\"step\", log=True, label=f\"layer {i}\", density=True)\n",
    "    plt.title(\"latents by layer\")\n",
    "    plt.xlabel('latent magnitude')\n",
    "    plt.legend()\n",
    "    plt.show()\n",
    "\n",
    "# plot_latent(latent)"
   ]
  },
  {
   "cell_type": "code",
   "execution_count": null,
   "metadata": {},
   "outputs": [],
   "source": []
  },
  {
   "cell_type": "code",
   "execution_count": 14,
   "metadata": {},
   "outputs": [],
   "source": [
    "from src.helpers.lightning import read_metrics_csv, plot_hist, rename_pl_test_results\n",
    "from lightning.pytorch.callbacks import LearningRateMonitor"
   ]
  },
  {
   "cell_type": "markdown",
   "metadata": {},
   "source": [
    "# Model"
   ]
  },
  {
   "cell_type": "code",
   "execution_count": 15,
   "metadata": {},
   "outputs": [],
   "source": [
    "# from sparse_autoencoder.autoencoder.model import SparseAutoencoderConfig, SparseAutoencoder\n",
    "# from src.vae.sae2 import AutoEncoder, AutoEncoderConfig\n",
    "from src.iris.tokenizer import Tokenizer\n",
    "from src.iris.nets import EncoderDecoderConfig, Encoder, Decoder\n",
    "from src.vae.conv_inception import (\n",
    "    LinBnDrop,\n",
    "    PLBase,\n",
    "    recursive_requires_grad,\n",
    "    accuracy,\n",
    "    auroc,\n",
    ")"
   ]
  },
  {
   "cell_type": "markdown",
   "metadata": {},
   "source": [
    "# Scratch"
   ]
  },
  {
   "cell_type": "code",
   "execution_count": 16,
   "metadata": {},
   "outputs": [
    {
     "name": "stdout",
     "output_type": "stream",
     "text": [
      "10 5\n"
     ]
    }
   ],
   "source": [
    "print(len(dl_train), len(dl_val))\n",
    "b = next(iter(dl_train))\n",
    "x, y = b  # b['X'], b['y']"
   ]
  },
  {
   "cell_type": "code",
   "execution_count": 17,
   "metadata": {},
   "outputs": [],
   "source": [
    "# coder_cfg = EncoderDecoderConfig(\n",
    "#     resolution=64,\n",
    "#     in_channels=3,\n",
    "#     z_channels=512,\n",
    "#     ch=64,\n",
    "#     ch_mult=[1, 1, 1, 1, 1],\n",
    "#     num_res_blocks=2,\n",
    "#     attn_resolutions=[8, 16],\n",
    "#     out_ch=3,\n",
    "#     dropout=0.0,\n",
    "# )\n",
    "# encoder=Encoder(config=coder_cfg)\n",
    "# decoder=Decoder(config=coder_cfg)\n",
    "\n",
    "from src.vae.sae2 import AutoEncoderConfig, Encoder, Decoder, Affines\n"
   ]
  },
  {
   "cell_type": "markdown",
   "metadata": {},
   "source": [
    "# Resume"
   ]
  },
  {
   "cell_type": "code",
   "execution_count": 18,
   "metadata": {},
   "outputs": [],
   "source": [
    "class PLAE(PLBase):\n",
    "    def __init__(\n",
    "        self,\n",
    "        c_in,\n",
    "        steps_per_epoch,\n",
    "        max_epochs,\n",
    "        lr=4e-3,\n",
    "        weight_decay=0,\n",
    "        n_latent=512,\n",
    "        dropout=0,\n",
    "        encoder_sizes=[],\n",
    "        importance_matrix=None,\n",
    "        tokens_per_layer=6,\n",
    "        **kwargs,\n",
    "    ):\n",
    "        super().__init__(\n",
    "            steps_per_epoch=steps_per_epoch,\n",
    "            max_epochs=max_epochs,\n",
    "            lr=lr,\n",
    "            weight_decay=weight_decay,\n",
    "        )\n",
    "        self.save_hyperparameters()\n",
    "        self.importance_matrix = importance_matrix\n",
    "\n",
    "        vocab_size = n_latent\n",
    "        embed_dim = n_latent\n",
    "\n",
    "\n",
    "        n_layers, n_channels = c_in\n",
    "        self.norm = Affines(n_layers, n_channels)\n",
    "        self.ae_cfg = AutoEncoderConfig(\n",
    "            n_instances=n_layers,\n",
    "            n_input_ae=n_channels,\n",
    "            n_hidden_ae=vocab_size * tokens_per_layer, # output size of decoder (tokens)\n",
    "            encoder_sizes=encoder_sizes,\n",
    "        )\n",
    "        encoder = Encoder(self.ae_cfg)\n",
    "\n",
    "        self.ae_cfg = AutoEncoderConfig(\n",
    "            n_instances=n_layers,\n",
    "            n_input_ae=n_channels,\n",
    "            n_hidden_ae=embed_dim * tokens_per_layer, # input channel to decoder (embedded tokens)\n",
    "            encoder_sizes=encoder_sizes,\n",
    "        )\n",
    "        decoder = Decoder(self.ae_cfg)\n",
    "        \n",
    "\n",
    "        self.ae = Tokenizer(\n",
    "            vocab_size=vocab_size,\n",
    "            embed_dim=embed_dim,\n",
    "            tokens_per_layer=tokens_per_layer,\n",
    "            encoder=encoder,\n",
    "            decoder=decoder,\n",
    "        )\n",
    "\n",
    "\n",
    "        self.embed = nn.Embedding(vocab_size, embed_dim)\n",
    "        n = embed_dim * n_layers * tokens_per_layer\n",
    "        self.head = nn.Sequential(\n",
    "            # LinBnDrop(n, n, bn=False, dropout=dropout),\n",
    "            # LinBnDrop(n, n // 4, dropout=dropout, bn=False),\n",
    "            # LinBnDrop(n // 4, n // 12, bn=False),\n",
    "            nn.Linear(n, 1),\n",
    "        )\n",
    "        self._ae_mode = True\n",
    "\n",
    "    def ae_mode(self, mode=0):\n",
    "        \"\"\"\n",
    "        mode 0, train the ae\n",
    "        mode 1, train only the prob\n",
    "        mode 2, train both\n",
    "        \"\"\"\n",
    "        if mode == 0:\n",
    "            print(\"training ae\")\n",
    "        elif mode == 1:\n",
    "            print(\"training probe\")\n",
    "        elif mode == 2:\n",
    "            print(\"training both ae and probe\")\n",
    "        self._ae_mode = mode\n",
    "        recursive_requires_grad(self.ae, mode in [0, 2])\n",
    "\n",
    "    def forward(self, x):\n",
    "        x = self.norm(x)\n",
    "        o = self.ae.encode(x)\n",
    "        z, z_q, tokens = o.z, o.z_quantized, o.tokens\n",
    "        h_rec = self.ae.decode(z_q)\n",
    "        h_rec = self.norm.inv(h_rec)\n",
    "        losses = self.ae.compute_loss(x)\n",
    "        loss = losses.loss_total\n",
    "\n",
    "        # # Note: this uses the decoders tokenization\n",
    "        # latent = z_q\n",
    "        # # but in other works there is a separate decoder for the probe\n",
    "        latent = self.embed(tokens)\n",
    "\n",
    "        latent2 = rearrange(latent, \"b l h v -> b (l h v)\")\n",
    "        pred = self.head(latent2).squeeze(1)\n",
    "        return dict(\n",
    "            pred=pred,\n",
    "            loss=loss,\n",
    "            latent=latent,\n",
    "            z=z, \n",
    "            tokens=tokens,\n",
    "            h_rec=h_rec,\n",
    "            **losses.intermediate_losses\n",
    "        )\n",
    "\n",
    "    # def on_after_backward(self):\n",
    "    #     self.ae.post_backwards_hook()\n",
    "\n",
    "    def _step(self, batch, batch_idx, stage=\"train\"):\n",
    "        device = next(self.parameters()).device\n",
    "        x, y = batch  # batch['X'], batch['y']\n",
    "        x = x.to(device)\n",
    "        y = y.to(device)\n",
    "        x0 = x  # [..., 0]\n",
    "        # x1 = x[..., 1]\n",
    "        info0 = self(x0)\n",
    "        # info1 = self(x1)\n",
    "        # ypred1 = info1[\"pred\"]\n",
    "        logits = info0[\"pred\"]\n",
    "        y_probs = F.sigmoid(logits)\n",
    "        y_cls = y_probs > 0.5\n",
    "\n",
    "        if stage == \"pred\":\n",
    "            return (y_probs).float()\n",
    "\n",
    "        pred_loss = F.binary_cross_entropy_with_logits(logits, (y > 0.0).float())\n",
    "\n",
    "        # pred_loss = F.smooth_l1_loss(ypred0, y)\n",
    "        rec_loss = info0[\"loss\"]\n",
    "        # l1_loss = info0[\"l1_loss\"].mean()\n",
    "        # l2_loss = info0[\"l2_loss\"].mean()\n",
    "\n",
    "        if self._ae_mode in [1, 2]:\n",
    "            self.log(\n",
    "                f\"{stage}/auroc\",\n",
    "                auroc(y_probs, y > 0, \"binary\"),\n",
    "                on_epoch=True,\n",
    "                on_step=False,\n",
    "            )\n",
    "            self.log(\n",
    "                f\"{stage}/acc\",\n",
    "                accuracy(y_cls, y > 0, \"binary\"),\n",
    "                on_epoch=True,\n",
    "                on_step=False,\n",
    "            )\n",
    "            self.log(\n",
    "                f\"{stage}/loss_pred\",\n",
    "                float(pred_loss),\n",
    "                on_epoch=True,\n",
    "                on_step=True,\n",
    "            )\n",
    "        if self._ae_mode in [0, 2]:\n",
    "            self.log(\n",
    "                f\"{stage}/loss_rec\",\n",
    "                float(rec_loss),\n",
    "                on_epoch=True,\n",
    "                on_step=True,\n",
    "            )\n",
    "            self.log(f\"{stage}/commitment_loss\", info0['commitment_loss'], on_epoch=True, on_step=False)\n",
    "            self.log(f\"{stage}/reconstruction_loss\", info0['reconstruction_loss'], on_epoch=True, on_step=False)\n",
    "        self.log(\n",
    "            f\"{stage}/n\",\n",
    "            float(len(y)),\n",
    "            on_epoch=True,\n",
    "            on_step=False,\n",
    "            reduce_fx=torch.sum,\n",
    "        )\n",
    "        \n",
    "        if self._ae_mode == 0:\n",
    "            assert torch.isfinite(rec_loss), \"rec_loss is not finite\"\n",
    "            return rec_loss\n",
    "        elif self._ae_mode == 1:\n",
    "            assert torch.isfinite(pred_loss), \"pred_loss is not finite\"\n",
    "            return pred_loss\n",
    "        elif self._ae_mode == 2:\n",
    "            # , train/loss_pred_epoch=0.0195, train/loss_rec_epoch=169.0\n",
    "            assert torch.isfinite(pred_loss), \"pred_loss is not finite\"\n",
    "            assert torch.isfinite(rec_loss), \"rec_loss is not finite\"\n",
    "            return pred_loss * 50000 + rec_loss"
   ]
  },
  {
   "cell_type": "markdown",
   "metadata": {},
   "source": [
    "# Train"
   ]
  },
  {
   "cell_type": "markdown",
   "metadata": {},
   "source": [
    "### Setup"
   ]
  },
  {
   "cell_type": "code",
   "execution_count": 19,
   "metadata": {},
   "outputs": [
    {
     "name": "stdout",
     "output_type": "stream",
     "text": [
      "10 5\n",
      "torch.Size([32, 6, 17920]) x\n"
     ]
    }
   ],
   "source": [
    "print(len(dl_train), len(dl_val))\n",
    "b = next(iter(dl_train))\n",
    "x, y = b  # b['X'], b['y']\n",
    "print(x.shape, \"x\")\n",
    "if x.ndim == 3:\n",
    "    x = x.unsqueeze(-1)\n",
    "c_in = x.shape[1:-1]"
   ]
  },
  {
   "cell_type": "code",
   "execution_count": null,
   "metadata": {},
   "outputs": [],
   "source": []
  },
  {
   "cell_type": "code",
   "execution_count": 60,
   "metadata": {},
   "outputs": [
    {
     "name": "stdout",
     "output_type": "stream",
     "text": [
      "PLAE(\n",
      "  (norm): Affines(\n",
      "    (affines): ModuleList(\n",
      "      (0-5): 6 x AffineInstanceNorm1d(17920, eps=1e-05, momentum=0.1, affine=False, track_running_stats=True)\n",
      "    )\n",
      "  )\n",
      "  (ae): Tokenizer(\n",
      "    (encoder): Encoder(\n",
      "      (encoder): Sequential(\n",
      "        (0): NormedLinears(\n",
      "          (linears): ModuleList(\n",
      "            (0-5): 6 x NormedLinear(in_features=17920, out_features=64, bias=False)\n",
      "          )\n",
      "          (act): ReLU()\n",
      "        )\n",
      "        (1): NormedLinears(\n",
      "          (linears): ModuleList(\n",
      "            (0-5): 6 x NormedLinear(in_features=64, out_features=64, bias=False)\n",
      "          )\n",
      "          (act): ReLU()\n",
      "        )\n",
      "        (2): NormedLinears(\n",
      "          (linears): ModuleList(\n",
      "            (0-5): 6 x NormedLinear(in_features=64, out_features=256, bias=True)\n",
      "          )\n",
      "        )\n",
      "      )\n",
      "    )\n",
      "    (embedding): Embedding(64, 64)\n",
      "    (decoder): Decoder(\n",
      "      (decoder): Sequential(\n",
      "        (0): NormedLinears(\n",
      "          (linears): ModuleList(\n",
      "            (0-5): 6 x NormedLinear(in_features=256, out_features=64, bias=False)\n",
      "          )\n",
      "          (act): ReLU()\n",
      "        )\n",
      "        (1): NormedLinears(\n",
      "          (linears): ModuleList(\n",
      "            (0-5): 6 x NormedLinear(in_features=64, out_features=64, bias=False)\n",
      "          )\n",
      "          (act): ReLU()\n",
      "        )\n",
      "        (2): NormedLinears(\n",
      "          (linears): ModuleList(\n",
      "            (0-5): 6 x NormedLinear(in_features=64, out_features=17920, bias=True)\n",
      "          )\n",
      "        )\n",
      "      )\n",
      "    )\n",
      "  )\n",
      "  (embed): Embedding(64, 64)\n",
      "  (head): Sequential(\n",
      "    (0): Linear(in_features=1536, out_features=1, bias=True)\n",
      "  )\n",
      ")\n"
     ]
    }
   ],
   "source": [
    "net = PLAE(\n",
    "    c_in=c_in,\n",
    "    steps_per_epoch=len(dl_train),\n",
    "    max_epochs=max_epochs,\n",
    "    lr=lr,\n",
    "    encoder_sizes=[64,64],\n",
    "    weight_decay=wd,\n",
    "    n_latent=64,  # there will be layers * n_latent latent features\n",
    "    importance_matrix=importance_matrix,\n",
    "    tokens_per_layer=4\n",
    ")\n",
    "print(net)"
   ]
  },
  {
   "cell_type": "code",
   "execution_count": 61,
   "metadata": {},
   "outputs": [
    {
     "name": "stdout",
     "output_type": "stream",
     "text": [
      "torch.Size([6, 17920])\n"
     ]
    }
   ],
   "source": [
    "print(c_in)\n",
    "x1 = x[..., 0]\n",
    "with torch.no_grad():\n",
    "    y = net(x1)\n",
    "# {k: v.abs().mean() for k, v in y.items()}, {k: v.shape for k, v in y.items()}\n",
    "# y"
   ]
  },
  {
   "cell_type": "code",
   "execution_count": 62,
   "metadata": {},
   "outputs": [
    {
     "data": {
      "text/plain": [
       "=============================================================================================================================\n",
       "Layer (type:depth-idx)                             Input Shape               Output Shape              Param #\n",
       "=============================================================================================================================\n",
       "PLAE                                               [32, 6, 17920]            --                        --\n",
       "├─Affines: 1-1                                     [32, 6, 17920]            [32, 6, 17920]            --\n",
       "│    └─ModuleList: 2-1                             --                        --                        --\n",
       "│    │    └─AffineInstanceNorm1d: 3-1              [32, 17920]               [32, 17920]               --\n",
       "│    │    └─AffineInstanceNorm1d: 3-2              [32, 17920]               [32, 17920]               --\n",
       "│    │    └─AffineInstanceNorm1d: 3-3              [32, 17920]               [32, 17920]               --\n",
       "│    │    └─AffineInstanceNorm1d: 3-4              [32, 17920]               [32, 17920]               --\n",
       "│    │    └─AffineInstanceNorm1d: 3-5              [32, 17920]               [32, 17920]               --\n",
       "│    │    └─AffineInstanceNorm1d: 3-6              [32, 17920]               [32, 17920]               --\n",
       "├─Tokenizer: 1-2                                   --                        --                        (recursive)\n",
       "│    └─Encoder: 2-2                                [32, 6, 17920]            [32, 6, 256]              --\n",
       "│    │    └─Sequential: 3-9                        --                        --                        (recursive)\n",
       "│    │    │    └─NormedLinears: 4-1                [32, 6, 17920]            [32, 6, 64]               6,881,280\n",
       "│    │    │    └─NormedLinears: 4-2                [32, 6, 64]               [32, 6, 64]               24,576\n",
       "│    │    │    └─NormedLinears: 4-3                [32, 6, 64]               [32, 6, 256]              99,840\n",
       "│    └─Embedding: 2-3                              [768]                     [768, 64]                 4,096\n",
       "│    └─Decoder: 2-4                                [32, 6, 256]              [32, 6, 17920]            --\n",
       "│    │    └─Sequential: 3-10                       --                        --                        (recursive)\n",
       "│    │    │    └─NormedLinears: 4-4                [32, 6, 256]              [32, 6, 64]               98,304\n",
       "│    │    │    └─NormedLinears: 4-5                [32, 6, 64]               [32, 6, 64]               24,576\n",
       "│    │    │    └─NormedLinears: 4-6                [32, 6, 64]               [32, 6, 17920]            6,988,800\n",
       "├─Tokenizer: 1-3                                   [32, 6, 17920]            [32, 6, 64, 4]            14,121,472\n",
       "│    └─Encoder: 2-5                                [32, 6, 17920]            [32, 6, 256]              (recursive)\n",
       "│    │    └─Sequential: 3-9                        --                        --                        (recursive)\n",
       "│    │    │    └─NormedLinears: 4-7                [32, 6, 17920]            [32, 6, 64]               (recursive)\n",
       "│    │    │    └─NormedLinears: 4-8                [32, 6, 64]               [32, 6, 64]               (recursive)\n",
       "│    │    │    └─NormedLinears: 4-9                [32, 6, 64]               [32, 6, 256]              (recursive)\n",
       "│    └─Embedding: 2-6                              [768]                     [768, 64]                 (recursive)\n",
       "│    └─Decoder: 2-7                                [32, 6, 256]              [32, 6, 17920]            (recursive)\n",
       "│    │    └─Sequential: 3-10                       --                        --                        (recursive)\n",
       "│    │    │    └─NormedLinears: 4-10               [32, 6, 256]              [32, 6, 64]               (recursive)\n",
       "│    │    │    └─NormedLinears: 4-11               [32, 6, 64]               [32, 6, 64]               (recursive)\n",
       "│    │    │    └─NormedLinears: 4-12               [32, 6, 64]               [32, 6, 17920]            (recursive)\n",
       "├─Embedding: 1-4                                   [32, 6, 4]                [32, 6, 4, 64]            4,096\n",
       "├─Sequential: 1-5                                  [32, 1536]                [32, 1]                   --\n",
       "│    └─Linear: 2-8                                 [32, 1536]                [32, 1]                   1,537\n",
       "=============================================================================================================================\n",
       "Total params: 28,248,577\n",
       "Trainable params: 28,248,577\n",
       "Non-trainable params: 0\n",
       "Total mult-adds (Units.MEGABYTES): 909.98\n",
       "=============================================================================================================================\n",
       "Input size (MB): 13.76\n",
       "Forward/backward pass size (MB): 57.80\n",
       "Params size (MB): 56.51\n",
       "Estimated Total Size (MB): 128.07\n",
       "============================================================================================================================="
      ]
     },
     "execution_count": 62,
     "metadata": {},
     "output_type": "execute_result"
    }
   ],
   "source": [
    "from torchinfo import summary\n",
    "\n",
    "summary(net, input_data=x1, depth=4, col_names=(\"input_size\", \"output_size\", \"num_params\",))  # input_size=(batch_size, 1, 28, 28))"
   ]
  },
  {
   "cell_type": "markdown",
   "metadata": {},
   "source": [
    "### Train autoencoder"
   ]
  },
  {
   "cell_type": "code",
   "execution_count": 63,
   "metadata": {},
   "outputs": [],
   "source": [
    "torch.set_float32_matmul_precision(\"medium\")"
   ]
  },
  {
   "cell_type": "code",
   "execution_count": 64,
   "metadata": {},
   "outputs": [],
   "source": [
    "# with torch.no_grad():\n",
    "#     o = net.predict_step(b)\n",
    "#     l1_loss, l2_loss, loss, acts, h_reconstructed = net.ae(b[0])\n",
    "#     # l1_loss, l2_loss, loss, latent, h_rec = self.ae(x)"
   ]
  },
  {
   "cell_type": "code",
   "execution_count": 65,
   "metadata": {},
   "outputs": [
    {
     "name": "stderr",
     "output_type": "stream",
     "text": [
      "LOCAL_RANK: 0 - CUDA_VISIBLE_DEVICES: [0,1]\n",
      "\n",
      "  | Name  | Type       | Params\n",
      "-------------------------------------\n",
      "0 | norm  | Affines    | 0     \n",
      "1 | ae    | Tokenizer  | 14.1 M\n",
      "2 | embed | Embedding  | 4.1 K \n",
      "3 | head  | Sequential | 1.5 K \n",
      "-------------------------------------\n",
      "14.1 M    Trainable params\n",
      "0         Non-trainable params\n",
      "14.1 M    Total params\n",
      "56.508    Total estimated model params size (MB)\n"
     ]
    },
    {
     "name": "stdout",
     "output_type": "stream",
     "text": [
      "training ae\n",
      "requires_grad: True\n"
     ]
    },
    {
     "data": {
      "image/png": "[encoded data removed]",
      "text/plain": [
       "<Figure size 500x200 with 1 Axes>"
      ]
     },
     "metadata": {},
     "output_type": "display_data"
    },
    {
     "data": {
      "image/png": "[encoded data removed]",
      "text/plain": [
       "<Figure size 500x200 with 1 Axes>"
      ]
     },
     "metadata": {},
     "output_type": "display_data"
    },
    {
     "data": {
      "text/html": [
       "<div>\n",
       "<style scoped>\n",
       "    .dataframe tbody tr th:only-of-type {\n",
       "        vertical-align: middle;\n",
       "    }\n",
       "\n",
       "    .dataframe tbody tr th {\n",
       "        vertical-align: top;\n",
       "    }\n",
       "\n",
       "    .dataframe thead th {\n",
       "        text-align: right;\n",
       "    }\n",
       "</style>\n",
       "<table border=\"1\" class=\"dataframe\">\n",
       "  <thead>\n",
       "    <tr style=\"text-align: right;\">\n",
       "      <th></th>\n",
       "      <th>train/loss_rec_step</th>\n",
       "      <th>step</th>\n",
       "      <th>val/loss_rec_step</th>\n",
       "      <th>val/n</th>\n",
       "      <th>val/reconstruction_loss</th>\n",
       "      <th>val/loss_rec_epoch</th>\n",
       "      <th>val/commitment_loss</th>\n",
       "      <th>train/reconstruction_loss</th>\n",
       "      <th>train/commitment_loss</th>\n",
       "      <th>train/loss_rec_epoch</th>\n",
       "      <th>train/n</th>\n",
       "    </tr>\n",
       "    <tr>\n",
       "      <th>epoch</th>\n",
       "      <th></th>\n",
       "      <th></th>\n",
       "      <th></th>\n",
       "      <th></th>\n",
       "      <th></th>\n",
       "      <th></th>\n",
       "      <th></th>\n",
       "      <th></th>\n",
       "      <th></th>\n",
       "      <th></th>\n",
       "      <th></th>\n",
       "    </tr>\n",
       "  </thead>\n",
       "  <tbody>\n",
       "    <tr>\n",
       "      <th>0.0</th>\n",
       "      <td>0.830388</td>\n",
       "      <td>9</td>\n",
       "      <td>1.591304</td>\n",
       "      <td>154.0</td>\n",
       "      <td>1.284895</td>\n",
       "      <td>1.598791</td>\n",
       "      <td>0.313896</td>\n",
       "      <td>0.801153</td>\n",
       "      <td>0.030286</td>\n",
       "      <td>0.831438</td>\n",
       "      <td>307.0</td>\n",
       "    </tr>\n",
       "    <tr>\n",
       "      <th>1.0</th>\n",
       "      <td>0.823937</td>\n",
       "      <td>19</td>\n",
       "      <td>0.987580</td>\n",
       "      <td>154.0</td>\n",
       "      <td>0.937479</td>\n",
       "      <td>1.001011</td>\n",
       "      <td>0.063532</td>\n",
       "      <td>0.801022</td>\n",
       "      <td>0.022762</td>\n",
       "      <td>0.823784</td>\n",
       "      <td>307.0</td>\n",
       "    </tr>\n",
       "    <tr>\n",
       "      <th>2.0</th>\n",
       "      <td>0.819216</td>\n",
       "      <td>29</td>\n",
       "      <td>0.832777</td>\n",
       "      <td>154.0</td>\n",
       "      <td>0.831409</td>\n",
       "      <td>0.849607</td>\n",
       "      <td>0.018198</td>\n",
       "      <td>0.800843</td>\n",
       "      <td>0.016589</td>\n",
       "      <td>0.817432</td>\n",
       "      <td>307.0</td>\n",
       "    </tr>\n",
       "    <tr>\n",
       "      <th>3.0</th>\n",
       "      <td>0.815739</td>\n",
       "      <td>39</td>\n",
       "      <td>0.797623</td>\n",
       "      <td>154.0</td>\n",
       "      <td>0.804437</td>\n",
       "      <td>0.815112</td>\n",
       "      <td>0.010675</td>\n",
       "      <td>0.800550</td>\n",
       "      <td>0.012337</td>\n",
       "      <td>0.812887</td>\n",
       "      <td>307.0</td>\n",
       "    </tr>\n",
       "    <tr>\n",
       "      <th>4.0</th>\n",
       "      <td>0.820557</td>\n",
       "      <td>49</td>\n",
       "      <td>0.796528</td>\n",
       "      <td>154.0</td>\n",
       "      <td>0.799517</td>\n",
       "      <td>0.815477</td>\n",
       "      <td>0.015961</td>\n",
       "      <td>0.799900</td>\n",
       "      <td>0.012093</td>\n",
       "      <td>0.811993</td>\n",
       "      <td>307.0</td>\n",
       "    </tr>\n",
       "    <tr>\n",
       "      <th>...</th>\n",
       "      <td>...</td>\n",
       "      <td>...</td>\n",
       "      <td>...</td>\n",
       "      <td>...</td>\n",
       "      <td>...</td>\n",
       "      <td>...</td>\n",
       "      <td>...</td>\n",
       "      <td>...</td>\n",
       "      <td>...</td>\n",
       "      <td>...</td>\n",
       "      <td>...</td>\n",
       "    </tr>\n",
       "    <tr>\n",
       "      <th>79.0</th>\n",
       "      <td>0.724460</td>\n",
       "      <td>799</td>\n",
       "      <td>0.748762</td>\n",
       "      <td>154.0</td>\n",
       "      <td>0.748476</td>\n",
       "      <td>0.754461</td>\n",
       "      <td>0.005985</td>\n",
       "      <td>0.708684</td>\n",
       "      <td>0.011456</td>\n",
       "      <td>0.720141</td>\n",
       "      <td>307.0</td>\n",
       "    </tr>\n",
       "    <tr>\n",
       "      <th>80.0</th>\n",
       "      <td>0.724763</td>\n",
       "      <td>809</td>\n",
       "      <td>0.748729</td>\n",
       "      <td>154.0</td>\n",
       "      <td>0.748203</td>\n",
       "      <td>0.754195</td>\n",
       "      <td>0.005992</td>\n",
       "      <td>0.708669</td>\n",
       "      <td>0.011445</td>\n",
       "      <td>0.720114</td>\n",
       "      <td>307.0</td>\n",
       "    </tr>\n",
       "    <tr>\n",
       "      <th>81.0</th>\n",
       "      <td>0.724689</td>\n",
       "      <td>819</td>\n",
       "      <td>0.748711</td>\n",
       "      <td>154.0</td>\n",
       "      <td>0.748213</td>\n",
       "      <td>0.754215</td>\n",
       "      <td>0.006002</td>\n",
       "      <td>0.708387</td>\n",
       "      <td>0.011462</td>\n",
       "      <td>0.719849</td>\n",
       "      <td>307.0</td>\n",
       "    </tr>\n",
       "    <tr>\n",
       "      <th>82.0</th>\n",
       "      <td>0.724650</td>\n",
       "      <td>829</td>\n",
       "      <td>0.748706</td>\n",
       "      <td>154.0</td>\n",
       "      <td>0.748093</td>\n",
       "      <td>0.754097</td>\n",
       "      <td>0.006004</td>\n",
       "      <td>0.708388</td>\n",
       "      <td>0.011468</td>\n",
       "      <td>0.719856</td>\n",
       "      <td>307.0</td>\n",
       "    </tr>\n",
       "    <tr>\n",
       "      <th>83.0</th>\n",
       "      <td>0.724641</td>\n",
       "      <td>839</td>\n",
       "      <td>0.748704</td>\n",
       "      <td>154.0</td>\n",
       "      <td>0.748092</td>\n",
       "      <td>0.754097</td>\n",
       "      <td>0.006005</td>\n",
       "      <td>0.708532</td>\n",
       "      <td>0.011471</td>\n",
       "      <td>0.720002</td>\n",
       "      <td>307.0</td>\n",
       "    </tr>\n",
       "  </tbody>\n",
       "</table>\n",
       "<p>84 rows × 11 columns</p>\n",
       "</div>"
      ],
      "text/plain": [
       "       train/loss_rec_step  step  val/loss_rec_step  val/n  \\\n",
       "epoch                                                        \n",
       "0.0               0.830388     9           1.591304  154.0   \n",
       "1.0               0.823937    19           0.987580  154.0   \n",
       "2.0               0.819216    29           0.832777  154.0   \n",
       "3.0               0.815739    39           0.797623  154.0   \n",
       "4.0               0.820557    49           0.796528  154.0   \n",
       "...                    ...   ...                ...    ...   \n",
       "79.0              0.724460   799           0.748762  154.0   \n",
       "80.0              0.724763   809           0.748729  154.0   \n",
       "81.0              0.724689   819           0.748711  154.0   \n",
       "82.0              0.724650   829           0.748706  154.0   \n",
       "83.0              0.724641   839           0.748704  154.0   \n",
       "\n",
       "       val/reconstruction_loss  val/loss_rec_epoch  val/commitment_loss  \\\n",
       "epoch                                                                     \n",
       "0.0                   1.284895            1.598791             0.313896   \n",
       "1.0                   0.937479            1.001011             0.063532   \n",
       "2.0                   0.831409            0.849607             0.018198   \n",
       "3.0                   0.804437            0.815112             0.010675   \n",
       "4.0                   0.799517            0.815477             0.015961   \n",
       "...                        ...                 ...                  ...   \n",
       "79.0                  0.748476            0.754461             0.005985   \n",
       "80.0                  0.748203            0.754195             0.005992   \n",
       "81.0                  0.748213            0.754215             0.006002   \n",
       "82.0                  0.748093            0.754097             0.006004   \n",
       "83.0                  0.748092            0.754097             0.006005   \n",
       "\n",
       "       train/reconstruction_loss  train/commitment_loss  train/loss_rec_epoch  \\\n",
       "epoch                                                                           \n",
       "0.0                     0.801153               0.030286              0.831438   \n",
       "1.0                     0.801022               0.022762              0.823784   \n",
       "2.0                     0.800843               0.016589              0.817432   \n",
       "3.0                     0.800550               0.012337              0.812887   \n",
       "4.0                     0.799900               0.012093              0.811993   \n",
       "...                          ...                    ...                   ...   \n",
       "79.0                    0.708684               0.011456              0.720141   \n",
       "80.0                    0.708669               0.011445              0.720114   \n",
       "81.0                    0.708387               0.011462              0.719849   \n",
       "82.0                    0.708388               0.011468              0.719856   \n",
       "83.0                    0.708532               0.011471              0.720002   \n",
       "\n",
       "       train/n  \n",
       "epoch           \n",
       "0.0      307.0  \n",
       "1.0      307.0  \n",
       "2.0      307.0  \n",
       "3.0      307.0  \n",
       "4.0      307.0  \n",
       "...        ...  \n",
       "79.0     307.0  \n",
       "80.0     307.0  \n",
       "81.0     307.0  \n",
       "82.0     307.0  \n",
       "83.0     307.0  \n",
       "\n",
       "[84 rows x 11 columns]"
      ]
     },
     "metadata": {},
     "output_type": "display_data"
    }
   ],
   "source": [
    "net.ae_mode(0)\n",
    "trainer1 = pl.Trainer(\n",
    "    precision=\"16-mixed\",\n",
    "    gradient_clip_val=20,\n",
    "    accelerator=\"auto\",\n",
    "    devices=\"1\",\n",
    "    max_epochs=max_epochs,  # * VAE_EPOCH_MULT,\n",
    "    log_every_n_steps=1,\n",
    "    enable_progress_bar=verbose,\n",
    "    # enable_model_summary=verbose,\n",
    ")\n",
    "\n",
    "# LOAD_CHECKPONT = Path('/media/wassname/SGIronWolf/projects5/elk/sgd_probes_are_lie_detectors/notebooks/lightning_logs/version_52/1_ae.ckpt')\n",
    "LOAD_CHECKPONT = None\n",
    "if LOAD_CHECKPONT:\n",
    "    PLAE.load_from_checkpoint(LOAD_CHECKPONT)\n",
    "else:\n",
    "    trainer1.fit(model=net, train_dataloaders=dl_train, val_dataloaders=dl_val)\n",
    "    df_hist, df_hist_step = read_metrics_csv(\n",
    "        trainer1.logger.experiment.metrics_file_path\n",
    "    )\n",
    "    plot_hist(df_hist, [\"reconstruction_loss\", \"commitment_loss\", \"loss_rec\"], logy=True)\n",
    "    # plt.show()\n",
    "    # plot_hist(df_hist_step, ['loss_rec_step'], logy=True)\n",
    "\n",
    "    display(df_hist)"
   ]
  },
  {
   "cell_type": "code",
   "execution_count": 66,
   "metadata": {},
   "outputs": [],
   "source": [
    "# plot_hist(df_hist, [\"reconstruction_loss\", \"commitment_loss\", \"loss_rec\"], logy=True)"
   ]
  },
  {
   "cell_type": "code",
   "execution_count": 67,
   "metadata": {},
   "outputs": [],
   "source": [
    "df_hist, df_hist_step = read_metrics_csv(trainer1.logger.experiment.metrics_file_path)"
   ]
  },
  {
   "cell_type": "code",
   "execution_count": 68,
   "metadata": {},
   "outputs": [
    {
     "name": "stderr",
     "output_type": "stream",
     "text": [
      "LOCAL_RANK: 0 - CUDA_VISIBLE_DEVICES: [0,1]\n"
     ]
    },
    {
     "name": "stdout",
     "output_type": "stream",
     "text": [
      "|                     |   train |     val |    test |     ood |\n",
      "|:--------------------|--------:|--------:|--------:|--------:|\n",
      "| loss_rec_epoch      |   0.718 |   0.754 |   0.734 |   0.731 |\n",
      "| commitment_loss     |   0.01  |   0.006 |   0.005 |   0.008 |\n",
      "| reconstruction_loss |   0.708 |   0.748 |   0.729 |   0.724 |\n",
      "| n                   | 307     | 154     | 154     | 615     |\n"
     ]
    }
   ],
   "source": [
    "rs3r = trainer1.test(\n",
    "    net, dataloaders=[dl_train, dl_val, dl_test, dl_ood], verbose=False\n",
    ")\n",
    "rs3 = rename_pl_test_results(rs3r, [\"train\", \"val\", \"test\", \"ood\"])"
   ]
  },
  {
   "cell_type": "markdown",
   "metadata": {},
   "source": [
    "#### QC"
   ]
  },
  {
   "cell_type": "code",
   "execution_count": 69,
   "metadata": {},
   "outputs": [
    {
     "name": "stdout",
     "output_type": "stream",
     "text": [
      "QC: view latent\n"
     ]
    }
   ],
   "source": [
    "x1 = x[..., 0]\n",
    "with torch.no_grad():\n",
    "    y = net(x1)\n",
    "\n",
    "print('QC: view latent')\n"
   ]
  },
  {
   "cell_type": "code",
   "execution_count": 70,
   "metadata": {},
   "outputs": [
    {
     "name": "stdout",
     "output_type": "stream",
     "text": [
      "z before quant\n"
     ]
    },
    {
     "data": {
      "image/png": "[encoded data removed]",
      "text/plain": [
       "<Figure size 400x300 with 8 Axes>"
      ]
     },
     "metadata": {},
     "output_type": "display_data"
    },
    {
     "name": "stdout",
     "output_type": "stream",
     "text": [
      "torch.Size([6, 2048])\n"
     ]
    },
    {
     "data": {
      "image/png": "[encoded data removed]",
      "text/plain": [
       "<Figure size 400x300 with 1 Axes>"
      ]
     },
     "metadata": {},
     "output_type": "display_data"
    }
   ],
   "source": [
    "print('z before quant')\n",
    "plot_latent(y['z'][..., 0]) \n"
   ]
  },
  {
   "cell_type": "code",
   "execution_count": 71,
   "metadata": {},
   "outputs": [
    {
     "name": "stdout",
     "output_type": "stream",
     "text": [
      "z_q after embed(z.argmin())\n"
     ]
    },
    {
     "data": {
      "image/png": "[encoded data removed]",
      "text/plain": [
       "<Figure size 400x300 with 8 Axes>"
      ]
     },
     "metadata": {},
     "output_type": "display_data"
    },
    {
     "name": "stdout",
     "output_type": "stream",
     "text": [
      "torch.Size([6, 128])\n"
     ]
    },
    {
     "data": {
      "image/png": "[encoded data removed]",
      "text/plain": [
       "<Figure size 400x300 with 1 Axes>"
      ]
     },
     "metadata": {},
     "output_type": "display_data"
    }
   ],
   "source": [
    "print('z_q after embed(z.argmin())')\n",
    "latent = y[\"latent\"].cpu()  # .reshape(64, 24, 12) # [Batch, Latent, Layer]\n",
    "plot_latent(latent[..., 0])"
   ]
  },
  {
   "cell_type": "code",
   "execution_count": 72,
   "metadata": {},
   "outputs": [
    {
     "name": "stdout",
     "output_type": "stream",
     "text": [
      "QC: latent usage 100.00%\n"
     ]
    }
   ],
   "source": [
    "sparsity = ((latent!=0) * 1.0).mean()\n",
    "print(f'QC: latent usage {sparsity:2.2%}')\n",
    "# sparsity_mult = y['l1_losses']/y['l1_raw']\n",
    "# print(f'QC: sparsity multiplier per layer {sparsity_mult.mean(0)}')"
   ]
  },
  {
   "cell_type": "code",
   "execution_count": 73,
   "metadata": {},
   "outputs": [],
   "source": [
    "# z_q.shape"
   ]
  },
  {
   "cell_type": "code",
   "execution_count": 74,
   "metadata": {},
   "outputs": [
    {
     "data": {
      "text/plain": [
       "tensor([[[10, 57, 27,  7],\n",
       "         [57, 33, 53, 55],\n",
       "         [56, 41, 12,  2],\n",
       "         [60,  8, 19,  4],\n",
       "         [15,  1, 16, 29],\n",
       "         [17, 35,  2, 43]],\n",
       "\n",
       "        [[10, 57, 27,  7],\n",
       "         [30, 54, 37, 42],\n",
       "         [32, 40, 38, 15],\n",
       "         [44, 24, 58, 33],\n",
       "         [28, 32, 21, 63],\n",
       "         [17, 35,  2, 43]],\n",
       "\n",
       "        [[10, 57, 27,  7],\n",
       "         [14, 49, 16, 55],\n",
       "         [13, 41, 15, 26],\n",
       "         [ 1, 22,  5,  4],\n",
       "         [58, 33, 24, 29],\n",
       "         [17, 35,  2, 43]],\n",
       "\n",
       "        [[10, 57, 27,  7],\n",
       "         [30,  1,  7, 42],\n",
       "         [28, 41, 15, 32],\n",
       "         [49,  8, 20,  4],\n",
       "         [58, 33, 24, 29],\n",
       "         [17, 35,  2, 43]],\n",
       "\n",
       "        [[10, 57, 27,  7],\n",
       "         [30,  1, 44, 42],\n",
       "         [17, 41, 15,  2],\n",
       "         [49, 31, 45, 26],\n",
       "         [58, 54, 31, 36],\n",
       "         [17, 35,  2, 43]],\n",
       "\n",
       "        [[10, 57, 27,  7],\n",
       "         [14, 49, 16, 55],\n",
       "         [13, 41, 15, 26],\n",
       "         [ 1, 22,  5,  4],\n",
       "         [15,  1, 16, 29],\n",
       "         [17, 35,  2, 43]],\n",
       "\n",
       "        [[10, 57, 27,  7],\n",
       "         [14, 49, 16, 55],\n",
       "         [13, 41, 15, 26],\n",
       "         [ 1, 22,  5,  4],\n",
       "         [58, 33, 24, 36],\n",
       "         [17, 35,  2, 43]],\n",
       "\n",
       "        [[10, 57, 27,  7],\n",
       "         [30,  1, 44, 42],\n",
       "         [17, 41, 12,  2],\n",
       "         [60,  8, 20,  4],\n",
       "         [58, 33, 24, 36],\n",
       "         [17, 35,  2, 43]],\n",
       "\n",
       "        [[10, 57, 27,  7],\n",
       "         [14, 49, 16, 55],\n",
       "         [13, 41, 15, 26],\n",
       "         [ 1, 22,  5,  4],\n",
       "         [28, 32, 21, 63],\n",
       "         [17, 35,  2, 43]],\n",
       "\n",
       "        [[10, 57, 27,  7],\n",
       "         [14, 49, 16, 55],\n",
       "         [13, 41, 15, 26],\n",
       "         [ 1, 22,  5,  4],\n",
       "         [28, 32, 21, 63],\n",
       "         [17, 35,  2, 43]],\n",
       "\n",
       "        [[10, 57, 27,  7],\n",
       "         [14, 49, 16, 55],\n",
       "         [13, 41, 15, 26],\n",
       "         [ 1, 22,  5,  4],\n",
       "         [28, 32, 21, 63],\n",
       "         [17, 35,  2, 43]],\n",
       "\n",
       "        [[10, 57, 27,  7],\n",
       "         [14, 49, 16, 55],\n",
       "         [13, 41, 15, 26],\n",
       "         [ 1, 22,  5,  4],\n",
       "         [58, 33, 24, 36],\n",
       "         [17, 35,  2, 43]],\n",
       "\n",
       "        [[10, 57, 27,  7],\n",
       "         [14, 49, 16, 55],\n",
       "         [13, 41, 15, 26],\n",
       "         [ 1, 22,  5,  4],\n",
       "         [58, 33, 24, 36],\n",
       "         [17, 35,  2, 43]],\n",
       "\n",
       "        [[10, 57, 27,  7],\n",
       "         [14, 49, 16, 55],\n",
       "         [13, 41, 15, 26],\n",
       "         [ 1, 22,  5,  4],\n",
       "         [15,  1, 16, 29],\n",
       "         [17, 35,  2, 43]],\n",
       "\n",
       "        [[10, 57, 27,  7],\n",
       "         [57, 33, 53, 55],\n",
       "         [56, 41, 12,  2],\n",
       "         [60,  8, 19,  4],\n",
       "         [15,  1, 16, 32],\n",
       "         [17, 35,  2, 43]],\n",
       "\n",
       "        [[10, 57, 27,  7],\n",
       "         [14, 49, 16, 55],\n",
       "         [13, 41, 15, 26],\n",
       "         [ 1, 22,  5,  4],\n",
       "         [58, 33, 24, 36],\n",
       "         [17, 35,  2, 43]],\n",
       "\n",
       "        [[10, 57, 27,  7],\n",
       "         [14, 49, 16, 55],\n",
       "         [13, 41, 15, 26],\n",
       "         [ 1, 22,  5,  4],\n",
       "         [28, 32, 21, 63],\n",
       "         [17, 35,  2, 43]],\n",
       "\n",
       "        [[10, 57, 27,  7],\n",
       "         [14, 49, 16, 55],\n",
       "         [13, 41, 15, 26],\n",
       "         [ 1, 22,  5,  4],\n",
       "         [58, 33, 24, 29],\n",
       "         [17, 35,  2, 43]],\n",
       "\n",
       "        [[10, 57, 27,  7],\n",
       "         [14, 49, 16, 55],\n",
       "         [13, 41, 15, 26],\n",
       "         [ 1, 22,  5,  4],\n",
       "         [15, 33, 16, 29],\n",
       "         [17, 35,  2, 43]],\n",
       "\n",
       "        [[10, 57, 27,  7],\n",
       "         [30, 54, 37,  3],\n",
       "         [61, 40, 38, 58],\n",
       "         [35, 21, 58, 13],\n",
       "         [28, 32, 21, 63],\n",
       "         [17, 35,  2, 43]],\n",
       "\n",
       "        [[10, 57, 27,  7],\n",
       "         [14, 49, 16, 55],\n",
       "         [13, 41, 15, 26],\n",
       "         [ 1, 22,  5,  4],\n",
       "         [28, 32, 21, 63],\n",
       "         [17, 35,  2, 43]],\n",
       "\n",
       "        [[10, 57, 27,  7],\n",
       "         [14, 49, 16, 55],\n",
       "         [13, 41, 15, 26],\n",
       "         [ 1, 22,  5,  4],\n",
       "         [28, 32, 21, 63],\n",
       "         [17, 35,  2, 43]],\n",
       "\n",
       "        [[10, 57, 27,  7],\n",
       "         [14, 49, 16, 55],\n",
       "         [13, 41, 15, 26],\n",
       "         [ 1, 22,  5,  4],\n",
       "         [28, 32, 21, 63],\n",
       "         [17, 35,  2, 43]],\n",
       "\n",
       "        [[10, 57, 27,  7],\n",
       "         [22, 33, 37, 42],\n",
       "         [61,  6, 14, 26],\n",
       "         [13, 24, 39, 26],\n",
       "         [28, 32, 21, 63],\n",
       "         [17, 35,  2, 43]],\n",
       "\n",
       "        [[10, 57, 27,  7],\n",
       "         [14, 49, 16, 55],\n",
       "         [13, 41, 15, 26],\n",
       "         [ 1, 22,  5,  4],\n",
       "         [28, 32, 21, 63],\n",
       "         [17, 35,  2, 43]],\n",
       "\n",
       "        [[10, 57, 27,  7],\n",
       "         [14, 49, 16, 55],\n",
       "         [13, 41, 15, 26],\n",
       "         [ 1, 22,  5,  4],\n",
       "         [28, 32, 21, 63],\n",
       "         [17, 35,  2, 43]],\n",
       "\n",
       "        [[10, 57, 27,  7],\n",
       "         [22,  1, 32, 42],\n",
       "         [13, 41, 15, 26],\n",
       "         [60,  8, 20,  4],\n",
       "         [28, 32, 21, 63],\n",
       "         [17, 35,  2, 43]],\n",
       "\n",
       "        [[10, 57, 27,  7],\n",
       "         [14, 49, 16, 55],\n",
       "         [13, 41, 15, 26],\n",
       "         [ 1, 22,  5,  4],\n",
       "         [28, 32, 21, 63],\n",
       "         [17, 35,  2, 43]],\n",
       "\n",
       "        [[10, 57, 27,  7],\n",
       "         [14, 32, 16, 32],\n",
       "         [17, 41, 12,  2],\n",
       "         [60,  8, 20,  4],\n",
       "         [15, 32, 21, 16],\n",
       "         [17, 35,  2, 43]],\n",
       "\n",
       "        [[10, 57, 27,  7],\n",
       "         [14, 49, 16, 55],\n",
       "         [13, 41, 15, 26],\n",
       "         [ 1, 22,  5,  4],\n",
       "         [28, 32, 21, 63],\n",
       "         [17, 35,  2, 43]],\n",
       "\n",
       "        [[10, 57, 27,  7],\n",
       "         [14, 49, 16, 55],\n",
       "         [13, 41, 15, 26],\n",
       "         [ 1, 22,  5,  4],\n",
       "         [15,  1, 16, 29],\n",
       "         [17, 35,  2, 43]],\n",
       "\n",
       "        [[10, 57, 27,  7],\n",
       "         [14, 49, 16, 55],\n",
       "         [13, 41, 15, 26],\n",
       "         [ 1, 22,  5,  4],\n",
       "         [28, 32, 21, 63],\n",
       "         [17, 35,  2, 43]]])"
      ]
     },
     "execution_count": 74,
     "metadata": {},
     "output_type": "execute_result"
    }
   ],
   "source": [
    "# FIXME :bug: they should all be diff it's [batch, layer]\n",
    "# ok so the original had 4 inner pixels and one token per pixel [1, 64, 4, 4]\n",
    "# while we have [512, 1, 1]\n",
    "y['tokens']\n",
    "# wait we shouldn't have a single token for each layer... hmm something is wrong here"
   ]
  },
  {
   "cell_type": "markdown",
   "metadata": {},
   "source": [
    "### Train probe"
   ]
  },
  {
   "cell_type": "code",
   "execution_count": 75,
   "metadata": {},
   "outputs": [
    {
     "name": "stderr",
     "output_type": "stream",
     "text": [
      "LOCAL_RANK: 0 - CUDA_VISIBLE_DEVICES: [0,1]\n",
      "\n",
      "  | Name  | Type       | Params\n",
      "-------------------------------------\n",
      "0 | norm  | Affines    | 0     \n",
      "1 | ae    | Tokenizer  | 14.1 M\n",
      "2 | embed | Embedding  | 4.1 K \n",
      "3 | head  | Sequential | 1.5 K \n",
      "-------------------------------------\n",
      "5.6 K     Trainable params\n",
      "14.1 M    Non-trainable params\n",
      "14.1 M    Total params\n",
      "56.508    Total estimated model params size (MB)\n"
     ]
    },
    {
     "name": "stdout",
     "output_type": "stream",
     "text": [
      "training probe\n",
      "requires_grad: False\n"
     ]
    }
   ],
   "source": [
    "net.ae_mode(1)\n",
    "trainer2 = pl.Trainer(\n",
    "    # precision=\"16-mixed\",\n",
    "    gradient_clip_val=20,\n",
    "    max_epochs=max_epochs,\n",
    "    log_every_n_steps=1,\n",
    "    enable_progress_bar=verbose,\n",
    "    # enable_model_summary=verbose,\n",
    "    # callbacks=[lr_logger],\n",
    ")\n",
    "trainer2.fit(model=net, train_dataloaders=dl_train, val_dataloaders=dl_val);"
   ]
  },
  {
   "cell_type": "code",
   "execution_count": null,
   "metadata": {},
   "outputs": [],
   "source": []
  },
  {
   "cell_type": "code",
   "execution_count": 76,
   "metadata": {},
   "outputs": [
    {
     "data": {
      "image/png": "[encoded data removed]",
      "text/plain": [
       "<Figure size 500x200 with 1 Axes>"
      ]
     },
     "metadata": {},
     "output_type": "display_data"
    },
    {
     "data": {
      "image/png": "[encoded data removed]",
      "text/plain": [
       "<Figure size 500x200 with 1 Axes>"
      ]
     },
     "metadata": {},
     "output_type": "display_data"
    },
    {
     "data": {
      "text/html": [
       "<div>\n",
       "<style scoped>\n",
       "    .dataframe tbody tr th:only-of-type {\n",
       "        vertical-align: middle;\n",
       "    }\n",
       "\n",
       "    .dataframe tbody tr th {\n",
       "        vertical-align: top;\n",
       "    }\n",
       "\n",
       "    .dataframe thead th {\n",
       "        text-align: right;\n",
       "    }\n",
       "</style>\n",
       "<table border=\"1\" class=\"dataframe\">\n",
       "  <thead>\n",
       "    <tr style=\"text-align: right;\">\n",
       "      <th></th>\n",
       "      <th>train/loss_pred_step</th>\n",
       "      <th>step</th>\n",
       "      <th>val/loss_pred_step</th>\n",
       "      <th>val/n</th>\n",
       "      <th>val/loss_pred_epoch</th>\n",
       "      <th>val/acc</th>\n",
       "      <th>val/auroc</th>\n",
       "      <th>train/loss_pred_epoch</th>\n",
       "      <th>train/n</th>\n",
       "      <th>train/auroc</th>\n",
       "      <th>train/acc</th>\n",
       "    </tr>\n",
       "    <tr>\n",
       "      <th>epoch</th>\n",
       "      <th></th>\n",
       "      <th></th>\n",
       "      <th></th>\n",
       "      <th></th>\n",
       "      <th></th>\n",
       "      <th></th>\n",
       "      <th></th>\n",
       "      <th></th>\n",
       "      <th></th>\n",
       "      <th></th>\n",
       "      <th></th>\n",
       "    </tr>\n",
       "  </thead>\n",
       "  <tbody>\n",
       "    <tr>\n",
       "      <th>0.0</th>\n",
       "      <td>0.765303</td>\n",
       "      <td>9</td>\n",
       "      <td>0.634147</td>\n",
       "      <td>154.0</td>\n",
       "      <td>0.663455</td>\n",
       "      <td>0.597403</td>\n",
       "      <td>0.719958</td>\n",
       "      <td>0.662669</td>\n",
       "      <td>307.0</td>\n",
       "      <td>0.602313</td>\n",
       "      <td>0.599349</td>\n",
       "    </tr>\n",
       "    <tr>\n",
       "      <th>1.0</th>\n",
       "      <td>0.731404</td>\n",
       "      <td>19</td>\n",
       "      <td>0.647584</td>\n",
       "      <td>154.0</td>\n",
       "      <td>0.638451</td>\n",
       "      <td>0.649351</td>\n",
       "      <td>0.731270</td>\n",
       "      <td>0.642907</td>\n",
       "      <td>307.0</td>\n",
       "      <td>0.632461</td>\n",
       "      <td>0.638436</td>\n",
       "    </tr>\n",
       "    <tr>\n",
       "      <th>2.0</th>\n",
       "      <td>0.723711</td>\n",
       "      <td>29</td>\n",
       "      <td>0.644352</td>\n",
       "      <td>154.0</td>\n",
       "      <td>0.630215</td>\n",
       "      <td>0.694805</td>\n",
       "      <td>0.751329</td>\n",
       "      <td>0.635357</td>\n",
       "      <td>307.0</td>\n",
       "      <td>0.655084</td>\n",
       "      <td>0.657980</td>\n",
       "    </tr>\n",
       "    <tr>\n",
       "      <th>3.0</th>\n",
       "      <td>0.745498</td>\n",
       "      <td>39</td>\n",
       "      <td>0.626300</td>\n",
       "      <td>154.0</td>\n",
       "      <td>0.632099</td>\n",
       "      <td>0.616883</td>\n",
       "      <td>0.751401</td>\n",
       "      <td>0.626322</td>\n",
       "      <td>307.0</td>\n",
       "      <td>0.676027</td>\n",
       "      <td>0.657980</td>\n",
       "    </tr>\n",
       "    <tr>\n",
       "      <th>4.0</th>\n",
       "      <td>0.725142</td>\n",
       "      <td>49</td>\n",
       "      <td>0.633609</td>\n",
       "      <td>154.0</td>\n",
       "      <td>0.615120</td>\n",
       "      <td>0.681818</td>\n",
       "      <td>0.757774</td>\n",
       "      <td>0.615863</td>\n",
       "      <td>307.0</td>\n",
       "      <td>0.692907</td>\n",
       "      <td>0.674267</td>\n",
       "    </tr>\n",
       "    <tr>\n",
       "      <th>...</th>\n",
       "      <td>...</td>\n",
       "      <td>...</td>\n",
       "      <td>...</td>\n",
       "      <td>...</td>\n",
       "      <td>...</td>\n",
       "      <td>...</td>\n",
       "      <td>...</td>\n",
       "      <td>...</td>\n",
       "      <td>...</td>\n",
       "      <td>...</td>\n",
       "      <td>...</td>\n",
       "    </tr>\n",
       "    <tr>\n",
       "      <th>79.0</th>\n",
       "      <td>0.613500</td>\n",
       "      <td>799</td>\n",
       "      <td>0.653726</td>\n",
       "      <td>154.0</td>\n",
       "      <td>0.640843</td>\n",
       "      <td>0.727273</td>\n",
       "      <td>0.730783</td>\n",
       "      <td>0.481333</td>\n",
       "      <td>307.0</td>\n",
       "      <td>0.798730</td>\n",
       "      <td>0.755700</td>\n",
       "    </tr>\n",
       "    <tr>\n",
       "      <th>80.0</th>\n",
       "      <td>0.613514</td>\n",
       "      <td>809</td>\n",
       "      <td>0.653646</td>\n",
       "      <td>154.0</td>\n",
       "      <td>0.640875</td>\n",
       "      <td>0.727273</td>\n",
       "      <td>0.730783</td>\n",
       "      <td>0.481263</td>\n",
       "      <td>307.0</td>\n",
       "      <td>0.798730</td>\n",
       "      <td>0.755700</td>\n",
       "    </tr>\n",
       "    <tr>\n",
       "      <th>81.0</th>\n",
       "      <td>0.613525</td>\n",
       "      <td>819</td>\n",
       "      <td>0.653588</td>\n",
       "      <td>154.0</td>\n",
       "      <td>0.640895</td>\n",
       "      <td>0.727273</td>\n",
       "      <td>0.730783</td>\n",
       "      <td>0.481213</td>\n",
       "      <td>307.0</td>\n",
       "      <td>0.798730</td>\n",
       "      <td>0.755700</td>\n",
       "    </tr>\n",
       "    <tr>\n",
       "      <th>82.0</th>\n",
       "      <td>0.613533</td>\n",
       "      <td>829</td>\n",
       "      <td>0.653552</td>\n",
       "      <td>154.0</td>\n",
       "      <td>0.640905</td>\n",
       "      <td>0.727273</td>\n",
       "      <td>0.730783</td>\n",
       "      <td>0.481180</td>\n",
       "      <td>307.0</td>\n",
       "      <td>0.798730</td>\n",
       "      <td>0.755700</td>\n",
       "    </tr>\n",
       "    <tr>\n",
       "      <th>83.0</th>\n",
       "      <td>0.613536</td>\n",
       "      <td>839</td>\n",
       "      <td>0.653539</td>\n",
       "      <td>154.0</td>\n",
       "      <td>0.640909</td>\n",
       "      <td>0.727273</td>\n",
       "      <td>0.730783</td>\n",
       "      <td>0.481165</td>\n",
       "      <td>307.0</td>\n",
       "      <td>0.798730</td>\n",
       "      <td>0.755700</td>\n",
       "    </tr>\n",
       "  </tbody>\n",
       "</table>\n",
       "<p>84 rows × 11 columns</p>\n",
       "</div>"
      ],
      "text/plain": [
       "       train/loss_pred_step  step  val/loss_pred_step  val/n  \\\n",
       "epoch                                                          \n",
       "0.0                0.765303     9            0.634147  154.0   \n",
       "1.0                0.731404    19            0.647584  154.0   \n",
       "2.0                0.723711    29            0.644352  154.0   \n",
       "3.0                0.745498    39            0.626300  154.0   \n",
       "4.0                0.725142    49            0.633609  154.0   \n",
       "...                     ...   ...                 ...    ...   \n",
       "79.0               0.613500   799            0.653726  154.0   \n",
       "80.0               0.613514   809            0.653646  154.0   \n",
       "81.0               0.613525   819            0.653588  154.0   \n",
       "82.0               0.613533   829            0.653552  154.0   \n",
       "83.0               0.613536   839            0.653539  154.0   \n",
       "\n",
       "       val/loss_pred_epoch   val/acc  val/auroc  train/loss_pred_epoch  \\\n",
       "epoch                                                                    \n",
       "0.0               0.663455  0.597403   0.719958               0.662669   \n",
       "1.0               0.638451  0.649351   0.731270               0.642907   \n",
       "2.0               0.630215  0.694805   0.751329               0.635357   \n",
       "3.0               0.632099  0.616883   0.751401               0.626322   \n",
       "4.0               0.615120  0.681818   0.757774               0.615863   \n",
       "...                    ...       ...        ...                    ...   \n",
       "79.0              0.640843  0.727273   0.730783               0.481333   \n",
       "80.0              0.640875  0.727273   0.730783               0.481263   \n",
       "81.0              0.640895  0.727273   0.730783               0.481213   \n",
       "82.0              0.640905  0.727273   0.730783               0.481180   \n",
       "83.0              0.640909  0.727273   0.730783               0.481165   \n",
       "\n",
       "       train/n  train/auroc  train/acc  \n",
       "epoch                                   \n",
       "0.0      307.0     0.602313   0.599349  \n",
       "1.0      307.0     0.632461   0.638436  \n",
       "2.0      307.0     0.655084   0.657980  \n",
       "3.0      307.0     0.676027   0.657980  \n",
       "4.0      307.0     0.692907   0.674267  \n",
       "...        ...          ...        ...  \n",
       "79.0     307.0     0.798730   0.755700  \n",
       "80.0     307.0     0.798730   0.755700  \n",
       "81.0     307.0     0.798730   0.755700  \n",
       "82.0     307.0     0.798730   0.755700  \n",
       "83.0     307.0     0.798730   0.755700  \n",
       "\n",
       "[84 rows x 11 columns]"
      ]
     },
     "execution_count": 76,
     "metadata": {},
     "output_type": "execute_result"
    }
   ],
   "source": [
    "df_hist, _ = read_metrics_csv(trainer2.logger.experiment.metrics_file_path)\n",
    "plot_hist(df_hist, [\"loss_pred_epoch\", \"auroc\"])\n",
    "df_hist"
   ]
  },
  {
   "cell_type": "code",
   "execution_count": 77,
   "metadata": {},
   "outputs": [
    {
     "name": "stderr",
     "output_type": "stream",
     "text": [
      "LOCAL_RANK: 0 - CUDA_VISIBLE_DEVICES: [0,1]\n"
     ]
    },
    {
     "name": "stdout",
     "output_type": "stream",
     "text": [
      "|                 |   train |     val |    test |     ood |\n",
      "|:----------------|--------:|--------:|--------:|--------:|\n",
      "| auroc           |   0.704 |   0.731 |   0.646 |   0.701 |\n",
      "| acc             |   0.668 |   0.727 |   0.578 |   0.66  |\n",
      "| loss_pred_epoch |   0.604 |   0.641 |   0.819 |   0.667 |\n",
      "| n               | 307     | 154     | 154     | 615     |\n"
     ]
    }
   ],
   "source": [
    "rs3r = trainer2.test(\n",
    "    net, dataloaders=[dl_train, dl_val, dl_test, dl_ood], verbose=False\n",
    ")\n",
    "rs3 = rename_pl_test_results(rs3r, [\"train\", \"val\", \"test\", \"ood\"])"
   ]
  },
  {
   "cell_type": "code",
   "execution_count": null,
   "metadata": {},
   "outputs": [],
   "source": []
  },
  {
   "cell_type": "code",
   "execution_count": 78,
   "metadata": {},
   "outputs": [
    {
     "name": "stderr",
     "output_type": "stream",
     "text": [
      "LOCAL_RANK: 0 - CUDA_VISIBLE_DEVICES: [0,1]\n"
     ]
    },
    {
     "name": "stderr",
     "output_type": "stream",
     "text": [
      "LOCAL_RANK: 0 - CUDA_VISIBLE_DEVICES: [0,1]\n"
     ]
    },
    {
     "name": "stdout",
     "output_type": "stream",
     "text": [
      "\n",
      "\n",
      "probe accuracy for quadrants:\n",
      "| instructed to   |   did |   didn't |\n",
      "|:----------------|------:|---------:|\n",
      "| tell a truth    |  0.54 |     0.57 |\n",
      "| tell a lie      |  0.88 |     0.62 |\n",
      "\n",
      "\n",
      "\n"
     ]
    },
    {
     "name": "stderr",
     "output_type": "stream",
     "text": [
      "LOCAL_RANK: 0 - CUDA_VISIBLE_DEVICES: [0,1]\n"
     ]
    },
    {
     "name": "stdout",
     "output_type": "stream",
     "text": [
      "\n",
      "\n",
      "probe accuracy for quadrants:\n",
      "| instructed to   |   did |   didn't |\n",
      "|:----------------|------:|---------:|\n",
      "| tell a truth    |  0.69 |     0.77 |\n",
      "| tell a lie      |  1    |     0.88 |\n",
      "\n",
      "\n",
      "\n",
      "\n",
      "\n",
      "probe accuracy for quadrants:\n",
      "| instructed to   |   did |   didn't |\n",
      "|:----------------|------:|---------:|\n",
      "| tell a truth    |  0.65 |     0.66 |\n",
      "| tell a lie      |  0.8  |     0.68 |\n",
      "\n",
      "\n",
      "\n",
      "|      |   acc |   acc_lie_lie |   acc_lie_truth |\n",
      "|:-----|------:|--------------:|----------------:|\n",
      "| test |  0.58 |          0.88 |            0.62 |\n",
      "| val  |  0.73 |          1    |            0.88 |\n",
      "| ood  |  0.66 |          0.8  |            0.68 |\n"
     ]
    },
    {
     "data": {
      "text/html": [
       "<div>\n",
       "<style scoped>\n",
       "    .dataframe tbody tr th:only-of-type {\n",
       "        vertical-align: middle;\n",
       "    }\n",
       "\n",
       "    .dataframe tbody tr th {\n",
       "        vertical-align: top;\n",
       "    }\n",
       "\n",
       "    .dataframe thead th {\n",
       "        text-align: right;\n",
       "    }\n",
       "</style>\n",
       "<table border=\"1\" class=\"dataframe\">\n",
       "  <thead>\n",
       "    <tr style=\"text-align: right;\">\n",
       "      <th></th>\n",
       "      <th>acc</th>\n",
       "      <th>acc_lie_lie</th>\n",
       "      <th>acc_lie_truth</th>\n",
       "    </tr>\n",
       "  </thead>\n",
       "  <tbody>\n",
       "    <tr>\n",
       "      <th>test</th>\n",
       "      <td>0.577922</td>\n",
       "      <td>0.875</td>\n",
       "      <td>0.615385</td>\n",
       "    </tr>\n",
       "    <tr>\n",
       "      <th>val</th>\n",
       "      <td>0.727273</td>\n",
       "      <td>1.000</td>\n",
       "      <td>0.875000</td>\n",
       "    </tr>\n",
       "    <tr>\n",
       "      <th>ood</th>\n",
       "      <td>0.660163</td>\n",
       "      <td>0.800</td>\n",
       "      <td>0.683333</td>\n",
       "    </tr>\n",
       "  </tbody>\n",
       "</table>\n",
       "</div>"
      ],
      "text/plain": [
       "           acc  acc_lie_lie  acc_lie_truth\n",
       "test  0.577922        0.875       0.615385\n",
       "val   0.727273        1.000       0.875000\n",
       "ood   0.660163        0.800       0.683333"
      ]
     },
     "execution_count": 78,
     "metadata": {},
     "output_type": "execute_result"
    }
   ],
   "source": [
    "a = calc_metrics(dm, net, split=\"test\", verbose=False)\n",
    "b = calc_metrics(dm, net, split=\"val\", verbose=False)\n",
    "c = calc_metrics(dm_ood, net, split=\"all\", verbose=False)\n",
    "df_metrics = pd.DataFrame([a, b, c], index=[\"test\", \"val\", \"ood\"]).iloc[:, :3]\n",
    "print(df_metrics.round(2).to_markdown())\n",
    "df_metrics"
   ]
  },
  {
   "cell_type": "markdown",
   "metadata": {},
   "source": [
    "### Train end-to-end\n"
   ]
  },
  {
   "cell_type": "code",
   "execution_count": 79,
   "metadata": {},
   "outputs": [
    {
     "ename": "ZeroDivisionError",
     "evalue": "division by zero",
     "output_type": "error",
     "traceback": [
      "\u001b[0;31m---------------------------------------------------------------------------\u001b[0m",
      "\u001b[0;31mZeroDivisionError\u001b[0m                         Traceback (most recent call last)",
      "Cell \u001b[0;32mIn[79], line 1\u001b[0m\n\u001b[0;32m----> 1\u001b[0m \u001b[38;5;241;43m1\u001b[39;49m\u001b[43m \u001b[49m\u001b[38;5;241;43m/\u001b[39;49m\u001b[43m \u001b[49m\u001b[38;5;241;43m0\u001b[39;49m\n",
      "\u001b[0;31mZeroDivisionError\u001b[0m: division by zero"
     ]
    }
   ],
   "source": [
    "1 / 0"
   ]
  },
  {
   "cell_type": "code",
   "execution_count": null,
   "metadata": {},
   "outputs": [],
   "source": [
    "net.ae_mode(2)\n",
    "trainer3 = pl.Trainer(\n",
    "    precision=\"16-mixed\",\n",
    "    gradient_clip_val=20,\n",
    "    max_epochs=max_epochs,\n",
    "    log_every_n_steps=3,\n",
    "    # enable_progress_bar=False, enable_model_summary=False\n",
    ")\n",
    "trainer3.fit(model=net, train_dataloaders=dl_train, val_dataloaders=dl_val)\n",
    "1"
   ]
  },
  {
   "cell_type": "code",
   "execution_count": null,
   "metadata": {},
   "outputs": [],
   "source": [
    "# ds2df(dm.dm_orig)\n"
   ]
  },
  {
   "cell_type": "code",
   "execution_count": null,
   "metadata": {},
   "outputs": [],
   "source": [
    "# look at hist\n",
    "df_hist, _ = read_metrics_csv(trainer3.logger.experiment.metrics_file_path)\n",
    "plot_hist(df_hist, [\"loss_pred\", \"acc\"])\n",
    "\n",
    "rs3r = trainer3.test(\n",
    "    net, dataloaders=[dl_train, dl_val, dl_test, dl_ood], verbose=False\n",
    ")\n",
    "rs3 = rename_pl_test_results(rs3r, [\"train\", \"val\", \"test\", \"ood\"])\n",
    "\n",
    "# predict\n",
    "a = calc_metrics(dm, net, trainer1, \"test\")\n",
    "b = calc_metrics(dm, net, trainer1, \"val\")\n",
    "pd.DataFrame([a, b], index=[\"test\", \"val\"])\n",
    "\n",
    "c = calc_metrics(dm_ood, net, trainer1, \"all\")\n",
    "pd.DataFrame([a, b, c], index=[\"test\", \"val\", \"ood\"])"
   ]
  },
  {
   "cell_type": "code",
   "execution_count": null,
   "metadata": {},
   "outputs": [],
   "source": [
    "a = calc_metrics(dm, net, trainer1, \"test\")\n",
    "b = calc_metrics(dm, net, trainer1, \"val\")\n",
    "c = calc_metrics(dm_ood, net, trainer1, \"all\")\n",
    "df_metrics = pd.DataFrame([a, b, c], index=[\"test\", \"val\", \"ood\"]).iloc[:, :3]\n",
    "print(df_metrics.round(3).to_markdown())\n",
    "df_metrics"
   ]
  },
  {
   "cell_type": "code",
   "execution_count": null,
   "metadata": {},
   "outputs": [],
   "source": []
  },
  {
   "cell_type": "code",
   "execution_count": null,
   "metadata": {},
   "outputs": [],
   "source": []
  },
  {
   "cell_type": "code",
   "execution_count": null,
   "metadata": {},
   "outputs": [],
   "source": []
  },
  {
   "cell_type": "code",
   "execution_count": null,
   "metadata": {},
   "outputs": [],
   "source": []
  }
 ],
 "metadata": {
  "kernelspec": {
   "display_name": ".venv",
   "language": "python",
   "name": "python3"
  },
  "language_info": {
   "codemirror_mode": {
    "name": "ipython",
    "version": 3
   },
   "file_extension": ".py",
   "mimetype": "text/x-python",
   "name": "python",
   "nbconvert_exporter": "python",
   "pygments_lexer": "ipython3",
   "version": "3.11.0rc1"
  }
 },
 "nbformat": 4,
 "nbformat_minor": 2
}
