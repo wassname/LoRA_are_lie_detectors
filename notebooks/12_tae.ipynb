{
 "cells": [
  {
   "cell_type": "markdown",
   "metadata": {},
   "source": [
    "# Trying a tokenized autoencoder\n",
    "\n",
    "E.g. from IRIS https://github.dev/eloialonso/iris where sparsity is enforced by the tokenization/embedding quantisation bottleneck"
   ]
  },
  {
   "cell_type": "markdown",
   "metadata": {},
   "source": []
  },
  {
   "cell_type": "code",
   "execution_count": 1,
   "metadata": {},
   "outputs": [],
   "source": [
    "import os\n",
    "import numpy as np\n",
    "import pandas as pd\n",
    "from matplotlib import pyplot as plt\n",
    "from tqdm.auto import tqdm\n",
    "\n",
    "\n",
    "from typing import Optional, List, Dict, Union\n",
    "from jaxtyping import Float\n",
    "from torch import Tensor\n",
    "\n",
    "import torch\n",
    "import torch.nn as nn\n",
    "import torch.nn.functional as F\n",
    "\n",
    "from torch import Tensor\n",
    "from torch import optim\n",
    "from torch.utils.data import random_split, DataLoader, TensorDataset\n",
    "\n",
    "from pathlib import Path\n",
    "from einops import rearrange\n",
    "\n",
    "import transformers\n",
    "from transformers import (\n",
    "    AutoTokenizer,\n",
    "    AutoModelForCausalLM,\n",
    "    BitsAndBytesConfig,\n",
    "    AutoConfig,\n",
    ")\n",
    "from peft import (\n",
    "    get_peft_config,\n",
    "    get_peft_model,\n",
    "    LoraConfig,\n",
    "    TaskType,\n",
    "    LoftQConfig,\n",
    "    IA3Config,\n",
    ")\n",
    "from pathlib import Path\n",
    "import datasets\n",
    "from datasets import Dataset\n",
    "\n",
    "from loguru import logger\n",
    "\n",
    "logger.add(os.sys.stderr, format=\"{time} {level} {message}\", level=\"INFO\")\n",
    "\n",
    "# load my code\n",
    "%load_ext autoreload\n",
    "%autoreload 2\n",
    "\n",
    "import lightning.pytorch as pl\n",
    "\n",
    "from src.config import ExtractConfig\n",
    "from src.llms.load import load_model\n",
    "from src.helpers.torch_helpers import clear_mem\n",
    "from src.llms.phi.model_phi import PhiForCausalLMWHS\n",
    "from src.eval.ds import filter_ds_to_known\n",
    "from src.datasets.act_dm import ActivationDataModule\n",
    "\n",
    "# plt.style.use(\"ggplot\")\n",
    "# plt.style.use(\"seaborn-v0_8\")\n",
    "import seaborn as sns\n",
    "\n",
    "sns.set_theme(\"paper\")\n",
    "\n",
    "plt.rcParams[\"figure.figsize\"] = (4, 3)"
   ]
  },
  {
   "cell_type": "code",
   "execution_count": 2,
   "metadata": {},
   "outputs": [],
   "source": [
    "import logging\n",
    "import warnings\n",
    "\n",
    "logging.getLogger(\"pytorch_lightning\").setLevel(logging.WARNING)\n",
    "\n",
    "\n",
    "warnings.filterwarnings(\"ignore\", \".*does not have many workers.*\")\n",
    "warnings.filterwarnings(\n",
    "    \"ignore\", \".*sampler has shuffling enabled, it is strongly recommended that.*\"\n",
    ")\n",
    "# warnings.filterwarnings(\"ignore\", \".*has been removed as a dependency of.*\")"
   ]
  },
  {
   "cell_type": "code",
   "execution_count": 3,
   "metadata": {},
   "outputs": [],
   "source": [
    "os.environ[\"TQDM_MININTERVAL\"] = \"9\"\n",
    "# os.environ[\"TQDM_DISABLE\"] = \"1\"\n",
    "\n",
    "verbose = False"
   ]
  },
  {
   "cell_type": "markdown",
   "metadata": {},
   "source": [
    "## Paramsnet\n"
   ]
  },
  {
   "cell_type": "code",
   "execution_count": 338,
   "metadata": {},
   "outputs": [],
   "source": [
    "# params\n",
    "# params\n",
    "batch_size = 32\n",
    "lr = 4e-3\n",
    "wd = 0  # 1e-5\n",
    "\n",
    "MAX_ROWS = 2000\n",
    "\n",
    "SKIP = 15  # skip initial N layers\n",
    "STRIDE = 4  # skip every N layers\n",
    "DECIMATE = 1  # discard N features for speed\n",
    "\n",
    "device = \"cuda:0\"\n",
    "max_epochs = 840\n",
    "\n",
    "l1_coeff = 1e-2  # 0.5  # neel uses 3e-4 ! https://github.dev/neelnanda-io/1L-Sparse-Autoencoder/blob/bcae01328a2f41d24bd4a9160828f2fc22737f75/utils.py#L106, but them they sum l1 where mean l2\n",
    "# x_feats=x_feats. other use 1e-1\n",
    "# in ai saftey foundation. They use l1_coefficient=Parameter(max=0.03, min=0.008),\n",
    "\n",
    "\n",
    "BASE_FOLDER = Path(\n",
    "    \"/media/wassname/SGIronWolf/projects5/elk/sgd_probes_are_lie_detectors/notebooks/lightning_logs/version_24/\"\n",
    ")\n",
    "layers_names = (\"fc1\", \"Wqkv\",\n",
    "                #  \"fc2\", \"out_proj\"\n",
    "                 )"
   ]
  },
  {
   "cell_type": "markdown",
   "metadata": {},
   "source": [
    "## Load data"
   ]
  },
  {
   "cell_type": "code",
   "execution_count": 5,
   "metadata": {},
   "outputs": [
    {
     "data": {
      "text/plain": [
       "(PosixPath('/media/wassname/SGIronWolf/projects5/elk/sgd_probes_are_lie_detectors/notebooks/lightning_logs/version_24/hidden_states/.ds/ds_valtest_8b8fd6070504d5ef'),\n",
       " PosixPath('/media/wassname/SGIronWolf/projects5/elk/sgd_probes_are_lie_detectors/notebooks/lightning_logs/version_24/hidden_states/.ds/ds_OOD_a41d3a61513ade30'))"
      ]
     },
     "execution_count": 5,
     "metadata": {},
     "output_type": "execute_result"
    }
   ],
   "source": [
    "# load hidden state from a previously loaded adapter\n",
    "# the columns with _base are from the base model, and adapt from adapter\n",
    "# FROM TRAINING TRUTH\n",
    "f1_val = next(iter(BASE_FOLDER.glob(\"hidden_states/.ds/ds_valtest_*\")))\n",
    "f1_ood = next(iter(BASE_FOLDER.glob(\"hidden_states/.ds/ds_OOD_*\")))\n",
    "f1_val, f1_ood"
   ]
  },
  {
   "cell_type": "code",
   "execution_count": 6,
   "metadata": {},
   "outputs": [
    {
     "name": "stdout",
     "output_type": "stream",
     "text": [
      "select rows are 74.39% based on knowledge\n"
     ]
    },
    {
     "data": {
      "application/vnd.jupyter.widget-view+json": {
       "model_id": "f190082d60f24ddaa297f78d7e71826b",
       "version_major": 2,
       "version_minor": 0
      },
      "text/plain": [
       "Map:   0%|          | 0/615 [00:00<?, ? examples/s]"
      ]
     },
     "metadata": {},
     "output_type": "display_data"
    },
    {
     "name": "stderr",
     "output_type": "stream",
     "text": [
      "\u001b[32m2024-01-14 18:46:02.320\u001b[0m | \u001b[1mINFO    \u001b[0m | \u001b[36msrc.datasets.act_dm\u001b[0m:\u001b[36msetup\u001b[0m:\u001b[36m68\u001b[0m - \u001b[1mconverting datasets this may take a while... ds_valtest_8b8fd6070504d5ef train\u001b[0m\n",
      "2024-01-14T18:46:02.320580+0800 INFO converting datasets this may take a while... ds_valtest_8b8fd6070504d5ef train\n"
     ]
    },
    {
     "name": "stdout",
     "output_type": "stream",
     "text": [
      "setup train\n",
      "select rows are 74.39% based on knowledge\n"
     ]
    },
    {
     "data": {
      "application/vnd.jupyter.widget-view+json": {
       "model_id": "eb59221b661842fdbb4a5e5f5cbb9d2a",
       "version_major": 2,
       "version_minor": 0
      },
      "text/plain": [
       "Map:   0%|          | 0/615 [00:00<?, ? examples/s]"
      ]
     },
     "metadata": {},
     "output_type": "display_data"
    },
    {
     "name": "stderr",
     "output_type": "stream",
     "text": [
      "\u001b[32m2024-01-14 18:46:45.210\u001b[0m | \u001b[1mINFO    \u001b[0m | \u001b[36msrc.datasets.act_dm\u001b[0m:\u001b[36msetup\u001b[0m:\u001b[36m68\u001b[0m - \u001b[1mconverting datasets this may take a while... ds_OOD_a41d3a61513ade30 all\u001b[0m\n",
      "2024-01-14T18:46:45.210470+0800 INFO converting datasets this may take a while... ds_OOD_a41d3a61513ade30 all\n"
     ]
    },
    {
     "name": "stdout",
     "output_type": "stream",
     "text": [
      "setup all\n"
     ]
    }
   ],
   "source": [
    "input_columns = (\n",
    "    [\"binary_ans_base\", \"binary_ans_adapt\"]\n",
    "    + [f\"end_residual_{layer}_base\" for layer in layers_names]\n",
    "    + [f\"end_residual_{layer}_adapt\" for layer in layers_names]\n",
    ")\n",
    "\n",
    "\n",
    "def ds2xy_batched(ds):\n",
    "    data = []\n",
    "    for layer in layers_names:\n",
    "        # Stack the base and adapter representations as a 4th dim\n",
    "        X1 = [ds[f\"end_residual_{layer}_base\"], ds[f\"end_residual_{layer}_adapt\"]]\n",
    "        X1 = rearrange(X1, \"versions b l f  -> b l f versions\")[..., 0]\n",
    "        data.append(X1)\n",
    "\n",
    "    # concat layers\n",
    "    # x = rearrange(data, 'b parts l f v -> b l (parts f) v')\n",
    "    X = torch.concat(data, dim=2)[:, SKIP::STRIDE, ::DECIMATE]\n",
    "\n",
    "    y = ds[\"binary_ans_base\"] - ds[\"binary_ans_adapt\"]\n",
    "    return dict(X=X, y=y)\n",
    "\n",
    "\n",
    "def prepare_ds(ds):\n",
    "    \"\"\"\n",
    "    prepare a dataset for training\n",
    "\n",
    "    this should front load much of the computation\n",
    "    it should restrict it to the needed rows X and y\n",
    "\n",
    "    \"\"\"\n",
    "    ds = (\n",
    "        ds.with_format(\"torch\")\n",
    "        .select_columns(input_columns)\n",
    "        .map(ds2xy_batched, batched=True, batch_size=128, remove_columns=input_columns)\n",
    "    )\n",
    "    return ds\n",
    "\n",
    "\n",
    "def load_file_to_dm(f, stage):\n",
    "    ds1 = Dataset.from_file(str(f1_val), in_memory=True).with_format(\"torch\")\n",
    "    ds1 = filter_ds_to_known(ds1, verbose=True, true_col=\"truth\")\n",
    "    ds = prepare_ds(ds1)\n",
    "\n",
    "    # limit size\n",
    "    MAX_SAMPLES = min(len(ds), MAX_ROWS * 2)\n",
    "    ds = ds.select(range(0, MAX_SAMPLES))\n",
    "\n",
    "    dm = ActivationDataModule(ds, f.stem, batch_size=batch_size, num_workers=0)\n",
    "    dm.setup(stage)\n",
    "    dm.dm_orig = ds1\n",
    "    return dm\n",
    "\n",
    "\n",
    "dm = load_file_to_dm(f1_val, \"train\")\n",
    "dm_ood = load_file_to_dm(f1_ood, \"all\")"
   ]
  },
  {
   "cell_type": "code",
   "execution_count": 7,
   "metadata": {},
   "outputs": [
    {
     "data": {
      "text/plain": [
       "{'all': <torch.utils.data.dataset.TensorDataset at 0x7f1e8601e7d0>}"
      ]
     },
     "execution_count": 7,
     "metadata": {},
     "output_type": "execute_result"
    }
   ],
   "source": [
    "dm_ood.datasets"
   ]
  },
  {
   "cell_type": "code",
   "execution_count": 8,
   "metadata": {},
   "outputs": [],
   "source": [
    "dl_train = dm.train_dataloader()\n",
    "dl_val = dm.val_dataloader()\n",
    "dl_test = dm.test_dataloader()\n",
    "dl_ood = dm_ood.all_dataloader()"
   ]
  },
  {
   "cell_type": "markdown",
   "metadata": {},
   "source": [
    "Experiment with dataloading speeds:\n",
    "- does it help to save the Xy dataset to disc, then load, while keeping in mem?. no not faster at all\n",
    "- does it help to use num_workers > 0? yes 3x faster\n",
    "- the shared dataset wrapper is 10x faster, and less mem"
   ]
  },
  {
   "cell_type": "markdown",
   "metadata": {},
   "source": [
    "# Get importance matrix from adapter"
   ]
  },
  {
   "cell_type": "code",
   "execution_count": 9,
   "metadata": {},
   "outputs": [
    {
     "name": "stdout",
     "output_type": "stream",
     "text": [
      "Wqkv torch.Size([32, 7680])\n",
      "out_proj torch.Size([32, 2560])\n",
      "fc1 torch.Size([32, 10240])\n",
      "fc2 torch.Size([32, 2560])\n",
      "keeping top 4.22% of features\n"
     ]
    },
    {
     "data": {
      "image/png": "[encoded data removed]",
      "text/plain": [
       "<Figure size 400x300 with 1 Axes>"
      ]
     },
     "metadata": {},
     "output_type": "display_data"
    }
   ],
   "source": [
    "from src.probes.importance_matrix import get_importance_matrix\n",
    "\n",
    "\n",
    "f = f\"{BASE_FOLDER}/checkpoint_last/adapter_model.safetensors\"\n",
    "importance_matrix = get_importance_matrix(f, layers=layers_names)[\n",
    "    SKIP::STRIDE, ::DECIMATE\n",
    "]\n",
    "\n",
    "\n",
    "# importance_matrix = importance_matrix ** 3 # square to make it positive\n",
    "importance_matrix = (importance_matrix - 1).abs() ** 2\n",
    "\n",
    "\n",
    "# importance_matrix = importance_matrix / (0.1*importance_matrix.std())\n",
    "# importance_matrix = importance_matrix + 1\n",
    "\n",
    "# square to make it positive\n",
    "# importance_matrix = importance_matrix.clamp(0, None)\n",
    "# importance_matrix -= importance_matrix.mean() - 1\n",
    "\n",
    "s = importance_matrix.std()\n",
    "importance_matrix = (importance_matrix > s * 3) * 1.0\n",
    "print(f\"keeping top {importance_matrix.mean():2.2%} of features\")\n",
    "importance_matrix = importance_matrix / importance_matrix.mean()\n",
    "\n",
    "plt.hist(importance_matrix.flatten(), bins=155)\n",
    "\n",
    "importance_matrix.mean()\n",
    "\n",
    "importance_matrix = None"
   ]
  },
  {
   "cell_type": "code",
   "execution_count": 10,
   "metadata": {},
   "outputs": [],
   "source": [
    "# ((importance_matrix>0)*1.0).sum()"
   ]
  },
  {
   "cell_type": "code",
   "execution_count": 11,
   "metadata": {},
   "outputs": [],
   "source": [
    "# ds_test2 = dm.datasets['test']\n",
    "# shape1 = ds_test2[0][0].shape\n",
    "# shape2= importance_matrix.shape\n",
    "# np.testing.assert_equal(shape1, shape2, err_msg=\"shape mismatch between ds and importance matrix\")\n"
   ]
  },
  {
   "cell_type": "markdown",
   "metadata": {},
   "source": [
    "### helpers"
   ]
  },
  {
   "cell_type": "code",
   "execution_count": 12,
   "metadata": {},
   "outputs": [],
   "source": [
    "from src.eval.ds import ds2df\n",
    "\n",
    "\n",
    "def get_acc_subset(df, query, verbose=True):\n",
    "    assert (df[\"y\"].mean() < 0).any(), \"y should be [-1, 1]\"\n",
    "    assert (df[\"y\"].mean() > -1).all(), \"y should be [-1, 1]\"\n",
    "    assert (df[\"y\"].mean() < 1).all(), \"y should be [-1, 1]\"\n",
    "    assert (df[\"probe_pred\"].mean() > 0).all(), \"pred should be [0,1]\"\n",
    "    assert (df[\"probe_pred\"].mean() < 1).all(), \"pred should be [0,1]\"\n",
    "\n",
    "    if query:\n",
    "        df = df.query(query)\n",
    "    # df[\"probe_cls\"] = df[\"probe_pred\"] > 0.5\n",
    "    acc = ((df[\"probe_pred\"] > 0.5) == (df[\"y\"] > 0)).mean()\n",
    "    if verbose:\n",
    "        print(f\"acc={acc:2.2%},\\tn={len(df)},\\t[{query}] \")\n",
    "    return acc\n",
    "\n",
    "\n",
    "def calc_metrics(dm, net, trainer=None, split=\"test\", verbose=True):\n",
    "    # predict\n",
    "    dl_test = dm.create_dataloader(split)\n",
    "    if trainer is None:\n",
    "        trainer = pl.Trainer(\n",
    "            logger=False, enable_progress_bar=False, enable_model_summary=False\n",
    "        )\n",
    "    rt = trainer.predict(net, dataloaders=dl_test)\n",
    "    y_test_pred = np.concatenate(rt)\n",
    "\n",
    "    # get original df\n",
    "    splits = dm.splits[split]\n",
    "    df = ds2df(dm.dm_orig).rename(columns=lambda s: s.replace(\"_base\", \"\"))\n",
    "    df[\"y\"] = dm.ds[\"y\"]\n",
    "    df_test = df.iloc[splits[0] : splits[1]].copy()\n",
    "    df_test[\"probe_pred\"] = y_test_pred\n",
    "\n",
    "    if verbose:\n",
    "        print(f\"probe results on subsets of the data for {split}\")\n",
    "    acc = get_acc_subset(df_test, \"\", verbose=verbose)\n",
    "    get_acc_subset(\n",
    "        df_test, \"instructed_to_lie==True\", verbose=verbose\n",
    "    )  # it was ph told to lie\n",
    "    get_acc_subset(\n",
    "        df_test, \"instructed_to_lie==False\", verbose=verbose\n",
    "    )  # it was told not to lie\n",
    "    get_acc_subset(\n",
    "        df_test, \"ans==label_true\", verbose=verbose\n",
    "    )  # the llm gave the true ans\n",
    "    get_acc_subset(\n",
    "        df_test, \"ans==label_instructed\", verbose=verbose\n",
    "    )  # the llm gave the desired ans\n",
    "    acc_lie_lie = get_acc_subset(\n",
    "        df_test, \"instructed_to_lie==True & ans==label_instructed\", verbose=verbose\n",
    "    )  # it was told to lie, and it did lie\n",
    "    acc_lie_truth = get_acc_subset(\n",
    "        df_test, \"instructed_to_lie==True & ans!=label_instructed\", verbose=verbose\n",
    "    )\n",
    "\n",
    "    a = get_acc_subset(\n",
    "        df_test, \"instructed_to_lie==False & ans==label_instructed\", verbose=False\n",
    "    )\n",
    "    b = get_acc_subset(\n",
    "        df_test, \"instructed_to_lie==False & ans!=label_instructed\", verbose=False\n",
    "    )\n",
    "    c = get_acc_subset(\n",
    "        df_test, \"instructed_to_lie==True & ans==label_instructed\", verbose=False\n",
    "    )\n",
    "    d = get_acc_subset(\n",
    "        df_test, \"instructed_to_lie==True & ans!=label_instructed\", verbose=False\n",
    "    )\n",
    "\n",
    "    df_confusion = pd.DataFrame(\n",
    "        [[a, b], [c, d]],\n",
    "        index=[\"tell a truth\", \"tell a lie\"],\n",
    "        columns=[\"did\", \"didn't\"],\n",
    "    )\n",
    "    df_confusion.index.name = \"instructed to\"\n",
    "    df_confusion.columns.name = \"llm gave\"\n",
    "\n",
    "    if verbose:\n",
    "        print(f\"⭐PRIMARY METRIC⭐ acc={acc:2.2%} from probe on {split}\")\n",
    "        print(\n",
    "            f\"⭐SECONDARY METRIC⭐ acc_lie_lie={acc_lie_lie:2.2%} from probe on {split}\"\n",
    "        )\n",
    "\n",
    "    print(\"\\n\\nprobe accuracy for quadrants:\")\n",
    "    print(df_confusion.round(2).to_markdown())\n",
    "    print(\"\\n\\n\")\n",
    "\n",
    "    return dict(\n",
    "        acc=acc,\n",
    "        acc_lie_lie=acc_lie_lie,\n",
    "        acc_lie_truth=acc_lie_truth,\n",
    "        df_test=df_test,\n",
    "        df_confusion=df_confusion,\n",
    "    )\n",
    "\n",
    "\n",
    "# r = testval_metrics = calc_metrics(dm, trainer3, net, use_val=True)\n",
    "# r['df_test']"
   ]
  },
  {
   "cell_type": "code",
   "execution_count": 13,
   "metadata": {},
   "outputs": [],
   "source": [
    "# visualize latent space\n",
    "from matplotlib import cm\n",
    "\n",
    "\n",
    "def plot_latent(latent):\n",
    "    # plot image of latent space \n",
    "    vmax = latent.abs().max()\n",
    "    for i in range(4): # first 4 batches\n",
    "        plt.subplot(2, 2, i + 1)\n",
    "        vmax = latent[i].max()\n",
    "        plt.imshow(\n",
    "            latent[i],\n",
    "            cmap=cm.coolwarm,\n",
    "            interpolation=\"none\",\n",
    "            aspect=\"auto\",\n",
    "            vmin=-vmax,\n",
    "            vmax=vmax,\n",
    "        )\n",
    "        plt.title(f\"batch {i}\")\n",
    "        plt.ylabel(\"layer\")\n",
    "        plt.xlabel(\"neuron\")\n",
    "        if i < 2:\n",
    "            plt.xlabel(\"\")\n",
    "            plt.xticks([])\n",
    "        if i % 2 == 1:\n",
    "            plt.ylabel(\"\")\n",
    "            plt.yticks([])\n",
    "        plt.grid(False)\n",
    "        plt.colorbar()\n",
    "    # plt.colorbar()\n",
    "    plt.subplots_adjust(wspace=0.05, hspace=0.05)\n",
    "    plt.show()\n",
    "\n",
    "    # histogram\n",
    "    latentf = rearrange(latent, \"b l n -> (b n) l\").T#.flatten()\n",
    "    print(latentf.shape)\n",
    "    for i in range(latent.shape[1]):\n",
    "        plt.hist(latentf[i], bins=25,\n",
    "                histtype=\"step\", log=True, label=f\"layer {i}\", density=True)\n",
    "    plt.title(\"latents by layer\")\n",
    "    plt.xlabel('latent magnitude')\n",
    "    plt.legend()\n",
    "    plt.show()\n",
    "\n",
    "# plot_latent(latent)"
   ]
  },
  {
   "cell_type": "code",
   "execution_count": null,
   "metadata": {},
   "outputs": [],
   "source": []
  },
  {
   "cell_type": "code",
   "execution_count": 14,
   "metadata": {},
   "outputs": [],
   "source": [
    "from src.helpers.lightning import read_metrics_csv, plot_hist, rename_pl_test_results\n",
    "from lightning.pytorch.callbacks import LearningRateMonitor"
   ]
  },
  {
   "cell_type": "markdown",
   "metadata": {},
   "source": [
    "# Model"
   ]
  },
  {
   "cell_type": "code",
   "execution_count": 339,
   "metadata": {},
   "outputs": [],
   "source": [
    "# from sparse_autoencoder.autoencoder.model import SparseAutoencoderConfig, SparseAutoencoder\n",
    "# from src.vae.sae2 import AutoEncoder, AutoEncoderConfig\n",
    "from src.iris.tokenizer import Tokenizer\n",
    "from src.iris.nets import EncoderDecoderConfig, Encoder, Decoder\n",
    "from src.vae.conv_inception import (\n",
    "    LinBnDrop,\n",
    "    PLBase,\n",
    "    recursive_requires_grad,\n",
    "    accuracy,\n",
    "    auroc,\n",
    ")"
   ]
  },
  {
   "cell_type": "markdown",
   "metadata": {},
   "source": [
    "# Scratch"
   ]
  },
  {
   "cell_type": "code",
   "execution_count": 340,
   "metadata": {},
   "outputs": [
    {
     "name": "stdout",
     "output_type": "stream",
     "text": [
      "10 5\n"
     ]
    }
   ],
   "source": [
    "print(len(dl_train), len(dl_val))\n",
    "b = next(iter(dl_train))\n",
    "x, y = b  # b['X'], b['y']"
   ]
  },
  {
   "cell_type": "code",
   "execution_count": 438,
   "metadata": {},
   "outputs": [],
   "source": [
    "# coder_cfg = EncoderDecoderConfig(\n",
    "#     resolution=64,\n",
    "#     in_channels=3,\n",
    "#     z_channels=512,\n",
    "#     ch=64,\n",
    "#     ch_mult=[1, 1, 1, 1, 1],\n",
    "#     num_res_blocks=2,\n",
    "#     attn_resolutions=[8, 16],\n",
    "#     out_ch=3,\n",
    "#     dropout=0.0,\n",
    "# )\n",
    "# encoder=Encoder(config=coder_cfg)\n",
    "# decoder=Decoder(config=coder_cfg)\n",
    "\n",
    "from src.vae.sae2 import AutoEncoderConfig, Encoder, Decoder, Affines\n",
    "from einops import reduce"
   ]
  },
  {
   "cell_type": "markdown",
   "metadata": {},
   "source": [
    "# Resume"
   ]
  },
  {
   "cell_type": "code",
   "execution_count": 481,
   "metadata": {},
   "outputs": [],
   "source": [
    "class PLAE(PLBase):\n",
    "    def __init__(\n",
    "        self,\n",
    "        c_in,\n",
    "        steps_per_epoch,\n",
    "        max_epochs,\n",
    "        lr=4e-3,\n",
    "        weight_decay=0,\n",
    "        n_latent=512,\n",
    "        dropout=0,\n",
    "        encoder_sizes=[32, ],\n",
    "        importance_matrix=None,\n",
    "        tokens_per_layer=6,\n",
    "        probe_embedd_dim=3,\n",
    "        **kwargs,\n",
    "    ):\n",
    "        super().__init__(\n",
    "            steps_per_epoch=steps_per_epoch,\n",
    "            max_epochs=max_epochs,\n",
    "            lr=lr,\n",
    "            weight_decay=weight_decay,\n",
    "        )\n",
    "        self.save_hyperparameters()\n",
    "        self.importance_matrix = importance_matrix\n",
    "\n",
    "        vocab_size = n_latent\n",
    "        embed_dim = n_latent\n",
    "\n",
    "\n",
    "        n_layers, n_channels = c_in\n",
    "        self.norm = Affines(n_layers, n_channels)\n",
    "        self.ae_cfg = AutoEncoderConfig(\n",
    "            n_instances=n_layers,\n",
    "            n_input_ae=n_channels,\n",
    "            n_hidden_ae=vocab_size * tokens_per_layer, # output size of decoder (tokens)\n",
    "            encoder_sizes=encoder_sizes,\n",
    "        )\n",
    "        encoder = Encoder(self.ae_cfg)\n",
    "\n",
    "        self.ae_cfg = AutoEncoderConfig(\n",
    "            n_instances=n_layers,\n",
    "            n_input_ae=n_channels,\n",
    "            n_hidden_ae=embed_dim * tokens_per_layer, # input channel to decoder (embedded tokens)\n",
    "            encoder_sizes=encoder_sizes,\n",
    "        )\n",
    "        decoder = Decoder(self.ae_cfg)\n",
    "        \n",
    "\n",
    "        self.ae = Tokenizer(\n",
    "            vocab_size=vocab_size,\n",
    "            embed_dim=embed_dim,\n",
    "            tokens_per_layer=tokens_per_layer,\n",
    "            encoder=encoder,\n",
    "            decoder=decoder,\n",
    "        )\n",
    "\n",
    "        self.probe_embed = nn.Embedding(vocab_size, probe_embedd_dim, \n",
    "                                        max_norm=1.0\n",
    "                                        )\n",
    "        n = n_layers * tokens_per_layer * probe_embedd_dim\n",
    "        # self.probe_embed.weight.data.uniform_(-1.0 / vocab_size, 1.0 / vocab_size)\n",
    "\n",
    "        self.head = nn.Sequential(\n",
    "            # LinBnDrop(n*embed_dim2, n, bn=True, dropout=dropout),\n",
    "            # LinBnDrop(n, n, bn=True, dropout=dropout),\n",
    "            # LinBnDrop(n, n, dropout=dropout, bn=False),\n",
    "            # LinBnDrop(n // 4, n // 12, bn=False),\n",
    "            nn.Linear(n, 1),\n",
    "        )\n",
    "        self._ae_mode = True\n",
    "\n",
    "    def ae_mode(self, mode=0):\n",
    "        \"\"\"\n",
    "        mode 0, train the ae\n",
    "        mode 1, train only the prob\n",
    "        mode 2, train both\n",
    "        \"\"\"\n",
    "        if mode == 0:\n",
    "            print(\"training ae\")\n",
    "        elif mode == 1:\n",
    "            print(\"training probe\")\n",
    "        elif mode == 2:\n",
    "            print(\"training both ae and probe\")\n",
    "        self._ae_mode = mode\n",
    "        recursive_requires_grad(self.ae, mode in [0, 2])\n",
    "\n",
    "    def forward(self, x):\n",
    "        x = self.norm(x)\n",
    "        o = self.ae.encode(x)\n",
    "        z, z_q, tokens = o.z, o.z_quantized, o.tokens\n",
    "        h_rec = self.ae.decode(z_q)\n",
    "        h_rec = self.norm.inv(h_rec)\n",
    "        losses = self.ae.compute_loss(x)\n",
    "        loss = losses.loss_total\n",
    "\n",
    "        # we want a probe tokenizer. reusing the decoder hurts performance\n",
    "        latent = self.probe_embed(tokens)\n",
    "        pred = reduce(latent, \"b l h v -> b\", \"max\")\n",
    "\n",
    "        # latent2 = rearrange(latent, \"b l h v -> b (l h v)\")\n",
    "        # pred = self.head(latent2).squeeze(1)\n",
    "        return dict(\n",
    "            pred=pred,\n",
    "            loss=loss,\n",
    "            latent=latent,\n",
    "            z=z, \n",
    "            tokens=tokens,\n",
    "            h_rec=h_rec,\n",
    "            **losses.intermediate_losses\n",
    "        )\n",
    "\n",
    "    # def on_after_backward(self):\n",
    "    #     self.ae.post_backwards_hook()\n",
    "\n",
    "    def _step(self, batch, batch_idx, stage=\"train\"):\n",
    "        device = next(self.parameters()).device\n",
    "        x, y = batch  # batch['X'], batch['y']\n",
    "        x = x.to(device)\n",
    "        y = y.to(device)\n",
    "        x0 = x  # [..., 0]\n",
    "        # x1 = x[..., 1]\n",
    "        info0 = self(x0)\n",
    "        # info1 = self(x1)\n",
    "        # ypred1 = info1[\"pred\"]\n",
    "        logits = info0[\"pred\"]\n",
    "        y_probs = F.sigmoid(logits)\n",
    "        y_cls = y_probs > 0.5\n",
    "\n",
    "        if stage == \"pred\":\n",
    "            return (y_probs).float()\n",
    "\n",
    "        pred_loss = F.binary_cross_entropy_with_logits(logits, (y > 0.0).float())\n",
    "\n",
    "        # pred_loss = F.smooth_l1_loss(ypred0, y)\n",
    "        rec_loss = info0[\"loss\"]\n",
    "        # l1_loss = info0[\"l1_loss\"].mean()\n",
    "        # l2_loss = info0[\"l2_loss\"].mean()\n",
    "\n",
    "        if self._ae_mode in [1, 2]:\n",
    "            self.log(\n",
    "                f\"{stage}/auroc\",\n",
    "                auroc(y_probs, y > 0, \"binary\"),\n",
    "                on_epoch=True,\n",
    "                on_step=False,\n",
    "            )\n",
    "            self.log(\n",
    "                f\"{stage}/acc\",\n",
    "                accuracy(y_cls, y > 0, \"binary\"),\n",
    "                on_epoch=True,\n",
    "                on_step=False,\n",
    "            )\n",
    "            self.log(\n",
    "                f\"{stage}/loss_pred\",\n",
    "                float(pred_loss),\n",
    "                on_epoch=True,\n",
    "                on_step=True,\n",
    "            )\n",
    "        if self._ae_mode in [0, 2]:\n",
    "            self.log(\n",
    "                f\"{stage}/loss_rec\",\n",
    "                float(rec_loss),\n",
    "                on_epoch=True,\n",
    "                on_step=True,\n",
    "            )\n",
    "            self.log(f\"{stage}/commitment_loss\", info0['commitment_loss'], on_epoch=True, on_step=False)\n",
    "            self.log(f\"{stage}/reconstruction_loss\", info0['reconstruction_loss'], on_epoch=True, on_step=False)\n",
    "        self.log(\n",
    "            f\"{stage}/n\",\n",
    "            float(len(y)),\n",
    "            on_epoch=True,\n",
    "            on_step=False,\n",
    "            reduce_fx=torch.sum,\n",
    "        )\n",
    "        \n",
    "        if self._ae_mode == 0:\n",
    "            assert torch.isfinite(rec_loss), \"rec_loss is not finite\"\n",
    "            return rec_loss\n",
    "        elif self._ae_mode == 1:\n",
    "            assert torch.isfinite(pred_loss), \"pred_loss is not finite\"\n",
    "            return pred_loss\n",
    "        elif self._ae_mode == 2:\n",
    "            # , train/loss_pred_epoch=0.0195, train/loss_rec_epoch=169.0\n",
    "            assert torch.isfinite(pred_loss), \"pred_loss is not finite\"\n",
    "            assert torch.isfinite(rec_loss), \"rec_loss is not finite\"\n",
    "            return pred_loss * 50000 + rec_loss"
   ]
  },
  {
   "cell_type": "markdown",
   "metadata": {},
   "source": [
    "# Train"
   ]
  },
  {
   "cell_type": "markdown",
   "metadata": {},
   "source": [
    "### Setup"
   ]
  },
  {
   "cell_type": "code",
   "execution_count": 482,
   "metadata": {},
   "outputs": [
    {
     "name": "stdout",
     "output_type": "stream",
     "text": [
      "10 5\n",
      "torch.Size([32, 5, 17920]) x\n"
     ]
    }
   ],
   "source": [
    "print(len(dl_train), len(dl_val))\n",
    "b = next(iter(dl_train))\n",
    "x, y = b  # b['X'], b['y']\n",
    "print(x.shape, \"x\")\n",
    "if x.ndim == 3:\n",
    "    x = x.unsqueeze(-1)\n",
    "c_in = x.shape[1:-1]"
   ]
  },
  {
   "cell_type": "code",
   "execution_count": null,
   "metadata": {},
   "outputs": [],
   "source": []
  },
  {
   "cell_type": "code",
   "execution_count": 533,
   "metadata": {},
   "outputs": [
    {
     "name": "stdout",
     "output_type": "stream",
     "text": [
      "PLAE(\n",
      "  (norm): Affines(\n",
      "    (affines): ModuleList(\n",
      "      (0-4): 5 x AffineInstanceNorm1d(17920, eps=1e-05, momentum=0.1, affine=False, track_running_stats=True)\n",
      "    )\n",
      "  )\n",
      "  (ae): Tokenizer(\n",
      "    (encoder): Encoder(\n",
      "      (encoder): Sequential(\n",
      "        (0): NormedLinears(\n",
      "          (linears): ModuleList(\n",
      "            (0-4): 5 x NormedLinear(in_features=17920, out_features=64, bias=False)\n",
      "          )\n",
      "          (act): ReLU()\n",
      "        )\n",
      "        (1): NormedLinears(\n",
      "          (linears): ModuleList(\n",
      "            (0-4): 5 x NormedLinear(in_features=64, out_features=64, bias=False)\n",
      "          )\n",
      "          (act): ReLU()\n",
      "        )\n",
      "        (2): NormedLinears(\n",
      "          (linears): ModuleList(\n",
      "            (0-4): 5 x NormedLinear(in_features=64, out_features=64, bias=True)\n",
      "          )\n",
      "          (act): ReLU()\n",
      "        )\n",
      "        (3): NormedLinears(\n",
      "          (linears): ModuleList(\n",
      "            (0-4): 5 x NormedLinear(in_features=64, out_features=64, bias=True)\n",
      "          )\n",
      "          (act): ReLU()\n",
      "        )\n",
      "        (4): Rearrange('b l f -> b (l f)')\n",
      "        (5): Linear(in_features=320, out_features=320, bias=True)\n",
      "        (6): Rearrange('b (l f) -> b l f', l=5)\n",
      "        (7): NormedLinears(\n",
      "          (linears): ModuleList(\n",
      "            (0-4): 5 x NormedLinear(in_features=64, out_features=3072, bias=True)\n",
      "          )\n",
      "        )\n",
      "      )\n",
      "    )\n",
      "    (embedding): Embedding(512, 512)\n",
      "    (decoder): Decoder(\n",
      "      (decoder): Sequential(\n",
      "        (0): NormedLinears(\n",
      "          (linears): ModuleList(\n",
      "            (0-4): 5 x NormedLinear(in_features=3072, out_features=64, bias=True)\n",
      "          )\n",
      "          (act): ReLU()\n",
      "        )\n",
      "        (1): NormedLinears(\n",
      "          (linears): ModuleList(\n",
      "            (0-4): 5 x NormedLinear(in_features=64, out_features=64, bias=True)\n",
      "          )\n",
      "          (act): ReLU()\n",
      "        )\n",
      "        (2): NormedLinears(\n",
      "          (linears): ModuleList(\n",
      "            (0-4): 5 x NormedLinear(in_features=64, out_features=64, bias=True)\n",
      "          )\n",
      "          (act): ReLU()\n",
      "        )\n",
      "        (3): NormedLinears(\n",
      "          (linears): ModuleList(\n",
      "            (0-4): 5 x NormedLinear(in_features=64, out_features=64, bias=True)\n",
      "          )\n",
      "          (act): ReLU()\n",
      "        )\n",
      "        (4): Rearrange('b l f -> b (l f)')\n",
      "        (5): Linear(in_features=320, out_features=320, bias=True)\n",
      "        (6): Rearrange('b (l f) -> b l f', l=5)\n",
      "        (7): NormedLinears(\n",
      "          (linears): ModuleList(\n",
      "            (0-4): 5 x NormedLinear(in_features=64, out_features=17920, bias=True)\n",
      "          )\n",
      "        )\n",
      "      )\n",
      "    )\n",
      "  )\n",
      "  (probe_embed): Embedding(512, 512, max_norm=1.0)\n",
      "  (head): Sequential(\n",
      "    (0): Linear(in_features=15360, out_features=1, bias=True)\n",
      "  )\n",
      ")\n"
     ]
    }
   ],
   "source": [
    "net = PLAE(\n",
    "    c_in=c_in,\n",
    "    steps_per_epoch=len(dl_train),\n",
    "    max_epochs=max_epochs,\n",
    "    lr=lr,\n",
    "    dropout=0.2,\n",
    "    encoder_sizes=[64,64, 64, 64],\n",
    "    weight_decay=wd,\n",
    "    n_latent=512,  # there will be layers * n_latent latent features\n",
    "    importance_matrix=importance_matrix,\n",
    "    tokens_per_layer=6,\n",
    "    probe_embedd_dim=512,\n",
    ")\n",
    "print(net)"
   ]
  },
  {
   "cell_type": "code",
   "execution_count": 534,
   "metadata": {},
   "outputs": [
    {
     "name": "stdout",
     "output_type": "stream",
     "text": [
      "torch.Size([5, 17920])\n"
     ]
    }
   ],
   "source": [
    "print(c_in)\n",
    "x1 = x[..., 0]\n",
    "with torch.no_grad():\n",
    "    y = net(x1)\n",
    "# {k: v.abs().mean() for k, v in y.items()}, {k: v.shape for k, v in y.items()}\n",
    "# y"
   ]
  },
  {
   "cell_type": "code",
   "execution_count": 535,
   "metadata": {},
   "outputs": [
    {
     "data": {
      "text/plain": [
       "=============================================================================================================================\n",
       "Layer (type:depth-idx)                             Input Shape               Output Shape              Param #\n",
       "=============================================================================================================================\n",
       "PLAE                                               [32, 5, 17920]            --                        --\n",
       "├─Affines: 1-1                                     [32, 5, 17920]            [32, 5, 17920]            --\n",
       "│    └─ModuleList: 2-1                             --                        --                        --\n",
       "│    │    └─AffineInstanceNorm1d: 3-1              [32, 17920]               [32, 17920]               --\n",
       "│    │    └─AffineInstanceNorm1d: 3-2              [32, 17920]               [32, 17920]               --\n",
       "│    │    └─AffineInstanceNorm1d: 3-3              [32, 17920]               [32, 17920]               --\n",
       "│    │    └─AffineInstanceNorm1d: 3-4              [32, 17920]               [32, 17920]               --\n",
       "│    │    └─AffineInstanceNorm1d: 3-5              [32, 17920]               [32, 17920]               --\n",
       "├─Tokenizer: 1-2                                   --                        --                        (recursive)\n",
       "│    └─Encoder: 2-2                                [32, 5, 17920]            [32, 5, 3072]             1,163,200\n",
       "│    │    └─Sequential: 3-24                       --                        --                        (recursive)\n",
       "│    │    │    └─NormedLinears: 4-1                [32, 5, 17920]            [32, 5, 64]               5,734,400\n",
       "│    └─Decoder: 2-20                               --                        --                        (recursive)\n",
       "│    │    └─Sequential: 3-25                       --                        --                        (recursive)\n",
       "│    │    │    └─NormedLinears: 4-41               --                        --                        (recursive)\n",
       "│    └─Encoder: 2-21                               --                        --                        (recursive)\n",
       "│    │    └─Sequential: 3-24                       --                        --                        (recursive)\n",
       "│    │    │    └─NormedLinears: 4-3                [32, 5, 64]               [32, 5, 64]               20,480\n",
       "│    └─Decoder: 2-20                               --                        --                        (recursive)\n",
       "│    │    └─Sequential: 3-25                       --                        --                        (recursive)\n",
       "│    │    │    └─NormedLinears: 4-41               --                        --                        (recursive)\n",
       "│    └─Encoder: 2-21                               --                        --                        (recursive)\n",
       "│    │    └─Sequential: 3-24                       --                        --                        (recursive)\n",
       "│    │    │    └─NormedLinears: 4-5                [32, 5, 64]               [32, 5, 64]               20,800\n",
       "│    └─Decoder: 2-20                               --                        --                        (recursive)\n",
       "│    │    └─Sequential: 3-25                       --                        --                        (recursive)\n",
       "│    │    │    └─NormedLinears: 4-41               --                        --                        (recursive)\n",
       "│    └─Encoder: 2-21                               --                        --                        (recursive)\n",
       "│    │    └─Sequential: 3-24                       --                        --                        (recursive)\n",
       "│    │    │    └─NormedLinears: 4-7                [32, 5, 64]               [32, 5, 64]               20,800\n",
       "│    └─Decoder: 2-20                               --                        --                        (recursive)\n",
       "│    │    └─Sequential: 3-25                       --                        --                        (recursive)\n",
       "│    │    │    └─NormedLinears: 4-41               --                        --                        (recursive)\n",
       "│    └─Encoder: 2-21                               --                        --                        (recursive)\n",
       "│    │    └─Sequential: 3-24                       --                        --                        (recursive)\n",
       "│    │    │    └─Rearrange: 4-9                    [32, 5, 64]               [32, 320]                 --\n",
       "│    │    │    └─Linear: 4-10                      [32, 320]                 [32, 320]                 102,720\n",
       "│    │    │    └─Rearrange: 4-11                   [32, 320]                 [32, 5, 64]               --\n",
       "│    │    │    └─NormedLinears: 4-12               [32, 5, 64]               [32, 5, 3072]             998,400\n",
       "│    └─Embedding: 2-11                             [960]                     [960, 512]                262,144\n",
       "│    └─Decoder: 2-12                               [32, 5, 3072]             [32, 5, 17920]            --\n",
       "│    │    └─Sequential: 3-25                       --                        --                        (recursive)\n",
       "│    │    │    └─NormedLinears: 4-13               [32, 5, 3072]             [32, 5, 64]               983,360\n",
       "│    │    │    └─NormedLinears: 4-41               --                        --                        (recursive)\n",
       "│    │    │    └─NormedLinears: 4-15               [32, 5, 64]               [32, 5, 64]               20,800\n",
       "│    │    │    └─NormedLinears: 4-41               --                        --                        (recursive)\n",
       "│    │    │    └─NormedLinears: 4-17               [32, 5, 64]               [32, 5, 64]               20,800\n",
       "│    │    │    └─NormedLinears: 4-41               --                        --                        (recursive)\n",
       "│    │    │    └─NormedLinears: 4-19               [32, 5, 64]               [32, 5, 64]               20,800\n",
       "│    │    │    └─Rearrange: 4-20                   [32, 5, 64]               [32, 320]                 --\n",
       "│    │    │    └─Linear: 4-21                      [32, 320]                 [32, 320]                 102,720\n",
       "│    │    │    └─Rearrange: 4-22                   [32, 320]                 [32, 5, 64]               --\n",
       "│    │    │    └─NormedLinears: 4-23               [32, 5, 64]               [32, 5, 17920]            5,824,000\n",
       "├─Tokenizer: 1-3                                   [32, 5, 17920]            [32, 5, 512, 6]           14,132,224\n",
       "│    └─Encoder: 2-13                               [32, 5, 17920]            [32, 5, 3072]             (recursive)\n",
       "│    │    └─Sequential: 3-24                       --                        --                        (recursive)\n",
       "│    │    │    └─NormedLinears: 4-24               [32, 5, 17920]            [32, 5, 64]               (recursive)\n",
       "│    └─Decoder: 2-20                               --                        --                        (recursive)\n",
       "│    │    └─Sequential: 3-25                       --                        --                        (recursive)\n",
       "│    │    │    └─NormedLinears: 4-41               --                        --                        (recursive)\n",
       "│    └─Encoder: 2-21                               --                        --                        (recursive)\n",
       "│    │    └─Sequential: 3-24                       --                        --                        (recursive)\n",
       "│    │    │    └─NormedLinears: 4-26               [32, 5, 64]               [32, 5, 64]               (recursive)\n",
       "│    └─Decoder: 2-20                               --                        --                        (recursive)\n",
       "│    │    └─Sequential: 3-25                       --                        --                        (recursive)\n",
       "│    │    │    └─NormedLinears: 4-41               --                        --                        (recursive)\n",
       "│    └─Encoder: 2-21                               --                        --                        (recursive)\n",
       "│    │    └─Sequential: 3-24                       --                        --                        (recursive)\n",
       "│    │    │    └─NormedLinears: 4-28               [32, 5, 64]               [32, 5, 64]               (recursive)\n",
       "│    └─Decoder: 2-20                               --                        --                        (recursive)\n",
       "│    │    └─Sequential: 3-25                       --                        --                        (recursive)\n",
       "│    │    │    └─NormedLinears: 4-41               --                        --                        (recursive)\n",
       "│    └─Encoder: 2-21                               --                        --                        (recursive)\n",
       "│    │    └─Sequential: 3-24                       --                        --                        (recursive)\n",
       "│    │    │    └─NormedLinears: 4-30               [32, 5, 64]               [32, 5, 64]               (recursive)\n",
       "│    └─Decoder: 2-20                               --                        --                        (recursive)\n",
       "│    │    └─Sequential: 3-25                       --                        --                        (recursive)\n",
       "│    │    │    └─NormedLinears: 4-41               --                        --                        (recursive)\n",
       "│    └─Encoder: 2-21                               --                        --                        (recursive)\n",
       "│    │    └─Sequential: 3-24                       --                        --                        (recursive)\n",
       "│    │    │    └─Rearrange: 4-32                   [32, 5, 64]               [32, 320]                 --\n",
       "│    │    │    └─Linear: 4-33                      [32, 320]                 [32, 320]                 (recursive)\n",
       "│    │    │    └─Rearrange: 4-34                   [32, 320]                 [32, 5, 64]               --\n",
       "│    │    │    └─NormedLinears: 4-35               [32, 5, 64]               [32, 5, 3072]             (recursive)\n",
       "│    └─Embedding: 2-22                             [960]                     [960, 512]                (recursive)\n",
       "│    └─Decoder: 2-23                               [32, 5, 3072]             [32, 5, 17920]            (recursive)\n",
       "│    │    └─Sequential: 3-25                       --                        --                        (recursive)\n",
       "│    │    │    └─NormedLinears: 4-36               [32, 5, 3072]             [32, 5, 64]               (recursive)\n",
       "│    │    │    └─NormedLinears: 4-41               --                        --                        (recursive)\n",
       "│    │    │    └─NormedLinears: 4-38               [32, 5, 64]               [32, 5, 64]               (recursive)\n",
       "│    │    │    └─NormedLinears: 4-41               --                        --                        (recursive)\n",
       "│    │    │    └─NormedLinears: 4-40               [32, 5, 64]               [32, 5, 64]               (recursive)\n",
       "│    │    │    └─NormedLinears: 4-41               --                        --                        (recursive)\n",
       "│    │    │    └─NormedLinears: 4-42               [32, 5, 64]               [32, 5, 64]               (recursive)\n",
       "│    │    │    └─Rearrange: 4-43                   [32, 5, 64]               [32, 320]                 --\n",
       "│    │    │    └─Linear: 4-44                      [32, 320]                 [32, 320]                 (recursive)\n",
       "│    │    │    └─Rearrange: 4-45                   [32, 320]                 [32, 5, 64]               --\n",
       "│    │    │    └─NormedLinears: 4-46               [32, 5, 64]               [32, 5, 17920]            (recursive)\n",
       "├─Embedding: 1-4                                   [32, 5, 6]                [32, 5, 6, 512]           262,144\n",
       "=============================================================================================================================\n",
       "Total params: 29,689,792\n",
       "Trainable params: 29,689,792\n",
       "Non-trainable params: 0\n",
       "Total mult-adds (Units.GIGABYTES): 1.40\n",
       "=============================================================================================================================\n",
       "Input size (MB): 11.47\n",
       "Forward/backward pass size (MB): 67.17\n",
       "Params size (MB): 57.58\n",
       "Estimated Total Size (MB): 136.22\n",
       "============================================================================================================================="
      ]
     },
     "execution_count": 535,
     "metadata": {},
     "output_type": "execute_result"
    }
   ],
   "source": [
    "from torchinfo import summary\n",
    "\n",
    "summary(net, input_data=x1, depth=4, col_names=(\"input_size\", \"output_size\", \"num_params\",))  # input_size=(batch_size, 1, 28, 28))"
   ]
  },
  {
   "cell_type": "markdown",
   "metadata": {},
   "source": [
    "### Train autoencoder"
   ]
  },
  {
   "cell_type": "code",
   "execution_count": 536,
   "metadata": {},
   "outputs": [],
   "source": [
    "torch.set_float32_matmul_precision(\"medium\")"
   ]
  },
  {
   "cell_type": "code",
   "execution_count": 537,
   "metadata": {},
   "outputs": [],
   "source": [
    "# with torch.no_grad():\n",
    "#     o = net.predict_step(b)\n",
    "#     l1_loss, l2_loss, loss, acts, h_reconstructed = net.ae(b[0])\n",
    "#     # l1_loss, l2_loss, loss, latent, h_rec = self.ae(x)"
   ]
  },
  {
   "cell_type": "code",
   "execution_count": 538,
   "metadata": {},
   "outputs": [
    {
     "name": "stderr",
     "output_type": "stream",
     "text": [
      "LOCAL_RANK: 0 - CUDA_VISIBLE_DEVICES: [0,1]\n",
      "\n",
      "  | Name        | Type       | Params\n",
      "-------------------------------------------\n",
      "0 | norm        | Affines    | 0     \n",
      "1 | ae          | Tokenizer  | 14.1 M\n",
      "2 | probe_embed | Embedding  | 262 K \n",
      "3 | head        | Sequential | 15.4 K\n",
      "-------------------------------------------\n",
      "14.4 M    Trainable params\n",
      "0         Non-trainable params\n",
      "14.4 M    Total params\n",
      "57.639    Total estimated model params size (MB)\n"
     ]
    },
    {
     "name": "stdout",
     "output_type": "stream",
     "text": [
      "training ae\n",
      "requires_grad: True\n"
     ]
    },
    {
     "data": {
      "image/png": "[encoded data removed]",
      "text/plain": [
       "<Figure size 500x200 with 1 Axes>"
      ]
     },
     "metadata": {},
     "output_type": "display_data"
    },
    {
     "data": {
      "image/png": "[encoded data removed]",
      "text/plain": [
       "<Figure size 500x200 with 1 Axes>"
      ]
     },
     "metadata": {},
     "output_type": "display_data"
    },
    {
     "data": {
      "text/html": [
       "<div>\n",
       "<style scoped>\n",
       "    .dataframe tbody tr th:only-of-type {\n",
       "        vertical-align: middle;\n",
       "    }\n",
       "\n",
       "    .dataframe tbody tr th {\n",
       "        vertical-align: top;\n",
       "    }\n",
       "\n",
       "    .dataframe thead th {\n",
       "        text-align: right;\n",
       "    }\n",
       "</style>\n",
       "<table border=\"1\" class=\"dataframe\">\n",
       "  <thead>\n",
       "    <tr style=\"text-align: right;\">\n",
       "      <th></th>\n",
       "      <th>train/loss_rec_step</th>\n",
       "      <th>step</th>\n",
       "      <th>val/loss_rec_step</th>\n",
       "      <th>val/reconstruction_loss</th>\n",
       "      <th>val/loss_rec_epoch</th>\n",
       "      <th>val/n</th>\n",
       "      <th>val/commitment_loss</th>\n",
       "      <th>train/loss_rec_epoch</th>\n",
       "      <th>train/reconstruction_loss</th>\n",
       "      <th>train/commitment_loss</th>\n",
       "      <th>train/n</th>\n",
       "    </tr>\n",
       "    <tr>\n",
       "      <th>epoch</th>\n",
       "      <th></th>\n",
       "      <th></th>\n",
       "      <th></th>\n",
       "      <th></th>\n",
       "      <th></th>\n",
       "      <th></th>\n",
       "      <th></th>\n",
       "      <th></th>\n",
       "      <th></th>\n",
       "      <th></th>\n",
       "      <th></th>\n",
       "    </tr>\n",
       "  </thead>\n",
       "  <tbody>\n",
       "    <tr>\n",
       "      <th>0.0</th>\n",
       "      <td>0.816562</td>\n",
       "      <td>9</td>\n",
       "      <td>1.365753</td>\n",
       "      <td>1.362812</td>\n",
       "      <td>1.373674</td>\n",
       "      <td>154.0</td>\n",
       "      <td>0.010862</td>\n",
       "      <td>0.812819</td>\n",
       "      <td>0.801811</td>\n",
       "      <td>0.011008</td>\n",
       "      <td>307.0</td>\n",
       "    </tr>\n",
       "    <tr>\n",
       "      <th>1.0</th>\n",
       "      <td>0.815083</td>\n",
       "      <td>19</td>\n",
       "      <td>0.956154</td>\n",
       "      <td>0.959479</td>\n",
       "      <td>0.968225</td>\n",
       "      <td>154.0</td>\n",
       "      <td>0.008746</td>\n",
       "      <td>0.810823</td>\n",
       "      <td>0.801488</td>\n",
       "      <td>0.009336</td>\n",
       "      <td>307.0</td>\n",
       "    </tr>\n",
       "    <tr>\n",
       "      <th>2.0</th>\n",
       "      <td>0.813955</td>\n",
       "      <td>29</td>\n",
       "      <td>0.829902</td>\n",
       "      <td>0.835634</td>\n",
       "      <td>0.843351</td>\n",
       "      <td>154.0</td>\n",
       "      <td>0.007716</td>\n",
       "      <td>0.809581</td>\n",
       "      <td>0.801256</td>\n",
       "      <td>0.008325</td>\n",
       "      <td>307.0</td>\n",
       "    </tr>\n",
       "    <tr>\n",
       "      <th>3.0</th>\n",
       "      <td>0.813080</td>\n",
       "      <td>39</td>\n",
       "      <td>0.798630</td>\n",
       "      <td>0.805351</td>\n",
       "      <td>0.812484</td>\n",
       "      <td>154.0</td>\n",
       "      <td>0.007133</td>\n",
       "      <td>0.808512</td>\n",
       "      <td>0.800976</td>\n",
       "      <td>0.007536</td>\n",
       "      <td>307.0</td>\n",
       "    </tr>\n",
       "    <tr>\n",
       "      <th>4.0</th>\n",
       "      <td>0.814331</td>\n",
       "      <td>49</td>\n",
       "      <td>0.795894</td>\n",
       "      <td>0.801382</td>\n",
       "      <td>0.810269</td>\n",
       "      <td>154.0</td>\n",
       "      <td>0.008886</td>\n",
       "      <td>0.808452</td>\n",
       "      <td>0.800593</td>\n",
       "      <td>0.007859</td>\n",
       "      <td>307.0</td>\n",
       "    </tr>\n",
       "    <tr>\n",
       "      <th>...</th>\n",
       "      <td>...</td>\n",
       "      <td>...</td>\n",
       "      <td>...</td>\n",
       "      <td>...</td>\n",
       "      <td>...</td>\n",
       "      <td>...</td>\n",
       "      <td>...</td>\n",
       "      <td>...</td>\n",
       "      <td>...</td>\n",
       "      <td>...</td>\n",
       "      <td>...</td>\n",
       "    </tr>\n",
       "    <tr>\n",
       "      <th>835.0</th>\n",
       "      <td>0.211588</td>\n",
       "      <td>8359</td>\n",
       "      <td>0.504320</td>\n",
       "      <td>0.514653</td>\n",
       "      <td>0.521022</td>\n",
       "      <td>154.0</td>\n",
       "      <td>0.006369</td>\n",
       "      <td>0.324922</td>\n",
       "      <td>0.318632</td>\n",
       "      <td>0.006290</td>\n",
       "      <td>307.0</td>\n",
       "    </tr>\n",
       "    <tr>\n",
       "      <th>836.0</th>\n",
       "      <td>0.211346</td>\n",
       "      <td>8369</td>\n",
       "      <td>0.504162</td>\n",
       "      <td>0.514625</td>\n",
       "      <td>0.520995</td>\n",
       "      <td>154.0</td>\n",
       "      <td>0.006369</td>\n",
       "      <td>0.324869</td>\n",
       "      <td>0.318579</td>\n",
       "      <td>0.006290</td>\n",
       "      <td>307.0</td>\n",
       "    </tr>\n",
       "    <tr>\n",
       "      <th>837.0</th>\n",
       "      <td>0.211344</td>\n",
       "      <td>8379</td>\n",
       "      <td>0.504162</td>\n",
       "      <td>0.514602</td>\n",
       "      <td>0.520971</td>\n",
       "      <td>154.0</td>\n",
       "      <td>0.006369</td>\n",
       "      <td>0.325005</td>\n",
       "      <td>0.318715</td>\n",
       "      <td>0.006290</td>\n",
       "      <td>307.0</td>\n",
       "    </tr>\n",
       "    <tr>\n",
       "      <th>838.0</th>\n",
       "      <td>0.211339</td>\n",
       "      <td>8389</td>\n",
       "      <td>0.504165</td>\n",
       "      <td>0.514608</td>\n",
       "      <td>0.520977</td>\n",
       "      <td>154.0</td>\n",
       "      <td>0.006369</td>\n",
       "      <td>0.324983</td>\n",
       "      <td>0.318693</td>\n",
       "      <td>0.006290</td>\n",
       "      <td>307.0</td>\n",
       "    </tr>\n",
       "    <tr>\n",
       "      <th>839.0</th>\n",
       "      <td>0.211339</td>\n",
       "      <td>8399</td>\n",
       "      <td>0.504165</td>\n",
       "      <td>0.514608</td>\n",
       "      <td>0.520978</td>\n",
       "      <td>154.0</td>\n",
       "      <td>0.006369</td>\n",
       "      <td>0.324864</td>\n",
       "      <td>0.318574</td>\n",
       "      <td>0.006290</td>\n",
       "      <td>307.0</td>\n",
       "    </tr>\n",
       "  </tbody>\n",
       "</table>\n",
       "<p>840 rows × 11 columns</p>\n",
       "</div>"
      ],
      "text/plain": [
       "       train/loss_rec_step  step  val/loss_rec_step  val/reconstruction_loss  \\\n",
       "epoch                                                                          \n",
       "0.0               0.816562     9           1.365753                 1.362812   \n",
       "1.0               0.815083    19           0.956154                 0.959479   \n",
       "2.0               0.813955    29           0.829902                 0.835634   \n",
       "3.0               0.813080    39           0.798630                 0.805351   \n",
       "4.0               0.814331    49           0.795894                 0.801382   \n",
       "...                    ...   ...                ...                      ...   \n",
       "835.0             0.211588  8359           0.504320                 0.514653   \n",
       "836.0             0.211346  8369           0.504162                 0.514625   \n",
       "837.0             0.211344  8379           0.504162                 0.514602   \n",
       "838.0             0.211339  8389           0.504165                 0.514608   \n",
       "839.0             0.211339  8399           0.504165                 0.514608   \n",
       "\n",
       "       val/loss_rec_epoch  val/n  val/commitment_loss  train/loss_rec_epoch  \\\n",
       "epoch                                                                         \n",
       "0.0              1.373674  154.0             0.010862              0.812819   \n",
       "1.0              0.968225  154.0             0.008746              0.810823   \n",
       "2.0              0.843351  154.0             0.007716              0.809581   \n",
       "3.0              0.812484  154.0             0.007133              0.808512   \n",
       "4.0              0.810269  154.0             0.008886              0.808452   \n",
       "...                   ...    ...                  ...                   ...   \n",
       "835.0            0.521022  154.0             0.006369              0.324922   \n",
       "836.0            0.520995  154.0             0.006369              0.324869   \n",
       "837.0            0.520971  154.0             0.006369              0.325005   \n",
       "838.0            0.520977  154.0             0.006369              0.324983   \n",
       "839.0            0.520978  154.0             0.006369              0.324864   \n",
       "\n",
       "       train/reconstruction_loss  train/commitment_loss  train/n  \n",
       "epoch                                                             \n",
       "0.0                     0.801811               0.011008    307.0  \n",
       "1.0                     0.801488               0.009336    307.0  \n",
       "2.0                     0.801256               0.008325    307.0  \n",
       "3.0                     0.800976               0.007536    307.0  \n",
       "4.0                     0.800593               0.007859    307.0  \n",
       "...                          ...                    ...      ...  \n",
       "835.0                   0.318632               0.006290    307.0  \n",
       "836.0                   0.318579               0.006290    307.0  \n",
       "837.0                   0.318715               0.006290    307.0  \n",
       "838.0                   0.318693               0.006290    307.0  \n",
       "839.0                   0.318574               0.006290    307.0  \n",
       "\n",
       "[840 rows x 11 columns]"
      ]
     },
     "metadata": {},
     "output_type": "display_data"
    }
   ],
   "source": [
    "net.ae_mode(0)\n",
    "trainer1 = pl.Trainer(\n",
    "    precision=\"16-mixed\",\n",
    "    gradient_clip_val=20,\n",
    "    accelerator=\"auto\",\n",
    "    devices=\"1\",\n",
    "    max_epochs=max_epochs,  # * VAE_EPOCH_MULT,\n",
    "    log_every_n_steps=1,\n",
    "    enable_progress_bar=verbose,\n",
    "    # enable_model_summary=verbose,\n",
    ")\n",
    "\n",
    "# LOAD_CHECKPONT = Path('/media/wassname/SGIronWolf/projects5/elk/sgd_probes_are_lie_detectors/notebooks/lightning_logs/version_52/1_ae.ckpt')\n",
    "LOAD_CHECKPONT = None\n",
    "if LOAD_CHECKPONT:\n",
    "    PLAE.load_from_checkpoint(LOAD_CHECKPONT)\n",
    "else:\n",
    "    trainer1.fit(model=net, train_dataloaders=dl_train, val_dataloaders=dl_val)\n",
    "    df_hist, df_hist_step = read_metrics_csv(\n",
    "        trainer1.logger.experiment.metrics_file_path\n",
    "    )\n",
    "    plot_hist(df_hist, [\"reconstruction_loss\", \"commitment_loss\", \"loss_rec\"], logy=True)\n",
    "    # plt.show()\n",
    "    # plot_hist(df_hist_step, ['loss_rec_step'], logy=True)\n",
    "\n",
    "    display(df_hist)"
   ]
  },
  {
   "cell_type": "code",
   "execution_count": 539,
   "metadata": {},
   "outputs": [],
   "source": [
    "# plot_hist(df_hist, [\"reconstruction_loss\", \"commitment_loss\", \"loss_rec\"], logy=True)"
   ]
  },
  {
   "cell_type": "code",
   "execution_count": 540,
   "metadata": {},
   "outputs": [],
   "source": [
    "df_hist, df_hist_step = read_metrics_csv(trainer1.logger.experiment.metrics_file_path)"
   ]
  },
  {
   "cell_type": "code",
   "execution_count": 541,
   "metadata": {},
   "outputs": [
    {
     "name": "stderr",
     "output_type": "stream",
     "text": [
      "LOCAL_RANK: 0 - CUDA_VISIBLE_DEVICES: [0,1]\n"
     ]
    },
    {
     "name": "stdout",
     "output_type": "stream",
     "text": [
      "|                     |   train |     val |    test |     ood |\n",
      "|:--------------------|--------:|--------:|--------:|--------:|\n",
      "| loss_rec_epoch      |   0.364 |   0.521 |   0.508 |   0.439 |\n",
      "| commitment_loss     |   0.006 |   0.006 |   0.006 |   0.006 |\n",
      "| reconstruction_loss |   0.358 |   0.515 |   0.501 |   0.433 |\n",
      "| n                   | 307     | 154     | 154     | 615     |\n"
     ]
    }
   ],
   "source": [
    "rs3r = trainer1.test(\n",
    "    net, dataloaders=[dl_train, dl_val, dl_test, dl_ood], verbose=False\n",
    ")\n",
    "rs3 = rename_pl_test_results(rs3r, [\"train\", \"val\", \"test\", \"ood\"])"
   ]
  },
  {
   "cell_type": "markdown",
   "metadata": {},
   "source": [
    "#### QC"
   ]
  },
  {
   "cell_type": "code",
   "execution_count": 542,
   "metadata": {},
   "outputs": [
    {
     "name": "stdout",
     "output_type": "stream",
     "text": [
      "QC: view latent\n"
     ]
    }
   ],
   "source": [
    "x1 = x[..., 0]\n",
    "with torch.no_grad():\n",
    "    y = net(x1)\n",
    "\n",
    "print('QC: view latent')\n"
   ]
  },
  {
   "cell_type": "code",
   "execution_count": 543,
   "metadata": {},
   "outputs": [
    {
     "name": "stdout",
     "output_type": "stream",
     "text": [
      "z before quant\n"
     ]
    },
    {
     "data": {
      "image/png": "[encoded data removed]",
      "text/plain": [
       "<Figure size 400x300 with 8 Axes>"
      ]
     },
     "metadata": {},
     "output_type": "display_data"
    },
    {
     "name": "stdout",
     "output_type": "stream",
     "text": [
      "torch.Size([5, 16384])\n"
     ]
    },
    {
     "data": {
      "image/png": "[encoded data removed]",
      "text/plain": [
       "<Figure size 400x300 with 1 Axes>"
      ]
     },
     "metadata": {},
     "output_type": "display_data"
    }
   ],
   "source": [
    "print('z before quant')\n",
    "plot_latent(y['z'][..., 0]) \n"
   ]
  },
  {
   "cell_type": "code",
   "execution_count": 544,
   "metadata": {},
   "outputs": [
    {
     "name": "stdout",
     "output_type": "stream",
     "text": [
      "z_q after embed(z.argmin())\n"
     ]
    },
    {
     "data": {
      "image/png": "[encoded data removed]",
      "text/plain": [
       "<Figure size 400x300 with 8 Axes>"
      ]
     },
     "metadata": {},
     "output_type": "display_data"
    },
    {
     "name": "stdout",
     "output_type": "stream",
     "text": [
      "torch.Size([5, 192])\n"
     ]
    },
    {
     "data": {
      "image/png": "[encoded data removed]",
      "text/plain": [
       "<Figure size 400x300 with 1 Axes>"
      ]
     },
     "metadata": {},
     "output_type": "display_data"
    }
   ],
   "source": [
    "print('z_q after embed(z.argmin())')\n",
    "latent = y[\"latent\"].cpu()  # .reshape(64, 24, 12) # [Batch, Latent, Layer]\n",
    "plot_latent(latent[..., 0])"
   ]
  },
  {
   "cell_type": "code",
   "execution_count": 545,
   "metadata": {},
   "outputs": [
    {
     "name": "stdout",
     "output_type": "stream",
     "text": [
      "QC: latent usage 100.00%\n"
     ]
    }
   ],
   "source": [
    "sparsity = ((latent!=0) * 1.0).mean()\n",
    "print(f'QC: latent usage {sparsity:2.2%}')\n",
    "# sparsity_mult = y['l1_losses']/y['l1_raw']\n",
    "# print(f'QC: sparsity multiplier per layer {sparsity_mult.mean(0)}')"
   ]
  },
  {
   "cell_type": "code",
   "execution_count": 546,
   "metadata": {},
   "outputs": [
    {
     "data": {
      "text/plain": [
       "tensor([[[199, 269, 447, 352, 480, 119],\n",
       "         [340, 174, 376, 194,  22, 218],\n",
       "         [466, 159, 348,  25, 326,  64],\n",
       "         [306, 441,  38, 434, 111,  17],\n",
       "         [503, 210, 262, 437, 384, 313]],\n",
       "\n",
       "        [[381, 171, 345, 417,  39, 277],\n",
       "         [405, 174,  78, 160, 337, 418],\n",
       "         [125, 321,  55, 386, 126, 451],\n",
       "         [122,  65, 425,  36, 198,  17],\n",
       "         [250, 446, 132,  52, 384, 359]],\n",
       "\n",
       "        [[ 66, 269, 495, 475, 121, 257],\n",
       "         [ 16, 331, 474, 112, 337, 439],\n",
       "         [ 79,  34, 348, 220, 442, 440],\n",
       "         [157, 200, 314, 295,  86, 104],\n",
       "         [385, 359, 406,  14, 468,   3]],\n",
       "\n",
       "        [[153, 192, 211, 270, 480, 461],\n",
       "         [151, 174, 297, 194, 243, 481],\n",
       "         [207, 254, 286,  25, 493,  80],\n",
       "         [306,  75, 242, 167, 111, 141],\n",
       "         [148, 210, 482,  19, 491, 313]],\n",
       "\n",
       "        [[298, 192,  13, 214, 177, 429],\n",
       "         [486,  48, 147, 144, 496, 358],\n",
       "         [371, 317, 354, 377, 373,  80],\n",
       "         [183, 366, 164, 402, 193, 188],\n",
       "         [ 61, 210, 482, 202,  46, 359]],\n",
       "\n",
       "        [[ 66, 228,  27, 459, 413, 119],\n",
       "         [ 16, 331, 474, 112, 337, 439],\n",
       "         [ 79, 138,  35, 143, 350, 308],\n",
       "         [102, 200, 105, 295,  86, 216],\n",
       "         [483, 359,  70,  31, 468, 313]],\n",
       "\n",
       "        [[381, 502, 345, 459, 136, 166],\n",
       "         [ 16, 347, 474,  51, 337, 439],\n",
       "         [161, 159, 304, 143, 350, 308],\n",
       "         [102, 200, 105, 342, 382, 104],\n",
       "         [148, 210, 275,  19, 468, 359]],\n",
       "\n",
       "        [[ 84, 458, 447, 472, 480, 173],\n",
       "         [327,  48, 484, 497, 170, 165],\n",
       "         [466,  81, 361,  25,  87,  80],\n",
       "         [183, 200, 246, 167, 193,  45],\n",
       "         [250, 446,  74,  52, 491, 359]],\n",
       "\n",
       "        [[404, 163,  88, 475, 121, 113],\n",
       "         [340, 504, 372, 160, 337, 287],\n",
       "         [ 79, 159, 304, 220, 350, 308],\n",
       "         [102, 394,  21, 342,  86, 462],\n",
       "         [250, 446, 275,  52, 398, 203]],\n",
       "\n",
       "        [[199, 228, 495, 294, 426, 257],\n",
       "         [340, 174, 332, 160, 337, 439],\n",
       "         [ 79, 159,  35, 353, 350, 440],\n",
       "         [102, 455, 230, 342, 428, 104],\n",
       "         [483, 210, 406,  19, 468, 359]],\n",
       "\n",
       "        [[168, 163,  88, 300, 121, 166],\n",
       "         [340, 504, 372, 160, 337, 287],\n",
       "         [ 79, 159, 304, 220, 350, 308],\n",
       "         [102, 394,  21,  32,  86, 462],\n",
       "         [369, 252, 275,  52, 398, 203]],\n",
       "\n",
       "        [[381, 488, 379, 352, 136, 328],\n",
       "         [ 16, 347,  58, 112, 337, 439],\n",
       "         [125, 159, 354, 217, 493, 281],\n",
       "         [306, 510, 105, 127, 428, 141],\n",
       "         [483, 210, 406, 437, 468, 203]],\n",
       "\n",
       "        [[255, 171, 290, 475, 453, 461],\n",
       "         [ 16, 331, 332, 112, 337, 439],\n",
       "         [161, 159, 354, 143, 443, 308],\n",
       "         [249, 436, 105,  36,  86,  97],\n",
       "         [483, 252,  73,  19, 397, 313]],\n",
       "\n",
       "        [[ 66, 228, 334, 459,  39, 166],\n",
       "         [ 16, 331, 474,  51, 337, 439],\n",
       "         [ 79,  34, 348, 220, 178, 440],\n",
       "         [157, 200, 105, 342,  86, 104],\n",
       "         [483, 359, 275,  31, 468, 313]],\n",
       "\n",
       "        [[272,  92, 211, 352, 435,   2],\n",
       "         [340, 244, 376, 144, 496, 218],\n",
       "         [207, 159, 348,  25, 383,  80],\n",
       "         [122, 341,  38,  36, 428,  17],\n",
       "         [148, 252, 262, 343, 384, 313]],\n",
       "\n",
       "        [[153, 338,  13, 456, 177, 429],\n",
       "         [486,  20, 484, 283, 359, 389],\n",
       "         [161,  94, 304, 217, 442, 213],\n",
       "         [182,  24, 246, 167, 193, 462],\n",
       "         [ 61, 252,  90, 238, 468, 146]],\n",
       "\n",
       "        [[404,  92,  88, 459, 177, 312],\n",
       "         [ 28, 347,  85, 144, 115, 508],\n",
       "         [125,  94, 288, 217, 350, 427],\n",
       "         [182, 155, 246, 176,  76, 141],\n",
       "         [ 61, 501, 253, 279, 468,  54]],\n",
       "\n",
       "        [[381, 502, 345, 459, 136, 166],\n",
       "         [ 16, 347, 474,  51, 337, 439],\n",
       "         [161, 159, 304, 220, 350, 308],\n",
       "         [102, 200, 105, 342, 382, 104],\n",
       "         [503, 210, 275,  19, 468, 359]],\n",
       "\n",
       "        [[ 66, 228, 334, 459,  39, 119],\n",
       "         [ 16, 331, 474, 112, 337, 439],\n",
       "         [ 79,  34, 348, 220, 178, 440],\n",
       "         [157, 200, 105, 295,  86, 104],\n",
       "         [483, 359, 275,  31, 468,   3]],\n",
       "\n",
       "        [[267, 248, 379, 103, 395, 277],\n",
       "         [292, 224,  85, 497, 170, 324],\n",
       "         [291, 285,  55,  82, 152, 240],\n",
       "         [102,  65, 242, 273, 198,  17],\n",
       "         [471, 446, 482,  52, 491, 313]],\n",
       "\n",
       "        [[168, 228,  13, 270, 395, 119],\n",
       "         [236, 504, 474, 189,  99, 276],\n",
       "         [291,  94, 288, 217, 493, 427],\n",
       "         [182, 436, 314,   7,  86, 494],\n",
       "         [ 61, 359, 492, 202, 398, 146]],\n",
       "\n",
       "        [[199, 228, 495, 241, 426, 257],\n",
       "         [340, 174, 332, 160, 337, 439],\n",
       "         [371, 159,  35, 353, 350, 440],\n",
       "         [102, 455, 230, 342, 428, 104],\n",
       "         [483, 210, 406,  19, 468, 359]],\n",
       "\n",
       "        [[199, 502,  13, 475, 223, 119],\n",
       "         [340, 131,   4, 283, 337, 439],\n",
       "         [161, 261, 354, 143, 443, 509],\n",
       "         [122, 455, 230, 295,  86, 104],\n",
       "         [148, 252,  70, 202, 468, 359]],\n",
       "\n",
       "        [[ 84, 192, 345, 456,  39, 119],\n",
       "         [405, 244, 225, 194, 496, 460],\n",
       "         [454, 333, 130, 353, 489, 368],\n",
       "         [463, 366, 164, 402, 382, 401],\n",
       "         [ 61, 252, 482, 343,  46, 359]],\n",
       "\n",
       "        [[272, 228,  13, 352, 177, 119],\n",
       "         [236, 131, 474, 189,  99, 218],\n",
       "         [161, 261, 354, 258, 493, 281],\n",
       "         [122, 436, 230, 127,  86, 104],\n",
       "         [369, 359,  73,  26, 468, 146]],\n",
       "\n",
       "        [[272,  92, 290, 259, 336, 113],\n",
       "         [409,  59, 474, 283, 505, 418],\n",
       "         [125, 261, 288, 217, 493, 427],\n",
       "         [157, 510, 187,  32,  76, 494],\n",
       "         [471, 446, 275,  52, 398, 203]],\n",
       "\n",
       "        [[255, 502, 447, 352, 435, 119],\n",
       "         [ 16, 507,  85, 189, 496, 450],\n",
       "         [207, 399, 286, 377, 442,  67],\n",
       "         [122, 200, 242, 127, 128, 141],\n",
       "         [414, 210,  73,  19, 139, 203]],\n",
       "\n",
       "        [[168,  92,  13, 475, 177, 166],\n",
       "         [340, 504,   4, 160, 337, 287],\n",
       "         [125, 159, 354, 258, 493, 281],\n",
       "         [157, 394, 230,   7, 428, 494],\n",
       "         [250, 252, 492, 343, 398, 203]],\n",
       "\n",
       "        [[ 91, 228,  13, 103, 395,   2],\n",
       "         [236, 174,  78, 144, 496, 450],\n",
       "         [ 79, 321, 424,  82, 126, 368],\n",
       "         [306, 441, 187, 273, 382,  17],\n",
       "         [471, 252, 262, 343, 491, 359]],\n",
       "\n",
       "        [[199, 502,  13, 300,  39, 119],\n",
       "         [340, 131,   4, 283, 337, 439],\n",
       "         [161, 261, 304, 143, 443, 308],\n",
       "         [122, 455, 230, 127,  86, 216],\n",
       "         [148, 252, 406, 202, 468, 359]],\n",
       "\n",
       "        [[ 91, 502, 345, 103, 136, 113],\n",
       "         [ 16, 347, 474,  51, 337, 439],\n",
       "         [161, 138, 304, 143, 350, 308],\n",
       "         [102, 455, 105,  32, 382, 485],\n",
       "         [148, 210, 492,  19, 398, 359]],\n",
       "\n",
       "        [[168, 163, 495, 103, 339, 134],\n",
       "         [227, 331, 422, 194, 115, 508],\n",
       "         [371, 254, 348, 377, 178,  80],\n",
       "         [183, 394, 314, 295, 150, 216],\n",
       "         [ 61,  29,  90,  63, 398,  54]]])"
      ]
     },
     "execution_count": 546,
     "metadata": {},
     "output_type": "execute_result"
    }
   ],
   "source": [
    "y['tokens']"
   ]
  },
  {
   "cell_type": "markdown",
   "metadata": {},
   "source": [
    "### Train probe"
   ]
  },
  {
   "cell_type": "code",
   "execution_count": 547,
   "metadata": {},
   "outputs": [
    {
     "name": "stderr",
     "output_type": "stream",
     "text": [
      "LOCAL_RANK: 0 - CUDA_VISIBLE_DEVICES: [0,1]\n",
      "\n",
      "  | Name        | Type       | Params\n",
      "-------------------------------------------\n",
      "0 | norm        | Affines    | 0     \n",
      "1 | ae          | Tokenizer  | 14.1 M\n",
      "2 | probe_embed | Embedding  | 262 K \n",
      "3 | head        | Sequential | 15.4 K\n",
      "-------------------------------------------\n",
      "277 K     Trainable params\n",
      "14.1 M    Non-trainable params\n",
      "14.4 M    Total params\n",
      "57.639    Total estimated model params size (MB)\n"
     ]
    },
    {
     "name": "stdout",
     "output_type": "stream",
     "text": [
      "training probe\n",
      "requires_grad: False\n"
     ]
    }
   ],
   "source": [
    "net.ae_mode(1)\n",
    "trainer2 = pl.Trainer(\n",
    "    # precision=\"16-mixed\",\n",
    "    gradient_clip_val=20,\n",
    "    max_epochs=max_epochs,\n",
    "    log_every_n_steps=1,\n",
    "    enable_progress_bar=verbose,\n",
    "    # enable_model_summary=verbose,\n",
    "    # callbacks=[lr_logger],\n",
    ")\n",
    "trainer2.fit(model=net, train_dataloaders=dl_train, val_dataloaders=dl_val);"
   ]
  },
  {
   "cell_type": "code",
   "execution_count": null,
   "metadata": {},
   "outputs": [],
   "source": []
  },
  {
   "cell_type": "code",
   "execution_count": 548,
   "metadata": {},
   "outputs": [
    {
     "data": {
      "image/png": "[encoded data removed]",
      "text/plain": [
       "<Figure size 500x200 with 1 Axes>"
      ]
     },
     "metadata": {},
     "output_type": "display_data"
    },
    {
     "data": {
      "image/png": "[encoded data removed]",
      "text/plain": [
       "<Figure size 500x200 with 1 Axes>"
      ]
     },
     "metadata": {},
     "output_type": "display_data"
    },
    {
     "data": {
      "text/html": [
       "<div>\n",
       "<style scoped>\n",
       "    .dataframe tbody tr th:only-of-type {\n",
       "        vertical-align: middle;\n",
       "    }\n",
       "\n",
       "    .dataframe tbody tr th {\n",
       "        vertical-align: top;\n",
       "    }\n",
       "\n",
       "    .dataframe thead th {\n",
       "        text-align: right;\n",
       "    }\n",
       "</style>\n",
       "<table border=\"1\" class=\"dataframe\">\n",
       "  <thead>\n",
       "    <tr style=\"text-align: right;\">\n",
       "      <th></th>\n",
       "      <th>train/loss_pred_step</th>\n",
       "      <th>step</th>\n",
       "      <th>val/loss_pred_step</th>\n",
       "      <th>val/auroc</th>\n",
       "      <th>val/n</th>\n",
       "      <th>val/loss_pred_epoch</th>\n",
       "      <th>val/acc</th>\n",
       "      <th>train/auroc</th>\n",
       "      <th>train/acc</th>\n",
       "      <th>train/loss_pred_epoch</th>\n",
       "      <th>train/n</th>\n",
       "    </tr>\n",
       "    <tr>\n",
       "      <th>epoch</th>\n",
       "      <th></th>\n",
       "      <th></th>\n",
       "      <th></th>\n",
       "      <th></th>\n",
       "      <th></th>\n",
       "      <th></th>\n",
       "      <th></th>\n",
       "      <th></th>\n",
       "      <th></th>\n",
       "      <th></th>\n",
       "      <th></th>\n",
       "    </tr>\n",
       "  </thead>\n",
       "  <tbody>\n",
       "    <tr>\n",
       "      <th>0.0</th>\n",
       "      <td>0.692286</td>\n",
       "      <td>9</td>\n",
       "      <td>0.723101</td>\n",
       "      <td>0.493977</td>\n",
       "      <td>154.0</td>\n",
       "      <td>0.699209</td>\n",
       "      <td>0.487013</td>\n",
       "      <td>0.394130</td>\n",
       "      <td>0.384365</td>\n",
       "      <td>0.717699</td>\n",
       "      <td>307.0</td>\n",
       "    </tr>\n",
       "    <tr>\n",
       "      <th>1.0</th>\n",
       "      <td>0.692163</td>\n",
       "      <td>19</td>\n",
       "      <td>0.722961</td>\n",
       "      <td>0.511086</td>\n",
       "      <td>154.0</td>\n",
       "      <td>0.699164</td>\n",
       "      <td>0.487013</td>\n",
       "      <td>0.437799</td>\n",
       "      <td>0.384365</td>\n",
       "      <td>0.717477</td>\n",
       "      <td>307.0</td>\n",
       "    </tr>\n",
       "    <tr>\n",
       "      <th>2.0</th>\n",
       "      <td>0.692005</td>\n",
       "      <td>29</td>\n",
       "      <td>0.722819</td>\n",
       "      <td>0.511891</td>\n",
       "      <td>154.0</td>\n",
       "      <td>0.699072</td>\n",
       "      <td>0.487013</td>\n",
       "      <td>0.462298</td>\n",
       "      <td>0.384365</td>\n",
       "      <td>0.717280</td>\n",
       "      <td>307.0</td>\n",
       "    </tr>\n",
       "    <tr>\n",
       "      <th>3.0</th>\n",
       "      <td>0.691817</td>\n",
       "      <td>39</td>\n",
       "      <td>0.722676</td>\n",
       "      <td>0.513401</td>\n",
       "      <td>154.0</td>\n",
       "      <td>0.698977</td>\n",
       "      <td>0.487013</td>\n",
       "      <td>0.485565</td>\n",
       "      <td>0.384365</td>\n",
       "      <td>0.717067</td>\n",
       "      <td>307.0</td>\n",
       "    </tr>\n",
       "    <tr>\n",
       "      <th>4.0</th>\n",
       "      <td>0.691583</td>\n",
       "      <td>49</td>\n",
       "      <td>0.722533</td>\n",
       "      <td>0.515158</td>\n",
       "      <td>154.0</td>\n",
       "      <td>0.698884</td>\n",
       "      <td>0.487013</td>\n",
       "      <td>0.500515</td>\n",
       "      <td>0.384365</td>\n",
       "      <td>0.716844</td>\n",
       "      <td>307.0</td>\n",
       "    </tr>\n",
       "    <tr>\n",
       "      <th>...</th>\n",
       "      <td>...</td>\n",
       "      <td>...</td>\n",
       "      <td>...</td>\n",
       "      <td>...</td>\n",
       "      <td>...</td>\n",
       "      <td>...</td>\n",
       "      <td>...</td>\n",
       "      <td>...</td>\n",
       "      <td>...</td>\n",
       "      <td>...</td>\n",
       "      <td>...</td>\n",
       "    </tr>\n",
       "    <tr>\n",
       "      <th>835.0</th>\n",
       "      <td>0.615052</td>\n",
       "      <td>8359</td>\n",
       "      <td>0.670260</td>\n",
       "      <td>0.781759</td>\n",
       "      <td>154.0</td>\n",
       "      <td>0.633343</td>\n",
       "      <td>0.487013</td>\n",
       "      <td>0.850272</td>\n",
       "      <td>0.384365</td>\n",
       "      <td>0.648158</td>\n",
       "      <td>307.0</td>\n",
       "    </tr>\n",
       "    <tr>\n",
       "      <th>836.0</th>\n",
       "      <td>0.615052</td>\n",
       "      <td>8369</td>\n",
       "      <td>0.670260</td>\n",
       "      <td>0.783925</td>\n",
       "      <td>154.0</td>\n",
       "      <td>0.633343</td>\n",
       "      <td>0.487013</td>\n",
       "      <td>0.849354</td>\n",
       "      <td>0.384365</td>\n",
       "      <td>0.648158</td>\n",
       "      <td>307.0</td>\n",
       "    </tr>\n",
       "    <tr>\n",
       "      <th>837.0</th>\n",
       "      <td>0.615051</td>\n",
       "      <td>8379</td>\n",
       "      <td>0.670260</td>\n",
       "      <td>0.780442</td>\n",
       "      <td>154.0</td>\n",
       "      <td>0.633343</td>\n",
       "      <td>0.487013</td>\n",
       "      <td>0.850825</td>\n",
       "      <td>0.384365</td>\n",
       "      <td>0.648157</td>\n",
       "      <td>307.0</td>\n",
       "    </tr>\n",
       "    <tr>\n",
       "      <th>838.0</th>\n",
       "      <td>0.615051</td>\n",
       "      <td>8389</td>\n",
       "      <td>0.670260</td>\n",
       "      <td>0.779970</td>\n",
       "      <td>154.0</td>\n",
       "      <td>0.633343</td>\n",
       "      <td>0.487013</td>\n",
       "      <td>0.850982</td>\n",
       "      <td>0.384365</td>\n",
       "      <td>0.648157</td>\n",
       "      <td>307.0</td>\n",
       "    </tr>\n",
       "    <tr>\n",
       "      <th>839.0</th>\n",
       "      <td>0.615051</td>\n",
       "      <td>8399</td>\n",
       "      <td>0.670260</td>\n",
       "      <td>0.780785</td>\n",
       "      <td>154.0</td>\n",
       "      <td>0.633343</td>\n",
       "      <td>0.487013</td>\n",
       "      <td>0.852641</td>\n",
       "      <td>0.384365</td>\n",
       "      <td>0.648157</td>\n",
       "      <td>307.0</td>\n",
       "    </tr>\n",
       "  </tbody>\n",
       "</table>\n",
       "<p>840 rows × 11 columns</p>\n",
       "</div>"
      ],
      "text/plain": [
       "       train/loss_pred_step  step  val/loss_pred_step  val/auroc  val/n  \\\n",
       "epoch                                                                     \n",
       "0.0                0.692286     9            0.723101   0.493977  154.0   \n",
       "1.0                0.692163    19            0.722961   0.511086  154.0   \n",
       "2.0                0.692005    29            0.722819   0.511891  154.0   \n",
       "3.0                0.691817    39            0.722676   0.513401  154.0   \n",
       "4.0                0.691583    49            0.722533   0.515158  154.0   \n",
       "...                     ...   ...                 ...        ...    ...   \n",
       "835.0              0.615052  8359            0.670260   0.781759  154.0   \n",
       "836.0              0.615052  8369            0.670260   0.783925  154.0   \n",
       "837.0              0.615051  8379            0.670260   0.780442  154.0   \n",
       "838.0              0.615051  8389            0.670260   0.779970  154.0   \n",
       "839.0              0.615051  8399            0.670260   0.780785  154.0   \n",
       "\n",
       "       val/loss_pred_epoch   val/acc  train/auroc  train/acc  \\\n",
       "epoch                                                          \n",
       "0.0               0.699209  0.487013     0.394130   0.384365   \n",
       "1.0               0.699164  0.487013     0.437799   0.384365   \n",
       "2.0               0.699072  0.487013     0.462298   0.384365   \n",
       "3.0               0.698977  0.487013     0.485565   0.384365   \n",
       "4.0               0.698884  0.487013     0.500515   0.384365   \n",
       "...                    ...       ...          ...        ...   \n",
       "835.0             0.633343  0.487013     0.850272   0.384365   \n",
       "836.0             0.633343  0.487013     0.849354   0.384365   \n",
       "837.0             0.633343  0.487013     0.850825   0.384365   \n",
       "838.0             0.633343  0.487013     0.850982   0.384365   \n",
       "839.0             0.633343  0.487013     0.852641   0.384365   \n",
       "\n",
       "       train/loss_pred_epoch  train/n  \n",
       "epoch                                  \n",
       "0.0                 0.717699    307.0  \n",
       "1.0                 0.717477    307.0  \n",
       "2.0                 0.717280    307.0  \n",
       "3.0                 0.717067    307.0  \n",
       "4.0                 0.716844    307.0  \n",
       "...                      ...      ...  \n",
       "835.0               0.648158    307.0  \n",
       "836.0               0.648158    307.0  \n",
       "837.0               0.648157    307.0  \n",
       "838.0               0.648157    307.0  \n",
       "839.0               0.648157    307.0  \n",
       "\n",
       "[840 rows x 11 columns]"
      ]
     },
     "execution_count": 548,
     "metadata": {},
     "output_type": "execute_result"
    }
   ],
   "source": [
    "df_hist, _ = read_metrics_csv(trainer2.logger.experiment.metrics_file_path)\n",
    "plot_hist(df_hist, [\"loss_pred_epoch\", \"auroc\"])\n",
    "df_hist"
   ]
  },
  {
   "cell_type": "code",
   "execution_count": 549,
   "metadata": {},
   "outputs": [
    {
     "name": "stderr",
     "output_type": "stream",
     "text": [
      "LOCAL_RANK: 0 - CUDA_VISIBLE_DEVICES: [0,1]\n"
     ]
    },
    {
     "name": "stdout",
     "output_type": "stream",
     "text": [
      "|                 |   train |     val |    test |     ood |\n",
      "|:----------------|--------:|--------:|--------:|--------:|\n",
      "| auroc           |   0.82  |   0.781 |   0.701 |   0.786 |\n",
      "| acc             |   0.384 |   0.487 |   0.494 |   0.437 |\n",
      "| loss_pred_epoch |   0.65  |   0.633 |   0.662 |   0.649 |\n",
      "| n               | 307     | 154     | 154     | 615     |\n"
     ]
    }
   ],
   "source": [
    "rs3r = trainer2.test(\n",
    "    net, dataloaders=[dl_train, dl_val, dl_test, dl_ood], verbose=False\n",
    ")\n",
    "rs3 = rename_pl_test_results(rs3r, [\"train\", \"val\", \"test\", \"ood\"])"
   ]
  },
  {
   "cell_type": "code",
   "execution_count": null,
   "metadata": {},
   "outputs": [],
   "source": []
  },
  {
   "cell_type": "code",
   "execution_count": 550,
   "metadata": {},
   "outputs": [
    {
     "name": "stderr",
     "output_type": "stream",
     "text": [
      "LOCAL_RANK: 0 - CUDA_VISIBLE_DEVICES: [0,1]\n"
     ]
    },
    {
     "name": "stderr",
     "output_type": "stream",
     "text": [
      "LOCAL_RANK: 0 - CUDA_VISIBLE_DEVICES: [0,1]\n"
     ]
    },
    {
     "name": "stdout",
     "output_type": "stream",
     "text": [
      "\n",
      "\n",
      "probe accuracy for quadrants:\n",
      "| instructed to   |   did |   didn't |\n",
      "|:----------------|------:|---------:|\n",
      "| tell a truth    |  0.52 |     0.33 |\n",
      "| tell a lie      |  0.38 |     0.62 |\n",
      "\n",
      "\n",
      "\n"
     ]
    },
    {
     "name": "stderr",
     "output_type": "stream",
     "text": [
      "LOCAL_RANK: 0 - CUDA_VISIBLE_DEVICES: [0,1]\n"
     ]
    },
    {
     "name": "stdout",
     "output_type": "stream",
     "text": [
      "\n",
      "\n",
      "probe accuracy for quadrants:\n",
      "| instructed to   |   did |   didn't |\n",
      "|:----------------|------:|---------:|\n",
      "| tell a truth    |  0.61 |     0.23 |\n",
      "| tell a lie      |  0.33 |     0.25 |\n",
      "\n",
      "\n",
      "\n",
      "\n",
      "\n",
      "probe accuracy for quadrants:\n",
      "| instructed to   |   did |   didn't |\n",
      "|:----------------|------:|---------:|\n",
      "| tell a truth    |  0.49 |     0.29 |\n",
      "| tell a lie      |  0.3  |     0.43 |\n",
      "\n",
      "\n",
      "\n",
      "|      |   acc |   acc_lie_lie |   acc_lie_truth |\n",
      "|:-----|------:|--------------:|----------------:|\n",
      "| test |  0.49 |          0.38 |            0.62 |\n",
      "| val  |  0.49 |          0.33 |            0.25 |\n",
      "| ood  |  0.44 |          0.3  |            0.43 |\n"
     ]
    },
    {
     "data": {
      "text/html": [
       "<div>\n",
       "<style scoped>\n",
       "    .dataframe tbody tr th:only-of-type {\n",
       "        vertical-align: middle;\n",
       "    }\n",
       "\n",
       "    .dataframe tbody tr th {\n",
       "        vertical-align: top;\n",
       "    }\n",
       "\n",
       "    .dataframe thead th {\n",
       "        text-align: right;\n",
       "    }\n",
       "</style>\n",
       "<table border=\"1\" class=\"dataframe\">\n",
       "  <thead>\n",
       "    <tr style=\"text-align: right;\">\n",
       "      <th></th>\n",
       "      <th>acc</th>\n",
       "      <th>acc_lie_lie</th>\n",
       "      <th>acc_lie_truth</th>\n",
       "    </tr>\n",
       "  </thead>\n",
       "  <tbody>\n",
       "    <tr>\n",
       "      <th>test</th>\n",
       "      <td>0.493506</td>\n",
       "      <td>0.375000</td>\n",
       "      <td>0.615385</td>\n",
       "    </tr>\n",
       "    <tr>\n",
       "      <th>val</th>\n",
       "      <td>0.487013</td>\n",
       "      <td>0.333333</td>\n",
       "      <td>0.250000</td>\n",
       "    </tr>\n",
       "    <tr>\n",
       "      <th>ood</th>\n",
       "      <td>0.437398</td>\n",
       "      <td>0.300000</td>\n",
       "      <td>0.433333</td>\n",
       "    </tr>\n",
       "  </tbody>\n",
       "</table>\n",
       "</div>"
      ],
      "text/plain": [
       "           acc  acc_lie_lie  acc_lie_truth\n",
       "test  0.493506     0.375000       0.615385\n",
       "val   0.487013     0.333333       0.250000\n",
       "ood   0.437398     0.300000       0.433333"
      ]
     },
     "execution_count": 550,
     "metadata": {},
     "output_type": "execute_result"
    }
   ],
   "source": [
    "# TODO wrong?\n",
    "a = calc_metrics(dm, net, split=\"test\", verbose=False)\n",
    "b = calc_metrics(dm, net, split=\"val\", verbose=False)\n",
    "c = calc_metrics(dm_ood, net, split=\"all\", verbose=False)\n",
    "df_metrics = pd.DataFrame([a, b, c], index=[\"test\", \"val\", \"ood\"]).iloc[:, :3]\n",
    "print(df_metrics.round(2).to_markdown())\n",
    "df_metrics"
   ]
  },
  {
   "cell_type": "markdown",
   "metadata": {},
   "source": [
    "### Train end-to-end\n"
   ]
  },
  {
   "cell_type": "code",
   "execution_count": 551,
   "metadata": {},
   "outputs": [
    {
     "ename": "ZeroDivisionError",
     "evalue": "division by zero",
     "output_type": "error",
     "traceback": [
      "\u001b[0;31m---------------------------------------------------------------------------\u001b[0m",
      "\u001b[0;31mZeroDivisionError\u001b[0m                         Traceback (most recent call last)",
      "Cell \u001b[0;32mIn[551], line 1\u001b[0m\n\u001b[0;32m----> 1\u001b[0m \u001b[38;5;241;43m1\u001b[39;49m\u001b[43m \u001b[49m\u001b[38;5;241;43m/\u001b[39;49m\u001b[43m \u001b[49m\u001b[38;5;241;43m0\u001b[39;49m\n",
      "\u001b[0;31mZeroDivisionError\u001b[0m: division by zero"
     ]
    }
   ],
   "source": [
    "1 / 0"
   ]
  },
  {
   "cell_type": "code",
   "execution_count": null,
   "metadata": {},
   "outputs": [],
   "source": [
    "net.ae_mode(2)\n",
    "trainer3 = pl.Trainer(\n",
    "    precision=\"16-mixed\",\n",
    "    gradient_clip_val=20,\n",
    "    max_epochs=max_epochs,\n",
    "    log_every_n_steps=3,\n",
    "    # enable_progress_bar=False, enable_model_summary=False\n",
    ")\n",
    "trainer3.fit(model=net, train_dataloaders=dl_train, val_dataloaders=dl_val)\n",
    "1"
   ]
  },
  {
   "cell_type": "code",
   "execution_count": null,
   "metadata": {},
   "outputs": [],
   "source": [
    "# ds2df(dm.dm_orig)\n"
   ]
  },
  {
   "cell_type": "code",
   "execution_count": null,
   "metadata": {},
   "outputs": [],
   "source": [
    "# look at hist\n",
    "df_hist, _ = read_metrics_csv(trainer3.logger.experiment.metrics_file_path)\n",
    "plot_hist(df_hist, [\"loss_pred\", \"acc\"])\n",
    "\n",
    "rs3r = trainer3.test(\n",
    "    net, dataloaders=[dl_train, dl_val, dl_test, dl_ood], verbose=False\n",
    ")\n",
    "rs3 = rename_pl_test_results(rs3r, [\"train\", \"val\", \"test\", \"ood\"])\n",
    "\n",
    "# predict\n",
    "a = calc_metrics(dm, net, trainer1, \"test\")\n",
    "b = calc_metrics(dm, net, trainer1, \"val\")\n",
    "pd.DataFrame([a, b], index=[\"test\", \"val\"])\n",
    "\n",
    "c = calc_metrics(dm_ood, net, trainer1, \"all\")\n",
    "pd.DataFrame([a, b, c], index=[\"test\", \"val\", \"ood\"])"
   ]
  },
  {
   "cell_type": "code",
   "execution_count": null,
   "metadata": {},
   "outputs": [],
   "source": [
    "a = calc_metrics(dm, net, trainer1, \"test\")\n",
    "b = calc_metrics(dm, net, trainer1, \"val\")\n",
    "c = calc_metrics(dm_ood, net, trainer1, \"all\")\n",
    "df_metrics = pd.DataFrame([a, b, c], index=[\"test\", \"val\", \"ood\"]).iloc[:, :3]\n",
    "print(df_metrics.round(3).to_markdown())\n",
    "df_metrics"
   ]
  },
  {
   "cell_type": "code",
   "execution_count": null,
   "metadata": {},
   "outputs": [],
   "source": []
  },
  {
   "cell_type": "code",
   "execution_count": null,
   "metadata": {},
   "outputs": [],
   "source": []
  },
  {
   "cell_type": "code",
   "execution_count": null,
   "metadata": {},
   "outputs": [],
   "source": []
  },
  {
   "cell_type": "code",
   "execution_count": null,
   "metadata": {},
   "outputs": [],
   "source": []
  }
 ],
 "metadata": {
  "kernelspec": {
   "display_name": ".venv",
   "language": "python",
   "name": "python3"
  },
  "language_info": {
   "codemirror_mode": {
    "name": "ipython",
    "version": 3
   },
   "file_extension": ".py",
   "mimetype": "text/x-python",
   "name": "python",
   "nbconvert_exporter": "python",
   "pygments_lexer": "ipython3",
   "version": "3.11.0rc1"
  }
 },
 "nbformat": 4,
 "nbformat_minor": 2
}
