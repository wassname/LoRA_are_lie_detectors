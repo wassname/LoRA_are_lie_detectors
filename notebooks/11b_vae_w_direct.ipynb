{
 "cells": [
  {
   "cell_type": "code",
   "execution_count": 1,
   "metadata": {},
   "outputs": [],
   "source": [
    "import os\n",
    "import numpy as np\n",
    "import pandas as pd\n",
    "from matplotlib import pyplot as plt\n",
    "from tqdm.auto import tqdm\n",
    "\n",
    "\n",
    "\n",
    "from typing import Optional, List, Dict, Union\n",
    "from jaxtyping import Float\n",
    "from torch import Tensor\n",
    "\n",
    "import torch\n",
    "import torch.nn as nn\n",
    "import torch.nn.functional as F\n",
    "\n",
    "from torch import Tensor\n",
    "from torch import optim\n",
    "from torch.utils.data import random_split, DataLoader, TensorDataset\n",
    "\n",
    "from pathlib import Path\n",
    "from einops import rearrange\n",
    "\n",
    "import transformers\n",
    "from transformers import (\n",
    "    AutoTokenizer,\n",
    "    AutoModelForCausalLM,\n",
    "    BitsAndBytesConfig,\n",
    "    AutoConfig,\n",
    ")\n",
    "from peft import (\n",
    "    get_peft_config,\n",
    "    get_peft_model,\n",
    "    LoraConfig,\n",
    "    TaskType,\n",
    "    LoftQConfig,\n",
    "    IA3Config,\n",
    ")\n",
    "from pathlib import Path\n",
    "import datasets\n",
    "from datasets import Dataset\n",
    "\n",
    "from loguru import logger\n",
    "\n",
    "logger.add(os.sys.stderr, format=\"{time} {level} {message}\", level=\"INFO\")\n",
    "\n",
    "# load my code\n",
    "%load_ext autoreload\n",
    "%autoreload 2\n",
    "\n",
    "import lightning.pytorch as pl\n",
    "\n",
    "from src.config import ExtractConfig\n",
    "from src.llms.load import load_model\n",
    "from src.helpers.torch_helpers import clear_mem\n",
    "from src.llms.phi.model_phi import PhiForCausalLMWHS\n",
    "from src.eval.ds import filter_ds_to_known\n",
    "from src.datasets.act_dm import ActivationDataModule\n",
    "\n",
    "# plt.style.use(\"ggplot\")\n",
    "# plt.style.use(\"seaborn-v0_8\")\n",
    "import seaborn as sns\n",
    "sns.set_theme('paper')\n"
   ]
  },
  {
   "cell_type": "markdown",
   "metadata": {},
   "source": [
    "## Paramsnet\n"
   ]
  },
  {
   "cell_type": "code",
   "execution_count": 2,
   "metadata": {},
   "outputs": [],
   "source": [
    "# params\n",
    "\n",
    "# cfg = ExtractConfig(\n",
    "#     # model=\"microsoft/phi-2\",\n",
    "#     # # batch_size=1,\n",
    "#     # prompt_format=\"phi\",\n",
    "# )\n",
    "# cfg\n",
    "\n",
    "# params\n",
    "batch_size = 32\n",
    "lr = 1e-3\n",
    "wd = 0 # 1e-5\n",
    "\n",
    "MAX_ROWS = 2000\n",
    "\n",
    "SKIP=5 # skip initial N layers\n",
    "STRIDE=4 # skip every N layers\n",
    "DECIMATE=4 # discard N features for speed\n",
    "\n",
    "device = \"cuda:0\"\n",
    "max_epochs = 33\n",
    "\n",
    "# VAE_EPOCH_MULT = 1\n",
    "l1_coeff = 1.0e-1  # neel uses 3e-4 ! https://github.dev/neelnanda-io/1L-Sparse-Autoencoder/blob/bcae01328a2f41d24bd4a9160828f2fc22737f75/utils.py#L106, but them they sum l1 where mean l2\n",
    "    # x_feats=x_feats. other use 1e-1\n",
    "\n",
    "\n",
    "BASE_FOLDER = Path(\"/media/wassname/SGIronWolf/projects5/elk/sgd_probes_are_lie_detectors/notebooks/lightning_logs/version_24/\")\n",
    "layers_names = ('fc1', 'Wqkv', 'fc2', 'out_proj')"
   ]
  },
  {
   "cell_type": "markdown",
   "metadata": {},
   "source": [
    "## Load data"
   ]
  },
  {
   "cell_type": "code",
   "execution_count": 3,
   "metadata": {},
   "outputs": [
    {
     "data": {
      "text/plain": [
       "(PosixPath('/media/wassname/SGIronWolf/projects5/elk/sgd_probes_are_lie_detectors/notebooks/lightning_logs/version_24/hidden_states/.ds/ds_valtest_8b8fd6070504d5ef'),\n",
       " PosixPath('/media/wassname/SGIronWolf/projects5/elk/sgd_probes_are_lie_detectors/notebooks/lightning_logs/version_24/hidden_states/.ds/ds_OOD_a41d3a61513ade30'))"
      ]
     },
     "execution_count": 3,
     "metadata": {},
     "output_type": "execute_result"
    }
   ],
   "source": [
    "# load hidden state from a previously loaded adapter\n",
    "# the columns with _base are from the base model, and adapt from adapter\n",
    "# FROM TRAINING TRUTH\n",
    "f1_val = next(iter(BASE_FOLDER.glob('hidden_states/.ds/ds_valtest_*')))\n",
    "f1_ood = next(iter(BASE_FOLDER.glob('hidden_states/.ds/ds_OOD_*')))\n",
    "f1_val, f1_ood"
   ]
  },
  {
   "cell_type": "code",
   "execution_count": 4,
   "metadata": {},
   "outputs": [],
   "source": [
    "# insample_datasets = list(set(ds_val['ds_string_base']))\n",
    "# outsample_datasets = list(set(ds_ood['ds_string_base']))\n",
    "# print(insample_datasets, outsample_datasets)"
   ]
  },
  {
   "cell_type": "code",
   "execution_count": 5,
   "metadata": {},
   "outputs": [
    {
     "name": "stdout",
     "output_type": "stream",
     "text": [
      "select rows are 74.39% based on knowledge\n"
     ]
    },
    {
     "data": {
      "application/vnd.jupyter.widget-view+json": {
       "model_id": "7a7e61a5c28342b8a27b2d81775b64d6",
       "version_major": 2,
       "version_minor": 0
      },
      "text/plain": [
       "Map:   0%|          | 0/615 [00:00<?, ? examples/s]"
      ]
     },
     "metadata": {},
     "output_type": "display_data"
    },
    {
     "name": "stderr",
     "output_type": "stream",
     "text": [
      "\u001b[32m2024-01-07 09:36:32.856\u001b[0m | \u001b[1mINFO    \u001b[0m | \u001b[36msrc.datasets.act_dm\u001b[0m:\u001b[36msetup\u001b[0m:\u001b[36m64\u001b[0m - \u001b[1mconverting datasets this may take a while... ds_valtest_8b8fd6070504d5ef train\u001b[0m\n",
      "2024-01-07T09:36:32.856288+0800 INFO converting datasets this may take a while... ds_valtest_8b8fd6070504d5ef train\n"
     ]
    },
    {
     "name": "stdout",
     "output_type": "stream",
     "text": [
      "making shared dataset with unique name ds_valtest_8b8fd6070504d5ef_3f6f12_train\n",
      "making shared dataset with unique name ds_valtest_8b8fd6070504d5ef_3f6f12_val\n",
      "making shared dataset with unique name ds_valtest_8b8fd6070504d5ef_3f6f12_test\n",
      "select rows are 74.39% based on knowledge\n"
     ]
    },
    {
     "data": {
      "application/vnd.jupyter.widget-view+json": {
       "model_id": "3decd9cf06934c40be24396663c2ab0e",
       "version_major": 2,
       "version_minor": 0
      },
      "text/plain": [
       "Map:   0%|          | 0/615 [00:00<?, ? examples/s]"
      ]
     },
     "metadata": {},
     "output_type": "display_data"
    },
    {
     "name": "stderr",
     "output_type": "stream",
     "text": [
      "\u001b[32m2024-01-07 09:38:07.354\u001b[0m | \u001b[1mINFO    \u001b[0m | \u001b[36msrc.datasets.act_dm\u001b[0m:\u001b[36msetup\u001b[0m:\u001b[36m64\u001b[0m - \u001b[1mconverting datasets this may take a while... ds_OOD_a41d3a61513ade30 all\u001b[0m\n",
      "2024-01-07T09:38:07.354048+0800 INFO converting datasets this may take a while... ds_OOD_a41d3a61513ade30 all\n"
     ]
    },
    {
     "name": "stdout",
     "output_type": "stream",
     "text": [
      "making shared dataset with unique name all\n"
     ]
    }
   ],
   "source": [
    "input_columns = ['binary_ans_base', 'binary_ans_adapt' ] + [f'end_residual_{layer}_base' for layer in layers_names] + [f'end_residual_{layer}_adapt' for layer in layers_names]\n",
    "\n",
    "def ds2xy_batched(ds):\n",
    "    data = []\n",
    "    for layer in layers_names:\n",
    "        # Stack the base and adapter representations as a 4th dim\n",
    "        X1 = [ds[f'end_residual_{layer}_base'], ds[f'end_residual_{layer}_adapt']]\n",
    "        X1 = rearrange(X1, 'versions b l f  -> b l f versions')\n",
    "        data.append(X1)\n",
    "    \n",
    "    # concat layers\n",
    "    # x = rearrange(data, 'b parts l f v -> b l (parts f) v')\n",
    "    X = torch.concat(data, dim=2)[:, SKIP::STRIDE, ::DECIMATE]\n",
    "\n",
    "    y = ds['binary_ans_base']-ds['binary_ans_adapt']\n",
    "    return dict(X=X, y=y)\n",
    "\n",
    "\n",
    "\n",
    "def prepare_ds(ds):\n",
    "    \"\"\"\n",
    "    prepare a dataset for training\n",
    "\n",
    "    this should front load much of the computation\n",
    "    it should restrict it to the needed rows X and y\n",
    "    \n",
    "    \"\"\"\n",
    "    ds = (ds\n",
    "          .with_format(\"torch\")\n",
    "          .select_columns(input_columns)\n",
    "          .map(ds2xy_batched, batched=True, batch_size=128,\n",
    "        remove_columns=input_columns)\n",
    "    )\n",
    "    return ds\n",
    "\n",
    "def load_file_to_dm(f, stage):\n",
    "    ds = Dataset.from_file(str(f1_val), in_memory=True).with_format(\"torch\")\n",
    "    ds = filter_ds_to_known(ds, verbose=True, true_col='truth')\n",
    "    ds = prepare_ds(ds)\n",
    "\n",
    "    # limit size\n",
    "    MAX_SAMPLES = min(len(ds), MAX_ROWS*2)\n",
    "    ds = ds.select(range(0, MAX_SAMPLES))\n",
    "\n",
    "    dm = ActivationDataModule(ds, f.stem, batch_size=batch_size, num_workers=0)\n",
    "    dm.setup(stage)\n",
    "    return dm\n",
    "\n",
    "\n",
    "dm = load_file_to_dm(f1_val, 'train')\n",
    "dm_ood = load_file_to_dm(f1_ood, 'all')"
   ]
  },
  {
   "cell_type": "code",
   "execution_count": null,
   "metadata": {},
   "outputs": [],
   "source": []
  },
  {
   "cell_type": "code",
   "execution_count": 6,
   "metadata": {},
   "outputs": [],
   "source": [
    "# slow... takes 12 mins. It's the accessing\n",
    "dl_train = dm.train_dataloader()\n",
    "dl_val = dm.val_dataloader()\n",
    "dl_test = dm.test_dataloader()\n",
    "dl_ood = dm_ood.all_dataloader()"
   ]
  },
  {
   "cell_type": "markdown",
   "metadata": {},
   "source": [
    "Experiment with dataloading speeds:\n",
    "- does it help to save the Xy dataset to disc, then load, while keeping in mem?. no not faster at all\n",
    "- does it help to use num_workers > 0? yes 3x faster\n",
    "- the shared dataset wrapper is 10x faster, and less mem"
   ]
  },
  {
   "cell_type": "markdown",
   "metadata": {},
   "source": [
    "# Get importance matrix from adapter"
   ]
  },
  {
   "cell_type": "code",
   "execution_count": 7,
   "metadata": {},
   "outputs": [
    {
     "name": "stdout",
     "output_type": "stream",
     "text": [
      "Wqkv torch.Size([32, 7680])\n",
      "out_proj torch.Size([32, 2560])\n",
      "fc1 torch.Size([32, 10240])\n",
      "fc2 torch.Size([32, 2560])\n"
     ]
    },
    {
     "data": {
      "image/png": "[encoded data removed]",
      "text/plain": [
       "<Figure size 640x480 with 1 Axes>"
      ]
     },
     "metadata": {},
     "output_type": "display_data"
    }
   ],
   "source": [
    "from src.probes.importance_matrix import get_importance_matrix\n",
    "\n",
    "\n",
    "f = f\"{BASE_FOLDER}/checkpoint_last/adapter_model.safetensors\"\n",
    "importance_matrix = get_importance_matrix(f, layers=layers_names)[SKIP::STRIDE, ::DECIMATE]\n",
    "plt.hist(importance_matrix.flatten(), bins=155);\n"
   ]
  },
  {
   "cell_type": "code",
   "execution_count": null,
   "metadata": {},
   "outputs": [],
   "source": []
  },
  {
   "cell_type": "code",
   "execution_count": 8,
   "metadata": {},
   "outputs": [],
   "source": [
    "ds_test2 = dm.datasets['test']\n",
    "shape1 = ds_test2[0][0][:, :, 0].shape\n",
    "shape2= importance_matrix.shape\n",
    "np.testing.assert_equal(shape1, shape2, err_msg=\"shape mismatch between ds and importance matrix\")\n"
   ]
  },
  {
   "cell_type": "markdown",
   "metadata": {},
   "source": [
    "# Model"
   ]
  },
  {
   "cell_type": "code",
   "execution_count": 9,
   "metadata": {},
   "outputs": [],
   "source": [
    "\n",
    "from src.vae.conv_inception import AutoEncoder, PLAE"
   ]
  },
  {
   "cell_type": "markdown",
   "metadata": {},
   "source": [
    "# Train"
   ]
  },
  {
   "cell_type": "markdown",
   "metadata": {},
   "source": [
    "### Metrics\n"
   ]
  },
  {
   "cell_type": "code",
   "execution_count": 10,
   "metadata": {},
   "outputs": [],
   "source": [
    "def get_acc_subset(df, query, verbose=True):\n",
    "    if query:\n",
    "        df = df.query(query)\n",
    "    acc = (df[\"probe_pred\"] == df[\"y\"]).mean()\n",
    "    if verbose:\n",
    "        print(f\"acc={acc:2.2%},\\tn={len(df)},\\t[{query}] \")\n",
    "    return acc\n",
    "\n",
    "\n",
    "def calc_metrics(dm, trainer, net, use_val=False, verbose=True):\n",
    "    dl_test = dm.test_dataloader()\n",
    "    rt = trainer.predict(net, dataloaders=dl_test)\n",
    "    y_test_pred = np.concatenate(rt)\n",
    "    splits = dm.splits[\"test\"]\n",
    "    df_test = dm.df.iloc[splits[0] : splits[1]].copy()\n",
    "    df_test[\"probe_pred\"] = y_test_pred > 0.0\n",
    "\n",
    "    if use_val:\n",
    "        dl_val = dm.val_dataloader()\n",
    "        rv = trainer.predict(net, dataloaders=dl_val)\n",
    "        y_val_pred = np.concatenate(rv)\n",
    "        splits = dm.splits[\"val\"]\n",
    "        df_val = dm.df.iloc[splits[0] : splits[1]].copy()\n",
    "        df_val[\"probe_pred\"] = y_val_pred > 0.0\n",
    "\n",
    "        df_test = pd.concat([df_val, df_test])\n",
    "\n",
    "    if verbose:\n",
    "        print(\"probe results on subsets of the data\")\n",
    "    acc = get_acc_subset(df_test, \"\", verbose=verbose)\n",
    "    get_acc_subset(\n",
    "        df_test, \"instructed_to_lie==True\", verbose=verbose\n",
    "    )  # it was ph told to lie\n",
    "    get_acc_subset(\n",
    "        df_test, \"instructed_to_lie==False\", verbose=verbose\n",
    "    )  # it was told not to lie\n",
    "    get_acc_subset(\n",
    "        df_test, \"llm_ans==label_true\", verbose=verbose\n",
    "    )  # the llm gave the true ans\n",
    "    get_acc_subset(\n",
    "        df_test, \"llm_ans==label_instructed\", verbose=verbose\n",
    "    )  # the llm gave the desired ans\n",
    "    acc_lie_lie = get_acc_subset(\n",
    "        df_test, \"instructed_to_lie==True & llm_ans==label_instructed\", verbose=verbose\n",
    "    )  # it was told to lie, and it did lie\n",
    "    acc_lie_truth = get_acc_subset(\n",
    "        df_test, \"instructed_to_lie==True & llm_ans!=label_instructed\", verbose=verbose\n",
    "    )\n",
    "\n",
    "    a = get_acc_subset(\n",
    "        df_test, \"instructed_to_lie==False & llm_ans==label_instructed\", verbose=False\n",
    "    )\n",
    "    b = get_acc_subset(\n",
    "        df_test, \"instructed_to_lie==False & llm_ans!=label_instructed\", verbose=False\n",
    "    )\n",
    "    c = get_acc_subset(\n",
    "        df_test, \"instructed_to_lie==True & llm_ans==label_instructed\", verbose=False\n",
    "    )\n",
    "    d = get_acc_subset(\n",
    "        df_test, \"instructed_to_lie==True & llm_ans!=label_instructed\", verbose=False\n",
    "    )\n",
    "    d1 = pd.DataFrame(\n",
    "        [[a, b], [c, d]],\n",
    "        index=[\"instructed_to_lie==False\", \"instructed_to_lie==True\"],\n",
    "        columns=[\"llm_ans==label_instructed\", \"llm_ans!=label_instructed\"],\n",
    "    )\n",
    "    d1 = pd.DataFrame(\n",
    "        [[a, b], [c, d]],\n",
    "        index=[\"tell a truth\", \"tell a lie\"],\n",
    "        columns=[\"did\", \"didn't\"],\n",
    "    )\n",
    "    d1.index.name = \"instructed to\"\n",
    "    d1.columns.name = \"llm gave\"\n",
    "    print(\"probe accuracy for quadrants\")\n",
    "    display(d1.round(2))\n",
    "\n",
    "    if verbose:\n",
    "        print(f\"⭐PRIMARY METRIC⭐ acc={acc:2.2%} from probe\")\n",
    "        print(f\"⭐SECONDARY METRIC⭐ acc_lie_lie={acc_lie_lie:2.2%} from probe\")\n",
    "    return dict(acc=acc, acc_lie_lie=acc_lie_lie, acc_lie_truth=acc_lie_truth)"
   ]
  },
  {
   "cell_type": "markdown",
   "metadata": {},
   "source": [
    "### Setup"
   ]
  },
  {
   "cell_type": "code",
   "execution_count": 11,
   "metadata": {},
   "outputs": [
    {
     "name": "stdout",
     "output_type": "stream",
     "text": [
      "10 5\n",
      "torch.Size([32, 7, 5760, 2]) x\n"
     ]
    }
   ],
   "source": [
    "\n",
    "\n",
    "print(len(dl_train), len(dl_val))\n",
    "b = next(iter(dl_train))\n",
    "x, y = b # b['X'], b['y']\n",
    "print(x.shape, \"x\")\n",
    "if x.ndim == 3:\n",
    "    x = x.unsqueeze(-1)\n",
    "c_in = x.shape[1:-1]\n"
   ]
  },
  {
   "cell_type": "code",
   "execution_count": 12,
   "metadata": {},
   "outputs": [],
   "source": [
    "# # TEST\n",
    "# for b in tqdm(dl_train):\n",
    "#     pass"
   ]
  },
  {
   "cell_type": "code",
   "execution_count": 29,
   "metadata": {},
   "outputs": [
    {
     "data": {
      "text/plain": [
       "330"
      ]
     },
     "execution_count": 29,
     "metadata": {},
     "output_type": "execute_result"
    }
   ],
   "source": [
    "# %%time\n",
    "# # oh no, this is very slow\n",
    "# g = iter(dl_train)\n",
    "# b = next(g)\n",
    "# b = next(g)\n"
   ]
  },
  {
   "cell_type": "code",
   "execution_count": 14,
   "metadata": {},
   "outputs": [
    {
     "name": "stdout",
     "output_type": "stream",
     "text": [
      "torch.Size([7, 5760])\n"
     ]
    },
    {
     "data": {
      "text/plain": [
       "{'pred': tensor(0.1017),\n",
       " 'l1_loss': tensor(89.3760),\n",
       " 'l2_loss': tensor(3815.6162),\n",
       " 'loss': tensor(3815.6162),\n",
       " 'latent': tensor(0.7980),\n",
       " 'h_rec': tensor(0.3852)}"
      ]
     },
     "execution_count": 14,
     "metadata": {},
     "output_type": "execute_result"
    }
   ],
   "source": [
    "\n",
    "net = PLAE(\n",
    "    c_in=c_in,\n",
    "    steps_per_epoch=len(dl_train),\n",
    "    max_epochs=max_epochs,\n",
    "    lr=lr,\n",
    "    weight_decay=wd,\n",
    "    hs=64,\n",
    "    depth=3,\n",
    "    dropout=0,\n",
    "    n_latent=16,\n",
    "    l1_coeff=l1_coeff, \n",
    "    importance_matrix=importance_matrix,\n",
    ")\n",
    "print(c_in)\n",
    "x1= x[..., 0]\n",
    "with torch.no_grad():\n",
    "    y = net(x1)\n",
    "{k: v.abs().mean() for k, v in y.items()}"
   ]
  },
  {
   "cell_type": "code",
   "execution_count": 15,
   "metadata": {},
   "outputs": [
    {
     "data": {
      "text/plain": [
       "=========================================================================================================\n",
       "Layer (type:depth-idx)                                  Output Shape              Param #\n",
       "=========================================================================================================\n",
       "PLAE                                                    [32, 5760, 7]             --\n",
       "├─AutoEncoder: 1-1                                      [32]                      --\n",
       "│    └─InceptionEncoder: 2-1                            [32, 16, 7]               --\n",
       "│    │    └─Sequential: 3-1                             [32, 256, 7]              --\n",
       "│    │    │    └─BatchNorm1d: 4-1                       [32, 5760, 7]             --\n",
       "│    │    │    └─InceptionBlock: 4-2                    [32, 256, 7]              800,960\n",
       "│    │    │    └─InceptionBlock: 4-3                    [32, 256, 7]              96,448\n",
       "│    │    │    └─InceptionBlock: 4-4                    [32, 256, 7]              96,448\n",
       "│    │    │    └─InceptionBlock: 4-5                    [32, 256, 7]              96,448\n",
       "│    │    │    └─InceptionBlock: 4-6                    [32, 256, 7]              96,448\n",
       "│    │    └─Sequential: 3-2                             [32, 112]                 --\n",
       "│    │    │    └─LinBnDrop: 4-7                         [32, 112]                 201,040\n",
       "│    │    │    └─Linear: 4-8                            [32, 112]                 12,656\n",
       "│    │    │    └─BatchNorm1d: 4-9                       [32, 112]                 --\n",
       "│    └─InceptiopnDecoder: 2-2                           [32, 5760, 7]             --\n",
       "│    │    └─Sequential: 3-3                             [32, 224]                 --\n",
       "│    │    │    └─LinBnDrop: 4-10                        [32, 224]                 25,760\n",
       "│    │    │    └─ReLU: 4-11                             [32, 224]                 --\n",
       "│    │    └─Sequential: 3-4                             [32, 5760, 7]             --\n",
       "│    │    │    └─InceptionBlock: 4-12                   [32, 128, 7]              17,408\n",
       "│    │    │    └─InceptionBlock: 4-13                   [32, 128, 7]              24,672\n",
       "│    │    │    └─InceptionBlock: 4-14                   [32, 128, 7]              24,672\n",
       "│    │    │    └─InceptionBlock: 4-15                   [32, 128, 7]              24,672\n",
       "│    │    │    └─Conv1d: 4-16                           [32, 5760, 7]             743,040\n",
       "├─Sequential: 1-2                                       [32, 1]                   --\n",
       "│    └─LinBnDrop: 2-3                                   [32, 112]                 --\n",
       "│    │    └─Linear: 3-5                                 [32, 112]                 12,656\n",
       "│    │    └─ReLU: 3-6                                   [32, 112]                 --\n",
       "│    └─LinBnDrop: 2-4                                   [32, 28]                  --\n",
       "│    │    └─Linear: 3-7                                 [32, 28]                  3,164\n",
       "│    │    └─ReLU: 3-8                                   [32, 28]                  --\n",
       "│    └─LinBnDrop: 2-5                                   [32, 9]                   --\n",
       "│    │    └─Linear: 3-9                                 [32, 9]                   261\n",
       "│    │    └─ReLU: 3-10                                  [32, 9]                   --\n",
       "│    └─Linear: 2-6                                      [32, 1]                   10\n",
       "=========================================================================================================\n",
       "Total params: 2,276,763\n",
       "Trainable params: 2,276,763\n",
       "Non-trainable params: 0\n",
       "Total mult-adds (Units.MEGABYTES): 459.39\n",
       "=========================================================================================================\n",
       "Input size (MB): 10.32\n",
       "Forward/backward pass size (MB): 21.69\n",
       "Params size (MB): 9.11\n",
       "Estimated Total Size (MB): 41.11\n",
       "========================================================================================================="
      ]
     },
     "execution_count": 15,
     "metadata": {},
     "output_type": "execute_result"
    }
   ],
   "source": [
    "from torchinfo import summary\n",
    "\n",
    "summary(net, input_data=x1, depth=4)  # input_size=(batch_size, 1, 28, 28))\n"
   ]
  },
  {
   "cell_type": "markdown",
   "metadata": {},
   "source": [
    "### Train autoencoder"
   ]
  },
  {
   "cell_type": "code",
   "execution_count": 16,
   "metadata": {},
   "outputs": [],
   "source": [
    "torch.set_float32_matmul_precision('medium')"
   ]
  },
  {
   "cell_type": "code",
   "execution_count": 17,
   "metadata": {},
   "outputs": [
    {
     "data": {
      "application/vnd.jupyter.widget-view+json": {
       "model_id": "e528220fb119488f80284c99d14cc62f",
       "version_major": 2,
       "version_minor": 0
      },
      "text/plain": [
       "  0%|          | 0/10 [00:00<?, ?it/s]"
      ]
     },
     "metadata": {},
     "output_type": "display_data"
    },
    {
     "name": "stdout",
     "output_type": "stream",
     "text": [
      "CPU times: user 67.3 ms, sys: 460 ms, total: 527 ms\n",
      "Wall time: 631 ms\n"
     ]
    }
   ],
   "source": [
    "%%time\n",
    "for b in tqdm(dl_train):\n",
    "    pass"
   ]
  },
  {
   "cell_type": "code",
   "execution_count": 18,
   "metadata": {},
   "outputs": [],
   "source": [
    "# torch.isfinite(x).all()"
   ]
  },
  {
   "cell_type": "code",
   "execution_count": 34,
   "metadata": {},
   "outputs": [
    {
     "data": {
      "application/vnd.jupyter.widget-view+json": {
       "model_id": "3a44e67863644712b4ed0e144e1b675e",
       "version_major": 2,
       "version_minor": 0
      },
      "text/plain": [
       "  0%|          | 0/5 [00:00<?, ?it/s]"
      ]
     },
     "metadata": {},
     "output_type": "display_data"
    }
   ],
   "source": [
    "for b in tqdm(dl_val):\n",
    "    x,y=b\n",
    "    # o = net.validation_step(b, 0)\n",
    "    x = x[..., 0]\n",
    "    x = rearrange(x, \"b l h -> b h l\")\n",
    "    o = net.ae(x)\n",
    "# o"
   ]
  },
  {
   "cell_type": "code",
   "execution_count": 33,
   "metadata": {},
   "outputs": [],
   "source": [
    "# s = net.configure_optimizers()[1][0]\n",
    "# s.total_steps, max_epochs*len(dl_train), \n",
    "# df_hist_step['step']"
   ]
  },
  {
   "cell_type": "code",
   "execution_count": 20,
   "metadata": {},
   "outputs": [],
   "source": [
    "from src.helpers.lightning import read_metrics_csv, plot_hist, rename_pl_test_results\n",
    "\n",
    "from lightning.pytorch.callbacks import LearningRateMonitor"
   ]
  },
  {
   "cell_type": "code",
   "execution_count": 21,
   "metadata": {},
   "outputs": [
    {
     "name": "stderr",
     "output_type": "stream",
     "text": [
      "Using 16bit Automatic Mixed Precision (AMP)\n",
      "GPU available: True (cuda), used: True\n",
      "TPU available: False, using: 0 TPU cores\n",
      "IPU available: False, using: 0 IPUs\n",
      "HPU available: False, using: 0 HPUs\n"
     ]
    },
    {
     "name": "stdout",
     "output_type": "stream",
     "text": [
      "training ae\n",
      "requires_grad: True\n"
     ]
    },
    {
     "name": "stderr",
     "output_type": "stream",
     "text": [
      "/media/wassname/SGIronWolf/projects5/elk/sgd_probes_are_lie_detectors/.venv/lib/python3.11/site-packages/lightning/pytorch/trainer/connectors/logger_connector/logger_connector.py:67: Starting from v1.9.0, `tensorboardX` has been removed as a dependency of the `lightning.pytorch` package, due to potential conflicts with other packages in the ML ecosystem. For this reason, `logger=True` will use `CSVLogger` as the default logger, unless the `tensorboard` or `tensorboardX` packages are found. Please `pip install lightning[extra]` or one of them to enable TensorBoard support by default\n",
      "LOCAL_RANK: 0 - CUDA_VISIBLE_DEVICES: [0,1]\n",
      "\n",
      "  | Name | Type        | Params\n",
      "-------------------------------------\n",
      "0 | ae   | AutoEncoder | 2.3 M \n",
      "1 | head | Sequential  | 16.1 K\n",
      "-------------------------------------\n",
      "2.3 M     Trainable params\n",
      "0         Non-trainable params\n",
      "2.3 M     Total params\n",
      "9.107     Total estimated model params size (MB)\n"
     ]
    },
    {
     "data": {
      "application/vnd.jupyter.widget-view+json": {
       "model_id": "658fe0d79f4e4f43823b6526c3a1012a",
       "version_major": 2,
       "version_minor": 0
      },
      "text/plain": [
       "Sanity Checking: |          | 0/? [00:00<?, ?it/s]"
      ]
     },
     "metadata": {},
     "output_type": "display_data"
    },
    {
     "data": {
      "application/vnd.jupyter.widget-view+json": {
       "model_id": "b11e3c114b4d45e8afb284df9b715bff",
       "version_major": 2,
       "version_minor": 0
      },
      "text/plain": [
       "Training: |          | 0/? [00:00<?, ?it/s]"
      ]
     },
     "metadata": {},
     "output_type": "display_data"
    },
    {
     "data": {
      "application/vnd.jupyter.widget-view+json": {
       "model_id": "f77148ad9aa74844b0b6bca8cc0ebea6",
       "version_major": 2,
       "version_minor": 0
      },
      "text/plain": [
       "Validation: |          | 0/? [00:00<?, ?it/s]"
      ]
     },
     "metadata": {},
     "output_type": "display_data"
    },
    {
     "data": {
      "application/vnd.jupyter.widget-view+json": {
       "model_id": "03c9e93555a84b74952257fdf56bf91f",
       "version_major": 2,
       "version_minor": 0
      },
      "text/plain": [
       "Validation: |          | 0/? [00:00<?, ?it/s]"
      ]
     },
     "metadata": {},
     "output_type": "display_data"
    },
    {
     "data": {
      "application/vnd.jupyter.widget-view+json": {
       "model_id": "16d7caafe07a486a8ed56877b3e5030f",
       "version_major": 2,
       "version_minor": 0
      },
      "text/plain": [
       "Validation: |          | 0/? [00:00<?, ?it/s]"
      ]
     },
     "metadata": {},
     "output_type": "display_data"
    },
    {
     "data": {
      "application/vnd.jupyter.widget-view+json": {
       "model_id": "bcb6a451fade47d4923f1169825f0609",
       "version_major": 2,
       "version_minor": 0
      },
      "text/plain": [
       "Validation: |          | 0/? [00:00<?, ?it/s]"
      ]
     },
     "metadata": {},
     "output_type": "display_data"
    },
    {
     "data": {
      "application/vnd.jupyter.widget-view+json": {
       "model_id": "4ee34605b7b94484ad989564c67f1409",
       "version_major": 2,
       "version_minor": 0
      },
      "text/plain": [
       "Validation: |          | 0/? [00:00<?, ?it/s]"
      ]
     },
     "metadata": {},
     "output_type": "display_data"
    },
    {
     "data": {
      "application/vnd.jupyter.widget-view+json": {
       "model_id": "8abedaf4df804f15b3cac5e99dd333bf",
       "version_major": 2,
       "version_minor": 0
      },
      "text/plain": [
       "Validation: |          | 0/? [00:00<?, ?it/s]"
      ]
     },
     "metadata": {},
     "output_type": "display_data"
    },
    {
     "data": {
      "application/vnd.jupyter.widget-view+json": {
       "model_id": "a69df8ff06d5492a99d12a3b344863e4",
       "version_major": 2,
       "version_minor": 0
      },
      "text/plain": [
       "Validation: |          | 0/? [00:00<?, ?it/s]"
      ]
     },
     "metadata": {},
     "output_type": "display_data"
    },
    {
     "data": {
      "application/vnd.jupyter.widget-view+json": {
       "model_id": "d7663bc326aa4c31b24f10bed41cd1ef",
       "version_major": 2,
       "version_minor": 0
      },
      "text/plain": [
       "Validation: |          | 0/? [00:00<?, ?it/s]"
      ]
     },
     "metadata": {},
     "output_type": "display_data"
    },
    {
     "data": {
      "application/vnd.jupyter.widget-view+json": {
       "model_id": "fff7b53189314344922703803035f925",
       "version_major": 2,
       "version_minor": 0
      },
      "text/plain": [
       "Validation: |          | 0/? [00:00<?, ?it/s]"
      ]
     },
     "metadata": {},
     "output_type": "display_data"
    },
    {
     "data": {
      "application/vnd.jupyter.widget-view+json": {
       "model_id": "0eb5a0fd77f34d0f87908116cb8a98f8",
       "version_major": 2,
       "version_minor": 0
      },
      "text/plain": [
       "Validation: |          | 0/? [00:00<?, ?it/s]"
      ]
     },
     "metadata": {},
     "output_type": "display_data"
    },
    {
     "data": {
      "application/vnd.jupyter.widget-view+json": {
       "model_id": "fc92041513a64df0a1d379a1965cbb4f",
       "version_major": 2,
       "version_minor": 0
      },
      "text/plain": [
       "Validation: |          | 0/? [00:00<?, ?it/s]"
      ]
     },
     "metadata": {},
     "output_type": "display_data"
    },
    {
     "data": {
      "application/vnd.jupyter.widget-view+json": {
       "model_id": "c7de1463e148470795d5042f34c78ed1",
       "version_major": 2,
       "version_minor": 0
      },
      "text/plain": [
       "Validation: |          | 0/? [00:00<?, ?it/s]"
      ]
     },
     "metadata": {},
     "output_type": "display_data"
    },
    {
     "data": {
      "application/vnd.jupyter.widget-view+json": {
       "model_id": "d926f93df47b4976bd5e68f1a61779be",
       "version_major": 2,
       "version_minor": 0
      },
      "text/plain": [
       "Validation: |          | 0/? [00:00<?, ?it/s]"
      ]
     },
     "metadata": {},
     "output_type": "display_data"
    },
    {
     "data": {
      "application/vnd.jupyter.widget-view+json": {
       "model_id": "efea746552774efa8270bbca133d89b6",
       "version_major": 2,
       "version_minor": 0
      },
      "text/plain": [
       "Validation: |          | 0/? [00:00<?, ?it/s]"
      ]
     },
     "metadata": {},
     "output_type": "display_data"
    },
    {
     "data": {
      "application/vnd.jupyter.widget-view+json": {
       "model_id": "832d2bbc330648cf8d07c6382731eb4f",
       "version_major": 2,
       "version_minor": 0
      },
      "text/plain": [
       "Validation: |          | 0/? [00:00<?, ?it/s]"
      ]
     },
     "metadata": {},
     "output_type": "display_data"
    },
    {
     "data": {
      "application/vnd.jupyter.widget-view+json": {
       "model_id": "b5799fd6c339487bb25c760f5deff3f0",
       "version_major": 2,
       "version_minor": 0
      },
      "text/plain": [
       "Validation: |          | 0/? [00:00<?, ?it/s]"
      ]
     },
     "metadata": {},
     "output_type": "display_data"
    },
    {
     "data": {
      "application/vnd.jupyter.widget-view+json": {
       "model_id": "bd93d0b19877445d814cf34f7639048b",
       "version_major": 2,
       "version_minor": 0
      },
      "text/plain": [
       "Validation: |          | 0/? [00:00<?, ?it/s]"
      ]
     },
     "metadata": {},
     "output_type": "display_data"
    },
    {
     "data": {
      "application/vnd.jupyter.widget-view+json": {
       "model_id": "de66a4a3f3df4b0d93be48ee8a38f7ef",
       "version_major": 2,
       "version_minor": 0
      },
      "text/plain": [
       "Validation: |          | 0/? [00:00<?, ?it/s]"
      ]
     },
     "metadata": {},
     "output_type": "display_data"
    },
    {
     "data": {
      "application/vnd.jupyter.widget-view+json": {
       "model_id": "aa20b8adb264408087489b61b3d0774d",
       "version_major": 2,
       "version_minor": 0
      },
      "text/plain": [
       "Validation: |          | 0/? [00:00<?, ?it/s]"
      ]
     },
     "metadata": {},
     "output_type": "display_data"
    },
    {
     "data": {
      "application/vnd.jupyter.widget-view+json": {
       "model_id": "c66d3808c0f04c088095501529075ba5",
       "version_major": 2,
       "version_minor": 0
      },
      "text/plain": [
       "Validation: |          | 0/? [00:00<?, ?it/s]"
      ]
     },
     "metadata": {},
     "output_type": "display_data"
    },
    {
     "data": {
      "application/vnd.jupyter.widget-view+json": {
       "model_id": "b46cfea04cf14bd0b2543b165230cfa0",
       "version_major": 2,
       "version_minor": 0
      },
      "text/plain": [
       "Validation: |          | 0/? [00:00<?, ?it/s]"
      ]
     },
     "metadata": {},
     "output_type": "display_data"
    },
    {
     "data": {
      "application/vnd.jupyter.widget-view+json": {
       "model_id": "fe73ba67e0df485097bd14fa9f85554e",
       "version_major": 2,
       "version_minor": 0
      },
      "text/plain": [
       "Validation: |          | 0/? [00:00<?, ?it/s]"
      ]
     },
     "metadata": {},
     "output_type": "display_data"
    },
    {
     "data": {
      "application/vnd.jupyter.widget-view+json": {
       "model_id": "1de2a9e650864181809114f9e0b6aad4",
       "version_major": 2,
       "version_minor": 0
      },
      "text/plain": [
       "Validation: |          | 0/? [00:00<?, ?it/s]"
      ]
     },
     "metadata": {},
     "output_type": "display_data"
    },
    {
     "data": {
      "application/vnd.jupyter.widget-view+json": {
       "model_id": "552179b0cd1047a58f708900d3262c16",
       "version_major": 2,
       "version_minor": 0
      },
      "text/plain": [
       "Validation: |          | 0/? [00:00<?, ?it/s]"
      ]
     },
     "metadata": {},
     "output_type": "display_data"
    },
    {
     "data": {
      "application/vnd.jupyter.widget-view+json": {
       "model_id": "d47981f1a3a64537a6a45bf65fc7a260",
       "version_major": 2,
       "version_minor": 0
      },
      "text/plain": [
       "Validation: |          | 0/? [00:00<?, ?it/s]"
      ]
     },
     "metadata": {},
     "output_type": "display_data"
    },
    {
     "data": {
      "application/vnd.jupyter.widget-view+json": {
       "model_id": "b7587b2390e643b1a2dda903bf7a956e",
       "version_major": 2,
       "version_minor": 0
      },
      "text/plain": [
       "Validation: |          | 0/? [00:00<?, ?it/s]"
      ]
     },
     "metadata": {},
     "output_type": "display_data"
    },
    {
     "data": {
      "application/vnd.jupyter.widget-view+json": {
       "model_id": "5a42730e61df40bdb20268fe3718fa57",
       "version_major": 2,
       "version_minor": 0
      },
      "text/plain": [
       "Validation: |          | 0/? [00:00<?, ?it/s]"
      ]
     },
     "metadata": {},
     "output_type": "display_data"
    },
    {
     "data": {
      "application/vnd.jupyter.widget-view+json": {
       "model_id": "475de0b351d34971b886410d1ce2f969",
       "version_major": 2,
       "version_minor": 0
      },
      "text/plain": [
       "Validation: |          | 0/? [00:00<?, ?it/s]"
      ]
     },
     "metadata": {},
     "output_type": "display_data"
    },
    {
     "data": {
      "application/vnd.jupyter.widget-view+json": {
       "model_id": "4ccf2b7a4f7c45bda01d4486b16323d7",
       "version_major": 2,
       "version_minor": 0
      },
      "text/plain": [
       "Validation: |          | 0/? [00:00<?, ?it/s]"
      ]
     },
     "metadata": {},
     "output_type": "display_data"
    },
    {
     "data": {
      "application/vnd.jupyter.widget-view+json": {
       "model_id": "e9a225aeca0c4be1ace61dfc528c9580",
       "version_major": 2,
       "version_minor": 0
      },
      "text/plain": [
       "Validation: |          | 0/? [00:00<?, ?it/s]"
      ]
     },
     "metadata": {},
     "output_type": "display_data"
    },
    {
     "data": {
      "application/vnd.jupyter.widget-view+json": {
       "model_id": "d59baf0d4d214314a051579154354b43",
       "version_major": 2,
       "version_minor": 0
      },
      "text/plain": [
       "Validation: |          | 0/? [00:00<?, ?it/s]"
      ]
     },
     "metadata": {},
     "output_type": "display_data"
    },
    {
     "data": {
      "application/vnd.jupyter.widget-view+json": {
       "model_id": "718e3c2b429147f889b59d0fcacb3393",
       "version_major": 2,
       "version_minor": 0
      },
      "text/plain": [
       "Validation: |          | 0/? [00:00<?, ?it/s]"
      ]
     },
     "metadata": {},
     "output_type": "display_data"
    },
    {
     "data": {
      "application/vnd.jupyter.widget-view+json": {
       "model_id": "10f3768f57264c83ab75d0bd610fd3ac",
       "version_major": 2,
       "version_minor": 0
      },
      "text/plain": [
       "Validation: |          | 0/? [00:00<?, ?it/s]"
      ]
     },
     "metadata": {},
     "output_type": "display_data"
    },
    {
     "name": "stderr",
     "output_type": "stream",
     "text": [
      "`Trainer.fit` stopped: `max_epochs=33` reached.\n"
     ]
    },
    {
     "data": {
      "image/png": "[encoded data removed]",
      "text/plain": [
       "<Figure size 640x480 with 1 Axes>"
      ]
     },
     "metadata": {},
     "output_type": "display_data"
    },
    {
     "data": {
      "image/png": "[encoded data removed]",
      "text/plain": [
       "<Figure size 640x480 with 1 Axes>"
      ]
     },
     "metadata": {},
     "output_type": "display_data"
    },
    {
     "data": {
      "image/png": "[encoded data removed]",
      "text/plain": [
       "<Figure size 640x480 with 1 Axes>"
      ]
     },
     "metadata": {},
     "output_type": "display_data"
    },
    {
     "data": {
      "text/html": [
       "<div>\n",
       "<style scoped>\n",
       "    .dataframe tbody tr th:only-of-type {\n",
       "        vertical-align: middle;\n",
       "    }\n",
       "\n",
       "    .dataframe tbody tr th {\n",
       "        vertical-align: top;\n",
       "    }\n",
       "\n",
       "    .dataframe thead th {\n",
       "        text-align: right;\n",
       "    }\n",
       "</style>\n",
       "<table border=\"1\" class=\"dataframe\">\n",
       "  <thead>\n",
       "    <tr style=\"text-align: right;\">\n",
       "      <th></th>\n",
       "      <th>step</th>\n",
       "      <th>train/loss_pred_step</th>\n",
       "      <th>train/loss_rec_step</th>\n",
       "      <th>lr-AdamW</th>\n",
       "      <th>val/loss_pred_step</th>\n",
       "      <th>val/loss_rec_step</th>\n",
       "      <th>val/loss_pred_epoch</th>\n",
       "      <th>val/n</th>\n",
       "      <th>val/l1_loss</th>\n",
       "      <th>val/auroc</th>\n",
       "      <th>val/loss_rec_epoch</th>\n",
       "      <th>val/acc</th>\n",
       "      <th>val/l2_loss</th>\n",
       "      <th>train/loss_pred_epoch</th>\n",
       "      <th>train/n</th>\n",
       "      <th>train/auroc</th>\n",
       "      <th>train/l2_loss</th>\n",
       "      <th>train/l1_loss</th>\n",
       "      <th>train/acc</th>\n",
       "      <th>train/loss_rec_epoch</th>\n",
       "    </tr>\n",
       "    <tr>\n",
       "      <th>epoch</th>\n",
       "      <th></th>\n",
       "      <th></th>\n",
       "      <th></th>\n",
       "      <th></th>\n",
       "      <th></th>\n",
       "      <th></th>\n",
       "      <th></th>\n",
       "      <th></th>\n",
       "      <th></th>\n",
       "      <th></th>\n",
       "      <th></th>\n",
       "      <th></th>\n",
       "      <th></th>\n",
       "      <th></th>\n",
       "      <th></th>\n",
       "      <th></th>\n",
       "      <th></th>\n",
       "      <th></th>\n",
       "      <th></th>\n",
       "      <th></th>\n",
       "    </tr>\n",
       "  </thead>\n",
       "  <tbody>\n",
       "    <tr>\n",
       "      <th>0.0</th>\n",
       "      <td>10</td>\n",
       "      <td>0.692269</td>\n",
       "      <td>3690.424072</td>\n",
       "      <td>0.000040</td>\n",
       "      <td>0.686402</td>\n",
       "      <td>3885.482178</td>\n",
       "      <td>0.692814</td>\n",
       "      <td>154.0</td>\n",
       "      <td>24.648914</td>\n",
       "      <td>0.500000</td>\n",
       "      <td>3775.812988</td>\n",
       "      <td>0.512987</td>\n",
       "      <td>3775.812988</td>\n",
       "      <td>0.684216</td>\n",
       "      <td>307.0</td>\n",
       "      <td>0.451129</td>\n",
       "      <td>3857.731689</td>\n",
       "      <td>88.964050</td>\n",
       "      <td>0.615635</td>\n",
       "      <td>3857.731689</td>\n",
       "    </tr>\n",
       "    <tr>\n",
       "      <th>1.0</th>\n",
       "      <td>20</td>\n",
       "      <td>0.679082</td>\n",
       "      <td>3895.515137</td>\n",
       "      <td>0.000041</td>\n",
       "      <td>0.685572</td>\n",
       "      <td>3885.197754</td>\n",
       "      <td>0.692752</td>\n",
       "      <td>154.0</td>\n",
       "      <td>38.249973</td>\n",
       "      <td>0.546315</td>\n",
       "      <td>3775.548584</td>\n",
       "      <td>0.512987</td>\n",
       "      <td>3775.548584</td>\n",
       "      <td>0.683068</td>\n",
       "      <td>307.0</td>\n",
       "      <td>0.496639</td>\n",
       "      <td>3856.156006</td>\n",
       "      <td>88.609650</td>\n",
       "      <td>0.615635</td>\n",
       "      <td>3856.156006</td>\n",
       "    </tr>\n",
       "    <tr>\n",
       "      <th>2.0</th>\n",
       "      <td>30</td>\n",
       "      <td>0.677388</td>\n",
       "      <td>4048.968750</td>\n",
       "      <td>0.000042</td>\n",
       "      <td>0.685817</td>\n",
       "      <td>3884.292236</td>\n",
       "      <td>0.693103</td>\n",
       "      <td>154.0</td>\n",
       "      <td>44.928791</td>\n",
       "      <td>0.440849</td>\n",
       "      <td>3774.682617</td>\n",
       "      <td>0.512987</td>\n",
       "      <td>3774.682617</td>\n",
       "      <td>0.681573</td>\n",
       "      <td>307.0</td>\n",
       "      <td>0.550721</td>\n",
       "      <td>3853.965332</td>\n",
       "      <td>88.851471</td>\n",
       "      <td>0.615635</td>\n",
       "      <td>3853.965332</td>\n",
       "    </tr>\n",
       "    <tr>\n",
       "      <th>3.0</th>\n",
       "      <td>40</td>\n",
       "      <td>0.683169</td>\n",
       "      <td>3766.706787</td>\n",
       "      <td>0.000044</td>\n",
       "      <td>0.681326</td>\n",
       "      <td>3882.894775</td>\n",
       "      <td>0.691818</td>\n",
       "      <td>154.0</td>\n",
       "      <td>54.481380</td>\n",
       "      <td>0.569125</td>\n",
       "      <td>3773.575439</td>\n",
       "      <td>0.512987</td>\n",
       "      <td>3773.575439</td>\n",
       "      <td>0.682679</td>\n",
       "      <td>307.0</td>\n",
       "      <td>0.548141</td>\n",
       "      <td>3851.809082</td>\n",
       "      <td>89.118011</td>\n",
       "      <td>0.612378</td>\n",
       "      <td>3851.809082</td>\n",
       "    </tr>\n",
       "    <tr>\n",
       "      <th>4.0</th>\n",
       "      <td>50</td>\n",
       "      <td>0.668281</td>\n",
       "      <td>3867.140625</td>\n",
       "      <td>0.000046</td>\n",
       "      <td>0.680779</td>\n",
       "      <td>3883.655762</td>\n",
       "      <td>0.694193</td>\n",
       "      <td>154.0</td>\n",
       "      <td>73.214371</td>\n",
       "      <td>0.428654</td>\n",
       "      <td>3774.517822</td>\n",
       "      <td>0.512987</td>\n",
       "      <td>3774.517822</td>\n",
       "      <td>0.683727</td>\n",
       "      <td>307.0</td>\n",
       "      <td>0.499266</td>\n",
       "      <td>3848.771484</td>\n",
       "      <td>89.080498</td>\n",
       "      <td>0.612378</td>\n",
       "      <td>3848.771484</td>\n",
       "    </tr>\n",
       "    <tr>\n",
       "      <th>5.0</th>\n",
       "      <td>60</td>\n",
       "      <td>0.671579</td>\n",
       "      <td>3889.317383</td>\n",
       "      <td>0.000049</td>\n",
       "      <td>0.678113</td>\n",
       "      <td>3883.855225</td>\n",
       "      <td>0.695022</td>\n",
       "      <td>154.0</td>\n",
       "      <td>83.378967</td>\n",
       "      <td>0.444830</td>\n",
       "      <td>3776.937500</td>\n",
       "      <td>0.512987</td>\n",
       "      <td>3776.937500</td>\n",
       "      <td>0.684422</td>\n",
       "      <td>307.0</td>\n",
       "      <td>0.488261</td>\n",
       "      <td>3847.021973</td>\n",
       "      <td>88.930321</td>\n",
       "      <td>0.615635</td>\n",
       "      <td>3847.021973</td>\n",
       "    </tr>\n",
       "    <tr>\n",
       "      <th>6.0</th>\n",
       "      <td>70</td>\n",
       "      <td>0.701464</td>\n",
       "      <td>3830.851074</td>\n",
       "      <td>0.000052</td>\n",
       "      <td>0.681707</td>\n",
       "      <td>3890.009766</td>\n",
       "      <td>0.695543</td>\n",
       "      <td>154.0</td>\n",
       "      <td>91.080406</td>\n",
       "      <td>0.424767</td>\n",
       "      <td>3775.809570</td>\n",
       "      <td>0.512987</td>\n",
       "      <td>3775.809570</td>\n",
       "      <td>0.683623</td>\n",
       "      <td>307.0</td>\n",
       "      <td>0.496281</td>\n",
       "      <td>3844.007812</td>\n",
       "      <td>89.020317</td>\n",
       "      <td>0.615635</td>\n",
       "      <td>3844.007812</td>\n",
       "    </tr>\n",
       "    <tr>\n",
       "      <th>7.0</th>\n",
       "      <td>80</td>\n",
       "      <td>0.692646</td>\n",
       "      <td>3851.315430</td>\n",
       "      <td>0.000056</td>\n",
       "      <td>0.681000</td>\n",
       "      <td>3883.450195</td>\n",
       "      <td>0.693881</td>\n",
       "      <td>154.0</td>\n",
       "      <td>89.614014</td>\n",
       "      <td>0.484804</td>\n",
       "      <td>3777.281250</td>\n",
       "      <td>0.512987</td>\n",
       "      <td>3777.281250</td>\n",
       "      <td>0.684258</td>\n",
       "      <td>307.0</td>\n",
       "      <td>0.481628</td>\n",
       "      <td>3841.065186</td>\n",
       "      <td>88.697899</td>\n",
       "      <td>0.615635</td>\n",
       "      <td>3841.065186</td>\n",
       "    </tr>\n",
       "    <tr>\n",
       "      <th>8.0</th>\n",
       "      <td>90</td>\n",
       "      <td>0.675808</td>\n",
       "      <td>3800.676758</td>\n",
       "      <td>0.000060</td>\n",
       "      <td>0.688109</td>\n",
       "      <td>3878.761230</td>\n",
       "      <td>0.697340</td>\n",
       "      <td>154.0</td>\n",
       "      <td>88.737358</td>\n",
       "      <td>0.356765</td>\n",
       "      <td>3768.541504</td>\n",
       "      <td>0.512987</td>\n",
       "      <td>3768.541504</td>\n",
       "      <td>0.685532</td>\n",
       "      <td>307.0</td>\n",
       "      <td>0.413805</td>\n",
       "      <td>3837.533447</td>\n",
       "      <td>88.427597</td>\n",
       "      <td>0.615635</td>\n",
       "      <td>3837.533447</td>\n",
       "    </tr>\n",
       "    <tr>\n",
       "      <th>9.0</th>\n",
       "      <td>100</td>\n",
       "      <td>0.689931</td>\n",
       "      <td>4065.335205</td>\n",
       "      <td>0.000064</td>\n",
       "      <td>0.676538</td>\n",
       "      <td>3880.455566</td>\n",
       "      <td>0.697970</td>\n",
       "      <td>154.0</td>\n",
       "      <td>93.497574</td>\n",
       "      <td>0.389539</td>\n",
       "      <td>3767.885498</td>\n",
       "      <td>0.506494</td>\n",
       "      <td>3767.885498</td>\n",
       "      <td>0.685920</td>\n",
       "      <td>307.0</td>\n",
       "      <td>0.432370</td>\n",
       "      <td>3834.041016</td>\n",
       "      <td>88.545853</td>\n",
       "      <td>0.615635</td>\n",
       "      <td>3834.041016</td>\n",
       "    </tr>\n",
       "    <tr>\n",
       "      <th>10.0</th>\n",
       "      <td>110</td>\n",
       "      <td>0.689956</td>\n",
       "      <td>3709.083984</td>\n",
       "      <td>0.000070</td>\n",
       "      <td>0.678985</td>\n",
       "      <td>3875.102051</td>\n",
       "      <td>0.694856</td>\n",
       "      <td>154.0</td>\n",
       "      <td>99.108925</td>\n",
       "      <td>0.429105</td>\n",
       "      <td>3763.213379</td>\n",
       "      <td>0.512987</td>\n",
       "      <td>3763.213379</td>\n",
       "      <td>0.684522</td>\n",
       "      <td>307.0</td>\n",
       "      <td>0.481835</td>\n",
       "      <td>3829.509033</td>\n",
       "      <td>88.948395</td>\n",
       "      <td>0.615635</td>\n",
       "      <td>3829.509033</td>\n",
       "    </tr>\n",
       "    <tr>\n",
       "      <th>11.0</th>\n",
       "      <td>120</td>\n",
       "      <td>0.701694</td>\n",
       "      <td>3800.750488</td>\n",
       "      <td>0.000075</td>\n",
       "      <td>0.683018</td>\n",
       "      <td>3869.841797</td>\n",
       "      <td>0.695062</td>\n",
       "      <td>154.0</td>\n",
       "      <td>101.971970</td>\n",
       "      <td>0.430858</td>\n",
       "      <td>3759.480957</td>\n",
       "      <td>0.512987</td>\n",
       "      <td>3759.480957</td>\n",
       "      <td>0.684997</td>\n",
       "      <td>307.0</td>\n",
       "      <td>0.447851</td>\n",
       "      <td>3824.043945</td>\n",
       "      <td>88.810234</td>\n",
       "      <td>0.615635</td>\n",
       "      <td>3824.043945</td>\n",
       "    </tr>\n",
       "    <tr>\n",
       "      <th>12.0</th>\n",
       "      <td>130</td>\n",
       "      <td>0.669163</td>\n",
       "      <td>3651.052246</td>\n",
       "      <td>0.000081</td>\n",
       "      <td>0.684004</td>\n",
       "      <td>3865.343506</td>\n",
       "      <td>0.697842</td>\n",
       "      <td>154.0</td>\n",
       "      <td>102.253052</td>\n",
       "      <td>0.354439</td>\n",
       "      <td>3752.379150</td>\n",
       "      <td>0.512987</td>\n",
       "      <td>3752.379150</td>\n",
       "      <td>0.681932</td>\n",
       "      <td>307.0</td>\n",
       "      <td>0.561926</td>\n",
       "      <td>3818.011719</td>\n",
       "      <td>88.728798</td>\n",
       "      <td>0.615635</td>\n",
       "      <td>3818.011719</td>\n",
       "    </tr>\n",
       "    <tr>\n",
       "      <th>13.0</th>\n",
       "      <td>140</td>\n",
       "      <td>0.653972</td>\n",
       "      <td>3881.006592</td>\n",
       "      <td>0.000088</td>\n",
       "      <td>0.685624</td>\n",
       "      <td>3848.496826</td>\n",
       "      <td>0.720277</td>\n",
       "      <td>154.0</td>\n",
       "      <td>144.629913</td>\n",
       "      <td>0.386305</td>\n",
       "      <td>5338.881348</td>\n",
       "      <td>0.512987</td>\n",
       "      <td>5338.881348</td>\n",
       "      <td>0.684315</td>\n",
       "      <td>307.0</td>\n",
       "      <td>0.493161</td>\n",
       "      <td>3810.226807</td>\n",
       "      <td>88.956116</td>\n",
       "      <td>0.615635</td>\n",
       "      <td>3810.226807</td>\n",
       "    </tr>\n",
       "    <tr>\n",
       "      <th>14.0</th>\n",
       "      <td>150</td>\n",
       "      <td>0.661941</td>\n",
       "      <td>3887.847900</td>\n",
       "      <td>0.000094</td>\n",
       "      <td>0.676615</td>\n",
       "      <td>3839.310303</td>\n",
       "      <td>0.694186</td>\n",
       "      <td>154.0</td>\n",
       "      <td>96.948669</td>\n",
       "      <td>0.471127</td>\n",
       "      <td>3727.359863</td>\n",
       "      <td>0.512987</td>\n",
       "      <td>3727.359863</td>\n",
       "      <td>0.683677</td>\n",
       "      <td>307.0</td>\n",
       "      <td>0.499418</td>\n",
       "      <td>3800.767578</td>\n",
       "      <td>88.449486</td>\n",
       "      <td>0.612378</td>\n",
       "      <td>3800.767578</td>\n",
       "    </tr>\n",
       "    <tr>\n",
       "      <th>15.0</th>\n",
       "      <td>160</td>\n",
       "      <td>0.696428</td>\n",
       "      <td>3702.314941</td>\n",
       "      <td>0.000102</td>\n",
       "      <td>0.680200</td>\n",
       "      <td>3827.304932</td>\n",
       "      <td>0.693172</td>\n",
       "      <td>154.0</td>\n",
       "      <td>99.424133</td>\n",
       "      <td>0.468244</td>\n",
       "      <td>3716.861572</td>\n",
       "      <td>0.512987</td>\n",
       "      <td>3716.861572</td>\n",
       "      <td>0.683176</td>\n",
       "      <td>307.0</td>\n",
       "      <td>0.479733</td>\n",
       "      <td>3790.782227</td>\n",
       "      <td>88.608513</td>\n",
       "      <td>0.615635</td>\n",
       "      <td>3790.782227</td>\n",
       "    </tr>\n",
       "    <tr>\n",
       "      <th>16.0</th>\n",
       "      <td>170</td>\n",
       "      <td>0.669527</td>\n",
       "      <td>3814.493408</td>\n",
       "      <td>0.000110</td>\n",
       "      <td>0.683864</td>\n",
       "      <td>3804.936035</td>\n",
       "      <td>0.694378</td>\n",
       "      <td>154.0</td>\n",
       "      <td>101.977783</td>\n",
       "      <td>0.430904</td>\n",
       "      <td>3699.706543</td>\n",
       "      <td>0.512987</td>\n",
       "      <td>3699.706543</td>\n",
       "      <td>0.683078</td>\n",
       "      <td>307.0</td>\n",
       "      <td>0.510207</td>\n",
       "      <td>3776.341309</td>\n",
       "      <td>88.638000</td>\n",
       "      <td>0.612378</td>\n",
       "      <td>3776.341309</td>\n",
       "    </tr>\n",
       "    <tr>\n",
       "      <th>17.0</th>\n",
       "      <td>180</td>\n",
       "      <td>0.660690</td>\n",
       "      <td>3679.977051</td>\n",
       "      <td>0.000118</td>\n",
       "      <td>0.675273</td>\n",
       "      <td>3782.944824</td>\n",
       "      <td>0.692033</td>\n",
       "      <td>154.0</td>\n",
       "      <td>97.735466</td>\n",
       "      <td>0.513599</td>\n",
       "      <td>3676.541016</td>\n",
       "      <td>0.512987</td>\n",
       "      <td>3676.541016</td>\n",
       "      <td>0.681731</td>\n",
       "      <td>307.0</td>\n",
       "      <td>0.548900</td>\n",
       "      <td>3760.296387</td>\n",
       "      <td>88.756699</td>\n",
       "      <td>0.615635</td>\n",
       "      <td>3760.296387</td>\n",
       "    </tr>\n",
       "    <tr>\n",
       "      <th>18.0</th>\n",
       "      <td>190</td>\n",
       "      <td>0.676195</td>\n",
       "      <td>3871.085449</td>\n",
       "      <td>0.000126</td>\n",
       "      <td>0.674780</td>\n",
       "      <td>3765.193848</td>\n",
       "      <td>0.687658</td>\n",
       "      <td>154.0</td>\n",
       "      <td>115.230453</td>\n",
       "      <td>0.577210</td>\n",
       "      <td>3662.218262</td>\n",
       "      <td>0.512987</td>\n",
       "      <td>3662.218262</td>\n",
       "      <td>0.682057</td>\n",
       "      <td>307.0</td>\n",
       "      <td>0.553715</td>\n",
       "      <td>3737.538574</td>\n",
       "      <td>89.015663</td>\n",
       "      <td>0.615635</td>\n",
       "      <td>3737.538574</td>\n",
       "    </tr>\n",
       "    <tr>\n",
       "      <th>19.0</th>\n",
       "      <td>200</td>\n",
       "      <td>0.681868</td>\n",
       "      <td>3700.733154</td>\n",
       "      <td>0.000135</td>\n",
       "      <td>0.675466</td>\n",
       "      <td>3717.562988</td>\n",
       "      <td>0.688232</td>\n",
       "      <td>154.0</td>\n",
       "      <td>116.913780</td>\n",
       "      <td>0.608436</td>\n",
       "      <td>3621.700195</td>\n",
       "      <td>0.512987</td>\n",
       "      <td>3621.700195</td>\n",
       "      <td>0.683314</td>\n",
       "      <td>307.0</td>\n",
       "      <td>0.497858</td>\n",
       "      <td>3707.712891</td>\n",
       "      <td>88.311981</td>\n",
       "      <td>0.612378</td>\n",
       "      <td>3707.712891</td>\n",
       "    </tr>\n",
       "    <tr>\n",
       "      <th>20.0</th>\n",
       "      <td>210</td>\n",
       "      <td>0.711531</td>\n",
       "      <td>3462.324951</td>\n",
       "      <td>0.000145</td>\n",
       "      <td>0.671438</td>\n",
       "      <td>3665.916504</td>\n",
       "      <td>0.684037</td>\n",
       "      <td>154.0</td>\n",
       "      <td>113.186699</td>\n",
       "      <td>0.692844</td>\n",
       "      <td>3577.156250</td>\n",
       "      <td>0.512987</td>\n",
       "      <td>3577.156250</td>\n",
       "      <td>0.681551</td>\n",
       "      <td>307.0</td>\n",
       "      <td>0.560405</td>\n",
       "      <td>3670.177002</td>\n",
       "      <td>88.505379</td>\n",
       "      <td>0.615635</td>\n",
       "      <td>3670.177002</td>\n",
       "    </tr>\n",
       "    <tr>\n",
       "      <th>21.0</th>\n",
       "      <td>220</td>\n",
       "      <td>0.670481</td>\n",
       "      <td>3673.262451</td>\n",
       "      <td>0.000155</td>\n",
       "      <td>0.668449</td>\n",
       "      <td>3602.546387</td>\n",
       "      <td>0.685981</td>\n",
       "      <td>154.0</td>\n",
       "      <td>94.110237</td>\n",
       "      <td>0.712987</td>\n",
       "      <td>3486.201416</td>\n",
       "      <td>0.512987</td>\n",
       "      <td>3486.201416</td>\n",
       "      <td>0.680773</td>\n",
       "      <td>307.0</td>\n",
       "      <td>0.578685</td>\n",
       "      <td>3625.055420</td>\n",
       "      <td>88.416946</td>\n",
       "      <td>0.615635</td>\n",
       "      <td>3625.055420</td>\n",
       "    </tr>\n",
       "    <tr>\n",
       "      <th>22.0</th>\n",
       "      <td>230</td>\n",
       "      <td>0.684223</td>\n",
       "      <td>3537.749268</td>\n",
       "      <td>0.000165</td>\n",
       "      <td>0.677900</td>\n",
       "      <td>3532.753174</td>\n",
       "      <td>0.691704</td>\n",
       "      <td>154.0</td>\n",
       "      <td>109.391739</td>\n",
       "      <td>0.601984</td>\n",
       "      <td>3465.088135</td>\n",
       "      <td>0.512987</td>\n",
       "      <td>3465.088135</td>\n",
       "      <td>0.682594</td>\n",
       "      <td>307.0</td>\n",
       "      <td>0.543210</td>\n",
       "      <td>3572.170898</td>\n",
       "      <td>88.492722</td>\n",
       "      <td>0.615635</td>\n",
       "      <td>3572.170898</td>\n",
       "    </tr>\n",
       "    <tr>\n",
       "      <th>23.0</th>\n",
       "      <td>240</td>\n",
       "      <td>0.668688</td>\n",
       "      <td>3554.626221</td>\n",
       "      <td>0.000175</td>\n",
       "      <td>0.663957</td>\n",
       "      <td>3463.692383</td>\n",
       "      <td>0.701003</td>\n",
       "      <td>154.0</td>\n",
       "      <td>148.519043</td>\n",
       "      <td>0.600376</td>\n",
       "      <td>3399.860352</td>\n",
       "      <td>0.512987</td>\n",
       "      <td>3399.860352</td>\n",
       "      <td>0.682602</td>\n",
       "      <td>307.0</td>\n",
       "      <td>0.545181</td>\n",
       "      <td>3514.450439</td>\n",
       "      <td>86.734589</td>\n",
       "      <td>0.615635</td>\n",
       "      <td>3514.450439</td>\n",
       "    </tr>\n",
       "    <tr>\n",
       "      <th>24.0</th>\n",
       "      <td>250</td>\n",
       "      <td>0.671056</td>\n",
       "      <td>3449.963135</td>\n",
       "      <td>0.000186</td>\n",
       "      <td>0.676135</td>\n",
       "      <td>3364.615479</td>\n",
       "      <td>0.689506</td>\n",
       "      <td>154.0</td>\n",
       "      <td>110.761284</td>\n",
       "      <td>0.639319</td>\n",
       "      <td>3297.795410</td>\n",
       "      <td>0.512987</td>\n",
       "      <td>3297.795410</td>\n",
       "      <td>0.681471</td>\n",
       "      <td>307.0</td>\n",
       "      <td>0.575896</td>\n",
       "      <td>3449.322021</td>\n",
       "      <td>86.768768</td>\n",
       "      <td>0.615635</td>\n",
       "      <td>3449.322021</td>\n",
       "    </tr>\n",
       "    <tr>\n",
       "      <th>25.0</th>\n",
       "      <td>260</td>\n",
       "      <td>0.692065</td>\n",
       "      <td>3381.306885</td>\n",
       "      <td>0.000197</td>\n",
       "      <td>0.678681</td>\n",
       "      <td>3321.099365</td>\n",
       "      <td>0.686330</td>\n",
       "      <td>154.0</td>\n",
       "      <td>107.726601</td>\n",
       "      <td>0.670816</td>\n",
       "      <td>3223.214111</td>\n",
       "      <td>0.512987</td>\n",
       "      <td>3223.214111</td>\n",
       "      <td>0.680591</td>\n",
       "      <td>307.0</td>\n",
       "      <td>0.579875</td>\n",
       "      <td>3380.496094</td>\n",
       "      <td>86.455887</td>\n",
       "      <td>0.615635</td>\n",
       "      <td>3380.496094</td>\n",
       "    </tr>\n",
       "    <tr>\n",
       "      <th>26.0</th>\n",
       "      <td>270</td>\n",
       "      <td>0.679239</td>\n",
       "      <td>3223.171143</td>\n",
       "      <td>0.000209</td>\n",
       "      <td>0.676869</td>\n",
       "      <td>3272.155762</td>\n",
       "      <td>0.693654</td>\n",
       "      <td>154.0</td>\n",
       "      <td>103.709160</td>\n",
       "      <td>0.573188</td>\n",
       "      <td>3168.979004</td>\n",
       "      <td>0.512987</td>\n",
       "      <td>3168.979004</td>\n",
       "      <td>0.679791</td>\n",
       "      <td>307.0</td>\n",
       "      <td>0.641089</td>\n",
       "      <td>3304.042969</td>\n",
       "      <td>87.447517</td>\n",
       "      <td>0.615635</td>\n",
       "      <td>3304.042969</td>\n",
       "    </tr>\n",
       "    <tr>\n",
       "      <th>27.0</th>\n",
       "      <td>280</td>\n",
       "      <td>0.671561</td>\n",
       "      <td>3212.531006</td>\n",
       "      <td>0.000221</td>\n",
       "      <td>0.676903</td>\n",
       "      <td>3195.288818</td>\n",
       "      <td>0.691315</td>\n",
       "      <td>154.0</td>\n",
       "      <td>101.667015</td>\n",
       "      <td>0.561493</td>\n",
       "      <td>3116.227783</td>\n",
       "      <td>0.512987</td>\n",
       "      <td>3116.227783</td>\n",
       "      <td>0.682017</td>\n",
       "      <td>307.0</td>\n",
       "      <td>0.572837</td>\n",
       "      <td>3220.579590</td>\n",
       "      <td>86.822151</td>\n",
       "      <td>0.615635</td>\n",
       "      <td>3220.579590</td>\n",
       "    </tr>\n",
       "    <tr>\n",
       "      <th>28.0</th>\n",
       "      <td>290</td>\n",
       "      <td>0.692951</td>\n",
       "      <td>3191.517578</td>\n",
       "      <td>0.000233</td>\n",
       "      <td>0.677992</td>\n",
       "      <td>3108.021973</td>\n",
       "      <td>0.689875</td>\n",
       "      <td>154.0</td>\n",
       "      <td>105.101509</td>\n",
       "      <td>0.623637</td>\n",
       "      <td>3028.723145</td>\n",
       "      <td>0.512987</td>\n",
       "      <td>3028.723145</td>\n",
       "      <td>0.682965</td>\n",
       "      <td>307.0</td>\n",
       "      <td>0.546114</td>\n",
       "      <td>3134.875732</td>\n",
       "      <td>86.809990</td>\n",
       "      <td>0.615635</td>\n",
       "      <td>3134.875732</td>\n",
       "    </tr>\n",
       "    <tr>\n",
       "      <th>29.0</th>\n",
       "      <td>300</td>\n",
       "      <td>0.687557</td>\n",
       "      <td>2961.814209</td>\n",
       "      <td>0.000245</td>\n",
       "      <td>0.679211</td>\n",
       "      <td>2973.807861</td>\n",
       "      <td>0.692316</td>\n",
       "      <td>154.0</td>\n",
       "      <td>117.832275</td>\n",
       "      <td>0.563505</td>\n",
       "      <td>2908.732910</td>\n",
       "      <td>0.512987</td>\n",
       "      <td>2908.732910</td>\n",
       "      <td>0.681611</td>\n",
       "      <td>307.0</td>\n",
       "      <td>0.596671</td>\n",
       "      <td>3043.259766</td>\n",
       "      <td>86.982422</td>\n",
       "      <td>0.615635</td>\n",
       "      <td>3043.259766</td>\n",
       "    </tr>\n",
       "    <tr>\n",
       "      <th>30.0</th>\n",
       "      <td>310</td>\n",
       "      <td>0.690330</td>\n",
       "      <td>3008.845947</td>\n",
       "      <td>0.000258</td>\n",
       "      <td>0.678453</td>\n",
       "      <td>2850.120850</td>\n",
       "      <td>0.690265</td>\n",
       "      <td>154.0</td>\n",
       "      <td>101.765358</td>\n",
       "      <td>0.622379</td>\n",
       "      <td>2773.298340</td>\n",
       "      <td>0.512987</td>\n",
       "      <td>2773.298340</td>\n",
       "      <td>0.682626</td>\n",
       "      <td>307.0</td>\n",
       "      <td>0.578566</td>\n",
       "      <td>2950.635498</td>\n",
       "      <td>87.033646</td>\n",
       "      <td>0.615635</td>\n",
       "      <td>2950.635498</td>\n",
       "    </tr>\n",
       "    <tr>\n",
       "      <th>31.0</th>\n",
       "      <td>320</td>\n",
       "      <td>0.698180</td>\n",
       "      <td>2821.765137</td>\n",
       "      <td>0.000271</td>\n",
       "      <td>0.678825</td>\n",
       "      <td>2793.975830</td>\n",
       "      <td>0.689929</td>\n",
       "      <td>154.0</td>\n",
       "      <td>92.038368</td>\n",
       "      <td>0.669540</td>\n",
       "      <td>2711.718262</td>\n",
       "      <td>0.512987</td>\n",
       "      <td>2711.718262</td>\n",
       "      <td>0.682641</td>\n",
       "      <td>307.0</td>\n",
       "      <td>0.572775</td>\n",
       "      <td>2853.819092</td>\n",
       "      <td>84.820755</td>\n",
       "      <td>0.615635</td>\n",
       "      <td>2853.819092</td>\n",
       "    </tr>\n",
       "    <tr>\n",
       "      <th>32.0</th>\n",
       "      <td>329</td>\n",
       "      <td>0.693683</td>\n",
       "      <td>2830.446777</td>\n",
       "      <td>0.000271</td>\n",
       "      <td>0.678742</td>\n",
       "      <td>2686.770020</td>\n",
       "      <td>0.688874</td>\n",
       "      <td>154.0</td>\n",
       "      <td>88.321198</td>\n",
       "      <td>0.678715</td>\n",
       "      <td>2627.442871</td>\n",
       "      <td>0.512987</td>\n",
       "      <td>2627.442871</td>\n",
       "      <td>0.682962</td>\n",
       "      <td>307.0</td>\n",
       "      <td>0.518504</td>\n",
       "      <td>2758.151123</td>\n",
       "      <td>84.677689</td>\n",
       "      <td>0.615635</td>\n",
       "      <td>2758.151123</td>\n",
       "    </tr>\n",
       "  </tbody>\n",
       "</table>\n",
       "</div>"
      ],
      "text/plain": [
       "       step  train/loss_pred_step  train/loss_rec_step  lr-AdamW  \\\n",
       "epoch                                                              \n",
       "0.0      10              0.692269          3690.424072  0.000040   \n",
       "1.0      20              0.679082          3895.515137  0.000041   \n",
       "2.0      30              0.677388          4048.968750  0.000042   \n",
       "3.0      40              0.683169          3766.706787  0.000044   \n",
       "4.0      50              0.668281          3867.140625  0.000046   \n",
       "5.0      60              0.671579          3889.317383  0.000049   \n",
       "6.0      70              0.701464          3830.851074  0.000052   \n",
       "7.0      80              0.692646          3851.315430  0.000056   \n",
       "8.0      90              0.675808          3800.676758  0.000060   \n",
       "9.0     100              0.689931          4065.335205  0.000064   \n",
       "10.0    110              0.689956          3709.083984  0.000070   \n",
       "11.0    120              0.701694          3800.750488  0.000075   \n",
       "12.0    130              0.669163          3651.052246  0.000081   \n",
       "13.0    140              0.653972          3881.006592  0.000088   \n",
       "14.0    150              0.661941          3887.847900  0.000094   \n",
       "15.0    160              0.696428          3702.314941  0.000102   \n",
       "16.0    170              0.669527          3814.493408  0.000110   \n",
       "17.0    180              0.660690          3679.977051  0.000118   \n",
       "18.0    190              0.676195          3871.085449  0.000126   \n",
       "19.0    200              0.681868          3700.733154  0.000135   \n",
       "20.0    210              0.711531          3462.324951  0.000145   \n",
       "21.0    220              0.670481          3673.262451  0.000155   \n",
       "22.0    230              0.684223          3537.749268  0.000165   \n",
       "23.0    240              0.668688          3554.626221  0.000175   \n",
       "24.0    250              0.671056          3449.963135  0.000186   \n",
       "25.0    260              0.692065          3381.306885  0.000197   \n",
       "26.0    270              0.679239          3223.171143  0.000209   \n",
       "27.0    280              0.671561          3212.531006  0.000221   \n",
       "28.0    290              0.692951          3191.517578  0.000233   \n",
       "29.0    300              0.687557          2961.814209  0.000245   \n",
       "30.0    310              0.690330          3008.845947  0.000258   \n",
       "31.0    320              0.698180          2821.765137  0.000271   \n",
       "32.0    329              0.693683          2830.446777  0.000271   \n",
       "\n",
       "       val/loss_pred_step  val/loss_rec_step  val/loss_pred_epoch  val/n  \\\n",
       "epoch                                                                      \n",
       "0.0              0.686402        3885.482178             0.692814  154.0   \n",
       "1.0              0.685572        3885.197754             0.692752  154.0   \n",
       "2.0              0.685817        3884.292236             0.693103  154.0   \n",
       "3.0              0.681326        3882.894775             0.691818  154.0   \n",
       "4.0              0.680779        3883.655762             0.694193  154.0   \n",
       "5.0              0.678113        3883.855225             0.695022  154.0   \n",
       "6.0              0.681707        3890.009766             0.695543  154.0   \n",
       "7.0              0.681000        3883.450195             0.693881  154.0   \n",
       "8.0              0.688109        3878.761230             0.697340  154.0   \n",
       "9.0              0.676538        3880.455566             0.697970  154.0   \n",
       "10.0             0.678985        3875.102051             0.694856  154.0   \n",
       "11.0             0.683018        3869.841797             0.695062  154.0   \n",
       "12.0             0.684004        3865.343506             0.697842  154.0   \n",
       "13.0             0.685624        3848.496826             0.720277  154.0   \n",
       "14.0             0.676615        3839.310303             0.694186  154.0   \n",
       "15.0             0.680200        3827.304932             0.693172  154.0   \n",
       "16.0             0.683864        3804.936035             0.694378  154.0   \n",
       "17.0             0.675273        3782.944824             0.692033  154.0   \n",
       "18.0             0.674780        3765.193848             0.687658  154.0   \n",
       "19.0             0.675466        3717.562988             0.688232  154.0   \n",
       "20.0             0.671438        3665.916504             0.684037  154.0   \n",
       "21.0             0.668449        3602.546387             0.685981  154.0   \n",
       "22.0             0.677900        3532.753174             0.691704  154.0   \n",
       "23.0             0.663957        3463.692383             0.701003  154.0   \n",
       "24.0             0.676135        3364.615479             0.689506  154.0   \n",
       "25.0             0.678681        3321.099365             0.686330  154.0   \n",
       "26.0             0.676869        3272.155762             0.693654  154.0   \n",
       "27.0             0.676903        3195.288818             0.691315  154.0   \n",
       "28.0             0.677992        3108.021973             0.689875  154.0   \n",
       "29.0             0.679211        2973.807861             0.692316  154.0   \n",
       "30.0             0.678453        2850.120850             0.690265  154.0   \n",
       "31.0             0.678825        2793.975830             0.689929  154.0   \n",
       "32.0             0.678742        2686.770020             0.688874  154.0   \n",
       "\n",
       "       val/l1_loss  val/auroc  val/loss_rec_epoch   val/acc  val/l2_loss  \\\n",
       "epoch                                                                      \n",
       "0.0      24.648914   0.500000         3775.812988  0.512987  3775.812988   \n",
       "1.0      38.249973   0.546315         3775.548584  0.512987  3775.548584   \n",
       "2.0      44.928791   0.440849         3774.682617  0.512987  3774.682617   \n",
       "3.0      54.481380   0.569125         3773.575439  0.512987  3773.575439   \n",
       "4.0      73.214371   0.428654         3774.517822  0.512987  3774.517822   \n",
       "5.0      83.378967   0.444830         3776.937500  0.512987  3776.937500   \n",
       "6.0      91.080406   0.424767         3775.809570  0.512987  3775.809570   \n",
       "7.0      89.614014   0.484804         3777.281250  0.512987  3777.281250   \n",
       "8.0      88.737358   0.356765         3768.541504  0.512987  3768.541504   \n",
       "9.0      93.497574   0.389539         3767.885498  0.506494  3767.885498   \n",
       "10.0     99.108925   0.429105         3763.213379  0.512987  3763.213379   \n",
       "11.0    101.971970   0.430858         3759.480957  0.512987  3759.480957   \n",
       "12.0    102.253052   0.354439         3752.379150  0.512987  3752.379150   \n",
       "13.0    144.629913   0.386305         5338.881348  0.512987  5338.881348   \n",
       "14.0     96.948669   0.471127         3727.359863  0.512987  3727.359863   \n",
       "15.0     99.424133   0.468244         3716.861572  0.512987  3716.861572   \n",
       "16.0    101.977783   0.430904         3699.706543  0.512987  3699.706543   \n",
       "17.0     97.735466   0.513599         3676.541016  0.512987  3676.541016   \n",
       "18.0    115.230453   0.577210         3662.218262  0.512987  3662.218262   \n",
       "19.0    116.913780   0.608436         3621.700195  0.512987  3621.700195   \n",
       "20.0    113.186699   0.692844         3577.156250  0.512987  3577.156250   \n",
       "21.0     94.110237   0.712987         3486.201416  0.512987  3486.201416   \n",
       "22.0    109.391739   0.601984         3465.088135  0.512987  3465.088135   \n",
       "23.0    148.519043   0.600376         3399.860352  0.512987  3399.860352   \n",
       "24.0    110.761284   0.639319         3297.795410  0.512987  3297.795410   \n",
       "25.0    107.726601   0.670816         3223.214111  0.512987  3223.214111   \n",
       "26.0    103.709160   0.573188         3168.979004  0.512987  3168.979004   \n",
       "27.0    101.667015   0.561493         3116.227783  0.512987  3116.227783   \n",
       "28.0    105.101509   0.623637         3028.723145  0.512987  3028.723145   \n",
       "29.0    117.832275   0.563505         2908.732910  0.512987  2908.732910   \n",
       "30.0    101.765358   0.622379         2773.298340  0.512987  2773.298340   \n",
       "31.0     92.038368   0.669540         2711.718262  0.512987  2711.718262   \n",
       "32.0     88.321198   0.678715         2627.442871  0.512987  2627.442871   \n",
       "\n",
       "       train/loss_pred_epoch  train/n  train/auroc  train/l2_loss  \\\n",
       "epoch                                                               \n",
       "0.0                 0.684216    307.0     0.451129    3857.731689   \n",
       "1.0                 0.683068    307.0     0.496639    3856.156006   \n",
       "2.0                 0.681573    307.0     0.550721    3853.965332   \n",
       "3.0                 0.682679    307.0     0.548141    3851.809082   \n",
       "4.0                 0.683727    307.0     0.499266    3848.771484   \n",
       "5.0                 0.684422    307.0     0.488261    3847.021973   \n",
       "6.0                 0.683623    307.0     0.496281    3844.007812   \n",
       "7.0                 0.684258    307.0     0.481628    3841.065186   \n",
       "8.0                 0.685532    307.0     0.413805    3837.533447   \n",
       "9.0                 0.685920    307.0     0.432370    3834.041016   \n",
       "10.0                0.684522    307.0     0.481835    3829.509033   \n",
       "11.0                0.684997    307.0     0.447851    3824.043945   \n",
       "12.0                0.681932    307.0     0.561926    3818.011719   \n",
       "13.0                0.684315    307.0     0.493161    3810.226807   \n",
       "14.0                0.683677    307.0     0.499418    3800.767578   \n",
       "15.0                0.683176    307.0     0.479733    3790.782227   \n",
       "16.0                0.683078    307.0     0.510207    3776.341309   \n",
       "17.0                0.681731    307.0     0.548900    3760.296387   \n",
       "18.0                0.682057    307.0     0.553715    3737.538574   \n",
       "19.0                0.683314    307.0     0.497858    3707.712891   \n",
       "20.0                0.681551    307.0     0.560405    3670.177002   \n",
       "21.0                0.680773    307.0     0.578685    3625.055420   \n",
       "22.0                0.682594    307.0     0.543210    3572.170898   \n",
       "23.0                0.682602    307.0     0.545181    3514.450439   \n",
       "24.0                0.681471    307.0     0.575896    3449.322021   \n",
       "25.0                0.680591    307.0     0.579875    3380.496094   \n",
       "26.0                0.679791    307.0     0.641089    3304.042969   \n",
       "27.0                0.682017    307.0     0.572837    3220.579590   \n",
       "28.0                0.682965    307.0     0.546114    3134.875732   \n",
       "29.0                0.681611    307.0     0.596671    3043.259766   \n",
       "30.0                0.682626    307.0     0.578566    2950.635498   \n",
       "31.0                0.682641    307.0     0.572775    2853.819092   \n",
       "32.0                0.682962    307.0     0.518504    2758.151123   \n",
       "\n",
       "       train/l1_loss  train/acc  train/loss_rec_epoch  \n",
       "epoch                                                  \n",
       "0.0        88.964050   0.615635           3857.731689  \n",
       "1.0        88.609650   0.615635           3856.156006  \n",
       "2.0        88.851471   0.615635           3853.965332  \n",
       "3.0        89.118011   0.612378           3851.809082  \n",
       "4.0        89.080498   0.612378           3848.771484  \n",
       "5.0        88.930321   0.615635           3847.021973  \n",
       "6.0        89.020317   0.615635           3844.007812  \n",
       "7.0        88.697899   0.615635           3841.065186  \n",
       "8.0        88.427597   0.615635           3837.533447  \n",
       "9.0        88.545853   0.615635           3834.041016  \n",
       "10.0       88.948395   0.615635           3829.509033  \n",
       "11.0       88.810234   0.615635           3824.043945  \n",
       "12.0       88.728798   0.615635           3818.011719  \n",
       "13.0       88.956116   0.615635           3810.226807  \n",
       "14.0       88.449486   0.612378           3800.767578  \n",
       "15.0       88.608513   0.615635           3790.782227  \n",
       "16.0       88.638000   0.612378           3776.341309  \n",
       "17.0       88.756699   0.615635           3760.296387  \n",
       "18.0       89.015663   0.615635           3737.538574  \n",
       "19.0       88.311981   0.612378           3707.712891  \n",
       "20.0       88.505379   0.615635           3670.177002  \n",
       "21.0       88.416946   0.615635           3625.055420  \n",
       "22.0       88.492722   0.615635           3572.170898  \n",
       "23.0       86.734589   0.615635           3514.450439  \n",
       "24.0       86.768768   0.615635           3449.322021  \n",
       "25.0       86.455887   0.615635           3380.496094  \n",
       "26.0       87.447517   0.615635           3304.042969  \n",
       "27.0       86.822151   0.615635           3220.579590  \n",
       "28.0       86.809990   0.615635           3134.875732  \n",
       "29.0       86.982422   0.615635           3043.259766  \n",
       "30.0       87.033646   0.615635           2950.635498  \n",
       "31.0       84.820755   0.615635           2853.819092  \n",
       "32.0       84.677689   0.615635           2758.151123  "
      ]
     },
     "metadata": {},
     "output_type": "display_data"
    }
   ],
   "source": [
    "net.ae_mode(0)\n",
    " \n",
    "lr_logger = LearningRateMonitor(logging_interval='step')\n",
    "trainer1 = pl.Trainer(\n",
    "    precision=\"16-mixed\",\n",
    "    gradient_clip_val=20,\n",
    "    # devices=2,\n",
    "    accelerator=\"auto\",\n",
    "    devices=\"1\",\n",
    "    max_epochs=max_epochs,# * VAE_EPOCH_MULT,\n",
    "    log_every_n_steps=1,\n",
    "    # enable_progress_bar=False, enable_model_summary=False\n",
    "    callbacks=[lr_logger],\n",
    ")\n",
    "\n",
    "# LOAD_CHECKPONT = Path('/media/wassname/SGIronWolf/projects5/elk/sgd_probes_are_lie_detectors/notebooks/lightning_logs/version_52/1_ae.ckpt')\n",
    "LOAD_CHECKPONT = None\n",
    "if LOAD_CHECKPONT:\n",
    "    PLAE.load_from_checkpoint(LOAD_CHECKPONT)\n",
    "else:\n",
    "    trainer1.fit(model=net, train_dataloaders=dl_train, \n",
    "                 val_dataloaders=dl_val # FIXME why does this slow it down with multiple processes?\n",
    "                )\n",
    "\n",
    "    df_hist, df_hist_step = read_metrics_csv(trainer1.logger.experiment.metrics_file_path)\n",
    "    plot_hist(df_hist, ['l2_loss', 'l1_loss', 'loss_rec'], logy=True)\n",
    "    plt.show()\n",
    "    plot_hist(df_hist_step, ['loss_rec_step'], logy=True)\n",
    "\n",
    "    display(df_hist)\n"
   ]
  },
  {
   "cell_type": "code",
   "execution_count": 22,
   "metadata": {},
   "outputs": [
    {
     "data": {
      "text/plain": [
       "<Axes: xlabel='epoch'>"
      ]
     },
     "execution_count": 22,
     "metadata": {},
     "output_type": "execute_result"
    },
    {
     "data": {
      "image/png": "[encoded data removed]",
      "text/plain": [
       "<Figure size 640x480 with 1 Axes>"
      ]
     },
     "metadata": {},
     "output_type": "display_data"
    }
   ],
   "source": [
    "# Check the LR\n",
    "df_hist, df_hist_step = read_metrics_csv(trainer1.logger.experiment.metrics_file_path)\n",
    "df_hist['lr-AdamW'].plot()"
   ]
  },
  {
   "cell_type": "code",
   "execution_count": 23,
   "metadata": {},
   "outputs": [],
   "source": [
    "# s = net.configure_optimizers()[1][0]\n",
    "# total_steps = net.hparams.steps_per_epoch * net.hparams.max_epochs\n",
    "# data = []\n",
    "# for i in range(total_steps):\n",
    "#     s.step()\n",
    "#     l_rate = s.get_last_lr()[0]\n",
    "#     data.append(l_rate)\n",
    "#     # if i % 100 == 0:\n",
    "#     #     print(l_rate)\n",
    "\n",
    "# pd.Series(data).plot()"
   ]
  },
  {
   "cell_type": "markdown",
   "metadata": {},
   "source": []
  },
  {
   "cell_type": "markdown",
   "metadata": {},
   "source": [
    "5/10 [00:04<00:04, 1.10it/s, v_num=295, val/loss_pred=0.0849, val/loss_rec=9.58e+5, train/loss_pred=0.350, train/loss_rec=9.8e+5]\n"
   ]
  },
  {
   "cell_type": "code",
   "execution_count": 24,
   "metadata": {},
   "outputs": [
    {
     "ename": "IndexError",
     "evalue": "too many indices for tensor of dimension 1",
     "output_type": "error",
     "traceback": [
      "\u001b[0;31m---------------------------------------------------------------------------\u001b[0m",
      "\u001b[0;31mIndexError\u001b[0m                                Traceback (most recent call last)",
      "Cell \u001b[0;32mIn[24], line 42\u001b[0m\n\u001b[1;32m     38\u001b[0m     plt\u001b[38;5;241m.\u001b[39mtitle(\u001b[38;5;124m\"\u001b[39m\u001b[38;5;124mlatents by layer\u001b[39m\u001b[38;5;124m\"\u001b[39m)\n\u001b[1;32m     39\u001b[0m     plt\u001b[38;5;241m.\u001b[39mshow()\n\u001b[0;32m---> 42\u001b[0m latent \u001b[38;5;241m=\u001b[39m \u001b[43my\u001b[49m\u001b[43m[\u001b[49m\u001b[38;5;124;43m\"\u001b[39;49m\u001b[38;5;124;43mlatent\u001b[39;49m\u001b[38;5;124;43m\"\u001b[39;49m\u001b[43m]\u001b[49m\u001b[38;5;241m.\u001b[39mcpu()  \u001b[38;5;66;03m# .reshape(64, 24, 12) # [Batch, Latent, Layer]\u001b[39;00m\n\u001b[1;32m     43\u001b[0m plot_latent(latent)\n",
      "\u001b[0;31mIndexError\u001b[0m: too many indices for tensor of dimension 1"
     ]
    }
   ],
   "source": [
    "# visualize latent space\n",
    "from matplotlib import cm\n",
    "\n",
    "\n",
    "def plot_latent(latent):\n",
    "\n",
    "    # plot image of latent space\n",
    "    vmax = latent.abs().max()\n",
    "    for i in range(4):\n",
    "        plt.subplot(2, 2, i + 1)\n",
    "        vmax = latent[i].abs().max()\n",
    "        plt.imshow(\n",
    "            latent[i],\n",
    "            cmap=cm.coolwarm,\n",
    "            interpolation=\"none\",\n",
    "            aspect=\"auto\",\n",
    "            vmin=-vmax,\n",
    "            vmax=vmax,\n",
    "        )\n",
    "        plt.xlabel(\"layer\")\n",
    "        plt.ylabel(\"neuron\")\n",
    "        if i < 2:\n",
    "            plt.xlabel(\"\")\n",
    "            plt.xticks([])\n",
    "        if i % 2 == 1:\n",
    "            plt.ylabel(\"\")\n",
    "            plt.yticks([])\n",
    "        plt.grid(False)\n",
    "        plt.colorbar()\n",
    "    # plt.colorbar()\n",
    "    plt.subplots_adjust(wspace=0.05, hspace=0.05)\n",
    "    plt.show()\n",
    "\n",
    "    # histogram\n",
    "    latentf = rearrange(latent, \"b n l -> (b n) l\").flatten()\n",
    "    vmax = (latentf.abs().mean() + 5 * latentf.abs().std()).item()\n",
    "    plt.hist(latentf, bins=55, range=[-vmax, vmax], histtype=\"step\")\n",
    "    plt.title(\"latents by layer\")\n",
    "    plt.show()\n",
    "\n",
    "\n",
    "latent = y[\"latent\"].cpu()  # .reshape(64, 24, 12) # [Batch, Latent, Layer]\n",
    "plot_latent(latent)\n"
   ]
  },
  {
   "cell_type": "code",
   "execution_count": null,
   "metadata": {},
   "outputs": [],
   "source": [
    "latent.shape, latent.diff(dim=1).std(), latent.std(), latent.diff(dim=2).std(), 16*7"
   ]
  },
  {
   "cell_type": "markdown",
   "metadata": {},
   "source": [
    "### Train probe"
   ]
  },
  {
   "cell_type": "code",
   "execution_count": null,
   "metadata": {},
   "outputs": [],
   "source": [
    "# # net.save_checkpoint\n",
    "# f = Path(trainer1.log_dir)/\"1_ae.ckpt\"\n",
    "# trainer1.save_checkpoint(f)\n",
    "# # PosixPath('/media/wassname/SGIronWolf/projects5/elk/sgd_probes_are_lie_detectors/notebooks/lightning_logs/version_52/1_ae.ckpt')\n",
    "# f"
   ]
  },
  {
   "cell_type": "code",
   "execution_count": null,
   "metadata": {},
   "outputs": [],
   "source": [
    "# net.configure_optimizers()"
   ]
  },
  {
   "cell_type": "code",
   "execution_count": null,
   "metadata": {},
   "outputs": [],
   "source": [
    "# debug\n",
    "with torch.no_grad():\n",
    "    b = next(iter(dl_train))\n",
    "    y = net.predict_step(b)"
   ]
  },
  {
   "cell_type": "code",
   "execution_count": null,
   "metadata": {},
   "outputs": [],
   "source": [
    "net.ae_mode(1)\n",
    "trainer2 = pl.Trainer(\n",
    "    precision=\"16-mixed\",\n",
    "    gradient_clip_val=20,\n",
    "    max_epochs=max_epochs,\n",
    "    log_every_n_steps=3,\n",
    "    # enable_progress_bar=False, enable_model_summary=False\n",
    "    callbacks=[lr_logger],\n",
    ")\n",
    "trainer2.fit(model=net, train_dataloaders=dl_train, \n",
    "            #  val_dataloaders=dl_val\n",
    "             );\n"
   ]
  },
  {
   "cell_type": "code",
   "execution_count": null,
   "metadata": {},
   "outputs": [],
   "source": [
    "df_hist, _ = read_metrics_csv(trainer2.logger.experiment.metrics_file_path)\n",
    "plot_hist(df_hist, ['loss_pred_epoch', 'auroc'])\n",
    "df_hist"
   ]
  },
  {
   "cell_type": "code",
   "execution_count": null,
   "metadata": {},
   "outputs": [],
   "source": [
    "\n",
    "# predict\n",
    "\n",
    "\n",
    "# print(f\"training with x_feats={x_feats} with c={c}\")\n",
    "rs = trainer2.test(net, dataloaders=[dl_train, dl_val, dl_test, dl_ood])\n",
    "\n",
    "\n"
   ]
  },
  {
   "cell_type": "code",
   "execution_count": null,
   "metadata": {},
   "outputs": [],
   "source": [
    "testval_metrics = calc_metrics(dm, trainer2, net, use_val=True)\n",
    "rs = rename_pl_test_results(rs, [\"train\", \"val\", \"test\", \"ood\"])\n",
    "# rs['test'] = {**rs['test'], **test_metrics}\n",
    "rs[\"test\"][\"acc_lie_lie\"] = testval_metrics[\"acc_lie_lie\"]\n",
    "rs[\"testval_metrics\"] = rs[\"test\"]"
   ]
  },
  {
   "cell_type": "markdown",
   "metadata": {},
   "source": [
    "#### how well does it generalize to other datasets?\n"
   ]
  },
  {
   "cell_type": "code",
   "execution_count": null,
   "metadata": {},
   "outputs": [],
   "source": [
    "# print(f\"training with x_feats={x_feats} with c={c}\")\n",
    "rs2 = trainer1.test(net, dataloaders=[dl_ood])\n",
    "rs2 = rename_pl_test_results(rs2, ks=[\"ood\"])\n",
    "\n",
    "testval_metrics2 = calc_metrics(dm_ood, trainer1, net, use_val=True)\n",
    "rs[\"ood\"][\"acc_lie_lie\"] = testval_metrics2[\"acc_lie_lie\"]\n",
    "rs[\"ood_metrics\"] = rs2[\"ood\"]\n",
    "rs\n"
   ]
  },
  {
   "cell_type": "markdown",
   "metadata": {},
   "source": [
    "### Train end-to-end\n"
   ]
  },
  {
   "cell_type": "code",
   "execution_count": null,
   "metadata": {},
   "outputs": [],
   "source": [
    "net.ae_mode(2)\n",
    "trainer3 = pl.Trainer(\n",
    "    precision=\"16-mixed\",\n",
    "    gradient_clip_val=20,\n",
    "    max_epochs=max_epochs,\n",
    "    log_every_n_steps=3,\n",
    "    # enable_progress_bar=False, enable_model_summary=False\n",
    ")\n",
    "trainer3.fit(model=net, train_dataloaders=dl_train, val_dataloaders=dl_val)\n",
    "1\n"
   ]
  },
  {
   "cell_type": "code",
   "execution_count": null,
   "metadata": {},
   "outputs": [],
   "source": [
    "# look at hist\n",
    "df_hist, _ = read_metrics_csv(trainer3.logger.experiment.metrics_file_path)\n",
    "plot_hist(df_hist, ['loss_pred', 'acc'])\n",
    "\n",
    "# predict\n",
    "# dl_test = dm.test_dataloader()\n",
    "# print(f\"training with x_feats={x_feats} with c={c}\")\n",
    "rs = trainer3.test(net, dataloaders=[dl_train, dl_val, dl_test, dl_ood])\n",
    "\n",
    "testval_metrics = calc_metrics(dm, trainer3, net, use_val=True)\n",
    "rs = rename_pl_test_results(rs, [\"train\", \"val\", \"test\", \"ood\"])\n",
    "# rs['test'] = {**rs['test'], **test_metrics}\n",
    "rs[\"test\"][\"acc_lie_lie\"] = testval_metrics[\"acc_lie_lie\"]\n",
    "rs[\"testval_metrics\"] = rs[\"test\"]\n"
   ]
  },
  {
   "cell_type": "code",
   "execution_count": null,
   "metadata": {},
   "outputs": [],
   "source": [
    "# print(f\"training with x_feats={x_feats} with c={c}\")\n",
    "rs2 = trainer3.test(net, dataloaders=[dl_ood])\n",
    "rs2 = rename_pl_test_results(rs2, ks=[\"ood\"])\n",
    "\n",
    "testval_metrics2 = calc_metrics(dm_ood, trainer3, net, use_val=True)\n",
    "rs[\"ood\"][\"acc_lie_lie\"] = testval_metrics2[\"acc_lie_lie\"]\n",
    "rs[\"ood_metrics\"] = rs2[\"ood\"]\n",
    "rs\n"
   ]
  }
 ],
 "metadata": {
  "kernelspec": {
   "display_name": ".venv",
   "language": "python",
   "name": "python3"
  },
  "language_info": {
   "codemirror_mode": {
    "name": "ipython",
    "version": 3
   },
   "file_extension": ".py",
   "mimetype": "text/x-python",
   "name": "python",
   "nbconvert_exporter": "python",
   "pygments_lexer": "ipython3",
   "version": "3.11.0rc1"
  }
 },
 "nbformat": 4,
 "nbformat_minor": 2
}
