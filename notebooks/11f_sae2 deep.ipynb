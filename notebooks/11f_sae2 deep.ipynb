{
 "cells": [
  {
   "cell_type": "markdown",
   "metadata": {},
   "source": [
    "# Trying a sparse 1 layer autoencoder, then a probe"
   ]
  },
  {
   "cell_type": "markdown",
   "metadata": {},
   "source": []
  },
  {
   "cell_type": "code",
   "execution_count": null,
   "metadata": {},
   "outputs": [],
   "source": [
    "import os\n",
    "import numpy as np\n",
    "import pandas as pd\n",
    "from matplotlib import pyplot as plt\n",
    "from tqdm.auto import tqdm\n",
    "\n",
    "\n",
    "from typing import Optional, List, Dict, Union\n",
    "from jaxtyping import Float\n",
    "from torch import Tensor\n",
    "\n",
    "import torch\n",
    "import torch.nn as nn\n",
    "import torch.nn.functional as F\n",
    "\n",
    "from torch import Tensor\n",
    "from torch import optim\n",
    "from torch.utils.data import random_split, DataLoader, TensorDataset\n",
    "\n",
    "from pathlib import Path\n",
    "from einops import rearrange\n",
    "\n",
    "import transformers\n",
    "from transformers import (\n",
    "    AutoTokenizer,\n",
    "    AutoModelForCausalLM,\n",
    "    BitsAndBytesConfig,\n",
    "    AutoConfig,\n",
    ")\n",
    "from peft import (\n",
    "    get_peft_config,\n",
    "    get_peft_model,\n",
    "    LoraConfig,\n",
    "    TaskType,\n",
    "    LoftQConfig,\n",
    "    IA3Config,\n",
    ")\n",
    "from pathlib import Path\n",
    "import datasets\n",
    "from datasets import Dataset\n",
    "\n",
    "from loguru import logger\n",
    "\n",
    "logger.add(os.sys.stderr, format=\"{time} {level} {message}\", level=\"INFO\")\n",
    "\n",
    "# load my code\n",
    "%load_ext autoreload\n",
    "%autoreload 2\n",
    "\n",
    "import lightning.pytorch as pl\n",
    "\n",
    "from src.config import ExtractConfig\n",
    "from src.llms.load import load_model\n",
    "from src.helpers.torch_helpers import clear_mem\n",
    "from src.llms.phi.model_phi import PhiForCausalLMWHS\n",
    "from src.eval.ds import filter_ds_to_known\n",
    "from src.datasets.act_dm import ActivationDataModule\n",
    "\n",
    "# plt.style.use(\"ggplot\")\n",
    "# plt.style.use(\"seaborn-v0_8\")\n",
    "import seaborn as sns\n",
    "\n",
    "\n",
    "sns.set_theme(\"paper\")\n",
    "\n",
    "plt.rcParams[\"figure.figsize\"] = (4, 3)"
   ]
  },
  {
   "cell_type": "code",
   "execution_count": null,
   "metadata": {},
   "outputs": [],
   "source": [
    "import logging\n",
    "import warnings\n",
    "\n",
    "logging.getLogger(\"pytorch_lightning\").setLevel(logging.WARNING)\n",
    "\n",
    "\n",
    "warnings.filterwarnings(\"ignore\", \".*does not have many workers.*\")\n",
    "warnings.filterwarnings(\n",
    "    \"ignore\", \".*sampler has shuffling enabled, it is strongly recommended that.*\"\n",
    ")\n",
    "# warnings.filterwarnings(\"ignore\", \".*has been removed as a dependency of.*\")"
   ]
  },
  {
   "cell_type": "code",
   "execution_count": null,
   "metadata": {},
   "outputs": [],
   "source": [
    "os.environ[\"TQDM_MININTERVAL\"] = \"5\"\n",
    "os.environ[\"TQDM_DISABLE\"] = \"1\"\n",
    "\n",
    "verbose = False"
   ]
  },
  {
   "cell_type": "markdown",
   "metadata": {},
   "source": [
    "## Paramsnet\n"
   ]
  },
  {
   "cell_type": "code",
   "execution_count": null,
   "metadata": {},
   "outputs": [],
   "source": [
    "# params\n",
    "# params\n",
    "batch_size = 32\n",
    "lr = 2e-3\n",
    "wd = 0  # 1e-5\n",
    "\n",
    "MAX_ROWS = 2000\n",
    "\n",
    "SKIP = 5  # skip initial N layers\n",
    "STRIDE = 4  # skip every N layers\n",
    "DECIMATE = 1  # discard N features for speed\n",
    "\n",
    "device = \"cuda:0\"\n",
    "max_epochs = 144\n",
    "\n",
    "l1_coeff = 15  # 0.5  # neel uses 3e-4 ! https://github.dev/neelnanda-io/1L-Sparse-Autoencoder/blob/bcae01328a2f41d24bd4a9160828f2fc22737f75/utils.py#L106, but them they sum l1 where mean l2\n",
    "# x_feats=x_feats. other use 1e-1\n",
    "# in ai saftey foundation. They use l1_coefficient=Parameter(max=0.03, min=0.008),\n",
    "\n",
    "\n",
    "BASE_FOLDER = Path(\n",
    "    \"/media/wassname/SGIronWolf/projects5/elk/sgd_probes_are_lie_detectors/notebooks/lightning_logs/version_24/\"\n",
    ")\n",
    "layers_names = (\"fc1\", \"Wqkv\", \"fc2\", \"out_proj\")"
   ]
  },
  {
   "cell_type": "markdown",
   "metadata": {},
   "source": [
    "## Load data"
   ]
  },
  {
   "cell_type": "code",
   "execution_count": null,
   "metadata": {},
   "outputs": [],
   "source": [
    "# load hidden state from a previously loaded adapter\n",
    "# the columns with _base are from the base model, and adapt from adapter\n",
    "# FROM TRAINING TRUTH\n",
    "f1_val = next(iter(BASE_FOLDER.glob(\"hidden_states/.ds/ds_valtest_*\")))\n",
    "f1_ood = next(iter(BASE_FOLDER.glob(\"hidden_states/.ds/ds_OOD_*\")))\n",
    "f1_val, f1_ood"
   ]
  },
  {
   "cell_type": "code",
   "execution_count": null,
   "metadata": {},
   "outputs": [],
   "source": [
    "input_columns = (\n",
    "    [\"binary_ans_base\", \"binary_ans_adapt\"]\n",
    "    + [f\"end_residual_{layer}_base\" for layer in layers_names]\n",
    "    + [f\"end_residual_{layer}_adapt\" for layer in layers_names]\n",
    ")\n",
    "\n",
    "\n",
    "def ds2xy_batched(ds):\n",
    "    data = []\n",
    "    for layer in layers_names:\n",
    "        # Stack the base and adapter representations as a 4th dim\n",
    "        X1 = [ds[f\"end_residual_{layer}_base\"], ds[f\"end_residual_{layer}_adapt\"]]\n",
    "        X1 = rearrange(X1, \"versions b l f  -> b l f versions\")[..., 0]\n",
    "        data.append(X1)\n",
    "\n",
    "    # concat layers\n",
    "    # x = rearrange(data, 'b parts l f v -> b l (parts f) v')\n",
    "    X = torch.concat(data, dim=2)[:, SKIP::STRIDE, ::DECIMATE]\n",
    "\n",
    "    y = ds[\"binary_ans_base\"] - ds[\"binary_ans_adapt\"]\n",
    "    return dict(X=X, y=y)\n",
    "\n",
    "\n",
    "def prepare_ds(ds):\n",
    "    \"\"\"\n",
    "    prepare a dataset for training\n",
    "\n",
    "    this should front load much of the computation\n",
    "    it should restrict it to the needed rows X and y\n",
    "\n",
    "    \"\"\"\n",
    "    ds = (\n",
    "        ds.with_format(\"torch\")\n",
    "        .select_columns(input_columns)\n",
    "        .map(ds2xy_batched, batched=True, batch_size=128, remove_columns=input_columns)\n",
    "    )\n",
    "    return ds\n",
    "\n",
    "\n",
    "def load_file_to_dm(f, stage):\n",
    "    ds1 = Dataset.from_file(str(f1_val), in_memory=True).with_format(\"torch\")\n",
    "    ds1 = filter_ds_to_known(ds1, verbose=True, true_col=\"truth\")\n",
    "    ds = prepare_ds(ds1)\n",
    "\n",
    "    # limit size\n",
    "    MAX_SAMPLES = min(len(ds), MAX_ROWS * 2)\n",
    "    ds = ds.select(range(0, MAX_SAMPLES))\n",
    "\n",
    "    dm = ActivationDataModule(ds, f.stem, batch_size=batch_size, num_workers=0)\n",
    "    dm.setup(stage)\n",
    "    dm.dm_orig = ds1\n",
    "    return dm\n",
    "\n",
    "\n",
    "dm = load_file_to_dm(f1_val, \"train\")\n",
    "dm_ood = load_file_to_dm(f1_ood, \"all\")"
   ]
  },
  {
   "cell_type": "code",
   "execution_count": null,
   "metadata": {},
   "outputs": [],
   "source": [
    "dm_ood.datasets"
   ]
  },
  {
   "cell_type": "code",
   "execution_count": null,
   "metadata": {},
   "outputs": [],
   "source": [
    "dl_train = dm.train_dataloader()\n",
    "dl_val = dm.val_dataloader()\n",
    "dl_test = dm.test_dataloader()\n",
    "dl_ood = dm_ood.all_dataloader()"
   ]
  },
  {
   "cell_type": "markdown",
   "metadata": {},
   "source": [
    "Experiment with dataloading speeds:\n",
    "- does it help to save the Xy dataset to disc, then load, while keeping in mem?. no not faster at all\n",
    "- does it help to use num_workers > 0? yes 3x faster\n",
    "- the shared dataset wrapper is 10x faster, and less mem"
   ]
  },
  {
   "cell_type": "markdown",
   "metadata": {},
   "source": [
    "# Get importance matrix from adapter"
   ]
  },
  {
   "cell_type": "code",
   "execution_count": null,
   "metadata": {},
   "outputs": [],
   "source": [
    "from src.probes.importance_matrix import get_importance_matrix\n",
    "\n",
    "\n",
    "f = f\"{BASE_FOLDER}/checkpoint_last/adapter_model.safetensors\"\n",
    "importance_matrix = get_importance_matrix(f, layers=layers_names)[\n",
    "    SKIP::STRIDE, ::DECIMATE\n",
    "]\n",
    "\n",
    "\n",
    "# importance_matrix = importance_matrix ** 3 # square to make it positive\n",
    "importance_matrix = (importance_matrix - 1).abs() ** 2\n",
    "\n",
    "\n",
    "# importance_matrix = importance_matrix / (0.1*importance_matrix.std())\n",
    "# importance_matrix = importance_matrix + 1\n",
    "\n",
    "# square to make it positive\n",
    "# importance_matrix = importance_matrix.clamp(0, None)\n",
    "# importance_matrix -= importance_matrix.mean() - 1\n",
    "\n",
    "s = importance_matrix.std()\n",
    "importance_matrix = (importance_matrix > s * 3) * 1.0\n",
    "print(f\"keeping top {importance_matrix.mean():2.2%} of features\")\n",
    "importance_matrix = importance_matrix / importance_matrix.mean()\n",
    "\n",
    "plt.hist(importance_matrix.flatten(), bins=155)\n",
    "\n",
    "importance_matrix.mean()\n",
    "\n",
    "importance_matrix = None"
   ]
  },
  {
   "cell_type": "code",
   "execution_count": null,
   "metadata": {},
   "outputs": [],
   "source": [
    "# ((importance_matrix>0)*1.0).sum()"
   ]
  },
  {
   "cell_type": "code",
   "execution_count": null,
   "metadata": {},
   "outputs": [],
   "source": [
    "# ds_test2 = dm.datasets['test']\n",
    "# shape1 = ds_test2[0][0].shape\n",
    "# shape2= importance_matrix.shape\n",
    "# np.testing.assert_equal(shape1, shape2, err_msg=\"shape mismatch between ds and importance matrix\")\n"
   ]
  },
  {
   "cell_type": "markdown",
   "metadata": {},
   "source": [
    "### helpers"
   ]
  },
  {
   "cell_type": "code",
   "execution_count": null,
   "metadata": {},
   "outputs": [],
   "source": [
    "from src.eval.ds import ds2df\n",
    "\n",
    "\n",
    "def get_acc_subset(df, query, verbose=True):\n",
    "    assert (df[\"y\"].mean() < 0).any(), \"y should be [-1, 1]\"\n",
    "    assert (df[\"y\"].mean() > -1).all(), \"y should be [-1, 1]\"\n",
    "    assert (df[\"y\"].mean() < 1).all(), \"y should be [-1, 1]\"\n",
    "    assert (df[\"probe_pred\"].mean() > 0).all(), \"pred should be [0,1]\"\n",
    "    assert (df[\"probe_pred\"].mean() < 1).all(), \"pred should be [0,1]\"\n",
    "\n",
    "    if query:\n",
    "        df = df.query(query)\n",
    "    # df[\"probe_cls\"] = df[\"probe_pred\"] > 0.5\n",
    "    acc = ((df[\"probe_pred\"] > 0.5) == (df[\"y\"] > 0)).mean()\n",
    "    if verbose:\n",
    "        print(f\"acc={acc:2.2%},\\tn={len(df)},\\t[{query}] \")\n",
    "    return acc\n",
    "\n",
    "\n",
    "def calc_metrics(dm, net, trainer=None, split=\"test\", verbose=True):\n",
    "    # predict\n",
    "    dl_test = dm.create_dataloader(split)\n",
    "    if trainer is None:\n",
    "        trainer = pl.Trainer(\n",
    "            logger=False, enable_progress_bar=False, enable_model_summary=False\n",
    "        )\n",
    "    rt = trainer.predict(net, dataloaders=dl_test)\n",
    "    y_test_pred = np.concatenate(rt)\n",
    "\n",
    "    # get original df\n",
    "    splits = dm.splits[split]\n",
    "    df = ds2df(dm.dm_orig).rename(columns=lambda s: s.replace(\"_base\", \"\"))\n",
    "    df[\"y\"] = dm.ds[\"y\"]\n",
    "    df_test = df.iloc[splits[0] : splits[1]].copy()\n",
    "    df_test[\"probe_pred\"] = y_test_pred\n",
    "\n",
    "    if verbose:\n",
    "        print(f\"probe results on subsets of the data for {split}\")\n",
    "    acc = get_acc_subset(df_test, \"\", verbose=verbose)\n",
    "    get_acc_subset(\n",
    "        df_test, \"instructed_to_lie==True\", verbose=verbose\n",
    "    )  # it was ph told to lie\n",
    "    get_acc_subset(\n",
    "        df_test, \"instructed_to_lie==False\", verbose=verbose\n",
    "    )  # it was told not to lie\n",
    "    get_acc_subset(\n",
    "        df_test, \"ans==label_true\", verbose=verbose\n",
    "    )  # the llm gave the true ans\n",
    "    get_acc_subset(\n",
    "        df_test, \"ans==label_instructed\", verbose=verbose\n",
    "    )  # the llm gave the desired ans\n",
    "    acc_lie_lie = get_acc_subset(\n",
    "        df_test, \"instructed_to_lie==True & ans==label_instructed\", verbose=verbose\n",
    "    )  # it was told to lie, and it did lie\n",
    "    acc_lie_truth = get_acc_subset(\n",
    "        df_test, \"instructed_to_lie==True & ans!=label_instructed\", verbose=verbose\n",
    "    )\n",
    "\n",
    "    a = get_acc_subset(\n",
    "        df_test, \"instructed_to_lie==False & ans==label_instructed\", verbose=False\n",
    "    )\n",
    "    b = get_acc_subset(\n",
    "        df_test, \"instructed_to_lie==False & ans!=label_instructed\", verbose=False\n",
    "    )\n",
    "    c = get_acc_subset(\n",
    "        df_test, \"instructed_to_lie==True & ans==label_instructed\", verbose=False\n",
    "    )\n",
    "    d = get_acc_subset(\n",
    "        df_test, \"instructed_to_lie==True & ans!=label_instructed\", verbose=False\n",
    "    )\n",
    "\n",
    "    df_confusion = pd.DataFrame(\n",
    "        [[a, b], [c, d]],\n",
    "        index=[\"tell a truth\", \"tell a lie\"],\n",
    "        columns=[\"did\", \"didn't\"],\n",
    "    )\n",
    "    df_confusion.index.name = \"instructed to\"\n",
    "    df_confusion.columns.name = \"llm gave\"\n",
    "\n",
    "    if verbose:\n",
    "        print(f\"⭐PRIMARY METRIC⭐ acc={acc:2.2%} from probe on {split}\")\n",
    "        print(\n",
    "            f\"⭐SECONDARY METRIC⭐ acc_lie_lie={acc_lie_lie:2.2%} from probe on {split}\"\n",
    "        )\n",
    "\n",
    "    print(\"\\n\\nprobe accuracy for quadrants:\")\n",
    "    print(df_confusion.round(2).to_markdown())\n",
    "    print(\"\\n\\n\")\n",
    "\n",
    "    return dict(\n",
    "        acc=acc,\n",
    "        acc_lie_lie=acc_lie_lie,\n",
    "        acc_lie_truth=acc_lie_truth,\n",
    "        df_test=df_test,\n",
    "        df_confusion=df_confusion,\n",
    "    )\n",
    "\n",
    "\n",
    "# r = testval_metrics = calc_metrics(dm, trainer3, net, use_val=True)\n",
    "# r['df_test']"
   ]
  },
  {
   "cell_type": "code",
   "execution_count": null,
   "metadata": {},
   "outputs": [],
   "source": [
    "# visualize latent space\n",
    "from matplotlib import cm\n",
    "\n",
    "\n",
    "def plot_latent(latent):\n",
    "    # plot image of latent space\n",
    "    vmax = latent.abs().max()\n",
    "    for i in range(4):\n",
    "        plt.subplot(2, 2, i + 1)\n",
    "        vmax = latent[i].abs().max()\n",
    "        plt.imshow(\n",
    "            latent[i],\n",
    "            cmap=cm.coolwarm,\n",
    "            interpolation=\"none\",\n",
    "            aspect=\"auto\",\n",
    "            vmin=-vmax,\n",
    "            vmax=vmax,\n",
    "        )\n",
    "        plt.ylabel(\"layer\")\n",
    "        plt.xlabel(\"neuron\")\n",
    "        if i < 2:\n",
    "            plt.xlabel(\"\")\n",
    "            plt.xticks([])\n",
    "        if i % 2 == 1:\n",
    "            plt.ylabel(\"\")\n",
    "            plt.yticks([])\n",
    "        plt.grid(False)\n",
    "        plt.colorbar()\n",
    "    # plt.colorbar()\n",
    "    plt.subplots_adjust(wspace=0.05, hspace=0.05)\n",
    "    plt.show()\n",
    "\n",
    "    # histogram\n",
    "    latentf = rearrange(latent, \"b n l -> (b n) l\").flatten()\n",
    "    vmax = (latentf.abs().mean() + 5 * latentf.abs().std()).item()\n",
    "    plt.hist(latentf, bins=55, range=[-vmax, vmax], histtype=\"step\")\n",
    "    plt.title(\"latents by layer\")\n",
    "    plt.show()"
   ]
  },
  {
   "cell_type": "code",
   "execution_count": null,
   "metadata": {},
   "outputs": [],
   "source": [
    "from src.helpers.lightning import read_metrics_csv, plot_hist, rename_pl_test_results\n",
    "from lightning.pytorch.callbacks import LearningRateMonitor"
   ]
  },
  {
   "cell_type": "markdown",
   "metadata": {},
   "source": [
    "# Model"
   ]
  },
  {
   "cell_type": "code",
   "execution_count": null,
   "metadata": {},
   "outputs": [],
   "source": [
    "# from sparse_autoencoder.autoencoder.model import SparseAutoencoderConfig, SparseAutoencoder\n",
    "from src.vae.sae2 import AutoEncoder, AutoEncoderConfig\n",
    "from src.vae.conv_inception import (\n",
    "    LinBnDrop,\n",
    "    PLBase,\n",
    "    recursive_requires_grad,\n",
    "    accuracy,\n",
    "    auroc,\n",
    ")"
   ]
  },
  {
   "cell_type": "code",
   "execution_count": null,
   "metadata": {},
   "outputs": [],
   "source": [
    "class PLAE(PLBase):\n",
    "    def __init__(\n",
    "        self,\n",
    "        c_in,\n",
    "        steps_per_epoch,\n",
    "        max_epochs,\n",
    "        # depth=0,\n",
    "        lr=4e-3,\n",
    "        weight_decay=1e-9,\n",
    "        # hs=64,\n",
    "        n_latent=32,\n",
    "        l1_coeff=1,\n",
    "        dropout=0,\n",
    "        depth=1,\n",
    "        importance_matrix=None,\n",
    "        **kwargs,\n",
    "    ):\n",
    "        super().__init__(\n",
    "            steps_per_epoch=steps_per_epoch,\n",
    "            max_epochs=max_epochs,\n",
    "            lr=lr,\n",
    "            weight_decay=weight_decay,\n",
    "        )\n",
    "        self.save_hyperparameters()\n",
    "        self.importance_matrix = importance_matrix\n",
    "        expansion_factor = 2\n",
    "\n",
    "        n_layers, n_channels = c_in\n",
    "        self.ae_cfg = AutoEncoderConfig(\n",
    "            n_instances=n_layers,\n",
    "            n_input_ae=n_channels,\n",
    "            n_hidden_ae=n_latent,\n",
    "            l1_coeff=l1_coeff,\n",
    "            depth=depth,\n",
    "        )\n",
    "\n",
    "        self.ae = AutoEncoder(\n",
    "            self.ae_cfg,\n",
    "            importance_matrix=importance_matrix,\n",
    "        )\n",
    "\n",
    "        n = n_latent * n_layers\n",
    "        self.head = nn.Sequential(\n",
    "            LinBnDrop(n, n, bn=False),\n",
    "            LinBnDrop(n, n // 4, dropout=dropout, bn=False),\n",
    "            LinBnDrop(n // 4, n // 12, bn=False),\n",
    "            nn.Linear(n // 12, 1),\n",
    "            # nn.Tanh(),\n",
    "        )\n",
    "        self._ae_mode = True\n",
    "\n",
    "    def ae_mode(self, mode=0):\n",
    "        \"\"\"\n",
    "        mode 0, train the ae\n",
    "        mode 1, train only the prob\n",
    "        mode 2, train both\n",
    "        \"\"\"\n",
    "        if mode == 0:\n",
    "            print(\"training ae\")\n",
    "        elif mode == 1:\n",
    "            print(\"training probe\")\n",
    "        elif mode == 2:\n",
    "            print(\"training both ae and probe\")\n",
    "        self._ae_mode = mode\n",
    "        recursive_requires_grad(self.ae, mode in [0, 2])\n",
    "\n",
    "    def forward(self, x):\n",
    "        if x.ndim == 4:\n",
    "            x = x.squeeze(3)\n",
    "\n",
    "        # x = rearrange(x, \"b l h -> b h l\")\n",
    "        # if not self._ae_mode:\n",
    "        #     with torch.no_grad():\n",
    "        #         l1_loss, l2_loss, loss, latent, h_rec = self.ae(x)\n",
    "        # else:\n",
    "        # l1_loss, l2_loss, loss, latent, h_rec = self.ae(x)\n",
    "\n",
    "        # latent, h_rec = self.ae(x)\n",
    "        loss, latent, h_rec, info = self.ae(x)\n",
    "        # l1_loss, l2_loss, loss = self.ae.losses(latent, h_rec)\n",
    "        # h_err = h_rec - x\n",
    "        # if self.importance_matrix is not None:\n",
    "        #     importance_matrix = self.importance_matrix[None, : ].to(h_err.device)\n",
    "        #     h_err = h_err * importance_matrix\n",
    "        # # for some reasin in the https://github.dev/ai-safety-foundation/sparse_autoencoder repo\n",
    "        # # they do sum over latent, mean over features, which is confusing because then l1_coeff will vary with different model sizes\n",
    "        # l2_loss = h_err.pow(2).mean(2).mean(1) # shape [batch_size n_instances features]\n",
    "        # l1_loss = latent.abs().sum(2).mean(1) # shape [batch_size n_instances n_latent]\n",
    "        # loss = (self.hparams.l1_coeff * l1_loss + l2_loss).mean(0) # scalar\n",
    "\n",
    "        latent2 = rearrange(latent, \"b l h -> b (l h)\")\n",
    "        pred = self.head(latent2).squeeze(1)\n",
    "        return dict(\n",
    "            pred=pred,\n",
    "            loss=loss,\n",
    "            latent=latent,\n",
    "            h_rec=h_rec,\n",
    "            **info\n",
    "        )\n",
    "\n",
    "    # def on_after_backward(self):\n",
    "    #     self.ae.post_backwards_hook()\n",
    "\n",
    "    def _step(self, batch, batch_idx, stage=\"train\"):\n",
    "        device = next(self.parameters()).device\n",
    "        if stage == \"train\":\n",
    "            self.ae.normalize_decoder()\n",
    "        x, y = batch  # batch['X'], batch['y']\n",
    "        x = x.to(device)\n",
    "        y = y.to(device)\n",
    "        x0 = x  # [..., 0]\n",
    "        # x1 = x[..., 1]\n",
    "        info0 = self(x0)\n",
    "        # info1 = self(x1)\n",
    "        # ypred1 = info1[\"pred\"]\n",
    "        logits = info0[\"pred\"]\n",
    "        y_probs = F.sigmoid(logits)\n",
    "        y_cls = y_probs > 0.5\n",
    "\n",
    "        if stage == \"pred\":\n",
    "            return (y_probs).float()\n",
    "\n",
    "        pred_loss = F.binary_cross_entropy_with_logits(logits, (y > 0.0).float())\n",
    "\n",
    "        # pred_loss = F.smooth_l1_loss(ypred0, y)\n",
    "        rec_loss = info0[\"loss\"]\n",
    "        l1_loss = info0[\"l1_loss\"].mean()\n",
    "        l2_loss = info0[\"l2_loss\"].mean()\n",
    "\n",
    "        self.log(\n",
    "            f\"{stage}/auroc\",\n",
    "            auroc(y_probs, y > 0, \"binary\"),\n",
    "            on_epoch=True,\n",
    "            on_step=False,\n",
    "        )\n",
    "        self.log(\n",
    "            f\"{stage}/acc\",\n",
    "            accuracy(y_cls, y > 0, \"binary\"),\n",
    "            on_epoch=True,\n",
    "            on_step=False,\n",
    "        )\n",
    "        self.log(\n",
    "            f\"{stage}/loss_pred\",\n",
    "            float(pred_loss),\n",
    "            on_epoch=True,\n",
    "            on_step=True,\n",
    "            # prog_bar=True,\n",
    "        )\n",
    "        self.log(\n",
    "            f\"{stage}/loss_rec\",\n",
    "            float(rec_loss),\n",
    "            on_epoch=True,\n",
    "            on_step=True,\n",
    "            # prog_bar=True,\n",
    "        )\n",
    "        self.log(f\"{stage}/l1_loss\", l1_loss, on_epoch=True, on_step=False)\n",
    "        self.log(f\"{stage}/l2_loss\", l2_loss, on_epoch=True, on_step=False)\n",
    "        self.log(\n",
    "            f\"{stage}/n\",\n",
    "            float(len(y)),\n",
    "            on_epoch=True,\n",
    "            on_step=False,\n",
    "            reduce_fx=torch.sum,\n",
    "        )\n",
    "        if self._ae_mode == 0:\n",
    "            assert torch.isfinite(rec_loss), \"rec_loss is not finite\"\n",
    "            return rec_loss\n",
    "        elif self._ae_mode == 1:\n",
    "            assert torch.isfinite(pred_loss), \"pred_loss is not finite\"\n",
    "            return pred_loss\n",
    "        elif self._ae_mode == 2:\n",
    "            # , train/loss_pred_epoch=0.0195, train/loss_rec_epoch=169.0\n",
    "            assert torch.isfinite(pred_loss), \"pred_loss is not finite\"\n",
    "            assert torch.isfinite(rec_loss), \"rec_loss is not finite\"\n",
    "            return pred_loss * 50000 + rec_loss"
   ]
  },
  {
   "cell_type": "markdown",
   "metadata": {},
   "source": [
    "# Train"
   ]
  },
  {
   "cell_type": "markdown",
   "metadata": {},
   "source": [
    "### Setup"
   ]
  },
  {
   "cell_type": "code",
   "execution_count": null,
   "metadata": {},
   "outputs": [],
   "source": [
    "print(len(dl_train), len(dl_val))\n",
    "b = next(iter(dl_train))\n",
    "x, y = b  # b['X'], b['y']\n",
    "print(x.shape, \"x\")\n",
    "if x.ndim == 3:\n",
    "    x = x.unsqueeze(-1)\n",
    "c_in = x.shape[1:-1]"
   ]
  },
  {
   "cell_type": "code",
   "execution_count": null,
   "metadata": {},
   "outputs": [],
   "source": [
    "# # TEST\n",
    "# for b in tqdm(dl_train):\n",
    "#     pass"
   ]
  },
  {
   "cell_type": "code",
   "execution_count": null,
   "metadata": {},
   "outputs": [],
   "source": [
    "# %%time\n",
    "# # oh no, this is very slow\n",
    "# g = iter(dl_train)\n",
    "# b = next(g)\n",
    "# b = next(g)\n"
   ]
  },
  {
   "cell_type": "code",
   "execution_count": null,
   "metadata": {},
   "outputs": [],
   "source": [
    "# cfg.depth = 4\n",
    "\n",
    "# hidden_sizes = np.logspace(np.log10(cfg.n_input_ae), np.log10(cfg.n_hidden_ae), cfg.depth).astype(int)"
   ]
  },
  {
   "cell_type": "code",
   "execution_count": null,
   "metadata": {},
   "outputs": [],
   "source": [
    "# cfg = net.ae_cfg\n",
    "# n_in = cfg.n_input_ae\n",
    "\n",
    "# hidden_sizes = np.logspace(np.log10(cfg.n_input_ae), np.log10(cfg.n_hidden_ae), cfg.depth).astype(int)\n",
    "\n",
    "# for i in range(len(hidden_sizes)-1):\n",
    "#     print(hidden_sizes[i], hidden_sizes[i+1])\n",
    "\n",
    "\n",
    "# # self.encoder = nn.Sequential(*self.encoder)\n",
    "# print('next')\n",
    "# # self.decoder = []\n",
    "# hidden_sizes2 = hidden_sizes[::-1]\n",
    "# for i in range(len(hidden_sizes)-1):\n",
    "#     print(hidden_sizes2[i], hidden_sizes2[i+1])"
   ]
  },
  {
   "cell_type": "code",
   "execution_count": null,
   "metadata": {},
   "outputs": [],
   "source": [
    "l1_coeff"
   ]
  },
  {
   "cell_type": "code",
   "execution_count": null,
   "metadata": {},
   "outputs": [],
   "source": [
    "net = PLAE(\n",
    "    c_in=c_in,\n",
    "    steps_per_epoch=len(dl_train),\n",
    "    max_epochs=max_epochs,\n",
    "    lr=lr,\n",
    "    depth=3,\n",
    "    weight_decay=wd,\n",
    "    # hs=64,\n",
    "    dropout=0,\n",
    "    n_latent=128,  # there will be layers * n_latent latent features\n",
    "    l1_coeff=l1_coeff,\n",
    "    importance_matrix=importance_matrix,\n",
    ")\n",
    "print(net)"
   ]
  },
  {
   "cell_type": "code",
   "execution_count": null,
   "metadata": {},
   "outputs": [],
   "source": [
    "print(c_in)\n",
    "x1 = x[..., 0]\n",
    "with torch.no_grad():\n",
    "    y = net(x1)\n",
    "{k: v.abs().mean() for k, v in y.items()}, {k: v.shape for k, v in y.items()}"
   ]
  },
  {
   "cell_type": "code",
   "execution_count": null,
   "metadata": {},
   "outputs": [],
   "source": [
    "from torchinfo import summary\n",
    "\n",
    "summary(net, input_data=x1, depth=4)  # input_size=(batch_size, 1, 28, 28))"
   ]
  },
  {
   "cell_type": "markdown",
   "metadata": {},
   "source": [
    "### Train autoencoder"
   ]
  },
  {
   "cell_type": "code",
   "execution_count": null,
   "metadata": {},
   "outputs": [],
   "source": [
    "torch.set_float32_matmul_precision(\"medium\")"
   ]
  },
  {
   "cell_type": "code",
   "execution_count": null,
   "metadata": {},
   "outputs": [],
   "source": [
    "# with torch.no_grad():\n",
    "#     o = net.predict_step(b)\n",
    "#     l1_loss, l2_loss, loss, acts, h_reconstructed = net.ae(b[0])\n",
    "#     # l1_loss, l2_loss, loss, latent, h_rec = self.ae(x)"
   ]
  },
  {
   "cell_type": "code",
   "execution_count": 46,
   "metadata": {},
   "outputs": [
    {
     "name": "stderr",
     "output_type": "stream",
     "text": [
      "LOCAL_RANK: 0 - CUDA_VISIBLE_DEVICES: [0,1]\n",
      "\n",
      "  | Name | Type        | Params\n",
      "-------------------------------------\n",
      "0 | ae   | AutoEncoder | 165 M \n",
      "1 | head | Sequential  | 1.0 M \n",
      "-------------------------------------\n",
      "166 M     Trainable params\n",
      "0         Non-trainable params\n",
      "166 M     Total params\n",
      "666.006   Total estimated model params size (MB)\n"
     ]
    },
    {
     "name": "stdout",
     "output_type": "stream",
     "text": [
      "training ae\n",
      "requires_grad: True\n"
     ]
    },
    {
     "data": {
      "application/vnd.jupyter.widget-view+json": {
       "model_id": "d4493df4f17047bfafd6ad212ddc1dcd",
       "version_major": 2,
       "version_minor": 0
      },
      "text/plain": [
       "Sanity Checking: |          | 0/? [00:00<?, ?it/s]"
      ]
     },
     "metadata": {},
     "output_type": "display_data"
    },
    {
     "data": {
      "application/vnd.jupyter.widget-view+json": {
       "model_id": "7bbb1359380744daa962b9dce13b60e7",
       "version_major": 2,
       "version_minor": 0
      },
      "text/plain": [
       "Training: |          | 0/? [00:00<?, ?it/s]"
      ]
     },
     "metadata": {},
     "output_type": "display_data"
    },
    {
     "data": {
      "application/vnd.jupyter.widget-view+json": {
       "model_id": "d04ca2b0d577488086e089830af3ea4a",
       "version_major": 2,
       "version_minor": 0
      },
      "text/plain": [
       "Validation: |          | 0/? [00:00<?, ?it/s]"
      ]
     },
     "metadata": {},
     "output_type": "display_data"
    },
    {
     "data": {
      "application/vnd.jupyter.widget-view+json": {
       "model_id": "2a6239461a054aa68009c27eddc1d580",
       "version_major": 2,
       "version_minor": 0
      },
      "text/plain": [
       "Validation: |          | 0/? [00:00<?, ?it/s]"
      ]
     },
     "metadata": {},
     "output_type": "display_data"
    },
    {
     "data": {
      "application/vnd.jupyter.widget-view+json": {
       "model_id": "791465c778644cc39541fc604afd44a4",
       "version_major": 2,
       "version_minor": 0
      },
      "text/plain": [
       "Validation: |          | 0/? [00:00<?, ?it/s]"
      ]
     },
     "metadata": {},
     "output_type": "display_data"
    },
    {
     "data": {
      "application/vnd.jupyter.widget-view+json": {
       "model_id": "61b9bd593a52487faa033454ca2b2a06",
       "version_major": 2,
       "version_minor": 0
      },
      "text/plain": [
       "Validation: |          | 0/? [00:00<?, ?it/s]"
      ]
     },
     "metadata": {},
     "output_type": "display_data"
    },
    {
     "data": {
      "application/vnd.jupyter.widget-view+json": {
       "model_id": "582b57def3964fbd9896df0801af030a",
       "version_major": 2,
       "version_minor": 0
      },
      "text/plain": [
       "Validation: |          | 0/? [00:00<?, ?it/s]"
      ]
     },
     "metadata": {},
     "output_type": "display_data"
    },
    {
     "data": {
      "application/vnd.jupyter.widget-view+json": {
       "model_id": "0246c593b7f84e288fac55b5572d6cad",
       "version_major": 2,
       "version_minor": 0
      },
      "text/plain": [
       "Validation: |          | 0/? [00:00<?, ?it/s]"
      ]
     },
     "metadata": {},
     "output_type": "display_data"
    },
    {
     "data": {
      "application/vnd.jupyter.widget-view+json": {
       "model_id": "f01d23878b304aacab36bba9ff2506e0",
       "version_major": 2,
       "version_minor": 0
      },
      "text/plain": [
       "Validation: |          | 0/? [00:00<?, ?it/s]"
      ]
     },
     "metadata": {},
     "output_type": "display_data"
    },
    {
     "name": "stderr",
     "output_type": "stream",
     "text": [
      "/media/wassname/SGIronWolf/projects5/elk/sgd_probes_are_lie_detectors/.venv/lib/python3.11/site-packages/lightning/pytorch/trainer/call.py:54: Detected KeyboardInterrupt, attempting graceful shutdown...\n"
     ]
    },
    {
     "data": {
      "image/png": "[encoded data removed]",
      "text/plain": [
       "<Figure size 500x200 with 1 Axes>"
      ]
     },
     "metadata": {},
     "output_type": "display_data"
    },
    {
     "data": {
      "image/png": "[encoded data removed]",
      "text/plain": [
       "<Figure size 500x200 with 1 Axes>"
      ]
     },
     "metadata": {},
     "output_type": "display_data"
    },
    {
     "data": {
      "text/html": [
       "<div>\n",
       "<style scoped>\n",
       "    .dataframe tbody tr th:only-of-type {\n",
       "        vertical-align: middle;\n",
       "    }\n",
       "\n",
       "    .dataframe tbody tr th {\n",
       "        vertical-align: top;\n",
       "    }\n",
       "\n",
       "    .dataframe thead th {\n",
       "        text-align: right;\n",
       "    }\n",
       "</style>\n",
       "<table border=\"1\" class=\"dataframe\">\n",
       "  <thead>\n",
       "    <tr style=\"text-align: right;\">\n",
       "      <th></th>\n",
       "      <th>train/loss_pred_step</th>\n",
       "      <th>step</th>\n",
       "      <th>train/loss_rec_step</th>\n",
       "      <th>val/loss_rec_step</th>\n",
       "      <th>val/loss_pred_step</th>\n",
       "      <th>val/auroc</th>\n",
       "      <th>val/n</th>\n",
       "      <th>val/acc</th>\n",
       "      <th>val/loss_rec_epoch</th>\n",
       "      <th>val/l1_loss</th>\n",
       "      <th>val/l2_loss</th>\n",
       "      <th>val/loss_pred_epoch</th>\n",
       "      <th>train/n</th>\n",
       "      <th>train/l2_loss</th>\n",
       "      <th>train/l1_loss</th>\n",
       "      <th>train/loss_pred_epoch</th>\n",
       "      <th>train/acc</th>\n",
       "      <th>train/loss_rec_epoch</th>\n",
       "      <th>train/auroc</th>\n",
       "    </tr>\n",
       "    <tr>\n",
       "      <th>epoch</th>\n",
       "      <th></th>\n",
       "      <th></th>\n",
       "      <th></th>\n",
       "      <th></th>\n",
       "      <th></th>\n",
       "      <th></th>\n",
       "      <th></th>\n",
       "      <th></th>\n",
       "      <th></th>\n",
       "      <th></th>\n",
       "      <th></th>\n",
       "      <th></th>\n",
       "      <th></th>\n",
       "      <th></th>\n",
       "      <th></th>\n",
       "      <th></th>\n",
       "      <th></th>\n",
       "      <th></th>\n",
       "      <th></th>\n",
       "    </tr>\n",
       "  </thead>\n",
       "  <tbody>\n",
       "    <tr>\n",
       "      <th>0.0</th>\n",
       "      <td>0.692158</td>\n",
       "      <td>9</td>\n",
       "      <td>329.188690</td>\n",
       "      <td>344.731903</td>\n",
       "      <td>0.703066</td>\n",
       "      <td>0.525806</td>\n",
       "      <td>154.0</td>\n",
       "      <td>0.487013</td>\n",
       "      <td>375.123474</td>\n",
       "      <td>4.819777</td>\n",
       "      <td>302.826843</td>\n",
       "      <td>0.694393</td>\n",
       "      <td>307.0</td>\n",
       "      <td>667.650269</td>\n",
       "      <td>3.095616</td>\n",
       "      <td>0.700741</td>\n",
       "      <td>0.384365</td>\n",
       "      <td>714.084534</td>\n",
       "      <td>0.469943</td>\n",
       "    </tr>\n",
       "    <tr>\n",
       "      <th>1.0</th>\n",
       "      <td>0.692204</td>\n",
       "      <td>19</td>\n",
       "      <td>164.401871</td>\n",
       "      <td>171.968796</td>\n",
       "      <td>0.703120</td>\n",
       "      <td>0.411281</td>\n",
       "      <td>154.0</td>\n",
       "      <td>0.487013</td>\n",
       "      <td>220.609024</td>\n",
       "      <td>3.092921</td>\n",
       "      <td>174.215210</td>\n",
       "      <td>0.694510</td>\n",
       "      <td>307.0</td>\n",
       "      <td>209.082275</td>\n",
       "      <td>3.294314</td>\n",
       "      <td>0.700896</td>\n",
       "      <td>0.384365</td>\n",
       "      <td>258.496979</td>\n",
       "      <td>0.446045</td>\n",
       "    </tr>\n",
       "    <tr>\n",
       "      <th>2.0</th>\n",
       "      <td>0.691688</td>\n",
       "      <td>29</td>\n",
       "      <td>116.472656</td>\n",
       "      <td>115.942665</td>\n",
       "      <td>0.703370</td>\n",
       "      <td>0.538681</td>\n",
       "      <td>154.0</td>\n",
       "      <td>0.487013</td>\n",
       "      <td>163.114670</td>\n",
       "      <td>2.600860</td>\n",
       "      <td>124.101768</td>\n",
       "      <td>0.694345</td>\n",
       "      <td>307.0</td>\n",
       "      <td>149.511978</td>\n",
       "      <td>2.917630</td>\n",
       "      <td>0.700684</td>\n",
       "      <td>0.384365</td>\n",
       "      <td>193.276443</td>\n",
       "      <td>0.550309</td>\n",
       "    </tr>\n",
       "    <tr>\n",
       "      <th>3.0</th>\n",
       "      <td>0.691929</td>\n",
       "      <td>39</td>\n",
       "      <td>94.306381</td>\n",
       "      <td>91.190666</td>\n",
       "      <td>0.703204</td>\n",
       "      <td>0.566241</td>\n",
       "      <td>154.0</td>\n",
       "      <td>0.487013</td>\n",
       "      <td>130.693848</td>\n",
       "      <td>2.393211</td>\n",
       "      <td>94.795670</td>\n",
       "      <td>0.694294</td>\n",
       "      <td>307.0</td>\n",
       "      <td>112.805580</td>\n",
       "      <td>2.640393</td>\n",
       "      <td>0.700779</td>\n",
       "      <td>0.384365</td>\n",
       "      <td>152.411469</td>\n",
       "      <td>0.495795</td>\n",
       "    </tr>\n",
       "    <tr>\n",
       "      <th>4.0</th>\n",
       "      <td>0.691898</td>\n",
       "      <td>49</td>\n",
       "      <td>88.483971</td>\n",
       "      <td>80.864731</td>\n",
       "      <td>0.703036</td>\n",
       "      <td>0.645051</td>\n",
       "      <td>154.0</td>\n",
       "      <td>0.487013</td>\n",
       "      <td>110.041115</td>\n",
       "      <td>2.250266</td>\n",
       "      <td>76.287132</td>\n",
       "      <td>0.694147</td>\n",
       "      <td>307.0</td>\n",
       "      <td>90.558487</td>\n",
       "      <td>2.476734</td>\n",
       "      <td>0.700664</td>\n",
       "      <td>0.384365</td>\n",
       "      <td>127.709488</td>\n",
       "      <td>0.557461</td>\n",
       "    </tr>\n",
       "    <tr>\n",
       "      <th>5.0</th>\n",
       "      <td>0.691998</td>\n",
       "      <td>59</td>\n",
       "      <td>82.999596</td>\n",
       "      <td>77.885048</td>\n",
       "      <td>0.703140</td>\n",
       "      <td>0.496956</td>\n",
       "      <td>154.0</td>\n",
       "      <td>0.487013</td>\n",
       "      <td>108.761894</td>\n",
       "      <td>2.241251</td>\n",
       "      <td>75.143127</td>\n",
       "      <td>0.694414</td>\n",
       "      <td>307.0</td>\n",
       "      <td>74.793121</td>\n",
       "      <td>2.315039</td>\n",
       "      <td>0.700727</td>\n",
       "      <td>0.384365</td>\n",
       "      <td>109.518707</td>\n",
       "      <td>0.498918</td>\n",
       "    </tr>\n",
       "    <tr>\n",
       "      <th>6.0</th>\n",
       "      <td>0.692017</td>\n",
       "      <td>69</td>\n",
       "      <td>79.443245</td>\n",
       "      <td>69.570259</td>\n",
       "      <td>0.703021</td>\n",
       "      <td>0.550442</td>\n",
       "      <td>154.0</td>\n",
       "      <td>0.487013</td>\n",
       "      <td>83.191742</td>\n",
       "      <td>2.133674</td>\n",
       "      <td>51.186642</td>\n",
       "      <td>0.694275</td>\n",
       "      <td>307.0</td>\n",
       "      <td>74.793121</td>\n",
       "      <td>2.315039</td>\n",
       "      <td>0.700727</td>\n",
       "      <td>0.384365</td>\n",
       "      <td>109.518707</td>\n",
       "      <td>0.498918</td>\n",
       "    </tr>\n",
       "  </tbody>\n",
       "</table>\n",
       "</div>"
      ],
      "text/plain": [
       "       train/loss_pred_step  step  train/loss_rec_step  val/loss_rec_step  \\\n",
       "epoch                                                                       \n",
       "0.0                0.692158     9           329.188690         344.731903   \n",
       "1.0                0.692204    19           164.401871         171.968796   \n",
       "2.0                0.691688    29           116.472656         115.942665   \n",
       "3.0                0.691929    39            94.306381          91.190666   \n",
       "4.0                0.691898    49            88.483971          80.864731   \n",
       "5.0                0.691998    59            82.999596          77.885048   \n",
       "6.0                0.692017    69            79.443245          69.570259   \n",
       "\n",
       "       val/loss_pred_step  val/auroc  val/n   val/acc  val/loss_rec_epoch  \\\n",
       "epoch                                                                       \n",
       "0.0              0.703066   0.525806  154.0  0.487013          375.123474   \n",
       "1.0              0.703120   0.411281  154.0  0.487013          220.609024   \n",
       "2.0              0.703370   0.538681  154.0  0.487013          163.114670   \n",
       "3.0              0.703204   0.566241  154.0  0.487013          130.693848   \n",
       "4.0              0.703036   0.645051  154.0  0.487013          110.041115   \n",
       "5.0              0.703140   0.496956  154.0  0.487013          108.761894   \n",
       "6.0              0.703021   0.550442  154.0  0.487013           83.191742   \n",
       "\n",
       "       val/l1_loss  val/l2_loss  val/loss_pred_epoch  train/n  train/l2_loss  \\\n",
       "epoch                                                                          \n",
       "0.0       4.819777   302.826843             0.694393    307.0     667.650269   \n",
       "1.0       3.092921   174.215210             0.694510    307.0     209.082275   \n",
       "2.0       2.600860   124.101768             0.694345    307.0     149.511978   \n",
       "3.0       2.393211    94.795670             0.694294    307.0     112.805580   \n",
       "4.0       2.250266    76.287132             0.694147    307.0      90.558487   \n",
       "5.0       2.241251    75.143127             0.694414    307.0      74.793121   \n",
       "6.0       2.133674    51.186642             0.694275    307.0      74.793121   \n",
       "\n",
       "       train/l1_loss  train/loss_pred_epoch  train/acc  train/loss_rec_epoch  \\\n",
       "epoch                                                                          \n",
       "0.0         3.095616               0.700741   0.384365            714.084534   \n",
       "1.0         3.294314               0.700896   0.384365            258.496979   \n",
       "2.0         2.917630               0.700684   0.384365            193.276443   \n",
       "3.0         2.640393               0.700779   0.384365            152.411469   \n",
       "4.0         2.476734               0.700664   0.384365            127.709488   \n",
       "5.0         2.315039               0.700727   0.384365            109.518707   \n",
       "6.0         2.315039               0.700727   0.384365            109.518707   \n",
       "\n",
       "       train/auroc  \n",
       "epoch               \n",
       "0.0       0.469943  \n",
       "1.0       0.446045  \n",
       "2.0       0.550309  \n",
       "3.0       0.495795  \n",
       "4.0       0.557461  \n",
       "5.0       0.498918  \n",
       "6.0       0.498918  "
      ]
     },
     "metadata": {},
     "output_type": "display_data"
    }
   ],
   "source": [
    "net.ae_mode(0)\n",
    "trainer1 = pl.Trainer(\n",
    "    # precision=\"16-mixed\",\n",
    "    # gradient_clip_val=20,\n",
    "    accelerator=\"auto\",\n",
    "    devices=\"1\",\n",
    "    max_epochs=max_epochs,  # * VAE_EPOCH_MULT,\n",
    "    log_every_n_steps=1,\n",
    "    # enable_progress_bar=verbose,\n",
    "    # enable_model_summary=verbose,\n",
    ")\n",
    "\n",
    "# LOAD_CHECKPONT = Path('/media/wassname/SGIronWolf/projects5/elk/sgd_probes_are_lie_detectors/notebooks/lightning_logs/version_52/1_ae.ckpt')\n",
    "LOAD_CHECKPONT = None\n",
    "if LOAD_CHECKPONT:\n",
    "    PLAE.load_from_checkpoint(LOAD_CHECKPONT)\n",
    "else:\n",
    "    trainer1.fit(model=net, train_dataloaders=dl_train, val_dataloaders=dl_val)\n",
    "    df_hist, df_hist_step = read_metrics_csv(\n",
    "        trainer1.logger.experiment.metrics_file_path\n",
    "    )\n",
    "    plot_hist(df_hist, [\"l2_loss\", \"l1_loss\", \"loss_rec\"], logy=True)\n",
    "    # plt.show()\n",
    "    # plot_hist(df_hist_step, ['loss_rec_step'], logy=True)\n",
    "\n",
    "    display(df_hist)"
   ]
  },
  {
   "cell_type": "code",
   "execution_count": 61,
   "metadata": {},
   "outputs": [],
   "source": [
    "# plot_hist(df_hist, ['l2_loss', 'l1_loss', 'loss_rec'], logy=False)"
   ]
  },
  {
   "cell_type": "code",
   "execution_count": 62,
   "metadata": {},
   "outputs": [],
   "source": [
    "df_hist, df_hist_step = read_metrics_csv(trainer1.logger.experiment.metrics_file_path)"
   ]
  },
  {
   "cell_type": "code",
   "execution_count": 63,
   "metadata": {},
   "outputs": [],
   "source": [
    "# DEBUG: Check the LR\n",
    "# df_hist['lr-AdamW'].plot()"
   ]
  },
  {
   "cell_type": "code",
   "execution_count": 64,
   "metadata": {},
   "outputs": [],
   "source": [
    "# DEBUG check the decoder is still unit norm weights\n",
    "w = net.ae.decoder[0].linears[2].weight\n",
    "# assert w.norm(dim=0).mean().round(2)==1\n",
    "np.testing.assert_almost_equal(w.norm(dim=0).mean().detach().cpu(), 1, decimal=2)"
   ]
  },
  {
   "cell_type": "code",
   "execution_count": 65,
   "metadata": {},
   "outputs": [],
   "source": [
    "# df_hist[['train/l2_loss','train/l1_loss']]"
   ]
  },
  {
   "cell_type": "code",
   "execution_count": 66,
   "metadata": {},
   "outputs": [
    {
     "name": "stdout",
     "output_type": "stream",
     "text": [
      "l1 coeff should be approx 4.517045026164095 but is 15\n"
     ]
    }
   ],
   "source": [
    "ratio = df_hist[\"train/l2_loss\"] / df_hist[\"train/l1_loss\"]\n",
    "ratio = ratio[np.isfinite(ratio)]\n",
    "print(f\"l1 coeff should be approx {ratio.mean()/l1_coeff} but is {l1_coeff}\")\n",
    "\n",
    "\n",
    "# print(f\"% of latent is empty {((latent>0)*1.0).mean()}\")"
   ]
  },
  {
   "cell_type": "code",
   "execution_count": 67,
   "metadata": {},
   "outputs": [
    {
     "name": "stderr",
     "output_type": "stream",
     "text": [
      "LOCAL_RANK: 0 - CUDA_VISIBLE_DEVICES: [0,1]\n"
     ]
    },
    {
     "data": {
      "application/vnd.jupyter.widget-view+json": {
       "model_id": "f1c6b555c65a45fbac0dbc6520f93076",
       "version_major": 2,
       "version_minor": 0
      },
      "text/plain": [
       "Testing: |          | 0/? [00:00<?, ?it/s]"
      ]
     },
     "metadata": {},
     "output_type": "display_data"
    },
    {
     "name": "stdout",
     "output_type": "stream",
     "text": [
      "|                 |   train |     val |    test |     ood |\n",
      "|:----------------|--------:|--------:|--------:|--------:|\n",
      "| auroc           |   0.483 |   0.55  |   0.491 |   0.504 |\n",
      "| acc             |   0.384 |   0.487 |   0.494 |   0.437 |\n",
      "| loss_pred_epoch |   0.701 |   0.694 |   0.694 |   0.697 |\n",
      "| loss_rec_epoch  |  87.671 |  83.192 |  80.594 |  84.777 |\n",
      "| l1_loss         |   2.221 |   2.134 |   2.122 |   2.174 |\n",
      "| l2_loss         |  54.362 |  51.187 |  48.758 |  52.163 |\n",
      "| n               | 307     | 154     | 154     | 615     |\n"
     ]
    }
   ],
   "source": [
    "rs3r = trainer1.test(\n",
    "    net, dataloaders=[dl_train, dl_val, dl_test, dl_ood], verbose=False\n",
    ")\n",
    "rs3 = rename_pl_test_results(rs3r, [\"train\", \"val\", \"test\", \"ood\"])"
   ]
  },
  {
   "cell_type": "code",
   "execution_count": 68,
   "metadata": {},
   "outputs": [
    {
     "data": {
      "image/png": "[encoded data removed]",
      "text/plain": [
       "<Figure size 400x300 with 8 Axes>"
      ]
     },
     "metadata": {},
     "output_type": "display_data"
    },
    {
     "data": {
      "image/png": "[encoded data removed]",
      "text/plain": [
       "<Figure size 400x300 with 1 Axes>"
      ]
     },
     "metadata": {},
     "output_type": "display_data"
    }
   ],
   "source": [
    "latent = y[\"latent\"].cpu()  # .reshape(64, 24, 12) # [Batch, Latent, Layer]\n",
    "plot_latent(latent)"
   ]
  },
  {
   "cell_type": "code",
   "execution_count": 69,
   "metadata": {},
   "outputs": [
    {
     "data": {
      "text/plain": [
       "(torch.Size([32, 7, 20]), tensor(0.0827), tensor(0.0593), tensor(0.0836), 112)"
      ]
     },
     "execution_count": 69,
     "metadata": {},
     "output_type": "execute_result"
    }
   ],
   "source": [
    "latent.shape, latent.diff(dim=1).std(), latent.std(), latent.diff(dim=2).std(), 16 * 7"
   ]
  },
  {
   "cell_type": "code",
   "execution_count": 70,
   "metadata": {},
   "outputs": [
    {
     "data": {
      "text/plain": [
       "tensor(0.4938)"
      ]
     },
     "execution_count": 70,
     "metadata": {},
     "output_type": "execute_result"
    }
   ],
   "source": [
    "((latent > 0) * 1.0).mean()"
   ]
  },
  {
   "cell_type": "code",
   "execution_count": null,
   "metadata": {},
   "outputs": [],
   "source": []
  },
  {
   "cell_type": "markdown",
   "metadata": {},
   "source": [
    "### Train probe"
   ]
  },
  {
   "cell_type": "code",
   "execution_count": 71,
   "metadata": {},
   "outputs": [
    {
     "name": "stderr",
     "output_type": "stream",
     "text": [
      "LOCAL_RANK: 0 - CUDA_VISIBLE_DEVICES: [0,1]\n"
     ]
    },
    {
     "name": "stdout",
     "output_type": "stream",
     "text": [
      "training probe\n",
      "requires_grad: False\n"
     ]
    },
    {
     "name": "stderr",
     "output_type": "stream",
     "text": [
      "/media/wassname/SGIronWolf/projects5/elk/sgd_probes_are_lie_detectors/.venv/lib/python3.11/site-packages/lightning/pytorch/trainer/call.py:54: Detected KeyboardInterrupt, attempting graceful shutdown...\n"
     ]
    }
   ],
   "source": [
    "net.ae_mode(1)\n",
    "trainer2 = pl.Trainer(\n",
    "    # precision=\"16-mixed\",\n",
    "    gradient_clip_val=20,\n",
    "    max_epochs=max_epochs,\n",
    "    log_every_n_steps=1,\n",
    "    # enable_progress_bar=verbose,\n",
    "    enable_model_summary=verbose,\n",
    "    # callbacks=[lr_logger],\n",
    ")\n",
    "trainer2.fit(model=net, train_dataloaders=dl_train, val_dataloaders=dl_val);"
   ]
  },
  {
   "cell_type": "code",
   "execution_count": null,
   "metadata": {},
   "outputs": [],
   "source": []
  },
  {
   "cell_type": "code",
   "execution_count": 72,
   "metadata": {},
   "outputs": [
    {
     "data": {
      "image/png": "[encoded data removed]",
      "text/plain": [
       "<Figure size 500x200 with 1 Axes>"
      ]
     },
     "metadata": {},
     "output_type": "display_data"
    },
    {
     "data": {
      "image/png": "[encoded data removed]",
      "text/plain": [
       "<Figure size 500x200 with 1 Axes>"
      ]
     },
     "metadata": {},
     "output_type": "display_data"
    },
    {
     "data": {
      "text/html": [
       "<div>\n",
       "<style scoped>\n",
       "    .dataframe tbody tr th:only-of-type {\n",
       "        vertical-align: middle;\n",
       "    }\n",
       "\n",
       "    .dataframe tbody tr th {\n",
       "        vertical-align: top;\n",
       "    }\n",
       "\n",
       "    .dataframe thead th {\n",
       "        text-align: right;\n",
       "    }\n",
       "</style>\n",
       "<table border=\"1\" class=\"dataframe\">\n",
       "  <thead>\n",
       "    <tr style=\"text-align: right;\">\n",
       "      <th></th>\n",
       "      <th>train/loss_pred_step</th>\n",
       "      <th>step</th>\n",
       "      <th>train/loss_rec_step</th>\n",
       "      <th>val/loss_rec_step</th>\n",
       "      <th>val/loss_pred_step</th>\n",
       "      <th>val/auroc</th>\n",
       "      <th>val/n</th>\n",
       "      <th>val/acc</th>\n",
       "      <th>val/loss_rec_epoch</th>\n",
       "      <th>val/l1_loss</th>\n",
       "      <th>val/l2_loss</th>\n",
       "      <th>val/loss_pred_epoch</th>\n",
       "      <th>train/n</th>\n",
       "      <th>train/l2_loss</th>\n",
       "      <th>train/l1_loss</th>\n",
       "      <th>train/loss_pred_epoch</th>\n",
       "      <th>train/acc</th>\n",
       "      <th>train/loss_rec_epoch</th>\n",
       "      <th>train/auroc</th>\n",
       "    </tr>\n",
       "    <tr>\n",
       "      <th>epoch</th>\n",
       "      <th></th>\n",
       "      <th></th>\n",
       "      <th></th>\n",
       "      <th></th>\n",
       "      <th></th>\n",
       "      <th></th>\n",
       "      <th></th>\n",
       "      <th></th>\n",
       "      <th></th>\n",
       "      <th></th>\n",
       "      <th></th>\n",
       "      <th></th>\n",
       "      <th></th>\n",
       "      <th></th>\n",
       "      <th></th>\n",
       "      <th></th>\n",
       "      <th></th>\n",
       "      <th></th>\n",
       "      <th></th>\n",
       "    </tr>\n",
       "  </thead>\n",
       "  <tbody>\n",
       "    <tr>\n",
       "      <th>0.0</th>\n",
       "      <td>0.691808</td>\n",
       "      <td>9</td>\n",
       "      <td>75.461929</td>\n",
       "      <td>69.552132</td>\n",
       "      <td>0.696941</td>\n",
       "      <td>0.510150</td>\n",
       "      <td>154.0</td>\n",
       "      <td>0.493506</td>\n",
       "      <td>83.180885</td>\n",
       "      <td>2.135298</td>\n",
       "      <td>51.151417</td>\n",
       "      <td>0.693401</td>\n",
       "      <td>307.0</td>\n",
       "      <td>53.454334</td>\n",
       "      <td>2.210154</td>\n",
       "      <td>0.698786</td>\n",
       "      <td>0.384365</td>\n",
       "      <td>86.606636</td>\n",
       "      <td>0.531669</td>\n",
       "    </tr>\n",
       "    <tr>\n",
       "      <th>1.0</th>\n",
       "      <td>0.691710</td>\n",
       "      <td>19</td>\n",
       "      <td>75.446884</td>\n",
       "      <td>69.545502</td>\n",
       "      <td>0.690837</td>\n",
       "      <td>0.493986</td>\n",
       "      <td>154.0</td>\n",
       "      <td>0.584416</td>\n",
       "      <td>83.173508</td>\n",
       "      <td>2.135852</td>\n",
       "      <td>51.135731</td>\n",
       "      <td>0.692884</td>\n",
       "      <td>307.0</td>\n",
       "      <td>53.439701</td>\n",
       "      <td>2.210154</td>\n",
       "      <td>0.693978</td>\n",
       "      <td>0.410423</td>\n",
       "      <td>86.592010</td>\n",
       "      <td>0.630410</td>\n",
       "    </tr>\n",
       "    <tr>\n",
       "      <th>2.0</th>\n",
       "      <td>0.692341</td>\n",
       "      <td>29</td>\n",
       "      <td>75.441650</td>\n",
       "      <td>69.543213</td>\n",
       "      <td>0.683581</td>\n",
       "      <td>0.496698</td>\n",
       "      <td>154.0</td>\n",
       "      <td>0.512987</td>\n",
       "      <td>83.170990</td>\n",
       "      <td>2.136047</td>\n",
       "      <td>51.130287</td>\n",
       "      <td>0.692657</td>\n",
       "      <td>307.0</td>\n",
       "      <td>53.434639</td>\n",
       "      <td>2.210154</td>\n",
       "      <td>0.688985</td>\n",
       "      <td>0.631922</td>\n",
       "      <td>86.586952</td>\n",
       "      <td>0.633248</td>\n",
       "    </tr>\n",
       "    <tr>\n",
       "      <th>3.0</th>\n",
       "      <td>0.693728</td>\n",
       "      <td>39</td>\n",
       "      <td>75.439827</td>\n",
       "      <td>69.542427</td>\n",
       "      <td>0.673785</td>\n",
       "      <td>0.502934</td>\n",
       "      <td>154.0</td>\n",
       "      <td>0.512987</td>\n",
       "      <td>83.170113</td>\n",
       "      <td>2.136115</td>\n",
       "      <td>51.128395</td>\n",
       "      <td>0.693013</td>\n",
       "      <td>307.0</td>\n",
       "      <td>53.432880</td>\n",
       "      <td>2.210154</td>\n",
       "      <td>0.682917</td>\n",
       "      <td>0.615635</td>\n",
       "      <td>86.585190</td>\n",
       "      <td>0.635235</td>\n",
       "    </tr>\n",
       "    <tr>\n",
       "      <th>4.0</th>\n",
       "      <td>0.696923</td>\n",
       "      <td>49</td>\n",
       "      <td>75.439194</td>\n",
       "      <td>69.542152</td>\n",
       "      <td>0.660019</td>\n",
       "      <td>0.513144</td>\n",
       "      <td>154.0</td>\n",
       "      <td>0.512987</td>\n",
       "      <td>83.169807</td>\n",
       "      <td>2.136138</td>\n",
       "      <td>51.127731</td>\n",
       "      <td>0.695451</td>\n",
       "      <td>307.0</td>\n",
       "      <td>53.432270</td>\n",
       "      <td>2.210154</td>\n",
       "      <td>0.675080</td>\n",
       "      <td>0.615635</td>\n",
       "      <td>86.584579</td>\n",
       "      <td>0.639547</td>\n",
       "    </tr>\n",
       "    <tr>\n",
       "      <th>...</th>\n",
       "      <td>...</td>\n",
       "      <td>...</td>\n",
       "      <td>...</td>\n",
       "      <td>...</td>\n",
       "      <td>...</td>\n",
       "      <td>...</td>\n",
       "      <td>...</td>\n",
       "      <td>...</td>\n",
       "      <td>...</td>\n",
       "      <td>...</td>\n",
       "      <td>...</td>\n",
       "      <td>...</td>\n",
       "      <td>...</td>\n",
       "      <td>...</td>\n",
       "      <td>...</td>\n",
       "      <td>...</td>\n",
       "      <td>...</td>\n",
       "      <td>...</td>\n",
       "      <td>...</td>\n",
       "    </tr>\n",
       "    <tr>\n",
       "      <th>86.0</th>\n",
       "      <td>0.000097</td>\n",
       "      <td>869</td>\n",
       "      <td>75.438850</td>\n",
       "      <td>69.542007</td>\n",
       "      <td>1.670655</td>\n",
       "      <td>0.808666</td>\n",
       "      <td>154.0</td>\n",
       "      <td>0.694805</td>\n",
       "      <td>83.169640</td>\n",
       "      <td>2.136151</td>\n",
       "      <td>51.127380</td>\n",
       "      <td>1.653763</td>\n",
       "      <td>307.0</td>\n",
       "      <td>53.431938</td>\n",
       "      <td>2.210154</td>\n",
       "      <td>0.000448</td>\n",
       "      <td>1.000000</td>\n",
       "      <td>86.584251</td>\n",
       "      <td>1.000000</td>\n",
       "    </tr>\n",
       "    <tr>\n",
       "      <th>87.0</th>\n",
       "      <td>0.000068</td>\n",
       "      <td>879</td>\n",
       "      <td>75.438850</td>\n",
       "      <td>69.542007</td>\n",
       "      <td>1.685022</td>\n",
       "      <td>0.806748</td>\n",
       "      <td>154.0</td>\n",
       "      <td>0.694805</td>\n",
       "      <td>83.169640</td>\n",
       "      <td>2.136151</td>\n",
       "      <td>51.127380</td>\n",
       "      <td>1.681476</td>\n",
       "      <td>307.0</td>\n",
       "      <td>53.431938</td>\n",
       "      <td>2.210154</td>\n",
       "      <td>0.000320</td>\n",
       "      <td>1.000000</td>\n",
       "      <td>86.584251</td>\n",
       "      <td>1.000000</td>\n",
       "    </tr>\n",
       "    <tr>\n",
       "      <th>88.0</th>\n",
       "      <td>0.000051</td>\n",
       "      <td>889</td>\n",
       "      <td>75.438850</td>\n",
       "      <td>69.542007</td>\n",
       "      <td>1.691222</td>\n",
       "      <td>0.805933</td>\n",
       "      <td>154.0</td>\n",
       "      <td>0.694805</td>\n",
       "      <td>83.169640</td>\n",
       "      <td>2.136151</td>\n",
       "      <td>51.127380</td>\n",
       "      <td>1.702431</td>\n",
       "      <td>307.0</td>\n",
       "      <td>53.431938</td>\n",
       "      <td>2.210154</td>\n",
       "      <td>0.000230</td>\n",
       "      <td>1.000000</td>\n",
       "      <td>86.584251</td>\n",
       "      <td>1.000000</td>\n",
       "    </tr>\n",
       "    <tr>\n",
       "      <th>89.0</th>\n",
       "      <td>0.000040</td>\n",
       "      <td>899</td>\n",
       "      <td>75.438850</td>\n",
       "      <td>69.542007</td>\n",
       "      <td>1.702429</td>\n",
       "      <td>0.805933</td>\n",
       "      <td>154.0</td>\n",
       "      <td>0.694805</td>\n",
       "      <td>83.169640</td>\n",
       "      <td>2.136151</td>\n",
       "      <td>51.127380</td>\n",
       "      <td>1.726821</td>\n",
       "      <td>307.0</td>\n",
       "      <td>53.431938</td>\n",
       "      <td>2.210154</td>\n",
       "      <td>0.000174</td>\n",
       "      <td>1.000000</td>\n",
       "      <td>86.584251</td>\n",
       "      <td>1.000000</td>\n",
       "    </tr>\n",
       "    <tr>\n",
       "      <th>90.0</th>\n",
       "      <td>0.000044</td>\n",
       "      <td>900</td>\n",
       "      <td>87.712524</td>\n",
       "      <td>69.542007</td>\n",
       "      <td>1.702429</td>\n",
       "      <td>0.805933</td>\n",
       "      <td>154.0</td>\n",
       "      <td>0.694805</td>\n",
       "      <td>83.169640</td>\n",
       "      <td>2.136151</td>\n",
       "      <td>51.127380</td>\n",
       "      <td>1.726821</td>\n",
       "      <td>307.0</td>\n",
       "      <td>53.431938</td>\n",
       "      <td>2.210154</td>\n",
       "      <td>0.000174</td>\n",
       "      <td>1.000000</td>\n",
       "      <td>86.584251</td>\n",
       "      <td>1.000000</td>\n",
       "    </tr>\n",
       "  </tbody>\n",
       "</table>\n",
       "<p>91 rows × 19 columns</p>\n",
       "</div>"
      ],
      "text/plain": [
       "       train/loss_pred_step  step  train/loss_rec_step  val/loss_rec_step  \\\n",
       "epoch                                                                       \n",
       "0.0                0.691808     9            75.461929          69.552132   \n",
       "1.0                0.691710    19            75.446884          69.545502   \n",
       "2.0                0.692341    29            75.441650          69.543213   \n",
       "3.0                0.693728    39            75.439827          69.542427   \n",
       "4.0                0.696923    49            75.439194          69.542152   \n",
       "...                     ...   ...                  ...                ...   \n",
       "86.0               0.000097   869            75.438850          69.542007   \n",
       "87.0               0.000068   879            75.438850          69.542007   \n",
       "88.0               0.000051   889            75.438850          69.542007   \n",
       "89.0               0.000040   899            75.438850          69.542007   \n",
       "90.0               0.000044   900            87.712524          69.542007   \n",
       "\n",
       "       val/loss_pred_step  val/auroc  val/n   val/acc  val/loss_rec_epoch  \\\n",
       "epoch                                                                       \n",
       "0.0              0.696941   0.510150  154.0  0.493506           83.180885   \n",
       "1.0              0.690837   0.493986  154.0  0.584416           83.173508   \n",
       "2.0              0.683581   0.496698  154.0  0.512987           83.170990   \n",
       "3.0              0.673785   0.502934  154.0  0.512987           83.170113   \n",
       "4.0              0.660019   0.513144  154.0  0.512987           83.169807   \n",
       "...                   ...        ...    ...       ...                 ...   \n",
       "86.0             1.670655   0.808666  154.0  0.694805           83.169640   \n",
       "87.0             1.685022   0.806748  154.0  0.694805           83.169640   \n",
       "88.0             1.691222   0.805933  154.0  0.694805           83.169640   \n",
       "89.0             1.702429   0.805933  154.0  0.694805           83.169640   \n",
       "90.0             1.702429   0.805933  154.0  0.694805           83.169640   \n",
       "\n",
       "       val/l1_loss  val/l2_loss  val/loss_pred_epoch  train/n  train/l2_loss  \\\n",
       "epoch                                                                          \n",
       "0.0       2.135298    51.151417             0.693401    307.0      53.454334   \n",
       "1.0       2.135852    51.135731             0.692884    307.0      53.439701   \n",
       "2.0       2.136047    51.130287             0.692657    307.0      53.434639   \n",
       "3.0       2.136115    51.128395             0.693013    307.0      53.432880   \n",
       "4.0       2.136138    51.127731             0.695451    307.0      53.432270   \n",
       "...            ...          ...                  ...      ...            ...   \n",
       "86.0      2.136151    51.127380             1.653763    307.0      53.431938   \n",
       "87.0      2.136151    51.127380             1.681476    307.0      53.431938   \n",
       "88.0      2.136151    51.127380             1.702431    307.0      53.431938   \n",
       "89.0      2.136151    51.127380             1.726821    307.0      53.431938   \n",
       "90.0      2.136151    51.127380             1.726821    307.0      53.431938   \n",
       "\n",
       "       train/l1_loss  train/loss_pred_epoch  train/acc  train/loss_rec_epoch  \\\n",
       "epoch                                                                          \n",
       "0.0         2.210154               0.698786   0.384365             86.606636   \n",
       "1.0         2.210154               0.693978   0.410423             86.592010   \n",
       "2.0         2.210154               0.688985   0.631922             86.586952   \n",
       "3.0         2.210154               0.682917   0.615635             86.585190   \n",
       "4.0         2.210154               0.675080   0.615635             86.584579   \n",
       "...              ...                    ...        ...                   ...   \n",
       "86.0        2.210154               0.000448   1.000000             86.584251   \n",
       "87.0        2.210154               0.000320   1.000000             86.584251   \n",
       "88.0        2.210154               0.000230   1.000000             86.584251   \n",
       "89.0        2.210154               0.000174   1.000000             86.584251   \n",
       "90.0        2.210154               0.000174   1.000000             86.584251   \n",
       "\n",
       "       train/auroc  \n",
       "epoch               \n",
       "0.0       0.531669  \n",
       "1.0       0.630410  \n",
       "2.0       0.633248  \n",
       "3.0       0.635235  \n",
       "4.0       0.639547  \n",
       "...            ...  \n",
       "86.0      1.000000  \n",
       "87.0      1.000000  \n",
       "88.0      1.000000  \n",
       "89.0      1.000000  \n",
       "90.0      1.000000  \n",
       "\n",
       "[91 rows x 19 columns]"
      ]
     },
     "execution_count": 72,
     "metadata": {},
     "output_type": "execute_result"
    }
   ],
   "source": [
    "df_hist, _ = read_metrics_csv(trainer2.logger.experiment.metrics_file_path)\n",
    "plot_hist(df_hist, [\"loss_pred_epoch\", \"auroc\"])\n",
    "df_hist"
   ]
  },
  {
   "cell_type": "code",
   "execution_count": 73,
   "metadata": {},
   "outputs": [
    {
     "name": "stderr",
     "output_type": "stream",
     "text": [
      "LOCAL_RANK: 0 - CUDA_VISIBLE_DEVICES: [0,1]\n"
     ]
    },
    {
     "name": "stdout",
     "output_type": "stream",
     "text": [
      "|                 |   train |     val |    test |     ood |\n",
      "|:----------------|--------:|--------:|--------:|--------:|\n",
      "| auroc           |   0.996 |   0.81  |   0.859 |   0.916 |\n",
      "| acc             |   0.98  |   0.695 |   0.747 |   0.85  |\n",
      "| loss_pred_epoch |   0.076 |   1.728 |   1.505 |   0.847 |\n",
      "| loss_rec_epoch  |  87.414 |  83.291 |  80.446 |  84.637 |\n",
      "| l1_loss         |   2.227 |   2.14  |   2.128 |   2.18  |\n",
      "| l2_loss         |  54.012 |  51.193 |  48.529 |  51.933 |\n",
      "| n               | 307     | 154     | 154     | 615     |\n"
     ]
    }
   ],
   "source": [
    "rs3r = trainer2.test(\n",
    "    net, dataloaders=[dl_train, dl_val, dl_test, dl_ood], verbose=False\n",
    ")\n",
    "rs3 = rename_pl_test_results(rs3r, [\"train\", \"val\", \"test\", \"ood\"])"
   ]
  },
  {
   "cell_type": "code",
   "execution_count": null,
   "metadata": {},
   "outputs": [],
   "source": []
  },
  {
   "cell_type": "code",
   "execution_count": null,
   "metadata": {},
   "outputs": [],
   "source": [
    "a = calc_metrics(dm, net, split=\"test\", verbose=False)\n",
    "b = calc_metrics(dm, net, split=\"val\", verbose=False)\n",
    "c = calc_metrics(dm_ood, net, split=\"all\", verbose=False)\n",
    "df_metrics = pd.DataFrame([a, b, c], index=[\"test\", \"val\", \"ood\"]).iloc[:, :3]\n",
    "print(df_metrics.round(2).to_markdown())\n",
    "df_metrics"
   ]
  },
  {
   "cell_type": "markdown",
   "metadata": {},
   "source": [
    "### Train end-to-end\n"
   ]
  },
  {
   "cell_type": "code",
   "execution_count": null,
   "metadata": {},
   "outputs": [],
   "source": [
    "1 / 0"
   ]
  },
  {
   "cell_type": "code",
   "execution_count": null,
   "metadata": {},
   "outputs": [],
   "source": [
    "net.ae_mode(2)\n",
    "trainer3 = pl.Trainer(\n",
    "    precision=\"16-mixed\",\n",
    "    gradient_clip_val=20,\n",
    "    max_epochs=max_epochs,\n",
    "    log_every_n_steps=3,\n",
    "    # enable_progress_bar=False, enable_model_summary=False\n",
    ")\n",
    "trainer3.fit(model=net, train_dataloaders=dl_train, val_dataloaders=dl_val)\n",
    "1"
   ]
  },
  {
   "cell_type": "code",
   "execution_count": null,
   "metadata": {},
   "outputs": [],
   "source": [
    "# ds2df(dm.dm_orig)\n"
   ]
  },
  {
   "cell_type": "code",
   "execution_count": null,
   "metadata": {},
   "outputs": [],
   "source": [
    "# look at hist\n",
    "df_hist, _ = read_metrics_csv(trainer3.logger.experiment.metrics_file_path)\n",
    "plot_hist(df_hist, [\"loss_pred\", \"acc\"])\n",
    "\n",
    "rs3r = trainer3.test(\n",
    "    net, dataloaders=[dl_train, dl_val, dl_test, dl_ood], verbose=False\n",
    ")\n",
    "rs3 = rename_pl_test_results(rs3r, [\"train\", \"val\", \"test\", \"ood\"])\n",
    "\n",
    "# predict\n",
    "a = calc_metrics(dm, net, trainer1, \"test\")\n",
    "b = calc_metrics(dm, net, trainer1, \"val\")\n",
    "pd.DataFrame([a, b], index=[\"test\", \"val\"])\n",
    "\n",
    "c = calc_metrics(dm_ood, net, trainer1, \"all\")\n",
    "pd.DataFrame([a, b, c], index=[\"test\", \"val\", \"ood\"])"
   ]
  },
  {
   "cell_type": "code",
   "execution_count": null,
   "metadata": {},
   "outputs": [],
   "source": [
    "a = calc_metrics(dm, net, trainer1, \"test\")\n",
    "b = calc_metrics(dm, net, trainer1, \"val\")\n",
    "c = calc_metrics(dm_ood, net, trainer1, \"all\")\n",
    "df_metrics = pd.DataFrame([a, b, c], index=[\"test\", \"val\", \"ood\"]).iloc[:, :3]\n",
    "print(df_metrics.round(3).to_markdown())\n",
    "df_metrics"
   ]
  },
  {
   "cell_type": "code",
   "execution_count": null,
   "metadata": {},
   "outputs": [],
   "source": []
  },
  {
   "cell_type": "code",
   "execution_count": null,
   "metadata": {},
   "outputs": [],
   "source": []
  },
  {
   "cell_type": "code",
   "execution_count": null,
   "metadata": {},
   "outputs": [],
   "source": []
  },
  {
   "cell_type": "code",
   "execution_count": null,
   "metadata": {},
   "outputs": [],
   "source": []
  }
 ],
 "metadata": {
  "kernelspec": {
   "display_name": ".venv",
   "language": "python",
   "name": "python3"
  },
  "language_info": {
   "codemirror_mode": {
    "name": "ipython",
    "version": 3
   },
   "file_extension": ".py",
   "mimetype": "text/x-python",
   "name": "python",
   "nbconvert_exporter": "python",
   "pygments_lexer": "ipython3",
   "version": "3.11.0rc1"
  }
 },
 "nbformat": 4,
 "nbformat_minor": 2
}
