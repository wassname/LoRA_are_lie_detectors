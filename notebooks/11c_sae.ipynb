{
 "cells": [
  {
   "cell_type": "markdown",
   "metadata": {},
   "source": [
    "# Trying a sparse 1 layer autoencoder, then a probe"
   ]
  },
  {
   "cell_type": "markdown",
   "metadata": {},
   "source": []
  },
  {
   "cell_type": "code",
   "execution_count": 1,
   "metadata": {},
   "outputs": [],
   "source": [
    "import os\n",
    "import numpy as np\n",
    "import pandas as pd\n",
    "from matplotlib import pyplot as plt\n",
    "from tqdm.auto import tqdm\n",
    "\n",
    "\n",
    "\n",
    "from typing import Optional, List, Dict, Union\n",
    "from jaxtyping import Float\n",
    "from torch import Tensor\n",
    "\n",
    "import torch\n",
    "import torch.nn as nn\n",
    "import torch.nn.functional as F\n",
    "\n",
    "from torch import Tensor\n",
    "from torch import optim\n",
    "from torch.utils.data import random_split, DataLoader, TensorDataset\n",
    "\n",
    "from pathlib import Path\n",
    "from einops import rearrange\n",
    "\n",
    "import transformers\n",
    "from transformers import (\n",
    "    AutoTokenizer,\n",
    "    AutoModelForCausalLM,\n",
    "    BitsAndBytesConfig,\n",
    "    AutoConfig,\n",
    ")\n",
    "from peft import (\n",
    "    get_peft_config,\n",
    "    get_peft_model,\n",
    "    LoraConfig,\n",
    "    TaskType,\n",
    "    LoftQConfig,\n",
    "    IA3Config,\n",
    ")\n",
    "from pathlib import Path\n",
    "import datasets\n",
    "from datasets import Dataset\n",
    "\n",
    "from loguru import logger\n",
    "\n",
    "logger.add(os.sys.stderr, format=\"{time} {level} {message}\", level=\"INFO\")\n",
    "\n",
    "# load my code\n",
    "%load_ext autoreload\n",
    "%autoreload 2\n",
    "\n",
    "import lightning.pytorch as pl\n",
    "\n",
    "from src.config import ExtractConfig\n",
    "from src.llms.load import load_model\n",
    "from src.helpers.torch_helpers import clear_mem\n",
    "from src.llms.phi.model_phi import PhiForCausalLMWHS\n",
    "from src.eval.ds import filter_ds_to_known\n",
    "from src.datasets.act_dm import ActivationDataModule\n",
    "\n",
    "# plt.style.use(\"ggplot\")\n",
    "# plt.style.use(\"seaborn-v0_8\")\n",
    "import seaborn as sns\n",
    "sns.set_theme('paper')\n"
   ]
  },
  {
   "cell_type": "markdown",
   "metadata": {},
   "source": [
    "## Paramsnet\n"
   ]
  },
  {
   "cell_type": "code",
   "execution_count": 2,
   "metadata": {},
   "outputs": [],
   "source": [
    "# params\n",
    "\n",
    "# cfg = ExtractConfig(\n",
    "#     # model=\"microsoft/phi-2\",\n",
    "#     # # batch_size=1,\n",
    "#     # prompt_format=\"phi\",\n",
    "# )\n",
    "# cfg\n",
    "\n",
    "# params\n",
    "batch_size = 32\n",
    "lr = 1e-3 # at 3e-4 I get nan\n",
    "wd = 0 # 1e-5\n",
    "\n",
    "MAX_ROWS = 2000\n",
    "\n",
    "SKIP=5 # skip initial N layers\n",
    "STRIDE=4 # skip every N layers\n",
    "DECIMATE=1 # discard N features for speed\n",
    "\n",
    "device = \"cuda:0\"\n",
    "max_epochs = 44\n",
    "\n",
    "l1_coeff = 0.5 # 0.5  # neel uses 3e-4 ! https://github.dev/neelnanda-io/1L-Sparse-Autoencoder/blob/bcae01328a2f41d24bd4a9160828f2fc22737f75/utils.py#L106, but them they sum l1 where mean l2\n",
    "    # x_feats=x_feats. other use 1e-1\n",
    "\n",
    "\n",
    "BASE_FOLDER = Path(\"/media/wassname/SGIronWolf/projects5/elk/sgd_probes_are_lie_detectors/notebooks/lightning_logs/version_24/\")\n",
    "layers_names = (\n",
    "    'fc1', 'Wqkv',\n",
    "                 'fc2', 'out_proj')"
   ]
  },
  {
   "cell_type": "markdown",
   "metadata": {},
   "source": [
    "## Load data"
   ]
  },
  {
   "cell_type": "code",
   "execution_count": 3,
   "metadata": {},
   "outputs": [
    {
     "data": {
      "text/plain": [
       "(PosixPath('/media/wassname/SGIronWolf/projects5/elk/sgd_probes_are_lie_detectors/notebooks/lightning_logs/version_24/hidden_states/.ds/ds_valtest_8b8fd6070504d5ef'),\n",
       " PosixPath('/media/wassname/SGIronWolf/projects5/elk/sgd_probes_are_lie_detectors/notebooks/lightning_logs/version_24/hidden_states/.ds/ds_OOD_a41d3a61513ade30'))"
      ]
     },
     "execution_count": 3,
     "metadata": {},
     "output_type": "execute_result"
    }
   ],
   "source": [
    "# load hidden state from a previously loaded adapter\n",
    "# the columns with _base are from the base model, and adapt from adapter\n",
    "# FROM TRAINING TRUTH\n",
    "f1_val = next(iter(BASE_FOLDER.glob('hidden_states/.ds/ds_valtest_*')))\n",
    "f1_ood = next(iter(BASE_FOLDER.glob('hidden_states/.ds/ds_OOD_*')))\n",
    "f1_val, f1_ood"
   ]
  },
  {
   "cell_type": "code",
   "execution_count": null,
   "metadata": {},
   "outputs": [],
   "source": []
  },
  {
   "cell_type": "code",
   "execution_count": 4,
   "metadata": {},
   "outputs": [],
   "source": [
    "# # insample_datasets = list(set(ds_val['ds_string_base']))\n",
    "# # outsample_datasets = list(set(ds_ood['ds_string_base']))\n",
    "# # print(insample_datasets, outsample_datasets)\n",
    "# from src.datasets.act_dm import ActivationDataModule, SharedDataset\n",
    "\n",
    "\n",
    "# class ActivationDataModule2(ActivationDataModule):\n",
    "#     def to_tds(self, ds, name):\n",
    "#         \"\"\"huggingface dataset to pytorch.\"\"\"\n",
    "#         h = self.hparams\n",
    "#         # 4x faster if we make it a tensor ourselves\n",
    "#         ds = ds.with_format(None)\n",
    "#         tds = torch.utils.data.TensorDataset(\n",
    "#             torch.FloatTensor(ds['X'][..., 0]), torch.FloatTensor(ds['y']))\n",
    "        \n",
    "#         # this shared dataset is 10x faster with multiple workers\n",
    "#         if h.num_workers>0: \n",
    "#             tds = SharedDataset(tds, f\"{self.hparams.name}_{name}\") \n",
    "#         return tds"
   ]
  },
  {
   "cell_type": "code",
   "execution_count": 5,
   "metadata": {},
   "outputs": [
    {
     "name": "stdout",
     "output_type": "stream",
     "text": [
      "select rows are 74.39% based on knowledge\n"
     ]
    },
    {
     "data": {
      "application/vnd.jupyter.widget-view+json": {
       "model_id": "213c01fd9d934fe88f2b23bb404e1dff",
       "version_major": 2,
       "version_minor": 0
      },
      "text/plain": [
       "Map:   0%|          | 0/615 [00:00<?, ? examples/s]"
      ]
     },
     "metadata": {},
     "output_type": "display_data"
    },
    {
     "name": "stderr",
     "output_type": "stream",
     "text": [
      "\u001b[32m2024-01-07 13:48:19.483\u001b[0m | \u001b[1mINFO    \u001b[0m | \u001b[36msrc.datasets.act_dm\u001b[0m:\u001b[36msetup\u001b[0m:\u001b[36m64\u001b[0m - \u001b[1mconverting datasets this may take a while... ds_valtest_8b8fd6070504d5ef train\u001b[0m\n",
      "2024-01-07T13:48:19.483993+0800 INFO converting datasets this may take a while... ds_valtest_8b8fd6070504d5ef train\n"
     ]
    },
    {
     "name": "stdout",
     "output_type": "stream",
     "text": [
      "select rows are 74.39% based on knowledge\n"
     ]
    },
    {
     "data": {
      "application/vnd.jupyter.widget-view+json": {
       "model_id": "82af8d60225341b2b611e5bc12b0f1c8",
       "version_major": 2,
       "version_minor": 0
      },
      "text/plain": [
       "Map:   0%|          | 0/615 [00:00<?, ? examples/s]"
      ]
     },
     "metadata": {},
     "output_type": "display_data"
    },
    {
     "name": "stderr",
     "output_type": "stream",
     "text": [
      "\u001b[32m2024-01-07 13:48:50.822\u001b[0m | \u001b[1mINFO    \u001b[0m | \u001b[36msrc.datasets.act_dm\u001b[0m:\u001b[36msetup\u001b[0m:\u001b[36m64\u001b[0m - \u001b[1mconverting datasets this may take a while... ds_OOD_a41d3a61513ade30 all\u001b[0m\n",
      "2024-01-07T13:48:50.822504+0800 INFO converting datasets this may take a while... ds_OOD_a41d3a61513ade30 all\n"
     ]
    },
    {
     "name": "stdout",
     "output_type": "stream",
     "text": [
      "making shared dataset with unique name all\n"
     ]
    }
   ],
   "source": [
    "input_columns = ['binary_ans_base', 'binary_ans_adapt' ] + [f'end_residual_{layer}_base' for layer in layers_names] + [f'end_residual_{layer}_adapt' for layer in layers_names]\n",
    "\n",
    "def ds2xy_batched(ds):\n",
    "    data = []\n",
    "    for layer in layers_names:\n",
    "        # Stack the base and adapter representations as a 4th dim\n",
    "        X1 = [ds[f'end_residual_{layer}_base'], ds[f'end_residual_{layer}_adapt']]\n",
    "        X1 = rearrange(X1, 'versions b l f  -> b l f versions')[..., 0]\n",
    "        data.append(X1)\n",
    "    \n",
    "    # concat layers\n",
    "    # x = rearrange(data, 'b parts l f v -> b l (parts f) v')\n",
    "    X = torch.concat(data, dim=2)[:, SKIP::STRIDE, ::DECIMATE]\n",
    "\n",
    "    y = ds['binary_ans_base']-ds['binary_ans_adapt']\n",
    "    return dict(X=X, y=y)\n",
    "\n",
    "\n",
    "\n",
    "def prepare_ds(ds):\n",
    "    \"\"\"\n",
    "    prepare a dataset for training\n",
    "\n",
    "    this should front load much of the computation\n",
    "    it should restrict it to the needed rows X and y\n",
    "    \n",
    "    \"\"\"\n",
    "    ds = (ds\n",
    "          .with_format(\"torch\")\n",
    "          .select_columns(input_columns)\n",
    "          .map(ds2xy_batched, batched=True, batch_size=128,\n",
    "        remove_columns=input_columns)\n",
    "    )\n",
    "    return ds\n",
    "\n",
    "def load_file_to_dm(f, stage):\n",
    "    ds1 = Dataset.from_file(str(f1_val), in_memory=True).with_format(\"torch\")\n",
    "    ds1 = filter_ds_to_known(ds1, verbose=True, true_col='truth')\n",
    "    ds = prepare_ds(ds1)\n",
    "\n",
    "    # limit size\n",
    "    MAX_SAMPLES = min(len(ds), MAX_ROWS*2)\n",
    "    ds = ds.select(range(0, MAX_SAMPLES))\n",
    "\n",
    "    dm = ActivationDataModule(ds, f.stem, batch_size=batch_size, num_workers=0)\n",
    "    dm.setup(stage)\n",
    "    dm.dm_orig = ds1\n",
    "    return dm\n",
    "\n",
    "\n",
    "dm = load_file_to_dm(f1_val, 'train')\n",
    "dm_ood = load_file_to_dm(f1_ood, 'all')"
   ]
  },
  {
   "cell_type": "code",
   "execution_count": null,
   "metadata": {},
   "outputs": [],
   "source": []
  },
  {
   "cell_type": "code",
   "execution_count": 6,
   "metadata": {},
   "outputs": [],
   "source": [
    "\n",
    "dl_train = dm.train_dataloader()\n",
    "dl_val = dm.val_dataloader()\n",
    "dl_test = dm.test_dataloader()\n",
    "dl_ood = dm_ood.all_dataloader()"
   ]
  },
  {
   "cell_type": "markdown",
   "metadata": {},
   "source": [
    "Experiment with dataloading speeds:\n",
    "- does it help to save the Xy dataset to disc, then load, while keeping in mem?. no not faster at all\n",
    "- does it help to use num_workers > 0? yes 3x faster\n",
    "- the shared dataset wrapper is 10x faster, and less mem"
   ]
  },
  {
   "cell_type": "markdown",
   "metadata": {},
   "source": [
    "# Get importance matrix from adapter"
   ]
  },
  {
   "cell_type": "code",
   "execution_count": 7,
   "metadata": {},
   "outputs": [
    {
     "name": "stdout",
     "output_type": "stream",
     "text": [
      "Wqkv torch.Size([32, 7680])\n",
      "out_proj torch.Size([32, 2560])\n",
      "fc1 torch.Size([32, 10240])\n",
      "fc2 torch.Size([32, 2560])\n"
     ]
    },
    {
     "data": {
      "image/png": "[encoded data removed]",
      "text/plain": [
       "<Figure size 640x480 with 1 Axes>"
      ]
     },
     "metadata": {},
     "output_type": "display_data"
    }
   ],
   "source": [
    "from src.probes.importance_matrix import get_importance_matrix\n",
    "\n",
    "\n",
    "f = f\"{BASE_FOLDER}/checkpoint_last/adapter_model.safetensors\"\n",
    "importance_matrix = get_importance_matrix(f, layers=layers_names)[SKIP::STRIDE, ::DECIMATE]\n",
    "plt.hist(importance_matrix.flatten(), bins=155);\n"
   ]
  },
  {
   "cell_type": "code",
   "execution_count": 8,
   "metadata": {},
   "outputs": [
    {
     "data": {
      "text/plain": [
       "tensor(64338.)"
      ]
     },
     "execution_count": 8,
     "metadata": {},
     "output_type": "execute_result"
    }
   ],
   "source": [
    "((importance_matrix>0)*1.0).sum()"
   ]
  },
  {
   "cell_type": "code",
   "execution_count": 9,
   "metadata": {},
   "outputs": [
    {
     "data": {
      "text/plain": [
       "tensor(1.1881)"
      ]
     },
     "execution_count": 9,
     "metadata": {},
     "output_type": "execute_result"
    }
   ],
   "source": [
    "importance_matrix.mean()"
   ]
  },
  {
   "cell_type": "code",
   "execution_count": null,
   "metadata": {},
   "outputs": [],
   "source": []
  },
  {
   "cell_type": "code",
   "execution_count": 10,
   "metadata": {},
   "outputs": [],
   "source": [
    "ds_test2 = dm.datasets['test']\n",
    "shape1 = ds_test2[0][0].shape\n",
    "shape2= importance_matrix.shape\n",
    "np.testing.assert_equal(shape1, shape2, err_msg=\"shape mismatch between ds and importance matrix\")\n"
   ]
  },
  {
   "cell_type": "markdown",
   "metadata": {},
   "source": [
    "# Model"
   ]
  },
  {
   "cell_type": "code",
   "execution_count": 11,
   "metadata": {},
   "outputs": [],
   "source": [
    "\n",
    "from src.vae.conv_inception import PLAE, LinBnDrop, PLBase, recursive_requires_grad, accuracy, auroc\n",
    "\n",
    "from src.vae.sae import AutoEncoder, AutoEncoderConfig"
   ]
  },
  {
   "cell_type": "code",
   "execution_count": null,
   "metadata": {},
   "outputs": [],
   "source": []
  },
  {
   "cell_type": "code",
   "execution_count": 12,
   "metadata": {},
   "outputs": [],
   "source": [
    "\n",
    "class PLAE(PLBase):\n",
    "    def __init__(\n",
    "        self,\n",
    "        c_in,\n",
    "        steps_per_epoch,\n",
    "        max_epochs,\n",
    "        # depth=0,\n",
    "        lr=4e-3,\n",
    "        weight_decay=1e-9,\n",
    "        # hs=64,\n",
    "        n_latent=32,\n",
    "        l1_coeff=1,\n",
    "        dropout=0,\n",
    "        importance_matrix=None,\n",
    "        **kwargs,\n",
    "    ):\n",
    "        super().__init__(steps_per_epoch=steps_per_epoch, max_epochs=max_epochs, lr=lr, weight_decay=weight_decay)\n",
    "        self.save_hyperparameters()\n",
    "\n",
    "        n_layers, n_channels = c_in\n",
    "        self.ae_cfg = AutoEncoderConfig(\n",
    "            n_instances=n_layers,\n",
    "            n_input_ae=n_channels,\n",
    "            n_hidden_ae=n_latent,\n",
    "            tied_weights=False,\n",
    "            l1_coeff=l1_coeff,\n",
    "        )\n",
    "\n",
    "        self.ae = AutoEncoder(\n",
    "            self.ae_cfg,\n",
    "            importance_matrix=importance_matrix,\n",
    "        )\n",
    "        \n",
    "        n = n_latent * n_layers\n",
    "        self.head = nn.Sequential(\n",
    "            LinBnDrop(n, n, bn=False),\n",
    "            LinBnDrop(n, n // 4, dropout=dropout, bn=False),\n",
    "            LinBnDrop(n // 4, n // 12, bn=False),\n",
    "            nn.Linear(n // 12, 1),\n",
    "            # nn.Tanh(),\n",
    "        )\n",
    "        self._ae_mode = True\n",
    "\n",
    "    def ae_mode(self, mode=0):\n",
    "        \"\"\"\n",
    "        mode 0, train the ae\n",
    "        mode 1, train only the prob\n",
    "        mode 2, train both\n",
    "        \"\"\"\n",
    "        if mode==0:\n",
    "            print('training ae')\n",
    "        elif mode==1:\n",
    "            print('training probe')\n",
    "        elif mode==2:\n",
    "            print('training both ae and probe')\n",
    "        self._ae_mode = mode\n",
    "        recursive_requires_grad(self.ae, mode in [0, 2])\n",
    "\n",
    "    def forward(self, x):\n",
    "        if x.ndim == 4:\n",
    "            x = x.squeeze(3)\n",
    "        # x = rearrange(x, \"b l h -> b h l\")\n",
    "        # if not self._ae_mode:\n",
    "        #     with torch.no_grad():\n",
    "        #         l1_loss, l2_loss, loss, latent, h_rec = self.ae(x)\n",
    "        # else:\n",
    "        l1_loss, l2_loss, loss, latent, h_rec = self.ae(x)\n",
    "\n",
    "        latent2 = rearrange(latent, \"b l h -> b (l h)\")\n",
    "        pred = self.head(latent2).squeeze(1)\n",
    "        return dict(\n",
    "            pred=pred,\n",
    "            l1_loss=l1_loss,\n",
    "            l2_loss=l2_loss,\n",
    "            loss=loss,\n",
    "            latent=latent,\n",
    "            h_rec=h_rec,\n",
    "        )\n",
    "\n",
    "    def _step(self, batch, batch_idx, stage=\"train\"):        \n",
    "        if stage == \"train\":\n",
    "            # Normalize the decoder weights before each optimization step\n",
    "            self.ae.normalize_decoder()\n",
    "\n",
    "\n",
    "        device = next(self.parameters()).device\n",
    "        x, y = batch # batch['X'], batch['y']\n",
    "        x = x.to(device)\n",
    "        y = y.to(device)\n",
    "        x0 = x#[..., 0]\n",
    "        # x1 = x[..., 1]\n",
    "        info0 = self(x0)\n",
    "        # info1 = self(x1)\n",
    "        # ypred1 = info1[\"pred\"]\n",
    "        logits = info0[\"pred\"]\n",
    "        y_probs = F.sigmoid(logits)\n",
    "        y_cls = y_probs > 0.5\n",
    "\n",
    "        if stage == \"pred\":\n",
    "            return (y_probs).float()\n",
    "        \n",
    "        pred_loss = F.binary_cross_entropy_with_logits(logits, (y>0.).float())\n",
    "\n",
    "        # pred_loss = F.smooth_l1_loss(ypred0, y)\n",
    "        rec_loss = info0[\"loss\"] \n",
    "        l1_loss = info0[\"l1_loss\"].mean()\n",
    "        l2_loss = info0[\"l2_loss\"].mean()\n",
    "\n",
    "        self.log(\n",
    "            f\"{stage}/auroc\",\n",
    "            auroc(y_probs, y > 0, \"binary\"),\n",
    "            on_epoch=True,\n",
    "            on_step=False,\n",
    "        )\n",
    "        self.log(\n",
    "            f\"{stage}/acc\",\n",
    "            accuracy(y_cls, y > 0, \"binary\"),\n",
    "            on_epoch=True,\n",
    "            on_step=False,\n",
    "        )\n",
    "        self.log(\n",
    "            f\"{stage}/loss_pred\",\n",
    "            float(pred_loss),\n",
    "            on_epoch=True,\n",
    "            on_step=True,\n",
    "            prog_bar=True,\n",
    "        )\n",
    "        self.log(\n",
    "            f\"{stage}/loss_rec\",\n",
    "            float(rec_loss),\n",
    "            on_epoch=True,\n",
    "            on_step=True,\n",
    "            prog_bar=True,\n",
    "        )\n",
    "        self.log(f\"{stage}/l1_loss\", l1_loss, on_epoch=True, on_step=False)\n",
    "        self.log(f\"{stage}/l2_loss\", l2_loss, on_epoch=True, on_step=False)\n",
    "        self.log(\n",
    "            f\"{stage}/n\",\n",
    "            float(len(y)),\n",
    "            on_epoch=True,\n",
    "            on_step=False,\n",
    "            reduce_fx=torch.sum,\n",
    "        )\n",
    "        if self._ae_mode == 0:\n",
    "            assert torch.isfinite(rec_loss), \"rec_loss is not finite\"\n",
    "            return rec_loss\n",
    "        elif self._ae_mode == 1:\n",
    "            assert torch.isfinite(pred_loss), \"pred_loss is not finite\"\n",
    "            return pred_loss\n",
    "        elif self._ae_mode == 2:\n",
    "            # , train/loss_pred_epoch=0.0195, train/loss_rec_epoch=169.0\n",
    "            assert torch.isfinite(pred_loss), \"pred_loss is not finite\"\n",
    "            assert torch.isfinite(rec_loss), \"rec_loss is not finite\"\n",
    "            return pred_loss * 50000 + rec_loss"
   ]
  },
  {
   "cell_type": "markdown",
   "metadata": {},
   "source": [
    "# Train"
   ]
  },
  {
   "cell_type": "markdown",
   "metadata": {},
   "source": [
    "### Metrics\n"
   ]
  },
  {
   "cell_type": "markdown",
   "metadata": {},
   "source": [
    "### Setup"
   ]
  },
  {
   "cell_type": "code",
   "execution_count": 13,
   "metadata": {},
   "outputs": [
    {
     "name": "stdout",
     "output_type": "stream",
     "text": [
      "10 5\n",
      "torch.Size([32, 7, 23040]) x\n"
     ]
    }
   ],
   "source": [
    "\n",
    "\n",
    "print(len(dl_train), len(dl_val))\n",
    "b = next(iter(dl_train))\n",
    "x, y = b # b['X'], b['y']\n",
    "print(x.shape, \"x\")\n",
    "if x.ndim == 3:\n",
    "    x = x.unsqueeze(-1)\n",
    "c_in = x.shape[1:-1]\n"
   ]
  },
  {
   "cell_type": "code",
   "execution_count": 14,
   "metadata": {},
   "outputs": [],
   "source": [
    "# # TEST\n",
    "# for b in tqdm(dl_train):\n",
    "#     pass"
   ]
  },
  {
   "cell_type": "code",
   "execution_count": 15,
   "metadata": {},
   "outputs": [],
   "source": [
    "# %%time\n",
    "# # oh no, this is very slow\n",
    "# g = iter(dl_train)\n",
    "# b = next(g)\n",
    "# b = next(g)\n"
   ]
  },
  {
   "cell_type": "code",
   "execution_count": 16,
   "metadata": {},
   "outputs": [
    {
     "name": "stdout",
     "output_type": "stream",
     "text": [
      "torch.Size([7, 23040])\n"
     ]
    },
    {
     "data": {
      "text/plain": [
       "({'pred': tensor(0.0386),\n",
       "  'l1_loss': tensor(428.3705),\n",
       "  'l2_loss': tensor(5.9861e+08),\n",
       "  'loss': tensor(5.9861e+08),\n",
       "  'latent': tensor(0.2390),\n",
       "  'h_rec': tensor(0.0032)},\n",
       " {'pred': torch.Size([32]),\n",
       "  'l1_loss': torch.Size([32]),\n",
       "  'l2_loss': torch.Size([32]),\n",
       "  'loss': torch.Size([]),\n",
       "  'latent': torch.Size([32, 7, 256]),\n",
       "  'h_rec': torch.Size([32, 7, 23040])})"
      ]
     },
     "execution_count": 16,
     "metadata": {},
     "output_type": "execute_result"
    }
   ],
   "source": [
    "\n",
    "net = PLAE(\n",
    "    c_in=c_in,\n",
    "    steps_per_epoch=len(dl_train),\n",
    "    max_epochs=max_epochs,\n",
    "    lr=lr,\n",
    "    weight_decay=wd,\n",
    "    # hs=64,\n",
    "    dropout=0,\n",
    "    n_latent=256, # there will be layers * n_latent latent features\n",
    "    l1_coeff=l1_coeff, \n",
    "    importance_matrix=importance_matrix,\n",
    ")\n",
    "print(c_in)\n",
    "x1= x[..., 0]\n",
    "with torch.no_grad():\n",
    "    y = net(x1)\n",
    "{k: v.abs().mean() for k, v in y.items()}, {k: v.shape for k, v in y.items()}"
   ]
  },
  {
   "cell_type": "code",
   "execution_count": 17,
   "metadata": {},
   "outputs": [
    {
     "data": {
      "text/plain": [
       "2048.714285714286"
      ]
     },
     "execution_count": 17,
     "metadata": {},
     "output_type": "execute_result"
    }
   ],
   "source": [
    "14341/c_in[0]"
   ]
  },
  {
   "cell_type": "code",
   "execution_count": 18,
   "metadata": {},
   "outputs": [
    {
     "data": {
      "text/plain": [
       "==========================================================================================\n",
       "Layer (type:depth-idx)                   Output Shape              Param #\n",
       "==========================================================================================\n",
       "PLAE                                     [32, 7, 23040]            --\n",
       "├─AutoEncoder: 1-1                       [32]                      82,738,432\n",
       "├─Sequential: 1-2                        [32, 1]                   --\n",
       "│    └─LinBnDrop: 2-1                    [32, 1792]                --\n",
       "│    │    └─Linear: 3-1                  [32, 1792]                3,213,056\n",
       "│    │    └─ReLU: 3-2                    [32, 1792]                --\n",
       "│    └─LinBnDrop: 2-2                    [32, 448]                 --\n",
       "│    │    └─Linear: 3-3                  [32, 448]                 803,264\n",
       "│    │    └─ReLU: 3-4                    [32, 448]                 --\n",
       "│    └─LinBnDrop: 2-3                    [32, 149]                 --\n",
       "│    │    └─Linear: 3-5                  [32, 149]                 66,901\n",
       "│    │    └─ReLU: 3-6                    [32, 149]                 --\n",
       "│    └─Linear: 2-4                       [32, 1]                   150\n",
       "==========================================================================================\n",
       "Total params: 86,821,803\n",
       "Trainable params: 86,821,803\n",
       "Non-trainable params: 0\n",
       "Total mult-adds (Units.MEGABYTES): 130.67\n",
       "==========================================================================================\n",
       "Input size (MB): 20.64\n",
       "Forward/backward pass size (MB): 0.61\n",
       "Params size (MB): 347.29\n",
       "Estimated Total Size (MB): 368.54\n",
       "=========================================================================================="
      ]
     },
     "execution_count": 18,
     "metadata": {},
     "output_type": "execute_result"
    }
   ],
   "source": [
    "from torchinfo import summary\n",
    "\n",
    "summary(net, input_data=x1, depth=4)  # input_size=(batch_size, 1, 28, 28))\n"
   ]
  },
  {
   "cell_type": "markdown",
   "metadata": {},
   "source": [
    "### Train autoencoder"
   ]
  },
  {
   "cell_type": "code",
   "execution_count": 19,
   "metadata": {},
   "outputs": [],
   "source": [
    "torch.set_float32_matmul_precision('medium')"
   ]
  },
  {
   "cell_type": "code",
   "execution_count": 20,
   "metadata": {},
   "outputs": [],
   "source": [
    "# %%time\n",
    "# for b in tqdm(dl_train):\n",
    "#     pass"
   ]
  },
  {
   "cell_type": "code",
   "execution_count": 21,
   "metadata": {},
   "outputs": [],
   "source": [
    "with torch.no_grad():\n",
    "    o = net.predict_step(b)\n",
    "    l1_loss, l2_loss, loss, acts, h_reconstructed = net.ae(b[0])"
   ]
  },
  {
   "cell_type": "code",
   "execution_count": 22,
   "metadata": {},
   "outputs": [],
   "source": [
    "# l1_coeff = 0.5"
   ]
  },
  {
   "cell_type": "code",
   "execution_count": 23,
   "metadata": {},
   "outputs": [
    {
     "data": {
      "text/plain": [
       "tensor(2860.)"
      ]
     },
     "execution_count": 23,
     "metadata": {},
     "output_type": "execute_result"
    }
   ],
   "source": [
    "((acts>1)*1.0).sum()"
   ]
  },
  {
   "cell_type": "code",
   "execution_count": 24,
   "metadata": {},
   "outputs": [
    {
     "data": {
      "text/plain": [
       "(tensor([293.7516, 442.0275, 422.1171, 431.4987, 466.6316, 446.4012, 456.4958,\n",
       "         425.0434, 442.9265, 442.0050, 447.7122, 421.9023, 453.0414, 470.1711,\n",
       "         433.8322, 421.4922, 433.7445, 421.8166, 431.6870, 439.9942, 452.0031,\n",
       "         436.9038, 448.6310, 450.6782, 408.3802, 438.2269, 389.4915, 358.7310,\n",
       "         426.4059, 384.1874, 431.5323, 438.3927]),\n",
       " tensor([7.2245e+08, 1.1967e+09, 1.1638e+09, 1.1439e+09, 1.2908e+09, 1.3743e+09,\n",
       "         1.3652e+09, 1.2304e+09, 1.1913e+09, 1.2773e+09, 1.2428e+09, 1.1444e+09,\n",
       "         1.3413e+09, 1.3320e+09, 1.0966e+09, 1.1495e+09, 1.1309e+09, 1.0744e+09,\n",
       "         1.3453e+09, 1.2996e+09, 1.2404e+09, 1.2008e+09, 1.3052e+09, 1.4591e+09,\n",
       "         1.0687e+09, 1.2485e+09, 1.0363e+09, 8.1513e+08, 1.3006e+09, 9.9212e+08,\n",
       "         1.1794e+09, 1.3519e+09]))"
      ]
     },
     "execution_count": 24,
     "metadata": {},
     "output_type": "execute_result"
    }
   ],
   "source": [
    "l1_loss, l2_loss/l1_coeff"
   ]
  },
  {
   "cell_type": "code",
   "execution_count": 25,
   "metadata": {},
   "outputs": [],
   "source": [
    "from src.helpers.lightning import read_metrics_csv, plot_hist, rename_pl_test_results\n",
    "\n",
    "from lightning.pytorch.callbacks import LearningRateMonitor"
   ]
  },
  {
   "cell_type": "code",
   "execution_count": 26,
   "metadata": {},
   "outputs": [
    {
     "name": "stderr",
     "output_type": "stream",
     "text": [
      "Using 16bit Automatic Mixed Precision (AMP)\n",
      "GPU available: True (cuda), used: True\n",
      "TPU available: False, using: 0 TPU cores\n",
      "IPU available: False, using: 0 IPUs\n",
      "HPU available: False, using: 0 HPUs\n",
      "/media/wassname/SGIronWolf/projects5/elk/sgd_probes_are_lie_detectors/.venv/lib/python3.11/site-packages/lightning/pytorch/trainer/connectors/logger_connector/logger_connector.py:67: Starting from v1.9.0, `tensorboardX` has been removed as a dependency of the `lightning.pytorch` package, due to potential conflicts with other packages in the ML ecosystem. For this reason, `logger=True` will use `CSVLogger` as the default logger, unless the `tensorboard` or `tensorboardX` packages are found. Please `pip install lightning[extra]` or one of them to enable TensorBoard support by default\n",
      "LOCAL_RANK: 0 - CUDA_VISIBLE_DEVICES: [0,1]\n",
      "\n",
      "  | Name | Type        | Params\n",
      "-------------------------------------\n",
      "0 | ae   | AutoEncoder | 82.7 M\n",
      "1 | head | Sequential  | 4.1 M \n",
      "-------------------------------------\n",
      "86.8 M    Trainable params\n",
      "0         Non-trainable params\n",
      "86.8 M    Total params\n",
      "347.287   Total estimated model params size (MB)\n"
     ]
    },
    {
     "name": "stdout",
     "output_type": "stream",
     "text": [
      "training ae\n",
      "requires_grad: True\n",
      "Adjusting learning rate of group 0 to 4.0000e-05.\n"
     ]
    },
    {
     "data": {
      "application/vnd.jupyter.widget-view+json": {
       "model_id": "e5d622fcf6a8458aabc7d40d2047958b",
       "version_major": 2,
       "version_minor": 0
      },
      "text/plain": [
       "Sanity Checking: |          | 0/? [00:00<?, ?it/s]"
      ]
     },
     "metadata": {},
     "output_type": "display_data"
    },
    {
     "name": "stderr",
     "output_type": "stream",
     "text": [
      "/media/wassname/SGIronWolf/projects5/elk/sgd_probes_are_lie_detectors/.venv/lib/python3.11/site-packages/lightning/pytorch/trainer/connectors/data_connector.py:441: The 'val_dataloader' does not have many workers which may be a bottleneck. Consider increasing the value of the `num_workers` argument` to `num_workers=23` in the `DataLoader` to improve performance.\n",
      "/media/wassname/SGIronWolf/projects5/elk/sgd_probes_are_lie_detectors/.venv/lib/python3.11/site-packages/lightning/pytorch/trainer/connectors/data_connector.py:441: The 'train_dataloader' does not have many workers which may be a bottleneck. Consider increasing the value of the `num_workers` argument` to `num_workers=23` in the `DataLoader` to improve performance.\n"
     ]
    },
    {
     "data": {
      "application/vnd.jupyter.widget-view+json": {
       "model_id": "e49f276efa9846fe9c265b46e0bb8999",
       "version_major": 2,
       "version_minor": 0
      },
      "text/plain": [
       "Training: |          | 0/? [00:00<?, ?it/s]"
      ]
     },
     "metadata": {},
     "output_type": "display_data"
    },
    {
     "name": "stdout",
     "output_type": "stream",
     "text": [
      "Adjusting learning rate of group 0 to 4.0138e-05.\n",
      "Adjusting learning rate of group 0 to 4.0552e-05.\n",
      "Adjusting learning rate of group 0 to 4.1242e-05.\n",
      "Adjusting learning rate of group 0 to 4.2207e-05.\n",
      "Adjusting learning rate of group 0 to 4.3447e-05.\n",
      "Adjusting learning rate of group 0 to 4.4960e-05.\n",
      "Adjusting learning rate of group 0 to 4.6748e-05.\n",
      "Adjusting learning rate of group 0 to 4.8807e-05.\n",
      "Adjusting learning rate of group 0 to 5.1137e-05.\n",
      "Adjusting learning rate of group 0 to 5.3737e-05.\n"
     ]
    },
    {
     "data": {
      "application/vnd.jupyter.widget-view+json": {
       "model_id": "649962647de1425fb4f8987c25408d24",
       "version_major": 2,
       "version_minor": 0
      },
      "text/plain": [
       "Validation: |          | 0/? [00:00<?, ?it/s]"
      ]
     },
     "metadata": {},
     "output_type": "display_data"
    },
    {
     "name": "stdout",
     "output_type": "stream",
     "text": [
      "Adjusting learning rate of group 0 to 5.6605e-05.\n",
      "Adjusting learning rate of group 0 to 5.9739e-05.\n",
      "Adjusting learning rate of group 0 to 6.3138e-05.\n",
      "Adjusting learning rate of group 0 to 6.6800e-05.\n",
      "Adjusting learning rate of group 0 to 7.0723e-05.\n",
      "Adjusting learning rate of group 0 to 7.4904e-05.\n",
      "Adjusting learning rate of group 0 to 7.9341e-05.\n",
      "Adjusting learning rate of group 0 to 8.4031e-05.\n",
      "Adjusting learning rate of group 0 to 8.8972e-05.\n",
      "Adjusting learning rate of group 0 to 9.4161e-05.\n"
     ]
    },
    {
     "data": {
      "application/vnd.jupyter.widget-view+json": {
       "model_id": "e2f9d22eb072413b881ce04c5f34bb7a",
       "version_major": 2,
       "version_minor": 0
      },
      "text/plain": [
       "Validation: |          | 0/? [00:00<?, ?it/s]"
      ]
     },
     "metadata": {},
     "output_type": "display_data"
    },
    {
     "name": "stdout",
     "output_type": "stream",
     "text": [
      "Adjusting learning rate of group 0 to 9.9595e-05.\n",
      "Adjusting learning rate of group 0 to 1.0527e-04.\n",
      "Adjusting learning rate of group 0 to 1.1118e-04.\n",
      "Adjusting learning rate of group 0 to 1.1733e-04.\n",
      "Adjusting learning rate of group 0 to 1.2371e-04.\n",
      "Adjusting learning rate of group 0 to 1.3032e-04.\n",
      "Adjusting learning rate of group 0 to 1.3716e-04.\n",
      "Adjusting learning rate of group 0 to 1.4421e-04.\n",
      "Adjusting learning rate of group 0 to 1.5148e-04.\n",
      "Adjusting learning rate of group 0 to 1.5896e-04.\n"
     ]
    },
    {
     "data": {
      "application/vnd.jupyter.widget-view+json": {
       "model_id": "cc65844258104d548406535736e60ced",
       "version_major": 2,
       "version_minor": 0
      },
      "text/plain": [
       "Validation: |          | 0/? [00:00<?, ?it/s]"
      ]
     },
     "metadata": {},
     "output_type": "display_data"
    },
    {
     "name": "stdout",
     "output_type": "stream",
     "text": [
      "Adjusting learning rate of group 0 to 1.6665e-04.\n",
      "Adjusting learning rate of group 0 to 1.7454e-04.\n",
      "Adjusting learning rate of group 0 to 1.8263e-04.\n",
      "Adjusting learning rate of group 0 to 1.9091e-04.\n",
      "Adjusting learning rate of group 0 to 1.9939e-04.\n",
      "Adjusting learning rate of group 0 to 2.0805e-04.\n",
      "Adjusting learning rate of group 0 to 2.1688e-04.\n",
      "Adjusting learning rate of group 0 to 2.2590e-04.\n",
      "Adjusting learning rate of group 0 to 2.3508e-04.\n",
      "Adjusting learning rate of group 0 to 2.4442e-04.\n"
     ]
    },
    {
     "data": {
      "application/vnd.jupyter.widget-view+json": {
       "model_id": "ef75c1225a49443fa3874671f5fae464",
       "version_major": 2,
       "version_minor": 0
      },
      "text/plain": [
       "Validation: |          | 0/? [00:00<?, ?it/s]"
      ]
     },
     "metadata": {},
     "output_type": "display_data"
    },
    {
     "name": "stdout",
     "output_type": "stream",
     "text": [
      "Adjusting learning rate of group 0 to 2.5392e-04.\n",
      "Adjusting learning rate of group 0 to 2.6358e-04.\n",
      "Adjusting learning rate of group 0 to 2.7338e-04.\n",
      "Adjusting learning rate of group 0 to 2.8333e-04.\n",
      "Adjusting learning rate of group 0 to 2.9341e-04.\n",
      "Adjusting learning rate of group 0 to 3.0362e-04.\n",
      "Adjusting learning rate of group 0 to 3.1396e-04.\n",
      "Adjusting learning rate of group 0 to 3.2442e-04.\n",
      "Adjusting learning rate of group 0 to 3.3498e-04.\n",
      "Adjusting learning rate of group 0 to 3.4566e-04.\n"
     ]
    },
    {
     "data": {
      "application/vnd.jupyter.widget-view+json": {
       "model_id": "9455062e54bb4e408eaddfb96df7b710",
       "version_major": 2,
       "version_minor": 0
      },
      "text/plain": [
       "Validation: |          | 0/? [00:00<?, ?it/s]"
      ]
     },
     "metadata": {},
     "output_type": "display_data"
    },
    {
     "name": "stdout",
     "output_type": "stream",
     "text": [
      "Adjusting learning rate of group 0 to 3.5643e-04.\n",
      "Adjusting learning rate of group 0 to 3.6730e-04.\n",
      "Adjusting learning rate of group 0 to 3.7826e-04.\n",
      "Adjusting learning rate of group 0 to 3.8929e-04.\n",
      "Adjusting learning rate of group 0 to 4.0041e-04.\n",
      "Adjusting learning rate of group 0 to 4.1159e-04.\n",
      "Adjusting learning rate of group 0 to 4.2283e-04.\n",
      "Adjusting learning rate of group 0 to 4.3413e-04.\n",
      "Adjusting learning rate of group 0 to 4.4548e-04.\n",
      "Adjusting learning rate of group 0 to 4.5687e-04.\n"
     ]
    },
    {
     "data": {
      "application/vnd.jupyter.widget-view+json": {
       "model_id": "fe445ea0fc7f41adb26914dd20290bbe",
       "version_major": 2,
       "version_minor": 0
      },
      "text/plain": [
       "Validation: |          | 0/? [00:00<?, ?it/s]"
      ]
     },
     "metadata": {},
     "output_type": "display_data"
    },
    {
     "name": "stdout",
     "output_type": "stream",
     "text": [
      "Adjusting learning rate of group 0 to 4.6830e-04.\n",
      "Adjusting learning rate of group 0 to 4.7976e-04.\n",
      "Adjusting learning rate of group 0 to 4.9124e-04.\n",
      "Adjusting learning rate of group 0 to 5.0274e-04.\n",
      "Adjusting learning rate of group 0 to 5.1424e-04.\n",
      "Adjusting learning rate of group 0 to 5.2576e-04.\n",
      "Adjusting learning rate of group 0 to 5.3726e-04.\n",
      "Adjusting learning rate of group 0 to 5.4876e-04.\n",
      "Adjusting learning rate of group 0 to 5.6024e-04.\n",
      "Adjusting learning rate of group 0 to 5.7170e-04.\n"
     ]
    },
    {
     "data": {
      "application/vnd.jupyter.widget-view+json": {
       "model_id": "3e47f2809fae47d1a0a68392e55f00da",
       "version_major": 2,
       "version_minor": 0
      },
      "text/plain": [
       "Validation: |          | 0/? [00:00<?, ?it/s]"
      ]
     },
     "metadata": {},
     "output_type": "display_data"
    },
    {
     "name": "stdout",
     "output_type": "stream",
     "text": [
      "Adjusting learning rate of group 0 to 5.8313e-04.\n",
      "Adjusting learning rate of group 0 to 5.9452e-04.\n",
      "Adjusting learning rate of group 0 to 6.0587e-04.\n",
      "Adjusting learning rate of group 0 to 6.1717e-04.\n",
      "Adjusting learning rate of group 0 to 6.2841e-04.\n",
      "Adjusting learning rate of group 0 to 6.3959e-04.\n",
      "Adjusting learning rate of group 0 to 6.5071e-04.\n",
      "Adjusting learning rate of group 0 to 6.6174e-04.\n",
      "Adjusting learning rate of group 0 to 6.7270e-04.\n",
      "Adjusting learning rate of group 0 to 6.8357e-04.\n"
     ]
    },
    {
     "data": {
      "application/vnd.jupyter.widget-view+json": {
       "model_id": "1c202a5a7e9f4fa68491d53471216ec5",
       "version_major": 2,
       "version_minor": 0
      },
      "text/plain": [
       "Validation: |          | 0/? [00:00<?, ?it/s]"
      ]
     },
     "metadata": {},
     "output_type": "display_data"
    },
    {
     "name": "stdout",
     "output_type": "stream",
     "text": [
      "Adjusting learning rate of group 0 to 6.9434e-04.\n",
      "Adjusting learning rate of group 0 to 7.0502e-04.\n",
      "Adjusting learning rate of group 0 to 7.1558e-04.\n",
      "Adjusting learning rate of group 0 to 7.2604e-04.\n",
      "Adjusting learning rate of group 0 to 7.3638e-04.\n",
      "Adjusting learning rate of group 0 to 7.4659e-04.\n",
      "Adjusting learning rate of group 0 to 7.5667e-04.\n",
      "Adjusting learning rate of group 0 to 7.6662e-04.\n",
      "Adjusting learning rate of group 0 to 7.7642e-04.\n",
      "Adjusting learning rate of group 0 to 7.8608e-04.\n"
     ]
    },
    {
     "data": {
      "application/vnd.jupyter.widget-view+json": {
       "model_id": "a8082091ef2c42658a9f1aab4f536446",
       "version_major": 2,
       "version_minor": 0
      },
      "text/plain": [
       "Validation: |          | 0/? [00:00<?, ?it/s]"
      ]
     },
     "metadata": {},
     "output_type": "display_data"
    },
    {
     "name": "stdout",
     "output_type": "stream",
     "text": [
      "Adjusting learning rate of group 0 to 7.9558e-04.\n",
      "Adjusting learning rate of group 0 to 8.0492e-04.\n",
      "Adjusting learning rate of group 0 to 8.1410e-04.\n",
      "Adjusting learning rate of group 0 to 8.2312e-04.\n",
      "Adjusting learning rate of group 0 to 8.3195e-04.\n",
      "Adjusting learning rate of group 0 to 8.4061e-04.\n",
      "Adjusting learning rate of group 0 to 8.4909e-04.\n",
      "Adjusting learning rate of group 0 to 8.5737e-04.\n",
      "Adjusting learning rate of group 0 to 8.6546e-04.\n",
      "Adjusting learning rate of group 0 to 8.7335e-04.\n"
     ]
    },
    {
     "data": {
      "application/vnd.jupyter.widget-view+json": {
       "model_id": "ec73a9e315844372a6b3e5bc26fa285a",
       "version_major": 2,
       "version_minor": 0
      },
      "text/plain": [
       "Validation: |          | 0/? [00:00<?, ?it/s]"
      ]
     },
     "metadata": {},
     "output_type": "display_data"
    },
    {
     "name": "stdout",
     "output_type": "stream",
     "text": [
      "Adjusting learning rate of group 0 to 8.8104e-04.\n",
      "Adjusting learning rate of group 0 to 8.8852e-04.\n",
      "Adjusting learning rate of group 0 to 8.9579e-04.\n",
      "Adjusting learning rate of group 0 to 9.0284e-04.\n",
      "Adjusting learning rate of group 0 to 9.0968e-04.\n",
      "Adjusting learning rate of group 0 to 9.1629e-04.\n",
      "Adjusting learning rate of group 0 to 9.2267e-04.\n",
      "Adjusting learning rate of group 0 to 9.2882e-04.\n",
      "Adjusting learning rate of group 0 to 9.3473e-04.\n",
      "Adjusting learning rate of group 0 to 9.4041e-04.\n"
     ]
    },
    {
     "data": {
      "application/vnd.jupyter.widget-view+json": {
       "model_id": "fef6fdc7afaf4956b4ff11fdb940fc2f",
       "version_major": 2,
       "version_minor": 0
      },
      "text/plain": [
       "Validation: |          | 0/? [00:00<?, ?it/s]"
      ]
     },
     "metadata": {},
     "output_type": "display_data"
    },
    {
     "name": "stdout",
     "output_type": "stream",
     "text": [
      "Adjusting learning rate of group 0 to 9.4584e-04.\n",
      "Adjusting learning rate of group 0 to 9.5103e-04.\n",
      "Adjusting learning rate of group 0 to 9.5597e-04.\n",
      "Adjusting learning rate of group 0 to 9.6066e-04.\n",
      "Adjusting learning rate of group 0 to 9.6510e-04.\n",
      "Adjusting learning rate of group 0 to 9.6928e-04.\n",
      "Adjusting learning rate of group 0 to 9.7320e-04.\n",
      "Adjusting learning rate of group 0 to 9.7686e-04.\n",
      "Adjusting learning rate of group 0 to 9.8026e-04.\n",
      "Adjusting learning rate of group 0 to 9.8340e-04.\n"
     ]
    },
    {
     "data": {
      "application/vnd.jupyter.widget-view+json": {
       "model_id": "ec44396221d0424f8589b59637266d45",
       "version_major": 2,
       "version_minor": 0
      },
      "text/plain": [
       "Validation: |          | 0/? [00:00<?, ?it/s]"
      ]
     },
     "metadata": {},
     "output_type": "display_data"
    },
    {
     "name": "stdout",
     "output_type": "stream",
     "text": [
      "Adjusting learning rate of group 0 to 9.8626e-04.\n",
      "Adjusting learning rate of group 0 to 9.8886e-04.\n",
      "Adjusting learning rate of group 0 to 9.9119e-04.\n",
      "Adjusting learning rate of group 0 to 9.9325e-04.\n",
      "Adjusting learning rate of group 0 to 9.9504e-04.\n",
      "Adjusting learning rate of group 0 to 9.9655e-04.\n",
      "Adjusting learning rate of group 0 to 9.9779e-04.\n",
      "Adjusting learning rate of group 0 to 9.9876e-04.\n",
      "Adjusting learning rate of group 0 to 9.9945e-04.\n",
      "Adjusting learning rate of group 0 to 9.9986e-04.\n"
     ]
    },
    {
     "data": {
      "application/vnd.jupyter.widget-view+json": {
       "model_id": "8a71a6ce94c340eda613d06af335465f",
       "version_major": 2,
       "version_minor": 0
      },
      "text/plain": [
       "Validation: |          | 0/? [00:00<?, ?it/s]"
      ]
     },
     "metadata": {},
     "output_type": "display_data"
    },
    {
     "name": "stdout",
     "output_type": "stream",
     "text": [
      "Adjusting learning rate of group 0 to 1.0000e-03.\n",
      "Adjusting learning rate of group 0 to 9.9997e-04.\n",
      "Adjusting learning rate of group 0 to 9.9990e-04.\n",
      "Adjusting learning rate of group 0 to 9.9977e-04.\n",
      "Adjusting learning rate of group 0 to 9.9958e-04.\n",
      "Adjusting learning rate of group 0 to 9.9935e-04.\n",
      "Adjusting learning rate of group 0 to 9.9906e-04.\n",
      "Adjusting learning rate of group 0 to 9.9873e-04.\n",
      "Adjusting learning rate of group 0 to 9.9834e-04.\n",
      "Adjusting learning rate of group 0 to 9.9789e-04.\n"
     ]
    },
    {
     "data": {
      "application/vnd.jupyter.widget-view+json": {
       "model_id": "cca0cba98d7e4863918f772c2e103fec",
       "version_major": 2,
       "version_minor": 0
      },
      "text/plain": [
       "Validation: |          | 0/? [00:00<?, ?it/s]"
      ]
     },
     "metadata": {},
     "output_type": "display_data"
    },
    {
     "name": "stdout",
     "output_type": "stream",
     "text": [
      "Adjusting learning rate of group 0 to 9.9740e-04.\n",
      "Adjusting learning rate of group 0 to 9.9686e-04.\n",
      "Adjusting learning rate of group 0 to 9.9626e-04.\n",
      "Adjusting learning rate of group 0 to 9.9561e-04.\n",
      "Adjusting learning rate of group 0 to 9.9491e-04.\n",
      "Adjusting learning rate of group 0 to 9.9416e-04.\n",
      "Adjusting learning rate of group 0 to 9.9336e-04.\n",
      "Adjusting learning rate of group 0 to 9.9250e-04.\n",
      "Adjusting learning rate of group 0 to 9.9160e-04.\n",
      "Adjusting learning rate of group 0 to 9.9064e-04.\n"
     ]
    },
    {
     "data": {
      "application/vnd.jupyter.widget-view+json": {
       "model_id": "ca283aebe8924639ac90d4c17f487b3f",
       "version_major": 2,
       "version_minor": 0
      },
      "text/plain": [
       "Validation: |          | 0/? [00:00<?, ?it/s]"
      ]
     },
     "metadata": {},
     "output_type": "display_data"
    },
    {
     "name": "stdout",
     "output_type": "stream",
     "text": [
      "Adjusting learning rate of group 0 to 9.8963e-04.\n",
      "Adjusting learning rate of group 0 to 9.8857e-04.\n",
      "Adjusting learning rate of group 0 to 9.8746e-04.\n",
      "Adjusting learning rate of group 0 to 9.8630e-04.\n",
      "Adjusting learning rate of group 0 to 9.8509e-04.\n",
      "Adjusting learning rate of group 0 to 9.8383e-04.\n",
      "Adjusting learning rate of group 0 to 9.8252e-04.\n",
      "Adjusting learning rate of group 0 to 9.8116e-04.\n",
      "Adjusting learning rate of group 0 to 9.7975e-04.\n",
      "Adjusting learning rate of group 0 to 9.7828e-04.\n"
     ]
    },
    {
     "data": {
      "application/vnd.jupyter.widget-view+json": {
       "model_id": "4ee0b964ad2041bc9662893f3abbfa27",
       "version_major": 2,
       "version_minor": 0
      },
      "text/plain": [
       "Validation: |          | 0/? [00:00<?, ?it/s]"
      ]
     },
     "metadata": {},
     "output_type": "display_data"
    },
    {
     "name": "stdout",
     "output_type": "stream",
     "text": [
      "Adjusting learning rate of group 0 to 9.7677e-04.\n",
      "Adjusting learning rate of group 0 to 9.7521e-04.\n",
      "Adjusting learning rate of group 0 to 9.7360e-04.\n",
      "Adjusting learning rate of group 0 to 9.7194e-04.\n",
      "Adjusting learning rate of group 0 to 9.7023e-04.\n",
      "Adjusting learning rate of group 0 to 9.6847e-04.\n",
      "Adjusting learning rate of group 0 to 9.6667e-04.\n",
      "Adjusting learning rate of group 0 to 9.6481e-04.\n",
      "Adjusting learning rate of group 0 to 9.6291e-04.\n",
      "Adjusting learning rate of group 0 to 9.6096e-04.\n"
     ]
    },
    {
     "data": {
      "application/vnd.jupyter.widget-view+json": {
       "model_id": "34a03e6019134fb9a339895e80585f35",
       "version_major": 2,
       "version_minor": 0
      },
      "text/plain": [
       "Validation: |          | 0/? [00:00<?, ?it/s]"
      ]
     },
     "metadata": {},
     "output_type": "display_data"
    },
    {
     "name": "stdout",
     "output_type": "stream",
     "text": [
      "Adjusting learning rate of group 0 to 9.5896e-04.\n",
      "Adjusting learning rate of group 0 to 9.5691e-04.\n",
      "Adjusting learning rate of group 0 to 9.5482e-04.\n",
      "Adjusting learning rate of group 0 to 9.5267e-04.\n",
      "Adjusting learning rate of group 0 to 9.5048e-04.\n",
      "Adjusting learning rate of group 0 to 9.4825e-04.\n",
      "Adjusting learning rate of group 0 to 9.4597e-04.\n",
      "Adjusting learning rate of group 0 to 9.4364e-04.\n",
      "Adjusting learning rate of group 0 to 9.4126e-04.\n",
      "Adjusting learning rate of group 0 to 9.3884e-04.\n"
     ]
    },
    {
     "data": {
      "application/vnd.jupyter.widget-view+json": {
       "model_id": "3c8657d321a4439bb1abc7dde5f56052",
       "version_major": 2,
       "version_minor": 0
      },
      "text/plain": [
       "Validation: |          | 0/? [00:00<?, ?it/s]"
      ]
     },
     "metadata": {},
     "output_type": "display_data"
    },
    {
     "name": "stdout",
     "output_type": "stream",
     "text": [
      "Adjusting learning rate of group 0 to 9.3637e-04.\n",
      "Adjusting learning rate of group 0 to 9.3386e-04.\n",
      "Adjusting learning rate of group 0 to 9.3130e-04.\n",
      "Adjusting learning rate of group 0 to 9.2870e-04.\n",
      "Adjusting learning rate of group 0 to 9.2605e-04.\n",
      "Adjusting learning rate of group 0 to 9.2336e-04.\n",
      "Adjusting learning rate of group 0 to 9.2063e-04.\n",
      "Adjusting learning rate of group 0 to 9.1785e-04.\n",
      "Adjusting learning rate of group 0 to 9.1503e-04.\n",
      "Adjusting learning rate of group 0 to 9.1216e-04.\n"
     ]
    },
    {
     "data": {
      "application/vnd.jupyter.widget-view+json": {
       "model_id": "5e4a9b2f2e3644d59f3c666f85f99d75",
       "version_major": 2,
       "version_minor": 0
      },
      "text/plain": [
       "Validation: |          | 0/? [00:00<?, ?it/s]"
      ]
     },
     "metadata": {},
     "output_type": "display_data"
    },
    {
     "name": "stdout",
     "output_type": "stream",
     "text": [
      "Adjusting learning rate of group 0 to 9.0925e-04.\n",
      "Adjusting learning rate of group 0 to 9.0630e-04.\n",
      "Adjusting learning rate of group 0 to 9.0331e-04.\n",
      "Adjusting learning rate of group 0 to 9.0027e-04.\n",
      "Adjusting learning rate of group 0 to 8.9719e-04.\n",
      "Adjusting learning rate of group 0 to 8.9408e-04.\n",
      "Adjusting learning rate of group 0 to 8.9092e-04.\n",
      "Adjusting learning rate of group 0 to 8.8772e-04.\n",
      "Adjusting learning rate of group 0 to 8.8448e-04.\n",
      "Adjusting learning rate of group 0 to 8.8120e-04.\n"
     ]
    },
    {
     "data": {
      "application/vnd.jupyter.widget-view+json": {
       "model_id": "43bc12b416ff4a658d95f2e6f774ac24",
       "version_major": 2,
       "version_minor": 0
      },
      "text/plain": [
       "Validation: |          | 0/? [00:00<?, ?it/s]"
      ]
     },
     "metadata": {},
     "output_type": "display_data"
    },
    {
     "name": "stdout",
     "output_type": "stream",
     "text": [
      "Adjusting learning rate of group 0 to 8.7788e-04.\n",
      "Adjusting learning rate of group 0 to 8.7452e-04.\n",
      "Adjusting learning rate of group 0 to 8.7112e-04.\n",
      "Adjusting learning rate of group 0 to 8.6768e-04.\n",
      "Adjusting learning rate of group 0 to 8.6421e-04.\n",
      "Adjusting learning rate of group 0 to 8.6069e-04.\n",
      "Adjusting learning rate of group 0 to 8.5714e-04.\n",
      "Adjusting learning rate of group 0 to 8.5355e-04.\n",
      "Adjusting learning rate of group 0 to 8.4993e-04.\n",
      "Adjusting learning rate of group 0 to 8.4627e-04.\n"
     ]
    },
    {
     "data": {
      "application/vnd.jupyter.widget-view+json": {
       "model_id": "084c48e6594b4eb98a1fdabb588308ce",
       "version_major": 2,
       "version_minor": 0
      },
      "text/plain": [
       "Validation: |          | 0/? [00:00<?, ?it/s]"
      ]
     },
     "metadata": {},
     "output_type": "display_data"
    },
    {
     "name": "stdout",
     "output_type": "stream",
     "text": [
      "Adjusting learning rate of group 0 to 8.4257e-04.\n",
      "Adjusting learning rate of group 0 to 8.3884e-04.\n",
      "Adjusting learning rate of group 0 to 8.3507e-04.\n",
      "Adjusting learning rate of group 0 to 8.3127e-04.\n",
      "Adjusting learning rate of group 0 to 8.2743e-04.\n",
      "Adjusting learning rate of group 0 to 8.2356e-04.\n",
      "Adjusting learning rate of group 0 to 8.1965e-04.\n",
      "Adjusting learning rate of group 0 to 8.1572e-04.\n",
      "Adjusting learning rate of group 0 to 8.1175e-04.\n",
      "Adjusting learning rate of group 0 to 8.0774e-04.\n"
     ]
    },
    {
     "data": {
      "application/vnd.jupyter.widget-view+json": {
       "model_id": "2411847aa77746beb3e5876f747dbf5a",
       "version_major": 2,
       "version_minor": 0
      },
      "text/plain": [
       "Validation: |          | 0/? [00:00<?, ?it/s]"
      ]
     },
     "metadata": {},
     "output_type": "display_data"
    },
    {
     "name": "stdout",
     "output_type": "stream",
     "text": [
      "Adjusting learning rate of group 0 to 8.0371e-04.\n",
      "Adjusting learning rate of group 0 to 7.9964e-04.\n",
      "Adjusting learning rate of group 0 to 7.9554e-04.\n",
      "Adjusting learning rate of group 0 to 7.9141e-04.\n",
      "Adjusting learning rate of group 0 to 7.8725e-04.\n",
      "Adjusting learning rate of group 0 to 7.8306e-04.\n",
      "Adjusting learning rate of group 0 to 7.7885e-04.\n",
      "Adjusting learning rate of group 0 to 7.7460e-04.\n",
      "Adjusting learning rate of group 0 to 7.7032e-04.\n",
      "Adjusting learning rate of group 0 to 7.6602e-04.\n"
     ]
    },
    {
     "data": {
      "application/vnd.jupyter.widget-view+json": {
       "model_id": "0c630bd7c0324b0a9dcd8c91b757c62d",
       "version_major": 2,
       "version_minor": 0
      },
      "text/plain": [
       "Validation: |          | 0/? [00:00<?, ?it/s]"
      ]
     },
     "metadata": {},
     "output_type": "display_data"
    },
    {
     "name": "stdout",
     "output_type": "stream",
     "text": [
      "Adjusting learning rate of group 0 to 7.6168e-04.\n",
      "Adjusting learning rate of group 0 to 7.5733e-04.\n",
      "Adjusting learning rate of group 0 to 7.5294e-04.\n",
      "Adjusting learning rate of group 0 to 7.4853e-04.\n",
      "Adjusting learning rate of group 0 to 7.4409e-04.\n",
      "Adjusting learning rate of group 0 to 7.3963e-04.\n",
      "Adjusting learning rate of group 0 to 7.3514e-04.\n",
      "Adjusting learning rate of group 0 to 7.3062e-04.\n",
      "Adjusting learning rate of group 0 to 7.2609e-04.\n",
      "Adjusting learning rate of group 0 to 7.2153e-04.\n"
     ]
    },
    {
     "data": {
      "application/vnd.jupyter.widget-view+json": {
       "model_id": "d2e36e4b8d454d58bfa199a6341f2ef5",
       "version_major": 2,
       "version_minor": 0
      },
      "text/plain": [
       "Validation: |          | 0/? [00:00<?, ?it/s]"
      ]
     },
     "metadata": {},
     "output_type": "display_data"
    },
    {
     "name": "stdout",
     "output_type": "stream",
     "text": [
      "Adjusting learning rate of group 0 to 7.1694e-04.\n",
      "Adjusting learning rate of group 0 to 7.1234e-04.\n",
      "Adjusting learning rate of group 0 to 7.0771e-04.\n",
      "Adjusting learning rate of group 0 to 7.0306e-04.\n",
      "Adjusting learning rate of group 0 to 6.9839e-04.\n",
      "Adjusting learning rate of group 0 to 6.9370e-04.\n",
      "Adjusting learning rate of group 0 to 6.8898e-04.\n",
      "Adjusting learning rate of group 0 to 6.8425e-04.\n",
      "Adjusting learning rate of group 0 to 6.7950e-04.\n",
      "Adjusting learning rate of group 0 to 6.7473e-04.\n"
     ]
    },
    {
     "data": {
      "application/vnd.jupyter.widget-view+json": {
       "model_id": "87b93ac387e14cbc81a7cd1a7cd4cc10",
       "version_major": 2,
       "version_minor": 0
      },
      "text/plain": [
       "Validation: |          | 0/? [00:00<?, ?it/s]"
      ]
     },
     "metadata": {},
     "output_type": "display_data"
    },
    {
     "name": "stdout",
     "output_type": "stream",
     "text": [
      "Adjusting learning rate of group 0 to 6.6995e-04.\n",
      "Adjusting learning rate of group 0 to 6.6514e-04.\n",
      "Adjusting learning rate of group 0 to 6.6032e-04.\n",
      "Adjusting learning rate of group 0 to 6.5548e-04.\n",
      "Adjusting learning rate of group 0 to 6.5062e-04.\n",
      "Adjusting learning rate of group 0 to 6.4575e-04.\n",
      "Adjusting learning rate of group 0 to 6.4087e-04.\n",
      "Adjusting learning rate of group 0 to 6.3597e-04.\n",
      "Adjusting learning rate of group 0 to 6.3105e-04.\n",
      "Adjusting learning rate of group 0 to 6.2612e-04.\n"
     ]
    },
    {
     "data": {
      "application/vnd.jupyter.widget-view+json": {
       "model_id": "7f8a913e2111411ba5210c99645c0279",
       "version_major": 2,
       "version_minor": 0
      },
      "text/plain": [
       "Validation: |          | 0/? [00:00<?, ?it/s]"
      ]
     },
     "metadata": {},
     "output_type": "display_data"
    },
    {
     "name": "stdout",
     "output_type": "stream",
     "text": [
      "Adjusting learning rate of group 0 to 6.2118e-04.\n",
      "Adjusting learning rate of group 0 to 6.1623e-04.\n",
      "Adjusting learning rate of group 0 to 6.1126e-04.\n",
      "Adjusting learning rate of group 0 to 6.0628e-04.\n",
      "Adjusting learning rate of group 0 to 6.0130e-04.\n",
      "Adjusting learning rate of group 0 to 5.9630e-04.\n",
      "Adjusting learning rate of group 0 to 5.9129e-04.\n",
      "Adjusting learning rate of group 0 to 5.8627e-04.\n",
      "Adjusting learning rate of group 0 to 5.8124e-04.\n",
      "Adjusting learning rate of group 0 to 5.7620e-04.\n"
     ]
    },
    {
     "data": {
      "application/vnd.jupyter.widget-view+json": {
       "model_id": "092c40185c5b462193f752d6f40b491e",
       "version_major": 2,
       "version_minor": 0
      },
      "text/plain": [
       "Validation: |          | 0/? [00:00<?, ?it/s]"
      ]
     },
     "metadata": {},
     "output_type": "display_data"
    },
    {
     "name": "stdout",
     "output_type": "stream",
     "text": [
      "Adjusting learning rate of group 0 to 5.7116e-04.\n",
      "Adjusting learning rate of group 0 to 5.6611e-04.\n",
      "Adjusting learning rate of group 0 to 5.6105e-04.\n",
      "Adjusting learning rate of group 0 to 5.5598e-04.\n",
      "Adjusting learning rate of group 0 to 5.5091e-04.\n",
      "Adjusting learning rate of group 0 to 5.4584e-04.\n",
      "Adjusting learning rate of group 0 to 5.4076e-04.\n",
      "Adjusting learning rate of group 0 to 5.3567e-04.\n",
      "Adjusting learning rate of group 0 to 5.3058e-04.\n",
      "Adjusting learning rate of group 0 to 5.2549e-04.\n"
     ]
    },
    {
     "data": {
      "application/vnd.jupyter.widget-view+json": {
       "model_id": "8b6d1cc634f249b4bbe1c097322ad531",
       "version_major": 2,
       "version_minor": 0
      },
      "text/plain": [
       "Validation: |          | 0/? [00:00<?, ?it/s]"
      ]
     },
     "metadata": {},
     "output_type": "display_data"
    },
    {
     "name": "stdout",
     "output_type": "stream",
     "text": [
      "Adjusting learning rate of group 0 to 5.2040e-04.\n",
      "Adjusting learning rate of group 0 to 5.1530e-04.\n",
      "Adjusting learning rate of group 0 to 5.1020e-04.\n",
      "Adjusting learning rate of group 0 to 5.0510e-04.\n",
      "Adjusting learning rate of group 0 to 5.0000e-04.\n",
      "Adjusting learning rate of group 0 to 4.9490e-04.\n",
      "Adjusting learning rate of group 0 to 4.8980e-04.\n",
      "Adjusting learning rate of group 0 to 4.8470e-04.\n",
      "Adjusting learning rate of group 0 to 4.7961e-04.\n",
      "Adjusting learning rate of group 0 to 4.7451e-04.\n"
     ]
    },
    {
     "data": {
      "application/vnd.jupyter.widget-view+json": {
       "model_id": "100bd4b7afe04dd3b4d48c0224270d32",
       "version_major": 2,
       "version_minor": 0
      },
      "text/plain": [
       "Validation: |          | 0/? [00:00<?, ?it/s]"
      ]
     },
     "metadata": {},
     "output_type": "display_data"
    },
    {
     "name": "stdout",
     "output_type": "stream",
     "text": [
      "Adjusting learning rate of group 0 to 4.6942e-04.\n",
      "Adjusting learning rate of group 0 to 4.6433e-04.\n",
      "Adjusting learning rate of group 0 to 4.5925e-04.\n",
      "Adjusting learning rate of group 0 to 4.5417e-04.\n",
      "Adjusting learning rate of group 0 to 4.4909e-04.\n",
      "Adjusting learning rate of group 0 to 4.4402e-04.\n",
      "Adjusting learning rate of group 0 to 4.3896e-04.\n",
      "Adjusting learning rate of group 0 to 4.3390e-04.\n",
      "Adjusting learning rate of group 0 to 4.2884e-04.\n",
      "Adjusting learning rate of group 0 to 4.2380e-04.\n"
     ]
    },
    {
     "data": {
      "application/vnd.jupyter.widget-view+json": {
       "model_id": "d26b3de22aab41f684fabf07c37a07c2",
       "version_major": 2,
       "version_minor": 0
      },
      "text/plain": [
       "Validation: |          | 0/? [00:00<?, ?it/s]"
      ]
     },
     "metadata": {},
     "output_type": "display_data"
    },
    {
     "name": "stdout",
     "output_type": "stream",
     "text": [
      "Adjusting learning rate of group 0 to 4.1876e-04.\n",
      "Adjusting learning rate of group 0 to 4.1374e-04.\n",
      "Adjusting learning rate of group 0 to 4.0872e-04.\n",
      "Adjusting learning rate of group 0 to 4.0371e-04.\n",
      "Adjusting learning rate of group 0 to 3.9871e-04.\n",
      "Adjusting learning rate of group 0 to 3.9372e-04.\n",
      "Adjusting learning rate of group 0 to 3.8874e-04.\n",
      "Adjusting learning rate of group 0 to 3.8378e-04.\n",
      "Adjusting learning rate of group 0 to 3.7882e-04.\n",
      "Adjusting learning rate of group 0 to 3.7388e-04.\n"
     ]
    },
    {
     "data": {
      "application/vnd.jupyter.widget-view+json": {
       "model_id": "45219b8244784bd1bf9370c5ced034a0",
       "version_major": 2,
       "version_minor": 0
      },
      "text/plain": [
       "Validation: |          | 0/? [00:00<?, ?it/s]"
      ]
     },
     "metadata": {},
     "output_type": "display_data"
    },
    {
     "name": "stdout",
     "output_type": "stream",
     "text": [
      "Adjusting learning rate of group 0 to 3.6895e-04.\n",
      "Adjusting learning rate of group 0 to 3.6404e-04.\n",
      "Adjusting learning rate of group 0 to 3.5914e-04.\n",
      "Adjusting learning rate of group 0 to 3.5425e-04.\n",
      "Adjusting learning rate of group 0 to 3.4938e-04.\n",
      "Adjusting learning rate of group 0 to 3.4452e-04.\n",
      "Adjusting learning rate of group 0 to 3.3969e-04.\n",
      "Adjusting learning rate of group 0 to 3.3486e-04.\n",
      "Adjusting learning rate of group 0 to 3.3006e-04.\n",
      "Adjusting learning rate of group 0 to 3.2527e-04.\n"
     ]
    },
    {
     "data": {
      "application/vnd.jupyter.widget-view+json": {
       "model_id": "f9e1338748c448e5af1e27a56e8a32e6",
       "version_major": 2,
       "version_minor": 0
      },
      "text/plain": [
       "Validation: |          | 0/? [00:00<?, ?it/s]"
      ]
     },
     "metadata": {},
     "output_type": "display_data"
    },
    {
     "name": "stdout",
     "output_type": "stream",
     "text": [
      "Adjusting learning rate of group 0 to 3.2050e-04.\n",
      "Adjusting learning rate of group 0 to 3.1575e-04.\n",
      "Adjusting learning rate of group 0 to 3.1102e-04.\n",
      "Adjusting learning rate of group 0 to 3.0631e-04.\n",
      "Adjusting learning rate of group 0 to 3.0162e-04.\n",
      "Adjusting learning rate of group 0 to 2.9695e-04.\n",
      "Adjusting learning rate of group 0 to 2.9230e-04.\n",
      "Adjusting learning rate of group 0 to 2.8767e-04.\n",
      "Adjusting learning rate of group 0 to 2.8306e-04.\n",
      "Adjusting learning rate of group 0 to 2.7848e-04.\n"
     ]
    },
    {
     "data": {
      "application/vnd.jupyter.widget-view+json": {
       "model_id": "b4f6f002577d4b93a54e2c48611d1fb2",
       "version_major": 2,
       "version_minor": 0
      },
      "text/plain": [
       "Validation: |          | 0/? [00:00<?, ?it/s]"
      ]
     },
     "metadata": {},
     "output_type": "display_data"
    },
    {
     "name": "stdout",
     "output_type": "stream",
     "text": [
      "Adjusting learning rate of group 0 to 2.7392e-04.\n",
      "Adjusting learning rate of group 0 to 2.6938e-04.\n",
      "Adjusting learning rate of group 0 to 2.6487e-04.\n",
      "Adjusting learning rate of group 0 to 2.6038e-04.\n",
      "Adjusting learning rate of group 0 to 2.5591e-04.\n",
      "Adjusting learning rate of group 0 to 2.5148e-04.\n",
      "Adjusting learning rate of group 0 to 2.4706e-04.\n",
      "Adjusting learning rate of group 0 to 2.4268e-04.\n",
      "Adjusting learning rate of group 0 to 2.3832e-04.\n",
      "Adjusting learning rate of group 0 to 2.3399e-04.\n"
     ]
    },
    {
     "data": {
      "application/vnd.jupyter.widget-view+json": {
       "model_id": "7e524e9f3c294b0b93ae42de739d7ecb",
       "version_major": 2,
       "version_minor": 0
      },
      "text/plain": [
       "Validation: |          | 0/? [00:00<?, ?it/s]"
      ]
     },
     "metadata": {},
     "output_type": "display_data"
    },
    {
     "name": "stdout",
     "output_type": "stream",
     "text": [
      "Adjusting learning rate of group 0 to 2.2968e-04.\n",
      "Adjusting learning rate of group 0 to 2.2541e-04.\n",
      "Adjusting learning rate of group 0 to 2.2116e-04.\n",
      "Adjusting learning rate of group 0 to 2.1694e-04.\n",
      "Adjusting learning rate of group 0 to 2.1275e-04.\n",
      "Adjusting learning rate of group 0 to 2.0859e-04.\n",
      "Adjusting learning rate of group 0 to 2.0446e-04.\n",
      "Adjusting learning rate of group 0 to 2.0036e-04.\n",
      "Adjusting learning rate of group 0 to 1.9630e-04.\n",
      "Adjusting learning rate of group 0 to 1.9226e-04.\n"
     ]
    },
    {
     "data": {
      "application/vnd.jupyter.widget-view+json": {
       "model_id": "c748bbc043974baf84f0f7e3413dca50",
       "version_major": 2,
       "version_minor": 0
      },
      "text/plain": [
       "Validation: |          | 0/? [00:00<?, ?it/s]"
      ]
     },
     "metadata": {},
     "output_type": "display_data"
    },
    {
     "name": "stdout",
     "output_type": "stream",
     "text": [
      "Adjusting learning rate of group 0 to 1.8826e-04.\n",
      "Adjusting learning rate of group 0 to 1.8429e-04.\n",
      "Adjusting learning rate of group 0 to 1.8035e-04.\n",
      "Adjusting learning rate of group 0 to 1.7644e-04.\n",
      "Adjusting learning rate of group 0 to 1.7257e-04.\n",
      "Adjusting learning rate of group 0 to 1.6874e-04.\n",
      "Adjusting learning rate of group 0 to 1.6493e-04.\n",
      "Adjusting learning rate of group 0 to 1.6117e-04.\n",
      "Adjusting learning rate of group 0 to 1.5743e-04.\n",
      "Adjusting learning rate of group 0 to 1.5374e-04.\n"
     ]
    },
    {
     "data": {
      "application/vnd.jupyter.widget-view+json": {
       "model_id": "ea29a508ace040cc8c3365a2ab672e7d",
       "version_major": 2,
       "version_minor": 0
      },
      "text/plain": [
       "Validation: |          | 0/? [00:00<?, ?it/s]"
      ]
     },
     "metadata": {},
     "output_type": "display_data"
    },
    {
     "name": "stdout",
     "output_type": "stream",
     "text": [
      "Adjusting learning rate of group 0 to 1.5007e-04.\n",
      "Adjusting learning rate of group 0 to 1.4645e-04.\n",
      "Adjusting learning rate of group 0 to 1.4286e-04.\n",
      "Adjusting learning rate of group 0 to 1.3931e-04.\n",
      "Adjusting learning rate of group 0 to 1.3580e-04.\n",
      "Adjusting learning rate of group 0 to 1.3232e-04.\n",
      "Adjusting learning rate of group 0 to 1.2889e-04.\n",
      "Adjusting learning rate of group 0 to 1.2549e-04.\n",
      "Adjusting learning rate of group 0 to 1.2213e-04.\n",
      "Adjusting learning rate of group 0 to 1.1881e-04.\n"
     ]
    },
    {
     "data": {
      "application/vnd.jupyter.widget-view+json": {
       "model_id": "41f929cd31a64c039b68abb534fe26d1",
       "version_major": 2,
       "version_minor": 0
      },
      "text/plain": [
       "Validation: |          | 0/? [00:00<?, ?it/s]"
      ]
     },
     "metadata": {},
     "output_type": "display_data"
    },
    {
     "name": "stdout",
     "output_type": "stream",
     "text": [
      "Adjusting learning rate of group 0 to 1.1553e-04.\n",
      "Adjusting learning rate of group 0 to 1.1229e-04.\n",
      "Adjusting learning rate of group 0 to 1.0909e-04.\n",
      "Adjusting learning rate of group 0 to 1.0593e-04.\n",
      "Adjusting learning rate of group 0 to 1.0281e-04.\n",
      "Adjusting learning rate of group 0 to 9.9733e-05.\n",
      "Adjusting learning rate of group 0 to 9.6698e-05.\n",
      "Adjusting learning rate of group 0 to 9.3704e-05.\n",
      "Adjusting learning rate of group 0 to 9.0753e-05.\n",
      "Adjusting learning rate of group 0 to 8.7844e-05.\n"
     ]
    },
    {
     "data": {
      "application/vnd.jupyter.widget-view+json": {
       "model_id": "f0b60b723c204575a040d1d8ccdbf414",
       "version_major": 2,
       "version_minor": 0
      },
      "text/plain": [
       "Validation: |          | 0/? [00:00<?, ?it/s]"
      ]
     },
     "metadata": {},
     "output_type": "display_data"
    },
    {
     "name": "stdout",
     "output_type": "stream",
     "text": [
      "Adjusting learning rate of group 0 to 8.4979e-05.\n",
      "Adjusting learning rate of group 0 to 8.2156e-05.\n",
      "Adjusting learning rate of group 0 to 7.9377e-05.\n",
      "Adjusting learning rate of group 0 to 7.6642e-05.\n",
      "Adjusting learning rate of group 0 to 7.3950e-05.\n",
      "Adjusting learning rate of group 0 to 7.1303e-05.\n",
      "Adjusting learning rate of group 0 to 6.8701e-05.\n",
      "Adjusting learning rate of group 0 to 6.6144e-05.\n",
      "Adjusting learning rate of group 0 to 6.3631e-05.\n",
      "Adjusting learning rate of group 0 to 6.1164e-05.\n"
     ]
    },
    {
     "data": {
      "application/vnd.jupyter.widget-view+json": {
       "model_id": "b43c5ef7770147578fafcefdced65f6d",
       "version_major": 2,
       "version_minor": 0
      },
      "text/plain": [
       "Validation: |          | 0/? [00:00<?, ?it/s]"
      ]
     },
     "metadata": {},
     "output_type": "display_data"
    },
    {
     "name": "stdout",
     "output_type": "stream",
     "text": [
      "Adjusting learning rate of group 0 to 5.8743e-05.\n",
      "Adjusting learning rate of group 0 to 5.6368e-05.\n",
      "Adjusting learning rate of group 0 to 5.4038e-05.\n",
      "Adjusting learning rate of group 0 to 5.1756e-05.\n",
      "Adjusting learning rate of group 0 to 4.9519e-05.\n",
      "Adjusting learning rate of group 0 to 4.7330e-05.\n",
      "Adjusting learning rate of group 0 to 4.5188e-05.\n",
      "Adjusting learning rate of group 0 to 4.3093e-05.\n",
      "Adjusting learning rate of group 0 to 4.1046e-05.\n",
      "Adjusting learning rate of group 0 to 3.9046e-05.\n"
     ]
    },
    {
     "data": {
      "application/vnd.jupyter.widget-view+json": {
       "model_id": "680b4941143b4d6a8d347ffde8ffd58d",
       "version_major": 2,
       "version_minor": 0
      },
      "text/plain": [
       "Validation: |          | 0/? [00:00<?, ?it/s]"
      ]
     },
     "metadata": {},
     "output_type": "display_data"
    },
    {
     "name": "stdout",
     "output_type": "stream",
     "text": [
      "Adjusting learning rate of group 0 to 3.7094e-05.\n",
      "Adjusting learning rate of group 0 to 3.5191e-05.\n",
      "Adjusting learning rate of group 0 to 3.3336e-05.\n",
      "Adjusting learning rate of group 0 to 3.1529e-05.\n",
      "Adjusting learning rate of group 0 to 2.9771e-05.\n",
      "Adjusting learning rate of group 0 to 2.8062e-05.\n",
      "Adjusting learning rate of group 0 to 2.6402e-05.\n",
      "Adjusting learning rate of group 0 to 2.4792e-05.\n",
      "Adjusting learning rate of group 0 to 2.3231e-05.\n",
      "Adjusting learning rate of group 0 to 2.1719e-05.\n"
     ]
    },
    {
     "data": {
      "application/vnd.jupyter.widget-view+json": {
       "model_id": "658934153e2643e38fd98549dc4a3e3d",
       "version_major": 2,
       "version_minor": 0
      },
      "text/plain": [
       "Validation: |          | 0/? [00:00<?, ?it/s]"
      ]
     },
     "metadata": {},
     "output_type": "display_data"
    },
    {
     "name": "stdout",
     "output_type": "stream",
     "text": [
      "Adjusting learning rate of group 0 to 2.0257e-05.\n",
      "Adjusting learning rate of group 0 to 1.8846e-05.\n",
      "Adjusting learning rate of group 0 to 1.7484e-05.\n",
      "Adjusting learning rate of group 0 to 1.6172e-05.\n",
      "Adjusting learning rate of group 0 to 1.4911e-05.\n",
      "Adjusting learning rate of group 0 to 1.3700e-05.\n",
      "Adjusting learning rate of group 0 to 1.2540e-05.\n",
      "Adjusting learning rate of group 0 to 1.1431e-05.\n",
      "Adjusting learning rate of group 0 to 1.0372e-05.\n",
      "Adjusting learning rate of group 0 to 9.3642e-06.\n"
     ]
    },
    {
     "data": {
      "application/vnd.jupyter.widget-view+json": {
       "model_id": "04d2f21fc93b4299b3a21c7486ca01ab",
       "version_major": 2,
       "version_minor": 0
      },
      "text/plain": [
       "Validation: |          | 0/? [00:00<?, ?it/s]"
      ]
     },
     "metadata": {},
     "output_type": "display_data"
    },
    {
     "name": "stdout",
     "output_type": "stream",
     "text": [
      "Adjusting learning rate of group 0 to 8.4075e-06.\n",
      "Adjusting learning rate of group 0 to 7.5020e-06.\n",
      "Adjusting learning rate of group 0 to 6.6477e-06.\n",
      "Adjusting learning rate of group 0 to 5.8448e-06.\n",
      "Adjusting learning rate of group 0 to 5.0933e-06.\n",
      "Adjusting learning rate of group 0 to 4.3932e-06.\n",
      "Adjusting learning rate of group 0 to 3.7447e-06.\n",
      "Adjusting learning rate of group 0 to 3.1479e-06.\n",
      "Adjusting learning rate of group 0 to 2.6027e-06.\n",
      "Adjusting learning rate of group 0 to 2.1093e-06.\n"
     ]
    },
    {
     "data": {
      "application/vnd.jupyter.widget-view+json": {
       "model_id": "d55a6f0141da4fcb89d8ff4923e9e193",
       "version_major": 2,
       "version_minor": 0
      },
      "text/plain": [
       "Validation: |          | 0/? [00:00<?, ?it/s]"
      ]
     },
     "metadata": {},
     "output_type": "display_data"
    },
    {
     "name": "stdout",
     "output_type": "stream",
     "text": [
      "Adjusting learning rate of group 0 to 1.6677e-06.\n",
      "Adjusting learning rate of group 0 to 1.2779e-06.\n",
      "Adjusting learning rate of group 0 to 9.4006e-07.\n",
      "Adjusting learning rate of group 0 to 6.5410e-07.\n",
      "Adjusting learning rate of group 0 to 4.2010e-07.\n",
      "Adjusting learning rate of group 0 to 2.3807e-07.\n",
      "Adjusting learning rate of group 0 to 1.0804e-07.\n",
      "Adjusting learning rate of group 0 to 3.0010e-08.\n",
      "Adjusting learning rate of group 0 to 4.0000e-09.\n",
      "Adjusting learning rate of group 0 to 3.0010e-08.\n"
     ]
    },
    {
     "data": {
      "application/vnd.jupyter.widget-view+json": {
       "model_id": "0e1df06b17c14cc9a4fac9c7ecaebd24",
       "version_major": 2,
       "version_minor": 0
      },
      "text/plain": [
       "Validation: |          | 0/? [00:00<?, ?it/s]"
      ]
     },
     "metadata": {},
     "output_type": "display_data"
    },
    {
     "name": "stderr",
     "output_type": "stream",
     "text": [
      "`Trainer.fit` stopped: `max_epochs=44` reached.\n"
     ]
    },
    {
     "data": {
      "image/png": "[encoded data removed]",
      "text/plain": [
       "<Figure size 640x480 with 1 Axes>"
      ]
     },
     "metadata": {},
     "output_type": "display_data"
    },
    {
     "data": {
      "image/png": "[encoded data removed]",
      "text/plain": [
       "<Figure size 640x480 with 1 Axes>"
      ]
     },
     "metadata": {},
     "output_type": "display_data"
    },
    {
     "data": {
      "image/png": "[encoded data removed]",
      "text/plain": [
       "<Figure size 640x480 with 1 Axes>"
      ]
     },
     "metadata": {},
     "output_type": "display_data"
    },
    {
     "data": {
      "text/html": [
       "<div>\n",
       "<style scoped>\n",
       "    .dataframe tbody tr th:only-of-type {\n",
       "        vertical-align: middle;\n",
       "    }\n",
       "\n",
       "    .dataframe tbody tr th {\n",
       "        vertical-align: top;\n",
       "    }\n",
       "\n",
       "    .dataframe thead th {\n",
       "        text-align: right;\n",
       "    }\n",
       "</style>\n",
       "<table border=\"1\" class=\"dataframe\">\n",
       "  <thead>\n",
       "    <tr style=\"text-align: right;\">\n",
       "      <th></th>\n",
       "      <th>step</th>\n",
       "      <th>train/loss_rec_step</th>\n",
       "      <th>lr-AdamW</th>\n",
       "      <th>train/loss_pred_step</th>\n",
       "      <th>val/loss_pred_step</th>\n",
       "      <th>val/loss_rec_step</th>\n",
       "      <th>val/loss_rec_epoch</th>\n",
       "      <th>val/auroc</th>\n",
       "      <th>val/l1_loss</th>\n",
       "      <th>val/n</th>\n",
       "      <th>val/acc</th>\n",
       "      <th>val/l2_loss</th>\n",
       "      <th>val/loss_pred_epoch</th>\n",
       "      <th>train/auroc</th>\n",
       "      <th>train/n</th>\n",
       "      <th>train/acc</th>\n",
       "      <th>train/loss_rec_epoch</th>\n",
       "      <th>train/loss_pred_epoch</th>\n",
       "      <th>train/l1_loss</th>\n",
       "      <th>train/l2_loss</th>\n",
       "    </tr>\n",
       "    <tr>\n",
       "      <th>epoch</th>\n",
       "      <th></th>\n",
       "      <th></th>\n",
       "      <th></th>\n",
       "      <th></th>\n",
       "      <th></th>\n",
       "      <th></th>\n",
       "      <th></th>\n",
       "      <th></th>\n",
       "      <th></th>\n",
       "      <th></th>\n",
       "      <th></th>\n",
       "      <th></th>\n",
       "      <th></th>\n",
       "      <th></th>\n",
       "      <th></th>\n",
       "      <th></th>\n",
       "      <th></th>\n",
       "      <th></th>\n",
       "      <th></th>\n",
       "      <th></th>\n",
       "    </tr>\n",
       "  </thead>\n",
       "  <tbody>\n",
       "    <tr>\n",
       "      <th>0.0</th>\n",
       "      <td>10</td>\n",
       "      <td>5.441649e+08</td>\n",
       "      <td>5.373681e-05</td>\n",
       "      <td>0.683651</td>\n",
       "      <td>0.687014</td>\n",
       "      <td>6.002584e+08</td>\n",
       "      <td>5.864893e+08</td>\n",
       "      <td>0.573195</td>\n",
       "      <td>425.811371</td>\n",
       "      <td>154.0</td>\n",
       "      <td>0.512987</td>\n",
       "      <td>5.864891e+08</td>\n",
       "      <td>0.692476</td>\n",
       "      <td>0.600631</td>\n",
       "      <td>307.0</td>\n",
       "      <td>0.615635</td>\n",
       "      <td>5.954105e+08</td>\n",
       "      <td>0.688230</td>\n",
       "      <td>427.493835</td>\n",
       "      <td>5.954103e+08</td>\n",
       "    </tr>\n",
       "    <tr>\n",
       "      <th>1.0</th>\n",
       "      <td>20</td>\n",
       "      <td>5.661091e+08</td>\n",
       "      <td>9.416100e-05</td>\n",
       "      <td>0.688336</td>\n",
       "      <td>0.687014</td>\n",
       "      <td>6.002584e+08</td>\n",
       "      <td>5.864893e+08</td>\n",
       "      <td>0.573195</td>\n",
       "      <td>425.811371</td>\n",
       "      <td>154.0</td>\n",
       "      <td>0.512987</td>\n",
       "      <td>5.864891e+08</td>\n",
       "      <td>0.692476</td>\n",
       "      <td>0.599111</td>\n",
       "      <td>307.0</td>\n",
       "      <td>0.615635</td>\n",
       "      <td>5.954105e+08</td>\n",
       "      <td>0.688230</td>\n",
       "      <td>427.493835</td>\n",
       "      <td>5.954102e+08</td>\n",
       "    </tr>\n",
       "    <tr>\n",
       "      <th>2.0</th>\n",
       "      <td>30</td>\n",
       "      <td>5.780456e+08</td>\n",
       "      <td>1.589588e-04</td>\n",
       "      <td>0.689041</td>\n",
       "      <td>0.692700</td>\n",
       "      <td>5.468140e+08</td>\n",
       "      <td>5.346543e+08</td>\n",
       "      <td>0.591617</td>\n",
       "      <td>14155.970703</td>\n",
       "      <td>154.0</td>\n",
       "      <td>0.545455</td>\n",
       "      <td>5.346473e+08</td>\n",
       "      <td>0.692791</td>\n",
       "      <td>0.571417</td>\n",
       "      <td>307.0</td>\n",
       "      <td>0.615635</td>\n",
       "      <td>5.861766e+08</td>\n",
       "      <td>0.686761</td>\n",
       "      <td>4190.505859</td>\n",
       "      <td>5.861746e+08</td>\n",
       "    </tr>\n",
       "    <tr>\n",
       "      <th>3.0</th>\n",
       "      <td>40</td>\n",
       "      <td>2.288594e+08</td>\n",
       "      <td>2.444214e-04</td>\n",
       "      <td>0.735807</td>\n",
       "      <td>0.784063</td>\n",
       "      <td>2.040752e+08</td>\n",
       "      <td>2.024271e+08</td>\n",
       "      <td>0.569948</td>\n",
       "      <td>44915.058594</td>\n",
       "      <td>154.0</td>\n",
       "      <td>0.474026</td>\n",
       "      <td>2.024046e+08</td>\n",
       "      <td>0.722302</td>\n",
       "      <td>0.525330</td>\n",
       "      <td>307.0</td>\n",
       "      <td>0.384365</td>\n",
       "      <td>4.085785e+08</td>\n",
       "      <td>0.708873</td>\n",
       "      <td>26462.203125</td>\n",
       "      <td>4.085653e+08</td>\n",
       "    </tr>\n",
       "    <tr>\n",
       "      <th>4.0</th>\n",
       "      <td>50</td>\n",
       "      <td>1.316204e+08</td>\n",
       "      <td>3.456573e-04</td>\n",
       "      <td>1.084260</td>\n",
       "      <td>0.938119</td>\n",
       "      <td>1.014039e+08</td>\n",
       "      <td>1.060507e+08</td>\n",
       "      <td>0.493030</td>\n",
       "      <td>47810.402344</td>\n",
       "      <td>154.0</td>\n",
       "      <td>0.487013</td>\n",
       "      <td>1.060268e+08</td>\n",
       "      <td>0.807023</td>\n",
       "      <td>0.535387</td>\n",
       "      <td>307.0</td>\n",
       "      <td>0.381107</td>\n",
       "      <td>1.910734e+08</td>\n",
       "      <td>0.878755</td>\n",
       "      <td>50520.066406</td>\n",
       "      <td>1.910481e+08</td>\n",
       "    </tr>\n",
       "    <tr>\n",
       "      <th>5.0</th>\n",
       "      <td>60</td>\n",
       "      <td>6.144871e+07</td>\n",
       "      <td>4.568719e-04</td>\n",
       "      <td>0.809171</td>\n",
       "      <td>0.938339</td>\n",
       "      <td>4.313380e+07</td>\n",
       "      <td>5.075046e+07</td>\n",
       "      <td>0.514143</td>\n",
       "      <td>41006.164062</td>\n",
       "      <td>154.0</td>\n",
       "      <td>0.480519</td>\n",
       "      <td>5.072996e+07</td>\n",
       "      <td>0.805214</td>\n",
       "      <td>0.525106</td>\n",
       "      <td>307.0</td>\n",
       "      <td>0.397394</td>\n",
       "      <td>7.391732e+07</td>\n",
       "      <td>0.864978</td>\n",
       "      <td>39737.753906</td>\n",
       "      <td>7.389744e+07</td>\n",
       "    </tr>\n",
       "    <tr>\n",
       "      <th>6.0</th>\n",
       "      <td>70</td>\n",
       "      <td>3.327324e+07</td>\n",
       "      <td>5.716998e-04</td>\n",
       "      <td>0.893109</td>\n",
       "      <td>0.852268</td>\n",
       "      <td>2.876582e+07</td>\n",
       "      <td>3.594282e+07</td>\n",
       "      <td>0.510957</td>\n",
       "      <td>35443.972656</td>\n",
       "      <td>154.0</td>\n",
       "      <td>0.487013</td>\n",
       "      <td>3.592510e+07</td>\n",
       "      <td>0.757081</td>\n",
       "      <td>0.512834</td>\n",
       "      <td>307.0</td>\n",
       "      <td>0.397394</td>\n",
       "      <td>4.383755e+07</td>\n",
       "      <td>0.871334</td>\n",
       "      <td>37637.578125</td>\n",
       "      <td>4.381874e+07</td>\n",
       "    </tr>\n",
       "    <tr>\n",
       "      <th>7.0</th>\n",
       "      <td>80</td>\n",
       "      <td>2.731456e+07</td>\n",
       "      <td>6.835686e-04</td>\n",
       "      <td>0.845645</td>\n",
       "      <td>0.840338</td>\n",
       "      <td>2.592272e+07</td>\n",
       "      <td>3.007823e+07</td>\n",
       "      <td>0.538100</td>\n",
       "      <td>32350.246094</td>\n",
       "      <td>154.0</td>\n",
       "      <td>0.480519</td>\n",
       "      <td>3.006205e+07</td>\n",
       "      <td>0.759875</td>\n",
       "      <td>0.500923</td>\n",
       "      <td>307.0</td>\n",
       "      <td>0.387622</td>\n",
       "      <td>3.276945e+07</td>\n",
       "      <td>0.812428</td>\n",
       "      <td>33550.609375</td>\n",
       "      <td>3.275268e+07</td>\n",
       "    </tr>\n",
       "    <tr>\n",
       "      <th>8.0</th>\n",
       "      <td>90</td>\n",
       "      <td>2.350157e+07</td>\n",
       "      <td>7.860752e-04</td>\n",
       "      <td>0.786065</td>\n",
       "      <td>0.822025</td>\n",
       "      <td>2.319507e+07</td>\n",
       "      <td>2.541458e+07</td>\n",
       "      <td>0.494422</td>\n",
       "      <td>30703.947266</td>\n",
       "      <td>154.0</td>\n",
       "      <td>0.480519</td>\n",
       "      <td>2.539923e+07</td>\n",
       "      <td>0.753329</td>\n",
       "      <td>0.513217</td>\n",
       "      <td>307.0</td>\n",
       "      <td>0.397394</td>\n",
       "      <td>2.584278e+07</td>\n",
       "      <td>0.792109</td>\n",
       "      <td>31261.455078</td>\n",
       "      <td>2.582715e+07</td>\n",
       "    </tr>\n",
       "    <tr>\n",
       "      <th>9.0</th>\n",
       "      <td>100</td>\n",
       "      <td>2.994829e+07</td>\n",
       "      <td>8.733526e-04</td>\n",
       "      <td>0.814240</td>\n",
       "      <td>0.787386</td>\n",
       "      <td>2.034466e+07</td>\n",
       "      <td>2.253749e+07</td>\n",
       "      <td>0.505062</td>\n",
       "      <td>27816.224609</td>\n",
       "      <td>154.0</td>\n",
       "      <td>0.448052</td>\n",
       "      <td>2.252358e+07</td>\n",
       "      <td>0.740945</td>\n",
       "      <td>0.490849</td>\n",
       "      <td>307.0</td>\n",
       "      <td>0.387622</td>\n",
       "      <td>2.317300e+07</td>\n",
       "      <td>0.797736</td>\n",
       "      <td>29715.527344</td>\n",
       "      <td>2.315815e+07</td>\n",
       "    </tr>\n",
       "    <tr>\n",
       "      <th>10.0</th>\n",
       "      <td>110</td>\n",
       "      <td>2.287953e+07</td>\n",
       "      <td>9.404052e-04</td>\n",
       "      <td>0.862943</td>\n",
       "      <td>0.864542</td>\n",
       "      <td>1.684605e+07</td>\n",
       "      <td>1.899092e+07</td>\n",
       "      <td>0.499808</td>\n",
       "      <td>27202.062500</td>\n",
       "      <td>154.0</td>\n",
       "      <td>0.480519</td>\n",
       "      <td>1.897732e+07</td>\n",
       "      <td>0.788708</td>\n",
       "      <td>0.498627</td>\n",
       "      <td>307.0</td>\n",
       "      <td>0.394137</td>\n",
       "      <td>2.169587e+07</td>\n",
       "      <td>0.808030</td>\n",
       "      <td>27947.347656</td>\n",
       "      <td>2.168190e+07</td>\n",
       "    </tr>\n",
       "    <tr>\n",
       "      <th>11.0</th>\n",
       "      <td>120</td>\n",
       "      <td>1.485165e+07</td>\n",
       "      <td>9.833952e-04</td>\n",
       "      <td>1.018186</td>\n",
       "      <td>0.884091</td>\n",
       "      <td>1.360241e+07</td>\n",
       "      <td>1.530007e+07</td>\n",
       "      <td>0.482483</td>\n",
       "      <td>26742.041016</td>\n",
       "      <td>154.0</td>\n",
       "      <td>0.474026</td>\n",
       "      <td>1.528670e+07</td>\n",
       "      <td>0.801715</td>\n",
       "      <td>0.482319</td>\n",
       "      <td>307.0</td>\n",
       "      <td>0.387622</td>\n",
       "      <td>1.768082e+07</td>\n",
       "      <td>0.860365</td>\n",
       "      <td>26572.035156</td>\n",
       "      <td>1.766754e+07</td>\n",
       "    </tr>\n",
       "    <tr>\n",
       "      <th>12.0</th>\n",
       "      <td>130</td>\n",
       "      <td>1.076234e+07</td>\n",
       "      <td>9.998620e-04</td>\n",
       "      <td>0.723560</td>\n",
       "      <td>0.779093</td>\n",
       "      <td>1.675769e+07</td>\n",
       "      <td>1.771987e+07</td>\n",
       "      <td>0.499667</td>\n",
       "      <td>27264.052734</td>\n",
       "      <td>154.0</td>\n",
       "      <td>0.474026</td>\n",
       "      <td>1.770624e+07</td>\n",
       "      <td>0.768020</td>\n",
       "      <td>0.492767</td>\n",
       "      <td>307.0</td>\n",
       "      <td>0.410423</td>\n",
       "      <td>1.450787e+07</td>\n",
       "      <td>0.863073</td>\n",
       "      <td>25934.945312</td>\n",
       "      <td>1.449490e+07</td>\n",
       "    </tr>\n",
       "    <tr>\n",
       "      <th>13.0</th>\n",
       "      <td>140</td>\n",
       "      <td>1.535162e+07</td>\n",
       "      <td>9.978947e-04</td>\n",
       "      <td>0.816197</td>\n",
       "      <td>0.827362</td>\n",
       "      <td>1.046902e+07</td>\n",
       "      <td>1.126796e+07</td>\n",
       "      <td>0.476489</td>\n",
       "      <td>24805.152344</td>\n",
       "      <td>154.0</td>\n",
       "      <td>0.441558</td>\n",
       "      <td>1.125555e+07</td>\n",
       "      <td>0.793914</td>\n",
       "      <td>0.506581</td>\n",
       "      <td>307.0</td>\n",
       "      <td>0.390879</td>\n",
       "      <td>1.423263e+07</td>\n",
       "      <td>0.817220</td>\n",
       "      <td>25579.869141</td>\n",
       "      <td>1.421984e+07</td>\n",
       "    </tr>\n",
       "    <tr>\n",
       "      <th>14.0</th>\n",
       "      <td>150</td>\n",
       "      <td>9.058856e+06</td>\n",
       "      <td>9.906398e-04</td>\n",
       "      <td>0.665005</td>\n",
       "      <td>0.845236</td>\n",
       "      <td>1.118747e+07</td>\n",
       "      <td>1.193214e+07</td>\n",
       "      <td>0.471701</td>\n",
       "      <td>25165.623047</td>\n",
       "      <td>154.0</td>\n",
       "      <td>0.454545</td>\n",
       "      <td>1.191955e+07</td>\n",
       "      <td>0.797385</td>\n",
       "      <td>0.466132</td>\n",
       "      <td>307.0</td>\n",
       "      <td>0.394137</td>\n",
       "      <td>1.179928e+07</td>\n",
       "      <td>0.824495</td>\n",
       "      <td>24126.640625</td>\n",
       "      <td>1.178721e+07</td>\n",
       "    </tr>\n",
       "    <tr>\n",
       "      <th>15.0</th>\n",
       "      <td>160</td>\n",
       "      <td>7.433010e+06</td>\n",
       "      <td>9.782848e-04</td>\n",
       "      <td>0.826907</td>\n",
       "      <td>0.760216</td>\n",
       "      <td>8.848390e+06</td>\n",
       "      <td>9.466553e+06</td>\n",
       "      <td>0.480605</td>\n",
       "      <td>25267.599609</td>\n",
       "      <td>154.0</td>\n",
       "      <td>0.474026</td>\n",
       "      <td>9.453919e+06</td>\n",
       "      <td>0.765557</td>\n",
       "      <td>0.454330</td>\n",
       "      <td>307.0</td>\n",
       "      <td>0.400651</td>\n",
       "      <td>9.346815e+06</td>\n",
       "      <td>0.808850</td>\n",
       "      <td>24184.070312</td>\n",
       "      <td>9.334722e+06</td>\n",
       "    </tr>\n",
       "    <tr>\n",
       "      <th>16.0</th>\n",
       "      <td>170</td>\n",
       "      <td>5.648272e+06</td>\n",
       "      <td>9.609581e-04</td>\n",
       "      <td>0.994571</td>\n",
       "      <td>0.726290</td>\n",
       "      <td>1.092849e+07</td>\n",
       "      <td>1.135968e+07</td>\n",
       "      <td>0.474316</td>\n",
       "      <td>24457.302734</td>\n",
       "      <td>154.0</td>\n",
       "      <td>0.461039</td>\n",
       "      <td>1.134746e+07</td>\n",
       "      <td>0.766995</td>\n",
       "      <td>0.469313</td>\n",
       "      <td>307.0</td>\n",
       "      <td>0.416938</td>\n",
       "      <td>7.972048e+06</td>\n",
       "      <td>0.807951</td>\n",
       "      <td>24531.482422</td>\n",
       "      <td>7.959782e+06</td>\n",
       "    </tr>\n",
       "    <tr>\n",
       "      <th>17.0</th>\n",
       "      <td>180</td>\n",
       "      <td>5.413062e+06</td>\n",
       "      <td>9.388397e-04</td>\n",
       "      <td>0.696870</td>\n",
       "      <td>0.800628</td>\n",
       "      <td>8.926939e+06</td>\n",
       "      <td>9.415244e+06</td>\n",
       "      <td>0.482496</td>\n",
       "      <td>24512.744141</td>\n",
       "      <td>154.0</td>\n",
       "      <td>0.454545</td>\n",
       "      <td>9.402988e+06</td>\n",
       "      <td>0.773413</td>\n",
       "      <td>0.454053</td>\n",
       "      <td>307.0</td>\n",
       "      <td>0.400651</td>\n",
       "      <td>8.708785e+06</td>\n",
       "      <td>0.785358</td>\n",
       "      <td>24043.013672</td>\n",
       "      <td>8.696764e+06</td>\n",
       "    </tr>\n",
       "    <tr>\n",
       "      <th>18.0</th>\n",
       "      <td>190</td>\n",
       "      <td>7.285614e+06</td>\n",
       "      <td>9.121597e-04</td>\n",
       "      <td>0.799607</td>\n",
       "      <td>0.854219</td>\n",
       "      <td>9.366768e+06</td>\n",
       "      <td>9.819262e+06</td>\n",
       "      <td>0.492334</td>\n",
       "      <td>23903.955078</td>\n",
       "      <td>154.0</td>\n",
       "      <td>0.467532</td>\n",
       "      <td>9.807309e+06</td>\n",
       "      <td>0.791529</td>\n",
       "      <td>0.450661</td>\n",
       "      <td>307.0</td>\n",
       "      <td>0.394137</td>\n",
       "      <td>7.851668e+06</td>\n",
       "      <td>0.816462</td>\n",
       "      <td>23197.699219</td>\n",
       "      <td>7.840069e+06</td>\n",
       "    </tr>\n",
       "    <tr>\n",
       "      <th>19.0</th>\n",
       "      <td>200</td>\n",
       "      <td>4.637138e+06</td>\n",
       "      <td>8.811953e-04</td>\n",
       "      <td>0.812487</td>\n",
       "      <td>0.791078</td>\n",
       "      <td>9.365259e+06</td>\n",
       "      <td>9.734963e+06</td>\n",
       "      <td>0.467670</td>\n",
       "      <td>23267.775391</td>\n",
       "      <td>154.0</td>\n",
       "      <td>0.454545</td>\n",
       "      <td>9.723329e+06</td>\n",
       "      <td>0.773010</td>\n",
       "      <td>0.446891</td>\n",
       "      <td>307.0</td>\n",
       "      <td>0.394137</td>\n",
       "      <td>7.422980e+06</td>\n",
       "      <td>0.825549</td>\n",
       "      <td>22935.119141</td>\n",
       "      <td>7.411512e+06</td>\n",
       "    </tr>\n",
       "    <tr>\n",
       "      <th>20.0</th>\n",
       "      <td>210</td>\n",
       "      <td>7.091221e+06</td>\n",
       "      <td>8.462685e-04</td>\n",
       "      <td>0.744332</td>\n",
       "      <td>0.762819</td>\n",
       "      <td>5.795845e+06</td>\n",
       "      <td>6.233088e+06</td>\n",
       "      <td>0.505717</td>\n",
       "      <td>21435.773438</td>\n",
       "      <td>154.0</td>\n",
       "      <td>0.519481</td>\n",
       "      <td>6.222370e+06</td>\n",
       "      <td>0.750935</td>\n",
       "      <td>0.438563</td>\n",
       "      <td>307.0</td>\n",
       "      <td>0.403909</td>\n",
       "      <td>7.568719e+06</td>\n",
       "      <td>0.815148</td>\n",
       "      <td>22501.644531</td>\n",
       "      <td>7.557467e+06</td>\n",
       "    </tr>\n",
       "    <tr>\n",
       "      <th>21.0</th>\n",
       "      <td>220</td>\n",
       "      <td>7.661237e+06</td>\n",
       "      <td>8.077422e-04</td>\n",
       "      <td>0.891876</td>\n",
       "      <td>0.764509</td>\n",
       "      <td>4.822360e+06</td>\n",
       "      <td>5.138458e+06</td>\n",
       "      <td>0.495882</td>\n",
       "      <td>21487.718750</td>\n",
       "      <td>154.0</td>\n",
       "      <td>0.487013</td>\n",
       "      <td>5.127713e+06</td>\n",
       "      <td>0.758149</td>\n",
       "      <td>0.430649</td>\n",
       "      <td>307.0</td>\n",
       "      <td>0.400651</td>\n",
       "      <td>5.943604e+06</td>\n",
       "      <td>0.809750</td>\n",
       "      <td>22050.935547</td>\n",
       "      <td>5.932578e+06</td>\n",
       "    </tr>\n",
       "    <tr>\n",
       "      <th>22.0</th>\n",
       "      <td>230</td>\n",
       "      <td>4.608010e+06</td>\n",
       "      <td>7.660170e-04</td>\n",
       "      <td>0.813810</td>\n",
       "      <td>0.776539</td>\n",
       "      <td>9.626496e+06</td>\n",
       "      <td>9.767436e+06</td>\n",
       "      <td>0.499713</td>\n",
       "      <td>20790.322266</td>\n",
       "      <td>154.0</td>\n",
       "      <td>0.461039</td>\n",
       "      <td>9.757041e+06</td>\n",
       "      <td>0.767783</td>\n",
       "      <td>0.436015</td>\n",
       "      <td>307.0</td>\n",
       "      <td>0.423453</td>\n",
       "      <td>5.465808e+06</td>\n",
       "      <td>0.809477</td>\n",
       "      <td>21991.695312</td>\n",
       "      <td>5.454812e+06</td>\n",
       "    </tr>\n",
       "    <tr>\n",
       "      <th>23.0</th>\n",
       "      <td>240</td>\n",
       "      <td>7.127932e+06</td>\n",
       "      <td>7.215265e-04</td>\n",
       "      <td>0.890722</td>\n",
       "      <td>0.799038</td>\n",
       "      <td>5.686918e+06</td>\n",
       "      <td>5.956794e+06</td>\n",
       "      <td>0.498232</td>\n",
       "      <td>21395.232422</td>\n",
       "      <td>154.0</td>\n",
       "      <td>0.474026</td>\n",
       "      <td>5.946096e+06</td>\n",
       "      <td>0.771326</td>\n",
       "      <td>0.430622</td>\n",
       "      <td>307.0</td>\n",
       "      <td>0.381107</td>\n",
       "      <td>6.419428e+06</td>\n",
       "      <td>0.825284</td>\n",
       "      <td>21516.828125</td>\n",
       "      <td>6.408670e+06</td>\n",
       "    </tr>\n",
       "    <tr>\n",
       "      <th>24.0</th>\n",
       "      <td>250</td>\n",
       "      <td>5.027418e+06</td>\n",
       "      <td>6.747334e-04</td>\n",
       "      <td>0.906457</td>\n",
       "      <td>0.764683</td>\n",
       "      <td>4.603406e+06</td>\n",
       "      <td>4.892466e+06</td>\n",
       "      <td>0.497485</td>\n",
       "      <td>20732.802734</td>\n",
       "      <td>154.0</td>\n",
       "      <td>0.506494</td>\n",
       "      <td>4.882100e+06</td>\n",
       "      <td>0.758548</td>\n",
       "      <td>0.410960</td>\n",
       "      <td>307.0</td>\n",
       "      <td>0.433225</td>\n",
       "      <td>5.109246e+06</td>\n",
       "      <td>0.803481</td>\n",
       "      <td>21269.396484</td>\n",
       "      <td>5.098611e+06</td>\n",
       "    </tr>\n",
       "    <tr>\n",
       "      <th>25.0</th>\n",
       "      <td>260</td>\n",
       "      <td>4.558574e+06</td>\n",
       "      <td>6.261239e-04</td>\n",
       "      <td>0.934418</td>\n",
       "      <td>0.759815</td>\n",
       "      <td>3.618363e+06</td>\n",
       "      <td>3.888981e+06</td>\n",
       "      <td>0.504900</td>\n",
       "      <td>20599.873047</td>\n",
       "      <td>154.0</td>\n",
       "      <td>0.519481</td>\n",
       "      <td>3.878681e+06</td>\n",
       "      <td>0.760735</td>\n",
       "      <td>0.438072</td>\n",
       "      <td>307.0</td>\n",
       "      <td>0.452769</td>\n",
       "      <td>4.033897e+06</td>\n",
       "      <td>0.797715</td>\n",
       "      <td>21130.251953</td>\n",
       "      <td>4.023332e+06</td>\n",
       "    </tr>\n",
       "    <tr>\n",
       "      <th>26.0</th>\n",
       "      <td>270</td>\n",
       "      <td>2.688080e+06</td>\n",
       "      <td>5.762034e-04</td>\n",
       "      <td>0.924980</td>\n",
       "      <td>0.746374</td>\n",
       "      <td>3.541521e+06</td>\n",
       "      <td>3.750108e+06</td>\n",
       "      <td>0.513874</td>\n",
       "      <td>20692.609375</td>\n",
       "      <td>154.0</td>\n",
       "      <td>0.545455</td>\n",
       "      <td>3.739762e+06</td>\n",
       "      <td>0.761508</td>\n",
       "      <td>0.438718</td>\n",
       "      <td>307.0</td>\n",
       "      <td>0.475570</td>\n",
       "      <td>3.312253e+06</td>\n",
       "      <td>0.797124</td>\n",
       "      <td>21216.498047</td>\n",
       "      <td>3.301645e+06</td>\n",
       "    </tr>\n",
       "    <tr>\n",
       "      <th>27.0</th>\n",
       "      <td>280</td>\n",
       "      <td>2.584754e+06</td>\n",
       "      <td>5.254908e-04</td>\n",
       "      <td>0.755919</td>\n",
       "      <td>0.738016</td>\n",
       "      <td>3.005704e+06</td>\n",
       "      <td>3.253088e+06</td>\n",
       "      <td>0.504037</td>\n",
       "      <td>21107.351562</td>\n",
       "      <td>154.0</td>\n",
       "      <td>0.519481</td>\n",
       "      <td>3.242534e+06</td>\n",
       "      <td>0.763273</td>\n",
       "      <td>0.444053</td>\n",
       "      <td>307.0</td>\n",
       "      <td>0.482085</td>\n",
       "      <td>3.013418e+06</td>\n",
       "      <td>0.789957</td>\n",
       "      <td>21445.892578</td>\n",
       "      <td>3.002695e+06</td>\n",
       "    </tr>\n",
       "    <tr>\n",
       "      <th>28.0</th>\n",
       "      <td>290</td>\n",
       "      <td>2.288546e+06</td>\n",
       "      <td>4.745132e-04</td>\n",
       "      <td>0.710285</td>\n",
       "      <td>0.741451</td>\n",
       "      <td>2.653572e+06</td>\n",
       "      <td>2.904467e+06</td>\n",
       "      <td>0.497869</td>\n",
       "      <td>21347.267578</td>\n",
       "      <td>154.0</td>\n",
       "      <td>0.525974</td>\n",
       "      <td>2.893794e+06</td>\n",
       "      <td>0.762297</td>\n",
       "      <td>0.465860</td>\n",
       "      <td>307.0</td>\n",
       "      <td>0.495114</td>\n",
       "      <td>2.721990e+06</td>\n",
       "      <td>0.785185</td>\n",
       "      <td>21653.322266</td>\n",
       "      <td>2.711164e+06</td>\n",
       "    </tr>\n",
       "    <tr>\n",
       "      <th>29.0</th>\n",
       "      <td>300</td>\n",
       "      <td>1.970642e+06</td>\n",
       "      <td>4.238006e-04</td>\n",
       "      <td>0.624782</td>\n",
       "      <td>0.741720</td>\n",
       "      <td>2.609470e+06</td>\n",
       "      <td>2.872510e+06</td>\n",
       "      <td>0.498203</td>\n",
       "      <td>21626.662109</td>\n",
       "      <td>154.0</td>\n",
       "      <td>0.519481</td>\n",
       "      <td>2.861697e+06</td>\n",
       "      <td>0.761353</td>\n",
       "      <td>0.443779</td>\n",
       "      <td>307.0</td>\n",
       "      <td>0.485342</td>\n",
       "      <td>2.532927e+06</td>\n",
       "      <td>0.787990</td>\n",
       "      <td>21773.935547</td>\n",
       "      <td>2.522040e+06</td>\n",
       "    </tr>\n",
       "    <tr>\n",
       "      <th>30.0</th>\n",
       "      <td>310</td>\n",
       "      <td>2.259510e+06</td>\n",
       "      <td>3.738801e-04</td>\n",
       "      <td>0.828086</td>\n",
       "      <td>0.737505</td>\n",
       "      <td>2.564225e+06</td>\n",
       "      <td>2.825332e+06</td>\n",
       "      <td>0.494975</td>\n",
       "      <td>21481.220703</td>\n",
       "      <td>154.0</td>\n",
       "      <td>0.538961</td>\n",
       "      <td>2.814591e+06</td>\n",
       "      <td>0.763618</td>\n",
       "      <td>0.467515</td>\n",
       "      <td>307.0</td>\n",
       "      <td>0.488599</td>\n",
       "      <td>2.448023e+06</td>\n",
       "      <td>0.783616</td>\n",
       "      <td>21845.962891</td>\n",
       "      <td>2.437100e+06</td>\n",
       "    </tr>\n",
       "    <tr>\n",
       "      <th>31.0</th>\n",
       "      <td>320</td>\n",
       "      <td>2.291444e+06</td>\n",
       "      <td>3.252706e-04</td>\n",
       "      <td>0.849663</td>\n",
       "      <td>0.722091</td>\n",
       "      <td>2.366458e+06</td>\n",
       "      <td>2.658573e+06</td>\n",
       "      <td>0.505139</td>\n",
       "      <td>21634.562500</td>\n",
       "      <td>154.0</td>\n",
       "      <td>0.545455</td>\n",
       "      <td>2.647755e+06</td>\n",
       "      <td>0.758435</td>\n",
       "      <td>0.467656</td>\n",
       "      <td>307.0</td>\n",
       "      <td>0.488599</td>\n",
       "      <td>2.320734e+06</td>\n",
       "      <td>0.778579</td>\n",
       "      <td>21826.976562</td>\n",
       "      <td>2.309820e+06</td>\n",
       "    </tr>\n",
       "    <tr>\n",
       "      <th>32.0</th>\n",
       "      <td>330</td>\n",
       "      <td>2.364777e+06</td>\n",
       "      <td>2.784775e-04</td>\n",
       "      <td>0.657347</td>\n",
       "      <td>0.723100</td>\n",
       "      <td>2.341683e+06</td>\n",
       "      <td>2.620408e+06</td>\n",
       "      <td>0.505057</td>\n",
       "      <td>21761.921875</td>\n",
       "      <td>154.0</td>\n",
       "      <td>0.525974</td>\n",
       "      <td>2.609527e+06</td>\n",
       "      <td>0.758403</td>\n",
       "      <td>0.468553</td>\n",
       "      <td>307.0</td>\n",
       "      <td>0.498371</td>\n",
       "      <td>2.175214e+06</td>\n",
       "      <td>0.778695</td>\n",
       "      <td>21804.451172</td>\n",
       "      <td>2.164311e+06</td>\n",
       "    </tr>\n",
       "    <tr>\n",
       "      <th>33.0</th>\n",
       "      <td>340</td>\n",
       "      <td>1.640026e+06</td>\n",
       "      <td>2.339870e-04</td>\n",
       "      <td>0.869382</td>\n",
       "      <td>0.722604</td>\n",
       "      <td>2.181400e+06</td>\n",
       "      <td>2.437381e+06</td>\n",
       "      <td>0.508158</td>\n",
       "      <td>21726.197266</td>\n",
       "      <td>154.0</td>\n",
       "      <td>0.545455</td>\n",
       "      <td>2.426518e+06</td>\n",
       "      <td>0.758185</td>\n",
       "      <td>0.472785</td>\n",
       "      <td>307.0</td>\n",
       "      <td>0.501629</td>\n",
       "      <td>2.087931e+06</td>\n",
       "      <td>0.778114</td>\n",
       "      <td>21794.085938</td>\n",
       "      <td>2.077034e+06</td>\n",
       "    </tr>\n",
       "    <tr>\n",
       "      <th>34.0</th>\n",
       "      <td>350</td>\n",
       "      <td>1.795371e+06</td>\n",
       "      <td>1.922618e-04</td>\n",
       "      <td>0.744446</td>\n",
       "      <td>0.721080</td>\n",
       "      <td>1.974152e+06</td>\n",
       "      <td>2.272132e+06</td>\n",
       "      <td>0.510047</td>\n",
       "      <td>21737.050781</td>\n",
       "      <td>154.0</td>\n",
       "      <td>0.538961</td>\n",
       "      <td>2.261263e+06</td>\n",
       "      <td>0.757024</td>\n",
       "      <td>0.480435</td>\n",
       "      <td>307.0</td>\n",
       "      <td>0.495114</td>\n",
       "      <td>1.926204e+06</td>\n",
       "      <td>0.774824</td>\n",
       "      <td>21771.789062</td>\n",
       "      <td>1.915317e+06</td>\n",
       "    </tr>\n",
       "    <tr>\n",
       "      <th>35.0</th>\n",
       "      <td>360</td>\n",
       "      <td>1.950470e+06</td>\n",
       "      <td>1.537355e-04</td>\n",
       "      <td>0.729755</td>\n",
       "      <td>0.714659</td>\n",
       "      <td>1.923074e+06</td>\n",
       "      <td>2.174796e+06</td>\n",
       "      <td>0.504858</td>\n",
       "      <td>21725.970703</td>\n",
       "      <td>154.0</td>\n",
       "      <td>0.558442</td>\n",
       "      <td>2.163932e+06</td>\n",
       "      <td>0.756785</td>\n",
       "      <td>0.468786</td>\n",
       "      <td>307.0</td>\n",
       "      <td>0.495114</td>\n",
       "      <td>1.808270e+06</td>\n",
       "      <td>0.772539</td>\n",
       "      <td>21782.212891</td>\n",
       "      <td>1.797378e+06</td>\n",
       "    </tr>\n",
       "    <tr>\n",
       "      <th>36.0</th>\n",
       "      <td>370</td>\n",
       "      <td>2.160890e+06</td>\n",
       "      <td>1.188087e-04</td>\n",
       "      <td>0.812115</td>\n",
       "      <td>0.711554</td>\n",
       "      <td>1.814877e+06</td>\n",
       "      <td>2.091498e+06</td>\n",
       "      <td>0.512771</td>\n",
       "      <td>21656.957031</td>\n",
       "      <td>154.0</td>\n",
       "      <td>0.551948</td>\n",
       "      <td>2.080670e+06</td>\n",
       "      <td>0.755239</td>\n",
       "      <td>0.487030</td>\n",
       "      <td>307.0</td>\n",
       "      <td>0.504886</td>\n",
       "      <td>1.706876e+06</td>\n",
       "      <td>0.770320</td>\n",
       "      <td>21799.580078</td>\n",
       "      <td>1.695976e+06</td>\n",
       "    </tr>\n",
       "    <tr>\n",
       "      <th>37.0</th>\n",
       "      <td>380</td>\n",
       "      <td>1.322427e+06</td>\n",
       "      <td>8.784429e-05</td>\n",
       "      <td>0.786738</td>\n",
       "      <td>0.707483</td>\n",
       "      <td>1.732886e+06</td>\n",
       "      <td>2.033935e+06</td>\n",
       "      <td>0.511399</td>\n",
       "      <td>21795.421875</td>\n",
       "      <td>154.0</td>\n",
       "      <td>0.538961</td>\n",
       "      <td>2.023037e+06</td>\n",
       "      <td>0.755432</td>\n",
       "      <td>0.481139</td>\n",
       "      <td>307.0</td>\n",
       "      <td>0.504886</td>\n",
       "      <td>1.622876e+06</td>\n",
       "      <td>0.767466</td>\n",
       "      <td>21823.931641</td>\n",
       "      <td>1.611964e+06</td>\n",
       "    </tr>\n",
       "    <tr>\n",
       "      <th>38.0</th>\n",
       "      <td>390</td>\n",
       "      <td>1.357794e+06</td>\n",
       "      <td>6.116426e-05</td>\n",
       "      <td>0.858494</td>\n",
       "      <td>0.707570</td>\n",
       "      <td>1.693669e+06</td>\n",
       "      <td>1.980912e+06</td>\n",
       "      <td>0.512456</td>\n",
       "      <td>21833.435547</td>\n",
       "      <td>154.0</td>\n",
       "      <td>0.532468</td>\n",
       "      <td>1.969996e+06</td>\n",
       "      <td>0.754542</td>\n",
       "      <td>0.467375</td>\n",
       "      <td>307.0</td>\n",
       "      <td>0.511401</td>\n",
       "      <td>1.567464e+06</td>\n",
       "      <td>0.764927</td>\n",
       "      <td>21879.181641</td>\n",
       "      <td>1.556524e+06</td>\n",
       "    </tr>\n",
       "    <tr>\n",
       "      <th>39.0</th>\n",
       "      <td>400</td>\n",
       "      <td>1.631251e+06</td>\n",
       "      <td>3.904592e-05</td>\n",
       "      <td>0.670299</td>\n",
       "      <td>0.704747</td>\n",
       "      <td>1.646720e+06</td>\n",
       "      <td>1.934979e+06</td>\n",
       "      <td>0.514851</td>\n",
       "      <td>21828.568359</td>\n",
       "      <td>154.0</td>\n",
       "      <td>0.519481</td>\n",
       "      <td>1.924064e+06</td>\n",
       "      <td>0.755121</td>\n",
       "      <td>0.495549</td>\n",
       "      <td>307.0</td>\n",
       "      <td>0.517915</td>\n",
       "      <td>1.521649e+06</td>\n",
       "      <td>0.763280</td>\n",
       "      <td>21913.054688</td>\n",
       "      <td>1.510692e+06</td>\n",
       "    </tr>\n",
       "    <tr>\n",
       "      <th>40.0</th>\n",
       "      <td>410</td>\n",
       "      <td>1.264775e+06</td>\n",
       "      <td>2.171919e-05</td>\n",
       "      <td>0.772301</td>\n",
       "      <td>0.704528</td>\n",
       "      <td>1.608990e+06</td>\n",
       "      <td>1.905533e+06</td>\n",
       "      <td>0.516405</td>\n",
       "      <td>21852.033203</td>\n",
       "      <td>154.0</td>\n",
       "      <td>0.519481</td>\n",
       "      <td>1.894607e+06</td>\n",
       "      <td>0.754415</td>\n",
       "      <td>0.482681</td>\n",
       "      <td>307.0</td>\n",
       "      <td>0.514658</td>\n",
       "      <td>1.482535e+06</td>\n",
       "      <td>0.761889</td>\n",
       "      <td>21952.068359</td>\n",
       "      <td>1.471559e+06</td>\n",
       "    </tr>\n",
       "    <tr>\n",
       "      <th>41.0</th>\n",
       "      <td>420</td>\n",
       "      <td>1.362423e+06</td>\n",
       "      <td>9.364177e-06</td>\n",
       "      <td>0.789305</td>\n",
       "      <td>0.704438</td>\n",
       "      <td>1.602730e+06</td>\n",
       "      <td>1.890933e+06</td>\n",
       "      <td>0.516878</td>\n",
       "      <td>21887.814453</td>\n",
       "      <td>154.0</td>\n",
       "      <td>0.525974</td>\n",
       "      <td>1.879989e+06</td>\n",
       "      <td>0.754539</td>\n",
       "      <td>0.486893</td>\n",
       "      <td>307.0</td>\n",
       "      <td>0.521173</td>\n",
       "      <td>1.459005e+06</td>\n",
       "      <td>0.760535</td>\n",
       "      <td>21971.406250</td>\n",
       "      <td>1.448019e+06</td>\n",
       "    </tr>\n",
       "    <tr>\n",
       "      <th>42.0</th>\n",
       "      <td>430</td>\n",
       "      <td>1.213753e+06</td>\n",
       "      <td>2.109313e-06</td>\n",
       "      <td>0.797076</td>\n",
       "      <td>0.704448</td>\n",
       "      <td>1.596072e+06</td>\n",
       "      <td>1.885770e+06</td>\n",
       "      <td>0.518234</td>\n",
       "      <td>21885.539062</td>\n",
       "      <td>154.0</td>\n",
       "      <td>0.519481</td>\n",
       "      <td>1.874827e+06</td>\n",
       "      <td>0.754502</td>\n",
       "      <td>0.485197</td>\n",
       "      <td>307.0</td>\n",
       "      <td>0.517915</td>\n",
       "      <td>1.445329e+06</td>\n",
       "      <td>0.760436</td>\n",
       "      <td>21988.955078</td>\n",
       "      <td>1.434334e+06</td>\n",
       "    </tr>\n",
       "    <tr>\n",
       "      <th>43.0</th>\n",
       "      <td>439</td>\n",
       "      <td>9.786232e+05</td>\n",
       "      <td>4.000000e-09</td>\n",
       "      <td>0.755217</td>\n",
       "      <td>0.704270</td>\n",
       "      <td>1.594204e+06</td>\n",
       "      <td>1.883888e+06</td>\n",
       "      <td>0.516878</td>\n",
       "      <td>21886.900391</td>\n",
       "      <td>154.0</td>\n",
       "      <td>0.519481</td>\n",
       "      <td>1.872945e+06</td>\n",
       "      <td>0.754425</td>\n",
       "      <td>0.480866</td>\n",
       "      <td>307.0</td>\n",
       "      <td>0.521173</td>\n",
       "      <td>1.438986e+06</td>\n",
       "      <td>0.760232</td>\n",
       "      <td>21991.769531</td>\n",
       "      <td>1.427991e+06</td>\n",
       "    </tr>\n",
       "  </tbody>\n",
       "</table>\n",
       "</div>"
      ],
      "text/plain": [
       "       step  train/loss_rec_step      lr-AdamW  train/loss_pred_step  \\\n",
       "epoch                                                                  \n",
       "0.0      10         5.441649e+08  5.373681e-05              0.683651   \n",
       "1.0      20         5.661091e+08  9.416100e-05              0.688336   \n",
       "2.0      30         5.780456e+08  1.589588e-04              0.689041   \n",
       "3.0      40         2.288594e+08  2.444214e-04              0.735807   \n",
       "4.0      50         1.316204e+08  3.456573e-04              1.084260   \n",
       "5.0      60         6.144871e+07  4.568719e-04              0.809171   \n",
       "6.0      70         3.327324e+07  5.716998e-04              0.893109   \n",
       "7.0      80         2.731456e+07  6.835686e-04              0.845645   \n",
       "8.0      90         2.350157e+07  7.860752e-04              0.786065   \n",
       "9.0     100         2.994829e+07  8.733526e-04              0.814240   \n",
       "10.0    110         2.287953e+07  9.404052e-04              0.862943   \n",
       "11.0    120         1.485165e+07  9.833952e-04              1.018186   \n",
       "12.0    130         1.076234e+07  9.998620e-04              0.723560   \n",
       "13.0    140         1.535162e+07  9.978947e-04              0.816197   \n",
       "14.0    150         9.058856e+06  9.906398e-04              0.665005   \n",
       "15.0    160         7.433010e+06  9.782848e-04              0.826907   \n",
       "16.0    170         5.648272e+06  9.609581e-04              0.994571   \n",
       "17.0    180         5.413062e+06  9.388397e-04              0.696870   \n",
       "18.0    190         7.285614e+06  9.121597e-04              0.799607   \n",
       "19.0    200         4.637138e+06  8.811953e-04              0.812487   \n",
       "20.0    210         7.091221e+06  8.462685e-04              0.744332   \n",
       "21.0    220         7.661237e+06  8.077422e-04              0.891876   \n",
       "22.0    230         4.608010e+06  7.660170e-04              0.813810   \n",
       "23.0    240         7.127932e+06  7.215265e-04              0.890722   \n",
       "24.0    250         5.027418e+06  6.747334e-04              0.906457   \n",
       "25.0    260         4.558574e+06  6.261239e-04              0.934418   \n",
       "26.0    270         2.688080e+06  5.762034e-04              0.924980   \n",
       "27.0    280         2.584754e+06  5.254908e-04              0.755919   \n",
       "28.0    290         2.288546e+06  4.745132e-04              0.710285   \n",
       "29.0    300         1.970642e+06  4.238006e-04              0.624782   \n",
       "30.0    310         2.259510e+06  3.738801e-04              0.828086   \n",
       "31.0    320         2.291444e+06  3.252706e-04              0.849663   \n",
       "32.0    330         2.364777e+06  2.784775e-04              0.657347   \n",
       "33.0    340         1.640026e+06  2.339870e-04              0.869382   \n",
       "34.0    350         1.795371e+06  1.922618e-04              0.744446   \n",
       "35.0    360         1.950470e+06  1.537355e-04              0.729755   \n",
       "36.0    370         2.160890e+06  1.188087e-04              0.812115   \n",
       "37.0    380         1.322427e+06  8.784429e-05              0.786738   \n",
       "38.0    390         1.357794e+06  6.116426e-05              0.858494   \n",
       "39.0    400         1.631251e+06  3.904592e-05              0.670299   \n",
       "40.0    410         1.264775e+06  2.171919e-05              0.772301   \n",
       "41.0    420         1.362423e+06  9.364177e-06              0.789305   \n",
       "42.0    430         1.213753e+06  2.109313e-06              0.797076   \n",
       "43.0    439         9.786232e+05  4.000000e-09              0.755217   \n",
       "\n",
       "       val/loss_pred_step  val/loss_rec_step  val/loss_rec_epoch  val/auroc  \\\n",
       "epoch                                                                         \n",
       "0.0              0.687014       6.002584e+08        5.864893e+08   0.573195   \n",
       "1.0              0.687014       6.002584e+08        5.864893e+08   0.573195   \n",
       "2.0              0.692700       5.468140e+08        5.346543e+08   0.591617   \n",
       "3.0              0.784063       2.040752e+08        2.024271e+08   0.569948   \n",
       "4.0              0.938119       1.014039e+08        1.060507e+08   0.493030   \n",
       "5.0              0.938339       4.313380e+07        5.075046e+07   0.514143   \n",
       "6.0              0.852268       2.876582e+07        3.594282e+07   0.510957   \n",
       "7.0              0.840338       2.592272e+07        3.007823e+07   0.538100   \n",
       "8.0              0.822025       2.319507e+07        2.541458e+07   0.494422   \n",
       "9.0              0.787386       2.034466e+07        2.253749e+07   0.505062   \n",
       "10.0             0.864542       1.684605e+07        1.899092e+07   0.499808   \n",
       "11.0             0.884091       1.360241e+07        1.530007e+07   0.482483   \n",
       "12.0             0.779093       1.675769e+07        1.771987e+07   0.499667   \n",
       "13.0             0.827362       1.046902e+07        1.126796e+07   0.476489   \n",
       "14.0             0.845236       1.118747e+07        1.193214e+07   0.471701   \n",
       "15.0             0.760216       8.848390e+06        9.466553e+06   0.480605   \n",
       "16.0             0.726290       1.092849e+07        1.135968e+07   0.474316   \n",
       "17.0             0.800628       8.926939e+06        9.415244e+06   0.482496   \n",
       "18.0             0.854219       9.366768e+06        9.819262e+06   0.492334   \n",
       "19.0             0.791078       9.365259e+06        9.734963e+06   0.467670   \n",
       "20.0             0.762819       5.795845e+06        6.233088e+06   0.505717   \n",
       "21.0             0.764509       4.822360e+06        5.138458e+06   0.495882   \n",
       "22.0             0.776539       9.626496e+06        9.767436e+06   0.499713   \n",
       "23.0             0.799038       5.686918e+06        5.956794e+06   0.498232   \n",
       "24.0             0.764683       4.603406e+06        4.892466e+06   0.497485   \n",
       "25.0             0.759815       3.618363e+06        3.888981e+06   0.504900   \n",
       "26.0             0.746374       3.541521e+06        3.750108e+06   0.513874   \n",
       "27.0             0.738016       3.005704e+06        3.253088e+06   0.504037   \n",
       "28.0             0.741451       2.653572e+06        2.904467e+06   0.497869   \n",
       "29.0             0.741720       2.609470e+06        2.872510e+06   0.498203   \n",
       "30.0             0.737505       2.564225e+06        2.825332e+06   0.494975   \n",
       "31.0             0.722091       2.366458e+06        2.658573e+06   0.505139   \n",
       "32.0             0.723100       2.341683e+06        2.620408e+06   0.505057   \n",
       "33.0             0.722604       2.181400e+06        2.437381e+06   0.508158   \n",
       "34.0             0.721080       1.974152e+06        2.272132e+06   0.510047   \n",
       "35.0             0.714659       1.923074e+06        2.174796e+06   0.504858   \n",
       "36.0             0.711554       1.814877e+06        2.091498e+06   0.512771   \n",
       "37.0             0.707483       1.732886e+06        2.033935e+06   0.511399   \n",
       "38.0             0.707570       1.693669e+06        1.980912e+06   0.512456   \n",
       "39.0             0.704747       1.646720e+06        1.934979e+06   0.514851   \n",
       "40.0             0.704528       1.608990e+06        1.905533e+06   0.516405   \n",
       "41.0             0.704438       1.602730e+06        1.890933e+06   0.516878   \n",
       "42.0             0.704448       1.596072e+06        1.885770e+06   0.518234   \n",
       "43.0             0.704270       1.594204e+06        1.883888e+06   0.516878   \n",
       "\n",
       "        val/l1_loss  val/n   val/acc   val/l2_loss  val/loss_pred_epoch  \\\n",
       "epoch                                                                     \n",
       "0.0      425.811371  154.0  0.512987  5.864891e+08             0.692476   \n",
       "1.0      425.811371  154.0  0.512987  5.864891e+08             0.692476   \n",
       "2.0    14155.970703  154.0  0.545455  5.346473e+08             0.692791   \n",
       "3.0    44915.058594  154.0  0.474026  2.024046e+08             0.722302   \n",
       "4.0    47810.402344  154.0  0.487013  1.060268e+08             0.807023   \n",
       "5.0    41006.164062  154.0  0.480519  5.072996e+07             0.805214   \n",
       "6.0    35443.972656  154.0  0.487013  3.592510e+07             0.757081   \n",
       "7.0    32350.246094  154.0  0.480519  3.006205e+07             0.759875   \n",
       "8.0    30703.947266  154.0  0.480519  2.539923e+07             0.753329   \n",
       "9.0    27816.224609  154.0  0.448052  2.252358e+07             0.740945   \n",
       "10.0   27202.062500  154.0  0.480519  1.897732e+07             0.788708   \n",
       "11.0   26742.041016  154.0  0.474026  1.528670e+07             0.801715   \n",
       "12.0   27264.052734  154.0  0.474026  1.770624e+07             0.768020   \n",
       "13.0   24805.152344  154.0  0.441558  1.125555e+07             0.793914   \n",
       "14.0   25165.623047  154.0  0.454545  1.191955e+07             0.797385   \n",
       "15.0   25267.599609  154.0  0.474026  9.453919e+06             0.765557   \n",
       "16.0   24457.302734  154.0  0.461039  1.134746e+07             0.766995   \n",
       "17.0   24512.744141  154.0  0.454545  9.402988e+06             0.773413   \n",
       "18.0   23903.955078  154.0  0.467532  9.807309e+06             0.791529   \n",
       "19.0   23267.775391  154.0  0.454545  9.723329e+06             0.773010   \n",
       "20.0   21435.773438  154.0  0.519481  6.222370e+06             0.750935   \n",
       "21.0   21487.718750  154.0  0.487013  5.127713e+06             0.758149   \n",
       "22.0   20790.322266  154.0  0.461039  9.757041e+06             0.767783   \n",
       "23.0   21395.232422  154.0  0.474026  5.946096e+06             0.771326   \n",
       "24.0   20732.802734  154.0  0.506494  4.882100e+06             0.758548   \n",
       "25.0   20599.873047  154.0  0.519481  3.878681e+06             0.760735   \n",
       "26.0   20692.609375  154.0  0.545455  3.739762e+06             0.761508   \n",
       "27.0   21107.351562  154.0  0.519481  3.242534e+06             0.763273   \n",
       "28.0   21347.267578  154.0  0.525974  2.893794e+06             0.762297   \n",
       "29.0   21626.662109  154.0  0.519481  2.861697e+06             0.761353   \n",
       "30.0   21481.220703  154.0  0.538961  2.814591e+06             0.763618   \n",
       "31.0   21634.562500  154.0  0.545455  2.647755e+06             0.758435   \n",
       "32.0   21761.921875  154.0  0.525974  2.609527e+06             0.758403   \n",
       "33.0   21726.197266  154.0  0.545455  2.426518e+06             0.758185   \n",
       "34.0   21737.050781  154.0  0.538961  2.261263e+06             0.757024   \n",
       "35.0   21725.970703  154.0  0.558442  2.163932e+06             0.756785   \n",
       "36.0   21656.957031  154.0  0.551948  2.080670e+06             0.755239   \n",
       "37.0   21795.421875  154.0  0.538961  2.023037e+06             0.755432   \n",
       "38.0   21833.435547  154.0  0.532468  1.969996e+06             0.754542   \n",
       "39.0   21828.568359  154.0  0.519481  1.924064e+06             0.755121   \n",
       "40.0   21852.033203  154.0  0.519481  1.894607e+06             0.754415   \n",
       "41.0   21887.814453  154.0  0.525974  1.879989e+06             0.754539   \n",
       "42.0   21885.539062  154.0  0.519481  1.874827e+06             0.754502   \n",
       "43.0   21886.900391  154.0  0.519481  1.872945e+06             0.754425   \n",
       "\n",
       "       train/auroc  train/n  train/acc  train/loss_rec_epoch  \\\n",
       "epoch                                                          \n",
       "0.0       0.600631    307.0   0.615635          5.954105e+08   \n",
       "1.0       0.599111    307.0   0.615635          5.954105e+08   \n",
       "2.0       0.571417    307.0   0.615635          5.861766e+08   \n",
       "3.0       0.525330    307.0   0.384365          4.085785e+08   \n",
       "4.0       0.535387    307.0   0.381107          1.910734e+08   \n",
       "5.0       0.525106    307.0   0.397394          7.391732e+07   \n",
       "6.0       0.512834    307.0   0.397394          4.383755e+07   \n",
       "7.0       0.500923    307.0   0.387622          3.276945e+07   \n",
       "8.0       0.513217    307.0   0.397394          2.584278e+07   \n",
       "9.0       0.490849    307.0   0.387622          2.317300e+07   \n",
       "10.0      0.498627    307.0   0.394137          2.169587e+07   \n",
       "11.0      0.482319    307.0   0.387622          1.768082e+07   \n",
       "12.0      0.492767    307.0   0.410423          1.450787e+07   \n",
       "13.0      0.506581    307.0   0.390879          1.423263e+07   \n",
       "14.0      0.466132    307.0   0.394137          1.179928e+07   \n",
       "15.0      0.454330    307.0   0.400651          9.346815e+06   \n",
       "16.0      0.469313    307.0   0.416938          7.972048e+06   \n",
       "17.0      0.454053    307.0   0.400651          8.708785e+06   \n",
       "18.0      0.450661    307.0   0.394137          7.851668e+06   \n",
       "19.0      0.446891    307.0   0.394137          7.422980e+06   \n",
       "20.0      0.438563    307.0   0.403909          7.568719e+06   \n",
       "21.0      0.430649    307.0   0.400651          5.943604e+06   \n",
       "22.0      0.436015    307.0   0.423453          5.465808e+06   \n",
       "23.0      0.430622    307.0   0.381107          6.419428e+06   \n",
       "24.0      0.410960    307.0   0.433225          5.109246e+06   \n",
       "25.0      0.438072    307.0   0.452769          4.033897e+06   \n",
       "26.0      0.438718    307.0   0.475570          3.312253e+06   \n",
       "27.0      0.444053    307.0   0.482085          3.013418e+06   \n",
       "28.0      0.465860    307.0   0.495114          2.721990e+06   \n",
       "29.0      0.443779    307.0   0.485342          2.532927e+06   \n",
       "30.0      0.467515    307.0   0.488599          2.448023e+06   \n",
       "31.0      0.467656    307.0   0.488599          2.320734e+06   \n",
       "32.0      0.468553    307.0   0.498371          2.175214e+06   \n",
       "33.0      0.472785    307.0   0.501629          2.087931e+06   \n",
       "34.0      0.480435    307.0   0.495114          1.926204e+06   \n",
       "35.0      0.468786    307.0   0.495114          1.808270e+06   \n",
       "36.0      0.487030    307.0   0.504886          1.706876e+06   \n",
       "37.0      0.481139    307.0   0.504886          1.622876e+06   \n",
       "38.0      0.467375    307.0   0.511401          1.567464e+06   \n",
       "39.0      0.495549    307.0   0.517915          1.521649e+06   \n",
       "40.0      0.482681    307.0   0.514658          1.482535e+06   \n",
       "41.0      0.486893    307.0   0.521173          1.459005e+06   \n",
       "42.0      0.485197    307.0   0.517915          1.445329e+06   \n",
       "43.0      0.480866    307.0   0.521173          1.438986e+06   \n",
       "\n",
       "       train/loss_pred_epoch  train/l1_loss  train/l2_loss  \n",
       "epoch                                                       \n",
       "0.0                 0.688230     427.493835   5.954103e+08  \n",
       "1.0                 0.688230     427.493835   5.954102e+08  \n",
       "2.0                 0.686761    4190.505859   5.861746e+08  \n",
       "3.0                 0.708873   26462.203125   4.085653e+08  \n",
       "4.0                 0.878755   50520.066406   1.910481e+08  \n",
       "5.0                 0.864978   39737.753906   7.389744e+07  \n",
       "6.0                 0.871334   37637.578125   4.381874e+07  \n",
       "7.0                 0.812428   33550.609375   3.275268e+07  \n",
       "8.0                 0.792109   31261.455078   2.582715e+07  \n",
       "9.0                 0.797736   29715.527344   2.315815e+07  \n",
       "10.0                0.808030   27947.347656   2.168190e+07  \n",
       "11.0                0.860365   26572.035156   1.766754e+07  \n",
       "12.0                0.863073   25934.945312   1.449490e+07  \n",
       "13.0                0.817220   25579.869141   1.421984e+07  \n",
       "14.0                0.824495   24126.640625   1.178721e+07  \n",
       "15.0                0.808850   24184.070312   9.334722e+06  \n",
       "16.0                0.807951   24531.482422   7.959782e+06  \n",
       "17.0                0.785358   24043.013672   8.696764e+06  \n",
       "18.0                0.816462   23197.699219   7.840069e+06  \n",
       "19.0                0.825549   22935.119141   7.411512e+06  \n",
       "20.0                0.815148   22501.644531   7.557467e+06  \n",
       "21.0                0.809750   22050.935547   5.932578e+06  \n",
       "22.0                0.809477   21991.695312   5.454812e+06  \n",
       "23.0                0.825284   21516.828125   6.408670e+06  \n",
       "24.0                0.803481   21269.396484   5.098611e+06  \n",
       "25.0                0.797715   21130.251953   4.023332e+06  \n",
       "26.0                0.797124   21216.498047   3.301645e+06  \n",
       "27.0                0.789957   21445.892578   3.002695e+06  \n",
       "28.0                0.785185   21653.322266   2.711164e+06  \n",
       "29.0                0.787990   21773.935547   2.522040e+06  \n",
       "30.0                0.783616   21845.962891   2.437100e+06  \n",
       "31.0                0.778579   21826.976562   2.309820e+06  \n",
       "32.0                0.778695   21804.451172   2.164311e+06  \n",
       "33.0                0.778114   21794.085938   2.077034e+06  \n",
       "34.0                0.774824   21771.789062   1.915317e+06  \n",
       "35.0                0.772539   21782.212891   1.797378e+06  \n",
       "36.0                0.770320   21799.580078   1.695976e+06  \n",
       "37.0                0.767466   21823.931641   1.611964e+06  \n",
       "38.0                0.764927   21879.181641   1.556524e+06  \n",
       "39.0                0.763280   21913.054688   1.510692e+06  \n",
       "40.0                0.761889   21952.068359   1.471559e+06  \n",
       "41.0                0.760535   21971.406250   1.448019e+06  \n",
       "42.0                0.760436   21988.955078   1.434334e+06  \n",
       "43.0                0.760232   21991.769531   1.427991e+06  "
      ]
     },
     "metadata": {},
     "output_type": "display_data"
    }
   ],
   "source": [
    "net.ae_mode(0)\n",
    " \n",
    "lr_logger = LearningRateMonitor(logging_interval='step')\n",
    "trainer1 = pl.Trainer(\n",
    "    precision=\"16-mixed\",\n",
    "    gradient_clip_val=20,\n",
    "    # devices=2,\n",
    "    accelerator=\"auto\",\n",
    "    devices=\"1\",\n",
    "    max_epochs=max_epochs,# * VAE_EPOCH_MULT,\n",
    "    log_every_n_steps=1,\n",
    "    # enable_progress_bar=False, enable_model_summary=False\n",
    "    callbacks=[lr_logger],\n",
    ")\n",
    "\n",
    "# LOAD_CHECKPONT = Path('/media/wassname/SGIronWolf/projects5/elk/sgd_probes_are_lie_detectors/notebooks/lightning_logs/version_52/1_ae.ckpt')\n",
    "LOAD_CHECKPONT = None\n",
    "if LOAD_CHECKPONT:\n",
    "    PLAE.load_from_checkpoint(LOAD_CHECKPONT)\n",
    "else:\n",
    "    trainer1.fit(model=net, train_dataloaders=dl_train, \n",
    "                 val_dataloaders=dl_val # FIXME why does this slow it down with multiple processes?\n",
    "                );\n",
    "\n",
    "    df_hist, df_hist_step = read_metrics_csv(trainer1.logger.experiment.metrics_file_path)\n",
    "    plot_hist(df_hist, ['l2_loss', 'l1_loss', 'loss_rec'], logy=True)\n",
    "    plt.show()\n",
    "    plot_hist(df_hist_step, ['loss_rec_step'], logy=True)\n",
    "\n",
    "    display(df_hist)\n"
   ]
  },
  {
   "cell_type": "code",
   "execution_count": 27,
   "metadata": {},
   "outputs": [],
   "source": [
    "df_hist, df_hist_step = read_metrics_csv(trainer1.logger.experiment.metrics_file_path)"
   ]
  },
  {
   "cell_type": "code",
   "execution_count": 28,
   "metadata": {},
   "outputs": [
    {
     "data": {
      "text/plain": [
       "<Axes: xlabel='epoch'>"
      ]
     },
     "execution_count": 28,
     "metadata": {},
     "output_type": "execute_result"
    },
    {
     "data": {
      "image/png": "[encoded data removed]",
      "text/plain": [
       "<Figure size 640x480 with 1 Axes>"
      ]
     },
     "metadata": {},
     "output_type": "display_data"
    }
   ],
   "source": [
    "# Check the LR\n",
    "df_hist, df_hist_step = read_metrics_csv(trainer1.logger.experiment.metrics_file_path)\n",
    "df_hist['lr-AdamW'].plot()"
   ]
  },
  {
   "cell_type": "markdown",
   "metadata": {},
   "source": [
    "l2_loss ~= l1_loss * l1_coeff"
   ]
  },
  {
   "cell_type": "code",
   "execution_count": 29,
   "metadata": {},
   "outputs": [
    {
     "data": {
      "text/plain": [
       "0.5"
      ]
     },
     "execution_count": 29,
     "metadata": {},
     "output_type": "execute_result"
    }
   ],
   "source": [
    "l1_coeff"
   ]
  },
  {
   "cell_type": "code",
   "execution_count": 30,
   "metadata": {},
   "outputs": [
    {
     "data": {
      "text/html": [
       "<div>\n",
       "<style scoped>\n",
       "    .dataframe tbody tr th:only-of-type {\n",
       "        vertical-align: middle;\n",
       "    }\n",
       "\n",
       "    .dataframe tbody tr th {\n",
       "        vertical-align: top;\n",
       "    }\n",
       "\n",
       "    .dataframe thead th {\n",
       "        text-align: right;\n",
       "    }\n",
       "</style>\n",
       "<table border=\"1\" class=\"dataframe\">\n",
       "  <thead>\n",
       "    <tr style=\"text-align: right;\">\n",
       "      <th></th>\n",
       "      <th>train/l2_loss</th>\n",
       "      <th>train/l1_loss</th>\n",
       "    </tr>\n",
       "    <tr>\n",
       "      <th>epoch</th>\n",
       "      <th></th>\n",
       "      <th></th>\n",
       "    </tr>\n",
       "  </thead>\n",
       "  <tbody>\n",
       "    <tr>\n",
       "      <th>0.0</th>\n",
       "      <td>5.954103e+08</td>\n",
       "      <td>427.493835</td>\n",
       "    </tr>\n",
       "    <tr>\n",
       "      <th>1.0</th>\n",
       "      <td>5.954102e+08</td>\n",
       "      <td>427.493835</td>\n",
       "    </tr>\n",
       "    <tr>\n",
       "      <th>2.0</th>\n",
       "      <td>5.861746e+08</td>\n",
       "      <td>4190.505859</td>\n",
       "    </tr>\n",
       "    <tr>\n",
       "      <th>3.0</th>\n",
       "      <td>4.085653e+08</td>\n",
       "      <td>26462.203125</td>\n",
       "    </tr>\n",
       "    <tr>\n",
       "      <th>4.0</th>\n",
       "      <td>1.910481e+08</td>\n",
       "      <td>50520.066406</td>\n",
       "    </tr>\n",
       "    <tr>\n",
       "      <th>5.0</th>\n",
       "      <td>7.389744e+07</td>\n",
       "      <td>39737.753906</td>\n",
       "    </tr>\n",
       "    <tr>\n",
       "      <th>6.0</th>\n",
       "      <td>4.381874e+07</td>\n",
       "      <td>37637.578125</td>\n",
       "    </tr>\n",
       "    <tr>\n",
       "      <th>7.0</th>\n",
       "      <td>3.275268e+07</td>\n",
       "      <td>33550.609375</td>\n",
       "    </tr>\n",
       "    <tr>\n",
       "      <th>8.0</th>\n",
       "      <td>2.582715e+07</td>\n",
       "      <td>31261.455078</td>\n",
       "    </tr>\n",
       "    <tr>\n",
       "      <th>9.0</th>\n",
       "      <td>2.315815e+07</td>\n",
       "      <td>29715.527344</td>\n",
       "    </tr>\n",
       "    <tr>\n",
       "      <th>10.0</th>\n",
       "      <td>2.168190e+07</td>\n",
       "      <td>27947.347656</td>\n",
       "    </tr>\n",
       "    <tr>\n",
       "      <th>11.0</th>\n",
       "      <td>1.766754e+07</td>\n",
       "      <td>26572.035156</td>\n",
       "    </tr>\n",
       "    <tr>\n",
       "      <th>12.0</th>\n",
       "      <td>1.449490e+07</td>\n",
       "      <td>25934.945312</td>\n",
       "    </tr>\n",
       "    <tr>\n",
       "      <th>13.0</th>\n",
       "      <td>1.421984e+07</td>\n",
       "      <td>25579.869141</td>\n",
       "    </tr>\n",
       "    <tr>\n",
       "      <th>14.0</th>\n",
       "      <td>1.178721e+07</td>\n",
       "      <td>24126.640625</td>\n",
       "    </tr>\n",
       "    <tr>\n",
       "      <th>15.0</th>\n",
       "      <td>9.334722e+06</td>\n",
       "      <td>24184.070312</td>\n",
       "    </tr>\n",
       "    <tr>\n",
       "      <th>16.0</th>\n",
       "      <td>7.959782e+06</td>\n",
       "      <td>24531.482422</td>\n",
       "    </tr>\n",
       "    <tr>\n",
       "      <th>17.0</th>\n",
       "      <td>8.696764e+06</td>\n",
       "      <td>24043.013672</td>\n",
       "    </tr>\n",
       "    <tr>\n",
       "      <th>18.0</th>\n",
       "      <td>7.840069e+06</td>\n",
       "      <td>23197.699219</td>\n",
       "    </tr>\n",
       "    <tr>\n",
       "      <th>19.0</th>\n",
       "      <td>7.411512e+06</td>\n",
       "      <td>22935.119141</td>\n",
       "    </tr>\n",
       "    <tr>\n",
       "      <th>20.0</th>\n",
       "      <td>7.557467e+06</td>\n",
       "      <td>22501.644531</td>\n",
       "    </tr>\n",
       "    <tr>\n",
       "      <th>21.0</th>\n",
       "      <td>5.932578e+06</td>\n",
       "      <td>22050.935547</td>\n",
       "    </tr>\n",
       "    <tr>\n",
       "      <th>22.0</th>\n",
       "      <td>5.454812e+06</td>\n",
       "      <td>21991.695312</td>\n",
       "    </tr>\n",
       "    <tr>\n",
       "      <th>23.0</th>\n",
       "      <td>6.408670e+06</td>\n",
       "      <td>21516.828125</td>\n",
       "    </tr>\n",
       "    <tr>\n",
       "      <th>24.0</th>\n",
       "      <td>5.098611e+06</td>\n",
       "      <td>21269.396484</td>\n",
       "    </tr>\n",
       "    <tr>\n",
       "      <th>25.0</th>\n",
       "      <td>4.023332e+06</td>\n",
       "      <td>21130.251953</td>\n",
       "    </tr>\n",
       "    <tr>\n",
       "      <th>26.0</th>\n",
       "      <td>3.301645e+06</td>\n",
       "      <td>21216.498047</td>\n",
       "    </tr>\n",
       "    <tr>\n",
       "      <th>27.0</th>\n",
       "      <td>3.002695e+06</td>\n",
       "      <td>21445.892578</td>\n",
       "    </tr>\n",
       "    <tr>\n",
       "      <th>28.0</th>\n",
       "      <td>2.711164e+06</td>\n",
       "      <td>21653.322266</td>\n",
       "    </tr>\n",
       "    <tr>\n",
       "      <th>29.0</th>\n",
       "      <td>2.522040e+06</td>\n",
       "      <td>21773.935547</td>\n",
       "    </tr>\n",
       "    <tr>\n",
       "      <th>30.0</th>\n",
       "      <td>2.437100e+06</td>\n",
       "      <td>21845.962891</td>\n",
       "    </tr>\n",
       "    <tr>\n",
       "      <th>31.0</th>\n",
       "      <td>2.309820e+06</td>\n",
       "      <td>21826.976562</td>\n",
       "    </tr>\n",
       "    <tr>\n",
       "      <th>32.0</th>\n",
       "      <td>2.164311e+06</td>\n",
       "      <td>21804.451172</td>\n",
       "    </tr>\n",
       "    <tr>\n",
       "      <th>33.0</th>\n",
       "      <td>2.077034e+06</td>\n",
       "      <td>21794.085938</td>\n",
       "    </tr>\n",
       "    <tr>\n",
       "      <th>34.0</th>\n",
       "      <td>1.915317e+06</td>\n",
       "      <td>21771.789062</td>\n",
       "    </tr>\n",
       "    <tr>\n",
       "      <th>35.0</th>\n",
       "      <td>1.797378e+06</td>\n",
       "      <td>21782.212891</td>\n",
       "    </tr>\n",
       "    <tr>\n",
       "      <th>36.0</th>\n",
       "      <td>1.695976e+06</td>\n",
       "      <td>21799.580078</td>\n",
       "    </tr>\n",
       "    <tr>\n",
       "      <th>37.0</th>\n",
       "      <td>1.611964e+06</td>\n",
       "      <td>21823.931641</td>\n",
       "    </tr>\n",
       "    <tr>\n",
       "      <th>38.0</th>\n",
       "      <td>1.556524e+06</td>\n",
       "      <td>21879.181641</td>\n",
       "    </tr>\n",
       "    <tr>\n",
       "      <th>39.0</th>\n",
       "      <td>1.510692e+06</td>\n",
       "      <td>21913.054688</td>\n",
       "    </tr>\n",
       "    <tr>\n",
       "      <th>40.0</th>\n",
       "      <td>1.471559e+06</td>\n",
       "      <td>21952.068359</td>\n",
       "    </tr>\n",
       "    <tr>\n",
       "      <th>41.0</th>\n",
       "      <td>1.448019e+06</td>\n",
       "      <td>21971.406250</td>\n",
       "    </tr>\n",
       "    <tr>\n",
       "      <th>42.0</th>\n",
       "      <td>1.434334e+06</td>\n",
       "      <td>21988.955078</td>\n",
       "    </tr>\n",
       "    <tr>\n",
       "      <th>43.0</th>\n",
       "      <td>1.427991e+06</td>\n",
       "      <td>21991.769531</td>\n",
       "    </tr>\n",
       "  </tbody>\n",
       "</table>\n",
       "</div>"
      ],
      "text/plain": [
       "       train/l2_loss  train/l1_loss\n",
       "epoch                              \n",
       "0.0     5.954103e+08     427.493835\n",
       "1.0     5.954102e+08     427.493835\n",
       "2.0     5.861746e+08    4190.505859\n",
       "3.0     4.085653e+08   26462.203125\n",
       "4.0     1.910481e+08   50520.066406\n",
       "5.0     7.389744e+07   39737.753906\n",
       "6.0     4.381874e+07   37637.578125\n",
       "7.0     3.275268e+07   33550.609375\n",
       "8.0     2.582715e+07   31261.455078\n",
       "9.0     2.315815e+07   29715.527344\n",
       "10.0    2.168190e+07   27947.347656\n",
       "11.0    1.766754e+07   26572.035156\n",
       "12.0    1.449490e+07   25934.945312\n",
       "13.0    1.421984e+07   25579.869141\n",
       "14.0    1.178721e+07   24126.640625\n",
       "15.0    9.334722e+06   24184.070312\n",
       "16.0    7.959782e+06   24531.482422\n",
       "17.0    8.696764e+06   24043.013672\n",
       "18.0    7.840069e+06   23197.699219\n",
       "19.0    7.411512e+06   22935.119141\n",
       "20.0    7.557467e+06   22501.644531\n",
       "21.0    5.932578e+06   22050.935547\n",
       "22.0    5.454812e+06   21991.695312\n",
       "23.0    6.408670e+06   21516.828125\n",
       "24.0    5.098611e+06   21269.396484\n",
       "25.0    4.023332e+06   21130.251953\n",
       "26.0    3.301645e+06   21216.498047\n",
       "27.0    3.002695e+06   21445.892578\n",
       "28.0    2.711164e+06   21653.322266\n",
       "29.0    2.522040e+06   21773.935547\n",
       "30.0    2.437100e+06   21845.962891\n",
       "31.0    2.309820e+06   21826.976562\n",
       "32.0    2.164311e+06   21804.451172\n",
       "33.0    2.077034e+06   21794.085938\n",
       "34.0    1.915317e+06   21771.789062\n",
       "35.0    1.797378e+06   21782.212891\n",
       "36.0    1.695976e+06   21799.580078\n",
       "37.0    1.611964e+06   21823.931641\n",
       "38.0    1.556524e+06   21879.181641\n",
       "39.0    1.510692e+06   21913.054688\n",
       "40.0    1.471559e+06   21952.068359\n",
       "41.0    1.448019e+06   21971.406250\n",
       "42.0    1.434334e+06   21988.955078\n",
       "43.0    1.427991e+06   21991.769531"
      ]
     },
     "execution_count": 30,
     "metadata": {},
     "output_type": "execute_result"
    }
   ],
   "source": [
    "df_hist[['train/l2_loss','train/l1_loss']]"
   ]
  },
  {
   "cell_type": "code",
   "execution_count": 31,
   "metadata": {},
   "outputs": [
    {
     "name": "stdout",
     "output_type": "stream",
     "text": [
      "l1 coeff should be approx\n"
     ]
    },
    {
     "data": {
      "text/plain": [
       "134469.35725099334"
      ]
     },
     "execution_count": 31,
     "metadata": {},
     "output_type": "execute_result"
    }
   ],
   "source": [
    "print('l1 coeff should be approx')\n",
    "ratio = df_hist['train/l2_loss']/df_hist['train/l1_loss']\n",
    "ratio = ratio[np.isfinite(ratio)]\n",
    "ratio.mean()/l1_coeff\n"
   ]
  },
  {
   "cell_type": "code",
   "execution_count": 33,
   "metadata": {},
   "outputs": [],
   "source": [
    "# ((latent>0)*1.0).mean()"
   ]
  },
  {
   "cell_type": "markdown",
   "metadata": {},
   "source": []
  },
  {
   "cell_type": "markdown",
   "metadata": {},
   "source": [
    "5/10 [00:04<00:04, 1.10it/s, v_num=295, val/loss_pred=0.0849, val/loss_rec=9.58e+5, train/loss_pred=0.350, train/loss_rec=9.8e+5]\n"
   ]
  },
  {
   "cell_type": "code",
   "execution_count": 34,
   "metadata": {},
   "outputs": [
    {
     "data": {
      "image/png": "[encoded data removed]",
      "text/plain": [
       "<Figure size 640x480 with 8 Axes>"
      ]
     },
     "metadata": {},
     "output_type": "display_data"
    },
    {
     "data": {
      "image/png": "[encoded data removed]",
      "text/plain": [
       "<Figure size 640x480 with 1 Axes>"
      ]
     },
     "metadata": {},
     "output_type": "display_data"
    }
   ],
   "source": [
    "# visualize latent space\n",
    "from matplotlib import cm\n",
    "\n",
    "\n",
    "def plot_latent(latent):\n",
    "\n",
    "    # plot image of latent space\n",
    "    vmax = latent.abs().max()\n",
    "    for i in range(4):\n",
    "        plt.subplot(2, 2, i + 1)\n",
    "        vmax = latent[i].abs().max()\n",
    "        plt.imshow(\n",
    "            latent[i],\n",
    "            cmap=cm.coolwarm,\n",
    "            interpolation=\"none\",\n",
    "            aspect=\"auto\",\n",
    "            vmin=-vmax,\n",
    "            vmax=vmax,\n",
    "        )\n",
    "        plt.xlabel(\"layer\")\n",
    "        plt.ylabel(\"neuron\")\n",
    "        if i < 2:\n",
    "            plt.xlabel(\"\")\n",
    "            plt.xticks([])\n",
    "        if i % 2 == 1:\n",
    "            plt.ylabel(\"\")\n",
    "            plt.yticks([])\n",
    "        plt.grid(False)\n",
    "        plt.colorbar()\n",
    "    # plt.colorbar()\n",
    "    plt.subplots_adjust(wspace=0.05, hspace=0.05)\n",
    "    plt.show()\n",
    "\n",
    "    # histogram\n",
    "    latentf = rearrange(latent, \"b n l -> (b n) l\").flatten()\n",
    "    vmax = (latentf.abs().mean() + 5 * latentf.abs().std()).item()\n",
    "    plt.hist(latentf, bins=55, range=[-vmax, vmax], histtype=\"step\")\n",
    "    plt.title(\"latents by layer\")\n",
    "    plt.show()\n",
    "\n",
    "\n",
    "latent = y[\"latent\"].cpu()  # .reshape(64, 24, 12) # [Batch, Latent, Layer]\n",
    "plot_latent(latent)\n"
   ]
  },
  {
   "cell_type": "code",
   "execution_count": 35,
   "metadata": {},
   "outputs": [
    {
     "data": {
      "text/plain": [
       "(torch.Size([32, 7, 256]), tensor(1.3786), tensor(0.8856), tensor(1.1028), 112)"
      ]
     },
     "execution_count": 35,
     "metadata": {},
     "output_type": "execute_result"
    }
   ],
   "source": [
    "latent.shape, latent.diff(dim=1).std(), latent.std(), latent.diff(dim=2).std(), 16*7"
   ]
  },
  {
   "cell_type": "markdown",
   "metadata": {},
   "source": [
    "### Train probe"
   ]
  },
  {
   "cell_type": "code",
   "execution_count": 36,
   "metadata": {},
   "outputs": [],
   "source": [
    "# # net.save_checkpoint\n",
    "# f = Path(trainer1.log_dir)/\"1_ae.ckpt\"\n",
    "# trainer1.save_checkpoint(f)\n",
    "# # PosixPath('/media/wassname/SGIronWolf/projects5/elk/sgd_probes_are_lie_detectors/notebooks/lightning_logs/version_52/1_ae.ckpt')\n",
    "# f"
   ]
  },
  {
   "cell_type": "code",
   "execution_count": 37,
   "metadata": {},
   "outputs": [],
   "source": [
    "# net.configure_optimizers()"
   ]
  },
  {
   "cell_type": "code",
   "execution_count": 38,
   "metadata": {},
   "outputs": [
    {
     "data": {
      "application/vnd.jupyter.widget-view+json": {
       "model_id": "33117dcc09e249a6b639f11d35c12210",
       "version_major": 2,
       "version_minor": 0
      },
      "text/plain": [
       "  0%|          | 0/10 [00:00<?, ?it/s]"
      ]
     },
     "metadata": {},
     "output_type": "display_data"
    },
    {
     "name": "stdout",
     "output_type": "stream",
     "text": [
      "CPU times: user 644 ms, sys: 71.6 ms, total: 715 ms\n",
      "Wall time: 285 ms\n"
     ]
    }
   ],
   "source": [
    "%%time\n",
    "for b in tqdm(dl_train):\n",
    "    pass"
   ]
  },
  {
   "cell_type": "code",
   "execution_count": 39,
   "metadata": {},
   "outputs": [
    {
     "data": {
      "application/vnd.jupyter.widget-view+json": {
       "model_id": "120283faf55843bf85f7698d61ed9f62",
       "version_major": 2,
       "version_minor": 0
      },
      "text/plain": [
       "  0%|          | 0/10 [00:00<?, ?it/s]"
      ]
     },
     "metadata": {},
     "output_type": "display_data"
    },
    {
     "name": "stdout",
     "output_type": "stream",
     "text": [
      "CPU times: user 5.26 s, sys: 337 ms, total: 5.6 s\n",
      "Wall time: 606 ms\n"
     ]
    }
   ],
   "source": [
    "%%time\n",
    "for b in tqdm(dl_train):\n",
    "    y = net.predict_step(b)"
   ]
  },
  {
   "cell_type": "code",
   "execution_count": 40,
   "metadata": {},
   "outputs": [],
   "source": [
    "\n",
    "# # debug\n",
    "# with torch.no_grad():\n",
    "#     b = next(iter(dl_train))\n",
    "#     y = net.predict_step(b)"
   ]
  },
  {
   "cell_type": "code",
   "execution_count": 41,
   "metadata": {},
   "outputs": [
    {
     "name": "stderr",
     "output_type": "stream",
     "text": [
      "Trainer will use only 1 of 2 GPUs because it is running inside an interactive / notebook environment. You may try to set `Trainer(devices=2)` but please note that multi-GPU inside interactive / notebook environments is considered experimental and unstable. Your mileage may vary.\n"
     ]
    },
    {
     "name": "stdout",
     "output_type": "stream",
     "text": [
      "training probe\n",
      "requires_grad: False\n"
     ]
    },
    {
     "name": "stderr",
     "output_type": "stream",
     "text": [
      "GPU available: True (cuda), used: True\n",
      "TPU available: False, using: 0 TPU cores\n",
      "IPU available: False, using: 0 IPUs\n",
      "HPU available: False, using: 0 HPUs\n",
      "LOCAL_RANK: 0 - CUDA_VISIBLE_DEVICES: [0,1]\n",
      "\n",
      "  | Name | Type        | Params\n",
      "-------------------------------------\n",
      "0 | ae   | AutoEncoder | 82.7 M\n",
      "1 | head | Sequential  | 4.1 M \n",
      "-------------------------------------\n",
      "4.1 M     Trainable params\n",
      "82.7 M    Non-trainable params\n",
      "86.8 M    Total params\n",
      "347.287   Total estimated model params size (MB)\n"
     ]
    },
    {
     "data": {
      "application/vnd.jupyter.widget-view+json": {
       "model_id": "bae6e88578b34eb4a145ebf5e6416a79",
       "version_major": 2,
       "version_minor": 0
      },
      "text/plain": [
       "Sanity Checking: |          | 0/? [00:00<?, ?it/s]"
      ]
     },
     "metadata": {},
     "output_type": "display_data"
    },
    {
     "name": "stderr",
     "output_type": "stream",
     "text": [
      "/media/wassname/SGIronWolf/projects5/elk/sgd_probes_are_lie_detectors/.venv/lib/python3.11/site-packages/lightning/pytorch/trainer/connectors/data_connector.py:441: The 'val_dataloader' does not have many workers which may be a bottleneck. Consider increasing the value of the `num_workers` argument` to `num_workers=23` in the `DataLoader` to improve performance.\n",
      "/media/wassname/SGIronWolf/projects5/elk/sgd_probes_are_lie_detectors/.venv/lib/python3.11/site-packages/lightning/pytorch/trainer/connectors/data_connector.py:441: The 'train_dataloader' does not have many workers which may be a bottleneck. Consider increasing the value of the `num_workers` argument` to `num_workers=23` in the `DataLoader` to improve performance.\n"
     ]
    },
    {
     "data": {
      "application/vnd.jupyter.widget-view+json": {
       "model_id": "675c1404bf4a4a7180fb91a81a7ef7ed",
       "version_major": 2,
       "version_minor": 0
      },
      "text/plain": [
       "Training: |          | 0/? [00:00<?, ?it/s]"
      ]
     },
     "metadata": {},
     "output_type": "display_data"
    },
    {
     "data": {
      "application/vnd.jupyter.widget-view+json": {
       "model_id": "98d8a83731df40d99ff9df01583bfdc8",
       "version_major": 2,
       "version_minor": 0
      },
      "text/plain": [
       "Validation: |          | 0/? [00:00<?, ?it/s]"
      ]
     },
     "metadata": {},
     "output_type": "display_data"
    },
    {
     "data": {
      "application/vnd.jupyter.widget-view+json": {
       "model_id": "50acbe256cb44c6aaa6c310948e9f970",
       "version_major": 2,
       "version_minor": 0
      },
      "text/plain": [
       "Validation: |          | 0/? [00:00<?, ?it/s]"
      ]
     },
     "metadata": {},
     "output_type": "display_data"
    },
    {
     "data": {
      "application/vnd.jupyter.widget-view+json": {
       "model_id": "f24d07ad0b9a455db6887e29f28fd841",
       "version_major": 2,
       "version_minor": 0
      },
      "text/plain": [
       "Validation: |          | 0/? [00:00<?, ?it/s]"
      ]
     },
     "metadata": {},
     "output_type": "display_data"
    },
    {
     "data": {
      "application/vnd.jupyter.widget-view+json": {
       "model_id": "9ccf8c13090f498b97880d2816d7cadb",
       "version_major": 2,
       "version_minor": 0
      },
      "text/plain": [
       "Validation: |          | 0/? [00:00<?, ?it/s]"
      ]
     },
     "metadata": {},
     "output_type": "display_data"
    },
    {
     "data": {
      "application/vnd.jupyter.widget-view+json": {
       "model_id": "961fd169e8774e0698efc8c33e9f3a6a",
       "version_major": 2,
       "version_minor": 0
      },
      "text/plain": [
       "Validation: |          | 0/? [00:00<?, ?it/s]"
      ]
     },
     "metadata": {},
     "output_type": "display_data"
    },
    {
     "data": {
      "application/vnd.jupyter.widget-view+json": {
       "model_id": "1b0dd70592e740e1aa5158a4ec9f62b5",
       "version_major": 2,
       "version_minor": 0
      },
      "text/plain": [
       "Validation: |          | 0/? [00:00<?, ?it/s]"
      ]
     },
     "metadata": {},
     "output_type": "display_data"
    },
    {
     "data": {
      "application/vnd.jupyter.widget-view+json": {
       "model_id": "5a0b216cde064e23b064e1154d8e572f",
       "version_major": 2,
       "version_minor": 0
      },
      "text/plain": [
       "Validation: |          | 0/? [00:00<?, ?it/s]"
      ]
     },
     "metadata": {},
     "output_type": "display_data"
    },
    {
     "data": {
      "application/vnd.jupyter.widget-view+json": {
       "model_id": "4bd79a1d187145d4a783997410c59d20",
       "version_major": 2,
       "version_minor": 0
      },
      "text/plain": [
       "Validation: |          | 0/? [00:00<?, ?it/s]"
      ]
     },
     "metadata": {},
     "output_type": "display_data"
    },
    {
     "data": {
      "application/vnd.jupyter.widget-view+json": {
       "model_id": "eb90aac606ec424aab2afb514646cca9",
       "version_major": 2,
       "version_minor": 0
      },
      "text/plain": [
       "Validation: |          | 0/? [00:00<?, ?it/s]"
      ]
     },
     "metadata": {},
     "output_type": "display_data"
    },
    {
     "data": {
      "application/vnd.jupyter.widget-view+json": {
       "model_id": "efbbd2f6b79c400a8b406e62f620126d",
       "version_major": 2,
       "version_minor": 0
      },
      "text/plain": [
       "Validation: |          | 0/? [00:00<?, ?it/s]"
      ]
     },
     "metadata": {},
     "output_type": "display_data"
    },
    {
     "data": {
      "application/vnd.jupyter.widget-view+json": {
       "model_id": "e33b11b5cc26441680d936b071916d05",
       "version_major": 2,
       "version_minor": 0
      },
      "text/plain": [
       "Validation: |          | 0/? [00:00<?, ?it/s]"
      ]
     },
     "metadata": {},
     "output_type": "display_data"
    },
    {
     "data": {
      "application/vnd.jupyter.widget-view+json": {
       "model_id": "207de3bb88234d01b6675054d5eef9b1",
       "version_major": 2,
       "version_minor": 0
      },
      "text/plain": [
       "Validation: |          | 0/? [00:00<?, ?it/s]"
      ]
     },
     "metadata": {},
     "output_type": "display_data"
    },
    {
     "data": {
      "application/vnd.jupyter.widget-view+json": {
       "model_id": "b2cd652195be498b82882b585c372803",
       "version_major": 2,
       "version_minor": 0
      },
      "text/plain": [
       "Validation: |          | 0/? [00:00<?, ?it/s]"
      ]
     },
     "metadata": {},
     "output_type": "display_data"
    },
    {
     "data": {
      "application/vnd.jupyter.widget-view+json": {
       "model_id": "268e32700601460a90613f53b99a7004",
       "version_major": 2,
       "version_minor": 0
      },
      "text/plain": [
       "Validation: |          | 0/? [00:00<?, ?it/s]"
      ]
     },
     "metadata": {},
     "output_type": "display_data"
    },
    {
     "data": {
      "application/vnd.jupyter.widget-view+json": {
       "model_id": "c18f6872681240799aecb9d229038dde",
       "version_major": 2,
       "version_minor": 0
      },
      "text/plain": [
       "Validation: |          | 0/? [00:00<?, ?it/s]"
      ]
     },
     "metadata": {},
     "output_type": "display_data"
    },
    {
     "data": {
      "application/vnd.jupyter.widget-view+json": {
       "model_id": "7edece0d7042446f9515e840540b8608",
       "version_major": 2,
       "version_minor": 0
      },
      "text/plain": [
       "Validation: |          | 0/? [00:00<?, ?it/s]"
      ]
     },
     "metadata": {},
     "output_type": "display_data"
    },
    {
     "data": {
      "application/vnd.jupyter.widget-view+json": {
       "model_id": "0de656e16f5f43f4a352b0d84cee4974",
       "version_major": 2,
       "version_minor": 0
      },
      "text/plain": [
       "Validation: |          | 0/? [00:00<?, ?it/s]"
      ]
     },
     "metadata": {},
     "output_type": "display_data"
    },
    {
     "data": {
      "application/vnd.jupyter.widget-view+json": {
       "model_id": "3fbf89997cfd412cbf8c21874fad3829",
       "version_major": 2,
       "version_minor": 0
      },
      "text/plain": [
       "Validation: |          | 0/? [00:00<?, ?it/s]"
      ]
     },
     "metadata": {},
     "output_type": "display_data"
    },
    {
     "data": {
      "application/vnd.jupyter.widget-view+json": {
       "model_id": "1acdaf60f90a496faa7b5579342d996f",
       "version_major": 2,
       "version_minor": 0
      },
      "text/plain": [
       "Validation: |          | 0/? [00:00<?, ?it/s]"
      ]
     },
     "metadata": {},
     "output_type": "display_data"
    },
    {
     "data": {
      "application/vnd.jupyter.widget-view+json": {
       "model_id": "7cfd854b18824c0f967c069a0b3671f7",
       "version_major": 2,
       "version_minor": 0
      },
      "text/plain": [
       "Validation: |          | 0/? [00:00<?, ?it/s]"
      ]
     },
     "metadata": {},
     "output_type": "display_data"
    },
    {
     "data": {
      "application/vnd.jupyter.widget-view+json": {
       "model_id": "23b77d9742ae4aa9818fdfdf58959eaa",
       "version_major": 2,
       "version_minor": 0
      },
      "text/plain": [
       "Validation: |          | 0/? [00:00<?, ?it/s]"
      ]
     },
     "metadata": {},
     "output_type": "display_data"
    },
    {
     "data": {
      "application/vnd.jupyter.widget-view+json": {
       "model_id": "7eacd788e2c4461eab66f8daf713f39c",
       "version_major": 2,
       "version_minor": 0
      },
      "text/plain": [
       "Validation: |          | 0/? [00:00<?, ?it/s]"
      ]
     },
     "metadata": {},
     "output_type": "display_data"
    },
    {
     "data": {
      "application/vnd.jupyter.widget-view+json": {
       "model_id": "6fcab91363f443acb6621e9bbbaf2484",
       "version_major": 2,
       "version_minor": 0
      },
      "text/plain": [
       "Validation: |          | 0/? [00:00<?, ?it/s]"
      ]
     },
     "metadata": {},
     "output_type": "display_data"
    },
    {
     "data": {
      "application/vnd.jupyter.widget-view+json": {
       "model_id": "f7ed216e52b8479d9f4b559ab93cc8f8",
       "version_major": 2,
       "version_minor": 0
      },
      "text/plain": [
       "Validation: |          | 0/? [00:00<?, ?it/s]"
      ]
     },
     "metadata": {},
     "output_type": "display_data"
    },
    {
     "data": {
      "application/vnd.jupyter.widget-view+json": {
       "model_id": "41a0367d5a524334a076853ee604a62d",
       "version_major": 2,
       "version_minor": 0
      },
      "text/plain": [
       "Validation: |          | 0/? [00:00<?, ?it/s]"
      ]
     },
     "metadata": {},
     "output_type": "display_data"
    },
    {
     "data": {
      "application/vnd.jupyter.widget-view+json": {
       "model_id": "8ae58c500b6f4bfa9adec5c7d8c2467a",
       "version_major": 2,
       "version_minor": 0
      },
      "text/plain": [
       "Validation: |          | 0/? [00:00<?, ?it/s]"
      ]
     },
     "metadata": {},
     "output_type": "display_data"
    },
    {
     "data": {
      "application/vnd.jupyter.widget-view+json": {
       "model_id": "9b736e9420e24027a0d6a7d39f7d71f0",
       "version_major": 2,
       "version_minor": 0
      },
      "text/plain": [
       "Validation: |          | 0/? [00:00<?, ?it/s]"
      ]
     },
     "metadata": {},
     "output_type": "display_data"
    },
    {
     "data": {
      "application/vnd.jupyter.widget-view+json": {
       "model_id": "e38bc857163843f8b904463b1e49b2ed",
       "version_major": 2,
       "version_minor": 0
      },
      "text/plain": [
       "Validation: |          | 0/? [00:00<?, ?it/s]"
      ]
     },
     "metadata": {},
     "output_type": "display_data"
    },
    {
     "data": {
      "application/vnd.jupyter.widget-view+json": {
       "model_id": "cc3bd1768df34235aa00bb6a33b7611d",
       "version_major": 2,
       "version_minor": 0
      },
      "text/plain": [
       "Validation: |          | 0/? [00:00<?, ?it/s]"
      ]
     },
     "metadata": {},
     "output_type": "display_data"
    },
    {
     "data": {
      "application/vnd.jupyter.widget-view+json": {
       "model_id": "ad769091f6c9432f8abd475ef5a6c863",
       "version_major": 2,
       "version_minor": 0
      },
      "text/plain": [
       "Validation: |          | 0/? [00:00<?, ?it/s]"
      ]
     },
     "metadata": {},
     "output_type": "display_data"
    },
    {
     "data": {
      "application/vnd.jupyter.widget-view+json": {
       "model_id": "a114926545fc4ba3b8be375d8c21a0d4",
       "version_major": 2,
       "version_minor": 0
      },
      "text/plain": [
       "Validation: |          | 0/? [00:00<?, ?it/s]"
      ]
     },
     "metadata": {},
     "output_type": "display_data"
    },
    {
     "data": {
      "application/vnd.jupyter.widget-view+json": {
       "model_id": "e3a977366ab14ee8aceaf3adc92f24c2",
       "version_major": 2,
       "version_minor": 0
      },
      "text/plain": [
       "Validation: |          | 0/? [00:00<?, ?it/s]"
      ]
     },
     "metadata": {},
     "output_type": "display_data"
    },
    {
     "data": {
      "application/vnd.jupyter.widget-view+json": {
       "model_id": "e5c6c90112ef48fb8d6d53e4bfa46fe0",
       "version_major": 2,
       "version_minor": 0
      },
      "text/plain": [
       "Validation: |          | 0/? [00:00<?, ?it/s]"
      ]
     },
     "metadata": {},
     "output_type": "display_data"
    },
    {
     "data": {
      "application/vnd.jupyter.widget-view+json": {
       "model_id": "5dda0e6b3ce24169877e181c8d340ec9",
       "version_major": 2,
       "version_minor": 0
      },
      "text/plain": [
       "Validation: |          | 0/? [00:00<?, ?it/s]"
      ]
     },
     "metadata": {},
     "output_type": "display_data"
    },
    {
     "data": {
      "application/vnd.jupyter.widget-view+json": {
       "model_id": "ef2605a9f2f147718e40c680406bf45e",
       "version_major": 2,
       "version_minor": 0
      },
      "text/plain": [
       "Validation: |          | 0/? [00:00<?, ?it/s]"
      ]
     },
     "metadata": {},
     "output_type": "display_data"
    },
    {
     "data": {
      "application/vnd.jupyter.widget-view+json": {
       "model_id": "086bd0fb359d444b8c01d734fbc645cf",
       "version_major": 2,
       "version_minor": 0
      },
      "text/plain": [
       "Validation: |          | 0/? [00:00<?, ?it/s]"
      ]
     },
     "metadata": {},
     "output_type": "display_data"
    },
    {
     "data": {
      "application/vnd.jupyter.widget-view+json": {
       "model_id": "f6e9d374fd83497ebda7f30d4f05cf7a",
       "version_major": 2,
       "version_minor": 0
      },
      "text/plain": [
       "Validation: |          | 0/? [00:00<?, ?it/s]"
      ]
     },
     "metadata": {},
     "output_type": "display_data"
    },
    {
     "data": {
      "application/vnd.jupyter.widget-view+json": {
       "model_id": "fb4d9b2750cc462b9bddf4a3f3cd01fc",
       "version_major": 2,
       "version_minor": 0
      },
      "text/plain": [
       "Validation: |          | 0/? [00:00<?, ?it/s]"
      ]
     },
     "metadata": {},
     "output_type": "display_data"
    },
    {
     "data": {
      "application/vnd.jupyter.widget-view+json": {
       "model_id": "fa4a476fd19c4b49b8db29c58b3dd8e3",
       "version_major": 2,
       "version_minor": 0
      },
      "text/plain": [
       "Validation: |          | 0/? [00:00<?, ?it/s]"
      ]
     },
     "metadata": {},
     "output_type": "display_data"
    },
    {
     "data": {
      "application/vnd.jupyter.widget-view+json": {
       "model_id": "c38fb4f67c184792bd3ca3e357801eb7",
       "version_major": 2,
       "version_minor": 0
      },
      "text/plain": [
       "Validation: |          | 0/? [00:00<?, ?it/s]"
      ]
     },
     "metadata": {},
     "output_type": "display_data"
    },
    {
     "data": {
      "application/vnd.jupyter.widget-view+json": {
       "model_id": "19916d1b3ed84ec292bb89fd48082e31",
       "version_major": 2,
       "version_minor": 0
      },
      "text/plain": [
       "Validation: |          | 0/? [00:00<?, ?it/s]"
      ]
     },
     "metadata": {},
     "output_type": "display_data"
    },
    {
     "data": {
      "application/vnd.jupyter.widget-view+json": {
       "model_id": "cefc0d07e3a945049a9813acd3ed3b65",
       "version_major": 2,
       "version_minor": 0
      },
      "text/plain": [
       "Validation: |          | 0/? [00:00<?, ?it/s]"
      ]
     },
     "metadata": {},
     "output_type": "display_data"
    },
    {
     "data": {
      "application/vnd.jupyter.widget-view+json": {
       "model_id": "964738849760438b8baeaf8d1bccbe26",
       "version_major": 2,
       "version_minor": 0
      },
      "text/plain": [
       "Validation: |          | 0/? [00:00<?, ?it/s]"
      ]
     },
     "metadata": {},
     "output_type": "display_data"
    },
    {
     "data": {
      "application/vnd.jupyter.widget-view+json": {
       "model_id": "d9d5289ec1744deead39f330e4bac8e0",
       "version_major": 2,
       "version_minor": 0
      },
      "text/plain": [
       "Validation: |          | 0/? [00:00<?, ?it/s]"
      ]
     },
     "metadata": {},
     "output_type": "display_data"
    },
    {
     "name": "stderr",
     "output_type": "stream",
     "text": [
      "`Trainer.fit` stopped: `max_epochs=44` reached.\n"
     ]
    }
   ],
   "source": [
    "net.ae_mode(1)\n",
    "trainer2 = pl.Trainer(\n",
    "    # precision=\"16-mixed\",\n",
    "    gradient_clip_val=20,\n",
    "    max_epochs=max_epochs,\n",
    "    log_every_n_steps=1,\n",
    "    # enable_progress_bar=False, enable_model_summary=False\n",
    "    # callbacks=[lr_logger],\n",
    ")\n",
    "trainer2.fit(model=net, train_dataloaders=dl_train, \n",
    "             val_dataloaders=dl_val\n",
    "             );\n"
   ]
  },
  {
   "cell_type": "code",
   "execution_count": null,
   "metadata": {},
   "outputs": [],
   "source": []
  },
  {
   "cell_type": "code",
   "execution_count": 42,
   "metadata": {},
   "outputs": [
    {
     "data": {
      "image/png": "[encoded data removed]",
      "text/plain": [
       "<Figure size 640x480 with 1 Axes>"
      ]
     },
     "metadata": {},
     "output_type": "display_data"
    },
    {
     "data": {
      "image/png": "[encoded data removed]",
      "text/plain": [
       "<Figure size 640x480 with 1 Axes>"
      ]
     },
     "metadata": {},
     "output_type": "display_data"
    },
    {
     "data": {
      "text/html": [
       "<div>\n",
       "<style scoped>\n",
       "    .dataframe tbody tr th:only-of-type {\n",
       "        vertical-align: middle;\n",
       "    }\n",
       "\n",
       "    .dataframe tbody tr th {\n",
       "        vertical-align: top;\n",
       "    }\n",
       "\n",
       "    .dataframe thead th {\n",
       "        text-align: right;\n",
       "    }\n",
       "</style>\n",
       "<table border=\"1\" class=\"dataframe\">\n",
       "  <thead>\n",
       "    <tr style=\"text-align: right;\">\n",
       "      <th></th>\n",
       "      <th>step</th>\n",
       "      <th>train/loss_rec_step</th>\n",
       "      <th>train/loss_pred_step</th>\n",
       "      <th>val/loss_pred_step</th>\n",
       "      <th>val/loss_rec_step</th>\n",
       "      <th>val/loss_rec_epoch</th>\n",
       "      <th>val/auroc</th>\n",
       "      <th>val/l1_loss</th>\n",
       "      <th>val/n</th>\n",
       "      <th>val/acc</th>\n",
       "      <th>val/l2_loss</th>\n",
       "      <th>val/loss_pred_epoch</th>\n",
       "      <th>train/auroc</th>\n",
       "      <th>train/n</th>\n",
       "      <th>train/acc</th>\n",
       "      <th>train/loss_rec_epoch</th>\n",
       "      <th>train/loss_pred_epoch</th>\n",
       "      <th>train/l1_loss</th>\n",
       "      <th>train/l2_loss</th>\n",
       "    </tr>\n",
       "    <tr>\n",
       "      <th>epoch</th>\n",
       "      <th></th>\n",
       "      <th></th>\n",
       "      <th></th>\n",
       "      <th></th>\n",
       "      <th></th>\n",
       "      <th></th>\n",
       "      <th></th>\n",
       "      <th></th>\n",
       "      <th></th>\n",
       "      <th></th>\n",
       "      <th></th>\n",
       "      <th></th>\n",
       "      <th></th>\n",
       "      <th></th>\n",
       "      <th></th>\n",
       "      <th></th>\n",
       "      <th></th>\n",
       "      <th></th>\n",
       "      <th></th>\n",
       "    </tr>\n",
       "  </thead>\n",
       "  <tbody>\n",
       "    <tr>\n",
       "      <th>0.0</th>\n",
       "      <td>9</td>\n",
       "      <td>1.182340e+06</td>\n",
       "      <td>0.634697</td>\n",
       "      <td>0.635492</td>\n",
       "      <td>1594047.875</td>\n",
       "      <td>1883859.75</td>\n",
       "      <td>0.670953</td>\n",
       "      <td>21885.367188</td>\n",
       "      <td>154.0</td>\n",
       "      <td>0.525974</td>\n",
       "      <td>1872917.0</td>\n",
       "      <td>0.814268</td>\n",
       "      <td>0.559346</td>\n",
       "      <td>307.0</td>\n",
       "      <td>0.589577</td>\n",
       "      <td>1438230.875</td>\n",
       "      <td>0.846415</td>\n",
       "      <td>21990.455078</td>\n",
       "      <td>1427235.750</td>\n",
       "    </tr>\n",
       "    <tr>\n",
       "      <th>1.0</th>\n",
       "      <td>19</td>\n",
       "      <td>1.345072e+06</td>\n",
       "      <td>0.557636</td>\n",
       "      <td>0.598052</td>\n",
       "      <td>1594047.875</td>\n",
       "      <td>1883859.75</td>\n",
       "      <td>0.662013</td>\n",
       "      <td>21885.367188</td>\n",
       "      <td>154.0</td>\n",
       "      <td>0.597403</td>\n",
       "      <td>1872917.0</td>\n",
       "      <td>0.648931</td>\n",
       "      <td>0.657845</td>\n",
       "      <td>307.0</td>\n",
       "      <td>0.628664</td>\n",
       "      <td>1438231.000</td>\n",
       "      <td>0.668884</td>\n",
       "      <td>21990.458984</td>\n",
       "      <td>1427235.750</td>\n",
       "    </tr>\n",
       "    <tr>\n",
       "      <th>2.0</th>\n",
       "      <td>29</td>\n",
       "      <td>1.576135e+06</td>\n",
       "      <td>0.591931</td>\n",
       "      <td>0.584167</td>\n",
       "      <td>1594047.875</td>\n",
       "      <td>1883859.75</td>\n",
       "      <td>0.750130</td>\n",
       "      <td>21885.367188</td>\n",
       "      <td>154.0</td>\n",
       "      <td>0.610390</td>\n",
       "      <td>1872917.0</td>\n",
       "      <td>0.644291</td>\n",
       "      <td>0.745154</td>\n",
       "      <td>307.0</td>\n",
       "      <td>0.638436</td>\n",
       "      <td>1438230.875</td>\n",
       "      <td>0.627850</td>\n",
       "      <td>21990.457031</td>\n",
       "      <td>1427235.625</td>\n",
       "    </tr>\n",
       "    <tr>\n",
       "      <th>3.0</th>\n",
       "      <td>39</td>\n",
       "      <td>1.361723e+06</td>\n",
       "      <td>0.624457</td>\n",
       "      <td>0.726895</td>\n",
       "      <td>1594047.875</td>\n",
       "      <td>1883859.75</td>\n",
       "      <td>0.718876</td>\n",
       "      <td>21885.367188</td>\n",
       "      <td>154.0</td>\n",
       "      <td>0.668831</td>\n",
       "      <td>1872917.0</td>\n",
       "      <td>0.639570</td>\n",
       "      <td>0.822406</td>\n",
       "      <td>307.0</td>\n",
       "      <td>0.723127</td>\n",
       "      <td>1438230.875</td>\n",
       "      <td>0.549150</td>\n",
       "      <td>21990.457031</td>\n",
       "      <td>1427235.750</td>\n",
       "    </tr>\n",
       "    <tr>\n",
       "      <th>4.0</th>\n",
       "      <td>49</td>\n",
       "      <td>1.120079e+06</td>\n",
       "      <td>0.763037</td>\n",
       "      <td>0.582415</td>\n",
       "      <td>1594047.875</td>\n",
       "      <td>1883859.75</td>\n",
       "      <td>0.699400</td>\n",
       "      <td>21885.367188</td>\n",
       "      <td>154.0</td>\n",
       "      <td>0.623377</td>\n",
       "      <td>1872917.0</td>\n",
       "      <td>0.691840</td>\n",
       "      <td>0.809829</td>\n",
       "      <td>307.0</td>\n",
       "      <td>0.716612</td>\n",
       "      <td>1438231.000</td>\n",
       "      <td>0.583850</td>\n",
       "      <td>21990.458984</td>\n",
       "      <td>1427235.750</td>\n",
       "    </tr>\n",
       "    <tr>\n",
       "      <th>5.0</th>\n",
       "      <td>59</td>\n",
       "      <td>1.559835e+06</td>\n",
       "      <td>0.535794</td>\n",
       "      <td>1.060955</td>\n",
       "      <td>1594047.875</td>\n",
       "      <td>1883859.75</td>\n",
       "      <td>0.619049</td>\n",
       "      <td>21885.367188</td>\n",
       "      <td>154.0</td>\n",
       "      <td>0.525974</td>\n",
       "      <td>1872917.0</td>\n",
       "      <td>1.112498</td>\n",
       "      <td>0.795981</td>\n",
       "      <td>307.0</td>\n",
       "      <td>0.700326</td>\n",
       "      <td>1438231.000</td>\n",
       "      <td>0.552490</td>\n",
       "      <td>21990.458984</td>\n",
       "      <td>1427235.750</td>\n",
       "    </tr>\n",
       "    <tr>\n",
       "      <th>6.0</th>\n",
       "      <td>69</td>\n",
       "      <td>1.465921e+06</td>\n",
       "      <td>2.991578</td>\n",
       "      <td>1.306474</td>\n",
       "      <td>1594047.875</td>\n",
       "      <td>1883859.75</td>\n",
       "      <td>0.739977</td>\n",
       "      <td>21885.367188</td>\n",
       "      <td>154.0</td>\n",
       "      <td>0.532468</td>\n",
       "      <td>1872917.0</td>\n",
       "      <td>1.048195</td>\n",
       "      <td>0.790288</td>\n",
       "      <td>307.0</td>\n",
       "      <td>0.635179</td>\n",
       "      <td>1438231.000</td>\n",
       "      <td>1.126661</td>\n",
       "      <td>21990.458984</td>\n",
       "      <td>1427235.750</td>\n",
       "    </tr>\n",
       "    <tr>\n",
       "      <th>7.0</th>\n",
       "      <td>79</td>\n",
       "      <td>1.144246e+06</td>\n",
       "      <td>0.768128</td>\n",
       "      <td>0.637859</td>\n",
       "      <td>1594047.875</td>\n",
       "      <td>1883859.75</td>\n",
       "      <td>0.737357</td>\n",
       "      <td>21885.367188</td>\n",
       "      <td>154.0</td>\n",
       "      <td>0.707792</td>\n",
       "      <td>1872917.0</td>\n",
       "      <td>0.615004</td>\n",
       "      <td>0.817999</td>\n",
       "      <td>307.0</td>\n",
       "      <td>0.543974</td>\n",
       "      <td>1438230.875</td>\n",
       "      <td>1.066298</td>\n",
       "      <td>21990.455078</td>\n",
       "      <td>1427235.625</td>\n",
       "    </tr>\n",
       "    <tr>\n",
       "      <th>8.0</th>\n",
       "      <td>89</td>\n",
       "      <td>1.353968e+06</td>\n",
       "      <td>0.574782</td>\n",
       "      <td>0.632014</td>\n",
       "      <td>1594047.875</td>\n",
       "      <td>1883859.75</td>\n",
       "      <td>0.724788</td>\n",
       "      <td>21885.367188</td>\n",
       "      <td>154.0</td>\n",
       "      <td>0.714286</td>\n",
       "      <td>1872917.0</td>\n",
       "      <td>0.612911</td>\n",
       "      <td>0.799933</td>\n",
       "      <td>307.0</td>\n",
       "      <td>0.592834</td>\n",
       "      <td>1438231.000</td>\n",
       "      <td>0.693450</td>\n",
       "      <td>21990.457031</td>\n",
       "      <td>1427235.750</td>\n",
       "    </tr>\n",
       "    <tr>\n",
       "      <th>9.0</th>\n",
       "      <td>99</td>\n",
       "      <td>1.337384e+06</td>\n",
       "      <td>0.600462</td>\n",
       "      <td>0.540945</td>\n",
       "      <td>1594047.875</td>\n",
       "      <td>1883859.75</td>\n",
       "      <td>0.827630</td>\n",
       "      <td>21885.367188</td>\n",
       "      <td>154.0</td>\n",
       "      <td>0.746753</td>\n",
       "      <td>1872917.0</td>\n",
       "      <td>0.535939</td>\n",
       "      <td>0.798542</td>\n",
       "      <td>307.0</td>\n",
       "      <td>0.664495</td>\n",
       "      <td>1438231.125</td>\n",
       "      <td>0.623075</td>\n",
       "      <td>21990.458984</td>\n",
       "      <td>1427235.750</td>\n",
       "    </tr>\n",
       "    <tr>\n",
       "      <th>10.0</th>\n",
       "      <td>109</td>\n",
       "      <td>1.301120e+06</td>\n",
       "      <td>0.680717</td>\n",
       "      <td>0.652962</td>\n",
       "      <td>1594047.875</td>\n",
       "      <td>1883859.75</td>\n",
       "      <td>0.813646</td>\n",
       "      <td>21885.367188</td>\n",
       "      <td>154.0</td>\n",
       "      <td>0.558442</td>\n",
       "      <td>1872917.0</td>\n",
       "      <td>0.713234</td>\n",
       "      <td>0.859066</td>\n",
       "      <td>307.0</td>\n",
       "      <td>0.706840</td>\n",
       "      <td>1438230.875</td>\n",
       "      <td>0.580137</td>\n",
       "      <td>21990.458984</td>\n",
       "      <td>1427235.750</td>\n",
       "    </tr>\n",
       "    <tr>\n",
       "      <th>11.0</th>\n",
       "      <td>119</td>\n",
       "      <td>1.286362e+06</td>\n",
       "      <td>0.552412</td>\n",
       "      <td>0.625013</td>\n",
       "      <td>1594047.875</td>\n",
       "      <td>1883859.75</td>\n",
       "      <td>0.800757</td>\n",
       "      <td>21885.367188</td>\n",
       "      <td>154.0</td>\n",
       "      <td>0.688312</td>\n",
       "      <td>1872917.0</td>\n",
       "      <td>0.577954</td>\n",
       "      <td>0.870304</td>\n",
       "      <td>307.0</td>\n",
       "      <td>0.752443</td>\n",
       "      <td>1438230.875</td>\n",
       "      <td>0.490665</td>\n",
       "      <td>21990.457031</td>\n",
       "      <td>1427235.625</td>\n",
       "    </tr>\n",
       "    <tr>\n",
       "      <th>12.0</th>\n",
       "      <td>129</td>\n",
       "      <td>1.336431e+06</td>\n",
       "      <td>1.009193</td>\n",
       "      <td>0.993961</td>\n",
       "      <td>1594047.875</td>\n",
       "      <td>1883859.75</td>\n",
       "      <td>0.680195</td>\n",
       "      <td>21885.367188</td>\n",
       "      <td>154.0</td>\n",
       "      <td>0.487013</td>\n",
       "      <td>1872917.0</td>\n",
       "      <td>0.787368</td>\n",
       "      <td>0.848842</td>\n",
       "      <td>307.0</td>\n",
       "      <td>0.690554</td>\n",
       "      <td>1438230.875</td>\n",
       "      <td>0.679112</td>\n",
       "      <td>21990.455078</td>\n",
       "      <td>1427235.750</td>\n",
       "    </tr>\n",
       "    <tr>\n",
       "      <th>13.0</th>\n",
       "      <td>139</td>\n",
       "      <td>1.553428e+06</td>\n",
       "      <td>1.257464</td>\n",
       "      <td>0.612175</td>\n",
       "      <td>1594047.875</td>\n",
       "      <td>1883859.75</td>\n",
       "      <td>0.800079</td>\n",
       "      <td>21885.367188</td>\n",
       "      <td>154.0</td>\n",
       "      <td>0.714286</td>\n",
       "      <td>1872917.0</td>\n",
       "      <td>0.623519</td>\n",
       "      <td>0.811033</td>\n",
       "      <td>307.0</td>\n",
       "      <td>0.589577</td>\n",
       "      <td>1438230.875</td>\n",
       "      <td>0.742965</td>\n",
       "      <td>21990.458984</td>\n",
       "      <td>1427235.750</td>\n",
       "    </tr>\n",
       "    <tr>\n",
       "      <th>14.0</th>\n",
       "      <td>149</td>\n",
       "      <td>1.363776e+06</td>\n",
       "      <td>0.495535</td>\n",
       "      <td>0.691103</td>\n",
       "      <td>1594047.875</td>\n",
       "      <td>1883859.75</td>\n",
       "      <td>0.826003</td>\n",
       "      <td>21885.367188</td>\n",
       "      <td>154.0</td>\n",
       "      <td>0.675325</td>\n",
       "      <td>1872917.0</td>\n",
       "      <td>0.585435</td>\n",
       "      <td>0.847192</td>\n",
       "      <td>307.0</td>\n",
       "      <td>0.742671</td>\n",
       "      <td>1438230.875</td>\n",
       "      <td>0.572263</td>\n",
       "      <td>21990.457031</td>\n",
       "      <td>1427235.750</td>\n",
       "    </tr>\n",
       "    <tr>\n",
       "      <th>15.0</th>\n",
       "      <td>159</td>\n",
       "      <td>8.766204e+05</td>\n",
       "      <td>0.475753</td>\n",
       "      <td>0.670254</td>\n",
       "      <td>1594047.875</td>\n",
       "      <td>1883859.75</td>\n",
       "      <td>0.782214</td>\n",
       "      <td>21885.367188</td>\n",
       "      <td>154.0</td>\n",
       "      <td>0.538961</td>\n",
       "      <td>1872917.0</td>\n",
       "      <td>0.794975</td>\n",
       "      <td>0.887661</td>\n",
       "      <td>307.0</td>\n",
       "      <td>0.693811</td>\n",
       "      <td>1438230.875</td>\n",
       "      <td>0.534876</td>\n",
       "      <td>21990.455078</td>\n",
       "      <td>1427235.750</td>\n",
       "    </tr>\n",
       "    <tr>\n",
       "      <th>16.0</th>\n",
       "      <td>169</td>\n",
       "      <td>1.279335e+06</td>\n",
       "      <td>0.281322</td>\n",
       "      <td>0.444776</td>\n",
       "      <td>1594047.875</td>\n",
       "      <td>1883859.75</td>\n",
       "      <td>0.880176</td>\n",
       "      <td>21885.367188</td>\n",
       "      <td>154.0</td>\n",
       "      <td>0.805195</td>\n",
       "      <td>1872917.0</td>\n",
       "      <td>0.427298</td>\n",
       "      <td>0.923471</td>\n",
       "      <td>307.0</td>\n",
       "      <td>0.798046</td>\n",
       "      <td>1438230.875</td>\n",
       "      <td>0.432401</td>\n",
       "      <td>21990.457031</td>\n",
       "      <td>1427235.750</td>\n",
       "    </tr>\n",
       "    <tr>\n",
       "      <th>17.0</th>\n",
       "      <td>179</td>\n",
       "      <td>1.767086e+06</td>\n",
       "      <td>0.320299</td>\n",
       "      <td>0.516623</td>\n",
       "      <td>1594047.875</td>\n",
       "      <td>1883859.75</td>\n",
       "      <td>0.800203</td>\n",
       "      <td>21885.367188</td>\n",
       "      <td>154.0</td>\n",
       "      <td>0.766234</td>\n",
       "      <td>1872917.0</td>\n",
       "      <td>0.554734</td>\n",
       "      <td>0.907138</td>\n",
       "      <td>307.0</td>\n",
       "      <td>0.785016</td>\n",
       "      <td>1438230.875</td>\n",
       "      <td>0.463313</td>\n",
       "      <td>21990.458984</td>\n",
       "      <td>1427235.625</td>\n",
       "    </tr>\n",
       "    <tr>\n",
       "      <th>18.0</th>\n",
       "      <td>189</td>\n",
       "      <td>1.363108e+06</td>\n",
       "      <td>0.517960</td>\n",
       "      <td>0.658268</td>\n",
       "      <td>1594047.875</td>\n",
       "      <td>1883859.75</td>\n",
       "      <td>0.830847</td>\n",
       "      <td>21885.367188</td>\n",
       "      <td>154.0</td>\n",
       "      <td>0.519481</td>\n",
       "      <td>1872917.0</td>\n",
       "      <td>0.804349</td>\n",
       "      <td>0.915498</td>\n",
       "      <td>307.0</td>\n",
       "      <td>0.710098</td>\n",
       "      <td>1438231.000</td>\n",
       "      <td>0.595279</td>\n",
       "      <td>21990.458984</td>\n",
       "      <td>1427235.625</td>\n",
       "    </tr>\n",
       "    <tr>\n",
       "      <th>19.0</th>\n",
       "      <td>199</td>\n",
       "      <td>1.468891e+06</td>\n",
       "      <td>0.532226</td>\n",
       "      <td>0.489780</td>\n",
       "      <td>1594047.875</td>\n",
       "      <td>1883859.75</td>\n",
       "      <td>0.835177</td>\n",
       "      <td>21885.367188</td>\n",
       "      <td>154.0</td>\n",
       "      <td>0.785714</td>\n",
       "      <td>1872917.0</td>\n",
       "      <td>0.508584</td>\n",
       "      <td>0.887371</td>\n",
       "      <td>307.0</td>\n",
       "      <td>0.700326</td>\n",
       "      <td>1438230.875</td>\n",
       "      <td>0.557870</td>\n",
       "      <td>21990.457031</td>\n",
       "      <td>1427235.625</td>\n",
       "    </tr>\n",
       "    <tr>\n",
       "      <th>20.0</th>\n",
       "      <td>209</td>\n",
       "      <td>1.337886e+06</td>\n",
       "      <td>0.417262</td>\n",
       "      <td>0.468444</td>\n",
       "      <td>1594047.875</td>\n",
       "      <td>1883859.75</td>\n",
       "      <td>0.845518</td>\n",
       "      <td>21885.367188</td>\n",
       "      <td>154.0</td>\n",
       "      <td>0.785714</td>\n",
       "      <td>1872917.0</td>\n",
       "      <td>0.501948</td>\n",
       "      <td>0.907889</td>\n",
       "      <td>307.0</td>\n",
       "      <td>0.814332</td>\n",
       "      <td>1438230.875</td>\n",
       "      <td>0.415024</td>\n",
       "      <td>21990.457031</td>\n",
       "      <td>1427235.875</td>\n",
       "    </tr>\n",
       "    <tr>\n",
       "      <th>21.0</th>\n",
       "      <td>219</td>\n",
       "      <td>1.757860e+06</td>\n",
       "      <td>0.155574</td>\n",
       "      <td>0.414827</td>\n",
       "      <td>1594047.875</td>\n",
       "      <td>1883859.75</td>\n",
       "      <td>0.907593</td>\n",
       "      <td>21885.367188</td>\n",
       "      <td>154.0</td>\n",
       "      <td>0.824675</td>\n",
       "      <td>1872917.0</td>\n",
       "      <td>0.374801</td>\n",
       "      <td>0.936039</td>\n",
       "      <td>307.0</td>\n",
       "      <td>0.820847</td>\n",
       "      <td>1438230.875</td>\n",
       "      <td>0.428269</td>\n",
       "      <td>21990.458984</td>\n",
       "      <td>1427235.625</td>\n",
       "    </tr>\n",
       "    <tr>\n",
       "      <th>22.0</th>\n",
       "      <td>229</td>\n",
       "      <td>1.477317e+06</td>\n",
       "      <td>0.581470</td>\n",
       "      <td>0.400171</td>\n",
       "      <td>1594047.875</td>\n",
       "      <td>1883859.75</td>\n",
       "      <td>0.864242</td>\n",
       "      <td>21885.367188</td>\n",
       "      <td>154.0</td>\n",
       "      <td>0.779221</td>\n",
       "      <td>1872917.0</td>\n",
       "      <td>0.466724</td>\n",
       "      <td>0.941970</td>\n",
       "      <td>307.0</td>\n",
       "      <td>0.843648</td>\n",
       "      <td>1438231.000</td>\n",
       "      <td>0.362999</td>\n",
       "      <td>21990.458984</td>\n",
       "      <td>1427235.875</td>\n",
       "    </tr>\n",
       "    <tr>\n",
       "      <th>23.0</th>\n",
       "      <td>239</td>\n",
       "      <td>1.123604e+06</td>\n",
       "      <td>0.358573</td>\n",
       "      <td>0.504396</td>\n",
       "      <td>1594047.875</td>\n",
       "      <td>1883859.75</td>\n",
       "      <td>0.890606</td>\n",
       "      <td>21885.367188</td>\n",
       "      <td>154.0</td>\n",
       "      <td>0.733766</td>\n",
       "      <td>1872917.0</td>\n",
       "      <td>0.556962</td>\n",
       "      <td>0.953830</td>\n",
       "      <td>307.0</td>\n",
       "      <td>0.866450</td>\n",
       "      <td>1438230.875</td>\n",
       "      <td>0.329498</td>\n",
       "      <td>21990.458984</td>\n",
       "      <td>1427235.750</td>\n",
       "    </tr>\n",
       "    <tr>\n",
       "      <th>24.0</th>\n",
       "      <td>249</td>\n",
       "      <td>1.244140e+06</td>\n",
       "      <td>0.221016</td>\n",
       "      <td>0.423291</td>\n",
       "      <td>1594047.875</td>\n",
       "      <td>1883859.75</td>\n",
       "      <td>0.864906</td>\n",
       "      <td>21885.367188</td>\n",
       "      <td>154.0</td>\n",
       "      <td>0.759740</td>\n",
       "      <td>1872917.0</td>\n",
       "      <td>0.468389</td>\n",
       "      <td>0.955236</td>\n",
       "      <td>307.0</td>\n",
       "      <td>0.869707</td>\n",
       "      <td>1438230.875</td>\n",
       "      <td>0.309423</td>\n",
       "      <td>21990.458984</td>\n",
       "      <td>1427236.000</td>\n",
       "    </tr>\n",
       "    <tr>\n",
       "      <th>25.0</th>\n",
       "      <td>259</td>\n",
       "      <td>1.229171e+06</td>\n",
       "      <td>0.572359</td>\n",
       "      <td>0.426384</td>\n",
       "      <td>1594047.875</td>\n",
       "      <td>1883859.75</td>\n",
       "      <td>0.899623</td>\n",
       "      <td>21885.367188</td>\n",
       "      <td>154.0</td>\n",
       "      <td>0.792208</td>\n",
       "      <td>1872917.0</td>\n",
       "      <td>0.419104</td>\n",
       "      <td>0.965302</td>\n",
       "      <td>307.0</td>\n",
       "      <td>0.863192</td>\n",
       "      <td>1438230.875</td>\n",
       "      <td>0.291807</td>\n",
       "      <td>21990.458984</td>\n",
       "      <td>1427235.625</td>\n",
       "    </tr>\n",
       "    <tr>\n",
       "      <th>26.0</th>\n",
       "      <td>269</td>\n",
       "      <td>1.108842e+06</td>\n",
       "      <td>0.349935</td>\n",
       "      <td>0.534997</td>\n",
       "      <td>1594047.875</td>\n",
       "      <td>1883859.75</td>\n",
       "      <td>0.878364</td>\n",
       "      <td>21885.367188</td>\n",
       "      <td>154.0</td>\n",
       "      <td>0.740260</td>\n",
       "      <td>1872917.0</td>\n",
       "      <td>0.505887</td>\n",
       "      <td>0.967783</td>\n",
       "      <td>307.0</td>\n",
       "      <td>0.863192</td>\n",
       "      <td>1438231.000</td>\n",
       "      <td>0.282614</td>\n",
       "      <td>21990.458984</td>\n",
       "      <td>1427235.625</td>\n",
       "    </tr>\n",
       "    <tr>\n",
       "      <th>27.0</th>\n",
       "      <td>279</td>\n",
       "      <td>1.417008e+06</td>\n",
       "      <td>0.322971</td>\n",
       "      <td>0.428234</td>\n",
       "      <td>1594047.875</td>\n",
       "      <td>1883859.75</td>\n",
       "      <td>0.888956</td>\n",
       "      <td>21885.367188</td>\n",
       "      <td>154.0</td>\n",
       "      <td>0.824675</td>\n",
       "      <td>1872917.0</td>\n",
       "      <td>0.420687</td>\n",
       "      <td>0.962200</td>\n",
       "      <td>307.0</td>\n",
       "      <td>0.879479</td>\n",
       "      <td>1438231.000</td>\n",
       "      <td>0.295518</td>\n",
       "      <td>21990.457031</td>\n",
       "      <td>1427235.875</td>\n",
       "    </tr>\n",
       "    <tr>\n",
       "      <th>28.0</th>\n",
       "      <td>289</td>\n",
       "      <td>1.555399e+06</td>\n",
       "      <td>0.372679</td>\n",
       "      <td>0.394874</td>\n",
       "      <td>1594047.875</td>\n",
       "      <td>1883859.75</td>\n",
       "      <td>0.890331</td>\n",
       "      <td>21885.367188</td>\n",
       "      <td>154.0</td>\n",
       "      <td>0.779221</td>\n",
       "      <td>1872917.0</td>\n",
       "      <td>0.417190</td>\n",
       "      <td>0.970679</td>\n",
       "      <td>307.0</td>\n",
       "      <td>0.850163</td>\n",
       "      <td>1438230.875</td>\n",
       "      <td>0.280738</td>\n",
       "      <td>21990.458984</td>\n",
       "      <td>1427235.750</td>\n",
       "    </tr>\n",
       "    <tr>\n",
       "      <th>29.0</th>\n",
       "      <td>299</td>\n",
       "      <td>1.493378e+06</td>\n",
       "      <td>0.302444</td>\n",
       "      <td>0.389936</td>\n",
       "      <td>1594047.875</td>\n",
       "      <td>1883859.75</td>\n",
       "      <td>0.887009</td>\n",
       "      <td>21885.367188</td>\n",
       "      <td>154.0</td>\n",
       "      <td>0.759740</td>\n",
       "      <td>1872917.0</td>\n",
       "      <td>0.439355</td>\n",
       "      <td>0.968188</td>\n",
       "      <td>307.0</td>\n",
       "      <td>0.882736</td>\n",
       "      <td>1438230.875</td>\n",
       "      <td>0.288812</td>\n",
       "      <td>21990.457031</td>\n",
       "      <td>1427235.750</td>\n",
       "    </tr>\n",
       "    <tr>\n",
       "      <th>30.0</th>\n",
       "      <td>309</td>\n",
       "      <td>1.548551e+06</td>\n",
       "      <td>0.254045</td>\n",
       "      <td>0.426346</td>\n",
       "      <td>1594047.875</td>\n",
       "      <td>1883859.75</td>\n",
       "      <td>0.892754</td>\n",
       "      <td>21885.367188</td>\n",
       "      <td>154.0</td>\n",
       "      <td>0.811688</td>\n",
       "      <td>1872917.0</td>\n",
       "      <td>0.395364</td>\n",
       "      <td>0.980634</td>\n",
       "      <td>307.0</td>\n",
       "      <td>0.905537</td>\n",
       "      <td>1438231.000</td>\n",
       "      <td>0.219980</td>\n",
       "      <td>21990.458984</td>\n",
       "      <td>1427235.625</td>\n",
       "    </tr>\n",
       "    <tr>\n",
       "      <th>31.0</th>\n",
       "      <td>319</td>\n",
       "      <td>8.691558e+05</td>\n",
       "      <td>0.304821</td>\n",
       "      <td>0.779696</td>\n",
       "      <td>1594047.875</td>\n",
       "      <td>1883859.75</td>\n",
       "      <td>0.890992</td>\n",
       "      <td>21885.367188</td>\n",
       "      <td>154.0</td>\n",
       "      <td>0.759740</td>\n",
       "      <td>1872917.0</td>\n",
       "      <td>0.577802</td>\n",
       "      <td>0.980449</td>\n",
       "      <td>307.0</td>\n",
       "      <td>0.892508</td>\n",
       "      <td>1438231.000</td>\n",
       "      <td>0.263563</td>\n",
       "      <td>21990.458984</td>\n",
       "      <td>1427235.750</td>\n",
       "    </tr>\n",
       "    <tr>\n",
       "      <th>32.0</th>\n",
       "      <td>329</td>\n",
       "      <td>1.396107e+06</td>\n",
       "      <td>0.187379</td>\n",
       "      <td>0.391000</td>\n",
       "      <td>1594047.875</td>\n",
       "      <td>1883859.75</td>\n",
       "      <td>0.893189</td>\n",
       "      <td>21885.367188</td>\n",
       "      <td>154.0</td>\n",
       "      <td>0.805195</td>\n",
       "      <td>1872917.0</td>\n",
       "      <td>0.391255</td>\n",
       "      <td>0.973779</td>\n",
       "      <td>307.0</td>\n",
       "      <td>0.850163</td>\n",
       "      <td>1438230.875</td>\n",
       "      <td>0.329469</td>\n",
       "      <td>21990.455078</td>\n",
       "      <td>1427235.750</td>\n",
       "    </tr>\n",
       "    <tr>\n",
       "      <th>33.0</th>\n",
       "      <td>339</td>\n",
       "      <td>1.627215e+06</td>\n",
       "      <td>0.129498</td>\n",
       "      <td>0.449625</td>\n",
       "      <td>1594047.875</td>\n",
       "      <td>1883859.75</td>\n",
       "      <td>0.895050</td>\n",
       "      <td>21885.367188</td>\n",
       "      <td>154.0</td>\n",
       "      <td>0.759740</td>\n",
       "      <td>1872917.0</td>\n",
       "      <td>0.497273</td>\n",
       "      <td>0.982901</td>\n",
       "      <td>307.0</td>\n",
       "      <td>0.921824</td>\n",
       "      <td>1438231.000</td>\n",
       "      <td>0.220396</td>\n",
       "      <td>21990.458984</td>\n",
       "      <td>1427235.750</td>\n",
       "    </tr>\n",
       "    <tr>\n",
       "      <th>34.0</th>\n",
       "      <td>349</td>\n",
       "      <td>1.368952e+06</td>\n",
       "      <td>0.211941</td>\n",
       "      <td>0.408100</td>\n",
       "      <td>1594047.875</td>\n",
       "      <td>1883859.75</td>\n",
       "      <td>0.889521</td>\n",
       "      <td>21885.367188</td>\n",
       "      <td>154.0</td>\n",
       "      <td>0.824675</td>\n",
       "      <td>1872917.0</td>\n",
       "      <td>0.423250</td>\n",
       "      <td>0.985325</td>\n",
       "      <td>307.0</td>\n",
       "      <td>0.902280</td>\n",
       "      <td>1438231.000</td>\n",
       "      <td>0.221393</td>\n",
       "      <td>21990.458984</td>\n",
       "      <td>1427235.750</td>\n",
       "    </tr>\n",
       "    <tr>\n",
       "      <th>35.0</th>\n",
       "      <td>359</td>\n",
       "      <td>1.401348e+06</td>\n",
       "      <td>0.302265</td>\n",
       "      <td>0.451895</td>\n",
       "      <td>1594047.875</td>\n",
       "      <td>1883859.75</td>\n",
       "      <td>0.891075</td>\n",
       "      <td>21885.367188</td>\n",
       "      <td>154.0</td>\n",
       "      <td>0.753247</td>\n",
       "      <td>1872917.0</td>\n",
       "      <td>0.497889</td>\n",
       "      <td>0.988963</td>\n",
       "      <td>307.0</td>\n",
       "      <td>0.912052</td>\n",
       "      <td>1438230.875</td>\n",
       "      <td>0.203206</td>\n",
       "      <td>21990.457031</td>\n",
       "      <td>1427235.750</td>\n",
       "    </tr>\n",
       "    <tr>\n",
       "      <th>36.0</th>\n",
       "      <td>369</td>\n",
       "      <td>1.127392e+06</td>\n",
       "      <td>0.273849</td>\n",
       "      <td>0.413880</td>\n",
       "      <td>1594047.875</td>\n",
       "      <td>1883859.75</td>\n",
       "      <td>0.890482</td>\n",
       "      <td>21885.367188</td>\n",
       "      <td>154.0</td>\n",
       "      <td>0.798701</td>\n",
       "      <td>1872917.0</td>\n",
       "      <td>0.446077</td>\n",
       "      <td>0.985271</td>\n",
       "      <td>307.0</td>\n",
       "      <td>0.925081</td>\n",
       "      <td>1438231.000</td>\n",
       "      <td>0.170113</td>\n",
       "      <td>21990.457031</td>\n",
       "      <td>1427235.750</td>\n",
       "    </tr>\n",
       "    <tr>\n",
       "      <th>37.0</th>\n",
       "      <td>379</td>\n",
       "      <td>1.139963e+06</td>\n",
       "      <td>0.078704</td>\n",
       "      <td>0.432375</td>\n",
       "      <td>1594047.875</td>\n",
       "      <td>1883859.75</td>\n",
       "      <td>0.893461</td>\n",
       "      <td>21885.367188</td>\n",
       "      <td>154.0</td>\n",
       "      <td>0.798701</td>\n",
       "      <td>1872917.0</td>\n",
       "      <td>0.453471</td>\n",
       "      <td>0.982970</td>\n",
       "      <td>307.0</td>\n",
       "      <td>0.934853</td>\n",
       "      <td>1438231.000</td>\n",
       "      <td>0.164219</td>\n",
       "      <td>21990.457031</td>\n",
       "      <td>1427235.625</td>\n",
       "    </tr>\n",
       "    <tr>\n",
       "      <th>38.0</th>\n",
       "      <td>389</td>\n",
       "      <td>1.209724e+06</td>\n",
       "      <td>0.162566</td>\n",
       "      <td>0.488511</td>\n",
       "      <td>1594047.875</td>\n",
       "      <td>1883859.75</td>\n",
       "      <td>0.894522</td>\n",
       "      <td>21885.367188</td>\n",
       "      <td>154.0</td>\n",
       "      <td>0.753247</td>\n",
       "      <td>1872917.0</td>\n",
       "      <td>0.512033</td>\n",
       "      <td>0.989370</td>\n",
       "      <td>307.0</td>\n",
       "      <td>0.931596</td>\n",
       "      <td>1438230.875</td>\n",
       "      <td>0.159590</td>\n",
       "      <td>21990.457031</td>\n",
       "      <td>1427235.625</td>\n",
       "    </tr>\n",
       "    <tr>\n",
       "      <th>39.0</th>\n",
       "      <td>399</td>\n",
       "      <td>1.167848e+06</td>\n",
       "      <td>0.186313</td>\n",
       "      <td>0.430364</td>\n",
       "      <td>1594047.875</td>\n",
       "      <td>1883859.75</td>\n",
       "      <td>0.902007</td>\n",
       "      <td>21885.367188</td>\n",
       "      <td>154.0</td>\n",
       "      <td>0.792208</td>\n",
       "      <td>1872917.0</td>\n",
       "      <td>0.451821</td>\n",
       "      <td>0.988411</td>\n",
       "      <td>307.0</td>\n",
       "      <td>0.941368</td>\n",
       "      <td>1438231.125</td>\n",
       "      <td>0.142256</td>\n",
       "      <td>21990.458984</td>\n",
       "      <td>1427235.750</td>\n",
       "    </tr>\n",
       "    <tr>\n",
       "      <th>40.0</th>\n",
       "      <td>409</td>\n",
       "      <td>1.470358e+06</td>\n",
       "      <td>0.227514</td>\n",
       "      <td>0.435719</td>\n",
       "      <td>1594047.875</td>\n",
       "      <td>1883859.75</td>\n",
       "      <td>0.901063</td>\n",
       "      <td>21885.367188</td>\n",
       "      <td>154.0</td>\n",
       "      <td>0.792208</td>\n",
       "      <td>1872917.0</td>\n",
       "      <td>0.456698</td>\n",
       "      <td>0.993015</td>\n",
       "      <td>307.0</td>\n",
       "      <td>0.938111</td>\n",
       "      <td>1438230.875</td>\n",
       "      <td>0.143769</td>\n",
       "      <td>21990.458984</td>\n",
       "      <td>1427235.625</td>\n",
       "    </tr>\n",
       "    <tr>\n",
       "      <th>41.0</th>\n",
       "      <td>419</td>\n",
       "      <td>1.408957e+06</td>\n",
       "      <td>0.052067</td>\n",
       "      <td>0.446724</td>\n",
       "      <td>1594047.875</td>\n",
       "      <td>1883859.75</td>\n",
       "      <td>0.901063</td>\n",
       "      <td>21885.367188</td>\n",
       "      <td>154.0</td>\n",
       "      <td>0.792208</td>\n",
       "      <td>1872917.0</td>\n",
       "      <td>0.466636</td>\n",
       "      <td>0.987455</td>\n",
       "      <td>307.0</td>\n",
       "      <td>0.944625</td>\n",
       "      <td>1438230.875</td>\n",
       "      <td>0.136968</td>\n",
       "      <td>21990.455078</td>\n",
       "      <td>1427235.625</td>\n",
       "    </tr>\n",
       "    <tr>\n",
       "      <th>42.0</th>\n",
       "      <td>429</td>\n",
       "      <td>1.646227e+06</td>\n",
       "      <td>0.166026</td>\n",
       "      <td>0.451591</td>\n",
       "      <td>1594047.875</td>\n",
       "      <td>1883859.75</td>\n",
       "      <td>0.901062</td>\n",
       "      <td>21885.367188</td>\n",
       "      <td>154.0</td>\n",
       "      <td>0.792208</td>\n",
       "      <td>1872917.0</td>\n",
       "      <td>0.471052</td>\n",
       "      <td>0.991528</td>\n",
       "      <td>307.0</td>\n",
       "      <td>0.947883</td>\n",
       "      <td>1438230.875</td>\n",
       "      <td>0.134828</td>\n",
       "      <td>21990.457031</td>\n",
       "      <td>1427235.625</td>\n",
       "    </tr>\n",
       "    <tr>\n",
       "      <th>43.0</th>\n",
       "      <td>439</td>\n",
       "      <td>1.732364e+06</td>\n",
       "      <td>0.167422</td>\n",
       "      <td>0.451927</td>\n",
       "      <td>1594047.875</td>\n",
       "      <td>1883859.75</td>\n",
       "      <td>0.901062</td>\n",
       "      <td>21885.367188</td>\n",
       "      <td>154.0</td>\n",
       "      <td>0.792208</td>\n",
       "      <td>1872917.0</td>\n",
       "      <td>0.471417</td>\n",
       "      <td>0.985526</td>\n",
       "      <td>307.0</td>\n",
       "      <td>0.951140</td>\n",
       "      <td>1438230.875</td>\n",
       "      <td>0.134423</td>\n",
       "      <td>21990.457031</td>\n",
       "      <td>1427235.875</td>\n",
       "    </tr>\n",
       "  </tbody>\n",
       "</table>\n",
       "</div>"
      ],
      "text/plain": [
       "       step  train/loss_rec_step  train/loss_pred_step  val/loss_pred_step  \\\n",
       "epoch                                                                        \n",
       "0.0       9         1.182340e+06              0.634697            0.635492   \n",
       "1.0      19         1.345072e+06              0.557636            0.598052   \n",
       "2.0      29         1.576135e+06              0.591931            0.584167   \n",
       "3.0      39         1.361723e+06              0.624457            0.726895   \n",
       "4.0      49         1.120079e+06              0.763037            0.582415   \n",
       "5.0      59         1.559835e+06              0.535794            1.060955   \n",
       "6.0      69         1.465921e+06              2.991578            1.306474   \n",
       "7.0      79         1.144246e+06              0.768128            0.637859   \n",
       "8.0      89         1.353968e+06              0.574782            0.632014   \n",
       "9.0      99         1.337384e+06              0.600462            0.540945   \n",
       "10.0    109         1.301120e+06              0.680717            0.652962   \n",
       "11.0    119         1.286362e+06              0.552412            0.625013   \n",
       "12.0    129         1.336431e+06              1.009193            0.993961   \n",
       "13.0    139         1.553428e+06              1.257464            0.612175   \n",
       "14.0    149         1.363776e+06              0.495535            0.691103   \n",
       "15.0    159         8.766204e+05              0.475753            0.670254   \n",
       "16.0    169         1.279335e+06              0.281322            0.444776   \n",
       "17.0    179         1.767086e+06              0.320299            0.516623   \n",
       "18.0    189         1.363108e+06              0.517960            0.658268   \n",
       "19.0    199         1.468891e+06              0.532226            0.489780   \n",
       "20.0    209         1.337886e+06              0.417262            0.468444   \n",
       "21.0    219         1.757860e+06              0.155574            0.414827   \n",
       "22.0    229         1.477317e+06              0.581470            0.400171   \n",
       "23.0    239         1.123604e+06              0.358573            0.504396   \n",
       "24.0    249         1.244140e+06              0.221016            0.423291   \n",
       "25.0    259         1.229171e+06              0.572359            0.426384   \n",
       "26.0    269         1.108842e+06              0.349935            0.534997   \n",
       "27.0    279         1.417008e+06              0.322971            0.428234   \n",
       "28.0    289         1.555399e+06              0.372679            0.394874   \n",
       "29.0    299         1.493378e+06              0.302444            0.389936   \n",
       "30.0    309         1.548551e+06              0.254045            0.426346   \n",
       "31.0    319         8.691558e+05              0.304821            0.779696   \n",
       "32.0    329         1.396107e+06              0.187379            0.391000   \n",
       "33.0    339         1.627215e+06              0.129498            0.449625   \n",
       "34.0    349         1.368952e+06              0.211941            0.408100   \n",
       "35.0    359         1.401348e+06              0.302265            0.451895   \n",
       "36.0    369         1.127392e+06              0.273849            0.413880   \n",
       "37.0    379         1.139963e+06              0.078704            0.432375   \n",
       "38.0    389         1.209724e+06              0.162566            0.488511   \n",
       "39.0    399         1.167848e+06              0.186313            0.430364   \n",
       "40.0    409         1.470358e+06              0.227514            0.435719   \n",
       "41.0    419         1.408957e+06              0.052067            0.446724   \n",
       "42.0    429         1.646227e+06              0.166026            0.451591   \n",
       "43.0    439         1.732364e+06              0.167422            0.451927   \n",
       "\n",
       "       val/loss_rec_step  val/loss_rec_epoch  val/auroc   val/l1_loss  val/n  \\\n",
       "epoch                                                                          \n",
       "0.0          1594047.875          1883859.75   0.670953  21885.367188  154.0   \n",
       "1.0          1594047.875          1883859.75   0.662013  21885.367188  154.0   \n",
       "2.0          1594047.875          1883859.75   0.750130  21885.367188  154.0   \n",
       "3.0          1594047.875          1883859.75   0.718876  21885.367188  154.0   \n",
       "4.0          1594047.875          1883859.75   0.699400  21885.367188  154.0   \n",
       "5.0          1594047.875          1883859.75   0.619049  21885.367188  154.0   \n",
       "6.0          1594047.875          1883859.75   0.739977  21885.367188  154.0   \n",
       "7.0          1594047.875          1883859.75   0.737357  21885.367188  154.0   \n",
       "8.0          1594047.875          1883859.75   0.724788  21885.367188  154.0   \n",
       "9.0          1594047.875          1883859.75   0.827630  21885.367188  154.0   \n",
       "10.0         1594047.875          1883859.75   0.813646  21885.367188  154.0   \n",
       "11.0         1594047.875          1883859.75   0.800757  21885.367188  154.0   \n",
       "12.0         1594047.875          1883859.75   0.680195  21885.367188  154.0   \n",
       "13.0         1594047.875          1883859.75   0.800079  21885.367188  154.0   \n",
       "14.0         1594047.875          1883859.75   0.826003  21885.367188  154.0   \n",
       "15.0         1594047.875          1883859.75   0.782214  21885.367188  154.0   \n",
       "16.0         1594047.875          1883859.75   0.880176  21885.367188  154.0   \n",
       "17.0         1594047.875          1883859.75   0.800203  21885.367188  154.0   \n",
       "18.0         1594047.875          1883859.75   0.830847  21885.367188  154.0   \n",
       "19.0         1594047.875          1883859.75   0.835177  21885.367188  154.0   \n",
       "20.0         1594047.875          1883859.75   0.845518  21885.367188  154.0   \n",
       "21.0         1594047.875          1883859.75   0.907593  21885.367188  154.0   \n",
       "22.0         1594047.875          1883859.75   0.864242  21885.367188  154.0   \n",
       "23.0         1594047.875          1883859.75   0.890606  21885.367188  154.0   \n",
       "24.0         1594047.875          1883859.75   0.864906  21885.367188  154.0   \n",
       "25.0         1594047.875          1883859.75   0.899623  21885.367188  154.0   \n",
       "26.0         1594047.875          1883859.75   0.878364  21885.367188  154.0   \n",
       "27.0         1594047.875          1883859.75   0.888956  21885.367188  154.0   \n",
       "28.0         1594047.875          1883859.75   0.890331  21885.367188  154.0   \n",
       "29.0         1594047.875          1883859.75   0.887009  21885.367188  154.0   \n",
       "30.0         1594047.875          1883859.75   0.892754  21885.367188  154.0   \n",
       "31.0         1594047.875          1883859.75   0.890992  21885.367188  154.0   \n",
       "32.0         1594047.875          1883859.75   0.893189  21885.367188  154.0   \n",
       "33.0         1594047.875          1883859.75   0.895050  21885.367188  154.0   \n",
       "34.0         1594047.875          1883859.75   0.889521  21885.367188  154.0   \n",
       "35.0         1594047.875          1883859.75   0.891075  21885.367188  154.0   \n",
       "36.0         1594047.875          1883859.75   0.890482  21885.367188  154.0   \n",
       "37.0         1594047.875          1883859.75   0.893461  21885.367188  154.0   \n",
       "38.0         1594047.875          1883859.75   0.894522  21885.367188  154.0   \n",
       "39.0         1594047.875          1883859.75   0.902007  21885.367188  154.0   \n",
       "40.0         1594047.875          1883859.75   0.901063  21885.367188  154.0   \n",
       "41.0         1594047.875          1883859.75   0.901063  21885.367188  154.0   \n",
       "42.0         1594047.875          1883859.75   0.901062  21885.367188  154.0   \n",
       "43.0         1594047.875          1883859.75   0.901062  21885.367188  154.0   \n",
       "\n",
       "        val/acc  val/l2_loss  val/loss_pred_epoch  train/auroc  train/n  \\\n",
       "epoch                                                                     \n",
       "0.0    0.525974    1872917.0             0.814268     0.559346    307.0   \n",
       "1.0    0.597403    1872917.0             0.648931     0.657845    307.0   \n",
       "2.0    0.610390    1872917.0             0.644291     0.745154    307.0   \n",
       "3.0    0.668831    1872917.0             0.639570     0.822406    307.0   \n",
       "4.0    0.623377    1872917.0             0.691840     0.809829    307.0   \n",
       "5.0    0.525974    1872917.0             1.112498     0.795981    307.0   \n",
       "6.0    0.532468    1872917.0             1.048195     0.790288    307.0   \n",
       "7.0    0.707792    1872917.0             0.615004     0.817999    307.0   \n",
       "8.0    0.714286    1872917.0             0.612911     0.799933    307.0   \n",
       "9.0    0.746753    1872917.0             0.535939     0.798542    307.0   \n",
       "10.0   0.558442    1872917.0             0.713234     0.859066    307.0   \n",
       "11.0   0.688312    1872917.0             0.577954     0.870304    307.0   \n",
       "12.0   0.487013    1872917.0             0.787368     0.848842    307.0   \n",
       "13.0   0.714286    1872917.0             0.623519     0.811033    307.0   \n",
       "14.0   0.675325    1872917.0             0.585435     0.847192    307.0   \n",
       "15.0   0.538961    1872917.0             0.794975     0.887661    307.0   \n",
       "16.0   0.805195    1872917.0             0.427298     0.923471    307.0   \n",
       "17.0   0.766234    1872917.0             0.554734     0.907138    307.0   \n",
       "18.0   0.519481    1872917.0             0.804349     0.915498    307.0   \n",
       "19.0   0.785714    1872917.0             0.508584     0.887371    307.0   \n",
       "20.0   0.785714    1872917.0             0.501948     0.907889    307.0   \n",
       "21.0   0.824675    1872917.0             0.374801     0.936039    307.0   \n",
       "22.0   0.779221    1872917.0             0.466724     0.941970    307.0   \n",
       "23.0   0.733766    1872917.0             0.556962     0.953830    307.0   \n",
       "24.0   0.759740    1872917.0             0.468389     0.955236    307.0   \n",
       "25.0   0.792208    1872917.0             0.419104     0.965302    307.0   \n",
       "26.0   0.740260    1872917.0             0.505887     0.967783    307.0   \n",
       "27.0   0.824675    1872917.0             0.420687     0.962200    307.0   \n",
       "28.0   0.779221    1872917.0             0.417190     0.970679    307.0   \n",
       "29.0   0.759740    1872917.0             0.439355     0.968188    307.0   \n",
       "30.0   0.811688    1872917.0             0.395364     0.980634    307.0   \n",
       "31.0   0.759740    1872917.0             0.577802     0.980449    307.0   \n",
       "32.0   0.805195    1872917.0             0.391255     0.973779    307.0   \n",
       "33.0   0.759740    1872917.0             0.497273     0.982901    307.0   \n",
       "34.0   0.824675    1872917.0             0.423250     0.985325    307.0   \n",
       "35.0   0.753247    1872917.0             0.497889     0.988963    307.0   \n",
       "36.0   0.798701    1872917.0             0.446077     0.985271    307.0   \n",
       "37.0   0.798701    1872917.0             0.453471     0.982970    307.0   \n",
       "38.0   0.753247    1872917.0             0.512033     0.989370    307.0   \n",
       "39.0   0.792208    1872917.0             0.451821     0.988411    307.0   \n",
       "40.0   0.792208    1872917.0             0.456698     0.993015    307.0   \n",
       "41.0   0.792208    1872917.0             0.466636     0.987455    307.0   \n",
       "42.0   0.792208    1872917.0             0.471052     0.991528    307.0   \n",
       "43.0   0.792208    1872917.0             0.471417     0.985526    307.0   \n",
       "\n",
       "       train/acc  train/loss_rec_epoch  train/loss_pred_epoch  train/l1_loss  \\\n",
       "epoch                                                                          \n",
       "0.0     0.589577           1438230.875               0.846415   21990.455078   \n",
       "1.0     0.628664           1438231.000               0.668884   21990.458984   \n",
       "2.0     0.638436           1438230.875               0.627850   21990.457031   \n",
       "3.0     0.723127           1438230.875               0.549150   21990.457031   \n",
       "4.0     0.716612           1438231.000               0.583850   21990.458984   \n",
       "5.0     0.700326           1438231.000               0.552490   21990.458984   \n",
       "6.0     0.635179           1438231.000               1.126661   21990.458984   \n",
       "7.0     0.543974           1438230.875               1.066298   21990.455078   \n",
       "8.0     0.592834           1438231.000               0.693450   21990.457031   \n",
       "9.0     0.664495           1438231.125               0.623075   21990.458984   \n",
       "10.0    0.706840           1438230.875               0.580137   21990.458984   \n",
       "11.0    0.752443           1438230.875               0.490665   21990.457031   \n",
       "12.0    0.690554           1438230.875               0.679112   21990.455078   \n",
       "13.0    0.589577           1438230.875               0.742965   21990.458984   \n",
       "14.0    0.742671           1438230.875               0.572263   21990.457031   \n",
       "15.0    0.693811           1438230.875               0.534876   21990.455078   \n",
       "16.0    0.798046           1438230.875               0.432401   21990.457031   \n",
       "17.0    0.785016           1438230.875               0.463313   21990.458984   \n",
       "18.0    0.710098           1438231.000               0.595279   21990.458984   \n",
       "19.0    0.700326           1438230.875               0.557870   21990.457031   \n",
       "20.0    0.814332           1438230.875               0.415024   21990.457031   \n",
       "21.0    0.820847           1438230.875               0.428269   21990.458984   \n",
       "22.0    0.843648           1438231.000               0.362999   21990.458984   \n",
       "23.0    0.866450           1438230.875               0.329498   21990.458984   \n",
       "24.0    0.869707           1438230.875               0.309423   21990.458984   \n",
       "25.0    0.863192           1438230.875               0.291807   21990.458984   \n",
       "26.0    0.863192           1438231.000               0.282614   21990.458984   \n",
       "27.0    0.879479           1438231.000               0.295518   21990.457031   \n",
       "28.0    0.850163           1438230.875               0.280738   21990.458984   \n",
       "29.0    0.882736           1438230.875               0.288812   21990.457031   \n",
       "30.0    0.905537           1438231.000               0.219980   21990.458984   \n",
       "31.0    0.892508           1438231.000               0.263563   21990.458984   \n",
       "32.0    0.850163           1438230.875               0.329469   21990.455078   \n",
       "33.0    0.921824           1438231.000               0.220396   21990.458984   \n",
       "34.0    0.902280           1438231.000               0.221393   21990.458984   \n",
       "35.0    0.912052           1438230.875               0.203206   21990.457031   \n",
       "36.0    0.925081           1438231.000               0.170113   21990.457031   \n",
       "37.0    0.934853           1438231.000               0.164219   21990.457031   \n",
       "38.0    0.931596           1438230.875               0.159590   21990.457031   \n",
       "39.0    0.941368           1438231.125               0.142256   21990.458984   \n",
       "40.0    0.938111           1438230.875               0.143769   21990.458984   \n",
       "41.0    0.944625           1438230.875               0.136968   21990.455078   \n",
       "42.0    0.947883           1438230.875               0.134828   21990.457031   \n",
       "43.0    0.951140           1438230.875               0.134423   21990.457031   \n",
       "\n",
       "       train/l2_loss  \n",
       "epoch                 \n",
       "0.0      1427235.750  \n",
       "1.0      1427235.750  \n",
       "2.0      1427235.625  \n",
       "3.0      1427235.750  \n",
       "4.0      1427235.750  \n",
       "5.0      1427235.750  \n",
       "6.0      1427235.750  \n",
       "7.0      1427235.625  \n",
       "8.0      1427235.750  \n",
       "9.0      1427235.750  \n",
       "10.0     1427235.750  \n",
       "11.0     1427235.625  \n",
       "12.0     1427235.750  \n",
       "13.0     1427235.750  \n",
       "14.0     1427235.750  \n",
       "15.0     1427235.750  \n",
       "16.0     1427235.750  \n",
       "17.0     1427235.625  \n",
       "18.0     1427235.625  \n",
       "19.0     1427235.625  \n",
       "20.0     1427235.875  \n",
       "21.0     1427235.625  \n",
       "22.0     1427235.875  \n",
       "23.0     1427235.750  \n",
       "24.0     1427236.000  \n",
       "25.0     1427235.625  \n",
       "26.0     1427235.625  \n",
       "27.0     1427235.875  \n",
       "28.0     1427235.750  \n",
       "29.0     1427235.750  \n",
       "30.0     1427235.625  \n",
       "31.0     1427235.750  \n",
       "32.0     1427235.750  \n",
       "33.0     1427235.750  \n",
       "34.0     1427235.750  \n",
       "35.0     1427235.750  \n",
       "36.0     1427235.750  \n",
       "37.0     1427235.625  \n",
       "38.0     1427235.625  \n",
       "39.0     1427235.750  \n",
       "40.0     1427235.625  \n",
       "41.0     1427235.625  \n",
       "42.0     1427235.625  \n",
       "43.0     1427235.875  "
      ]
     },
     "execution_count": 42,
     "metadata": {},
     "output_type": "execute_result"
    }
   ],
   "source": [
    "df_hist, _ = read_metrics_csv(trainer2.logger.experiment.metrics_file_path)\n",
    "plot_hist(df_hist, ['loss_pred_epoch', 'auroc'])\n",
    "df_hist"
   ]
  },
  {
   "cell_type": "code",
   "execution_count": 43,
   "metadata": {},
   "outputs": [
    {
     "name": "stderr",
     "output_type": "stream",
     "text": [
      "LOCAL_RANK: 0 - CUDA_VISIBLE_DEVICES: [0,1]\n",
      "/media/wassname/SGIronWolf/projects5/elk/sgd_probes_are_lie_detectors/.venv/lib/python3.11/site-packages/lightning/pytorch/trainer/connectors/data_connector.py:492: Your `test_dataloader`'s sampler has shuffling enabled, it is strongly recommended that you turn shuffling off for val/test dataloaders.\n",
      "/media/wassname/SGIronWolf/projects5/elk/sgd_probes_are_lie_detectors/.venv/lib/python3.11/site-packages/lightning/pytorch/trainer/connectors/data_connector.py:441: The 'test_dataloader' does not have many workers which may be a bottleneck. Consider increasing the value of the `num_workers` argument` to `num_workers=23` in the `DataLoader` to improve performance.\n"
     ]
    },
    {
     "data": {
      "application/vnd.jupyter.widget-view+json": {
       "model_id": "9fb94ab276bd454db88cee71c30c773c",
       "version_major": 2,
       "version_minor": 0
      },
      "text/plain": [
       "Testing: |          | 0/? [00:00<?, ?it/s]"
      ]
     },
     "metadata": {},
     "output_type": "display_data"
    },
    {
     "data": {
      "text/html": [
       "<pre style=\"white-space:pre;overflow-x:auto;line-height:normal;font-family:Menlo,'DejaVu Sans Mono',consolas,'Courier New',monospace\">┏━━━━━━━━━━━━━━━━━━━━━━━━━━━┳━━━━━━━━━━━━━━━━━━━━━━━━━━━┳━━━━━━━━━━━━━━━━━━━━━━━━━━━┳━━━━━━━━━━━━━━━━━━━━━━━━━━━┓\n",
       "┃<span style=\"font-weight: bold\">        Test metric        </span>┃<span style=\"font-weight: bold\">       DataLoader 0        </span>┃<span style=\"font-weight: bold\">       DataLoader 1        </span>┃<span style=\"font-weight: bold\">       DataLoader 2        </span>┃\n",
       "┡━━━━━━━━━━━━━━━━━━━━━━━━━━━╇━━━━━━━━━━━━━━━━━━━━━━━━━━━╇━━━━━━━━━━━━━━━━━━━━━━━━━━━╇━━━━━━━━━━━━━━━━━━━━━━━━━━━┩\n",
       "│<span style=\"color: #008080; text-decoration-color: #008080\">         test/acc          </span>│<span style=\"color: #800080; text-decoration-color: #800080\">    0.9511400461196899     </span>│<span style=\"color: #800080; text-decoration-color: #800080\">    0.7922077775001526     </span>│<span style=\"color: #800080; text-decoration-color: #800080\">    0.8116883039474487     </span>│\n",
       "│<span style=\"color: #008080; text-decoration-color: #008080\">        test/auroc         </span>│<span style=\"color: #800080; text-decoration-color: #800080\">    0.9900705814361572     </span>│<span style=\"color: #800080; text-decoration-color: #800080\">    0.9010624885559082     </span>│<span style=\"color: #800080; text-decoration-color: #800080\">     0.901390790939331     </span>│\n",
       "│<span style=\"color: #008080; text-decoration-color: #008080\">       test/l1_loss        </span>│<span style=\"color: #800080; text-decoration-color: #800080\">      21990.455078125      </span>│<span style=\"color: #800080; text-decoration-color: #800080\">       21885.3671875       </span>│<span style=\"color: #800080; text-decoration-color: #800080\">      22052.931640625      </span>│\n",
       "│<span style=\"color: #008080; text-decoration-color: #008080\">       test/l2_loss        </span>│<span style=\"color: #800080; text-decoration-color: #800080\">        1427235.875        </span>│<span style=\"color: #800080; text-decoration-color: #800080\">         1872917.0         </span>│<span style=\"color: #800080; text-decoration-color: #800080\">        1674740.625        </span>│\n",
       "│<span style=\"color: #008080; text-decoration-color: #008080\">   test/loss_pred_epoch    </span>│<span style=\"color: #800080; text-decoration-color: #800080\">    0.13438470661640167    </span>│<span style=\"color: #800080; text-decoration-color: #800080\">    0.47141677141189575    </span>│<span style=\"color: #800080; text-decoration-color: #800080\">    0.4837687015533447     </span>│\n",
       "│<span style=\"color: #008080; text-decoration-color: #008080\">    test/loss_rec_epoch    </span>│<span style=\"color: #800080; text-decoration-color: #800080\">         1438231.0         </span>│<span style=\"color: #800080; text-decoration-color: #800080\">        1883859.75         </span>│<span style=\"color: #800080; text-decoration-color: #800080\">        1685767.25         </span>│\n",
       "│<span style=\"color: #008080; text-decoration-color: #008080\">          test/n           </span>│<span style=\"color: #800080; text-decoration-color: #800080\">           307.0           </span>│<span style=\"color: #800080; text-decoration-color: #800080\">           154.0           </span>│<span style=\"color: #800080; text-decoration-color: #800080\">           154.0           </span>│\n",
       "└───────────────────────────┴───────────────────────────┴───────────────────────────┴───────────────────────────┘\n",
       "</pre>\n"
      ],
      "text/plain": [
       "┏━━━━━━━━━━━━━━━━━━━━━━━━━━━┳━━━━━━━━━━━━━━━━━━━━━━━━━━━┳━━━━━━━━━━━━━━━━━━━━━━━━━━━┳━━━━━━━━━━━━━━━━━━━━━━━━━━━┓\n",
       "┃\u001b[1m \u001b[0m\u001b[1m       Test metric       \u001b[0m\u001b[1m \u001b[0m┃\u001b[1m \u001b[0m\u001b[1m      DataLoader 0       \u001b[0m\u001b[1m \u001b[0m┃\u001b[1m \u001b[0m\u001b[1m      DataLoader 1       \u001b[0m\u001b[1m \u001b[0m┃\u001b[1m \u001b[0m\u001b[1m      DataLoader 2       \u001b[0m\u001b[1m \u001b[0m┃\n",
       "┡━━━━━━━━━━━━━━━━━━━━━━━━━━━╇━━━━━━━━━━━━━━━━━━━━━━━━━━━╇━━━━━━━━━━━━━━━━━━━━━━━━━━━╇━━━━━━━━━━━━━━━━━━━━━━━━━━━┩\n",
       "│\u001b[36m \u001b[0m\u001b[36m        test/acc         \u001b[0m\u001b[36m \u001b[0m│\u001b[35m \u001b[0m\u001b[35m   0.9511400461196899    \u001b[0m\u001b[35m \u001b[0m│\u001b[35m \u001b[0m\u001b[35m   0.7922077775001526    \u001b[0m\u001b[35m \u001b[0m│\u001b[35m \u001b[0m\u001b[35m   0.8116883039474487    \u001b[0m\u001b[35m \u001b[0m│\n",
       "│\u001b[36m \u001b[0m\u001b[36m       test/auroc        \u001b[0m\u001b[36m \u001b[0m│\u001b[35m \u001b[0m\u001b[35m   0.9900705814361572    \u001b[0m\u001b[35m \u001b[0m│\u001b[35m \u001b[0m\u001b[35m   0.9010624885559082    \u001b[0m\u001b[35m \u001b[0m│\u001b[35m \u001b[0m\u001b[35m    0.901390790939331    \u001b[0m\u001b[35m \u001b[0m│\n",
       "│\u001b[36m \u001b[0m\u001b[36m      test/l1_loss       \u001b[0m\u001b[36m \u001b[0m│\u001b[35m \u001b[0m\u001b[35m     21990.455078125     \u001b[0m\u001b[35m \u001b[0m│\u001b[35m \u001b[0m\u001b[35m      21885.3671875      \u001b[0m\u001b[35m \u001b[0m│\u001b[35m \u001b[0m\u001b[35m     22052.931640625     \u001b[0m\u001b[35m \u001b[0m│\n",
       "│\u001b[36m \u001b[0m\u001b[36m      test/l2_loss       \u001b[0m\u001b[36m \u001b[0m│\u001b[35m \u001b[0m\u001b[35m       1427235.875       \u001b[0m\u001b[35m \u001b[0m│\u001b[35m \u001b[0m\u001b[35m        1872917.0        \u001b[0m\u001b[35m \u001b[0m│\u001b[35m \u001b[0m\u001b[35m       1674740.625       \u001b[0m\u001b[35m \u001b[0m│\n",
       "│\u001b[36m \u001b[0m\u001b[36m  test/loss_pred_epoch   \u001b[0m\u001b[36m \u001b[0m│\u001b[35m \u001b[0m\u001b[35m   0.13438470661640167   \u001b[0m\u001b[35m \u001b[0m│\u001b[35m \u001b[0m\u001b[35m   0.47141677141189575   \u001b[0m\u001b[35m \u001b[0m│\u001b[35m \u001b[0m\u001b[35m   0.4837687015533447    \u001b[0m\u001b[35m \u001b[0m│\n",
       "│\u001b[36m \u001b[0m\u001b[36m   test/loss_rec_epoch   \u001b[0m\u001b[36m \u001b[0m│\u001b[35m \u001b[0m\u001b[35m        1438231.0        \u001b[0m\u001b[35m \u001b[0m│\u001b[35m \u001b[0m\u001b[35m       1883859.75        \u001b[0m\u001b[35m \u001b[0m│\u001b[35m \u001b[0m\u001b[35m       1685767.25        \u001b[0m\u001b[35m \u001b[0m│\n",
       "│\u001b[36m \u001b[0m\u001b[36m         test/n          \u001b[0m\u001b[36m \u001b[0m│\u001b[35m \u001b[0m\u001b[35m          307.0          \u001b[0m\u001b[35m \u001b[0m│\u001b[35m \u001b[0m\u001b[35m          154.0          \u001b[0m\u001b[35m \u001b[0m│\u001b[35m \u001b[0m\u001b[35m          154.0          \u001b[0m\u001b[35m \u001b[0m│\n",
       "└───────────────────────────┴───────────────────────────┴───────────────────────────┴───────────────────────────┘\n"
      ]
     },
     "metadata": {},
     "output_type": "display_data"
    },
    {
     "data": {
      "text/html": [
       "<pre style=\"white-space:pre;overflow-x:auto;line-height:normal;font-family:Menlo,'DejaVu Sans Mono',consolas,'Courier New',monospace\">┏━━━━━━━━━━━━━━━━━━━━━━━━━━━┳━━━━━━━━━━━━━━━━━━━━━━━━━━━┓\n",
       "┃<span style=\"font-weight: bold\">        Test metric        </span>┃<span style=\"font-weight: bold\">       DataLoader 3        </span>┃\n",
       "┡━━━━━━━━━━━━━━━━━━━━━━━━━━━╇━━━━━━━━━━━━━━━━━━━━━━━━━━━┩\n",
       "│<span style=\"color: #008080; text-decoration-color: #008080\">         test/acc          </span>│<span style=\"color: #800080; text-decoration-color: #800080\">    0.8764227628707886     </span>│\n",
       "│<span style=\"color: #008080; text-decoration-color: #008080\">        test/auroc         </span>│<span style=\"color: #800080; text-decoration-color: #800080\">    0.9502072930335999     </span>│\n",
       "│<span style=\"color: #008080; text-decoration-color: #008080\">       test/l1_loss        </span>│<span style=\"color: #800080; text-decoration-color: #800080\">      21979.818359375      </span>│\n",
       "│<span style=\"color: #008080; text-decoration-color: #008080\">       test/l2_loss        </span>│<span style=\"color: #800080; text-decoration-color: #800080\">        1600814.25         </span>│\n",
       "│<span style=\"color: #008080; text-decoration-color: #008080\">   test/loss_pred_epoch    </span>│<span style=\"color: #800080; text-decoration-color: #800080\">    0.3062663674354553     </span>│\n",
       "│<span style=\"color: #008080; text-decoration-color: #008080\">    test/loss_rec_epoch    </span>│<span style=\"color: #800080; text-decoration-color: #800080\">        1611803.875        </span>│\n",
       "│<span style=\"color: #008080; text-decoration-color: #008080\">          test/n           </span>│<span style=\"color: #800080; text-decoration-color: #800080\">           615.0           </span>│\n",
       "└───────────────────────────┴───────────────────────────┘\n",
       "</pre>\n"
      ],
      "text/plain": [
       "┏━━━━━━━━━━━━━━━━━━━━━━━━━━━┳━━━━━━━━━━━━━━━━━━━━━━━━━━━┓\n",
       "┃\u001b[1m \u001b[0m\u001b[1m       Test metric       \u001b[0m\u001b[1m \u001b[0m┃\u001b[1m \u001b[0m\u001b[1m      DataLoader 3       \u001b[0m\u001b[1m \u001b[0m┃\n",
       "┡━━━━━━━━━━━━━━━━━━━━━━━━━━━╇━━━━━━━━━━━━━━━━━━━━━━━━━━━┩\n",
       "│\u001b[36m \u001b[0m\u001b[36m        test/acc         \u001b[0m\u001b[36m \u001b[0m│\u001b[35m \u001b[0m\u001b[35m   0.8764227628707886    \u001b[0m\u001b[35m \u001b[0m│\n",
       "│\u001b[36m \u001b[0m\u001b[36m       test/auroc        \u001b[0m\u001b[36m \u001b[0m│\u001b[35m \u001b[0m\u001b[35m   0.9502072930335999    \u001b[0m\u001b[35m \u001b[0m│\n",
       "│\u001b[36m \u001b[0m\u001b[36m      test/l1_loss       \u001b[0m\u001b[36m \u001b[0m│\u001b[35m \u001b[0m\u001b[35m     21979.818359375     \u001b[0m\u001b[35m \u001b[0m│\n",
       "│\u001b[36m \u001b[0m\u001b[36m      test/l2_loss       \u001b[0m\u001b[36m \u001b[0m│\u001b[35m \u001b[0m\u001b[35m       1600814.25        \u001b[0m\u001b[35m \u001b[0m│\n",
       "│\u001b[36m \u001b[0m\u001b[36m  test/loss_pred_epoch   \u001b[0m\u001b[36m \u001b[0m│\u001b[35m \u001b[0m\u001b[35m   0.3062663674354553    \u001b[0m\u001b[35m \u001b[0m│\n",
       "│\u001b[36m \u001b[0m\u001b[36m   test/loss_rec_epoch   \u001b[0m\u001b[36m \u001b[0m│\u001b[35m \u001b[0m\u001b[35m       1611803.875       \u001b[0m\u001b[35m \u001b[0m│\n",
       "│\u001b[36m \u001b[0m\u001b[36m         test/n          \u001b[0m\u001b[36m \u001b[0m│\u001b[35m \u001b[0m\u001b[35m          615.0          \u001b[0m\u001b[35m \u001b[0m│\n",
       "└───────────────────────────┴───────────────────────────┘\n"
      ]
     },
     "metadata": {},
     "output_type": "display_data"
    }
   ],
   "source": [
    "# predict\n",
    "# print(f\"training with x_feats={x_feats} with c={c}\")\n",
    "rs = trainer2.test(net, dataloaders=[dl_train, dl_val, dl_test, dl_ood])\n"
   ]
  },
  {
   "cell_type": "code",
   "execution_count": null,
   "metadata": {},
   "outputs": [],
   "source": [
    "# testval_metrics = calc_metrics(dm, trainer2, net, use_val=True)\n",
    "rs = rename_pl_test_results(rs, [\"train\", \"val\", \"test\", \"ood\"])\n",
    "# rs['test'] = {**rs['test'], **test_metrics}\n",
    "# rs[\"test\"][\"acc_lie_lie\"] = testval_metrics[\"acc_lie_lie\"]\n",
    "rs[\"testval_metrics\"] = rs[\"test\"]"
   ]
  },
  {
   "cell_type": "markdown",
   "metadata": {},
   "source": [
    "#### how well does it generalize to other datasets?\n"
   ]
  },
  {
   "cell_type": "code",
   "execution_count": null,
   "metadata": {},
   "outputs": [],
   "source": [
    "# print(f\"training with x_feats={x_feats} with c={c}\")\n",
    "rs2 = trainer1.test(net, dataloaders=[dl_ood])\n",
    "rs2 = rename_pl_test_results(rs2, ks=[\"ood\"])\n",
    "\n",
    "# testval_metrics2 = calc_metrics(dm_ood, trainer1, net, use_val=True)\n",
    "# rs[\"ood\"][\"acc_lie_lie\"] = testval_metrics2[\"acc_lie_lie\"]\n",
    "# rs[\"ood_metrics\"] = rs2[\"ood\"]\n",
    "# rs\n"
   ]
  },
  {
   "cell_type": "markdown",
   "metadata": {},
   "source": [
    "### Train end-to-end\n"
   ]
  },
  {
   "cell_type": "code",
   "execution_count": null,
   "metadata": {},
   "outputs": [],
   "source": [
    "net.ae_mode(2)\n",
    "trainer3 = pl.Trainer(\n",
    "    precision=\"16-mixed\",\n",
    "    gradient_clip_val=20,\n",
    "    max_epochs=max_epochs,\n",
    "    log_every_n_steps=3,\n",
    "    # enable_progress_bar=False, enable_model_summary=False\n",
    ")\n",
    "trainer3.fit(model=net, train_dataloaders=dl_train, val_dataloaders=dl_val)\n",
    "1\n"
   ]
  },
  {
   "cell_type": "code",
   "execution_count": null,
   "metadata": {},
   "outputs": [],
   "source": [
    "# ds2df(dm.dm_orig)\n"
   ]
  },
  {
   "cell_type": "code",
   "execution_count": null,
   "metadata": {},
   "outputs": [],
   "source": [
    "from src.eval.ds import ds2df\n",
    "\n",
    "def get_acc_subset(df, query, verbose=True):\n",
    "    assert (df['y'].mean()<0).any(), 'y should be [-1, 1]'\n",
    "    assert (df['y'].mean()>-1).all(), 'y should be [-1, 1]'\n",
    "    assert (df['y'].mean()<1).all(), 'y should be [-1, 1]'\n",
    "    assert (df['probe_pred'].mean()>0).all(), 'pred should be [0,1]'\n",
    "    assert (df['probe_pred'].mean()<1).all(), 'pred should be [0,1]'\n",
    "\n",
    "    if query:\n",
    "        df = df.query(query)\n",
    "    # df[\"probe_cls\"] = df[\"probe_pred\"] > 0.5\n",
    "    acc = ((df[\"probe_pred\"]>0.5) == (df[\"y\"]>0)).mean()\n",
    "    if verbose:\n",
    "        print(f\"acc={acc:2.2%},\\tn={len(df)},\\t[{query}] \")\n",
    "    return acc\n",
    "\n",
    "\n",
    "def calc_metrics(dm, trainer, net, use_val=False, verbose=True):\n",
    "    dl_test = dm.test_dataloader()\n",
    "    rt = trainer.predict(net, dataloaders=dl_test)\n",
    "    y_test_pred = np.concatenate(rt)\n",
    "    splits = dm.splits[\"test\"]\n",
    "    df = ds2df(dm.dm_orig).rename(columns=lambda s:s.replace('_base',''))\n",
    "    # print(df)\n",
    "    df['y'] = dm.ds['y']\n",
    "\n",
    "    df_test = df.iloc[splits[0] : splits[1]].copy()\n",
    "    df_test[\"probe_pred\"] = y_test_pred\n",
    "    \n",
    "\n",
    "    if use_val:\n",
    "        dl_val = dm.val_dataloader()\n",
    "        rv = trainer.predict(net, dataloaders=dl_val)\n",
    "        y_val_pred = np.concatenate(rv)\n",
    "        splits = dm.splits[\"val\"]\n",
    "        df_val = df.iloc[splits[0] : splits[1]].copy()\n",
    "        df_val[\"probe_pred\"] = y_val_pred\n",
    "\n",
    "        df_test = pd.concat([df_val, df_test])\n",
    "\n",
    "    if verbose:\n",
    "        print(\"probe results on subsets of the data\")\n",
    "    acc = get_acc_subset(df_test, \"\", verbose=verbose)\n",
    "    get_acc_subset(\n",
    "        df_test, \"instructed_to_lie==True\", verbose=verbose\n",
    "    )  # it was ph told to lie\n",
    "    get_acc_subset(\n",
    "        df_test, \"instructed_to_lie==False\", verbose=verbose\n",
    "    )  # it was told not to lie\n",
    "    get_acc_subset(\n",
    "        df_test, \"ans==label_true\", verbose=verbose\n",
    "    )  # the llm gave the true ans\n",
    "    get_acc_subset(\n",
    "        df_test, \"ans==label_instructed\", verbose=verbose\n",
    "    )  # the llm gave the desired ans\n",
    "    acc_lie_lie = get_acc_subset(\n",
    "        df_test, \"instructed_to_lie==True & ans==label_instructed\", verbose=verbose\n",
    "    )  # it was told to lie, and it did lie\n",
    "    acc_lie_truth = get_acc_subset(\n",
    "        df_test, \"instructed_to_lie==True & ans!=label_instructed\", verbose=verbose\n",
    "    )\n",
    "\n",
    "    a = get_acc_subset(\n",
    "        df_test, \"instructed_to_lie==False & ans==label_instructed\", verbose=False\n",
    "    )\n",
    "    b = get_acc_subset(\n",
    "        df_test, \"instructed_to_lie==False & ans!=label_instructed\", verbose=False\n",
    "    )\n",
    "    c = get_acc_subset(\n",
    "        df_test, \"instructed_to_lie==True & ans==label_instructed\", verbose=False\n",
    "    )\n",
    "    d = get_acc_subset(\n",
    "        df_test, \"instructed_to_lie==True & ans!=label_instructed\", verbose=False\n",
    "    )\n",
    "    d1 = pd.DataFrame(\n",
    "        [[a, b], [c, d]],\n",
    "        index=[\"instructed_to_lie==False\", \"instructed_to_lie==True\"],\n",
    "        columns=[\"ans==label_instructed\", \"ans!=label_instructed\"],\n",
    "    )\n",
    "    d1 = pd.DataFrame(\n",
    "        [[a, b], [c, d]],\n",
    "        index=[\"tell a truth\", \"tell a lie\"],\n",
    "        columns=[\"did\", \"didn't\"],\n",
    "    )\n",
    "    d1.index.name = \"instructed to\"\n",
    "    d1.columns.name = \"llm gave\"\n",
    "    print(\"probe accuracy for quadrants\")\n",
    "    display(d1.round(2))\n",
    "\n",
    "    if verbose:\n",
    "        print(f\"⭐PRIMARY METRIC⭐ acc={acc:2.2%} from probe\")\n",
    "        print(f\"⭐SECONDARY METRIC⭐ acc_lie_lie={acc_lie_lie:2.2%} from probe\")\n",
    "    return dict(acc=acc, acc_lie_lie=acc_lie_lie, acc_lie_truth=acc_lie_truth, df_test=df_test)\n",
    "\n",
    "\n",
    "# r = testval_metrics = calc_metrics(dm, trainer3, net, use_val=True)\n",
    "# r['df_test']"
   ]
  },
  {
   "cell_type": "code",
   "execution_count": null,
   "metadata": {},
   "outputs": [],
   "source": [
    "# look at hist\n",
    "df_hist, _ = read_metrics_csv(trainer3.logger.experiment.metrics_file_path)\n",
    "plot_hist(df_hist, ['loss_pred', 'acc'])\n",
    "\n",
    "# predict\n",
    "# dl_test = dm.test_dataloader()\n",
    "# print(f\"training with x_feats={x_feats} with c={c}\")\n",
    "rs = trainer3.test(net, dataloaders=[dl_train, dl_val, dl_test, dl_ood])\n",
    "\n",
    "testval_metrics = calc_metrics(dm, trainer3, net, use_val=True)\n",
    "rs = rename_pl_test_results(rs, [\"train\", \"val\", \"test\", \"ood\"])\n",
    "# rs['test'] = {**rs['test'], **test_metrics}\n",
    "rs[\"test\"][\"acc_lie_lie\"] = testval_metrics[\"acc_lie_lie\"]\n",
    "rs[\"testval_metrics\"] = rs[\"test\"]\n"
   ]
  },
  {
   "cell_type": "code",
   "execution_count": null,
   "metadata": {},
   "outputs": [],
   "source": [
    "testval_metrics = calc_metrics(dm, trainer3, net, use_val=True)\n",
    "rs = rename_pl_test_results(rs, [\"train\", \"val\", \"test\", \"ood\"])\n",
    "# rs['test'] = {**rs['test'], **test_metrics}\n",
    "rs[\"test\"][\"acc_lie_lie\"] = testval_metrics[\"acc_lie_lie\"]\n",
    "rs[\"testval_metrics\"] = rs[\"test\"]"
   ]
  },
  {
   "cell_type": "code",
   "execution_count": null,
   "metadata": {},
   "outputs": [],
   "source": [
    "# print(f\"training with x_feats={x_feats} with c={c}\")\n",
    "rs2 = trainer3.test(net, dataloaders=[dl_ood])\n",
    "rs2 = rename_pl_test_results(rs2, ks=[\"ood\"])\n",
    "\n",
    "testval_metrics2 = calc_metrics(dm_ood, trainer3, net, use_val=True)\n",
    "rs[\"ood\"][\"acc_lie_lie\"] = testval_metrics2[\"acc_lie_lie\"]\n",
    "rs[\"ood_metrics\"] = rs2[\"ood\"]\n",
    "rs\n"
   ]
  },
  {
   "cell_type": "code",
   "execution_count": null,
   "metadata": {},
   "outputs": [],
   "source": []
  }
 ],
 "metadata": {
  "kernelspec": {
   "display_name": ".venv",
   "language": "python",
   "name": "python3"
  },
  "language_info": {
   "codemirror_mode": {
    "name": "ipython",
    "version": 3
   },
   "file_extension": ".py",
   "mimetype": "text/x-python",
   "name": "python",
   "nbconvert_exporter": "python",
   "pygments_lexer": "ipython3",
   "version": "3.11.0rc1"
  }
 },
 "nbformat": 4,
 "nbformat_minor": 2
}
