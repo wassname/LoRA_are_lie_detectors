{
 "cells": [
  {
   "cell_type": "markdown",
   "metadata": {},
   "source": [
    "# Trying a sparse 1 layer autoencoder, then a probe"
   ]
  },
  {
   "cell_type": "markdown",
   "metadata": {},
   "source": []
  },
  {
   "cell_type": "code",
   "execution_count": 1,
   "metadata": {},
   "outputs": [],
   "source": [
    "import os\n",
    "import numpy as np\n",
    "import pandas as pd\n",
    "from matplotlib import pyplot as plt\n",
    "from tqdm.auto import tqdm\n",
    "\n",
    "\n",
    "\n",
    "from typing import Optional, List, Dict, Union\n",
    "from jaxtyping import Float\n",
    "from torch import Tensor\n",
    "\n",
    "import torch\n",
    "import torch.nn as nn\n",
    "import torch.nn.functional as F\n",
    "\n",
    "from torch import Tensor\n",
    "from torch import optim\n",
    "from torch.utils.data import random_split, DataLoader, TensorDataset\n",
    "\n",
    "from pathlib import Path\n",
    "from einops import rearrange\n",
    "\n",
    "import transformers\n",
    "from transformers import (\n",
    "    AutoTokenizer,\n",
    "    AutoModelForCausalLM,\n",
    "    BitsAndBytesConfig,\n",
    "    AutoConfig,\n",
    ")\n",
    "from peft import (\n",
    "    get_peft_config,\n",
    "    get_peft_model,\n",
    "    LoraConfig,\n",
    "    TaskType,\n",
    "    LoftQConfig,\n",
    "    IA3Config,\n",
    ")\n",
    "from pathlib import Path\n",
    "import datasets\n",
    "from datasets import Dataset\n",
    "\n",
    "from loguru import logger\n",
    "\n",
    "logger.add(os.sys.stderr, format=\"{time} {level} {message}\", level=\"INFO\")\n",
    "\n",
    "# load my code\n",
    "%load_ext autoreload\n",
    "%autoreload 2\n",
    "\n",
    "import lightning.pytorch as pl\n",
    "\n",
    "from src.config import ExtractConfig\n",
    "from src.llms.load import load_model\n",
    "from src.helpers.torch_helpers import clear_mem\n",
    "from src.llms.phi.model_phi import PhiForCausalLMWHS\n",
    "from src.eval.ds import filter_ds_to_known\n",
    "from src.datasets.act_dm import ActivationDataModule\n",
    "\n",
    "# plt.style.use(\"ggplot\")\n",
    "# plt.style.use(\"seaborn-v0_8\")\n",
    "import seaborn as sns\n",
    "sns.set_theme('paper')\n"
   ]
  },
  {
   "cell_type": "markdown",
   "metadata": {},
   "source": [
    "## Paramsnet\n"
   ]
  },
  {
   "cell_type": "code",
   "execution_count": 2,
   "metadata": {},
   "outputs": [],
   "source": [
    "# params\n",
    "\n",
    "# cfg = ExtractConfig(\n",
    "#     # model=\"microsoft/phi-2\",\n",
    "#     # # batch_size=1,\n",
    "#     # prompt_format=\"phi\",\n",
    "# )\n",
    "# cfg\n",
    "\n",
    "# params\n",
    "batch_size = 32\n",
    "lr = 1e-3 # at 3e-4 I get nan\n",
    "wd = 0 # 1e-5\n",
    "\n",
    "MAX_ROWS = 2000\n",
    "\n",
    "SKIP=5 # skip initial N layers\n",
    "STRIDE=4 # skip every N layers\n",
    "DECIMATE=1 # discard N features for speed\n",
    "\n",
    "device = \"cuda:0\"\n",
    "max_epochs = 44\n",
    "\n",
    "l1_coeff = 0.5 # 0.5  # neel uses 3e-4 ! https://github.dev/neelnanda-io/1L-Sparse-Autoencoder/blob/bcae01328a2f41d24bd4a9160828f2fc22737f75/utils.py#L106, but them they sum l1 where mean l2\n",
    "    # x_feats=x_feats. other use 1e-1\n",
    "\n",
    "\n",
    "BASE_FOLDER = Path(\"/media/wassname/SGIronWolf/projects5/elk/sgd_probes_are_lie_detectors/notebooks/lightning_logs/version_106/\")\n",
    "layers_names = (\n",
    "    'fc1', 'Wqkv',\n",
    "                 'fc2', 'out_proj')"
   ]
  },
  {
   "cell_type": "markdown",
   "metadata": {},
   "source": [
    "## Load data"
   ]
  },
  {
   "cell_type": "code",
   "execution_count": 3,
   "metadata": {},
   "outputs": [
    {
     "data": {
      "text/plain": [
       "(PosixPath('/media/wassname/SGIronWolf/projects5/elk/sgd_probes_are_lie_detectors/notebooks/lightning_logs/version_106/hidden_states/.ds/ds_valtest_d1257b41dfd08b55'),\n",
       " PosixPath('/media/wassname/SGIronWolf/projects5/elk/sgd_probes_are_lie_detectors/notebooks/lightning_logs/version_106/hidden_states/.ds/ds_OOD_9af998824a59a692'))"
      ]
     },
     "execution_count": 3,
     "metadata": {},
     "output_type": "execute_result"
    }
   ],
   "source": [
    "# load hidden state from a previously loaded adapter\n",
    "# the columns with _base are from the base model, and adapt from adapter\n",
    "# FROM TRAINING TRUTH\n",
    "f1_val = next(iter(BASE_FOLDER.glob('hidden_states/.ds/ds_valtest_*')))\n",
    "f1_ood = next(iter(BASE_FOLDER.glob('hidden_states/.ds/ds_OOD_*')))\n",
    "f1_val, f1_ood"
   ]
  },
  {
   "cell_type": "code",
   "execution_count": null,
   "metadata": {},
   "outputs": [],
   "source": []
  },
  {
   "cell_type": "code",
   "execution_count": 4,
   "metadata": {},
   "outputs": [],
   "source": [
    "# # insample_datasets = list(set(ds_val['ds_string_base']))\n",
    "# # outsample_datasets = list(set(ds_ood['ds_string_base']))\n",
    "# # print(insample_datasets, outsample_datasets)\n",
    "# from src.datasets.act_dm import ActivationDataModule, SharedDataset\n",
    "\n",
    "\n",
    "# class ActivationDataModule2(ActivationDataModule):\n",
    "#     def to_tds(self, ds, name):\n",
    "#         \"\"\"huggingface dataset to pytorch.\"\"\"\n",
    "#         h = self.hparams\n",
    "#         # 4x faster if we make it a tensor ourselves\n",
    "#         ds = ds.with_format(None)\n",
    "#         tds = torch.utils.data.TensorDataset(\n",
    "#             torch.FloatTensor(ds['X'][..., 0]), torch.FloatTensor(ds['y']))\n",
    "        \n",
    "#         # this shared dataset is 10x faster with multiple workers\n",
    "#         if h.num_workers>0: \n",
    "#             tds = SharedDataset(tds, f\"{self.hparams.name}_{name}\") \n",
    "#         return tds"
   ]
  },
  {
   "cell_type": "code",
   "execution_count": 5,
   "metadata": {},
   "outputs": [
    {
     "name": "stdout",
     "output_type": "stream",
     "text": [
      "select rows are 74.39% based on knowledge\n"
     ]
    },
    {
     "data": {
      "application/vnd.jupyter.widget-view+json": {
       "model_id": "440d12d9f3b24ba9961474dd64a274d2",
       "version_major": 2,
       "version_minor": 0
      },
      "text/plain": [
       "Map:   0%|          | 0/615 [00:00<?, ? examples/s]"
      ]
     },
     "metadata": {},
     "output_type": "display_data"
    },
    {
     "name": "stderr",
     "output_type": "stream",
     "text": [
      "\u001b[32m2024-01-11 08:38:24.814\u001b[0m | \u001b[1mINFO    \u001b[0m | \u001b[36msrc.datasets.act_dm\u001b[0m:\u001b[36msetup\u001b[0m:\u001b[36m64\u001b[0m - \u001b[1mconverting datasets this may take a while... ds_valtest_d1257b41dfd08b55 train\u001b[0m\n",
      "2024-01-11T08:38:24.814944+0800 INFO converting datasets this may take a while... ds_valtest_d1257b41dfd08b55 train\n"
     ]
    },
    {
     "name": "stdout",
     "output_type": "stream",
     "text": [
      "select rows are 74.39% based on knowledge\n"
     ]
    },
    {
     "data": {
      "application/vnd.jupyter.widget-view+json": {
       "model_id": "e0868bc1f4ff493fb1b46e9336961e2b",
       "version_major": 2,
       "version_minor": 0
      },
      "text/plain": [
       "Map:   0%|          | 0/615 [00:00<?, ? examples/s]"
      ]
     },
     "metadata": {},
     "output_type": "display_data"
    },
    {
     "name": "stderr",
     "output_type": "stream",
     "text": [
      "\u001b[32m2024-01-11 08:39:05.639\u001b[0m | \u001b[1mINFO    \u001b[0m | \u001b[36msrc.datasets.act_dm\u001b[0m:\u001b[36msetup\u001b[0m:\u001b[36m64\u001b[0m - \u001b[1mconverting datasets this may take a while... ds_OOD_9af998824a59a692 all\u001b[0m\n",
      "2024-01-11T08:39:05.639448+0800 INFO converting datasets this may take a while... ds_OOD_9af998824a59a692 all\n"
     ]
    },
    {
     "name": "stdout",
     "output_type": "stream",
     "text": [
      "making shared dataset with unique name all\n"
     ]
    }
   ],
   "source": [
    "input_columns = ['binary_ans_base', 'binary_ans_adapt' ] + [f'end_residual_{layer}_base' for layer in layers_names] + [f'end_residual_{layer}_adapt' for layer in layers_names]\n",
    "\n",
    "def ds2xy_batched(ds):\n",
    "    data = []\n",
    "    for layer in layers_names:\n",
    "        # Stack the base and adapter representations as a 4th dim\n",
    "        X1 = [ds[f'end_residual_{layer}_base'], ds[f'end_residual_{layer}_adapt']]\n",
    "        X1 = rearrange(X1, 'versions b l f  -> b l f versions')[..., 0]\n",
    "        data.append(X1)\n",
    "    \n",
    "    # concat layers\n",
    "    # x = rearrange(data, 'b parts l f v -> b l (parts f) v')\n",
    "    X = torch.concat(data, dim=2)[:, SKIP::STRIDE, ::DECIMATE]\n",
    "\n",
    "    y = ds['binary_ans_base']-ds['binary_ans_adapt']\n",
    "    return dict(X=X, y=y)\n",
    "\n",
    "\n",
    "\n",
    "def prepare_ds(ds):\n",
    "    \"\"\"\n",
    "    prepare a dataset for training\n",
    "\n",
    "    this should front load much of the computation\n",
    "    it should restrict it to the needed rows X and y\n",
    "    \n",
    "    \"\"\"\n",
    "    ds = (ds\n",
    "          .with_format(\"torch\")\n",
    "          .select_columns(input_columns)\n",
    "          .map(ds2xy_batched, batched=True, batch_size=128,\n",
    "        remove_columns=input_columns)\n",
    "    )\n",
    "    return ds\n",
    "\n",
    "def load_file_to_dm(f, stage):\n",
    "    ds1 = Dataset.from_file(str(f1_val), in_memory=True).with_format(\"torch\")\n",
    "    ds1 = filter_ds_to_known(ds1, verbose=True, true_col='truth')\n",
    "    ds = prepare_ds(ds1)\n",
    "\n",
    "    # limit size\n",
    "    MAX_SAMPLES = min(len(ds), MAX_ROWS*2)\n",
    "    ds = ds.select(range(0, MAX_SAMPLES))\n",
    "\n",
    "    dm = ActivationDataModule(ds, f.stem, batch_size=batch_size, num_workers=0)\n",
    "    dm.setup(stage)\n",
    "    dm.dm_orig = ds1\n",
    "    return dm\n",
    "\n",
    "\n",
    "dm = load_file_to_dm(f1_val, 'train')\n",
    "dm_ood = load_file_to_dm(f1_ood, 'all')"
   ]
  },
  {
   "cell_type": "code",
   "execution_count": null,
   "metadata": {},
   "outputs": [],
   "source": []
  },
  {
   "cell_type": "code",
   "execution_count": 6,
   "metadata": {},
   "outputs": [],
   "source": [
    "\n",
    "dl_train = dm.train_dataloader()\n",
    "dl_val = dm.val_dataloader()\n",
    "dl_test = dm.test_dataloader()\n",
    "dl_ood = dm_ood.all_dataloader()"
   ]
  },
  {
   "cell_type": "markdown",
   "metadata": {},
   "source": [
    "Experiment with dataloading speeds:\n",
    "- does it help to save the Xy dataset to disc, then load, while keeping in mem?. no not faster at all\n",
    "- does it help to use num_workers > 0? yes 3x faster\n",
    "- the shared dataset wrapper is 10x faster, and less mem"
   ]
  },
  {
   "cell_type": "markdown",
   "metadata": {},
   "source": [
    "# Get importance matrix from adapter"
   ]
  },
  {
   "cell_type": "code",
   "execution_count": 7,
   "metadata": {},
   "outputs": [
    {
     "name": "stdout",
     "output_type": "stream",
     "text": [
      "Wqkv torch.Size([32, 7680])\n",
      "out_proj torch.Size([32, 2560])\n",
      "fc1 torch.Size([32, 10240])\n",
      "fc2 torch.Size([32, 2560])\n"
     ]
    },
    {
     "data": {
      "image/png": "[encoded data removed]",
      "text/plain": [
       "<Figure size 640x480 with 1 Axes>"
      ]
     },
     "metadata": {},
     "output_type": "display_data"
    }
   ],
   "source": [
    "from src.probes.importance_matrix import get_importance_matrix\n",
    "\n",
    "\n",
    "f = f\"{BASE_FOLDER}/checkpoint_last/adapter_model.safetensors\"\n",
    "importance_matrix = get_importance_matrix(f, layers=layers_names)[SKIP::STRIDE, ::DECIMATE]\n",
    "plt.hist(importance_matrix.flatten(), bins=155);\n"
   ]
  },
  {
   "cell_type": "code",
   "execution_count": 8,
   "metadata": {},
   "outputs": [
    {
     "data": {
      "text/plain": [
       "tensor(64425.)"
      ]
     },
     "execution_count": 8,
     "metadata": {},
     "output_type": "execute_result"
    }
   ],
   "source": [
    "((importance_matrix>0)*1.0).sum()"
   ]
  },
  {
   "cell_type": "code",
   "execution_count": 9,
   "metadata": {},
   "outputs": [
    {
     "data": {
      "text/plain": [
       "tensor(1.0602)"
      ]
     },
     "execution_count": 9,
     "metadata": {},
     "output_type": "execute_result"
    }
   ],
   "source": [
    "importance_matrix.mean()"
   ]
  },
  {
   "cell_type": "code",
   "execution_count": null,
   "metadata": {},
   "outputs": [],
   "source": []
  },
  {
   "cell_type": "code",
   "execution_count": 10,
   "metadata": {},
   "outputs": [],
   "source": [
    "ds_test2 = dm.datasets['test']\n",
    "shape1 = ds_test2[0][0].shape\n",
    "shape2= importance_matrix.shape\n",
    "np.testing.assert_equal(shape1, shape2, err_msg=\"shape mismatch between ds and importance matrix\")\n"
   ]
  },
  {
   "cell_type": "markdown",
   "metadata": {},
   "source": [
    "# Model"
   ]
  },
  {
   "cell_type": "code",
   "execution_count": 11,
   "metadata": {},
   "outputs": [],
   "source": [
    "\n",
    "from src.vae.conv_inception import PLAE, LinBnDrop, PLBase, recursive_requires_grad, accuracy, auroc\n",
    "\n",
    "from src.vae.sae import AutoEncoder, AutoEncoderConfig"
   ]
  },
  {
   "cell_type": "code",
   "execution_count": null,
   "metadata": {},
   "outputs": [],
   "source": []
  },
  {
   "cell_type": "code",
   "execution_count": 12,
   "metadata": {},
   "outputs": [],
   "source": [
    "\n",
    "class PLAE(PLBase):\n",
    "    def __init__(\n",
    "        self,\n",
    "        c_in,\n",
    "        steps_per_epoch,\n",
    "        max_epochs,\n",
    "        # depth=0,\n",
    "        lr=4e-3,\n",
    "        weight_decay=1e-9,\n",
    "        # hs=64,\n",
    "        n_latent=32,\n",
    "        l1_coeff=1,\n",
    "        dropout=0,\n",
    "        importance_matrix=None,\n",
    "        **kwargs,\n",
    "    ):\n",
    "        super().__init__(steps_per_epoch=steps_per_epoch, max_epochs=max_epochs, lr=lr, weight_decay=weight_decay)\n",
    "        self.save_hyperparameters()\n",
    "\n",
    "        n_layers, n_channels = c_in\n",
    "        self.ae_cfg = AutoEncoderConfig(\n",
    "            n_instances=n_layers,\n",
    "            n_input_ae=n_channels,\n",
    "            n_hidden_ae=n_latent,\n",
    "            tied_weights=False,\n",
    "            l1_coeff=l1_coeff,\n",
    "        )\n",
    "\n",
    "        self.ae = AutoEncoder(\n",
    "            self.ae_cfg,\n",
    "            importance_matrix=importance_matrix,\n",
    "        )\n",
    "        \n",
    "        n = n_latent * n_layers\n",
    "        self.head = nn.Sequential(\n",
    "            LinBnDrop(n, n, bn=False),\n",
    "            LinBnDrop(n, n // 4, dropout=dropout, bn=False),\n",
    "            LinBnDrop(n // 4, n // 12, bn=False),\n",
    "            nn.Linear(n // 12, 1),\n",
    "            # nn.Tanh(),\n",
    "        )\n",
    "        self._ae_mode = True\n",
    "\n",
    "    def ae_mode(self, mode=0):\n",
    "        \"\"\"\n",
    "        mode 0, train the ae\n",
    "        mode 1, train only the prob\n",
    "        mode 2, train both\n",
    "        \"\"\"\n",
    "        if mode==0:\n",
    "            print('training ae')\n",
    "        elif mode==1:\n",
    "            print('training probe')\n",
    "        elif mode==2:\n",
    "            print('training both ae and probe')\n",
    "        self._ae_mode = mode\n",
    "        recursive_requires_grad(self.ae, mode in [0, 2])\n",
    "\n",
    "    def forward(self, x):\n",
    "        if x.ndim == 4:\n",
    "            x = x.squeeze(3)\n",
    "        # x = rearrange(x, \"b l h -> b h l\")\n",
    "        # if not self._ae_mode:\n",
    "        #     with torch.no_grad():\n",
    "        #         l1_loss, l2_loss, loss, latent, h_rec = self.ae(x)\n",
    "        # else:\n",
    "        l1_loss, l2_loss, loss, latent, h_rec = self.ae(x)\n",
    "\n",
    "        latent2 = rearrange(latent, \"b l h -> b (l h)\")\n",
    "        pred = self.head(latent2).squeeze(1)\n",
    "        return dict(\n",
    "            pred=pred,\n",
    "            l1_loss=l1_loss,\n",
    "            l2_loss=l2_loss,\n",
    "            loss=loss,\n",
    "            latent=latent,\n",
    "            h_rec=h_rec,\n",
    "        )\n",
    "\n",
    "    def _step(self, batch, batch_idx, stage=\"train\"):        \n",
    "        if stage == \"train\":\n",
    "            # Normalize the decoder weights before each optimization step\n",
    "            self.ae.normalize_decoder()\n",
    "\n",
    "\n",
    "        device = next(self.parameters()).device\n",
    "        x, y = batch # batch['X'], batch['y']\n",
    "        x = x.to(device)\n",
    "        y = y.to(device)\n",
    "        x0 = x#[..., 0]\n",
    "        # x1 = x[..., 1]\n",
    "        info0 = self(x0)\n",
    "        # info1 = self(x1)\n",
    "        # ypred1 = info1[\"pred\"]\n",
    "        logits = info0[\"pred\"]\n",
    "        y_probs = F.sigmoid(logits)\n",
    "        y_cls = y_probs > 0.5\n",
    "\n",
    "        if stage == \"pred\":\n",
    "            return (y_probs).float()\n",
    "        \n",
    "        pred_loss = F.binary_cross_entropy_with_logits(logits, (y>0.).float())\n",
    "\n",
    "        # pred_loss = F.smooth_l1_loss(ypred0, y)\n",
    "        rec_loss = info0[\"loss\"] \n",
    "        l1_loss = info0[\"l1_loss\"].mean()\n",
    "        l2_loss = info0[\"l2_loss\"].mean()\n",
    "\n",
    "        self.log(\n",
    "            f\"{stage}/auroc\",\n",
    "            auroc(y_probs, y > 0, \"binary\"),\n",
    "            on_epoch=True,\n",
    "            on_step=False,\n",
    "        )\n",
    "        self.log(\n",
    "            f\"{stage}/acc\",\n",
    "            accuracy(y_cls, y > 0, \"binary\"),\n",
    "            on_epoch=True,\n",
    "            on_step=False,\n",
    "        )\n",
    "        self.log(\n",
    "            f\"{stage}/loss_pred\",\n",
    "            float(pred_loss),\n",
    "            on_epoch=True,\n",
    "            on_step=True,\n",
    "            prog_bar=True,\n",
    "        )\n",
    "        self.log(\n",
    "            f\"{stage}/loss_rec\",\n",
    "            float(rec_loss),\n",
    "            on_epoch=True,\n",
    "            on_step=True,\n",
    "            prog_bar=True,\n",
    "        )\n",
    "        self.log(f\"{stage}/l1_loss\", l1_loss, on_epoch=True, on_step=False)\n",
    "        self.log(f\"{stage}/l2_loss\", l2_loss, on_epoch=True, on_step=False)\n",
    "        self.log(\n",
    "            f\"{stage}/n\",\n",
    "            float(len(y)),\n",
    "            on_epoch=True,\n",
    "            on_step=False,\n",
    "            reduce_fx=torch.sum,\n",
    "        )\n",
    "        if self._ae_mode == 0:\n",
    "            assert torch.isfinite(rec_loss), \"rec_loss is not finite\"\n",
    "            return rec_loss\n",
    "        elif self._ae_mode == 1:\n",
    "            assert torch.isfinite(pred_loss), \"pred_loss is not finite\"\n",
    "            return pred_loss\n",
    "        elif self._ae_mode == 2:\n",
    "            # , train/loss_pred_epoch=0.0195, train/loss_rec_epoch=169.0\n",
    "            assert torch.isfinite(pred_loss), \"pred_loss is not finite\"\n",
    "            assert torch.isfinite(rec_loss), \"rec_loss is not finite\"\n",
    "            return pred_loss * 50000 + rec_loss"
   ]
  },
  {
   "cell_type": "markdown",
   "metadata": {},
   "source": [
    "# Train"
   ]
  },
  {
   "cell_type": "markdown",
   "metadata": {},
   "source": [
    "### Metrics\n"
   ]
  },
  {
   "cell_type": "markdown",
   "metadata": {},
   "source": [
    "### Setup"
   ]
  },
  {
   "cell_type": "code",
   "execution_count": 13,
   "metadata": {},
   "outputs": [
    {
     "name": "stdout",
     "output_type": "stream",
     "text": [
      "10 5\n",
      "torch.Size([32, 7, 23040]) x\n"
     ]
    }
   ],
   "source": [
    "\n",
    "\n",
    "print(len(dl_train), len(dl_val))\n",
    "b = next(iter(dl_train))\n",
    "x, y = b # b['X'], b['y']\n",
    "print(x.shape, \"x\")\n",
    "if x.ndim == 3:\n",
    "    x = x.unsqueeze(-1)\n",
    "c_in = x.shape[1:-1]\n"
   ]
  },
  {
   "cell_type": "code",
   "execution_count": 14,
   "metadata": {},
   "outputs": [],
   "source": [
    "# # TEST\n",
    "# for b in tqdm(dl_train):\n",
    "#     pass"
   ]
  },
  {
   "cell_type": "code",
   "execution_count": 15,
   "metadata": {},
   "outputs": [],
   "source": [
    "# %%time\n",
    "# # oh no, this is very slow\n",
    "# g = iter(dl_train)\n",
    "# b = next(g)\n",
    "# b = next(g)\n"
   ]
  },
  {
   "cell_type": "code",
   "execution_count": 16,
   "metadata": {},
   "outputs": [
    {
     "name": "stdout",
     "output_type": "stream",
     "text": [
      "torch.Size([7, 23040])\n"
     ]
    },
    {
     "data": {
      "text/plain": [
       "({'pred': tensor(0.0447),\n",
       "  'l1_loss': tensor(260.3614),\n",
       "  'l2_loss': tensor(3.6110e+08),\n",
       "  'loss': tensor(3.6110e+08),\n",
       "  'latent': tensor(0.1453),\n",
       "  'h_rec': tensor(0.0019)},\n",
       " {'pred': torch.Size([32]),\n",
       "  'l1_loss': torch.Size([32]),\n",
       "  'l2_loss': torch.Size([32]),\n",
       "  'loss': torch.Size([]),\n",
       "  'latent': torch.Size([32, 7, 256]),\n",
       "  'h_rec': torch.Size([32, 7, 23040])})"
      ]
     },
     "execution_count": 16,
     "metadata": {},
     "output_type": "execute_result"
    }
   ],
   "source": [
    "\n",
    "net = PLAE(\n",
    "    c_in=c_in,\n",
    "    steps_per_epoch=len(dl_train),\n",
    "    max_epochs=max_epochs,\n",
    "    lr=lr,\n",
    "    weight_decay=wd,\n",
    "    # hs=64,\n",
    "    dropout=0,\n",
    "    n_latent=256, # there will be layers * n_latent latent features\n",
    "    l1_coeff=l1_coeff, \n",
    "    importance_matrix=importance_matrix,\n",
    ")\n",
    "print(c_in)\n",
    "x1= x[..., 0]\n",
    "with torch.no_grad():\n",
    "    y = net(x1)\n",
    "{k: v.abs().mean() for k, v in y.items()}, {k: v.shape for k, v in y.items()}"
   ]
  },
  {
   "cell_type": "code",
   "execution_count": 17,
   "metadata": {},
   "outputs": [
    {
     "data": {
      "text/plain": [
       "2048.714285714286"
      ]
     },
     "execution_count": 17,
     "metadata": {},
     "output_type": "execute_result"
    }
   ],
   "source": [
    "14341/c_in[0]"
   ]
  },
  {
   "cell_type": "code",
   "execution_count": 18,
   "metadata": {},
   "outputs": [
    {
     "data": {
      "text/plain": [
       "==========================================================================================\n",
       "Layer (type:depth-idx)                   Output Shape              Param #\n",
       "==========================================================================================\n",
       "PLAE                                     [32, 7, 23040]            --\n",
       "├─AutoEncoder: 1-1                       [32]                      82,738,432\n",
       "├─Sequential: 1-2                        [32, 1]                   --\n",
       "│    └─LinBnDrop: 2-1                    [32, 1792]                --\n",
       "│    │    └─Linear: 3-1                  [32, 1792]                3,213,056\n",
       "│    │    └─ReLU: 3-2                    [32, 1792]                --\n",
       "│    └─LinBnDrop: 2-2                    [32, 448]                 --\n",
       "│    │    └─Linear: 3-3                  [32, 448]                 803,264\n",
       "│    │    └─ReLU: 3-4                    [32, 448]                 --\n",
       "│    └─LinBnDrop: 2-3                    [32, 149]                 --\n",
       "│    │    └─Linear: 3-5                  [32, 149]                 66,901\n",
       "│    │    └─ReLU: 3-6                    [32, 149]                 --\n",
       "│    └─Linear: 2-4                       [32, 1]                   150\n",
       "==========================================================================================\n",
       "Total params: 86,821,803\n",
       "Trainable params: 86,821,803\n",
       "Non-trainable params: 0\n",
       "Total mult-adds (Units.MEGABYTES): 130.67\n",
       "==========================================================================================\n",
       "Input size (MB): 20.64\n",
       "Forward/backward pass size (MB): 0.61\n",
       "Params size (MB): 347.29\n",
       "Estimated Total Size (MB): 368.54\n",
       "=========================================================================================="
      ]
     },
     "execution_count": 18,
     "metadata": {},
     "output_type": "execute_result"
    }
   ],
   "source": [
    "from torchinfo import summary\n",
    "\n",
    "summary(net, input_data=x1, depth=4)  # input_size=(batch_size, 1, 28, 28))\n"
   ]
  },
  {
   "cell_type": "markdown",
   "metadata": {},
   "source": [
    "### Train autoencoder"
   ]
  },
  {
   "cell_type": "code",
   "execution_count": 19,
   "metadata": {},
   "outputs": [],
   "source": [
    "torch.set_float32_matmul_precision('medium')"
   ]
  },
  {
   "cell_type": "code",
   "execution_count": 20,
   "metadata": {},
   "outputs": [],
   "source": [
    "# %%time\n",
    "# for b in tqdm(dl_train):\n",
    "#     pass"
   ]
  },
  {
   "cell_type": "code",
   "execution_count": 21,
   "metadata": {},
   "outputs": [],
   "source": [
    "with torch.no_grad():\n",
    "    o = net.predict_step(b)\n",
    "    l1_loss, l2_loss, loss, acts, h_reconstructed = net.ae(b[0])"
   ]
  },
  {
   "cell_type": "code",
   "execution_count": 22,
   "metadata": {},
   "outputs": [],
   "source": [
    "# l1_coeff = 0.5"
   ]
  },
  {
   "cell_type": "code",
   "execution_count": 23,
   "metadata": {},
   "outputs": [
    {
     "data": {
      "text/plain": [
       "tensor(2373.)"
      ]
     },
     "execution_count": 23,
     "metadata": {},
     "output_type": "execute_result"
    }
   ],
   "source": [
    "((acts>1)*1.0).sum()"
   ]
  },
  {
   "cell_type": "code",
   "execution_count": 24,
   "metadata": {},
   "outputs": [
    {
     "data": {
      "text/plain": [
       "(tensor([282.8781, 277.8175, 247.3762, 164.7396, 278.4788, 274.9382, 284.8903,\n",
       "         294.3019, 238.6350, 276.3690, 279.8581, 265.0807, 224.3467, 256.5333,\n",
       "         218.3369, 251.0696, 261.0947, 276.1130, 165.9135, 282.3437, 285.7816,\n",
       "         272.7520, 267.4094, 277.7846, 274.4849, 282.7998, 171.3701, 264.8025,\n",
       "         283.5914, 289.4493, 280.0211, 280.2032]),\n",
       " tensor([7.9080e+08, 7.0214e+08, 6.9955e+08, 3.0318e+08, 7.6134e+08, 8.6174e+08,\n",
       "         8.2204e+08, 8.3734e+08, 6.5328e+08, 8.8900e+08, 7.1893e+08, 8.1096e+08,\n",
       "         5.9387e+08, 7.5110e+08, 5.6376e+08, 7.2574e+08, 7.7543e+08, 6.3524e+08,\n",
       "         2.6334e+08, 8.7253e+08, 7.0313e+08, 8.4930e+08, 8.2763e+08, 7.7532e+08,\n",
       "         8.6620e+08, 7.0077e+08, 3.1547e+08, 8.2067e+08, 8.3015e+08, 7.1808e+08,\n",
       "         7.9943e+08, 8.7284e+08]))"
      ]
     },
     "execution_count": 24,
     "metadata": {},
     "output_type": "execute_result"
    }
   ],
   "source": [
    "l1_loss, l2_loss/l1_coeff"
   ]
  },
  {
   "cell_type": "code",
   "execution_count": 25,
   "metadata": {},
   "outputs": [],
   "source": [
    "from src.helpers.lightning import read_metrics_csv, plot_hist, rename_pl_test_results\n",
    "\n",
    "from lightning.pytorch.callbacks import LearningRateMonitor"
   ]
  },
  {
   "cell_type": "code",
   "execution_count": 26,
   "metadata": {},
   "outputs": [
    {
     "name": "stderr",
     "output_type": "stream",
     "text": [
      "Using 16bit Automatic Mixed Precision (AMP)\n",
      "GPU available: True (cuda), used: True\n",
      "TPU available: False, using: 0 TPU cores\n",
      "IPU available: False, using: 0 IPUs\n",
      "HPU available: False, using: 0 HPUs\n"
     ]
    },
    {
     "name": "stdout",
     "output_type": "stream",
     "text": [
      "training ae\n",
      "requires_grad: True\n"
     ]
    },
    {
     "name": "stderr",
     "output_type": "stream",
     "text": [
      "/media/wassname/SGIronWolf/projects5/elk/sgd_probes_are_lie_detectors/.venv/lib/python3.11/site-packages/lightning/pytorch/trainer/connectors/logger_connector/logger_connector.py:67: Starting from v1.9.0, `tensorboardX` has been removed as a dependency of the `lightning.pytorch` package, due to potential conflicts with other packages in the ML ecosystem. For this reason, `logger=True` will use `CSVLogger` as the default logger, unless the `tensorboard` or `tensorboardX` packages are found. Please `pip install lightning[extra]` or one of them to enable TensorBoard support by default\n",
      "LOCAL_RANK: 0 - CUDA_VISIBLE_DEVICES: [0,1]\n",
      "\n",
      "  | Name | Type        | Params\n",
      "-------------------------------------\n",
      "0 | ae   | AutoEncoder | 82.7 M\n",
      "1 | head | Sequential  | 4.1 M \n",
      "-------------------------------------\n",
      "86.8 M    Trainable params\n",
      "0         Non-trainable params\n",
      "86.8 M    Total params\n",
      "347.287   Total estimated model params size (MB)\n"
     ]
    },
    {
     "data": {
      "application/vnd.jupyter.widget-view+json": {
       "model_id": "0875cfab107342a2a7cbd8505f87ce41",
       "version_major": 2,
       "version_minor": 0
      },
      "text/plain": [
       "Sanity Checking: |          | 0/? [00:00<?, ?it/s]"
      ]
     },
     "metadata": {},
     "output_type": "display_data"
    },
    {
     "name": "stderr",
     "output_type": "stream",
     "text": [
      "/media/wassname/SGIronWolf/projects5/elk/sgd_probes_are_lie_detectors/.venv/lib/python3.11/site-packages/lightning/pytorch/trainer/connectors/data_connector.py:441: The 'val_dataloader' does not have many workers which may be a bottleneck. Consider increasing the value of the `num_workers` argument` to `num_workers=23` in the `DataLoader` to improve performance.\n",
      "/media/wassname/SGIronWolf/projects5/elk/sgd_probes_are_lie_detectors/.venv/lib/python3.11/site-packages/lightning/pytorch/trainer/connectors/data_connector.py:441: The 'train_dataloader' does not have many workers which may be a bottleneck. Consider increasing the value of the `num_workers` argument` to `num_workers=23` in the `DataLoader` to improve performance.\n"
     ]
    },
    {
     "data": {
      "application/vnd.jupyter.widget-view+json": {
       "model_id": "093223eb6fd84ba49b2acdbdba711a90",
       "version_major": 2,
       "version_minor": 0
      },
      "text/plain": [
       "Training: |          | 0/? [00:00<?, ?it/s]"
      ]
     },
     "metadata": {},
     "output_type": "display_data"
    },
    {
     "data": {
      "application/vnd.jupyter.widget-view+json": {
       "model_id": "0fb533de3b4e4039af2ead486cf17824",
       "version_major": 2,
       "version_minor": 0
      },
      "text/plain": [
       "Validation: |          | 0/? [00:00<?, ?it/s]"
      ]
     },
     "metadata": {},
     "output_type": "display_data"
    },
    {
     "data": {
      "application/vnd.jupyter.widget-view+json": {
       "model_id": "408c8d6886e3486c8a1662348056607c",
       "version_major": 2,
       "version_minor": 0
      },
      "text/plain": [
       "Validation: |          | 0/? [00:00<?, ?it/s]"
      ]
     },
     "metadata": {},
     "output_type": "display_data"
    },
    {
     "data": {
      "application/vnd.jupyter.widget-view+json": {
       "model_id": "294be4b2a2894adaaf6041188b3eb021",
       "version_major": 2,
       "version_minor": 0
      },
      "text/plain": [
       "Validation: |          | 0/? [00:00<?, ?it/s]"
      ]
     },
     "metadata": {},
     "output_type": "display_data"
    },
    {
     "data": {
      "application/vnd.jupyter.widget-view+json": {
       "model_id": "a5bb658f8d304f4fa424303a4e171606",
       "version_major": 2,
       "version_minor": 0
      },
      "text/plain": [
       "Validation: |          | 0/? [00:00<?, ?it/s]"
      ]
     },
     "metadata": {},
     "output_type": "display_data"
    },
    {
     "data": {
      "application/vnd.jupyter.widget-view+json": {
       "model_id": "2a6b759a7b934df1b15ce4677a727213",
       "version_major": 2,
       "version_minor": 0
      },
      "text/plain": [
       "Validation: |          | 0/? [00:00<?, ?it/s]"
      ]
     },
     "metadata": {},
     "output_type": "display_data"
    },
    {
     "data": {
      "application/vnd.jupyter.widget-view+json": {
       "model_id": "666633c7006b4f8c81caa3207af8866e",
       "version_major": 2,
       "version_minor": 0
      },
      "text/plain": [
       "Validation: |          | 0/? [00:00<?, ?it/s]"
      ]
     },
     "metadata": {},
     "output_type": "display_data"
    },
    {
     "data": {
      "application/vnd.jupyter.widget-view+json": {
       "model_id": "30caafa94cf6419fb72294e69a5f8853",
       "version_major": 2,
       "version_minor": 0
      },
      "text/plain": [
       "Validation: |          | 0/? [00:00<?, ?it/s]"
      ]
     },
     "metadata": {},
     "output_type": "display_data"
    },
    {
     "data": {
      "application/vnd.jupyter.widget-view+json": {
       "model_id": "4a08f4f2f8584a12bcf8f114689879c1",
       "version_major": 2,
       "version_minor": 0
      },
      "text/plain": [
       "Validation: |          | 0/? [00:00<?, ?it/s]"
      ]
     },
     "metadata": {},
     "output_type": "display_data"
    },
    {
     "data": {
      "application/vnd.jupyter.widget-view+json": {
       "model_id": "8213fbd629914da0872677fe488cb075",
       "version_major": 2,
       "version_minor": 0
      },
      "text/plain": [
       "Validation: |          | 0/? [00:00<?, ?it/s]"
      ]
     },
     "metadata": {},
     "output_type": "display_data"
    },
    {
     "data": {
      "application/vnd.jupyter.widget-view+json": {
       "model_id": "a99aacca81954451b82e60fb82239446",
       "version_major": 2,
       "version_minor": 0
      },
      "text/plain": [
       "Validation: |          | 0/? [00:00<?, ?it/s]"
      ]
     },
     "metadata": {},
     "output_type": "display_data"
    },
    {
     "data": {
      "application/vnd.jupyter.widget-view+json": {
       "model_id": "3f047145d8a74dc3a94312d95574e32e",
       "version_major": 2,
       "version_minor": 0
      },
      "text/plain": [
       "Validation: |          | 0/? [00:00<?, ?it/s]"
      ]
     },
     "metadata": {},
     "output_type": "display_data"
    },
    {
     "data": {
      "application/vnd.jupyter.widget-view+json": {
       "model_id": "0e340b20817146ad9bf904114666e61f",
       "version_major": 2,
       "version_minor": 0
      },
      "text/plain": [
       "Validation: |          | 0/? [00:00<?, ?it/s]"
      ]
     },
     "metadata": {},
     "output_type": "display_data"
    },
    {
     "data": {
      "application/vnd.jupyter.widget-view+json": {
       "model_id": "a8a74eacc2ce4316aefebe29441316d2",
       "version_major": 2,
       "version_minor": 0
      },
      "text/plain": [
       "Validation: |          | 0/? [00:00<?, ?it/s]"
      ]
     },
     "metadata": {},
     "output_type": "display_data"
    },
    {
     "data": {
      "application/vnd.jupyter.widget-view+json": {
       "model_id": "bec0d80365da40bbb13778fec2ba14d3",
       "version_major": 2,
       "version_minor": 0
      },
      "text/plain": [
       "Validation: |          | 0/? [00:00<?, ?it/s]"
      ]
     },
     "metadata": {},
     "output_type": "display_data"
    },
    {
     "data": {
      "application/vnd.jupyter.widget-view+json": {
       "model_id": "f3dbeb3952984ad7999c5ba77a7f81cd",
       "version_major": 2,
       "version_minor": 0
      },
      "text/plain": [
       "Validation: |          | 0/? [00:00<?, ?it/s]"
      ]
     },
     "metadata": {},
     "output_type": "display_data"
    },
    {
     "data": {
      "application/vnd.jupyter.widget-view+json": {
       "model_id": "f6476230703e49eb83bab3d4a98f4d3a",
       "version_major": 2,
       "version_minor": 0
      },
      "text/plain": [
       "Validation: |          | 0/? [00:00<?, ?it/s]"
      ]
     },
     "metadata": {},
     "output_type": "display_data"
    },
    {
     "data": {
      "application/vnd.jupyter.widget-view+json": {
       "model_id": "4d8fcf066ace4587853dbc63767a6436",
       "version_major": 2,
       "version_minor": 0
      },
      "text/plain": [
       "Validation: |          | 0/? [00:00<?, ?it/s]"
      ]
     },
     "metadata": {},
     "output_type": "display_data"
    },
    {
     "data": {
      "application/vnd.jupyter.widget-view+json": {
       "model_id": "54c35fe1ba2b4042a538aa7690345069",
       "version_major": 2,
       "version_minor": 0
      },
      "text/plain": [
       "Validation: |          | 0/? [00:00<?, ?it/s]"
      ]
     },
     "metadata": {},
     "output_type": "display_data"
    },
    {
     "data": {
      "application/vnd.jupyter.widget-view+json": {
       "model_id": "0ccf7f10733040a7b1da6921c8cf517d",
       "version_major": 2,
       "version_minor": 0
      },
      "text/plain": [
       "Validation: |          | 0/? [00:00<?, ?it/s]"
      ]
     },
     "metadata": {},
     "output_type": "display_data"
    },
    {
     "data": {
      "application/vnd.jupyter.widget-view+json": {
       "model_id": "c341d39e08ee496fa6a17d5cc079613e",
       "version_major": 2,
       "version_minor": 0
      },
      "text/plain": [
       "Validation: |          | 0/? [00:00<?, ?it/s]"
      ]
     },
     "metadata": {},
     "output_type": "display_data"
    },
    {
     "data": {
      "application/vnd.jupyter.widget-view+json": {
       "model_id": "006a8d8898e34e2385ff352ad5d8a9de",
       "version_major": 2,
       "version_minor": 0
      },
      "text/plain": [
       "Validation: |          | 0/? [00:00<?, ?it/s]"
      ]
     },
     "metadata": {},
     "output_type": "display_data"
    },
    {
     "data": {
      "application/vnd.jupyter.widget-view+json": {
       "model_id": "24a1e4bf4acd4361ba99ce4d6da8726d",
       "version_major": 2,
       "version_minor": 0
      },
      "text/plain": [
       "Validation: |          | 0/? [00:00<?, ?it/s]"
      ]
     },
     "metadata": {},
     "output_type": "display_data"
    },
    {
     "data": {
      "application/vnd.jupyter.widget-view+json": {
       "model_id": "febdbadc15a841b595163664fb95306a",
       "version_major": 2,
       "version_minor": 0
      },
      "text/plain": [
       "Validation: |          | 0/? [00:00<?, ?it/s]"
      ]
     },
     "metadata": {},
     "output_type": "display_data"
    },
    {
     "data": {
      "application/vnd.jupyter.widget-view+json": {
       "model_id": "e6406b5f4b3b43bf8cd3f22fda64d5ad",
       "version_major": 2,
       "version_minor": 0
      },
      "text/plain": [
       "Validation: |          | 0/? [00:00<?, ?it/s]"
      ]
     },
     "metadata": {},
     "output_type": "display_data"
    },
    {
     "data": {
      "application/vnd.jupyter.widget-view+json": {
       "model_id": "5ab75e7ccfe24afeb5e438e6d2751a9f",
       "version_major": 2,
       "version_minor": 0
      },
      "text/plain": [
       "Validation: |          | 0/? [00:00<?, ?it/s]"
      ]
     },
     "metadata": {},
     "output_type": "display_data"
    },
    {
     "data": {
      "application/vnd.jupyter.widget-view+json": {
       "model_id": "fb150bbb082840fb86c5f1d290c3b846",
       "version_major": 2,
       "version_minor": 0
      },
      "text/plain": [
       "Validation: |          | 0/? [00:00<?, ?it/s]"
      ]
     },
     "metadata": {},
     "output_type": "display_data"
    },
    {
     "data": {
      "application/vnd.jupyter.widget-view+json": {
       "model_id": "78dadb428e1b4d4f8adbf78dacb15eb4",
       "version_major": 2,
       "version_minor": 0
      },
      "text/plain": [
       "Validation: |          | 0/? [00:00<?, ?it/s]"
      ]
     },
     "metadata": {},
     "output_type": "display_data"
    },
    {
     "data": {
      "application/vnd.jupyter.widget-view+json": {
       "model_id": "cd4b938926f246458f93bcb921a4fcc4",
       "version_major": 2,
       "version_minor": 0
      },
      "text/plain": [
       "Validation: |          | 0/? [00:00<?, ?it/s]"
      ]
     },
     "metadata": {},
     "output_type": "display_data"
    },
    {
     "data": {
      "application/vnd.jupyter.widget-view+json": {
       "model_id": "6f99944bfc304f10a19f6fd8600de0cc",
       "version_major": 2,
       "version_minor": 0
      },
      "text/plain": [
       "Validation: |          | 0/? [00:00<?, ?it/s]"
      ]
     },
     "metadata": {},
     "output_type": "display_data"
    },
    {
     "data": {
      "application/vnd.jupyter.widget-view+json": {
       "model_id": "4fcd7934d50d4884a6a1a978a15f8d66",
       "version_major": 2,
       "version_minor": 0
      },
      "text/plain": [
       "Validation: |          | 0/? [00:00<?, ?it/s]"
      ]
     },
     "metadata": {},
     "output_type": "display_data"
    },
    {
     "data": {
      "application/vnd.jupyter.widget-view+json": {
       "model_id": "1591f73ad68c4a21bf694b07bef95e6b",
       "version_major": 2,
       "version_minor": 0
      },
      "text/plain": [
       "Validation: |          | 0/? [00:00<?, ?it/s]"
      ]
     },
     "metadata": {},
     "output_type": "display_data"
    },
    {
     "data": {
      "application/vnd.jupyter.widget-view+json": {
       "model_id": "f1ef7218cc6b481f86f1513754a0a459",
       "version_major": 2,
       "version_minor": 0
      },
      "text/plain": [
       "Validation: |          | 0/? [00:00<?, ?it/s]"
      ]
     },
     "metadata": {},
     "output_type": "display_data"
    },
    {
     "data": {
      "application/vnd.jupyter.widget-view+json": {
       "model_id": "c43315f126db4cfeac83894b83ae38cf",
       "version_major": 2,
       "version_minor": 0
      },
      "text/plain": [
       "Validation: |          | 0/? [00:00<?, ?it/s]"
      ]
     },
     "metadata": {},
     "output_type": "display_data"
    },
    {
     "data": {
      "application/vnd.jupyter.widget-view+json": {
       "model_id": "ba532d4b489946099d4be4bbffa000dc",
       "version_major": 2,
       "version_minor": 0
      },
      "text/plain": [
       "Validation: |          | 0/? [00:00<?, ?it/s]"
      ]
     },
     "metadata": {},
     "output_type": "display_data"
    },
    {
     "data": {
      "application/vnd.jupyter.widget-view+json": {
       "model_id": "eb9cdcbe5a2848de93f3448da5778259",
       "version_major": 2,
       "version_minor": 0
      },
      "text/plain": [
       "Validation: |          | 0/? [00:00<?, ?it/s]"
      ]
     },
     "metadata": {},
     "output_type": "display_data"
    },
    {
     "data": {
      "application/vnd.jupyter.widget-view+json": {
       "model_id": "4939b38d03ec4887bd8061457d9764c7",
       "version_major": 2,
       "version_minor": 0
      },
      "text/plain": [
       "Validation: |          | 0/? [00:00<?, ?it/s]"
      ]
     },
     "metadata": {},
     "output_type": "display_data"
    },
    {
     "data": {
      "application/vnd.jupyter.widget-view+json": {
       "model_id": "9bbcc3450d304365af903930a81d9c8e",
       "version_major": 2,
       "version_minor": 0
      },
      "text/plain": [
       "Validation: |          | 0/? [00:00<?, ?it/s]"
      ]
     },
     "metadata": {},
     "output_type": "display_data"
    },
    {
     "data": {
      "application/vnd.jupyter.widget-view+json": {
       "model_id": "8ab6624722004ae687b28150a05bc868",
       "version_major": 2,
       "version_minor": 0
      },
      "text/plain": [
       "Validation: |          | 0/? [00:00<?, ?it/s]"
      ]
     },
     "metadata": {},
     "output_type": "display_data"
    },
    {
     "data": {
      "application/vnd.jupyter.widget-view+json": {
       "model_id": "0e01f200bbe14bdd9bbc9fd66886b85c",
       "version_major": 2,
       "version_minor": 0
      },
      "text/plain": [
       "Validation: |          | 0/? [00:00<?, ?it/s]"
      ]
     },
     "metadata": {},
     "output_type": "display_data"
    },
    {
     "data": {
      "application/vnd.jupyter.widget-view+json": {
       "model_id": "7092b2e624184c80af6292807bd6db97",
       "version_major": 2,
       "version_minor": 0
      },
      "text/plain": [
       "Validation: |          | 0/? [00:00<?, ?it/s]"
      ]
     },
     "metadata": {},
     "output_type": "display_data"
    },
    {
     "data": {
      "application/vnd.jupyter.widget-view+json": {
       "model_id": "ba0045be403540f98216841fbaa50d05",
       "version_major": 2,
       "version_minor": 0
      },
      "text/plain": [
       "Validation: |          | 0/? [00:00<?, ?it/s]"
      ]
     },
     "metadata": {},
     "output_type": "display_data"
    },
    {
     "data": {
      "application/vnd.jupyter.widget-view+json": {
       "model_id": "b55fc6c047354b3a801409fe0390f196",
       "version_major": 2,
       "version_minor": 0
      },
      "text/plain": [
       "Validation: |          | 0/? [00:00<?, ?it/s]"
      ]
     },
     "metadata": {},
     "output_type": "display_data"
    },
    {
     "data": {
      "application/vnd.jupyter.widget-view+json": {
       "model_id": "641224b9b3d147abbf3932129570b129",
       "version_major": 2,
       "version_minor": 0
      },
      "text/plain": [
       "Validation: |          | 0/? [00:00<?, ?it/s]"
      ]
     },
     "metadata": {},
     "output_type": "display_data"
    },
    {
     "data": {
      "application/vnd.jupyter.widget-view+json": {
       "model_id": "a5a107e1d07645c583c466cfa9512fc0",
       "version_major": 2,
       "version_minor": 0
      },
      "text/plain": [
       "Validation: |          | 0/? [00:00<?, ?it/s]"
      ]
     },
     "metadata": {},
     "output_type": "display_data"
    },
    {
     "name": "stderr",
     "output_type": "stream",
     "text": [
      "`Trainer.fit` stopped: `max_epochs=44` reached.\n"
     ]
    },
    {
     "data": {
      "image/png": "[encoded data removed]",
      "text/plain": [
       "<Figure size 640x480 with 1 Axes>"
      ]
     },
     "metadata": {},
     "output_type": "display_data"
    },
    {
     "data": {
      "image/png": "[encoded data removed]",
      "text/plain": [
       "<Figure size 640x480 with 1 Axes>"
      ]
     },
     "metadata": {},
     "output_type": "display_data"
    },
    {
     "data": {
      "image/png": "[encoded data removed]",
      "text/plain": [
       "<Figure size 640x480 with 1 Axes>"
      ]
     },
     "metadata": {},
     "output_type": "display_data"
    },
    {
     "data": {
      "text/html": [
       "<div>\n",
       "<style scoped>\n",
       "    .dataframe tbody tr th:only-of-type {\n",
       "        vertical-align: middle;\n",
       "    }\n",
       "\n",
       "    .dataframe tbody tr th {\n",
       "        vertical-align: top;\n",
       "    }\n",
       "\n",
       "    .dataframe thead th {\n",
       "        text-align: right;\n",
       "    }\n",
       "</style>\n",
       "<table border=\"1\" class=\"dataframe\">\n",
       "  <thead>\n",
       "    <tr style=\"text-align: right;\">\n",
       "      <th></th>\n",
       "      <th>lr-AdamW</th>\n",
       "      <th>step</th>\n",
       "      <th>train/loss_rec_step</th>\n",
       "      <th>train/loss_pred_step</th>\n",
       "      <th>val/loss_rec_step</th>\n",
       "      <th>val/loss_pred_step</th>\n",
       "      <th>val/acc</th>\n",
       "      <th>val/auroc</th>\n",
       "      <th>val/l1_loss</th>\n",
       "      <th>val/loss_rec_epoch</th>\n",
       "      <th>val/n</th>\n",
       "      <th>val/loss_pred_epoch</th>\n",
       "      <th>val/l2_loss</th>\n",
       "      <th>train/n</th>\n",
       "      <th>train/l1_loss</th>\n",
       "      <th>train/loss_rec_epoch</th>\n",
       "      <th>train/l2_loss</th>\n",
       "      <th>train/auroc</th>\n",
       "      <th>train/loss_pred_epoch</th>\n",
       "      <th>train/acc</th>\n",
       "    </tr>\n",
       "    <tr>\n",
       "      <th>epoch</th>\n",
       "      <th></th>\n",
       "      <th></th>\n",
       "      <th></th>\n",
       "      <th></th>\n",
       "      <th></th>\n",
       "      <th></th>\n",
       "      <th></th>\n",
       "      <th></th>\n",
       "      <th></th>\n",
       "      <th></th>\n",
       "      <th></th>\n",
       "      <th></th>\n",
       "      <th></th>\n",
       "      <th></th>\n",
       "      <th></th>\n",
       "      <th></th>\n",
       "      <th></th>\n",
       "      <th></th>\n",
       "      <th></th>\n",
       "      <th></th>\n",
       "    </tr>\n",
       "  </thead>\n",
       "  <tbody>\n",
       "    <tr>\n",
       "      <th>0.0</th>\n",
       "      <td>5.373681e-05</td>\n",
       "      <td>10</td>\n",
       "      <td>3.828470e+08</td>\n",
       "      <td>0.688285</td>\n",
       "      <td>3.816910e+08</td>\n",
       "      <td>0.686484</td>\n",
       "      <td>0.545455</td>\n",
       "      <td>0.533651</td>\n",
       "      <td>263.837982</td>\n",
       "      <td>3.706850e+08</td>\n",
       "      <td>154.0</td>\n",
       "      <td>0.691207</td>\n",
       "      <td>3.706849e+08</td>\n",
       "      <td>307.0</td>\n",
       "      <td>264.040283</td>\n",
       "      <td>3.732675e+08</td>\n",
       "      <td>3.732674e+08</td>\n",
       "      <td>0.624219</td>\n",
       "      <td>0.691203</td>\n",
       "      <td>0.537459</td>\n",
       "    </tr>\n",
       "    <tr>\n",
       "      <th>1.0</th>\n",
       "      <td>9.416100e-05</td>\n",
       "      <td>20</td>\n",
       "      <td>3.732684e+08</td>\n",
       "      <td>0.693742</td>\n",
       "      <td>3.816910e+08</td>\n",
       "      <td>0.686484</td>\n",
       "      <td>0.545455</td>\n",
       "      <td>0.533651</td>\n",
       "      <td>263.837982</td>\n",
       "      <td>3.706850e+08</td>\n",
       "      <td>154.0</td>\n",
       "      <td>0.691207</td>\n",
       "      <td>3.706849e+08</td>\n",
       "      <td>307.0</td>\n",
       "      <td>264.040283</td>\n",
       "      <td>3.732675e+08</td>\n",
       "      <td>3.732673e+08</td>\n",
       "      <td>0.636095</td>\n",
       "      <td>0.691203</td>\n",
       "      <td>0.537459</td>\n",
       "    </tr>\n",
       "    <tr>\n",
       "      <th>2.0</th>\n",
       "      <td>1.589588e-04</td>\n",
       "      <td>30</td>\n",
       "      <td>3.301200e+08</td>\n",
       "      <td>0.697686</td>\n",
       "      <td>3.317749e+08</td>\n",
       "      <td>0.644732</td>\n",
       "      <td>0.545455</td>\n",
       "      <td>0.516626</td>\n",
       "      <td>14330.367188</td>\n",
       "      <td>3.224812e+08</td>\n",
       "      <td>154.0</td>\n",
       "      <td>0.701648</td>\n",
       "      <td>3.224741e+08</td>\n",
       "      <td>307.0</td>\n",
       "      <td>4595.383789</td>\n",
       "      <td>3.629691e+08</td>\n",
       "      <td>3.629668e+08</td>\n",
       "      <td>0.501944</td>\n",
       "      <td>0.693477</td>\n",
       "      <td>0.537459</td>\n",
       "    </tr>\n",
       "    <tr>\n",
       "      <th>3.0</th>\n",
       "      <td>2.444214e-04</td>\n",
       "      <td>40</td>\n",
       "      <td>1.552317e+08</td>\n",
       "      <td>1.136175</td>\n",
       "      <td>1.574633e+08</td>\n",
       "      <td>0.708153</td>\n",
       "      <td>0.545455</td>\n",
       "      <td>0.474157</td>\n",
       "      <td>32191.996094</td>\n",
       "      <td>1.550687e+08</td>\n",
       "      <td>154.0</td>\n",
       "      <td>0.844235</td>\n",
       "      <td>1.550526e+08</td>\n",
       "      <td>307.0</td>\n",
       "      <td>22527.847656</td>\n",
       "      <td>2.502060e+08</td>\n",
       "      <td>2.501947e+08</td>\n",
       "      <td>0.476366</td>\n",
       "      <td>0.754405</td>\n",
       "      <td>0.537459</td>\n",
       "    </tr>\n",
       "    <tr>\n",
       "      <th>4.0</th>\n",
       "      <td>3.456573e-04</td>\n",
       "      <td>50</td>\n",
       "      <td>6.713096e+07</td>\n",
       "      <td>0.980456</td>\n",
       "      <td>5.625778e+07</td>\n",
       "      <td>0.886880</td>\n",
       "      <td>0.545455</td>\n",
       "      <td>0.527908</td>\n",
       "      <td>34792.953125</td>\n",
       "      <td>5.977599e+07</td>\n",
       "      <td>154.0</td>\n",
       "      <td>1.101779</td>\n",
       "      <td>5.975859e+07</td>\n",
       "      <td>307.0</td>\n",
       "      <td>35598.894531</td>\n",
       "      <td>1.157351e+08</td>\n",
       "      <td>1.157173e+08</td>\n",
       "      <td>0.539219</td>\n",
       "      <td>1.014312</td>\n",
       "      <td>0.537459</td>\n",
       "    </tr>\n",
       "    <tr>\n",
       "      <th>5.0</th>\n",
       "      <td>4.568719e-04</td>\n",
       "      <td>60</td>\n",
       "      <td>2.642045e+07</td>\n",
       "      <td>0.978536</td>\n",
       "      <td>2.308333e+07</td>\n",
       "      <td>0.675394</td>\n",
       "      <td>0.545455</td>\n",
       "      <td>0.578727</td>\n",
       "      <td>33043.656250</td>\n",
       "      <td>2.808532e+07</td>\n",
       "      <td>154.0</td>\n",
       "      <td>0.804474</td>\n",
       "      <td>2.806880e+07</td>\n",
       "      <td>307.0</td>\n",
       "      <td>33114.066406</td>\n",
       "      <td>4.238476e+07</td>\n",
       "      <td>4.236821e+07</td>\n",
       "      <td>0.572221</td>\n",
       "      <td>1.015193</td>\n",
       "      <td>0.537459</td>\n",
       "    </tr>\n",
       "    <tr>\n",
       "      <th>6.0</th>\n",
       "      <td>5.716998e-04</td>\n",
       "      <td>70</td>\n",
       "      <td>1.785897e+07</td>\n",
       "      <td>0.755543</td>\n",
       "      <td>1.505474e+07</td>\n",
       "      <td>0.622179</td>\n",
       "      <td>0.545455</td>\n",
       "      <td>0.591279</td>\n",
       "      <td>29102.460938</td>\n",
       "      <td>1.973319e+07</td>\n",
       "      <td>154.0</td>\n",
       "      <td>0.697333</td>\n",
       "      <td>1.971864e+07</td>\n",
       "      <td>307.0</td>\n",
       "      <td>30857.492188</td>\n",
       "      <td>2.239125e+07</td>\n",
       "      <td>2.237582e+07</td>\n",
       "      <td>0.639241</td>\n",
       "      <td>0.731147</td>\n",
       "      <td>0.537459</td>\n",
       "    </tr>\n",
       "    <tr>\n",
       "      <th>7.0</th>\n",
       "      <td>6.835686e-04</td>\n",
       "      <td>80</td>\n",
       "      <td>1.050493e+07</td>\n",
       "      <td>0.674978</td>\n",
       "      <td>1.336781e+07</td>\n",
       "      <td>0.622434</td>\n",
       "      <td>0.603896</td>\n",
       "      <td>0.627956</td>\n",
       "      <td>26456.726562</td>\n",
       "      <td>1.708039e+07</td>\n",
       "      <td>154.0</td>\n",
       "      <td>0.678941</td>\n",
       "      <td>1.706716e+07</td>\n",
       "      <td>307.0</td>\n",
       "      <td>27715.544922</td>\n",
       "      <td>1.720435e+07</td>\n",
       "      <td>1.719049e+07</td>\n",
       "      <td>0.645903</td>\n",
       "      <td>0.686152</td>\n",
       "      <td>0.537459</td>\n",
       "    </tr>\n",
       "    <tr>\n",
       "      <th>8.0</th>\n",
       "      <td>7.860752e-04</td>\n",
       "      <td>90</td>\n",
       "      <td>6.269482e+06</td>\n",
       "      <td>0.607573</td>\n",
       "      <td>8.047390e+06</td>\n",
       "      <td>0.565876</td>\n",
       "      <td>0.655844</td>\n",
       "      <td>0.656762</td>\n",
       "      <td>25767.994141</td>\n",
       "      <td>1.007904e+07</td>\n",
       "      <td>154.0</td>\n",
       "      <td>0.736531</td>\n",
       "      <td>1.006615e+07</td>\n",
       "      <td>307.0</td>\n",
       "      <td>25937.605469</td>\n",
       "      <td>1.255362e+07</td>\n",
       "      <td>1.254065e+07</td>\n",
       "      <td>0.641810</td>\n",
       "      <td>0.680101</td>\n",
       "      <td>0.573290</td>\n",
       "    </tr>\n",
       "    <tr>\n",
       "      <th>9.0</th>\n",
       "      <td>8.733526e-04</td>\n",
       "      <td>100</td>\n",
       "      <td>4.580677e+06</td>\n",
       "      <td>0.939836</td>\n",
       "      <td>5.932549e+06</td>\n",
       "      <td>0.573412</td>\n",
       "      <td>0.545455</td>\n",
       "      <td>0.603040</td>\n",
       "      <td>25134.970703</td>\n",
       "      <td>7.351294e+06</td>\n",
       "      <td>154.0</td>\n",
       "      <td>0.824531</td>\n",
       "      <td>7.338727e+06</td>\n",
       "      <td>307.0</td>\n",
       "      <td>25082.312500</td>\n",
       "      <td>7.819019e+06</td>\n",
       "      <td>7.806478e+06</td>\n",
       "      <td>0.633990</td>\n",
       "      <td>0.742129</td>\n",
       "      <td>0.530945</td>\n",
       "    </tr>\n",
       "    <tr>\n",
       "      <th>10.0</th>\n",
       "      <td>9.404052e-04</td>\n",
       "      <td>110</td>\n",
       "      <td>3.774596e+06</td>\n",
       "      <td>0.759675</td>\n",
       "      <td>5.237754e+06</td>\n",
       "      <td>0.568813</td>\n",
       "      <td>0.545455</td>\n",
       "      <td>0.632517</td>\n",
       "      <td>23315.328125</td>\n",
       "      <td>6.221246e+06</td>\n",
       "      <td>154.0</td>\n",
       "      <td>0.793456</td>\n",
       "      <td>6.209588e+06</td>\n",
       "      <td>307.0</td>\n",
       "      <td>24154.738281</td>\n",
       "      <td>5.677129e+06</td>\n",
       "      <td>5.665052e+06</td>\n",
       "      <td>0.628144</td>\n",
       "      <td>0.770468</td>\n",
       "      <td>0.534202</td>\n",
       "    </tr>\n",
       "    <tr>\n",
       "      <th>11.0</th>\n",
       "      <td>9.833952e-04</td>\n",
       "      <td>120</td>\n",
       "      <td>4.951383e+06</td>\n",
       "      <td>0.759077</td>\n",
       "      <td>3.988008e+06</td>\n",
       "      <td>0.568794</td>\n",
       "      <td>0.545455</td>\n",
       "      <td>0.610045</td>\n",
       "      <td>22764.431641</td>\n",
       "      <td>4.441300e+06</td>\n",
       "      <td>154.0</td>\n",
       "      <td>0.811575</td>\n",
       "      <td>4.429918e+06</td>\n",
       "      <td>307.0</td>\n",
       "      <td>22907.306641</td>\n",
       "      <td>4.982404e+06</td>\n",
       "      <td>4.970950e+06</td>\n",
       "      <td>0.626170</td>\n",
       "      <td>0.764871</td>\n",
       "      <td>0.537459</td>\n",
       "    </tr>\n",
       "    <tr>\n",
       "      <th>12.0</th>\n",
       "      <td>9.998620e-04</td>\n",
       "      <td>130</td>\n",
       "      <td>3.235490e+06</td>\n",
       "      <td>0.688275</td>\n",
       "      <td>3.593997e+06</td>\n",
       "      <td>0.566123</td>\n",
       "      <td>0.545455</td>\n",
       "      <td>0.622317</td>\n",
       "      <td>20896.406250</td>\n",
       "      <td>3.787677e+06</td>\n",
       "      <td>154.0</td>\n",
       "      <td>0.809658</td>\n",
       "      <td>3.777228e+06</td>\n",
       "      <td>307.0</td>\n",
       "      <td>21869.498047</td>\n",
       "      <td>4.120415e+06</td>\n",
       "      <td>4.109480e+06</td>\n",
       "      <td>0.621298</td>\n",
       "      <td>0.768988</td>\n",
       "      <td>0.537459</td>\n",
       "    </tr>\n",
       "    <tr>\n",
       "      <th>13.0</th>\n",
       "      <td>9.978947e-04</td>\n",
       "      <td>140</td>\n",
       "      <td>4.231666e+06</td>\n",
       "      <td>0.578066</td>\n",
       "      <td>3.337130e+06</td>\n",
       "      <td>0.554257</td>\n",
       "      <td>0.545455</td>\n",
       "      <td>0.627403</td>\n",
       "      <td>20568.312500</td>\n",
       "      <td>3.410535e+06</td>\n",
       "      <td>154.0</td>\n",
       "      <td>0.802582</td>\n",
       "      <td>3.400250e+06</td>\n",
       "      <td>307.0</td>\n",
       "      <td>20941.789062</td>\n",
       "      <td>4.005956e+06</td>\n",
       "      <td>3.995484e+06</td>\n",
       "      <td>0.627245</td>\n",
       "      <td>0.765890</td>\n",
       "      <td>0.537459</td>\n",
       "    </tr>\n",
       "    <tr>\n",
       "      <th>14.0</th>\n",
       "      <td>9.906398e-04</td>\n",
       "      <td>150</td>\n",
       "      <td>2.147374e+06</td>\n",
       "      <td>0.975382</td>\n",
       "      <td>6.692606e+06</td>\n",
       "      <td>0.577623</td>\n",
       "      <td>0.545455</td>\n",
       "      <td>0.616101</td>\n",
       "      <td>19375.740234</td>\n",
       "      <td>6.623621e+06</td>\n",
       "      <td>154.0</td>\n",
       "      <td>0.835594</td>\n",
       "      <td>6.613933e+06</td>\n",
       "      <td>307.0</td>\n",
       "      <td>19953.783203</td>\n",
       "      <td>3.563622e+06</td>\n",
       "      <td>3.553646e+06</td>\n",
       "      <td>0.620974</td>\n",
       "      <td>0.771836</td>\n",
       "      <td>0.537459</td>\n",
       "    </tr>\n",
       "    <tr>\n",
       "      <th>15.0</th>\n",
       "      <td>9.782848e-04</td>\n",
       "      <td>160</td>\n",
       "      <td>3.840708e+06</td>\n",
       "      <td>0.825783</td>\n",
       "      <td>4.823332e+06</td>\n",
       "      <td>0.549818</td>\n",
       "      <td>0.545455</td>\n",
       "      <td>0.633912</td>\n",
       "      <td>19273.210938</td>\n",
       "      <td>4.776534e+06</td>\n",
       "      <td>154.0</td>\n",
       "      <td>0.803631</td>\n",
       "      <td>4.766898e+06</td>\n",
       "      <td>307.0</td>\n",
       "      <td>18918.632812</td>\n",
       "      <td>4.579110e+06</td>\n",
       "      <td>4.569650e+06</td>\n",
       "      <td>0.616488</td>\n",
       "      <td>0.778858</td>\n",
       "      <td>0.537459</td>\n",
       "    </tr>\n",
       "    <tr>\n",
       "      <th>16.0</th>\n",
       "      <td>9.609581e-04</td>\n",
       "      <td>170</td>\n",
       "      <td>2.104320e+06</td>\n",
       "      <td>0.523547</td>\n",
       "      <td>3.629164e+06</td>\n",
       "      <td>0.547892</td>\n",
       "      <td>0.551948</td>\n",
       "      <td>0.636087</td>\n",
       "      <td>18910.369141</td>\n",
       "      <td>3.645812e+06</td>\n",
       "      <td>154.0</td>\n",
       "      <td>0.806723</td>\n",
       "      <td>3.636357e+06</td>\n",
       "      <td>307.0</td>\n",
       "      <td>18256.263672</td>\n",
       "      <td>3.389480e+06</td>\n",
       "      <td>3.380352e+06</td>\n",
       "      <td>0.602099</td>\n",
       "      <td>0.771206</td>\n",
       "      <td>0.537459</td>\n",
       "    </tr>\n",
       "    <tr>\n",
       "      <th>17.0</th>\n",
       "      <td>9.388397e-04</td>\n",
       "      <td>180</td>\n",
       "      <td>2.383520e+06</td>\n",
       "      <td>0.778350</td>\n",
       "      <td>2.709408e+06</td>\n",
       "      <td>0.549273</td>\n",
       "      <td>0.545455</td>\n",
       "      <td>0.622224</td>\n",
       "      <td>18459.666016</td>\n",
       "      <td>2.675671e+06</td>\n",
       "      <td>154.0</td>\n",
       "      <td>0.812109</td>\n",
       "      <td>2.666441e+06</td>\n",
       "      <td>307.0</td>\n",
       "      <td>18122.337891</td>\n",
       "      <td>2.857502e+06</td>\n",
       "      <td>2.848441e+06</td>\n",
       "      <td>0.615683</td>\n",
       "      <td>0.774138</td>\n",
       "      <td>0.534202</td>\n",
       "    </tr>\n",
       "    <tr>\n",
       "      <th>18.0</th>\n",
       "      <td>9.121597e-04</td>\n",
       "      <td>190</td>\n",
       "      <td>1.852674e+06</td>\n",
       "      <td>0.653480</td>\n",
       "      <td>1.855364e+06</td>\n",
       "      <td>0.542629</td>\n",
       "      <td>0.551948</td>\n",
       "      <td>0.617752</td>\n",
       "      <td>18780.138672</td>\n",
       "      <td>1.839965e+06</td>\n",
       "      <td>154.0</td>\n",
       "      <td>0.801879</td>\n",
       "      <td>1.830574e+06</td>\n",
       "      <td>307.0</td>\n",
       "      <td>18093.642578</td>\n",
       "      <td>2.188337e+06</td>\n",
       "      <td>2.179290e+06</td>\n",
       "      <td>0.596582</td>\n",
       "      <td>0.778603</td>\n",
       "      <td>0.537459</td>\n",
       "    </tr>\n",
       "    <tr>\n",
       "      <th>19.0</th>\n",
       "      <td>8.811953e-04</td>\n",
       "      <td>200</td>\n",
       "      <td>1.432251e+06</td>\n",
       "      <td>0.824736</td>\n",
       "      <td>2.465458e+06</td>\n",
       "      <td>0.540848</td>\n",
       "      <td>0.558442</td>\n",
       "      <td>0.625265</td>\n",
       "      <td>18306.343750</td>\n",
       "      <td>2.431715e+06</td>\n",
       "      <td>154.0</td>\n",
       "      <td>0.796769</td>\n",
       "      <td>2.422562e+06</td>\n",
       "      <td>307.0</td>\n",
       "      <td>18212.863281</td>\n",
       "      <td>1.822544e+06</td>\n",
       "      <td>1.813438e+06</td>\n",
       "      <td>0.609231</td>\n",
       "      <td>0.772705</td>\n",
       "      <td>0.530945</td>\n",
       "    </tr>\n",
       "    <tr>\n",
       "      <th>20.0</th>\n",
       "      <td>8.462685e-04</td>\n",
       "      <td>210</td>\n",
       "      <td>2.222416e+06</td>\n",
       "      <td>0.772893</td>\n",
       "      <td>2.004058e+06</td>\n",
       "      <td>0.540725</td>\n",
       "      <td>0.610390</td>\n",
       "      <td>0.618821</td>\n",
       "      <td>17318.351562</td>\n",
       "      <td>2.027601e+06</td>\n",
       "      <td>154.0</td>\n",
       "      <td>0.780261</td>\n",
       "      <td>2.018942e+06</td>\n",
       "      <td>307.0</td>\n",
       "      <td>17922.779297</td>\n",
       "      <td>2.492584e+06</td>\n",
       "      <td>2.483623e+06</td>\n",
       "      <td>0.606371</td>\n",
       "      <td>0.759984</td>\n",
       "      <td>0.537459</td>\n",
       "    </tr>\n",
       "    <tr>\n",
       "      <th>21.0</th>\n",
       "      <td>8.077422e-04</td>\n",
       "      <td>220</td>\n",
       "      <td>2.102338e+06</td>\n",
       "      <td>1.048146</td>\n",
       "      <td>1.479407e+06</td>\n",
       "      <td>0.544878</td>\n",
       "      <td>0.610390</td>\n",
       "      <td>0.625852</td>\n",
       "      <td>16593.986328</td>\n",
       "      <td>1.494147e+06</td>\n",
       "      <td>154.0</td>\n",
       "      <td>0.782860</td>\n",
       "      <td>1.485850e+06</td>\n",
       "      <td>307.0</td>\n",
       "      <td>17289.257812</td>\n",
       "      <td>1.784791e+06</td>\n",
       "      <td>1.776146e+06</td>\n",
       "      <td>0.613459</td>\n",
       "      <td>0.748758</td>\n",
       "      <td>0.534202</td>\n",
       "    </tr>\n",
       "    <tr>\n",
       "      <th>22.0</th>\n",
       "      <td>7.660170e-04</td>\n",
       "      <td>230</td>\n",
       "      <td>1.594248e+06</td>\n",
       "      <td>0.846258</td>\n",
       "      <td>1.211440e+06</td>\n",
       "      <td>0.546311</td>\n",
       "      <td>0.603896</td>\n",
       "      <td>0.610445</td>\n",
       "      <td>16486.642578</td>\n",
       "      <td>1.241548e+06</td>\n",
       "      <td>154.0</td>\n",
       "      <td>0.796351</td>\n",
       "      <td>1.233305e+06</td>\n",
       "      <td>307.0</td>\n",
       "      <td>16997.818359</td>\n",
       "      <td>1.379766e+06</td>\n",
       "      <td>1.371267e+06</td>\n",
       "      <td>0.619787</td>\n",
       "      <td>0.755564</td>\n",
       "      <td>0.547231</td>\n",
       "    </tr>\n",
       "    <tr>\n",
       "      <th>23.0</th>\n",
       "      <td>7.215265e-04</td>\n",
       "      <td>240</td>\n",
       "      <td>1.044977e+06</td>\n",
       "      <td>0.705044</td>\n",
       "      <td>1.128485e+06</td>\n",
       "      <td>0.544227</td>\n",
       "      <td>0.571429</td>\n",
       "      <td>0.614243</td>\n",
       "      <td>16618.980469</td>\n",
       "      <td>1.150908e+06</td>\n",
       "      <td>154.0</td>\n",
       "      <td>0.807308</td>\n",
       "      <td>1.142599e+06</td>\n",
       "      <td>307.0</td>\n",
       "      <td>17051.990234</td>\n",
       "      <td>1.133017e+06</td>\n",
       "      <td>1.124490e+06</td>\n",
       "      <td>0.593816</td>\n",
       "      <td>0.774485</td>\n",
       "      <td>0.530945</td>\n",
       "    </tr>\n",
       "    <tr>\n",
       "      <th>24.0</th>\n",
       "      <td>6.747334e-04</td>\n",
       "      <td>250</td>\n",
       "      <td>8.900224e+05</td>\n",
       "      <td>0.756685</td>\n",
       "      <td>1.109827e+06</td>\n",
       "      <td>0.540023</td>\n",
       "      <td>0.603896</td>\n",
       "      <td>0.614374</td>\n",
       "      <td>16882.974609</td>\n",
       "      <td>1.119542e+06</td>\n",
       "      <td>154.0</td>\n",
       "      <td>0.802029</td>\n",
       "      <td>1.111101e+06</td>\n",
       "      <td>307.0</td>\n",
       "      <td>17186.554688</td>\n",
       "      <td>1.004206e+06</td>\n",
       "      <td>9.956129e+05</td>\n",
       "      <td>0.591673</td>\n",
       "      <td>0.775348</td>\n",
       "      <td>0.530945</td>\n",
       "    </tr>\n",
       "    <tr>\n",
       "      <th>25.0</th>\n",
       "      <td>6.261239e-04</td>\n",
       "      <td>260</td>\n",
       "      <td>1.322245e+06</td>\n",
       "      <td>1.060206</td>\n",
       "      <td>1.006332e+06</td>\n",
       "      <td>0.543075</td>\n",
       "      <td>0.590909</td>\n",
       "      <td>0.610293</td>\n",
       "      <td>16742.509766</td>\n",
       "      <td>1.031664e+06</td>\n",
       "      <td>154.0</td>\n",
       "      <td>0.797173</td>\n",
       "      <td>1.023292e+06</td>\n",
       "      <td>307.0</td>\n",
       "      <td>17167.945312</td>\n",
       "      <td>1.025479e+06</td>\n",
       "      <td>1.016895e+06</td>\n",
       "      <td>0.601642</td>\n",
       "      <td>0.769135</td>\n",
       "      <td>0.527687</td>\n",
       "    </tr>\n",
       "    <tr>\n",
       "      <th>26.0</th>\n",
       "      <td>5.762034e-04</td>\n",
       "      <td>270</td>\n",
       "      <td>9.680588e+05</td>\n",
       "      <td>0.806078</td>\n",
       "      <td>9.312351e+05</td>\n",
       "      <td>0.542950</td>\n",
       "      <td>0.597403</td>\n",
       "      <td>0.614506</td>\n",
       "      <td>16723.929688</td>\n",
       "      <td>9.486651e+05</td>\n",
       "      <td>154.0</td>\n",
       "      <td>0.791804</td>\n",
       "      <td>9.403032e+05</td>\n",
       "      <td>307.0</td>\n",
       "      <td>17050.216797</td>\n",
       "      <td>9.728478e+05</td>\n",
       "      <td>9.643225e+05</td>\n",
       "      <td>0.616794</td>\n",
       "      <td>0.762657</td>\n",
       "      <td>0.557003</td>\n",
       "    </tr>\n",
       "    <tr>\n",
       "      <th>27.0</th>\n",
       "      <td>5.254908e-04</td>\n",
       "      <td>280</td>\n",
       "      <td>8.104802e+05</td>\n",
       "      <td>0.592814</td>\n",
       "      <td>7.686469e+05</td>\n",
       "      <td>0.545152</td>\n",
       "      <td>0.564935</td>\n",
       "      <td>0.610218</td>\n",
       "      <td>16871.822266</td>\n",
       "      <td>7.822919e+05</td>\n",
       "      <td>154.0</td>\n",
       "      <td>0.798094</td>\n",
       "      <td>7.738559e+05</td>\n",
       "      <td>307.0</td>\n",
       "      <td>16890.978516</td>\n",
       "      <td>8.349296e+05</td>\n",
       "      <td>8.264841e+05</td>\n",
       "      <td>0.608629</td>\n",
       "      <td>0.768119</td>\n",
       "      <td>0.557003</td>\n",
       "    </tr>\n",
       "    <tr>\n",
       "      <th>28.0</th>\n",
       "      <td>4.745132e-04</td>\n",
       "      <td>290</td>\n",
       "      <td>6.934142e+05</td>\n",
       "      <td>0.652751</td>\n",
       "      <td>6.725266e+05</td>\n",
       "      <td>0.545228</td>\n",
       "      <td>0.577922</td>\n",
       "      <td>0.606617</td>\n",
       "      <td>16686.488281</td>\n",
       "      <td>6.916299e+05</td>\n",
       "      <td>154.0</td>\n",
       "      <td>0.797690</td>\n",
       "      <td>6.832866e+05</td>\n",
       "      <td>307.0</td>\n",
       "      <td>16763.529297</td>\n",
       "      <td>6.711576e+05</td>\n",
       "      <td>6.627759e+05</td>\n",
       "      <td>0.621238</td>\n",
       "      <td>0.768572</td>\n",
       "      <td>0.540717</td>\n",
       "    </tr>\n",
       "    <tr>\n",
       "      <th>29.0</th>\n",
       "      <td>4.238006e-04</td>\n",
       "      <td>300</td>\n",
       "      <td>6.312212e+05</td>\n",
       "      <td>0.830785</td>\n",
       "      <td>5.965037e+05</td>\n",
       "      <td>0.545902</td>\n",
       "      <td>0.597403</td>\n",
       "      <td>0.605128</td>\n",
       "      <td>16615.093750</td>\n",
       "      <td>6.182919e+05</td>\n",
       "      <td>154.0</td>\n",
       "      <td>0.807065</td>\n",
       "      <td>6.099844e+05</td>\n",
       "      <td>307.0</td>\n",
       "      <td>16666.199219</td>\n",
       "      <td>6.119573e+05</td>\n",
       "      <td>6.036242e+05</td>\n",
       "      <td>0.598915</td>\n",
       "      <td>0.769204</td>\n",
       "      <td>0.537459</td>\n",
       "    </tr>\n",
       "    <tr>\n",
       "      <th>30.0</th>\n",
       "      <td>3.738801e-04</td>\n",
       "      <td>310</td>\n",
       "      <td>6.158080e+05</td>\n",
       "      <td>0.811130</td>\n",
       "      <td>5.954780e+05</td>\n",
       "      <td>0.547620</td>\n",
       "      <td>0.597403</td>\n",
       "      <td>0.609127</td>\n",
       "      <td>16421.224609</td>\n",
       "      <td>6.079666e+05</td>\n",
       "      <td>154.0</td>\n",
       "      <td>0.809536</td>\n",
       "      <td>5.997560e+05</td>\n",
       "      <td>307.0</td>\n",
       "      <td>16596.595703</td>\n",
       "      <td>5.508364e+05</td>\n",
       "      <td>5.425382e+05</td>\n",
       "      <td>0.605050</td>\n",
       "      <td>0.774538</td>\n",
       "      <td>0.537459</td>\n",
       "    </tr>\n",
       "    <tr>\n",
       "      <th>31.0</th>\n",
       "      <td>3.252706e-04</td>\n",
       "      <td>320</td>\n",
       "      <td>5.026538e+05</td>\n",
       "      <td>0.882328</td>\n",
       "      <td>5.755126e+05</td>\n",
       "      <td>0.545746</td>\n",
       "      <td>0.597403</td>\n",
       "      <td>0.612583</td>\n",
       "      <td>16371.536133</td>\n",
       "      <td>5.895918e+05</td>\n",
       "      <td>154.0</td>\n",
       "      <td>0.808724</td>\n",
       "      <td>5.814060e+05</td>\n",
       "      <td>307.0</td>\n",
       "      <td>16531.132812</td>\n",
       "      <td>5.186879e+05</td>\n",
       "      <td>5.104223e+05</td>\n",
       "      <td>0.608053</td>\n",
       "      <td>0.777326</td>\n",
       "      <td>0.537459</td>\n",
       "    </tr>\n",
       "    <tr>\n",
       "      <th>32.0</th>\n",
       "      <td>2.784775e-04</td>\n",
       "      <td>330</td>\n",
       "      <td>5.358614e+05</td>\n",
       "      <td>1.021165</td>\n",
       "      <td>5.512602e+05</td>\n",
       "      <td>0.545412</td>\n",
       "      <td>0.590909</td>\n",
       "      <td>0.608515</td>\n",
       "      <td>16445.667969</td>\n",
       "      <td>5.586182e+05</td>\n",
       "      <td>154.0</td>\n",
       "      <td>0.805811</td>\n",
       "      <td>5.503953e+05</td>\n",
       "      <td>307.0</td>\n",
       "      <td>16459.632812</td>\n",
       "      <td>5.221199e+05</td>\n",
       "      <td>5.138900e+05</td>\n",
       "      <td>0.611849</td>\n",
       "      <td>0.774287</td>\n",
       "      <td>0.534202</td>\n",
       "    </tr>\n",
       "    <tr>\n",
       "      <th>33.0</th>\n",
       "      <td>2.339870e-04</td>\n",
       "      <td>340</td>\n",
       "      <td>4.337324e+05</td>\n",
       "      <td>0.652426</td>\n",
       "      <td>5.471139e+05</td>\n",
       "      <td>0.547181</td>\n",
       "      <td>0.597403</td>\n",
       "      <td>0.607029</td>\n",
       "      <td>16501.230469</td>\n",
       "      <td>5.572502e+05</td>\n",
       "      <td>154.0</td>\n",
       "      <td>0.807427</td>\n",
       "      <td>5.489996e+05</td>\n",
       "      <td>307.0</td>\n",
       "      <td>16438.089844</td>\n",
       "      <td>4.755563e+05</td>\n",
       "      <td>4.673373e+05</td>\n",
       "      <td>0.610291</td>\n",
       "      <td>0.773806</td>\n",
       "      <td>0.543974</td>\n",
       "    </tr>\n",
       "    <tr>\n",
       "      <th>34.0</th>\n",
       "      <td>1.922618e-04</td>\n",
       "      <td>350</td>\n",
       "      <td>4.292516e+05</td>\n",
       "      <td>0.592870</td>\n",
       "      <td>5.305823e+05</td>\n",
       "      <td>0.547238</td>\n",
       "      <td>0.590909</td>\n",
       "      <td>0.605722</td>\n",
       "      <td>16241.392578</td>\n",
       "      <td>5.441442e+05</td>\n",
       "      <td>154.0</td>\n",
       "      <td>0.809580</td>\n",
       "      <td>5.360235e+05</td>\n",
       "      <td>307.0</td>\n",
       "      <td>16457.912109</td>\n",
       "      <td>4.562494e+05</td>\n",
       "      <td>4.480204e+05</td>\n",
       "      <td>0.605497</td>\n",
       "      <td>0.777296</td>\n",
       "      <td>0.543974</td>\n",
       "    </tr>\n",
       "    <tr>\n",
       "      <th>35.0</th>\n",
       "      <td>1.537355e-04</td>\n",
       "      <td>360</td>\n",
       "      <td>3.792235e+05</td>\n",
       "      <td>0.817718</td>\n",
       "      <td>4.827171e+05</td>\n",
       "      <td>0.548104</td>\n",
       "      <td>0.597403</td>\n",
       "      <td>0.606436</td>\n",
       "      <td>16467.273438</td>\n",
       "      <td>4.943539e+05</td>\n",
       "      <td>154.0</td>\n",
       "      <td>0.810495</td>\n",
       "      <td>4.861202e+05</td>\n",
       "      <td>307.0</td>\n",
       "      <td>16426.304688</td>\n",
       "      <td>4.210021e+05</td>\n",
       "      <td>4.127889e+05</td>\n",
       "      <td>0.604517</td>\n",
       "      <td>0.777446</td>\n",
       "      <td>0.537459</td>\n",
       "    </tr>\n",
       "    <tr>\n",
       "      <th>36.0</th>\n",
       "      <td>1.188087e-04</td>\n",
       "      <td>370</td>\n",
       "      <td>3.768948e+05</td>\n",
       "      <td>0.667097</td>\n",
       "      <td>4.582332e+05</td>\n",
       "      <td>0.547882</td>\n",
       "      <td>0.590909</td>\n",
       "      <td>0.606784</td>\n",
       "      <td>16345.389648</td>\n",
       "      <td>4.698886e+05</td>\n",
       "      <td>154.0</td>\n",
       "      <td>0.811673</td>\n",
       "      <td>4.617158e+05</td>\n",
       "      <td>307.0</td>\n",
       "      <td>16471.261719</td>\n",
       "      <td>3.986209e+05</td>\n",
       "      <td>3.903852e+05</td>\n",
       "      <td>0.590348</td>\n",
       "      <td>0.778197</td>\n",
       "      <td>0.537459</td>\n",
       "    </tr>\n",
       "    <tr>\n",
       "      <th>37.0</th>\n",
       "      <td>8.784429e-05</td>\n",
       "      <td>380</td>\n",
       "      <td>3.865840e+05</td>\n",
       "      <td>0.715568</td>\n",
       "      <td>4.507610e+05</td>\n",
       "      <td>0.547972</td>\n",
       "      <td>0.590909</td>\n",
       "      <td>0.606784</td>\n",
       "      <td>16349.131836</td>\n",
       "      <td>4.626281e+05</td>\n",
       "      <td>154.0</td>\n",
       "      <td>0.812814</td>\n",
       "      <td>4.544535e+05</td>\n",
       "      <td>307.0</td>\n",
       "      <td>16462.720703</td>\n",
       "      <td>3.807290e+05</td>\n",
       "      <td>3.724977e+05</td>\n",
       "      <td>0.601214</td>\n",
       "      <td>0.778841</td>\n",
       "      <td>0.534202</td>\n",
       "    </tr>\n",
       "    <tr>\n",
       "      <th>38.0</th>\n",
       "      <td>6.116426e-05</td>\n",
       "      <td>390</td>\n",
       "      <td>3.213564e+05</td>\n",
       "      <td>0.822219</td>\n",
       "      <td>4.417471e+05</td>\n",
       "      <td>0.547974</td>\n",
       "      <td>0.590909</td>\n",
       "      <td>0.606784</td>\n",
       "      <td>16373.613281</td>\n",
       "      <td>4.567294e+05</td>\n",
       "      <td>154.0</td>\n",
       "      <td>0.812972</td>\n",
       "      <td>4.485426e+05</td>\n",
       "      <td>307.0</td>\n",
       "      <td>16485.037109</td>\n",
       "      <td>3.719832e+05</td>\n",
       "      <td>3.637408e+05</td>\n",
       "      <td>0.599264</td>\n",
       "      <td>0.779900</td>\n",
       "      <td>0.540717</td>\n",
       "    </tr>\n",
       "    <tr>\n",
       "      <th>39.0</th>\n",
       "      <td>3.904592e-05</td>\n",
       "      <td>400</td>\n",
       "      <td>4.139820e+05</td>\n",
       "      <td>0.853965</td>\n",
       "      <td>4.352016e+05</td>\n",
       "      <td>0.548290</td>\n",
       "      <td>0.584416</td>\n",
       "      <td>0.605884</td>\n",
       "      <td>16443.818359</td>\n",
       "      <td>4.453313e+05</td>\n",
       "      <td>154.0</td>\n",
       "      <td>0.814080</td>\n",
       "      <td>4.371093e+05</td>\n",
       "      <td>307.0</td>\n",
       "      <td>16492.220703</td>\n",
       "      <td>3.653067e+05</td>\n",
       "      <td>3.570605e+05</td>\n",
       "      <td>0.600249</td>\n",
       "      <td>0.780551</td>\n",
       "      <td>0.540717</td>\n",
       "    </tr>\n",
       "    <tr>\n",
       "      <th>40.0</th>\n",
       "      <td>2.171919e-05</td>\n",
       "      <td>410</td>\n",
       "      <td>3.982526e+05</td>\n",
       "      <td>0.878409</td>\n",
       "      <td>4.344997e+05</td>\n",
       "      <td>0.548209</td>\n",
       "      <td>0.584416</td>\n",
       "      <td>0.606784</td>\n",
       "      <td>16412.304688</td>\n",
       "      <td>4.452476e+05</td>\n",
       "      <td>154.0</td>\n",
       "      <td>0.814228</td>\n",
       "      <td>4.370414e+05</td>\n",
       "      <td>307.0</td>\n",
       "      <td>16507.814453</td>\n",
       "      <td>3.598098e+05</td>\n",
       "      <td>3.515558e+05</td>\n",
       "      <td>0.596583</td>\n",
       "      <td>0.781438</td>\n",
       "      <td>0.537459</td>\n",
       "    </tr>\n",
       "    <tr>\n",
       "      <th>41.0</th>\n",
       "      <td>9.364177e-06</td>\n",
       "      <td>420</td>\n",
       "      <td>2.995382e+05</td>\n",
       "      <td>0.827018</td>\n",
       "      <td>4.269576e+05</td>\n",
       "      <td>0.548687</td>\n",
       "      <td>0.584416</td>\n",
       "      <td>0.607196</td>\n",
       "      <td>16423.503906</td>\n",
       "      <td>4.371449e+05</td>\n",
       "      <td>154.0</td>\n",
       "      <td>0.814696</td>\n",
       "      <td>4.289332e+05</td>\n",
       "      <td>307.0</td>\n",
       "      <td>16514.064453</td>\n",
       "      <td>3.531663e+05</td>\n",
       "      <td>3.449093e+05</td>\n",
       "      <td>0.595395</td>\n",
       "      <td>0.781261</td>\n",
       "      <td>0.534202</td>\n",
       "    </tr>\n",
       "    <tr>\n",
       "      <th>42.0</th>\n",
       "      <td>2.109313e-06</td>\n",
       "      <td>430</td>\n",
       "      <td>2.908148e+05</td>\n",
       "      <td>0.811297</td>\n",
       "      <td>4.252539e+05</td>\n",
       "      <td>0.548184</td>\n",
       "      <td>0.584416</td>\n",
       "      <td>0.606709</td>\n",
       "      <td>16445.042969</td>\n",
       "      <td>4.350918e+05</td>\n",
       "      <td>154.0</td>\n",
       "      <td>0.814739</td>\n",
       "      <td>4.268692e+05</td>\n",
       "      <td>307.0</td>\n",
       "      <td>16518.646484</td>\n",
       "      <td>3.478771e+05</td>\n",
       "      <td>3.396178e+05</td>\n",
       "      <td>0.589857</td>\n",
       "      <td>0.781961</td>\n",
       "      <td>0.537459</td>\n",
       "    </tr>\n",
       "    <tr>\n",
       "      <th>43.0</th>\n",
       "      <td>4.000000e-09</td>\n",
       "      <td>439</td>\n",
       "      <td>3.534828e+05</td>\n",
       "      <td>1.173390</td>\n",
       "      <td>4.237027e+05</td>\n",
       "      <td>0.548412</td>\n",
       "      <td>0.584416</td>\n",
       "      <td>0.606334</td>\n",
       "      <td>16439.324219</td>\n",
       "      <td>4.340846e+05</td>\n",
       "      <td>154.0</td>\n",
       "      <td>0.814749</td>\n",
       "      <td>4.258649e+05</td>\n",
       "      <td>307.0</td>\n",
       "      <td>16522.308594</td>\n",
       "      <td>3.450000e+05</td>\n",
       "      <td>3.367388e+05</td>\n",
       "      <td>0.595157</td>\n",
       "      <td>0.781976</td>\n",
       "      <td>0.534202</td>\n",
       "    </tr>\n",
       "  </tbody>\n",
       "</table>\n",
       "</div>"
      ],
      "text/plain": [
       "           lr-AdamW  step  train/loss_rec_step  train/loss_pred_step  \\\n",
       "epoch                                                                  \n",
       "0.0    5.373681e-05    10         3.828470e+08              0.688285   \n",
       "1.0    9.416100e-05    20         3.732684e+08              0.693742   \n",
       "2.0    1.589588e-04    30         3.301200e+08              0.697686   \n",
       "3.0    2.444214e-04    40         1.552317e+08              1.136175   \n",
       "4.0    3.456573e-04    50         6.713096e+07              0.980456   \n",
       "5.0    4.568719e-04    60         2.642045e+07              0.978536   \n",
       "6.0    5.716998e-04    70         1.785897e+07              0.755543   \n",
       "7.0    6.835686e-04    80         1.050493e+07              0.674978   \n",
       "8.0    7.860752e-04    90         6.269482e+06              0.607573   \n",
       "9.0    8.733526e-04   100         4.580677e+06              0.939836   \n",
       "10.0   9.404052e-04   110         3.774596e+06              0.759675   \n",
       "11.0   9.833952e-04   120         4.951383e+06              0.759077   \n",
       "12.0   9.998620e-04   130         3.235490e+06              0.688275   \n",
       "13.0   9.978947e-04   140         4.231666e+06              0.578066   \n",
       "14.0   9.906398e-04   150         2.147374e+06              0.975382   \n",
       "15.0   9.782848e-04   160         3.840708e+06              0.825783   \n",
       "16.0   9.609581e-04   170         2.104320e+06              0.523547   \n",
       "17.0   9.388397e-04   180         2.383520e+06              0.778350   \n",
       "18.0   9.121597e-04   190         1.852674e+06              0.653480   \n",
       "19.0   8.811953e-04   200         1.432251e+06              0.824736   \n",
       "20.0   8.462685e-04   210         2.222416e+06              0.772893   \n",
       "21.0   8.077422e-04   220         2.102338e+06              1.048146   \n",
       "22.0   7.660170e-04   230         1.594248e+06              0.846258   \n",
       "23.0   7.215265e-04   240         1.044977e+06              0.705044   \n",
       "24.0   6.747334e-04   250         8.900224e+05              0.756685   \n",
       "25.0   6.261239e-04   260         1.322245e+06              1.060206   \n",
       "26.0   5.762034e-04   270         9.680588e+05              0.806078   \n",
       "27.0   5.254908e-04   280         8.104802e+05              0.592814   \n",
       "28.0   4.745132e-04   290         6.934142e+05              0.652751   \n",
       "29.0   4.238006e-04   300         6.312212e+05              0.830785   \n",
       "30.0   3.738801e-04   310         6.158080e+05              0.811130   \n",
       "31.0   3.252706e-04   320         5.026538e+05              0.882328   \n",
       "32.0   2.784775e-04   330         5.358614e+05              1.021165   \n",
       "33.0   2.339870e-04   340         4.337324e+05              0.652426   \n",
       "34.0   1.922618e-04   350         4.292516e+05              0.592870   \n",
       "35.0   1.537355e-04   360         3.792235e+05              0.817718   \n",
       "36.0   1.188087e-04   370         3.768948e+05              0.667097   \n",
       "37.0   8.784429e-05   380         3.865840e+05              0.715568   \n",
       "38.0   6.116426e-05   390         3.213564e+05              0.822219   \n",
       "39.0   3.904592e-05   400         4.139820e+05              0.853965   \n",
       "40.0   2.171919e-05   410         3.982526e+05              0.878409   \n",
       "41.0   9.364177e-06   420         2.995382e+05              0.827018   \n",
       "42.0   2.109313e-06   430         2.908148e+05              0.811297   \n",
       "43.0   4.000000e-09   439         3.534828e+05              1.173390   \n",
       "\n",
       "       val/loss_rec_step  val/loss_pred_step   val/acc  val/auroc  \\\n",
       "epoch                                                               \n",
       "0.0         3.816910e+08            0.686484  0.545455   0.533651   \n",
       "1.0         3.816910e+08            0.686484  0.545455   0.533651   \n",
       "2.0         3.317749e+08            0.644732  0.545455   0.516626   \n",
       "3.0         1.574633e+08            0.708153  0.545455   0.474157   \n",
       "4.0         5.625778e+07            0.886880  0.545455   0.527908   \n",
       "5.0         2.308333e+07            0.675394  0.545455   0.578727   \n",
       "6.0         1.505474e+07            0.622179  0.545455   0.591279   \n",
       "7.0         1.336781e+07            0.622434  0.603896   0.627956   \n",
       "8.0         8.047390e+06            0.565876  0.655844   0.656762   \n",
       "9.0         5.932549e+06            0.573412  0.545455   0.603040   \n",
       "10.0        5.237754e+06            0.568813  0.545455   0.632517   \n",
       "11.0        3.988008e+06            0.568794  0.545455   0.610045   \n",
       "12.0        3.593997e+06            0.566123  0.545455   0.622317   \n",
       "13.0        3.337130e+06            0.554257  0.545455   0.627403   \n",
       "14.0        6.692606e+06            0.577623  0.545455   0.616101   \n",
       "15.0        4.823332e+06            0.549818  0.545455   0.633912   \n",
       "16.0        3.629164e+06            0.547892  0.551948   0.636087   \n",
       "17.0        2.709408e+06            0.549273  0.545455   0.622224   \n",
       "18.0        1.855364e+06            0.542629  0.551948   0.617752   \n",
       "19.0        2.465458e+06            0.540848  0.558442   0.625265   \n",
       "20.0        2.004058e+06            0.540725  0.610390   0.618821   \n",
       "21.0        1.479407e+06            0.544878  0.610390   0.625852   \n",
       "22.0        1.211440e+06            0.546311  0.603896   0.610445   \n",
       "23.0        1.128485e+06            0.544227  0.571429   0.614243   \n",
       "24.0        1.109827e+06            0.540023  0.603896   0.614374   \n",
       "25.0        1.006332e+06            0.543075  0.590909   0.610293   \n",
       "26.0        9.312351e+05            0.542950  0.597403   0.614506   \n",
       "27.0        7.686469e+05            0.545152  0.564935   0.610218   \n",
       "28.0        6.725266e+05            0.545228  0.577922   0.606617   \n",
       "29.0        5.965037e+05            0.545902  0.597403   0.605128   \n",
       "30.0        5.954780e+05            0.547620  0.597403   0.609127   \n",
       "31.0        5.755126e+05            0.545746  0.597403   0.612583   \n",
       "32.0        5.512602e+05            0.545412  0.590909   0.608515   \n",
       "33.0        5.471139e+05            0.547181  0.597403   0.607029   \n",
       "34.0        5.305823e+05            0.547238  0.590909   0.605722   \n",
       "35.0        4.827171e+05            0.548104  0.597403   0.606436   \n",
       "36.0        4.582332e+05            0.547882  0.590909   0.606784   \n",
       "37.0        4.507610e+05            0.547972  0.590909   0.606784   \n",
       "38.0        4.417471e+05            0.547974  0.590909   0.606784   \n",
       "39.0        4.352016e+05            0.548290  0.584416   0.605884   \n",
       "40.0        4.344997e+05            0.548209  0.584416   0.606784   \n",
       "41.0        4.269576e+05            0.548687  0.584416   0.607196   \n",
       "42.0        4.252539e+05            0.548184  0.584416   0.606709   \n",
       "43.0        4.237027e+05            0.548412  0.584416   0.606334   \n",
       "\n",
       "        val/l1_loss  val/loss_rec_epoch  val/n  val/loss_pred_epoch  \\\n",
       "epoch                                                                 \n",
       "0.0      263.837982        3.706850e+08  154.0             0.691207   \n",
       "1.0      263.837982        3.706850e+08  154.0             0.691207   \n",
       "2.0    14330.367188        3.224812e+08  154.0             0.701648   \n",
       "3.0    32191.996094        1.550687e+08  154.0             0.844235   \n",
       "4.0    34792.953125        5.977599e+07  154.0             1.101779   \n",
       "5.0    33043.656250        2.808532e+07  154.0             0.804474   \n",
       "6.0    29102.460938        1.973319e+07  154.0             0.697333   \n",
       "7.0    26456.726562        1.708039e+07  154.0             0.678941   \n",
       "8.0    25767.994141        1.007904e+07  154.0             0.736531   \n",
       "9.0    25134.970703        7.351294e+06  154.0             0.824531   \n",
       "10.0   23315.328125        6.221246e+06  154.0             0.793456   \n",
       "11.0   22764.431641        4.441300e+06  154.0             0.811575   \n",
       "12.0   20896.406250        3.787677e+06  154.0             0.809658   \n",
       "13.0   20568.312500        3.410535e+06  154.0             0.802582   \n",
       "14.0   19375.740234        6.623621e+06  154.0             0.835594   \n",
       "15.0   19273.210938        4.776534e+06  154.0             0.803631   \n",
       "16.0   18910.369141        3.645812e+06  154.0             0.806723   \n",
       "17.0   18459.666016        2.675671e+06  154.0             0.812109   \n",
       "18.0   18780.138672        1.839965e+06  154.0             0.801879   \n",
       "19.0   18306.343750        2.431715e+06  154.0             0.796769   \n",
       "20.0   17318.351562        2.027601e+06  154.0             0.780261   \n",
       "21.0   16593.986328        1.494147e+06  154.0             0.782860   \n",
       "22.0   16486.642578        1.241548e+06  154.0             0.796351   \n",
       "23.0   16618.980469        1.150908e+06  154.0             0.807308   \n",
       "24.0   16882.974609        1.119542e+06  154.0             0.802029   \n",
       "25.0   16742.509766        1.031664e+06  154.0             0.797173   \n",
       "26.0   16723.929688        9.486651e+05  154.0             0.791804   \n",
       "27.0   16871.822266        7.822919e+05  154.0             0.798094   \n",
       "28.0   16686.488281        6.916299e+05  154.0             0.797690   \n",
       "29.0   16615.093750        6.182919e+05  154.0             0.807065   \n",
       "30.0   16421.224609        6.079666e+05  154.0             0.809536   \n",
       "31.0   16371.536133        5.895918e+05  154.0             0.808724   \n",
       "32.0   16445.667969        5.586182e+05  154.0             0.805811   \n",
       "33.0   16501.230469        5.572502e+05  154.0             0.807427   \n",
       "34.0   16241.392578        5.441442e+05  154.0             0.809580   \n",
       "35.0   16467.273438        4.943539e+05  154.0             0.810495   \n",
       "36.0   16345.389648        4.698886e+05  154.0             0.811673   \n",
       "37.0   16349.131836        4.626281e+05  154.0             0.812814   \n",
       "38.0   16373.613281        4.567294e+05  154.0             0.812972   \n",
       "39.0   16443.818359        4.453313e+05  154.0             0.814080   \n",
       "40.0   16412.304688        4.452476e+05  154.0             0.814228   \n",
       "41.0   16423.503906        4.371449e+05  154.0             0.814696   \n",
       "42.0   16445.042969        4.350918e+05  154.0             0.814739   \n",
       "43.0   16439.324219        4.340846e+05  154.0             0.814749   \n",
       "\n",
       "        val/l2_loss  train/n  train/l1_loss  train/loss_rec_epoch  \\\n",
       "epoch                                                               \n",
       "0.0    3.706849e+08    307.0     264.040283          3.732675e+08   \n",
       "1.0    3.706849e+08    307.0     264.040283          3.732675e+08   \n",
       "2.0    3.224741e+08    307.0    4595.383789          3.629691e+08   \n",
       "3.0    1.550526e+08    307.0   22527.847656          2.502060e+08   \n",
       "4.0    5.975859e+07    307.0   35598.894531          1.157351e+08   \n",
       "5.0    2.806880e+07    307.0   33114.066406          4.238476e+07   \n",
       "6.0    1.971864e+07    307.0   30857.492188          2.239125e+07   \n",
       "7.0    1.706716e+07    307.0   27715.544922          1.720435e+07   \n",
       "8.0    1.006615e+07    307.0   25937.605469          1.255362e+07   \n",
       "9.0    7.338727e+06    307.0   25082.312500          7.819019e+06   \n",
       "10.0   6.209588e+06    307.0   24154.738281          5.677129e+06   \n",
       "11.0   4.429918e+06    307.0   22907.306641          4.982404e+06   \n",
       "12.0   3.777228e+06    307.0   21869.498047          4.120415e+06   \n",
       "13.0   3.400250e+06    307.0   20941.789062          4.005956e+06   \n",
       "14.0   6.613933e+06    307.0   19953.783203          3.563622e+06   \n",
       "15.0   4.766898e+06    307.0   18918.632812          4.579110e+06   \n",
       "16.0   3.636357e+06    307.0   18256.263672          3.389480e+06   \n",
       "17.0   2.666441e+06    307.0   18122.337891          2.857502e+06   \n",
       "18.0   1.830574e+06    307.0   18093.642578          2.188337e+06   \n",
       "19.0   2.422562e+06    307.0   18212.863281          1.822544e+06   \n",
       "20.0   2.018942e+06    307.0   17922.779297          2.492584e+06   \n",
       "21.0   1.485850e+06    307.0   17289.257812          1.784791e+06   \n",
       "22.0   1.233305e+06    307.0   16997.818359          1.379766e+06   \n",
       "23.0   1.142599e+06    307.0   17051.990234          1.133017e+06   \n",
       "24.0   1.111101e+06    307.0   17186.554688          1.004206e+06   \n",
       "25.0   1.023292e+06    307.0   17167.945312          1.025479e+06   \n",
       "26.0   9.403032e+05    307.0   17050.216797          9.728478e+05   \n",
       "27.0   7.738559e+05    307.0   16890.978516          8.349296e+05   \n",
       "28.0   6.832866e+05    307.0   16763.529297          6.711576e+05   \n",
       "29.0   6.099844e+05    307.0   16666.199219          6.119573e+05   \n",
       "30.0   5.997560e+05    307.0   16596.595703          5.508364e+05   \n",
       "31.0   5.814060e+05    307.0   16531.132812          5.186879e+05   \n",
       "32.0   5.503953e+05    307.0   16459.632812          5.221199e+05   \n",
       "33.0   5.489996e+05    307.0   16438.089844          4.755563e+05   \n",
       "34.0   5.360235e+05    307.0   16457.912109          4.562494e+05   \n",
       "35.0   4.861202e+05    307.0   16426.304688          4.210021e+05   \n",
       "36.0   4.617158e+05    307.0   16471.261719          3.986209e+05   \n",
       "37.0   4.544535e+05    307.0   16462.720703          3.807290e+05   \n",
       "38.0   4.485426e+05    307.0   16485.037109          3.719832e+05   \n",
       "39.0   4.371093e+05    307.0   16492.220703          3.653067e+05   \n",
       "40.0   4.370414e+05    307.0   16507.814453          3.598098e+05   \n",
       "41.0   4.289332e+05    307.0   16514.064453          3.531663e+05   \n",
       "42.0   4.268692e+05    307.0   16518.646484          3.478771e+05   \n",
       "43.0   4.258649e+05    307.0   16522.308594          3.450000e+05   \n",
       "\n",
       "       train/l2_loss  train/auroc  train/loss_pred_epoch  train/acc  \n",
       "epoch                                                                \n",
       "0.0     3.732674e+08     0.624219               0.691203   0.537459  \n",
       "1.0     3.732673e+08     0.636095               0.691203   0.537459  \n",
       "2.0     3.629668e+08     0.501944               0.693477   0.537459  \n",
       "3.0     2.501947e+08     0.476366               0.754405   0.537459  \n",
       "4.0     1.157173e+08     0.539219               1.014312   0.537459  \n",
       "5.0     4.236821e+07     0.572221               1.015193   0.537459  \n",
       "6.0     2.237582e+07     0.639241               0.731147   0.537459  \n",
       "7.0     1.719049e+07     0.645903               0.686152   0.537459  \n",
       "8.0     1.254065e+07     0.641810               0.680101   0.573290  \n",
       "9.0     7.806478e+06     0.633990               0.742129   0.530945  \n",
       "10.0    5.665052e+06     0.628144               0.770468   0.534202  \n",
       "11.0    4.970950e+06     0.626170               0.764871   0.537459  \n",
       "12.0    4.109480e+06     0.621298               0.768988   0.537459  \n",
       "13.0    3.995484e+06     0.627245               0.765890   0.537459  \n",
       "14.0    3.553646e+06     0.620974               0.771836   0.537459  \n",
       "15.0    4.569650e+06     0.616488               0.778858   0.537459  \n",
       "16.0    3.380352e+06     0.602099               0.771206   0.537459  \n",
       "17.0    2.848441e+06     0.615683               0.774138   0.534202  \n",
       "18.0    2.179290e+06     0.596582               0.778603   0.537459  \n",
       "19.0    1.813438e+06     0.609231               0.772705   0.530945  \n",
       "20.0    2.483623e+06     0.606371               0.759984   0.537459  \n",
       "21.0    1.776146e+06     0.613459               0.748758   0.534202  \n",
       "22.0    1.371267e+06     0.619787               0.755564   0.547231  \n",
       "23.0    1.124490e+06     0.593816               0.774485   0.530945  \n",
       "24.0    9.956129e+05     0.591673               0.775348   0.530945  \n",
       "25.0    1.016895e+06     0.601642               0.769135   0.527687  \n",
       "26.0    9.643225e+05     0.616794               0.762657   0.557003  \n",
       "27.0    8.264841e+05     0.608629               0.768119   0.557003  \n",
       "28.0    6.627759e+05     0.621238               0.768572   0.540717  \n",
       "29.0    6.036242e+05     0.598915               0.769204   0.537459  \n",
       "30.0    5.425382e+05     0.605050               0.774538   0.537459  \n",
       "31.0    5.104223e+05     0.608053               0.777326   0.537459  \n",
       "32.0    5.138900e+05     0.611849               0.774287   0.534202  \n",
       "33.0    4.673373e+05     0.610291               0.773806   0.543974  \n",
       "34.0    4.480204e+05     0.605497               0.777296   0.543974  \n",
       "35.0    4.127889e+05     0.604517               0.777446   0.537459  \n",
       "36.0    3.903852e+05     0.590348               0.778197   0.537459  \n",
       "37.0    3.724977e+05     0.601214               0.778841   0.534202  \n",
       "38.0    3.637408e+05     0.599264               0.779900   0.540717  \n",
       "39.0    3.570605e+05     0.600249               0.780551   0.540717  \n",
       "40.0    3.515558e+05     0.596583               0.781438   0.537459  \n",
       "41.0    3.449093e+05     0.595395               0.781261   0.534202  \n",
       "42.0    3.396178e+05     0.589857               0.781961   0.537459  \n",
       "43.0    3.367388e+05     0.595157               0.781976   0.534202  "
      ]
     },
     "metadata": {},
     "output_type": "display_data"
    }
   ],
   "source": [
    "net.ae_mode(0)\n",
    " \n",
    "lr_logger = LearningRateMonitor(logging_interval='step')\n",
    "trainer1 = pl.Trainer(\n",
    "    precision=\"16-mixed\",\n",
    "    gradient_clip_val=20,\n",
    "    # devices=2,\n",
    "    accelerator=\"auto\",\n",
    "    devices=\"1\",\n",
    "    max_epochs=max_epochs,# * VAE_EPOCH_MULT,\n",
    "    log_every_n_steps=1,\n",
    "    # enable_progress_bar=False, enable_model_summary=False\n",
    "    callbacks=[lr_logger],\n",
    ")\n",
    "\n",
    "# LOAD_CHECKPONT = Path('/media/wassname/SGIronWolf/projects5/elk/sgd_probes_are_lie_detectors/notebooks/lightning_logs/version_52/1_ae.ckpt')\n",
    "LOAD_CHECKPONT = None\n",
    "if LOAD_CHECKPONT:\n",
    "    PLAE.load_from_checkpoint(LOAD_CHECKPONT)\n",
    "else:\n",
    "    trainer1.fit(model=net, train_dataloaders=dl_train, \n",
    "                 val_dataloaders=dl_val # FIXME why does this slow it down with multiple processes?\n",
    "                );\n",
    "\n",
    "    df_hist, df_hist_step = read_metrics_csv(trainer1.logger.experiment.metrics_file_path)\n",
    "    plot_hist(df_hist, ['l2_loss', 'l1_loss', 'loss_rec'], logy=True)\n",
    "    plt.show()\n",
    "    plot_hist(df_hist_step, ['loss_rec_step'], logy=True)\n",
    "\n",
    "    display(df_hist)\n"
   ]
  },
  {
   "cell_type": "code",
   "execution_count": 27,
   "metadata": {},
   "outputs": [],
   "source": [
    "df_hist, df_hist_step = read_metrics_csv(trainer1.logger.experiment.metrics_file_path)"
   ]
  },
  {
   "cell_type": "code",
   "execution_count": 28,
   "metadata": {},
   "outputs": [
    {
     "data": {
      "text/plain": [
       "<Axes: xlabel='epoch'>"
      ]
     },
     "execution_count": 28,
     "metadata": {},
     "output_type": "execute_result"
    },
    {
     "data": {
      "image/png": "[encoded data removed]",
      "text/plain": [
       "<Figure size 640x480 with 1 Axes>"
      ]
     },
     "metadata": {},
     "output_type": "display_data"
    }
   ],
   "source": [
    "# Check the LR\n",
    "df_hist, df_hist_step = read_metrics_csv(trainer1.logger.experiment.metrics_file_path)\n",
    "df_hist['lr-AdamW'].plot()"
   ]
  },
  {
   "cell_type": "markdown",
   "metadata": {},
   "source": [
    "l2_loss ~= l1_loss * l1_coeff"
   ]
  },
  {
   "cell_type": "code",
   "execution_count": 29,
   "metadata": {},
   "outputs": [
    {
     "data": {
      "text/plain": [
       "0.5"
      ]
     },
     "execution_count": 29,
     "metadata": {},
     "output_type": "execute_result"
    }
   ],
   "source": [
    "l1_coeff"
   ]
  },
  {
   "cell_type": "code",
   "execution_count": 30,
   "metadata": {},
   "outputs": [
    {
     "data": {
      "text/html": [
       "<div>\n",
       "<style scoped>\n",
       "    .dataframe tbody tr th:only-of-type {\n",
       "        vertical-align: middle;\n",
       "    }\n",
       "\n",
       "    .dataframe tbody tr th {\n",
       "        vertical-align: top;\n",
       "    }\n",
       "\n",
       "    .dataframe thead th {\n",
       "        text-align: right;\n",
       "    }\n",
       "</style>\n",
       "<table border=\"1\" class=\"dataframe\">\n",
       "  <thead>\n",
       "    <tr style=\"text-align: right;\">\n",
       "      <th></th>\n",
       "      <th>train/l2_loss</th>\n",
       "      <th>train/l1_loss</th>\n",
       "    </tr>\n",
       "    <tr>\n",
       "      <th>epoch</th>\n",
       "      <th></th>\n",
       "      <th></th>\n",
       "    </tr>\n",
       "  </thead>\n",
       "  <tbody>\n",
       "    <tr>\n",
       "      <th>0.0</th>\n",
       "      <td>3.732674e+08</td>\n",
       "      <td>264.040283</td>\n",
       "    </tr>\n",
       "    <tr>\n",
       "      <th>1.0</th>\n",
       "      <td>3.732673e+08</td>\n",
       "      <td>264.040283</td>\n",
       "    </tr>\n",
       "    <tr>\n",
       "      <th>2.0</th>\n",
       "      <td>3.629668e+08</td>\n",
       "      <td>4595.383789</td>\n",
       "    </tr>\n",
       "    <tr>\n",
       "      <th>3.0</th>\n",
       "      <td>2.501947e+08</td>\n",
       "      <td>22527.847656</td>\n",
       "    </tr>\n",
       "    <tr>\n",
       "      <th>4.0</th>\n",
       "      <td>1.157173e+08</td>\n",
       "      <td>35598.894531</td>\n",
       "    </tr>\n",
       "    <tr>\n",
       "      <th>5.0</th>\n",
       "      <td>4.236821e+07</td>\n",
       "      <td>33114.066406</td>\n",
       "    </tr>\n",
       "    <tr>\n",
       "      <th>6.0</th>\n",
       "      <td>2.237582e+07</td>\n",
       "      <td>30857.492188</td>\n",
       "    </tr>\n",
       "    <tr>\n",
       "      <th>7.0</th>\n",
       "      <td>1.719049e+07</td>\n",
       "      <td>27715.544922</td>\n",
       "    </tr>\n",
       "    <tr>\n",
       "      <th>8.0</th>\n",
       "      <td>1.254065e+07</td>\n",
       "      <td>25937.605469</td>\n",
       "    </tr>\n",
       "    <tr>\n",
       "      <th>9.0</th>\n",
       "      <td>7.806478e+06</td>\n",
       "      <td>25082.312500</td>\n",
       "    </tr>\n",
       "    <tr>\n",
       "      <th>10.0</th>\n",
       "      <td>5.665052e+06</td>\n",
       "      <td>24154.738281</td>\n",
       "    </tr>\n",
       "    <tr>\n",
       "      <th>11.0</th>\n",
       "      <td>4.970950e+06</td>\n",
       "      <td>22907.306641</td>\n",
       "    </tr>\n",
       "    <tr>\n",
       "      <th>12.0</th>\n",
       "      <td>4.109480e+06</td>\n",
       "      <td>21869.498047</td>\n",
       "    </tr>\n",
       "    <tr>\n",
       "      <th>13.0</th>\n",
       "      <td>3.995484e+06</td>\n",
       "      <td>20941.789062</td>\n",
       "    </tr>\n",
       "    <tr>\n",
       "      <th>14.0</th>\n",
       "      <td>3.553646e+06</td>\n",
       "      <td>19953.783203</td>\n",
       "    </tr>\n",
       "    <tr>\n",
       "      <th>15.0</th>\n",
       "      <td>4.569650e+06</td>\n",
       "      <td>18918.632812</td>\n",
       "    </tr>\n",
       "    <tr>\n",
       "      <th>16.0</th>\n",
       "      <td>3.380352e+06</td>\n",
       "      <td>18256.263672</td>\n",
       "    </tr>\n",
       "    <tr>\n",
       "      <th>17.0</th>\n",
       "      <td>2.848441e+06</td>\n",
       "      <td>18122.337891</td>\n",
       "    </tr>\n",
       "    <tr>\n",
       "      <th>18.0</th>\n",
       "      <td>2.179290e+06</td>\n",
       "      <td>18093.642578</td>\n",
       "    </tr>\n",
       "    <tr>\n",
       "      <th>19.0</th>\n",
       "      <td>1.813438e+06</td>\n",
       "      <td>18212.863281</td>\n",
       "    </tr>\n",
       "    <tr>\n",
       "      <th>20.0</th>\n",
       "      <td>2.483623e+06</td>\n",
       "      <td>17922.779297</td>\n",
       "    </tr>\n",
       "    <tr>\n",
       "      <th>21.0</th>\n",
       "      <td>1.776146e+06</td>\n",
       "      <td>17289.257812</td>\n",
       "    </tr>\n",
       "    <tr>\n",
       "      <th>22.0</th>\n",
       "      <td>1.371267e+06</td>\n",
       "      <td>16997.818359</td>\n",
       "    </tr>\n",
       "    <tr>\n",
       "      <th>23.0</th>\n",
       "      <td>1.124490e+06</td>\n",
       "      <td>17051.990234</td>\n",
       "    </tr>\n",
       "    <tr>\n",
       "      <th>24.0</th>\n",
       "      <td>9.956129e+05</td>\n",
       "      <td>17186.554688</td>\n",
       "    </tr>\n",
       "    <tr>\n",
       "      <th>25.0</th>\n",
       "      <td>1.016895e+06</td>\n",
       "      <td>17167.945312</td>\n",
       "    </tr>\n",
       "    <tr>\n",
       "      <th>26.0</th>\n",
       "      <td>9.643225e+05</td>\n",
       "      <td>17050.216797</td>\n",
       "    </tr>\n",
       "    <tr>\n",
       "      <th>27.0</th>\n",
       "      <td>8.264841e+05</td>\n",
       "      <td>16890.978516</td>\n",
       "    </tr>\n",
       "    <tr>\n",
       "      <th>28.0</th>\n",
       "      <td>6.627759e+05</td>\n",
       "      <td>16763.529297</td>\n",
       "    </tr>\n",
       "    <tr>\n",
       "      <th>29.0</th>\n",
       "      <td>6.036242e+05</td>\n",
       "      <td>16666.199219</td>\n",
       "    </tr>\n",
       "    <tr>\n",
       "      <th>30.0</th>\n",
       "      <td>5.425382e+05</td>\n",
       "      <td>16596.595703</td>\n",
       "    </tr>\n",
       "    <tr>\n",
       "      <th>31.0</th>\n",
       "      <td>5.104223e+05</td>\n",
       "      <td>16531.132812</td>\n",
       "    </tr>\n",
       "    <tr>\n",
       "      <th>32.0</th>\n",
       "      <td>5.138900e+05</td>\n",
       "      <td>16459.632812</td>\n",
       "    </tr>\n",
       "    <tr>\n",
       "      <th>33.0</th>\n",
       "      <td>4.673373e+05</td>\n",
       "      <td>16438.089844</td>\n",
       "    </tr>\n",
       "    <tr>\n",
       "      <th>34.0</th>\n",
       "      <td>4.480204e+05</td>\n",
       "      <td>16457.912109</td>\n",
       "    </tr>\n",
       "    <tr>\n",
       "      <th>35.0</th>\n",
       "      <td>4.127889e+05</td>\n",
       "      <td>16426.304688</td>\n",
       "    </tr>\n",
       "    <tr>\n",
       "      <th>36.0</th>\n",
       "      <td>3.903852e+05</td>\n",
       "      <td>16471.261719</td>\n",
       "    </tr>\n",
       "    <tr>\n",
       "      <th>37.0</th>\n",
       "      <td>3.724977e+05</td>\n",
       "      <td>16462.720703</td>\n",
       "    </tr>\n",
       "    <tr>\n",
       "      <th>38.0</th>\n",
       "      <td>3.637408e+05</td>\n",
       "      <td>16485.037109</td>\n",
       "    </tr>\n",
       "    <tr>\n",
       "      <th>39.0</th>\n",
       "      <td>3.570605e+05</td>\n",
       "      <td>16492.220703</td>\n",
       "    </tr>\n",
       "    <tr>\n",
       "      <th>40.0</th>\n",
       "      <td>3.515558e+05</td>\n",
       "      <td>16507.814453</td>\n",
       "    </tr>\n",
       "    <tr>\n",
       "      <th>41.0</th>\n",
       "      <td>3.449093e+05</td>\n",
       "      <td>16514.064453</td>\n",
       "    </tr>\n",
       "    <tr>\n",
       "      <th>42.0</th>\n",
       "      <td>3.396178e+05</td>\n",
       "      <td>16518.646484</td>\n",
       "    </tr>\n",
       "    <tr>\n",
       "      <th>43.0</th>\n",
       "      <td>3.367388e+05</td>\n",
       "      <td>16522.308594</td>\n",
       "    </tr>\n",
       "  </tbody>\n",
       "</table>\n",
       "</div>"
      ],
      "text/plain": [
       "       train/l2_loss  train/l1_loss\n",
       "epoch                              \n",
       "0.0     3.732674e+08     264.040283\n",
       "1.0     3.732673e+08     264.040283\n",
       "2.0     3.629668e+08    4595.383789\n",
       "3.0     2.501947e+08   22527.847656\n",
       "4.0     1.157173e+08   35598.894531\n",
       "5.0     4.236821e+07   33114.066406\n",
       "6.0     2.237582e+07   30857.492188\n",
       "7.0     1.719049e+07   27715.544922\n",
       "8.0     1.254065e+07   25937.605469\n",
       "9.0     7.806478e+06   25082.312500\n",
       "10.0    5.665052e+06   24154.738281\n",
       "11.0    4.970950e+06   22907.306641\n",
       "12.0    4.109480e+06   21869.498047\n",
       "13.0    3.995484e+06   20941.789062\n",
       "14.0    3.553646e+06   19953.783203\n",
       "15.0    4.569650e+06   18918.632812\n",
       "16.0    3.380352e+06   18256.263672\n",
       "17.0    2.848441e+06   18122.337891\n",
       "18.0    2.179290e+06   18093.642578\n",
       "19.0    1.813438e+06   18212.863281\n",
       "20.0    2.483623e+06   17922.779297\n",
       "21.0    1.776146e+06   17289.257812\n",
       "22.0    1.371267e+06   16997.818359\n",
       "23.0    1.124490e+06   17051.990234\n",
       "24.0    9.956129e+05   17186.554688\n",
       "25.0    1.016895e+06   17167.945312\n",
       "26.0    9.643225e+05   17050.216797\n",
       "27.0    8.264841e+05   16890.978516\n",
       "28.0    6.627759e+05   16763.529297\n",
       "29.0    6.036242e+05   16666.199219\n",
       "30.0    5.425382e+05   16596.595703\n",
       "31.0    5.104223e+05   16531.132812\n",
       "32.0    5.138900e+05   16459.632812\n",
       "33.0    4.673373e+05   16438.089844\n",
       "34.0    4.480204e+05   16457.912109\n",
       "35.0    4.127889e+05   16426.304688\n",
       "36.0    3.903852e+05   16471.261719\n",
       "37.0    3.724977e+05   16462.720703\n",
       "38.0    3.637408e+05   16485.037109\n",
       "39.0    3.570605e+05   16492.220703\n",
       "40.0    3.515558e+05   16507.814453\n",
       "41.0    3.449093e+05   16514.064453\n",
       "42.0    3.396178e+05   16518.646484\n",
       "43.0    3.367388e+05   16522.308594"
      ]
     },
     "execution_count": 30,
     "metadata": {},
     "output_type": "execute_result"
    }
   ],
   "source": [
    "df_hist[['train/l2_loss','train/l1_loss']]"
   ]
  },
  {
   "cell_type": "code",
   "execution_count": 31,
   "metadata": {},
   "outputs": [
    {
     "name": "stdout",
     "output_type": "stream",
     "text": [
      "l1 coeff should be approx\n"
     ]
    },
    {
     "data": {
      "text/plain": [
       "133043.64397087775"
      ]
     },
     "execution_count": 31,
     "metadata": {},
     "output_type": "execute_result"
    }
   ],
   "source": [
    "print('l1 coeff should be approx')\n",
    "ratio = df_hist['train/l2_loss']/df_hist['train/l1_loss']\n",
    "ratio = ratio[np.isfinite(ratio)]\n",
    "ratio.mean()/l1_coeff\n"
   ]
  },
  {
   "cell_type": "code",
   "execution_count": 32,
   "metadata": {},
   "outputs": [],
   "source": [
    "# ((latent>0)*1.0).mean()"
   ]
  },
  {
   "cell_type": "markdown",
   "metadata": {},
   "source": []
  },
  {
   "cell_type": "markdown",
   "metadata": {},
   "source": [
    "5/10 [00:04<00:04, 1.10it/s, v_num=295, val/loss_pred=0.0849, val/loss_rec=9.58e+5, train/loss_pred=0.350, train/loss_rec=9.8e+5]\n"
   ]
  },
  {
   "cell_type": "code",
   "execution_count": 33,
   "metadata": {},
   "outputs": [
    {
     "data": {
      "image/png": "[encoded data removed]",
      "text/plain": [
       "<Figure size 640x480 with 8 Axes>"
      ]
     },
     "metadata": {},
     "output_type": "display_data"
    },
    {
     "data": {
      "image/png": "[encoded data removed]",
      "text/plain": [
       "<Figure size 640x480 with 1 Axes>"
      ]
     },
     "metadata": {},
     "output_type": "display_data"
    }
   ],
   "source": [
    "# visualize latent space\n",
    "from matplotlib import cm\n",
    "\n",
    "\n",
    "def plot_latent(latent):\n",
    "\n",
    "    # plot image of latent space\n",
    "    vmax = latent.abs().max()\n",
    "    for i in range(4):\n",
    "        plt.subplot(2, 2, i + 1)\n",
    "        vmax = latent[i].abs().max()\n",
    "        plt.imshow(\n",
    "            latent[i],\n",
    "            cmap=cm.coolwarm,\n",
    "            interpolation=\"none\",\n",
    "            aspect=\"auto\",\n",
    "            vmin=-vmax,\n",
    "            vmax=vmax,\n",
    "        )\n",
    "        plt.xlabel(\"layer\")\n",
    "        plt.ylabel(\"neuron\")\n",
    "        if i < 2:\n",
    "            plt.xlabel(\"\")\n",
    "            plt.xticks([])\n",
    "        if i % 2 == 1:\n",
    "            plt.ylabel(\"\")\n",
    "            plt.yticks([])\n",
    "        plt.grid(False)\n",
    "        plt.colorbar()\n",
    "    # plt.colorbar()\n",
    "    plt.subplots_adjust(wspace=0.05, hspace=0.05)\n",
    "    plt.show()\n",
    "\n",
    "    # histogram\n",
    "    latentf = rearrange(latent, \"b n l -> (b n) l\").flatten()\n",
    "    vmax = (latentf.abs().mean() + 5 * latentf.abs().std()).item()\n",
    "    plt.hist(latentf, bins=55, range=[-vmax, vmax], histtype=\"step\")\n",
    "    plt.title(\"latents by layer\")\n",
    "    plt.show()\n",
    "\n",
    "\n",
    "latent = y[\"latent\"].cpu()  # .reshape(64, 24, 12) # [Batch, Latent, Layer]\n",
    "plot_latent(latent)\n"
   ]
  },
  {
   "cell_type": "code",
   "execution_count": 34,
   "metadata": {},
   "outputs": [
    {
     "data": {
      "text/plain": [
       "(torch.Size([32, 7, 256]), tensor(0.7619), tensor(0.4899), tensor(0.6304), 112)"
      ]
     },
     "execution_count": 34,
     "metadata": {},
     "output_type": "execute_result"
    }
   ],
   "source": [
    "latent.shape, latent.diff(dim=1).std(), latent.std(), latent.diff(dim=2).std(), 16*7"
   ]
  },
  {
   "cell_type": "markdown",
   "metadata": {},
   "source": [
    "### Train probe"
   ]
  },
  {
   "cell_type": "code",
   "execution_count": 35,
   "metadata": {},
   "outputs": [],
   "source": [
    "# # net.save_checkpoint\n",
    "# f = Path(trainer1.log_dir)/\"1_ae.ckpt\"\n",
    "# trainer1.save_checkpoint(f)\n",
    "# # PosixPath('/media/wassname/SGIronWolf/projects5/elk/sgd_probes_are_lie_detectors/notebooks/lightning_logs/version_52/1_ae.ckpt')\n",
    "# f"
   ]
  },
  {
   "cell_type": "code",
   "execution_count": 36,
   "metadata": {},
   "outputs": [],
   "source": [
    "# net.configure_optimizers()"
   ]
  },
  {
   "cell_type": "code",
   "execution_count": 37,
   "metadata": {},
   "outputs": [
    {
     "data": {
      "application/vnd.jupyter.widget-view+json": {
       "model_id": "312fab950bc247a5b52b4d4970f032af",
       "version_major": 2,
       "version_minor": 0
      },
      "text/plain": [
       "  0%|          | 0/10 [00:00<?, ?it/s]"
      ]
     },
     "metadata": {},
     "output_type": "display_data"
    },
    {
     "name": "stdout",
     "output_type": "stream",
     "text": [
      "CPU times: user 496 ms, sys: 0 ns, total: 496 ms\n",
      "Wall time: 47.4 ms\n"
     ]
    }
   ],
   "source": [
    "%%time\n",
    "for b in tqdm(dl_train):\n",
    "    pass"
   ]
  },
  {
   "cell_type": "code",
   "execution_count": 38,
   "metadata": {},
   "outputs": [
    {
     "data": {
      "application/vnd.jupyter.widget-view+json": {
       "model_id": "2d9803609afc45029c62d4d3f2dcba27",
       "version_major": 2,
       "version_minor": 0
      },
      "text/plain": [
       "  0%|          | 0/10 [00:00<?, ?it/s]"
      ]
     },
     "metadata": {},
     "output_type": "display_data"
    },
    {
     "name": "stdout",
     "output_type": "stream",
     "text": [
      "CPU times: user 5.15 s, sys: 0 ns, total: 5.15 s\n",
      "Wall time: 436 ms\n"
     ]
    }
   ],
   "source": [
    "%%time\n",
    "for b in tqdm(dl_train):\n",
    "    y = net.predict_step(b)"
   ]
  },
  {
   "cell_type": "code",
   "execution_count": 39,
   "metadata": {},
   "outputs": [],
   "source": [
    "\n",
    "# # debug\n",
    "# with torch.no_grad():\n",
    "#     b = next(iter(dl_train))\n",
    "#     y = net.predict_step(b)"
   ]
  },
  {
   "cell_type": "code",
   "execution_count": 40,
   "metadata": {},
   "outputs": [
    {
     "name": "stderr",
     "output_type": "stream",
     "text": [
      "Trainer will use only 1 of 2 GPUs because it is running inside an interactive / notebook environment. You may try to set `Trainer(devices=2)` but please note that multi-GPU inside interactive / notebook environments is considered experimental and unstable. Your mileage may vary.\n",
      "GPU available: True (cuda), used: True\n",
      "TPU available: False, using: 0 TPU cores\n",
      "IPU available: False, using: 0 IPUs\n",
      "HPU available: False, using: 0 HPUs\n",
      "LOCAL_RANK: 0 - CUDA_VISIBLE_DEVICES: [0,1]\n",
      "\n",
      "  | Name | Type        | Params\n",
      "-------------------------------------\n",
      "0 | ae   | AutoEncoder | 82.7 M\n",
      "1 | head | Sequential  | 4.1 M \n",
      "-------------------------------------\n",
      "4.1 M     Trainable params\n",
      "82.7 M    Non-trainable params\n",
      "86.8 M    Total params\n",
      "347.287   Total estimated model params size (MB)\n"
     ]
    },
    {
     "name": "stdout",
     "output_type": "stream",
     "text": [
      "training probe\n",
      "requires_grad: False\n"
     ]
    },
    {
     "data": {
      "application/vnd.jupyter.widget-view+json": {
       "model_id": "5f2b8d3f2d444ba692ae08dbc096dcd4",
       "version_major": 2,
       "version_minor": 0
      },
      "text/plain": [
       "Sanity Checking: |          | 0/? [00:00<?, ?it/s]"
      ]
     },
     "metadata": {},
     "output_type": "display_data"
    },
    {
     "name": "stderr",
     "output_type": "stream",
     "text": [
      "/media/wassname/SGIronWolf/projects5/elk/sgd_probes_are_lie_detectors/.venv/lib/python3.11/site-packages/lightning/pytorch/trainer/connectors/data_connector.py:441: The 'val_dataloader' does not have many workers which may be a bottleneck. Consider increasing the value of the `num_workers` argument` to `num_workers=23` in the `DataLoader` to improve performance.\n",
      "/media/wassname/SGIronWolf/projects5/elk/sgd_probes_are_lie_detectors/.venv/lib/python3.11/site-packages/lightning/pytorch/trainer/connectors/data_connector.py:441: The 'train_dataloader' does not have many workers which may be a bottleneck. Consider increasing the value of the `num_workers` argument` to `num_workers=23` in the `DataLoader` to improve performance.\n"
     ]
    },
    {
     "data": {
      "application/vnd.jupyter.widget-view+json": {
       "model_id": "bab4858efadf4edb95af1452db839f35",
       "version_major": 2,
       "version_minor": 0
      },
      "text/plain": [
       "Training: |          | 0/? [00:00<?, ?it/s]"
      ]
     },
     "metadata": {},
     "output_type": "display_data"
    },
    {
     "data": {
      "application/vnd.jupyter.widget-view+json": {
       "model_id": "86c6a1bd22bc42069fc9dcddc061bc68",
       "version_major": 2,
       "version_minor": 0
      },
      "text/plain": [
       "Validation: |          | 0/? [00:00<?, ?it/s]"
      ]
     },
     "metadata": {},
     "output_type": "display_data"
    },
    {
     "data": {
      "application/vnd.jupyter.widget-view+json": {
       "model_id": "ddbd49cc3e9d4deb879d513a85633a33",
       "version_major": 2,
       "version_minor": 0
      },
      "text/plain": [
       "Validation: |          | 0/? [00:00<?, ?it/s]"
      ]
     },
     "metadata": {},
     "output_type": "display_data"
    },
    {
     "data": {
      "application/vnd.jupyter.widget-view+json": {
       "model_id": "e1baeaa4c0b842008607d7f0e4c45621",
       "version_major": 2,
       "version_minor": 0
      },
      "text/plain": [
       "Validation: |          | 0/? [00:00<?, ?it/s]"
      ]
     },
     "metadata": {},
     "output_type": "display_data"
    },
    {
     "data": {
      "application/vnd.jupyter.widget-view+json": {
       "model_id": "8c03a72d74c8441a8259d22776fa8bce",
       "version_major": 2,
       "version_minor": 0
      },
      "text/plain": [
       "Validation: |          | 0/? [00:00<?, ?it/s]"
      ]
     },
     "metadata": {},
     "output_type": "display_data"
    },
    {
     "data": {
      "application/vnd.jupyter.widget-view+json": {
       "model_id": "ab5a1dbaa91c4121a6401567ed2e8c93",
       "version_major": 2,
       "version_minor": 0
      },
      "text/plain": [
       "Validation: |          | 0/? [00:00<?, ?it/s]"
      ]
     },
     "metadata": {},
     "output_type": "display_data"
    },
    {
     "data": {
      "application/vnd.jupyter.widget-view+json": {
       "model_id": "41ea60adc61948c4a67f358b4956fd8e",
       "version_major": 2,
       "version_minor": 0
      },
      "text/plain": [
       "Validation: |          | 0/? [00:00<?, ?it/s]"
      ]
     },
     "metadata": {},
     "output_type": "display_data"
    },
    {
     "data": {
      "application/vnd.jupyter.widget-view+json": {
       "model_id": "0340b722467745e389ab1bf624488930",
       "version_major": 2,
       "version_minor": 0
      },
      "text/plain": [
       "Validation: |          | 0/? [00:00<?, ?it/s]"
      ]
     },
     "metadata": {},
     "output_type": "display_data"
    },
    {
     "data": {
      "application/vnd.jupyter.widget-view+json": {
       "model_id": "d6f7bb11d12c4a8cb71bb84e8d537f85",
       "version_major": 2,
       "version_minor": 0
      },
      "text/plain": [
       "Validation: |          | 0/? [00:00<?, ?it/s]"
      ]
     },
     "metadata": {},
     "output_type": "display_data"
    },
    {
     "data": {
      "application/vnd.jupyter.widget-view+json": {
       "model_id": "953132d2de714a91b798c0a0140df592",
       "version_major": 2,
       "version_minor": 0
      },
      "text/plain": [
       "Validation: |          | 0/? [00:00<?, ?it/s]"
      ]
     },
     "metadata": {},
     "output_type": "display_data"
    },
    {
     "data": {
      "application/vnd.jupyter.widget-view+json": {
       "model_id": "3a763e502efd4e1aa092ac6911825149",
       "version_major": 2,
       "version_minor": 0
      },
      "text/plain": [
       "Validation: |          | 0/? [00:00<?, ?it/s]"
      ]
     },
     "metadata": {},
     "output_type": "display_data"
    },
    {
     "data": {
      "application/vnd.jupyter.widget-view+json": {
       "model_id": "7eef1f6495524142bb00655d26acd734",
       "version_major": 2,
       "version_minor": 0
      },
      "text/plain": [
       "Validation: |          | 0/? [00:00<?, ?it/s]"
      ]
     },
     "metadata": {},
     "output_type": "display_data"
    },
    {
     "data": {
      "application/vnd.jupyter.widget-view+json": {
       "model_id": "9d4c8bccc4414d98b1a538aecbd15c98",
       "version_major": 2,
       "version_minor": 0
      },
      "text/plain": [
       "Validation: |          | 0/? [00:00<?, ?it/s]"
      ]
     },
     "metadata": {},
     "output_type": "display_data"
    },
    {
     "data": {
      "application/vnd.jupyter.widget-view+json": {
       "model_id": "fe3d137f7cd64c4cb3bd3d093b453708",
       "version_major": 2,
       "version_minor": 0
      },
      "text/plain": [
       "Validation: |          | 0/? [00:00<?, ?it/s]"
      ]
     },
     "metadata": {},
     "output_type": "display_data"
    },
    {
     "data": {
      "application/vnd.jupyter.widget-view+json": {
       "model_id": "b35e5c81fdc647dfbfd22a9c64a0c4a8",
       "version_major": 2,
       "version_minor": 0
      },
      "text/plain": [
       "Validation: |          | 0/? [00:00<?, ?it/s]"
      ]
     },
     "metadata": {},
     "output_type": "display_data"
    },
    {
     "data": {
      "application/vnd.jupyter.widget-view+json": {
       "model_id": "dec525984bb642a9a5cada438528283d",
       "version_major": 2,
       "version_minor": 0
      },
      "text/plain": [
       "Validation: |          | 0/? [00:00<?, ?it/s]"
      ]
     },
     "metadata": {},
     "output_type": "display_data"
    },
    {
     "data": {
      "application/vnd.jupyter.widget-view+json": {
       "model_id": "bdc58a9ab2e7421c90b74ffdf04930d7",
       "version_major": 2,
       "version_minor": 0
      },
      "text/plain": [
       "Validation: |          | 0/? [00:00<?, ?it/s]"
      ]
     },
     "metadata": {},
     "output_type": "display_data"
    },
    {
     "data": {
      "application/vnd.jupyter.widget-view+json": {
       "model_id": "24f6513cd00c46a99bca46a48cf94986",
       "version_major": 2,
       "version_minor": 0
      },
      "text/plain": [
       "Validation: |          | 0/? [00:00<?, ?it/s]"
      ]
     },
     "metadata": {},
     "output_type": "display_data"
    },
    {
     "data": {
      "application/vnd.jupyter.widget-view+json": {
       "model_id": "cfc0feed294b4ffeb38450c16d679acd",
       "version_major": 2,
       "version_minor": 0
      },
      "text/plain": [
       "Validation: |          | 0/? [00:00<?, ?it/s]"
      ]
     },
     "metadata": {},
     "output_type": "display_data"
    },
    {
     "data": {
      "application/vnd.jupyter.widget-view+json": {
       "model_id": "d815466bf1b54d12bfe9c813ab34b38d",
       "version_major": 2,
       "version_minor": 0
      },
      "text/plain": [
       "Validation: |          | 0/? [00:00<?, ?it/s]"
      ]
     },
     "metadata": {},
     "output_type": "display_data"
    },
    {
     "data": {
      "application/vnd.jupyter.widget-view+json": {
       "model_id": "b8f791ff2e7f4ec991123691d02b9d93",
       "version_major": 2,
       "version_minor": 0
      },
      "text/plain": [
       "Validation: |          | 0/? [00:00<?, ?it/s]"
      ]
     },
     "metadata": {},
     "output_type": "display_data"
    },
    {
     "data": {
      "application/vnd.jupyter.widget-view+json": {
       "model_id": "f89e2257297d4915a235a282d3bbdd2a",
       "version_major": 2,
       "version_minor": 0
      },
      "text/plain": [
       "Validation: |          | 0/? [00:00<?, ?it/s]"
      ]
     },
     "metadata": {},
     "output_type": "display_data"
    },
    {
     "data": {
      "application/vnd.jupyter.widget-view+json": {
       "model_id": "33a500feb45442af864b269eb49a18ed",
       "version_major": 2,
       "version_minor": 0
      },
      "text/plain": [
       "Validation: |          | 0/? [00:00<?, ?it/s]"
      ]
     },
     "metadata": {},
     "output_type": "display_data"
    },
    {
     "data": {
      "application/vnd.jupyter.widget-view+json": {
       "model_id": "f03b6f24619641ba98d204ad183dffcf",
       "version_major": 2,
       "version_minor": 0
      },
      "text/plain": [
       "Validation: |          | 0/? [00:00<?, ?it/s]"
      ]
     },
     "metadata": {},
     "output_type": "display_data"
    },
    {
     "data": {
      "application/vnd.jupyter.widget-view+json": {
       "model_id": "130faf7233e746b08504a6084e16659c",
       "version_major": 2,
       "version_minor": 0
      },
      "text/plain": [
       "Validation: |          | 0/? [00:00<?, ?it/s]"
      ]
     },
     "metadata": {},
     "output_type": "display_data"
    },
    {
     "data": {
      "application/vnd.jupyter.widget-view+json": {
       "model_id": "e0ccc971445d4ab3994438a406a79b82",
       "version_major": 2,
       "version_minor": 0
      },
      "text/plain": [
       "Validation: |          | 0/? [00:00<?, ?it/s]"
      ]
     },
     "metadata": {},
     "output_type": "display_data"
    },
    {
     "data": {
      "application/vnd.jupyter.widget-view+json": {
       "model_id": "7704c38ceba940e69c4037eb0984c4d5",
       "version_major": 2,
       "version_minor": 0
      },
      "text/plain": [
       "Validation: |          | 0/? [00:00<?, ?it/s]"
      ]
     },
     "metadata": {},
     "output_type": "display_data"
    },
    {
     "data": {
      "application/vnd.jupyter.widget-view+json": {
       "model_id": "6ba9b246d9f04f50a7e610cbc561f365",
       "version_major": 2,
       "version_minor": 0
      },
      "text/plain": [
       "Validation: |          | 0/? [00:00<?, ?it/s]"
      ]
     },
     "metadata": {},
     "output_type": "display_data"
    },
    {
     "data": {
      "application/vnd.jupyter.widget-view+json": {
       "model_id": "ac7cdebf9af94cea95c53877988db517",
       "version_major": 2,
       "version_minor": 0
      },
      "text/plain": [
       "Validation: |          | 0/? [00:00<?, ?it/s]"
      ]
     },
     "metadata": {},
     "output_type": "display_data"
    },
    {
     "data": {
      "application/vnd.jupyter.widget-view+json": {
       "model_id": "7eb466e5c5b4436bae2b8e1f3d338512",
       "version_major": 2,
       "version_minor": 0
      },
      "text/plain": [
       "Validation: |          | 0/? [00:00<?, ?it/s]"
      ]
     },
     "metadata": {},
     "output_type": "display_data"
    },
    {
     "data": {
      "application/vnd.jupyter.widget-view+json": {
       "model_id": "ce8dc2f72b154ea08136bb9910ad71df",
       "version_major": 2,
       "version_minor": 0
      },
      "text/plain": [
       "Validation: |          | 0/? [00:00<?, ?it/s]"
      ]
     },
     "metadata": {},
     "output_type": "display_data"
    },
    {
     "data": {
      "application/vnd.jupyter.widget-view+json": {
       "model_id": "0a3056d4dfe24ea7a387e7810d178631",
       "version_major": 2,
       "version_minor": 0
      },
      "text/plain": [
       "Validation: |          | 0/? [00:00<?, ?it/s]"
      ]
     },
     "metadata": {},
     "output_type": "display_data"
    },
    {
     "data": {
      "application/vnd.jupyter.widget-view+json": {
       "model_id": "4280632fa69d4852b9dbf18baca2b804",
       "version_major": 2,
       "version_minor": 0
      },
      "text/plain": [
       "Validation: |          | 0/? [00:00<?, ?it/s]"
      ]
     },
     "metadata": {},
     "output_type": "display_data"
    },
    {
     "data": {
      "application/vnd.jupyter.widget-view+json": {
       "model_id": "f669360daebf426aa88d25231897e2f5",
       "version_major": 2,
       "version_minor": 0
      },
      "text/plain": [
       "Validation: |          | 0/? [00:00<?, ?it/s]"
      ]
     },
     "metadata": {},
     "output_type": "display_data"
    },
    {
     "data": {
      "application/vnd.jupyter.widget-view+json": {
       "model_id": "f748d93b919f4f6b8219cb34868e72a6",
       "version_major": 2,
       "version_minor": 0
      },
      "text/plain": [
       "Validation: |          | 0/? [00:00<?, ?it/s]"
      ]
     },
     "metadata": {},
     "output_type": "display_data"
    },
    {
     "data": {
      "application/vnd.jupyter.widget-view+json": {
       "model_id": "8cd27426c0454a299e5231bb6aaccedb",
       "version_major": 2,
       "version_minor": 0
      },
      "text/plain": [
       "Validation: |          | 0/? [00:00<?, ?it/s]"
      ]
     },
     "metadata": {},
     "output_type": "display_data"
    },
    {
     "data": {
      "application/vnd.jupyter.widget-view+json": {
       "model_id": "a5b9c356459b40fdade3649066fd1303",
       "version_major": 2,
       "version_minor": 0
      },
      "text/plain": [
       "Validation: |          | 0/? [00:00<?, ?it/s]"
      ]
     },
     "metadata": {},
     "output_type": "display_data"
    },
    {
     "data": {
      "application/vnd.jupyter.widget-view+json": {
       "model_id": "0ef6c7f3f33c46929c73b02aa2937bd1",
       "version_major": 2,
       "version_minor": 0
      },
      "text/plain": [
       "Validation: |          | 0/? [00:00<?, ?it/s]"
      ]
     },
     "metadata": {},
     "output_type": "display_data"
    },
    {
     "data": {
      "application/vnd.jupyter.widget-view+json": {
       "model_id": "68911be536f0452c9e2f24115a77860c",
       "version_major": 2,
       "version_minor": 0
      },
      "text/plain": [
       "Validation: |          | 0/? [00:00<?, ?it/s]"
      ]
     },
     "metadata": {},
     "output_type": "display_data"
    },
    {
     "data": {
      "application/vnd.jupyter.widget-view+json": {
       "model_id": "a9efa646067d4685a0519bda87e3196b",
       "version_major": 2,
       "version_minor": 0
      },
      "text/plain": [
       "Validation: |          | 0/? [00:00<?, ?it/s]"
      ]
     },
     "metadata": {},
     "output_type": "display_data"
    },
    {
     "data": {
      "application/vnd.jupyter.widget-view+json": {
       "model_id": "fb37279bfbd34566a2d18cf0e1f3fcaf",
       "version_major": 2,
       "version_minor": 0
      },
      "text/plain": [
       "Validation: |          | 0/? [00:00<?, ?it/s]"
      ]
     },
     "metadata": {},
     "output_type": "display_data"
    },
    {
     "data": {
      "application/vnd.jupyter.widget-view+json": {
       "model_id": "c1b9998b2ff24c38b4254ee76f1c8779",
       "version_major": 2,
       "version_minor": 0
      },
      "text/plain": [
       "Validation: |          | 0/? [00:00<?, ?it/s]"
      ]
     },
     "metadata": {},
     "output_type": "display_data"
    },
    {
     "data": {
      "application/vnd.jupyter.widget-view+json": {
       "model_id": "2e55e0a255b648b4838bc57a95594ecc",
       "version_major": 2,
       "version_minor": 0
      },
      "text/plain": [
       "Validation: |          | 0/? [00:00<?, ?it/s]"
      ]
     },
     "metadata": {},
     "output_type": "display_data"
    },
    {
     "data": {
      "application/vnd.jupyter.widget-view+json": {
       "model_id": "0e161f526d8f4d058c8171a45cd48d06",
       "version_major": 2,
       "version_minor": 0
      },
      "text/plain": [
       "Validation: |          | 0/? [00:00<?, ?it/s]"
      ]
     },
     "metadata": {},
     "output_type": "display_data"
    },
    {
     "data": {
      "application/vnd.jupyter.widget-view+json": {
       "model_id": "78bb307710ed49728b17687eeb948e07",
       "version_major": 2,
       "version_minor": 0
      },
      "text/plain": [
       "Validation: |          | 0/? [00:00<?, ?it/s]"
      ]
     },
     "metadata": {},
     "output_type": "display_data"
    },
    {
     "name": "stderr",
     "output_type": "stream",
     "text": [
      "`Trainer.fit` stopped: `max_epochs=44` reached.\n"
     ]
    }
   ],
   "source": [
    "net.ae_mode(1)\n",
    "trainer2 = pl.Trainer(\n",
    "    # precision=\"16-mixed\",\n",
    "    gradient_clip_val=20,\n",
    "    max_epochs=max_epochs,\n",
    "    log_every_n_steps=1,\n",
    "    # enable_progress_bar=False, enable_model_summary=False\n",
    "    # callbacks=[lr_logger],\n",
    ")\n",
    "trainer2.fit(model=net, train_dataloaders=dl_train, \n",
    "             val_dataloaders=dl_val\n",
    "             );\n"
   ]
  },
  {
   "cell_type": "code",
   "execution_count": null,
   "metadata": {},
   "outputs": [],
   "source": []
  },
  {
   "cell_type": "code",
   "execution_count": 41,
   "metadata": {},
   "outputs": [
    {
     "data": {
      "image/png": "[encoded data removed]",
      "text/plain": [
       "<Figure size 640x480 with 1 Axes>"
      ]
     },
     "metadata": {},
     "output_type": "display_data"
    },
    {
     "data": {
      "image/png": "[encoded data removed]",
      "text/plain": [
       "<Figure size 640x480 with 1 Axes>"
      ]
     },
     "metadata": {},
     "output_type": "display_data"
    },
    {
     "data": {
      "text/html": [
       "<div>\n",
       "<style scoped>\n",
       "    .dataframe tbody tr th:only-of-type {\n",
       "        vertical-align: middle;\n",
       "    }\n",
       "\n",
       "    .dataframe tbody tr th {\n",
       "        vertical-align: top;\n",
       "    }\n",
       "\n",
       "    .dataframe thead th {\n",
       "        text-align: right;\n",
       "    }\n",
       "</style>\n",
       "<table border=\"1\" class=\"dataframe\">\n",
       "  <thead>\n",
       "    <tr style=\"text-align: right;\">\n",
       "      <th></th>\n",
       "      <th>train/loss_rec_step</th>\n",
       "      <th>train/loss_pred_step</th>\n",
       "      <th>step</th>\n",
       "      <th>val/loss_rec_step</th>\n",
       "      <th>val/loss_pred_step</th>\n",
       "      <th>val/acc</th>\n",
       "      <th>val/auroc</th>\n",
       "      <th>val/l1_loss</th>\n",
       "      <th>val/loss_rec_epoch</th>\n",
       "      <th>val/n</th>\n",
       "      <th>val/loss_pred_epoch</th>\n",
       "      <th>val/l2_loss</th>\n",
       "      <th>train/n</th>\n",
       "      <th>train/l1_loss</th>\n",
       "      <th>train/loss_rec_epoch</th>\n",
       "      <th>train/l2_loss</th>\n",
       "      <th>train/auroc</th>\n",
       "      <th>train/loss_pred_epoch</th>\n",
       "      <th>train/acc</th>\n",
       "    </tr>\n",
       "    <tr>\n",
       "      <th>epoch</th>\n",
       "      <th></th>\n",
       "      <th></th>\n",
       "      <th></th>\n",
       "      <th></th>\n",
       "      <th></th>\n",
       "      <th></th>\n",
       "      <th></th>\n",
       "      <th></th>\n",
       "      <th></th>\n",
       "      <th></th>\n",
       "      <th></th>\n",
       "      <th></th>\n",
       "      <th></th>\n",
       "      <th></th>\n",
       "      <th></th>\n",
       "      <th></th>\n",
       "      <th></th>\n",
       "      <th></th>\n",
       "      <th></th>\n",
       "    </tr>\n",
       "  </thead>\n",
       "  <tbody>\n",
       "    <tr>\n",
       "      <th>0.0</th>\n",
       "      <td>317341.46875</td>\n",
       "      <td>0.750734</td>\n",
       "      <td>9</td>\n",
       "      <td>423665.21875</td>\n",
       "      <td>0.580182</td>\n",
       "      <td>0.610390</td>\n",
       "      <td>0.642554</td>\n",
       "      <td>16437.994141</td>\n",
       "      <td>434082.9375</td>\n",
       "      <td>154.0</td>\n",
       "      <td>0.675582</td>\n",
       "      <td>425863.9375</td>\n",
       "      <td>307.0</td>\n",
       "      <td>16519.121094</td>\n",
       "      <td>344612.56250</td>\n",
       "      <td>336353.03125</td>\n",
       "      <td>0.644976</td>\n",
       "      <td>0.734680</td>\n",
       "      <td>0.576547</td>\n",
       "    </tr>\n",
       "    <tr>\n",
       "      <th>1.0</th>\n",
       "      <td>333048.68750</td>\n",
       "      <td>0.639979</td>\n",
       "      <td>19</td>\n",
       "      <td>423665.21875</td>\n",
       "      <td>0.538155</td>\n",
       "      <td>0.636364</td>\n",
       "      <td>0.645794</td>\n",
       "      <td>16437.994141</td>\n",
       "      <td>434082.9375</td>\n",
       "      <td>154.0</td>\n",
       "      <td>0.708072</td>\n",
       "      <td>425863.9375</td>\n",
       "      <td>307.0</td>\n",
       "      <td>16519.123047</td>\n",
       "      <td>344612.59375</td>\n",
       "      <td>336353.03125</td>\n",
       "      <td>0.693617</td>\n",
       "      <td>0.671386</td>\n",
       "      <td>0.583062</td>\n",
       "    </tr>\n",
       "    <tr>\n",
       "      <th>2.0</th>\n",
       "      <td>290681.90625</td>\n",
       "      <td>0.623242</td>\n",
       "      <td>29</td>\n",
       "      <td>423665.21875</td>\n",
       "      <td>0.545128</td>\n",
       "      <td>0.623377</td>\n",
       "      <td>0.698181</td>\n",
       "      <td>16437.994141</td>\n",
       "      <td>434082.9375</td>\n",
       "      <td>154.0</td>\n",
       "      <td>0.641758</td>\n",
       "      <td>425863.9375</td>\n",
       "      <td>307.0</td>\n",
       "      <td>16519.121094</td>\n",
       "      <td>344612.59375</td>\n",
       "      <td>336353.03125</td>\n",
       "      <td>0.718803</td>\n",
       "      <td>0.643272</td>\n",
       "      <td>0.654723</td>\n",
       "    </tr>\n",
       "    <tr>\n",
       "      <th>3.0</th>\n",
       "      <td>358911.78125</td>\n",
       "      <td>0.588615</td>\n",
       "      <td>39</td>\n",
       "      <td>423665.21875</td>\n",
       "      <td>0.655330</td>\n",
       "      <td>0.623377</td>\n",
       "      <td>0.711776</td>\n",
       "      <td>16437.994141</td>\n",
       "      <td>434082.9375</td>\n",
       "      <td>154.0</td>\n",
       "      <td>0.668705</td>\n",
       "      <td>425863.9375</td>\n",
       "      <td>307.0</td>\n",
       "      <td>16519.119141</td>\n",
       "      <td>344612.59375</td>\n",
       "      <td>336353.03125</td>\n",
       "      <td>0.744478</td>\n",
       "      <td>0.636399</td>\n",
       "      <td>0.661238</td>\n",
       "    </tr>\n",
       "    <tr>\n",
       "      <th>4.0</th>\n",
       "      <td>386470.15625</td>\n",
       "      <td>0.781435</td>\n",
       "      <td>49</td>\n",
       "      <td>423665.21875</td>\n",
       "      <td>0.614236</td>\n",
       "      <td>0.610390</td>\n",
       "      <td>0.718339</td>\n",
       "      <td>16437.994141</td>\n",
       "      <td>434082.9375</td>\n",
       "      <td>154.0</td>\n",
       "      <td>0.668234</td>\n",
       "      <td>425863.9375</td>\n",
       "      <td>307.0</td>\n",
       "      <td>16519.121094</td>\n",
       "      <td>344612.59375</td>\n",
       "      <td>336353.03125</td>\n",
       "      <td>0.756434</td>\n",
       "      <td>0.703600</td>\n",
       "      <td>0.609121</td>\n",
       "    </tr>\n",
       "    <tr>\n",
       "      <th>5.0</th>\n",
       "      <td>336454.46875</td>\n",
       "      <td>0.562884</td>\n",
       "      <td>59</td>\n",
       "      <td>423665.21875</td>\n",
       "      <td>0.633807</td>\n",
       "      <td>0.564935</td>\n",
       "      <td>0.740926</td>\n",
       "      <td>16437.994141</td>\n",
       "      <td>434082.9375</td>\n",
       "      <td>154.0</td>\n",
       "      <td>0.724875</td>\n",
       "      <td>425863.9375</td>\n",
       "      <td>307.0</td>\n",
       "      <td>16519.121094</td>\n",
       "      <td>344612.59375</td>\n",
       "      <td>336353.03125</td>\n",
       "      <td>0.813413</td>\n",
       "      <td>0.606972</td>\n",
       "      <td>0.657980</td>\n",
       "    </tr>\n",
       "    <tr>\n",
       "      <th>6.0</th>\n",
       "      <td>290409.62500</td>\n",
       "      <td>1.049181</td>\n",
       "      <td>69</td>\n",
       "      <td>423665.21875</td>\n",
       "      <td>1.312531</td>\n",
       "      <td>0.512987</td>\n",
       "      <td>0.741922</td>\n",
       "      <td>16437.994141</td>\n",
       "      <td>434082.9375</td>\n",
       "      <td>154.0</td>\n",
       "      <td>1.169899</td>\n",
       "      <td>425863.9375</td>\n",
       "      <td>307.0</td>\n",
       "      <td>16519.121094</td>\n",
       "      <td>344612.59375</td>\n",
       "      <td>336353.03125</td>\n",
       "      <td>0.821166</td>\n",
       "      <td>0.706567</td>\n",
       "      <td>0.605863</td>\n",
       "    </tr>\n",
       "    <tr>\n",
       "      <th>7.0</th>\n",
       "      <td>332164.68750</td>\n",
       "      <td>0.743222</td>\n",
       "      <td>79</td>\n",
       "      <td>423665.21875</td>\n",
       "      <td>1.432864</td>\n",
       "      <td>0.512987</td>\n",
       "      <td>0.706680</td>\n",
       "      <td>16437.994141</td>\n",
       "      <td>434082.9375</td>\n",
       "      <td>154.0</td>\n",
       "      <td>1.262260</td>\n",
       "      <td>425863.9375</td>\n",
       "      <td>307.0</td>\n",
       "      <td>16519.119141</td>\n",
       "      <td>344612.56250</td>\n",
       "      <td>336353.03125</td>\n",
       "      <td>0.782922</td>\n",
       "      <td>0.728517</td>\n",
       "      <td>0.635179</td>\n",
       "    </tr>\n",
       "    <tr>\n",
       "      <th>8.0</th>\n",
       "      <td>323330.93750</td>\n",
       "      <td>0.494952</td>\n",
       "      <td>89</td>\n",
       "      <td>423665.21875</td>\n",
       "      <td>0.840226</td>\n",
       "      <td>0.545455</td>\n",
       "      <td>0.774286</td>\n",
       "      <td>16437.994141</td>\n",
       "      <td>434082.9375</td>\n",
       "      <td>154.0</td>\n",
       "      <td>1.079983</td>\n",
       "      <td>425863.9375</td>\n",
       "      <td>307.0</td>\n",
       "      <td>16519.119141</td>\n",
       "      <td>344612.59375</td>\n",
       "      <td>336353.03125</td>\n",
       "      <td>0.815575</td>\n",
       "      <td>0.720674</td>\n",
       "      <td>0.589577</td>\n",
       "    </tr>\n",
       "    <tr>\n",
       "      <th>9.0</th>\n",
       "      <td>342591.46875</td>\n",
       "      <td>0.580802</td>\n",
       "      <td>99</td>\n",
       "      <td>423665.21875</td>\n",
       "      <td>0.549032</td>\n",
       "      <td>0.642857</td>\n",
       "      <td>0.676131</td>\n",
       "      <td>16437.994141</td>\n",
       "      <td>434082.9375</td>\n",
       "      <td>154.0</td>\n",
       "      <td>0.645718</td>\n",
       "      <td>425863.9375</td>\n",
       "      <td>307.0</td>\n",
       "      <td>16519.121094</td>\n",
       "      <td>344612.59375</td>\n",
       "      <td>336353.03125</td>\n",
       "      <td>0.791030</td>\n",
       "      <td>0.818828</td>\n",
       "      <td>0.566775</td>\n",
       "    </tr>\n",
       "    <tr>\n",
       "      <th>10.0</th>\n",
       "      <td>327839.75000</td>\n",
       "      <td>0.747007</td>\n",
       "      <td>109</td>\n",
       "      <td>423665.21875</td>\n",
       "      <td>0.821483</td>\n",
       "      <td>0.538961</td>\n",
       "      <td>0.793477</td>\n",
       "      <td>16437.994141</td>\n",
       "      <td>434082.9375</td>\n",
       "      <td>154.0</td>\n",
       "      <td>0.733439</td>\n",
       "      <td>425863.9375</td>\n",
       "      <td>307.0</td>\n",
       "      <td>16519.119141</td>\n",
       "      <td>344612.59375</td>\n",
       "      <td>336353.03125</td>\n",
       "      <td>0.799731</td>\n",
       "      <td>0.608062</td>\n",
       "      <td>0.687296</td>\n",
       "    </tr>\n",
       "    <tr>\n",
       "      <th>11.0</th>\n",
       "      <td>388538.87500</td>\n",
       "      <td>0.611111</td>\n",
       "      <td>119</td>\n",
       "      <td>423665.21875</td>\n",
       "      <td>0.691665</td>\n",
       "      <td>0.584416</td>\n",
       "      <td>0.703963</td>\n",
       "      <td>16437.994141</td>\n",
       "      <td>434082.9375</td>\n",
       "      <td>154.0</td>\n",
       "      <td>0.732056</td>\n",
       "      <td>425863.9375</td>\n",
       "      <td>307.0</td>\n",
       "      <td>16519.121094</td>\n",
       "      <td>344612.59375</td>\n",
       "      <td>336353.03125</td>\n",
       "      <td>0.781938</td>\n",
       "      <td>0.721151</td>\n",
       "      <td>0.589577</td>\n",
       "    </tr>\n",
       "    <tr>\n",
       "      <th>12.0</th>\n",
       "      <td>375695.31250</td>\n",
       "      <td>0.893181</td>\n",
       "      <td>129</td>\n",
       "      <td>423665.21875</td>\n",
       "      <td>0.586188</td>\n",
       "      <td>0.603896</td>\n",
       "      <td>0.697646</td>\n",
       "      <td>16437.994141</td>\n",
       "      <td>434082.9375</td>\n",
       "      <td>154.0</td>\n",
       "      <td>0.628228</td>\n",
       "      <td>425863.9375</td>\n",
       "      <td>307.0</td>\n",
       "      <td>16519.121094</td>\n",
       "      <td>344612.59375</td>\n",
       "      <td>336353.00000</td>\n",
       "      <td>0.757390</td>\n",
       "      <td>0.706083</td>\n",
       "      <td>0.563518</td>\n",
       "    </tr>\n",
       "    <tr>\n",
       "      <th>13.0</th>\n",
       "      <td>308990.15625</td>\n",
       "      <td>0.476430</td>\n",
       "      <td>139</td>\n",
       "      <td>423665.21875</td>\n",
       "      <td>1.315883</td>\n",
       "      <td>0.551948</td>\n",
       "      <td>0.681095</td>\n",
       "      <td>16437.994141</td>\n",
       "      <td>434082.9375</td>\n",
       "      <td>154.0</td>\n",
       "      <td>1.641692</td>\n",
       "      <td>425863.9375</td>\n",
       "      <td>307.0</td>\n",
       "      <td>16519.123047</td>\n",
       "      <td>344612.62500</td>\n",
       "      <td>336353.03125</td>\n",
       "      <td>0.803226</td>\n",
       "      <td>0.583009</td>\n",
       "      <td>0.661238</td>\n",
       "    </tr>\n",
       "    <tr>\n",
       "      <th>14.0</th>\n",
       "      <td>338278.15625</td>\n",
       "      <td>0.665565</td>\n",
       "      <td>149</td>\n",
       "      <td>423665.21875</td>\n",
       "      <td>0.675037</td>\n",
       "      <td>0.590909</td>\n",
       "      <td>0.788781</td>\n",
       "      <td>16437.994141</td>\n",
       "      <td>434082.9375</td>\n",
       "      <td>154.0</td>\n",
       "      <td>0.642030</td>\n",
       "      <td>425863.9375</td>\n",
       "      <td>307.0</td>\n",
       "      <td>16519.121094</td>\n",
       "      <td>344612.59375</td>\n",
       "      <td>336353.03125</td>\n",
       "      <td>0.808782</td>\n",
       "      <td>0.738327</td>\n",
       "      <td>0.638436</td>\n",
       "    </tr>\n",
       "    <tr>\n",
       "      <th>15.0</th>\n",
       "      <td>296028.46875</td>\n",
       "      <td>0.502055</td>\n",
       "      <td>159</td>\n",
       "      <td>423665.21875</td>\n",
       "      <td>0.521029</td>\n",
       "      <td>0.681818</td>\n",
       "      <td>0.742762</td>\n",
       "      <td>16437.994141</td>\n",
       "      <td>434082.9375</td>\n",
       "      <td>154.0</td>\n",
       "      <td>0.619203</td>\n",
       "      <td>425863.9375</td>\n",
       "      <td>307.0</td>\n",
       "      <td>16519.121094</td>\n",
       "      <td>344612.59375</td>\n",
       "      <td>336353.03125</td>\n",
       "      <td>0.802534</td>\n",
       "      <td>0.641488</td>\n",
       "      <td>0.644951</td>\n",
       "    </tr>\n",
       "    <tr>\n",
       "      <th>16.0</th>\n",
       "      <td>315296.93750</td>\n",
       "      <td>0.452430</td>\n",
       "      <td>169</td>\n",
       "      <td>423665.21875</td>\n",
       "      <td>0.587831</td>\n",
       "      <td>0.642857</td>\n",
       "      <td>0.681411</td>\n",
       "      <td>16437.994141</td>\n",
       "      <td>434082.9375</td>\n",
       "      <td>154.0</td>\n",
       "      <td>0.812129</td>\n",
       "      <td>425863.9375</td>\n",
       "      <td>307.0</td>\n",
       "      <td>16519.121094</td>\n",
       "      <td>344612.53125</td>\n",
       "      <td>336353.03125</td>\n",
       "      <td>0.844532</td>\n",
       "      <td>0.604061</td>\n",
       "      <td>0.706840</td>\n",
       "    </tr>\n",
       "    <tr>\n",
       "      <th>17.0</th>\n",
       "      <td>299669.75000</td>\n",
       "      <td>0.616571</td>\n",
       "      <td>179</td>\n",
       "      <td>423665.21875</td>\n",
       "      <td>0.510954</td>\n",
       "      <td>0.701299</td>\n",
       "      <td>0.783939</td>\n",
       "      <td>16437.994141</td>\n",
       "      <td>434082.9375</td>\n",
       "      <td>154.0</td>\n",
       "      <td>0.575469</td>\n",
       "      <td>425863.9375</td>\n",
       "      <td>307.0</td>\n",
       "      <td>16519.121094</td>\n",
       "      <td>344612.59375</td>\n",
       "      <td>336353.03125</td>\n",
       "      <td>0.834311</td>\n",
       "      <td>0.582068</td>\n",
       "      <td>0.687296</td>\n",
       "    </tr>\n",
       "    <tr>\n",
       "      <th>18.0</th>\n",
       "      <td>347835.62500</td>\n",
       "      <td>0.323102</td>\n",
       "      <td>189</td>\n",
       "      <td>423665.21875</td>\n",
       "      <td>1.368361</td>\n",
       "      <td>0.551948</td>\n",
       "      <td>0.670845</td>\n",
       "      <td>16437.994141</td>\n",
       "      <td>434082.9375</td>\n",
       "      <td>154.0</td>\n",
       "      <td>1.609445</td>\n",
       "      <td>425863.9375</td>\n",
       "      <td>307.0</td>\n",
       "      <td>16519.121094</td>\n",
       "      <td>344612.62500</td>\n",
       "      <td>336353.03125</td>\n",
       "      <td>0.866793</td>\n",
       "      <td>0.519147</td>\n",
       "      <td>0.752443</td>\n",
       "    </tr>\n",
       "    <tr>\n",
       "      <th>19.0</th>\n",
       "      <td>317371.28125</td>\n",
       "      <td>0.541845</td>\n",
       "      <td>199</td>\n",
       "      <td>423665.21875</td>\n",
       "      <td>0.514295</td>\n",
       "      <td>0.668831</td>\n",
       "      <td>0.774502</td>\n",
       "      <td>16437.994141</td>\n",
       "      <td>434082.9375</td>\n",
       "      <td>154.0</td>\n",
       "      <td>0.597094</td>\n",
       "      <td>425863.9375</td>\n",
       "      <td>307.0</td>\n",
       "      <td>16519.121094</td>\n",
       "      <td>344612.59375</td>\n",
       "      <td>336353.03125</td>\n",
       "      <td>0.832350</td>\n",
       "      <td>0.780163</td>\n",
       "      <td>0.671010</td>\n",
       "    </tr>\n",
       "    <tr>\n",
       "      <th>20.0</th>\n",
       "      <td>345399.59375</td>\n",
       "      <td>0.587215</td>\n",
       "      <td>209</td>\n",
       "      <td>423665.21875</td>\n",
       "      <td>0.494890</td>\n",
       "      <td>0.720779</td>\n",
       "      <td>0.798501</td>\n",
       "      <td>16437.994141</td>\n",
       "      <td>434082.9375</td>\n",
       "      <td>154.0</td>\n",
       "      <td>0.552289</td>\n",
       "      <td>425863.9375</td>\n",
       "      <td>307.0</td>\n",
       "      <td>16519.121094</td>\n",
       "      <td>344612.62500</td>\n",
       "      <td>336353.03125</td>\n",
       "      <td>0.857076</td>\n",
       "      <td>0.543142</td>\n",
       "      <td>0.736156</td>\n",
       "    </tr>\n",
       "    <tr>\n",
       "      <th>21.0</th>\n",
       "      <td>398918.56250</td>\n",
       "      <td>0.545435</td>\n",
       "      <td>219</td>\n",
       "      <td>423665.21875</td>\n",
       "      <td>0.497975</td>\n",
       "      <td>0.720779</td>\n",
       "      <td>0.783762</td>\n",
       "      <td>16437.994141</td>\n",
       "      <td>434082.9375</td>\n",
       "      <td>154.0</td>\n",
       "      <td>0.565441</td>\n",
       "      <td>425863.9375</td>\n",
       "      <td>307.0</td>\n",
       "      <td>16519.121094</td>\n",
       "      <td>344612.59375</td>\n",
       "      <td>336353.03125</td>\n",
       "      <td>0.864509</td>\n",
       "      <td>0.496256</td>\n",
       "      <td>0.781759</td>\n",
       "    </tr>\n",
       "    <tr>\n",
       "      <th>22.0</th>\n",
       "      <td>349698.78125</td>\n",
       "      <td>0.542646</td>\n",
       "      <td>229</td>\n",
       "      <td>423665.21875</td>\n",
       "      <td>0.485205</td>\n",
       "      <td>0.720779</td>\n",
       "      <td>0.795811</td>\n",
       "      <td>16437.994141</td>\n",
       "      <td>434082.9375</td>\n",
       "      <td>154.0</td>\n",
       "      <td>0.576850</td>\n",
       "      <td>425863.9375</td>\n",
       "      <td>307.0</td>\n",
       "      <td>16519.121094</td>\n",
       "      <td>344612.59375</td>\n",
       "      <td>336353.03125</td>\n",
       "      <td>0.881896</td>\n",
       "      <td>0.459051</td>\n",
       "      <td>0.781759</td>\n",
       "    </tr>\n",
       "    <tr>\n",
       "      <th>23.0</th>\n",
       "      <td>293096.25000</td>\n",
       "      <td>0.892161</td>\n",
       "      <td>239</td>\n",
       "      <td>423665.21875</td>\n",
       "      <td>0.558605</td>\n",
       "      <td>0.681818</td>\n",
       "      <td>0.818330</td>\n",
       "      <td>16437.994141</td>\n",
       "      <td>434082.9375</td>\n",
       "      <td>154.0</td>\n",
       "      <td>0.580117</td>\n",
       "      <td>425863.9375</td>\n",
       "      <td>307.0</td>\n",
       "      <td>16519.121094</td>\n",
       "      <td>344612.59375</td>\n",
       "      <td>336353.03125</td>\n",
       "      <td>0.880551</td>\n",
       "      <td>0.510156</td>\n",
       "      <td>0.752443</td>\n",
       "    </tr>\n",
       "    <tr>\n",
       "      <th>24.0</th>\n",
       "      <td>336998.78125</td>\n",
       "      <td>0.456766</td>\n",
       "      <td>249</td>\n",
       "      <td>423665.21875</td>\n",
       "      <td>0.514400</td>\n",
       "      <td>0.681818</td>\n",
       "      <td>0.773132</td>\n",
       "      <td>16437.994141</td>\n",
       "      <td>434082.9375</td>\n",
       "      <td>154.0</td>\n",
       "      <td>0.598204</td>\n",
       "      <td>425863.9375</td>\n",
       "      <td>307.0</td>\n",
       "      <td>16519.121094</td>\n",
       "      <td>344612.59375</td>\n",
       "      <td>336353.00000</td>\n",
       "      <td>0.889233</td>\n",
       "      <td>0.483187</td>\n",
       "      <td>0.745928</td>\n",
       "    </tr>\n",
       "    <tr>\n",
       "      <th>25.0</th>\n",
       "      <td>336657.78125</td>\n",
       "      <td>0.352279</td>\n",
       "      <td>259</td>\n",
       "      <td>423665.21875</td>\n",
       "      <td>0.499970</td>\n",
       "      <td>0.753247</td>\n",
       "      <td>0.813220</td>\n",
       "      <td>16437.994141</td>\n",
       "      <td>434082.9375</td>\n",
       "      <td>154.0</td>\n",
       "      <td>0.525120</td>\n",
       "      <td>425863.9375</td>\n",
       "      <td>307.0</td>\n",
       "      <td>16519.121094</td>\n",
       "      <td>344612.59375</td>\n",
       "      <td>336353.03125</td>\n",
       "      <td>0.885650</td>\n",
       "      <td>0.521461</td>\n",
       "      <td>0.726384</td>\n",
       "    </tr>\n",
       "    <tr>\n",
       "      <th>26.0</th>\n",
       "      <td>364991.59375</td>\n",
       "      <td>0.392412</td>\n",
       "      <td>269</td>\n",
       "      <td>423665.21875</td>\n",
       "      <td>0.444270</td>\n",
       "      <td>0.740260</td>\n",
       "      <td>0.820374</td>\n",
       "      <td>16437.994141</td>\n",
       "      <td>434082.9375</td>\n",
       "      <td>154.0</td>\n",
       "      <td>0.509455</td>\n",
       "      <td>425863.9375</td>\n",
       "      <td>307.0</td>\n",
       "      <td>16519.121094</td>\n",
       "      <td>344612.62500</td>\n",
       "      <td>336353.03125</td>\n",
       "      <td>0.884739</td>\n",
       "      <td>0.454626</td>\n",
       "      <td>0.785016</td>\n",
       "    </tr>\n",
       "    <tr>\n",
       "      <th>27.0</th>\n",
       "      <td>325794.31250</td>\n",
       "      <td>0.382157</td>\n",
       "      <td>279</td>\n",
       "      <td>423665.21875</td>\n",
       "      <td>0.475072</td>\n",
       "      <td>0.746753</td>\n",
       "      <td>0.811566</td>\n",
       "      <td>16437.994141</td>\n",
       "      <td>434082.9375</td>\n",
       "      <td>154.0</td>\n",
       "      <td>0.504831</td>\n",
       "      <td>425863.9375</td>\n",
       "      <td>307.0</td>\n",
       "      <td>16519.121094</td>\n",
       "      <td>344612.59375</td>\n",
       "      <td>336353.03125</td>\n",
       "      <td>0.899927</td>\n",
       "      <td>0.427676</td>\n",
       "      <td>0.791531</td>\n",
       "    </tr>\n",
       "    <tr>\n",
       "      <th>28.0</th>\n",
       "      <td>352676.09375</td>\n",
       "      <td>0.464475</td>\n",
       "      <td>289</td>\n",
       "      <td>423665.21875</td>\n",
       "      <td>0.555674</td>\n",
       "      <td>0.681818</td>\n",
       "      <td>0.818800</td>\n",
       "      <td>16437.994141</td>\n",
       "      <td>434082.9375</td>\n",
       "      <td>154.0</td>\n",
       "      <td>0.607507</td>\n",
       "      <td>425863.9375</td>\n",
       "      <td>307.0</td>\n",
       "      <td>16519.121094</td>\n",
       "      <td>344612.59375</td>\n",
       "      <td>336353.03125</td>\n",
       "      <td>0.903702</td>\n",
       "      <td>0.415076</td>\n",
       "      <td>0.781759</td>\n",
       "    </tr>\n",
       "    <tr>\n",
       "      <th>29.0</th>\n",
       "      <td>380415.43750</td>\n",
       "      <td>0.355161</td>\n",
       "      <td>299</td>\n",
       "      <td>423665.21875</td>\n",
       "      <td>0.462625</td>\n",
       "      <td>0.740260</td>\n",
       "      <td>0.813411</td>\n",
       "      <td>16437.994141</td>\n",
       "      <td>434082.9375</td>\n",
       "      <td>154.0</td>\n",
       "      <td>0.515112</td>\n",
       "      <td>425863.9375</td>\n",
       "      <td>307.0</td>\n",
       "      <td>16519.123047</td>\n",
       "      <td>344612.62500</td>\n",
       "      <td>336353.06250</td>\n",
       "      <td>0.886742</td>\n",
       "      <td>0.463156</td>\n",
       "      <td>0.762215</td>\n",
       "    </tr>\n",
       "    <tr>\n",
       "      <th>30.0</th>\n",
       "      <td>339168.53125</td>\n",
       "      <td>0.558701</td>\n",
       "      <td>309</td>\n",
       "      <td>423665.21875</td>\n",
       "      <td>0.451284</td>\n",
       "      <td>0.766234</td>\n",
       "      <td>0.812033</td>\n",
       "      <td>16437.994141</td>\n",
       "      <td>434082.9375</td>\n",
       "      <td>154.0</td>\n",
       "      <td>0.507966</td>\n",
       "      <td>425863.9375</td>\n",
       "      <td>307.0</td>\n",
       "      <td>16519.121094</td>\n",
       "      <td>344612.59375</td>\n",
       "      <td>336353.00000</td>\n",
       "      <td>0.921069</td>\n",
       "      <td>0.416532</td>\n",
       "      <td>0.804560</td>\n",
       "    </tr>\n",
       "    <tr>\n",
       "      <th>31.0</th>\n",
       "      <td>369215.43750</td>\n",
       "      <td>0.673223</td>\n",
       "      <td>319</td>\n",
       "      <td>423665.21875</td>\n",
       "      <td>0.442745</td>\n",
       "      <td>0.707792</td>\n",
       "      <td>0.819671</td>\n",
       "      <td>16437.994141</td>\n",
       "      <td>434082.9375</td>\n",
       "      <td>154.0</td>\n",
       "      <td>0.559673</td>\n",
       "      <td>425863.9375</td>\n",
       "      <td>307.0</td>\n",
       "      <td>16519.119141</td>\n",
       "      <td>344612.56250</td>\n",
       "      <td>336353.03125</td>\n",
       "      <td>0.907090</td>\n",
       "      <td>0.371414</td>\n",
       "      <td>0.824104</td>\n",
       "    </tr>\n",
       "    <tr>\n",
       "      <th>32.0</th>\n",
       "      <td>354872.09375</td>\n",
       "      <td>0.396891</td>\n",
       "      <td>329</td>\n",
       "      <td>423665.21875</td>\n",
       "      <td>0.468585</td>\n",
       "      <td>0.746753</td>\n",
       "      <td>0.803561</td>\n",
       "      <td>16437.994141</td>\n",
       "      <td>434082.9375</td>\n",
       "      <td>154.0</td>\n",
       "      <td>0.510009</td>\n",
       "      <td>425863.9375</td>\n",
       "      <td>307.0</td>\n",
       "      <td>16519.121094</td>\n",
       "      <td>344612.59375</td>\n",
       "      <td>336353.03125</td>\n",
       "      <td>0.913617</td>\n",
       "      <td>0.375423</td>\n",
       "      <td>0.817590</td>\n",
       "    </tr>\n",
       "    <tr>\n",
       "      <th>33.0</th>\n",
       "      <td>346428.78125</td>\n",
       "      <td>0.363398</td>\n",
       "      <td>339</td>\n",
       "      <td>423665.21875</td>\n",
       "      <td>0.563169</td>\n",
       "      <td>0.675325</td>\n",
       "      <td>0.773566</td>\n",
       "      <td>16437.994141</td>\n",
       "      <td>434082.9375</td>\n",
       "      <td>154.0</td>\n",
       "      <td>0.635229</td>\n",
       "      <td>425863.9375</td>\n",
       "      <td>307.0</td>\n",
       "      <td>16519.123047</td>\n",
       "      <td>344612.59375</td>\n",
       "      <td>336353.03125</td>\n",
       "      <td>0.930962</td>\n",
       "      <td>0.357142</td>\n",
       "      <td>0.811075</td>\n",
       "    </tr>\n",
       "    <tr>\n",
       "      <th>34.0</th>\n",
       "      <td>300021.84375</td>\n",
       "      <td>0.580191</td>\n",
       "      <td>349</td>\n",
       "      <td>423665.21875</td>\n",
       "      <td>0.609344</td>\n",
       "      <td>0.655844</td>\n",
       "      <td>0.822872</td>\n",
       "      <td>16437.994141</td>\n",
       "      <td>434082.9375</td>\n",
       "      <td>154.0</td>\n",
       "      <td>0.685291</td>\n",
       "      <td>425863.9375</td>\n",
       "      <td>307.0</td>\n",
       "      <td>16519.119141</td>\n",
       "      <td>344612.59375</td>\n",
       "      <td>336353.03125</td>\n",
       "      <td>0.929558</td>\n",
       "      <td>0.409185</td>\n",
       "      <td>0.807818</td>\n",
       "    </tr>\n",
       "    <tr>\n",
       "      <th>35.0</th>\n",
       "      <td>356599.28125</td>\n",
       "      <td>0.490928</td>\n",
       "      <td>359</td>\n",
       "      <td>423665.21875</td>\n",
       "      <td>0.442997</td>\n",
       "      <td>0.746753</td>\n",
       "      <td>0.815979</td>\n",
       "      <td>16437.994141</td>\n",
       "      <td>434082.9375</td>\n",
       "      <td>154.0</td>\n",
       "      <td>0.503653</td>\n",
       "      <td>425863.9375</td>\n",
       "      <td>307.0</td>\n",
       "      <td>16519.119141</td>\n",
       "      <td>344612.59375</td>\n",
       "      <td>336353.03125</td>\n",
       "      <td>0.909506</td>\n",
       "      <td>0.445129</td>\n",
       "      <td>0.771987</td>\n",
       "    </tr>\n",
       "    <tr>\n",
       "      <th>36.0</th>\n",
       "      <td>353163.09375</td>\n",
       "      <td>0.393840</td>\n",
       "      <td>369</td>\n",
       "      <td>423665.21875</td>\n",
       "      <td>0.476871</td>\n",
       "      <td>0.701299</td>\n",
       "      <td>0.826601</td>\n",
       "      <td>16437.994141</td>\n",
       "      <td>434082.9375</td>\n",
       "      <td>154.0</td>\n",
       "      <td>0.538854</td>\n",
       "      <td>425863.9375</td>\n",
       "      <td>307.0</td>\n",
       "      <td>16519.119141</td>\n",
       "      <td>344612.59375</td>\n",
       "      <td>336353.03125</td>\n",
       "      <td>0.925727</td>\n",
       "      <td>0.367817</td>\n",
       "      <td>0.820847</td>\n",
       "    </tr>\n",
       "    <tr>\n",
       "      <th>37.0</th>\n",
       "      <td>356153.62500</td>\n",
       "      <td>0.365479</td>\n",
       "      <td>379</td>\n",
       "      <td>423665.21875</td>\n",
       "      <td>0.438253</td>\n",
       "      <td>0.753247</td>\n",
       "      <td>0.816300</td>\n",
       "      <td>16437.994141</td>\n",
       "      <td>434082.9375</td>\n",
       "      <td>154.0</td>\n",
       "      <td>0.509939</td>\n",
       "      <td>425863.9375</td>\n",
       "      <td>307.0</td>\n",
       "      <td>16519.121094</td>\n",
       "      <td>344612.59375</td>\n",
       "      <td>336353.03125</td>\n",
       "      <td>0.926261</td>\n",
       "      <td>0.349602</td>\n",
       "      <td>0.843648</td>\n",
       "    </tr>\n",
       "    <tr>\n",
       "      <th>38.0</th>\n",
       "      <td>393634.68750</td>\n",
       "      <td>0.498922</td>\n",
       "      <td>389</td>\n",
       "      <td>423665.21875</td>\n",
       "      <td>0.414778</td>\n",
       "      <td>0.753247</td>\n",
       "      <td>0.813469</td>\n",
       "      <td>16437.994141</td>\n",
       "      <td>434082.9375</td>\n",
       "      <td>154.0</td>\n",
       "      <td>0.511835</td>\n",
       "      <td>425863.9375</td>\n",
       "      <td>307.0</td>\n",
       "      <td>16519.123047</td>\n",
       "      <td>344612.59375</td>\n",
       "      <td>336353.03125</td>\n",
       "      <td>0.932563</td>\n",
       "      <td>0.348991</td>\n",
       "      <td>0.846906</td>\n",
       "    </tr>\n",
       "    <tr>\n",
       "      <th>39.0</th>\n",
       "      <td>335286.75000</td>\n",
       "      <td>0.255487</td>\n",
       "      <td>399</td>\n",
       "      <td>423665.21875</td>\n",
       "      <td>0.415039</td>\n",
       "      <td>0.746753</td>\n",
       "      <td>0.815930</td>\n",
       "      <td>16437.994141</td>\n",
       "      <td>434082.9375</td>\n",
       "      <td>154.0</td>\n",
       "      <td>0.514698</td>\n",
       "      <td>425863.9375</td>\n",
       "      <td>307.0</td>\n",
       "      <td>16519.121094</td>\n",
       "      <td>344612.59375</td>\n",
       "      <td>336353.03125</td>\n",
       "      <td>0.934335</td>\n",
       "      <td>0.329925</td>\n",
       "      <td>0.850163</td>\n",
       "    </tr>\n",
       "    <tr>\n",
       "      <th>40.0</th>\n",
       "      <td>291337.18750</td>\n",
       "      <td>0.349353</td>\n",
       "      <td>409</td>\n",
       "      <td>423665.21875</td>\n",
       "      <td>0.412945</td>\n",
       "      <td>0.740260</td>\n",
       "      <td>0.816333</td>\n",
       "      <td>16437.994141</td>\n",
       "      <td>434082.9375</td>\n",
       "      <td>154.0</td>\n",
       "      <td>0.512335</td>\n",
       "      <td>425863.9375</td>\n",
       "      <td>307.0</td>\n",
       "      <td>16519.123047</td>\n",
       "      <td>344612.59375</td>\n",
       "      <td>336353.03125</td>\n",
       "      <td>0.941051</td>\n",
       "      <td>0.326241</td>\n",
       "      <td>0.846906</td>\n",
       "    </tr>\n",
       "    <tr>\n",
       "      <th>41.0</th>\n",
       "      <td>293692.90625</td>\n",
       "      <td>0.318963</td>\n",
       "      <td>419</td>\n",
       "      <td>423665.21875</td>\n",
       "      <td>0.412700</td>\n",
       "      <td>0.753247</td>\n",
       "      <td>0.813581</td>\n",
       "      <td>16437.994141</td>\n",
       "      <td>434082.9375</td>\n",
       "      <td>154.0</td>\n",
       "      <td>0.511711</td>\n",
       "      <td>425863.9375</td>\n",
       "      <td>307.0</td>\n",
       "      <td>16519.123047</td>\n",
       "      <td>344612.59375</td>\n",
       "      <td>336353.03125</td>\n",
       "      <td>0.942792</td>\n",
       "      <td>0.324854</td>\n",
       "      <td>0.859935</td>\n",
       "    </tr>\n",
       "    <tr>\n",
       "      <th>42.0</th>\n",
       "      <td>323024.56250</td>\n",
       "      <td>0.421881</td>\n",
       "      <td>429</td>\n",
       "      <td>423665.21875</td>\n",
       "      <td>0.412261</td>\n",
       "      <td>0.753247</td>\n",
       "      <td>0.814405</td>\n",
       "      <td>16437.994141</td>\n",
       "      <td>434082.9375</td>\n",
       "      <td>154.0</td>\n",
       "      <td>0.512567</td>\n",
       "      <td>425863.9375</td>\n",
       "      <td>307.0</td>\n",
       "      <td>16519.119141</td>\n",
       "      <td>344612.56250</td>\n",
       "      <td>336353.03125</td>\n",
       "      <td>0.946595</td>\n",
       "      <td>0.322408</td>\n",
       "      <td>0.863192</td>\n",
       "    </tr>\n",
       "    <tr>\n",
       "      <th>43.0</th>\n",
       "      <td>396642.78125</td>\n",
       "      <td>0.520435</td>\n",
       "      <td>439</td>\n",
       "      <td>423665.21875</td>\n",
       "      <td>0.412287</td>\n",
       "      <td>0.753247</td>\n",
       "      <td>0.814405</td>\n",
       "      <td>16437.994141</td>\n",
       "      <td>434082.9375</td>\n",
       "      <td>154.0</td>\n",
       "      <td>0.512637</td>\n",
       "      <td>425863.9375</td>\n",
       "      <td>307.0</td>\n",
       "      <td>16519.121094</td>\n",
       "      <td>344612.59375</td>\n",
       "      <td>336353.03125</td>\n",
       "      <td>0.929539</td>\n",
       "      <td>0.322021</td>\n",
       "      <td>0.863192</td>\n",
       "    </tr>\n",
       "  </tbody>\n",
       "</table>\n",
       "</div>"
      ],
      "text/plain": [
       "       train/loss_rec_step  train/loss_pred_step  step  val/loss_rec_step  \\\n",
       "epoch                                                                       \n",
       "0.0           317341.46875              0.750734     9       423665.21875   \n",
       "1.0           333048.68750              0.639979    19       423665.21875   \n",
       "2.0           290681.90625              0.623242    29       423665.21875   \n",
       "3.0           358911.78125              0.588615    39       423665.21875   \n",
       "4.0           386470.15625              0.781435    49       423665.21875   \n",
       "5.0           336454.46875              0.562884    59       423665.21875   \n",
       "6.0           290409.62500              1.049181    69       423665.21875   \n",
       "7.0           332164.68750              0.743222    79       423665.21875   \n",
       "8.0           323330.93750              0.494952    89       423665.21875   \n",
       "9.0           342591.46875              0.580802    99       423665.21875   \n",
       "10.0          327839.75000              0.747007   109       423665.21875   \n",
       "11.0          388538.87500              0.611111   119       423665.21875   \n",
       "12.0          375695.31250              0.893181   129       423665.21875   \n",
       "13.0          308990.15625              0.476430   139       423665.21875   \n",
       "14.0          338278.15625              0.665565   149       423665.21875   \n",
       "15.0          296028.46875              0.502055   159       423665.21875   \n",
       "16.0          315296.93750              0.452430   169       423665.21875   \n",
       "17.0          299669.75000              0.616571   179       423665.21875   \n",
       "18.0          347835.62500              0.323102   189       423665.21875   \n",
       "19.0          317371.28125              0.541845   199       423665.21875   \n",
       "20.0          345399.59375              0.587215   209       423665.21875   \n",
       "21.0          398918.56250              0.545435   219       423665.21875   \n",
       "22.0          349698.78125              0.542646   229       423665.21875   \n",
       "23.0          293096.25000              0.892161   239       423665.21875   \n",
       "24.0          336998.78125              0.456766   249       423665.21875   \n",
       "25.0          336657.78125              0.352279   259       423665.21875   \n",
       "26.0          364991.59375              0.392412   269       423665.21875   \n",
       "27.0          325794.31250              0.382157   279       423665.21875   \n",
       "28.0          352676.09375              0.464475   289       423665.21875   \n",
       "29.0          380415.43750              0.355161   299       423665.21875   \n",
       "30.0          339168.53125              0.558701   309       423665.21875   \n",
       "31.0          369215.43750              0.673223   319       423665.21875   \n",
       "32.0          354872.09375              0.396891   329       423665.21875   \n",
       "33.0          346428.78125              0.363398   339       423665.21875   \n",
       "34.0          300021.84375              0.580191   349       423665.21875   \n",
       "35.0          356599.28125              0.490928   359       423665.21875   \n",
       "36.0          353163.09375              0.393840   369       423665.21875   \n",
       "37.0          356153.62500              0.365479   379       423665.21875   \n",
       "38.0          393634.68750              0.498922   389       423665.21875   \n",
       "39.0          335286.75000              0.255487   399       423665.21875   \n",
       "40.0          291337.18750              0.349353   409       423665.21875   \n",
       "41.0          293692.90625              0.318963   419       423665.21875   \n",
       "42.0          323024.56250              0.421881   429       423665.21875   \n",
       "43.0          396642.78125              0.520435   439       423665.21875   \n",
       "\n",
       "       val/loss_pred_step   val/acc  val/auroc   val/l1_loss  \\\n",
       "epoch                                                          \n",
       "0.0              0.580182  0.610390   0.642554  16437.994141   \n",
       "1.0              0.538155  0.636364   0.645794  16437.994141   \n",
       "2.0              0.545128  0.623377   0.698181  16437.994141   \n",
       "3.0              0.655330  0.623377   0.711776  16437.994141   \n",
       "4.0              0.614236  0.610390   0.718339  16437.994141   \n",
       "5.0              0.633807  0.564935   0.740926  16437.994141   \n",
       "6.0              1.312531  0.512987   0.741922  16437.994141   \n",
       "7.0              1.432864  0.512987   0.706680  16437.994141   \n",
       "8.0              0.840226  0.545455   0.774286  16437.994141   \n",
       "9.0              0.549032  0.642857   0.676131  16437.994141   \n",
       "10.0             0.821483  0.538961   0.793477  16437.994141   \n",
       "11.0             0.691665  0.584416   0.703963  16437.994141   \n",
       "12.0             0.586188  0.603896   0.697646  16437.994141   \n",
       "13.0             1.315883  0.551948   0.681095  16437.994141   \n",
       "14.0             0.675037  0.590909   0.788781  16437.994141   \n",
       "15.0             0.521029  0.681818   0.742762  16437.994141   \n",
       "16.0             0.587831  0.642857   0.681411  16437.994141   \n",
       "17.0             0.510954  0.701299   0.783939  16437.994141   \n",
       "18.0             1.368361  0.551948   0.670845  16437.994141   \n",
       "19.0             0.514295  0.668831   0.774502  16437.994141   \n",
       "20.0             0.494890  0.720779   0.798501  16437.994141   \n",
       "21.0             0.497975  0.720779   0.783762  16437.994141   \n",
       "22.0             0.485205  0.720779   0.795811  16437.994141   \n",
       "23.0             0.558605  0.681818   0.818330  16437.994141   \n",
       "24.0             0.514400  0.681818   0.773132  16437.994141   \n",
       "25.0             0.499970  0.753247   0.813220  16437.994141   \n",
       "26.0             0.444270  0.740260   0.820374  16437.994141   \n",
       "27.0             0.475072  0.746753   0.811566  16437.994141   \n",
       "28.0             0.555674  0.681818   0.818800  16437.994141   \n",
       "29.0             0.462625  0.740260   0.813411  16437.994141   \n",
       "30.0             0.451284  0.766234   0.812033  16437.994141   \n",
       "31.0             0.442745  0.707792   0.819671  16437.994141   \n",
       "32.0             0.468585  0.746753   0.803561  16437.994141   \n",
       "33.0             0.563169  0.675325   0.773566  16437.994141   \n",
       "34.0             0.609344  0.655844   0.822872  16437.994141   \n",
       "35.0             0.442997  0.746753   0.815979  16437.994141   \n",
       "36.0             0.476871  0.701299   0.826601  16437.994141   \n",
       "37.0             0.438253  0.753247   0.816300  16437.994141   \n",
       "38.0             0.414778  0.753247   0.813469  16437.994141   \n",
       "39.0             0.415039  0.746753   0.815930  16437.994141   \n",
       "40.0             0.412945  0.740260   0.816333  16437.994141   \n",
       "41.0             0.412700  0.753247   0.813581  16437.994141   \n",
       "42.0             0.412261  0.753247   0.814405  16437.994141   \n",
       "43.0             0.412287  0.753247   0.814405  16437.994141   \n",
       "\n",
       "       val/loss_rec_epoch  val/n  val/loss_pred_epoch  val/l2_loss  train/n  \\\n",
       "epoch                                                                         \n",
       "0.0           434082.9375  154.0             0.675582  425863.9375    307.0   \n",
       "1.0           434082.9375  154.0             0.708072  425863.9375    307.0   \n",
       "2.0           434082.9375  154.0             0.641758  425863.9375    307.0   \n",
       "3.0           434082.9375  154.0             0.668705  425863.9375    307.0   \n",
       "4.0           434082.9375  154.0             0.668234  425863.9375    307.0   \n",
       "5.0           434082.9375  154.0             0.724875  425863.9375    307.0   \n",
       "6.0           434082.9375  154.0             1.169899  425863.9375    307.0   \n",
       "7.0           434082.9375  154.0             1.262260  425863.9375    307.0   \n",
       "8.0           434082.9375  154.0             1.079983  425863.9375    307.0   \n",
       "9.0           434082.9375  154.0             0.645718  425863.9375    307.0   \n",
       "10.0          434082.9375  154.0             0.733439  425863.9375    307.0   \n",
       "11.0          434082.9375  154.0             0.732056  425863.9375    307.0   \n",
       "12.0          434082.9375  154.0             0.628228  425863.9375    307.0   \n",
       "13.0          434082.9375  154.0             1.641692  425863.9375    307.0   \n",
       "14.0          434082.9375  154.0             0.642030  425863.9375    307.0   \n",
       "15.0          434082.9375  154.0             0.619203  425863.9375    307.0   \n",
       "16.0          434082.9375  154.0             0.812129  425863.9375    307.0   \n",
       "17.0          434082.9375  154.0             0.575469  425863.9375    307.0   \n",
       "18.0          434082.9375  154.0             1.609445  425863.9375    307.0   \n",
       "19.0          434082.9375  154.0             0.597094  425863.9375    307.0   \n",
       "20.0          434082.9375  154.0             0.552289  425863.9375    307.0   \n",
       "21.0          434082.9375  154.0             0.565441  425863.9375    307.0   \n",
       "22.0          434082.9375  154.0             0.576850  425863.9375    307.0   \n",
       "23.0          434082.9375  154.0             0.580117  425863.9375    307.0   \n",
       "24.0          434082.9375  154.0             0.598204  425863.9375    307.0   \n",
       "25.0          434082.9375  154.0             0.525120  425863.9375    307.0   \n",
       "26.0          434082.9375  154.0             0.509455  425863.9375    307.0   \n",
       "27.0          434082.9375  154.0             0.504831  425863.9375    307.0   \n",
       "28.0          434082.9375  154.0             0.607507  425863.9375    307.0   \n",
       "29.0          434082.9375  154.0             0.515112  425863.9375    307.0   \n",
       "30.0          434082.9375  154.0             0.507966  425863.9375    307.0   \n",
       "31.0          434082.9375  154.0             0.559673  425863.9375    307.0   \n",
       "32.0          434082.9375  154.0             0.510009  425863.9375    307.0   \n",
       "33.0          434082.9375  154.0             0.635229  425863.9375    307.0   \n",
       "34.0          434082.9375  154.0             0.685291  425863.9375    307.0   \n",
       "35.0          434082.9375  154.0             0.503653  425863.9375    307.0   \n",
       "36.0          434082.9375  154.0             0.538854  425863.9375    307.0   \n",
       "37.0          434082.9375  154.0             0.509939  425863.9375    307.0   \n",
       "38.0          434082.9375  154.0             0.511835  425863.9375    307.0   \n",
       "39.0          434082.9375  154.0             0.514698  425863.9375    307.0   \n",
       "40.0          434082.9375  154.0             0.512335  425863.9375    307.0   \n",
       "41.0          434082.9375  154.0             0.511711  425863.9375    307.0   \n",
       "42.0          434082.9375  154.0             0.512567  425863.9375    307.0   \n",
       "43.0          434082.9375  154.0             0.512637  425863.9375    307.0   \n",
       "\n",
       "       train/l1_loss  train/loss_rec_epoch  train/l2_loss  train/auroc  \\\n",
       "epoch                                                                    \n",
       "0.0     16519.121094          344612.56250   336353.03125     0.644976   \n",
       "1.0     16519.123047          344612.59375   336353.03125     0.693617   \n",
       "2.0     16519.121094          344612.59375   336353.03125     0.718803   \n",
       "3.0     16519.119141          344612.59375   336353.03125     0.744478   \n",
       "4.0     16519.121094          344612.59375   336353.03125     0.756434   \n",
       "5.0     16519.121094          344612.59375   336353.03125     0.813413   \n",
       "6.0     16519.121094          344612.59375   336353.03125     0.821166   \n",
       "7.0     16519.119141          344612.56250   336353.03125     0.782922   \n",
       "8.0     16519.119141          344612.59375   336353.03125     0.815575   \n",
       "9.0     16519.121094          344612.59375   336353.03125     0.791030   \n",
       "10.0    16519.119141          344612.59375   336353.03125     0.799731   \n",
       "11.0    16519.121094          344612.59375   336353.03125     0.781938   \n",
       "12.0    16519.121094          344612.59375   336353.00000     0.757390   \n",
       "13.0    16519.123047          344612.62500   336353.03125     0.803226   \n",
       "14.0    16519.121094          344612.59375   336353.03125     0.808782   \n",
       "15.0    16519.121094          344612.59375   336353.03125     0.802534   \n",
       "16.0    16519.121094          344612.53125   336353.03125     0.844532   \n",
       "17.0    16519.121094          344612.59375   336353.03125     0.834311   \n",
       "18.0    16519.121094          344612.62500   336353.03125     0.866793   \n",
       "19.0    16519.121094          344612.59375   336353.03125     0.832350   \n",
       "20.0    16519.121094          344612.62500   336353.03125     0.857076   \n",
       "21.0    16519.121094          344612.59375   336353.03125     0.864509   \n",
       "22.0    16519.121094          344612.59375   336353.03125     0.881896   \n",
       "23.0    16519.121094          344612.59375   336353.03125     0.880551   \n",
       "24.0    16519.121094          344612.59375   336353.00000     0.889233   \n",
       "25.0    16519.121094          344612.59375   336353.03125     0.885650   \n",
       "26.0    16519.121094          344612.62500   336353.03125     0.884739   \n",
       "27.0    16519.121094          344612.59375   336353.03125     0.899927   \n",
       "28.0    16519.121094          344612.59375   336353.03125     0.903702   \n",
       "29.0    16519.123047          344612.62500   336353.06250     0.886742   \n",
       "30.0    16519.121094          344612.59375   336353.00000     0.921069   \n",
       "31.0    16519.119141          344612.56250   336353.03125     0.907090   \n",
       "32.0    16519.121094          344612.59375   336353.03125     0.913617   \n",
       "33.0    16519.123047          344612.59375   336353.03125     0.930962   \n",
       "34.0    16519.119141          344612.59375   336353.03125     0.929558   \n",
       "35.0    16519.119141          344612.59375   336353.03125     0.909506   \n",
       "36.0    16519.119141          344612.59375   336353.03125     0.925727   \n",
       "37.0    16519.121094          344612.59375   336353.03125     0.926261   \n",
       "38.0    16519.123047          344612.59375   336353.03125     0.932563   \n",
       "39.0    16519.121094          344612.59375   336353.03125     0.934335   \n",
       "40.0    16519.123047          344612.59375   336353.03125     0.941051   \n",
       "41.0    16519.123047          344612.59375   336353.03125     0.942792   \n",
       "42.0    16519.119141          344612.56250   336353.03125     0.946595   \n",
       "43.0    16519.121094          344612.59375   336353.03125     0.929539   \n",
       "\n",
       "       train/loss_pred_epoch  train/acc  \n",
       "epoch                                    \n",
       "0.0                 0.734680   0.576547  \n",
       "1.0                 0.671386   0.583062  \n",
       "2.0                 0.643272   0.654723  \n",
       "3.0                 0.636399   0.661238  \n",
       "4.0                 0.703600   0.609121  \n",
       "5.0                 0.606972   0.657980  \n",
       "6.0                 0.706567   0.605863  \n",
       "7.0                 0.728517   0.635179  \n",
       "8.0                 0.720674   0.589577  \n",
       "9.0                 0.818828   0.566775  \n",
       "10.0                0.608062   0.687296  \n",
       "11.0                0.721151   0.589577  \n",
       "12.0                0.706083   0.563518  \n",
       "13.0                0.583009   0.661238  \n",
       "14.0                0.738327   0.638436  \n",
       "15.0                0.641488   0.644951  \n",
       "16.0                0.604061   0.706840  \n",
       "17.0                0.582068   0.687296  \n",
       "18.0                0.519147   0.752443  \n",
       "19.0                0.780163   0.671010  \n",
       "20.0                0.543142   0.736156  \n",
       "21.0                0.496256   0.781759  \n",
       "22.0                0.459051   0.781759  \n",
       "23.0                0.510156   0.752443  \n",
       "24.0                0.483187   0.745928  \n",
       "25.0                0.521461   0.726384  \n",
       "26.0                0.454626   0.785016  \n",
       "27.0                0.427676   0.791531  \n",
       "28.0                0.415076   0.781759  \n",
       "29.0                0.463156   0.762215  \n",
       "30.0                0.416532   0.804560  \n",
       "31.0                0.371414   0.824104  \n",
       "32.0                0.375423   0.817590  \n",
       "33.0                0.357142   0.811075  \n",
       "34.0                0.409185   0.807818  \n",
       "35.0                0.445129   0.771987  \n",
       "36.0                0.367817   0.820847  \n",
       "37.0                0.349602   0.843648  \n",
       "38.0                0.348991   0.846906  \n",
       "39.0                0.329925   0.850163  \n",
       "40.0                0.326241   0.846906  \n",
       "41.0                0.324854   0.859935  \n",
       "42.0                0.322408   0.863192  \n",
       "43.0                0.322021   0.863192  "
      ]
     },
     "execution_count": 41,
     "metadata": {},
     "output_type": "execute_result"
    }
   ],
   "source": [
    "df_hist, _ = read_metrics_csv(trainer2.logger.experiment.metrics_file_path)\n",
    "plot_hist(df_hist, ['loss_pred_epoch', 'auroc'])\n",
    "df_hist"
   ]
  },
  {
   "cell_type": "code",
   "execution_count": 42,
   "metadata": {},
   "outputs": [
    {
     "name": "stderr",
     "output_type": "stream",
     "text": [
      "LOCAL_RANK: 0 - CUDA_VISIBLE_DEVICES: [0,1]\n",
      "/media/wassname/SGIronWolf/projects5/elk/sgd_probes_are_lie_detectors/.venv/lib/python3.11/site-packages/lightning/pytorch/trainer/connectors/data_connector.py:492: Your `test_dataloader`'s sampler has shuffling enabled, it is strongly recommended that you turn shuffling off for val/test dataloaders.\n",
      "/media/wassname/SGIronWolf/projects5/elk/sgd_probes_are_lie_detectors/.venv/lib/python3.11/site-packages/lightning/pytorch/trainer/connectors/data_connector.py:441: The 'test_dataloader' does not have many workers which may be a bottleneck. Consider increasing the value of the `num_workers` argument` to `num_workers=23` in the `DataLoader` to improve performance.\n"
     ]
    },
    {
     "data": {
      "application/vnd.jupyter.widget-view+json": {
       "model_id": "d918e5b7ea634168bcaff4b5bf3f0003",
       "version_major": 2,
       "version_minor": 0
      },
      "text/plain": [
       "Testing: |          | 0/? [00:00<?, ?it/s]"
      ]
     },
     "metadata": {},
     "output_type": "display_data"
    },
    {
     "data": {
      "text/html": [
       "<pre style=\"white-space:pre;overflow-x:auto;line-height:normal;font-family:Menlo,'DejaVu Sans Mono',consolas,'Courier New',monospace\">┏━━━━━━━━━━━━━━━━━━━━━━━━━━━┳━━━━━━━━━━━━━━━━━━━━━━━━━━━┳━━━━━━━━━━━━━━━━━━━━━━━━━━━┳━━━━━━━━━━━━━━━━━━━━━━━━━━━┓\n",
       "┃<span style=\"font-weight: bold\">        Test metric        </span>┃<span style=\"font-weight: bold\">       DataLoader 0        </span>┃<span style=\"font-weight: bold\">       DataLoader 1        </span>┃<span style=\"font-weight: bold\">       DataLoader 2        </span>┃\n",
       "┡━━━━━━━━━━━━━━━━━━━━━━━━━━━╇━━━━━━━━━━━━━━━━━━━━━━━━━━━╇━━━━━━━━━━━━━━━━━━━━━━━━━━━╇━━━━━━━━━━━━━━━━━━━━━━━━━━━┩\n",
       "│<span style=\"color: #008080; text-decoration-color: #008080\">         test/acc          </span>│<span style=\"color: #800080; text-decoration-color: #800080\">    0.8631922006607056     </span>│<span style=\"color: #800080; text-decoration-color: #800080\">    0.7532467246055603     </span>│<span style=\"color: #800080; text-decoration-color: #800080\">    0.7792207598686218     </span>│\n",
       "│<span style=\"color: #008080; text-decoration-color: #008080\">        test/auroc         </span>│<span style=\"color: #800080; text-decoration-color: #800080\">    0.9291849136352539     </span>│<span style=\"color: #800080; text-decoration-color: #800080\">    0.8144053220748901     </span>│<span style=\"color: #800080; text-decoration-color: #800080\">    0.8583093881607056     </span>│\n",
       "│<span style=\"color: #008080; text-decoration-color: #008080\">       test/l1_loss        </span>│<span style=\"color: #800080; text-decoration-color: #800080\">      16519.123046875      </span>│<span style=\"color: #800080; text-decoration-color: #800080\">      16437.994140625      </span>│<span style=\"color: #800080; text-decoration-color: #800080\">      16585.658203125      </span>│\n",
       "│<span style=\"color: #008080; text-decoration-color: #008080\">       test/l2_loss        </span>│<span style=\"color: #800080; text-decoration-color: #800080\">       336353.03125        </span>│<span style=\"color: #800080; text-decoration-color: #800080\">        425863.9375        </span>│<span style=\"color: #800080; text-decoration-color: #800080\">         400474.75         </span>│\n",
       "│<span style=\"color: #008080; text-decoration-color: #008080\">   test/loss_pred_epoch    </span>│<span style=\"color: #800080; text-decoration-color: #800080\">    0.32199224829673767    </span>│<span style=\"color: #800080; text-decoration-color: #800080\">    0.5126374959945679     </span>│<span style=\"color: #800080; text-decoration-color: #800080\">    0.4895579218864441     </span>│\n",
       "│<span style=\"color: #008080; text-decoration-color: #008080\">    test/loss_rec_epoch    </span>│<span style=\"color: #800080; text-decoration-color: #800080\">       344612.59375        </span>│<span style=\"color: #800080; text-decoration-color: #800080\">        434082.9375        </span>│<span style=\"color: #800080; text-decoration-color: #800080\">       408767.59375        </span>│\n",
       "│<span style=\"color: #008080; text-decoration-color: #008080\">          test/n           </span>│<span style=\"color: #800080; text-decoration-color: #800080\">           307.0           </span>│<span style=\"color: #800080; text-decoration-color: #800080\">           154.0           </span>│<span style=\"color: #800080; text-decoration-color: #800080\">           154.0           </span>│\n",
       "└───────────────────────────┴───────────────────────────┴───────────────────────────┴───────────────────────────┘\n",
       "</pre>\n"
      ],
      "text/plain": [
       "┏━━━━━━━━━━━━━━━━━━━━━━━━━━━┳━━━━━━━━━━━━━━━━━━━━━━━━━━━┳━━━━━━━━━━━━━━━━━━━━━━━━━━━┳━━━━━━━━━━━━━━━━━━━━━━━━━━━┓\n",
       "┃\u001b[1m \u001b[0m\u001b[1m       Test metric       \u001b[0m\u001b[1m \u001b[0m┃\u001b[1m \u001b[0m\u001b[1m      DataLoader 0       \u001b[0m\u001b[1m \u001b[0m┃\u001b[1m \u001b[0m\u001b[1m      DataLoader 1       \u001b[0m\u001b[1m \u001b[0m┃\u001b[1m \u001b[0m\u001b[1m      DataLoader 2       \u001b[0m\u001b[1m \u001b[0m┃\n",
       "┡━━━━━━━━━━━━━━━━━━━━━━━━━━━╇━━━━━━━━━━━━━━━━━━━━━━━━━━━╇━━━━━━━━━━━━━━━━━━━━━━━━━━━╇━━━━━━━━━━━━━━━━━━━━━━━━━━━┩\n",
       "│\u001b[36m \u001b[0m\u001b[36m        test/acc         \u001b[0m\u001b[36m \u001b[0m│\u001b[35m \u001b[0m\u001b[35m   0.8631922006607056    \u001b[0m\u001b[35m \u001b[0m│\u001b[35m \u001b[0m\u001b[35m   0.7532467246055603    \u001b[0m\u001b[35m \u001b[0m│\u001b[35m \u001b[0m\u001b[35m   0.7792207598686218    \u001b[0m\u001b[35m \u001b[0m│\n",
       "│\u001b[36m \u001b[0m\u001b[36m       test/auroc        \u001b[0m\u001b[36m \u001b[0m│\u001b[35m \u001b[0m\u001b[35m   0.9291849136352539    \u001b[0m\u001b[35m \u001b[0m│\u001b[35m \u001b[0m\u001b[35m   0.8144053220748901    \u001b[0m\u001b[35m \u001b[0m│\u001b[35m \u001b[0m\u001b[35m   0.8583093881607056    \u001b[0m\u001b[35m \u001b[0m│\n",
       "│\u001b[36m \u001b[0m\u001b[36m      test/l1_loss       \u001b[0m\u001b[36m \u001b[0m│\u001b[35m \u001b[0m\u001b[35m     16519.123046875     \u001b[0m\u001b[35m \u001b[0m│\u001b[35m \u001b[0m\u001b[35m     16437.994140625     \u001b[0m\u001b[35m \u001b[0m│\u001b[35m \u001b[0m\u001b[35m     16585.658203125     \u001b[0m\u001b[35m \u001b[0m│\n",
       "│\u001b[36m \u001b[0m\u001b[36m      test/l2_loss       \u001b[0m\u001b[36m \u001b[0m│\u001b[35m \u001b[0m\u001b[35m      336353.03125       \u001b[0m\u001b[35m \u001b[0m│\u001b[35m \u001b[0m\u001b[35m       425863.9375       \u001b[0m\u001b[35m \u001b[0m│\u001b[35m \u001b[0m\u001b[35m        400474.75        \u001b[0m\u001b[35m \u001b[0m│\n",
       "│\u001b[36m \u001b[0m\u001b[36m  test/loss_pred_epoch   \u001b[0m\u001b[36m \u001b[0m│\u001b[35m \u001b[0m\u001b[35m   0.32199224829673767   \u001b[0m\u001b[35m \u001b[0m│\u001b[35m \u001b[0m\u001b[35m   0.5126374959945679    \u001b[0m\u001b[35m \u001b[0m│\u001b[35m \u001b[0m\u001b[35m   0.4895579218864441    \u001b[0m\u001b[35m \u001b[0m│\n",
       "│\u001b[36m \u001b[0m\u001b[36m   test/loss_rec_epoch   \u001b[0m\u001b[36m \u001b[0m│\u001b[35m \u001b[0m\u001b[35m      344612.59375       \u001b[0m\u001b[35m \u001b[0m│\u001b[35m \u001b[0m\u001b[35m       434082.9375       \u001b[0m\u001b[35m \u001b[0m│\u001b[35m \u001b[0m\u001b[35m      408767.59375       \u001b[0m\u001b[35m \u001b[0m│\n",
       "│\u001b[36m \u001b[0m\u001b[36m         test/n          \u001b[0m\u001b[36m \u001b[0m│\u001b[35m \u001b[0m\u001b[35m          307.0          \u001b[0m\u001b[35m \u001b[0m│\u001b[35m \u001b[0m\u001b[35m          154.0          \u001b[0m\u001b[35m \u001b[0m│\u001b[35m \u001b[0m\u001b[35m          154.0          \u001b[0m\u001b[35m \u001b[0m│\n",
       "└───────────────────────────┴───────────────────────────┴───────────────────────────┴───────────────────────────┘\n"
      ]
     },
     "metadata": {},
     "output_type": "display_data"
    },
    {
     "data": {
      "text/html": [
       "<pre style=\"white-space:pre;overflow-x:auto;line-height:normal;font-family:Menlo,'DejaVu Sans Mono',consolas,'Courier New',monospace\">┏━━━━━━━━━━━━━━━━━━━━━━━━━━━┳━━━━━━━━━━━━━━━━━━━━━━━━━━━┓\n",
       "┃<span style=\"font-weight: bold\">        Test metric        </span>┃<span style=\"font-weight: bold\">       DataLoader 3        </span>┃\n",
       "┡━━━━━━━━━━━━━━━━━━━━━━━━━━━╇━━━━━━━━━━━━━━━━━━━━━━━━━━━┩\n",
       "│<span style=\"color: #008080; text-decoration-color: #008080\">         test/acc          </span>│<span style=\"color: #800080; text-decoration-color: #800080\">    0.8146341443061829     </span>│\n",
       "│<span style=\"color: #008080; text-decoration-color: #008080\">        test/auroc         </span>│<span style=\"color: #800080; text-decoration-color: #800080\">    0.8867481350898743     </span>│\n",
       "│<span style=\"color: #008080; text-decoration-color: #008080\">       test/l1_loss        </span>│<span style=\"color: #800080; text-decoration-color: #800080\">      16515.486328125      </span>│\n",
       "│<span style=\"color: #008080; text-decoration-color: #008080\">       test/l2_loss        </span>│<span style=\"color: #800080; text-decoration-color: #800080\">       374822.71875        </span>│\n",
       "│<span style=\"color: #008080; text-decoration-color: #008080\">   test/loss_pred_epoch    </span>│<span style=\"color: #800080; text-decoration-color: #800080\">    0.41169214248657227    </span>│\n",
       "│<span style=\"color: #008080; text-decoration-color: #008080\">    test/loss_rec_epoch    </span>│<span style=\"color: #800080; text-decoration-color: #800080\">        383080.4375        </span>│\n",
       "│<span style=\"color: #008080; text-decoration-color: #008080\">          test/n           </span>│<span style=\"color: #800080; text-decoration-color: #800080\">           615.0           </span>│\n",
       "└───────────────────────────┴───────────────────────────┘\n",
       "</pre>\n"
      ],
      "text/plain": [
       "┏━━━━━━━━━━━━━━━━━━━━━━━━━━━┳━━━━━━━━━━━━━━━━━━━━━━━━━━━┓\n",
       "┃\u001b[1m \u001b[0m\u001b[1m       Test metric       \u001b[0m\u001b[1m \u001b[0m┃\u001b[1m \u001b[0m\u001b[1m      DataLoader 3       \u001b[0m\u001b[1m \u001b[0m┃\n",
       "┡━━━━━━━━━━━━━━━━━━━━━━━━━━━╇━━━━━━━━━━━━━━━━━━━━━━━━━━━┩\n",
       "│\u001b[36m \u001b[0m\u001b[36m        test/acc         \u001b[0m\u001b[36m \u001b[0m│\u001b[35m \u001b[0m\u001b[35m   0.8146341443061829    \u001b[0m\u001b[35m \u001b[0m│\n",
       "│\u001b[36m \u001b[0m\u001b[36m       test/auroc        \u001b[0m\u001b[36m \u001b[0m│\u001b[35m \u001b[0m\u001b[35m   0.8867481350898743    \u001b[0m\u001b[35m \u001b[0m│\n",
       "│\u001b[36m \u001b[0m\u001b[36m      test/l1_loss       \u001b[0m\u001b[36m \u001b[0m│\u001b[35m \u001b[0m\u001b[35m     16515.486328125     \u001b[0m\u001b[35m \u001b[0m│\n",
       "│\u001b[36m \u001b[0m\u001b[36m      test/l2_loss       \u001b[0m\u001b[36m \u001b[0m│\u001b[35m \u001b[0m\u001b[35m      374822.71875       \u001b[0m\u001b[35m \u001b[0m│\n",
       "│\u001b[36m \u001b[0m\u001b[36m  test/loss_pred_epoch   \u001b[0m\u001b[36m \u001b[0m│\u001b[35m \u001b[0m\u001b[35m   0.41169214248657227   \u001b[0m\u001b[35m \u001b[0m│\n",
       "│\u001b[36m \u001b[0m\u001b[36m   test/loss_rec_epoch   \u001b[0m\u001b[36m \u001b[0m│\u001b[35m \u001b[0m\u001b[35m       383080.4375       \u001b[0m\u001b[35m \u001b[0m│\n",
       "│\u001b[36m \u001b[0m\u001b[36m         test/n          \u001b[0m\u001b[36m \u001b[0m│\u001b[35m \u001b[0m\u001b[35m          615.0          \u001b[0m\u001b[35m \u001b[0m│\n",
       "└───────────────────────────┴───────────────────────────┘\n"
      ]
     },
     "metadata": {},
     "output_type": "display_data"
    }
   ],
   "source": [
    "# predict\n",
    "# print(f\"training with x_feats={x_feats} with c={c}\")\n",
    "rs = trainer2.test(net, dataloaders=[dl_train, dl_val, dl_test, dl_ood])\n"
   ]
  },
  {
   "cell_type": "code",
   "execution_count": 43,
   "metadata": {},
   "outputs": [],
   "source": [
    "# testval_metrics = calc_metrics(dm, trainer2, net, use_val=True)\n",
    "rs = rename_pl_test_results(rs, [\"train\", \"val\", \"test\", \"ood\"])\n",
    "# rs['test'] = {**rs['test'], **test_metrics}\n",
    "# rs[\"test\"][\"acc_lie_lie\"] = testval_metrics[\"acc_lie_lie\"]\n",
    "rs[\"testval_metrics\"] = rs[\"test\"]"
   ]
  },
  {
   "cell_type": "markdown",
   "metadata": {},
   "source": [
    "#### how well does it generalize to other datasets?\n"
   ]
  },
  {
   "cell_type": "code",
   "execution_count": 44,
   "metadata": {},
   "outputs": [
    {
     "name": "stderr",
     "output_type": "stream",
     "text": [
      "LOCAL_RANK: 0 - CUDA_VISIBLE_DEVICES: [0,1]\n"
     ]
    },
    {
     "data": {
      "application/vnd.jupyter.widget-view+json": {
       "model_id": "d9d78ffe0cef49109eabec84c15cef73",
       "version_major": 2,
       "version_minor": 0
      },
      "text/plain": [
       "Testing: |          | 0/? [00:00<?, ?it/s]"
      ]
     },
     "metadata": {},
     "output_type": "display_data"
    },
    {
     "data": {
      "text/html": [
       "<pre style=\"white-space:pre;overflow-x:auto;line-height:normal;font-family:Menlo,'DejaVu Sans Mono',consolas,'Courier New',monospace\">┏━━━━━━━━━━━━━━━━━━━━━━━━━━━┳━━━━━━━━━━━━━━━━━━━━━━━━━━━┓\n",
       "┃<span style=\"font-weight: bold\">        Test metric        </span>┃<span style=\"font-weight: bold\">       DataLoader 0        </span>┃\n",
       "┡━━━━━━━━━━━━━━━━━━━━━━━━━━━╇━━━━━━━━━━━━━━━━━━━━━━━━━━━┩\n",
       "│<span style=\"color: #008080; text-decoration-color: #008080\">         test/acc          </span>│<span style=\"color: #800080; text-decoration-color: #800080\">    0.8146341443061829     </span>│\n",
       "│<span style=\"color: #008080; text-decoration-color: #008080\">        test/auroc         </span>│<span style=\"color: #800080; text-decoration-color: #800080\">    0.8869682550430298     </span>│\n",
       "│<span style=\"color: #008080; text-decoration-color: #008080\">       test/l1_loss        </span>│<span style=\"color: #800080; text-decoration-color: #800080\">      16516.830078125      </span>│\n",
       "│<span style=\"color: #008080; text-decoration-color: #008080\">       test/l2_loss        </span>│<span style=\"color: #800080; text-decoration-color: #800080\">       374832.40625        </span>│\n",
       "│<span style=\"color: #008080; text-decoration-color: #008080\">   test/loss_pred_epoch    </span>│<span style=\"color: #800080; text-decoration-color: #800080\">    0.41171228885650635    </span>│\n",
       "│<span style=\"color: #008080; text-decoration-color: #008080\">    test/loss_rec_epoch    </span>│<span style=\"color: #800080; text-decoration-color: #800080\">        383090.875         </span>│\n",
       "│<span style=\"color: #008080; text-decoration-color: #008080\">          test/n           </span>│<span style=\"color: #800080; text-decoration-color: #800080\">           615.0           </span>│\n",
       "└───────────────────────────┴───────────────────────────┘\n",
       "</pre>\n"
      ],
      "text/plain": [
       "┏━━━━━━━━━━━━━━━━━━━━━━━━━━━┳━━━━━━━━━━━━━━━━━━━━━━━━━━━┓\n",
       "┃\u001b[1m \u001b[0m\u001b[1m       Test metric       \u001b[0m\u001b[1m \u001b[0m┃\u001b[1m \u001b[0m\u001b[1m      DataLoader 0       \u001b[0m\u001b[1m \u001b[0m┃\n",
       "┡━━━━━━━━━━━━━━━━━━━━━━━━━━━╇━━━━━━━━━━━━━━━━━━━━━━━━━━━┩\n",
       "│\u001b[36m \u001b[0m\u001b[36m        test/acc         \u001b[0m\u001b[36m \u001b[0m│\u001b[35m \u001b[0m\u001b[35m   0.8146341443061829    \u001b[0m\u001b[35m \u001b[0m│\n",
       "│\u001b[36m \u001b[0m\u001b[36m       test/auroc        \u001b[0m\u001b[36m \u001b[0m│\u001b[35m \u001b[0m\u001b[35m   0.8869682550430298    \u001b[0m\u001b[35m \u001b[0m│\n",
       "│\u001b[36m \u001b[0m\u001b[36m      test/l1_loss       \u001b[0m\u001b[36m \u001b[0m│\u001b[35m \u001b[0m\u001b[35m     16516.830078125     \u001b[0m\u001b[35m \u001b[0m│\n",
       "│\u001b[36m \u001b[0m\u001b[36m      test/l2_loss       \u001b[0m\u001b[36m \u001b[0m│\u001b[35m \u001b[0m\u001b[35m      374832.40625       \u001b[0m\u001b[35m \u001b[0m│\n",
       "│\u001b[36m \u001b[0m\u001b[36m  test/loss_pred_epoch   \u001b[0m\u001b[36m \u001b[0m│\u001b[35m \u001b[0m\u001b[35m   0.41171228885650635   \u001b[0m\u001b[35m \u001b[0m│\n",
       "│\u001b[36m \u001b[0m\u001b[36m   test/loss_rec_epoch   \u001b[0m\u001b[36m \u001b[0m│\u001b[35m \u001b[0m\u001b[35m       383090.875        \u001b[0m\u001b[35m \u001b[0m│\n",
       "│\u001b[36m \u001b[0m\u001b[36m         test/n          \u001b[0m\u001b[36m \u001b[0m│\u001b[35m \u001b[0m\u001b[35m          615.0          \u001b[0m\u001b[35m \u001b[0m│\n",
       "└───────────────────────────┴───────────────────────────┘\n"
      ]
     },
     "metadata": {},
     "output_type": "display_data"
    }
   ],
   "source": [
    "# print(f\"training with x_feats={x_feats} with c={c}\")\n",
    "rs2 = trainer1.test(net, dataloaders=[dl_ood])\n",
    "rs2 = rename_pl_test_results(rs2, ks=[\"ood\"])\n",
    "\n",
    "# testval_metrics2 = calc_metrics(dm_ood, trainer1, net, use_val=True)\n",
    "# rs[\"ood\"][\"acc_lie_lie\"] = testval_metrics2[\"acc_lie_lie\"]\n",
    "# rs[\"ood_metrics\"] = rs2[\"ood\"]\n",
    "# rs\n"
   ]
  },
  {
   "cell_type": "markdown",
   "metadata": {},
   "source": [
    "### Train end-to-end\n"
   ]
  },
  {
   "cell_type": "code",
   "execution_count": 45,
   "metadata": {},
   "outputs": [
    {
     "name": "stderr",
     "output_type": "stream",
     "text": [
      "Trainer will use only 1 of 2 GPUs because it is running inside an interactive / notebook environment. You may try to set `Trainer(devices=2)` but please note that multi-GPU inside interactive / notebook environments is considered experimental and unstable. Your mileage may vary.\n",
      "Using 16bit Automatic Mixed Precision (AMP)\n",
      "GPU available: True (cuda), used: True\n",
      "TPU available: False, using: 0 TPU cores\n",
      "IPU available: False, using: 0 IPUs\n",
      "HPU available: False, using: 0 HPUs\n",
      "LOCAL_RANK: 0 - CUDA_VISIBLE_DEVICES: [0,1]\n",
      "\n",
      "  | Name | Type        | Params\n",
      "-------------------------------------\n",
      "0 | ae   | AutoEncoder | 82.7 M\n",
      "1 | head | Sequential  | 4.1 M \n",
      "-------------------------------------\n",
      "86.8 M    Trainable params\n",
      "0         Non-trainable params\n",
      "86.8 M    Total params\n",
      "347.287   Total estimated model params size (MB)\n"
     ]
    },
    {
     "name": "stdout",
     "output_type": "stream",
     "text": [
      "training both ae and probe\n",
      "requires_grad: True\n"
     ]
    },
    {
     "data": {
      "application/vnd.jupyter.widget-view+json": {
       "model_id": "29533ab19b444961a440791923a95964",
       "version_major": 2,
       "version_minor": 0
      },
      "text/plain": [
       "Sanity Checking: |          | 0/? [00:00<?, ?it/s]"
      ]
     },
     "metadata": {},
     "output_type": "display_data"
    },
    {
     "name": "stderr",
     "output_type": "stream",
     "text": [
      "/media/wassname/SGIronWolf/projects5/elk/sgd_probes_are_lie_detectors/.venv/lib/python3.11/site-packages/lightning/pytorch/trainer/connectors/data_connector.py:441: The 'val_dataloader' does not have many workers which may be a bottleneck. Consider increasing the value of the `num_workers` argument` to `num_workers=23` in the `DataLoader` to improve performance.\n",
      "/media/wassname/SGIronWolf/projects5/elk/sgd_probes_are_lie_detectors/.venv/lib/python3.11/site-packages/lightning/pytorch/trainer/connectors/data_connector.py:441: The 'train_dataloader' does not have many workers which may be a bottleneck. Consider increasing the value of the `num_workers` argument` to `num_workers=23` in the `DataLoader` to improve performance.\n"
     ]
    },
    {
     "data": {
      "application/vnd.jupyter.widget-view+json": {
       "model_id": "36d664b8e6f54339af4b56e704be928e",
       "version_major": 2,
       "version_minor": 0
      },
      "text/plain": [
       "Training: |          | 0/? [00:00<?, ?it/s]"
      ]
     },
     "metadata": {},
     "output_type": "display_data"
    },
    {
     "data": {
      "application/vnd.jupyter.widget-view+json": {
       "model_id": "0daa43cefb8443db8b9cde4434508fb8",
       "version_major": 2,
       "version_minor": 0
      },
      "text/plain": [
       "Validation: |          | 0/? [00:00<?, ?it/s]"
      ]
     },
     "metadata": {},
     "output_type": "display_data"
    },
    {
     "data": {
      "application/vnd.jupyter.widget-view+json": {
       "model_id": "66e239a332804286a42efcb180f80a92",
       "version_major": 2,
       "version_minor": 0
      },
      "text/plain": [
       "Validation: |          | 0/? [00:00<?, ?it/s]"
      ]
     },
     "metadata": {},
     "output_type": "display_data"
    },
    {
     "data": {
      "application/vnd.jupyter.widget-view+json": {
       "model_id": "8c0bcc139cbf4c899e6258c9cbd32ee6",
       "version_major": 2,
       "version_minor": 0
      },
      "text/plain": [
       "Validation: |          | 0/? [00:00<?, ?it/s]"
      ]
     },
     "metadata": {},
     "output_type": "display_data"
    },
    {
     "data": {
      "application/vnd.jupyter.widget-view+json": {
       "model_id": "805b5414f1584c8d87a40d9f4cfa5d4c",
       "version_major": 2,
       "version_minor": 0
      },
      "text/plain": [
       "Validation: |          | 0/? [00:00<?, ?it/s]"
      ]
     },
     "metadata": {},
     "output_type": "display_data"
    },
    {
     "data": {
      "application/vnd.jupyter.widget-view+json": {
       "model_id": "90843221b5434be4979eb0d3de6f309b",
       "version_major": 2,
       "version_minor": 0
      },
      "text/plain": [
       "Validation: |          | 0/? [00:00<?, ?it/s]"
      ]
     },
     "metadata": {},
     "output_type": "display_data"
    },
    {
     "data": {
      "application/vnd.jupyter.widget-view+json": {
       "model_id": "8a276f8f59fd493a911bee53c191e61b",
       "version_major": 2,
       "version_minor": 0
      },
      "text/plain": [
       "Validation: |          | 0/? [00:00<?, ?it/s]"
      ]
     },
     "metadata": {},
     "output_type": "display_data"
    },
    {
     "data": {
      "application/vnd.jupyter.widget-view+json": {
       "model_id": "6b870faa80164e5ca48c005bab0ea0ed",
       "version_major": 2,
       "version_minor": 0
      },
      "text/plain": [
       "Validation: |          | 0/? [00:00<?, ?it/s]"
      ]
     },
     "metadata": {},
     "output_type": "display_data"
    },
    {
     "data": {
      "application/vnd.jupyter.widget-view+json": {
       "model_id": "a996e9934ba445b1a8bb342fde4ba6b9",
       "version_major": 2,
       "version_minor": 0
      },
      "text/plain": [
       "Validation: |          | 0/? [00:00<?, ?it/s]"
      ]
     },
     "metadata": {},
     "output_type": "display_data"
    },
    {
     "data": {
      "application/vnd.jupyter.widget-view+json": {
       "model_id": "fad689be5f894684abe7cf2eaa721bc2",
       "version_major": 2,
       "version_minor": 0
      },
      "text/plain": [
       "Validation: |          | 0/? [00:00<?, ?it/s]"
      ]
     },
     "metadata": {},
     "output_type": "display_data"
    },
    {
     "data": {
      "application/vnd.jupyter.widget-view+json": {
       "model_id": "234ed0143d0d4c57b8333f5092583c7e",
       "version_major": 2,
       "version_minor": 0
      },
      "text/plain": [
       "Validation: |          | 0/? [00:00<?, ?it/s]"
      ]
     },
     "metadata": {},
     "output_type": "display_data"
    },
    {
     "data": {
      "application/vnd.jupyter.widget-view+json": {
       "model_id": "da729983683c4fdeb5cf039d35247636",
       "version_major": 2,
       "version_minor": 0
      },
      "text/plain": [
       "Validation: |          | 0/? [00:00<?, ?it/s]"
      ]
     },
     "metadata": {},
     "output_type": "display_data"
    },
    {
     "data": {
      "application/vnd.jupyter.widget-view+json": {
       "model_id": "159fe1116a404cf7bc92caae8f14d0f1",
       "version_major": 2,
       "version_minor": 0
      },
      "text/plain": [
       "Validation: |          | 0/? [00:00<?, ?it/s]"
      ]
     },
     "metadata": {},
     "output_type": "display_data"
    },
    {
     "data": {
      "application/vnd.jupyter.widget-view+json": {
       "model_id": "7d745fae3cbc46fea22e6a2acb6b680f",
       "version_major": 2,
       "version_minor": 0
      },
      "text/plain": [
       "Validation: |          | 0/? [00:00<?, ?it/s]"
      ]
     },
     "metadata": {},
     "output_type": "display_data"
    },
    {
     "data": {
      "application/vnd.jupyter.widget-view+json": {
       "model_id": "67abcb66bbdc48ae861475f03961aea8",
       "version_major": 2,
       "version_minor": 0
      },
      "text/plain": [
       "Validation: |          | 0/? [00:00<?, ?it/s]"
      ]
     },
     "metadata": {},
     "output_type": "display_data"
    },
    {
     "data": {
      "application/vnd.jupyter.widget-view+json": {
       "model_id": "3bb9e134e0f44f749c850cb36443d157",
       "version_major": 2,
       "version_minor": 0
      },
      "text/plain": [
       "Validation: |          | 0/? [00:00<?, ?it/s]"
      ]
     },
     "metadata": {},
     "output_type": "display_data"
    },
    {
     "data": {
      "application/vnd.jupyter.widget-view+json": {
       "model_id": "23e116ccf62242b6b0dcddb2ced4ba47",
       "version_major": 2,
       "version_minor": 0
      },
      "text/plain": [
       "Validation: |          | 0/? [00:00<?, ?it/s]"
      ]
     },
     "metadata": {},
     "output_type": "display_data"
    },
    {
     "data": {
      "application/vnd.jupyter.widget-view+json": {
       "model_id": "fd473b0cd9234ba6917ee328c2755f3f",
       "version_major": 2,
       "version_minor": 0
      },
      "text/plain": [
       "Validation: |          | 0/? [00:00<?, ?it/s]"
      ]
     },
     "metadata": {},
     "output_type": "display_data"
    },
    {
     "data": {
      "application/vnd.jupyter.widget-view+json": {
       "model_id": "833e5b7169694461885e4410f2e1ccd3",
       "version_major": 2,
       "version_minor": 0
      },
      "text/plain": [
       "Validation: |          | 0/? [00:00<?, ?it/s]"
      ]
     },
     "metadata": {},
     "output_type": "display_data"
    },
    {
     "data": {
      "application/vnd.jupyter.widget-view+json": {
       "model_id": "9922c99f112a4c5bbd78e04daa2e6f71",
       "version_major": 2,
       "version_minor": 0
      },
      "text/plain": [
       "Validation: |          | 0/? [00:00<?, ?it/s]"
      ]
     },
     "metadata": {},
     "output_type": "display_data"
    },
    {
     "data": {
      "application/vnd.jupyter.widget-view+json": {
       "model_id": "6f0c88f7a00b4b17b48b2a7c0002d9ed",
       "version_major": 2,
       "version_minor": 0
      },
      "text/plain": [
       "Validation: |          | 0/? [00:00<?, ?it/s]"
      ]
     },
     "metadata": {},
     "output_type": "display_data"
    },
    {
     "data": {
      "application/vnd.jupyter.widget-view+json": {
       "model_id": "9c061a9ff67d4dc7a098c041bef3d034",
       "version_major": 2,
       "version_minor": 0
      },
      "text/plain": [
       "Validation: |          | 0/? [00:00<?, ?it/s]"
      ]
     },
     "metadata": {},
     "output_type": "display_data"
    },
    {
     "data": {
      "application/vnd.jupyter.widget-view+json": {
       "model_id": "4e3c1c28f9d7450b92939becd47c2c39",
       "version_major": 2,
       "version_minor": 0
      },
      "text/plain": [
       "Validation: |          | 0/? [00:00<?, ?it/s]"
      ]
     },
     "metadata": {},
     "output_type": "display_data"
    },
    {
     "data": {
      "application/vnd.jupyter.widget-view+json": {
       "model_id": "15b84db062eb400f8c2d6898ea2bc7a3",
       "version_major": 2,
       "version_minor": 0
      },
      "text/plain": [
       "Validation: |          | 0/? [00:00<?, ?it/s]"
      ]
     },
     "metadata": {},
     "output_type": "display_data"
    },
    {
     "data": {
      "application/vnd.jupyter.widget-view+json": {
       "model_id": "601a28ef88374578869f912437522335",
       "version_major": 2,
       "version_minor": 0
      },
      "text/plain": [
       "Validation: |          | 0/? [00:00<?, ?it/s]"
      ]
     },
     "metadata": {},
     "output_type": "display_data"
    },
    {
     "data": {
      "application/vnd.jupyter.widget-view+json": {
       "model_id": "3b127199e5c04e4bb6d8ed0827eb0012",
       "version_major": 2,
       "version_minor": 0
      },
      "text/plain": [
       "Validation: |          | 0/? [00:00<?, ?it/s]"
      ]
     },
     "metadata": {},
     "output_type": "display_data"
    },
    {
     "data": {
      "application/vnd.jupyter.widget-view+json": {
       "model_id": "bcb47eab74884e22a7a3d7fddd2c7eb0",
       "version_major": 2,
       "version_minor": 0
      },
      "text/plain": [
       "Validation: |          | 0/? [00:00<?, ?it/s]"
      ]
     },
     "metadata": {},
     "output_type": "display_data"
    },
    {
     "data": {
      "application/vnd.jupyter.widget-view+json": {
       "model_id": "a6348614414b43f786e06be56588807f",
       "version_major": 2,
       "version_minor": 0
      },
      "text/plain": [
       "Validation: |          | 0/? [00:00<?, ?it/s]"
      ]
     },
     "metadata": {},
     "output_type": "display_data"
    },
    {
     "data": {
      "application/vnd.jupyter.widget-view+json": {
       "model_id": "914fdc5ee8a64caab59380b36093c68d",
       "version_major": 2,
       "version_minor": 0
      },
      "text/plain": [
       "Validation: |          | 0/? [00:00<?, ?it/s]"
      ]
     },
     "metadata": {},
     "output_type": "display_data"
    },
    {
     "data": {
      "application/vnd.jupyter.widget-view+json": {
       "model_id": "a52fcd23a0bd49d9b239b6b5449cbb7a",
       "version_major": 2,
       "version_minor": 0
      },
      "text/plain": [
       "Validation: |          | 0/? [00:00<?, ?it/s]"
      ]
     },
     "metadata": {},
     "output_type": "display_data"
    },
    {
     "data": {
      "application/vnd.jupyter.widget-view+json": {
       "model_id": "103d4afbc67241b88b7d4eb912dc04ae",
       "version_major": 2,
       "version_minor": 0
      },
      "text/plain": [
       "Validation: |          | 0/? [00:00<?, ?it/s]"
      ]
     },
     "metadata": {},
     "output_type": "display_data"
    },
    {
     "data": {
      "application/vnd.jupyter.widget-view+json": {
       "model_id": "993f266bf49842cb99328d8c50774d8f",
       "version_major": 2,
       "version_minor": 0
      },
      "text/plain": [
       "Validation: |          | 0/? [00:00<?, ?it/s]"
      ]
     },
     "metadata": {},
     "output_type": "display_data"
    },
    {
     "data": {
      "application/vnd.jupyter.widget-view+json": {
       "model_id": "e1cd48896c994c89b71e8ac5d38a000c",
       "version_major": 2,
       "version_minor": 0
      },
      "text/plain": [
       "Validation: |          | 0/? [00:00<?, ?it/s]"
      ]
     },
     "metadata": {},
     "output_type": "display_data"
    },
    {
     "data": {
      "application/vnd.jupyter.widget-view+json": {
       "model_id": "6c55402d370045968291dbc095b992ab",
       "version_major": 2,
       "version_minor": 0
      },
      "text/plain": [
       "Validation: |          | 0/? [00:00<?, ?it/s]"
      ]
     },
     "metadata": {},
     "output_type": "display_data"
    },
    {
     "data": {
      "application/vnd.jupyter.widget-view+json": {
       "model_id": "f080a3358652404396eef90e1eed68dc",
       "version_major": 2,
       "version_minor": 0
      },
      "text/plain": [
       "Validation: |          | 0/? [00:00<?, ?it/s]"
      ]
     },
     "metadata": {},
     "output_type": "display_data"
    },
    {
     "data": {
      "application/vnd.jupyter.widget-view+json": {
       "model_id": "ffa06aaf970349e4afe76e4f1d000575",
       "version_major": 2,
       "version_minor": 0
      },
      "text/plain": [
       "Validation: |          | 0/? [00:00<?, ?it/s]"
      ]
     },
     "metadata": {},
     "output_type": "display_data"
    },
    {
     "data": {
      "application/vnd.jupyter.widget-view+json": {
       "model_id": "e56b4f2f71b84b3692b0c190a385af94",
       "version_major": 2,
       "version_minor": 0
      },
      "text/plain": [
       "Validation: |          | 0/? [00:00<?, ?it/s]"
      ]
     },
     "metadata": {},
     "output_type": "display_data"
    },
    {
     "data": {
      "application/vnd.jupyter.widget-view+json": {
       "model_id": "be55dcb524324e0985ee52ba0d8bb4dc",
       "version_major": 2,
       "version_minor": 0
      },
      "text/plain": [
       "Validation: |          | 0/? [00:00<?, ?it/s]"
      ]
     },
     "metadata": {},
     "output_type": "display_data"
    },
    {
     "data": {
      "application/vnd.jupyter.widget-view+json": {
       "model_id": "e1fc0a8353024c4ead9546e61365e953",
       "version_major": 2,
       "version_minor": 0
      },
      "text/plain": [
       "Validation: |          | 0/? [00:00<?, ?it/s]"
      ]
     },
     "metadata": {},
     "output_type": "display_data"
    },
    {
     "data": {
      "application/vnd.jupyter.widget-view+json": {
       "model_id": "777ab0e359724b52aa38a07fec662ad4",
       "version_major": 2,
       "version_minor": 0
      },
      "text/plain": [
       "Validation: |          | 0/? [00:00<?, ?it/s]"
      ]
     },
     "metadata": {},
     "output_type": "display_data"
    },
    {
     "data": {
      "application/vnd.jupyter.widget-view+json": {
       "model_id": "cb76bd1487884fb895b0da79e4d63524",
       "version_major": 2,
       "version_minor": 0
      },
      "text/plain": [
       "Validation: |          | 0/? [00:00<?, ?it/s]"
      ]
     },
     "metadata": {},
     "output_type": "display_data"
    },
    {
     "data": {
      "application/vnd.jupyter.widget-view+json": {
       "model_id": "2b5c14ac147042769fc0375869942372",
       "version_major": 2,
       "version_minor": 0
      },
      "text/plain": [
       "Validation: |          | 0/? [00:00<?, ?it/s]"
      ]
     },
     "metadata": {},
     "output_type": "display_data"
    },
    {
     "data": {
      "application/vnd.jupyter.widget-view+json": {
       "model_id": "4ff967cbc91444d996238601d4e535e7",
       "version_major": 2,
       "version_minor": 0
      },
      "text/plain": [
       "Validation: |          | 0/? [00:00<?, ?it/s]"
      ]
     },
     "metadata": {},
     "output_type": "display_data"
    },
    {
     "data": {
      "application/vnd.jupyter.widget-view+json": {
       "model_id": "acea076c1ef841db9bf67b3786c14307",
       "version_major": 2,
       "version_minor": 0
      },
      "text/plain": [
       "Validation: |          | 0/? [00:00<?, ?it/s]"
      ]
     },
     "metadata": {},
     "output_type": "display_data"
    },
    {
     "data": {
      "application/vnd.jupyter.widget-view+json": {
       "model_id": "9ca3c20cf53f4fa6b46b9977a1f49899",
       "version_major": 2,
       "version_minor": 0
      },
      "text/plain": [
       "Validation: |          | 0/? [00:00<?, ?it/s]"
      ]
     },
     "metadata": {},
     "output_type": "display_data"
    },
    {
     "name": "stderr",
     "output_type": "stream",
     "text": [
      "`Trainer.fit` stopped: `max_epochs=44` reached.\n"
     ]
    },
    {
     "data": {
      "text/plain": [
       "1"
      ]
     },
     "execution_count": 45,
     "metadata": {},
     "output_type": "execute_result"
    }
   ],
   "source": [
    "net.ae_mode(2)\n",
    "trainer3 = pl.Trainer(\n",
    "    precision=\"16-mixed\",\n",
    "    gradient_clip_val=20,\n",
    "    max_epochs=max_epochs,\n",
    "    log_every_n_steps=3,\n",
    "    # enable_progress_bar=False, enable_model_summary=False\n",
    ")\n",
    "trainer3.fit(model=net, train_dataloaders=dl_train, val_dataloaders=dl_val)\n",
    "1\n"
   ]
  },
  {
   "cell_type": "code",
   "execution_count": 46,
   "metadata": {},
   "outputs": [],
   "source": [
    "# ds2df(dm.dm_orig)\n"
   ]
  },
  {
   "cell_type": "code",
   "execution_count": 47,
   "metadata": {},
   "outputs": [],
   "source": [
    "from src.eval.ds import ds2df\n",
    "\n",
    "def get_acc_subset(df, query, verbose=True):\n",
    "    assert (df['y'].mean()<0).any(), 'y should be [-1, 1]'\n",
    "    assert (df['y'].mean()>-1).all(), 'y should be [-1, 1]'\n",
    "    assert (df['y'].mean()<1).all(), 'y should be [-1, 1]'\n",
    "    assert (df['probe_pred'].mean()>0).all(), 'pred should be [0,1]'\n",
    "    assert (df['probe_pred'].mean()<1).all(), 'pred should be [0,1]'\n",
    "\n",
    "    if query:\n",
    "        df = df.query(query)\n",
    "    # df[\"probe_cls\"] = df[\"probe_pred\"] > 0.5\n",
    "    acc = ((df[\"probe_pred\"]>0.5) == (df[\"y\"]>0)).mean()\n",
    "    if verbose:\n",
    "        print(f\"acc={acc:2.2%},\\tn={len(df)},\\t[{query}] \")\n",
    "    return acc\n",
    "\n",
    "\n",
    "def calc_metrics(dm, trainer, net, use_val=False, verbose=True):\n",
    "    dl_test = dm.test_dataloader()\n",
    "    rt = trainer.predict(net, dataloaders=dl_test)\n",
    "    y_test_pred = np.concatenate(rt)\n",
    "    splits = dm.splits[\"test\"]\n",
    "    df = ds2df(dm.dm_orig).rename(columns=lambda s:s.replace('_base',''))\n",
    "    # print(df)\n",
    "    df['y'] = dm.ds['y']\n",
    "\n",
    "    df_test = df.iloc[splits[0] : splits[1]].copy()\n",
    "    df_test[\"probe_pred\"] = y_test_pred\n",
    "    \n",
    "\n",
    "    if use_val:\n",
    "        dl_val = dm.val_dataloader()\n",
    "        rv = trainer.predict(net, dataloaders=dl_val)\n",
    "        y_val_pred = np.concatenate(rv)\n",
    "        splits = dm.splits[\"val\"]\n",
    "        df_val = df.iloc[splits[0] : splits[1]].copy()\n",
    "        df_val[\"probe_pred\"] = y_val_pred\n",
    "\n",
    "        df_test = pd.concat([df_val, df_test])\n",
    "\n",
    "    if verbose:\n",
    "        print(\"probe results on subsets of the data\")\n",
    "    acc = get_acc_subset(df_test, \"\", verbose=verbose)\n",
    "    get_acc_subset(\n",
    "        df_test, \"instructed_to_lie==True\", verbose=verbose\n",
    "    )  # it was ph told to lie\n",
    "    get_acc_subset(\n",
    "        df_test, \"instructed_to_lie==False\", verbose=verbose\n",
    "    )  # it was told not to lie\n",
    "    get_acc_subset(\n",
    "        df_test, \"ans==label_true\", verbose=verbose\n",
    "    )  # the llm gave the true ans\n",
    "    get_acc_subset(\n",
    "        df_test, \"ans==label_instructed\", verbose=verbose\n",
    "    )  # the llm gave the desired ans\n",
    "    acc_lie_lie = get_acc_subset(\n",
    "        df_test, \"instructed_to_lie==True & ans==label_instructed\", verbose=verbose\n",
    "    )  # it was told to lie, and it did lie\n",
    "    acc_lie_truth = get_acc_subset(\n",
    "        df_test, \"instructed_to_lie==True & ans!=label_instructed\", verbose=verbose\n",
    "    )\n",
    "\n",
    "    a = get_acc_subset(\n",
    "        df_test, \"instructed_to_lie==False & ans==label_instructed\", verbose=False\n",
    "    )\n",
    "    b = get_acc_subset(\n",
    "        df_test, \"instructed_to_lie==False & ans!=label_instructed\", verbose=False\n",
    "    )\n",
    "    c = get_acc_subset(\n",
    "        df_test, \"instructed_to_lie==True & ans==label_instructed\", verbose=False\n",
    "    )\n",
    "    d = get_acc_subset(\n",
    "        df_test, \"instructed_to_lie==True & ans!=label_instructed\", verbose=False\n",
    "    )\n",
    "    d1 = pd.DataFrame(\n",
    "        [[a, b], [c, d]],\n",
    "        index=[\"instructed_to_lie==False\", \"instructed_to_lie==True\"],\n",
    "        columns=[\"ans==label_instructed\", \"ans!=label_instructed\"],\n",
    "    )\n",
    "    d1 = pd.DataFrame(\n",
    "        [[a, b], [c, d]],\n",
    "        index=[\"tell a truth\", \"tell a lie\"],\n",
    "        columns=[\"did\", \"didn't\"],\n",
    "    )\n",
    "    d1.index.name = \"instructed to\"\n",
    "    d1.columns.name = \"llm gave\"\n",
    "    print(\"probe accuracy for quadrants\")\n",
    "    display(d1.round(2))\n",
    "\n",
    "    if verbose:\n",
    "        print(f\"⭐PRIMARY METRIC⭐ acc={acc:2.2%} from probe\")\n",
    "        print(f\"⭐SECONDARY METRIC⭐ acc_lie_lie={acc_lie_lie:2.2%} from probe\")\n",
    "    return dict(acc=acc, acc_lie_lie=acc_lie_lie, acc_lie_truth=acc_lie_truth, df_test=df_test)\n",
    "\n",
    "\n",
    "# r = testval_metrics = calc_metrics(dm, trainer3, net, use_val=True)\n",
    "# r['df_test']"
   ]
  },
  {
   "cell_type": "code",
   "execution_count": 48,
   "metadata": {},
   "outputs": [
    {
     "data": {
      "image/png": "[encoded data removed]",
      "text/plain": [
       "<Figure size 640x480 with 1 Axes>"
      ]
     },
     "metadata": {},
     "output_type": "display_data"
    },
    {
     "name": "stderr",
     "output_type": "stream",
     "text": [
      "LOCAL_RANK: 0 - CUDA_VISIBLE_DEVICES: [0,1]\n",
      "/media/wassname/SGIronWolf/projects5/elk/sgd_probes_are_lie_detectors/.venv/lib/python3.11/site-packages/lightning/pytorch/trainer/connectors/data_connector.py:492: Your `test_dataloader`'s sampler has shuffling enabled, it is strongly recommended that you turn shuffling off for val/test dataloaders.\n",
      "/media/wassname/SGIronWolf/projects5/elk/sgd_probes_are_lie_detectors/.venv/lib/python3.11/site-packages/lightning/pytorch/trainer/connectors/data_connector.py:441: The 'test_dataloader' does not have many workers which may be a bottleneck. Consider increasing the value of the `num_workers` argument` to `num_workers=23` in the `DataLoader` to improve performance.\n"
     ]
    },
    {
     "data": {
      "application/vnd.jupyter.widget-view+json": {
       "model_id": "9942664c14434bd7ab90712f0a33e6d2",
       "version_major": 2,
       "version_minor": 0
      },
      "text/plain": [
       "Testing: |          | 0/? [00:00<?, ?it/s]"
      ]
     },
     "metadata": {},
     "output_type": "display_data"
    },
    {
     "data": {
      "text/html": [
       "<pre style=\"white-space:pre;overflow-x:auto;line-height:normal;font-family:Menlo,'DejaVu Sans Mono',consolas,'Courier New',monospace\">┏━━━━━━━━━━━━━━━━━━━━━━━━━━━┳━━━━━━━━━━━━━━━━━━━━━━━━━━━┳━━━━━━━━━━━━━━━━━━━━━━━━━━━┳━━━━━━━━━━━━━━━━━━━━━━━━━━━┓\n",
       "┃<span style=\"font-weight: bold\">        Test metric        </span>┃<span style=\"font-weight: bold\">       DataLoader 0        </span>┃<span style=\"font-weight: bold\">       DataLoader 1        </span>┃<span style=\"font-weight: bold\">       DataLoader 2        </span>┃\n",
       "┡━━━━━━━━━━━━━━━━━━━━━━━━━━━╇━━━━━━━━━━━━━━━━━━━━━━━━━━━╇━━━━━━━━━━━━━━━━━━━━━━━━━━━╇━━━━━━━━━━━━━━━━━━━━━━━━━━━┩\n",
       "│<span style=\"color: #008080; text-decoration-color: #008080\">         test/acc          </span>│<span style=\"color: #800080; text-decoration-color: #800080\">            1.0            </span>│<span style=\"color: #800080; text-decoration-color: #800080\">    0.7792207598686218     </span>│<span style=\"color: #800080; text-decoration-color: #800080\">    0.8116883039474487     </span>│\n",
       "│<span style=\"color: #008080; text-decoration-color: #008080\">        test/auroc         </span>│<span style=\"color: #800080; text-decoration-color: #800080\">            1.0            </span>│<span style=\"color: #800080; text-decoration-color: #800080\">    0.8337568640708923     </span>│<span style=\"color: #800080; text-decoration-color: #800080\">     0.890852689743042     </span>│\n",
       "│<span style=\"color: #008080; text-decoration-color: #008080\">       test/l1_loss        </span>│<span style=\"color: #800080; text-decoration-color: #800080\">     13389.2607421875      </span>│<span style=\"color: #800080; text-decoration-color: #800080\">      13325.943359375      </span>│<span style=\"color: #800080; text-decoration-color: #800080\">     13440.3974609375      </span>│\n",
       "│<span style=\"color: #008080; text-decoration-color: #008080\">       test/l2_loss        </span>│<span style=\"color: #800080; text-decoration-color: #800080\">        247347.9375        </span>│<span style=\"color: #800080; text-decoration-color: #800080\">        353132.875         </span>│<span style=\"color: #800080; text-decoration-color: #800080\">         325225.25         </span>│\n",
       "│<span style=\"color: #008080; text-decoration-color: #008080\">   test/loss_pred_epoch    </span>│<span style=\"color: #800080; text-decoration-color: #800080\">   0.001399834523908794    </span>│<span style=\"color: #800080; text-decoration-color: #800080\">    1.0838972330093384     </span>│<span style=\"color: #800080; text-decoration-color: #800080\">     0.948072075843811     </span>│\n",
       "│<span style=\"color: #008080; text-decoration-color: #008080\">    test/loss_rec_epoch    </span>│<span style=\"color: #800080; text-decoration-color: #800080\">       254042.546875       </span>│<span style=\"color: #800080; text-decoration-color: #800080\">       359795.90625        </span>│<span style=\"color: #800080; text-decoration-color: #800080\">       331945.46875        </span>│\n",
       "│<span style=\"color: #008080; text-decoration-color: #008080\">          test/n           </span>│<span style=\"color: #800080; text-decoration-color: #800080\">           307.0           </span>│<span style=\"color: #800080; text-decoration-color: #800080\">           154.0           </span>│<span style=\"color: #800080; text-decoration-color: #800080\">           154.0           </span>│\n",
       "└───────────────────────────┴───────────────────────────┴───────────────────────────┴───────────────────────────┘\n",
       "</pre>\n"
      ],
      "text/plain": [
       "┏━━━━━━━━━━━━━━━━━━━━━━━━━━━┳━━━━━━━━━━━━━━━━━━━━━━━━━━━┳━━━━━━━━━━━━━━━━━━━━━━━━━━━┳━━━━━━━━━━━━━━━━━━━━━━━━━━━┓\n",
       "┃\u001b[1m \u001b[0m\u001b[1m       Test metric       \u001b[0m\u001b[1m \u001b[0m┃\u001b[1m \u001b[0m\u001b[1m      DataLoader 0       \u001b[0m\u001b[1m \u001b[0m┃\u001b[1m \u001b[0m\u001b[1m      DataLoader 1       \u001b[0m\u001b[1m \u001b[0m┃\u001b[1m \u001b[0m\u001b[1m      DataLoader 2       \u001b[0m\u001b[1m \u001b[0m┃\n",
       "┡━━━━━━━━━━━━━━━━━━━━━━━━━━━╇━━━━━━━━━━━━━━━━━━━━━━━━━━━╇━━━━━━━━━━━━━━━━━━━━━━━━━━━╇━━━━━━━━━━━━━━━━━━━━━━━━━━━┩\n",
       "│\u001b[36m \u001b[0m\u001b[36m        test/acc         \u001b[0m\u001b[36m \u001b[0m│\u001b[35m \u001b[0m\u001b[35m           1.0           \u001b[0m\u001b[35m \u001b[0m│\u001b[35m \u001b[0m\u001b[35m   0.7792207598686218    \u001b[0m\u001b[35m \u001b[0m│\u001b[35m \u001b[0m\u001b[35m   0.8116883039474487    \u001b[0m\u001b[35m \u001b[0m│\n",
       "│\u001b[36m \u001b[0m\u001b[36m       test/auroc        \u001b[0m\u001b[36m \u001b[0m│\u001b[35m \u001b[0m\u001b[35m           1.0           \u001b[0m\u001b[35m \u001b[0m│\u001b[35m \u001b[0m\u001b[35m   0.8337568640708923    \u001b[0m\u001b[35m \u001b[0m│\u001b[35m \u001b[0m\u001b[35m    0.890852689743042    \u001b[0m\u001b[35m \u001b[0m│\n",
       "│\u001b[36m \u001b[0m\u001b[36m      test/l1_loss       \u001b[0m\u001b[36m \u001b[0m│\u001b[35m \u001b[0m\u001b[35m    13389.2607421875     \u001b[0m\u001b[35m \u001b[0m│\u001b[35m \u001b[0m\u001b[35m     13325.943359375     \u001b[0m\u001b[35m \u001b[0m│\u001b[35m \u001b[0m\u001b[35m    13440.3974609375     \u001b[0m\u001b[35m \u001b[0m│\n",
       "│\u001b[36m \u001b[0m\u001b[36m      test/l2_loss       \u001b[0m\u001b[36m \u001b[0m│\u001b[35m \u001b[0m\u001b[35m       247347.9375       \u001b[0m\u001b[35m \u001b[0m│\u001b[35m \u001b[0m\u001b[35m       353132.875        \u001b[0m\u001b[35m \u001b[0m│\u001b[35m \u001b[0m\u001b[35m        325225.25        \u001b[0m\u001b[35m \u001b[0m│\n",
       "│\u001b[36m \u001b[0m\u001b[36m  test/loss_pred_epoch   \u001b[0m\u001b[36m \u001b[0m│\u001b[35m \u001b[0m\u001b[35m  0.001399834523908794   \u001b[0m\u001b[35m \u001b[0m│\u001b[35m \u001b[0m\u001b[35m   1.0838972330093384    \u001b[0m\u001b[35m \u001b[0m│\u001b[35m \u001b[0m\u001b[35m    0.948072075843811    \u001b[0m\u001b[35m \u001b[0m│\n",
       "│\u001b[36m \u001b[0m\u001b[36m   test/loss_rec_epoch   \u001b[0m\u001b[36m \u001b[0m│\u001b[35m \u001b[0m\u001b[35m      254042.546875      \u001b[0m\u001b[35m \u001b[0m│\u001b[35m \u001b[0m\u001b[35m      359795.90625       \u001b[0m\u001b[35m \u001b[0m│\u001b[35m \u001b[0m\u001b[35m      331945.46875       \u001b[0m\u001b[35m \u001b[0m│\n",
       "│\u001b[36m \u001b[0m\u001b[36m         test/n          \u001b[0m\u001b[36m \u001b[0m│\u001b[35m \u001b[0m\u001b[35m          307.0          \u001b[0m\u001b[35m \u001b[0m│\u001b[35m \u001b[0m\u001b[35m          154.0          \u001b[0m\u001b[35m \u001b[0m│\u001b[35m \u001b[0m\u001b[35m          154.0          \u001b[0m\u001b[35m \u001b[0m│\n",
       "└───────────────────────────┴───────────────────────────┴───────────────────────────┴───────────────────────────┘\n"
      ]
     },
     "metadata": {},
     "output_type": "display_data"
    },
    {
     "data": {
      "text/html": [
       "<pre style=\"white-space:pre;overflow-x:auto;line-height:normal;font-family:Menlo,'DejaVu Sans Mono',consolas,'Courier New',monospace\">┏━━━━━━━━━━━━━━━━━━━━━━━━━━━┳━━━━━━━━━━━━━━━━━━━━━━━━━━━┓\n",
       "┃<span style=\"font-weight: bold\">        Test metric        </span>┃<span style=\"font-weight: bold\">       DataLoader 3        </span>┃\n",
       "┡━━━━━━━━━━━━━━━━━━━━━━━━━━━╇━━━━━━━━━━━━━━━━━━━━━━━━━━━┩\n",
       "│<span style=\"color: #008080; text-decoration-color: #008080\">         test/acc          </span>│<span style=\"color: #800080; text-decoration-color: #800080\">    0.8975609540939331     </span>│\n",
       "│<span style=\"color: #008080; text-decoration-color: #008080\">        test/auroc         </span>│<span style=\"color: #800080; text-decoration-color: #800080\">    0.9320342540740967     </span>│\n",
       "│<span style=\"color: #008080; text-decoration-color: #008080\">       test/l1_loss        </span>│<span style=\"color: #800080; text-decoration-color: #800080\">       13386.2109375       </span>│\n",
       "│<span style=\"color: #008080; text-decoration-color: #008080\">       test/l2_loss        </span>│<span style=\"color: #800080; text-decoration-color: #800080\">       293338.15625        </span>│\n",
       "│<span style=\"color: #008080; text-decoration-color: #008080\">   test/loss_pred_epoch    </span>│<span style=\"color: #800080; text-decoration-color: #800080\">    0.5095239877700806     </span>│\n",
       "│<span style=\"color: #008080; text-decoration-color: #008080\">    test/loss_rec_epoch    </span>│<span style=\"color: #800080; text-decoration-color: #800080\">       300031.28125        </span>│\n",
       "│<span style=\"color: #008080; text-decoration-color: #008080\">          test/n           </span>│<span style=\"color: #800080; text-decoration-color: #800080\">           615.0           </span>│\n",
       "└───────────────────────────┴───────────────────────────┘\n",
       "</pre>\n"
      ],
      "text/plain": [
       "┏━━━━━━━━━━━━━━━━━━━━━━━━━━━┳━━━━━━━━━━━━━━━━━━━━━━━━━━━┓\n",
       "┃\u001b[1m \u001b[0m\u001b[1m       Test metric       \u001b[0m\u001b[1m \u001b[0m┃\u001b[1m \u001b[0m\u001b[1m      DataLoader 3       \u001b[0m\u001b[1m \u001b[0m┃\n",
       "┡━━━━━━━━━━━━━━━━━━━━━━━━━━━╇━━━━━━━━━━━━━━━━━━━━━━━━━━━┩\n",
       "│\u001b[36m \u001b[0m\u001b[36m        test/acc         \u001b[0m\u001b[36m \u001b[0m│\u001b[35m \u001b[0m\u001b[35m   0.8975609540939331    \u001b[0m\u001b[35m \u001b[0m│\n",
       "│\u001b[36m \u001b[0m\u001b[36m       test/auroc        \u001b[0m\u001b[36m \u001b[0m│\u001b[35m \u001b[0m\u001b[35m   0.9320342540740967    \u001b[0m\u001b[35m \u001b[0m│\n",
       "│\u001b[36m \u001b[0m\u001b[36m      test/l1_loss       \u001b[0m\u001b[36m \u001b[0m│\u001b[35m \u001b[0m\u001b[35m      13386.2109375      \u001b[0m\u001b[35m \u001b[0m│\n",
       "│\u001b[36m \u001b[0m\u001b[36m      test/l2_loss       \u001b[0m\u001b[36m \u001b[0m│\u001b[35m \u001b[0m\u001b[35m      293338.15625       \u001b[0m\u001b[35m \u001b[0m│\n",
       "│\u001b[36m \u001b[0m\u001b[36m  test/loss_pred_epoch   \u001b[0m\u001b[36m \u001b[0m│\u001b[35m \u001b[0m\u001b[35m   0.5095239877700806    \u001b[0m\u001b[35m \u001b[0m│\n",
       "│\u001b[36m \u001b[0m\u001b[36m   test/loss_rec_epoch   \u001b[0m\u001b[36m \u001b[0m│\u001b[35m \u001b[0m\u001b[35m      300031.28125       \u001b[0m\u001b[35m \u001b[0m│\n",
       "│\u001b[36m \u001b[0m\u001b[36m         test/n          \u001b[0m\u001b[36m \u001b[0m│\u001b[35m \u001b[0m\u001b[35m          615.0          \u001b[0m\u001b[35m \u001b[0m│\n",
       "└───────────────────────────┴───────────────────────────┘\n"
      ]
     },
     "metadata": {},
     "output_type": "display_data"
    },
    {
     "name": "stderr",
     "output_type": "stream",
     "text": [
      "LOCAL_RANK: 0 - CUDA_VISIBLE_DEVICES: [0,1]\n",
      "/media/wassname/SGIronWolf/projects5/elk/sgd_probes_are_lie_detectors/.venv/lib/python3.11/site-packages/lightning/pytorch/trainer/connectors/data_connector.py:441: The 'predict_dataloader' does not have many workers which may be a bottleneck. Consider increasing the value of the `num_workers` argument` to `num_workers=23` in the `DataLoader` to improve performance.\n"
     ]
    },
    {
     "data": {
      "application/vnd.jupyter.widget-view+json": {
       "model_id": "da9c3583be8546b5ad788c246ab8cfd2",
       "version_major": 2,
       "version_minor": 0
      },
      "text/plain": [
       "Predicting: |          | 0/? [00:00<?, ?it/s]"
      ]
     },
     "metadata": {},
     "output_type": "display_data"
    },
    {
     "name": "stderr",
     "output_type": "stream",
     "text": [
      "LOCAL_RANK: 0 - CUDA_VISIBLE_DEVICES: [0,1]\n",
      "/media/wassname/SGIronWolf/projects5/elk/sgd_probes_are_lie_detectors/.venv/lib/python3.11/site-packages/lightning/pytorch/trainer/connectors/data_connector.py:441: The 'predict_dataloader' does not have many workers which may be a bottleneck. Consider increasing the value of the `num_workers` argument` to `num_workers=23` in the `DataLoader` to improve performance.\n"
     ]
    },
    {
     "data": {
      "application/vnd.jupyter.widget-view+json": {
       "model_id": "a085fc9950ae4a349fb31bc1cd17e404",
       "version_major": 2,
       "version_minor": 0
      },
      "text/plain": [
       "Predicting: |          | 0/? [00:00<?, ?it/s]"
      ]
     },
     "metadata": {},
     "output_type": "display_data"
    },
    {
     "name": "stdout",
     "output_type": "stream",
     "text": [
      "probe results on subsets of the data\n",
      "acc=79.55%,\tn=308,\t[] \n",
      "acc=73.33%,\tn=45,\t[instructed_to_lie==True] \n",
      "acc=80.61%,\tn=263,\t[instructed_to_lie==False] \n",
      "acc=79.82%,\tn=228,\t[ans==label_true] \n",
      "acc=81.46%,\tn=205,\t[ans==label_instructed] \n",
      "acc=81.82%,\tn=11,\t[instructed_to_lie==True & ans==label_instructed] \n",
      "acc=70.59%,\tn=34,\t[instructed_to_lie==True & ans!=label_instructed] \n",
      "probe accuracy for quadrants\n"
     ]
    },
    {
     "data": {
      "text/html": [
       "<div>\n",
       "<style scoped>\n",
       "    .dataframe tbody tr th:only-of-type {\n",
       "        vertical-align: middle;\n",
       "    }\n",
       "\n",
       "    .dataframe tbody tr th {\n",
       "        vertical-align: top;\n",
       "    }\n",
       "\n",
       "    .dataframe thead th {\n",
       "        text-align: right;\n",
       "    }\n",
       "</style>\n",
       "<table border=\"1\" class=\"dataframe\">\n",
       "  <thead>\n",
       "    <tr style=\"text-align: right;\">\n",
       "      <th>llm gave</th>\n",
       "      <th>did</th>\n",
       "      <th>didn't</th>\n",
       "    </tr>\n",
       "    <tr>\n",
       "      <th>instructed to</th>\n",
       "      <th></th>\n",
       "      <th></th>\n",
       "    </tr>\n",
       "  </thead>\n",
       "  <tbody>\n",
       "    <tr>\n",
       "      <th>tell a truth</th>\n",
       "      <td>0.81</td>\n",
       "      <td>0.78</td>\n",
       "    </tr>\n",
       "    <tr>\n",
       "      <th>tell a lie</th>\n",
       "      <td>0.82</td>\n",
       "      <td>0.71</td>\n",
       "    </tr>\n",
       "  </tbody>\n",
       "</table>\n",
       "</div>"
      ],
      "text/plain": [
       "llm gave        did  didn't\n",
       "instructed to              \n",
       "tell a truth   0.81    0.78\n",
       "tell a lie     0.82    0.71"
      ]
     },
     "metadata": {},
     "output_type": "display_data"
    },
    {
     "name": "stdout",
     "output_type": "stream",
     "text": [
      "⭐PRIMARY METRIC⭐ acc=79.55% from probe\n",
      "⭐SECONDARY METRIC⭐ acc_lie_lie=81.82% from probe\n"
     ]
    }
   ],
   "source": [
    "# look at hist\n",
    "df_hist, _ = read_metrics_csv(trainer3.logger.experiment.metrics_file_path)\n",
    "plot_hist(df_hist, ['loss_pred', 'acc'])\n",
    "\n",
    "# predict\n",
    "# dl_test = dm.test_dataloader()\n",
    "# print(f\"training with x_feats={x_feats} with c={c}\")\n",
    "rs = trainer3.test(net, dataloaders=[dl_train, dl_val, dl_test, dl_ood])\n",
    "\n",
    "testval_metrics = calc_metrics(dm, trainer3, net, use_val=True)\n",
    "rs = rename_pl_test_results(rs, [\"train\", \"val\", \"test\", \"ood\"])\n",
    "# rs['test'] = {**rs['test'], **test_metrics}\n",
    "rs[\"test\"][\"acc_lie_lie\"] = testval_metrics[\"acc_lie_lie\"]\n",
    "rs[\"testval_metrics\"] = rs[\"test\"]\n"
   ]
  },
  {
   "cell_type": "code",
   "execution_count": 49,
   "metadata": {},
   "outputs": [
    {
     "name": "stderr",
     "output_type": "stream",
     "text": [
      "LOCAL_RANK: 0 - CUDA_VISIBLE_DEVICES: [0,1]\n",
      "/media/wassname/SGIronWolf/projects5/elk/sgd_probes_are_lie_detectors/.venv/lib/python3.11/site-packages/lightning/pytorch/trainer/connectors/data_connector.py:441: The 'predict_dataloader' does not have many workers which may be a bottleneck. Consider increasing the value of the `num_workers` argument` to `num_workers=23` in the `DataLoader` to improve performance.\n"
     ]
    },
    {
     "data": {
      "application/vnd.jupyter.widget-view+json": {
       "model_id": "e2e1636a5c0f40d38baf64d24c20b2d3",
       "version_major": 2,
       "version_minor": 0
      },
      "text/plain": [
       "Predicting: |          | 0/? [00:00<?, ?it/s]"
      ]
     },
     "metadata": {},
     "output_type": "display_data"
    },
    {
     "name": "stderr",
     "output_type": "stream",
     "text": [
      "LOCAL_RANK: 0 - CUDA_VISIBLE_DEVICES: [0,1]\n",
      "/media/wassname/SGIronWolf/projects5/elk/sgd_probes_are_lie_detectors/.venv/lib/python3.11/site-packages/lightning/pytorch/trainer/connectors/data_connector.py:441: The 'predict_dataloader' does not have many workers which may be a bottleneck. Consider increasing the value of the `num_workers` argument` to `num_workers=23` in the `DataLoader` to improve performance.\n"
     ]
    },
    {
     "data": {
      "application/vnd.jupyter.widget-view+json": {
       "model_id": "4670e875ed124a279f7af65861e3fbe0",
       "version_major": 2,
       "version_minor": 0
      },
      "text/plain": [
       "Predicting: |          | 0/? [00:00<?, ?it/s]"
      ]
     },
     "metadata": {},
     "output_type": "display_data"
    },
    {
     "name": "stdout",
     "output_type": "stream",
     "text": [
      "probe results on subsets of the data\n",
      "acc=79.55%,\tn=308,\t[] \n",
      "acc=73.33%,\tn=45,\t[instructed_to_lie==True] \n",
      "acc=80.61%,\tn=263,\t[instructed_to_lie==False] \n",
      "acc=79.82%,\tn=228,\t[ans==label_true] \n",
      "acc=81.46%,\tn=205,\t[ans==label_instructed] \n",
      "acc=81.82%,\tn=11,\t[instructed_to_lie==True & ans==label_instructed] \n",
      "acc=70.59%,\tn=34,\t[instructed_to_lie==True & ans!=label_instructed] \n",
      "probe accuracy for quadrants\n"
     ]
    },
    {
     "data": {
      "text/html": [
       "<div>\n",
       "<style scoped>\n",
       "    .dataframe tbody tr th:only-of-type {\n",
       "        vertical-align: middle;\n",
       "    }\n",
       "\n",
       "    .dataframe tbody tr th {\n",
       "        vertical-align: top;\n",
       "    }\n",
       "\n",
       "    .dataframe thead th {\n",
       "        text-align: right;\n",
       "    }\n",
       "</style>\n",
       "<table border=\"1\" class=\"dataframe\">\n",
       "  <thead>\n",
       "    <tr style=\"text-align: right;\">\n",
       "      <th>llm gave</th>\n",
       "      <th>did</th>\n",
       "      <th>didn't</th>\n",
       "    </tr>\n",
       "    <tr>\n",
       "      <th>instructed to</th>\n",
       "      <th></th>\n",
       "      <th></th>\n",
       "    </tr>\n",
       "  </thead>\n",
       "  <tbody>\n",
       "    <tr>\n",
       "      <th>tell a truth</th>\n",
       "      <td>0.81</td>\n",
       "      <td>0.78</td>\n",
       "    </tr>\n",
       "    <tr>\n",
       "      <th>tell a lie</th>\n",
       "      <td>0.82</td>\n",
       "      <td>0.71</td>\n",
       "    </tr>\n",
       "  </tbody>\n",
       "</table>\n",
       "</div>"
      ],
      "text/plain": [
       "llm gave        did  didn't\n",
       "instructed to              \n",
       "tell a truth   0.81    0.78\n",
       "tell a lie     0.82    0.71"
      ]
     },
     "metadata": {},
     "output_type": "display_data"
    },
    {
     "name": "stdout",
     "output_type": "stream",
     "text": [
      "⭐PRIMARY METRIC⭐ acc=79.55% from probe\n",
      "⭐SECONDARY METRIC⭐ acc_lie_lie=81.82% from probe\n"
     ]
    },
    {
     "ename": "KeyError",
     "evalue": "0",
     "output_type": "error",
     "traceback": [
      "\u001b[0;31m---------------------------------------------------------------------------\u001b[0m",
      "\u001b[0;31mKeyError\u001b[0m                                  Traceback (most recent call last)",
      "Cell \u001b[0;32mIn[49], line 2\u001b[0m\n\u001b[1;32m      1\u001b[0m testval_metrics \u001b[38;5;241m=\u001b[39m calc_metrics(dm, trainer3, net, use_val\u001b[38;5;241m=\u001b[39m\u001b[38;5;28;01mTrue\u001b[39;00m)\n\u001b[0;32m----> 2\u001b[0m rs \u001b[38;5;241m=\u001b[39m \u001b[43mrename_pl_test_results\u001b[49m\u001b[43m(\u001b[49m\u001b[43mrs\u001b[49m\u001b[43m,\u001b[49m\u001b[43m \u001b[49m\u001b[43m[\u001b[49m\u001b[38;5;124;43m\"\u001b[39;49m\u001b[38;5;124;43mtrain\u001b[39;49m\u001b[38;5;124;43m\"\u001b[39;49m\u001b[43m,\u001b[49m\u001b[43m \u001b[49m\u001b[38;5;124;43m\"\u001b[39;49m\u001b[38;5;124;43mval\u001b[39;49m\u001b[38;5;124;43m\"\u001b[39;49m\u001b[43m,\u001b[49m\u001b[43m \u001b[49m\u001b[38;5;124;43m\"\u001b[39;49m\u001b[38;5;124;43mtest\u001b[39;49m\u001b[38;5;124;43m\"\u001b[39;49m\u001b[43m,\u001b[49m\u001b[43m \u001b[49m\u001b[38;5;124;43m\"\u001b[39;49m\u001b[38;5;124;43mood\u001b[39;49m\u001b[38;5;124;43m\"\u001b[39;49m\u001b[43m]\u001b[49m\u001b[43m)\u001b[49m\n\u001b[1;32m      3\u001b[0m \u001b[38;5;66;03m# rs['test'] = {**rs['test'], **test_metrics}\u001b[39;00m\n\u001b[1;32m      4\u001b[0m rs[\u001b[38;5;124m\"\u001b[39m\u001b[38;5;124mtest\u001b[39m\u001b[38;5;124m\"\u001b[39m][\u001b[38;5;124m\"\u001b[39m\u001b[38;5;124macc_lie_lie\u001b[39m\u001b[38;5;124m\"\u001b[39m] \u001b[38;5;241m=\u001b[39m testval_metrics[\u001b[38;5;124m\"\u001b[39m\u001b[38;5;124macc_lie_lie\u001b[39m\u001b[38;5;124m\"\u001b[39m]\n",
      "File \u001b[0;32m/media/wassname/SGIronWolf/projects5/elk/sgd_probes_are_lie_detectors/src/helpers/lightning.py:38\u001b[0m, in \u001b[0;36mrename_pl_test_results\u001b[0;34m(rs, ks)\u001b[0m\n\u001b[1;32m     32\u001b[0m \u001b[38;5;28;01mdef\u001b[39;00m \u001b[38;5;21mrename_pl_test_results\u001b[39m(rs: List[Dict[\u001b[38;5;28mstr\u001b[39m, \u001b[38;5;28mfloat\u001b[39m]], ks\u001b[38;5;241m=\u001b[39m[\u001b[38;5;124m\"\u001b[39m\u001b[38;5;124mtrain\u001b[39m\u001b[38;5;124m\"\u001b[39m, \u001b[38;5;124m\"\u001b[39m\u001b[38;5;124mval\u001b[39m\u001b[38;5;124m\"\u001b[39m, \u001b[38;5;124m\"\u001b[39m\u001b[38;5;124mtest\u001b[39m\u001b[38;5;124m\"\u001b[39m]):\n\u001b[1;32m     33\u001b[0m \u001b[38;5;250m    \u001b[39m\u001b[38;5;124;03m\"\"\"\u001b[39;00m\n\u001b[1;32m     34\u001b[0m \u001b[38;5;124;03m    pytorch lighting test outputs `List of dictionaries with metrics logged during the test phase` where the dataloaders are named `test/val/dataloader_idx_0` etc. This renames them to `val` etc.\u001b[39;00m\n\u001b[1;32m     35\u001b[0m \n\u001b[1;32m     36\u001b[0m \u001b[38;5;124;03m    UPDATE some version output a dict of dicts\u001b[39;00m\n\u001b[1;32m     37\u001b[0m \u001b[38;5;124;03m    \"\"\"\u001b[39;00m\n\u001b[0;32m---> 38\u001b[0m     rs \u001b[38;5;241m=\u001b[39m \u001b[43m{\u001b[49m\n\u001b[1;32m     39\u001b[0m \u001b[43m        \u001b[49m\u001b[43mks\u001b[49m\u001b[43m[\u001b[49m\u001b[43mi\u001b[49m\u001b[43m]\u001b[49m\u001b[43m:\u001b[49m\u001b[43m \u001b[49m\u001b[43m{\u001b[49m\u001b[43m_transform_dl_k\u001b[49m\n\u001b[1;32m     40\u001b[0m \u001b[43m        \u001b[49m\u001b[43m(\u001b[49m\u001b[43mk\u001b[49m\u001b[43m)\u001b[49m\u001b[43m:\u001b[49m\u001b[43m \u001b[49m\u001b[43mv\u001b[49m\u001b[43m \u001b[49m\u001b[38;5;28;43;01mfor\u001b[39;49;00m\u001b[43m \u001b[49m\u001b[43mk\u001b[49m\u001b[43m,\u001b[49m\u001b[43m \u001b[49m\u001b[43mv\u001b[49m\u001b[43m \u001b[49m\u001b[38;5;129;43;01min\u001b[39;49;00m\u001b[43m \u001b[49m\u001b[43mrs\u001b[49m\u001b[43m[\u001b[49m\u001b[43mi\u001b[49m\u001b[43m]\u001b[49m\u001b[38;5;241;43m.\u001b[39;49m\u001b[43mitems\u001b[49m\u001b[43m(\u001b[49m\u001b[43m)\u001b[49m\u001b[43m}\u001b[49m\u001b[43m \u001b[49m\u001b[38;5;28;43;01mfor\u001b[39;49;00m\u001b[43m \u001b[49m\u001b[43mi\u001b[49m\u001b[43m \u001b[49m\u001b[38;5;129;43;01min\u001b[39;49;00m\u001b[43m \u001b[49m\u001b[38;5;28;43mrange\u001b[39;49m\u001b[43m(\u001b[49m\u001b[38;5;28;43mlen\u001b[39;49m\u001b[43m(\u001b[49m\u001b[43mks\u001b[49m\u001b[43m)\u001b[49m\u001b[43m)\u001b[49m\n\u001b[1;32m     41\u001b[0m \u001b[43m    \u001b[49m\u001b[43m}\u001b[49m\n\u001b[1;32m     42\u001b[0m     \u001b[38;5;28;01mreturn\u001b[39;00m rs\n",
      "File \u001b[0;32m/media/wassname/SGIronWolf/projects5/elk/sgd_probes_are_lie_detectors/src/helpers/lightning.py:40\u001b[0m, in \u001b[0;36m<dictcomp>\u001b[0;34m(.0)\u001b[0m\n\u001b[1;32m     32\u001b[0m \u001b[38;5;28;01mdef\u001b[39;00m \u001b[38;5;21mrename_pl_test_results\u001b[39m(rs: List[Dict[\u001b[38;5;28mstr\u001b[39m, \u001b[38;5;28mfloat\u001b[39m]], ks\u001b[38;5;241m=\u001b[39m[\u001b[38;5;124m\"\u001b[39m\u001b[38;5;124mtrain\u001b[39m\u001b[38;5;124m\"\u001b[39m, \u001b[38;5;124m\"\u001b[39m\u001b[38;5;124mval\u001b[39m\u001b[38;5;124m\"\u001b[39m, \u001b[38;5;124m\"\u001b[39m\u001b[38;5;124mtest\u001b[39m\u001b[38;5;124m\"\u001b[39m]):\n\u001b[1;32m     33\u001b[0m \u001b[38;5;250m    \u001b[39m\u001b[38;5;124;03m\"\"\"\u001b[39;00m\n\u001b[1;32m     34\u001b[0m \u001b[38;5;124;03m    pytorch lighting test outputs `List of dictionaries with metrics logged during the test phase` where the dataloaders are named `test/val/dataloader_idx_0` etc. This renames them to `val` etc.\u001b[39;00m\n\u001b[1;32m     35\u001b[0m \n\u001b[1;32m     36\u001b[0m \u001b[38;5;124;03m    UPDATE some version output a dict of dicts\u001b[39;00m\n\u001b[1;32m     37\u001b[0m \u001b[38;5;124;03m    \"\"\"\u001b[39;00m\n\u001b[1;32m     38\u001b[0m     rs \u001b[38;5;241m=\u001b[39m {\n\u001b[1;32m     39\u001b[0m         ks[i]: {_transform_dl_k\n\u001b[0;32m---> 40\u001b[0m         (k): v \u001b[38;5;28;01mfor\u001b[39;00m k, v \u001b[38;5;129;01min\u001b[39;00m \u001b[43mrs\u001b[49m\u001b[43m[\u001b[49m\u001b[43mi\u001b[49m\u001b[43m]\u001b[49m\u001b[38;5;241m.\u001b[39mitems()} \u001b[38;5;28;01mfor\u001b[39;00m i \u001b[38;5;129;01min\u001b[39;00m \u001b[38;5;28mrange\u001b[39m(\u001b[38;5;28mlen\u001b[39m(ks))\n\u001b[1;32m     41\u001b[0m     }\n\u001b[1;32m     42\u001b[0m     \u001b[38;5;28;01mreturn\u001b[39;00m rs\n",
      "\u001b[0;31mKeyError\u001b[0m: 0"
     ]
    },
    {
     "ename": "",
     "evalue": "",
     "output_type": "error",
     "traceback": [
      "\u001b[1;31mThe Kernel crashed while executing code in the the current cell or a previous cell. Please review the code in the cell(s) to identify a possible cause of the failure. Click <a href='https://aka.ms/vscodeJupyterKernelCrash'>here</a> for more info. View Jupyter <a href='command:jupyter.viewOutput'>log</a> for further details."
     ]
    }
   ],
   "source": [
    "testval_metrics = calc_metrics(dm, trainer3, net, use_val=True)\n",
    "rs = rename_pl_test_results(rs, [\"train\", \"val\", \"test\", \"ood\"])\n",
    "# rs['test'] = {**rs['test'], **test_metrics}\n",
    "# rs[\"test\"][\"acc_lie_lie\"] = testval_metrics[\"acc_lie_lie\"]\n",
    "# rs[\"testval_metrics\"] = rs[\"test\"]"
   ]
  },
  {
   "cell_type": "code",
   "execution_count": null,
   "metadata": {},
   "outputs": [],
   "source": [
    "# print(f\"training with x_feats={x_feats} with c={c}\")\n",
    "rs2 = trainer3.test(net, dataloaders=[dl_ood])\n",
    "rs2 = rename_pl_test_results(rs2, ks=[\"ood\"])\n",
    "\n",
    "testval_metrics2 = calc_metrics(dm_ood, trainer3, net, use_val=True)\n",
    "rs[\"ood\"][\"acc_lie_lie\"] = testval_metrics2[\"acc_lie_lie\"]\n",
    "rs[\"ood_metrics\"] = rs2[\"ood\"]\n",
    "rs\n"
   ]
  },
  {
   "cell_type": "code",
   "execution_count": null,
   "metadata": {},
   "outputs": [],
   "source": []
  }
 ],
 "metadata": {
  "kernelspec": {
   "display_name": ".venv",
   "language": "python",
   "name": "python3"
  },
  "language_info": {
   "codemirror_mode": {
    "name": "ipython",
    "version": 3
   },
   "file_extension": ".py",
   "mimetype": "text/x-python",
   "name": "python",
   "nbconvert_exporter": "python",
   "pygments_lexer": "ipython3",
   "version": "3.11.0rc1"
  }
 },
 "nbformat": 4,
 "nbformat_minor": 2
}
