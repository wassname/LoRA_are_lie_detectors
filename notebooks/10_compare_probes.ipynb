{
 "cells": [
  {
   "cell_type": "markdown",
   "metadata": {},
   "source": [
    "# Here we try a variety of probes\n",
    "\n",
    "They all fit into a sklearn style api, except they take torch tensors of >2 dims\n"
   ]
  },
  {
   "cell_type": "code",
   "execution_count": 1,
   "metadata": {},
   "outputs": [],
   "source": [
    "import os\n",
    "os.environ['TQDM_DISABLE'] = '1'\n"
   ]
  },
  {
   "cell_type": "code",
   "execution_count": 2,
   "metadata": {},
   "outputs": [],
   "source": [
    "import os\n",
    "import numpy as np\n",
    "import pandas as pd\n",
    "from matplotlib import pyplot as plt\n",
    "from tqdm.auto import tqdm\n",
    "\n",
    "plt.style.use(\"ggplot\")\n",
    "\n",
    "from typing import Optional, List, Dict, Union\n",
    "from jaxtyping import Float\n",
    "from torch import Tensor\n",
    "\n",
    "import torch\n",
    "import torch.nn as nn\n",
    "import torch.nn.functional as F\n",
    "\n",
    "from torch import Tensor\n",
    "from torch import optim\n",
    "from torch.utils.data import random_split, DataLoader, TensorDataset\n",
    "\n",
    "from pathlib import Path\n",
    "from einops import rearrange\n",
    "\n",
    "\n",
    "import datasets\n",
    "from datasets import Dataset\n",
    "\n",
    "from loguru import logger\n",
    "\n",
    "\n",
    "from typing import Optional, List, Dict, Union, Tuple\n",
    "from jaxtyping import Float\n",
    "from torch import Tensor\n",
    "\n",
    "logger.add(os.sys.stderr, format=\"{time} {level} {message}\", level=\"INFO\")\n",
    "\n",
    "# # quiet please\n",
    "torch.set_float32_matmul_precision(\"medium\")\n",
    "import warnings\n",
    "warnings.filterwarnings(\"ignore\", \".*does not have many workers.*\")\n"
   ]
  },
  {
   "cell_type": "code",
   "execution_count": 3,
   "metadata": {},
   "outputs": [],
   "source": [
    "# load my code\n",
    "%load_ext autoreload\n",
    "%autoreload 2\n",
    "\n",
    "import lightning.pytorch as pl\n",
    "from src.datasets.dm import DeceptionDataModule\n",
    "from src.models.pl_lora_ft import AtapterFinetuner\n",
    "\n",
    "from src.config import ExtractConfig\n",
    "from src.prompts.prompt_loading import load_preproc_dataset, load_preproc_datasets\n",
    "from src.models.load import load_model\n",
    "from src.helpers.torch_helpers import clear_mem\n",
    "from src.models.phi.model_phi import PhiForCausalLMWHS\n",
    "# from src.eval.interventions import check_lr_intervention_predictive\n",
    "from src.probes.utils import postproc\n"
   ]
  },
  {
   "cell_type": "code",
   "execution_count": 4,
   "metadata": {},
   "outputs": [],
   "source": [
    "import matplotlib\n",
    "import matplotlib.pyplot as plt\n",
    "import seaborn as sns\n",
    "\n",
    "# plt.style.use(\"ggplot\")\n",
    "\n",
    "plt.style.use(['seaborn-v0_8', 'seaborn-v0_8-paper'])\n"
   ]
  },
  {
   "cell_type": "code",
   "execution_count": 5,
   "metadata": {},
   "outputs": [],
   "source": [
    "from src.eval.labels import ranking_truth_telling, ds2label_model_truth\n",
    "from src.eval.ds import filter_ds_to_known\n",
    "\n",
    "from src.probes.pl_ranking_probe import PLConvProbeLinear\n",
    "from src.helpers.lightning import read_metrics_csv\n",
    "from sklearn.metrics import roc_auc_score, accuracy_score\n",
    "from src.helpers.pandas_classification_report import classification_report, confusion_matrix\n",
    "from sklearn.model_selection import train_test_split\n",
    "\n",
    "import torch\n",
    "from torch.utils.data import DataLoader, TensorDataset\n",
    "\n",
    "from functools import partial\n",
    "from src.eval.labels import ranking_truth_telling, undo_ranked_truth_telling\n",
    "from src.helpers.ds import train_test_split_ds\n"
   ]
  },
  {
   "cell_type": "markdown",
   "metadata": {},
   "source": [
    "?# Params"
   ]
  },
  {
   "cell_type": "code",
   "execution_count": 6,
   "metadata": {},
   "outputs": [],
   "source": [
    "max_epochs = 50\n",
    "batch_size=16\n",
    "verbose = True\n",
    "MAX_SAMPLES = 2600\n",
    "SKIP=1\n",
    "STIDE=2\n"
   ]
  },
  {
   "cell_type": "markdown",
   "metadata": {},
   "source": [
    "## Setup data"
   ]
  },
  {
   "cell_type": "markdown",
   "metadata": {},
   "source": [
    "We load data, previously collected, from the model\n"
   ]
  },
  {
   "cell_type": "code",
   "execution_count": null,
   "metadata": {},
   "outputs": [],
   "source": []
  },
  {
   "cell_type": "code",
   "execution_count": 7,
   "metadata": {},
   "outputs": [],
   "source": [
    "# !ls -altrh '/media/wassname/SGIronWolf/projects5/elk/sgd_probes_are_lie_detectors/.ds/'\n",
    "# # !ls -altrh '/media/wassname/SGIronWolf/projects5/elk/sgd_probes_are_lie_detectors/.ds/ds_valtest_8c031b4aa03ae4d2'\n"
   ]
  },
  {
   "cell_type": "code",
   "execution_count": 8,
   "metadata": {},
   "outputs": [
    {
     "name": "stderr",
     "output_type": "stream",
     "text": [
      "/media/wassname/SGIronWolf/projects5/elk/sgd_probes_are_lie_detectors/.venv/lib/python3.11/site-packages/datasets/table.py:1421: FutureWarning: promote has been superseded by mode='default'.\n",
      "  table = cls._concat_blocks(blocks, axis=0)\n"
     ]
    },
    {
     "name": "stdout",
     "output_type": "stream",
     "text": [
      "select rows are 76.89% based on knowledge\n"
     ]
    }
   ],
   "source": [
    "# load hidden state from a previously loaded adapter\n",
    "# the columns with _base are from the base model, and adapt from adapter\n",
    "f1_ood = '/media/wassname/SGIronWolf/projects5/elk/sgd_probes_are_lie_detectors/.ds/ds_OOD_6d3ece46c44f6c3b'\n",
    "f1_val = '/media/wassname/SGIronWolf/projects5/elk/sgd_probes_are_lie_detectors/.ds/ds_valtest_73b754e8fdff9f2f'\n",
    "ds_val = Dataset.from_file(f1_val).with_format(\"torch\")\n",
    "ds_oos = Dataset.from_file(f1_ood).with_format(\"torch\")\n",
    "\n",
    "ds_out = datasets.interleave_datasets([ds_val, ds_oos], seed=42, \n",
    "                                    #   probabilities=[0.5, 0.5]\n",
    "                                      )\n",
    "ds_known1 = filter_ds_to_known(ds_out, verbose=True)\n",
    "ds_known1 = ds_out\n",
    "\n"
   ]
  },
  {
   "cell_type": "code",
   "execution_count": 9,
   "metadata": {},
   "outputs": [
    {
     "data": {
      "text/plain": [
       "Dataset({\n",
       "    features: ['end_logits_base', 'choice_probs_base', 'binary_ans_base', 'label_true_base', 'label_instructed_base', 'instructed_to_lie_base', 'sys_instr_name_base', 'example_i_base', 'ds_string_base', 'template_name_base', 'correct_truth_telling_base', 'correct_instruction_following_base', 'end_residual_stream_base', 'end_logits_adapt', 'choice_probs_adapt', 'binary_ans_adapt', 'label_true_adapt', 'label_instructed_adapt', 'instructed_to_lie_adapt', 'sys_instr_name_adapt', 'example_i_adapt', 'ds_string_adapt', 'template_name_adapt', 'correct_truth_telling_adapt', 'correct_instruction_following_adapt', 'end_residual_stream_adapt', 'end_logits_adapt2', 'choice_probs_adapt2', 'binary_ans_adapt2', 'label_true_adapt2', 'label_instructed_adapt2', 'instructed_to_lie_adapt2', 'sys_instr_name_adapt2', 'example_i_adapt2', 'ds_string_adapt2', 'template_name_adapt2', 'correct_truth_telling_adapt2', 'correct_instruction_following_adapt2', 'end_residual_stream_adapt2', 'end_logits_base2', 'choice_probs_base2', 'binary_ans_base2', 'label_true_base2', 'label_instructed_base2', 'instructed_to_lie_base2', 'sys_instr_name_base2', 'example_i_base2', 'ds_string_base2', 'template_name_base2', 'correct_truth_telling_base2', 'correct_instruction_following_base2', 'end_residual_stream_base2'],\n",
       "    num_rows: 3204\n",
       "})"
      ]
     },
     "execution_count": 9,
     "metadata": {},
     "output_type": "execute_result"
    }
   ],
   "source": [
    "def flip_even_rows(row: dict, idx: int) -> dict:\n",
    "    \"\"\"this will flip adapter and base keys for even rows, this balances the task.\"\"\"\n",
    "    # also record the original rows, and which ones are flipped?\n",
    "    row2 = {k.replace('_base', '_base2').replace('_adapt', '_adapt2'): v for k, v in row.items()}\n",
    "    row = {**row2, **row}\n",
    "    \n",
    "    if idx%2 == 0:\n",
    "        row = {k.replace('_base', '_tmp'): v for k, v in row.items()}\n",
    "        row = {k.replace('_adapt', '_base'): v for k, v in row.items()} \n",
    "        row = {k.replace('_tmp', '_adapt'): v for k, v in row.items()}\n",
    "    return row\n",
    "\n",
    "ds_known = ds_known1.map(flip_even_rows, with_indices=True)\n",
    "ds_known\n"
   ]
  },
  {
   "cell_type": "markdown",
   "metadata": {},
   "source": [
    "### split datasets\n",
    "\n",
    "we want to split by insample (from training) and out of distribution"
   ]
  },
  {
   "cell_type": "code",
   "execution_count": 10,
   "metadata": {},
   "outputs": [
    {
     "data": {
      "text/plain": [
       "(amazon_polarity    267\n",
       " glue:qnli          267\n",
       " super_glue:rte     267\n",
       " super_glue:axg     267\n",
       " sst2               267\n",
       " hans               267\n",
       " Name: count, dtype: int64,\n",
       " super_glue:boolq    534\n",
       " super_glue:axg      534\n",
       " imdb                534\n",
       " Name: count, dtype: int64)"
      ]
     },
     "execution_count": 10,
     "metadata": {},
     "output_type": "execute_result"
    }
   ],
   "source": [
    "pd.Series(ds_val['ds_string_base']).value_counts(), pd.Series(ds_oos['ds_string_base']).value_counts()\n"
   ]
  },
  {
   "cell_type": "code",
   "execution_count": 11,
   "metadata": {},
   "outputs": [
    {
     "name": "stdout",
     "output_type": "stream",
     "text": [
      "['sst2', 'glue:qnli', 'super_glue:axg', 'amazon_polarity', 'super_glue:rte', 'hans'] ['super_glue:axg', 'imdb', 'super_glue:boolq']\n"
     ]
    },
    {
     "data": {
      "text/plain": [
       "(['sst2',\n",
       "  'glue:qnli',\n",
       "  'super_glue:axg',\n",
       "  'amazon_polarity',\n",
       "  'super_glue:rte',\n",
       "  'hans',\n",
       "  'super_glue:axg'],\n",
       " ['imdb', 'super_glue:boolq'])"
      ]
     },
     "execution_count": 11,
     "metadata": {},
     "output_type": "execute_result"
    }
   ],
   "source": [
    "insample_datasets = list(set(ds_val['ds_string_base']))\n",
    "outsample_datasets = list(set(ds_oos['ds_string_base']))\n",
    "print(insample_datasets, outsample_datasets)\n",
    "\n",
    "trainval_datasets = insample_datasets + outsample_datasets[:1]\n",
    "test_datasets = outsample_datasets[1:]\n",
    "trainval_datasets, test_datasets\n"
   ]
  },
  {
   "cell_type": "code",
   "execution_count": 12,
   "metadata": {},
   "outputs": [
    {
     "name": "stdout",
     "output_type": "stream",
     "text": [
      "['sst2', 'glue:qnli', 'super_glue:axg', 'amazon_polarity', 'super_glue:rte', 'hans'] ['super_glue:axg', 'imdb', 'super_glue:boolq']\n"
     ]
    },
    {
     "data": {
      "text/plain": [
       "(['super_glue:rte',\n",
       "  'amazon_polarity',\n",
       "  'hans',\n",
       "  'glue:qnli',\n",
       "  'super_glue:axg',\n",
       "  'sst2'],\n",
       " ['super_glue:boolq', 'imdb'])"
      ]
     },
     "execution_count": 12,
     "metadata": {},
     "output_type": "execute_result"
    }
   ],
   "source": [
    "# FIXME: DELETEME: ONCE I HAVE RERUN BASE MODEL\n",
    "\n",
    "insample_datasets = list(set(ds_val['ds_string_base']))\n",
    "outsample_datasets = list(set(ds_oos['ds_string_base']))\n",
    "print(insample_datasets, outsample_datasets)\n",
    "\n",
    "trainval_datasets = ['super_glue:rte', 'amazon_polarity', 'hans', 'glue:qnli', 'super_glue:axg', 'sst2']\n",
    "test_datasets = ['super_glue:boolq', 'imdb']\n",
    "trainval_datasets, test_datasets\n"
   ]
  },
  {
   "cell_type": "code",
   "execution_count": 14,
   "metadata": {},
   "outputs": [
    {
     "data": {
      "text/plain": [
       "(2136, 1068)"
      ]
     },
     "execution_count": 14,
     "metadata": {},
     "output_type": "execute_result"
    }
   ],
   "source": [
    "ds_trainval = ds_known.filter(lambda example: example[\"ds_string_base\"] in trainval_datasets)\n",
    "ds_test = ds_known.filter(lambda example: example[\"ds_string_base\"] not in trainval_datasets)\n",
    "\n",
    "MAX_SAMPLES = min(len(ds_trainval), MAX_SAMPLES)\n",
    "ds_trainval = ds_trainval.select(range(MAX_SAMPLES))\n",
    "\n",
    "MAX_SAMPLES = min(len(ds_test), MAX_SAMPLES)\n",
    "ds_test = ds_test.select(range(MAX_SAMPLES))\n",
    "\n",
    "\n",
    "len(ds_trainval), len(ds_test)\n"
   ]
  },
  {
   "cell_type": "code",
   "execution_count": 15,
   "metadata": {},
   "outputs": [],
   "source": [
    "\n",
    "# ds_train, ds_val = train_test_split_ds(ds_trainval, test_size=0.3, stratify_columns=['ds_string_base'])\n",
    "# len(ds_train), len(ds_val)\n"
   ]
  },
  {
   "cell_type": "code",
   "execution_count": 16,
   "metadata": {},
   "outputs": [],
   "source": [
    "# set labels\n",
    "ds2proxy = ranking_truth_telling\n",
    "proxy2label = undo_ranked_truth_telling\n",
    "\n",
    "# unit test labels\n",
    "y_val1 = ds2proxy(ds_val)\n",
    "y1 = proxy2label(y_val1, ds_val)\n",
    "np.testing.assert_array_equal(y1, ds_val['label_true_base'], err_msg=\"undo_distance_truth_telling failed\")\n",
    "# assert (y1 == ds_val['label_true_base']).all()\n"
   ]
  },
  {
   "cell_type": "code",
   "execution_count": 17,
   "metadata": {},
   "outputs": [],
   "source": [
    "import torch\n",
    "import numpy as np\n",
    "from einops import rearrange\n",
    "from sklearn.preprocessing import StandardScaler, RobustScaler\n",
    "\n",
    "class TorchRobustScaler(RobustScaler):\n",
    "\n",
    "    def wrap(self, X, method: str):\n",
    "        b, l, h, v = X.shape\n",
    "        X = rearrange(X, \"b l h v -> b (l h v)\")\n",
    "        X = getattr(super(), method)(X)\n",
    "        if isinstance(X, np.ndarray):\n",
    "            X = torch.from_numpy(rearrange(X, \"b (l h v) -> b l h v\", l=l, h=h, v=v))\n",
    "        return X\n",
    "\n",
    "    def fit(self, X):\n",
    "        return self.wrap(X, \"fit\")\n",
    "\n",
    "    def transform(self, X):\n",
    "        return self.wrap(X, \"transform\")\n",
    "\n",
    "    def inverse_transform(self, X):\n",
    "        return self.wrap(X, \"inverse_transform\")\n"
   ]
  },
  {
   "cell_type": "code",
   "execution_count": 18,
   "metadata": {},
   "outputs": [
    {
     "data": {
      "text/plain": [
       "torch.Size([2136, 14, 2559, 2])"
      ]
     },
     "execution_count": 18,
     "metadata": {},
     "output_type": "execute_result"
    }
   ],
   "source": [
    "ds = ds_trainval\n",
    "x = torch.stack([ds['end_residual_stream_base'], ds['end_residual_stream_adapt']], -1)[:, SKIP::STIDE]\n",
    "y = ds2proxy(ds)\n",
    "x.shape\n"
   ]
  },
  {
   "cell_type": "code",
   "execution_count": null,
   "metadata": {},
   "outputs": [],
   "source": []
  },
  {
   "cell_type": "code",
   "execution_count": 19,
   "metadata": {},
   "outputs": [],
   "source": [
    "from src.eval.ds import ds2df\n",
    "\n",
    "\n",
    "\n",
    "def ds2dfres(model, scaler, ds_test, verbose=True):\n",
    "    \"\"\"dataset to dataframe with predictions\"\"\"\n",
    "    X_test, y_test_proxy = ds2xy(ds_test)\n",
    "    X_test = scaler.transform(X_test)\n",
    "    y_test_proxy_prob = model.predict_proba(X_test)\n",
    "    y_test = proxy2label(y_test_proxy, ds_test)\n",
    "    y_test_prob = proxy2label(y_test_proxy_prob, ds_test)\n",
    "    df_test = ds2df(ds_test)\n",
    "    df_test['y_prob'] = y_test_prob\n",
    "    df_test['y'] = y_test > 0.5\n",
    "    df_test['y_proxy_prob'] = y_test_prob\n",
    "    df_test['y_test_proxy'] = y_test_proxy\n",
    "    if verbose:\n",
    "        postproc(y_test_prob, y_test, verbose=verbose)\n",
    "    return df_test\n",
    "\n",
    "def ds2xy(ds: Dataset) -> Tuple[Tensor, Tensor]:\n",
    "    x = torch.stack([ds['end_residual_stream_base'], ds['end_residual_stream_adapt']], -1)[:, SKIP::STIDE]\n",
    "    y = ds2proxy(ds)\n",
    "    return x, y\n",
    "\n",
    "def eval_ranking(model, ds_trainval: Dataset, ds_test: Dataset):\n",
    "    \"\"\"Evaluate a scikit learn style model, with a ranking proxy label.\"\"\"\n",
    "\n",
    "    # split\n",
    "    ds_train, ds_val = train_test_split_ds(ds_trainval, test_size=0.3)\n",
    "    X_val, y_val_proxy = ds2xy(ds_val)\n",
    "    X_train, y_train_proxy = ds2xy(ds_train)\n",
    "    X_test, y_test = ds2xy(ds_test)\n",
    "\n",
    "    # scale\n",
    "    scaler = TorchRobustScaler(with_centering=False, with_scaling=True)\n",
    "    X_train = scaler.fit_transform(X_train)\n",
    "    X_val = scaler.transform(X_val)\n",
    "    X_test = scaler.transform(X_test)\n",
    "\n",
    "    model.fit(X_train=X_train, y_train=y_train_proxy, X_val=X_val, y_val=y_val_proxy)\n",
    "\n",
    "    # must return a single torch float probability\n",
    "    y_val_proxy_prob = model.predict_proba(X_val)\n",
    "    assert y_val_proxy_prob.max()<=1\n",
    "    assert y_val_proxy_prob.min()>=0\n",
    "    assert y_val_proxy_prob.ndim == 1, \"model must return a single probability\"\n",
    "    assert y_val_proxy_prob.shape[0] == X_val.shape[0], \"model must return a single probability for each sample\"\n",
    "    assert isinstance(y_val_proxy_prob, torch.Tensor), \"model must return a torch tensor\"\n",
    "    assert torch.is_floating_point(y_val_proxy_prob), \"model must return a torch tensor\"\n",
    "\n",
    "    df_res1 = ds2dfres(model, scaler, ds_val, False)\n",
    "    df_res2 = ds2dfres(model, scaler, ds_test, False)\n",
    "    df_res = pd.concat([df_res1, df_res2])\n",
    "    return df_res\n"
   ]
  },
  {
   "cell_type": "code",
   "execution_count": 20,
   "metadata": {},
   "outputs": [],
   "source": [
    "def analyze_dfres(df_res):\n",
    "    data = {}\n",
    "    for n, g in df_res.groupby('ds_string_base'):\n",
    "        roc_auc = roc_auc_score(g['y'], g['y_prob'])\n",
    "        acc = accuracy_score(g['y'], g['y_prob']>0.5)\n",
    "        in_adapter_distribution = n in insample_datasets\n",
    "        in_train = n in trainval_datasets\n",
    "\n",
    "\n",
    "        roc_auc_adapter = roc_auc_score(g['label_true_adapt2'], g['binary_ans_adapt2'])\n",
    "        roc_auc_base = roc_auc_score(g['label_true_base2'], g['binary_ans_base2'])\n",
    "\n",
    "\n",
    "        s= pd.Series(dict(\n",
    "            roc_auc=roc_auc,\n",
    "            improvement=roc_auc-max(roc_auc_adapter, roc_auc_base),\n",
    "            acc=acc,\n",
    "            n=len(g),\n",
    "            in_dist_adapter=in_adapter_distribution,\n",
    "            in_dist_probe=in_train,\n",
    "            balance=g['y'].mean(),\n",
    "            balance_proxy=g['y_test_proxy'].mean(),\n",
    "            roc_auc_adapter=roc_auc_adapter,\n",
    "            roc_auc_base=roc_auc_base,\n",
    "\n",
    "            # baseline=g['y_proxy_prob'].mean(),\n",
    "        ))\n",
    "        # print(s)\n",
    "        data[n]=s\n",
    "\n",
    "    df = pd.DataFrame(data).T.sort_values('improvement', ascending=False)\n",
    "    # df['better'] = df['roc_auc']-df[['roc_auc_adapter', 'roc_auc_base']].values.max(1)\n",
    "    display(df)\n",
    "    return df\n"
   ]
  },
  {
   "cell_type": "markdown",
   "metadata": {},
   "source": [
    "## Probes\n"
   ]
  },
  {
   "cell_type": "markdown",
   "metadata": {},
   "source": [
    "### LogisticRegression"
   ]
  },
  {
   "cell_type": "code",
   "execution_count": 21,
   "metadata": {},
   "outputs": [],
   "source": [
    "from sklearn.linear_model import LogisticRegression\n",
    "from einops import rearrange\n",
    "\n",
    "class TorchLogisticRegression(LogisticRegression):\n",
    "\n",
    "    def fit(self, X_train, y_train, sample_weight = None, X_val=None, y_val=None, **kwargs):\n",
    "        X_train = rearrange(X_train, 'b l h v -> b (l h v)')\n",
    "        return super().fit(X_train.numpy(), y_train.numpy(), sample_weight)\n",
    "    \n",
    "    def predict_proba(self, X):\n",
    "        X = rearrange(X, 'b l h v -> b (l h v)').numpy()\n",
    "        return torch.from_numpy(super().predict_proba(X)[:, 1])\n"
   ]
  },
  {
   "cell_type": "code",
   "execution_count": 22,
   "metadata": {},
   "outputs": [
    {
     "name": "stderr",
     "output_type": "stream",
     "text": [
      "/media/wassname/SGIronWolf/projects5/elk/sgd_probes_are_lie_detectors/.venv/lib/python3.11/site-packages/sklearn/linear_model/_logistic.py:460: ConvergenceWarning: lbfgs failed to converge (status=1):\n",
      "STOP: TOTAL NO. of ITERATIONS REACHED LIMIT.\n",
      "\n",
      "Increase the number of iterations (max_iter) or scale the data as shown in:\n",
      "    https://scikit-learn.org/stable/modules/preprocessing.html\n",
      "Please also refer to the documentation for alternative solver options:\n",
      "    https://scikit-learn.org/stable/modules/linear_model.html#logistic-regression\n",
      "  n_iter_i = _check_optimize_result(\n"
     ]
    },
    {
     "data": {
      "text/html": [
       "<div>\n",
       "<style scoped>\n",
       "    .dataframe tbody tr th:only-of-type {\n",
       "        vertical-align: middle;\n",
       "    }\n",
       "\n",
       "    .dataframe tbody tr th {\n",
       "        vertical-align: top;\n",
       "    }\n",
       "\n",
       "    .dataframe thead th {\n",
       "        text-align: right;\n",
       "    }\n",
       "</style>\n",
       "<table border=\"1\" class=\"dataframe\">\n",
       "  <thead>\n",
       "    <tr style=\"text-align: right;\">\n",
       "      <th></th>\n",
       "      <th>roc_auc</th>\n",
       "      <th>improvement</th>\n",
       "      <th>acc</th>\n",
       "      <th>n</th>\n",
       "      <th>in_dist_adapter</th>\n",
       "      <th>in_dist_probe</th>\n",
       "      <th>balance</th>\n",
       "      <th>balance_proxy</th>\n",
       "      <th>roc_auc_adapter</th>\n",
       "      <th>roc_auc_base</th>\n",
       "    </tr>\n",
       "  </thead>\n",
       "  <tbody>\n",
       "    <tr>\n",
       "      <th>hans</th>\n",
       "      <td>0.90107</td>\n",
       "      <td>0.086453</td>\n",
       "      <td>0.835821</td>\n",
       "      <td>67</td>\n",
       "      <td>True</td>\n",
       "      <td>True</td>\n",
       "      <td>0.492537</td>\n",
       "      <td>0.701493</td>\n",
       "      <td>0.722816</td>\n",
       "      <td>0.814617</td>\n",
       "    </tr>\n",
       "    <tr>\n",
       "      <th>super_glue:rte</th>\n",
       "      <td>0.934028</td>\n",
       "      <td>0.027199</td>\n",
       "      <td>0.833333</td>\n",
       "      <td>84</td>\n",
       "      <td>True</td>\n",
       "      <td>True</td>\n",
       "      <td>0.571429</td>\n",
       "      <td>0.833333</td>\n",
       "      <td>0.846065</td>\n",
       "      <td>0.906829</td>\n",
       "    </tr>\n",
       "    <tr>\n",
       "      <th>super_glue:axg</th>\n",
       "      <td>0.977661</td>\n",
       "      <td>0.020448</td>\n",
       "      <td>0.949791</td>\n",
       "      <td>239</td>\n",
       "      <td>True</td>\n",
       "      <td>True</td>\n",
       "      <td>0.497908</td>\n",
       "      <td>0.355649</td>\n",
       "      <td>0.957213</td>\n",
       "      <td>0.853361</td>\n",
       "    </tr>\n",
       "    <tr>\n",
       "      <th>amazon_polarity</th>\n",
       "      <td>0.998462</td>\n",
       "      <td>0.014359</td>\n",
       "      <td>0.977528</td>\n",
       "      <td>89</td>\n",
       "      <td>True</td>\n",
       "      <td>True</td>\n",
       "      <td>0.561798</td>\n",
       "      <td>0.94382</td>\n",
       "      <td>0.96359</td>\n",
       "      <td>0.984103</td>\n",
       "    </tr>\n",
       "    <tr>\n",
       "      <th>glue:qnli</th>\n",
       "      <td>0.938127</td>\n",
       "      <td>0.008361</td>\n",
       "      <td>0.847059</td>\n",
       "      <td>85</td>\n",
       "      <td>True</td>\n",
       "      <td>True</td>\n",
       "      <td>0.458824</td>\n",
       "      <td>0.835294</td>\n",
       "      <td>0.693423</td>\n",
       "      <td>0.929766</td>\n",
       "    </tr>\n",
       "    <tr>\n",
       "      <th>sst2</th>\n",
       "      <td>0.960027</td>\n",
       "      <td>0.001355</td>\n",
       "      <td>0.883117</td>\n",
       "      <td>77</td>\n",
       "      <td>True</td>\n",
       "      <td>True</td>\n",
       "      <td>0.532468</td>\n",
       "      <td>0.844156</td>\n",
       "      <td>0.842818</td>\n",
       "      <td>0.958672</td>\n",
       "    </tr>\n",
       "    <tr>\n",
       "      <th>super_glue:boolq</th>\n",
       "      <td>0.621349</td>\n",
       "      <td>-0.30408</td>\n",
       "      <td>0.610487</td>\n",
       "      <td>534</td>\n",
       "      <td>False</td>\n",
       "      <td>False</td>\n",
       "      <td>0.453184</td>\n",
       "      <td>0.235955</td>\n",
       "      <td>0.912968</td>\n",
       "      <td>0.925429</td>\n",
       "    </tr>\n",
       "    <tr>\n",
       "      <th>imdb</th>\n",
       "      <td>0.131801</td>\n",
       "      <td>-0.830903</td>\n",
       "      <td>0.220974</td>\n",
       "      <td>534</td>\n",
       "      <td>False</td>\n",
       "      <td>False</td>\n",
       "      <td>0.486891</td>\n",
       "      <td>0.082397</td>\n",
       "      <td>0.962704</td>\n",
       "      <td>0.92952</td>\n",
       "    </tr>\n",
       "  </tbody>\n",
       "</table>\n",
       "</div>"
      ],
      "text/plain": [
       "                   roc_auc improvement       acc    n in_dist_adapter  \\\n",
       "hans               0.90107    0.086453  0.835821   67            True   \n",
       "super_glue:rte    0.934028    0.027199  0.833333   84            True   \n",
       "super_glue:axg    0.977661    0.020448  0.949791  239            True   \n",
       "amazon_polarity   0.998462    0.014359  0.977528   89            True   \n",
       "glue:qnli         0.938127    0.008361  0.847059   85            True   \n",
       "sst2              0.960027    0.001355  0.883117   77            True   \n",
       "super_glue:boolq  0.621349    -0.30408  0.610487  534           False   \n",
       "imdb              0.131801   -0.830903  0.220974  534           False   \n",
       "\n",
       "                 in_dist_probe   balance balance_proxy roc_auc_adapter  \\\n",
       "hans                      True  0.492537      0.701493        0.722816   \n",
       "super_glue:rte            True  0.571429      0.833333        0.846065   \n",
       "super_glue:axg            True  0.497908      0.355649        0.957213   \n",
       "amazon_polarity           True  0.561798       0.94382         0.96359   \n",
       "glue:qnli                 True  0.458824      0.835294        0.693423   \n",
       "sst2                      True  0.532468      0.844156        0.842818   \n",
       "super_glue:boolq         False  0.453184      0.235955        0.912968   \n",
       "imdb                     False  0.486891      0.082397        0.962704   \n",
       "\n",
       "                 roc_auc_base  \n",
       "hans                 0.814617  \n",
       "super_glue:rte       0.906829  \n",
       "super_glue:axg       0.853361  \n",
       "amazon_polarity      0.984103  \n",
       "glue:qnli            0.929766  \n",
       "sst2                 0.958672  \n",
       "super_glue:boolq     0.925429  \n",
       "imdb                  0.92952  "
      ]
     },
     "metadata": {},
     "output_type": "display_data"
    }
   ],
   "source": [
    "model = TorchLogisticRegression(random_state=42, \n",
    "                                # max_iter=1000,\n",
    "                                 class_weight='balanced',)\n",
    "df_res = eval_ranking(model, ds_trainval, ds_test)\n",
    "df_res2 = analyze_dfres(df_res)\n"
   ]
  },
  {
   "cell_type": "markdown",
   "metadata": {},
   "source": [
    "### Baseline: DummyClassifier\n"
   ]
  },
  {
   "cell_type": "code",
   "execution_count": 23,
   "metadata": {},
   "outputs": [],
   "source": [
    "from sklearn.dummy import DummyClassifier\n",
    "from einops import rearrange\n",
    "\n",
    "class TorchDummyClassifier(DummyClassifier):\n",
    "\n",
    "    def fit(self, X_train, y_train, sample_weight = None, **kwargs):\n",
    "        X_train = rearrange(X_train, 'b l h v -> b (l h v)')\n",
    "        return super().fit(X_train.numpy(), y_train.numpy(), sample_weight)\n",
    "    \n",
    "    def predict_proba(self, X):\n",
    "        X = rearrange(X, 'b l h v -> b (l h v)').numpy()\n",
    "        return torch.from_numpy(super().predict_proba(X)[:, 1])\n"
   ]
  },
  {
   "cell_type": "code",
   "execution_count": 24,
   "metadata": {},
   "outputs": [
    {
     "data": {
      "text/html": [
       "<div>\n",
       "<style scoped>\n",
       "    .dataframe tbody tr th:only-of-type {\n",
       "        vertical-align: middle;\n",
       "    }\n",
       "\n",
       "    .dataframe tbody tr th {\n",
       "        vertical-align: top;\n",
       "    }\n",
       "\n",
       "    .dataframe thead th {\n",
       "        text-align: right;\n",
       "    }\n",
       "</style>\n",
       "<table border=\"1\" class=\"dataframe\">\n",
       "  <thead>\n",
       "    <tr style=\"text-align: right;\">\n",
       "      <th></th>\n",
       "      <th>roc_auc</th>\n",
       "      <th>improvement</th>\n",
       "      <th>acc</th>\n",
       "      <th>n</th>\n",
       "      <th>in_dist_adapter</th>\n",
       "      <th>in_dist_probe</th>\n",
       "      <th>balance</th>\n",
       "      <th>balance_proxy</th>\n",
       "      <th>roc_auc_adapter</th>\n",
       "      <th>roc_auc_base</th>\n",
       "    </tr>\n",
       "  </thead>\n",
       "  <tbody>\n",
       "    <tr>\n",
       "      <th>amazon_polarity</th>\n",
       "      <td>0.947179</td>\n",
       "      <td>-0.036923</td>\n",
       "      <td>0.94382</td>\n",
       "      <td>89</td>\n",
       "      <td>True</td>\n",
       "      <td>True</td>\n",
       "      <td>0.561798</td>\n",
       "      <td>0.94382</td>\n",
       "      <td>0.96359</td>\n",
       "      <td>0.984103</td>\n",
       "    </tr>\n",
       "    <tr>\n",
       "      <th>super_glue:rte</th>\n",
       "      <td>0.833333</td>\n",
       "      <td>-0.073495</td>\n",
       "      <td>0.833333</td>\n",
       "      <td>84</td>\n",
       "      <td>True</td>\n",
       "      <td>True</td>\n",
       "      <td>0.571429</td>\n",
       "      <td>0.833333</td>\n",
       "      <td>0.846065</td>\n",
       "      <td>0.906829</td>\n",
       "    </tr>\n",
       "    <tr>\n",
       "      <th>glue:qnli</th>\n",
       "      <td>0.841973</td>\n",
       "      <td>-0.087793</td>\n",
       "      <td>0.835294</td>\n",
       "      <td>85</td>\n",
       "      <td>True</td>\n",
       "      <td>True</td>\n",
       "      <td>0.458824</td>\n",
       "      <td>0.835294</td>\n",
       "      <td>0.693423</td>\n",
       "      <td>0.929766</td>\n",
       "    </tr>\n",
       "    <tr>\n",
       "      <th>sst2</th>\n",
       "      <td>0.846883</td>\n",
       "      <td>-0.111789</td>\n",
       "      <td>0.844156</td>\n",
       "      <td>77</td>\n",
       "      <td>True</td>\n",
       "      <td>True</td>\n",
       "      <td>0.532468</td>\n",
       "      <td>0.844156</td>\n",
       "      <td>0.842818</td>\n",
       "      <td>0.958672</td>\n",
       "    </tr>\n",
       "    <tr>\n",
       "      <th>hans</th>\n",
       "      <td>0.702763</td>\n",
       "      <td>-0.111854</td>\n",
       "      <td>0.701493</td>\n",
       "      <td>67</td>\n",
       "      <td>True</td>\n",
       "      <td>True</td>\n",
       "      <td>0.492537</td>\n",
       "      <td>0.701493</td>\n",
       "      <td>0.722816</td>\n",
       "      <td>0.814617</td>\n",
       "    </tr>\n",
       "    <tr>\n",
       "      <th>super_glue:axg</th>\n",
       "      <td>0.355637</td>\n",
       "      <td>-0.601576</td>\n",
       "      <td>0.355649</td>\n",
       "      <td>239</td>\n",
       "      <td>True</td>\n",
       "      <td>True</td>\n",
       "      <td>0.497908</td>\n",
       "      <td>0.355649</td>\n",
       "      <td>0.957213</td>\n",
       "      <td>0.853361</td>\n",
       "    </tr>\n",
       "    <tr>\n",
       "      <th>super_glue:boolq</th>\n",
       "      <td>0.240519</td>\n",
       "      <td>-0.68491</td>\n",
       "      <td>0.235955</td>\n",
       "      <td>534</td>\n",
       "      <td>False</td>\n",
       "      <td>False</td>\n",
       "      <td>0.453184</td>\n",
       "      <td>0.235955</td>\n",
       "      <td>0.912968</td>\n",
       "      <td>0.925429</td>\n",
       "    </tr>\n",
       "    <tr>\n",
       "      <th>imdb</th>\n",
       "      <td>0.082355</td>\n",
       "      <td>-0.880348</td>\n",
       "      <td>0.082397</td>\n",
       "      <td>534</td>\n",
       "      <td>False</td>\n",
       "      <td>False</td>\n",
       "      <td>0.486891</td>\n",
       "      <td>0.082397</td>\n",
       "      <td>0.962704</td>\n",
       "      <td>0.92952</td>\n",
       "    </tr>\n",
       "  </tbody>\n",
       "</table>\n",
       "</div>"
      ],
      "text/plain": [
       "                   roc_auc improvement       acc    n in_dist_adapter  \\\n",
       "amazon_polarity   0.947179   -0.036923   0.94382   89            True   \n",
       "super_glue:rte    0.833333   -0.073495  0.833333   84            True   \n",
       "glue:qnli         0.841973   -0.087793  0.835294   85            True   \n",
       "sst2              0.846883   -0.111789  0.844156   77            True   \n",
       "hans              0.702763   -0.111854  0.701493   67            True   \n",
       "super_glue:axg    0.355637   -0.601576  0.355649  239            True   \n",
       "super_glue:boolq  0.240519    -0.68491  0.235955  534           False   \n",
       "imdb              0.082355   -0.880348  0.082397  534           False   \n",
       "\n",
       "                 in_dist_probe   balance balance_proxy roc_auc_adapter  \\\n",
       "amazon_polarity           True  0.561798       0.94382         0.96359   \n",
       "super_glue:rte            True  0.571429      0.833333        0.846065   \n",
       "glue:qnli                 True  0.458824      0.835294        0.693423   \n",
       "sst2                      True  0.532468      0.844156        0.842818   \n",
       "hans                      True  0.492537      0.701493        0.722816   \n",
       "super_glue:axg            True  0.497908      0.355649        0.957213   \n",
       "super_glue:boolq         False  0.453184      0.235955        0.912968   \n",
       "imdb                     False  0.486891      0.082397        0.962704   \n",
       "\n",
       "                 roc_auc_base  \n",
       "amazon_polarity      0.984103  \n",
       "super_glue:rte       0.906829  \n",
       "glue:qnli            0.929766  \n",
       "sst2                 0.958672  \n",
       "hans                 0.814617  \n",
       "super_glue:axg       0.853361  \n",
       "super_glue:boolq     0.925429  \n",
       "imdb                  0.92952  "
      ]
     },
     "metadata": {},
     "output_type": "display_data"
    },
    {
     "data": {
      "text/html": [
       "<div>\n",
       "<style scoped>\n",
       "    .dataframe tbody tr th:only-of-type {\n",
       "        vertical-align: middle;\n",
       "    }\n",
       "\n",
       "    .dataframe tbody tr th {\n",
       "        vertical-align: top;\n",
       "    }\n",
       "\n",
       "    .dataframe thead th {\n",
       "        text-align: right;\n",
       "    }\n",
       "</style>\n",
       "<table border=\"1\" class=\"dataframe\">\n",
       "  <thead>\n",
       "    <tr style=\"text-align: right;\">\n",
       "      <th></th>\n",
       "      <th>roc_auc</th>\n",
       "      <th>improvement</th>\n",
       "      <th>acc</th>\n",
       "      <th>n</th>\n",
       "      <th>in_dist_adapter</th>\n",
       "      <th>in_dist_probe</th>\n",
       "      <th>balance</th>\n",
       "      <th>balance_proxy</th>\n",
       "      <th>roc_auc_adapter</th>\n",
       "      <th>roc_auc_base</th>\n",
       "    </tr>\n",
       "  </thead>\n",
       "  <tbody>\n",
       "    <tr>\n",
       "      <th>amazon_polarity</th>\n",
       "      <td>0.947179</td>\n",
       "      <td>-0.036923</td>\n",
       "      <td>0.94382</td>\n",
       "      <td>89</td>\n",
       "      <td>True</td>\n",
       "      <td>True</td>\n",
       "      <td>0.561798</td>\n",
       "      <td>0.94382</td>\n",
       "      <td>0.96359</td>\n",
       "      <td>0.984103</td>\n",
       "    </tr>\n",
       "    <tr>\n",
       "      <th>super_glue:rte</th>\n",
       "      <td>0.833333</td>\n",
       "      <td>-0.073495</td>\n",
       "      <td>0.833333</td>\n",
       "      <td>84</td>\n",
       "      <td>True</td>\n",
       "      <td>True</td>\n",
       "      <td>0.571429</td>\n",
       "      <td>0.833333</td>\n",
       "      <td>0.846065</td>\n",
       "      <td>0.906829</td>\n",
       "    </tr>\n",
       "    <tr>\n",
       "      <th>glue:qnli</th>\n",
       "      <td>0.841973</td>\n",
       "      <td>-0.087793</td>\n",
       "      <td>0.835294</td>\n",
       "      <td>85</td>\n",
       "      <td>True</td>\n",
       "      <td>True</td>\n",
       "      <td>0.458824</td>\n",
       "      <td>0.835294</td>\n",
       "      <td>0.693423</td>\n",
       "      <td>0.929766</td>\n",
       "    </tr>\n",
       "    <tr>\n",
       "      <th>sst2</th>\n",
       "      <td>0.846883</td>\n",
       "      <td>-0.111789</td>\n",
       "      <td>0.844156</td>\n",
       "      <td>77</td>\n",
       "      <td>True</td>\n",
       "      <td>True</td>\n",
       "      <td>0.532468</td>\n",
       "      <td>0.844156</td>\n",
       "      <td>0.842818</td>\n",
       "      <td>0.958672</td>\n",
       "    </tr>\n",
       "    <tr>\n",
       "      <th>hans</th>\n",
       "      <td>0.702763</td>\n",
       "      <td>-0.111854</td>\n",
       "      <td>0.701493</td>\n",
       "      <td>67</td>\n",
       "      <td>True</td>\n",
       "      <td>True</td>\n",
       "      <td>0.492537</td>\n",
       "      <td>0.701493</td>\n",
       "      <td>0.722816</td>\n",
       "      <td>0.814617</td>\n",
       "    </tr>\n",
       "    <tr>\n",
       "      <th>super_glue:axg</th>\n",
       "      <td>0.355637</td>\n",
       "      <td>-0.601576</td>\n",
       "      <td>0.355649</td>\n",
       "      <td>239</td>\n",
       "      <td>True</td>\n",
       "      <td>True</td>\n",
       "      <td>0.497908</td>\n",
       "      <td>0.355649</td>\n",
       "      <td>0.957213</td>\n",
       "      <td>0.853361</td>\n",
       "    </tr>\n",
       "    <tr>\n",
       "      <th>super_glue:boolq</th>\n",
       "      <td>0.240519</td>\n",
       "      <td>-0.68491</td>\n",
       "      <td>0.235955</td>\n",
       "      <td>534</td>\n",
       "      <td>False</td>\n",
       "      <td>False</td>\n",
       "      <td>0.453184</td>\n",
       "      <td>0.235955</td>\n",
       "      <td>0.912968</td>\n",
       "      <td>0.925429</td>\n",
       "    </tr>\n",
       "    <tr>\n",
       "      <th>imdb</th>\n",
       "      <td>0.082355</td>\n",
       "      <td>-0.880348</td>\n",
       "      <td>0.082397</td>\n",
       "      <td>534</td>\n",
       "      <td>False</td>\n",
       "      <td>False</td>\n",
       "      <td>0.486891</td>\n",
       "      <td>0.082397</td>\n",
       "      <td>0.962704</td>\n",
       "      <td>0.92952</td>\n",
       "    </tr>\n",
       "  </tbody>\n",
       "</table>\n",
       "</div>"
      ],
      "text/plain": [
       "                   roc_auc improvement       acc    n in_dist_adapter  \\\n",
       "amazon_polarity   0.947179   -0.036923   0.94382   89            True   \n",
       "super_glue:rte    0.833333   -0.073495  0.833333   84            True   \n",
       "glue:qnli         0.841973   -0.087793  0.835294   85            True   \n",
       "sst2              0.846883   -0.111789  0.844156   77            True   \n",
       "hans              0.702763   -0.111854  0.701493   67            True   \n",
       "super_glue:axg    0.355637   -0.601576  0.355649  239            True   \n",
       "super_glue:boolq  0.240519    -0.68491  0.235955  534           False   \n",
       "imdb              0.082355   -0.880348  0.082397  534           False   \n",
       "\n",
       "                 in_dist_probe   balance balance_proxy roc_auc_adapter  \\\n",
       "amazon_polarity           True  0.561798       0.94382         0.96359   \n",
       "super_glue:rte            True  0.571429      0.833333        0.846065   \n",
       "glue:qnli                 True  0.458824      0.835294        0.693423   \n",
       "sst2                      True  0.532468      0.844156        0.842818   \n",
       "hans                      True  0.492537      0.701493        0.722816   \n",
       "super_glue:axg            True  0.497908      0.355649        0.957213   \n",
       "super_glue:boolq         False  0.453184      0.235955        0.912968   \n",
       "imdb                     False  0.486891      0.082397        0.962704   \n",
       "\n",
       "                 roc_auc_base  \n",
       "amazon_polarity      0.984103  \n",
       "super_glue:rte       0.906829  \n",
       "glue:qnli            0.929766  \n",
       "sst2                 0.958672  \n",
       "hans                 0.814617  \n",
       "super_glue:axg       0.853361  \n",
       "super_glue:boolq     0.925429  \n",
       "imdb                  0.92952  "
      ]
     },
     "execution_count": 24,
     "metadata": {},
     "output_type": "execute_result"
    }
   ],
   "source": [
    "model = TorchDummyClassifier(random_state=42, strategy=\"most_frequent\")\n",
    "df_res = eval_ranking(model, ds_trainval, ds_test)\n",
    "analyze_dfres(df_res);\n"
   ]
  },
  {
   "cell_type": "markdown",
   "metadata": {},
   "source": [
    "### PL Conv MSE Ranking\n"
   ]
  },
  {
   "cell_type": "code",
   "execution_count": 25,
   "metadata": {},
   "outputs": [],
   "source": [
    "\n",
    "def distance_truth_telling(ds):\n",
    "    \"\"\"label whether the adapter or the base model were more truthfull.\"\"\"\n",
    "    # even thought it is a distance, we make it center around 0.5 instead of 0, to be compatible with the other metrics\n",
    "    return ds['correct_truth_telling_base'] - ds['correct_truth_telling_adapt'] + 0.5\n",
    "\n",
    "\n",
    "def undo_distance_truth_telling(base_more_truthful: Float[Tensor, ''], ds: Dataset, ):\n",
    "    #note if we know which model is more truthful, and it's a binary choice, we can take the choice that is in that direction as the truth\n",
    "    base_more_truthful = base_more_truthful - 0.5\n",
    "    base_more_positive = (ds['binary_ans_base'] > ds['binary_ans_adapt']) * 1.0\n",
    "    y = base_more_truthful * base_more_positive + (1-base_more_positive) * (-base_more_truthful)\n",
    "    return y > 0.\n",
    "    # return switch(base_more_positive, base_more_truthful)\n",
    "\n",
    "\n",
    "y = distance_truth_telling(ds_val)\n",
    "y1 = undo_distance_truth_telling(y, ds_val)\n",
    "np.testing.assert_array_equal(y1, ds_val['label_true_base'], err_msg=\"undo_distance_truth_telling failed\")\n"
   ]
  },
  {
   "cell_type": "code",
   "execution_count": 26,
   "metadata": {},
   "outputs": [],
   "source": [
    "# ds_val['label_true_base']\n"
   ]
  },
  {
   "cell_type": "code",
   "execution_count": null,
   "metadata": {},
   "outputs": [],
   "source": []
  },
  {
   "cell_type": "code",
   "execution_count": 27,
   "metadata": {},
   "outputs": [],
   "source": [
    "ds2proxy = distance_truth_telling\n",
    "proxy2label = undo_distance_truth_telling\n",
    "\n",
    "# FIXME: the distance is 0.5 thresh but 0. Hmm\n"
   ]
  },
  {
   "cell_type": "code",
   "execution_count": 28,
   "metadata": {},
   "outputs": [],
   "source": [
    "from src.probes.pl_ranking_probe import InceptionBlock, LinBnDrop\n",
    "\n",
    "    \n",
    "\n",
    "class HSModel2d(nn.Module):\n",
    "    def __init__(self, c_in, hs, dropout=0, depth=2):\n",
    "        super().__init__()\n",
    "\n",
    "        layers = [nn.BatchNorm1d(c_in[1], affine=False)]\n",
    "        for i in range(depth+1):\n",
    "            if (i>0) and (i<depth):\n",
    "                layers.append(InceptionBlock(hs*4, hs, conv_dropout=dropout))\n",
    "            elif i==0: # first layer\n",
    "                if depth==0: \n",
    "                    layers.append(InceptionBlock(c_in[1], 1))\n",
    "                else:\n",
    "                    layers.append(InceptionBlock(c_in[1], hs, conv_dropout=dropout))\n",
    "            else: # last layer\n",
    "                layers.append(nn.Conv1d(hs*4, 1, 1))\n",
    "        self.conv = nn.Sequential(*layers)\n",
    "        \n",
    "        n = c_in[0]\n",
    "        self.head = nn.Sequential(\n",
    "            LinBnDrop(n, n, p=dropout),\n",
    "            LinBnDrop(n, n, p=dropout),\n",
    "            nn.Linear(n, 1),  \n",
    "        )\n",
    "\n",
    "    def forward(self, x):\n",
    "        x = x.float()\n",
    "        x = rearrange(x, 'b l h -> b h l')\n",
    "        x = self.conv(x)\n",
    "        x = rearrange(x, 'b l h -> b (l h)')\n",
    "        return self.head(x).squeeze(1)\n"
   ]
  },
  {
   "cell_type": "code",
   "execution_count": 29,
   "metadata": {},
   "outputs": [],
   "source": [
    "from src.helpers.sklearn_lightning import PLSKWrapper, PLSKBase\n",
    "from torchmetrics.functional import accuracy\n",
    "\n",
    "class PLSKMSErank(PLSKBase):\n",
    "    def __init__(self, c_in, dropout=0, hs=32, depth=2, **kwargs):\n",
    "        super().__init__(**kwargs)\n",
    "\n",
    "        self.model = HSModel2d(c_in, hs, dropout)\n",
    "\n",
    "    def forward(self, x):\n",
    "        return self.model(x)\n",
    "\n",
    "    def _step(self, batch, batch_idx, stage='train'):\n",
    "        x, y = batch\n",
    "        x0 = x[..., 0]\n",
    "        x1 = x[..., 1]\n",
    "        ypred0 = self(x0)\n",
    "        ypred1 = self(x1)\n",
    "\n",
    "        y_probs = F.sigmoid(ypred0-ypred1+0.5)\n",
    "        y_cls = y_probs > 0.5\n",
    "        \n",
    "        if stage=='pred':\n",
    "            return y_probs\n",
    "        \n",
    "        loss = F.smooth_l1_loss(ypred0-ypred1, y)\n",
    "        \n",
    "        y_cls = ypred1>ypred0 # switch2bool(ypred1-ypred0)\n",
    "        self.log(f\"{stage}/acc\", accuracy(y_cls, y>0.5, \"binary\"), on_epoch=True, on_step=False)\n",
    "        self.log(f\"{stage}/loss\", loss, on_epoch=True, on_step=True, prog_bar=True)\n",
    "        self.log(f\"{stage}/n\", len(y), on_epoch=True, on_step=False, reduce_fx=torch.sum)\n",
    "        return loss\n"
   ]
  },
  {
   "cell_type": "code",
   "execution_count": 30,
   "metadata": {},
   "outputs": [
    {
     "data": {
      "text/plain": [
       "torch.Size([14, 2559, 2])"
      ]
     },
     "execution_count": 30,
     "metadata": {},
     "output_type": "execute_result"
    }
   ],
   "source": [
    "ds_train, ds_val = train_test_split_ds(ds_trainval, test_size=0.3)\n",
    "X_val, y_val_proxy = ds2xy(ds_val)\n",
    "c_in = X_val.shape[1:]\n",
    "c_in\n"
   ]
  },
  {
   "cell_type": "code",
   "execution_count": 32,
   "metadata": {},
   "outputs": [
    {
     "name": "stderr",
     "output_type": "stream",
     "text": [
      "Trainer will use only 1 of 2 GPUs because it is running inside an interactive / notebook environment. You may try to set `Trainer(devices=2)` but please note that multi-GPU inside interactive / notebook environments is considered experimental and unstable. Your mileage may vary.\n",
      "GPU available: True (cuda), used: True\n",
      "TPU available: False, using: 0 TPU cores\n",
      "IPU available: False, using: 0 IPUs\n",
      "HPU available: False, using: 0 HPUs\n",
      "/media/wassname/SGIronWolf/projects5/elk/sgd_probes_are_lie_detectors/.venv/lib/python3.11/site-packages/lightning/pytorch/trainer/connectors/logger_connector/logger_connector.py:67: Starting from v1.9.0, `tensorboardX` has been removed as a dependency of the `lightning.pytorch` package, due to potential conflicts with other packages in the ML ecosystem. For this reason, `logger=True` will use `CSVLogger` as the default logger, unless the `tensorboard` or `tensorboardX` packages are found. Please `pip install lightning[extra]` or one of them to enable TensorBoard support by default\n",
      "LOCAL_RANK: 0 - CUDA_VISIBLE_DEVICES: [0,1]\n",
      "\n",
      "  | Name  | Type      | Params\n",
      "------------------------------------\n",
      "0 | model | HSModel2d | 546 K \n",
      "------------------------------------\n",
      "546 K     Trainable params\n",
      "0         Non-trainable params\n",
      "546 K     Total params\n",
      "2.187     Total estimated model params size (MB)\n"
     ]
    },
    {
     "data": {
      "application/vnd.jupyter.widget-view+json": {
       "model_id": "1ab31335ad6c4b278e135a27f558b2ae",
       "version_major": 2,
       "version_minor": 0
      },
      "text/plain": [
       "Sanity Checking: |          | 0/? [00:00<?, ?it/s]"
      ]
     },
     "metadata": {},
     "output_type": "display_data"
    },
    {
     "name": "stderr",
     "output_type": "stream",
     "text": [
      "/media/wassname/SGIronWolf/projects5/elk/sgd_probes_are_lie_detectors/.venv/lib/python3.11/site-packages/torch/nn/modules/conv.py:306: UserWarning: Using padding='same' with even kernel lengths and odd dilation may require a zero-padded copy of the input be created (Triggered internally at ../aten/src/ATen/native/Convolution.cpp:1008.)\n",
      "  return F.conv1d(input, weight, bias, self.stride,\n",
      "/media/wassname/SGIronWolf/projects5/elk/sgd_probes_are_lie_detectors/.venv/lib/python3.11/site-packages/lightning/pytorch/trainer/connectors/logger_connector/result.py:212: You called `self.log('val/n', ...)` in your `validation_step` but the value needs to be floating to be reduced. Converting it to torch.float32. You can silence this warning by converting the value to floating point yourself. If you don't intend to reduce the value (for instance when logging the global step or epoch) then you can use `self.logger.log_metrics({'val/n': ...})` instead.\n"
     ]
    },
    {
     "data": {
      "application/vnd.jupyter.widget-view+json": {
       "model_id": "127c62ea27ca4c868e6b08f577493f67",
       "version_major": 2,
       "version_minor": 0
      },
      "text/plain": [
       "Training: |          | 0/? [00:00<?, ?it/s]"
      ]
     },
     "metadata": {},
     "output_type": "display_data"
    },
    {
     "name": "stderr",
     "output_type": "stream",
     "text": [
      "/media/wassname/SGIronWolf/projects5/elk/sgd_probes_are_lie_detectors/.venv/lib/python3.11/site-packages/lightning/pytorch/trainer/connectors/logger_connector/result.py:212: You called `self.log('train/n', ...)` in your `training_step` but the value needs to be floating to be reduced. Converting it to torch.float32. You can silence this warning by converting the value to floating point yourself. If you don't intend to reduce the value (for instance when logging the global step or epoch) then you can use `self.logger.log_metrics({'train/n': ...})` instead.\n"
     ]
    },
    {
     "data": {
      "application/vnd.jupyter.widget-view+json": {
       "model_id": "9a2877fba245408bb86cf56ea3227697",
       "version_major": 2,
       "version_minor": 0
      },
      "text/plain": [
       "Validation: |          | 0/? [00:00<?, ?it/s]"
      ]
     },
     "metadata": {},
     "output_type": "display_data"
    },
    {
     "data": {
      "application/vnd.jupyter.widget-view+json": {
       "model_id": "651d745e56c9456a9d9f0a6365ba5608",
       "version_major": 2,
       "version_minor": 0
      },
      "text/plain": [
       "Validation: |          | 0/? [00:00<?, ?it/s]"
      ]
     },
     "metadata": {},
     "output_type": "display_data"
    },
    {
     "data": {
      "application/vnd.jupyter.widget-view+json": {
       "model_id": "45e22119ec0840c1a577d2eef470ce08",
       "version_major": 2,
       "version_minor": 0
      },
      "text/plain": [
       "Validation: |          | 0/? [00:00<?, ?it/s]"
      ]
     },
     "metadata": {},
     "output_type": "display_data"
    },
    {
     "data": {
      "application/vnd.jupyter.widget-view+json": {
       "model_id": "ffe2f34f17804e3584f66770b7ac4fe4",
       "version_major": 2,
       "version_minor": 0
      },
      "text/plain": [
       "Validation: |          | 0/? [00:00<?, ?it/s]"
      ]
     },
     "metadata": {},
     "output_type": "display_data"
    },
    {
     "data": {
      "application/vnd.jupyter.widget-view+json": {
       "model_id": "69560f51933f4105b862b0b68f7e3892",
       "version_major": 2,
       "version_minor": 0
      },
      "text/plain": [
       "Validation: |          | 0/? [00:00<?, ?it/s]"
      ]
     },
     "metadata": {},
     "output_type": "display_data"
    },
    {
     "data": {
      "application/vnd.jupyter.widget-view+json": {
       "model_id": "600b332a2a014fdaae6158f730c4e927",
       "version_major": 2,
       "version_minor": 0
      },
      "text/plain": [
       "Validation: |          | 0/? [00:00<?, ?it/s]"
      ]
     },
     "metadata": {},
     "output_type": "display_data"
    },
    {
     "data": {
      "application/vnd.jupyter.widget-view+json": {
       "model_id": "d8ec5b0755814e55a19da23c93380c5e",
       "version_major": 2,
       "version_minor": 0
      },
      "text/plain": [
       "Validation: |          | 0/? [00:00<?, ?it/s]"
      ]
     },
     "metadata": {},
     "output_type": "display_data"
    },
    {
     "data": {
      "application/vnd.jupyter.widget-view+json": {
       "model_id": "dda458ae3c84458aabbc198e7c90abf6",
       "version_major": 2,
       "version_minor": 0
      },
      "text/plain": [
       "Validation: |          | 0/? [00:00<?, ?it/s]"
      ]
     },
     "metadata": {},
     "output_type": "display_data"
    },
    {
     "data": {
      "application/vnd.jupyter.widget-view+json": {
       "model_id": "8c268c97399249bb896104b6de8751fa",
       "version_major": 2,
       "version_minor": 0
      },
      "text/plain": [
       "Validation: |          | 0/? [00:00<?, ?it/s]"
      ]
     },
     "metadata": {},
     "output_type": "display_data"
    },
    {
     "data": {
      "application/vnd.jupyter.widget-view+json": {
       "model_id": "b499355339304940a43daa179cf5a350",
       "version_major": 2,
       "version_minor": 0
      },
      "text/plain": [
       "Validation: |          | 0/? [00:00<?, ?it/s]"
      ]
     },
     "metadata": {},
     "output_type": "display_data"
    },
    {
     "data": {
      "application/vnd.jupyter.widget-view+json": {
       "model_id": "a2bc35a97da44a50b689c043520e4090",
       "version_major": 2,
       "version_minor": 0
      },
      "text/plain": [
       "Validation: |          | 0/? [00:00<?, ?it/s]"
      ]
     },
     "metadata": {},
     "output_type": "display_data"
    },
    {
     "data": {
      "application/vnd.jupyter.widget-view+json": {
       "model_id": "de97f9d49e3e4dd6b69b65c2699a4e95",
       "version_major": 2,
       "version_minor": 0
      },
      "text/plain": [
       "Validation: |          | 0/? [00:00<?, ?it/s]"
      ]
     },
     "metadata": {},
     "output_type": "display_data"
    },
    {
     "data": {
      "application/vnd.jupyter.widget-view+json": {
       "model_id": "62455c459542474387ace2544993f721",
       "version_major": 2,
       "version_minor": 0
      },
      "text/plain": [
       "Validation: |          | 0/? [00:00<?, ?it/s]"
      ]
     },
     "metadata": {},
     "output_type": "display_data"
    },
    {
     "data": {
      "application/vnd.jupyter.widget-view+json": {
       "model_id": "71f86cd49f1047d0b29887ccbf3f7254",
       "version_major": 2,
       "version_minor": 0
      },
      "text/plain": [
       "Validation: |          | 0/? [00:00<?, ?it/s]"
      ]
     },
     "metadata": {},
     "output_type": "display_data"
    },
    {
     "data": {
      "application/vnd.jupyter.widget-view+json": {
       "model_id": "1ae24d142c3546f2bc62da11d200f479",
       "version_major": 2,
       "version_minor": 0
      },
      "text/plain": [
       "Validation: |          | 0/? [00:00<?, ?it/s]"
      ]
     },
     "metadata": {},
     "output_type": "display_data"
    },
    {
     "data": {
      "application/vnd.jupyter.widget-view+json": {
       "model_id": "3aa00dd6ae694f10bf40c86a5cf1d165",
       "version_major": 2,
       "version_minor": 0
      },
      "text/plain": [
       "Validation: |          | 0/? [00:00<?, ?it/s]"
      ]
     },
     "metadata": {},
     "output_type": "display_data"
    },
    {
     "data": {
      "application/vnd.jupyter.widget-view+json": {
       "model_id": "001799050521493fa5356ce68d956ad1",
       "version_major": 2,
       "version_minor": 0
      },
      "text/plain": [
       "Validation: |          | 0/? [00:00<?, ?it/s]"
      ]
     },
     "metadata": {},
     "output_type": "display_data"
    },
    {
     "data": {
      "application/vnd.jupyter.widget-view+json": {
       "model_id": "95c74b9f97754506912b973319ba12af",
       "version_major": 2,
       "version_minor": 0
      },
      "text/plain": [
       "Validation: |          | 0/? [00:00<?, ?it/s]"
      ]
     },
     "metadata": {},
     "output_type": "display_data"
    },
    {
     "data": {
      "application/vnd.jupyter.widget-view+json": {
       "model_id": "a86d6585523c4e0884e828aa9c183e97",
       "version_major": 2,
       "version_minor": 0
      },
      "text/plain": [
       "Validation: |          | 0/? [00:00<?, ?it/s]"
      ]
     },
     "metadata": {},
     "output_type": "display_data"
    },
    {
     "data": {
      "application/vnd.jupyter.widget-view+json": {
       "model_id": "bf8252860f114523b3951d37733da3f1",
       "version_major": 2,
       "version_minor": 0
      },
      "text/plain": [
       "Validation: |          | 0/? [00:00<?, ?it/s]"
      ]
     },
     "metadata": {},
     "output_type": "display_data"
    },
    {
     "data": {
      "application/vnd.jupyter.widget-view+json": {
       "model_id": "7943ce4b8929490fb8ffc6d188aaa804",
       "version_major": 2,
       "version_minor": 0
      },
      "text/plain": [
       "Validation: |          | 0/? [00:00<?, ?it/s]"
      ]
     },
     "metadata": {},
     "output_type": "display_data"
    },
    {
     "data": {
      "application/vnd.jupyter.widget-view+json": {
       "model_id": "5cbde0cdb12041369d79ecc3be8b11ee",
       "version_major": 2,
       "version_minor": 0
      },
      "text/plain": [
       "Validation: |          | 0/? [00:00<?, ?it/s]"
      ]
     },
     "metadata": {},
     "output_type": "display_data"
    },
    {
     "data": {
      "application/vnd.jupyter.widget-view+json": {
       "model_id": "f7d176ab1b1b4053a04540f05dd699eb",
       "version_major": 2,
       "version_minor": 0
      },
      "text/plain": [
       "Validation: |          | 0/? [00:00<?, ?it/s]"
      ]
     },
     "metadata": {},
     "output_type": "display_data"
    },
    {
     "data": {
      "application/vnd.jupyter.widget-view+json": {
       "model_id": "3de775aa05bd4ae0acd3d3b14c32556c",
       "version_major": 2,
       "version_minor": 0
      },
      "text/plain": [
       "Validation: |          | 0/? [00:00<?, ?it/s]"
      ]
     },
     "metadata": {},
     "output_type": "display_data"
    },
    {
     "data": {
      "application/vnd.jupyter.widget-view+json": {
       "model_id": "91b8003059ab4da897021950503a284b",
       "version_major": 2,
       "version_minor": 0
      },
      "text/plain": [
       "Validation: |          | 0/? [00:00<?, ?it/s]"
      ]
     },
     "metadata": {},
     "output_type": "display_data"
    },
    {
     "data": {
      "application/vnd.jupyter.widget-view+json": {
       "model_id": "740aadc84c794fafb094a2704571f339",
       "version_major": 2,
       "version_minor": 0
      },
      "text/plain": [
       "Validation: |          | 0/? [00:00<?, ?it/s]"
      ]
     },
     "metadata": {},
     "output_type": "display_data"
    },
    {
     "data": {
      "application/vnd.jupyter.widget-view+json": {
       "model_id": "7767bebe07a9428fa3a8ae7f19178ce3",
       "version_major": 2,
       "version_minor": 0
      },
      "text/plain": [
       "Validation: |          | 0/? [00:00<?, ?it/s]"
      ]
     },
     "metadata": {},
     "output_type": "display_data"
    },
    {
     "data": {
      "application/vnd.jupyter.widget-view+json": {
       "model_id": "759890cd3cca4411b35114b9b0551cab",
       "version_major": 2,
       "version_minor": 0
      },
      "text/plain": [
       "Validation: |          | 0/? [00:00<?, ?it/s]"
      ]
     },
     "metadata": {},
     "output_type": "display_data"
    },
    {
     "data": {
      "application/vnd.jupyter.widget-view+json": {
       "model_id": "280e8d7254b1423da5e1f2aa4ccd68ea",
       "version_major": 2,
       "version_minor": 0
      },
      "text/plain": [
       "Validation: |          | 0/? [00:00<?, ?it/s]"
      ]
     },
     "metadata": {},
     "output_type": "display_data"
    },
    {
     "data": {
      "application/vnd.jupyter.widget-view+json": {
       "model_id": "05da3ee654b543c0a158858f0f99b6aa",
       "version_major": 2,
       "version_minor": 0
      },
      "text/plain": [
       "Validation: |          | 0/? [00:00<?, ?it/s]"
      ]
     },
     "metadata": {},
     "output_type": "display_data"
    },
    {
     "data": {
      "application/vnd.jupyter.widget-view+json": {
       "model_id": "4fcddea8df994dab98152bfced0ca1dc",
       "version_major": 2,
       "version_minor": 0
      },
      "text/plain": [
       "Validation: |          | 0/? [00:00<?, ?it/s]"
      ]
     },
     "metadata": {},
     "output_type": "display_data"
    },
    {
     "data": {
      "application/vnd.jupyter.widget-view+json": {
       "model_id": "ae6074620c1544b192a7f753b18f5024",
       "version_major": 2,
       "version_minor": 0
      },
      "text/plain": [
       "Validation: |          | 0/? [00:00<?, ?it/s]"
      ]
     },
     "metadata": {},
     "output_type": "display_data"
    },
    {
     "data": {
      "application/vnd.jupyter.widget-view+json": {
       "model_id": "e1eb78acc0fb4718be6fea9f45f96612",
       "version_major": 2,
       "version_minor": 0
      },
      "text/plain": [
       "Validation: |          | 0/? [00:00<?, ?it/s]"
      ]
     },
     "metadata": {},
     "output_type": "display_data"
    },
    {
     "data": {
      "application/vnd.jupyter.widget-view+json": {
       "model_id": "4aa732c66ac84723ba3989019685232f",
       "version_major": 2,
       "version_minor": 0
      },
      "text/plain": [
       "Validation: |          | 0/? [00:00<?, ?it/s]"
      ]
     },
     "metadata": {},
     "output_type": "display_data"
    },
    {
     "data": {
      "application/vnd.jupyter.widget-view+json": {
       "model_id": "fe319a3476fc4f66a06128f06b9b65b3",
       "version_major": 2,
       "version_minor": 0
      },
      "text/plain": [
       "Validation: |          | 0/? [00:00<?, ?it/s]"
      ]
     },
     "metadata": {},
     "output_type": "display_data"
    },
    {
     "data": {
      "application/vnd.jupyter.widget-view+json": {
       "model_id": "448808a9064e4907927202f570d3b46f",
       "version_major": 2,
       "version_minor": 0
      },
      "text/plain": [
       "Validation: |          | 0/? [00:00<?, ?it/s]"
      ]
     },
     "metadata": {},
     "output_type": "display_data"
    },
    {
     "data": {
      "application/vnd.jupyter.widget-view+json": {
       "model_id": "7a7985c3672841c3aa4ca04f896eb37f",
       "version_major": 2,
       "version_minor": 0
      },
      "text/plain": [
       "Validation: |          | 0/? [00:00<?, ?it/s]"
      ]
     },
     "metadata": {},
     "output_type": "display_data"
    },
    {
     "data": {
      "application/vnd.jupyter.widget-view+json": {
       "model_id": "1e31a58a0a324ac681041ebcba38e041",
       "version_major": 2,
       "version_minor": 0
      },
      "text/plain": [
       "Validation: |          | 0/? [00:00<?, ?it/s]"
      ]
     },
     "metadata": {},
     "output_type": "display_data"
    },
    {
     "data": {
      "application/vnd.jupyter.widget-view+json": {
       "model_id": "3f159848b7c14602b98f20f6f63d433f",
       "version_major": 2,
       "version_minor": 0
      },
      "text/plain": [
       "Validation: |          | 0/? [00:00<?, ?it/s]"
      ]
     },
     "metadata": {},
     "output_type": "display_data"
    },
    {
     "data": {
      "application/vnd.jupyter.widget-view+json": {
       "model_id": "ddebbd80a2804b2a88903b1e45621530",
       "version_major": 2,
       "version_minor": 0
      },
      "text/plain": [
       "Validation: |          | 0/? [00:00<?, ?it/s]"
      ]
     },
     "metadata": {},
     "output_type": "display_data"
    },
    {
     "data": {
      "application/vnd.jupyter.widget-view+json": {
       "model_id": "6e3fec965ee44818b385c73f2d35efb5",
       "version_major": 2,
       "version_minor": 0
      },
      "text/plain": [
       "Validation: |          | 0/? [00:00<?, ?it/s]"
      ]
     },
     "metadata": {},
     "output_type": "display_data"
    },
    {
     "data": {
      "application/vnd.jupyter.widget-view+json": {
       "model_id": "680d799f44fe43acad79f5ee625721d4",
       "version_major": 2,
       "version_minor": 0
      },
      "text/plain": [
       "Validation: |          | 0/? [00:00<?, ?it/s]"
      ]
     },
     "metadata": {},
     "output_type": "display_data"
    },
    {
     "data": {
      "application/vnd.jupyter.widget-view+json": {
       "model_id": "7dbf36f4f20a44f8852d67670b22c0e6",
       "version_major": 2,
       "version_minor": 0
      },
      "text/plain": [
       "Validation: |          | 0/? [00:00<?, ?it/s]"
      ]
     },
     "metadata": {},
     "output_type": "display_data"
    },
    {
     "data": {
      "application/vnd.jupyter.widget-view+json": {
       "model_id": "3f1af72310cd4c45887a97c986177fbc",
       "version_major": 2,
       "version_minor": 0
      },
      "text/plain": [
       "Validation: |          | 0/? [00:00<?, ?it/s]"
      ]
     },
     "metadata": {},
     "output_type": "display_data"
    },
    {
     "data": {
      "application/vnd.jupyter.widget-view+json": {
       "model_id": "1c61aee952904cc1a688410ddd577017",
       "version_major": 2,
       "version_minor": 0
      },
      "text/plain": [
       "Validation: |          | 0/? [00:00<?, ?it/s]"
      ]
     },
     "metadata": {},
     "output_type": "display_data"
    },
    {
     "data": {
      "application/vnd.jupyter.widget-view+json": {
       "model_id": "e21da84886d641039c9affeefa1ae176",
       "version_major": 2,
       "version_minor": 0
      },
      "text/plain": [
       "Validation: |          | 0/? [00:00<?, ?it/s]"
      ]
     },
     "metadata": {},
     "output_type": "display_data"
    },
    {
     "data": {
      "application/vnd.jupyter.widget-view+json": {
       "model_id": "32d70581fec244b8afbc95bf03abb7cd",
       "version_major": 2,
       "version_minor": 0
      },
      "text/plain": [
       "Validation: |          | 0/? [00:00<?, ?it/s]"
      ]
     },
     "metadata": {},
     "output_type": "display_data"
    },
    {
     "data": {
      "application/vnd.jupyter.widget-view+json": {
       "model_id": "db69b03719734f598ceb4b0f5e9d9b11",
       "version_major": 2,
       "version_minor": 0
      },
      "text/plain": [
       "Validation: |          | 0/? [00:00<?, ?it/s]"
      ]
     },
     "metadata": {},
     "output_type": "display_data"
    },
    {
     "data": {
      "application/vnd.jupyter.widget-view+json": {
       "model_id": "eeb9c2b0771f4805aaf6efa1d7f418d1",
       "version_major": 2,
       "version_minor": 0
      },
      "text/plain": [
       "Validation: |          | 0/? [00:00<?, ?it/s]"
      ]
     },
     "metadata": {},
     "output_type": "display_data"
    },
    {
     "data": {
      "application/vnd.jupyter.widget-view+json": {
       "model_id": "d49564c75ba64db6960dd3d2e1e76aec",
       "version_major": 2,
       "version_minor": 0
      },
      "text/plain": [
       "Validation: |          | 0/? [00:00<?, ?it/s]"
      ]
     },
     "metadata": {},
     "output_type": "display_data"
    },
    {
     "name": "stderr",
     "output_type": "stream",
     "text": [
      "`Trainer.fit` stopped: `max_epochs=50` reached.\n",
      "LOCAL_RANK: 0 - CUDA_VISIBLE_DEVICES: [0,1]\n"
     ]
    },
    {
     "data": {
      "application/vnd.jupyter.widget-view+json": {
       "model_id": "94899df6fe2144a5b70389e7d7aa8c09",
       "version_major": 2,
       "version_minor": 0
      },
      "text/plain": [
       "Predicting: |          | 0/? [00:00<?, ?it/s]"
      ]
     },
     "metadata": {},
     "output_type": "display_data"
    },
    {
     "name": "stderr",
     "output_type": "stream",
     "text": [
      "LOCAL_RANK: 0 - CUDA_VISIBLE_DEVICES: [0,1]\n"
     ]
    },
    {
     "data": {
      "application/vnd.jupyter.widget-view+json": {
       "model_id": "521bfdad2ff74bbe92280ec0a120fe60",
       "version_major": 2,
       "version_minor": 0
      },
      "text/plain": [
       "Predicting: |          | 0/? [00:00<?, ?it/s]"
      ]
     },
     "metadata": {},
     "output_type": "display_data"
    },
    {
     "name": "stderr",
     "output_type": "stream",
     "text": [
      "LOCAL_RANK: 0 - CUDA_VISIBLE_DEVICES: [0,1]\n"
     ]
    },
    {
     "data": {
      "application/vnd.jupyter.widget-view+json": {
       "model_id": "2d8358e865904ef9b78ce07fd9273519",
       "version_major": 2,
       "version_minor": 0
      },
      "text/plain": [
       "Predicting: |          | 0/? [00:00<?, ?it/s]"
      ]
     },
     "metadata": {},
     "output_type": "display_data"
    },
    {
     "data": {
      "text/html": [
       "<div>\n",
       "<style scoped>\n",
       "    .dataframe tbody tr th:only-of-type {\n",
       "        vertical-align: middle;\n",
       "    }\n",
       "\n",
       "    .dataframe tbody tr th {\n",
       "        vertical-align: top;\n",
       "    }\n",
       "\n",
       "    .dataframe thead th {\n",
       "        text-align: right;\n",
       "    }\n",
       "</style>\n",
       "<table border=\"1\" class=\"dataframe\">\n",
       "  <thead>\n",
       "    <tr style=\"text-align: right;\">\n",
       "      <th></th>\n",
       "      <th>roc_auc</th>\n",
       "      <th>improvement</th>\n",
       "      <th>acc</th>\n",
       "      <th>n</th>\n",
       "      <th>in_dist_adapter</th>\n",
       "      <th>in_dist_probe</th>\n",
       "      <th>balance</th>\n",
       "      <th>balance_proxy</th>\n",
       "      <th>roc_auc_adapter</th>\n",
       "      <th>roc_auc_base</th>\n",
       "    </tr>\n",
       "  </thead>\n",
       "  <tbody>\n",
       "    <tr>\n",
       "      <th>amazon_polarity</th>\n",
       "      <td>0.947179</td>\n",
       "      <td>-0.036923</td>\n",
       "      <td>0.94382</td>\n",
       "      <td>89</td>\n",
       "      <td>True</td>\n",
       "      <td>True</td>\n",
       "      <td>0.561798</td>\n",
       "      <td>0.666649</td>\n",
       "      <td>0.96359</td>\n",
       "      <td>0.984103</td>\n",
       "    </tr>\n",
       "    <tr>\n",
       "      <th>super_glue:rte</th>\n",
       "      <td>0.833333</td>\n",
       "      <td>-0.073495</td>\n",
       "      <td>0.833333</td>\n",
       "      <td>84</td>\n",
       "      <td>True</td>\n",
       "      <td>True</td>\n",
       "      <td>0.571429</td>\n",
       "      <td>0.677857</td>\n",
       "      <td>0.846065</td>\n",
       "      <td>0.906829</td>\n",
       "    </tr>\n",
       "    <tr>\n",
       "      <th>glue:qnli</th>\n",
       "      <td>0.841973</td>\n",
       "      <td>-0.087793</td>\n",
       "      <td>0.835294</td>\n",
       "      <td>85</td>\n",
       "      <td>True</td>\n",
       "      <td>True</td>\n",
       "      <td>0.458824</td>\n",
       "      <td>0.772603</td>\n",
       "      <td>0.693423</td>\n",
       "      <td>0.929766</td>\n",
       "    </tr>\n",
       "    <tr>\n",
       "      <th>sst2</th>\n",
       "      <td>0.846883</td>\n",
       "      <td>-0.111789</td>\n",
       "      <td>0.844156</td>\n",
       "      <td>77</td>\n",
       "      <td>True</td>\n",
       "      <td>True</td>\n",
       "      <td>0.532468</td>\n",
       "      <td>0.679714</td>\n",
       "      <td>0.842818</td>\n",
       "      <td>0.958672</td>\n",
       "    </tr>\n",
       "    <tr>\n",
       "      <th>hans</th>\n",
       "      <td>0.702763</td>\n",
       "      <td>-0.111854</td>\n",
       "      <td>0.701493</td>\n",
       "      <td>67</td>\n",
       "      <td>True</td>\n",
       "      <td>True</td>\n",
       "      <td>0.492537</td>\n",
       "      <td>0.664491</td>\n",
       "      <td>0.722816</td>\n",
       "      <td>0.814617</td>\n",
       "    </tr>\n",
       "    <tr>\n",
       "      <th>super_glue:axg</th>\n",
       "      <td>0.527381</td>\n",
       "      <td>-0.429832</td>\n",
       "      <td>0.527197</td>\n",
       "      <td>239</td>\n",
       "      <td>True</td>\n",
       "      <td>True</td>\n",
       "      <td>0.497908</td>\n",
       "      <td>0.374873</td>\n",
       "      <td>0.957213</td>\n",
       "      <td>0.853361</td>\n",
       "    </tr>\n",
       "    <tr>\n",
       "      <th>super_glue:boolq</th>\n",
       "      <td>0.242231</td>\n",
       "      <td>-0.683198</td>\n",
       "      <td>0.237828</td>\n",
       "      <td>534</td>\n",
       "      <td>False</td>\n",
       "      <td>False</td>\n",
       "      <td>0.453184</td>\n",
       "      <td>0.4493</td>\n",
       "      <td>0.912968</td>\n",
       "      <td>0.925429</td>\n",
       "    </tr>\n",
       "    <tr>\n",
       "      <th>imdb</th>\n",
       "      <td>0.119048</td>\n",
       "      <td>-0.843655</td>\n",
       "      <td>0.11985</td>\n",
       "      <td>534</td>\n",
       "      <td>False</td>\n",
       "      <td>False</td>\n",
       "      <td>0.486891</td>\n",
       "      <td>0.33606</td>\n",
       "      <td>0.962704</td>\n",
       "      <td>0.92952</td>\n",
       "    </tr>\n",
       "  </tbody>\n",
       "</table>\n",
       "</div>"
      ],
      "text/plain": [
       "                   roc_auc improvement       acc    n in_dist_adapter  \\\n",
       "amazon_polarity   0.947179   -0.036923   0.94382   89            True   \n",
       "super_glue:rte    0.833333   -0.073495  0.833333   84            True   \n",
       "glue:qnli         0.841973   -0.087793  0.835294   85            True   \n",
       "sst2              0.846883   -0.111789  0.844156   77            True   \n",
       "hans              0.702763   -0.111854  0.701493   67            True   \n",
       "super_glue:axg    0.527381   -0.429832  0.527197  239            True   \n",
       "super_glue:boolq  0.242231   -0.683198  0.237828  534           False   \n",
       "imdb              0.119048   -0.843655   0.11985  534           False   \n",
       "\n",
       "                 in_dist_probe   balance balance_proxy roc_auc_adapter  \\\n",
       "amazon_polarity           True  0.561798      0.666649         0.96359   \n",
       "super_glue:rte            True  0.571429      0.677857        0.846065   \n",
       "glue:qnli                 True  0.458824      0.772603        0.693423   \n",
       "sst2                      True  0.532468      0.679714        0.842818   \n",
       "hans                      True  0.492537      0.664491        0.722816   \n",
       "super_glue:axg            True  0.497908      0.374873        0.957213   \n",
       "super_glue:boolq         False  0.453184        0.4493        0.912968   \n",
       "imdb                     False  0.486891       0.33606        0.962704   \n",
       "\n",
       "                 roc_auc_base  \n",
       "amazon_polarity      0.984103  \n",
       "super_glue:rte       0.906829  \n",
       "glue:qnli            0.929766  \n",
       "sst2                 0.958672  \n",
       "hans                 0.814617  \n",
       "super_glue:axg       0.853361  \n",
       "super_glue:boolq     0.925429  \n",
       "imdb                  0.92952  "
      ]
     },
     "metadata": {},
     "output_type": "display_data"
    },
    {
     "data": {
      "image/png": "[encoded data removed]",
      "text/plain": [
       "<Figure size 640x440 with 1 Axes>"
      ]
     },
     "metadata": {},
     "output_type": "display_data"
    },
    {
     "data": {
      "image/png": "[encoded data removed]",
      "text/plain": [
       "<Figure size 640x440 with 1 Axes>"
      ]
     },
     "metadata": {},
     "output_type": "display_data"
    },
    {
     "data": {
      "image/png": "[encoded data removed]",
      "text/plain": [
       "<Figure size 640x440 with 1 Axes>"
      ]
     },
     "metadata": {},
     "output_type": "display_data"
    },
    {
     "data": {
      "image/png": "[encoded data removed]",
      "text/plain": [
       "<Figure size 640x440 with 1 Axes>"
      ]
     },
     "metadata": {},
     "output_type": "display_data"
    }
   ],
   "source": [
    "epoch_steps = int(len(ds_trainval)*0.7//batch_size)\n",
    "pl_model = PLSKMSErank(c_in=c_in, epoch_steps=epoch_steps, max_epochs=max_epochs, depth=3, hs=64)\n",
    "\n",
    "\n",
    "model = PLSKWrapper(pl_model, verbose=verbose, max_epochs=max_epochs)\n",
    "if verbose: print(model)\n",
    "df_res = eval_ranking(model, ds_trainval, ds_test)\n",
    "df_res2 = analyze_dfres(df_res)\n"
   ]
  },
  {
   "cell_type": "markdown",
   "metadata": {},
   "source": [
    "### PL Direct classifier\n"
   ]
  },
  {
   "cell_type": "code",
   "execution_count": 33,
   "metadata": {},
   "outputs": [],
   "source": [
    "\n",
    "class HSModel3d(nn.Module):\n",
    "    def __init__(self, c_in, hs, dropout=0, depth=2):\n",
    "        super().__init__()\n",
    "        self.preconv = nn.Sequential(\n",
    "            nn.Conv2d(c_in[1], hs*4, (1, 2)),\n",
    "        )\n",
    "\n",
    "        layers = [nn.BatchNorm1d(hs*4, affine=False)]\n",
    "        for i in range(depth+1):\n",
    "            if (i>0) and (i<depth):\n",
    "                layers.append(InceptionBlock(hs*4, hs, conv_dropout=dropout))\n",
    "            elif i==0: # first layer\n",
    "                if depth==0: \n",
    "                    layers.append(InceptionBlock(hs*4, 1))\n",
    "                else:\n",
    "                    layers.append(InceptionBlock(hs*4, hs, conv_dropout=dropout))\n",
    "            else: # last layer\n",
    "                layers.append(nn.Conv1d(hs*4, 1, 1))\n",
    "        self.conv = nn.Sequential(*layers)\n",
    "        \n",
    "        n = c_in[0]\n",
    "        self.head = nn.Sequential(\n",
    "            LinBnDrop(n, n, p=dropout),\n",
    "            LinBnDrop(n, n, p=dropout),\n",
    "            nn.Linear(n, 1),  \n",
    "        )\n",
    "\n",
    "    def forward(self, x):\n",
    "        x = x.float()\n",
    "        if x.ndim==4:\n",
    "            x = x.squeeze(3)\n",
    "        x = rearrange(x, 'b l h v -> b h l v')\n",
    "        x = self.preconv(x)\n",
    "        x = rearrange(x, 'b h l v -> b h (l v)')\n",
    "        x = self.conv(x)\n",
    "        x = rearrange(x, 'b l h -> b (l h)')\n",
    "        return self.head(x).squeeze(1)\n"
   ]
  },
  {
   "cell_type": "code",
   "execution_count": 34,
   "metadata": {},
   "outputs": [],
   "source": [
    "from src.helpers.sklearn_lightning import PLSKWrapper, PLSKBase\n",
    "from torchmetrics.functional import accuracy\n",
    "\n",
    "class PLSKDirect(PLSKBase):\n",
    "    def __init__(self, c_in, dropout=0, hs=32, depth=2, **kwargs):\n",
    "        super().__init__(**kwargs)\n",
    "\n",
    "        self.model = HSModel3d(c_in, hs, dropout)\n",
    "\n",
    "    def forward(self, x):\n",
    "        return self.model(x)\n",
    "\n"
   ]
  },
  {
   "cell_type": "code",
   "execution_count": 35,
   "metadata": {},
   "outputs": [],
   "source": [
    "# set labels\n",
    "ds2proxy = ranking_truth_telling\n",
    "proxy2label = undo_ranked_truth_telling\n",
    "\n",
    "# unit test labels\n",
    "y_val1 = ds2proxy(ds_val)\n",
    "y1 = proxy2label(y_val1, ds_val)\n",
    "np.testing.assert_array_equal(y1, ds_val['label_true_base'], err_msg=\"undo_distance_truth_telling failed\")\n",
    "# assert (y1 == ds_val['label_true_base']).all()\n"
   ]
  },
  {
   "cell_type": "code",
   "execution_count": 36,
   "metadata": {},
   "outputs": [
    {
     "data": {
      "text/plain": [
       "torch.Size([14, 2559, 2])"
      ]
     },
     "execution_count": 36,
     "metadata": {},
     "output_type": "execute_result"
    }
   ],
   "source": [
    "ds_train, ds_val = train_test_split_ds(ds_trainval, test_size=0.3)\n",
    "X_val, y_val_proxy = ds2xy(ds_val)\n",
    "c_in = X_val.shape[1:]\n",
    "c_in\n"
   ]
  },
  {
   "cell_type": "code",
   "execution_count": 37,
   "metadata": {},
   "outputs": [
    {
     "name": "stderr",
     "output_type": "stream",
     "text": [
      "Trainer will use only 1 of 2 GPUs because it is running inside an interactive / notebook environment. You may try to set `Trainer(devices=2)` but please note that multi-GPU inside interactive / notebook environments is considered experimental and unstable. Your mileage may vary.\n",
      "GPU available: True (cuda), used: True\n",
      "TPU available: False, using: 0 TPU cores\n",
      "IPU available: False, using: 0 IPUs\n",
      "HPU available: False, using: 0 HPUs\n",
      "LOCAL_RANK: 0 - CUDA_VISIBLE_DEVICES: [0,1]\n",
      "\n",
      "  | Name  | Type      | Params\n",
      "------------------------------------\n",
      "0 | model | HSModel3d | 719 K \n",
      "------------------------------------\n",
      "719 K     Trainable params\n",
      "0         Non-trainable params\n",
      "719 K     Total params\n",
      "2.880     Total estimated model params size (MB)\n"
     ]
    },
    {
     "data": {
      "application/vnd.jupyter.widget-view+json": {
       "model_id": "f4e81fe7928f45f89d6150ceaee702ed",
       "version_major": 2,
       "version_minor": 0
      },
      "text/plain": [
       "Sanity Checking: |          | 0/? [00:00<?, ?it/s]"
      ]
     },
     "metadata": {},
     "output_type": "display_data"
    },
    {
     "data": {
      "application/vnd.jupyter.widget-view+json": {
       "model_id": "9a3cda4163454ba78a43e908ef40fb1b",
       "version_major": 2,
       "version_minor": 0
      },
      "text/plain": [
       "Training: |          | 0/? [00:00<?, ?it/s]"
      ]
     },
     "metadata": {},
     "output_type": "display_data"
    },
    {
     "data": {
      "application/vnd.jupyter.widget-view+json": {
       "model_id": "8b1ef52ff1734263b37c328bf05324ff",
       "version_major": 2,
       "version_minor": 0
      },
      "text/plain": [
       "Validation: |          | 0/? [00:00<?, ?it/s]"
      ]
     },
     "metadata": {},
     "output_type": "display_data"
    },
    {
     "name": "stderr",
     "output_type": "stream",
     "text": [
      "/media/wassname/SGIronWolf/projects5/elk/sgd_probes_are_lie_detectors/.venv/lib/python3.11/site-packages/torchmetrics/utilities/prints.py:43: UserWarning: No positive samples in targets, true positive value should be meaningless. Returning zero tensor in true positive score\n",
      "  warnings.warn(*args, **kwargs)  # noqa: B028\n"
     ]
    },
    {
     "data": {
      "application/vnd.jupyter.widget-view+json": {
       "model_id": "fccc81f3e51940c5b23889d9c880afc1",
       "version_major": 2,
       "version_minor": 0
      },
      "text/plain": [
       "Validation: |          | 0/? [00:00<?, ?it/s]"
      ]
     },
     "metadata": {},
     "output_type": "display_data"
    },
    {
     "data": {
      "application/vnd.jupyter.widget-view+json": {
       "model_id": "186d3e540a27499ab03b2f27decf2835",
       "version_major": 2,
       "version_minor": 0
      },
      "text/plain": [
       "Validation: |          | 0/? [00:00<?, ?it/s]"
      ]
     },
     "metadata": {},
     "output_type": "display_data"
    },
    {
     "data": {
      "application/vnd.jupyter.widget-view+json": {
       "model_id": "18136ca57f6e467b8ab732ba7589e2f2",
       "version_major": 2,
       "version_minor": 0
      },
      "text/plain": [
       "Validation: |          | 0/? [00:00<?, ?it/s]"
      ]
     },
     "metadata": {},
     "output_type": "display_data"
    },
    {
     "data": {
      "application/vnd.jupyter.widget-view+json": {
       "model_id": "8680492248824a5c801ba5442216fae1",
       "version_major": 2,
       "version_minor": 0
      },
      "text/plain": [
       "Validation: |          | 0/? [00:00<?, ?it/s]"
      ]
     },
     "metadata": {},
     "output_type": "display_data"
    },
    {
     "data": {
      "application/vnd.jupyter.widget-view+json": {
       "model_id": "383feb4cd9b24148ac72b5884dcfbbe0",
       "version_major": 2,
       "version_minor": 0
      },
      "text/plain": [
       "Validation: |          | 0/? [00:00<?, ?it/s]"
      ]
     },
     "metadata": {},
     "output_type": "display_data"
    },
    {
     "data": {
      "application/vnd.jupyter.widget-view+json": {
       "model_id": "4cc2a9f17962489091104e20c10d8296",
       "version_major": 2,
       "version_minor": 0
      },
      "text/plain": [
       "Validation: |          | 0/? [00:00<?, ?it/s]"
      ]
     },
     "metadata": {},
     "output_type": "display_data"
    },
    {
     "data": {
      "application/vnd.jupyter.widget-view+json": {
       "model_id": "7eb45483a9474015866632419bbd6a0a",
       "version_major": 2,
       "version_minor": 0
      },
      "text/plain": [
       "Validation: |          | 0/? [00:00<?, ?it/s]"
      ]
     },
     "metadata": {},
     "output_type": "display_data"
    },
    {
     "data": {
      "application/vnd.jupyter.widget-view+json": {
       "model_id": "b9dbcdac356147e8b1a19a8aeeca1ccb",
       "version_major": 2,
       "version_minor": 0
      },
      "text/plain": [
       "Validation: |          | 0/? [00:00<?, ?it/s]"
      ]
     },
     "metadata": {},
     "output_type": "display_data"
    },
    {
     "data": {
      "application/vnd.jupyter.widget-view+json": {
       "model_id": "618e7c12590742c0adc7cc1ebbea7514",
       "version_major": 2,
       "version_minor": 0
      },
      "text/plain": [
       "Validation: |          | 0/? [00:00<?, ?it/s]"
      ]
     },
     "metadata": {},
     "output_type": "display_data"
    },
    {
     "data": {
      "application/vnd.jupyter.widget-view+json": {
       "model_id": "a46cbb5dcaa344b0865fda45ffc422a4",
       "version_major": 2,
       "version_minor": 0
      },
      "text/plain": [
       "Validation: |          | 0/? [00:00<?, ?it/s]"
      ]
     },
     "metadata": {},
     "output_type": "display_data"
    },
    {
     "data": {
      "application/vnd.jupyter.widget-view+json": {
       "model_id": "ab87d2773a974c5fb97e1003a7f2a165",
       "version_major": 2,
       "version_minor": 0
      },
      "text/plain": [
       "Validation: |          | 0/? [00:00<?, ?it/s]"
      ]
     },
     "metadata": {},
     "output_type": "display_data"
    },
    {
     "data": {
      "application/vnd.jupyter.widget-view+json": {
       "model_id": "92727ca509654f1f9a0be06be20677c1",
       "version_major": 2,
       "version_minor": 0
      },
      "text/plain": [
       "Validation: |          | 0/? [00:00<?, ?it/s]"
      ]
     },
     "metadata": {},
     "output_type": "display_data"
    },
    {
     "data": {
      "application/vnd.jupyter.widget-view+json": {
       "model_id": "73234541a6e54de6800c6ab4c0e4f4c7",
       "version_major": 2,
       "version_minor": 0
      },
      "text/plain": [
       "Validation: |          | 0/? [00:00<?, ?it/s]"
      ]
     },
     "metadata": {},
     "output_type": "display_data"
    },
    {
     "data": {
      "application/vnd.jupyter.widget-view+json": {
       "model_id": "5f020592526146ad9a87351a3b99e8b5",
       "version_major": 2,
       "version_minor": 0
      },
      "text/plain": [
       "Validation: |          | 0/? [00:00<?, ?it/s]"
      ]
     },
     "metadata": {},
     "output_type": "display_data"
    },
    {
     "data": {
      "application/vnd.jupyter.widget-view+json": {
       "model_id": "a5d6b1d8d5944a32bb964bff0bba107d",
       "version_major": 2,
       "version_minor": 0
      },
      "text/plain": [
       "Validation: |          | 0/? [00:00<?, ?it/s]"
      ]
     },
     "metadata": {},
     "output_type": "display_data"
    },
    {
     "data": {
      "application/vnd.jupyter.widget-view+json": {
       "model_id": "dd80759678584165a18d3db8ddf24c09",
       "version_major": 2,
       "version_minor": 0
      },
      "text/plain": [
       "Validation: |          | 0/? [00:00<?, ?it/s]"
      ]
     },
     "metadata": {},
     "output_type": "display_data"
    },
    {
     "data": {
      "application/vnd.jupyter.widget-view+json": {
       "model_id": "003c24fc29744f9b8ad01c69f68d9977",
       "version_major": 2,
       "version_minor": 0
      },
      "text/plain": [
       "Validation: |          | 0/? [00:00<?, ?it/s]"
      ]
     },
     "metadata": {},
     "output_type": "display_data"
    },
    {
     "data": {
      "application/vnd.jupyter.widget-view+json": {
       "model_id": "86c7a31448ae4285a8f55cf7e436b541",
       "version_major": 2,
       "version_minor": 0
      },
      "text/plain": [
       "Validation: |          | 0/? [00:00<?, ?it/s]"
      ]
     },
     "metadata": {},
     "output_type": "display_data"
    },
    {
     "data": {
      "application/vnd.jupyter.widget-view+json": {
       "model_id": "eddf84bf7f75492e9f66b598b7ba2689",
       "version_major": 2,
       "version_minor": 0
      },
      "text/plain": [
       "Validation: |          | 0/? [00:00<?, ?it/s]"
      ]
     },
     "metadata": {},
     "output_type": "display_data"
    },
    {
     "data": {
      "application/vnd.jupyter.widget-view+json": {
       "model_id": "8b5f5ea213ea48a8bbbc1b5d3a81ef03",
       "version_major": 2,
       "version_minor": 0
      },
      "text/plain": [
       "Validation: |          | 0/? [00:00<?, ?it/s]"
      ]
     },
     "metadata": {},
     "output_type": "display_data"
    },
    {
     "data": {
      "application/vnd.jupyter.widget-view+json": {
       "model_id": "019b9c06e722442b96a49381a5928f80",
       "version_major": 2,
       "version_minor": 0
      },
      "text/plain": [
       "Validation: |          | 0/? [00:00<?, ?it/s]"
      ]
     },
     "metadata": {},
     "output_type": "display_data"
    },
    {
     "data": {
      "application/vnd.jupyter.widget-view+json": {
       "model_id": "57c69d18f279454e8f7d59c351bd6ae7",
       "version_major": 2,
       "version_minor": 0
      },
      "text/plain": [
       "Validation: |          | 0/? [00:00<?, ?it/s]"
      ]
     },
     "metadata": {},
     "output_type": "display_data"
    },
    {
     "data": {
      "application/vnd.jupyter.widget-view+json": {
       "model_id": "57d77ada2cb64fa5bc8e2bffb8ee8bf4",
       "version_major": 2,
       "version_minor": 0
      },
      "text/plain": [
       "Validation: |          | 0/? [00:00<?, ?it/s]"
      ]
     },
     "metadata": {},
     "output_type": "display_data"
    },
    {
     "data": {
      "application/vnd.jupyter.widget-view+json": {
       "model_id": "e0b2c23d7d914770adfce4ca1b56e2d6",
       "version_major": 2,
       "version_minor": 0
      },
      "text/plain": [
       "Validation: |          | 0/? [00:00<?, ?it/s]"
      ]
     },
     "metadata": {},
     "output_type": "display_data"
    },
    {
     "data": {
      "application/vnd.jupyter.widget-view+json": {
       "model_id": "d2792448746d4d25839f88bd9514fa2c",
       "version_major": 2,
       "version_minor": 0
      },
      "text/plain": [
       "Validation: |          | 0/? [00:00<?, ?it/s]"
      ]
     },
     "metadata": {},
     "output_type": "display_data"
    },
    {
     "data": {
      "application/vnd.jupyter.widget-view+json": {
       "model_id": "e9e9855ca7244b42ae6ba96d4af390d7",
       "version_major": 2,
       "version_minor": 0
      },
      "text/plain": [
       "Validation: |          | 0/? [00:00<?, ?it/s]"
      ]
     },
     "metadata": {},
     "output_type": "display_data"
    },
    {
     "data": {
      "application/vnd.jupyter.widget-view+json": {
       "model_id": "a9e02f130cd14028bde18fc872bf595d",
       "version_major": 2,
       "version_minor": 0
      },
      "text/plain": [
       "Validation: |          | 0/? [00:00<?, ?it/s]"
      ]
     },
     "metadata": {},
     "output_type": "display_data"
    },
    {
     "data": {
      "application/vnd.jupyter.widget-view+json": {
       "model_id": "c617a83142a245ba9074434236da39bb",
       "version_major": 2,
       "version_minor": 0
      },
      "text/plain": [
       "Validation: |          | 0/? [00:00<?, ?it/s]"
      ]
     },
     "metadata": {},
     "output_type": "display_data"
    },
    {
     "data": {
      "application/vnd.jupyter.widget-view+json": {
       "model_id": "b6c3f5e680fe4f4e9441f08e04d0cce6",
       "version_major": 2,
       "version_minor": 0
      },
      "text/plain": [
       "Validation: |          | 0/? [00:00<?, ?it/s]"
      ]
     },
     "metadata": {},
     "output_type": "display_data"
    },
    {
     "data": {
      "application/vnd.jupyter.widget-view+json": {
       "model_id": "7eb79acb143b4768905f92a9cad66672",
       "version_major": 2,
       "version_minor": 0
      },
      "text/plain": [
       "Validation: |          | 0/? [00:00<?, ?it/s]"
      ]
     },
     "metadata": {},
     "output_type": "display_data"
    },
    {
     "data": {
      "application/vnd.jupyter.widget-view+json": {
       "model_id": "3bd2c01579db4dca92296a2d77ff2885",
       "version_major": 2,
       "version_minor": 0
      },
      "text/plain": [
       "Validation: |          | 0/? [00:00<?, ?it/s]"
      ]
     },
     "metadata": {},
     "output_type": "display_data"
    },
    {
     "data": {
      "application/vnd.jupyter.widget-view+json": {
       "model_id": "34b406304d404d46a62df42444e5cd85",
       "version_major": 2,
       "version_minor": 0
      },
      "text/plain": [
       "Validation: |          | 0/? [00:00<?, ?it/s]"
      ]
     },
     "metadata": {},
     "output_type": "display_data"
    },
    {
     "data": {
      "application/vnd.jupyter.widget-view+json": {
       "model_id": "a972b94a923b4df78f0c8cc9f71d47c4",
       "version_major": 2,
       "version_minor": 0
      },
      "text/plain": [
       "Validation: |          | 0/? [00:00<?, ?it/s]"
      ]
     },
     "metadata": {},
     "output_type": "display_data"
    },
    {
     "data": {
      "application/vnd.jupyter.widget-view+json": {
       "model_id": "01c559ebc5c34035abffd3e8e0b1714c",
       "version_major": 2,
       "version_minor": 0
      },
      "text/plain": [
       "Validation: |          | 0/? [00:00<?, ?it/s]"
      ]
     },
     "metadata": {},
     "output_type": "display_data"
    },
    {
     "data": {
      "application/vnd.jupyter.widget-view+json": {
       "model_id": "3913fb43b1884e5e941190f88fc38050",
       "version_major": 2,
       "version_minor": 0
      },
      "text/plain": [
       "Validation: |          | 0/? [00:00<?, ?it/s]"
      ]
     },
     "metadata": {},
     "output_type": "display_data"
    },
    {
     "data": {
      "application/vnd.jupyter.widget-view+json": {
       "model_id": "6e23afd3749e46cb96cbe7a81e91ae4b",
       "version_major": 2,
       "version_minor": 0
      },
      "text/plain": [
       "Validation: |          | 0/? [00:00<?, ?it/s]"
      ]
     },
     "metadata": {},
     "output_type": "display_data"
    },
    {
     "data": {
      "application/vnd.jupyter.widget-view+json": {
       "model_id": "94f7fd5f4c5b4f54b9e7bdda5fac8318",
       "version_major": 2,
       "version_minor": 0
      },
      "text/plain": [
       "Validation: |          | 0/? [00:00<?, ?it/s]"
      ]
     },
     "metadata": {},
     "output_type": "display_data"
    },
    {
     "data": {
      "application/vnd.jupyter.widget-view+json": {
       "model_id": "92135b19999e48309c1a6de41fe72520",
       "version_major": 2,
       "version_minor": 0
      },
      "text/plain": [
       "Validation: |          | 0/? [00:00<?, ?it/s]"
      ]
     },
     "metadata": {},
     "output_type": "display_data"
    },
    {
     "data": {
      "application/vnd.jupyter.widget-view+json": {
       "model_id": "d84ce863eb9d46c492e249e537337086",
       "version_major": 2,
       "version_minor": 0
      },
      "text/plain": [
       "Validation: |          | 0/? [00:00<?, ?it/s]"
      ]
     },
     "metadata": {},
     "output_type": "display_data"
    },
    {
     "data": {
      "application/vnd.jupyter.widget-view+json": {
       "model_id": "b632077438264cf7af3db1e58be684e2",
       "version_major": 2,
       "version_minor": 0
      },
      "text/plain": [
       "Validation: |          | 0/? [00:00<?, ?it/s]"
      ]
     },
     "metadata": {},
     "output_type": "display_data"
    },
    {
     "data": {
      "application/vnd.jupyter.widget-view+json": {
       "model_id": "a7b346a9afa9402fa47a2669d790ca93",
       "version_major": 2,
       "version_minor": 0
      },
      "text/plain": [
       "Validation: |          | 0/? [00:00<?, ?it/s]"
      ]
     },
     "metadata": {},
     "output_type": "display_data"
    },
    {
     "data": {
      "application/vnd.jupyter.widget-view+json": {
       "model_id": "3458e2fc7cfc4ea9bd461b2cd86246a2",
       "version_major": 2,
       "version_minor": 0
      },
      "text/plain": [
       "Validation: |          | 0/? [00:00<?, ?it/s]"
      ]
     },
     "metadata": {},
     "output_type": "display_data"
    },
    {
     "data": {
      "application/vnd.jupyter.widget-view+json": {
       "model_id": "d368fdb7db9d4cf98ea3deb97f1139e7",
       "version_major": 2,
       "version_minor": 0
      },
      "text/plain": [
       "Validation: |          | 0/? [00:00<?, ?it/s]"
      ]
     },
     "metadata": {},
     "output_type": "display_data"
    },
    {
     "data": {
      "application/vnd.jupyter.widget-view+json": {
       "model_id": "c866a178dbaf45dba6bd0cd784b99a36",
       "version_major": 2,
       "version_minor": 0
      },
      "text/plain": [
       "Validation: |          | 0/? [00:00<?, ?it/s]"
      ]
     },
     "metadata": {},
     "output_type": "display_data"
    },
    {
     "data": {
      "application/vnd.jupyter.widget-view+json": {
       "model_id": "2d77dab1e9b94989b7e1ee0353f00790",
       "version_major": 2,
       "version_minor": 0
      },
      "text/plain": [
       "Validation: |          | 0/? [00:00<?, ?it/s]"
      ]
     },
     "metadata": {},
     "output_type": "display_data"
    },
    {
     "data": {
      "application/vnd.jupyter.widget-view+json": {
       "model_id": "131b5e326c0141b6a1d261c5db58bd0c",
       "version_major": 2,
       "version_minor": 0
      },
      "text/plain": [
       "Validation: |          | 0/? [00:00<?, ?it/s]"
      ]
     },
     "metadata": {},
     "output_type": "display_data"
    },
    {
     "data": {
      "application/vnd.jupyter.widget-view+json": {
       "model_id": "5b344fce3dbd465cbbe0da18b7b5572f",
       "version_major": 2,
       "version_minor": 0
      },
      "text/plain": [
       "Validation: |          | 0/? [00:00<?, ?it/s]"
      ]
     },
     "metadata": {},
     "output_type": "display_data"
    },
    {
     "data": {
      "application/vnd.jupyter.widget-view+json": {
       "model_id": "a6a60c99c4854e0594c3409803625387",
       "version_major": 2,
       "version_minor": 0
      },
      "text/plain": [
       "Validation: |          | 0/? [00:00<?, ?it/s]"
      ]
     },
     "metadata": {},
     "output_type": "display_data"
    },
    {
     "data": {
      "application/vnd.jupyter.widget-view+json": {
       "model_id": "66e211f08b4744c9b2efe03ddbd3d9ae",
       "version_major": 2,
       "version_minor": 0
      },
      "text/plain": [
       "Validation: |          | 0/? [00:00<?, ?it/s]"
      ]
     },
     "metadata": {},
     "output_type": "display_data"
    },
    {
     "name": "stderr",
     "output_type": "stream",
     "text": [
      "`Trainer.fit` stopped: `max_epochs=50` reached.\n",
      "LOCAL_RANK: 0 - CUDA_VISIBLE_DEVICES: [0,1]\n"
     ]
    },
    {
     "data": {
      "application/vnd.jupyter.widget-view+json": {
       "model_id": "cee3ea31833c4eddaee8ef7405ea8ec8",
       "version_major": 2,
       "version_minor": 0
      },
      "text/plain": [
       "Predicting: |          | 0/? [00:00<?, ?it/s]"
      ]
     },
     "metadata": {},
     "output_type": "display_data"
    },
    {
     "name": "stderr",
     "output_type": "stream",
     "text": [
      "LOCAL_RANK: 0 - CUDA_VISIBLE_DEVICES: [0,1]\n"
     ]
    },
    {
     "data": {
      "application/vnd.jupyter.widget-view+json": {
       "model_id": "05e18bd813c2469eb40b7e6a6cfd5ae0",
       "version_major": 2,
       "version_minor": 0
      },
      "text/plain": [
       "Predicting: |          | 0/? [00:00<?, ?it/s]"
      ]
     },
     "metadata": {},
     "output_type": "display_data"
    },
    {
     "name": "stderr",
     "output_type": "stream",
     "text": [
      "LOCAL_RANK: 0 - CUDA_VISIBLE_DEVICES: [0,1]\n"
     ]
    },
    {
     "data": {
      "application/vnd.jupyter.widget-view+json": {
       "model_id": "b28f627655594a01a3a7405d8e20f76f",
       "version_major": 2,
       "version_minor": 0
      },
      "text/plain": [
       "Predicting: |          | 0/? [00:00<?, ?it/s]"
      ]
     },
     "metadata": {},
     "output_type": "display_data"
    },
    {
     "data": {
      "text/html": [
       "<div>\n",
       "<style scoped>\n",
       "    .dataframe tbody tr th:only-of-type {\n",
       "        vertical-align: middle;\n",
       "    }\n",
       "\n",
       "    .dataframe tbody tr th {\n",
       "        vertical-align: top;\n",
       "    }\n",
       "\n",
       "    .dataframe thead th {\n",
       "        text-align: right;\n",
       "    }\n",
       "</style>\n",
       "<table border=\"1\" class=\"dataframe\">\n",
       "  <thead>\n",
       "    <tr style=\"text-align: right;\">\n",
       "      <th></th>\n",
       "      <th>roc_auc</th>\n",
       "      <th>improvement</th>\n",
       "      <th>acc</th>\n",
       "      <th>n</th>\n",
       "      <th>in_dist_adapter</th>\n",
       "      <th>in_dist_probe</th>\n",
       "      <th>balance</th>\n",
       "      <th>balance_proxy</th>\n",
       "      <th>roc_auc_adapter</th>\n",
       "      <th>roc_auc_base</th>\n",
       "    </tr>\n",
       "  </thead>\n",
       "  <tbody>\n",
       "    <tr>\n",
       "      <th>hans</th>\n",
       "      <td>0.937611</td>\n",
       "      <td>0.122995</td>\n",
       "      <td>0.835821</td>\n",
       "      <td>67</td>\n",
       "      <td>True</td>\n",
       "      <td>True</td>\n",
       "      <td>0.492537</td>\n",
       "      <td>0.701493</td>\n",
       "      <td>0.722816</td>\n",
       "      <td>0.814617</td>\n",
       "    </tr>\n",
       "    <tr>\n",
       "      <th>super_glue:axg</th>\n",
       "      <td>0.988165</td>\n",
       "      <td>0.030952</td>\n",
       "      <td>0.966527</td>\n",
       "      <td>239</td>\n",
       "      <td>True</td>\n",
       "      <td>True</td>\n",
       "      <td>0.497908</td>\n",
       "      <td>0.355649</td>\n",
       "      <td>0.957213</td>\n",
       "      <td>0.853361</td>\n",
       "    </tr>\n",
       "    <tr>\n",
       "      <th>amazon_polarity</th>\n",
       "      <td>1.0</td>\n",
       "      <td>0.015897</td>\n",
       "      <td>0.988764</td>\n",
       "      <td>89</td>\n",
       "      <td>True</td>\n",
       "      <td>True</td>\n",
       "      <td>0.561798</td>\n",
       "      <td>0.94382</td>\n",
       "      <td>0.96359</td>\n",
       "      <td>0.984103</td>\n",
       "    </tr>\n",
       "    <tr>\n",
       "      <th>super_glue:rte</th>\n",
       "      <td>0.916088</td>\n",
       "      <td>0.009259</td>\n",
       "      <td>0.892857</td>\n",
       "      <td>84</td>\n",
       "      <td>True</td>\n",
       "      <td>True</td>\n",
       "      <td>0.571429</td>\n",
       "      <td>0.833333</td>\n",
       "      <td>0.846065</td>\n",
       "      <td>0.906829</td>\n",
       "    </tr>\n",
       "    <tr>\n",
       "      <th>glue:qnli</th>\n",
       "      <td>0.936455</td>\n",
       "      <td>0.006689</td>\n",
       "      <td>0.847059</td>\n",
       "      <td>85</td>\n",
       "      <td>True</td>\n",
       "      <td>True</td>\n",
       "      <td>0.458824</td>\n",
       "      <td>0.835294</td>\n",
       "      <td>0.693423</td>\n",
       "      <td>0.929766</td>\n",
       "    </tr>\n",
       "    <tr>\n",
       "      <th>sst2</th>\n",
       "      <td>0.886856</td>\n",
       "      <td>-0.071816</td>\n",
       "      <td>0.87013</td>\n",
       "      <td>77</td>\n",
       "      <td>True</td>\n",
       "      <td>True</td>\n",
       "      <td>0.532468</td>\n",
       "      <td>0.844156</td>\n",
       "      <td>0.842818</td>\n",
       "      <td>0.958672</td>\n",
       "    </tr>\n",
       "    <tr>\n",
       "      <th>super_glue:boolq</th>\n",
       "      <td>0.620486</td>\n",
       "      <td>-0.304943</td>\n",
       "      <td>0.55618</td>\n",
       "      <td>534</td>\n",
       "      <td>False</td>\n",
       "      <td>False</td>\n",
       "      <td>0.453184</td>\n",
       "      <td>0.235955</td>\n",
       "      <td>0.912968</td>\n",
       "      <td>0.925429</td>\n",
       "    </tr>\n",
       "    <tr>\n",
       "      <th>imdb</th>\n",
       "      <td>0.114921</td>\n",
       "      <td>-0.847782</td>\n",
       "      <td>0.123596</td>\n",
       "      <td>534</td>\n",
       "      <td>False</td>\n",
       "      <td>False</td>\n",
       "      <td>0.486891</td>\n",
       "      <td>0.082397</td>\n",
       "      <td>0.962704</td>\n",
       "      <td>0.92952</td>\n",
       "    </tr>\n",
       "  </tbody>\n",
       "</table>\n",
       "</div>"
      ],
      "text/plain": [
       "                   roc_auc improvement       acc    n in_dist_adapter  \\\n",
       "hans              0.937611    0.122995  0.835821   67            True   \n",
       "super_glue:axg    0.988165    0.030952  0.966527  239            True   \n",
       "amazon_polarity        1.0    0.015897  0.988764   89            True   \n",
       "super_glue:rte    0.916088    0.009259  0.892857   84            True   \n",
       "glue:qnli         0.936455    0.006689  0.847059   85            True   \n",
       "sst2              0.886856   -0.071816   0.87013   77            True   \n",
       "super_glue:boolq  0.620486   -0.304943   0.55618  534           False   \n",
       "imdb              0.114921   -0.847782  0.123596  534           False   \n",
       "\n",
       "                 in_dist_probe   balance balance_proxy roc_auc_adapter  \\\n",
       "hans                      True  0.492537      0.701493        0.722816   \n",
       "super_glue:axg            True  0.497908      0.355649        0.957213   \n",
       "amazon_polarity           True  0.561798       0.94382         0.96359   \n",
       "super_glue:rte            True  0.571429      0.833333        0.846065   \n",
       "glue:qnli                 True  0.458824      0.835294        0.693423   \n",
       "sst2                      True  0.532468      0.844156        0.842818   \n",
       "super_glue:boolq         False  0.453184      0.235955        0.912968   \n",
       "imdb                     False  0.486891      0.082397        0.962704   \n",
       "\n",
       "                 roc_auc_base  \n",
       "hans                 0.814617  \n",
       "super_glue:axg       0.853361  \n",
       "amazon_polarity      0.984103  \n",
       "super_glue:rte       0.906829  \n",
       "glue:qnli            0.929766  \n",
       "sst2                 0.958672  \n",
       "super_glue:boolq     0.925429  \n",
       "imdb                  0.92952  "
      ]
     },
     "metadata": {},
     "output_type": "display_data"
    },
    {
     "data": {
      "image/png": "[encoded data removed]",
      "text/plain": [
       "<Figure size 640x440 with 1 Axes>"
      ]
     },
     "metadata": {},
     "output_type": "display_data"
    },
    {
     "data": {
      "image/png": "[encoded data removed]",
      "text/plain": [
       "<Figure size 640x440 with 1 Axes>"
      ]
     },
     "metadata": {},
     "output_type": "display_data"
    },
    {
     "data": {
      "image/png": "[encoded data removed]",
      "text/plain": [
       "<Figure size 640x440 with 1 Axes>"
      ]
     },
     "metadata": {},
     "output_type": "display_data"
    },
    {
     "data": {
      "image/png": "[encoded data removed]",
      "text/plain": [
       "<Figure size 640x440 with 1 Axes>"
      ]
     },
     "metadata": {},
     "output_type": "display_data"
    },
    {
     "data": {
      "image/png": "[encoded data removed]",
      "text/plain": [
       "<Figure size 640x440 with 1 Axes>"
      ]
     },
     "metadata": {},
     "output_type": "display_data"
    }
   ],
   "source": [
    "epoch_steps = int(len(ds_trainval)*0.7//batch_size)\n",
    "pl_model = PLSKDirect(c_in=c_in, epoch_steps=epoch_steps, max_epochs=max_epochs)\n",
    "if verbose: print(model)\n",
    "model = PLSKWrapper(pl_model, verbose=verbose, max_epochs=max_epochs)\n",
    "df_res = eval_ranking(model, ds_trainval, ds_test)\n",
    "df_res2 = analyze_dfres(df_res)\n"
   ]
  },
  {
   "cell_type": "markdown",
   "metadata": {},
   "source": [
    "### Bool ranking\n"
   ]
  },
  {
   "cell_type": "code",
   "execution_count": 44,
   "metadata": {},
   "outputs": [],
   "source": [
    "from src.helpers.sklearn_lightning import PLSKWrapper, PLSKBase\n",
    "from torchmetrics.functional import accuracy\n",
    "\n",
    "class PLSKBoolRank(PLSKBase):\n",
    "    def __init__(self, c_in, dropout=0, hs=32, depth=2, **kwargs):\n",
    "        super().__init__(**kwargs)\n",
    "\n",
    "        self.model = HSModel2d(c_in, hs, dropout)\n",
    "\n",
    "    def forward(self, x):\n",
    "        return self.model(x)\n",
    "\n",
    "    def _step(self, batch, batch_idx, stage='train'):\n",
    "        x, y = batch\n",
    "        x0 = x[..., 0]\n",
    "        x1 = x[..., 1]\n",
    "        ypred0 = self(x0)\n",
    "        ypred1 = self(x1)\n",
    "\n",
    "        y_probs = F.sigmoid(ypred1-ypred0+0.5)\n",
    "        y_cls = y_probs > 0.5\n",
    "        \n",
    "        if stage=='pred':\n",
    "            return y_probs\n",
    "\n",
    "        ranking_y = (y>0)*2-1 # from 0,1 to -1,1\n",
    "        loss = F.margin_ranking_loss(ypred0, ypred1, ranking_y, margin=1)\n",
    "        \n",
    "        y_cls = ypred1>ypred0 # switch2bool(ypred1-ypred0)\n",
    "        self.log(f\"{stage}/acc\", accuracy(y_cls, y>0.5, \"binary\"), on_epoch=True, on_step=False)\n",
    "        self.log(f\"{stage}/loss\", loss, on_epoch=True, on_step=True, prog_bar=True)\n",
    "        self.log(f\"{stage}/n\", len(y), on_epoch=True, on_step=False, reduce_fx=torch.sum)\n",
    "        return loss\n"
   ]
  },
  {
   "cell_type": "code",
   "execution_count": 45,
   "metadata": {},
   "outputs": [
    {
     "data": {
      "text/plain": [
       "torch.Size([14, 2559, 2])"
      ]
     },
     "execution_count": 45,
     "metadata": {},
     "output_type": "execute_result"
    }
   ],
   "source": [
    "ds_train, ds_val = train_test_split_ds(ds_trainval, test_size=0.3)\n",
    "X_val, y_val_proxy = ds2xy(ds_val)\n",
    "c_in = X_val.shape[1:]\n",
    "c_in\n"
   ]
  },
  {
   "cell_type": "code",
   "execution_count": 46,
   "metadata": {},
   "outputs": [
    {
     "name": "stdout",
     "output_type": "stream",
     "text": [
      "<src.helpers.sklearn_lightning.PLSKWrapper object at 0x7f576f0fb110>\n"
     ]
    },
    {
     "name": "stderr",
     "output_type": "stream",
     "text": [
      "Trainer will use only 1 of 2 GPUs because it is running inside an interactive / notebook environment. You may try to set `Trainer(devices=2)` but please note that multi-GPU inside interactive / notebook environments is considered experimental and unstable. Your mileage may vary.\n",
      "GPU available: True (cuda), used: True\n",
      "TPU available: False, using: 0 TPU cores\n",
      "IPU available: False, using: 0 IPUs\n",
      "HPU available: False, using: 0 HPUs\n",
      "LOCAL_RANK: 0 - CUDA_VISIBLE_DEVICES: [0,1]\n",
      "\n",
      "  | Name  | Type      | Params\n",
      "------------------------------------\n",
      "0 | model | HSModel2d | 546 K \n",
      "------------------------------------\n",
      "546 K     Trainable params\n",
      "0         Non-trainable params\n",
      "546 K     Total params\n",
      "2.187     Total estimated model params size (MB)\n"
     ]
    },
    {
     "data": {
      "application/vnd.jupyter.widget-view+json": {
       "model_id": "f207a6fa3f5c47ea880520849450311c",
       "version_major": 2,
       "version_minor": 0
      },
      "text/plain": [
       "Sanity Checking: |          | 0/? [00:00<?, ?it/s]"
      ]
     },
     "metadata": {},
     "output_type": "display_data"
    },
    {
     "data": {
      "application/vnd.jupyter.widget-view+json": {
       "model_id": "d8ac628773904b49a0c8c4766dff4bd1",
       "version_major": 2,
       "version_minor": 0
      },
      "text/plain": [
       "Training: |          | 0/? [00:00<?, ?it/s]"
      ]
     },
     "metadata": {},
     "output_type": "display_data"
    },
    {
     "data": {
      "application/vnd.jupyter.widget-view+json": {
       "model_id": "d6ec9e9eae9d405baacf792cc339e4ed",
       "version_major": 2,
       "version_minor": 0
      },
      "text/plain": [
       "Validation: |          | 0/? [00:00<?, ?it/s]"
      ]
     },
     "metadata": {},
     "output_type": "display_data"
    },
    {
     "data": {
      "application/vnd.jupyter.widget-view+json": {
       "model_id": "bf48ba47baf04f7c8f2eca27d5c6e4d5",
       "version_major": 2,
       "version_minor": 0
      },
      "text/plain": [
       "Validation: |          | 0/? [00:00<?, ?it/s]"
      ]
     },
     "metadata": {},
     "output_type": "display_data"
    },
    {
     "data": {
      "application/vnd.jupyter.widget-view+json": {
       "model_id": "6d19d2b372894128aa868e3379c67b12",
       "version_major": 2,
       "version_minor": 0
      },
      "text/plain": [
       "Validation: |          | 0/? [00:00<?, ?it/s]"
      ]
     },
     "metadata": {},
     "output_type": "display_data"
    },
    {
     "data": {
      "application/vnd.jupyter.widget-view+json": {
       "model_id": "6bde8866bda844e0ba7875dd20dcf7ad",
       "version_major": 2,
       "version_minor": 0
      },
      "text/plain": [
       "Validation: |          | 0/? [00:00<?, ?it/s]"
      ]
     },
     "metadata": {},
     "output_type": "display_data"
    },
    {
     "data": {
      "application/vnd.jupyter.widget-view+json": {
       "model_id": "5b35df82995e462e8678b7c2b8b8ad7e",
       "version_major": 2,
       "version_minor": 0
      },
      "text/plain": [
       "Validation: |          | 0/? [00:00<?, ?it/s]"
      ]
     },
     "metadata": {},
     "output_type": "display_data"
    },
    {
     "data": {
      "application/vnd.jupyter.widget-view+json": {
       "model_id": "ea6bc051e45e4a08b0b2f1161765400e",
       "version_major": 2,
       "version_minor": 0
      },
      "text/plain": [
       "Validation: |          | 0/? [00:00<?, ?it/s]"
      ]
     },
     "metadata": {},
     "output_type": "display_data"
    },
    {
     "data": {
      "application/vnd.jupyter.widget-view+json": {
       "model_id": "aad74a7f51df4e3fac98f036d038f308",
       "version_major": 2,
       "version_minor": 0
      },
      "text/plain": [
       "Validation: |          | 0/? [00:00<?, ?it/s]"
      ]
     },
     "metadata": {},
     "output_type": "display_data"
    },
    {
     "data": {
      "application/vnd.jupyter.widget-view+json": {
       "model_id": "bdffd78c92144b9b988486ba03351e96",
       "version_major": 2,
       "version_minor": 0
      },
      "text/plain": [
       "Validation: |          | 0/? [00:00<?, ?it/s]"
      ]
     },
     "metadata": {},
     "output_type": "display_data"
    },
    {
     "data": {
      "application/vnd.jupyter.widget-view+json": {
       "model_id": "bb9347b6c25f46eba6c7332797c37aec",
       "version_major": 2,
       "version_minor": 0
      },
      "text/plain": [
       "Validation: |          | 0/? [00:00<?, ?it/s]"
      ]
     },
     "metadata": {},
     "output_type": "display_data"
    },
    {
     "data": {
      "application/vnd.jupyter.widget-view+json": {
       "model_id": "d5febffcf4c3477b9bb9d93e616fa7a2",
       "version_major": 2,
       "version_minor": 0
      },
      "text/plain": [
       "Validation: |          | 0/? [00:00<?, ?it/s]"
      ]
     },
     "metadata": {},
     "output_type": "display_data"
    },
    {
     "data": {
      "application/vnd.jupyter.widget-view+json": {
       "model_id": "fbc2084aa5b748ef88816901a82cff27",
       "version_major": 2,
       "version_minor": 0
      },
      "text/plain": [
       "Validation: |          | 0/? [00:00<?, ?it/s]"
      ]
     },
     "metadata": {},
     "output_type": "display_data"
    },
    {
     "data": {
      "application/vnd.jupyter.widget-view+json": {
       "model_id": "72c6b73ea1a044869a57b81192e75ffb",
       "version_major": 2,
       "version_minor": 0
      },
      "text/plain": [
       "Validation: |          | 0/? [00:00<?, ?it/s]"
      ]
     },
     "metadata": {},
     "output_type": "display_data"
    },
    {
     "data": {
      "application/vnd.jupyter.widget-view+json": {
       "model_id": "2eab2beb3ac84bd1bd2d4c3489de2811",
       "version_major": 2,
       "version_minor": 0
      },
      "text/plain": [
       "Validation: |          | 0/? [00:00<?, ?it/s]"
      ]
     },
     "metadata": {},
     "output_type": "display_data"
    },
    {
     "data": {
      "application/vnd.jupyter.widget-view+json": {
       "model_id": "a7dd54517f7c4cc98775ff599c65c326",
       "version_major": 2,
       "version_minor": 0
      },
      "text/plain": [
       "Validation: |          | 0/? [00:00<?, ?it/s]"
      ]
     },
     "metadata": {},
     "output_type": "display_data"
    },
    {
     "data": {
      "application/vnd.jupyter.widget-view+json": {
       "model_id": "88295577fabd4135bd935b8c5b52c34b",
       "version_major": 2,
       "version_minor": 0
      },
      "text/plain": [
       "Validation: |          | 0/? [00:00<?, ?it/s]"
      ]
     },
     "metadata": {},
     "output_type": "display_data"
    },
    {
     "data": {
      "application/vnd.jupyter.widget-view+json": {
       "model_id": "d147cb6b460d460985b5c1897c4d9637",
       "version_major": 2,
       "version_minor": 0
      },
      "text/plain": [
       "Validation: |          | 0/? [00:00<?, ?it/s]"
      ]
     },
     "metadata": {},
     "output_type": "display_data"
    },
    {
     "data": {
      "application/vnd.jupyter.widget-view+json": {
       "model_id": "99387fc519e24ba5b54326567309b0f1",
       "version_major": 2,
       "version_minor": 0
      },
      "text/plain": [
       "Validation: |          | 0/? [00:00<?, ?it/s]"
      ]
     },
     "metadata": {},
     "output_type": "display_data"
    },
    {
     "data": {
      "application/vnd.jupyter.widget-view+json": {
       "model_id": "fc5a22da0c654f54abc8d15a809cc8a0",
       "version_major": 2,
       "version_minor": 0
      },
      "text/plain": [
       "Validation: |          | 0/? [00:00<?, ?it/s]"
      ]
     },
     "metadata": {},
     "output_type": "display_data"
    },
    {
     "data": {
      "application/vnd.jupyter.widget-view+json": {
       "model_id": "6b10ad789bea4f7bb5f9f15035f09a31",
       "version_major": 2,
       "version_minor": 0
      },
      "text/plain": [
       "Validation: |          | 0/? [00:00<?, ?it/s]"
      ]
     },
     "metadata": {},
     "output_type": "display_data"
    },
    {
     "data": {
      "application/vnd.jupyter.widget-view+json": {
       "model_id": "1968206e5ce8478dafccad695168a86c",
       "version_major": 2,
       "version_minor": 0
      },
      "text/plain": [
       "Validation: |          | 0/? [00:00<?, ?it/s]"
      ]
     },
     "metadata": {},
     "output_type": "display_data"
    },
    {
     "data": {
      "application/vnd.jupyter.widget-view+json": {
       "model_id": "90612a14d1e34f25a3f76bdb8c7c7c40",
       "version_major": 2,
       "version_minor": 0
      },
      "text/plain": [
       "Validation: |          | 0/? [00:00<?, ?it/s]"
      ]
     },
     "metadata": {},
     "output_type": "display_data"
    },
    {
     "data": {
      "application/vnd.jupyter.widget-view+json": {
       "model_id": "dfab9d78501045d5a76a5cddc812d6d5",
       "version_major": 2,
       "version_minor": 0
      },
      "text/plain": [
       "Validation: |          | 0/? [00:00<?, ?it/s]"
      ]
     },
     "metadata": {},
     "output_type": "display_data"
    },
    {
     "data": {
      "application/vnd.jupyter.widget-view+json": {
       "model_id": "3c9bbb7f9ef3492d9bdcc30794bb97d0",
       "version_major": 2,
       "version_minor": 0
      },
      "text/plain": [
       "Validation: |          | 0/? [00:00<?, ?it/s]"
      ]
     },
     "metadata": {},
     "output_type": "display_data"
    },
    {
     "data": {
      "application/vnd.jupyter.widget-view+json": {
       "model_id": "fc2ed635363f4948bdf24fb1a36df81b",
       "version_major": 2,
       "version_minor": 0
      },
      "text/plain": [
       "Validation: |          | 0/? [00:00<?, ?it/s]"
      ]
     },
     "metadata": {},
     "output_type": "display_data"
    },
    {
     "data": {
      "application/vnd.jupyter.widget-view+json": {
       "model_id": "ef63330d240b4571bec7db33b57327f6",
       "version_major": 2,
       "version_minor": 0
      },
      "text/plain": [
       "Validation: |          | 0/? [00:00<?, ?it/s]"
      ]
     },
     "metadata": {},
     "output_type": "display_data"
    },
    {
     "data": {
      "application/vnd.jupyter.widget-view+json": {
       "model_id": "89928872fa0f472faa5c7d8f3893c824",
       "version_major": 2,
       "version_minor": 0
      },
      "text/plain": [
       "Validation: |          | 0/? [00:00<?, ?it/s]"
      ]
     },
     "metadata": {},
     "output_type": "display_data"
    },
    {
     "data": {
      "application/vnd.jupyter.widget-view+json": {
       "model_id": "898b99f156b6431193074977a3b96aa1",
       "version_major": 2,
       "version_minor": 0
      },
      "text/plain": [
       "Validation: |          | 0/? [00:00<?, ?it/s]"
      ]
     },
     "metadata": {},
     "output_type": "display_data"
    },
    {
     "data": {
      "application/vnd.jupyter.widget-view+json": {
       "model_id": "3ce618c1525a4edcab999a5afa678a1b",
       "version_major": 2,
       "version_minor": 0
      },
      "text/plain": [
       "Validation: |          | 0/? [00:00<?, ?it/s]"
      ]
     },
     "metadata": {},
     "output_type": "display_data"
    },
    {
     "data": {
      "application/vnd.jupyter.widget-view+json": {
       "model_id": "f388bb90a70648208f5a52b8d6657d1e",
       "version_major": 2,
       "version_minor": 0
      },
      "text/plain": [
       "Validation: |          | 0/? [00:00<?, ?it/s]"
      ]
     },
     "metadata": {},
     "output_type": "display_data"
    },
    {
     "data": {
      "application/vnd.jupyter.widget-view+json": {
       "model_id": "e7a6c2c0a5a74d74816af3e47410447a",
       "version_major": 2,
       "version_minor": 0
      },
      "text/plain": [
       "Validation: |          | 0/? [00:00<?, ?it/s]"
      ]
     },
     "metadata": {},
     "output_type": "display_data"
    },
    {
     "data": {
      "application/vnd.jupyter.widget-view+json": {
       "model_id": "26ea11d7d19c4e4e9a4108902b0afcb0",
       "version_major": 2,
       "version_minor": 0
      },
      "text/plain": [
       "Validation: |          | 0/? [00:00<?, ?it/s]"
      ]
     },
     "metadata": {},
     "output_type": "display_data"
    },
    {
     "data": {
      "application/vnd.jupyter.widget-view+json": {
       "model_id": "303f0391585d4dca8932112ea08f89d8",
       "version_major": 2,
       "version_minor": 0
      },
      "text/plain": [
       "Validation: |          | 0/? [00:00<?, ?it/s]"
      ]
     },
     "metadata": {},
     "output_type": "display_data"
    },
    {
     "data": {
      "application/vnd.jupyter.widget-view+json": {
       "model_id": "1e7de2ea9d6b496989aa2e15acc66cf3",
       "version_major": 2,
       "version_minor": 0
      },
      "text/plain": [
       "Validation: |          | 0/? [00:00<?, ?it/s]"
      ]
     },
     "metadata": {},
     "output_type": "display_data"
    },
    {
     "data": {
      "application/vnd.jupyter.widget-view+json": {
       "model_id": "15e4d3aba08a48a49b3996f0de8de59c",
       "version_major": 2,
       "version_minor": 0
      },
      "text/plain": [
       "Validation: |          | 0/? [00:00<?, ?it/s]"
      ]
     },
     "metadata": {},
     "output_type": "display_data"
    },
    {
     "data": {
      "application/vnd.jupyter.widget-view+json": {
       "model_id": "28a2ffee6ad34bdda01080c25115d6fc",
       "version_major": 2,
       "version_minor": 0
      },
      "text/plain": [
       "Validation: |          | 0/? [00:00<?, ?it/s]"
      ]
     },
     "metadata": {},
     "output_type": "display_data"
    },
    {
     "data": {
      "application/vnd.jupyter.widget-view+json": {
       "model_id": "8656d147a20b4ce1a8793162de5a4c52",
       "version_major": 2,
       "version_minor": 0
      },
      "text/plain": [
       "Validation: |          | 0/? [00:00<?, ?it/s]"
      ]
     },
     "metadata": {},
     "output_type": "display_data"
    },
    {
     "data": {
      "application/vnd.jupyter.widget-view+json": {
       "model_id": "5ab9df9d417e40ee8c3ab427c17b8aa5",
       "version_major": 2,
       "version_minor": 0
      },
      "text/plain": [
       "Validation: |          | 0/? [00:00<?, ?it/s]"
      ]
     },
     "metadata": {},
     "output_type": "display_data"
    },
    {
     "data": {
      "application/vnd.jupyter.widget-view+json": {
       "model_id": "95655c280c5842d98217f4b5c7d8880c",
       "version_major": 2,
       "version_minor": 0
      },
      "text/plain": [
       "Validation: |          | 0/? [00:00<?, ?it/s]"
      ]
     },
     "metadata": {},
     "output_type": "display_data"
    },
    {
     "data": {
      "application/vnd.jupyter.widget-view+json": {
       "model_id": "98524efc1e31421bbb2854eaf81b6c10",
       "version_major": 2,
       "version_minor": 0
      },
      "text/plain": [
       "Validation: |          | 0/? [00:00<?, ?it/s]"
      ]
     },
     "metadata": {},
     "output_type": "display_data"
    },
    {
     "data": {
      "application/vnd.jupyter.widget-view+json": {
       "model_id": "9f26ef6087c04a16928c73cbb0b2a3a3",
       "version_major": 2,
       "version_minor": 0
      },
      "text/plain": [
       "Validation: |          | 0/? [00:00<?, ?it/s]"
      ]
     },
     "metadata": {},
     "output_type": "display_data"
    },
    {
     "data": {
      "application/vnd.jupyter.widget-view+json": {
       "model_id": "67050f5ff6324bbb98e489d806dc9e57",
       "version_major": 2,
       "version_minor": 0
      },
      "text/plain": [
       "Validation: |          | 0/? [00:00<?, ?it/s]"
      ]
     },
     "metadata": {},
     "output_type": "display_data"
    },
    {
     "data": {
      "application/vnd.jupyter.widget-view+json": {
       "model_id": "91b13599914a42b2a026535a2d5a5e03",
       "version_major": 2,
       "version_minor": 0
      },
      "text/plain": [
       "Validation: |          | 0/? [00:00<?, ?it/s]"
      ]
     },
     "metadata": {},
     "output_type": "display_data"
    },
    {
     "data": {
      "application/vnd.jupyter.widget-view+json": {
       "model_id": "29899dbe72624e81b1d11afd4fe91ca4",
       "version_major": 2,
       "version_minor": 0
      },
      "text/plain": [
       "Validation: |          | 0/? [00:00<?, ?it/s]"
      ]
     },
     "metadata": {},
     "output_type": "display_data"
    },
    {
     "data": {
      "application/vnd.jupyter.widget-view+json": {
       "model_id": "ded1283b21b540eba3d010728c963afd",
       "version_major": 2,
       "version_minor": 0
      },
      "text/plain": [
       "Validation: |          | 0/? [00:00<?, ?it/s]"
      ]
     },
     "metadata": {},
     "output_type": "display_data"
    },
    {
     "data": {
      "application/vnd.jupyter.widget-view+json": {
       "model_id": "2c9e3d8084684b17b0c5d41679f987f2",
       "version_major": 2,
       "version_minor": 0
      },
      "text/plain": [
       "Validation: |          | 0/? [00:00<?, ?it/s]"
      ]
     },
     "metadata": {},
     "output_type": "display_data"
    },
    {
     "data": {
      "application/vnd.jupyter.widget-view+json": {
       "model_id": "9e5798a03feb456290b035bbbe0528b9",
       "version_major": 2,
       "version_minor": 0
      },
      "text/plain": [
       "Validation: |          | 0/? [00:00<?, ?it/s]"
      ]
     },
     "metadata": {},
     "output_type": "display_data"
    },
    {
     "data": {
      "application/vnd.jupyter.widget-view+json": {
       "model_id": "15c2b541001b4b0a9224f188395534df",
       "version_major": 2,
       "version_minor": 0
      },
      "text/plain": [
       "Validation: |          | 0/? [00:00<?, ?it/s]"
      ]
     },
     "metadata": {},
     "output_type": "display_data"
    },
    {
     "data": {
      "application/vnd.jupyter.widget-view+json": {
       "model_id": "007643447cc7480c812cd8a7a5452e2c",
       "version_major": 2,
       "version_minor": 0
      },
      "text/plain": [
       "Validation: |          | 0/? [00:00<?, ?it/s]"
      ]
     },
     "metadata": {},
     "output_type": "display_data"
    },
    {
     "data": {
      "application/vnd.jupyter.widget-view+json": {
       "model_id": "c61352fc87b340b19ef6a0b2163f2276",
       "version_major": 2,
       "version_minor": 0
      },
      "text/plain": [
       "Validation: |          | 0/? [00:00<?, ?it/s]"
      ]
     },
     "metadata": {},
     "output_type": "display_data"
    },
    {
     "data": {
      "application/vnd.jupyter.widget-view+json": {
       "model_id": "60cb31bd46a446509ba17a2502d6ba4b",
       "version_major": 2,
       "version_minor": 0
      },
      "text/plain": [
       "Validation: |          | 0/? [00:00<?, ?it/s]"
      ]
     },
     "metadata": {},
     "output_type": "display_data"
    },
    {
     "name": "stderr",
     "output_type": "stream",
     "text": [
      "`Trainer.fit` stopped: `max_epochs=50` reached.\n",
      "LOCAL_RANK: 0 - CUDA_VISIBLE_DEVICES: [0,1]\n"
     ]
    },
    {
     "data": {
      "application/vnd.jupyter.widget-view+json": {
       "model_id": "34d970d8e4584931afb12792dcce8bc0",
       "version_major": 2,
       "version_minor": 0
      },
      "text/plain": [
       "Predicting: |          | 0/? [00:00<?, ?it/s]"
      ]
     },
     "metadata": {},
     "output_type": "display_data"
    },
    {
     "name": "stderr",
     "output_type": "stream",
     "text": [
      "LOCAL_RANK: 0 - CUDA_VISIBLE_DEVICES: [0,1]\n"
     ]
    },
    {
     "data": {
      "application/vnd.jupyter.widget-view+json": {
       "model_id": "35612adcf0444adab1aaabac85a322f2",
       "version_major": 2,
       "version_minor": 0
      },
      "text/plain": [
       "Predicting: |          | 0/? [00:00<?, ?it/s]"
      ]
     },
     "metadata": {},
     "output_type": "display_data"
    },
    {
     "name": "stderr",
     "output_type": "stream",
     "text": [
      "LOCAL_RANK: 0 - CUDA_VISIBLE_DEVICES: [0,1]\n"
     ]
    },
    {
     "data": {
      "application/vnd.jupyter.widget-view+json": {
       "model_id": "b7ff4cc1263b4689bfc9e8c64b84118a",
       "version_major": 2,
       "version_minor": 0
      },
      "text/plain": [
       "Predicting: |          | 0/? [00:00<?, ?it/s]"
      ]
     },
     "metadata": {},
     "output_type": "display_data"
    },
    {
     "data": {
      "text/html": [
       "<div>\n",
       "<style scoped>\n",
       "    .dataframe tbody tr th:only-of-type {\n",
       "        vertical-align: middle;\n",
       "    }\n",
       "\n",
       "    .dataframe tbody tr th {\n",
       "        vertical-align: top;\n",
       "    }\n",
       "\n",
       "    .dataframe thead th {\n",
       "        text-align: right;\n",
       "    }\n",
       "</style>\n",
       "<table border=\"1\" class=\"dataframe\">\n",
       "  <thead>\n",
       "    <tr style=\"text-align: right;\">\n",
       "      <th></th>\n",
       "      <th>roc_auc</th>\n",
       "      <th>improvement</th>\n",
       "      <th>acc</th>\n",
       "      <th>n</th>\n",
       "      <th>in_dist_adapter</th>\n",
       "      <th>in_dist_probe</th>\n",
       "      <th>balance</th>\n",
       "      <th>balance_proxy</th>\n",
       "      <th>roc_auc_adapter</th>\n",
       "      <th>roc_auc_base</th>\n",
       "    </tr>\n",
       "  </thead>\n",
       "  <tbody>\n",
       "    <tr>\n",
       "      <th>hans</th>\n",
       "      <td>0.928699</td>\n",
       "      <td>0.114082</td>\n",
       "      <td>0.850746</td>\n",
       "      <td>67</td>\n",
       "      <td>True</td>\n",
       "      <td>True</td>\n",
       "      <td>0.492537</td>\n",
       "      <td>0.701493</td>\n",
       "      <td>0.722816</td>\n",
       "      <td>0.814617</td>\n",
       "    </tr>\n",
       "    <tr>\n",
       "      <th>super_glue:rte</th>\n",
       "      <td>0.958333</td>\n",
       "      <td>0.051505</td>\n",
       "      <td>0.904762</td>\n",
       "      <td>84</td>\n",
       "      <td>True</td>\n",
       "      <td>True</td>\n",
       "      <td>0.571429</td>\n",
       "      <td>0.833333</td>\n",
       "      <td>0.846065</td>\n",
       "      <td>0.906829</td>\n",
       "    </tr>\n",
       "    <tr>\n",
       "      <th>super_glue:axg</th>\n",
       "      <td>0.99965</td>\n",
       "      <td>0.042437</td>\n",
       "      <td>0.987448</td>\n",
       "      <td>239</td>\n",
       "      <td>True</td>\n",
       "      <td>True</td>\n",
       "      <td>0.497908</td>\n",
       "      <td>0.355649</td>\n",
       "      <td>0.957213</td>\n",
       "      <td>0.853361</td>\n",
       "    </tr>\n",
       "    <tr>\n",
       "      <th>glue:qnli</th>\n",
       "      <td>0.96767</td>\n",
       "      <td>0.037904</td>\n",
       "      <td>0.847059</td>\n",
       "      <td>85</td>\n",
       "      <td>True</td>\n",
       "      <td>True</td>\n",
       "      <td>0.458824</td>\n",
       "      <td>0.835294</td>\n",
       "      <td>0.693423</td>\n",
       "      <td>0.929766</td>\n",
       "    </tr>\n",
       "    <tr>\n",
       "      <th>amazon_polarity</th>\n",
       "      <td>0.998974</td>\n",
       "      <td>0.014872</td>\n",
       "      <td>0.977528</td>\n",
       "      <td>89</td>\n",
       "      <td>True</td>\n",
       "      <td>True</td>\n",
       "      <td>0.561798</td>\n",
       "      <td>0.94382</td>\n",
       "      <td>0.96359</td>\n",
       "      <td>0.984103</td>\n",
       "    </tr>\n",
       "    <tr>\n",
       "      <th>imdb</th>\n",
       "      <td>0.962296</td>\n",
       "      <td>-0.000407</td>\n",
       "      <td>0.91573</td>\n",
       "      <td>534</td>\n",
       "      <td>False</td>\n",
       "      <td>False</td>\n",
       "      <td>0.486891</td>\n",
       "      <td>0.082397</td>\n",
       "      <td>0.962704</td>\n",
       "      <td>0.92952</td>\n",
       "    </tr>\n",
       "    <tr>\n",
       "      <th>sst2</th>\n",
       "      <td>0.954607</td>\n",
       "      <td>-0.004065</td>\n",
       "      <td>0.883117</td>\n",
       "      <td>77</td>\n",
       "      <td>True</td>\n",
       "      <td>True</td>\n",
       "      <td>0.532468</td>\n",
       "      <td>0.844156</td>\n",
       "      <td>0.842818</td>\n",
       "      <td>0.958672</td>\n",
       "    </tr>\n",
       "    <tr>\n",
       "      <th>super_glue:boolq</th>\n",
       "      <td>0.794846</td>\n",
       "      <td>-0.130583</td>\n",
       "      <td>0.692884</td>\n",
       "      <td>534</td>\n",
       "      <td>False</td>\n",
       "      <td>False</td>\n",
       "      <td>0.453184</td>\n",
       "      <td>0.235955</td>\n",
       "      <td>0.912968</td>\n",
       "      <td>0.925429</td>\n",
       "    </tr>\n",
       "  </tbody>\n",
       "</table>\n",
       "</div>"
      ],
      "text/plain": [
       "                   roc_auc improvement       acc    n in_dist_adapter  \\\n",
       "hans              0.928699    0.114082  0.850746   67            True   \n",
       "super_glue:rte    0.958333    0.051505  0.904762   84            True   \n",
       "super_glue:axg     0.99965    0.042437  0.987448  239            True   \n",
       "glue:qnli          0.96767    0.037904  0.847059   85            True   \n",
       "amazon_polarity   0.998974    0.014872  0.977528   89            True   \n",
       "imdb              0.962296   -0.000407   0.91573  534           False   \n",
       "sst2              0.954607   -0.004065  0.883117   77            True   \n",
       "super_glue:boolq  0.794846   -0.130583  0.692884  534           False   \n",
       "\n",
       "                 in_dist_probe   balance balance_proxy roc_auc_adapter  \\\n",
       "hans                      True  0.492537      0.701493        0.722816   \n",
       "super_glue:rte            True  0.571429      0.833333        0.846065   \n",
       "super_glue:axg            True  0.497908      0.355649        0.957213   \n",
       "glue:qnli                 True  0.458824      0.835294        0.693423   \n",
       "amazon_polarity           True  0.561798       0.94382         0.96359   \n",
       "imdb                     False  0.486891      0.082397        0.962704   \n",
       "sst2                      True  0.532468      0.844156        0.842818   \n",
       "super_glue:boolq         False  0.453184      0.235955        0.912968   \n",
       "\n",
       "                 roc_auc_base  \n",
       "hans                 0.814617  \n",
       "super_glue:rte       0.906829  \n",
       "super_glue:axg       0.853361  \n",
       "glue:qnli            0.929766  \n",
       "amazon_polarity      0.984103  \n",
       "imdb                  0.92952  \n",
       "sst2                 0.958672  \n",
       "super_glue:boolq     0.925429  "
      ]
     },
     "metadata": {},
     "output_type": "display_data"
    },
    {
     "data": {
      "image/png": "[encoded data removed]",
      "text/plain": [
       "<Figure size 640x440 with 1 Axes>"
      ]
     },
     "metadata": {},
     "output_type": "display_data"
    },
    {
     "data": {
      "image/png": "[encoded data removed]",
      "text/plain": [
       "<Figure size 640x440 with 1 Axes>"
      ]
     },
     "metadata": {},
     "output_type": "display_data"
    },
    {
     "data": {
      "image/png": "[encoded data removed]",
      "text/plain": [
       "<Figure size 640x440 with 1 Axes>"
      ]
     },
     "metadata": {},
     "output_type": "display_data"
    },
    {
     "data": {
      "image/png": "[encoded data removed]",
      "text/plain": [
       "<Figure size 640x440 with 1 Axes>"
      ]
     },
     "metadata": {},
     "output_type": "display_data"
    }
   ],
   "source": [
    "epoch_steps = int(len(ds_trainval)*0.7//batch_size)\n",
    "pl_model = PLSKBoolRank(c_in=c_in, epoch_steps=epoch_steps, max_epochs=max_epochs, depth=3, hs=64)\n",
    "\n",
    "\n",
    "model = PLSKWrapper(pl_model, verbose=verbose, max_epochs=max_epochs)\n",
    "if verbose: print(model)\n",
    "df_res = eval_ranking(model, ds_trainval, ds_test)\n",
    "df_res2 = analyze_dfres(df_res)\n"
   ]
  },
  {
   "cell_type": "markdown",
   "metadata": {},
   "source": [
    "### CCS"
   ]
  },
  {
   "cell_type": "code",
   "execution_count": 85,
   "metadata": {},
   "outputs": [],
   "source": [
    "from src.helpers.sklearn_lightning import PLSKWrapper, PLSKBase\n",
    "from torchmetrics.functional import accuracy\n",
    "\n",
    "def ccs_loss(p_neg, p_pos):\n",
    "    consistency_losses = (p_pos - (1 - p_neg)) ** 2\n",
    "    confidence_losses = torch.min(torch.stack((p_pos, p_neg), dim=-1), dim=-1).values ** 2\n",
    "    return torch.mean(consistency_losses + confidence_losses)\n",
    "\n",
    "class PLSKCCS(PLSKBase):\n",
    "    def __init__(self, c_in, dropout=0, hs=32, depth=2, **kwargs):\n",
    "        super().__init__(**kwargs)\n",
    "        self.model = nn.Sequential(\n",
    "            nn.Linear(np.prod(c_in), 1, bias=False),\n",
    "            nn.Sigmoid()\n",
    "        )\n",
    "\n",
    "    def forward(self, x):\n",
    "        return self.model(x).squeeze(1)\n",
    "\n",
    "    def _step(self, batch, batch_idx, stage='train'):\n",
    "        x, y = batch\n",
    "        x = rearrange(x, 'b l h v -> b (l h v)').float()\n",
    "        yb = y>0.5\n",
    "        ypred = self(x)\n",
    "        if stage=='pred':\n",
    "            return ypred\n",
    "\n",
    "        p_neg = ypred[~yb].mean()\n",
    "        p_pos = ypred[yb].mean()\n",
    "        loss = ccs_loss(p_neg, p_pos)\n",
    "        assert torch.isfinite(loss)\n",
    "\n",
    "        y_cls = ypred>0.5 # switch2bool(ypred1-ypred0)\n",
    "        self.log(f\"{stage}/acc\", accuracy(y_cls, y>0.5, \"binary\"), on_epoch=True, on_step=False)\n",
    "        self.log(f\"{stage}/loss\", loss, on_epoch=True, on_step=True, prog_bar=True)\n",
    "        self.log(f\"{stage}/n\", len(y), on_epoch=True, on_step=False, reduce_fx=torch.sum)\n",
    "        return loss\n"
   ]
  },
  {
   "cell_type": "code",
   "execution_count": 88,
   "metadata": {},
   "outputs": [
    {
     "name": "stdout",
     "output_type": "stream",
     "text": [
      "<src.helpers.sklearn_lightning.PLSKWrapper object at 0x7f5751eb1790>\n"
     ]
    },
    {
     "name": "stderr",
     "output_type": "stream",
     "text": [
      "Trainer will use only 1 of 2 GPUs because it is running inside an interactive / notebook environment. You may try to set `Trainer(devices=2)` but please note that multi-GPU inside interactive / notebook environments is considered experimental and unstable. Your mileage may vary.\n",
      "GPU available: True (cuda), used: True\n",
      "TPU available: False, using: 0 TPU cores\n",
      "IPU available: False, using: 0 IPUs\n",
      "HPU available: False, using: 0 HPUs\n",
      "LOCAL_RANK: 0 - CUDA_VISIBLE_DEVICES: [0,1]\n",
      "\n",
      "  | Name  | Type       | Params\n",
      "-------------------------------------\n",
      "0 | model | Sequential | 71.7 K\n",
      "-------------------------------------\n",
      "71.7 K    Trainable params\n",
      "0         Non-trainable params\n",
      "71.7 K    Total params\n",
      "0.287     Total estimated model params size (MB)\n"
     ]
    },
    {
     "data": {
      "application/vnd.jupyter.widget-view+json": {
       "model_id": "c1a0e8cb171e4f0c9fadd7e378b9d3ca",
       "version_major": 2,
       "version_minor": 0
      },
      "text/plain": [
       "Sanity Checking: |          | 0/? [00:00<?, ?it/s]"
      ]
     },
     "metadata": {},
     "output_type": "display_data"
    },
    {
     "data": {
      "application/vnd.jupyter.widget-view+json": {
       "model_id": "a63084c8ac444c318d44274ec34faf63",
       "version_major": 2,
       "version_minor": 0
      },
      "text/plain": [
       "Training: |          | 0/? [00:00<?, ?it/s]"
      ]
     },
     "metadata": {},
     "output_type": "display_data"
    },
    {
     "data": {
      "application/vnd.jupyter.widget-view+json": {
       "model_id": "72609a66e249475fa9d5ebb1b798a1b4",
       "version_major": 2,
       "version_minor": 0
      },
      "text/plain": [
       "Validation: |          | 0/? [00:00<?, ?it/s]"
      ]
     },
     "metadata": {},
     "output_type": "display_data"
    },
    {
     "data": {
      "application/vnd.jupyter.widget-view+json": {
       "model_id": "2d137b343b97486fa82590b02d19b026",
       "version_major": 2,
       "version_minor": 0
      },
      "text/plain": [
       "Validation: |          | 0/? [00:00<?, ?it/s]"
      ]
     },
     "metadata": {},
     "output_type": "display_data"
    },
    {
     "data": {
      "application/vnd.jupyter.widget-view+json": {
       "model_id": "ae40487a9de44b0881cada72800d4da7",
       "version_major": 2,
       "version_minor": 0
      },
      "text/plain": [
       "Validation: |          | 0/? [00:00<?, ?it/s]"
      ]
     },
     "metadata": {},
     "output_type": "display_data"
    },
    {
     "data": {
      "application/vnd.jupyter.widget-view+json": {
       "model_id": "2dd5a59c972c4727990d3f9b036b3d7e",
       "version_major": 2,
       "version_minor": 0
      },
      "text/plain": [
       "Validation: |          | 0/? [00:00<?, ?it/s]"
      ]
     },
     "metadata": {},
     "output_type": "display_data"
    },
    {
     "data": {
      "application/vnd.jupyter.widget-view+json": {
       "model_id": "06a4287890d14aae96a558a8596199f8",
       "version_major": 2,
       "version_minor": 0
      },
      "text/plain": [
       "Validation: |          | 0/? [00:00<?, ?it/s]"
      ]
     },
     "metadata": {},
     "output_type": "display_data"
    },
    {
     "data": {
      "application/vnd.jupyter.widget-view+json": {
       "model_id": "ebbf31b7479f47b1b5299dafba8868ae",
       "version_major": 2,
       "version_minor": 0
      },
      "text/plain": [
       "Validation: |          | 0/? [00:00<?, ?it/s]"
      ]
     },
     "metadata": {},
     "output_type": "display_data"
    },
    {
     "data": {
      "application/vnd.jupyter.widget-view+json": {
       "model_id": "2883f85a60814dfe83142da0a8936eb1",
       "version_major": 2,
       "version_minor": 0
      },
      "text/plain": [
       "Validation: |          | 0/? [00:00<?, ?it/s]"
      ]
     },
     "metadata": {},
     "output_type": "display_data"
    },
    {
     "data": {
      "application/vnd.jupyter.widget-view+json": {
       "model_id": "2aa25f585de24fdc9d4c6da5f2d93f7d",
       "version_major": 2,
       "version_minor": 0
      },
      "text/plain": [
       "Validation: |          | 0/? [00:00<?, ?it/s]"
      ]
     },
     "metadata": {},
     "output_type": "display_data"
    },
    {
     "data": {
      "application/vnd.jupyter.widget-view+json": {
       "model_id": "ffa8b6fb4423468a88b6b92018d8bfef",
       "version_major": 2,
       "version_minor": 0
      },
      "text/plain": [
       "Validation: |          | 0/? [00:00<?, ?it/s]"
      ]
     },
     "metadata": {},
     "output_type": "display_data"
    },
    {
     "data": {
      "application/vnd.jupyter.widget-view+json": {
       "model_id": "3ebcaac0697749738e8af00feeb5ca7d",
       "version_major": 2,
       "version_minor": 0
      },
      "text/plain": [
       "Validation: |          | 0/? [00:00<?, ?it/s]"
      ]
     },
     "metadata": {},
     "output_type": "display_data"
    },
    {
     "data": {
      "application/vnd.jupyter.widget-view+json": {
       "model_id": "7a4076d8ee6d49d7b2e9998131029789",
       "version_major": 2,
       "version_minor": 0
      },
      "text/plain": [
       "Validation: |          | 0/? [00:00<?, ?it/s]"
      ]
     },
     "metadata": {},
     "output_type": "display_data"
    },
    {
     "data": {
      "application/vnd.jupyter.widget-view+json": {
       "model_id": "6e5007319fba4b68b3758dbf7b8d75f4",
       "version_major": 2,
       "version_minor": 0
      },
      "text/plain": [
       "Validation: |          | 0/? [00:00<?, ?it/s]"
      ]
     },
     "metadata": {},
     "output_type": "display_data"
    },
    {
     "data": {
      "application/vnd.jupyter.widget-view+json": {
       "model_id": "9f12c2b297de4a969ad99eed2cb9d735",
       "version_major": 2,
       "version_minor": 0
      },
      "text/plain": [
       "Validation: |          | 0/? [00:00<?, ?it/s]"
      ]
     },
     "metadata": {},
     "output_type": "display_data"
    },
    {
     "data": {
      "application/vnd.jupyter.widget-view+json": {
       "model_id": "715bd2b8272e4799b32569a65cb2c326",
       "version_major": 2,
       "version_minor": 0
      },
      "text/plain": [
       "Validation: |          | 0/? [00:00<?, ?it/s]"
      ]
     },
     "metadata": {},
     "output_type": "display_data"
    },
    {
     "data": {
      "application/vnd.jupyter.widget-view+json": {
       "model_id": "6265f0514afb4e1b8257ba7ce0946241",
       "version_major": 2,
       "version_minor": 0
      },
      "text/plain": [
       "Validation: |          | 0/? [00:00<?, ?it/s]"
      ]
     },
     "metadata": {},
     "output_type": "display_data"
    },
    {
     "data": {
      "application/vnd.jupyter.widget-view+json": {
       "model_id": "118c685f954743518d7ebbe542df92a2",
       "version_major": 2,
       "version_minor": 0
      },
      "text/plain": [
       "Validation: |          | 0/? [00:00<?, ?it/s]"
      ]
     },
     "metadata": {},
     "output_type": "display_data"
    },
    {
     "data": {
      "application/vnd.jupyter.widget-view+json": {
       "model_id": "4d5b4b0e15d54d0baf8d06f5df75132a",
       "version_major": 2,
       "version_minor": 0
      },
      "text/plain": [
       "Validation: |          | 0/? [00:00<?, ?it/s]"
      ]
     },
     "metadata": {},
     "output_type": "display_data"
    },
    {
     "data": {
      "application/vnd.jupyter.widget-view+json": {
       "model_id": "565aa772755f4e4bb22873c5d0a7d338",
       "version_major": 2,
       "version_minor": 0
      },
      "text/plain": [
       "Validation: |          | 0/? [00:00<?, ?it/s]"
      ]
     },
     "metadata": {},
     "output_type": "display_data"
    },
    {
     "data": {
      "application/vnd.jupyter.widget-view+json": {
       "model_id": "cb4f758020ca4e5885df4b3d9459a232",
       "version_major": 2,
       "version_minor": 0
      },
      "text/plain": [
       "Validation: |          | 0/? [00:00<?, ?it/s]"
      ]
     },
     "metadata": {},
     "output_type": "display_data"
    },
    {
     "data": {
      "application/vnd.jupyter.widget-view+json": {
       "model_id": "22cd7dc1d56542aaba54c5660452089a",
       "version_major": 2,
       "version_minor": 0
      },
      "text/plain": [
       "Validation: |          | 0/? [00:00<?, ?it/s]"
      ]
     },
     "metadata": {},
     "output_type": "display_data"
    },
    {
     "data": {
      "application/vnd.jupyter.widget-view+json": {
       "model_id": "42203cd8b1a24ab098bbca9f61fe8e14",
       "version_major": 2,
       "version_minor": 0
      },
      "text/plain": [
       "Validation: |          | 0/? [00:00<?, ?it/s]"
      ]
     },
     "metadata": {},
     "output_type": "display_data"
    },
    {
     "data": {
      "application/vnd.jupyter.widget-view+json": {
       "model_id": "134203c2eb8b483f8b91e566ee0b5f59",
       "version_major": 2,
       "version_minor": 0
      },
      "text/plain": [
       "Validation: |          | 0/? [00:00<?, ?it/s]"
      ]
     },
     "metadata": {},
     "output_type": "display_data"
    },
    {
     "data": {
      "application/vnd.jupyter.widget-view+json": {
       "model_id": "739560b61c3947c2a36804a76fc53cc2",
       "version_major": 2,
       "version_minor": 0
      },
      "text/plain": [
       "Validation: |          | 0/? [00:00<?, ?it/s]"
      ]
     },
     "metadata": {},
     "output_type": "display_data"
    },
    {
     "data": {
      "application/vnd.jupyter.widget-view+json": {
       "model_id": "c9df1c866f83490b860c00a1457d2801",
       "version_major": 2,
       "version_minor": 0
      },
      "text/plain": [
       "Validation: |          | 0/? [00:00<?, ?it/s]"
      ]
     },
     "metadata": {},
     "output_type": "display_data"
    },
    {
     "data": {
      "application/vnd.jupyter.widget-view+json": {
       "model_id": "3f26b571fa5340aea547ac1128c115da",
       "version_major": 2,
       "version_minor": 0
      },
      "text/plain": [
       "Validation: |          | 0/? [00:00<?, ?it/s]"
      ]
     },
     "metadata": {},
     "output_type": "display_data"
    },
    {
     "data": {
      "application/vnd.jupyter.widget-view+json": {
       "model_id": "e2b9ceeb06844b55a5e3dcfff705f793",
       "version_major": 2,
       "version_minor": 0
      },
      "text/plain": [
       "Validation: |          | 0/? [00:00<?, ?it/s]"
      ]
     },
     "metadata": {},
     "output_type": "display_data"
    },
    {
     "data": {
      "application/vnd.jupyter.widget-view+json": {
       "model_id": "a3b9d2081b7e4243b13454dded404254",
       "version_major": 2,
       "version_minor": 0
      },
      "text/plain": [
       "Validation: |          | 0/? [00:00<?, ?it/s]"
      ]
     },
     "metadata": {},
     "output_type": "display_data"
    },
    {
     "data": {
      "application/vnd.jupyter.widget-view+json": {
       "model_id": "1e25d937f33d42c39925482c041578b3",
       "version_major": 2,
       "version_minor": 0
      },
      "text/plain": [
       "Validation: |          | 0/? [00:00<?, ?it/s]"
      ]
     },
     "metadata": {},
     "output_type": "display_data"
    },
    {
     "data": {
      "application/vnd.jupyter.widget-view+json": {
       "model_id": "2b1812c1d08441ca863766895fd14114",
       "version_major": 2,
       "version_minor": 0
      },
      "text/plain": [
       "Validation: |          | 0/? [00:00<?, ?it/s]"
      ]
     },
     "metadata": {},
     "output_type": "display_data"
    },
    {
     "data": {
      "application/vnd.jupyter.widget-view+json": {
       "model_id": "fc65cdbe00e54ceb872154b13445d10f",
       "version_major": 2,
       "version_minor": 0
      },
      "text/plain": [
       "Validation: |          | 0/? [00:00<?, ?it/s]"
      ]
     },
     "metadata": {},
     "output_type": "display_data"
    },
    {
     "data": {
      "application/vnd.jupyter.widget-view+json": {
       "model_id": "4039a1c540d345498f7fa7ef55af8750",
       "version_major": 2,
       "version_minor": 0
      },
      "text/plain": [
       "Validation: |          | 0/? [00:00<?, ?it/s]"
      ]
     },
     "metadata": {},
     "output_type": "display_data"
    },
    {
     "data": {
      "application/vnd.jupyter.widget-view+json": {
       "model_id": "870ed80326a941f4b6670942122132c8",
       "version_major": 2,
       "version_minor": 0
      },
      "text/plain": [
       "Validation: |          | 0/? [00:00<?, ?it/s]"
      ]
     },
     "metadata": {},
     "output_type": "display_data"
    },
    {
     "data": {
      "application/vnd.jupyter.widget-view+json": {
       "model_id": "28e0144d587a4f7bbc398e5a2df5b082",
       "version_major": 2,
       "version_minor": 0
      },
      "text/plain": [
       "Validation: |          | 0/? [00:00<?, ?it/s]"
      ]
     },
     "metadata": {},
     "output_type": "display_data"
    },
    {
     "data": {
      "application/vnd.jupyter.widget-view+json": {
       "model_id": "788c4ec1c3c0463d923862d7490e8b32",
       "version_major": 2,
       "version_minor": 0
      },
      "text/plain": [
       "Validation: |          | 0/? [00:00<?, ?it/s]"
      ]
     },
     "metadata": {},
     "output_type": "display_data"
    },
    {
     "data": {
      "application/vnd.jupyter.widget-view+json": {
       "model_id": "5e9b931dcde14d4c9897ca36a37971cd",
       "version_major": 2,
       "version_minor": 0
      },
      "text/plain": [
       "Validation: |          | 0/? [00:00<?, ?it/s]"
      ]
     },
     "metadata": {},
     "output_type": "display_data"
    },
    {
     "data": {
      "application/vnd.jupyter.widget-view+json": {
       "model_id": "6b5ff5c8d21d4fdeaef7ec46b30e2c81",
       "version_major": 2,
       "version_minor": 0
      },
      "text/plain": [
       "Validation: |          | 0/? [00:00<?, ?it/s]"
      ]
     },
     "metadata": {},
     "output_type": "display_data"
    },
    {
     "data": {
      "application/vnd.jupyter.widget-view+json": {
       "model_id": "5f7c549af89d4d729427d8c52c7eae6c",
       "version_major": 2,
       "version_minor": 0
      },
      "text/plain": [
       "Validation: |          | 0/? [00:00<?, ?it/s]"
      ]
     },
     "metadata": {},
     "output_type": "display_data"
    },
    {
     "data": {
      "application/vnd.jupyter.widget-view+json": {
       "model_id": "af518b620f554fc98d0f972cb70abd4c",
       "version_major": 2,
       "version_minor": 0
      },
      "text/plain": [
       "Validation: |          | 0/? [00:00<?, ?it/s]"
      ]
     },
     "metadata": {},
     "output_type": "display_data"
    },
    {
     "data": {
      "application/vnd.jupyter.widget-view+json": {
       "model_id": "f7e749335ada4b9aa1bc976c55057f55",
       "version_major": 2,
       "version_minor": 0
      },
      "text/plain": [
       "Validation: |          | 0/? [00:00<?, ?it/s]"
      ]
     },
     "metadata": {},
     "output_type": "display_data"
    },
    {
     "data": {
      "application/vnd.jupyter.widget-view+json": {
       "model_id": "99eaff634cb847adbe7b6e4c35f2bea0",
       "version_major": 2,
       "version_minor": 0
      },
      "text/plain": [
       "Validation: |          | 0/? [00:00<?, ?it/s]"
      ]
     },
     "metadata": {},
     "output_type": "display_data"
    },
    {
     "data": {
      "application/vnd.jupyter.widget-view+json": {
       "model_id": "b464bd961aed4ab49e92f6a3ac414fff",
       "version_major": 2,
       "version_minor": 0
      },
      "text/plain": [
       "Validation: |          | 0/? [00:00<?, ?it/s]"
      ]
     },
     "metadata": {},
     "output_type": "display_data"
    },
    {
     "data": {
      "application/vnd.jupyter.widget-view+json": {
       "model_id": "7dce8ab19f3944f5b075e16800b0826c",
       "version_major": 2,
       "version_minor": 0
      },
      "text/plain": [
       "Validation: |          | 0/? [00:00<?, ?it/s]"
      ]
     },
     "metadata": {},
     "output_type": "display_data"
    },
    {
     "data": {
      "application/vnd.jupyter.widget-view+json": {
       "model_id": "699be2f45fe344f69a08564bfcfc245b",
       "version_major": 2,
       "version_minor": 0
      },
      "text/plain": [
       "Validation: |          | 0/? [00:00<?, ?it/s]"
      ]
     },
     "metadata": {},
     "output_type": "display_data"
    },
    {
     "data": {
      "application/vnd.jupyter.widget-view+json": {
       "model_id": "a0fc39c720c14098a983b5b9beab4496",
       "version_major": 2,
       "version_minor": 0
      },
      "text/plain": [
       "Validation: |          | 0/? [00:00<?, ?it/s]"
      ]
     },
     "metadata": {},
     "output_type": "display_data"
    },
    {
     "data": {
      "application/vnd.jupyter.widget-view+json": {
       "model_id": "440b61cf614b416796313f982575c9db",
       "version_major": 2,
       "version_minor": 0
      },
      "text/plain": [
       "Validation: |          | 0/? [00:00<?, ?it/s]"
      ]
     },
     "metadata": {},
     "output_type": "display_data"
    },
    {
     "data": {
      "application/vnd.jupyter.widget-view+json": {
       "model_id": "3e57ed71545f4ad1a7a924a9f17806e6",
       "version_major": 2,
       "version_minor": 0
      },
      "text/plain": [
       "Validation: |          | 0/? [00:00<?, ?it/s]"
      ]
     },
     "metadata": {},
     "output_type": "display_data"
    },
    {
     "data": {
      "application/vnd.jupyter.widget-view+json": {
       "model_id": "aa421defbf5b41629d11127aaed97eda",
       "version_major": 2,
       "version_minor": 0
      },
      "text/plain": [
       "Validation: |          | 0/? [00:00<?, ?it/s]"
      ]
     },
     "metadata": {},
     "output_type": "display_data"
    },
    {
     "data": {
      "application/vnd.jupyter.widget-view+json": {
       "model_id": "d0235971a0e8496c8f405b4890b74341",
       "version_major": 2,
       "version_minor": 0
      },
      "text/plain": [
       "Validation: |          | 0/? [00:00<?, ?it/s]"
      ]
     },
     "metadata": {},
     "output_type": "display_data"
    },
    {
     "data": {
      "application/vnd.jupyter.widget-view+json": {
       "model_id": "39fbac1fb06645dd9f78e155f2e31dab",
       "version_major": 2,
       "version_minor": 0
      },
      "text/plain": [
       "Validation: |          | 0/? [00:00<?, ?it/s]"
      ]
     },
     "metadata": {},
     "output_type": "display_data"
    },
    {
     "data": {
      "application/vnd.jupyter.widget-view+json": {
       "model_id": "b8eb44551a2643f3ba5b96c05ea261b5",
       "version_major": 2,
       "version_minor": 0
      },
      "text/plain": [
       "Validation: |          | 0/? [00:00<?, ?it/s]"
      ]
     },
     "metadata": {},
     "output_type": "display_data"
    },
    {
     "name": "stderr",
     "output_type": "stream",
     "text": [
      "`Trainer.fit` stopped: `max_epochs=50` reached.\n",
      "LOCAL_RANK: 0 - CUDA_VISIBLE_DEVICES: [0,1]\n"
     ]
    },
    {
     "data": {
      "application/vnd.jupyter.widget-view+json": {
       "model_id": "88db1ff5d33248afae87005d1b04dfdf",
       "version_major": 2,
       "version_minor": 0
      },
      "text/plain": [
       "Predicting: |          | 0/? [00:00<?, ?it/s]"
      ]
     },
     "metadata": {},
     "output_type": "display_data"
    },
    {
     "name": "stderr",
     "output_type": "stream",
     "text": [
      "LOCAL_RANK: 0 - CUDA_VISIBLE_DEVICES: [0,1]\n"
     ]
    },
    {
     "data": {
      "application/vnd.jupyter.widget-view+json": {
       "model_id": "973064dbc1294703965589e8300836a9",
       "version_major": 2,
       "version_minor": 0
      },
      "text/plain": [
       "Predicting: |          | 0/? [00:00<?, ?it/s]"
      ]
     },
     "metadata": {},
     "output_type": "display_data"
    },
    {
     "name": "stderr",
     "output_type": "stream",
     "text": [
      "LOCAL_RANK: 0 - CUDA_VISIBLE_DEVICES: [0,1]\n"
     ]
    },
    {
     "data": {
      "application/vnd.jupyter.widget-view+json": {
       "model_id": "d38a59a0bf3d4232a0124ce3458e765f",
       "version_major": 2,
       "version_minor": 0
      },
      "text/plain": [
       "Predicting: |          | 0/? [00:00<?, ?it/s]"
      ]
     },
     "metadata": {},
     "output_type": "display_data"
    },
    {
     "data": {
      "text/html": [
       "<div>\n",
       "<style scoped>\n",
       "    .dataframe tbody tr th:only-of-type {\n",
       "        vertical-align: middle;\n",
       "    }\n",
       "\n",
       "    .dataframe tbody tr th {\n",
       "        vertical-align: top;\n",
       "    }\n",
       "\n",
       "    .dataframe thead th {\n",
       "        text-align: right;\n",
       "    }\n",
       "</style>\n",
       "<table border=\"1\" class=\"dataframe\">\n",
       "  <thead>\n",
       "    <tr style=\"text-align: right;\">\n",
       "      <th></th>\n",
       "      <th>roc_auc</th>\n",
       "      <th>improvement</th>\n",
       "      <th>acc</th>\n",
       "      <th>n</th>\n",
       "      <th>in_dist_adapter</th>\n",
       "      <th>in_dist_probe</th>\n",
       "      <th>balance</th>\n",
       "      <th>balance_proxy</th>\n",
       "      <th>roc_auc_adapter</th>\n",
       "      <th>roc_auc_base</th>\n",
       "    </tr>\n",
       "  </thead>\n",
       "  <tbody>\n",
       "    <tr>\n",
       "      <th>super_glue:boolq</th>\n",
       "      <td>0.281261</td>\n",
       "      <td>-0.644168</td>\n",
       "      <td>0.235955</td>\n",
       "      <td>534</td>\n",
       "      <td>False</td>\n",
       "      <td>False</td>\n",
       "      <td>0.453184</td>\n",
       "      <td>0.235955</td>\n",
       "      <td>0.912968</td>\n",
       "      <td>0.925429</td>\n",
       "    </tr>\n",
       "    <tr>\n",
       "      <th>hans</th>\n",
       "      <td>0.14795</td>\n",
       "      <td>-0.666667</td>\n",
       "      <td>0.313433</td>\n",
       "      <td>67</td>\n",
       "      <td>True</td>\n",
       "      <td>True</td>\n",
       "      <td>0.492537</td>\n",
       "      <td>0.701493</td>\n",
       "      <td>0.722816</td>\n",
       "      <td>0.814617</td>\n",
       "    </tr>\n",
       "    <tr>\n",
       "      <th>super_glue:rte</th>\n",
       "      <td>0.094329</td>\n",
       "      <td>-0.8125</td>\n",
       "      <td>0.154762</td>\n",
       "      <td>84</td>\n",
       "      <td>True</td>\n",
       "      <td>True</td>\n",
       "      <td>0.571429</td>\n",
       "      <td>0.833333</td>\n",
       "      <td>0.846065</td>\n",
       "      <td>0.906829</td>\n",
       "    </tr>\n",
       "    <tr>\n",
       "      <th>glue:qnli</th>\n",
       "      <td>0.082497</td>\n",
       "      <td>-0.847269</td>\n",
       "      <td>0.164706</td>\n",
       "      <td>85</td>\n",
       "      <td>True</td>\n",
       "      <td>True</td>\n",
       "      <td>0.458824</td>\n",
       "      <td>0.835294</td>\n",
       "      <td>0.693423</td>\n",
       "      <td>0.929766</td>\n",
       "    </tr>\n",
       "    <tr>\n",
       "      <th>imdb</th>\n",
       "      <td>0.108352</td>\n",
       "      <td>-0.854351</td>\n",
       "      <td>0.093633</td>\n",
       "      <td>534</td>\n",
       "      <td>False</td>\n",
       "      <td>False</td>\n",
       "      <td>0.486891</td>\n",
       "      <td>0.082397</td>\n",
       "      <td>0.962704</td>\n",
       "      <td>0.92952</td>\n",
       "    </tr>\n",
       "    <tr>\n",
       "      <th>sst2</th>\n",
       "      <td>0.057588</td>\n",
       "      <td>-0.901084</td>\n",
       "      <td>0.077922</td>\n",
       "      <td>77</td>\n",
       "      <td>True</td>\n",
       "      <td>True</td>\n",
       "      <td>0.532468</td>\n",
       "      <td>0.844156</td>\n",
       "      <td>0.842818</td>\n",
       "      <td>0.958672</td>\n",
       "    </tr>\n",
       "    <tr>\n",
       "      <th>super_glue:axg</th>\n",
       "      <td>0.041106</td>\n",
       "      <td>-0.916106</td>\n",
       "      <td>0.066946</td>\n",
       "      <td>239</td>\n",
       "      <td>True</td>\n",
       "      <td>True</td>\n",
       "      <td>0.497908</td>\n",
       "      <td>0.355649</td>\n",
       "      <td>0.957213</td>\n",
       "      <td>0.853361</td>\n",
       "    </tr>\n",
       "    <tr>\n",
       "      <th>amazon_polarity</th>\n",
       "      <td>0.032308</td>\n",
       "      <td>-0.951795</td>\n",
       "      <td>0.05618</td>\n",
       "      <td>89</td>\n",
       "      <td>True</td>\n",
       "      <td>True</td>\n",
       "      <td>0.561798</td>\n",
       "      <td>0.94382</td>\n",
       "      <td>0.96359</td>\n",
       "      <td>0.984103</td>\n",
       "    </tr>\n",
       "  </tbody>\n",
       "</table>\n",
       "</div>"
      ],
      "text/plain": [
       "                   roc_auc improvement       acc    n in_dist_adapter  \\\n",
       "super_glue:boolq  0.281261   -0.644168  0.235955  534           False   \n",
       "hans               0.14795   -0.666667  0.313433   67            True   \n",
       "super_glue:rte    0.094329     -0.8125  0.154762   84            True   \n",
       "glue:qnli         0.082497   -0.847269  0.164706   85            True   \n",
       "imdb              0.108352   -0.854351  0.093633  534           False   \n",
       "sst2              0.057588   -0.901084  0.077922   77            True   \n",
       "super_glue:axg    0.041106   -0.916106  0.066946  239            True   \n",
       "amazon_polarity   0.032308   -0.951795   0.05618   89            True   \n",
       "\n",
       "                 in_dist_probe   balance balance_proxy roc_auc_adapter  \\\n",
       "super_glue:boolq         False  0.453184      0.235955        0.912968   \n",
       "hans                      True  0.492537      0.701493        0.722816   \n",
       "super_glue:rte            True  0.571429      0.833333        0.846065   \n",
       "glue:qnli                 True  0.458824      0.835294        0.693423   \n",
       "imdb                     False  0.486891      0.082397        0.962704   \n",
       "sst2                      True  0.532468      0.844156        0.842818   \n",
       "super_glue:axg            True  0.497908      0.355649        0.957213   \n",
       "amazon_polarity           True  0.561798       0.94382         0.96359   \n",
       "\n",
       "                 roc_auc_base  \n",
       "super_glue:boolq     0.925429  \n",
       "hans                 0.814617  \n",
       "super_glue:rte       0.906829  \n",
       "glue:qnli            0.929766  \n",
       "imdb                  0.92952  \n",
       "sst2                 0.958672  \n",
       "super_glue:axg       0.853361  \n",
       "amazon_polarity      0.984103  "
      ]
     },
     "metadata": {},
     "output_type": "display_data"
    },
    {
     "data": {
      "image/png": "[encoded data removed]",
      "text/plain": [
       "<Figure size 640x440 with 1 Axes>"
      ]
     },
     "metadata": {},
     "output_type": "display_data"
    },
    {
     "data": {
      "image/png": "[encoded data removed]",
      "text/plain": [
       "<Figure size 640x440 with 1 Axes>"
      ]
     },
     "metadata": {},
     "output_type": "display_data"
    },
    {
     "data": {
      "image/png": "[encoded data removed]",
      "text/plain": [
       "<Figure size 640x440 with 1 Axes>"
      ]
     },
     "metadata": {},
     "output_type": "display_data"
    },
    {
     "data": {
      "image/png": "[encoded data removed]",
      "text/plain": [
       "<Figure size 640x440 with 1 Axes>"
      ]
     },
     "metadata": {},
     "output_type": "display_data"
    }
   ],
   "source": [
    "batch_size = 256\n",
    "epoch_steps = int(len(ds_trainval)*0.7//batch_size)\n",
    "pl_model = PLSKCCS(c_in=c_in, epoch_steps=epoch_steps, max_epochs=max_epochs, depth=3, hs=64, lr=1e-4)\n",
    "\n",
    "\n",
    "model = PLSKWrapper(pl_model, verbose=verbose, max_epochs=max_epochs, batch_size=batch_size)\n",
    "if verbose: print(model)\n",
    "df_res = eval_ranking(model, ds_trainval, ds_test)\n",
    "df_res2 = analyze_dfres(df_res)\n"
   ]
  },
  {
   "cell_type": "code",
   "execution_count": 97,
   "metadata": {},
   "outputs": [
    {
     "data": {
      "text/html": [
       "<div>\n",
       "<style scoped>\n",
       "    .dataframe tbody tr th:only-of-type {\n",
       "        vertical-align: middle;\n",
       "    }\n",
       "\n",
       "    .dataframe tbody tr th {\n",
       "        vertical-align: top;\n",
       "    }\n",
       "\n",
       "    .dataframe thead th {\n",
       "        text-align: right;\n",
       "    }\n",
       "</style>\n",
       "<table border=\"1\" class=\"dataframe\">\n",
       "  <thead>\n",
       "    <tr style=\"text-align: right;\">\n",
       "      <th></th>\n",
       "      <th>roc_auc</th>\n",
       "      <th>improvement</th>\n",
       "      <th>acc</th>\n",
       "      <th>n</th>\n",
       "      <th>in_dist_adapter</th>\n",
       "      <th>in_dist_probe</th>\n",
       "      <th>balance</th>\n",
       "      <th>balance_proxy</th>\n",
       "      <th>roc_auc_adapter</th>\n",
       "      <th>roc_auc_base</th>\n",
       "    </tr>\n",
       "  </thead>\n",
       "  <tbody>\n",
       "    <tr>\n",
       "      <th>glue:qnli</th>\n",
       "      <td>0.917503</td>\n",
       "      <td>0.22408</td>\n",
       "      <td>0.164706</td>\n",
       "      <td>85</td>\n",
       "      <td>True</td>\n",
       "      <td>True</td>\n",
       "      <td>0.458824</td>\n",
       "      <td>0.835294</td>\n",
       "      <td>0.693423</td>\n",
       "      <td>0.929766</td>\n",
       "    </tr>\n",
       "    <tr>\n",
       "      <th>hans</th>\n",
       "      <td>0.85205</td>\n",
       "      <td>0.129234</td>\n",
       "      <td>0.313433</td>\n",
       "      <td>67</td>\n",
       "      <td>True</td>\n",
       "      <td>True</td>\n",
       "      <td>0.492537</td>\n",
       "      <td>0.701493</td>\n",
       "      <td>0.722816</td>\n",
       "      <td>0.814617</td>\n",
       "    </tr>\n",
       "    <tr>\n",
       "      <th>sst2</th>\n",
       "      <td>0.942412</td>\n",
       "      <td>0.099593</td>\n",
       "      <td>0.077922</td>\n",
       "      <td>77</td>\n",
       "      <td>True</td>\n",
       "      <td>True</td>\n",
       "      <td>0.532468</td>\n",
       "      <td>0.844156</td>\n",
       "      <td>0.842818</td>\n",
       "      <td>0.958672</td>\n",
       "    </tr>\n",
       "    <tr>\n",
       "      <th>super_glue:rte</th>\n",
       "      <td>0.905671</td>\n",
       "      <td>0.059606</td>\n",
       "      <td>0.154762</td>\n",
       "      <td>84</td>\n",
       "      <td>True</td>\n",
       "      <td>True</td>\n",
       "      <td>0.571429</td>\n",
       "      <td>0.833333</td>\n",
       "      <td>0.846065</td>\n",
       "      <td>0.906829</td>\n",
       "    </tr>\n",
       "    <tr>\n",
       "      <th>amazon_polarity</th>\n",
       "      <td>0.967692</td>\n",
       "      <td>0.004103</td>\n",
       "      <td>0.05618</td>\n",
       "      <td>89</td>\n",
       "      <td>True</td>\n",
       "      <td>True</td>\n",
       "      <td>0.561798</td>\n",
       "      <td>0.94382</td>\n",
       "      <td>0.96359</td>\n",
       "      <td>0.984103</td>\n",
       "    </tr>\n",
       "    <tr>\n",
       "      <th>super_glue:axg</th>\n",
       "      <td>0.958894</td>\n",
       "      <td>0.001681</td>\n",
       "      <td>0.066946</td>\n",
       "      <td>239</td>\n",
       "      <td>True</td>\n",
       "      <td>True</td>\n",
       "      <td>0.497908</td>\n",
       "      <td>0.355649</td>\n",
       "      <td>0.957213</td>\n",
       "      <td>0.853361</td>\n",
       "    </tr>\n",
       "    <tr>\n",
       "      <th>imdb</th>\n",
       "      <td>0.891648</td>\n",
       "      <td>-0.071056</td>\n",
       "      <td>0.093633</td>\n",
       "      <td>534</td>\n",
       "      <td>False</td>\n",
       "      <td>False</td>\n",
       "      <td>0.486891</td>\n",
       "      <td>0.082397</td>\n",
       "      <td>0.962704</td>\n",
       "      <td>0.92952</td>\n",
       "    </tr>\n",
       "    <tr>\n",
       "      <th>super_glue:boolq</th>\n",
       "      <td>0.718739</td>\n",
       "      <td>-0.194229</td>\n",
       "      <td>0.235955</td>\n",
       "      <td>534</td>\n",
       "      <td>False</td>\n",
       "      <td>False</td>\n",
       "      <td>0.453184</td>\n",
       "      <td>0.235955</td>\n",
       "      <td>0.912968</td>\n",
       "      <td>0.925429</td>\n",
       "    </tr>\n",
       "  </tbody>\n",
       "</table>\n",
       "</div>"
      ],
      "text/plain": [
       "                   roc_auc improvement       acc    n in_dist_adapter  \\\n",
       "glue:qnli         0.917503     0.22408  0.164706   85            True   \n",
       "hans               0.85205    0.129234  0.313433   67            True   \n",
       "sst2              0.942412    0.099593  0.077922   77            True   \n",
       "super_glue:rte    0.905671    0.059606  0.154762   84            True   \n",
       "amazon_polarity   0.967692    0.004103   0.05618   89            True   \n",
       "super_glue:axg    0.958894    0.001681  0.066946  239            True   \n",
       "imdb              0.891648   -0.071056  0.093633  534           False   \n",
       "super_glue:boolq  0.718739   -0.194229  0.235955  534           False   \n",
       "\n",
       "                 in_dist_probe   balance balance_proxy roc_auc_adapter  \\\n",
       "glue:qnli                 True  0.458824      0.835294        0.693423   \n",
       "hans                      True  0.492537      0.701493        0.722816   \n",
       "sst2                      True  0.532468      0.844156        0.842818   \n",
       "super_glue:rte            True  0.571429      0.833333        0.846065   \n",
       "amazon_polarity           True  0.561798       0.94382         0.96359   \n",
       "super_glue:axg            True  0.497908      0.355649        0.957213   \n",
       "imdb                     False  0.486891      0.082397        0.962704   \n",
       "super_glue:boolq         False  0.453184      0.235955        0.912968   \n",
       "\n",
       "                 roc_auc_base  \n",
       "glue:qnli            0.929766  \n",
       "hans                 0.814617  \n",
       "sst2                 0.958672  \n",
       "super_glue:rte       0.906829  \n",
       "amazon_polarity      0.984103  \n",
       "super_glue:axg       0.853361  \n",
       "imdb                  0.92952  \n",
       "super_glue:boolq     0.925429  "
      ]
     },
     "execution_count": 97,
     "metadata": {},
     "output_type": "execute_result"
    }
   ],
   "source": [
    "# CSS doesn't know the direction, so sometimes we need to flip it\n",
    "df_res2['roc_auc'] = 1-df_res2['roc_auc']\n",
    "df_res2['improvement'] = df_res2['roc_auc'] - df_res2['roc_auc_adapter']\n",
    "df_res2.sort_values('improvement', ascending=False)\n"
   ]
  },
  {
   "cell_type": "markdown",
   "metadata": {},
   "source": [
    "### Conformal"
   ]
  },
  {
   "cell_type": "code",
   "execution_count": 54,
   "metadata": {},
   "outputs": [],
   "source": [
    "\n",
    "import numpy as np\n",
    "from sklearn.naive_bayes import GaussianNB, BernoulliNB, ComplementNB, MultinomialNB\n",
    "from mapie.classification import MapieClassifier\n",
    "\n"
   ]
  },
  {
   "cell_type": "code",
   "execution_count": 83,
   "metadata": {},
   "outputs": [],
   "source": [
    "class MapieClassifier2(MapieClassifier):\n",
    "\n",
    "    def fit(self, X_train, y_train, sample_weight=None, X_val=None, y_val=None, **kwargs):\n",
    "        X_train = rearrange(X_train, 'b l h v -> b (l h v)')\n",
    "        return super().fit(X_train.numpy(), y_train.numpy(), sample_weight, **kwargs)\n",
    "\n",
    "    def predict_proba(self, X):\n",
    "        X = rearrange(X, 'b l h v -> b (l h v)').numpy()\n",
    "        return torch.from_numpy(super().predict(X)).float()\n"
   ]
  },
  {
   "cell_type": "code",
   "execution_count": 98,
   "metadata": {},
   "outputs": [
    {
     "data": {
      "text/html": [
       "<div>\n",
       "<style scoped>\n",
       "    .dataframe tbody tr th:only-of-type {\n",
       "        vertical-align: middle;\n",
       "    }\n",
       "\n",
       "    .dataframe tbody tr th {\n",
       "        vertical-align: top;\n",
       "    }\n",
       "\n",
       "    .dataframe thead th {\n",
       "        text-align: right;\n",
       "    }\n",
       "</style>\n",
       "<table border=\"1\" class=\"dataframe\">\n",
       "  <thead>\n",
       "    <tr style=\"text-align: right;\">\n",
       "      <th></th>\n",
       "      <th>roc_auc</th>\n",
       "      <th>improvement</th>\n",
       "      <th>acc</th>\n",
       "      <th>n</th>\n",
       "      <th>in_dist_adapter</th>\n",
       "      <th>in_dist_probe</th>\n",
       "      <th>balance</th>\n",
       "      <th>balance_proxy</th>\n",
       "      <th>roc_auc_adapter</th>\n",
       "      <th>roc_auc_base</th>\n",
       "    </tr>\n",
       "  </thead>\n",
       "  <tbody>\n",
       "    <tr>\n",
       "      <th>super_glue:axg</th>\n",
       "      <td>0.953922</td>\n",
       "      <td>-0.003291</td>\n",
       "      <td>0.953975</td>\n",
       "      <td>239</td>\n",
       "      <td>True</td>\n",
       "      <td>True</td>\n",
       "      <td>0.497908</td>\n",
       "      <td>0.355649</td>\n",
       "      <td>0.957213</td>\n",
       "      <td>0.853361</td>\n",
       "    </tr>\n",
       "    <tr>\n",
       "      <th>amazon_polarity</th>\n",
       "      <td>0.977179</td>\n",
       "      <td>-0.006923</td>\n",
       "      <td>0.977528</td>\n",
       "      <td>89</td>\n",
       "      <td>True</td>\n",
       "      <td>True</td>\n",
       "      <td>0.561798</td>\n",
       "      <td>0.94382</td>\n",
       "      <td>0.96359</td>\n",
       "      <td>0.984103</td>\n",
       "    </tr>\n",
       "    <tr>\n",
       "      <th>hans</th>\n",
       "      <td>0.807041</td>\n",
       "      <td>-0.007576</td>\n",
       "      <td>0.80597</td>\n",
       "      <td>67</td>\n",
       "      <td>True</td>\n",
       "      <td>True</td>\n",
       "      <td>0.492537</td>\n",
       "      <td>0.701493</td>\n",
       "      <td>0.722816</td>\n",
       "      <td>0.814617</td>\n",
       "    </tr>\n",
       "    <tr>\n",
       "      <th>glue:qnli</th>\n",
       "      <td>0.876533</td>\n",
       "      <td>-0.053233</td>\n",
       "      <td>0.870588</td>\n",
       "      <td>85</td>\n",
       "      <td>True</td>\n",
       "      <td>True</td>\n",
       "      <td>0.458824</td>\n",
       "      <td>0.835294</td>\n",
       "      <td>0.693423</td>\n",
       "      <td>0.929766</td>\n",
       "    </tr>\n",
       "    <tr>\n",
       "      <th>sst2</th>\n",
       "      <td>0.883469</td>\n",
       "      <td>-0.075203</td>\n",
       "      <td>0.883117</td>\n",
       "      <td>77</td>\n",
       "      <td>True</td>\n",
       "      <td>True</td>\n",
       "      <td>0.532468</td>\n",
       "      <td>0.844156</td>\n",
       "      <td>0.842818</td>\n",
       "      <td>0.958672</td>\n",
       "    </tr>\n",
       "    <tr>\n",
       "      <th>super_glue:rte</th>\n",
       "      <td>0.819444</td>\n",
       "      <td>-0.087384</td>\n",
       "      <td>0.821429</td>\n",
       "      <td>84</td>\n",
       "      <td>True</td>\n",
       "      <td>True</td>\n",
       "      <td>0.571429</td>\n",
       "      <td>0.833333</td>\n",
       "      <td>0.846065</td>\n",
       "      <td>0.906829</td>\n",
       "    </tr>\n",
       "    <tr>\n",
       "      <th>super_glue:boolq</th>\n",
       "      <td>0.635387</td>\n",
       "      <td>-0.290042</td>\n",
       "      <td>0.644195</td>\n",
       "      <td>534</td>\n",
       "      <td>False</td>\n",
       "      <td>False</td>\n",
       "      <td>0.453184</td>\n",
       "      <td>0.235955</td>\n",
       "      <td>0.912968</td>\n",
       "      <td>0.925429</td>\n",
       "    </tr>\n",
       "    <tr>\n",
       "      <th>imdb</th>\n",
       "      <td>0.247066</td>\n",
       "      <td>-0.715637</td>\n",
       "      <td>0.247191</td>\n",
       "      <td>534</td>\n",
       "      <td>False</td>\n",
       "      <td>False</td>\n",
       "      <td>0.486891</td>\n",
       "      <td>0.082397</td>\n",
       "      <td>0.962704</td>\n",
       "      <td>0.92952</td>\n",
       "    </tr>\n",
       "  </tbody>\n",
       "</table>\n",
       "</div>"
      ],
      "text/plain": [
       "                   roc_auc improvement       acc    n in_dist_adapter  \\\n",
       "super_glue:axg    0.953922   -0.003291  0.953975  239            True   \n",
       "amazon_polarity   0.977179   -0.006923  0.977528   89            True   \n",
       "hans              0.807041   -0.007576   0.80597   67            True   \n",
       "glue:qnli         0.876533   -0.053233  0.870588   85            True   \n",
       "sst2              0.883469   -0.075203  0.883117   77            True   \n",
       "super_glue:rte    0.819444   -0.087384  0.821429   84            True   \n",
       "super_glue:boolq  0.635387   -0.290042  0.644195  534           False   \n",
       "imdb              0.247066   -0.715637  0.247191  534           False   \n",
       "\n",
       "                 in_dist_probe   balance balance_proxy roc_auc_adapter  \\\n",
       "super_glue:axg            True  0.497908      0.355649        0.957213   \n",
       "amazon_polarity           True  0.561798       0.94382         0.96359   \n",
       "hans                      True  0.492537      0.701493        0.722816   \n",
       "glue:qnli                 True  0.458824      0.835294        0.693423   \n",
       "sst2                      True  0.532468      0.844156        0.842818   \n",
       "super_glue:rte            True  0.571429      0.833333        0.846065   \n",
       "super_glue:boolq         False  0.453184      0.235955        0.912968   \n",
       "imdb                     False  0.486891      0.082397        0.962704   \n",
       "\n",
       "                 roc_auc_base  \n",
       "super_glue:axg       0.853361  \n",
       "amazon_polarity      0.984103  \n",
       "hans                 0.814617  \n",
       "glue:qnli            0.929766  \n",
       "sst2                 0.958672  \n",
       "super_glue:rte       0.906829  \n",
       "super_glue:boolq     0.925429  \n",
       "imdb                  0.92952  "
      ]
     },
     "metadata": {},
     "output_type": "display_data"
    }
   ],
   "source": [
    "from sklearn.linear_model import LogisticRegression\n",
    "\n",
    "clf = LogisticRegression(random_state=42, max_iter=1000, class_weight='balanced',)\n",
    "model = MapieClassifier2(estimator=clf, \n",
    "                        # cv=\"prefit\",\n",
    "                        method=\"score\",                        \n",
    "                        )\n",
    "\n",
    "df_res = eval_ranking(model, ds_trainval, ds_test)\n",
    "df_res2 = analyze_dfres(df_res)\n"
   ]
  },
  {
   "cell_type": "code",
   "execution_count": null,
   "metadata": {},
   "outputs": [],
   "source": []
  }
 ],
 "metadata": {
  "kernelspec": {
   "display_name": ".venv",
   "language": "python",
   "name": "python3"
  },
  "language_info": {
   "codemirror_mode": {
    "name": "ipython",
    "version": 3
   },
   "file_extension": ".py",
   "mimetype": "text/x-python",
   "name": "python",
   "nbconvert_exporter": "python",
   "pygments_lexer": "ipython3",
   "version": "3.11.0rc1"
  }
 },
 "nbformat": 4,
 "nbformat_minor": 2
}
