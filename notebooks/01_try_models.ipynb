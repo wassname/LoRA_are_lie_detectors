{
 "cells": [
  {
   "cell_type": "code",
   "execution_count": null,
   "metadata": {},
   "outputs": [],
   "source": [
    "from transformers import AutoTokenizer, AutoModelForCausalLM\n",
    "import torch\n",
    "from IPython.display import display, HTML, Markdown\n",
    "from torch.utils.data import random_split, DataLoader, TensorDataset\n",
    "from loguru import logger\n",
    "import sys\n",
    "import pandas as pd\n",
    "from transformers import AutoTokenizer, AutoModelForSeq2SeqLM, AutoModelForMaskedLM, AutoModelForCausalLM, AutoConfig, PreTrainedTokenizerBase, PreTrainedTokenizer, GPTQConfig, BitsAndBytesConfig\n",
    "\n",
    "logger.remove()\n",
    "logger.add(sys.stderr, format=\"{time} {level} {message}\", level=\"INFO\")\n"
   ]
  },
  {
   "cell_type": "code",
   "execution_count": null,
   "metadata": {},
   "outputs": [],
   "source": [
    "# load my code\n",
    "%load_ext autoreload\n",
    "%autoreload 2\n",
    "from src.eval.collect import manual_collect2\n",
    "from src.eval.ds import ds2df, qc_ds, qc_dsdf\n",
    "from src.prompts.prompt_loading import load_prompts, format_prompt, load_preproc_dataset\n",
    "from src.models.load import load_model\n"
   ]
  },
  {
   "cell_type": "code",
   "execution_count": null,
   "metadata": {},
   "outputs": [],
   "source": [
    "model_ids = [\n",
    "    \"malhajar/phi-2-chat\",\n",
    "    \"Yhyu13/phi-2-sft-alpaca_gpt4_en-ep1\", # has benchmark!\n",
    "    \"venkycs/phi-2-ultrachat200k\",\n",
    "    \"Walmart-the-bag/phi-2-uncensored\",\n",
    "    \"Mit1208/phi-2-universal-NER\", # named entity recognition\n",
    "    \"chendelong/phi-2-finetuned-dialogstudio\",\n",
    "    \"TharunSiva/phi-2-oasst1-100steps\", # ?\n",
    "    \"Yhyu13/LMCocktail-phi-2-v1\", # merge\n",
    "\n",
    "]\n",
    "N = 80\n",
    "res = {}\n",
    "for model_id in model_ids:\n",
    "    print(model_id)\n",
    "\n",
    "    # load model\n",
    "    model, tokenizer = load_model(model_id, dtype=torch.float16)\n",
    "\n",
    "    # load dataset\n",
    "    ds = load_preproc_dataset(\"amazon_polarity\", tokenizer, N).with_format(\"torch\")\n",
    "\n",
    "    # eval\n",
    "    dl = DataLoader(ds, batch_size=4, shuffle=False, num_workers=0)\n",
    "    ds_out, f = manual_collect2(dl, model, get_residual=False)\n",
    "    print(f'for {model_id}:')\n",
    "    try:\n",
    "        qc_ds(ds_out)\n",
    "    except AssertionError as e:\n",
    "        print(e)\n",
    "    except:\n",
    "        logger.exception(f'failed for {model_id}')\n",
    "\n",
    "    # record overall acc\n",
    "    df = ds2df(ds)\n",
    "    df = df.rename(columns=lambda x: x.replace('_base', '')).copy()\n",
    "    d = df.query('instructed_to_lie==False')\n",
    "    acc = (d.label_instructed==d['ans']).mean()\n",
    "    res[model_id] = acc\n"
   ]
  }
 ],
 "metadata": {
  "language_info": {
   "name": "python"
  }
 },
 "nbformat": 4,
 "nbformat_minor": 2
}
