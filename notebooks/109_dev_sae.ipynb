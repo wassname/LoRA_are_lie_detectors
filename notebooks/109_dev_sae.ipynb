{
 "cells": [
  {
   "cell_type": "code",
   "execution_count": 2,
   "metadata": {},
   "outputs": [],
   "source": [
    "import os\n",
    "import numpy as np\n",
    "import pandas as pd\n",
    "from matplotlib import pyplot as plt\n",
    "from tqdm.auto import tqdm\n",
    "\n",
    "\n",
    "\n",
    "from typing import Optional, List, Dict, Union\n",
    "from jaxtyping import Float\n",
    "from torch import Tensor\n",
    "\n",
    "import torch\n",
    "import torch.nn as nn\n",
    "import torch.nn.functional as F\n",
    "\n",
    "from torch import Tensor\n",
    "from torch import optim\n",
    "from torch.utils.data import random_split, DataLoader, TensorDataset\n",
    "\n",
    "from pathlib import Path\n",
    "from einops import rearrange\n",
    "\n",
    "import transformers\n",
    "from transformers import (\n",
    "    AutoTokenizer,\n",
    "    AutoModelForCausalLM,\n",
    "    BitsAndBytesConfig,\n",
    "    AutoConfig,\n",
    ")\n",
    "from peft import (\n",
    "    get_peft_config,\n",
    "    get_peft_model,\n",
    "    LoraConfig,\n",
    "    TaskType,\n",
    "    LoftQConfig,\n",
    "    IA3Config,\n",
    ")\n",
    "from pathlib import Path\n",
    "import datasets\n",
    "from datasets import Dataset\n",
    "\n",
    "from loguru import logger\n",
    "\n",
    "logger.add(os.sys.stderr, format=\"{time} {level} {message}\", level=\"INFO\")\n",
    "\n",
    "# load my code\n",
    "%load_ext autoreload\n",
    "%autoreload 2\n",
    "\n",
    "import lightning.pytorch as pl\n",
    "\n",
    "from src.config import ExtractConfig\n",
    "from src.llms.load import load_model\n",
    "from src.helpers.torch_helpers import clear_mem\n",
    "from src.llms.phi.model_phi import PhiForCausalLMWHS\n",
    "from src.eval.ds import filter_ds_to_known\n",
    "from src.datasets.act_dm import ActivationDataModule\n",
    "\n",
    "# plt.style.use(\"ggplot\")\n",
    "# plt.style.use(\"seaborn-v0_8\")\n",
    "import seaborn as sns\n",
    "sns.set_theme('paper')\n"
   ]
  },
  {
   "cell_type": "markdown",
   "metadata": {},
   "source": [
    "# Original from callummcdougall/sae-exercises-mats\n",
    "\n",
    "https://github.com/callummcdougall/sae-exercises-mats/blob/116ecf3f8f7ffcd66cf628518009f81989e57bac/solutions.py"
   ]
  },
  {
   "cell_type": "code",
   "execution_count": 3,
   "metadata": {},
   "outputs": [
    {
     "name": "stdout",
     "output_type": "stream",
     "text": [
      "torch.Size([4, 3, 5])\n"
     ]
    },
    {
     "data": {
      "text/plain": [
       "torch.Size([4, 3, 5])"
      ]
     },
     "execution_count": 3,
     "metadata": {},
     "output_type": "execute_result"
    }
   ],
   "source": [
    "from torchinfo import summary\n",
    "\n",
    "batch_size = 4\n",
    "n_layers = 3\n",
    "n_channels = 5\n",
    "hidden = 2\n",
    "x = torch.rand([batch_size, n_layers, n_channels])\n",
    "print(x.shape)\n",
    "x = torch.rand([1, 1, n_channels])\n",
    "x = x.repeat([batch_size, n_layers, 1],)\n",
    "x.shape"
   ]
  },
  {
   "cell_type": "code",
   "execution_count": 4,
   "metadata": {},
   "outputs": [
    {
     "data": {
      "text/plain": [
       "==========================================================================================\n",
       "Layer (type:depth-idx)                   Output Shape              Param #\n",
       "==========================================================================================\n",
       "AutoEncoder                              [4]                       81\n",
       "==========================================================================================\n",
       "Total params: 81\n",
       "Trainable params: 81\n",
       "Non-trainable params: 0\n",
       "Total mult-adds (Units.MEGABYTES): 0\n",
       "==========================================================================================\n",
       "Input size (MB): 0.00\n",
       "Forward/backward pass size (MB): 0.00\n",
       "Params size (MB): 0.00\n",
       "Estimated Total Size (MB): 0.00\n",
       "=========================================================================================="
      ]
     },
     "execution_count": 4,
     "metadata": {},
     "output_type": "execute_result"
    }
   ],
   "source": [
    "\n",
    "from src.vae.conv_inception import PLAE, LinBnDrop, PLBase, recursive_requires_grad, accuracy, auroc\n",
    "\n",
    "from src.vae.sae import AutoEncoder, AutoEncoderConfig\n",
    "\n",
    "\n",
    "ae_cfg = AutoEncoderConfig(\n",
    "    n_instances=n_layers,\n",
    "    n_input_ae=n_channels,\n",
    "    n_hidden_ae=hidden,\n",
    "    tied_weights=False,\n",
    ")\n",
    "ae = AutoEncoder(\n",
    "    ae_cfg,\n",
    ")\n",
    "\n",
    "\n",
    "# with torch.no_grad():\n",
    "#     y = ae(x)\n",
    "\n",
    "summary(ae, input_data=x, depth=4)  # input_size=(batch_size, 1, 28, 28))\n"
   ]
  },
  {
   "cell_type": "code",
   "execution_count": null,
   "metadata": {},
   "outputs": [],
   "source": []
  },
  {
   "cell_type": "markdown",
   "metadata": {},
   "source": [
    "# A simpler version, with multi layers"
   ]
  },
  {
   "cell_type": "code",
   "execution_count": 78,
   "metadata": {},
   "outputs": [
    {
     "data": {
      "text/plain": [
       "==========================================================================================\n",
       "Layer (type:depth-idx)                   Output Shape              Param #\n",
       "==========================================================================================\n",
       "AutoEncoder                              [4]                       81\n",
       "==========================================================================================\n",
       "Total params: 81\n",
       "Trainable params: 81\n",
       "Non-trainable params: 0\n",
       "Total mult-adds (Units.MEGABYTES): 0\n",
       "==========================================================================================\n",
       "Input size (MB): 0.00\n",
       "Forward/backward pass size (MB): 0.00\n",
       "Params size (MB): 0.00\n",
       "Estimated Total Size (MB): 0.00\n",
       "=========================================================================================="
      ]
     },
     "execution_count": 78,
     "metadata": {},
     "output_type": "execute_result"
    }
   ],
   "source": [
    "\n",
    "from src.vae.conv_inception import PLAE, LinBnDrop, PLBase, recursive_requires_grad, accuracy, auroc\n",
    "\n",
    "from src.vae.sae2 import AutoEncoder, AutoEncoderConfig\n",
    "\n",
    "\n",
    "ae_cfg = AutoEncoderConfig(\n",
    "    n_instances=n_layers,\n",
    "    n_input_ae=n_channels,\n",
    "    n_hidden_ae=hidden,\n",
    "    tied_weights=False,\n",
    ")\n",
    "ae = AutoEncoder(\n",
    "    ae_cfg,\n",
    ")\n",
    "\n",
    "\n",
    "# with torch.no_grad():\n",
    "#     y = ae(x)\n",
    "\n",
    "summary(ae, input_data=x, depth=4)  # input_size=(batch_size, 1, 28, 28))\n"
   ]
  },
  {
   "cell_type": "code",
   "execution_count": 85,
   "metadata": {},
   "outputs": [
    {
     "data": {
      "text/plain": [
       "(torch.Size([4, 3, 5]), torch.Size([4, 3, 2]))"
      ]
     },
     "execution_count": 85,
     "metadata": {},
     "output_type": "execute_result"
    }
   ],
   "source": [
    "from src.vae.sae2 import Normed2dLinear\n",
    "\n",
    "l = Normed2dLinear(n_instances=n_layers, n_input_ae=n_channels, n_output=hidden)\n",
    "x.shape, l(x).shape"
   ]
  },
  {
   "cell_type": "code",
   "execution_count": 106,
   "metadata": {},
   "outputs": [
    {
     "data": {
      "text/plain": [
       "tensor([0.0548, 0.6078, 0.4261], grad_fn=<MeanBackward1>)"
      ]
     },
     "execution_count": 106,
     "metadata": {},
     "output_type": "execute_result"
    }
   ],
   "source": [
    "# Did it apply the same weights to each layer?\n",
    "l(x).mean(2).mean(0)"
   ]
  },
  {
   "cell_type": "code",
   "execution_count": 86,
   "metadata": {},
   "outputs": [
    {
     "data": {
      "text/plain": [
       "(torch.Size([3, 2]), torch.Size([4, 3, 5]), 5)"
      ]
     },
     "execution_count": 86,
     "metadata": {},
     "output_type": "execute_result"
    }
   ],
   "source": [
    "l.bias.shape, x.shape, n_channels"
   ]
  },
  {
   "cell_type": "code",
   "execution_count": 87,
   "metadata": {},
   "outputs": [
    {
     "data": {
      "text/plain": [
       "(torch.Size([4, 3, 5]), torch.Size([4, 3, 2]))"
      ]
     },
     "execution_count": 87,
     "metadata": {},
     "output_type": "execute_result"
    }
   ],
   "source": [
    "from sparse_autoencoder.autoencoder.components.unit_norm_decoder import UnitNormDecoder\n",
    "\n",
    "l2 = UnitNormDecoder(learnt_features=n_channels, decoded_features=hidden, n_components=n_layers)\n",
    "x.shape, l2(x).shape\n",
    "# TODO check norm"
   ]
  },
  {
   "cell_type": "code",
   "execution_count": 105,
   "metadata": {},
   "outputs": [
    {
     "data": {
      "text/plain": [
       "tensor([ 0.0327,  0.8120, -0.0023], grad_fn=<MeanBackward1>)"
      ]
     },
     "execution_count": 105,
     "metadata": {},
     "output_type": "execute_result"
    }
   ],
   "source": [
    "# Did it apply the same weights to each layer?\n",
    "l2(x).mean(2).mean(0)"
   ]
  },
  {
   "cell_type": "code",
   "execution_count": 88,
   "metadata": {},
   "outputs": [
    {
     "data": {
      "text/plain": [
       "(torch.Size([4, 3, 5]), torch.Size([4, 3, 2]))"
      ]
     },
     "execution_count": 88,
     "metadata": {},
     "output_type": "execute_result"
    }
   ],
   "source": [
    "l3 = nn.Linear(in_features=n_channels, out_features=hidden, bias=False)\n",
    "x.shape, l3(x).shape\n"
   ]
  },
  {
   "cell_type": "code",
   "execution_count": 104,
   "metadata": {},
   "outputs": [
    {
     "data": {
      "text/plain": [
       "tensor([-0.3358, -0.3358, -0.3358], grad_fn=<MeanBackward1>)"
      ]
     },
     "execution_count": 104,
     "metadata": {},
     "output_type": "execute_result"
    }
   ],
   "source": [
    "# Did it apply the same weights to each layer?\n",
    "l3(x).mean(2).mean(0)"
   ]
  },
  {
   "cell_type": "code",
   "execution_count": 90,
   "metadata": {},
   "outputs": [
    {
     "data": {
      "text/plain": [
       "torch.Size([4, 3, 5])"
      ]
     },
     "execution_count": 90,
     "metadata": {},
     "output_type": "execute_result"
    }
   ],
   "source": [
    "l2.weight.shape\n",
    "\n",
    "x.shape"
   ]
  },
  {
   "cell_type": "code",
   "execution_count": 109,
   "metadata": {},
   "outputs": [
    {
     "data": {
      "text/plain": [
       "(torch.Size([4, 3, 5]), torch.Size([4, 3, 2]))"
      ]
     },
     "execution_count": 109,
     "metadata": {},
     "output_type": "execute_result"
    }
   ],
   "source": [
    "class NormedLinear(nn.Linear):\n",
    "    def __init__(self, *args, **kwargs):\n",
    "        super().__init__(*args, **kwargs)\n",
    "\n",
    "        self.weight_norm()\n",
    "\n",
    "    @torch.no_grad\n",
    "    def weight_norm(self) -> None:\n",
    "        F.normalize(self.weight, dim=1, out=self.weight)\n",
    "\n",
    "class NormedLinears(nn.Module):\n",
    "    def __init__(self, n_instances: int, n_input_ae: int, n_output: int):\n",
    "        super().__init__()\n",
    "        self.linears = nn.ModuleList(NormedLinear(n_input_ae, n_output) for _ in range(n_instances))\n",
    "\n",
    "    def weight_norm(self) -> None:\n",
    "        for m in self.linears:\n",
    "            m.weight_norm()\n",
    "\n",
    "    def forward(self, x: Tensor) -> Tensor:\n",
    "        return torch.stack([m(x[:, i]) for i, m in enumerate(self.linears)], dim=1)\n",
    "\n",
    "    \n",
    "\n",
    "l5 = Normed2dLinear2(n_instances=n_layers, n_input_ae=n_channels, n_output=hidden)\n",
    "x.shape, l5(x).shape\n",
    "# TODO check norm"
   ]
  },
  {
   "cell_type": "code",
   "execution_count": 91,
   "metadata": {},
   "outputs": [
    {
     "data": {
      "text/plain": [
       "(torch.Size([4, 3, 5]), torch.Size([4, 3, 2]))"
      ]
     },
     "execution_count": 91,
     "metadata": {},
     "output_type": "execute_result"
    }
   ],
   "source": [
    "class NormedLinear(nn.Linear):\n",
    "    def __init__(self, n_instances, n_input_ae, n_output, bias=True):\n",
    "        super().__init__(in_features=n_instances*n_input_ae, out_features=n_instances*n_output, bias=bias)\n",
    "        self.n_instances = n_instances\n",
    "        self.n_input_ae = n_input_ae\n",
    "        self.n_output = n_output\n",
    "        self.weight_norm()\n",
    "\n",
    "    @torch.no_grad\n",
    "    def weight_norm(self) -> None:\n",
    "        F.normalize(self.weight, dim=-2, out=self.weight)\n",
    "\n",
    "    def forward(self, x):\n",
    "        x = rearrange(x, 'b n c -> b (n c)')\n",
    "        x = F.linear(x, self.weight)\n",
    "        x = rearrange(x, 'b (n o) -> b n o', n=self.n_instances)\n",
    "        return x\n",
    "    \n",
    "\n",
    "l4 = NormedLinear(n_instances=n_layers, n_input_ae=n_channels, n_output=hidden)\n",
    "x.shape, l4(x).shape\n",
    "# TODO check norm"
   ]
  },
  {
   "cell_type": "code",
   "execution_count": 103,
   "metadata": {},
   "outputs": [
    {
     "data": {
      "text/plain": [
       "tensor([-0.3438,  1.4669, -0.2119], grad_fn=<MeanBackward1>)"
      ]
     },
     "execution_count": 103,
     "metadata": {},
     "output_type": "execute_result"
    }
   ],
   "source": [
    "# Did it apply the same weights to each layer?\n",
    "l4(x).mean(2).mean(0)"
   ]
  },
  {
   "cell_type": "code",
   "execution_count": 93,
   "metadata": {},
   "outputs": [
    {
     "name": "stdout",
     "output_type": "stream",
     "text": [
      "torch.Size([3, 5, 2])\n"
     ]
    },
    {
     "data": {
      "text/plain": [
       "(tensor([0.5391, 0.7021, 0.6275, 0.6966, 0.5196], grad_fn=<MeanBackward1>),\n",
       " tensor([1., 1.], grad_fn=<MeanBackward1>))"
      ]
     },
     "execution_count": 93,
     "metadata": {},
     "output_type": "execute_result"
    }
   ],
   "source": [
    "print(l.weight.shape)\n",
    "nd2= torch.sqrt((l.weight ** 2).sum(1)).mean(0)\n",
    "nd1= torch.sqrt((l.weight ** 2).sum(2)).mean(0)\n",
    "nd1, nd2"
   ]
  },
  {
   "cell_type": "code",
   "execution_count": 94,
   "metadata": {},
   "outputs": [
    {
     "name": "stdout",
     "output_type": "stream",
     "text": [
      "torch.Size([3, 2, 5])\n"
     ]
    },
    {
     "data": {
      "text/plain": [
       "(tensor([1.6746, 1.4694], grad_fn=<MeanBackward1>),\n",
       " tensor([1., 1., 1., 1., 1.], grad_fn=<MeanBackward1>))"
      ]
     },
     "execution_count": 94,
     "metadata": {},
     "output_type": "execute_result"
    }
   ],
   "source": [
    "print(l2.weight.shape)\n",
    "nd2= torch.sqrt((l2.weight ** 2).sum(1)).mean(0)\n",
    "nd1= torch.sqrt((l2.weight ** 2).sum(2)).mean(0)\n",
    "nd1, nd2"
   ]
  },
  {
   "cell_type": "code",
   "execution_count": 65,
   "metadata": {},
   "outputs": [
    {
     "name": "stdout",
     "output_type": "stream",
     "text": [
      "torch.Size([2, 5])\n"
     ]
    },
    {
     "data": {
      "text/plain": [
       "(tensor(0.6134, grad_fn=<MeanBackward1>),\n",
       " tensor(0.3779, grad_fn=<MeanBackward1>))"
      ]
     },
     "execution_count": 65,
     "metadata": {},
     "output_type": "execute_result"
    }
   ],
   "source": [
    "print(l3.weight.shape)\n",
    "nd2= torch.sqrt((l3.weight ** 2).sum(0)).mean(0)\n",
    "nd1= torch.sqrt((l3.weight ** 2).sum(1)).mean(0)\n",
    "nd1, nd2"
   ]
  },
  {
   "cell_type": "code",
   "execution_count": 66,
   "metadata": {},
   "outputs": [
    {
     "name": "stdout",
     "output_type": "stream",
     "text": [
      "torch.Size([6, 15])\n"
     ]
    },
    {
     "data": {
      "text/plain": [
       "(tensor(1.5629, grad_fn=<MeanBackward1>), tensor(1., grad_fn=<MeanBackward1>))"
      ]
     },
     "execution_count": 66,
     "metadata": {},
     "output_type": "execute_result"
    }
   ],
   "source": [
    "print(l4.weight.shape)\n",
    "nd2= torch.sqrt((l4.weight ** 2).sum(0)).mean(0)\n",
    "nd1= torch.sqrt((l4.weight ** 2).sum(1)).mean(0)\n",
    "nd1, nd2"
   ]
  },
  {
   "cell_type": "code",
   "execution_count": 114,
   "metadata": {},
   "outputs": [
    {
     "name": "stdout",
     "output_type": "stream",
     "text": [
      "torch.Size([2, 5])\n"
     ]
    },
    {
     "data": {
      "text/plain": [
       "(tensor(1.4729, grad_fn=<MeanBackward1>), tensor(1., grad_fn=<MeanBackward1>))"
      ]
     },
     "execution_count": 114,
     "metadata": {},
     "output_type": "execute_result"
    }
   ],
   "source": [
    "w = l5.linears[0].weight\n",
    "print(l5.linears[0].weight.shape)\n",
    "nd2= torch.sqrt((w ** 2).sum(0)).mean(0)\n",
    "nd1= torch.sqrt((w ** 2).sum(1)).mean(0)\n",
    "nd1, nd2"
   ]
  },
  {
   "cell_type": "markdown",
   "metadata": {},
   "source": [
    "OK so, the advantage of the custom linear is\n",
    "\n",
    "- The normal linear would apply the same weights to each layer. as would a conv\n",
    "- Their one has differen't weights for each layer, but it's not all to all, which saves on computations"
   ]
  },
  {
   "cell_type": "code",
   "execution_count": 119,
   "metadata": {},
   "outputs": [
    {
     "data": {
      "text/plain": [
       "(torch.Size([4, 3, 5]), 4, 3, 5)"
      ]
     },
     "execution_count": 119,
     "metadata": {},
     "output_type": "execute_result"
    }
   ],
   "source": [
    "x.shape, batch_size, n_layers, n_channels"
   ]
  },
  {
   "cell_type": "code",
   "execution_count": 122,
   "metadata": {},
   "outputs": [
    {
     "data": {
      "text/plain": [
       "(torch.Size([4, 3, 5]), torch.Size([3]))"
      ]
     },
     "execution_count": 122,
     "metadata": {},
     "output_type": "execute_result"
    }
   ],
   "source": [
    "l = nn.BatchNorm1d(n_layers)\n",
    "l(x).shape, l.running_mean.shape"
   ]
  },
  {
   "cell_type": "code",
   "execution_count": 128,
   "metadata": {},
   "outputs": [
    {
     "ename": "AttributeError",
     "evalue": "'LayerNorm' object has no attribute 'running_mean'",
     "output_type": "error",
     "traceback": [
      "\u001b[0;31m---------------------------------------------------------------------------\u001b[0m",
      "\u001b[0;31mAttributeError\u001b[0m                            Traceback (most recent call last)",
      "Cell \u001b[0;32mIn[128], line 2\u001b[0m\n\u001b[1;32m      1\u001b[0m l \u001b[38;5;241m=\u001b[39m nn\u001b[38;5;241m.\u001b[39mLayerNorm(n_channels)\n\u001b[0;32m----> 2\u001b[0m l(x)\u001b[38;5;241m.\u001b[39mshape, \u001b[43ml\u001b[49m\u001b[38;5;241;43m.\u001b[39;49m\u001b[43mrunning_mean\u001b[49m\u001b[38;5;241m.\u001b[39mshape\n",
      "File \u001b[0;32m/media/wassname/SGIronWolf/projects5/elk/sgd_probes_are_lie_detectors/.venv/lib/python3.11/site-packages/torch/nn/modules/module.py:1695\u001b[0m, in \u001b[0;36mModule.__getattr__\u001b[0;34m(self, name)\u001b[0m\n\u001b[1;32m   1693\u001b[0m     \u001b[38;5;28;01mif\u001b[39;00m name \u001b[38;5;129;01min\u001b[39;00m modules:\n\u001b[1;32m   1694\u001b[0m         \u001b[38;5;28;01mreturn\u001b[39;00m modules[name]\n\u001b[0;32m-> 1695\u001b[0m \u001b[38;5;28;01mraise\u001b[39;00m \u001b[38;5;167;01mAttributeError\u001b[39;00m(\u001b[38;5;124mf\u001b[39m\u001b[38;5;124m\"\u001b[39m\u001b[38;5;124m'\u001b[39m\u001b[38;5;132;01m{\u001b[39;00m\u001b[38;5;28mtype\u001b[39m(\u001b[38;5;28mself\u001b[39m)\u001b[38;5;241m.\u001b[39m\u001b[38;5;18m__name__\u001b[39m\u001b[38;5;132;01m}\u001b[39;00m\u001b[38;5;124m'\u001b[39m\u001b[38;5;124m object has no attribute \u001b[39m\u001b[38;5;124m'\u001b[39m\u001b[38;5;132;01m{\u001b[39;00mname\u001b[38;5;132;01m}\u001b[39;00m\u001b[38;5;124m'\u001b[39m\u001b[38;5;124m\"\u001b[39m)\n",
      "\u001b[0;31mAttributeError\u001b[0m: 'LayerNorm' object has no attribute 'running_mean'"
     ]
    }
   ],
   "source": [
    "l = nn.LayerNorm(n_channels)\n",
    "l(x).shape"
   ]
  },
  {
   "cell_type": "code",
   "execution_count": 134,
   "metadata": {},
   "outputs": [
    {
     "data": {
      "text/plain": [
       "(torch.Size([4, 3, 5]), torch.Size([3]))"
      ]
     },
     "execution_count": 134,
     "metadata": {},
     "output_type": "execute_result"
    }
   ],
   "source": [
    "l = nn.InstanceNorm1d(n_layers, affine=False, track_running_stats=True)\n",
    "l(x).shape, l.running_mean.shape"
   ]
  },
  {
   "cell_type": "code",
   "execution_count": 139,
   "metadata": {},
   "outputs": [
    {
     "data": {
      "text/plain": [
       "torch.Size([4, 3, 5])"
      ]
     },
     "execution_count": 139,
     "metadata": {},
     "output_type": "execute_result"
    }
   ],
   "source": [
    "from src.vae.sae2 import Affines\n",
    "l = Affines(n_layers, n_channels)\n",
    "l(x).shape"
   ]
  },
  {
   "cell_type": "code",
   "execution_count": 142,
   "metadata": {},
   "outputs": [
    {
     "data": {
      "text/plain": [
       "torch.Size([5])"
      ]
     },
     "execution_count": 142,
     "metadata": {},
     "output_type": "execute_result"
    }
   ],
   "source": [
    "l.affines[0].running_mean.shape"
   ]
  },
  {
   "cell_type": "code",
   "execution_count": 144,
   "metadata": {},
   "outputs": [
    {
     "data": {
      "text/plain": [
       "[0, 1, 2, 3, 4, 5, 6, 7, 8, 9]"
      ]
     },
     "execution_count": 144,
     "metadata": {},
     "output_type": "execute_result"
    }
   ],
   "source": [
    "list(range(10))"
   ]
  },
  {
   "cell_type": "code",
   "execution_count": 146,
   "metadata": {},
   "outputs": [
    {
     "data": {
      "text/plain": [
       "True"
      ]
     },
     "execution_count": 146,
     "metadata": {},
     "output_type": "execute_result"
    },
    {
     "ename": "",
     "evalue": "",
     "output_type": "error",
     "traceback": [
      "\u001b[1;31mThe Kernel crashed while executing code in the the current cell or a previous cell. Please review the code in the cell(s) to identify a possible cause of the failure. Click <a href='https://aka.ms/vscodeJupyterKernelCrash'>here</a> for more info. View Jupyter <a href='command:jupyter.viewOutput'>log</a> for further details."
     ]
    }
   ],
   "source": []
  },
  {
   "cell_type": "code",
   "execution_count": 9,
   "metadata": {},
   "outputs": [
    {
     "data": {
      "text/plain": [
       "[20345, 7382, 2678, 972, 352, 128]"
      ]
     },
     "execution_count": 9,
     "metadata": {},
     "output_type": "execute_result"
    }
   ],
   "source": [
    "import numpy as np\n",
    "# We want a pyramidal, log spaced, hidden states.\n",
    "n_input_ae = 20345\n",
    "depth = 5\n",
    "n_hidden_ae = 128\n",
    "encoder_sizes = (\n",
    "    np.logspace(\n",
    "        np.log10(n_input_ae), np.log10(n_hidden_ae), depth + 1\n",
    "    ).astype(int)\n",
    "    \n",
    ")\n",
    "# encoder_sizes = encoder_sizes // 8 # make them even smaller\n",
    "# encoder_sizes = encoder_sizes.clip(n_hidden_ae, n_input_ae)\n",
    "\n",
    "encoder_sizes = [n_input_ae] + list(encoder_sizes[1:-1]) + [n_hidden_ae]\n",
    "encoder_sizes"
   ]
  },
  {
   "cell_type": "code",
   "execution_count": 93,
   "metadata": {},
   "outputs": [
    {
     "name": "stdout",
     "output_type": "stream",
     "text": [
      "0.05 [23040   128   128   128   128]\n",
      "0.09090909090909091 [23040  2048  2048   128   128]\n",
      "0.1 [23040  1024  1024   128   128]\n",
      "0.2 [23040  7776  3125   243   128]\n",
      "0.5 [23040 13456  6561  2116   128]\n",
      "1 [23040 17312 11584  5856   128]\n",
      "2 [23040 19953 16291 11520   128]\n",
      "3 [23040 20933 18286 14514   128]\n",
      "4 [23040 21441 19374 16291   128]\n",
      "5 [23040   128   128   128   128]\n"
     ]
    },
    {
     "name": "stderr",
     "output_type": "stream",
     "text": [
      "/media/wassname/SGIronWolf/projects5/elk/sgd_probes_are_lie_detectors/.venv/lib/python3.11/site-packages/numpy/core/function_base.py:182: RuntimeWarning: invalid value encountered in cast\n",
      "  return y.astype(dtype, copy=False)\n",
      "/tmp/ipykernel_2408967/2821752335.py:3: RuntimeWarning: invalid value encountered in power\n",
      "  s =  np.power(np.linspace(start**power, end**power, num_elements, dtype=int), 1/power).astype(int)\n",
      "/tmp/ipykernel_2408967/2821752335.py:3: RuntimeWarning: invalid value encountered in cast\n",
      "  s =  np.power(np.linspace(start**power, end**power, num_elements, dtype=int), 1/power).astype(int)\n"
     ]
    },
    {
     "data": {
      "text/plain": [
       "<matplotlib.legend.Legend at 0x7fd21d0ace50>"
      ]
     },
     "execution_count": 93,
     "metadata": {},
     "output_type": "execute_result"
    },
    {
     "data": {
      "image/png": "[encoded data removed]",
      "text/plain": [
       "<Figure size 640x480 with 1 Axes>"
      ]
     },
     "metadata": {},
     "output_type": "display_data"
    },
    {
     "ename": "",
     "evalue": "",
     "output_type": "error",
     "traceback": [
      "\u001b[1;31mThe Kernel crashed while executing code in the the current cell or a previous cell. Please review the code in the cell(s) to identify a possible cause of the failure. Click <a href='https://aka.ms/vscodeJupyterKernelCrash'>here</a> for more info. View Jupyter <a href='command:jupyter.viewOutput'>log</a> for further details."
     ]
    }
   ],
   "source": [
    "# Custom power spacing\n",
    "def power_sequence(start: int, end: int, num_elements: int, power: int = 2):\n",
    "    s =  np.power(np.linspace(start**power, end**power, num_elements, dtype=int), 1/power).astype(int)\n",
    "    s = np.array([start] + list(s[1:-1]) + [end])\n",
    "    s = s.clip(end, start)\n",
    "\n",
    "    assert (np.array(s)>1).all(), 'should be positive'\n",
    "    assert (np.diff(s)<=0).all(), 'should not be increasing'\n",
    "    return s\n",
    "\n",
    "def power_sequence_int(start: int, end: int, num_elements: int, power: int = 2):\n",
    "    s = power_sequence(start, end, num_elements, power)\n",
    "    # print(s)\n",
    "    # ensure no dups, and that we have the right number of elements, and start and end are there\n",
    "    assert s[0] == start\n",
    "    assert s[-1] == end\n",
    "    assert len(s) == num_elements\n",
    "    # assert len(set(s)) == num_elements\n",
    "    assert (np.diff(s)<=0).all(), 'should not be increasing'\n",
    "    assert (np.array(s)>1).all(), 'should be positive'\n",
    "    return s\n",
    "\n",
    "\n",
    "n_input_ae = 23040\n",
    "depth = 4\n",
    "n_hidden_ae = 128\n",
    "\n",
    "\n",
    "for p in [1./20, 1./11, 1/10, 1/5, 1/2, 1, 2, 3, 4, 5]:\n",
    "    s = power_sequence(n_input_ae, n_hidden_ae, depth + 1, power=p)\n",
    "    print(p, s)\n",
    "    plt.plot(s, label=p, marker='o')\n",
    "plt.legend()"
   ]
  },
  {
   "cell_type": "code",
   "execution_count": 92,
   "metadata": {},
   "outputs": [
    {
     "name": "stdout",
     "output_type": "stream",
     "text": [
      "linear [23040 17312 11584  5856   128]\n",
      "log [23040  6290  1717   468   128]\n",
      "log2 [23040  6290  1717   468   128]\n"
     ]
    },
    {
     "data": {
      "text/plain": [
       "<matplotlib.legend.Legend at 0x7fd21d039690>"
      ]
     },
     "execution_count": 92,
     "metadata": {},
     "output_type": "execute_result"
    },
    {
     "data": {
      "image/png": "[encoded data removed]",
      "text/plain": [
       "<Figure size 640x480 with 1 Axes>"
      ]
     },
     "metadata": {},
     "output_type": "display_data"
    }
   ],
   "source": [
    "import numpy as np\n",
    "\n",
    "\n",
    "\n",
    "# Linear sequence\n",
    "def linear_sequence(start: int, end: int, num_elements: int, mode=\"linear\"):\n",
    "    if mode==\"linear\":\n",
    "        s = np.linspace(start, end, num_elements, dtype=float)\n",
    "    elif mode==\"log\":\n",
    "        s = np.logspace(np.log10(start), np.log10(end), num_elements, dtype=float, base=10)\n",
    "    elif mode==\"log2\":\n",
    "        s = np.logspace(np.log2(start), np.log2(end), num_elements, dtype=float, base=2)\n",
    "    else:\n",
    "        raise ValueError(f\"Unknown mode {mode}\")\n",
    "    # print(mode, s)\n",
    "    s = np.array([start] + list(s[1:-1]) + [end]).astype(int)\n",
    "    s = s.clip(end, start)\n",
    "    assert (np.diff(s)<=0).all(), 'should not be increasing'\n",
    "    return s\n",
    "\n",
    "\n",
    "for mode in [\"linear\", \"log\", \"log2\",]:\n",
    "    s = linear_sequence(n_input_ae, n_hidden_ae, depth + 3, mode=mode)\n",
    "    print(mode, s)\n",
    "    plt.plot(s, label=mode, marker='o')\n",
    "plt.legend()"
   ]
  },
  {
   "cell_type": "markdown",
   "metadata": {},
   "source": [
    "# Scheduler"
   ]
  },
  {
   "cell_type": "code",
   "execution_count": 21,
   "metadata": {},
   "outputs": [],
   "source": [
    "import torch.optim as optim\n",
    "import torch\n",
    "\n",
    "total_steps = 100\n",
    "lr = 1e-3\n",
    "lr_min = 1e-6\n",
    "verbose = False\n",
    "s = optim.lr_scheduler.CyclicLR(optim.Adam([torch.zeros(1)]), base_lr=lr_min, max_lr=lr, step_size_up=total_steps//2, step_size_down=total_steps//2, mode='triangular2', cycle_momentum=False, verbose=verbose)\n",
    "\n",
    "s1 = optim.lr_scheduler.CosineAnnealingLR(optim.Adam([torch.zeros(1)]), T_max=total_steps, eta_min=lr_min, verbose=verbose)\n",
    "\n",
    "s2 = optim.lr_scheduler.CosineAnnealingWarmRestarts(optim.Adam([torch.zeros(1)]), T_0=total_steps//2, T_mult=1, eta_min=lr_min, verbose=verbose)"
   ]
  },
  {
   "cell_type": "code",
   "execution_count": 22,
   "metadata": {},
   "outputs": [
    {
     "name": "stderr",
     "output_type": "stream",
     "text": [
      "/media/wassname/SGIronWolf/projects5/elk/sgd_probes_are_lie_detectors/.venv/lib/python3.11/site-packages/torch/optim/lr_scheduler.py:136: UserWarning: Detected call of `lr_scheduler.step()` before `optimizer.step()`. In PyTorch 1.1.0 and later, you should call them in the opposite order: `optimizer.step()` before `lr_scheduler.step()`.  Failure to do this will result in PyTorch skipping the first value of the learning rate schedule. See more details at https://pytorch.org/docs/stable/optim.html#how-to-adjust-learning-rate\n",
      "  warnings.warn(\"Detected call of `lr_scheduler.step()` before `optimizer.step()`. \"\n"
     ]
    },
    {
     "data": {
      "text/plain": [
       "<Axes: >"
      ]
     },
     "execution_count": 22,
     "metadata": {},
     "output_type": "execute_result"
    },
    {
     "data": {
      "image/png": "[encoded data removed]",
      "text/plain": [
       "<Figure size 640x480 with 1 Axes>"
      ]
     },
     "metadata": {},
     "output_type": "display_data"
    }
   ],
   "source": [
    "import pandas as pd\n",
    "\n",
    "data = []\n",
    "\n",
    "schedulers = dict(cyclic=s, cosine=s1, cosinewarm=s2)\n",
    "for i in range(total_steps):\n",
    "    row = {}\n",
    "    for n, scheduler in schedulers.items():\n",
    "        scheduler.step()\n",
    "        row[n]=scheduler.get_last_lr()[0]\n",
    "    data.append(row)\n",
    "df_lr = pd.DataFrame(data)\n",
    "df_lr.plot()"
   ]
  },
  {
   "cell_type": "code",
   "execution_count": null,
   "metadata": {},
   "outputs": [],
   "source": []
  },
  {
   "cell_type": "code",
   "execution_count": null,
   "metadata": {},
   "outputs": [],
   "source": []
  }
 ],
 "metadata": {
  "kernelspec": {
   "display_name": ".venv",
   "language": "python",
   "name": "python3"
  },
  "language_info": {
   "codemirror_mode": {
    "name": "ipython",
    "version": 3
   },
   "file_extension": ".py",
   "mimetype": "text/x-python",
   "name": "python",
   "nbconvert_exporter": "python",
   "pygments_lexer": "ipython3",
   "version": "3.11.0rc1"
  }
 },
 "nbformat": 4,
 "nbformat_minor": 2
}
