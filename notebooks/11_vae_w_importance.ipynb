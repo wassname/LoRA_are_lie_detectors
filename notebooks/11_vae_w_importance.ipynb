{
 "cells": [
  {
   "cell_type": "code",
   "execution_count": 1,
   "metadata": {},
   "outputs": [],
   "source": [
    "import os\n",
    "import numpy as np\n",
    "import pandas as pd\n",
    "from matplotlib import pyplot as plt\n",
    "from tqdm.auto import tqdm\n",
    "\n",
    "\n",
    "\n",
    "from typing import Optional, List, Dict, Union\n",
    "from jaxtyping import Float\n",
    "from torch import Tensor\n",
    "\n",
    "import torch\n",
    "import torch.nn as nn\n",
    "import torch.nn.functional as F\n",
    "\n",
    "from torch import Tensor\n",
    "from torch import optim\n",
    "from torch.utils.data import random_split, DataLoader, TensorDataset\n",
    "\n",
    "from pathlib import Path\n",
    "from einops import rearrange\n",
    "\n",
    "import transformers\n",
    "from transformers import (\n",
    "    AutoTokenizer,\n",
    "    AutoModelForCausalLM,\n",
    "    BitsAndBytesConfig,\n",
    "    AutoConfig,\n",
    ")\n",
    "from peft import (\n",
    "    get_peft_config,\n",
    "    get_peft_model,\n",
    "    LoraConfig,\n",
    "    TaskType,\n",
    "    LoftQConfig,\n",
    "    IA3Config,\n",
    ")\n",
    "\n",
    "import datasets\n",
    "from datasets import Dataset\n",
    "\n",
    "from loguru import logger\n",
    "\n",
    "logger.add(os.sys.stderr, format=\"{time} {level} {message}\", level=\"INFO\")\n",
    "\n",
    "# load my code\n",
    "%load_ext autoreload\n",
    "%autoreload 2\n",
    "\n",
    "import lightning.pytorch as pl\n",
    "\n",
    "from src.config import ExtractConfig\n",
    "from src.models.load import load_model\n",
    "from src.helpers.torch_helpers import clear_mem\n",
    "from src.models.phi.model_phi import PhiForCausalLMWHS\n",
    "from src.eval.ds import filter_ds_to_known\n",
    "\n",
    "# plt.style.use(\"ggplot\")\n",
    "plt.style.use(\"seaborn-v0_8-paper\")\n"
   ]
  },
  {
   "cell_type": "code",
   "execution_count": 2,
   "metadata": {},
   "outputs": [],
   "source": [
    "# params\n",
    "\n",
    "# cfg = ExtractConfig(\n",
    "#     # model=\"microsoft/phi-2\",\n",
    "#     # # batch_size=1,\n",
    "#     # prompt_format=\"phi\",\n",
    "# )\n",
    "# cfg\n",
    "\n",
    "# params\n",
    "batch_size = 32\n",
    "lr = 4e-3\n",
    "wd = 1e-4\n",
    "\n",
    "MAX_ROWS = 2000\n",
    "\n",
    "SKIP=5 # skip initial N layers\n",
    "STRIDE=4 # skip every N layers\n",
    "DECIMATE=1 # discard N features for speed\n",
    "\n",
    "device = \"cuda:0\"\n",
    "max_epochs = 23\n",
    "\n",
    "VAE_EPOCH_MULT = 2\n",
    "l1_coeff = 1.0e-1  # neel uses 3e-4 ! https://github.dev/neelnanda-io/1L-Sparse-Autoencoder/blob/bcae01328a2f41d24bd4a9160828f2fc22737f75/utils.py#L106, but them they sum l1 where mean l2\n",
    "    # x_feats=x_feats. other use 1e-1\n"
   ]
  },
  {
   "cell_type": "code",
   "execution_count": null,
   "metadata": {},
   "outputs": [],
   "source": []
  },
  {
   "cell_type": "code",
   "execution_count": null,
   "metadata": {},
   "outputs": [],
   "source": []
  },
  {
   "cell_type": "code",
   "execution_count": 3,
   "metadata": {},
   "outputs": [
    {
     "name": "stderr",
     "output_type": "stream",
     "text": [
      "/media/wassname/SGIronWolf/projects5/elk/sgd_probes_are_lie_detectors/.venv/lib/python3.11/site-packages/datasets/table.py:1421: FutureWarning: promote has been superseded by mode='default'.\n",
      "  table = cls._concat_blocks(blocks, axis=0)\n"
     ]
    },
    {
     "name": "stdout",
     "output_type": "stream",
     "text": [
      "select rows are 74.58% based on knowledge\n"
     ]
    },
    {
     "data": {
      "text/plain": [
       "Dataset({\n",
       "    features: ['end_logits_base', 'choice_probs_base', 'binary_ans_base', 'label_true_base', 'label_instructed_base', 'instructed_to_lie_base', 'sys_instr_name_base', 'example_i_base', 'ds_string_base', 'template_name_base', 'correct_truth_telling_base', 'correct_instruction_following_base', 'end_residual_Wqkv_base', 'end_residual_fc1_base', 'end_logits_adapt', 'choice_probs_adapt', 'binary_ans_adapt', 'label_true_adapt', 'label_instructed_adapt', 'instructed_to_lie_adapt', 'sys_instr_name_adapt', 'example_i_adapt', 'ds_string_adapt', 'template_name_adapt', 'correct_truth_telling_adapt', 'correct_instruction_following_adapt', 'end_residual_Wqkv_adapt', 'end_residual_fc1_adapt'],\n",
       "    num_rows: 1121\n",
       "})"
      ]
     },
     "execution_count": 3,
     "metadata": {},
     "output_type": "execute_result"
    }
   ],
   "source": [
    "# load hidden state from a previously loaded adapter\n",
    "# the columns with _base are from the base model, and adapt from adapter\n",
    "# FROM TRAINING TRUTH\n",
    "f1_ood = '/media/wassname/SGIronWolf/projects5/elk/sgd_probes_are_lie_detectors/notebooks/lightning_logs/version_276/hidden_states/.ds/ds_OOD_1e9f2652c6cc48e7'\n",
    "f1_val = '/media/wassname/SGIronWolf/projects5/elk/sgd_probes_are_lie_detectors/notebooks/lightning_logs/version_276/hidden_states/.ds/ds_valtest_afd38b0b5a0cfe5c'\n",
    "# f1_val = f1_ood\n",
    "ds_val = Dataset.from_file(f1_val)\n",
    "ds_ood = Dataset.from_file(f1_ood)\n",
    "\n",
    "ds_out = datasets.interleave_datasets([ds_val, ds_ood], seed=42, \n",
    "                                    #   probabilities=[0.5, 0.5]\n",
    "                                      )\n",
    "ds_out2 = filter_ds_to_known(ds_out, verbose=True)\n",
    "\n",
    "# ds_out2 = ds_out2.select_columns(['end_residual_stream_base', 'end_residual_stream_adapt', 'binary_ans_base', 'binary_ans_adapt'])\n",
    "# ds_known1 = ds_out\n",
    "# ds_known1\n",
    "ds_out2\n",
    "# 1m 17 sec for 2k samples 1st time, 1 s 2nd time\n"
   ]
  },
  {
   "cell_type": "code",
   "execution_count": 4,
   "metadata": {},
   "outputs": [],
   "source": [
    "MAX_SAMPLES = min(len(ds_out2), MAX_ROWS*2)\n",
    "ds_out2 = ds_out2.select(range(0, MAX_SAMPLES))\n"
   ]
  },
  {
   "cell_type": "code",
   "execution_count": 5,
   "metadata": {},
   "outputs": [
    {
     "name": "stdout",
     "output_type": "stream",
     "text": [
      "['sst2', 'hans', 'super_glue:rte', 'glue:qnli', 'amazon_polarity'] ['super_glue:boolq', 'imdb', 'super_glue:axg']\n"
     ]
    },
    {
     "data": {
      "application/vnd.jupyter.widget-view+json": {
       "model_id": "9230ddd5692043038b226cdc6bcb5de9",
       "version_major": 2,
       "version_minor": 0
      },
      "text/plain": [
       "Filter:   0%|          | 0/1121 [00:00<?, ? examples/s]"
      ]
     },
     "metadata": {},
     "output_type": "display_data"
    },
    {
     "data": {
      "text/plain": [
       "(639, 639)"
      ]
     },
     "execution_count": 5,
     "metadata": {},
     "output_type": "execute_result"
    }
   ],
   "source": [
    "insample_datasets = list(set(ds_val['ds_string_base']))\n",
    "outsample_datasets = list(set(ds_ood['ds_string_base']))\n",
    "print(insample_datasets, outsample_datasets)\n",
    "\n",
    "\n",
    "ds_trainval = ds_out2.filter(lambda ds_string_base: ds_string_base in insample_datasets, input_columns=['ds_string_base'])\n",
    "ds_test = ds_out2.filter(lambda ds_string_base: ds_string_base not in outsample_datasets, input_columns=['ds_string_base'])\n",
    "\n",
    "MAX_SAMPLES = min(len(ds_trainval), MAX_ROWS)\n",
    "ds_trainval = ds_trainval.select(range(MAX_SAMPLES))\n",
    "\n",
    "MAX_SAMPLES = min(len(ds_test), MAX_ROWS)\n",
    "ds_test = ds_test.select(range(MAX_SAMPLES))\n",
    "\n",
    "len(ds_trainval), len(ds_test)\n"
   ]
  },
  {
   "cell_type": "code",
   "execution_count": 6,
   "metadata": {},
   "outputs": [
    {
     "data": {
      "text/plain": [
       "{'end_logits_base': torch.Size([51200]),\n",
       " 'choice_probs_base': torch.Size([2]),\n",
       " 'binary_ans_base': torch.Size([]),\n",
       " 'label_true_base': torch.Size([]),\n",
       " 'label_instructed_base': torch.Size([]),\n",
       " 'instructed_to_lie_base': torch.Size([]),\n",
       " 'sys_instr_name_base': 1,\n",
       " 'example_i_base': torch.Size([]),\n",
       " 'ds_string_base': 1,\n",
       " 'template_name_base': 1,\n",
       " 'correct_truth_telling_base': torch.Size([]),\n",
       " 'correct_instruction_following_base': torch.Size([]),\n",
       " 'end_residual_Wqkv_base': torch.Size([32, 7679]),\n",
       " 'end_residual_fc1_base': torch.Size([32, 10239]),\n",
       " 'end_logits_adapt': torch.Size([51200]),\n",
       " 'choice_probs_adapt': torch.Size([2]),\n",
       " 'binary_ans_adapt': torch.Size([]),\n",
       " 'label_true_adapt': torch.Size([]),\n",
       " 'label_instructed_adapt': torch.Size([]),\n",
       " 'instructed_to_lie_adapt': torch.Size([]),\n",
       " 'sys_instr_name_adapt': 1,\n",
       " 'example_i_adapt': torch.Size([]),\n",
       " 'ds_string_adapt': 1,\n",
       " 'template_name_adapt': 1,\n",
       " 'correct_truth_telling_adapt': torch.Size([]),\n",
       " 'correct_instruction_following_adapt': torch.Size([]),\n",
       " 'end_residual_Wqkv_adapt': torch.Size([32, 7679]),\n",
       " 'end_residual_fc1_adapt': torch.Size([32, 10239])}"
      ]
     },
     "execution_count": 6,
     "metadata": {},
     "output_type": "execute_result"
    }
   ],
   "source": [
    "def shape(v):\n",
    "    if isinstance(v, (Tensor, np.ndarray)):\n",
    "        return v.shape\n",
    "    elif isinstance(v, dict):\n",
    "        return {k:shape(v) for k,v in v.items()}\n",
    "    elif isinstance(v, list):\n",
    "        return len(v)\n",
    "    else:\n",
    "        return 1\n",
    "{k:shape(v) for k,v in ds_trainval.with_format('torch')[0].items()}\n"
   ]
  },
  {
   "cell_type": "code",
   "execution_count": 7,
   "metadata": {},
   "outputs": [
    {
     "data": {
      "application/vnd.jupyter.widget-view+json": {
       "model_id": "c2071401bb1c4676874c475b1a95f9fe",
       "version_major": 2,
       "version_minor": 0
      },
      "text/plain": [
       "Map:   0%|          | 0/639 [00:00<?, ? examples/s]"
      ]
     },
     "metadata": {},
     "output_type": "display_data"
    }
   ],
   "source": [
    "def ds2xy(row):\n",
    "    X1 = torch.stack([row['end_residual_fc1_base'], row['end_residual_fc1_adapt']], dim=-1)\n",
    "    X2 = torch.stack([row['end_residual_Wqkv_base'], row['end_residual_Wqkv_adapt']], dim=-1)\n",
    "    # X = torch.concat([row['end_residual_fc1_base'], row['end_residual_Wqkv_base']], dim=-1)[SKIP::STRIDE] # [layers, features, base/adapt]\n",
    "    X = torch.concat([X1, X2], dim=1)[SKIP::STRIDE, ::DECIMATE] # [layers, features, base/adapt]\n",
    "    # X = X1[SKIP::STRIDE] # [layers, features, base/adapt]\n",
    "    y = row['binary_ans_base']-row['binary_ans_adapt']\n",
    "    return dict(X=X, y=y)\n",
    "\n",
    "\n",
    "def prepare_ds(ds):\n",
    "    \"\"\"\n",
    "    prepare a dataset for training\n",
    "\n",
    "    this should front load much of the computation\n",
    "    it should restrict it to the needed rows X and y\n",
    "    \n",
    "    \"\"\"\n",
    "    ds = (ds\n",
    "          .with_format(\"torch\")\n",
    "          .select_columns(['end_residual_fc1_base', 'end_residual_fc1_adapt',\n",
    "                                                'end_residual_Wqkv_base', 'end_residual_Wqkv_adapt',\n",
    "                                                'binary_ans_base', 'binary_ans_adapt'])\n",
    "          .map(ds2xy)\n",
    "          .select_columns(['X', 'y'])\n",
    "    )\n",
    "    return ds\n",
    "\n",
    "\n",
    "ds_trainval2 = prepare_ds(ds_trainval)\n",
    "ds_test2 = prepare_ds(ds_test)\n",
    "\n",
    "# next(iter(ds_trainval2)).keys()\n"
   ]
  },
  {
   "cell_type": "code",
   "execution_count": 8,
   "metadata": {},
   "outputs": [
    {
     "data": {
      "text/plain": [
       "<src.datasets.dm.DeceptionDataModule at 0x7fb2e40a2910>"
      ]
     },
     "execution_count": 8,
     "metadata": {},
     "output_type": "execute_result"
    }
   ],
   "source": [
    "from src.datasets.dm import DeceptionDataModule\n",
    "\n",
    "# .select_columns(self.x_cols)\n",
    "\n",
    "# TEMP try with the counterfactual residual stream...\n",
    "dm = DeceptionDataModule(ds_trainval2, batch_size=batch_size, num_workers=5)\n",
    "dm.setup(\"train\")\n",
    "dm\n"
   ]
  },
  {
   "cell_type": "code",
   "execution_count": 9,
   "metadata": {},
   "outputs": [],
   "source": [
    "dm_ood = DeceptionDataModule(ds_test2, batch_size=batch_size, \n",
    "                         )\n",
    "dm_ood.setup(\"test\")\n"
   ]
  },
  {
   "cell_type": "code",
   "execution_count": null,
   "metadata": {},
   "outputs": [],
   "source": []
  },
  {
   "cell_type": "markdown",
   "metadata": {},
   "source": [
    "# Get importance matrix from adapter"
   ]
  },
  {
   "cell_type": "code",
   "execution_count": 10,
   "metadata": {},
   "outputs": [
    {
     "name": "stdout",
     "output_type": "stream",
     "text": [
      "Wqkv torch.Size([32, 7680])\n",
      "fc1 torch.Size([32, 10240])\n"
     ]
    },
    {
     "data": {
      "image/png": "[encoded data removed]",
      "text/plain": [
       "<Figure size 640x440 with 1 Axes>"
      ]
     },
     "metadata": {},
     "output_type": "display_data"
    }
   ],
   "source": [
    "from src.probes.importance_matrix import get_importance_matrix\n",
    "\n",
    "\n",
    "f = \"/media/wassname/SGIronWolf/projects5/elk/sgd_probes_are_lie_detectors/notebooks/lightning_logs/version_276/checkpoint_last/adapter_model.safetensors\"\n",
    "importance_matrix = get_importance_matrix(f)[SKIP::STRIDE, ::DECIMATE]\n",
    "plt.hist(importance_matrix.flatten(), bins=55);\n"
   ]
  },
  {
   "cell_type": "code",
   "execution_count": null,
   "metadata": {},
   "outputs": [],
   "source": []
  },
  {
   "cell_type": "code",
   "execution_count": 11,
   "metadata": {},
   "outputs": [],
   "source": [
    "shape1 = ds_test2[0]['X'][:, :, 0].shape\n",
    "shape2= importance_matrix.shape\n",
    "np.testing.assert_equal(shape1, shape2, err_msg=\"shape mismatch between ds and importance matrix\")\n"
   ]
  },
  {
   "cell_type": "code",
   "execution_count": null,
   "metadata": {},
   "outputs": [],
   "source": [
    "\n",
    "\n"
   ]
  },
  {
   "cell_type": "markdown",
   "metadata": {},
   "source": [
    "# Model"
   ]
  },
  {
   "cell_type": "code",
   "execution_count": 12,
   "metadata": {},
   "outputs": [],
   "source": [
    "import einops\n",
    "from jaxtyping import Float, Int\n",
    "from typing import Optional, Callable, Union, List, Tuple\n",
    "\n",
    "from torch import dropout\n",
    "from src.probes.pl_ranking_probe import InceptionBlock, LinBnDrop, ConvBlock\n",
    "\n",
    "\n",
    "class Encoder(nn.Module):\n",
    "    def __init__(self, n_layers, n_channels, hs, c_out, ks=[7, 5, 3], dropout=0):\n",
    "        super().__init__()\n",
    "        self.n_layers = n_layers\n",
    "\n",
    "        self.conv = nn.Sequential(\n",
    "            nn.BatchNorm1d(n_channels, affine=False),\n",
    "            InceptionBlock(n_channels, hs, ks=ks, coord=True, conv_dropout=dropout),\n",
    "            InceptionBlock(hs * 4, hs, ks=ks, coord=True, conv_dropout=dropout),\n",
    "            InceptionBlock(hs * 4, hs, ks=ks, conv_dropout=dropout),\n",
    "            InceptionBlock(hs * 4, hs, ks=ks),\n",
    "            InceptionBlock(hs * 4, hs, ks=ks),\n",
    "        )\n",
    "\n",
    "        self.fc = nn.Sequential(\n",
    "            LinBnDrop(hs * 4 * n_layers, c_out * n_layers, dropout=dropout),\n",
    "            nn.Linear(c_out * n_layers, c_out * n_layers),\n",
    "        )\n",
    "\n",
    "    def forward(self, x):\n",
    "        x = self.conv(x)\n",
    "        x = rearrange(x, \"b c l -> b (c l)\")\n",
    "        x = self.fc(x)\n",
    "        x = rearrange(x, \"b (c l) -> b c l\", l=self.n_layers)\n",
    "        return x\n",
    "\n",
    "\n",
    "class Decoder(nn.Module):\n",
    "    def __init__(self, n_latent, n_layers, hs, c_out=1, ks=[7, 5, 3], dropout=0):\n",
    "        super().__init__()\n",
    "        hs = hs * 2\n",
    "        self.layers = n_layers\n",
    "\n",
    "        self.fc = nn.Sequential(\n",
    "            nn.BatchNorm1d(\n",
    "                n_latent * n_layers, affine=False\n",
    "            ),  # center it, regularize it\n",
    "            LinBnDrop(n_latent * n_layers, hs * n_layers, dropout=dropout),\n",
    "            nn.ReLU(),\n",
    "        )\n",
    "\n",
    "        self.conv = nn.Sequential(\n",
    "            InceptionBlock(hs, hs, ks=ks, coord=True, conv_dropout=dropout),\n",
    "            InceptionBlock(hs * 4, hs, ks=ks, conv_dropout=dropout),\n",
    "            InceptionBlock(hs * 4, hs, ks=ks, coord=True),\n",
    "            InceptionBlock(hs * 4, hs, ks=ks),\n",
    "            nn.Conv1d(hs * 4, c_out, 1),\n",
    "        )\n",
    "\n",
    "    def forward(self, x):\n",
    "        x = rearrange(x, \"b l c -> b (l c)\")\n",
    "        x = self.fc(x)\n",
    "        x = rearrange(x, \"b (c l) -> b c l\", l=self.layers)\n",
    "        x = self.conv(x)\n",
    "        return x\n",
    "\n",
    "\n",
    "class AutoEncoder(nn.Module):\n",
    "    def __init__(\n",
    "        self, c_in, depth=3, n_hidden=32, n_latent=32, l1_coeff: float = 1.0, dropout=0, importance_matrix=None\n",
    "    ):\n",
    "        super().__init__()\n",
    "        self.l1_coeff = l1_coeff\n",
    "        self.importance_matrix = importance_matrix\n",
    "        n_layers, n_channels = c_in\n",
    "        self.enc = Encoder(n_layers, n_channels, n_hidden, n_latent, dropout=dropout)\n",
    "        self.dec = Decoder(\n",
    "            n_latent, n_layers, n_hidden // 4, c_out=n_channels, dropout=dropout\n",
    "        )\n",
    "    #     self.apply_weight_norm(self.dec)\n",
    "    #     self.apply_weight_norm(self.enc)\n",
    "\n",
    "    # def apply_weight_norm(self, net):\n",
    "    #     for m in net.modules():\n",
    "    #         if isinstance(m, nn.Conv1d):\n",
    "    #             # I think it's 1. In the example they use 2, but their weights are transposed before use\n",
    "    #             torch.nn.utils.parametrizations.weight_norm(m, dim=1)\n",
    "\n",
    "    def forward(self, h: Float[Tensor, \"batch_size n_hidden n_channels\"]):\n",
    "        device = next(self.parameters()).device\n",
    "        h = h.to(device)\n",
    "        latent = self.enc(h)\n",
    "        h_rec = self.dec(latent)\n",
    "\n",
    "        if self.importance_matrix is None:\n",
    "            importance_matrix = torch.ones_like(h_rec)\n",
    "        else:\n",
    "            importance_matrix = self.importance_matrix.to(device)\n",
    "\n",
    "        # Compute loss, return values\n",
    "        l2_loss = (\n",
    "            ((h_rec - h) * importance_matrix).pow(2).mean(-1).mean(1)\n",
    "        )  # shape [batch_size sum(neurons) mean(layers)] - punish the model for not reconstructing the input\n",
    "        l1_loss = (\n",
    "            latent.abs().sum(-1).sum(1)\n",
    "        )  # shape [batch_size sum(latent) sum(layers)] - punish the model for large latent values\n",
    "        loss = (self.l1_coeff * l1_loss + l2_loss).mean(0)  # scalar\n",
    "\n",
    "        return l1_loss, l2_loss, loss, latent, h_rec\n"
   ]
  },
  {
   "cell_type": "code",
   "execution_count": 13,
   "metadata": {},
   "outputs": [],
   "source": [
    "def recursive_requires_grad(model, mode: bool = False):\n",
    "    print(f\"requires_grad: {mode}\")\n",
    "    for param in model.parameters():\n",
    "        param.requires_grad = mode\n"
   ]
  },
  {
   "cell_type": "code",
   "execution_count": 14,
   "metadata": {},
   "outputs": [],
   "source": [
    "from src.probes.pl_base import PLBase\n",
    "from torchmetrics.functional import accuracy\n",
    "\n",
    "\n",
    "class PLAE(PLBase):\n",
    "    def __init__(\n",
    "        self,\n",
    "        c_in,\n",
    "        epoch_steps,\n",
    "        max_epochs,\n",
    "        depth=0,\n",
    "        lr=4e-3,\n",
    "        weight_decay=1e-9,\n",
    "        hs=64,\n",
    "        n_latent=32,\n",
    "        l1_coeff=1,\n",
    "        dropout=0,\n",
    "        **kwargs,\n",
    "    ):\n",
    "        super().__init__(epoch_steps=epoch_steps, max_epochs=max_epochs, lr=lr, weight_decay=weight_decay)\n",
    "        self.save_hyperparameters()\n",
    "\n",
    "        self.ae = AutoEncoder(\n",
    "            c_in,\n",
    "            n_hidden=hs,\n",
    "            n_latent=n_latent,\n",
    "            depth=depth,\n",
    "            l1_coeff=l1_coeff,\n",
    "            dropout=dropout,\n",
    "        )\n",
    "        n_layers, n_channels = c_in\n",
    "        n = n_latent * n_layers\n",
    "        self.head = nn.Sequential(\n",
    "            LinBnDrop(n, n // 4, dropout=dropout),\n",
    "            LinBnDrop(n // 4, n // 12, dropout=dropout),\n",
    "            nn.Linear(n // 12, 1),\n",
    "            # nn.Tanh(),\n",
    "        )\n",
    "        self._ae_mode = True\n",
    "\n",
    "    def ae_mode(self, mode=0):\n",
    "        \"\"\"\n",
    "        mode 0, train the ae\n",
    "        mode 1, train only the prob\n",
    "        mode 2, train both\n",
    "        \"\"\"\n",
    "        self._ae_mode = mode\n",
    "        recursive_requires_grad(self.ae, mode in [0, 2])\n",
    "\n",
    "    def forward(self, x):\n",
    "        if x.ndim == 4:\n",
    "            x = x.squeeze(3)\n",
    "        x = rearrange(x, \"b l h -> b h l\")\n",
    "        # if not self._ae_mode:\n",
    "        #     with torch.no_grad():\n",
    "        #         l1_loss, l2_loss, loss, latent, h_rec = self.ae(x)\n",
    "        # else:\n",
    "        l1_loss, l2_loss, loss, latent, h_rec = self.ae(x)\n",
    "\n",
    "        latent2 = rearrange(latent, \"b l h -> b (l h)\")\n",
    "        pred = self.head(latent2).squeeze(1)\n",
    "        return dict(\n",
    "            pred=pred,\n",
    "            l1_loss=l1_loss,\n",
    "            l2_loss=l2_loss,\n",
    "            loss=loss,\n",
    "            latent=latent,\n",
    "            h_rec=h_rec,\n",
    "        )\n",
    "\n",
    "    def _step(self, batch, batch_idx, stage=\"train\"):\n",
    "        # if stage=='train':\n",
    "        #     # Normalize the decoder weights before each optimization step (from https://colab.research.google.com/drive/1rPy82rL3iZzy2_Rd3F82RwFhlVnnroIh?usp=sharing#scrollTo=q1JctT2Pvw-r)\n",
    "        #     # Presumably this is a way to implement weight norm to regularize the decoder\n",
    "        #     self.normalize_decoder()\n",
    "        device = next(self.parameters()).device\n",
    "        x, y = batch['X'], batch['y']\n",
    "        x = x.to(device)\n",
    "        y = y.to(device)\n",
    "        x0 = x[..., 0]\n",
    "        x1 = x[..., 1]\n",
    "        info0 = self(x0)\n",
    "        info1 = self(x1)\n",
    "        ypred1 = info1[\"pred\"]\n",
    "        ypred0 = info0[\"pred\"]\n",
    "\n",
    "        if stage == \"pred\":\n",
    "            return (ypred1 - ypred0).float()\n",
    "\n",
    "        pred_loss = F.smooth_l1_loss(ypred1 - ypred0, y)\n",
    "        rec_loss = info0[\"loss\"] + info1[\"loss\"]\n",
    "        l1_loss = (info0[\"l1_loss\"] + info1[\"l1_loss\"]).mean()\n",
    "        l2_loss = (info0[\"l2_loss\"] + info1[\"l2_loss\"]).mean()\n",
    "\n",
    "        y_cls = ypred1 > ypred0  # switch2bool(ypred1-ypred0)\n",
    "        self.log(\n",
    "            f\"{stage}/acc\",\n",
    "            accuracy(y_cls, y > 0, \"binary\"),\n",
    "            on_epoch=True,\n",
    "            on_step=False,\n",
    "        )\n",
    "        self.log(\n",
    "            f\"{stage}/loss_pred\",\n",
    "            float(pred_loss),\n",
    "            on_epoch=True,\n",
    "            on_step=True,\n",
    "            prog_bar=True,\n",
    "        )\n",
    "        self.log(\n",
    "            f\"{stage}/loss_rec\",\n",
    "            float(rec_loss),\n",
    "            on_epoch=True,\n",
    "            on_step=True,\n",
    "            prog_bar=True,\n",
    "        )\n",
    "        self.log(f\"{stage}/l1_loss\", l1_loss, on_epoch=True, on_step=False)\n",
    "        self.log(f\"{stage}/l2_loss\", l2_loss, on_epoch=True, on_step=False)\n",
    "        self.log(\n",
    "            f\"{stage}/n\",\n",
    "            float(len(y)),\n",
    "            on_epoch=True,\n",
    "            on_step=False,\n",
    "            reduce_fx=torch.sum,\n",
    "        )\n",
    "        if self._ae_mode == 0:\n",
    "            return rec_loss\n",
    "        elif self._ae_mode == 1:\n",
    "            return pred_loss\n",
    "        elif self._ae_mode == 2:\n",
    "            return pred_loss * 50000 + rec_loss\n"
   ]
  },
  {
   "cell_type": "code",
   "execution_count": null,
   "metadata": {},
   "outputs": [],
   "source": []
  },
  {
   "cell_type": "markdown",
   "metadata": {},
   "source": [
    "# Train"
   ]
  },
  {
   "cell_type": "markdown",
   "metadata": {},
   "source": [
    "### Metrics\n"
   ]
  },
  {
   "cell_type": "code",
   "execution_count": 15,
   "metadata": {},
   "outputs": [],
   "source": [
    "def get_acc_subset(df, query, verbose=True):\n",
    "    if query:\n",
    "        df = df.query(query)\n",
    "    acc = (df[\"probe_pred\"] == df[\"y\"]).mean()\n",
    "    if verbose:\n",
    "        print(f\"acc={acc:2.2%},\\tn={len(df)},\\t[{query}] \")\n",
    "    return acc\n",
    "\n",
    "\n",
    "def calc_metrics(dm, trainer, net, use_val=False, verbose=True):\n",
    "    dl_test = dm.test_dataloader()\n",
    "    rt = trainer.predict(net, dataloaders=dl_test)\n",
    "    y_test_pred = np.concatenate(rt)\n",
    "    splits = dm.splits[\"test\"]\n",
    "    df_test = dm.df.iloc[splits[0] : splits[1]].copy()\n",
    "    df_test[\"probe_pred\"] = y_test_pred > 0.0\n",
    "\n",
    "    if use_val:\n",
    "        dl_val = dm.val_dataloader()\n",
    "        rv = trainer.predict(net, dataloaders=dl_val)\n",
    "        y_val_pred = np.concatenate(rv)\n",
    "        splits = dm.splits[\"val\"]\n",
    "        df_val = dm.df.iloc[splits[0] : splits[1]].copy()\n",
    "        df_val[\"probe_pred\"] = y_val_pred > 0.0\n",
    "\n",
    "        df_test = pd.concat([df_val, df_test])\n",
    "\n",
    "    if verbose:\n",
    "        print(\"probe results on subsets of the data\")\n",
    "    acc = get_acc_subset(df_test, \"\", verbose=verbose)\n",
    "    get_acc_subset(\n",
    "        df_test, \"instructed_to_lie==True\", verbose=verbose\n",
    "    )  # it was ph told to lie\n",
    "    get_acc_subset(\n",
    "        df_test, \"instructed_to_lie==False\", verbose=verbose\n",
    "    )  # it was told not to lie\n",
    "    get_acc_subset(\n",
    "        df_test, \"llm_ans==label_true\", verbose=verbose\n",
    "    )  # the llm gave the true ans\n",
    "    get_acc_subset(\n",
    "        df_test, \"llm_ans==label_instructed\", verbose=verbose\n",
    "    )  # the llm gave the desired ans\n",
    "    acc_lie_lie = get_acc_subset(\n",
    "        df_test, \"instructed_to_lie==True & llm_ans==label_instructed\", verbose=verbose\n",
    "    )  # it was told to lie, and it did lie\n",
    "    acc_lie_truth = get_acc_subset(\n",
    "        df_test, \"instructed_to_lie==True & llm_ans!=label_instructed\", verbose=verbose\n",
    "    )\n",
    "\n",
    "    a = get_acc_subset(\n",
    "        df_test, \"instructed_to_lie==False & llm_ans==label_instructed\", verbose=False\n",
    "    )\n",
    "    b = get_acc_subset(\n",
    "        df_test, \"instructed_to_lie==False & llm_ans!=label_instructed\", verbose=False\n",
    "    )\n",
    "    c = get_acc_subset(\n",
    "        df_test, \"instructed_to_lie==True & llm_ans==label_instructed\", verbose=False\n",
    "    )\n",
    "    d = get_acc_subset(\n",
    "        df_test, \"instructed_to_lie==True & llm_ans!=label_instructed\", verbose=False\n",
    "    )\n",
    "    d1 = pd.DataFrame(\n",
    "        [[a, b], [c, d]],\n",
    "        index=[\"instructed_to_lie==False\", \"instructed_to_lie==True\"],\n",
    "        columns=[\"llm_ans==label_instructed\", \"llm_ans!=label_instructed\"],\n",
    "    )\n",
    "    d1 = pd.DataFrame(\n",
    "        [[a, b], [c, d]],\n",
    "        index=[\"tell a truth\", \"tell a lie\"],\n",
    "        columns=[\"did\", \"didn't\"],\n",
    "    )\n",
    "    d1.index.name = \"instructed to\"\n",
    "    d1.columns.name = \"llm gave\"\n",
    "    print(\"probe accuracy for quadrants\")\n",
    "    display(d1.round(2))\n",
    "\n",
    "    if verbose:\n",
    "        print(f\"⭐PRIMARY METRIC⭐ acc={acc:2.2%} from probe\")\n",
    "        print(f\"⭐SECONDARY METRIC⭐ acc_lie_lie={acc_lie_lie:2.2%} from probe\")\n",
    "    return dict(acc=acc, acc_lie_lie=acc_lie_lie, acc_lie_truth=acc_lie_truth)\n"
   ]
  },
  {
   "cell_type": "markdown",
   "metadata": {},
   "source": [
    "### Setup"
   ]
  },
  {
   "cell_type": "code",
   "execution_count": 16,
   "metadata": {},
   "outputs": [
    {
     "name": "stdout",
     "output_type": "stream",
     "text": [
      "10 5\n",
      "torch.Size([32, 7, 4480, 2]) x\n"
     ]
    }
   ],
   "source": [
    "dl_train = dm.train_dataloader()\n",
    "dl_val = dm.val_dataloader()\n",
    "print(len(dl_train), len(dl_val))\n",
    "b = next(iter(dl_train))\n",
    "x, y = b['X'], b['y']\n",
    "print(x.shape, \"x\")\n",
    "if x.ndim == 3:\n",
    "    x = x.unsqueeze(-1)\n",
    "c_in = x.shape[1:-1]\n"
   ]
  },
  {
   "cell_type": "code",
   "execution_count": 17,
   "metadata": {},
   "outputs": [
    {
     "name": "stdout",
     "output_type": "stream",
     "text": [
      "CPU times: user 7.65 ms, sys: 192 ms, total: 200 ms\n",
      "Wall time: 7.67 s\n"
     ]
    }
   ],
   "source": [
    "%%time\n",
    "# oh no, this is very slow\n",
    "g = iter(dl_train)\n",
    "b = next(g)\n",
    "b = next(g)\n"
   ]
  },
  {
   "cell_type": "code",
   "execution_count": 18,
   "metadata": {},
   "outputs": [
    {
     "name": "stdout",
     "output_type": "stream",
     "text": [
      "torch.Size([7, 4480])\n"
     ]
    },
    {
     "data": {
      "text/plain": [
       "{'pred': tensor(0.4114),\n",
       " 'l1_loss': tensor(204.9963),\n",
       " 'l2_loss': tensor(203.9169),\n",
       " 'loss': tensor(224.4165),\n",
       " 'latent': tensor(0.4576),\n",
       " 'h_rec': tensor(0.3854)}"
      ]
     },
     "execution_count": 18,
     "metadata": {},
     "output_type": "execute_result"
    }
   ],
   "source": [
    "\n",
    "net = PLAE(\n",
    "    c_in=c_in,\n",
    "    epoch_steps=max_epochs,\n",
    "    max_epochs=max_epochs * VAE_EPOCH_MULT,\n",
    "    lr=lr,\n",
    "    weight_decay=wd,\n",
    "    hs=128,\n",
    "    depth=3,\n",
    "    # dropout=0.05,\n",
    "    n_latent=64,\n",
    "    l1_coeff=l1_coeff, \n",
    ")\n",
    "print(c_in)\n",
    "x1= x[..., 0]\n",
    "with torch.no_grad():\n",
    "    y = net(x1)\n",
    "{k: v.abs().mean() for k, v in y.items()}\n"
   ]
  },
  {
   "cell_type": "code",
   "execution_count": null,
   "metadata": {},
   "outputs": [],
   "source": []
  },
  {
   "cell_type": "code",
   "execution_count": 19,
   "metadata": {},
   "outputs": [
    {
     "data": {
      "text/plain": [
       "torch.Size([32, 7, 4480, 2])"
      ]
     },
     "execution_count": 19,
     "metadata": {},
     "output_type": "execute_result"
    }
   ],
   "source": [
    "x.shape\n"
   ]
  },
  {
   "cell_type": "code",
   "execution_count": 20,
   "metadata": {},
   "outputs": [
    {
     "data": {
      "text/plain": [
       "=========================================================================================================\n",
       "Layer (type:depth-idx)                                  Output Shape              Param #\n",
       "=========================================================================================================\n",
       "PLAE                                                    [32, 4480, 7]             --\n",
       "├─AutoEncoder: 1-1                                      [32]                      --\n",
       "│    └─Encoder: 2-1                                     [32, 64, 7]               --\n",
       "│    │    └─Sequential: 3-1                             [32, 512, 7]              --\n",
       "│    │    │    └─BatchNorm1d: 4-1                       [32, 4480, 7]             --\n",
       "│    │    │    └─InceptionBlock: 4-2                    [32, 512, 7]              1,397,120\n",
       "│    │    │    └─InceptionBlock: 4-3                    [32, 512, 7]              381,312\n",
       "│    │    │    └─InceptionBlock: 4-4                    [32, 512, 7]              381,312\n",
       "│    │    │    └─InceptionBlock: 4-5                    [32, 512, 7]              381,312\n",
       "│    │    │    └─InceptionBlock: 4-6                    [32, 512, 7]              381,312\n",
       "│    │    └─Sequential: 3-2                             [32, 448]                 --\n",
       "│    │    │    └─LinBnDrop: 4-7                         [32, 448]                 1,606,976\n",
       "│    │    │    └─Linear: 4-8                            [32, 448]                 201,152\n",
       "│    └─Decoder: 2-2                                     [32, 4480, 7]             --\n",
       "│    │    └─Sequential: 3-3                             [32, 448]                 --\n",
       "│    │    │    └─BatchNorm1d: 4-9                       [32, 448]                 --\n",
       "│    │    │    └─LinBnDrop: 4-10                        [32, 448]                 202,048\n",
       "│    │    │    └─ReLU: 4-11                             [32, 448]                 --\n",
       "│    │    └─Sequential: 3-4                             [32, 4480, 7]             --\n",
       "│    │    │    └─InceptionBlock: 4-12                   [32, 256, 7]              67,584\n",
       "│    │    │    └─InceptionBlock: 4-13                   [32, 256, 7]              96,448\n",
       "│    │    │    └─InceptionBlock: 4-14                   [32, 256, 7]              96,448\n",
       "│    │    │    └─InceptionBlock: 4-15                   [32, 256, 7]              96,448\n",
       "│    │    │    └─Conv1d: 4-16                           [32, 4480, 7]             1,151,360\n",
       "├─Sequential: 1-2                                       [32, 1]                   --\n",
       "│    └─LinBnDrop: 2-3                                   [32, 112]                 --\n",
       "│    │    └─Linear: 3-5                                 [32, 112]                 50,288\n",
       "│    │    └─ReLU: 3-6                                   [32, 112]                 --\n",
       "│    │    └─BatchNorm1d: 3-7                            [32, 112]                 224\n",
       "│    └─LinBnDrop: 2-4                                   [32, 37]                  --\n",
       "│    │    └─Linear: 3-8                                 [32, 37]                  4,181\n",
       "│    │    └─ReLU: 3-9                                   [32, 37]                  --\n",
       "│    │    └─BatchNorm1d: 3-10                           [32, 37]                  74\n",
       "│    └─Linear: 2-5                                      [32, 1]                   38\n",
       "=========================================================================================================\n",
       "Total params: 6,495,637\n",
       "Trainable params: 6,495,637\n",
       "Non-trainable params: 0\n",
       "Total mult-adds (Units.GIGABYTES): 1.06\n",
       "=========================================================================================================\n",
       "Input size (MB): 8.03\n",
       "Forward/backward pass size (MB): 30.93\n",
       "Params size (MB): 25.98\n",
       "Estimated Total Size (MB): 64.94\n",
       "========================================================================================================="
      ]
     },
     "execution_count": 20,
     "metadata": {},
     "output_type": "execute_result"
    }
   ],
   "source": [
    "from torchinfo import summary\n",
    "\n",
    "summary(net, input_data=x1, depth=4)  # input_size=(batch_size, 1, 28, 28))\n"
   ]
  },
  {
   "cell_type": "markdown",
   "metadata": {},
   "source": [
    "### Train autoencoder"
   ]
  },
  {
   "cell_type": "code",
   "execution_count": null,
   "metadata": {},
   "outputs": [],
   "source": []
  },
  {
   "cell_type": "code",
   "execution_count": 21,
   "metadata": {},
   "outputs": [
    {
     "name": "stderr",
     "output_type": "stream",
     "text": [
      "Using 16bit Automatic Mixed Precision (AMP)\n",
      "GPU available: True (cuda), used: True\n",
      "TPU available: False, using: 0 TPU cores\n",
      "IPU available: False, using: 0 IPUs\n",
      "HPU available: False, using: 0 HPUs\n",
      "/media/wassname/SGIronWolf/projects5/elk/sgd_probes_are_lie_detectors/.venv/lib/python3.11/site-packages/lightning/pytorch/trainer/connectors/logger_connector/logger_connector.py:67: Starting from v1.9.0, `tensorboardX` has been removed as a dependency of the `lightning.pytorch` package, due to potential conflicts with other packages in the ML ecosystem. For this reason, `logger=True` will use `CSVLogger` as the default logger, unless the `tensorboard` or `tensorboardX` packages are found. Please `pip install lightning[extra]` or one of them to enable TensorBoard support by default\n",
      "You are using a CUDA device ('NVIDIA GeForce RTX 3090') that has Tensor Cores. To properly utilize them, you should set `torch.set_float32_matmul_precision('medium' | 'high')` which will trade-off precision for performance. For more details, read https://pytorch.org/docs/stable/generated/torch.set_float32_matmul_precision.html#torch.set_float32_matmul_precision\n"
     ]
    },
    {
     "name": "stdout",
     "output_type": "stream",
     "text": [
      "requires_grad: True\n"
     ]
    },
    {
     "name": "stderr",
     "output_type": "stream",
     "text": [
      "LOCAL_RANK: 0 - CUDA_VISIBLE_DEVICES: [0,1]\n",
      "\n",
      "  | Name | Type        | Params\n",
      "-------------------------------------\n",
      "0 | ae   | AutoEncoder | 6.4 M \n",
      "1 | head | Sequential  | 54.8 K\n",
      "-------------------------------------\n",
      "6.5 M     Trainable params\n",
      "0         Non-trainable params\n",
      "6.5 M     Total params\n",
      "25.983    Total estimated model params size (MB)\n"
     ]
    },
    {
     "data": {
      "application/vnd.jupyter.widget-view+json": {
       "model_id": "a028bced54544badaaa91b3d6cc508cc",
       "version_major": 2,
       "version_minor": 0
      },
      "text/plain": [
       "Sanity Checking: |          | 0/? [00:00<?, ?it/s]"
      ]
     },
     "metadata": {},
     "output_type": "display_data"
    },
    {
     "data": {
      "application/vnd.jupyter.widget-view+json": {
       "model_id": "10a58e4fa5bb47088440c67fb854a1bd",
       "version_major": 2,
       "version_minor": 0
      },
      "text/plain": [
       "Training: |          | 0/? [00:00<?, ?it/s]"
      ]
     },
     "metadata": {},
     "output_type": "display_data"
    },
    {
     "data": {
      "application/vnd.jupyter.widget-view+json": {
       "model_id": "052406f75f314401a2f6fdb59782e5ba",
       "version_major": 2,
       "version_minor": 0
      },
      "text/plain": [
       "Validation: |          | 0/? [00:00<?, ?it/s]"
      ]
     },
     "metadata": {},
     "output_type": "display_data"
    },
    {
     "data": {
      "application/vnd.jupyter.widget-view+json": {
       "model_id": "1b8ea63c27fc4a51bfffe8fd1d0eafa3",
       "version_major": 2,
       "version_minor": 0
      },
      "text/plain": [
       "Validation: |          | 0/? [00:00<?, ?it/s]"
      ]
     },
     "metadata": {},
     "output_type": "display_data"
    },
    {
     "data": {
      "application/vnd.jupyter.widget-view+json": {
       "model_id": "c20381c42bea4b42aa3d004c53b2d014",
       "version_major": 2,
       "version_minor": 0
      },
      "text/plain": [
       "Validation: |          | 0/? [00:00<?, ?it/s]"
      ]
     },
     "metadata": {},
     "output_type": "display_data"
    },
    {
     "data": {
      "application/vnd.jupyter.widget-view+json": {
       "model_id": "a8b5387cbff5416e89f2ea59b76c2164",
       "version_major": 2,
       "version_minor": 0
      },
      "text/plain": [
       "Validation: |          | 0/? [00:00<?, ?it/s]"
      ]
     },
     "metadata": {},
     "output_type": "display_data"
    },
    {
     "data": {
      "application/vnd.jupyter.widget-view+json": {
       "model_id": "615d8e415cf34fc3aef575eff9ee2521",
       "version_major": 2,
       "version_minor": 0
      },
      "text/plain": [
       "Validation: |          | 0/? [00:00<?, ?it/s]"
      ]
     },
     "metadata": {},
     "output_type": "display_data"
    },
    {
     "data": {
      "application/vnd.jupyter.widget-view+json": {
       "model_id": "2c552be2c92945fbaff67b631b8bc2e4",
       "version_major": 2,
       "version_minor": 0
      },
      "text/plain": [
       "Validation: |          | 0/? [00:00<?, ?it/s]"
      ]
     },
     "metadata": {},
     "output_type": "display_data"
    },
    {
     "data": {
      "application/vnd.jupyter.widget-view+json": {
       "model_id": "1282cdc3ae064060919772eab9885c74",
       "version_major": 2,
       "version_minor": 0
      },
      "text/plain": [
       "Validation: |          | 0/? [00:00<?, ?it/s]"
      ]
     },
     "metadata": {},
     "output_type": "display_data"
    },
    {
     "data": {
      "application/vnd.jupyter.widget-view+json": {
       "model_id": "aa1675169f664e91831edd94d208c6bc",
       "version_major": 2,
       "version_minor": 0
      },
      "text/plain": [
       "Validation: |          | 0/? [00:00<?, ?it/s]"
      ]
     },
     "metadata": {},
     "output_type": "display_data"
    },
    {
     "data": {
      "application/vnd.jupyter.widget-view+json": {
       "model_id": "0acf6cc50d0142f38ca016edb3daecd6",
       "version_major": 2,
       "version_minor": 0
      },
      "text/plain": [
       "Validation: |          | 0/? [00:00<?, ?it/s]"
      ]
     },
     "metadata": {},
     "output_type": "display_data"
    },
    {
     "data": {
      "application/vnd.jupyter.widget-view+json": {
       "model_id": "92b836aaeda848dba20547d76d65c6cd",
       "version_major": 2,
       "version_minor": 0
      },
      "text/plain": [
       "Validation: |          | 0/? [00:00<?, ?it/s]"
      ]
     },
     "metadata": {},
     "output_type": "display_data"
    },
    {
     "data": {
      "application/vnd.jupyter.widget-view+json": {
       "model_id": "09de80e1d6fb46c69d8374ba04bff581",
       "version_major": 2,
       "version_minor": 0
      },
      "text/plain": [
       "Validation: |          | 0/? [00:00<?, ?it/s]"
      ]
     },
     "metadata": {},
     "output_type": "display_data"
    },
    {
     "data": {
      "application/vnd.jupyter.widget-view+json": {
       "model_id": "47a7fdf2d2484aafa125f206b76a10b8",
       "version_major": 2,
       "version_minor": 0
      },
      "text/plain": [
       "Validation: |          | 0/? [00:00<?, ?it/s]"
      ]
     },
     "metadata": {},
     "output_type": "display_data"
    },
    {
     "data": {
      "application/vnd.jupyter.widget-view+json": {
       "model_id": "ab954ba5e0a64c9fbe54f3a61c403d24",
       "version_major": 2,
       "version_minor": 0
      },
      "text/plain": [
       "Validation: |          | 0/? [00:00<?, ?it/s]"
      ]
     },
     "metadata": {},
     "output_type": "display_data"
    },
    {
     "data": {
      "application/vnd.jupyter.widget-view+json": {
       "model_id": "e848f5ea29c6455d8074cb430c77ab9f",
       "version_major": 2,
       "version_minor": 0
      },
      "text/plain": [
       "Validation: |          | 0/? [00:00<?, ?it/s]"
      ]
     },
     "metadata": {},
     "output_type": "display_data"
    },
    {
     "data": {
      "application/vnd.jupyter.widget-view+json": {
       "model_id": "f692d8989db04fb8a093bca2b476c770",
       "version_major": 2,
       "version_minor": 0
      },
      "text/plain": [
       "Validation: |          | 0/? [00:00<?, ?it/s]"
      ]
     },
     "metadata": {},
     "output_type": "display_data"
    },
    {
     "data": {
      "application/vnd.jupyter.widget-view+json": {
       "model_id": "0a81711b44374423a52a0d6cbab6969b",
       "version_major": 2,
       "version_minor": 0
      },
      "text/plain": [
       "Validation: |          | 0/? [00:00<?, ?it/s]"
      ]
     },
     "metadata": {},
     "output_type": "display_data"
    },
    {
     "data": {
      "application/vnd.jupyter.widget-view+json": {
       "model_id": "f9128e838fd247a1b479c475ed75e71d",
       "version_major": 2,
       "version_minor": 0
      },
      "text/plain": [
       "Validation: |          | 0/? [00:00<?, ?it/s]"
      ]
     },
     "metadata": {},
     "output_type": "display_data"
    },
    {
     "data": {
      "application/vnd.jupyter.widget-view+json": {
       "model_id": "ca1d82d8ac874db88cec30f3a49dfe19",
       "version_major": 2,
       "version_minor": 0
      },
      "text/plain": [
       "Validation: |          | 0/? [00:00<?, ?it/s]"
      ]
     },
     "metadata": {},
     "output_type": "display_data"
    },
    {
     "data": {
      "application/vnd.jupyter.widget-view+json": {
       "model_id": "5747d2b4ae024f8c865a06ceb9188676",
       "version_major": 2,
       "version_minor": 0
      },
      "text/plain": [
       "Validation: |          | 0/? [00:00<?, ?it/s]"
      ]
     },
     "metadata": {},
     "output_type": "display_data"
    },
    {
     "data": {
      "application/vnd.jupyter.widget-view+json": {
       "model_id": "e545ca92de0a49d382dd26fbae2a024e",
       "version_major": 2,
       "version_minor": 0
      },
      "text/plain": [
       "Validation: |          | 0/? [00:00<?, ?it/s]"
      ]
     },
     "metadata": {},
     "output_type": "display_data"
    },
    {
     "data": {
      "application/vnd.jupyter.widget-view+json": {
       "model_id": "ebe0874507a849789b5b5a75c525fc96",
       "version_major": 2,
       "version_minor": 0
      },
      "text/plain": [
       "Validation: |          | 0/? [00:00<?, ?it/s]"
      ]
     },
     "metadata": {},
     "output_type": "display_data"
    },
    {
     "data": {
      "application/vnd.jupyter.widget-view+json": {
       "model_id": "b0c3a6b88a5e4ae397120265bfe830f5",
       "version_major": 2,
       "version_minor": 0
      },
      "text/plain": [
       "Validation: |          | 0/? [00:00<?, ?it/s]"
      ]
     },
     "metadata": {},
     "output_type": "display_data"
    },
    {
     "data": {
      "application/vnd.jupyter.widget-view+json": {
       "model_id": "fde55e396a6c49888e329b678c8fe54d",
       "version_major": 2,
       "version_minor": 0
      },
      "text/plain": [
       "Validation: |          | 0/? [00:00<?, ?it/s]"
      ]
     },
     "metadata": {},
     "output_type": "display_data"
    },
    {
     "data": {
      "application/vnd.jupyter.widget-view+json": {
       "model_id": "1efaa571b05340b5aad4bea397e2e951",
       "version_major": 2,
       "version_minor": 0
      },
      "text/plain": [
       "Validation: |          | 0/? [00:00<?, ?it/s]"
      ]
     },
     "metadata": {},
     "output_type": "display_data"
    },
    {
     "data": {
      "application/vnd.jupyter.widget-view+json": {
       "model_id": "ff6d24c72ff54f66922df8186d2b862f",
       "version_major": 2,
       "version_minor": 0
      },
      "text/plain": [
       "Validation: |          | 0/? [00:00<?, ?it/s]"
      ]
     },
     "metadata": {},
     "output_type": "display_data"
    },
    {
     "data": {
      "application/vnd.jupyter.widget-view+json": {
       "model_id": "aae518e19dd44c8a96025d852874064a",
       "version_major": 2,
       "version_minor": 0
      },
      "text/plain": [
       "Validation: |          | 0/? [00:00<?, ?it/s]"
      ]
     },
     "metadata": {},
     "output_type": "display_data"
    },
    {
     "data": {
      "application/vnd.jupyter.widget-view+json": {
       "model_id": "0843e5e599b24a42afedbec2ddc895a5",
       "version_major": 2,
       "version_minor": 0
      },
      "text/plain": [
       "Validation: |          | 0/? [00:00<?, ?it/s]"
      ]
     },
     "metadata": {},
     "output_type": "display_data"
    },
    {
     "data": {
      "application/vnd.jupyter.widget-view+json": {
       "model_id": "2cbd011e2beb42b391b927cc2402da5d",
       "version_major": 2,
       "version_minor": 0
      },
      "text/plain": [
       "Validation: |          | 0/? [00:00<?, ?it/s]"
      ]
     },
     "metadata": {},
     "output_type": "display_data"
    },
    {
     "data": {
      "application/vnd.jupyter.widget-view+json": {
       "model_id": "760493c8a5864c46b9b7bb5ae4fd91f5",
       "version_major": 2,
       "version_minor": 0
      },
      "text/plain": [
       "Validation: |          | 0/? [00:00<?, ?it/s]"
      ]
     },
     "metadata": {},
     "output_type": "display_data"
    },
    {
     "data": {
      "application/vnd.jupyter.widget-view+json": {
       "model_id": "ebe96a9e698a4d5ea2bdb6d5df7dcb86",
       "version_major": 2,
       "version_minor": 0
      },
      "text/plain": [
       "Validation: |          | 0/? [00:00<?, ?it/s]"
      ]
     },
     "metadata": {},
     "output_type": "display_data"
    },
    {
     "data": {
      "application/vnd.jupyter.widget-view+json": {
       "model_id": "ef5162d521c741b382acb7fc60b49296",
       "version_major": 2,
       "version_minor": 0
      },
      "text/plain": [
       "Validation: |          | 0/? [00:00<?, ?it/s]"
      ]
     },
     "metadata": {},
     "output_type": "display_data"
    },
    {
     "data": {
      "application/vnd.jupyter.widget-view+json": {
       "model_id": "e0380867f0374f38b36651bcf28f20b3",
       "version_major": 2,
       "version_minor": 0
      },
      "text/plain": [
       "Validation: |          | 0/? [00:00<?, ?it/s]"
      ]
     },
     "metadata": {},
     "output_type": "display_data"
    },
    {
     "data": {
      "application/vnd.jupyter.widget-view+json": {
       "model_id": "0a26267b2d4549d3a14b469431185a0b",
       "version_major": 2,
       "version_minor": 0
      },
      "text/plain": [
       "Validation: |          | 0/? [00:00<?, ?it/s]"
      ]
     },
     "metadata": {},
     "output_type": "display_data"
    },
    {
     "data": {
      "application/vnd.jupyter.widget-view+json": {
       "model_id": "dc165c4c01ec47baa35cb3b2be9c16ba",
       "version_major": 2,
       "version_minor": 0
      },
      "text/plain": [
       "Validation: |          | 0/? [00:00<?, ?it/s]"
      ]
     },
     "metadata": {},
     "output_type": "display_data"
    },
    {
     "data": {
      "application/vnd.jupyter.widget-view+json": {
       "model_id": "9ae3384507c947419be80440488cea85",
       "version_major": 2,
       "version_minor": 0
      },
      "text/plain": [
       "Validation: |          | 0/? [00:00<?, ?it/s]"
      ]
     },
     "metadata": {},
     "output_type": "display_data"
    },
    {
     "data": {
      "application/vnd.jupyter.widget-view+json": {
       "model_id": "d922fd974a2f4b168d0f46d35f587882",
       "version_major": 2,
       "version_minor": 0
      },
      "text/plain": [
       "Validation: |          | 0/? [00:00<?, ?it/s]"
      ]
     },
     "metadata": {},
     "output_type": "display_data"
    },
    {
     "data": {
      "application/vnd.jupyter.widget-view+json": {
       "model_id": "793ac1b2920b4940b631e727ecf3361e",
       "version_major": 2,
       "version_minor": 0
      },
      "text/plain": [
       "Validation: |          | 0/? [00:00<?, ?it/s]"
      ]
     },
     "metadata": {},
     "output_type": "display_data"
    },
    {
     "data": {
      "application/vnd.jupyter.widget-view+json": {
       "model_id": "49001488e17b474ead096cba10e4220a",
       "version_major": 2,
       "version_minor": 0
      },
      "text/plain": [
       "Validation: |          | 0/? [00:00<?, ?it/s]"
      ]
     },
     "metadata": {},
     "output_type": "display_data"
    },
    {
     "data": {
      "application/vnd.jupyter.widget-view+json": {
       "model_id": "8f2799e25afb47f19ddc294e4bdd37c4",
       "version_major": 2,
       "version_minor": 0
      },
      "text/plain": [
       "Validation: |          | 0/? [00:00<?, ?it/s]"
      ]
     },
     "metadata": {},
     "output_type": "display_data"
    },
    {
     "data": {
      "application/vnd.jupyter.widget-view+json": {
       "model_id": "d62ba71047b24a7c82ac06a00dc47a6f",
       "version_major": 2,
       "version_minor": 0
      },
      "text/plain": [
       "Validation: |          | 0/? [00:00<?, ?it/s]"
      ]
     },
     "metadata": {},
     "output_type": "display_data"
    },
    {
     "data": {
      "application/vnd.jupyter.widget-view+json": {
       "model_id": "b8e5b60b6ba24482b5cb151f17df2911",
       "version_major": 2,
       "version_minor": 0
      },
      "text/plain": [
       "Validation: |          | 0/? [00:00<?, ?it/s]"
      ]
     },
     "metadata": {},
     "output_type": "display_data"
    },
    {
     "data": {
      "application/vnd.jupyter.widget-view+json": {
       "model_id": "c55a280d70a54b6a944594104721d026",
       "version_major": 2,
       "version_minor": 0
      },
      "text/plain": [
       "Validation: |          | 0/? [00:00<?, ?it/s]"
      ]
     },
     "metadata": {},
     "output_type": "display_data"
    },
    {
     "data": {
      "application/vnd.jupyter.widget-view+json": {
       "model_id": "0551881d519248388c54605e50154630",
       "version_major": 2,
       "version_minor": 0
      },
      "text/plain": [
       "Validation: |          | 0/? [00:00<?, ?it/s]"
      ]
     },
     "metadata": {},
     "output_type": "display_data"
    },
    {
     "data": {
      "application/vnd.jupyter.widget-view+json": {
       "model_id": "38aa19485665482e866ef623ab987b4a",
       "version_major": 2,
       "version_minor": 0
      },
      "text/plain": [
       "Validation: |          | 0/? [00:00<?, ?it/s]"
      ]
     },
     "metadata": {},
     "output_type": "display_data"
    },
    {
     "data": {
      "application/vnd.jupyter.widget-view+json": {
       "model_id": "2d4d62731d4f44d39ebbebc48a940f5c",
       "version_major": 2,
       "version_minor": 0
      },
      "text/plain": [
       "Validation: |          | 0/? [00:00<?, ?it/s]"
      ]
     },
     "metadata": {},
     "output_type": "display_data"
    },
    {
     "name": "stderr",
     "output_type": "stream",
     "text": [
      "/media/wassname/SGIronWolf/projects5/elk/sgd_probes_are_lie_detectors/.venv/lib/python3.11/site-packages/lightning/pytorch/trainer/call.py:54: Detected KeyboardInterrupt, attempting graceful shutdown...\n"
     ]
    }
   ],
   "source": [
    "net.ae_mode(0)\n",
    "trainer1 = pl.Trainer(\n",
    "    precision=\"16-mixed\",\n",
    "    gradient_clip_val=20,\n",
    "    # devices=2,\n",
    "    accelerator=\"auto\",\n",
    "    devices=\"1\",\n",
    "    max_epochs=max_epochs * VAE_EPOCH_MULT,\n",
    "    log_every_n_steps=1,\n",
    "    # enable_progress_bar=False, enable_model_summary=False\n",
    ")\n",
    "trainer1.fit(model=net, train_dataloaders=dl_train, val_dataloaders=dl_val);\n"
   ]
  },
  {
   "cell_type": "code",
   "execution_count": null,
   "metadata": {},
   "outputs": [],
   "source": []
  },
  {
   "cell_type": "markdown",
   "metadata": {},
   "source": [
    "5/10 [00:04<00:04, 1.10it/s, v_num=295, val/loss_pred=0.0849, val/loss_rec=9.58e+5, train/loss_pred=0.350, train/loss_rec=9.8e+5]\n"
   ]
  },
  {
   "cell_type": "code",
   "execution_count": 22,
   "metadata": {},
   "outputs": [],
   "source": [
    "from src.helpers.lightning import read_metrics_csv, plot_hist, rename_pl_test_results\n"
   ]
  },
  {
   "cell_type": "code",
   "execution_count": 23,
   "metadata": {},
   "outputs": [
    {
     "data": {
      "image/png": "[encoded data removed]",
      "text/plain": [
       "<Figure size 640x440 with 1 Axes>"
      ]
     },
     "metadata": {},
     "output_type": "display_data"
    },
    {
     "data": {
      "image/png": "[encoded data removed]",
      "text/plain": [
       "<Figure size 640x440 with 1 Axes>"
      ]
     },
     "metadata": {},
     "output_type": "display_data"
    },
    {
     "data": {
      "image/png": "[encoded data removed]",
      "text/plain": [
       "<Figure size 640x440 with 1 Axes>"
      ]
     },
     "metadata": {},
     "output_type": "display_data"
    },
    {
     "data": {
      "text/html": [
       "<div>\n",
       "<style scoped>\n",
       "    .dataframe tbody tr th:only-of-type {\n",
       "        vertical-align: middle;\n",
       "    }\n",
       "\n",
       "    .dataframe tbody tr th {\n",
       "        vertical-align: top;\n",
       "    }\n",
       "\n",
       "    .dataframe thead th {\n",
       "        text-align: right;\n",
       "    }\n",
       "</style>\n",
       "<table border=\"1\" class=\"dataframe\">\n",
       "  <thead>\n",
       "    <tr style=\"text-align: right;\">\n",
       "      <th></th>\n",
       "      <th>step</th>\n",
       "      <th>train/loss_pred_step</th>\n",
       "      <th>train/loss_rec_step</th>\n",
       "      <th>val/loss_pred_step</th>\n",
       "      <th>val/loss_rec_step</th>\n",
       "      <th>val/loss_pred_epoch</th>\n",
       "      <th>val/l1_loss</th>\n",
       "      <th>val/acc</th>\n",
       "      <th>val/loss_rec_epoch</th>\n",
       "      <th>val/l2_loss</th>\n",
       "      <th>val/n</th>\n",
       "      <th>train/n</th>\n",
       "      <th>train/l1_loss</th>\n",
       "      <th>train/loss_pred_epoch</th>\n",
       "      <th>train/acc</th>\n",
       "      <th>train/l2_loss</th>\n",
       "      <th>train/loss_rec_epoch</th>\n",
       "    </tr>\n",
       "    <tr>\n",
       "      <th>epoch</th>\n",
       "      <th></th>\n",
       "      <th></th>\n",
       "      <th></th>\n",
       "      <th></th>\n",
       "      <th></th>\n",
       "      <th></th>\n",
       "      <th></th>\n",
       "      <th></th>\n",
       "      <th></th>\n",
       "      <th></th>\n",
       "      <th></th>\n",
       "      <th></th>\n",
       "      <th></th>\n",
       "      <th></th>\n",
       "      <th></th>\n",
       "      <th></th>\n",
       "      <th></th>\n",
       "    </tr>\n",
       "  </thead>\n",
       "  <tbody>\n",
       "    <tr>\n",
       "      <th>0.0</th>\n",
       "      <td>9</td>\n",
       "      <td>0.199934</td>\n",
       "      <td>508.042511</td>\n",
       "      <td>0.016869</td>\n",
       "      <td>466.363892</td>\n",
       "      <td>0.017093</td>\n",
       "      <td>144.221893</td>\n",
       "      <td>0.46250</td>\n",
       "      <td>461.226562</td>\n",
       "      <td>446.804382</td>\n",
       "      <td>160.0</td>\n",
       "      <td>319.0</td>\n",
       "      <td>403.715576</td>\n",
       "      <td>0.226344</td>\n",
       "      <td>0.510972</td>\n",
       "      <td>457.857361</td>\n",
       "      <td>498.228943</td>\n",
       "    </tr>\n",
       "    <tr>\n",
       "      <th>1.0</th>\n",
       "      <td>19</td>\n",
       "      <td>0.106668</td>\n",
       "      <td>479.072662</td>\n",
       "      <td>0.074828</td>\n",
       "      <td>473.800690</td>\n",
       "      <td>0.064029</td>\n",
       "      <td>218.099930</td>\n",
       "      <td>0.44375</td>\n",
       "      <td>468.098450</td>\n",
       "      <td>446.288483</td>\n",
       "      <td>160.0</td>\n",
       "      <td>319.0</td>\n",
       "      <td>363.405396</td>\n",
       "      <td>0.234098</td>\n",
       "      <td>0.523511</td>\n",
       "      <td>457.078064</td>\n",
       "      <td>493.418549</td>\n",
       "    </tr>\n",
       "    <tr>\n",
       "      <th>2.0</th>\n",
       "      <td>29</td>\n",
       "      <td>0.260621</td>\n",
       "      <td>475.775391</td>\n",
       "      <td>0.317313</td>\n",
       "      <td>486.424591</td>\n",
       "      <td>0.275421</td>\n",
       "      <td>358.927002</td>\n",
       "      <td>0.43750</td>\n",
       "      <td>480.792145</td>\n",
       "      <td>444.899414</td>\n",
       "      <td>160.0</td>\n",
       "      <td>319.0</td>\n",
       "      <td>239.728592</td>\n",
       "      <td>0.214629</td>\n",
       "      <td>0.460815</td>\n",
       "      <td>455.740601</td>\n",
       "      <td>479.713470</td>\n",
       "    </tr>\n",
       "    <tr>\n",
       "      <th>3.0</th>\n",
       "      <td>39</td>\n",
       "      <td>0.194495</td>\n",
       "      <td>466.853760</td>\n",
       "      <td>0.301481</td>\n",
       "      <td>473.986908</td>\n",
       "      <td>0.277073</td>\n",
       "      <td>252.571091</td>\n",
       "      <td>0.44375</td>\n",
       "      <td>468.411865</td>\n",
       "      <td>443.154724</td>\n",
       "      <td>160.0</td>\n",
       "      <td>319.0</td>\n",
       "      <td>135.049179</td>\n",
       "      <td>0.166888</td>\n",
       "      <td>0.526646</td>\n",
       "      <td>453.992615</td>\n",
       "      <td>467.497559</td>\n",
       "    </tr>\n",
       "    <tr>\n",
       "      <th>4.0</th>\n",
       "      <td>49</td>\n",
       "      <td>0.119615</td>\n",
       "      <td>448.092072</td>\n",
       "      <td>0.605777</td>\n",
       "      <td>465.829834</td>\n",
       "      <td>0.669552</td>\n",
       "      <td>218.161819</td>\n",
       "      <td>0.43750</td>\n",
       "      <td>473.097961</td>\n",
       "      <td>451.281738</td>\n",
       "      <td>160.0</td>\n",
       "      <td>319.0</td>\n",
       "      <td>84.055557</td>\n",
       "      <td>0.143066</td>\n",
       "      <td>0.470219</td>\n",
       "      <td>450.990387</td>\n",
       "      <td>459.395966</td>\n",
       "    </tr>\n",
       "    <tr>\n",
       "      <th>5.0</th>\n",
       "      <td>59</td>\n",
       "      <td>0.106477</td>\n",
       "      <td>437.719055</td>\n",
       "      <td>9.173607</td>\n",
       "      <td>32447.851562</td>\n",
       "      <td>35.750061</td>\n",
       "      <td>2203.088623</td>\n",
       "      <td>0.45625</td>\n",
       "      <td>96359.390625</td>\n",
       "      <td>96139.078125</td>\n",
       "      <td>160.0</td>\n",
       "      <td>319.0</td>\n",
       "      <td>63.052956</td>\n",
       "      <td>0.139873</td>\n",
       "      <td>0.473354</td>\n",
       "      <td>446.026947</td>\n",
       "      <td>452.332184</td>\n",
       "    </tr>\n",
       "    <tr>\n",
       "      <th>6.0</th>\n",
       "      <td>69</td>\n",
       "      <td>0.099702</td>\n",
       "      <td>433.197876</td>\n",
       "      <td>0.245573</td>\n",
       "      <td>432.980225</td>\n",
       "      <td>0.198242</td>\n",
       "      <td>96.178032</td>\n",
       "      <td>0.51250</td>\n",
       "      <td>427.948425</td>\n",
       "      <td>418.330627</td>\n",
       "      <td>160.0</td>\n",
       "      <td>319.0</td>\n",
       "      <td>57.291828</td>\n",
       "      <td>0.114894</td>\n",
       "      <td>0.498433</td>\n",
       "      <td>438.987946</td>\n",
       "      <td>444.717194</td>\n",
       "    </tr>\n",
       "    <tr>\n",
       "      <th>7.0</th>\n",
       "      <td>79</td>\n",
       "      <td>0.131583</td>\n",
       "      <td>419.805664</td>\n",
       "      <td>0.089419</td>\n",
       "      <td>421.385101</td>\n",
       "      <td>0.134129</td>\n",
       "      <td>82.626465</td>\n",
       "      <td>0.44375</td>\n",
       "      <td>415.469727</td>\n",
       "      <td>407.207092</td>\n",
       "      <td>160.0</td>\n",
       "      <td>319.0</td>\n",
       "      <td>47.972862</td>\n",
       "      <td>0.107948</td>\n",
       "      <td>0.467085</td>\n",
       "      <td>431.262848</td>\n",
       "      <td>436.060089</td>\n",
       "    </tr>\n",
       "    <tr>\n",
       "      <th>8.0</th>\n",
       "      <td>89</td>\n",
       "      <td>0.062995</td>\n",
       "      <td>423.891174</td>\n",
       "      <td>0.496486</td>\n",
       "      <td>409.422028</td>\n",
       "      <td>0.281321</td>\n",
       "      <td>61.079731</td>\n",
       "      <td>0.46875</td>\n",
       "      <td>404.322327</td>\n",
       "      <td>398.214325</td>\n",
       "      <td>160.0</td>\n",
       "      <td>319.0</td>\n",
       "      <td>42.815536</td>\n",
       "      <td>0.101212</td>\n",
       "      <td>0.501567</td>\n",
       "      <td>423.542908</td>\n",
       "      <td>427.824463</td>\n",
       "    </tr>\n",
       "    <tr>\n",
       "      <th>9.0</th>\n",
       "      <td>99</td>\n",
       "      <td>0.088170</td>\n",
       "      <td>430.931030</td>\n",
       "      <td>0.385074</td>\n",
       "      <td>401.214111</td>\n",
       "      <td>0.233270</td>\n",
       "      <td>63.168621</td>\n",
       "      <td>0.47500</td>\n",
       "      <td>396.467773</td>\n",
       "      <td>390.150940</td>\n",
       "      <td>160.0</td>\n",
       "      <td>319.0</td>\n",
       "      <td>39.363873</td>\n",
       "      <td>0.078224</td>\n",
       "      <td>0.495298</td>\n",
       "      <td>416.191711</td>\n",
       "      <td>420.128143</td>\n",
       "    </tr>\n",
       "    <tr>\n",
       "      <th>10.0</th>\n",
       "      <td>109</td>\n",
       "      <td>0.102550</td>\n",
       "      <td>391.753265</td>\n",
       "      <td>0.156573</td>\n",
       "      <td>401.524841</td>\n",
       "      <td>0.233270</td>\n",
       "      <td>63.168621</td>\n",
       "      <td>0.54375</td>\n",
       "      <td>396.467773</td>\n",
       "      <td>390.150940</td>\n",
       "      <td>160.0</td>\n",
       "      <td>319.0</td>\n",
       "      <td>41.013138</td>\n",
       "      <td>0.082691</td>\n",
       "      <td>0.520376</td>\n",
       "      <td>409.437805</td>\n",
       "      <td>413.539185</td>\n",
       "    </tr>\n",
       "    <tr>\n",
       "      <th>11.0</th>\n",
       "      <td>119</td>\n",
       "      <td>0.097264</td>\n",
       "      <td>417.768738</td>\n",
       "      <td>0.189946</td>\n",
       "      <td>394.019470</td>\n",
       "      <td>0.233270</td>\n",
       "      <td>63.168621</td>\n",
       "      <td>0.52500</td>\n",
       "      <td>396.467773</td>\n",
       "      <td>390.150940</td>\n",
       "      <td>160.0</td>\n",
       "      <td>319.0</td>\n",
       "      <td>42.434593</td>\n",
       "      <td>0.090856</td>\n",
       "      <td>0.583072</td>\n",
       "      <td>403.294220</td>\n",
       "      <td>407.537659</td>\n",
       "    </tr>\n",
       "    <tr>\n",
       "      <th>12.0</th>\n",
       "      <td>129</td>\n",
       "      <td>0.090602</td>\n",
       "      <td>404.250244</td>\n",
       "      <td>0.625002</td>\n",
       "      <td>388.463348</td>\n",
       "      <td>0.233270</td>\n",
       "      <td>63.168621</td>\n",
       "      <td>0.48750</td>\n",
       "      <td>396.467773</td>\n",
       "      <td>390.150940</td>\n",
       "      <td>160.0</td>\n",
       "      <td>319.0</td>\n",
       "      <td>37.158653</td>\n",
       "      <td>0.090972</td>\n",
       "      <td>0.476489</td>\n",
       "      <td>397.190918</td>\n",
       "      <td>400.906799</td>\n",
       "    </tr>\n",
       "    <tr>\n",
       "      <th>13.0</th>\n",
       "      <td>139</td>\n",
       "      <td>0.133334</td>\n",
       "      <td>393.452728</td>\n",
       "      <td>0.209404</td>\n",
       "      <td>385.879272</td>\n",
       "      <td>0.233270</td>\n",
       "      <td>63.168621</td>\n",
       "      <td>0.41250</td>\n",
       "      <td>396.467773</td>\n",
       "      <td>390.150940</td>\n",
       "      <td>160.0</td>\n",
       "      <td>319.0</td>\n",
       "      <td>36.614239</td>\n",
       "      <td>0.109294</td>\n",
       "      <td>0.482759</td>\n",
       "      <td>391.272614</td>\n",
       "      <td>394.934082</td>\n",
       "    </tr>\n",
       "    <tr>\n",
       "      <th>14.0</th>\n",
       "      <td>149</td>\n",
       "      <td>0.043861</td>\n",
       "      <td>383.788513</td>\n",
       "      <td>3.153830</td>\n",
       "      <td>410.418457</td>\n",
       "      <td>2.400221</td>\n",
       "      <td>174.443146</td>\n",
       "      <td>0.46250</td>\n",
       "      <td>437.366791</td>\n",
       "      <td>419.922455</td>\n",
       "      <td>160.0</td>\n",
       "      <td>319.0</td>\n",
       "      <td>41.070839</td>\n",
       "      <td>0.099346</td>\n",
       "      <td>0.476489</td>\n",
       "      <td>385.818390</td>\n",
       "      <td>389.925507</td>\n",
       "    </tr>\n",
       "    <tr>\n",
       "      <th>15.0</th>\n",
       "      <td>159</td>\n",
       "      <td>0.167676</td>\n",
       "      <td>389.939941</td>\n",
       "      <td>0.418003</td>\n",
       "      <td>372.824554</td>\n",
       "      <td>0.310268</td>\n",
       "      <td>57.376678</td>\n",
       "      <td>0.38125</td>\n",
       "      <td>367.985535</td>\n",
       "      <td>362.247864</td>\n",
       "      <td>160.0</td>\n",
       "      <td>319.0</td>\n",
       "      <td>52.748623</td>\n",
       "      <td>0.107731</td>\n",
       "      <td>0.498433</td>\n",
       "      <td>380.862488</td>\n",
       "      <td>386.137360</td>\n",
       "    </tr>\n",
       "    <tr>\n",
       "      <th>16.0</th>\n",
       "      <td>169</td>\n",
       "      <td>0.179846</td>\n",
       "      <td>370.030273</td>\n",
       "      <td>0.405037</td>\n",
       "      <td>370.824768</td>\n",
       "      <td>0.347570</td>\n",
       "      <td>63.637043</td>\n",
       "      <td>0.50000</td>\n",
       "      <td>366.328857</td>\n",
       "      <td>359.965149</td>\n",
       "      <td>160.0</td>\n",
       "      <td>319.0</td>\n",
       "      <td>47.871304</td>\n",
       "      <td>0.119689</td>\n",
       "      <td>0.495298</td>\n",
       "      <td>376.121582</td>\n",
       "      <td>380.908661</td>\n",
       "    </tr>\n",
       "    <tr>\n",
       "      <th>17.0</th>\n",
       "      <td>179</td>\n",
       "      <td>0.106449</td>\n",
       "      <td>364.005493</td>\n",
       "      <td>0.290867</td>\n",
       "      <td>367.085632</td>\n",
       "      <td>0.347570</td>\n",
       "      <td>63.637043</td>\n",
       "      <td>0.44375</td>\n",
       "      <td>366.328857</td>\n",
       "      <td>359.965149</td>\n",
       "      <td>160.0</td>\n",
       "      <td>319.0</td>\n",
       "      <td>47.834621</td>\n",
       "      <td>0.114719</td>\n",
       "      <td>0.423197</td>\n",
       "      <td>371.372955</td>\n",
       "      <td>376.156433</td>\n",
       "    </tr>\n",
       "    <tr>\n",
       "      <th>18.0</th>\n",
       "      <td>189</td>\n",
       "      <td>0.176383</td>\n",
       "      <td>377.254150</td>\n",
       "      <td>1.190313</td>\n",
       "      <td>354.212006</td>\n",
       "      <td>0.347570</td>\n",
       "      <td>63.637043</td>\n",
       "      <td>0.48125</td>\n",
       "      <td>366.328857</td>\n",
       "      <td>359.965149</td>\n",
       "      <td>160.0</td>\n",
       "      <td>319.0</td>\n",
       "      <td>44.710545</td>\n",
       "      <td>0.092472</td>\n",
       "      <td>0.473354</td>\n",
       "      <td>366.528931</td>\n",
       "      <td>371.000000</td>\n",
       "    </tr>\n",
       "    <tr>\n",
       "      <th>19.0</th>\n",
       "      <td>199</td>\n",
       "      <td>0.052634</td>\n",
       "      <td>379.355743</td>\n",
       "      <td>8.113350</td>\n",
       "      <td>410.463135</td>\n",
       "      <td>20.083910</td>\n",
       "      <td>328.089844</td>\n",
       "      <td>0.50000</td>\n",
       "      <td>914.388306</td>\n",
       "      <td>881.579285</td>\n",
       "      <td>160.0</td>\n",
       "      <td>319.0</td>\n",
       "      <td>43.153809</td>\n",
       "      <td>0.083563</td>\n",
       "      <td>0.476489</td>\n",
       "      <td>361.647278</td>\n",
       "      <td>365.962677</td>\n",
       "    </tr>\n",
       "    <tr>\n",
       "      <th>20.0</th>\n",
       "      <td>209</td>\n",
       "      <td>0.100490</td>\n",
       "      <td>367.901672</td>\n",
       "      <td>0.100830</td>\n",
       "      <td>350.743164</td>\n",
       "      <td>0.975965</td>\n",
       "      <td>139.466644</td>\n",
       "      <td>0.52500</td>\n",
       "      <td>507.084137</td>\n",
       "      <td>493.137512</td>\n",
       "      <td>160.0</td>\n",
       "      <td>319.0</td>\n",
       "      <td>41.061943</td>\n",
       "      <td>0.088604</td>\n",
       "      <td>0.479624</td>\n",
       "      <td>356.762146</td>\n",
       "      <td>360.868347</td>\n",
       "    </tr>\n",
       "    <tr>\n",
       "      <th>21.0</th>\n",
       "      <td>219</td>\n",
       "      <td>0.103839</td>\n",
       "      <td>345.555603</td>\n",
       "      <td>0.148304</td>\n",
       "      <td>346.821442</td>\n",
       "      <td>0.975965</td>\n",
       "      <td>139.466644</td>\n",
       "      <td>0.46875</td>\n",
       "      <td>507.084137</td>\n",
       "      <td>493.137512</td>\n",
       "      <td>160.0</td>\n",
       "      <td>319.0</td>\n",
       "      <td>42.130024</td>\n",
       "      <td>0.089573</td>\n",
       "      <td>0.495298</td>\n",
       "      <td>351.873596</td>\n",
       "      <td>356.086609</td>\n",
       "    </tr>\n",
       "    <tr>\n",
       "      <th>22.0</th>\n",
       "      <td>229</td>\n",
       "      <td>0.074817</td>\n",
       "      <td>341.055878</td>\n",
       "      <td>0.210574</td>\n",
       "      <td>344.291138</td>\n",
       "      <td>0.198972</td>\n",
       "      <td>46.736046</td>\n",
       "      <td>0.49375</td>\n",
       "      <td>339.860687</td>\n",
       "      <td>335.187073</td>\n",
       "      <td>160.0</td>\n",
       "      <td>319.0</td>\n",
       "      <td>50.582325</td>\n",
       "      <td>0.117783</td>\n",
       "      <td>0.517241</td>\n",
       "      <td>346.961792</td>\n",
       "      <td>352.020050</td>\n",
       "    </tr>\n",
       "    <tr>\n",
       "      <th>23.0</th>\n",
       "      <td>239</td>\n",
       "      <td>0.150189</td>\n",
       "      <td>348.241943</td>\n",
       "      <td>0.112668</td>\n",
       "      <td>335.572876</td>\n",
       "      <td>0.198972</td>\n",
       "      <td>46.736046</td>\n",
       "      <td>0.46875</td>\n",
       "      <td>339.860687</td>\n",
       "      <td>335.187073</td>\n",
       "      <td>160.0</td>\n",
       "      <td>319.0</td>\n",
       "      <td>44.671955</td>\n",
       "      <td>0.110367</td>\n",
       "      <td>0.470219</td>\n",
       "      <td>342.283173</td>\n",
       "      <td>346.750366</td>\n",
       "    </tr>\n",
       "    <tr>\n",
       "      <th>24.0</th>\n",
       "      <td>249</td>\n",
       "      <td>0.168851</td>\n",
       "      <td>344.521606</td>\n",
       "      <td>0.112668</td>\n",
       "      <td>335.572876</td>\n",
       "      <td>0.198972</td>\n",
       "      <td>46.736046</td>\n",
       "      <td>0.40625</td>\n",
       "      <td>339.860687</td>\n",
       "      <td>335.187073</td>\n",
       "      <td>160.0</td>\n",
       "      <td>319.0</td>\n",
       "      <td>52.500496</td>\n",
       "      <td>0.126865</td>\n",
       "      <td>0.485893</td>\n",
       "      <td>337.723114</td>\n",
       "      <td>342.973206</td>\n",
       "    </tr>\n",
       "    <tr>\n",
       "      <th>25.0</th>\n",
       "      <td>259</td>\n",
       "      <td>0.052413</td>\n",
       "      <td>350.337128</td>\n",
       "      <td>0.365380</td>\n",
       "      <td>329.763977</td>\n",
       "      <td>0.198972</td>\n",
       "      <td>46.736046</td>\n",
       "      <td>0.55625</td>\n",
       "      <td>339.860687</td>\n",
       "      <td>335.187073</td>\n",
       "      <td>160.0</td>\n",
       "      <td>319.0</td>\n",
       "      <td>44.253551</td>\n",
       "      <td>0.126113</td>\n",
       "      <td>0.495298</td>\n",
       "      <td>333.275635</td>\n",
       "      <td>337.701050</td>\n",
       "    </tr>\n",
       "    <tr>\n",
       "      <th>26.0</th>\n",
       "      <td>269</td>\n",
       "      <td>0.145438</td>\n",
       "      <td>312.727295</td>\n",
       "      <td>0.365380</td>\n",
       "      <td>329.763977</td>\n",
       "      <td>0.198972</td>\n",
       "      <td>46.736046</td>\n",
       "      <td>0.51250</td>\n",
       "      <td>339.860687</td>\n",
       "      <td>335.187073</td>\n",
       "      <td>160.0</td>\n",
       "      <td>319.0</td>\n",
       "      <td>42.854546</td>\n",
       "      <td>0.083213</td>\n",
       "      <td>0.545455</td>\n",
       "      <td>328.757996</td>\n",
       "      <td>333.043457</td>\n",
       "    </tr>\n",
       "    <tr>\n",
       "      <th>27.0</th>\n",
       "      <td>279</td>\n",
       "      <td>0.117577</td>\n",
       "      <td>327.386536</td>\n",
       "      <td>0.091181</td>\n",
       "      <td>324.898132</td>\n",
       "      <td>0.198972</td>\n",
       "      <td>17131.193359</td>\n",
       "      <td>0.46875</td>\n",
       "      <td>339.860687</td>\n",
       "      <td>335.187073</td>\n",
       "      <td>160.0</td>\n",
       "      <td>319.0</td>\n",
       "      <td>52.849789</td>\n",
       "      <td>0.128456</td>\n",
       "      <td>0.460815</td>\n",
       "      <td>324.298737</td>\n",
       "      <td>329.583710</td>\n",
       "    </tr>\n",
       "    <tr>\n",
       "      <th>28.0</th>\n",
       "      <td>289</td>\n",
       "      <td>0.105929</td>\n",
       "      <td>320.906311</td>\n",
       "      <td>0.069605</td>\n",
       "      <td>320.018066</td>\n",
       "      <td>0.198972</td>\n",
       "      <td>17131.193359</td>\n",
       "      <td>0.53750</td>\n",
       "      <td>339.860687</td>\n",
       "      <td>335.187073</td>\n",
       "      <td>160.0</td>\n",
       "      <td>319.0</td>\n",
       "      <td>52.201801</td>\n",
       "      <td>0.074884</td>\n",
       "      <td>0.517241</td>\n",
       "      <td>319.909546</td>\n",
       "      <td>325.129761</td>\n",
       "    </tr>\n",
       "    <tr>\n",
       "      <th>29.0</th>\n",
       "      <td>299</td>\n",
       "      <td>0.089427</td>\n",
       "      <td>319.040771</td>\n",
       "      <td>0.246034</td>\n",
       "      <td>312.792328</td>\n",
       "      <td>0.198972</td>\n",
       "      <td>17131.193359</td>\n",
       "      <td>0.50625</td>\n",
       "      <td>339.860687</td>\n",
       "      <td>335.187073</td>\n",
       "      <td>160.0</td>\n",
       "      <td>319.0</td>\n",
       "      <td>48.907497</td>\n",
       "      <td>0.084172</td>\n",
       "      <td>0.539185</td>\n",
       "      <td>315.263947</td>\n",
       "      <td>320.154724</td>\n",
       "    </tr>\n",
       "    <tr>\n",
       "      <th>30.0</th>\n",
       "      <td>309</td>\n",
       "      <td>0.164122</td>\n",
       "      <td>322.335510</td>\n",
       "      <td>29.221788</td>\n",
       "      <td>667.769409</td>\n",
       "      <td>0.198972</td>\n",
       "      <td>17131.193359</td>\n",
       "      <td>0.57500</td>\n",
       "      <td>339.860687</td>\n",
       "      <td>335.187073</td>\n",
       "      <td>160.0</td>\n",
       "      <td>319.0</td>\n",
       "      <td>54.762409</td>\n",
       "      <td>0.089363</td>\n",
       "      <td>0.517241</td>\n",
       "      <td>310.595825</td>\n",
       "      <td>316.072052</td>\n",
       "    </tr>\n",
       "    <tr>\n",
       "      <th>31.0</th>\n",
       "      <td>319</td>\n",
       "      <td>0.242605</td>\n",
       "      <td>317.783264</td>\n",
       "      <td>0.757277</td>\n",
       "      <td>309.510468</td>\n",
       "      <td>1.923001</td>\n",
       "      <td>126.836708</td>\n",
       "      <td>0.50625</td>\n",
       "      <td>323.412659</td>\n",
       "      <td>310.729004</td>\n",
       "      <td>160.0</td>\n",
       "      <td>319.0</td>\n",
       "      <td>55.731419</td>\n",
       "      <td>0.166241</td>\n",
       "      <td>0.545455</td>\n",
       "      <td>306.066132</td>\n",
       "      <td>311.639282</td>\n",
       "    </tr>\n",
       "    <tr>\n",
       "      <th>32.0</th>\n",
       "      <td>329</td>\n",
       "      <td>0.075177</td>\n",
       "      <td>299.619293</td>\n",
       "      <td>0.597754</td>\n",
       "      <td>304.172791</td>\n",
       "      <td>1.688683</td>\n",
       "      <td>158.686478</td>\n",
       "      <td>0.50000</td>\n",
       "      <td>333.340668</td>\n",
       "      <td>317.472046</td>\n",
       "      <td>160.0</td>\n",
       "      <td>319.0</td>\n",
       "      <td>63.102432</td>\n",
       "      <td>0.128822</td>\n",
       "      <td>0.545455</td>\n",
       "      <td>301.816010</td>\n",
       "      <td>308.126251</td>\n",
       "    </tr>\n",
       "    <tr>\n",
       "      <th>33.0</th>\n",
       "      <td>339</td>\n",
       "      <td>0.098042</td>\n",
       "      <td>288.247620</td>\n",
       "      <td>0.167153</td>\n",
       "      <td>302.524902</td>\n",
       "      <td>1.688683</td>\n",
       "      <td>158.686478</td>\n",
       "      <td>0.41250</td>\n",
       "      <td>333.340668</td>\n",
       "      <td>317.472046</td>\n",
       "      <td>160.0</td>\n",
       "      <td>319.0</td>\n",
       "      <td>81.104980</td>\n",
       "      <td>0.126551</td>\n",
       "      <td>0.479624</td>\n",
       "      <td>297.812683</td>\n",
       "      <td>305.923187</td>\n",
       "    </tr>\n",
       "    <tr>\n",
       "      <th>34.0</th>\n",
       "      <td>349</td>\n",
       "      <td>0.107045</td>\n",
       "      <td>299.786438</td>\n",
       "      <td>0.106057</td>\n",
       "      <td>297.684143</td>\n",
       "      <td>1.688683</td>\n",
       "      <td>158.686478</td>\n",
       "      <td>0.45625</td>\n",
       "      <td>333.340668</td>\n",
       "      <td>317.472046</td>\n",
       "      <td>160.0</td>\n",
       "      <td>319.0</td>\n",
       "      <td>67.806465</td>\n",
       "      <td>0.153103</td>\n",
       "      <td>0.526646</td>\n",
       "      <td>294.048523</td>\n",
       "      <td>300.829193</td>\n",
       "    </tr>\n",
       "    <tr>\n",
       "      <th>35.0</th>\n",
       "      <td>359</td>\n",
       "      <td>0.093260</td>\n",
       "      <td>298.220276</td>\n",
       "      <td>0.106057</td>\n",
       "      <td>297.684143</td>\n",
       "      <td>1.688683</td>\n",
       "      <td>158.686478</td>\n",
       "      <td>0.48125</td>\n",
       "      <td>333.340668</td>\n",
       "      <td>317.472046</td>\n",
       "      <td>160.0</td>\n",
       "      <td>319.0</td>\n",
       "      <td>67.676437</td>\n",
       "      <td>0.115081</td>\n",
       "      <td>0.482759</td>\n",
       "      <td>289.935822</td>\n",
       "      <td>296.703430</td>\n",
       "    </tr>\n",
       "    <tr>\n",
       "      <th>36.0</th>\n",
       "      <td>369</td>\n",
       "      <td>0.097220</td>\n",
       "      <td>287.642670</td>\n",
       "      <td>0.106057</td>\n",
       "      <td>297.684143</td>\n",
       "      <td>1.688683</td>\n",
       "      <td>158.686478</td>\n",
       "      <td>0.45625</td>\n",
       "      <td>333.340668</td>\n",
       "      <td>317.472046</td>\n",
       "      <td>160.0</td>\n",
       "      <td>319.0</td>\n",
       "      <td>59.093338</td>\n",
       "      <td>0.127884</td>\n",
       "      <td>0.495298</td>\n",
       "      <td>285.785431</td>\n",
       "      <td>291.694763</td>\n",
       "    </tr>\n",
       "    <tr>\n",
       "      <th>37.0</th>\n",
       "      <td>379</td>\n",
       "      <td>0.095866</td>\n",
       "      <td>279.527710</td>\n",
       "      <td>0.106057</td>\n",
       "      <td>297.684143</td>\n",
       "      <td>1.688683</td>\n",
       "      <td>158.686478</td>\n",
       "      <td>0.43750</td>\n",
       "      <td>333.340668</td>\n",
       "      <td>317.472046</td>\n",
       "      <td>160.0</td>\n",
       "      <td>319.0</td>\n",
       "      <td>61.624107</td>\n",
       "      <td>0.092269</td>\n",
       "      <td>0.561128</td>\n",
       "      <td>281.549866</td>\n",
       "      <td>287.712280</td>\n",
       "    </tr>\n",
       "    <tr>\n",
       "      <th>38.0</th>\n",
       "      <td>389</td>\n",
       "      <td>0.179300</td>\n",
       "      <td>276.322937</td>\n",
       "      <td>0.549609</td>\n",
       "      <td>328.545074</td>\n",
       "      <td>1.688683</td>\n",
       "      <td>158.686478</td>\n",
       "      <td>0.56250</td>\n",
       "      <td>333.340668</td>\n",
       "      <td>317.472046</td>\n",
       "      <td>160.0</td>\n",
       "      <td>319.0</td>\n",
       "      <td>67.277428</td>\n",
       "      <td>0.116709</td>\n",
       "      <td>0.489028</td>\n",
       "      <td>277.281738</td>\n",
       "      <td>284.009491</td>\n",
       "    </tr>\n",
       "    <tr>\n",
       "      <th>39.0</th>\n",
       "      <td>399</td>\n",
       "      <td>0.071328</td>\n",
       "      <td>260.482483</td>\n",
       "      <td>3.938781</td>\n",
       "      <td>287.211700</td>\n",
       "      <td>1.990286</td>\n",
       "      <td>152.001633</td>\n",
       "      <td>0.51875</td>\n",
       "      <td>277.857086</td>\n",
       "      <td>262.656921</td>\n",
       "      <td>160.0</td>\n",
       "      <td>319.0</td>\n",
       "      <td>66.777878</td>\n",
       "      <td>0.112187</td>\n",
       "      <td>0.489028</td>\n",
       "      <td>273.057312</td>\n",
       "      <td>279.735107</td>\n",
       "    </tr>\n",
       "    <tr>\n",
       "      <th>40.0</th>\n",
       "      <td>409</td>\n",
       "      <td>0.203524</td>\n",
       "      <td>268.176392</td>\n",
       "      <td>56.228828</td>\n",
       "      <td>39154.414062</td>\n",
       "      <td>1.990286</td>\n",
       "      <td>3444.189453</td>\n",
       "      <td>0.45625</td>\n",
       "      <td>24788.082031</td>\n",
       "      <td>24443.662109</td>\n",
       "      <td>160.0</td>\n",
       "      <td>319.0</td>\n",
       "      <td>89.430847</td>\n",
       "      <td>0.137328</td>\n",
       "      <td>0.536050</td>\n",
       "      <td>269.321106</td>\n",
       "      <td>278.264191</td>\n",
       "    </tr>\n",
       "    <tr>\n",
       "      <th>41.0</th>\n",
       "      <td>419</td>\n",
       "      <td>0.057067</td>\n",
       "      <td>266.988281</td>\n",
       "      <td>0.053876</td>\n",
       "      <td>269.762085</td>\n",
       "      <td>1.990286</td>\n",
       "      <td>28078.265625</td>\n",
       "      <td>0.52500</td>\n",
       "      <td>24788.082031</td>\n",
       "      <td>24443.662109</td>\n",
       "      <td>160.0</td>\n",
       "      <td>319.0</td>\n",
       "      <td>81.563759</td>\n",
       "      <td>0.129969</td>\n",
       "      <td>0.529781</td>\n",
       "      <td>265.549500</td>\n",
       "      <td>273.705872</td>\n",
       "    </tr>\n",
       "    <tr>\n",
       "      <th>42.0</th>\n",
       "      <td>429</td>\n",
       "      <td>0.103930</td>\n",
       "      <td>261.093750</td>\n",
       "      <td>0.198983</td>\n",
       "      <td>258.444855</td>\n",
       "      <td>1.990286</td>\n",
       "      <td>28078.265625</td>\n",
       "      <td>0.51875</td>\n",
       "      <td>24788.082031</td>\n",
       "      <td>24443.662109</td>\n",
       "      <td>160.0</td>\n",
       "      <td>319.0</td>\n",
       "      <td>64.150124</td>\n",
       "      <td>0.116033</td>\n",
       "      <td>0.536050</td>\n",
       "      <td>261.684357</td>\n",
       "      <td>268.099396</td>\n",
       "    </tr>\n",
       "    <tr>\n",
       "      <th>43.0</th>\n",
       "      <td>439</td>\n",
       "      <td>0.109155</td>\n",
       "      <td>269.318512</td>\n",
       "      <td>3.437792</td>\n",
       "      <td>279.737030</td>\n",
       "      <td>1.990286</td>\n",
       "      <td>28078.265625</td>\n",
       "      <td>0.64375</td>\n",
       "      <td>24788.082031</td>\n",
       "      <td>24443.662109</td>\n",
       "      <td>160.0</td>\n",
       "      <td>319.0</td>\n",
       "      <td>80.100380</td>\n",
       "      <td>0.129244</td>\n",
       "      <td>0.517241</td>\n",
       "      <td>257.762695</td>\n",
       "      <td>265.772736</td>\n",
       "    </tr>\n",
       "    <tr>\n",
       "      <th>44.0</th>\n",
       "      <td>449</td>\n",
       "      <td>0.209177</td>\n",
       "      <td>258.036041</td>\n",
       "      <td>1.740373</td>\n",
       "      <td>271.381409</td>\n",
       "      <td>1.990286</td>\n",
       "      <td>28078.265625</td>\n",
       "      <td>0.48750</td>\n",
       "      <td>24788.082031</td>\n",
       "      <td>24443.662109</td>\n",
       "      <td>160.0</td>\n",
       "      <td>319.0</td>\n",
       "      <td>63.816448</td>\n",
       "      <td>0.124670</td>\n",
       "      <td>0.489028</td>\n",
       "      <td>252.877747</td>\n",
       "      <td>259.259399</td>\n",
       "    </tr>\n",
       "  </tbody>\n",
       "</table>\n",
       "</div>"
      ],
      "text/plain": [
       "       step  train/loss_pred_step  train/loss_rec_step  val/loss_pred_step  \\\n",
       "epoch                                                                        \n",
       "0.0       9              0.199934           508.042511            0.016869   \n",
       "1.0      19              0.106668           479.072662            0.074828   \n",
       "2.0      29              0.260621           475.775391            0.317313   \n",
       "3.0      39              0.194495           466.853760            0.301481   \n",
       "4.0      49              0.119615           448.092072            0.605777   \n",
       "5.0      59              0.106477           437.719055            9.173607   \n",
       "6.0      69              0.099702           433.197876            0.245573   \n",
       "7.0      79              0.131583           419.805664            0.089419   \n",
       "8.0      89              0.062995           423.891174            0.496486   \n",
       "9.0      99              0.088170           430.931030            0.385074   \n",
       "10.0    109              0.102550           391.753265            0.156573   \n",
       "11.0    119              0.097264           417.768738            0.189946   \n",
       "12.0    129              0.090602           404.250244            0.625002   \n",
       "13.0    139              0.133334           393.452728            0.209404   \n",
       "14.0    149              0.043861           383.788513            3.153830   \n",
       "15.0    159              0.167676           389.939941            0.418003   \n",
       "16.0    169              0.179846           370.030273            0.405037   \n",
       "17.0    179              0.106449           364.005493            0.290867   \n",
       "18.0    189              0.176383           377.254150            1.190313   \n",
       "19.0    199              0.052634           379.355743            8.113350   \n",
       "20.0    209              0.100490           367.901672            0.100830   \n",
       "21.0    219              0.103839           345.555603            0.148304   \n",
       "22.0    229              0.074817           341.055878            0.210574   \n",
       "23.0    239              0.150189           348.241943            0.112668   \n",
       "24.0    249              0.168851           344.521606            0.112668   \n",
       "25.0    259              0.052413           350.337128            0.365380   \n",
       "26.0    269              0.145438           312.727295            0.365380   \n",
       "27.0    279              0.117577           327.386536            0.091181   \n",
       "28.0    289              0.105929           320.906311            0.069605   \n",
       "29.0    299              0.089427           319.040771            0.246034   \n",
       "30.0    309              0.164122           322.335510           29.221788   \n",
       "31.0    319              0.242605           317.783264            0.757277   \n",
       "32.0    329              0.075177           299.619293            0.597754   \n",
       "33.0    339              0.098042           288.247620            0.167153   \n",
       "34.0    349              0.107045           299.786438            0.106057   \n",
       "35.0    359              0.093260           298.220276            0.106057   \n",
       "36.0    369              0.097220           287.642670            0.106057   \n",
       "37.0    379              0.095866           279.527710            0.106057   \n",
       "38.0    389              0.179300           276.322937            0.549609   \n",
       "39.0    399              0.071328           260.482483            3.938781   \n",
       "40.0    409              0.203524           268.176392           56.228828   \n",
       "41.0    419              0.057067           266.988281            0.053876   \n",
       "42.0    429              0.103930           261.093750            0.198983   \n",
       "43.0    439              0.109155           269.318512            3.437792   \n",
       "44.0    449              0.209177           258.036041            1.740373   \n",
       "\n",
       "       val/loss_rec_step  val/loss_pred_epoch   val/l1_loss  val/acc  \\\n",
       "epoch                                                                  \n",
       "0.0           466.363892             0.017093    144.221893  0.46250   \n",
       "1.0           473.800690             0.064029    218.099930  0.44375   \n",
       "2.0           486.424591             0.275421    358.927002  0.43750   \n",
       "3.0           473.986908             0.277073    252.571091  0.44375   \n",
       "4.0           465.829834             0.669552    218.161819  0.43750   \n",
       "5.0         32447.851562            35.750061   2203.088623  0.45625   \n",
       "6.0           432.980225             0.198242     96.178032  0.51250   \n",
       "7.0           421.385101             0.134129     82.626465  0.44375   \n",
       "8.0           409.422028             0.281321     61.079731  0.46875   \n",
       "9.0           401.214111             0.233270     63.168621  0.47500   \n",
       "10.0          401.524841             0.233270     63.168621  0.54375   \n",
       "11.0          394.019470             0.233270     63.168621  0.52500   \n",
       "12.0          388.463348             0.233270     63.168621  0.48750   \n",
       "13.0          385.879272             0.233270     63.168621  0.41250   \n",
       "14.0          410.418457             2.400221    174.443146  0.46250   \n",
       "15.0          372.824554             0.310268     57.376678  0.38125   \n",
       "16.0          370.824768             0.347570     63.637043  0.50000   \n",
       "17.0          367.085632             0.347570     63.637043  0.44375   \n",
       "18.0          354.212006             0.347570     63.637043  0.48125   \n",
       "19.0          410.463135            20.083910    328.089844  0.50000   \n",
       "20.0          350.743164             0.975965    139.466644  0.52500   \n",
       "21.0          346.821442             0.975965    139.466644  0.46875   \n",
       "22.0          344.291138             0.198972     46.736046  0.49375   \n",
       "23.0          335.572876             0.198972     46.736046  0.46875   \n",
       "24.0          335.572876             0.198972     46.736046  0.40625   \n",
       "25.0          329.763977             0.198972     46.736046  0.55625   \n",
       "26.0          329.763977             0.198972     46.736046  0.51250   \n",
       "27.0          324.898132             0.198972  17131.193359  0.46875   \n",
       "28.0          320.018066             0.198972  17131.193359  0.53750   \n",
       "29.0          312.792328             0.198972  17131.193359  0.50625   \n",
       "30.0          667.769409             0.198972  17131.193359  0.57500   \n",
       "31.0          309.510468             1.923001    126.836708  0.50625   \n",
       "32.0          304.172791             1.688683    158.686478  0.50000   \n",
       "33.0          302.524902             1.688683    158.686478  0.41250   \n",
       "34.0          297.684143             1.688683    158.686478  0.45625   \n",
       "35.0          297.684143             1.688683    158.686478  0.48125   \n",
       "36.0          297.684143             1.688683    158.686478  0.45625   \n",
       "37.0          297.684143             1.688683    158.686478  0.43750   \n",
       "38.0          328.545074             1.688683    158.686478  0.56250   \n",
       "39.0          287.211700             1.990286    152.001633  0.51875   \n",
       "40.0        39154.414062             1.990286   3444.189453  0.45625   \n",
       "41.0          269.762085             1.990286  28078.265625  0.52500   \n",
       "42.0          258.444855             1.990286  28078.265625  0.51875   \n",
       "43.0          279.737030             1.990286  28078.265625  0.64375   \n",
       "44.0          271.381409             1.990286  28078.265625  0.48750   \n",
       "\n",
       "       val/loss_rec_epoch   val/l2_loss  val/n  train/n  train/l1_loss  \\\n",
       "epoch                                                                    \n",
       "0.0            461.226562    446.804382  160.0    319.0     403.715576   \n",
       "1.0            468.098450    446.288483  160.0    319.0     363.405396   \n",
       "2.0            480.792145    444.899414  160.0    319.0     239.728592   \n",
       "3.0            468.411865    443.154724  160.0    319.0     135.049179   \n",
       "4.0            473.097961    451.281738  160.0    319.0      84.055557   \n",
       "5.0          96359.390625  96139.078125  160.0    319.0      63.052956   \n",
       "6.0            427.948425    418.330627  160.0    319.0      57.291828   \n",
       "7.0            415.469727    407.207092  160.0    319.0      47.972862   \n",
       "8.0            404.322327    398.214325  160.0    319.0      42.815536   \n",
       "9.0            396.467773    390.150940  160.0    319.0      39.363873   \n",
       "10.0           396.467773    390.150940  160.0    319.0      41.013138   \n",
       "11.0           396.467773    390.150940  160.0    319.0      42.434593   \n",
       "12.0           396.467773    390.150940  160.0    319.0      37.158653   \n",
       "13.0           396.467773    390.150940  160.0    319.0      36.614239   \n",
       "14.0           437.366791    419.922455  160.0    319.0      41.070839   \n",
       "15.0           367.985535    362.247864  160.0    319.0      52.748623   \n",
       "16.0           366.328857    359.965149  160.0    319.0      47.871304   \n",
       "17.0           366.328857    359.965149  160.0    319.0      47.834621   \n",
       "18.0           366.328857    359.965149  160.0    319.0      44.710545   \n",
       "19.0           914.388306    881.579285  160.0    319.0      43.153809   \n",
       "20.0           507.084137    493.137512  160.0    319.0      41.061943   \n",
       "21.0           507.084137    493.137512  160.0    319.0      42.130024   \n",
       "22.0           339.860687    335.187073  160.0    319.0      50.582325   \n",
       "23.0           339.860687    335.187073  160.0    319.0      44.671955   \n",
       "24.0           339.860687    335.187073  160.0    319.0      52.500496   \n",
       "25.0           339.860687    335.187073  160.0    319.0      44.253551   \n",
       "26.0           339.860687    335.187073  160.0    319.0      42.854546   \n",
       "27.0           339.860687    335.187073  160.0    319.0      52.849789   \n",
       "28.0           339.860687    335.187073  160.0    319.0      52.201801   \n",
       "29.0           339.860687    335.187073  160.0    319.0      48.907497   \n",
       "30.0           339.860687    335.187073  160.0    319.0      54.762409   \n",
       "31.0           323.412659    310.729004  160.0    319.0      55.731419   \n",
       "32.0           333.340668    317.472046  160.0    319.0      63.102432   \n",
       "33.0           333.340668    317.472046  160.0    319.0      81.104980   \n",
       "34.0           333.340668    317.472046  160.0    319.0      67.806465   \n",
       "35.0           333.340668    317.472046  160.0    319.0      67.676437   \n",
       "36.0           333.340668    317.472046  160.0    319.0      59.093338   \n",
       "37.0           333.340668    317.472046  160.0    319.0      61.624107   \n",
       "38.0           333.340668    317.472046  160.0    319.0      67.277428   \n",
       "39.0           277.857086    262.656921  160.0    319.0      66.777878   \n",
       "40.0         24788.082031  24443.662109  160.0    319.0      89.430847   \n",
       "41.0         24788.082031  24443.662109  160.0    319.0      81.563759   \n",
       "42.0         24788.082031  24443.662109  160.0    319.0      64.150124   \n",
       "43.0         24788.082031  24443.662109  160.0    319.0      80.100380   \n",
       "44.0         24788.082031  24443.662109  160.0    319.0      63.816448   \n",
       "\n",
       "       train/loss_pred_epoch  train/acc  train/l2_loss  train/loss_rec_epoch  \n",
       "epoch                                                                         \n",
       "0.0                 0.226344   0.510972     457.857361            498.228943  \n",
       "1.0                 0.234098   0.523511     457.078064            493.418549  \n",
       "2.0                 0.214629   0.460815     455.740601            479.713470  \n",
       "3.0                 0.166888   0.526646     453.992615            467.497559  \n",
       "4.0                 0.143066   0.470219     450.990387            459.395966  \n",
       "5.0                 0.139873   0.473354     446.026947            452.332184  \n",
       "6.0                 0.114894   0.498433     438.987946            444.717194  \n",
       "7.0                 0.107948   0.467085     431.262848            436.060089  \n",
       "8.0                 0.101212   0.501567     423.542908            427.824463  \n",
       "9.0                 0.078224   0.495298     416.191711            420.128143  \n",
       "10.0                0.082691   0.520376     409.437805            413.539185  \n",
       "11.0                0.090856   0.583072     403.294220            407.537659  \n",
       "12.0                0.090972   0.476489     397.190918            400.906799  \n",
       "13.0                0.109294   0.482759     391.272614            394.934082  \n",
       "14.0                0.099346   0.476489     385.818390            389.925507  \n",
       "15.0                0.107731   0.498433     380.862488            386.137360  \n",
       "16.0                0.119689   0.495298     376.121582            380.908661  \n",
       "17.0                0.114719   0.423197     371.372955            376.156433  \n",
       "18.0                0.092472   0.473354     366.528931            371.000000  \n",
       "19.0                0.083563   0.476489     361.647278            365.962677  \n",
       "20.0                0.088604   0.479624     356.762146            360.868347  \n",
       "21.0                0.089573   0.495298     351.873596            356.086609  \n",
       "22.0                0.117783   0.517241     346.961792            352.020050  \n",
       "23.0                0.110367   0.470219     342.283173            346.750366  \n",
       "24.0                0.126865   0.485893     337.723114            342.973206  \n",
       "25.0                0.126113   0.495298     333.275635            337.701050  \n",
       "26.0                0.083213   0.545455     328.757996            333.043457  \n",
       "27.0                0.128456   0.460815     324.298737            329.583710  \n",
       "28.0                0.074884   0.517241     319.909546            325.129761  \n",
       "29.0                0.084172   0.539185     315.263947            320.154724  \n",
       "30.0                0.089363   0.517241     310.595825            316.072052  \n",
       "31.0                0.166241   0.545455     306.066132            311.639282  \n",
       "32.0                0.128822   0.545455     301.816010            308.126251  \n",
       "33.0                0.126551   0.479624     297.812683            305.923187  \n",
       "34.0                0.153103   0.526646     294.048523            300.829193  \n",
       "35.0                0.115081   0.482759     289.935822            296.703430  \n",
       "36.0                0.127884   0.495298     285.785431            291.694763  \n",
       "37.0                0.092269   0.561128     281.549866            287.712280  \n",
       "38.0                0.116709   0.489028     277.281738            284.009491  \n",
       "39.0                0.112187   0.489028     273.057312            279.735107  \n",
       "40.0                0.137328   0.536050     269.321106            278.264191  \n",
       "41.0                0.129969   0.529781     265.549500            273.705872  \n",
       "42.0                0.116033   0.536050     261.684357            268.099396  \n",
       "43.0                0.129244   0.517241     257.762695            265.772736  \n",
       "44.0                0.124670   0.489028     252.877747            259.259399  "
      ]
     },
     "execution_count": 23,
     "metadata": {},
     "output_type": "execute_result"
    }
   ],
   "source": [
    "\n",
    "df_hist, df_hist_step = read_metrics_csv(trainer1.logger.experiment.metrics_file_path)\n",
    "plot_hist(df_hist, ['l2_loss', 'l1_loss', 'loss_rec'], logy=True)\n",
    "plt.show()\n",
    "plot_hist(df_hist_step, ['loss_rec_step'], logy=True)\n",
    "\n",
    "df_hist\n"
   ]
  },
  {
   "cell_type": "code",
   "execution_count": 24,
   "metadata": {},
   "outputs": [
    {
     "data": {
      "image/png": "[encoded data removed]",
      "text/plain": [
       "<Figure size 640x440 with 8 Axes>"
      ]
     },
     "metadata": {},
     "output_type": "display_data"
    },
    {
     "data": {
      "image/png": "[encoded data removed]",
      "text/plain": [
       "<Figure size 640x440 with 1 Axes>"
      ]
     },
     "metadata": {},
     "output_type": "display_data"
    }
   ],
   "source": [
    "# visualize latent space\n",
    "from matplotlib import cm\n",
    "\n",
    "\n",
    "def plot_latent(latent):\n",
    "\n",
    "    # plot image of latent space\n",
    "    vmax = latent.abs().max()\n",
    "    for i in range(4):\n",
    "        plt.subplot(2, 2, i + 1)\n",
    "        vmax = latent[i].abs().max()\n",
    "        plt.imshow(\n",
    "            latent[i],\n",
    "            cmap=cm.coolwarm,\n",
    "            interpolation=\"none\",\n",
    "            aspect=\"auto\",\n",
    "            vmin=-vmax,\n",
    "            vmax=vmax,\n",
    "        )\n",
    "        plt.xlabel(\"layer\")\n",
    "        plt.ylabel(\"neuron\")\n",
    "        if i < 2:\n",
    "            plt.xlabel(\"\")\n",
    "            plt.xticks([])\n",
    "        if i % 2 == 1:\n",
    "            plt.ylabel(\"\")\n",
    "            plt.yticks([])\n",
    "        plt.grid(False)\n",
    "        plt.colorbar()\n",
    "    # plt.colorbar()\n",
    "    plt.subplots_adjust(wspace=0.05, hspace=0.05)\n",
    "    plt.show()\n",
    "\n",
    "    # histogram\n",
    "    latentf = rearrange(latent, \"b n l -> (b n) l\").flatten()\n",
    "    vmax = (latentf.abs().mean() + 5 * latentf.abs().std()).item()\n",
    "    plt.hist(latentf, bins=55, range=[-vmax, vmax], histtype=\"step\")\n",
    "    plt.title(\"latents by layer\")\n",
    "    plt.show()\n",
    "\n",
    "\n",
    "latent = y[\"latent\"].cpu()  # .reshape(64, 24, 12) # [Batch, Latent, Layer]\n",
    "plot_latent(latent)\n"
   ]
  },
  {
   "cell_type": "markdown",
   "metadata": {},
   "source": [
    "### Train probe"
   ]
  },
  {
   "cell_type": "code",
   "execution_count": 25,
   "metadata": {},
   "outputs": [
    {
     "name": "stderr",
     "output_type": "stream",
     "text": [
      "Trainer will use only 1 of 2 GPUs because it is running inside an interactive / notebook environment. You may try to set `Trainer(devices=2)` but please note that multi-GPU inside interactive / notebook environments is considered experimental and unstable. Your mileage may vary.\n",
      "Using 16bit Automatic Mixed Precision (AMP)\n"
     ]
    },
    {
     "name": "stdout",
     "output_type": "stream",
     "text": [
      "requires_grad: False\n"
     ]
    },
    {
     "name": "stderr",
     "output_type": "stream",
     "text": [
      "GPU available: True (cuda), used: True\n",
      "TPU available: False, using: 0 TPU cores\n",
      "IPU available: False, using: 0 IPUs\n",
      "HPU available: False, using: 0 HPUs\n",
      "LOCAL_RANK: 0 - CUDA_VISIBLE_DEVICES: [0,1]\n",
      "\n",
      "  | Name | Type        | Params\n",
      "-------------------------------------\n",
      "0 | ae   | AutoEncoder | 6.4 M \n",
      "1 | head | Sequential  | 54.8 K\n",
      "-------------------------------------\n",
      "54.8 K    Trainable params\n",
      "6.4 M     Non-trainable params\n",
      "6.5 M     Total params\n",
      "25.983    Total estimated model params size (MB)\n"
     ]
    },
    {
     "data": {
      "application/vnd.jupyter.widget-view+json": {
       "model_id": "b15236af5d664c7ea7eb92475705ab2b",
       "version_major": 2,
       "version_minor": 0
      },
      "text/plain": [
       "Sanity Checking: |          | 0/? [00:00<?, ?it/s]"
      ]
     },
     "metadata": {},
     "output_type": "display_data"
    },
    {
     "data": {
      "application/vnd.jupyter.widget-view+json": {
       "model_id": "8687a505c45749b8a41ee47b3f1632d8",
       "version_major": 2,
       "version_minor": 0
      },
      "text/plain": [
       "Training: |          | 0/? [00:00<?, ?it/s]"
      ]
     },
     "metadata": {},
     "output_type": "display_data"
    },
    {
     "data": {
      "application/vnd.jupyter.widget-view+json": {
       "model_id": "1c6daf44be894fff988e176b4d750347",
       "version_major": 2,
       "version_minor": 0
      },
      "text/plain": [
       "Validation: |          | 0/? [00:00<?, ?it/s]"
      ]
     },
     "metadata": {},
     "output_type": "display_data"
    },
    {
     "data": {
      "application/vnd.jupyter.widget-view+json": {
       "model_id": "226ac552108447088c0ed5b3c7332c74",
       "version_major": 2,
       "version_minor": 0
      },
      "text/plain": [
       "Validation: |          | 0/? [00:00<?, ?it/s]"
      ]
     },
     "metadata": {},
     "output_type": "display_data"
    },
    {
     "data": {
      "application/vnd.jupyter.widget-view+json": {
       "model_id": "dae6dda66f844d45ae511fbce94b50fb",
       "version_major": 2,
       "version_minor": 0
      },
      "text/plain": [
       "Validation: |          | 0/? [00:00<?, ?it/s]"
      ]
     },
     "metadata": {},
     "output_type": "display_data"
    },
    {
     "data": {
      "application/vnd.jupyter.widget-view+json": {
       "model_id": "4a9c9853338a4d60af6acb3343d9a7a8",
       "version_major": 2,
       "version_minor": 0
      },
      "text/plain": [
       "Validation: |          | 0/? [00:00<?, ?it/s]"
      ]
     },
     "metadata": {},
     "output_type": "display_data"
    },
    {
     "data": {
      "application/vnd.jupyter.widget-view+json": {
       "model_id": "5cc76ffd2a7f40dc8e7700aef1e38c72",
       "version_major": 2,
       "version_minor": 0
      },
      "text/plain": [
       "Validation: |          | 0/? [00:00<?, ?it/s]"
      ]
     },
     "metadata": {},
     "output_type": "display_data"
    },
    {
     "data": {
      "application/vnd.jupyter.widget-view+json": {
       "model_id": "a9f4ca204a8d415ebd0c6edb27f0806f",
       "version_major": 2,
       "version_minor": 0
      },
      "text/plain": [
       "Validation: |          | 0/? [00:00<?, ?it/s]"
      ]
     },
     "metadata": {},
     "output_type": "display_data"
    },
    {
     "data": {
      "application/vnd.jupyter.widget-view+json": {
       "model_id": "1099fec8e338478993c1751e1ac3bf13",
       "version_major": 2,
       "version_minor": 0
      },
      "text/plain": [
       "Validation: |          | 0/? [00:00<?, ?it/s]"
      ]
     },
     "metadata": {},
     "output_type": "display_data"
    },
    {
     "data": {
      "application/vnd.jupyter.widget-view+json": {
       "model_id": "37e3eeb26e824c7ea38c6018cd893ef4",
       "version_major": 2,
       "version_minor": 0
      },
      "text/plain": [
       "Validation: |          | 0/? [00:00<?, ?it/s]"
      ]
     },
     "metadata": {},
     "output_type": "display_data"
    },
    {
     "data": {
      "application/vnd.jupyter.widget-view+json": {
       "model_id": "684b6f278bb14d119c18fa2eeb535b49",
       "version_major": 2,
       "version_minor": 0
      },
      "text/plain": [
       "Validation: |          | 0/? [00:00<?, ?it/s]"
      ]
     },
     "metadata": {},
     "output_type": "display_data"
    },
    {
     "data": {
      "application/vnd.jupyter.widget-view+json": {
       "model_id": "f10650af028b4bfb9239f8d88e6dd026",
       "version_major": 2,
       "version_minor": 0
      },
      "text/plain": [
       "Validation: |          | 0/? [00:00<?, ?it/s]"
      ]
     },
     "metadata": {},
     "output_type": "display_data"
    },
    {
     "data": {
      "application/vnd.jupyter.widget-view+json": {
       "model_id": "06b676ebb14147db8d60f679a52190dd",
       "version_major": 2,
       "version_minor": 0
      },
      "text/plain": [
       "Validation: |          | 0/? [00:00<?, ?it/s]"
      ]
     },
     "metadata": {},
     "output_type": "display_data"
    },
    {
     "data": {
      "application/vnd.jupyter.widget-view+json": {
       "model_id": "ef1d91f7731b4cdc92c18e25c6ff2f99",
       "version_major": 2,
       "version_minor": 0
      },
      "text/plain": [
       "Validation: |          | 0/? [00:00<?, ?it/s]"
      ]
     },
     "metadata": {},
     "output_type": "display_data"
    },
    {
     "data": {
      "application/vnd.jupyter.widget-view+json": {
       "model_id": "0e0b05d75208451094b5e86c946f87e8",
       "version_major": 2,
       "version_minor": 0
      },
      "text/plain": [
       "Validation: |          | 0/? [00:00<?, ?it/s]"
      ]
     },
     "metadata": {},
     "output_type": "display_data"
    },
    {
     "data": {
      "application/vnd.jupyter.widget-view+json": {
       "model_id": "b07cff2e963946eb988b18691ac2a000",
       "version_major": 2,
       "version_minor": 0
      },
      "text/plain": [
       "Validation: |          | 0/? [00:00<?, ?it/s]"
      ]
     },
     "metadata": {},
     "output_type": "display_data"
    },
    {
     "data": {
      "application/vnd.jupyter.widget-view+json": {
       "model_id": "d0999f2b3d18414c88fb442e163df7a6",
       "version_major": 2,
       "version_minor": 0
      },
      "text/plain": [
       "Validation: |          | 0/? [00:00<?, ?it/s]"
      ]
     },
     "metadata": {},
     "output_type": "display_data"
    },
    {
     "data": {
      "application/vnd.jupyter.widget-view+json": {
       "model_id": "80c5687d6092420db8c07e18d04da2e6",
       "version_major": 2,
       "version_minor": 0
      },
      "text/plain": [
       "Validation: |          | 0/? [00:00<?, ?it/s]"
      ]
     },
     "metadata": {},
     "output_type": "display_data"
    },
    {
     "data": {
      "application/vnd.jupyter.widget-view+json": {
       "model_id": "758e1798a64a45b094fa92d0174dc958",
       "version_major": 2,
       "version_minor": 0
      },
      "text/plain": [
       "Validation: |          | 0/? [00:00<?, ?it/s]"
      ]
     },
     "metadata": {},
     "output_type": "display_data"
    },
    {
     "data": {
      "application/vnd.jupyter.widget-view+json": {
       "model_id": "ccba49149fe14703977bb463163e8ab1",
       "version_major": 2,
       "version_minor": 0
      },
      "text/plain": [
       "Validation: |          | 0/? [00:00<?, ?it/s]"
      ]
     },
     "metadata": {},
     "output_type": "display_data"
    },
    {
     "data": {
      "application/vnd.jupyter.widget-view+json": {
       "model_id": "e79529f489134c768fe48a4881ae0959",
       "version_major": 2,
       "version_minor": 0
      },
      "text/plain": [
       "Validation: |          | 0/? [00:00<?, ?it/s]"
      ]
     },
     "metadata": {},
     "output_type": "display_data"
    },
    {
     "data": {
      "application/vnd.jupyter.widget-view+json": {
       "model_id": "e54565d9b189455ba001a5e2cda272d0",
       "version_major": 2,
       "version_minor": 0
      },
      "text/plain": [
       "Validation: |          | 0/? [00:00<?, ?it/s]"
      ]
     },
     "metadata": {},
     "output_type": "display_data"
    },
    {
     "data": {
      "application/vnd.jupyter.widget-view+json": {
       "model_id": "83791ec066344f6da4fd5cc70c3274d1",
       "version_major": 2,
       "version_minor": 0
      },
      "text/plain": [
       "Validation: |          | 0/? [00:00<?, ?it/s]"
      ]
     },
     "metadata": {},
     "output_type": "display_data"
    },
    {
     "data": {
      "application/vnd.jupyter.widget-view+json": {
       "model_id": "2e2eaac5a7df4f4fb1e33c459fb3e0ce",
       "version_major": 2,
       "version_minor": 0
      },
      "text/plain": [
       "Validation: |          | 0/? [00:00<?, ?it/s]"
      ]
     },
     "metadata": {},
     "output_type": "display_data"
    },
    {
     "data": {
      "application/vnd.jupyter.widget-view+json": {
       "model_id": "44ae7685bde848cf9f564cd5a782b024",
       "version_major": 2,
       "version_minor": 0
      },
      "text/plain": [
       "Validation: |          | 0/? [00:00<?, ?it/s]"
      ]
     },
     "metadata": {},
     "output_type": "display_data"
    },
    {
     "name": "stderr",
     "output_type": "stream",
     "text": [
      "`Trainer.fit` stopped: `max_epochs=23` reached.\n"
     ]
    }
   ],
   "source": [
    "net.ae_mode(1)\n",
    "trainer2 = pl.Trainer(\n",
    "    precision=\"16-mixed\",\n",
    "    gradient_clip_val=20,\n",
    "    max_epochs=max_epochs,\n",
    "    log_every_n_steps=3,\n",
    "    # enable_progress_bar=False, enable_model_summary=False\n",
    ")\n",
    "trainer2.fit(model=net, train_dataloaders=dl_train, val_dataloaders=dl_val);\n"
   ]
  },
  {
   "cell_type": "code",
   "execution_count": 26,
   "metadata": {},
   "outputs": [
    {
     "data": {
      "image/png": "[encoded data removed]",
      "text/plain": [
       "<Figure size 640x440 with 1 Axes>"
      ]
     },
     "metadata": {},
     "output_type": "display_data"
    },
    {
     "name": "stderr",
     "output_type": "stream",
     "text": [
      "LOCAL_RANK: 0 - CUDA_VISIBLE_DEVICES: [0,1]\n",
      "/media/wassname/SGIronWolf/projects5/elk/sgd_probes_are_lie_detectors/.venv/lib/python3.11/site-packages/lightning/pytorch/trainer/connectors/data_connector.py:492: Your `test_dataloader`'s sampler has shuffling enabled, it is strongly recommended that you turn shuffling off for val/test dataloaders.\n",
      "/media/wassname/SGIronWolf/projects5/elk/sgd_probes_are_lie_detectors/.venv/lib/python3.11/site-packages/lightning/pytorch/trainer/connectors/data_connector.py:441: The 'test_dataloader' does not have many workers which may be a bottleneck. Consider increasing the value of the `num_workers` argument` to `num_workers=23` in the `DataLoader` to improve performance.\n"
     ]
    },
    {
     "data": {
      "application/vnd.jupyter.widget-view+json": {
       "model_id": "d8d055b2a3cb41a9ad513ed64e1267b3",
       "version_major": 2,
       "version_minor": 0
      },
      "text/plain": [
       "Testing: |          | 0/? [00:00<?, ?it/s]"
      ]
     },
     "metadata": {},
     "output_type": "display_data"
    },
    {
     "data": {
      "text/html": [
       "<pre style=\"white-space:pre;overflow-x:auto;line-height:normal;font-family:Menlo,'DejaVu Sans Mono',consolas,'Courier New',monospace\">┏━━━━━━━━━━━━━━━━━━━━━━━━━━━┳━━━━━━━━━━━━━━━━━━━━━━━━━━━┳━━━━━━━━━━━━━━━━━━━━━━━━━━━┳━━━━━━━━━━━━━━━━━━━━━━━━━━━┓\n",
       "┃<span style=\"font-weight: bold\">        Test metric        </span>┃<span style=\"font-weight: bold\">       DataLoader 0        </span>┃<span style=\"font-weight: bold\">       DataLoader 1        </span>┃<span style=\"font-weight: bold\">       DataLoader 2        </span>┃\n",
       "┡━━━━━━━━━━━━━━━━━━━━━━━━━━━╇━━━━━━━━━━━━━━━━━━━━━━━━━━━╇━━━━━━━━━━━━━━━━━━━━━━━━━━━╇━━━━━━━━━━━━━━━━━━━━━━━━━━━┩\n",
       "│<span style=\"color: #008080; text-decoration-color: #008080\">         test/acc          </span>│<span style=\"color: #800080; text-decoration-color: #800080\">    0.5485893487930298     </span>│<span style=\"color: #800080; text-decoration-color: #800080\">    0.48750001192092896    </span>│<span style=\"color: #800080; text-decoration-color: #800080\">          0.53125          </span>│\n",
       "│<span style=\"color: #008080; text-decoration-color: #008080\">       test/l1_loss        </span>│<span style=\"color: #800080; text-decoration-color: #800080\">            nan            </span>│<span style=\"color: #800080; text-decoration-color: #800080\">     5313.44677734375      </span>│<span style=\"color: #800080; text-decoration-color: #800080\">            nan            </span>│\n",
       "│<span style=\"color: #008080; text-decoration-color: #008080\">       test/l2_loss        </span>│<span style=\"color: #800080; text-decoration-color: #800080\">            nan            </span>│<span style=\"color: #800080; text-decoration-color: #800080\">            nan            </span>│<span style=\"color: #800080; text-decoration-color: #800080\">            nan            </span>│\n",
       "│<span style=\"color: #008080; text-decoration-color: #008080\">   test/loss_pred_epoch    </span>│<span style=\"color: #800080; text-decoration-color: #800080\">            nan            </span>│<span style=\"color: #800080; text-decoration-color: #800080\">            nan            </span>│<span style=\"color: #800080; text-decoration-color: #800080\">            nan            </span>│\n",
       "│<span style=\"color: #008080; text-decoration-color: #008080\">    test/loss_rec_epoch    </span>│<span style=\"color: #800080; text-decoration-color: #800080\">            nan            </span>│<span style=\"color: #800080; text-decoration-color: #800080\">            nan            </span>│<span style=\"color: #800080; text-decoration-color: #800080\">            nan            </span>│\n",
       "│<span style=\"color: #008080; text-decoration-color: #008080\">          test/n           </span>│<span style=\"color: #800080; text-decoration-color: #800080\">           319.0           </span>│<span style=\"color: #800080; text-decoration-color: #800080\">           160.0           </span>│<span style=\"color: #800080; text-decoration-color: #800080\">           160.0           </span>│\n",
       "└───────────────────────────┴───────────────────────────┴───────────────────────────┴───────────────────────────┘\n",
       "</pre>\n"
      ],
      "text/plain": [
       "┏━━━━━━━━━━━━━━━━━━━━━━━━━━━┳━━━━━━━━━━━━━━━━━━━━━━━━━━━┳━━━━━━━━━━━━━━━━━━━━━━━━━━━┳━━━━━━━━━━━━━━━━━━━━━━━━━━━┓\n",
       "┃\u001b[1m \u001b[0m\u001b[1m       Test metric       \u001b[0m\u001b[1m \u001b[0m┃\u001b[1m \u001b[0m\u001b[1m      DataLoader 0       \u001b[0m\u001b[1m \u001b[0m┃\u001b[1m \u001b[0m\u001b[1m      DataLoader 1       \u001b[0m\u001b[1m \u001b[0m┃\u001b[1m \u001b[0m\u001b[1m      DataLoader 2       \u001b[0m\u001b[1m \u001b[0m┃\n",
       "┡━━━━━━━━━━━━━━━━━━━━━━━━━━━╇━━━━━━━━━━━━━━━━━━━━━━━━━━━╇━━━━━━━━━━━━━━━━━━━━━━━━━━━╇━━━━━━━━━━━━━━━━━━━━━━━━━━━┩\n",
       "│\u001b[36m \u001b[0m\u001b[36m        test/acc         \u001b[0m\u001b[36m \u001b[0m│\u001b[35m \u001b[0m\u001b[35m   0.5485893487930298    \u001b[0m\u001b[35m \u001b[0m│\u001b[35m \u001b[0m\u001b[35m   0.48750001192092896   \u001b[0m\u001b[35m \u001b[0m│\u001b[35m \u001b[0m\u001b[35m         0.53125         \u001b[0m\u001b[35m \u001b[0m│\n",
       "│\u001b[36m \u001b[0m\u001b[36m      test/l1_loss       \u001b[0m\u001b[36m \u001b[0m│\u001b[35m \u001b[0m\u001b[35m           nan           \u001b[0m\u001b[35m \u001b[0m│\u001b[35m \u001b[0m\u001b[35m    5313.44677734375     \u001b[0m\u001b[35m \u001b[0m│\u001b[35m \u001b[0m\u001b[35m           nan           \u001b[0m\u001b[35m \u001b[0m│\n",
       "│\u001b[36m \u001b[0m\u001b[36m      test/l2_loss       \u001b[0m\u001b[36m \u001b[0m│\u001b[35m \u001b[0m\u001b[35m           nan           \u001b[0m\u001b[35m \u001b[0m│\u001b[35m \u001b[0m\u001b[35m           nan           \u001b[0m\u001b[35m \u001b[0m│\u001b[35m \u001b[0m\u001b[35m           nan           \u001b[0m\u001b[35m \u001b[0m│\n",
       "│\u001b[36m \u001b[0m\u001b[36m  test/loss_pred_epoch   \u001b[0m\u001b[36m \u001b[0m│\u001b[35m \u001b[0m\u001b[35m           nan           \u001b[0m\u001b[35m \u001b[0m│\u001b[35m \u001b[0m\u001b[35m           nan           \u001b[0m\u001b[35m \u001b[0m│\u001b[35m \u001b[0m\u001b[35m           nan           \u001b[0m\u001b[35m \u001b[0m│\n",
       "│\u001b[36m \u001b[0m\u001b[36m   test/loss_rec_epoch   \u001b[0m\u001b[36m \u001b[0m│\u001b[35m \u001b[0m\u001b[35m           nan           \u001b[0m\u001b[35m \u001b[0m│\u001b[35m \u001b[0m\u001b[35m           nan           \u001b[0m\u001b[35m \u001b[0m│\u001b[35m \u001b[0m\u001b[35m           nan           \u001b[0m\u001b[35m \u001b[0m│\n",
       "│\u001b[36m \u001b[0m\u001b[36m         test/n          \u001b[0m\u001b[36m \u001b[0m│\u001b[35m \u001b[0m\u001b[35m          319.0          \u001b[0m\u001b[35m \u001b[0m│\u001b[35m \u001b[0m\u001b[35m          160.0          \u001b[0m\u001b[35m \u001b[0m│\u001b[35m \u001b[0m\u001b[35m          160.0          \u001b[0m\u001b[35m \u001b[0m│\n",
       "└───────────────────────────┴───────────────────────────┴───────────────────────────┴───────────────────────────┘\n"
      ]
     },
     "metadata": {},
     "output_type": "display_data"
    },
    {
     "data": {
      "text/html": [
       "<pre style=\"white-space:pre;overflow-x:auto;line-height:normal;font-family:Menlo,'DejaVu Sans Mono',consolas,'Courier New',monospace\">┏━━━━━━━━━━━━━━━━━━━━━━━━━━━┳━━━━━━━━━━━━━━━━━━━━━━━━━━━┓\n",
       "┃<span style=\"font-weight: bold\">        Test metric        </span>┃<span style=\"font-weight: bold\">       DataLoader 3        </span>┃\n",
       "┡━━━━━━━━━━━━━━━━━━━━━━━━━━━╇━━━━━━━━━━━━━━━━━━━━━━━━━━━┩\n",
       "│<span style=\"color: #008080; text-decoration-color: #008080\">         test/acc          </span>│<span style=\"color: #800080; text-decoration-color: #800080\">    0.5289514660835266     </span>│\n",
       "│<span style=\"color: #008080; text-decoration-color: #008080\">       test/l1_loss        </span>│<span style=\"color: #800080; text-decoration-color: #800080\">            nan            </span>│\n",
       "│<span style=\"color: #008080; text-decoration-color: #008080\">       test/l2_loss        </span>│<span style=\"color: #800080; text-decoration-color: #800080\">            nan            </span>│\n",
       "│<span style=\"color: #008080; text-decoration-color: #008080\">   test/loss_pred_epoch    </span>│<span style=\"color: #800080; text-decoration-color: #800080\">            nan            </span>│\n",
       "│<span style=\"color: #008080; text-decoration-color: #008080\">    test/loss_rec_epoch    </span>│<span style=\"color: #800080; text-decoration-color: #800080\">            nan            </span>│\n",
       "│<span style=\"color: #008080; text-decoration-color: #008080\">          test/n           </span>│<span style=\"color: #800080; text-decoration-color: #800080\">           639.0           </span>│\n",
       "└───────────────────────────┴───────────────────────────┘\n",
       "</pre>\n"
      ],
      "text/plain": [
       "┏━━━━━━━━━━━━━━━━━━━━━━━━━━━┳━━━━━━━━━━━━━━━━━━━━━━━━━━━┓\n",
       "┃\u001b[1m \u001b[0m\u001b[1m       Test metric       \u001b[0m\u001b[1m \u001b[0m┃\u001b[1m \u001b[0m\u001b[1m      DataLoader 3       \u001b[0m\u001b[1m \u001b[0m┃\n",
       "┡━━━━━━━━━━━━━━━━━━━━━━━━━━━╇━━━━━━━━━━━━━━━━━━━━━━━━━━━┩\n",
       "│\u001b[36m \u001b[0m\u001b[36m        test/acc         \u001b[0m\u001b[36m \u001b[0m│\u001b[35m \u001b[0m\u001b[35m   0.5289514660835266    \u001b[0m\u001b[35m \u001b[0m│\n",
       "│\u001b[36m \u001b[0m\u001b[36m      test/l1_loss       \u001b[0m\u001b[36m \u001b[0m│\u001b[35m \u001b[0m\u001b[35m           nan           \u001b[0m\u001b[35m \u001b[0m│\n",
       "│\u001b[36m \u001b[0m\u001b[36m      test/l2_loss       \u001b[0m\u001b[36m \u001b[0m│\u001b[35m \u001b[0m\u001b[35m           nan           \u001b[0m\u001b[35m \u001b[0m│\n",
       "│\u001b[36m \u001b[0m\u001b[36m  test/loss_pred_epoch   \u001b[0m\u001b[36m \u001b[0m│\u001b[35m \u001b[0m\u001b[35m           nan           \u001b[0m\u001b[35m \u001b[0m│\n",
       "│\u001b[36m \u001b[0m\u001b[36m   test/loss_rec_epoch   \u001b[0m\u001b[36m \u001b[0m│\u001b[35m \u001b[0m\u001b[35m           nan           \u001b[0m\u001b[35m \u001b[0m│\n",
       "│\u001b[36m \u001b[0m\u001b[36m         test/n          \u001b[0m\u001b[36m \u001b[0m│\u001b[35m \u001b[0m\u001b[35m          639.0          \u001b[0m\u001b[35m \u001b[0m│\n",
       "└───────────────────────────┴───────────────────────────┘\n"
      ]
     },
     "metadata": {},
     "output_type": "display_data"
    },
    {
     "name": "stderr",
     "output_type": "stream",
     "text": [
      "LOCAL_RANK: 0 - CUDA_VISIBLE_DEVICES: [0,1]\n"
     ]
    },
    {
     "data": {
      "application/vnd.jupyter.widget-view+json": {
       "model_id": "64c81b4d71e54c2c99891017d7c96d0d",
       "version_major": 2,
       "version_minor": 0
      },
      "text/plain": [
       "Predicting: |          | 0/? [00:00<?, ?it/s]"
      ]
     },
     "metadata": {},
     "output_type": "display_data"
    },
    {
     "ename": "AttributeError",
     "evalue": "'DeceptionDataModule' object has no attribute 'df'",
     "output_type": "error",
     "traceback": [
      "\u001b[0;31m---------------------------------------------------------------------------\u001b[0m",
      "\u001b[0;31mAttributeError\u001b[0m                            Traceback (most recent call last)",
      "\u001b[1;32m/media/wassname/SGIronWolf/projects5/elk/sgd_probes_are_lie_detectors/notebooks/11_vae_w_importance.ipynb Cell 43\u001b[0m line \u001b[0;36m1\n\u001b[1;32m      <a href='vscode-notebook-cell:/media/wassname/SGIronWolf/projects5/elk/sgd_probes_are_lie_detectors/notebooks/11_vae_w_importance.ipynb#X41sZmlsZQ%3D%3D?line=7'>8</a>\u001b[0m \u001b[39m# print(f\"training with x_feats={x_feats} with c={c}\")\u001b[39;00m\n\u001b[1;32m      <a href='vscode-notebook-cell:/media/wassname/SGIronWolf/projects5/elk/sgd_probes_are_lie_detectors/notebooks/11_vae_w_importance.ipynb#X41sZmlsZQ%3D%3D?line=8'>9</a>\u001b[0m rs \u001b[39m=\u001b[39m trainer2\u001b[39m.\u001b[39mtest(net, dataloaders\u001b[39m=\u001b[39m[dl_train, dl_val, dl_test, dl_ood])\n\u001b[0;32m---> <a href='vscode-notebook-cell:/media/wassname/SGIronWolf/projects5/elk/sgd_probes_are_lie_detectors/notebooks/11_vae_w_importance.ipynb#X41sZmlsZQ%3D%3D?line=10'>11</a>\u001b[0m testval_metrics \u001b[39m=\u001b[39m calc_metrics(dm, trainer2, net, use_val\u001b[39m=\u001b[39;49m\u001b[39mTrue\u001b[39;49;00m)\n\u001b[1;32m     <a href='vscode-notebook-cell:/media/wassname/SGIronWolf/projects5/elk/sgd_probes_are_lie_detectors/notebooks/11_vae_w_importance.ipynb#X41sZmlsZQ%3D%3D?line=11'>12</a>\u001b[0m rs \u001b[39m=\u001b[39m rename_pl_test_results(rs, [\u001b[39m\"\u001b[39m\u001b[39mtrain\u001b[39m\u001b[39m\"\u001b[39m, \u001b[39m\"\u001b[39m\u001b[39mval\u001b[39m\u001b[39m\"\u001b[39m, \u001b[39m\"\u001b[39m\u001b[39mtest\u001b[39m\u001b[39m\"\u001b[39m, \u001b[39m\"\u001b[39m\u001b[39mood\u001b[39m\u001b[39m\"\u001b[39m])\n\u001b[1;32m     <a href='vscode-notebook-cell:/media/wassname/SGIronWolf/projects5/elk/sgd_probes_are_lie_detectors/notebooks/11_vae_w_importance.ipynb#X41sZmlsZQ%3D%3D?line=12'>13</a>\u001b[0m \u001b[39m# rs['test'] = {**rs['test'], **test_metrics}\u001b[39;00m\n",
      "\u001b[1;32m/media/wassname/SGIronWolf/projects5/elk/sgd_probes_are_lie_detectors/notebooks/11_vae_w_importance.ipynb Cell 43\u001b[0m line \u001b[0;36m1\n\u001b[1;32m     <a href='vscode-notebook-cell:/media/wassname/SGIronWolf/projects5/elk/sgd_probes_are_lie_detectors/notebooks/11_vae_w_importance.ipynb#X41sZmlsZQ%3D%3D?line=12'>13</a>\u001b[0m y_test_pred \u001b[39m=\u001b[39m np\u001b[39m.\u001b[39mconcatenate(rt)\n\u001b[1;32m     <a href='vscode-notebook-cell:/media/wassname/SGIronWolf/projects5/elk/sgd_probes_are_lie_detectors/notebooks/11_vae_w_importance.ipynb#X41sZmlsZQ%3D%3D?line=13'>14</a>\u001b[0m splits \u001b[39m=\u001b[39m dm\u001b[39m.\u001b[39msplits[\u001b[39m\"\u001b[39m\u001b[39mtest\u001b[39m\u001b[39m\"\u001b[39m]\n\u001b[0;32m---> <a href='vscode-notebook-cell:/media/wassname/SGIronWolf/projects5/elk/sgd_probes_are_lie_detectors/notebooks/11_vae_w_importance.ipynb#X41sZmlsZQ%3D%3D?line=14'>15</a>\u001b[0m df_test \u001b[39m=\u001b[39m dm\u001b[39m.\u001b[39;49mdf\u001b[39m.\u001b[39miloc[splits[\u001b[39m0\u001b[39m] : splits[\u001b[39m1\u001b[39m]]\u001b[39m.\u001b[39mcopy()\n\u001b[1;32m     <a href='vscode-notebook-cell:/media/wassname/SGIronWolf/projects5/elk/sgd_probes_are_lie_detectors/notebooks/11_vae_w_importance.ipynb#X41sZmlsZQ%3D%3D?line=15'>16</a>\u001b[0m df_test[\u001b[39m\"\u001b[39m\u001b[39mprobe_pred\u001b[39m\u001b[39m\"\u001b[39m] \u001b[39m=\u001b[39m y_test_pred \u001b[39m>\u001b[39m \u001b[39m0.0\u001b[39m\n\u001b[1;32m     <a href='vscode-notebook-cell:/media/wassname/SGIronWolf/projects5/elk/sgd_probes_are_lie_detectors/notebooks/11_vae_w_importance.ipynb#X41sZmlsZQ%3D%3D?line=17'>18</a>\u001b[0m \u001b[39mif\u001b[39;00m use_val:\n",
      "\u001b[0;31mAttributeError\u001b[0m: 'DeceptionDataModule' object has no attribute 'df'"
     ]
    }
   ],
   "source": [
    "\n",
    "df_hist, _ = read_metrics_csv(trainer1.logger.experiment.metrics_file_path)\n",
    "plot_hist(df_hist, ['loss_pred', 'acc'])\n",
    "\n",
    "# predict\n",
    "dl_test = dm.test_dataloader()\n",
    "dl_ood = dm_ood.all_dataloader()\n",
    "\n",
    "# print(f\"training with x_feats={x_feats} with c={c}\")\n",
    "rs = trainer2.test(net, dataloaders=[dl_train, dl_val, dl_test, dl_ood])\n",
    "\n",
    "testval_metrics = calc_metrics(dm, trainer2, net, use_val=True)\n",
    "rs = rename_pl_test_results(rs, [\"train\", \"val\", \"test\", \"ood\"])\n",
    "# rs['test'] = {**rs['test'], **test_metrics}\n",
    "rs[\"test\"][\"acc_lie_lie\"] = testval_metrics[\"acc_lie_lie\"]\n",
    "rs[\"testval_metrics\"] = rs[\"test\"]\n"
   ]
  },
  {
   "cell_type": "markdown",
   "metadata": {},
   "source": [
    "#### how well does it generalize to other datasets?\n"
   ]
  },
  {
   "cell_type": "code",
   "execution_count": null,
   "metadata": {},
   "outputs": [],
   "source": [
    "# print(f\"training with x_feats={x_feats} with c={c}\")\n",
    "rs2 = trainer1.test(net, dataloaders=[dl_ood])\n",
    "rs2 = rename_pl_test_results(rs2, ks=[\"ood\"])\n",
    "\n",
    "testval_metrics2 = calc_metrics(dm_ood, trainer1, net, use_val=True)\n",
    "rs[\"ood\"][\"acc_lie_lie\"] = testval_metrics2[\"acc_lie_lie\"]\n",
    "rs[\"ood_metrics\"] = rs2[\"ood\"]\n",
    "rs\n"
   ]
  },
  {
   "cell_type": "markdown",
   "metadata": {},
   "source": [
    "### Train end-to-end\n"
   ]
  },
  {
   "cell_type": "code",
   "execution_count": null,
   "metadata": {},
   "outputs": [],
   "source": [
    "net.ae_mode(2)\n",
    "trainer2 = pl.Trainer(\n",
    "    precision=\"16-mixed\",\n",
    "    gradient_clip_val=20,\n",
    "    max_epochs=max_epochs,\n",
    "    log_every_n_steps=3,\n",
    "    # enable_progress_bar=False, enable_model_summary=False\n",
    ")\n",
    "trainer2.fit(model=net, train_dataloaders=dl_train, val_dataloaders=dl_val)\n",
    "1\n"
   ]
  },
  {
   "cell_type": "code",
   "execution_count": null,
   "metadata": {},
   "outputs": [],
   "source": [
    "# look at hist\n",
    "df_hist, _ = read_metrics_csv(trainer2.logger.experiment.metrics_file_path)\n",
    "plot_hist(df_hist, ['loss_pred', 'acc'])\n",
    "\n",
    "# predict\n",
    "dl_test = dm.test_dataloader()\n",
    "# print(f\"training with x_feats={x_feats} with c={c}\")\n",
    "rs = trainer2.test(net, dataloaders=[dl_train, dl_val, dl_test, dl_ood])\n",
    "\n",
    "testval_metrics = calc_metrics(dm, trainer2, net, use_val=True)\n",
    "rs = rename_pl_test_results(rs, [\"train\", \"val\", \"test\", \"ood\"])\n",
    "# rs['test'] = {**rs['test'], **test_metrics}\n",
    "rs[\"test\"][\"acc_lie_lie\"] = testval_metrics[\"acc_lie_lie\"]\n",
    "rs[\"testval_metrics\"] = rs[\"test\"]\n"
   ]
  },
  {
   "cell_type": "code",
   "execution_count": null,
   "metadata": {},
   "outputs": [],
   "source": [
    "# print(f\"training with x_feats={x_feats} with c={c}\")\n",
    "rs2 = trainer1.test(net, dataloaders=[dl_ood])\n",
    "rs2 = rename_pl_test_results(rs2, ks=[\"ood\"])\n",
    "\n",
    "testval_metrics2 = calc_metrics(dm_ood, trainer1, net, use_val=True)\n",
    "rs[\"ood\"][\"acc_lie_lie\"] = testval_metrics2[\"acc_lie_lie\"]\n",
    "rs[\"ood_metrics\"] = rs2[\"ood\"]\n",
    "rs\n"
   ]
  }
 ],
 "metadata": {
  "kernelspec": {
   "display_name": ".venv",
   "language": "python",
   "name": "python3"
  },
  "language_info": {
   "codemirror_mode": {
    "name": "ipython",
    "version": 3
   },
   "file_extension": ".py",
   "mimetype": "text/x-python",
   "name": "python",
   "nbconvert_exporter": "python",
   "pygments_lexer": "ipython3",
   "version": "3.11.0"
  }
 },
 "nbformat": 4,
 "nbformat_minor": 2
}
