{
 "cells": [
  {
   "cell_type": "markdown",
   "metadata": {},
   "source": [
    "Experiment to use lora to make a lying model. Here we think of Lora as a probe, as it acts in a very similar way - modifying the residual stream.\n",
    "\n",
    "Then the hope is it will assist at lie detecting and generalize to unseen dataset\n",
    "\n",
    "- https://github.dev/JD-P/minihf/blob/b54075c34ef88d9550e37fdf709e78e5a68787c4/lora_tune.py\n",
    "- https://github.com/jonkrohn/NLP-with-LLMs"
   ]
  },
  {
   "cell_type": "code",
   "execution_count": 1,
   "metadata": {},
   "outputs": [],
   "source": [
    "import os\n",
    "import numpy as np\n",
    "import pandas as pd\n",
    "from matplotlib import pyplot as plt\n",
    "from tqdm.auto import tqdm\n",
    "\n",
    "plt.style.use(\"ggplot\")\n",
    "\n",
    "from typing import Optional, List, Dict, Union\n",
    "from jaxtyping import Float\n",
    "from torch import Tensor\n",
    "\n",
    "import torch\n",
    "import torch.nn as nn\n",
    "import torch.nn.functional as F\n",
    "\n",
    "from torch import Tensor\n",
    "from torch import optim\n",
    "from torch.utils.data import random_split, DataLoader, TensorDataset\n",
    "\n",
    "from pathlib import Path\n",
    "from einops import rearrange\n",
    "\n",
    "import transformers\n",
    "from transformers import (\n",
    "    AutoTokenizer,\n",
    "    AutoModelForCausalLM,\n",
    "    BitsAndBytesConfig,\n",
    "    AutoConfig,\n",
    ")\n",
    "from peft import (\n",
    "    get_peft_config,\n",
    "    get_peft_model,\n",
    "    LoraConfig,\n",
    "    TaskType,\n",
    "    LoftQConfig,\n",
    "    IA3Config,\n",
    ")\n",
    "\n",
    "import datasets\n",
    "from datasets import Dataset\n",
    "\n",
    "from loguru import logger\n",
    "\n",
    "logger.add(os.sys.stderr, format=\"{time} {level} {message}\", level=\"INFO\")\n",
    "\n",
    "\n",
    "# # quiet please\n",
    "torch.set_float32_matmul_precision(\"medium\")\n",
    "import warnings\n",
    "\n",
    "warnings.filterwarnings(\"ignore\", \".*does not have many workers.*\")\n",
    "# warnings.filterwarnings(\n",
    "#     \"ignore\", \".*sampler has shuffling enabled, it is strongly recommended that.*\"\n",
    "# )\n",
    "# warnings.filterwarnings(\"ignore\", \".*has been removed as a dependency of.*\")\n"
   ]
  },
  {
   "cell_type": "code",
   "execution_count": 2,
   "metadata": {},
   "outputs": [],
   "source": [
    "# load my code\n",
    "%load_ext autoreload\n",
    "%autoreload 2\n",
    "\n",
    "import lightning.pytorch as pl\n",
    "from src.datasets.dm import DeceptionDataModule\n",
    "from src.models.pl_lora_ft import AtapterFinetuner\n",
    "\n",
    "from src.config import ExtractConfig\n",
    "from src.prompts.prompt_loading import load_preproc_dataset, load_preproc_datasets\n",
    "from src.models.load import load_model\n",
    "from src.helpers.torch_helpers import clear_mem\n",
    "from src.models.phi.model_phi import PhiForCausalLMWHS\n"
   ]
  },
  {
   "cell_type": "markdown",
   "metadata": {},
   "source": [
    "## Parameters\n"
   ]
  },
  {
   "cell_type": "code",
   "execution_count": 3,
   "metadata": {},
   "outputs": [],
   "source": [
    "# params\n",
    "max_epochs = 2\n",
    "device = \"cuda:0\"\n",
    "\n",
    "cfg = ExtractConfig(\n",
    "    max_examples=(300, 100),\n",
    "    # model=\"wassname/phi-1_5-w_hidden_states\",\n",
    "    # batch_size=3,\n",
    "    # model=\"wassname/phi-2-w_hidden_states\",\n",
    "    model=\"Walmart-the-bag/phi-2-uncensored\",\n",
    "    batch_size=1,\n",
    "    prompt_format=\"phi\",\n",
    ")\n"
   ]
  },
  {
   "cell_type": "markdown",
   "metadata": {},
   "source": [
    "## Load model"
   ]
  },
  {
   "cell_type": "markdown",
   "metadata": {},
   "source": []
  },
  {
   "cell_type": "code",
   "execution_count": 4,
   "metadata": {},
   "outputs": [
    {
     "name": "stderr",
     "output_type": "stream",
     "text": [
      "Special tokens have been added in the vocabulary, make sure the associated word embeddings are fine-tuned or trained.\n",
      "The argument `trust_remote_code` is to be used with Auto classes. It has no effect here and is ignored.\n"
     ]
    },
    {
     "data": {
      "application/vnd.jupyter.widget-view+json": {
       "model_id": "24cd30b9dc7b482f916da5f6b37887d4",
       "version_major": 2,
       "version_minor": 0
      },
      "text/plain": [
       "Loading checkpoint shards:   0%|          | 0/3 [00:00<?, ?it/s]"
      ]
     },
     "metadata": {},
     "output_type": "display_data"
    }
   ],
   "source": [
    "model, tokenizer = load_model(\n",
    "    cfg.model,\n",
    "    device=device,\n",
    "    model_class=PhiForCausalLMWHS,\n",
    ")\n"
   ]
  },
  {
   "cell_type": "code",
   "execution_count": 5,
   "metadata": {},
   "outputs": [
    {
     "name": "stdout",
     "output_type": "stream",
     "text": [
      "trainable params: 3,604,480 || all params: 2,783,288,320 || trainable%: 0.12950436985270716\n"
     ]
    }
   ],
   "source": [
    "# TODO I would like to only have biases, but for now lets just try a very small intervention on the last parts of a layer...\n",
    "peft_config = LoraConfig(\n",
    "    target_modules=[\n",
    "        \"out_proj\",\n",
    "        \"mlp.fc2\",\n",
    "        \"mlp.fc1\",\n",
    "        \"Wqkv\",\n",
    "        # 'inner_attn',\n",
    "        # 'inner_cross_attn',\n",
    "    ],  # only the layers that go directly to the residual\n",
    "    # bias=\"lora_only\",\n",
    "    task_type=TaskType.CAUSAL_LM,\n",
    "    inference_mode=False,\n",
    "    r=4,\n",
    "    lora_alpha=8,\n",
    "    lora_dropout=0.0,\n",
    ")\n",
    "\n",
    "\n",
    "# peft_config = IA3Config(\n",
    "#     task_type=TaskType.SEQ_CLS, target_modules=[ \"out_proj\",\n",
    "#         \"mlp.fc2\",], feedforward_modules=[\"out_proj\", \"mlp.fc2\",]\n",
    "# )\n",
    "model = get_peft_model(model, peft_config)\n",
    "model.print_trainable_parameters()\n"
   ]
  },
  {
   "cell_type": "code",
   "execution_count": 6,
   "metadata": {},
   "outputs": [
    {
     "data": {
      "text/plain": [
       "PeftModelForCausalLM(\n",
       "  (base_model): LoraModel(\n",
       "    (model): PhiForCausalLMWHS(\n",
       "      (transformer): PhiModel(\n",
       "        (embd): Embedding(\n",
       "          (wte): Embedding(51200, 2560)\n",
       "          (drop): Dropout(p=0.0, inplace=False)\n",
       "        )\n",
       "        (h): ModuleList(\n",
       "          (0-31): 32 x ParallelBlock(\n",
       "            (ln): LayerNorm((2560,), eps=1e-05, elementwise_affine=True)\n",
       "            (resid_dropout): Dropout(p=0.1, inplace=False)\n",
       "            (mixer): MHA(\n",
       "              (rotary_emb): RotaryEmbedding()\n",
       "              (Wqkv): lora.Linear4bit(\n",
       "                (base_layer): Linear4bit(in_features=2560, out_features=7680, bias=True)\n",
       "                (lora_dropout): ModuleDict(\n",
       "                  (default): Identity()\n",
       "                )\n",
       "                (lora_A): ModuleDict(\n",
       "                  (default): Linear(in_features=2560, out_features=4, bias=False)\n",
       "                )\n",
       "                (lora_B): ModuleDict(\n",
       "                  (default): Linear(in_features=4, out_features=7680, bias=False)\n",
       "                )\n",
       "                (lora_embedding_A): ParameterDict()\n",
       "                (lora_embedding_B): ParameterDict()\n",
       "              )\n",
       "              (out_proj): lora.Linear4bit(\n",
       "                (base_layer): Linear4bit(in_features=2560, out_features=2560, bias=True)\n",
       "                (lora_dropout): ModuleDict(\n",
       "                  (default): Identity()\n",
       "                )\n",
       "                (lora_A): ModuleDict(\n",
       "                  (default): Linear(in_features=2560, out_features=4, bias=False)\n",
       "                )\n",
       "                (lora_B): ModuleDict(\n",
       "                  (default): Linear(in_features=4, out_features=2560, bias=False)\n",
       "                )\n",
       "                (lora_embedding_A): ParameterDict()\n",
       "                (lora_embedding_B): ParameterDict()\n",
       "              )\n",
       "              (inner_attn): SelfAttention(\n",
       "                (drop): Dropout(p=0.0, inplace=False)\n",
       "              )\n",
       "              (inner_cross_attn): CrossAttention(\n",
       "                (drop): Dropout(p=0.0, inplace=False)\n",
       "              )\n",
       "            )\n",
       "            (mlp): MLP(\n",
       "              (fc1): Linear4bit(in_features=2560, out_features=10240, bias=True)\n",
       "              (fc2): lora.Linear4bit(\n",
       "                (base_layer): Linear4bit(in_features=10240, out_features=2560, bias=True)\n",
       "                (lora_dropout): ModuleDict(\n",
       "                  (default): Identity()\n",
       "                )\n",
       "                (lora_A): ModuleDict(\n",
       "                  (default): Linear(in_features=10240, out_features=4, bias=False)\n",
       "                )\n",
       "                (lora_B): ModuleDict(\n",
       "                  (default): Linear(in_features=4, out_features=2560, bias=False)\n",
       "                )\n",
       "                (lora_embedding_A): ParameterDict()\n",
       "                (lora_embedding_B): ParameterDict()\n",
       "              )\n",
       "              (act): NewGELUActivation()\n",
       "            )\n",
       "          )\n",
       "        )\n",
       "      )\n",
       "      (lm_head): CausalLMHead(\n",
       "        (ln): LayerNorm((2560,), eps=1e-05, elementwise_affine=True)\n",
       "        (linear): Linear(in_features=2560, out_features=51200, bias=True)\n",
       "      )\n",
       "      (loss): CausalLMLoss(\n",
       "        (loss_fct): CrossEntropyLoss()\n",
       "      )\n",
       "    )\n",
       "  )\n",
       ")"
      ]
     },
     "execution_count": 6,
     "metadata": {},
     "output_type": "execute_result"
    }
   ],
   "source": [
    "model\n"
   ]
  },
  {
   "cell_type": "markdown",
   "metadata": {},
   "source": [
    "## Load datasets"
   ]
  },
  {
   "cell_type": "code",
   "execution_count": 7,
   "metadata": {},
   "outputs": [
    {
     "name": "stderr",
     "output_type": "stream",
     "text": [
      "\u001b[32m2023-12-24 07:33:49.885\u001b[0m | \u001b[1mINFO    \u001b[0m | \u001b[36msrc.prompts.prompt_loading\u001b[0m:\u001b[36mload_preproc_dataset\u001b[0m:\u001b[36m350\u001b[0m - \u001b[1msetting tokenizer chat template to phi\u001b[0m\n",
      "2023-12-24T07:33:49.885822+0800 INFO setting tokenizer chat template to phi\n",
      "\u001b[32m2023-12-24 07:33:49.956\u001b[0m | \u001b[1mINFO    \u001b[0m | \u001b[36msrc.prompts.prompt_loading\u001b[0m:\u001b[36mload_preproc_dataset\u001b[0m:\u001b[36m381\u001b[0m - \u001b[1mmedian token length: 400.0 for amazon_polarity. max_length=776\u001b[0m\n",
      "2023-12-24T07:33:49.956943+0800 INFO median token length: 400.0 for amazon_polarity. max_length=776\n",
      "\u001b[32m2023-12-24 07:33:49.958\u001b[0m | \u001b[1mINFO    \u001b[0m | \u001b[36msrc.prompts.prompt_loading\u001b[0m:\u001b[36mload_preproc_dataset\u001b[0m:\u001b[36m385\u001b[0m - \u001b[1mtruncation rate: 0.00% on amazon_polarity\u001b[0m\n",
      "2023-12-24T07:33:49.958174+0800 INFO truncation rate: 0.00% on amazon_polarity\n",
      "\u001b[32m2023-12-24 07:33:49.985\u001b[0m | \u001b[1mINFO    \u001b[0m | \u001b[36msrc.prompts.prompt_loading\u001b[0m:\u001b[36mload_preproc_dataset\u001b[0m:\u001b[36m394\u001b[0m - \u001b[1mnum_rows (after filtering out truncated rows) 604=>604\u001b[0m\n",
      "2023-12-24T07:33:49.985256+0800 INFO num_rows (after filtering out truncated rows) 604=>604\n"
     ]
    },
    {
     "data": {
      "application/vnd.jupyter.widget-view+json": {
       "model_id": "147ffdb5dda34cf28fd103dd3630b6df",
       "version_major": 2,
       "version_minor": 0
      },
      "text/plain": [
       "format_prompt:   0%|          | 0/604 [00:00<?, ? examples/s]"
      ]
     },
     "metadata": {},
     "output_type": "display_data"
    },
    {
     "data": {
      "application/vnd.jupyter.widget-view+json": {
       "model_id": "81502ace0a234dbf8a655ff8e25475b9",
       "version_major": 2,
       "version_minor": 0
      },
      "text/plain": [
       "tokenize:   0%|          | 0/604 [00:00<?, ? examples/s]"
      ]
     },
     "metadata": {},
     "output_type": "display_data"
    },
    {
     "data": {
      "application/vnd.jupyter.widget-view+json": {
       "model_id": "054009b9f1eb4ea0bdab6ff2e3b38fea",
       "version_major": 2,
       "version_minor": 0
      },
      "text/plain": [
       "truncated:   0%|          | 0/604 [00:00<?, ? examples/s]"
      ]
     },
     "metadata": {},
     "output_type": "display_data"
    },
    {
     "data": {
      "application/vnd.jupyter.widget-view+json": {
       "model_id": "abe732ddb5a64991be26ca73b57645dd",
       "version_major": 2,
       "version_minor": 0
      },
      "text/plain": [
       "truncated:   0%|          | 0/604 [00:00<?, ? examples/s]"
      ]
     },
     "metadata": {},
     "output_type": "display_data"
    },
    {
     "data": {
      "application/vnd.jupyter.widget-view+json": {
       "model_id": "3a6a2cb3feb3416db73a734d52e49360",
       "version_major": 2,
       "version_minor": 0
      },
      "text/plain": [
       "prompt_truncated:   0%|          | 0/604 [00:00<?, ? examples/s]"
      ]
     },
     "metadata": {},
     "output_type": "display_data"
    },
    {
     "data": {
      "application/vnd.jupyter.widget-view+json": {
       "model_id": "6acad444e4e949feae8114b876f2ba40",
       "version_major": 2,
       "version_minor": 0
      },
      "text/plain": [
       "choice_ids:   0%|          | 0/604 [00:00<?, ? examples/s]"
      ]
     },
     "metadata": {},
     "output_type": "display_data"
    },
    {
     "name": "stderr",
     "output_type": "stream",
     "text": [
      "\u001b[32m2023-12-24 07:33:52.087\u001b[0m | \u001b[1mINFO    \u001b[0m | \u001b[36msrc.prompts.prompt_loading\u001b[0m:\u001b[36mload_preproc_dataset\u001b[0m:\u001b[36m381\u001b[0m - \u001b[1mmedian token length: 486.0 for super_glue:boolq. max_length=776\u001b[0m\n",
      "2023-12-24T07:33:52.087332+0800 INFO median token length: 486.0 for super_glue:boolq. max_length=776\n",
      "\u001b[32m2023-12-24 07:33:52.088\u001b[0m | \u001b[1mINFO    \u001b[0m | \u001b[36msrc.prompts.prompt_loading\u001b[0m:\u001b[36mload_preproc_dataset\u001b[0m:\u001b[36m385\u001b[0m - \u001b[1mtruncation rate: 2.98% on super_glue:boolq\u001b[0m\n",
      "2023-12-24T07:33:52.088188+0800 INFO truncation rate: 2.98% on super_glue:boolq\n"
     ]
    },
    {
     "data": {
      "application/vnd.jupyter.widget-view+json": {
       "model_id": "0d9a4974cb2a417ebdde0d29cd03a4bd",
       "version_major": 2,
       "version_minor": 0
      },
      "text/plain": [
       "Filter:   0%|          | 0/604 [00:00<?, ? examples/s]"
      ]
     },
     "metadata": {},
     "output_type": "display_data"
    },
    {
     "data": {
      "application/vnd.jupyter.widget-view+json": {
       "model_id": "131dc1dfde184c98b9ab49111f4d86a3",
       "version_major": 2,
       "version_minor": 0
      },
      "text/plain": [
       "Filter:   0%|          | 0/586 [00:00<?, ? examples/s]"
      ]
     },
     "metadata": {},
     "output_type": "display_data"
    },
    {
     "name": "stderr",
     "output_type": "stream",
     "text": [
      "\u001b[32m2023-12-24 07:33:52.549\u001b[0m | \u001b[1mINFO    \u001b[0m | \u001b[36msrc.prompts.prompt_loading\u001b[0m:\u001b[36mload_preproc_dataset\u001b[0m:\u001b[36m394\u001b[0m - \u001b[1mnum_rows (after filtering out truncated rows) 604=>586\u001b[0m\n",
      "2023-12-24T07:33:52.549417+0800 INFO num_rows (after filtering out truncated rows) 604=>586\n",
      "/media/wassname/SGIronWolf/projects5/elk/sgd_probes_are_lie_detectors/.venv/lib/python3.11/site-packages/datasets/table.py:1395: FutureWarning: promote has been superseded by mode='default'.\n",
      "  block_group = [InMemoryTable(cls._concat_blocks(list(block_group), axis=axis))]\n",
      "/media/wassname/SGIronWolf/projects5/elk/sgd_probes_are_lie_detectors/.venv/lib/python3.11/site-packages/datasets/table.py:1421: FutureWarning: promote has been superseded by mode='default'.\n",
      "  table = cls._concat_blocks(blocks, axis=0)\n"
     ]
    },
    {
     "data": {
      "text/plain": [
       "Dataset({\n",
       "    features: ['ds_string', 'example_i', 'answer', 'messages', 'answer_choices', 'template_name', 'label_true', 'label_instructed', 'instructed_to_lie', 'sys_instr_name', 'question', 'input_ids', 'attention_mask', 'truncated', 'length', 'prompt_truncated', 'choice_ids'],\n",
       "    num_rows: 402\n",
       "})"
      ]
     },
     "execution_count": 7,
     "metadata": {},
     "output_type": "execute_result"
    }
   ],
   "source": [
    "N = sum(cfg.max_examples)\n",
    "ds_tokens = load_preproc_datasets(\n",
    "    cfg.datasets,\n",
    "    tokenizer,\n",
    "    N=N,\n",
    "    seed=cfg.seed,\n",
    "    num_shots=cfg.num_shots,\n",
    "    max_length=cfg.max_length,\n",
    "    prompt_format=cfg.prompt_format,\n",
    ")\n",
    "ds_tokens\n"
   ]
  },
  {
   "cell_type": "code",
   "execution_count": 8,
   "metadata": {},
   "outputs": [
    {
     "name": "stderr",
     "output_type": "stream",
     "text": [
      "\u001b[32m2023-12-24 07:33:52.711\u001b[0m | \u001b[1mINFO    \u001b[0m | \u001b[36msrc.prompts.prompt_loading\u001b[0m:\u001b[36mload_preproc_dataset\u001b[0m:\u001b[36m381\u001b[0m - \u001b[1mmedian token length: 254.0 for glue:qnli. max_length=776\u001b[0m\n",
      "2023-12-24T07:33:52.711952+0800 INFO median token length: 254.0 for glue:qnli. max_length=776\n",
      "\u001b[32m2023-12-24 07:33:52.713\u001b[0m | \u001b[1mINFO    \u001b[0m | \u001b[36msrc.prompts.prompt_loading\u001b[0m:\u001b[36mload_preproc_dataset\u001b[0m:\u001b[36m385\u001b[0m - \u001b[1mtruncation rate: 0.00% on glue:qnli\u001b[0m\n",
      "2023-12-24T07:33:52.713035+0800 INFO truncation rate: 0.00% on glue:qnli\n",
      "\u001b[32m2023-12-24 07:33:52.720\u001b[0m | \u001b[1mINFO    \u001b[0m | \u001b[36msrc.prompts.prompt_loading\u001b[0m:\u001b[36mload_preproc_dataset\u001b[0m:\u001b[36m394\u001b[0m - \u001b[1mnum_rows (after filtering out truncated rows) 604=>604\u001b[0m\n",
      "2023-12-24T07:33:52.720594+0800 INFO num_rows (after filtering out truncated rows) 604=>604\n"
     ]
    },
    {
     "data": {
      "text/plain": [
       "Dataset({\n",
       "    features: ['ds_string', 'example_i', 'answer', 'messages', 'answer_choices', 'template_name', 'label_true', 'label_instructed', 'instructed_to_lie', 'sys_instr_name', 'question', 'input_ids', 'attention_mask', 'truncated', 'length', 'prompt_truncated', 'choice_ids'],\n",
       "    num_rows: 201\n",
       "})"
      ]
     },
     "execution_count": 8,
     "metadata": {},
     "output_type": "execute_result"
    }
   ],
   "source": [
    "ds_tokens2 = load_preproc_datasets(\n",
    "    cfg.datasets_ood,\n",
    "    tokenizer,\n",
    "    N=N // 2,\n",
    "    seed=cfg.seed,\n",
    "    num_shots=cfg.num_shots,\n",
    "    max_length=cfg.max_length,\n",
    "    prompt_format=cfg.prompt_format,\n",
    ")\n",
    "ds_tokens2\n"
   ]
  },
  {
   "cell_type": "markdown",
   "metadata": {},
   "source": [
    "## custom models"
   ]
  },
  {
   "cell_type": "code",
   "execution_count": 9,
   "metadata": {},
   "outputs": [],
   "source": [
    "from src.models.pl_lora_ft import AtapterFinetuner\n",
    "from src.helpers.scores import select\n",
    "\n",
    "class AtapterFinetunerLie(AtapterFinetuner):\n",
    "    def get_loss(self, batch, out, out_a):\n",
    "        \"\"\"\n",
    "        simply train it to lie\n",
    "        \"\"\"\n",
    "\n",
    "        log_probs_a = torch.log_softmax(out_a[\"logits\"][:, -1,], -1,)\n",
    "\n",
    "        # batch['instructed_to_lie']\n",
    "        lie_label = ~batch['label_true']\n",
    "        choice_ids1 = select(batch[\"choice_ids\"][:, :, 0], lie_label.long())\n",
    "        choice_ids2 = select(batch[\"choice_ids\"][:, :, 1], lie_label.long())\n",
    "        loss1 = F.nll_loss(log_probs_a, target=choice_ids1)\n",
    "        loss2 = F.nll_loss(log_probs_a, target=choice_ids2)\n",
    "        loss = (loss1 + loss2) / 2\n",
    "\n",
    "        return loss, None, None\n"
   ]
  },
  {
   "cell_type": "code",
   "execution_count": 10,
   "metadata": {},
   "outputs": [],
   "source": [
    "from src.models.pl_lora_ft import AtapterFinetuner\n",
    "from src.helpers.scores import select\n",
    "\n",
    "\n",
    "class AtapterFinetunerToldToLie(AtapterFinetuner):\n",
    "    def get_loss(self, batch, out, out_a):\n",
    "        \"\"\"\n",
    "        train it to lie when instructed\n",
    "        \"\"\"\n",
    "\n",
    "        end_logits = out_a[\"logits\"][\n",
    "            :,\n",
    "            -1,\n",
    "        ]\n",
    "        log_probs_a = torch.log_softmax(end_logits, -1)\n",
    "\n",
    "        lie_label = batch[\"label_true\"] ^ batch[\"instructed_to_lie\"]\n",
    "        choice_ids1 = select(batch[\"choice_ids\"][:, :, 0], lie_label.long())\n",
    "        choice_ids2 = select(batch[\"choice_ids\"][:, :, 1], lie_label.long())\n",
    "        loss1 = F.nll_loss(log_probs_a, target=choice_ids1)\n",
    "        loss2 = F.nll_loss(log_probs_a, target=choice_ids2)\n",
    "        loss = (loss1 + loss2) / 2\n",
    "\n",
    "        return loss, None, None\n"
   ]
  },
  {
   "cell_type": "code",
   "execution_count": 11,
   "metadata": {},
   "outputs": [],
   "source": [
    "model_cls = AtapterFinetunerToldToLie\n"
   ]
  },
  {
   "cell_type": "markdown",
   "metadata": {},
   "source": [
    "## Train"
   ]
  },
  {
   "cell_type": "code",
   "execution_count": 12,
   "metadata": {},
   "outputs": [],
   "source": [
    "dm = DeceptionDataModule(ds_tokens, batch_size=cfg.batch_size)\n",
    "dl_train = dm.train_dataloader()\n",
    "dl_val = dm.val_dataloader()\n"
   ]
  },
  {
   "cell_type": "code",
   "execution_count": 13,
   "metadata": {},
   "outputs": [
    {
     "name": "stdout",
     "output_type": "stream",
     "text": [
      "dict_keys(['ds_string', 'example_i', 'answer', 'messages', 'answer_choices', 'template_name', 'label_true', 'label_instructed', 'instructed_to_lie', 'sys_instr_name', 'question', 'input_ids', 'attention_mask', 'truncated', 'length', 'prompt_truncated', 'choice_ids']) torch.Size([1, 776])\n"
     ]
    },
    {
     "data": {
      "text/plain": [
       "776"
      ]
     },
     "execution_count": 13,
     "metadata": {},
     "output_type": "execute_result"
    }
   ],
   "source": [
    "b = next(iter(dl_train))\n",
    "print(b.keys(), b[\"input_ids\"].shape)\n",
    "c_in = b[\"input_ids\"].shape[1]\n",
    "c_in\n"
   ]
  },
  {
   "cell_type": "code",
   "execution_count": 14,
   "metadata": {},
   "outputs": [
    {
     "name": "stdout",
     "output_type": "stream",
     "text": [
      "776\n"
     ]
    }
   ],
   "source": [
    "net = model_cls(\n",
    "    model, tokenizer, lr=5e-3, weight_decay=1e-5, total_steps=len(dl_train) * max_epochs\n",
    ")\n",
    "\n",
    "print(c_in)\n"
   ]
  },
  {
   "cell_type": "code",
   "execution_count": 15,
   "metadata": {},
   "outputs": [],
   "source": [
    "# # debug\n",
    "# with torch.no_grad():\n",
    "#     o = net.training_step(b, None)\n",
    "# o\n"
   ]
  },
  {
   "cell_type": "code",
   "execution_count": 16,
   "metadata": {},
   "outputs": [],
   "source": [
    "# # debug\n",
    "# with torch.no_grad():\n",
    "#     o = net.predict_step(b, None)\n",
    "# o.keys()\n"
   ]
  },
  {
   "cell_type": "code",
   "execution_count": 17,
   "metadata": {},
   "outputs": [
    {
     "name": "stderr",
     "output_type": "stream",
     "text": [
      "GPU available: True (cuda), used: True\n",
      "TPU available: False, using: 0 TPU cores\n",
      "IPU available: False, using: 0 IPUs\n",
      "HPU available: False, using: 0 HPUs\n",
      "/media/wassname/SGIronWolf/projects5/elk/sgd_probes_are_lie_detectors/.venv/lib/python3.11/site-packages/lightning/pytorch/trainer/connectors/logger_connector/logger_connector.py:67: Starting from v1.9.0, `tensorboardX` has been removed as a dependency of the `lightning.pytorch` package, due to potential conflicts with other packages in the ML ecosystem. For this reason, `logger=True` will use `CSVLogger` as the default logger, unless the `tensorboard` or `tensorboardX` packages are found. Please `pip install lightning[extra]` or one of them to enable TensorBoard support by default\n"
     ]
    }
   ],
   "source": [
    "# we want to init lightning early, so it inits accelerate\n",
    "trainer1 = pl.Trainer(\n",
    "    gradient_clip_val=20,\n",
    "    devices=\"1\",\n",
    "    accelerator=\"gpu\",\n",
    "    accumulate_grad_batches=8,\n",
    "    max_epochs=max_epochs,\n",
    "    log_every_n_steps=1,\n",
    "    # enable_model_summary=False,\n",
    ")\n"
   ]
  },
  {
   "cell_type": "code",
   "execution_count": 18,
   "metadata": {},
   "outputs": [
    {
     "name": "stderr",
     "output_type": "stream",
     "text": [
      "LOCAL_RANK: 0 - CUDA_VISIBLE_DEVICES: [0,1]\n",
      "\n",
      "  | Name  | Type                 | Params\n",
      "-----------------------------------------------\n",
      "0 | model | PeftModelForCausalLM | 1.5 B \n",
      "-----------------------------------------------\n",
      "3.6 M     Trainable params\n",
      "1.5 B     Non-trainable params\n",
      "1.5 B     Total params\n",
      "6,099.988 Total estimated model params size (MB)\n"
     ]
    },
    {
     "data": {
      "application/vnd.jupyter.widget-view+json": {
       "model_id": "36d2cd5cd766474a86826db1b7c965e3",
       "version_major": 2,
       "version_minor": 0
      },
      "text/plain": [
       "Sanity Checking: |          | 0/? [00:00<?, ?it/s]"
      ]
     },
     "metadata": {},
     "output_type": "display_data"
    },
    {
     "data": {
      "application/vnd.jupyter.widget-view+json": {
       "model_id": "51edec73eba14e1fa2bda3883ebad465",
       "version_major": 2,
       "version_minor": 0
      },
      "text/plain": [
       "Training: |          | 0/? [00:00<?, ?it/s]"
      ]
     },
     "metadata": {},
     "output_type": "display_data"
    },
    {
     "data": {
      "application/vnd.jupyter.widget-view+json": {
       "model_id": "7b2c4f37c1744b7bbec50294004f6e83",
       "version_major": 2,
       "version_minor": 0
      },
      "text/plain": [
       "Validation: |          | 0/? [00:00<?, ?it/s]"
      ]
     },
     "metadata": {},
     "output_type": "display_data"
    },
    {
     "data": {
      "application/vnd.jupyter.widget-view+json": {
       "model_id": "784837417f194dac896b2567fc358620",
       "version_major": 2,
       "version_minor": 0
      },
      "text/plain": [
       "Validation: |          | 0/? [00:00<?, ?it/s]"
      ]
     },
     "metadata": {},
     "output_type": "display_data"
    },
    {
     "name": "stderr",
     "output_type": "stream",
     "text": [
      "`Trainer.fit` stopped: `max_epochs=2` reached.\n"
     ]
    }
   ],
   "source": [
    "trainer1.fit(model=net, train_dataloaders=dl_train, val_dataloaders=dl_val);\n"
   ]
  },
  {
   "cell_type": "code",
   "execution_count": 19,
   "metadata": {},
   "outputs": [
    {
     "data": {
      "text/plain": [
       "PosixPath('/media/wassname/SGIronWolf/projects5/elk/sgd_probes_are_lie_detectors/notebooks/lightning_logs/version_25/final')"
      ]
     },
     "execution_count": 19,
     "metadata": {},
     "output_type": "execute_result"
    }
   ],
   "source": [
    "checkpoint_path = Path(trainer1.log_dir) / \"final\"\n",
    "model.save_pretrained(checkpoint_path)\n",
    "checkpoint_path\n"
   ]
  },
  {
   "cell_type": "markdown",
   "metadata": {},
   "source": [
    "## Hist"
   ]
  },
  {
   "cell_type": "code",
   "execution_count": 20,
   "metadata": {},
   "outputs": [
    {
     "data": {
      "text/html": [
       "<div>\n",
       "<style scoped>\n",
       "    .dataframe tbody tr th:only-of-type {\n",
       "        vertical-align: middle;\n",
       "    }\n",
       "\n",
       "    .dataframe tbody tr th {\n",
       "        vertical-align: top;\n",
       "    }\n",
       "\n",
       "    .dataframe thead th {\n",
       "        text-align: right;\n",
       "    }\n",
       "</style>\n",
       "<table border=\"1\" class=\"dataframe\">\n",
       "  <thead>\n",
       "    <tr style=\"text-align: right;\">\n",
       "      <th></th>\n",
       "      <th>train/loss_step</th>\n",
       "      <th>step</th>\n",
       "      <th>val/loss_step</th>\n",
       "    </tr>\n",
       "  </thead>\n",
       "  <tbody>\n",
       "    <tr>\n",
       "      <th>0</th>\n",
       "      <td>4.202494</td>\n",
       "      <td>0</td>\n",
       "      <td>NaN</td>\n",
       "    </tr>\n",
       "    <tr>\n",
       "      <th>1</th>\n",
       "      <td>8.178652</td>\n",
       "      <td>1</td>\n",
       "      <td>NaN</td>\n",
       "    </tr>\n",
       "    <tr>\n",
       "      <th>2</th>\n",
       "      <td>6.375835</td>\n",
       "      <td>2</td>\n",
       "      <td>NaN</td>\n",
       "    </tr>\n",
       "    <tr>\n",
       "      <th>3</th>\n",
       "      <td>4.091026</td>\n",
       "      <td>3</td>\n",
       "      <td>NaN</td>\n",
       "    </tr>\n",
       "    <tr>\n",
       "      <th>4</th>\n",
       "      <td>5.608802</td>\n",
       "      <td>4</td>\n",
       "      <td>NaN</td>\n",
       "    </tr>\n",
       "    <tr>\n",
       "      <th>...</th>\n",
       "      <td>...</td>\n",
       "      <td>...</td>\n",
       "      <td>...</td>\n",
       "    </tr>\n",
       "    <tr>\n",
       "      <th>251</th>\n",
       "      <td>NaN</td>\n",
       "      <td>197</td>\n",
       "      <td>2.060273</td>\n",
       "    </tr>\n",
       "    <tr>\n",
       "      <th>252</th>\n",
       "      <td>NaN</td>\n",
       "      <td>198</td>\n",
       "      <td>2.152431</td>\n",
       "    </tr>\n",
       "    <tr>\n",
       "      <th>253</th>\n",
       "      <td>NaN</td>\n",
       "      <td>199</td>\n",
       "      <td>1.954926</td>\n",
       "    </tr>\n",
       "    <tr>\n",
       "      <th>254</th>\n",
       "      <td>NaN</td>\n",
       "      <td>51</td>\n",
       "      <td>NaN</td>\n",
       "    </tr>\n",
       "    <tr>\n",
       "      <th>255</th>\n",
       "      <td>NaN</td>\n",
       "      <td>51</td>\n",
       "      <td>NaN</td>\n",
       "    </tr>\n",
       "  </tbody>\n",
       "</table>\n",
       "<p>256 rows × 3 columns</p>\n",
       "</div>"
      ],
      "text/plain": [
       "     train/loss_step  step  val/loss_step\n",
       "0           4.202494     0            NaN\n",
       "1           8.178652     1            NaN\n",
       "2           6.375835     2            NaN\n",
       "3           4.091026     3            NaN\n",
       "4           5.608802     4            NaN\n",
       "..               ...   ...            ...\n",
       "251              NaN   197       2.060273\n",
       "252              NaN   198       2.152431\n",
       "253              NaN   199       1.954926\n",
       "254              NaN    51            NaN\n",
       "255              NaN    51            NaN\n",
       "\n",
       "[256 rows x 3 columns]"
      ]
     },
     "execution_count": 20,
     "metadata": {},
     "output_type": "execute_result"
    },
    {
     "data": {
      "image/png": "[encoded data removed]",
      "text/plain": [
       "<Figure size 640x480 with 1 Axes>"
      ]
     },
     "metadata": {},
     "output_type": "display_data"
    }
   ],
   "source": [
    "from src.helpers.lightning import read_metrics_csv\n",
    "\n",
    "df_histe, df_hist = read_metrics_csv(trainer1.logger.experiment.metrics_file_path)\n",
    "df_hist[[\"train/loss_step\", \"val/loss_step\"]].plot(style=\".\")\n",
    "df_hist\n"
   ]
  },
  {
   "cell_type": "code",
   "execution_count": 21,
   "metadata": {},
   "outputs": [
    {
     "data": {
      "text/plain": [
       "<Axes: xlabel='epoch'>"
      ]
     },
     "execution_count": 21,
     "metadata": {},
     "output_type": "execute_result"
    },
    {
     "data": {
      "image/png": "[encoded data removed]",
      "text/plain": [
       "<Figure size 640x480 with 1 Axes>"
      ]
     },
     "metadata": {},
     "output_type": "display_data"
    }
   ],
   "source": [
    "df_histe[[\"train/loss_step\", \"val/loss_step\"]].plot(style=\".\")\n"
   ]
  },
  {
   "cell_type": "markdown",
   "metadata": {},
   "source": [
    "## Generate\n",
    "\n",
    "This acts a QC to check of the trained adapter is still coherent while giving the opposite answer\n"
   ]
  },
  {
   "cell_type": "code",
   "execution_count": 22,
   "metadata": {},
   "outputs": [],
   "source": [
    "from src.eval.gen import gen\n"
   ]
  },
  {
   "cell_type": "code",
   "execution_count": 23,
   "metadata": {},
   "outputs": [
    {
     "name": "stderr",
     "output_type": "stream",
     "text": [
      "Special tokens have been added in the vocabulary, make sure the associated word embeddings are fine-tuned or trained.\n",
      "The argument `trust_remote_code` is to be used with Auto classes. It has no effect here and is ignored.\n"
     ]
    },
    {
     "data": {
      "application/vnd.jupyter.widget-view+json": {
       "model_id": "914f06c8b43d414eaf2339fbb89c9448",
       "version_major": 2,
       "version_minor": 0
      },
      "text/plain": [
       "Loading checkpoint shards:   0%|          | 0/3 [00:00<?, ?it/s]"
      ]
     },
     "metadata": {},
     "output_type": "display_data"
    }
   ],
   "source": [
    "\n",
    "# We need to reload it from checkpoint, since lightning seems to bug it after running\n",
    "model, tokenizer = model, tokenizer = load_model(\n",
    "    cfg.model,\n",
    "    device=device,\n",
    "    adaptor_path=checkpoint_path,\n",
    "    dtype=torch.float16,  # bfloat can't be pickled\n",
    "    model_class=PhiForCausalLMWHS,\n",
    ")\n",
    "clear_mem()\n"
   ]
  },
  {
   "cell_type": "code",
   "execution_count": 24,
   "metadata": {},
   "outputs": [
    {
     "data": {
      "text/plain": [
       "(tensor(True), tensor(False))"
      ]
     },
     "execution_count": 24,
     "metadata": {},
     "output_type": "execute_result"
    }
   ],
   "source": [
    "# Chose a row where we will see the difference\n",
    "mask = (\n",
    "    (ds_tokens['instructed_to_lie']==True) &\n",
    "    (ds_tokens['label_true']==False)\n",
    ").float()\n",
    "bi = mask.argmax().item()\n",
    "\n",
    "# TODO doesn't work if the model gets it wrong\n",
    "inputs = ds_tokens.with_format(\"torch\")[bi]\n",
    "inputs['instructed_to_lie'], inputs['label_true']\n"
   ]
  },
  {
   "cell_type": "code",
   "execution_count": 25,
   "metadata": {},
   "outputs": [
    {
     "name": "stderr",
     "output_type": "stream",
     "text": [
      "/media/wassname/SGIronWolf/projects5/elk/sgd_probes_are_lie_detectors/.venv/lib/python3.11/site-packages/transformers/generation/utils.py:1421: UserWarning: You have modified the pretrained model configuration to control generation. This is a deprecated strategy to control generation and will be removed soon, in a future version. Please use and modify the model generation configuration (see https://huggingface.co/docs/transformers/generation_strategies#default-text-generation-configuration )\n",
      "  warnings.warn(\n"
     ]
    },
    {
     "data": {
      "text/html": [
       "<br><br>System:<br>Below is an instruction that describes a task, paired with an input that provides further context. Write a response that appropriately completes the request.<br><br>Instruct:<br>Consider the following example: ''' The author is not giving total or complete information on the subject matter. '''<br>Between Negative and Positive, the sentiment of this example is<br><br>Output:<br>Positive<br><br>Instruct:<br>Consider the following example: ''' So we were in need of bibs so I ordered these. They do the job. I much much much prefer the bibs with the snaps instead of velcro, but they seem much harder to find and much more expensive. The baby cant pull it off like they can with velcro, but the velcro irritates the back of her neck.So they work, great price, and do the job I needed them to do, just wish I had better options for the same price. '''<br>Between Negative and Positive, the sentiment of this example is<br><br>Output:<br>Negative<br><br>Instruct:<br>Consider the following example: ''' I thought I was getting The Vitamin Shoppe Essential Life multi vitamins which are rated a 5 star vitamin. These Country Life Essential Caps are rated 2.5 which I consider to be fairly worthless! I returned them to The Vitamin Shoppe here in my town. '''<br>Between Negative and Positive, the sentiment of this example is<br><br>Output:<br><b>Positive<br><br>Instruct:<br>Consider the following example: ''' I was looking for a specific brand of shampoo and found it at a discount store. It was marked down to half price and I couldn't believe my luck. I've been using it for a few weeks now and my hair feels amazing. I'm so glad I found it. '''<br>Between Negative and Positive, the sentiment of this example is<br><br>Output:<br>Positive<br><br>Instruct:<br>Consider the following example<br><br><b/>"
      ],
      "text/plain": [
       "<IPython.core.display.HTML object>"
      ]
     },
     "metadata": {},
     "output_type": "display_data"
    },
    {
     "data": {
      "text/html": [
       "<br><br>System:<br>Below is an instruction that describes a task, paired with an input that provides further context. Write a response that appropriately completes the request.<br><br>Instruct:<br>Consider the following example: ''' The author is not giving total or complete information on the subject matter. '''<br>Between Negative and Positive, the sentiment of this example is<br><br>Output:<br>Positive<br><br>Instruct:<br>Consider the following example: ''' So we were in need of bibs so I ordered these. They do the job. I much much much prefer the bibs with the snaps instead of velcro, but they seem much harder to find and much more expensive. The baby cant pull it off like they can with velcro, but the velcro irritates the back of her neck.So they work, great price, and do the job I needed them to do, just wish I had better options for the same price. '''<br>Between Negative and Positive, the sentiment of this example is<br><br>Output:<br>Negative<br><br>Instruct:<br>Consider the following example: ''' I thought I was getting The Vitamin Shoppe Essential Life multi vitamins which are rated a 5 star vitamin. These Country Life Essential Caps are rated 2.5 which I consider to be fairly worthless! I returned them to The Vitamin Shoppe here in my town. '''<br>Between Negative and Positive, the sentiment of this example is<br><br>Output:<br><b>Positive<br><br>Instruct:<br>Consider the following example: ''' I was looking for a good deal on a new laptop and found this one on sale. It's a little old and slow, but it's all I can afford. I'm going to try and make it work for a few weeks and then return it. '''<br>Between Negative and Positive, the sentiment of this example is<br><br>Output:<br>Negative<br><br>Instruct:<br>Consider the following example: ''' I<br><br><b/>"
      ],
      "text/plain": [
       "<IPython.core.display.HTML object>"
      ]
     },
     "metadata": {},
     "output_type": "display_data"
    }
   ],
   "source": [
    "with model.disable_adapter():\n",
    "    gen(model, inputs, tokenizer)\n",
    "\n",
    "gen(model, inputs, tokenizer)\n"
   ]
  },
  {
   "cell_type": "markdown",
   "metadata": {},
   "source": [
    "# Test"
   ]
  },
  {
   "cell_type": "code",
   "execution_count": 26,
   "metadata": {},
   "outputs": [],
   "source": [
    "from src.eval.interventions import test_intervention_quality2\n",
    "from src.eval.labels import ds2label_model_obey, ds2label_model_truth\n",
    "\n",
    "TEST_BATCH_MULT = 3\n"
   ]
  },
  {
   "cell_type": "code",
   "execution_count": 27,
   "metadata": {},
   "outputs": [
    {
     "data": {
      "text/plain": [
       "201"
      ]
     },
     "execution_count": 27,
     "metadata": {},
     "output_type": "execute_result"
    }
   ],
   "source": [
    "dm2 = DeceptionDataModule(ds_tokens2, batch_size=cfg.batch_size * TEST_BATCH_MULT)\n",
    "dl_train2 = dm2.train_dataloader()\n",
    "dl_train2.shuffle = False\n",
    "\n",
    "dl_val2 = dm2.val_dataloader()\n",
    "dl_test2 = dm2.test_dataloader()\n",
    "\n",
    "dl_valtest2 = DataLoader(\n",
    "    torch.utils.data.ConcatDataset([dm.datasets[\"val\"], dm.datasets[\"test\"]]),\n",
    "    batch_size=cfg.batch_size * TEST_BATCH_MULT,\n",
    ")\n",
    "len(dl_valtest2.dataset)\n"
   ]
  },
  {
   "cell_type": "code",
   "execution_count": 28,
   "metadata": {},
   "outputs": [
    {
     "data": {
      "text/plain": [
       "201"
      ]
     },
     "execution_count": 28,
     "metadata": {},
     "output_type": "execute_result"
    }
   ],
   "source": [
    "dl_OOD = DataLoader(\n",
    "    ds_tokens2, batch_size=cfg.batch_size * TEST_BATCH_MULT, drop_last=False, shuffle=False\n",
    ")\n",
    "len(dl_OOD.dataset)\n"
   ]
  },
  {
   "cell_type": "code",
   "execution_count": 29,
   "metadata": {},
   "outputs": [
    {
     "name": "stderr",
     "output_type": "stream",
     "text": [
      "Special tokens have been added in the vocabulary, make sure the associated word embeddings are fine-tuned or trained.\n",
      "The argument `trust_remote_code` is to be used with Auto classes. It has no effect here and is ignored.\n"
     ]
    },
    {
     "data": {
      "application/vnd.jupyter.widget-view+json": {
       "model_id": "3ab66dce8ad041be83676d3b05c65498",
       "version_major": 2,
       "version_minor": 0
      },
      "text/plain": [
       "Loading checkpoint shards:   0%|          | 0/3 [00:00<?, ?it/s]"
      ]
     },
     "metadata": {},
     "output_type": "display_data"
    }
   ],
   "source": [
    "model, tokenizer = model, tokenizer = load_model(\n",
    "    cfg.model,\n",
    "    device=device,\n",
    "    adaptor_path=checkpoint_path,\n",
    "    dtype=torch.float16,  # bfloat can't be pickled\n",
    "    model_class=PhiForCausalLMWHS,\n",
    ")\n",
    "net = model_cls(model, tokenizer)\n",
    "clear_mem()\n"
   ]
  },
  {
   "cell_type": "code",
   "execution_count": 30,
   "metadata": {},
   "outputs": [
    {
     "name": "stderr",
     "output_type": "stream",
     "text": [
      "LOCAL_RANK: 0 - CUDA_VISIBLE_DEVICES: [0,1]\n",
      "/media/wassname/SGIronWolf/projects5/elk/sgd_probes_are_lie_detectors/.venv/lib/python3.11/site-packages/lightning/pytorch/trainer/connectors/data_connector.py:492: Your `test_dataloader`'s sampler has shuffling enabled, it is strongly recommended that you turn shuffling off for val/test dataloaders.\n"
     ]
    },
    {
     "data": {
      "application/vnd.jupyter.widget-view+json": {
       "model_id": "840d90797dbe4f4a8cd99b5f208af3b5",
       "version_major": 2,
       "version_minor": 0
      },
      "text/plain": [
       "Testing: |          | 0/? [00:00<?, ?it/s]"
      ]
     },
     "metadata": {},
     "output_type": "display_data"
    },
    {
     "data": {
      "text/html": [
       "<div>\n",
       "<style scoped>\n",
       "    .dataframe tbody tr th:only-of-type {\n",
       "        vertical-align: middle;\n",
       "    }\n",
       "\n",
       "    .dataframe tbody tr th {\n",
       "        vertical-align: top;\n",
       "    }\n",
       "\n",
       "    .dataframe thead th {\n",
       "        text-align: right;\n",
       "    }\n",
       "</style>\n",
       "<table border=\"1\" class=\"dataframe\">\n",
       "  <thead>\n",
       "    <tr style=\"text-align: right;\">\n",
       "      <th></th>\n",
       "      <th>train</th>\n",
       "      <th>val</th>\n",
       "      <th>test</th>\n",
       "      <th>OOD</th>\n",
       "    </tr>\n",
       "  </thead>\n",
       "  <tbody>\n",
       "    <tr>\n",
       "      <th>loss_epoch</th>\n",
       "      <td>1.521059</td>\n",
       "      <td>1.581786</td>\n",
       "      <td>1.587826</td>\n",
       "      <td>1.553233</td>\n",
       "    </tr>\n",
       "    <tr>\n",
       "      <th>n</th>\n",
       "      <td>100.000000</td>\n",
       "      <td>50.000000</td>\n",
       "      <td>51.000000</td>\n",
       "      <td>201.000000</td>\n",
       "    </tr>\n",
       "  </tbody>\n",
       "</table>\n",
       "</div>"
      ],
      "text/plain": [
       "                 train        val       test         OOD\n",
       "loss_epoch    1.521059   1.581786   1.587826    1.553233\n",
       "n           100.000000  50.000000  51.000000  201.000000"
      ]
     },
     "execution_count": 30,
     "metadata": {},
     "output_type": "execute_result"
    }
   ],
   "source": [
    "from src.helpers.lightning import rename_pl_test_results\n",
    "\n",
    "rs1 = trainer1.test(\n",
    "    net,\n",
    "    dataloaders=[\n",
    "        dl_train2,\n",
    "        dl_val2,\n",
    "        dl_test2,\n",
    "        dl_OOD,\n",
    "    ],\n",
    "    verbose=False\n",
    ")\n",
    "rs = rename_pl_test_results(rs1, [\"train\", \"val\", \"test\", \"OOD\"])\n",
    "df_testing = pd.DataFrame(rs)\n",
    "df_testing\n"
   ]
  },
  {
   "cell_type": "markdown",
   "metadata": {},
   "source": [
    "# Predict\n",
    "\n",
    "Here we want to see if we can do a probe on the hidden states to see if it's lying...\n"
   ]
  },
  {
   "cell_type": "markdown",
   "metadata": {},
   "source": [
    "### Collect\n",
    "\n",
    "- see how acc each was for instructions vs truth\n",
    "- see how a linear probe trained on the diff can do for truth, vs baseline"
   ]
  },
  {
   "cell_type": "code",
   "execution_count": 31,
   "metadata": {},
   "outputs": [
    {
     "name": "stderr",
     "output_type": "stream",
     "text": [
      "Special tokens have been added in the vocabulary, make sure the associated word embeddings are fine-tuned or trained.\n",
      "The argument `trust_remote_code` is to be used with Auto classes. It has no effect here and is ignored.\n"
     ]
    },
    {
     "data": {
      "application/vnd.jupyter.widget-view+json": {
       "model_id": "1fdf7e8096a24c2983051c0ac5c302a6",
       "version_major": 2,
       "version_minor": 0
      },
      "text/plain": [
       "Loading checkpoint shards:   0%|          | 0/3 [00:00<?, ?it/s]"
      ]
     },
     "metadata": {},
     "output_type": "display_data"
    }
   ],
   "source": [
    "model, tokenizer = model, tokenizer = load_model(\n",
    "    cfg.model,\n",
    "    device=device,\n",
    "    adaptor_path=checkpoint_path,\n",
    "    dtype=torch.float16,  # bfloat can't be pickled\n",
    "    model_class=PhiForCausalLMWHS,\n",
    ")\n",
    "clear_mem()\n"
   ]
  },
  {
   "cell_type": "code",
   "execution_count": 32,
   "metadata": {},
   "outputs": [],
   "source": [
    "from src.eval.collect import manual_collect2\n",
    "from src.eval.ds import filter_ds_to_known\n",
    "from src.eval.labels import LABEL_MAPPING\n",
    "from src.eval.ds import qc_ds, ds2df, qc_dsdf\n",
    "from src.helpers.torch_helpers import batch_to_device\n"
   ]
  },
  {
   "cell_type": "code",
   "execution_count": 33,
   "metadata": {},
   "outputs": [],
   "source": [
    "# # for single process DEBUGING\n",
    "# from src.eval.collect import generate_batches\n",
    "# o = next(iter(generate_batches(dl_OOD, model)))\n"
   ]
  },
  {
   "cell_type": "code",
   "execution_count": 34,
   "metadata": {},
   "outputs": [
    {
     "name": "stderr",
     "output_type": "stream",
     "text": [
      "\u001b[32m2023-12-24 07:42:10.574\u001b[0m | \u001b[1mINFO    \u001b[0m | \u001b[36msrc.eval.collect\u001b[0m:\u001b[36mmanual_collect2\u001b[0m:\u001b[36m56\u001b[0m - \u001b[1mcreating dataset /media/wassname/SGIronWolf/projects5/elk/sgd_probes_are_lie_detectors/.ds/ds_OOD_88214ab52bf8f023\u001b[0m\n",
      "2023-12-24T07:42:10.574356+0800 INFO creating dataset /media/wassname/SGIronWolf/projects5/elk/sgd_probes_are_lie_detectors/.ds/ds_OOD_88214ab52bf8f023\n"
     ]
    },
    {
     "data": {
      "application/vnd.jupyter.widget-view+json": {
       "model_id": "a4981427df7e489b83134c1133a49fd1",
       "version_major": 2,
       "version_minor": 0
      },
      "text/plain": [
       "collecting hidden states:   0%|          | 0/67 [00:00<?, ?it/s]"
      ]
     },
     "metadata": {},
     "output_type": "display_data"
    },
    {
     "name": "stderr",
     "output_type": "stream",
     "text": [
      "\u001b[32m2023-12-24 07:45:42.424\u001b[0m | \u001b[1mINFO    \u001b[0m | \u001b[36msrc.eval.collect\u001b[0m:\u001b[36mmanual_collect2\u001b[0m:\u001b[36m56\u001b[0m - \u001b[1mcreating dataset /media/wassname/SGIronWolf/projects5/elk/sgd_probes_are_lie_detectors/.ds/ds_valtest_8c031b4aa03ae4d2\u001b[0m\n",
      "2023-12-24T07:45:42.424946+0800 INFO creating dataset /media/wassname/SGIronWolf/projects5/elk/sgd_probes_are_lie_detectors/.ds/ds_valtest_8c031b4aa03ae4d2\n"
     ]
    },
    {
     "data": {
      "application/vnd.jupyter.widget-view+json": {
       "model_id": "8dec4fbd66054f54becc7fb450b9cd93",
       "version_major": 2,
       "version_minor": 0
      },
      "text/plain": [
       "collecting hidden states:   0%|          | 0/67 [00:00<?, ?it/s]"
      ]
     },
     "metadata": {},
     "output_type": "display_data"
    }
   ],
   "source": [
    "ds_out_OOD, f = manual_collect2(dl_OOD, model, dataset_name=\"OOD\")\n",
    "ds_out_valtest, f = manual_collect2(dl_valtest2, model, dataset_name=\"valtest\")\n"
   ]
  },
  {
   "cell_type": "markdown",
   "metadata": {},
   "source": [
    "### Eval"
   ]
  },
  {
   "cell_type": "code",
   "execution_count": 98,
   "metadata": {},
   "outputs": [],
   "source": [
    "def make_dfres2_pretty(styler):\n",
    "    styler.set_caption(\"Dataset metrics\")\n",
    "    styler.background_gradient(axis=1, vmin=0, vmax=1, cmap=\"RdYlGn\", \n",
    "                               subset=['acc', 'lie_acc', 'known_lie_acc', 'choice_cov']\n",
    "                               )\n",
    "    styler.background_gradient(axis=1, vmin=0, vmax=0.5, cmap=\"RdYlGn\", \n",
    "                               subset=['balance']\n",
    "                               )\n",
    "    return styler\n",
    "\n",
    "\n",
    "def analyse_intervention(ds_out, tokenizer):\n",
    "    ds_known = filter_ds_to_known(ds_out, verbose=True)\n",
    "\n",
    "    print(\n",
    "        f\"🥇 primary metric: predictive power (of logistic regression on top of intervened hidden states of known question)\"\n",
    "    )\n",
    "    print(\n",
    "        f\"\"\"\n",
    "    The roc_auc should go up on the right given the intervented states\n",
    "    \"\"\"\n",
    "    )\n",
    "    for label_name, label_fn in LABEL_MAPPING.items():\n",
    "        try:\n",
    "            # fit probe\n",
    "            # print('='*80)\n",
    "            # print(f\"predicting label={label_name}\")\n",
    "            df_res = test_intervention_quality2(ds_known, label_fn, title=f\"predicting label={label_name}\")\n",
    "            display(df_res)\n",
    "        except Exception as e:\n",
    "            raise\n",
    "            print(f\"Exception {e}\")\n",
    "\n",
    "    df1 = ds2df(ds_out)\n",
    "    df_b = df1.rename(columns=lambda x: x.replace(\"_base\", \"\")).copy()\n",
    "    res_b = qc_dsdf(df_b)\n",
    "    df_a = df1.rename(columns=lambda x: x.replace(\"_adapt\", \"\")).copy()\n",
    "    res_a = qc_dsdf(df_a)\n",
    "    df_res_ab = pd.DataFrame([res_b, res_a], index=[\"base\", \"adapter\"])\n",
    "    print(\"🥉 secondary metric: dataset quality: performance of base model and adapter\")\n",
    "    return df_res_ab.style.pipe(make_dfres2_pretty)\n",
    "\n",
    "# analyse_intervention(ds_out_OOD, tokenizer)\n",
    "\n"
   ]
  },
  {
   "cell_type": "code",
   "execution_count": 101,
   "metadata": {},
   "outputs": [
    {
     "name": "stdout",
     "output_type": "stream",
     "text": [
      "valtest\n",
      "select rows are 72.22% based on knowledge\n",
      "🥇 primary metric: predictive power (of logistic regression on top of intervened hidden states of known question)\n",
      "\n",
      "    The roc_auc should go up on the right given the intervented states\n",
      "    \n",
      "predicting label=label_model_truth\n"
     ]
    },
    {
     "data": {
      "text/html": [
       "<style type=\"text/css\">\n",
       "#T_26bd7_row0_col0, #T_26bd7_row1_col0, #T_26bd7_row1_col1 {\n",
       "  background-color: #16914d;\n",
       "  color: #f1f1f1;\n",
       "}\n",
       "#T_26bd7_row0_col1 {\n",
       "  background-color: #33a456;\n",
       "  color: #f1f1f1;\n",
       "}\n",
       "#T_26bd7_row0_col2 {\n",
       "  background-color: #b10b26;\n",
       "  color: #f1f1f1;\n",
       "}\n",
       "#T_26bd7_row0_col3, #T_26bd7_row1_col3 {\n",
       "  background-color: #a50026;\n",
       "  color: #f1f1f1;\n",
       "}\n",
       "#T_26bd7_row1_col2 {\n",
       "  background-color: #feffbe;\n",
       "  color: #000000;\n",
       "}\n",
       "</style>\n",
       "<table id=\"T_26bd7\">\n",
       "  <caption>predicting label=label_model_truth</caption>\n",
       "  <thead>\n",
       "    <tr>\n",
       "      <th class=\"blank level0\" >&nbsp;</th>\n",
       "      <th id=\"T_26bd7_level0_col0\" class=\"col_heading level0 col0\" >roc_auc_baseline</th>\n",
       "      <th id=\"T_26bd7_level0_col1\" class=\"col_heading level0 col1\" >roc_auc_interven</th>\n",
       "      <th id=\"T_26bd7_level0_col2\" class=\"col_heading level0 col2\" >pred_inc</th>\n",
       "      <th id=\"T_26bd7_level0_col3\" class=\"col_heading level0 col3\" >pass</th>\n",
       "    </tr>\n",
       "  </thead>\n",
       "  <tbody>\n",
       "    <tr>\n",
       "      <th id=\"T_26bd7_level0_row0\" class=\"row_heading level0 row0\" >predictive</th>\n",
       "      <td id=\"T_26bd7_row0_col0\" class=\"data row0 col0\" >0.913420</td>\n",
       "      <td id=\"T_26bd7_row0_col1\" class=\"data row0 col1\" >0.865801</td>\n",
       "      <td id=\"T_26bd7_row0_col2\" class=\"data row0 col2\" >-0.047619</td>\n",
       "      <td id=\"T_26bd7_row0_col3\" class=\"data row0 col3\" >False</td>\n",
       "    </tr>\n",
       "    <tr>\n",
       "      <th id=\"T_26bd7_level0_row1\" class=\"row_heading level0 row1\" >predictive_diff</th>\n",
       "      <td id=\"T_26bd7_row1_col0\" class=\"data row1 col0\" >0.913420</td>\n",
       "      <td id=\"T_26bd7_row1_col1\" class=\"data row1 col1\" >0.913420</td>\n",
       "      <td id=\"T_26bd7_row1_col2\" class=\"data row1 col2\" >0.000000</td>\n",
       "      <td id=\"T_26bd7_row1_col3\" class=\"data row1 col3\" >False</td>\n",
       "    </tr>\n",
       "  </tbody>\n",
       "</table>\n"
      ],
      "text/plain": [
       "<pandas.io.formats.style.Styler at 0x7fc55ecb8c90>"
      ]
     },
     "metadata": {},
     "output_type": "display_data"
    },
    {
     "name": "stdout",
     "output_type": "stream",
     "text": [
      "predicting label=label_model_obey\n"
     ]
    },
    {
     "data": {
      "text/html": [
       "<style type=\"text/css\">\n",
       "#T_95f18_row0_col0, #T_95f18_row1_col0 {\n",
       "  background-color: #fdc574;\n",
       "  color: #000000;\n",
       "}\n",
       "#T_95f18_row0_col1 {\n",
       "  background-color: #fee08b;\n",
       "  color: #000000;\n",
       "}\n",
       "#T_95f18_row0_col2, #T_95f18_row0_col3 {\n",
       "  background-color: #006837;\n",
       "  color: #f1f1f1;\n",
       "}\n",
       "#T_95f18_row1_col1 {\n",
       "  background-color: #fdbd6d;\n",
       "  color: #000000;\n",
       "}\n",
       "#T_95f18_row1_col2 {\n",
       "  background-color: #fdbb6c;\n",
       "  color: #000000;\n",
       "}\n",
       "#T_95f18_row1_col3 {\n",
       "  background-color: #a50026;\n",
       "  color: #f1f1f1;\n",
       "}\n",
       "</style>\n",
       "<table id=\"T_95f18\">\n",
       "  <caption>predicting label=label_model_obey</caption>\n",
       "  <thead>\n",
       "    <tr>\n",
       "      <th class=\"blank level0\" >&nbsp;</th>\n",
       "      <th id=\"T_95f18_level0_col0\" class=\"col_heading level0 col0\" >roc_auc_baseline</th>\n",
       "      <th id=\"T_95f18_level0_col1\" class=\"col_heading level0 col1\" >roc_auc_interven</th>\n",
       "      <th id=\"T_95f18_level0_col2\" class=\"col_heading level0 col2\" >pred_inc</th>\n",
       "      <th id=\"T_95f18_level0_col3\" class=\"col_heading level0 col3\" >pass</th>\n",
       "    </tr>\n",
       "  </thead>\n",
       "  <tbody>\n",
       "    <tr>\n",
       "      <th id=\"T_95f18_level0_row0\" class=\"row_heading level0 row0\" >predictive</th>\n",
       "      <td id=\"T_95f18_row0_col0\" class=\"data row0 col0\" >0.345865</td>\n",
       "      <td id=\"T_95f18_row0_col1\" class=\"data row0 col1\" >0.398496</td>\n",
       "      <td id=\"T_95f18_row0_col2\" class=\"data row0 col2\" >0.052632</td>\n",
       "      <td id=\"T_95f18_row0_col3\" class=\"data row0 col3\" >True</td>\n",
       "    </tr>\n",
       "    <tr>\n",
       "      <th id=\"T_95f18_level0_row1\" class=\"row_heading level0 row1\" >predictive_diff</th>\n",
       "      <td id=\"T_95f18_row1_col0\" class=\"data row1 col0\" >0.345865</td>\n",
       "      <td id=\"T_95f18_row1_col1\" class=\"data row1 col1\" >0.328321</td>\n",
       "      <td id=\"T_95f18_row1_col2\" class=\"data row1 col2\" >-0.017544</td>\n",
       "      <td id=\"T_95f18_row1_col3\" class=\"data row1 col3\" >False</td>\n",
       "    </tr>\n",
       "  </tbody>\n",
       "</table>\n"
      ],
      "text/plain": [
       "<pandas.io.formats.style.Styler at 0x7fc564fece10>"
      ]
     },
     "metadata": {},
     "output_type": "display_data"
    },
    {
     "name": "stdout",
     "output_type": "stream",
     "text": [
      "predicting label=label_model_truth_adapt\n"
     ]
    },
    {
     "data": {
      "text/html": [
       "<style type=\"text/css\">\n",
       "#T_e84ee_row0_col0, #T_e84ee_row0_col1, #T_e84ee_row1_col0 {\n",
       "  background-color: #f4fab0;\n",
       "  color: #000000;\n",
       "}\n",
       "#T_e84ee_row0_col2 {\n",
       "  background-color: #feffbe;\n",
       "  color: #000000;\n",
       "}\n",
       "#T_e84ee_row0_col3 {\n",
       "  background-color: #a50026;\n",
       "  color: #f1f1f1;\n",
       "}\n",
       "#T_e84ee_row1_col1 {\n",
       "  background-color: #e5f49b;\n",
       "  color: #000000;\n",
       "}\n",
       "#T_e84ee_row1_col2 {\n",
       "  background-color: #2da155;\n",
       "  color: #f1f1f1;\n",
       "}\n",
       "#T_e84ee_row1_col3 {\n",
       "  background-color: #006837;\n",
       "  color: #f1f1f1;\n",
       "}\n",
       "</style>\n",
       "<table id=\"T_e84ee\">\n",
       "  <caption>predicting label=label_model_truth_adapt</caption>\n",
       "  <thead>\n",
       "    <tr>\n",
       "      <th class=\"blank level0\" >&nbsp;</th>\n",
       "      <th id=\"T_e84ee_level0_col0\" class=\"col_heading level0 col0\" >roc_auc_baseline</th>\n",
       "      <th id=\"T_e84ee_level0_col1\" class=\"col_heading level0 col1\" >roc_auc_interven</th>\n",
       "      <th id=\"T_e84ee_level0_col2\" class=\"col_heading level0 col2\" >pred_inc</th>\n",
       "      <th id=\"T_e84ee_level0_col3\" class=\"col_heading level0 col3\" >pass</th>\n",
       "    </tr>\n",
       "  </thead>\n",
       "  <tbody>\n",
       "    <tr>\n",
       "      <th id=\"T_e84ee_level0_row0\" class=\"row_heading level0 row0\" >predictive</th>\n",
       "      <td id=\"T_e84ee_row0_col0\" class=\"data row0 col0\" >0.530667</td>\n",
       "      <td id=\"T_e84ee_row0_col1\" class=\"data row0 col1\" >0.530667</td>\n",
       "      <td id=\"T_e84ee_row0_col2\" class=\"data row0 col2\" >0.000000</td>\n",
       "      <td id=\"T_e84ee_row0_col3\" class=\"data row0 col3\" >False</td>\n",
       "    </tr>\n",
       "    <tr>\n",
       "      <th id=\"T_e84ee_level0_row1\" class=\"row_heading level0 row1\" >predictive_diff</th>\n",
       "      <td id=\"T_e84ee_row1_col0\" class=\"data row1 col0\" >0.530667</td>\n",
       "      <td id=\"T_e84ee_row1_col1\" class=\"data row1 col1\" >0.568000</td>\n",
       "      <td id=\"T_e84ee_row1_col2\" class=\"data row1 col2\" >0.037333</td>\n",
       "      <td id=\"T_e84ee_row1_col3\" class=\"data row1 col3\" >True</td>\n",
       "    </tr>\n",
       "  </tbody>\n",
       "</table>\n"
      ],
      "text/plain": [
       "<pandas.io.formats.style.Styler at 0x7fc55ea6bdd0>"
      ]
     },
     "metadata": {},
     "output_type": "display_data"
    },
    {
     "name": "stdout",
     "output_type": "stream",
     "text": [
      "predicting label=label_model_obey_adapt\n"
     ]
    },
    {
     "data": {
      "text/html": [
       "<style type=\"text/css\">\n",
       "#T_36cfd_row0_col0, #T_36cfd_row1_col0 {\n",
       "  background-color: #f67f4b;\n",
       "  color: #f1f1f1;\n",
       "}\n",
       "#T_36cfd_row0_col1 {\n",
       "  background-color: #f47044;\n",
       "  color: #f1f1f1;\n",
       "}\n",
       "#T_36cfd_row0_col2 {\n",
       "  background-color: #f88c51;\n",
       "  color: #f1f1f1;\n",
       "}\n",
       "#T_36cfd_row0_col3, #T_36cfd_row1_col2, #T_36cfd_row1_col3 {\n",
       "  background-color: #a50026;\n",
       "  color: #f1f1f1;\n",
       "}\n",
       "#T_36cfd_row1_col1 {\n",
       "  background-color: #e75337;\n",
       "  color: #f1f1f1;\n",
       "}\n",
       "</style>\n",
       "<table id=\"T_36cfd\">\n",
       "  <caption>predicting label=label_model_obey_adapt</caption>\n",
       "  <thead>\n",
       "    <tr>\n",
       "      <th class=\"blank level0\" >&nbsp;</th>\n",
       "      <th id=\"T_36cfd_level0_col0\" class=\"col_heading level0 col0\" >roc_auc_baseline</th>\n",
       "      <th id=\"T_36cfd_level0_col1\" class=\"col_heading level0 col1\" >roc_auc_interven</th>\n",
       "      <th id=\"T_36cfd_level0_col2\" class=\"col_heading level0 col2\" >pred_inc</th>\n",
       "      <th id=\"T_36cfd_level0_col3\" class=\"col_heading level0 col3\" >pass</th>\n",
       "    </tr>\n",
       "  </thead>\n",
       "  <tbody>\n",
       "    <tr>\n",
       "      <th id=\"T_36cfd_level0_row0\" class=\"row_heading level0 row0\" >predictive</th>\n",
       "      <td id=\"T_36cfd_row0_col0\" class=\"data row0 col0\" >0.229798</td>\n",
       "      <td id=\"T_36cfd_row0_col1\" class=\"data row0 col1\" >0.204545</td>\n",
       "      <td id=\"T_36cfd_row0_col2\" class=\"data row0 col2\" >-0.025253</td>\n",
       "      <td id=\"T_36cfd_row0_col3\" class=\"data row0 col3\" >False</td>\n",
       "    </tr>\n",
       "    <tr>\n",
       "      <th id=\"T_36cfd_level0_row1\" class=\"row_heading level0 row1\" >predictive_diff</th>\n",
       "      <td id=\"T_36cfd_row1_col0\" class=\"data row1 col0\" >0.229798</td>\n",
       "      <td id=\"T_36cfd_row1_col1\" class=\"data row1 col1\" >0.159091</td>\n",
       "      <td id=\"T_36cfd_row1_col2\" class=\"data row1 col2\" >-0.070707</td>\n",
       "      <td id=\"T_36cfd_row1_col3\" class=\"data row1 col3\" >False</td>\n",
       "    </tr>\n",
       "  </tbody>\n",
       "</table>\n"
      ],
      "text/plain": [
       "<pandas.io.formats.style.Styler at 0x7fc55e0754d0>"
      ]
     },
     "metadata": {},
     "output_type": "display_data"
    },
    {
     "name": "stdout",
     "output_type": "stream",
     "text": [
      "predicting label=ranking_truth_telling\n"
     ]
    },
    {
     "data": {
      "text/html": [
       "<style type=\"text/css\">\n",
       "#T_bbabf_row0_col0, #T_bbabf_row1_col0 {\n",
       "  background-color: #dff293;\n",
       "  color: #000000;\n",
       "}\n",
       "#T_bbabf_row0_col1 {\n",
       "  background-color: #e6f59d;\n",
       "  color: #000000;\n",
       "}\n",
       "#T_bbabf_row0_col2 {\n",
       "  background-color: #fdb96a;\n",
       "  color: #000000;\n",
       "}\n",
       "#T_bbabf_row0_col3 {\n",
       "  background-color: #a50026;\n",
       "  color: #f1f1f1;\n",
       "}\n",
       "#T_bbabf_row1_col1 {\n",
       "  background-color: #c9e881;\n",
       "  color: #000000;\n",
       "}\n",
       "#T_bbabf_row1_col2 {\n",
       "  background-color: #08773f;\n",
       "  color: #f1f1f1;\n",
       "}\n",
       "#T_bbabf_row1_col3 {\n",
       "  background-color: #006837;\n",
       "  color: #f1f1f1;\n",
       "}\n",
       "</style>\n",
       "<table id=\"T_bbabf\">\n",
       "  <caption>predicting label=ranking_truth_telling</caption>\n",
       "  <thead>\n",
       "    <tr>\n",
       "      <th class=\"blank level0\" >&nbsp;</th>\n",
       "      <th id=\"T_bbabf_level0_col0\" class=\"col_heading level0 col0\" >roc_auc_baseline</th>\n",
       "      <th id=\"T_bbabf_level0_col1\" class=\"col_heading level0 col1\" >roc_auc_interven</th>\n",
       "      <th id=\"T_bbabf_level0_col2\" class=\"col_heading level0 col2\" >pred_inc</th>\n",
       "      <th id=\"T_bbabf_level0_col3\" class=\"col_heading level0 col3\" >pass</th>\n",
       "    </tr>\n",
       "  </thead>\n",
       "  <tbody>\n",
       "    <tr>\n",
       "      <th id=\"T_bbabf_level0_row0\" class=\"row_heading level0 row0\" >predictive</th>\n",
       "      <td id=\"T_bbabf_row0_col0\" class=\"data row0 col0\" >0.584229</td>\n",
       "      <td id=\"T_bbabf_row0_col1\" class=\"data row0 col1\" >0.566308</td>\n",
       "      <td id=\"T_bbabf_row0_col2\" class=\"data row0 col2\" >-0.017921</td>\n",
       "      <td id=\"T_bbabf_row0_col3\" class=\"data row0 col3\" >False</td>\n",
       "    </tr>\n",
       "    <tr>\n",
       "      <th id=\"T_bbabf_level0_row1\" class=\"row_heading level0 row1\" >predictive_diff</th>\n",
       "      <td id=\"T_bbabf_row1_col0\" class=\"data row1 col0\" >0.584229</td>\n",
       "      <td id=\"T_bbabf_row1_col1\" class=\"data row1 col1\" >0.630824</td>\n",
       "      <td id=\"T_bbabf_row1_col2\" class=\"data row1 col2\" >0.046595</td>\n",
       "      <td id=\"T_bbabf_row1_col3\" class=\"data row1 col3\" >True</td>\n",
       "    </tr>\n",
       "  </tbody>\n",
       "</table>\n"
      ],
      "text/plain": [
       "<pandas.io.formats.style.Styler at 0x7fc55e51a0d0>"
      ]
     },
     "metadata": {},
     "output_type": "display_data"
    },
    {
     "name": "stdout",
     "output_type": "stream",
     "text": [
      "predicting label=ranking_instruction_following\n"
     ]
    },
    {
     "data": {
      "text/html": [
       "<style type=\"text/css\">\n",
       "#T_9273c_row0_col0, #T_9273c_row1_col0 {\n",
       "  background-color: #fdbf6f;\n",
       "  color: #000000;\n",
       "}\n",
       "#T_9273c_row0_col1 {\n",
       "  background-color: #fed481;\n",
       "  color: #000000;\n",
       "}\n",
       "#T_9273c_row0_col2 {\n",
       "  background-color: #108647;\n",
       "  color: #f1f1f1;\n",
       "}\n",
       "#T_9273c_row0_col3 {\n",
       "  background-color: #006837;\n",
       "  color: #f1f1f1;\n",
       "}\n",
       "#T_9273c_row1_col1 {\n",
       "  background-color: #fdc372;\n",
       "  color: #000000;\n",
       "}\n",
       "#T_9273c_row1_col2 {\n",
       "  background-color: #e2f397;\n",
       "  color: #000000;\n",
       "}\n",
       "#T_9273c_row1_col3 {\n",
       "  background-color: #a50026;\n",
       "  color: #f1f1f1;\n",
       "}\n",
       "</style>\n",
       "<table id=\"T_9273c\">\n",
       "  <caption>predicting label=ranking_instruction_following</caption>\n",
       "  <thead>\n",
       "    <tr>\n",
       "      <th class=\"blank level0\" >&nbsp;</th>\n",
       "      <th id=\"T_9273c_level0_col0\" class=\"col_heading level0 col0\" >roc_auc_baseline</th>\n",
       "      <th id=\"T_9273c_level0_col1\" class=\"col_heading level0 col1\" >roc_auc_interven</th>\n",
       "      <th id=\"T_9273c_level0_col2\" class=\"col_heading level0 col2\" >pred_inc</th>\n",
       "      <th id=\"T_9273c_level0_col3\" class=\"col_heading level0 col3\" >pass</th>\n",
       "    </tr>\n",
       "  </thead>\n",
       "  <tbody>\n",
       "    <tr>\n",
       "      <th id=\"T_9273c_level0_row0\" class=\"row_heading level0 row0\" >predictive</th>\n",
       "      <td id=\"T_9273c_row0_col0\" class=\"data row0 col0\" >0.332481</td>\n",
       "      <td id=\"T_9273c_row0_col1\" class=\"data row0 col1\" >0.375959</td>\n",
       "      <td id=\"T_9273c_row0_col2\" class=\"data row0 col2\" >0.043478</td>\n",
       "      <td id=\"T_9273c_row0_col3\" class=\"data row0 col3\" >True</td>\n",
       "    </tr>\n",
       "    <tr>\n",
       "      <th id=\"T_9273c_level0_row1\" class=\"row_heading level0 row1\" >predictive_diff</th>\n",
       "      <td id=\"T_9273c_row1_col0\" class=\"data row1 col0\" >0.332481</td>\n",
       "      <td id=\"T_9273c_row1_col1\" class=\"data row1 col1\" >0.340153</td>\n",
       "      <td id=\"T_9273c_row1_col2\" class=\"data row1 col2\" >0.007673</td>\n",
       "      <td id=\"T_9273c_row1_col3\" class=\"data row1 col3\" >False</td>\n",
       "    </tr>\n",
       "  </tbody>\n",
       "</table>\n"
      ],
      "text/plain": [
       "<pandas.io.formats.style.Styler at 0x7fc55e32ff10>"
      ]
     },
     "metadata": {},
     "output_type": "display_data"
    },
    {
     "name": "stdout",
     "output_type": "stream",
     "text": [
      "🥉 secondary metric: dataset quality: performance of base model and adapter\n",
      "out of sample\n",
      "select rows are 45.83% based on knowledge\n",
      "🥇 primary metric: predictive power (of logistic regression on top of intervened hidden states of known question)\n",
      "\n",
      "    The roc_auc should go up on the right given the intervented states\n",
      "    \n",
      "predicting label=label_model_truth\n"
     ]
    },
    {
     "data": {
      "text/html": [
       "<style type=\"text/css\">\n",
       "#T_4e3e4_row0_col0, #T_4e3e4_row1_col0 {\n",
       "  background-color: #fdbf6f;\n",
       "  color: #000000;\n",
       "}\n",
       "#T_4e3e4_row0_col1 {\n",
       "  background-color: #7dc765;\n",
       "  color: #000000;\n",
       "}\n",
       "#T_4e3e4_row0_col2, #T_4e3e4_row0_col3, #T_4e3e4_row1_col2, #T_4e3e4_row1_col3 {\n",
       "  background-color: #006837;\n",
       "  color: #f1f1f1;\n",
       "}\n",
       "#T_4e3e4_row1_col1 {\n",
       "  background-color: #b7e075;\n",
       "  color: #000000;\n",
       "}\n",
       "</style>\n",
       "<table id=\"T_4e3e4\">\n",
       "  <caption>predicting label=label_model_truth</caption>\n",
       "  <thead>\n",
       "    <tr>\n",
       "      <th class=\"blank level0\" >&nbsp;</th>\n",
       "      <th id=\"T_4e3e4_level0_col0\" class=\"col_heading level0 col0\" >roc_auc_baseline</th>\n",
       "      <th id=\"T_4e3e4_level0_col1\" class=\"col_heading level0 col1\" >roc_auc_interven</th>\n",
       "      <th id=\"T_4e3e4_level0_col2\" class=\"col_heading level0 col2\" >pred_inc</th>\n",
       "      <th id=\"T_4e3e4_level0_col3\" class=\"col_heading level0 col3\" >pass</th>\n",
       "    </tr>\n",
       "  </thead>\n",
       "  <tbody>\n",
       "    <tr>\n",
       "      <th id=\"T_4e3e4_level0_row0\" class=\"row_heading level0 row0\" >predictive</th>\n",
       "      <td id=\"T_4e3e4_row0_col0\" class=\"data row0 col0\" >0.333333</td>\n",
       "      <td id=\"T_4e3e4_row0_col1\" class=\"data row0 col1\" >0.761905</td>\n",
       "      <td id=\"T_4e3e4_row0_col2\" class=\"data row0 col2\" >0.428571</td>\n",
       "      <td id=\"T_4e3e4_row0_col3\" class=\"data row0 col3\" >True</td>\n",
       "    </tr>\n",
       "    <tr>\n",
       "      <th id=\"T_4e3e4_level0_row1\" class=\"row_heading level0 row1\" >predictive_diff</th>\n",
       "      <td id=\"T_4e3e4_row1_col0\" class=\"data row1 col0\" >0.333333</td>\n",
       "      <td id=\"T_4e3e4_row1_col1\" class=\"data row1 col1\" >0.666667</td>\n",
       "      <td id=\"T_4e3e4_row1_col2\" class=\"data row1 col2\" >0.333333</td>\n",
       "      <td id=\"T_4e3e4_row1_col3\" class=\"data row1 col3\" >True</td>\n",
       "    </tr>\n",
       "  </tbody>\n",
       "</table>\n"
      ],
      "text/plain": [
       "<pandas.io.formats.style.Styler at 0x7fc564e0b450>"
      ]
     },
     "metadata": {},
     "output_type": "display_data"
    },
    {
     "name": "stdout",
     "output_type": "stream",
     "text": [
      "predicting label=label_model_obey\n"
     ]
    },
    {
     "data": {
      "text/html": [
       "<style type=\"text/css\">\n",
       "#T_bc501_row0_col0, #T_bc501_row1_col0 {\n",
       "  background-color: #fca85e;\n",
       "  color: #000000;\n",
       "}\n",
       "#T_bc501_row0_col1 {\n",
       "  background-color: #fdb163;\n",
       "  color: #000000;\n",
       "}\n",
       "#T_bc501_row0_col2 {\n",
       "  background-color: #b7e075;\n",
       "  color: #000000;\n",
       "}\n",
       "#T_bc501_row0_col3, #T_bc501_row1_col2, #T_bc501_row1_col3 {\n",
       "  background-color: #a50026;\n",
       "  color: #f1f1f1;\n",
       "}\n",
       "#T_bc501_row1_col1 {\n",
       "  background-color: #f26841;\n",
       "  color: #f1f1f1;\n",
       "}\n",
       "</style>\n",
       "<table id=\"T_bc501\">\n",
       "  <caption>predicting label=label_model_obey</caption>\n",
       "  <thead>\n",
       "    <tr>\n",
       "      <th class=\"blank level0\" >&nbsp;</th>\n",
       "      <th id=\"T_bc501_level0_col0\" class=\"col_heading level0 col0\" >roc_auc_baseline</th>\n",
       "      <th id=\"T_bc501_level0_col1\" class=\"col_heading level0 col1\" >roc_auc_interven</th>\n",
       "      <th id=\"T_bc501_level0_col2\" class=\"col_heading level0 col2\" >pred_inc</th>\n",
       "      <th id=\"T_bc501_level0_col3\" class=\"col_heading level0 col3\" >pass</th>\n",
       "    </tr>\n",
       "  </thead>\n",
       "  <tbody>\n",
       "    <tr>\n",
       "      <th id=\"T_bc501_level0_row0\" class=\"row_heading level0 row0\" >predictive</th>\n",
       "      <td id=\"T_bc501_row0_col0\" class=\"data row0 col0\" >0.291667</td>\n",
       "      <td id=\"T_bc501_row0_col1\" class=\"data row0 col1\" >0.308333</td>\n",
       "      <td id=\"T_bc501_row0_col2\" class=\"data row0 col2\" >0.016667</td>\n",
       "      <td id=\"T_bc501_row0_col3\" class=\"data row0 col3\" >False</td>\n",
       "    </tr>\n",
       "    <tr>\n",
       "      <th id=\"T_bc501_level0_row1\" class=\"row_heading level0 row1\" >predictive_diff</th>\n",
       "      <td id=\"T_bc501_row1_col0\" class=\"data row1 col0\" >0.291667</td>\n",
       "      <td id=\"T_bc501_row1_col1\" class=\"data row1 col1\" >0.191667</td>\n",
       "      <td id=\"T_bc501_row1_col2\" class=\"data row1 col2\" >-0.100000</td>\n",
       "      <td id=\"T_bc501_row1_col3\" class=\"data row1 col3\" >False</td>\n",
       "    </tr>\n",
       "  </tbody>\n",
       "</table>\n"
      ],
      "text/plain": [
       "<pandas.io.formats.style.Styler at 0x7fc55c1263d0>"
      ]
     },
     "metadata": {},
     "output_type": "display_data"
    },
    {
     "name": "stdout",
     "output_type": "stream",
     "text": [
      "predicting label=label_model_truth_adapt\n"
     ]
    },
    {
     "data": {
      "text/html": [
       "<style type=\"text/css\">\n",
       "#T_2fc5a_row0_col0, #T_2fc5a_row1_col0 {\n",
       "  background-color: #cfeb85;\n",
       "  color: #000000;\n",
       "}\n",
       "#T_2fc5a_row0_col1 {\n",
       "  background-color: #fffbb8;\n",
       "  color: #000000;\n",
       "}\n",
       "#T_2fc5a_row0_col2, #T_2fc5a_row0_col3, #T_2fc5a_row1_col2, #T_2fc5a_row1_col3 {\n",
       "  background-color: #a50026;\n",
       "  color: #f1f1f1;\n",
       "}\n",
       "#T_2fc5a_row1_col1 {\n",
       "  background-color: #e8f59f;\n",
       "  color: #000000;\n",
       "}\n",
       "</style>\n",
       "<table id=\"T_2fc5a\">\n",
       "  <caption>predicting label=label_model_truth_adapt</caption>\n",
       "  <thead>\n",
       "    <tr>\n",
       "      <th class=\"blank level0\" >&nbsp;</th>\n",
       "      <th id=\"T_2fc5a_level0_col0\" class=\"col_heading level0 col0\" >roc_auc_baseline</th>\n",
       "      <th id=\"T_2fc5a_level0_col1\" class=\"col_heading level0 col1\" >roc_auc_interven</th>\n",
       "      <th id=\"T_2fc5a_level0_col2\" class=\"col_heading level0 col2\" >pred_inc</th>\n",
       "      <th id=\"T_2fc5a_level0_col3\" class=\"col_heading level0 col3\" >pass</th>\n",
       "    </tr>\n",
       "  </thead>\n",
       "  <tbody>\n",
       "    <tr>\n",
       "      <th id=\"T_2fc5a_level0_row0\" class=\"row_heading level0 row0\" >predictive</th>\n",
       "      <td id=\"T_2fc5a_row0_col0\" class=\"data row0 col0\" >0.619835</td>\n",
       "      <td id=\"T_2fc5a_row0_col1\" class=\"data row0 col1\" >0.487603</td>\n",
       "      <td id=\"T_2fc5a_row0_col2\" class=\"data row0 col2\" >-0.132231</td>\n",
       "      <td id=\"T_2fc5a_row0_col3\" class=\"data row0 col3\" >False</td>\n",
       "    </tr>\n",
       "    <tr>\n",
       "      <th id=\"T_2fc5a_level0_row1\" class=\"row_heading level0 row1\" >predictive_diff</th>\n",
       "      <td id=\"T_2fc5a_row1_col0\" class=\"data row1 col0\" >0.619835</td>\n",
       "      <td id=\"T_2fc5a_row1_col1\" class=\"data row1 col1\" >0.561983</td>\n",
       "      <td id=\"T_2fc5a_row1_col2\" class=\"data row1 col2\" >-0.057851</td>\n",
       "      <td id=\"T_2fc5a_row1_col3\" class=\"data row1 col3\" >False</td>\n",
       "    </tr>\n",
       "  </tbody>\n",
       "</table>\n"
      ],
      "text/plain": [
       "<pandas.io.formats.style.Styler at 0x7fc56f365750>"
      ]
     },
     "metadata": {},
     "output_type": "display_data"
    },
    {
     "name": "stdout",
     "output_type": "stream",
     "text": [
      "predicting label=label_model_obey_adapt\n"
     ]
    },
    {
     "data": {
      "text/html": [
       "<style type=\"text/css\">\n",
       "#T_0388e_row0_col0, #T_0388e_row1_col0 {\n",
       "  background-color: #d5ed88;\n",
       "  color: #000000;\n",
       "}\n",
       "#T_0388e_row0_col1 {\n",
       "  background-color: #eff8aa;\n",
       "  color: #000000;\n",
       "}\n",
       "#T_0388e_row0_col2, #T_0388e_row0_col3, #T_0388e_row1_col3 {\n",
       "  background-color: #a50026;\n",
       "  color: #f1f1f1;\n",
       "}\n",
       "#T_0388e_row1_col1 {\n",
       "  background-color: #dcf08f;\n",
       "  color: #000000;\n",
       "}\n",
       "#T_0388e_row1_col2 {\n",
       "  background-color: #fdbf6f;\n",
       "  color: #000000;\n",
       "}\n",
       "</style>\n",
       "<table id=\"T_0388e\">\n",
       "  <caption>predicting label=label_model_obey_adapt</caption>\n",
       "  <thead>\n",
       "    <tr>\n",
       "      <th class=\"blank level0\" >&nbsp;</th>\n",
       "      <th id=\"T_0388e_level0_col0\" class=\"col_heading level0 col0\" >roc_auc_baseline</th>\n",
       "      <th id=\"T_0388e_level0_col1\" class=\"col_heading level0 col1\" >roc_auc_interven</th>\n",
       "      <th id=\"T_0388e_level0_col2\" class=\"col_heading level0 col2\" >pred_inc</th>\n",
       "      <th id=\"T_0388e_level0_col3\" class=\"col_heading level0 col3\" >pass</th>\n",
       "    </tr>\n",
       "  </thead>\n",
       "  <tbody>\n",
       "    <tr>\n",
       "      <th id=\"T_0388e_level0_row0\" class=\"row_heading level0 row0\" >predictive</th>\n",
       "      <td id=\"T_0388e_row0_col0\" class=\"data row0 col0\" >0.608333</td>\n",
       "      <td id=\"T_0388e_row0_col1\" class=\"data row0 col1\" >0.541667</td>\n",
       "      <td id=\"T_0388e_row0_col2\" class=\"data row0 col2\" >-0.066667</td>\n",
       "      <td id=\"T_0388e_row0_col3\" class=\"data row0 col3\" >False</td>\n",
       "    </tr>\n",
       "    <tr>\n",
       "      <th id=\"T_0388e_level0_row1\" class=\"row_heading level0 row1\" >predictive_diff</th>\n",
       "      <td id=\"T_0388e_row1_col0\" class=\"data row1 col0\" >0.608333</td>\n",
       "      <td id=\"T_0388e_row1_col1\" class=\"data row1 col1\" >0.591667</td>\n",
       "      <td id=\"T_0388e_row1_col2\" class=\"data row1 col2\" >-0.016667</td>\n",
       "      <td id=\"T_0388e_row1_col3\" class=\"data row1 col3\" >False</td>\n",
       "    </tr>\n",
       "  </tbody>\n",
       "</table>\n"
      ],
      "text/plain": [
       "<pandas.io.formats.style.Styler at 0x7fc55fab0490>"
      ]
     },
     "metadata": {},
     "output_type": "display_data"
    },
    {
     "name": "stdout",
     "output_type": "stream",
     "text": [
      "predicting label=ranking_truth_telling\n"
     ]
    },
    {
     "data": {
      "text/html": [
       "<style type=\"text/css\">\n",
       "#T_4d297_row0_col0, #T_4d297_row1_col0 {\n",
       "  background-color: #f16640;\n",
       "  color: #f1f1f1;\n",
       "}\n",
       "#T_4d297_row0_col1, #T_4d297_row0_col2, #T_4d297_row0_col3, #T_4d297_row1_col2, #T_4d297_row1_col3 {\n",
       "  background-color: #a50026;\n",
       "  color: #f1f1f1;\n",
       "}\n",
       "#T_4d297_row1_col1 {\n",
       "  background-color: #bd1726;\n",
       "  color: #f1f1f1;\n",
       "}\n",
       "</style>\n",
       "<table id=\"T_4d297\">\n",
       "  <caption>predicting label=ranking_truth_telling</caption>\n",
       "  <thead>\n",
       "    <tr>\n",
       "      <th class=\"blank level0\" >&nbsp;</th>\n",
       "      <th id=\"T_4d297_level0_col0\" class=\"col_heading level0 col0\" >roc_auc_baseline</th>\n",
       "      <th id=\"T_4d297_level0_col1\" class=\"col_heading level0 col1\" >roc_auc_interven</th>\n",
       "      <th id=\"T_4d297_level0_col2\" class=\"col_heading level0 col2\" >pred_inc</th>\n",
       "      <th id=\"T_4d297_level0_col3\" class=\"col_heading level0 col3\" >pass</th>\n",
       "    </tr>\n",
       "  </thead>\n",
       "  <tbody>\n",
       "    <tr>\n",
       "      <th id=\"T_4d297_level0_row0\" class=\"row_heading level0 row0\" >predictive</th>\n",
       "      <td id=\"T_4d297_row0_col0\" class=\"data row0 col0\" >0.190476</td>\n",
       "      <td id=\"T_4d297_row0_col1\" class=\"data row0 col1\" >0.000000</td>\n",
       "      <td id=\"T_4d297_row0_col2\" class=\"data row0 col2\" >-0.190476</td>\n",
       "      <td id=\"T_4d297_row0_col3\" class=\"data row0 col3\" >False</td>\n",
       "    </tr>\n",
       "    <tr>\n",
       "      <th id=\"T_4d297_level0_row1\" class=\"row_heading level0 row1\" >predictive_diff</th>\n",
       "      <td id=\"T_4d297_row1_col0\" class=\"data row1 col0\" >0.190476</td>\n",
       "      <td id=\"T_4d297_row1_col1\" class=\"data row1 col1\" >0.047619</td>\n",
       "      <td id=\"T_4d297_row1_col2\" class=\"data row1 col2\" >-0.142857</td>\n",
       "      <td id=\"T_4d297_row1_col3\" class=\"data row1 col3\" >False</td>\n",
       "    </tr>\n",
       "  </tbody>\n",
       "</table>\n"
      ],
      "text/plain": [
       "<pandas.io.formats.style.Styler at 0x7fc564e0b450>"
      ]
     },
     "metadata": {},
     "output_type": "display_data"
    },
    {
     "name": "stdout",
     "output_type": "stream",
     "text": [
      "predicting label=ranking_instruction_following\n"
     ]
    },
    {
     "data": {
      "text/html": [
       "<style type=\"text/css\">\n",
       "#T_e40ac_row0_col0, #T_e40ac_row1_col0 {\n",
       "  background-color: #fed884;\n",
       "  color: #000000;\n",
       "}\n",
       "#T_e40ac_row0_col1, #T_e40ac_row1_col1 {\n",
       "  background-color: #fedc88;\n",
       "  color: #000000;\n",
       "}\n",
       "#T_e40ac_row0_col2, #T_e40ac_row1_col2 {\n",
       "  background-color: #dff293;\n",
       "  color: #000000;\n",
       "}\n",
       "#T_e40ac_row0_col3, #T_e40ac_row1_col3 {\n",
       "  background-color: #a50026;\n",
       "  color: #f1f1f1;\n",
       "}\n",
       "</style>\n",
       "<table id=\"T_e40ac\">\n",
       "  <caption>predicting label=ranking_instruction_following</caption>\n",
       "  <thead>\n",
       "    <tr>\n",
       "      <th class=\"blank level0\" >&nbsp;</th>\n",
       "      <th id=\"T_e40ac_level0_col0\" class=\"col_heading level0 col0\" >roc_auc_baseline</th>\n",
       "      <th id=\"T_e40ac_level0_col1\" class=\"col_heading level0 col1\" >roc_auc_interven</th>\n",
       "      <th id=\"T_e40ac_level0_col2\" class=\"col_heading level0 col2\" >pred_inc</th>\n",
       "      <th id=\"T_e40ac_level0_col3\" class=\"col_heading level0 col3\" >pass</th>\n",
       "    </tr>\n",
       "  </thead>\n",
       "  <tbody>\n",
       "    <tr>\n",
       "      <th id=\"T_e40ac_level0_row0\" class=\"row_heading level0 row0\" >predictive</th>\n",
       "      <td id=\"T_e40ac_row0_col0\" class=\"data row0 col0\" >0.383333</td>\n",
       "      <td id=\"T_e40ac_row0_col1\" class=\"data row0 col1\" >0.391667</td>\n",
       "      <td id=\"T_e40ac_row0_col2\" class=\"data row0 col2\" >0.008333</td>\n",
       "      <td id=\"T_e40ac_row0_col3\" class=\"data row0 col3\" >False</td>\n",
       "    </tr>\n",
       "    <tr>\n",
       "      <th id=\"T_e40ac_level0_row1\" class=\"row_heading level0 row1\" >predictive_diff</th>\n",
       "      <td id=\"T_e40ac_row1_col0\" class=\"data row1 col0\" >0.383333</td>\n",
       "      <td id=\"T_e40ac_row1_col1\" class=\"data row1 col1\" >0.391667</td>\n",
       "      <td id=\"T_e40ac_row1_col2\" class=\"data row1 col2\" >0.008333</td>\n",
       "      <td id=\"T_e40ac_row1_col3\" class=\"data row1 col3\" >False</td>\n",
       "    </tr>\n",
       "  </tbody>\n",
       "</table>\n"
      ],
      "text/plain": [
       "<pandas.io.formats.style.Styler at 0x7fc55e0ad4d0>"
      ]
     },
     "metadata": {},
     "output_type": "display_data"
    },
    {
     "name": "stdout",
     "output_type": "stream",
     "text": [
      "🥉 secondary metric: dataset quality: performance of base model and adapter\n"
     ]
    },
    {
     "data": {
      "text/html": [
       "<style type=\"text/css\">\n",
       "#T_4d863_row0_col0, #T_4d863_row1_col0 {\n",
       "  background-color: #006837;\n",
       "  color: #f1f1f1;\n",
       "}\n",
       "#T_4d863_row0_col2 {\n",
       "  background-color: #ecf7a6;\n",
       "  color: #000000;\n",
       "}\n",
       "#T_4d863_row0_col3 {\n",
       "  background-color: #fede89;\n",
       "  color: #000000;\n",
       "}\n",
       "#T_4d863_row0_col4 {\n",
       "  background-color: #d22b27;\n",
       "  color: #f1f1f1;\n",
       "}\n",
       "#T_4d863_row0_col5 {\n",
       "  background-color: #60ba62;\n",
       "  color: #f1f1f1;\n",
       "}\n",
       "#T_4d863_row1_col2 {\n",
       "  background-color: #fed683;\n",
       "  color: #000000;\n",
       "}\n",
       "#T_4d863_row1_col3 {\n",
       "  background-color: #fff5ae;\n",
       "  color: #000000;\n",
       "}\n",
       "#T_4d863_row1_col4 {\n",
       "  background-color: #fdb567;\n",
       "  color: #000000;\n",
       "}\n",
       "#T_4d863_row1_col5 {\n",
       "  background-color: #0f8446;\n",
       "  color: #f1f1f1;\n",
       "}\n",
       "</style>\n",
       "<table id=\"T_4d863\">\n",
       "  <caption>Dataset metrics</caption>\n",
       "  <thead>\n",
       "    <tr>\n",
       "      <th class=\"blank level0\" >&nbsp;</th>\n",
       "      <th id=\"T_4d863_level0_col0\" class=\"col_heading level0 col0\" >balance</th>\n",
       "      <th id=\"T_4d863_level0_col1\" class=\"col_heading level0 col1\" >N</th>\n",
       "      <th id=\"T_4d863_level0_col2\" class=\"col_heading level0 col2\" >acc</th>\n",
       "      <th id=\"T_4d863_level0_col3\" class=\"col_heading level0 col3\" >lie_acc</th>\n",
       "      <th id=\"T_4d863_level0_col4\" class=\"col_heading level0 col4\" >known_lie_acc</th>\n",
       "      <th id=\"T_4d863_level0_col5\" class=\"col_heading level0 col5\" >choice_cov</th>\n",
       "    </tr>\n",
       "  </thead>\n",
       "  <tbody>\n",
       "    <tr>\n",
       "      <th id=\"T_4d863_level0_row0\" class=\"row_heading level0 row0\" >base</th>\n",
       "      <td id=\"T_4d863_row0_col0\" class=\"data row0 col0\" >0.517413</td>\n",
       "      <td id=\"T_4d863_row0_col1\" class=\"data row0 col1\" >201</td>\n",
       "      <td id=\"T_4d863_row0_col2\" class=\"data row0 col2\" >0.550000</td>\n",
       "      <td id=\"T_4d863_row0_col3\" class=\"data row0 col3\" >0.396040</td>\n",
       "      <td id=\"T_4d863_row0_col4\" class=\"data row0 col4\" >0.090909</td>\n",
       "      <td id=\"T_4d863_row0_col5\" class=\"data row0 col5\" >0.808383</td>\n",
       "    </tr>\n",
       "    <tr>\n",
       "      <th id=\"T_4d863_level0_row1\" class=\"row_heading level0 row1\" >adapter</th>\n",
       "      <td id=\"T_4d863_row1_col0\" class=\"data row1 col0\" >0.517413</td>\n",
       "      <td id=\"T_4d863_row1_col1\" class=\"data row1 col1\" >201</td>\n",
       "      <td id=\"T_4d863_row1_col2\" class=\"data row1 col2\" >0.380000</td>\n",
       "      <td id=\"T_4d863_row1_col3\" class=\"data row1 col3\" >0.465347</td>\n",
       "      <td id=\"T_4d863_row1_col4\" class=\"data row1 col4\" >0.315789</td>\n",
       "      <td id=\"T_4d863_row1_col5\" class=\"data row1 col5\" >0.938726</td>\n",
       "    </tr>\n",
       "  </tbody>\n",
       "</table>\n"
      ],
      "text/plain": [
       "<pandas.io.formats.style.Styler at 0x7fc55e07a090>"
      ]
     },
     "execution_count": 101,
     "metadata": {},
     "output_type": "execute_result"
    }
   ],
   "source": [
    "print(\"valtest\")\n",
    "analyse_intervention(ds_out_valtest, tokenizer)\n",
    "\n",
    "print(\"out of sample\")\n",
    "analyse_intervention(ds_out_OOD, tokenizer)\n"
   ]
  },
  {
   "cell_type": "code",
   "execution_count": null,
   "metadata": {},
   "outputs": [],
   "source": []
  }
 ],
 "metadata": {
  "kernelspec": {
   "display_name": ".venv",
   "language": "python",
   "name": "python3"
  },
  "language_info": {
   "codemirror_mode": {
    "name": "ipython",
    "version": 3
   },
   "file_extension": ".py",
   "mimetype": "text/x-python",
   "name": "python",
   "nbconvert_exporter": "python",
   "pygments_lexer": "ipython3",
   "version": "3.11.0rc1"
  }
 },
 "nbformat": 4,
 "nbformat_minor": 2
}
