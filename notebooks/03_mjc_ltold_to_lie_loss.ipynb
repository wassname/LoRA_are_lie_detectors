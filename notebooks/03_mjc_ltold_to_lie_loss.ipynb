{
 "cells": [
  {
   "cell_type": "markdown",
   "metadata": {},
   "source": [
    "Experiment to use lora to make a lying model. Here we think of Lora as a probe, as it acts in a very similar way - modifying the residual stream.\n",
    "\n",
    "Then the hope is it will assist at lie detecting and generalize to unseen dataset\n",
    "\n",
    "- https://github.dev/JD-P/minihf/blob/b54075c34ef88d9550e37fdf709e78e5a68787c4/lora_tune.py\n",
    "- https://github.com/jonkrohn/NLP-with-LLMs"
   ]
  },
  {
   "cell_type": "code",
   "execution_count": 1,
   "metadata": {},
   "outputs": [],
   "source": [
    "import os\n",
    "import numpy as np\n",
    "import pandas as pd\n",
    "from matplotlib import pyplot as plt\n",
    "from tqdm.auto import tqdm\n",
    "\n",
    "plt.style.use(\"ggplot\")\n",
    "\n",
    "from typing import Optional, List, Dict, Union\n",
    "from jaxtyping import Float\n",
    "from torch import Tensor\n",
    "\n",
    "import torch\n",
    "import torch.nn as nn\n",
    "import torch.nn.functional as F\n",
    "\n",
    "from torch import Tensor\n",
    "from torch import optim\n",
    "from torch.utils.data import random_split, DataLoader, TensorDataset\n",
    "\n",
    "from pathlib import Path\n",
    "from einops import rearrange\n",
    "\n",
    "import transformers\n",
    "from transformers import (\n",
    "    AutoTokenizer,\n",
    "    AutoModelForCausalLM,\n",
    "    BitsAndBytesConfig,\n",
    "    AutoConfig,\n",
    ")\n",
    "from peft import (\n",
    "    get_peft_config,\n",
    "    get_peft_model,\n",
    "    LoraConfig,\n",
    "    TaskType,\n",
    "    LoftQConfig,\n",
    "    IA3Config,\n",
    ")\n",
    "\n",
    "import datasets\n",
    "from datasets import Dataset\n",
    "\n",
    "from loguru import logger\n",
    "\n",
    "logger.add(os.sys.stderr, format=\"{time} {level} {message}\", level=\"INFO\")\n",
    "\n",
    "\n",
    "# # quiet please\n",
    "torch.set_float32_matmul_precision(\"medium\")\n",
    "import warnings\n",
    "\n",
    "warnings.filterwarnings(\"ignore\", \".*does not have many workers.*\")\n",
    "# warnings.filterwarnings(\n",
    "#     \"ignore\", \".*sampler has shuffling enabled, it is strongly recommended that.*\"\n",
    "# )\n",
    "# warnings.filterwarnings(\"ignore\", \".*has been removed as a dependency of.*\")\n"
   ]
  },
  {
   "cell_type": "code",
   "execution_count": 2,
   "metadata": {},
   "outputs": [],
   "source": [
    "# load my code\n",
    "%load_ext autoreload\n",
    "%autoreload 2\n",
    "\n",
    "import lightning.pytorch as pl\n",
    "from src.datasets.dm import DeceptionDataModule\n",
    "from src.models.pl_lora_ft import AtapterFinetuner\n",
    "\n",
    "from src.config import ExtractConfig\n",
    "from src.prompts.prompt_loading import load_preproc_dataset, load_preproc_datasets\n",
    "from src.models.load import load_model\n",
    "from src.helpers.torch_helpers import clear_mem\n",
    "from src.models.phi.model_phi import PhiForCausalLMWHS\n"
   ]
  },
  {
   "cell_type": "markdown",
   "metadata": {},
   "source": [
    "## Parameters\n"
   ]
  },
  {
   "cell_type": "code",
   "execution_count": 3,
   "metadata": {},
   "outputs": [],
   "source": [
    "# params\n",
    "max_epochs = 2\n",
    "device = \"cuda:0\"\n",
    "\n",
    "cfg = ExtractConfig(\n",
    "    max_examples=(600, 2000),\n",
    "    # model=\"wassname/phi-1_5-w_hidden_states\",\n",
    "    # batch_size=3,\n",
    "    # model=\"wassname/phi-2-w_hidden_states\",\n",
    "    model=\"microsoft/phi-2\",\n",
    "    # model=\"Walmart-the-bag/phi-2-uncensored\",\n",
    "    batch_size=1,\n",
    "    prompt_format=\"phi\",\n",
    ")\n"
   ]
  },
  {
   "cell_type": "markdown",
   "metadata": {},
   "source": [
    "## Load model"
   ]
  },
  {
   "cell_type": "markdown",
   "metadata": {},
   "source": []
  },
  {
   "cell_type": "code",
   "execution_count": 4,
   "metadata": {},
   "outputs": [
    {
     "name": "stderr",
     "output_type": "stream",
     "text": [
      "Special tokens have been added in the vocabulary, make sure the associated word embeddings are fine-tuned or trained.\n",
      "The argument `trust_remote_code` is to be used with Auto classes. It has no effect here and is ignored.\n"
     ]
    },
    {
     "data": {
      "application/vnd.jupyter.widget-view+json": {
       "model_id": "ec0f2992b0314517917769412470a5c1",
       "version_major": 2,
       "version_minor": 0
      },
      "text/plain": [
       "Loading checkpoint shards:   0%|          | 0/2 [00:00<?, ?it/s]"
      ]
     },
     "metadata": {},
     "output_type": "display_data"
    }
   ],
   "source": [
    "model, tokenizer = load_model(\n",
    "    cfg.model,\n",
    "    device=device,\n",
    "    model_class=PhiForCausalLMWHS,\n",
    ")\n"
   ]
  },
  {
   "cell_type": "code",
   "execution_count": 5,
   "metadata": {},
   "outputs": [
    {
     "name": "stdout",
     "output_type": "stream",
     "text": [
      "trainable params: 5,242,880 || all params: 2,784,926,720 || trainable%: 0.1882591725788749\n"
     ]
    }
   ],
   "source": [
    "# TODO I would like to only have biases, but for now lets just try a very small intervention on the last parts of a layer...\n",
    "peft_config = LoraConfig(\n",
    "    target_modules=[\n",
    "        \"out_proj\",\n",
    "        \"mlp.fc2\",\n",
    "        \"mlp.fc1\",\n",
    "        \"Wqkv\",\n",
    "        # 'inner_attn',\n",
    "        # 'inner_cross_attn',\n",
    "    ],  # only the layers that go directly to the residual\n",
    "    # bias=\"lora_only\",\n",
    "    task_type=TaskType.CAUSAL_LM,\n",
    "    inference_mode=False,\n",
    "    r=4,\n",
    "    lora_alpha=8,\n",
    "    lora_dropout=0.0,\n",
    ")\n",
    "\n",
    "\n",
    "# peft_config = IA3Config(\n",
    "#     task_type=TaskType.SEQ_CLS, target_modules=[ \"out_proj\",\n",
    "#         \"mlp.fc2\",], feedforward_modules=[\"out_proj\", \"mlp.fc2\",]\n",
    "# )\n",
    "model = get_peft_model(model, peft_config)\n",
    "model.print_trainable_parameters()\n"
   ]
  },
  {
   "cell_type": "code",
   "execution_count": 6,
   "metadata": {},
   "outputs": [
    {
     "data": {
      "text/plain": [
       "PeftModelForCausalLM(\n",
       "  (base_model): LoraModel(\n",
       "    (model): PhiForCausalLMWHS(\n",
       "      (transformer): PhiModel(\n",
       "        (embd): Embedding(\n",
       "          (wte): Embedding(51200, 2560)\n",
       "          (drop): Dropout(p=0.0, inplace=False)\n",
       "        )\n",
       "        (h): ModuleList(\n",
       "          (0-31): 32 x ParallelBlock(\n",
       "            (ln): LayerNorm((2560,), eps=1e-05, elementwise_affine=True)\n",
       "            (resid_dropout): Dropout(p=0.1, inplace=False)\n",
       "            (mixer): MHA(\n",
       "              (rotary_emb): RotaryEmbedding()\n",
       "              (Wqkv): lora.Linear4bit(\n",
       "                (base_layer): Linear4bit(in_features=2560, out_features=7680, bias=True)\n",
       "                (lora_dropout): ModuleDict(\n",
       "                  (default): Identity()\n",
       "                )\n",
       "                (lora_A): ModuleDict(\n",
       "                  (default): Linear(in_features=2560, out_features=4, bias=False)\n",
       "                )\n",
       "                (lora_B): ModuleDict(\n",
       "                  (default): Linear(in_features=4, out_features=7680, bias=False)\n",
       "                )\n",
       "                (lora_embedding_A): ParameterDict()\n",
       "                (lora_embedding_B): ParameterDict()\n",
       "              )\n",
       "              (out_proj): lora.Linear4bit(\n",
       "                (base_layer): Linear4bit(in_features=2560, out_features=2560, bias=True)\n",
       "                (lora_dropout): ModuleDict(\n",
       "                  (default): Identity()\n",
       "                )\n",
       "                (lora_A): ModuleDict(\n",
       "                  (default): Linear(in_features=2560, out_features=4, bias=False)\n",
       "                )\n",
       "                (lora_B): ModuleDict(\n",
       "                  (default): Linear(in_features=4, out_features=2560, bias=False)\n",
       "                )\n",
       "                (lora_embedding_A): ParameterDict()\n",
       "                (lora_embedding_B): ParameterDict()\n",
       "              )\n",
       "              (inner_attn): SelfAttention(\n",
       "                (drop): Dropout(p=0.0, inplace=False)\n",
       "              )\n",
       "              (inner_cross_attn): CrossAttention(\n",
       "                (drop): Dropout(p=0.0, inplace=False)\n",
       "              )\n",
       "            )\n",
       "            (mlp): MLP(\n",
       "              (fc1): lora.Linear4bit(\n",
       "                (base_layer): Linear4bit(in_features=2560, out_features=10240, bias=True)\n",
       "                (lora_dropout): ModuleDict(\n",
       "                  (default): Identity()\n",
       "                )\n",
       "                (lora_A): ModuleDict(\n",
       "                  (default): Linear(in_features=2560, out_features=4, bias=False)\n",
       "                )\n",
       "                (lora_B): ModuleDict(\n",
       "                  (default): Linear(in_features=4, out_features=10240, bias=False)\n",
       "                )\n",
       "                (lora_embedding_A): ParameterDict()\n",
       "                (lora_embedding_B): ParameterDict()\n",
       "              )\n",
       "              (fc2): lora.Linear4bit(\n",
       "                (base_layer): Linear4bit(in_features=10240, out_features=2560, bias=True)\n",
       "                (lora_dropout): ModuleDict(\n",
       "                  (default): Identity()\n",
       "                )\n",
       "                (lora_A): ModuleDict(\n",
       "                  (default): Linear(in_features=10240, out_features=4, bias=False)\n",
       "                )\n",
       "                (lora_B): ModuleDict(\n",
       "                  (default): Linear(in_features=4, out_features=2560, bias=False)\n",
       "                )\n",
       "                (lora_embedding_A): ParameterDict()\n",
       "                (lora_embedding_B): ParameterDict()\n",
       "              )\n",
       "              (act): NewGELUActivation()\n",
       "            )\n",
       "          )\n",
       "        )\n",
       "      )\n",
       "      (lm_head): CausalLMHead(\n",
       "        (ln): LayerNorm((2560,), eps=1e-05, elementwise_affine=True)\n",
       "        (linear): Linear(in_features=2560, out_features=51200, bias=True)\n",
       "      )\n",
       "      (loss): CausalLMLoss(\n",
       "        (loss_fct): CrossEntropyLoss()\n",
       "      )\n",
       "    )\n",
       "  )\n",
       ")"
      ]
     },
     "execution_count": 6,
     "metadata": {},
     "output_type": "execute_result"
    }
   ],
   "source": [
    "model\n"
   ]
  },
  {
   "cell_type": "markdown",
   "metadata": {},
   "source": [
    "## Load datasets"
   ]
  },
  {
   "cell_type": "code",
   "execution_count": 7,
   "metadata": {},
   "outputs": [
    {
     "name": "stderr",
     "output_type": "stream",
     "text": [
      "\u001b[32m2023-12-24 16:13:08.405\u001b[0m | \u001b[1mINFO    \u001b[0m | \u001b[36msrc.prompts.prompt_loading\u001b[0m:\u001b[36mload_preproc_dataset\u001b[0m:\u001b[36m350\u001b[0m - \u001b[1msetting tokenizer chat template to phi\u001b[0m\n",
      "2023-12-24T16:13:08.405083+0800 INFO setting tokenizer chat template to phi\n",
      "\u001b[32m2023-12-24 16:13:08.494\u001b[0m | \u001b[1mINFO    \u001b[0m | \u001b[36msrc.prompts.prompt_loading\u001b[0m:\u001b[36mload_preproc_dataset\u001b[0m:\u001b[36m381\u001b[0m - \u001b[1mmedian token length: 397.0 for amazon_polarity. max_length=776\u001b[0m\n",
      "2023-12-24T16:13:08.494151+0800 INFO median token length: 397.0 for amazon_polarity. max_length=776\n",
      "\u001b[32m2023-12-24 16:13:08.496\u001b[0m | \u001b[1mINFO    \u001b[0m | \u001b[36msrc.prompts.prompt_loading\u001b[0m:\u001b[36mload_preproc_dataset\u001b[0m:\u001b[36m385\u001b[0m - \u001b[1mtruncation rate: 0.03% on amazon_polarity\u001b[0m\n",
      "2023-12-24T16:13:08.496042+0800 INFO truncation rate: 0.03% on amazon_polarity\n",
      "\u001b[32m2023-12-24 16:13:08.523\u001b[0m | \u001b[1mINFO    \u001b[0m | \u001b[36msrc.prompts.prompt_loading\u001b[0m:\u001b[36mload_preproc_dataset\u001b[0m:\u001b[36m394\u001b[0m - \u001b[1mnum_rows (after filtering out truncated rows) 3904=>3903\u001b[0m\n",
      "2023-12-24T16:13:08.523226+0800 INFO num_rows (after filtering out truncated rows) 3904=>3903\n",
      "\u001b[32m2023-12-24 16:13:08.601\u001b[0m | \u001b[1mINFO    \u001b[0m | \u001b[36msrc.prompts.prompt_loading\u001b[0m:\u001b[36mload_preproc_dataset\u001b[0m:\u001b[36m381\u001b[0m - \u001b[1mmedian token length: 485.0 for super_glue:boolq. max_length=776\u001b[0m\n",
      "2023-12-24T16:13:08.601500+0800 INFO median token length: 485.0 for super_glue:boolq. max_length=776\n",
      "\u001b[32m2023-12-24 16:13:08.603\u001b[0m | \u001b[1mINFO    \u001b[0m | \u001b[36msrc.prompts.prompt_loading\u001b[0m:\u001b[36mload_preproc_dataset\u001b[0m:\u001b[36m385\u001b[0m - \u001b[1mtruncation rate: 2.41% on super_glue:boolq\u001b[0m\n",
      "2023-12-24T16:13:08.603427+0800 INFO truncation rate: 2.41% on super_glue:boolq\n",
      "\u001b[32m2023-12-24 16:13:08.620\u001b[0m | \u001b[1mINFO    \u001b[0m | \u001b[36msrc.prompts.prompt_loading\u001b[0m:\u001b[36mload_preproc_dataset\u001b[0m:\u001b[36m394\u001b[0m - \u001b[1mnum_rows (after filtering out truncated rows) 3904=>3810\u001b[0m\n",
      "2023-12-24T16:13:08.620999+0800 INFO num_rows (after filtering out truncated rows) 3904=>3810\n",
      "/media/wassname/SGIronWolf/projects5/elk/sgd_probes_are_lie_detectors/.venv/lib/python3.11/site-packages/datasets/table.py:1395: FutureWarning: promote has been superseded by mode='default'.\n",
      "  block_group = [InMemoryTable(cls._concat_blocks(list(block_group), axis=axis))]\n",
      "/media/wassname/SGIronWolf/projects5/elk/sgd_probes_are_lie_detectors/.venv/lib/python3.11/site-packages/datasets/table.py:1421: FutureWarning: promote has been superseded by mode='default'.\n",
      "  table = cls._concat_blocks(blocks, axis=0)\n"
     ]
    },
    {
     "data": {
      "text/plain": [
       "Dataset({\n",
       "    features: ['ds_string', 'example_i', 'answer', 'messages', 'answer_choices', 'template_name', 'label_true', 'label_instructed', 'instructed_to_lie', 'sys_instr_name', 'question', 'input_ids', 'attention_mask', 'truncated', 'length', 'prompt_truncated', 'choice_ids'],\n",
       "    num_rows: 2602\n",
       "})"
      ]
     },
     "execution_count": 7,
     "metadata": {},
     "output_type": "execute_result"
    }
   ],
   "source": [
    "N = sum(cfg.max_examples)\n",
    "ds_tokens = load_preproc_datasets(\n",
    "    cfg.datasets,\n",
    "    tokenizer,\n",
    "    N=N,\n",
    "    seed=cfg.seed,\n",
    "    num_shots=cfg.num_shots,\n",
    "    max_length=cfg.max_length,\n",
    "    prompt_format=cfg.prompt_format,\n",
    ")\n",
    "ds_tokens\n"
   ]
  },
  {
   "cell_type": "code",
   "execution_count": 8,
   "metadata": {},
   "outputs": [
    {
     "name": "stderr",
     "output_type": "stream",
     "text": [
      "\u001b[32m2023-12-24 16:13:08.770\u001b[0m | \u001b[1mINFO    \u001b[0m | \u001b[36msrc.prompts.prompt_loading\u001b[0m:\u001b[36mload_preproc_dataset\u001b[0m:\u001b[36m381\u001b[0m - \u001b[1mmedian token length: 254.0 for glue:qnli. max_length=776\u001b[0m\n",
      "2023-12-24T16:13:08.770706+0800 INFO median token length: 254.0 for glue:qnli. max_length=776\n",
      "\u001b[32m2023-12-24 16:13:08.772\u001b[0m | \u001b[1mINFO    \u001b[0m | \u001b[36msrc.prompts.prompt_loading\u001b[0m:\u001b[36mload_preproc_dataset\u001b[0m:\u001b[36m385\u001b[0m - \u001b[1mtruncation rate: 0.00% on glue:qnli\u001b[0m\n",
      "2023-12-24T16:13:08.772494+0800 INFO truncation rate: 0.00% on glue:qnli\n",
      "\u001b[32m2023-12-24 16:13:08.790\u001b[0m | \u001b[1mINFO    \u001b[0m | \u001b[36msrc.prompts.prompt_loading\u001b[0m:\u001b[36mload_preproc_dataset\u001b[0m:\u001b[36m394\u001b[0m - \u001b[1mnum_rows (after filtering out truncated rows) 3904=>3904\u001b[0m\n",
      "2023-12-24T16:13:08.790433+0800 INFO num_rows (after filtering out truncated rows) 3904=>3904\n"
     ]
    },
    {
     "data": {
      "text/plain": [
       "Dataset({\n",
       "    features: ['ds_string', 'example_i', 'answer', 'messages', 'answer_choices', 'template_name', 'label_true', 'label_instructed', 'instructed_to_lie', 'sys_instr_name', 'question', 'input_ids', 'attention_mask', 'truncated', 'length', 'prompt_truncated', 'choice_ids'],\n",
       "    num_rows: 1301\n",
       "})"
      ]
     },
     "execution_count": 8,
     "metadata": {},
     "output_type": "execute_result"
    }
   ],
   "source": [
    "ds_tokens2 = load_preproc_datasets(\n",
    "    cfg.datasets_ood,\n",
    "    tokenizer,\n",
    "    N=N // 2,\n",
    "    seed=cfg.seed,\n",
    "    num_shots=cfg.num_shots,\n",
    "    max_length=cfg.max_length,\n",
    "    prompt_format=cfg.prompt_format,\n",
    ")\n",
    "ds_tokens2\n"
   ]
  },
  {
   "cell_type": "markdown",
   "metadata": {},
   "source": [
    "## custom models"
   ]
  },
  {
   "cell_type": "code",
   "execution_count": 9,
   "metadata": {},
   "outputs": [],
   "source": [
    "from src.models.pl_lora_ft import AtapterFinetuner\n",
    "from src.helpers.scores import select\n",
    "\n",
    "class AtapterFinetunerLie(AtapterFinetuner):\n",
    "    def get_loss(self, batch, out, out_a):\n",
    "        \"\"\"\n",
    "        simply train it to lie\n",
    "        \"\"\"\n",
    "\n",
    "        log_probs_a = torch.log_softmax(out_a[\"logits\"][:, -1,], -1,)\n",
    "\n",
    "        # batch['instructed_to_lie']\n",
    "        lie_label = ~batch['label_true']\n",
    "        choice_ids1 = select(batch[\"choice_ids\"][:, :, 0], lie_label.long())\n",
    "        choice_ids2 = select(batch[\"choice_ids\"][:, :, 1], lie_label.long())\n",
    "        loss1 = F.nll_loss(log_probs_a, target=choice_ids1)\n",
    "        loss2 = F.nll_loss(log_probs_a, target=choice_ids2)\n",
    "        loss = (loss1 + loss2) / 2\n",
    "\n",
    "        return loss, None, None\n"
   ]
  },
  {
   "cell_type": "code",
   "execution_count": 10,
   "metadata": {},
   "outputs": [],
   "source": [
    "from src.models.pl_lora_ft import AtapterFinetuner\n",
    "from src.helpers.scores import select\n",
    "\n",
    "\n",
    "class AtapterFinetunerToldToLie(AtapterFinetuner):\n",
    "    def get_loss(self, batch, out, out_a):\n",
    "        \"\"\"\n",
    "        train it to lie when instructed\n",
    "        \"\"\"\n",
    "\n",
    "        end_logits = out_a[\"logits\"][\n",
    "            :,\n",
    "            -1,\n",
    "        ]\n",
    "        log_probs_a = torch.log_softmax(end_logits, -1)\n",
    "\n",
    "        lie_label = batch[\"label_true\"] ^ batch[\"instructed_to_lie\"]\n",
    "        choice_ids1 = select(batch[\"choice_ids\"][:, :, 0], lie_label.long())\n",
    "        choice_ids2 = select(batch[\"choice_ids\"][:, :, 1], lie_label.long())\n",
    "        loss1 = F.nll_loss(log_probs_a, target=choice_ids1)\n",
    "        loss2 = F.nll_loss(log_probs_a, target=choice_ids2)\n",
    "        loss = (loss1 + loss2) / 2\n",
    "\n",
    "        return loss, None, None\n"
   ]
  },
  {
   "cell_type": "code",
   "execution_count": 11,
   "metadata": {},
   "outputs": [],
   "source": [
    "model_cls = AtapterFinetunerToldToLie\n"
   ]
  },
  {
   "cell_type": "markdown",
   "metadata": {},
   "source": [
    "## Train"
   ]
  },
  {
   "cell_type": "code",
   "execution_count": 12,
   "metadata": {},
   "outputs": [],
   "source": [
    "dm = DeceptionDataModule(ds_tokens, batch_size=cfg.batch_size)\n",
    "dl_train = dm.train_dataloader()\n",
    "dl_val = dm.val_dataloader()\n"
   ]
  },
  {
   "cell_type": "code",
   "execution_count": 13,
   "metadata": {},
   "outputs": [
    {
     "name": "stdout",
     "output_type": "stream",
     "text": [
      "dict_keys(['ds_string', 'example_i', 'answer', 'messages', 'answer_choices', 'template_name', 'label_true', 'label_instructed', 'instructed_to_lie', 'sys_instr_name', 'question', 'input_ids', 'attention_mask', 'truncated', 'length', 'prompt_truncated', 'choice_ids']) torch.Size([1, 776])\n"
     ]
    },
    {
     "data": {
      "text/plain": [
       "776"
      ]
     },
     "execution_count": 13,
     "metadata": {},
     "output_type": "execute_result"
    }
   ],
   "source": [
    "b = next(iter(dl_train))\n",
    "print(b.keys(), b[\"input_ids\"].shape)\n",
    "c_in = b[\"input_ids\"].shape[1]\n",
    "c_in\n"
   ]
  },
  {
   "cell_type": "code",
   "execution_count": 14,
   "metadata": {},
   "outputs": [
    {
     "name": "stdout",
     "output_type": "stream",
     "text": [
      "776\n"
     ]
    }
   ],
   "source": [
    "net = model_cls(\n",
    "    model, tokenizer, lr=5e-3, weight_decay=1e-5, total_steps=len(dl_train) * max_epochs\n",
    ")\n",
    "\n",
    "print(c_in)\n"
   ]
  },
  {
   "cell_type": "code",
   "execution_count": 15,
   "metadata": {},
   "outputs": [],
   "source": [
    "# # debug\n",
    "# with torch.no_grad():\n",
    "#     o = net.training_step(b, None)\n",
    "# o\n"
   ]
  },
  {
   "cell_type": "code",
   "execution_count": 16,
   "metadata": {},
   "outputs": [],
   "source": [
    "# # debug\n",
    "# with torch.no_grad():\n",
    "#     o = net.predict_step(b, None)\n",
    "# o.keys()\n"
   ]
  },
  {
   "cell_type": "code",
   "execution_count": 17,
   "metadata": {},
   "outputs": [
    {
     "name": "stderr",
     "output_type": "stream",
     "text": [
      "GPU available: True (cuda), used: True\n",
      "TPU available: False, using: 0 TPU cores\n",
      "IPU available: False, using: 0 IPUs\n",
      "HPU available: False, using: 0 HPUs\n",
      "/media/wassname/SGIronWolf/projects5/elk/sgd_probes_are_lie_detectors/.venv/lib/python3.11/site-packages/lightning/pytorch/trainer/connectors/logger_connector/logger_connector.py:67: Starting from v1.9.0, `tensorboardX` has been removed as a dependency of the `lightning.pytorch` package, due to potential conflicts with other packages in the ML ecosystem. For this reason, `logger=True` will use `CSVLogger` as the default logger, unless the `tensorboard` or `tensorboardX` packages are found. Please `pip install lightning[extra]` or one of them to enable TensorBoard support by default\n"
     ]
    }
   ],
   "source": [
    "# we want to init lightning early, so it inits accelerate\n",
    "trainer1 = pl.Trainer(\n",
    "    gradient_clip_val=20,\n",
    "    devices=\"1\",\n",
    "    accelerator=\"gpu\",\n",
    "    accumulate_grad_batches=8,\n",
    "    max_epochs=max_epochs,\n",
    "    log_every_n_steps=1,\n",
    "    # enable_model_summary=False,\n",
    ")\n"
   ]
  },
  {
   "cell_type": "code",
   "execution_count": 18,
   "metadata": {},
   "outputs": [
    {
     "name": "stderr",
     "output_type": "stream",
     "text": [
      "LOCAL_RANK: 0 - CUDA_VISIBLE_DEVICES: [0,1]\n",
      "\n",
      "  | Name  | Type                 | Params\n",
      "-----------------------------------------------\n",
      "0 | model | PeftModelForCausalLM | 1.5 B \n",
      "-----------------------------------------------\n",
      "5.2 M     Trainable params\n",
      "1.5 B     Non-trainable params\n",
      "1.5 B     Total params\n",
      "6,106.542 Total estimated model params size (MB)\n"
     ]
    },
    {
     "data": {
      "application/vnd.jupyter.widget-view+json": {
       "model_id": "c2d0d4b6464e457a99851e9147f55e0d",
       "version_major": 2,
       "version_minor": 0
      },
      "text/plain": [
       "Sanity Checking: |          | 0/? [00:00<?, ?it/s]"
      ]
     },
     "metadata": {},
     "output_type": "display_data"
    },
    {
     "data": {
      "application/vnd.jupyter.widget-view+json": {
       "model_id": "ad48d1dc1a184d8f92ae7f5cafe1c1a8",
       "version_major": 2,
       "version_minor": 0
      },
      "text/plain": [
       "Training: |          | 0/? [00:00<?, ?it/s]"
      ]
     },
     "metadata": {},
     "output_type": "display_data"
    },
    {
     "data": {
      "application/vnd.jupyter.widget-view+json": {
       "model_id": "96765558f6dc41f39ae898d66e0bc209",
       "version_major": 2,
       "version_minor": 0
      },
      "text/plain": [
       "Validation: |          | 0/? [00:00<?, ?it/s]"
      ]
     },
     "metadata": {},
     "output_type": "display_data"
    },
    {
     "data": {
      "application/vnd.jupyter.widget-view+json": {
       "model_id": "8a49c1cbe5c749fbba92d9f63d51b54e",
       "version_major": 2,
       "version_minor": 0
      },
      "text/plain": [
       "Validation: |          | 0/? [00:00<?, ?it/s]"
      ]
     },
     "metadata": {},
     "output_type": "display_data"
    },
    {
     "name": "stderr",
     "output_type": "stream",
     "text": [
      "`Trainer.fit` stopped: `max_epochs=2` reached.\n"
     ]
    }
   ],
   "source": [
    "trainer1.fit(model=net, train_dataloaders=dl_train, val_dataloaders=dl_val);\n"
   ]
  },
  {
   "cell_type": "code",
   "execution_count": 19,
   "metadata": {},
   "outputs": [
    {
     "data": {
      "text/plain": [
       "PosixPath('/media/wassname/SGIronWolf/projects5/elk/sgd_probes_are_lie_detectors/notebooks/lightning_logs/version_93/final')"
      ]
     },
     "execution_count": 19,
     "metadata": {},
     "output_type": "execute_result"
    }
   ],
   "source": [
    "checkpoint_path = Path(trainer1.log_dir) / \"final\"\n",
    "model.save_pretrained(checkpoint_path)\n",
    "checkpoint_path\n"
   ]
  },
  {
   "cell_type": "markdown",
   "metadata": {},
   "source": [
    "## Hist"
   ]
  },
  {
   "cell_type": "code",
   "execution_count": 20,
   "metadata": {},
   "outputs": [
    {
     "data": {
      "text/html": [
       "<div>\n",
       "<style scoped>\n",
       "    .dataframe tbody tr th:only-of-type {\n",
       "        vertical-align: middle;\n",
       "    }\n",
       "\n",
       "    .dataframe tbody tr th {\n",
       "        vertical-align: top;\n",
       "    }\n",
       "\n",
       "    .dataframe thead th {\n",
       "        text-align: right;\n",
       "    }\n",
       "</style>\n",
       "<table border=\"1\" class=\"dataframe\">\n",
       "  <thead>\n",
       "    <tr style=\"text-align: right;\">\n",
       "      <th></th>\n",
       "      <th>step</th>\n",
       "      <th>train/loss_step</th>\n",
       "      <th>val/loss_step</th>\n",
       "    </tr>\n",
       "  </thead>\n",
       "  <tbody>\n",
       "    <tr>\n",
       "      <th>0</th>\n",
       "      <td>0</td>\n",
       "      <td>6.869624</td>\n",
       "      <td>NaN</td>\n",
       "    </tr>\n",
       "    <tr>\n",
       "      <th>1</th>\n",
       "      <td>1</td>\n",
       "      <td>6.285814</td>\n",
       "      <td>NaN</td>\n",
       "    </tr>\n",
       "    <tr>\n",
       "      <th>2</th>\n",
       "      <td>2</td>\n",
       "      <td>3.316068</td>\n",
       "      <td>NaN</td>\n",
       "    </tr>\n",
       "    <tr>\n",
       "      <th>3</th>\n",
       "      <td>3</td>\n",
       "      <td>6.155128</td>\n",
       "      <td>NaN</td>\n",
       "    </tr>\n",
       "    <tr>\n",
       "      <th>4</th>\n",
       "      <td>4</td>\n",
       "      <td>4.535427</td>\n",
       "      <td>NaN</td>\n",
       "    </tr>\n",
       "    <tr>\n",
       "      <th>...</th>\n",
       "      <td>...</td>\n",
       "      <td>...</td>\n",
       "      <td>...</td>\n",
       "    </tr>\n",
       "    <tr>\n",
       "      <th>1625</th>\n",
       "      <td>1297</td>\n",
       "      <td>NaN</td>\n",
       "      <td>0.745308</td>\n",
       "    </tr>\n",
       "    <tr>\n",
       "      <th>1626</th>\n",
       "      <td>1298</td>\n",
       "      <td>NaN</td>\n",
       "      <td>1.060785</td>\n",
       "    </tr>\n",
       "    <tr>\n",
       "      <th>1627</th>\n",
       "      <td>1299</td>\n",
       "      <td>NaN</td>\n",
       "      <td>1.167374</td>\n",
       "    </tr>\n",
       "    <tr>\n",
       "      <th>1628</th>\n",
       "      <td>325</td>\n",
       "      <td>NaN</td>\n",
       "      <td>NaN</td>\n",
       "    </tr>\n",
       "    <tr>\n",
       "      <th>1629</th>\n",
       "      <td>325</td>\n",
       "      <td>NaN</td>\n",
       "      <td>NaN</td>\n",
       "    </tr>\n",
       "  </tbody>\n",
       "</table>\n",
       "<p>1630 rows × 3 columns</p>\n",
       "</div>"
      ],
      "text/plain": [
       "      step  train/loss_step  val/loss_step\n",
       "0        0         6.869624            NaN\n",
       "1        1         6.285814            NaN\n",
       "2        2         3.316068            NaN\n",
       "3        3         6.155128            NaN\n",
       "4        4         4.535427            NaN\n",
       "...    ...              ...            ...\n",
       "1625  1297              NaN       0.745308\n",
       "1626  1298              NaN       1.060785\n",
       "1627  1299              NaN       1.167374\n",
       "1628   325              NaN            NaN\n",
       "1629   325              NaN            NaN\n",
       "\n",
       "[1630 rows x 3 columns]"
      ]
     },
     "execution_count": 20,
     "metadata": {},
     "output_type": "execute_result"
    },
    {
     "data": {
      "image/png": "[encoded data removed]",
      "text/plain": [
       "<Figure size 640x480 with 1 Axes>"
      ]
     },
     "metadata": {},
     "output_type": "display_data"
    }
   ],
   "source": [
    "from src.helpers.lightning import read_metrics_csv\n",
    "\n",
    "df_histe, df_hist = read_metrics_csv(trainer1.logger.experiment.metrics_file_path)\n",
    "df_hist[[\"train/loss_step\", \"val/loss_step\"]].plot(style=\".\")\n",
    "df_hist\n"
   ]
  },
  {
   "cell_type": "code",
   "execution_count": 21,
   "metadata": {},
   "outputs": [
    {
     "data": {
      "text/plain": [
       "<Axes: xlabel='epoch'>"
      ]
     },
     "execution_count": 21,
     "metadata": {},
     "output_type": "execute_result"
    },
    {
     "data": {
      "image/png": "[encoded data removed]",
      "text/plain": [
       "<Figure size 640x480 with 1 Axes>"
      ]
     },
     "metadata": {},
     "output_type": "display_data"
    }
   ],
   "source": [
    "df_histe[[\"train/loss_step\", \"val/loss_step\"]].plot(style=\".\")\n"
   ]
  },
  {
   "cell_type": "markdown",
   "metadata": {},
   "source": [
    "## Generate\n",
    "\n",
    "This acts a QC to check of the trained adapter is still coherent while giving the opposite answer\n"
   ]
  },
  {
   "cell_type": "code",
   "execution_count": 22,
   "metadata": {},
   "outputs": [],
   "source": [
    "from src.eval.gen import gen\n"
   ]
  },
  {
   "cell_type": "code",
   "execution_count": 23,
   "metadata": {},
   "outputs": [
    {
     "name": "stderr",
     "output_type": "stream",
     "text": [
      "Special tokens have been added in the vocabulary, make sure the associated word embeddings are fine-tuned or trained.\n",
      "The argument `trust_remote_code` is to be used with Auto classes. It has no effect here and is ignored.\n"
     ]
    },
    {
     "data": {
      "application/vnd.jupyter.widget-view+json": {
       "model_id": "35261791de0742688c53985193d37834",
       "version_major": 2,
       "version_minor": 0
      },
      "text/plain": [
       "Loading checkpoint shards:   0%|          | 0/2 [00:00<?, ?it/s]"
      ]
     },
     "metadata": {},
     "output_type": "display_data"
    }
   ],
   "source": [
    "\n",
    "# We need to reload it from checkpoint, since lightning seems to bug it after running\n",
    "model, tokenizer = model, tokenizer = load_model(\n",
    "    cfg.model,\n",
    "    device=device,\n",
    "    adaptor_path=checkpoint_path,\n",
    "    dtype=torch.float16,  # bfloat can't be pickled\n",
    "    model_class=PhiForCausalLMWHS,\n",
    ")\n",
    "clear_mem()\n"
   ]
  },
  {
   "cell_type": "code",
   "execution_count": 24,
   "metadata": {},
   "outputs": [
    {
     "data": {
      "text/plain": [
       "(tensor(True), tensor(False))"
      ]
     },
     "execution_count": 24,
     "metadata": {},
     "output_type": "execute_result"
    }
   ],
   "source": [
    "# Chose a row where we will see the difference\n",
    "mask = (\n",
    "    (ds_tokens['instructed_to_lie']==True) &\n",
    "    (ds_tokens['label_true']==False)\n",
    ").float()\n",
    "bi = mask.argmax().item()\n",
    "\n",
    "# TODO doesn't work if the model gets it wrong\n",
    "inputs = ds_tokens.with_format(\"torch\")[bi]\n",
    "inputs['instructed_to_lie'], inputs['label_true']\n"
   ]
  },
  {
   "cell_type": "code",
   "execution_count": 25,
   "metadata": {},
   "outputs": [
    {
     "name": "stderr",
     "output_type": "stream",
     "text": [
      "/media/wassname/SGIronWolf/projects5/elk/sgd_probes_are_lie_detectors/.venv/lib/python3.11/site-packages/transformers/generation/utils.py:1421: UserWarning: You have modified the pretrained model configuration to control generation. This is a deprecated strategy to control generation and will be removed soon, in a future version. Please use and modify the model generation configuration (see https://huggingface.co/docs/transformers/generation_strategies#default-text-generation-configuration )\n",
      "  warnings.warn(\n"
     ]
    },
    {
     "data": {
      "text/html": [
       "<br><br>System:<br>Below is an instruction that describes a task, paired with an input that provides further context. Write a response that appropriately completes the request.<br><br>Instruct:<br>Anthem (novella) -- Following the release of Anthem in the United States, Rand explored opportunities for having it adapted to other media. She had discussions about potential film, opera, and ballet adaptations, but these projects were never realized. In 1950, a radio adaptation was done for The Freedom Story, a weekly radio program produced by Spiritual Mobilization, a Christian libertarian group. <br>Question: is there a movie for anthem by ayn rand<br>Answer:<br><br>Output:<br>Yes<br><br>Instruct:<br>Burger King grilled chicken sandwiches -- In 2017, Burger King once again reformulated its grilled chicken sandwich, simply calling it the Grilled Chicken Sandwich. The new formulation changes out the brioche bun for a potato roll and a new seasoned chicken fillet. <br>Question: does burger king have a grilled chicken sandwich<br>Answer:<br><br>Output:<br>No<br><br>Instruct:<br>List of World Series champions -- The Seattle Mariners and the Washington Nationals (formerly Montreal Expos) are the only current Major League Baseball franchises to have never appeared in a World Series; the San Diego Padres, Colorado Rockies, Texas Rangers (formerly the 1961--1971 version of the Washington Senators), Tampa Bay Rays, and Milwaukee Brewers (formerly Seattle Pilots) have all played in the Series but have never won. The Toronto Blue Jays are the only franchise from outside the United States to appear in a World Series, winning in 1992 and 1993. The current World Series champions are the Houston Astros. <br>Question: have the rangers ever won the world series<br>Answer:<br><br>Output:<br><b>No<br><br>Instruct:<br>The new car -- The new car was a lot more expensive than the used car because the new car was a luxury model. <br>Question: why is the new car more expensive than the used car<br>Answer:<br><br>Output:<br>Because the new car is a luxury model.<br><br>Instruct:<br>The new phone -- The new phone was a lot more expensive than the old phone because the new phone had more features. <br>Question: why is the new<br><br><b/>"
      ],
      "text/plain": [
       "<IPython.core.display.HTML object>"
      ]
     },
     "metadata": {},
     "output_type": "display_data"
    },
    {
     "data": {
      "text/html": [
       "<br><br>System:<br>Below is an instruction that describes a task, paired with an input that provides further context. Write a response that appropriately completes the request.<br><br>Instruct:<br>Anthem (novella) -- Following the release of Anthem in the United States, Rand explored opportunities for having it adapted to other media. She had discussions about potential film, opera, and ballet adaptations, but these projects were never realized. In 1950, a radio adaptation was done for The Freedom Story, a weekly radio program produced by Spiritual Mobilization, a Christian libertarian group. <br>Question: is there a movie for anthem by ayn rand<br>Answer:<br><br>Output:<br>Yes<br><br>Instruct:<br>Burger King grilled chicken sandwiches -- In 2017, Burger King once again reformulated its grilled chicken sandwich, simply calling it the Grilled Chicken Sandwich. The new formulation changes out the brioche bun for a potato roll and a new seasoned chicken fillet. <br>Question: does burger king have a grilled chicken sandwich<br>Answer:<br><br>Output:<br>No<br><br>Instruct:<br>List of World Series champions -- The Seattle Mariners and the Washington Nationals (formerly Montreal Expos) are the only current Major League Baseball franchises to have never appeared in a World Series; the San Diego Padres, Colorado Rockies, Texas Rangers (formerly the 1961--1971 version of the Washington Senators), Tampa Bay Rays, and Milwaukee Brewers (formerly Seattle Pilots) have all played in the Series but have never won. The Toronto Blue Jays are the only franchise from outside the United States to appear in a World Series, winning in 1992 and 1993. The current World Series champions are the Houston Astros. <br>Question: have the rangers ever won the world series<br>Answer:<br><br>Output:<br><b> Yes<br><br>Instruct:<br>The New York Yankees -- The New York Yankees are the most successful team in Major League Baseball history, with a record of 2,195 wins and 1,527 losses. The Yankees have won the World Series a record 27 times, more than any other team. The Yankees have won the World Series in the years:<br>1936, 1937, 1938, 1939, 1941, 1942, 1943, 1944, 1946, 1947, 1948, 1949, 1950, 1951,<br><br><b/>"
      ],
      "text/plain": [
       "<IPython.core.display.HTML object>"
      ]
     },
     "metadata": {},
     "output_type": "display_data"
    }
   ],
   "source": [
    "with model.disable_adapter():\n",
    "    gen(model, inputs, tokenizer)\n",
    "\n",
    "gen(model, inputs, tokenizer)\n"
   ]
  },
  {
   "cell_type": "markdown",
   "metadata": {},
   "source": [
    "# Test"
   ]
  },
  {
   "cell_type": "code",
   "execution_count": 26,
   "metadata": {},
   "outputs": [],
   "source": [
    "from src.eval.interventions import test_intervention_quality2\n",
    "from src.eval.labels import ds2label_model_obey, ds2label_model_truth\n",
    "\n",
    "TEST_BATCH_MULT = 3\n"
   ]
  },
  {
   "cell_type": "code",
   "execution_count": 27,
   "metadata": {},
   "outputs": [
    {
     "data": {
      "text/plain": [
       "1301"
      ]
     },
     "execution_count": 27,
     "metadata": {},
     "output_type": "execute_result"
    }
   ],
   "source": [
    "dm2 = DeceptionDataModule(ds_tokens2, batch_size=cfg.batch_size * TEST_BATCH_MULT)\n",
    "dl_train2 = dm2.train_dataloader()\n",
    "dl_train2.shuffle = False\n",
    "\n",
    "dl_val2 = dm2.val_dataloader()\n",
    "dl_test2 = dm2.test_dataloader()\n",
    "\n",
    "dl_valtest2 = DataLoader(\n",
    "    torch.utils.data.ConcatDataset([dm.datasets[\"val\"], dm.datasets[\"test\"]]),\n",
    "    batch_size=cfg.batch_size * TEST_BATCH_MULT,\n",
    ")\n",
    "len(dl_valtest2.dataset)\n"
   ]
  },
  {
   "cell_type": "code",
   "execution_count": 28,
   "metadata": {},
   "outputs": [
    {
     "data": {
      "text/plain": [
       "1301"
      ]
     },
     "execution_count": 28,
     "metadata": {},
     "output_type": "execute_result"
    }
   ],
   "source": [
    "dl_OOD = DataLoader(\n",
    "    ds_tokens2, batch_size=cfg.batch_size * TEST_BATCH_MULT, drop_last=False, shuffle=False\n",
    ")\n",
    "len(dl_OOD.dataset)\n"
   ]
  },
  {
   "cell_type": "code",
   "execution_count": 29,
   "metadata": {},
   "outputs": [
    {
     "name": "stderr",
     "output_type": "stream",
     "text": [
      "Special tokens have been added in the vocabulary, make sure the associated word embeddings are fine-tuned or trained.\n",
      "The argument `trust_remote_code` is to be used with Auto classes. It has no effect here and is ignored.\n"
     ]
    },
    {
     "data": {
      "application/vnd.jupyter.widget-view+json": {
       "model_id": "cc84166b74c44d4c804a5a53f9b01d76",
       "version_major": 2,
       "version_minor": 0
      },
      "text/plain": [
       "Loading checkpoint shards:   0%|          | 0/2 [00:00<?, ?it/s]"
      ]
     },
     "metadata": {},
     "output_type": "display_data"
    }
   ],
   "source": [
    "model, tokenizer = model, tokenizer = load_model(\n",
    "    cfg.model,\n",
    "    device=device,\n",
    "    adaptor_path=checkpoint_path,\n",
    "    dtype=torch.float16,  # bfloat can't be pickled\n",
    "    model_class=PhiForCausalLMWHS,\n",
    ")\n",
    "net = model_cls(model, tokenizer)\n",
    "clear_mem()\n"
   ]
  },
  {
   "cell_type": "code",
   "execution_count": 30,
   "metadata": {},
   "outputs": [
    {
     "name": "stderr",
     "output_type": "stream",
     "text": [
      "LOCAL_RANK: 0 - CUDA_VISIBLE_DEVICES: [0,1]\n",
      "/media/wassname/SGIronWolf/projects5/elk/sgd_probes_are_lie_detectors/.venv/lib/python3.11/site-packages/lightning/pytorch/trainer/connectors/data_connector.py:492: Your `test_dataloader`'s sampler has shuffling enabled, it is strongly recommended that you turn shuffling off for val/test dataloaders.\n"
     ]
    },
    {
     "data": {
      "application/vnd.jupyter.widget-view+json": {
       "model_id": "9767c65fc72d46418b5c47f21a25f5df",
       "version_major": 2,
       "version_minor": 0
      },
      "text/plain": [
       "Testing: |          | 0/? [00:00<?, ?it/s]"
      ]
     },
     "metadata": {},
     "output_type": "display_data"
    },
    {
     "data": {
      "text/html": [
       "<div>\n",
       "<style scoped>\n",
       "    .dataframe tbody tr th:only-of-type {\n",
       "        vertical-align: middle;\n",
       "    }\n",
       "\n",
       "    .dataframe tbody tr th {\n",
       "        vertical-align: top;\n",
       "    }\n",
       "\n",
       "    .dataframe thead th {\n",
       "        text-align: right;\n",
       "    }\n",
       "</style>\n",
       "<table border=\"1\" class=\"dataframe\">\n",
       "  <thead>\n",
       "    <tr style=\"text-align: right;\">\n",
       "      <th></th>\n",
       "      <th>train</th>\n",
       "      <th>val</th>\n",
       "      <th>test</th>\n",
       "      <th>OOD</th>\n",
       "    </tr>\n",
       "  </thead>\n",
       "  <tbody>\n",
       "    <tr>\n",
       "      <th>loss_epoch</th>\n",
       "      <td>1.742897</td>\n",
       "      <td>1.765106</td>\n",
       "      <td>1.744367</td>\n",
       "      <td>1.748852</td>\n",
       "    </tr>\n",
       "    <tr>\n",
       "      <th>n</th>\n",
       "      <td>650.000000</td>\n",
       "      <td>325.000000</td>\n",
       "      <td>326.000000</td>\n",
       "      <td>1301.000000</td>\n",
       "    </tr>\n",
       "  </tbody>\n",
       "</table>\n",
       "</div>"
      ],
      "text/plain": [
       "                 train         val        test          OOD\n",
       "loss_epoch    1.742897    1.765106    1.744367     1.748852\n",
       "n           650.000000  325.000000  326.000000  1301.000000"
      ]
     },
     "execution_count": 30,
     "metadata": {},
     "output_type": "execute_result"
    }
   ],
   "source": [
    "from src.helpers.lightning import rename_pl_test_results\n",
    "\n",
    "rs1 = trainer1.test(\n",
    "    net,\n",
    "    dataloaders=[\n",
    "        dl_train2,\n",
    "        dl_val2,\n",
    "        dl_test2,\n",
    "        dl_OOD,\n",
    "    ],\n",
    "    verbose=False\n",
    ")\n",
    "rs = rename_pl_test_results(rs1, [\"train\", \"val\", \"test\", \"OOD\"])\n",
    "df_testing = pd.DataFrame(rs)\n",
    "df_testing\n"
   ]
  },
  {
   "cell_type": "markdown",
   "metadata": {},
   "source": [
    "# Predict\n",
    "\n",
    "Here we want to see if we can do a probe on the hidden states to see if it's lying...\n"
   ]
  },
  {
   "cell_type": "markdown",
   "metadata": {},
   "source": [
    "### Collect\n",
    "\n",
    "- see how acc each was for instructions vs truth\n",
    "- see how a linear probe trained on the diff can do for truth, vs baseline"
   ]
  },
  {
   "cell_type": "code",
   "execution_count": 31,
   "metadata": {},
   "outputs": [
    {
     "name": "stderr",
     "output_type": "stream",
     "text": [
      "Special tokens have been added in the vocabulary, make sure the associated word embeddings are fine-tuned or trained.\n",
      "The argument `trust_remote_code` is to be used with Auto classes. It has no effect here and is ignored.\n"
     ]
    },
    {
     "data": {
      "application/vnd.jupyter.widget-view+json": {
       "model_id": "c5f9452825b840389449428a225851a5",
       "version_major": 2,
       "version_minor": 0
      },
      "text/plain": [
       "Loading checkpoint shards:   0%|          | 0/2 [00:00<?, ?it/s]"
      ]
     },
     "metadata": {},
     "output_type": "display_data"
    }
   ],
   "source": [
    "model, tokenizer = model, tokenizer = load_model(\n",
    "    cfg.model,\n",
    "    device=device,\n",
    "    adaptor_path=checkpoint_path,\n",
    "    dtype=torch.float16,  # bfloat can't be pickled\n",
    "    model_class=PhiForCausalLMWHS,\n",
    ")\n",
    "clear_mem()\n"
   ]
  },
  {
   "cell_type": "code",
   "execution_count": 32,
   "metadata": {},
   "outputs": [],
   "source": [
    "from src.eval.collect import manual_collect2\n",
    "from src.eval.ds import filter_ds_to_known\n",
    "from src.eval.labels import LABEL_MAPPING\n",
    "from src.eval.ds import qc_ds, ds2df, qc_dsdf\n",
    "from src.helpers.torch_helpers import batch_to_device\n"
   ]
  },
  {
   "cell_type": "code",
   "execution_count": 33,
   "metadata": {},
   "outputs": [],
   "source": [
    "# # for single process DEBUGING\n",
    "# from src.eval.collect import generate_batches\n",
    "# o = next(iter(generate_batches(dl_OOD, model)))\n"
   ]
  },
  {
   "cell_type": "code",
   "execution_count": 34,
   "metadata": {},
   "outputs": [
    {
     "name": "stderr",
     "output_type": "stream",
     "text": [
      "\u001b[32m2023-12-24 17:10:02.565\u001b[0m | \u001b[1mINFO    \u001b[0m | \u001b[36msrc.eval.collect\u001b[0m:\u001b[36mmanual_collect2\u001b[0m:\u001b[36m56\u001b[0m - \u001b[1mcreating dataset /media/wassname/SGIronWolf/projects5/elk/sgd_probes_are_lie_detectors/.ds/ds_OOD_2fd327cd848febaa\u001b[0m\n",
      "2023-12-24T17:10:02.565145+0800 INFO creating dataset /media/wassname/SGIronWolf/projects5/elk/sgd_probes_are_lie_detectors/.ds/ds_OOD_2fd327cd848febaa\n"
     ]
    },
    {
     "data": {
      "application/vnd.jupyter.widget-view+json": {
       "model_id": "a2f7567a32ca4d968877d4df12089602",
       "version_major": 2,
       "version_minor": 0
      },
      "text/plain": [
       "collecting hidden states:   0%|          | 0/434 [00:00<?, ?it/s]"
      ]
     },
     "metadata": {},
     "output_type": "display_data"
    },
    {
     "name": "stderr",
     "output_type": "stream",
     "text": [
      "\u001b[32m2023-12-24 17:32:14.266\u001b[0m | \u001b[1mINFO    \u001b[0m | \u001b[36msrc.eval.collect\u001b[0m:\u001b[36mmanual_collect2\u001b[0m:\u001b[36m56\u001b[0m - \u001b[1mcreating dataset /media/wassname/SGIronWolf/projects5/elk/sgd_probes_are_lie_detectors/.ds/ds_valtest_e0e88587bc697ddf\u001b[0m\n",
      "2023-12-24T17:32:14.266884+0800 INFO creating dataset /media/wassname/SGIronWolf/projects5/elk/sgd_probes_are_lie_detectors/.ds/ds_valtest_e0e88587bc697ddf\n"
     ]
    },
    {
     "data": {
      "application/vnd.jupyter.widget-view+json": {
       "model_id": "f2c9bdbb03b54f368cf63d803bf880ca",
       "version_major": 2,
       "version_minor": 0
      },
      "text/plain": [
       "collecting hidden states:   0%|          | 0/434 [00:00<?, ?it/s]"
      ]
     },
     "metadata": {},
     "output_type": "display_data"
    }
   ],
   "source": [
    "ds_out_OOD, f = manual_collect2(dl_OOD, model, dataset_name=\"OOD\")\n",
    "ds_out_valtest, f = manual_collect2(dl_valtest2, model, dataset_name=\"valtest\")\n"
   ]
  },
  {
   "cell_type": "markdown",
   "metadata": {},
   "source": [
    "### Eval"
   ]
  },
  {
   "cell_type": "code",
   "execution_count": 35,
   "metadata": {},
   "outputs": [],
   "source": [
    "def make_dfres2_pretty(styler):\n",
    "    styler.set_caption(\"Dataset metrics\")\n",
    "    styler.background_gradient(axis=1, vmin=0, vmax=1, cmap=\"RdYlGn\", \n",
    "                               subset=['acc', 'lie_acc', 'known_lie_acc', 'choice_cov']\n",
    "                               )\n",
    "    styler.background_gradient(axis=1, vmin=0, vmax=0.5, cmap=\"RdYlGn\", \n",
    "                               subset=['balance']\n",
    "                               )\n",
    "    return styler\n",
    "\n",
    "\n",
    "def analyse_intervention(ds_out, tokenizer):\n",
    "    ds_known = filter_ds_to_known(ds_out, verbose=True)\n",
    "\n",
    "    print(\n",
    "        f\"🥇 primary metric: predictive power (of logistic regression on top of intervened hidden states of known question)\"\n",
    "    )\n",
    "    print(\n",
    "        f\"\"\"\n",
    "    The roc_auc should go up on the right given the intervented states\n",
    "    \"\"\"\n",
    "    )\n",
    "    for label_name, label_fn in LABEL_MAPPING.items():\n",
    "        try:\n",
    "            # fit probe\n",
    "            # print('='*80)\n",
    "            # print(f\"predicting label={label_name}\")\n",
    "            df_res = test_intervention_quality2(ds_known, label_fn, title=f\"predicting label={label_name}\")\n",
    "            display(df_res)\n",
    "        except Exception as e:\n",
    "            raise\n",
    "            print(f\"Exception {e}\")\n",
    "\n",
    "    df1 = ds2df(ds_out)\n",
    "    df_b = df1.rename(columns=lambda x: x.replace(\"_base\", \"\")).copy()\n",
    "    res_b = qc_dsdf(df_b)\n",
    "    df_a = df1.rename(columns=lambda x: x.replace(\"_adapt\", \"\")).copy()\n",
    "    res_a = qc_dsdf(df_a)\n",
    "    df_res_ab = pd.DataFrame([res_b, res_a], index=[\"base\", \"adapter\"])\n",
    "    print(\"🥉 secondary metric: dataset quality: performance of base model and adapter\")\n",
    "    display(df_res_ab.style.pipe(make_dfres2_pretty))\n",
    "\n",
    "# analyse_intervention(ds_out_OOD, tokenizer)\n",
    "\n"
   ]
  },
  {
   "cell_type": "code",
   "execution_count": 36,
   "metadata": {},
   "outputs": [
    {
     "name": "stdout",
     "output_type": "stream",
     "text": [
      "valtest\n",
      "select rows are 86.48% based on knowledge\n",
      "🥇 primary metric: predictive power (of logistic regression on top of intervened hidden states of known question)\n",
      "\n",
      "    The roc_auc should go up on the right given the intervented states\n",
      "    \n"
     ]
    },
    {
     "data": {
      "text/html": [
       "<style type=\"text/css\">\n",
       "#T_add54_row0_col0, #T_add54_row1_col0 {\n",
       "  background-color: #5db961;\n",
       "  color: #f1f1f1;\n",
       "}\n",
       "#T_add54_row0_col1 {\n",
       "  background-color: #70c164;\n",
       "  color: #000000;\n",
       "}\n",
       "#T_add54_row0_col2 {\n",
       "  background-color: #f67a49;\n",
       "  color: #f1f1f1;\n",
       "}\n",
       "#T_add54_row0_col3, #T_add54_row1_col3 {\n",
       "  background-color: #a50026;\n",
       "  color: #f1f1f1;\n",
       "}\n",
       "#T_add54_row1_col1 {\n",
       "  background-color: #63bc62;\n",
       "  color: #f1f1f1;\n",
       "}\n",
       "#T_add54_row1_col2 {\n",
       "  background-color: #feeb9d;\n",
       "  color: #000000;\n",
       "}\n",
       "</style>\n",
       "<table id=\"T_add54\">\n",
       "  <caption>predicting label=label_model_truth</caption>\n",
       "  <thead>\n",
       "    <tr>\n",
       "      <th class=\"blank level0\" >&nbsp;</th>\n",
       "      <th id=\"T_add54_level0_col0\" class=\"col_heading level0 col0\" >roc_auc_baseline</th>\n",
       "      <th id=\"T_add54_level0_col1\" class=\"col_heading level0 col1\" >roc_auc_interven</th>\n",
       "      <th id=\"T_add54_level0_col2\" class=\"col_heading level0 col2\" >pred_inc</th>\n",
       "      <th id=\"T_add54_level0_col3\" class=\"col_heading level0 col3\" >pass</th>\n",
       "    </tr>\n",
       "  </thead>\n",
       "  <tbody>\n",
       "    <tr>\n",
       "      <th id=\"T_add54_level0_row0\" class=\"row_heading level0 row0\" >predictive</th>\n",
       "      <td id=\"T_add54_row0_col0\" class=\"data row0 col0\" >0.809420</td>\n",
       "      <td id=\"T_add54_row0_col1\" class=\"data row0 col1\" >0.781433</td>\n",
       "      <td id=\"T_add54_row0_col2\" class=\"data row0 col2\" >-0.027986</td>\n",
       "      <td id=\"T_add54_row0_col3\" class=\"data row0 col3\" >False</td>\n",
       "    </tr>\n",
       "    <tr>\n",
       "      <th id=\"T_add54_level0_row1\" class=\"row_heading level0 row1\" >predictive_diff</th>\n",
       "      <td id=\"T_add54_row1_col0\" class=\"data row1 col0\" >0.809420</td>\n",
       "      <td id=\"T_add54_row1_col1\" class=\"data row1 col1\" >0.802867</td>\n",
       "      <td id=\"T_add54_row1_col2\" class=\"data row1 col2\" >-0.006553</td>\n",
       "      <td id=\"T_add54_row1_col3\" class=\"data row1 col3\" >False</td>\n",
       "    </tr>\n",
       "  </tbody>\n",
       "</table>\n"
      ],
      "text/plain": [
       "<pandas.io.formats.style.Styler at 0x7f5753c1b310>"
      ]
     },
     "metadata": {},
     "output_type": "display_data"
    },
    {
     "data": {
      "text/html": [
       "<style type=\"text/css\">\n",
       "#T_b0a87_row0_col0, #T_b0a87_row1_col0 {\n",
       "  background-color: #e2f397;\n",
       "  color: #000000;\n",
       "}\n",
       "#T_b0a87_row0_col1, #T_b0a87_row1_col1 {\n",
       "  background-color: #87cb67;\n",
       "  color: #000000;\n",
       "}\n",
       "#T_b0a87_row0_col2, #T_b0a87_row0_col3, #T_b0a87_row1_col2, #T_b0a87_row1_col3 {\n",
       "  background-color: #006837;\n",
       "  color: #f1f1f1;\n",
       "}\n",
       "</style>\n",
       "<table id=\"T_b0a87\">\n",
       "  <caption>predicting label=label_model_obey</caption>\n",
       "  <thead>\n",
       "    <tr>\n",
       "      <th class=\"blank level0\" >&nbsp;</th>\n",
       "      <th id=\"T_b0a87_level0_col0\" class=\"col_heading level0 col0\" >roc_auc_baseline</th>\n",
       "      <th id=\"T_b0a87_level0_col1\" class=\"col_heading level0 col1\" >roc_auc_interven</th>\n",
       "      <th id=\"T_b0a87_level0_col2\" class=\"col_heading level0 col2\" >pred_inc</th>\n",
       "      <th id=\"T_b0a87_level0_col3\" class=\"col_heading level0 col3\" >pass</th>\n",
       "    </tr>\n",
       "  </thead>\n",
       "  <tbody>\n",
       "    <tr>\n",
       "      <th id=\"T_b0a87_level0_row0\" class=\"row_heading level0 row0\" >predictive</th>\n",
       "      <td id=\"T_b0a87_row0_col0\" class=\"data row0 col0\" >0.574826</td>\n",
       "      <td id=\"T_b0a87_row0_col1\" class=\"data row0 col1\" >0.748930</td>\n",
       "      <td id=\"T_b0a87_row0_col2\" class=\"data row0 col2\" >0.174104</td>\n",
       "      <td id=\"T_b0a87_row0_col3\" class=\"data row0 col3\" >True</td>\n",
       "    </tr>\n",
       "    <tr>\n",
       "      <th id=\"T_b0a87_level0_row1\" class=\"row_heading level0 row1\" >predictive_diff</th>\n",
       "      <td id=\"T_b0a87_row1_col0\" class=\"data row1 col0\" >0.574826</td>\n",
       "      <td id=\"T_b0a87_row1_col1\" class=\"data row1 col1\" >0.748692</td>\n",
       "      <td id=\"T_b0a87_row1_col2\" class=\"data row1 col2\" >0.173867</td>\n",
       "      <td id=\"T_b0a87_row1_col3\" class=\"data row1 col3\" >True</td>\n",
       "    </tr>\n",
       "  </tbody>\n",
       "</table>\n"
      ],
      "text/plain": [
       "<pandas.io.formats.style.Styler at 0x7f57485aebd0>"
      ]
     },
     "metadata": {},
     "output_type": "display_data"
    },
    {
     "data": {
      "text/html": [
       "<style type=\"text/css\">\n",
       "#T_1d22e_row0_col0, #T_1d22e_row1_col0 {\n",
       "  background-color: #148e4b;\n",
       "  color: #f1f1f1;\n",
       "}\n",
       "#T_1d22e_row0_col1 {\n",
       "  background-color: #0e8245;\n",
       "  color: #f1f1f1;\n",
       "}\n",
       "#T_1d22e_row0_col2 {\n",
       "  background-color: #93d168;\n",
       "  color: #000000;\n",
       "}\n",
       "#T_1d22e_row0_col3 {\n",
       "  background-color: #a50026;\n",
       "  color: #f1f1f1;\n",
       "}\n",
       "#T_1d22e_row1_col1 {\n",
       "  background-color: #0b7d42;\n",
       "  color: #f1f1f1;\n",
       "}\n",
       "#T_1d22e_row1_col2 {\n",
       "  background-color: #45ad5b;\n",
       "  color: #f1f1f1;\n",
       "}\n",
       "#T_1d22e_row1_col3 {\n",
       "  background-color: #006837;\n",
       "  color: #f1f1f1;\n",
       "}\n",
       "</style>\n",
       "<table id=\"T_1d22e\">\n",
       "  <caption>predicting label=label_model_truth_adapt</caption>\n",
       "  <thead>\n",
       "    <tr>\n",
       "      <th class=\"blank level0\" >&nbsp;</th>\n",
       "      <th id=\"T_1d22e_level0_col0\" class=\"col_heading level0 col0\" >roc_auc_baseline</th>\n",
       "      <th id=\"T_1d22e_level0_col1\" class=\"col_heading level0 col1\" >roc_auc_interven</th>\n",
       "      <th id=\"T_1d22e_level0_col2\" class=\"col_heading level0 col2\" >pred_inc</th>\n",
       "      <th id=\"T_1d22e_level0_col3\" class=\"col_heading level0 col3\" >pass</th>\n",
       "    </tr>\n",
       "  </thead>\n",
       "  <tbody>\n",
       "    <tr>\n",
       "      <th id=\"T_1d22e_level0_row0\" class=\"row_heading level0 row0\" >predictive</th>\n",
       "      <td id=\"T_1d22e_row0_col0\" class=\"data row0 col0\" >0.921385</td>\n",
       "      <td id=\"T_1d22e_row0_col1\" class=\"data row0 col1\" >0.944264</td>\n",
       "      <td id=\"T_1d22e_row0_col2\" class=\"data row0 col2\" >0.022879</td>\n",
       "      <td id=\"T_1d22e_row0_col3\" class=\"data row0 col3\" >False</td>\n",
       "    </tr>\n",
       "    <tr>\n",
       "      <th id=\"T_1d22e_level0_row1\" class=\"row_heading level0 row1\" >predictive_diff</th>\n",
       "      <td id=\"T_1d22e_row1_col0\" class=\"data row1 col0\" >0.921385</td>\n",
       "      <td id=\"T_1d22e_row1_col1\" class=\"data row1 col1\" >0.955604</td>\n",
       "      <td id=\"T_1d22e_row1_col2\" class=\"data row1 col2\" >0.034219</td>\n",
       "      <td id=\"T_1d22e_row1_col3\" class=\"data row1 col3\" >True</td>\n",
       "    </tr>\n",
       "  </tbody>\n",
       "</table>\n"
      ],
      "text/plain": [
       "<pandas.io.formats.style.Styler at 0x7f57485ac310>"
      ]
     },
     "metadata": {},
     "output_type": "display_data"
    },
    {
     "data": {
      "text/html": [
       "<style type=\"text/css\">\n",
       "#T_9b9fe_row0_col0, #T_9b9fe_row1_col0 {\n",
       "  background-color: #fff1a8;\n",
       "  color: #000000;\n",
       "}\n",
       "#T_9b9fe_row0_col1 {\n",
       "  background-color: #ddf191;\n",
       "  color: #000000;\n",
       "}\n",
       "#T_9b9fe_row0_col2, #T_9b9fe_row0_col3, #T_9b9fe_row1_col2, #T_9b9fe_row1_col3 {\n",
       "  background-color: #006837;\n",
       "  color: #f1f1f1;\n",
       "}\n",
       "#T_9b9fe_row1_col1 {\n",
       "  background-color: #e6f59d;\n",
       "  color: #000000;\n",
       "}\n",
       "</style>\n",
       "<table id=\"T_9b9fe\">\n",
       "  <caption>predicting label=label_model_obey_adapt</caption>\n",
       "  <thead>\n",
       "    <tr>\n",
       "      <th class=\"blank level0\" >&nbsp;</th>\n",
       "      <th id=\"T_9b9fe_level0_col0\" class=\"col_heading level0 col0\" >roc_auc_baseline</th>\n",
       "      <th id=\"T_9b9fe_level0_col1\" class=\"col_heading level0 col1\" >roc_auc_interven</th>\n",
       "      <th id=\"T_9b9fe_level0_col2\" class=\"col_heading level0 col2\" >pred_inc</th>\n",
       "      <th id=\"T_9b9fe_level0_col3\" class=\"col_heading level0 col3\" >pass</th>\n",
       "    </tr>\n",
       "  </thead>\n",
       "  <tbody>\n",
       "    <tr>\n",
       "      <th id=\"T_9b9fe_level0_row0\" class=\"row_heading level0 row0\" >predictive</th>\n",
       "      <td id=\"T_9b9fe_row0_col0\" class=\"data row0 col0\" >0.456094</td>\n",
       "      <td id=\"T_9b9fe_row0_col1\" class=\"data row0 col1\" >0.586902</td>\n",
       "      <td id=\"T_9b9fe_row0_col2\" class=\"data row0 col2\" >0.130808</td>\n",
       "      <td id=\"T_9b9fe_row0_col3\" class=\"data row0 col3\" >True</td>\n",
       "    </tr>\n",
       "    <tr>\n",
       "      <th id=\"T_9b9fe_level0_row1\" class=\"row_heading level0 row1\" >predictive_diff</th>\n",
       "      <td id=\"T_9b9fe_row1_col0\" class=\"data row1 col0\" >0.456094</td>\n",
       "      <td id=\"T_9b9fe_row1_col1\" class=\"data row1 col1\" >0.564017</td>\n",
       "      <td id=\"T_9b9fe_row1_col2\" class=\"data row1 col2\" >0.107923</td>\n",
       "      <td id=\"T_9b9fe_row1_col3\" class=\"data row1 col3\" >True</td>\n",
       "    </tr>\n",
       "  </tbody>\n",
       "</table>\n"
      ],
      "text/plain": [
       "<pandas.io.formats.style.Styler at 0x7f5748520850>"
      ]
     },
     "metadata": {},
     "output_type": "display_data"
    },
    {
     "data": {
      "text/html": [
       "<style type=\"text/css\">\n",
       "#T_92da7_row0_col0, #T_92da7_row1_col0 {\n",
       "  background-color: #84ca66;\n",
       "  color: #000000;\n",
       "}\n",
       "#T_92da7_row0_col1 {\n",
       "  background-color: #51b35e;\n",
       "  color: #f1f1f1;\n",
       "}\n",
       "#T_92da7_row0_col2, #T_92da7_row0_col3, #T_92da7_row1_col2, #T_92da7_row1_col3 {\n",
       "  background-color: #006837;\n",
       "  color: #f1f1f1;\n",
       "}\n",
       "#T_92da7_row1_col1 {\n",
       "  background-color: #249d53;\n",
       "  color: #f1f1f1;\n",
       "}\n",
       "</style>\n",
       "<table id=\"T_92da7\">\n",
       "  <caption>predicting label=ranking_truth_telling</caption>\n",
       "  <thead>\n",
       "    <tr>\n",
       "      <th class=\"blank level0\" >&nbsp;</th>\n",
       "      <th id=\"T_92da7_level0_col0\" class=\"col_heading level0 col0\" >roc_auc_baseline</th>\n",
       "      <th id=\"T_92da7_level0_col1\" class=\"col_heading level0 col1\" >roc_auc_interven</th>\n",
       "      <th id=\"T_92da7_level0_col2\" class=\"col_heading level0 col2\" >pred_inc</th>\n",
       "      <th id=\"T_92da7_level0_col3\" class=\"col_heading level0 col3\" >pass</th>\n",
       "    </tr>\n",
       "  </thead>\n",
       "  <tbody>\n",
       "    <tr>\n",
       "      <th id=\"T_92da7_level0_row0\" class=\"row_heading level0 row0\" >predictive</th>\n",
       "      <td id=\"T_92da7_row0_col0\" class=\"data row0 col0\" >0.751292</td>\n",
       "      <td id=\"T_92da7_row0_col1\" class=\"data row0 col1\" >0.824324</td>\n",
       "      <td id=\"T_92da7_row0_col2\" class=\"data row0 col2\" >0.073031</td>\n",
       "      <td id=\"T_92da7_row0_col3\" class=\"data row0 col3\" >True</td>\n",
       "    </tr>\n",
       "    <tr>\n",
       "      <th id=\"T_92da7_level0_row1\" class=\"row_heading level0 row1\" >predictive_diff</th>\n",
       "      <td id=\"T_92da7_row1_col0\" class=\"data row1 col0\" >0.751292</td>\n",
       "      <td id=\"T_92da7_row1_col1\" class=\"data row1 col1\" >0.885680</td>\n",
       "      <td id=\"T_92da7_row1_col2\" class=\"data row1 col2\" >0.134387</td>\n",
       "      <td id=\"T_92da7_row1_col3\" class=\"data row1 col3\" >True</td>\n",
       "    </tr>\n",
       "  </tbody>\n",
       "</table>\n"
      ],
      "text/plain": [
       "<pandas.io.formats.style.Styler at 0x7f5753b2e250>"
      ]
     },
     "metadata": {},
     "output_type": "display_data"
    },
    {
     "data": {
      "text/html": [
       "<style type=\"text/css\">\n",
       "#T_711d6_row0_col0, #T_711d6_row1_col0 {\n",
       "  background-color: #feffbe;\n",
       "  color: #000000;\n",
       "}\n",
       "#T_711d6_row0_col1 {\n",
       "  background-color: #afdd70;\n",
       "  color: #000000;\n",
       "}\n",
       "#T_711d6_row0_col2, #T_711d6_row0_col3, #T_711d6_row1_col2, #T_711d6_row1_col3 {\n",
       "  background-color: #006837;\n",
       "  color: #f1f1f1;\n",
       "}\n",
       "#T_711d6_row1_col1 {\n",
       "  background-color: #b1de71;\n",
       "  color: #000000;\n",
       "}\n",
       "</style>\n",
       "<table id=\"T_711d6\">\n",
       "  <caption>predicting label=ranking_instruction_following</caption>\n",
       "  <thead>\n",
       "    <tr>\n",
       "      <th class=\"blank level0\" >&nbsp;</th>\n",
       "      <th id=\"T_711d6_level0_col0\" class=\"col_heading level0 col0\" >roc_auc_baseline</th>\n",
       "      <th id=\"T_711d6_level0_col1\" class=\"col_heading level0 col1\" >roc_auc_interven</th>\n",
       "      <th id=\"T_711d6_level0_col2\" class=\"col_heading level0 col2\" >pred_inc</th>\n",
       "      <th id=\"T_711d6_level0_col3\" class=\"col_heading level0 col3\" >pass</th>\n",
       "    </tr>\n",
       "  </thead>\n",
       "  <tbody>\n",
       "    <tr>\n",
       "      <th id=\"T_711d6_level0_row0\" class=\"row_heading level0 row0\" >predictive</th>\n",
       "      <td id=\"T_711d6_row0_col0\" class=\"data row0 col0\" >0.500100</td>\n",
       "      <td id=\"T_711d6_row0_col1\" class=\"data row0 col1\" >0.681122</td>\n",
       "      <td id=\"T_711d6_row0_col2\" class=\"data row0 col2\" >0.181022</td>\n",
       "      <td id=\"T_711d6_row0_col3\" class=\"data row0 col3\" >True</td>\n",
       "    </tr>\n",
       "    <tr>\n",
       "      <th id=\"T_711d6_level0_row1\" class=\"row_heading level0 row1\" >predictive_diff</th>\n",
       "      <td id=\"T_711d6_row1_col0\" class=\"data row1 col0\" >0.500100</td>\n",
       "      <td id=\"T_711d6_row1_col1\" class=\"data row1 col1\" >0.676942</td>\n",
       "      <td id=\"T_711d6_row1_col2\" class=\"data row1 col2\" >0.176842</td>\n",
       "      <td id=\"T_711d6_row1_col3\" class=\"data row1 col3\" >True</td>\n",
       "    </tr>\n",
       "  </tbody>\n",
       "</table>\n"
      ],
      "text/plain": [
       "<pandas.io.formats.style.Styler at 0x7f57485ac310>"
      ]
     },
     "metadata": {},
     "output_type": "display_data"
    },
    {
     "name": "stdout",
     "output_type": "stream",
     "text": [
      "🥉 secondary metric: dataset quality: performance of base model and adapter\n"
     ]
    },
    {
     "data": {
      "text/html": [
       "<style type=\"text/css\">\n",
       "#T_b72c8_row0_col0, #T_b72c8_row1_col0 {\n",
       "  background-color: #006837;\n",
       "  color: #f1f1f1;\n",
       "}\n",
       "#T_b72c8_row0_col2 {\n",
       "  background-color: #33a456;\n",
       "  color: #f1f1f1;\n",
       "}\n",
       "#T_b72c8_row0_col3 {\n",
       "  background-color: #e44c34;\n",
       "  color: #f1f1f1;\n",
       "}\n",
       "#T_b72c8_row0_col4 {\n",
       "  background-color: #d62f27;\n",
       "  color: #f1f1f1;\n",
       "}\n",
       "#T_b72c8_row0_col5 {\n",
       "  background-color: #15904c;\n",
       "  color: #f1f1f1;\n",
       "}\n",
       "#T_b72c8_row1_col2 {\n",
       "  background-color: #e2f397;\n",
       "  color: #000000;\n",
       "}\n",
       "#T_b72c8_row1_col3 {\n",
       "  background-color: #a7d96b;\n",
       "  color: #000000;\n",
       "}\n",
       "#T_b72c8_row1_col4 {\n",
       "  background-color: #f2faae;\n",
       "  color: #000000;\n",
       "}\n",
       "#T_b72c8_row1_col5 {\n",
       "  background-color: #036e3a;\n",
       "  color: #f1f1f1;\n",
       "}\n",
       "</style>\n",
       "<table id=\"T_b72c8\">\n",
       "  <caption>Dataset metrics</caption>\n",
       "  <thead>\n",
       "    <tr>\n",
       "      <th class=\"blank level0\" >&nbsp;</th>\n",
       "      <th id=\"T_b72c8_level0_col0\" class=\"col_heading level0 col0\" >balance</th>\n",
       "      <th id=\"T_b72c8_level0_col1\" class=\"col_heading level0 col1\" >N</th>\n",
       "      <th id=\"T_b72c8_level0_col2\" class=\"col_heading level0 col2\" >acc</th>\n",
       "      <th id=\"T_b72c8_level0_col3\" class=\"col_heading level0 col3\" >lie_acc</th>\n",
       "      <th id=\"T_b72c8_level0_col4\" class=\"col_heading level0 col4\" >known_lie_acc</th>\n",
       "      <th id=\"T_b72c8_level0_col5\" class=\"col_heading level0 col5\" >choice_cov</th>\n",
       "    </tr>\n",
       "  </thead>\n",
       "  <tbody>\n",
       "    <tr>\n",
       "      <th id=\"T_b72c8_level0_row0\" class=\"row_heading level0 row0\" >base</th>\n",
       "      <td id=\"T_b72c8_row0_col0\" class=\"data row0 col0\" >0.501153</td>\n",
       "      <td id=\"T_b72c8_row0_col1\" class=\"data row0 col1\" >1301</td>\n",
       "      <td id=\"T_b72c8_row0_col2\" class=\"data row0 col2\" >0.863287</td>\n",
       "      <td id=\"T_b72c8_row0_col3\" class=\"data row0 col3\" >0.147692</td>\n",
       "      <td id=\"T_b72c8_row0_col4\" class=\"data row0 col4\" >0.098413</td>\n",
       "      <td id=\"T_b72c8_row0_col5\" class=\"data row0 col5\" >0.916558</td>\n",
       "    </tr>\n",
       "    <tr>\n",
       "      <th id=\"T_b72c8_level0_row1\" class=\"row_heading level0 row1\" >adapter</th>\n",
       "      <td id=\"T_b72c8_row1_col0\" class=\"data row1 col0\" >0.501153</td>\n",
       "      <td id=\"T_b72c8_row1_col1\" class=\"data row1 col1\" >1301</td>\n",
       "      <td id=\"T_b72c8_row1_col2\" class=\"data row1 col2\" >0.577573</td>\n",
       "      <td id=\"T_b72c8_row1_col3\" class=\"data row1 col3\" >0.698462</td>\n",
       "      <td id=\"T_b72c8_row1_col4\" class=\"data row1 col4\" >0.533333</td>\n",
       "      <td id=\"T_b72c8_row1_col5\" class=\"data row1 col5\" >0.987646</td>\n",
       "    </tr>\n",
       "  </tbody>\n",
       "</table>\n"
      ],
      "text/plain": [
       "<pandas.io.formats.style.Styler at 0x7f5753b41550>"
      ]
     },
     "metadata": {},
     "output_type": "display_data"
    },
    {
     "name": "stdout",
     "output_type": "stream",
     "text": [
      "out of sample\n",
      "select rows are 58.65% based on knowledge\n",
      "🥇 primary metric: predictive power (of logistic regression on top of intervened hidden states of known question)\n",
      "\n",
      "    The roc_auc should go up on the right given the intervented states\n",
      "    \n"
     ]
    },
    {
     "data": {
      "text/html": [
       "<style type=\"text/css\">\n",
       "#T_f77ae_row0_col0, #T_f77ae_row1_col0 {\n",
       "  background-color: #feec9f;\n",
       "  color: #000000;\n",
       "}\n",
       "#T_f77ae_row0_col1 {\n",
       "  background-color: #feffbe;\n",
       "  color: #000000;\n",
       "}\n",
       "#T_f77ae_row0_col2, #T_f77ae_row0_col3, #T_f77ae_row1_col2, #T_f77ae_row1_col3 {\n",
       "  background-color: #006837;\n",
       "  color: #f1f1f1;\n",
       "}\n",
       "#T_f77ae_row1_col1 {\n",
       "  background-color: #f8fcb6;\n",
       "  color: #000000;\n",
       "}\n",
       "</style>\n",
       "<table id=\"T_f77ae\">\n",
       "  <caption>predicting label=label_model_truth</caption>\n",
       "  <thead>\n",
       "    <tr>\n",
       "      <th class=\"blank level0\" >&nbsp;</th>\n",
       "      <th id=\"T_f77ae_level0_col0\" class=\"col_heading level0 col0\" >roc_auc_baseline</th>\n",
       "      <th id=\"T_f77ae_level0_col1\" class=\"col_heading level0 col1\" >roc_auc_interven</th>\n",
       "      <th id=\"T_f77ae_level0_col2\" class=\"col_heading level0 col2\" >pred_inc</th>\n",
       "      <th id=\"T_f77ae_level0_col3\" class=\"col_heading level0 col3\" >pass</th>\n",
       "    </tr>\n",
       "  </thead>\n",
       "  <tbody>\n",
       "    <tr>\n",
       "      <th id=\"T_f77ae_level0_row0\" class=\"row_heading level0 row0\" >predictive</th>\n",
       "      <td id=\"T_f77ae_row0_col0\" class=\"data row0 col0\" >0.438315</td>\n",
       "      <td id=\"T_f77ae_row0_col1\" class=\"data row0 col1\" >0.502446</td>\n",
       "      <td id=\"T_f77ae_row0_col2\" class=\"data row0 col2\" >0.064130</td>\n",
       "      <td id=\"T_f77ae_row0_col3\" class=\"data row0 col3\" >True</td>\n",
       "    </tr>\n",
       "    <tr>\n",
       "      <th id=\"T_f77ae_level0_row1\" class=\"row_heading level0 row1\" >predictive_diff</th>\n",
       "      <td id=\"T_f77ae_row1_col0\" class=\"data row1 col0\" >0.438315</td>\n",
       "      <td id=\"T_f77ae_row1_col1\" class=\"data row1 col1\" >0.515761</td>\n",
       "      <td id=\"T_f77ae_row1_col2\" class=\"data row1 col2\" >0.077446</td>\n",
       "      <td id=\"T_f77ae_row1_col3\" class=\"data row1 col3\" >True</td>\n",
       "    </tr>\n",
       "  </tbody>\n",
       "</table>\n"
      ],
      "text/plain": [
       "<pandas.io.formats.style.Styler at 0x7f57485b1790>"
      ]
     },
     "metadata": {},
     "output_type": "display_data"
    },
    {
     "data": {
      "text/html": [
       "<style type=\"text/css\">\n",
       "#T_58120_row0_col0, #T_58120_row1_col0 {\n",
       "  background-color: #fed683;\n",
       "  color: #000000;\n",
       "}\n",
       "#T_58120_row0_col1 {\n",
       "  background-color: #fff3ac;\n",
       "  color: #000000;\n",
       "}\n",
       "#T_58120_row0_col2, #T_58120_row0_col3, #T_58120_row1_col2, #T_58120_row1_col3 {\n",
       "  background-color: #006837;\n",
       "  color: #f1f1f1;\n",
       "}\n",
       "#T_58120_row1_col1 {\n",
       "  background-color: #feeb9d;\n",
       "  color: #000000;\n",
       "}\n",
       "</style>\n",
       "<table id=\"T_58120\">\n",
       "  <caption>predicting label=label_model_obey</caption>\n",
       "  <thead>\n",
       "    <tr>\n",
       "      <th class=\"blank level0\" >&nbsp;</th>\n",
       "      <th id=\"T_58120_level0_col0\" class=\"col_heading level0 col0\" >roc_auc_baseline</th>\n",
       "      <th id=\"T_58120_level0_col1\" class=\"col_heading level0 col1\" >roc_auc_interven</th>\n",
       "      <th id=\"T_58120_level0_col2\" class=\"col_heading level0 col2\" >pred_inc</th>\n",
       "      <th id=\"T_58120_level0_col3\" class=\"col_heading level0 col3\" >pass</th>\n",
       "    </tr>\n",
       "  </thead>\n",
       "  <tbody>\n",
       "    <tr>\n",
       "      <th id=\"T_58120_level0_row0\" class=\"row_heading level0 row0\" >predictive</th>\n",
       "      <td id=\"T_58120_row0_col0\" class=\"data row0 col0\" >0.382532</td>\n",
       "      <td id=\"T_58120_row0_col1\" class=\"data row0 col1\" >0.463768</td>\n",
       "      <td id=\"T_58120_row0_col2\" class=\"data row0 col2\" >0.081236</td>\n",
       "      <td id=\"T_58120_row0_col3\" class=\"data row0 col3\" >True</td>\n",
       "    </tr>\n",
       "    <tr>\n",
       "      <th id=\"T_58120_level0_row1\" class=\"row_heading level0 row1\" >predictive_diff</th>\n",
       "      <td id=\"T_58120_row1_col0\" class=\"data row1 col0\" >0.382532</td>\n",
       "      <td id=\"T_58120_row1_col1\" class=\"data row1 col1\" >0.434147</td>\n",
       "      <td id=\"T_58120_row1_col2\" class=\"data row1 col2\" >0.051615</td>\n",
       "      <td id=\"T_58120_row1_col3\" class=\"data row1 col3\" >True</td>\n",
       "    </tr>\n",
       "  </tbody>\n",
       "</table>\n"
      ],
      "text/plain": [
       "<pandas.io.formats.style.Styler at 0x7f5753b75f10>"
      ]
     },
     "metadata": {},
     "output_type": "display_data"
    },
    {
     "data": {
      "text/html": [
       "<style type=\"text/css\">\n",
       "#T_e79db_row0_col0, #T_e79db_row1_col0 {\n",
       "  background-color: #0c7f43;\n",
       "  color: #f1f1f1;\n",
       "}\n",
       "#T_e79db_row0_col1 {\n",
       "  background-color: #17934e;\n",
       "  color: #f1f1f1;\n",
       "}\n",
       "#T_e79db_row0_col2 {\n",
       "  background-color: #ce2827;\n",
       "  color: #f1f1f1;\n",
       "}\n",
       "#T_e79db_row0_col3, #T_e79db_row1_col3 {\n",
       "  background-color: #a50026;\n",
       "  color: #f1f1f1;\n",
       "}\n",
       "#T_e79db_row1_col1 {\n",
       "  background-color: #0f8446;\n",
       "  color: #f1f1f1;\n",
       "}\n",
       "#T_e79db_row1_col2 {\n",
       "  background-color: #fee18d;\n",
       "  color: #000000;\n",
       "}\n",
       "</style>\n",
       "<table id=\"T_e79db\">\n",
       "  <caption>predicting label=label_model_truth_adapt</caption>\n",
       "  <thead>\n",
       "    <tr>\n",
       "      <th class=\"blank level0\" >&nbsp;</th>\n",
       "      <th id=\"T_e79db_level0_col0\" class=\"col_heading level0 col0\" >roc_auc_baseline</th>\n",
       "      <th id=\"T_e79db_level0_col1\" class=\"col_heading level0 col1\" >roc_auc_interven</th>\n",
       "      <th id=\"T_e79db_level0_col2\" class=\"col_heading level0 col2\" >pred_inc</th>\n",
       "      <th id=\"T_e79db_level0_col3\" class=\"col_heading level0 col3\" >pass</th>\n",
       "    </tr>\n",
       "  </thead>\n",
       "  <tbody>\n",
       "    <tr>\n",
       "      <th id=\"T_e79db_level0_row0\" class=\"row_heading level0 row0\" >predictive</th>\n",
       "      <td id=\"T_e79db_row0_col0\" class=\"data row0 col0\" >0.949663</td>\n",
       "      <td id=\"T_e79db_row0_col1\" class=\"data row0 col1\" >0.908043</td>\n",
       "      <td id=\"T_e79db_row0_col2\" class=\"data row0 col2\" >-0.041620</td>\n",
       "      <td id=\"T_e79db_row0_col3\" class=\"data row0 col3\" >False</td>\n",
       "    </tr>\n",
       "    <tr>\n",
       "      <th id=\"T_e79db_level0_row1\" class=\"row_heading level0 row1\" >predictive_diff</th>\n",
       "      <td id=\"T_e79db_row1_col0\" class=\"data row1 col0\" >0.949663</td>\n",
       "      <td id=\"T_e79db_row1_col1\" class=\"data row1 col1\" >0.939961</td>\n",
       "      <td id=\"T_e79db_row1_col2\" class=\"data row1 col2\" >-0.009702</td>\n",
       "      <td id=\"T_e79db_row1_col3\" class=\"data row1 col3\" >False</td>\n",
       "    </tr>\n",
       "  </tbody>\n",
       "</table>\n"
      ],
      "text/plain": [
       "<pandas.io.formats.style.Styler at 0x7f5753b85010>"
      ]
     },
     "metadata": {},
     "output_type": "display_data"
    },
    {
     "data": {
      "text/html": [
       "<style type=\"text/css\">\n",
       "#T_ff167_row0_col0, #T_ff167_row1_col0 {\n",
       "  background-color: #fca85e;\n",
       "  color: #000000;\n",
       "}\n",
       "#T_ff167_row0_col1 {\n",
       "  background-color: #fa9b58;\n",
       "  color: #000000;\n",
       "}\n",
       "#T_ff167_row0_col2 {\n",
       "  background-color: #fdc171;\n",
       "  color: #000000;\n",
       "}\n",
       "#T_ff167_row0_col3, #T_ff167_row1_col3 {\n",
       "  background-color: #a50026;\n",
       "  color: #f1f1f1;\n",
       "}\n",
       "#T_ff167_row1_col1 {\n",
       "  background-color: #fa9857;\n",
       "  color: #000000;\n",
       "}\n",
       "#T_ff167_row1_col2 {\n",
       "  background-color: #fb9d59;\n",
       "  color: #000000;\n",
       "}\n",
       "</style>\n",
       "<table id=\"T_ff167\">\n",
       "  <caption>predicting label=label_model_obey_adapt</caption>\n",
       "  <thead>\n",
       "    <tr>\n",
       "      <th class=\"blank level0\" >&nbsp;</th>\n",
       "      <th id=\"T_ff167_level0_col0\" class=\"col_heading level0 col0\" >roc_auc_baseline</th>\n",
       "      <th id=\"T_ff167_level0_col1\" class=\"col_heading level0 col1\" >roc_auc_interven</th>\n",
       "      <th id=\"T_ff167_level0_col2\" class=\"col_heading level0 col2\" >pred_inc</th>\n",
       "      <th id=\"T_ff167_level0_col3\" class=\"col_heading level0 col3\" >pass</th>\n",
       "    </tr>\n",
       "  </thead>\n",
       "  <tbody>\n",
       "    <tr>\n",
       "      <th id=\"T_ff167_level0_row0\" class=\"row_heading level0 row0\" >predictive</th>\n",
       "      <td id=\"T_ff167_row0_col0\" class=\"data row0 col0\" >0.289775</td>\n",
       "      <td id=\"T_ff167_row0_col1\" class=\"data row0 col1\" >0.273411</td>\n",
       "      <td id=\"T_ff167_row0_col2\" class=\"data row0 col2\" >-0.016364</td>\n",
       "      <td id=\"T_ff167_row0_col3\" class=\"data row0 col3\" >False</td>\n",
       "    </tr>\n",
       "    <tr>\n",
       "      <th id=\"T_ff167_level0_row1\" class=\"row_heading level0 row1\" >predictive_diff</th>\n",
       "      <td id=\"T_ff167_row1_col0\" class=\"data row1 col0\" >0.289775</td>\n",
       "      <td id=\"T_ff167_row1_col1\" class=\"data row1 col1\" >0.267200</td>\n",
       "      <td id=\"T_ff167_row1_col2\" class=\"data row1 col2\" >-0.022575</td>\n",
       "      <td id=\"T_ff167_row1_col3\" class=\"data row1 col3\" >False</td>\n",
       "    </tr>\n",
       "  </tbody>\n",
       "</table>\n"
      ],
      "text/plain": [
       "<pandas.io.formats.style.Styler at 0x7f573895bc90>"
      ]
     },
     "metadata": {},
     "output_type": "display_data"
    },
    {
     "data": {
      "text/html": [
       "<style type=\"text/css\">\n",
       "#T_7e2e3_row0_col0, #T_7e2e3_row1_col0 {\n",
       "  background-color: #1b9950;\n",
       "  color: #f1f1f1;\n",
       "}\n",
       "#T_7e2e3_row0_col1 {\n",
       "  background-color: #16914d;\n",
       "  color: #f1f1f1;\n",
       "}\n",
       "#T_7e2e3_row0_col2 {\n",
       "  background-color: #b9e176;\n",
       "  color: #000000;\n",
       "}\n",
       "#T_7e2e3_row0_col3, #T_7e2e3_row1_col3 {\n",
       "  background-color: #a50026;\n",
       "  color: #f1f1f1;\n",
       "}\n",
       "#T_7e2e3_row1_col1 {\n",
       "  background-color: #18954f;\n",
       "  color: #f1f1f1;\n",
       "}\n",
       "#T_7e2e3_row1_col2 {\n",
       "  background-color: #e8f59f;\n",
       "  color: #000000;\n",
       "}\n",
       "</style>\n",
       "<table id=\"T_7e2e3\">\n",
       "  <caption>predicting label=ranking_truth_telling</caption>\n",
       "  <thead>\n",
       "    <tr>\n",
       "      <th class=\"blank level0\" >&nbsp;</th>\n",
       "      <th id=\"T_7e2e3_level0_col0\" class=\"col_heading level0 col0\" >roc_auc_baseline</th>\n",
       "      <th id=\"T_7e2e3_level0_col1\" class=\"col_heading level0 col1\" >roc_auc_interven</th>\n",
       "      <th id=\"T_7e2e3_level0_col2\" class=\"col_heading level0 col2\" >pred_inc</th>\n",
       "      <th id=\"T_7e2e3_level0_col3\" class=\"col_heading level0 col3\" >pass</th>\n",
       "    </tr>\n",
       "  </thead>\n",
       "  <tbody>\n",
       "    <tr>\n",
       "      <th id=\"T_7e2e3_level0_row0\" class=\"row_heading level0 row0\" >predictive</th>\n",
       "      <td id=\"T_7e2e3_row0_col0\" class=\"data row0 col0\" >0.897334</td>\n",
       "      <td id=\"T_7e2e3_row0_col1\" class=\"data row0 col1\" >0.913520</td>\n",
       "      <td id=\"T_7e2e3_row0_col2\" class=\"data row0 col2\" >0.016185</td>\n",
       "      <td id=\"T_7e2e3_row0_col3\" class=\"data row0 col3\" >False</td>\n",
       "    </tr>\n",
       "    <tr>\n",
       "      <th id=\"T_7e2e3_level0_row1\" class=\"row_heading level0 row1\" >predictive_diff</th>\n",
       "      <td id=\"T_7e2e3_row1_col0\" class=\"data row1 col0\" >0.897334</td>\n",
       "      <td id=\"T_7e2e3_row1_col1\" class=\"data row1 col1\" >0.903205</td>\n",
       "      <td id=\"T_7e2e3_row1_col2\" class=\"data row1 col2\" >0.005871</td>\n",
       "      <td id=\"T_7e2e3_row1_col3\" class=\"data row1 col3\" >False</td>\n",
       "    </tr>\n",
       "  </tbody>\n",
       "</table>\n"
      ],
      "text/plain": [
       "<pandas.io.formats.style.Styler at 0x7f574857b310>"
      ]
     },
     "metadata": {},
     "output_type": "display_data"
    },
    {
     "data": {
      "text/html": [
       "<style type=\"text/css\">\n",
       "#T_3a0db_row0_col0, #T_3a0db_row1_col0 {\n",
       "  background-color: #fdb365;\n",
       "  color: #000000;\n",
       "}\n",
       "#T_3a0db_row0_col1 {\n",
       "  background-color: #fdb163;\n",
       "  color: #000000;\n",
       "}\n",
       "#T_3a0db_row0_col2 {\n",
       "  background-color: #feeb9d;\n",
       "  color: #000000;\n",
       "}\n",
       "#T_3a0db_row0_col3, #T_3a0db_row1_col3 {\n",
       "  background-color: #a50026;\n",
       "  color: #f1f1f1;\n",
       "}\n",
       "#T_3a0db_row1_col1 {\n",
       "  background-color: #fdbd6d;\n",
       "  color: #000000;\n",
       "}\n",
       "#T_3a0db_row1_col2 {\n",
       "  background-color: #afdd70;\n",
       "  color: #000000;\n",
       "}\n",
       "</style>\n",
       "<table id=\"T_3a0db\">\n",
       "  <caption>predicting label=ranking_instruction_following</caption>\n",
       "  <thead>\n",
       "    <tr>\n",
       "      <th class=\"blank level0\" >&nbsp;</th>\n",
       "      <th id=\"T_3a0db_level0_col0\" class=\"col_heading level0 col0\" >roc_auc_baseline</th>\n",
       "      <th id=\"T_3a0db_level0_col1\" class=\"col_heading level0 col1\" >roc_auc_interven</th>\n",
       "      <th id=\"T_3a0db_level0_col2\" class=\"col_heading level0 col2\" >pred_inc</th>\n",
       "      <th id=\"T_3a0db_level0_col3\" class=\"col_heading level0 col3\" >pass</th>\n",
       "    </tr>\n",
       "  </thead>\n",
       "  <tbody>\n",
       "    <tr>\n",
       "      <th id=\"T_3a0db_level0_row0\" class=\"row_heading level0 row0\" >predictive</th>\n",
       "      <td id=\"T_3a0db_row0_col0\" class=\"data row0 col0\" >0.311738</td>\n",
       "      <td id=\"T_3a0db_row0_col1\" class=\"data row0 col1\" >0.305403</td>\n",
       "      <td id=\"T_3a0db_row0_col2\" class=\"data row0 col2\" >-0.006335</td>\n",
       "      <td id=\"T_3a0db_row0_col3\" class=\"data row0 col3\" >False</td>\n",
       "    </tr>\n",
       "    <tr>\n",
       "      <th id=\"T_3a0db_level0_row1\" class=\"row_heading level0 row1\" >predictive_diff</th>\n",
       "      <td id=\"T_3a0db_row1_col0\" class=\"data row1 col0\" >0.311738</td>\n",
       "      <td id=\"T_3a0db_row1_col1\" class=\"data row1 col1\" >0.330026</td>\n",
       "      <td id=\"T_3a0db_row1_col2\" class=\"data row1 col2\" >0.018288</td>\n",
       "      <td id=\"T_3a0db_row1_col3\" class=\"data row1 col3\" >False</td>\n",
       "    </tr>\n",
       "  </tbody>\n",
       "</table>\n"
      ],
      "text/plain": [
       "<pandas.io.formats.style.Styler at 0x7f57484f3010>"
      ]
     },
     "metadata": {},
     "output_type": "display_data"
    },
    {
     "name": "stdout",
     "output_type": "stream",
     "text": [
      "🥉 secondary metric: dataset quality: performance of base model and adapter\n"
     ]
    },
    {
     "data": {
      "text/html": [
       "<style type=\"text/css\">\n",
       "#T_5fa18_row0_col0, #T_5fa18_row1_col0 {\n",
       "  background-color: #036e3a;\n",
       "  color: #f1f1f1;\n",
       "}\n",
       "#T_5fa18_row0_col2 {\n",
       "  background-color: #dcf08f;\n",
       "  color: #000000;\n",
       "}\n",
       "#T_5fa18_row0_col3 {\n",
       "  background-color: #fee797;\n",
       "  color: #000000;\n",
       "}\n",
       "#T_5fa18_row0_col4 {\n",
       "  background-color: #f88950;\n",
       "  color: #f1f1f1;\n",
       "}\n",
       "#T_5fa18_row0_col5 {\n",
       "  background-color: #30a356;\n",
       "  color: #f1f1f1;\n",
       "}\n",
       "#T_5fa18_row1_col2 {\n",
       "  background-color: #fdfebc;\n",
       "  color: #000000;\n",
       "}\n",
       "#T_5fa18_row1_col3 {\n",
       "  background-color: #feffbe;\n",
       "  color: #000000;\n",
       "}\n",
       "#T_5fa18_row1_col4 {\n",
       "  background-color: #af0926;\n",
       "  color: #f1f1f1;\n",
       "}\n",
       "#T_5fa18_row1_col5 {\n",
       "  background-color: #17934e;\n",
       "  color: #f1f1f1;\n",
       "}\n",
       "</style>\n",
       "<table id=\"T_5fa18\">\n",
       "  <caption>Dataset metrics</caption>\n",
       "  <thead>\n",
       "    <tr>\n",
       "      <th class=\"blank level0\" >&nbsp;</th>\n",
       "      <th id=\"T_5fa18_level0_col0\" class=\"col_heading level0 col0\" >balance</th>\n",
       "      <th id=\"T_5fa18_level0_col1\" class=\"col_heading level0 col1\" >N</th>\n",
       "      <th id=\"T_5fa18_level0_col2\" class=\"col_heading level0 col2\" >acc</th>\n",
       "      <th id=\"T_5fa18_level0_col3\" class=\"col_heading level0 col3\" >lie_acc</th>\n",
       "      <th id=\"T_5fa18_level0_col4\" class=\"col_heading level0 col4\" >known_lie_acc</th>\n",
       "      <th id=\"T_5fa18_level0_col5\" class=\"col_heading level0 col5\" >choice_cov</th>\n",
       "    </tr>\n",
       "  </thead>\n",
       "  <tbody>\n",
       "    <tr>\n",
       "      <th id=\"T_5fa18_level0_row0\" class=\"row_heading level0 row0\" >base</th>\n",
       "      <td id=\"T_5fa18_row0_col0\" class=\"data row0 col0\" >0.492698</td>\n",
       "      <td id=\"T_5fa18_row0_col1\" class=\"data row0 col1\" >1301</td>\n",
       "      <td id=\"T_5fa18_row0_col2\" class=\"data row0 col2\" >0.590769</td>\n",
       "      <td id=\"T_5fa18_row0_col3\" class=\"data row0 col3\" >0.425499</td>\n",
       "      <td id=\"T_5fa18_row0_col4\" class=\"data row0 col4\" >0.245902</td>\n",
       "      <td id=\"T_5fa18_row0_col5\" class=\"data row0 col5\" >0.871055</td>\n",
       "    </tr>\n",
       "    <tr>\n",
       "      <th id=\"T_5fa18_level0_row1\" class=\"row_heading level0 row1\" >adapter</th>\n",
       "      <td id=\"T_5fa18_row1_col0\" class=\"data row1 col0\" >0.492698</td>\n",
       "      <td id=\"T_5fa18_row1_col1\" class=\"data row1 col1\" >1301</td>\n",
       "      <td id=\"T_5fa18_row1_col2\" class=\"data row1 col2\" >0.504615</td>\n",
       "      <td id=\"T_5fa18_row1_col3\" class=\"data row1 col3\" >0.503840</td>\n",
       "      <td id=\"T_5fa18_row1_col4\" class=\"data row1 col4\" >0.020690</td>\n",
       "      <td id=\"T_5fa18_row1_col5\" class=\"data row1 col5\" >0.909562</td>\n",
       "    </tr>\n",
       "  </tbody>\n",
       "</table>\n"
      ],
      "text/plain": [
       "<pandas.io.formats.style.Styler at 0x7f57539da090>"
      ]
     },
     "metadata": {},
     "output_type": "display_data"
    }
   ],
   "source": [
    "print(\"valtest\")\n",
    "analyse_intervention(ds_out_valtest, tokenizer)\n",
    "\n",
    "print(\"out of sample\")\n",
    "analyse_intervention(ds_out_OOD, tokenizer)\n"
   ]
  },
  {
   "cell_type": "code",
   "execution_count": null,
   "metadata": {},
   "outputs": [],
   "source": []
  },
  {
   "cell_type": "code",
   "execution_count": null,
   "metadata": {},
   "outputs": [],
   "source": []
  }
 ],
 "metadata": {
  "kernelspec": {
   "display_name": ".venv",
   "language": "python",
   "name": "python3"
  },
  "language_info": {
   "codemirror_mode": {
    "name": "ipython",
    "version": 3
   },
   "file_extension": ".py",
   "mimetype": "text/x-python",
   "name": "python",
   "nbconvert_exporter": "python",
   "pygments_lexer": "ipython3",
   "version": "3.11.0rc1"
  }
 },
 "nbformat": 4,
 "nbformat_minor": 2
}
