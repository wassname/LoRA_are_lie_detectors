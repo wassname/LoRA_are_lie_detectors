{
 "cells": [
  {
   "cell_type": "markdown",
   "metadata": {},
   "source": [
    "my known lie doesn't make sense anymore? Well truth is when examples of truth are given (and maybe it's asked to tell the truth?) I would need to analyze this seperatly, but getting say N tokens. And trying differen't combinatiuons of system prompt, and n-shot examples\n"
   ]
  },
  {
   "cell_type": "code",
   "execution_count": 1,
   "metadata": {},
   "outputs": [],
   "source": [
    "import torch\n",
    "from IPython.display import display, HTML, Markdown\n",
    "from torch.utils.data import random_split, DataLoader, TensorDataset\n",
    "from loguru import logger\n",
    "import sys\n",
    "import pandas as pd\n",
    "import seaborn as sns\n",
    "\n",
    "\n",
    "logger.remove()\n",
    "logger.add(sys.stderr, format=\"{time} {level} {message}\", level=\"INFO\")\n",
    "\n",
    "# load my code\n",
    "%load_ext autoreload\n",
    "%autoreload 2\n",
    "from src.eval.collect import manual_collect2\n",
    "from src.eval.ds import ds2df, qc_ds, qc_dsdf\n",
    "from src.prompts.prompt_loading import load_prompts, format_prompt, load_preproc_dataset\n",
    "from src.llms.load import load_model\n",
    "\n",
    "from matplotlib import pyplot as plt\n",
    "plt.style.use(['seaborn-v0_8'])\n"
   ]
  },
  {
   "cell_type": "code",
   "execution_count": null,
   "metadata": {},
   "outputs": [],
   "source": []
  },
  {
   "cell_type": "code",
   "execution_count": 2,
   "metadata": {},
   "outputs": [],
   "source": [
    "from pathlib import Path\n",
    "BASE_FOLDER = Path(\"/media/wassname/SGIronWolf/projects5/elk/sgd_probes_are_lie_detectors/notebooks/lightning_logs/version_106/\")\n",
    "\n",
    "# speed it up\n",
    "decimate = 4\n",
    "skip = 4\n",
    "stride = 6\n",
    "layers=['fc1', 'Wqkv', 'fc2', 'out_proj']"
   ]
  },
  {
   "cell_type": "markdown",
   "metadata": {},
   "source": [
    "## Importance matrix"
   ]
  },
  {
   "cell_type": "code",
   "execution_count": 3,
   "metadata": {},
   "outputs": [
    {
     "name": "stdout",
     "output_type": "stream",
     "text": [
      "Wqkv torch.Size([32, 7680])\n",
      "out_proj torch.Size([32, 2560])\n",
      "fc1 torch.Size([32, 10240])\n",
      "fc2 torch.Size([32, 2560])\n",
      "torch.Size([32, 23040])\n"
     ]
    },
    {
     "data": {
      "image/png": "[encoded data removed]",
      "text/plain": [
       "<Figure size 800x550 with 1 Axes>"
      ]
     },
     "metadata": {},
     "output_type": "display_data"
    }
   ],
   "source": [
    "from src.probes.importance_matrix import get_importance_matrix\n",
    "\n",
    "f = f\"{BASE_FOLDER}/checkpoint_last/adapter_model.safetensors\"\n",
    "importance_matrix = get_importance_matrix(f, layers=layers)\n",
    "print(importance_matrix.shape)\n",
    "plt.hist(importance_matrix.flatten(), bins=55);\n"
   ]
  },
  {
   "cell_type": "markdown",
   "metadata": {},
   "source": [
    "## Load DS"
   ]
  },
  {
   "cell_type": "code",
   "execution_count": 4,
   "metadata": {},
   "outputs": [],
   "source": [
    "from datasets import Dataset\n",
    "\n",
    "f1_val = next(iter(BASE_FOLDER.glob('hidden_states/.ds/ds_valtest_*')))\n",
    "f1_ood = next(iter(BASE_FOLDER.glob('hidden_states/.ds/ds_OOD_*')))\n",
    "f1_val, f1_ood\n",
    "\n",
    "ds_val = Dataset.from_file(str(f1_val)).with_format(\"torch\")\n",
    "ds_ood = Dataset.from_file(str(f1_ood)).with_format(\"torch\")\n",
    "\n",
    "# ds_known1 = filter_ds_to_known(ds_out, verbose=True)"
   ]
  },
  {
   "cell_type": "code",
   "execution_count": 5,
   "metadata": {},
   "outputs": [
    {
     "name": "stdout",
     "output_type": "stream",
     "text": [
      "with base model\n",
      "with adapter\n",
      "with base model\n",
      "with adapter\n"
     ]
    },
    {
     "data": {
      "text/plain": [
       "({'balance': 0.49800399201596807,\n",
       "  'N': 1002,\n",
       "  'auroc': 0.74505051535871,\n",
       "  'lie_auroc': 0.33118078419634833,\n",
       "  'known_lie_auroc': 0.3027678215850259,\n",
       "  'choice_cov': 0.9947463},\n",
       " {'balance': 0.49800399201596807,\n",
       "  'N': 1002,\n",
       "  'auroc': 0.74505051535871,\n",
       "  'lie_auroc': 0.33118078419634833,\n",
       "  'known_lie_auroc': 0.3027678215850259,\n",
       "  'choice_cov': 0.9947463})"
      ]
     },
     "execution_count": 5,
     "metadata": {},
     "output_type": "execute_result"
    }
   ],
   "source": [
    "qc_ds(ds_val)\n",
    "qc_ds(ds_ood)\n"
   ]
  },
  {
   "cell_type": "code",
   "execution_count": 6,
   "metadata": {},
   "outputs": [
    {
     "data": {
      "text/html": [
       "<div>\n",
       "<style scoped>\n",
       "    .dataframe tbody tr th:only-of-type {\n",
       "        vertical-align: middle;\n",
       "    }\n",
       "\n",
       "    .dataframe tbody tr th {\n",
       "        vertical-align: top;\n",
       "    }\n",
       "\n",
       "    .dataframe thead th {\n",
       "        text-align: right;\n",
       "    }\n",
       "</style>\n",
       "<table border=\"1\" class=\"dataframe\">\n",
       "  <thead>\n",
       "    <tr style=\"text-align: right;\">\n",
       "      <th></th>\n",
       "      <th>acc</th>\n",
       "      <th>n</th>\n",
       "    </tr>\n",
       "    <tr>\n",
       "      <th>sys_instr_name</th>\n",
       "      <th></th>\n",
       "      <th></th>\n",
       "    </tr>\n",
       "  </thead>\n",
       "  <tbody>\n",
       "    <tr>\n",
       "      <th>false_none</th>\n",
       "      <td>0.258547</td>\n",
       "      <td>468.0</td>\n",
       "    </tr>\n",
       "    <tr>\n",
       "      <th>truth</th>\n",
       "      <td>0.743925</td>\n",
       "      <td>535.0</td>\n",
       "    </tr>\n",
       "  </tbody>\n",
       "</table>\n",
       "</div>"
      ],
      "text/plain": [
       "                     acc      n\n",
       "sys_instr_name                 \n",
       "false_none      0.258547  468.0\n",
       "truth           0.743925  535.0"
      ]
     },
     "metadata": {},
     "output_type": "display_data"
    },
    {
     "data": {
      "text/html": [
       "<div>\n",
       "<style scoped>\n",
       "    .dataframe tbody tr th:only-of-type {\n",
       "        vertical-align: middle;\n",
       "    }\n",
       "\n",
       "    .dataframe tbody tr th {\n",
       "        vertical-align: top;\n",
       "    }\n",
       "\n",
       "    .dataframe thead th {\n",
       "        text-align: right;\n",
       "    }\n",
       "</style>\n",
       "<table border=\"1\" class=\"dataframe\">\n",
       "  <thead>\n",
       "    <tr style=\"text-align: right;\">\n",
       "      <th></th>\n",
       "      <th>acc</th>\n",
       "      <th>n</th>\n",
       "    </tr>\n",
       "    <tr>\n",
       "      <th>ds_string</th>\n",
       "      <th></th>\n",
       "      <th></th>\n",
       "    </tr>\n",
       "  </thead>\n",
       "  <tbody>\n",
       "    <tr>\n",
       "      <th>amazon_polarity</th>\n",
       "      <td>0.485000</td>\n",
       "      <td>200.0</td>\n",
       "    </tr>\n",
       "    <tr>\n",
       "      <th>glue:qnli</th>\n",
       "      <td>0.555000</td>\n",
       "      <td>200.0</td>\n",
       "    </tr>\n",
       "    <tr>\n",
       "      <th>hans</th>\n",
       "      <td>0.507463</td>\n",
       "      <td>201.0</td>\n",
       "    </tr>\n",
       "    <tr>\n",
       "      <th>sst2</th>\n",
       "      <td>0.572139</td>\n",
       "      <td>201.0</td>\n",
       "    </tr>\n",
       "    <tr>\n",
       "      <th>super_glue:rte</th>\n",
       "      <td>0.467662</td>\n",
       "      <td>201.0</td>\n",
       "    </tr>\n",
       "  </tbody>\n",
       "</table>\n",
       "</div>"
      ],
      "text/plain": [
       "                      acc      n\n",
       "ds_string                       \n",
       "amazon_polarity  0.485000  200.0\n",
       "glue:qnli        0.555000  200.0\n",
       "hans             0.507463  201.0\n",
       "sst2             0.572139  201.0\n",
       "super_glue:rte   0.467662  201.0"
      ]
     },
     "metadata": {},
     "output_type": "display_data"
    }
   ],
   "source": [
    "def agg_func(x):\n",
    "    acc = (x.label_instructed == x[\"ans\"]).mean()\n",
    "    return pd.Series(dict(acc=acc, n=len(x)))\n",
    "\n",
    "df = ds2df(ds_val)\n",
    "df = df.rename(columns=lambda x: x.replace(\"_base\", \"\")).copy()\n",
    "\n",
    "for col in [\"sys_instr_name\", \"ds_string\"]:\n",
    "    display(df.groupby(col).apply(agg_func))\n"
   ]
  },
  {
   "cell_type": "markdown",
   "metadata": {},
   "source": [
    "# Probe"
   ]
  },
  {
   "cell_type": "code",
   "execution_count": 7,
   "metadata": {},
   "outputs": [],
   "source": [
    "from src.probes.lr import TorchRobustScaler, TorchLogisticRegression, TorchDummyClassifier\n",
    "from src.helpers.ds import train_test_split_ds\n",
    "from src.eval.pl_sk import analyze_dfres, SKEvaluator, PlainTruthEval"
   ]
  },
  {
   "cell_type": "markdown",
   "metadata": {},
   "source": [
    "### LR"
   ]
  },
  {
   "cell_type": "code",
   "execution_count": 8,
   "metadata": {},
   "outputs": [
    {
     "name": "stdout",
     "output_type": "stream",
     "text": [
      "logistic regression\n"
     ]
    },
    {
     "name": "stderr",
     "output_type": "stream",
     "text": [
      "/media/wassname/SGIronWolf/projects5/elk/sgd_probes_are_lie_detectors/.venv/lib/python3.11/site-packages/sklearn/linear_model/_sag.py:350: ConvergenceWarning: The max_iter was reached which means the coef_ did not converge\n",
      "  warnings.warn(\n"
     ]
    },
    {
     "name": "stdout",
     "output_type": "stream",
     "text": [
      "⭐ main_metric: 0.605 ⭐ roc_auc for 1002 OOD samples\n"
     ]
    },
    {
     "data": {
      "text/html": [
       "<div>\n",
       "<style scoped>\n",
       "    .dataframe tbody tr th:only-of-type {\n",
       "        vertical-align: middle;\n",
       "    }\n",
       "\n",
       "    .dataframe tbody tr th {\n",
       "        vertical-align: top;\n",
       "    }\n",
       "\n",
       "    .dataframe thead th {\n",
       "        text-align: right;\n",
       "    }\n",
       "</style>\n",
       "<table border=\"1\" class=\"dataframe\">\n",
       "  <thead>\n",
       "    <tr style=\"text-align: right;\">\n",
       "      <th></th>\n",
       "      <th>roc_auc</th>\n",
       "      <th>improvement</th>\n",
       "      <th>acc</th>\n",
       "      <th>n</th>\n",
       "      <th>in_dist_adapter</th>\n",
       "      <th>in_dist_probe</th>\n",
       "      <th>balance</th>\n",
       "      <th>balance_proxy</th>\n",
       "      <th>roc_auc_adapter</th>\n",
       "      <th>roc_auc_base</th>\n",
       "    </tr>\n",
       "  </thead>\n",
       "  <tbody>\n",
       "    <tr>\n",
       "      <th>hans</th>\n",
       "      <td>0.608637</td>\n",
       "      <td>-0.116572</td>\n",
       "      <td>0.327586</td>\n",
       "      <td>58</td>\n",
       "      <td>True</td>\n",
       "      <td>True</td>\n",
       "      <td>0.672414</td>\n",
       "      <td>0.672414</td>\n",
       "      <td>0.572879</td>\n",
       "      <td>0.725209</td>\n",
       "    </tr>\n",
       "    <tr>\n",
       "      <th>sst2</th>\n",
       "      <td>0.736264</td>\n",
       "      <td>-0.147191</td>\n",
       "      <td>0.806452</td>\n",
       "      <td>62</td>\n",
       "      <td>True</td>\n",
       "      <td>True</td>\n",
       "      <td>0.790323</td>\n",
       "      <td>0.790323</td>\n",
       "      <td>0.671176</td>\n",
       "      <td>0.883455</td>\n",
       "    </tr>\n",
       "    <tr>\n",
       "      <th>amazon_polarity</th>\n",
       "      <td>0.777778</td>\n",
       "      <td>-0.189327</td>\n",
       "      <td>0.909091</td>\n",
       "      <td>66</td>\n",
       "      <td>True</td>\n",
       "      <td>True</td>\n",
       "      <td>0.909091</td>\n",
       "      <td>0.909091</td>\n",
       "      <td>0.743421</td>\n",
       "      <td>0.967105</td>\n",
       "    </tr>\n",
       "    <tr>\n",
       "      <th>super_glue:axg</th>\n",
       "      <td>0.598058</td>\n",
       "      <td>-0.2197</td>\n",
       "      <td>0.302395</td>\n",
       "      <td>334</td>\n",
       "      <td>False</td>\n",
       "      <td>False</td>\n",
       "      <td>0.757485</td>\n",
       "      <td>0.757485</td>\n",
       "      <td>0.723048</td>\n",
       "      <td>0.817758</td>\n",
       "    </tr>\n",
       "    <tr>\n",
       "      <th>imdb</th>\n",
       "      <td>0.627591</td>\n",
       "      <td>-0.277353</td>\n",
       "      <td>0.844311</td>\n",
       "      <td>334</td>\n",
       "      <td>False</td>\n",
       "      <td>False</td>\n",
       "      <td>0.844311</td>\n",
       "      <td>0.844311</td>\n",
       "      <td>0.785399</td>\n",
       "      <td>0.904945</td>\n",
       "    </tr>\n",
       "    <tr>\n",
       "      <th>super_glue:boolq</th>\n",
       "      <td>0.64893</td>\n",
       "      <td>-0.283075</td>\n",
       "      <td>0.808383</td>\n",
       "      <td>334</td>\n",
       "      <td>False</td>\n",
       "      <td>False</td>\n",
       "      <td>0.847305</td>\n",
       "      <td>0.847305</td>\n",
       "      <td>0.894935</td>\n",
       "      <td>0.932004</td>\n",
       "    </tr>\n",
       "    <tr>\n",
       "      <th>glue:qnli</th>\n",
       "      <td>0.392045</td>\n",
       "      <td>-0.298305</td>\n",
       "      <td>0.382353</td>\n",
       "      <td>68</td>\n",
       "      <td>True</td>\n",
       "      <td>True</td>\n",
       "      <td>0.647059</td>\n",
       "      <td>0.647059</td>\n",
       "      <td>0.59386</td>\n",
       "      <td>0.690351</td>\n",
       "    </tr>\n",
       "    <tr>\n",
       "      <th>super_glue:rte</th>\n",
       "      <td>0.492424</td>\n",
       "      <td>-0.371706</td>\n",
       "      <td>0.425532</td>\n",
       "      <td>47</td>\n",
       "      <td>True</td>\n",
       "      <td>True</td>\n",
       "      <td>0.765957</td>\n",
       "      <td>0.765957</td>\n",
       "      <td>0.737319</td>\n",
       "      <td>0.86413</td>\n",
       "    </tr>\n",
       "  </tbody>\n",
       "</table>\n",
       "</div>"
      ],
      "text/plain": [
       "                   roc_auc improvement       acc    n in_dist_adapter  \\\n",
       "hans              0.608637   -0.116572  0.327586   58            True   \n",
       "sst2              0.736264   -0.147191  0.806452   62            True   \n",
       "amazon_polarity   0.777778   -0.189327  0.909091   66            True   \n",
       "super_glue:axg    0.598058     -0.2197  0.302395  334           False   \n",
       "imdb              0.627591   -0.277353  0.844311  334           False   \n",
       "super_glue:boolq   0.64893   -0.283075  0.808383  334           False   \n",
       "glue:qnli         0.392045   -0.298305  0.382353   68            True   \n",
       "super_glue:rte    0.492424   -0.371706  0.425532   47            True   \n",
       "\n",
       "                 in_dist_probe   balance balance_proxy roc_auc_adapter  \\\n",
       "hans                      True  0.672414      0.672414        0.572879   \n",
       "sst2                      True  0.790323      0.790323        0.671176   \n",
       "amazon_polarity           True  0.909091      0.909091        0.743421   \n",
       "super_glue:axg           False  0.757485      0.757485        0.723048   \n",
       "imdb                     False  0.844311      0.844311        0.785399   \n",
       "super_glue:boolq         False  0.847305      0.847305        0.894935   \n",
       "glue:qnli                 True  0.647059      0.647059         0.59386   \n",
       "super_glue:rte            True  0.765957      0.765957        0.737319   \n",
       "\n",
       "                 roc_auc_base  \n",
       "hans                 0.725209  \n",
       "sst2                 0.883455  \n",
       "amazon_polarity      0.967105  \n",
       "super_glue:axg       0.817758  \n",
       "imdb                 0.904945  \n",
       "super_glue:boolq     0.932004  \n",
       "glue:qnli            0.690351  \n",
       "super_glue:rte        0.86413  "
      ]
     },
     "metadata": {},
     "output_type": "display_data"
    },
    {
     "data": {
      "text/html": [
       "<div>\n",
       "<style scoped>\n",
       "    .dataframe tbody tr th:only-of-type {\n",
       "        vertical-align: middle;\n",
       "    }\n",
       "\n",
       "    .dataframe tbody tr th {\n",
       "        vertical-align: top;\n",
       "    }\n",
       "\n",
       "    .dataframe thead th {\n",
       "        text-align: right;\n",
       "    }\n",
       "</style>\n",
       "<table border=\"1\" class=\"dataframe\">\n",
       "  <thead>\n",
       "    <tr style=\"text-align: right;\">\n",
       "      <th></th>\n",
       "      <th>roc_auc</th>\n",
       "      <th>improvement</th>\n",
       "      <th>acc</th>\n",
       "      <th>n</th>\n",
       "      <th>in_dist_adapter</th>\n",
       "      <th>in_dist_probe</th>\n",
       "      <th>balance</th>\n",
       "      <th>balance_proxy</th>\n",
       "      <th>roc_auc_adapter</th>\n",
       "      <th>roc_auc_base</th>\n",
       "    </tr>\n",
       "  </thead>\n",
       "  <tbody>\n",
       "    <tr>\n",
       "      <th>hans</th>\n",
       "      <td>0.608637</td>\n",
       "      <td>-0.116572</td>\n",
       "      <td>0.327586</td>\n",
       "      <td>58</td>\n",
       "      <td>True</td>\n",
       "      <td>True</td>\n",
       "      <td>0.672414</td>\n",
       "      <td>0.672414</td>\n",
       "      <td>0.572879</td>\n",
       "      <td>0.725209</td>\n",
       "    </tr>\n",
       "    <tr>\n",
       "      <th>sst2</th>\n",
       "      <td>0.736264</td>\n",
       "      <td>-0.147191</td>\n",
       "      <td>0.806452</td>\n",
       "      <td>62</td>\n",
       "      <td>True</td>\n",
       "      <td>True</td>\n",
       "      <td>0.790323</td>\n",
       "      <td>0.790323</td>\n",
       "      <td>0.671176</td>\n",
       "      <td>0.883455</td>\n",
       "    </tr>\n",
       "    <tr>\n",
       "      <th>amazon_polarity</th>\n",
       "      <td>0.777778</td>\n",
       "      <td>-0.189327</td>\n",
       "      <td>0.909091</td>\n",
       "      <td>66</td>\n",
       "      <td>True</td>\n",
       "      <td>True</td>\n",
       "      <td>0.909091</td>\n",
       "      <td>0.909091</td>\n",
       "      <td>0.743421</td>\n",
       "      <td>0.967105</td>\n",
       "    </tr>\n",
       "    <tr>\n",
       "      <th>super_glue:axg</th>\n",
       "      <td>0.598058</td>\n",
       "      <td>-0.2197</td>\n",
       "      <td>0.302395</td>\n",
       "      <td>334</td>\n",
       "      <td>False</td>\n",
       "      <td>False</td>\n",
       "      <td>0.757485</td>\n",
       "      <td>0.757485</td>\n",
       "      <td>0.723048</td>\n",
       "      <td>0.817758</td>\n",
       "    </tr>\n",
       "    <tr>\n",
       "      <th>imdb</th>\n",
       "      <td>0.627591</td>\n",
       "      <td>-0.277353</td>\n",
       "      <td>0.844311</td>\n",
       "      <td>334</td>\n",
       "      <td>False</td>\n",
       "      <td>False</td>\n",
       "      <td>0.844311</td>\n",
       "      <td>0.844311</td>\n",
       "      <td>0.785399</td>\n",
       "      <td>0.904945</td>\n",
       "    </tr>\n",
       "    <tr>\n",
       "      <th>super_glue:boolq</th>\n",
       "      <td>0.64893</td>\n",
       "      <td>-0.283075</td>\n",
       "      <td>0.808383</td>\n",
       "      <td>334</td>\n",
       "      <td>False</td>\n",
       "      <td>False</td>\n",
       "      <td>0.847305</td>\n",
       "      <td>0.847305</td>\n",
       "      <td>0.894935</td>\n",
       "      <td>0.932004</td>\n",
       "    </tr>\n",
       "    <tr>\n",
       "      <th>glue:qnli</th>\n",
       "      <td>0.392045</td>\n",
       "      <td>-0.298305</td>\n",
       "      <td>0.382353</td>\n",
       "      <td>68</td>\n",
       "      <td>True</td>\n",
       "      <td>True</td>\n",
       "      <td>0.647059</td>\n",
       "      <td>0.647059</td>\n",
       "      <td>0.59386</td>\n",
       "      <td>0.690351</td>\n",
       "    </tr>\n",
       "    <tr>\n",
       "      <th>super_glue:rte</th>\n",
       "      <td>0.492424</td>\n",
       "      <td>-0.371706</td>\n",
       "      <td>0.425532</td>\n",
       "      <td>47</td>\n",
       "      <td>True</td>\n",
       "      <td>True</td>\n",
       "      <td>0.765957</td>\n",
       "      <td>0.765957</td>\n",
       "      <td>0.737319</td>\n",
       "      <td>0.86413</td>\n",
       "    </tr>\n",
       "  </tbody>\n",
       "</table>\n",
       "</div>"
      ],
      "text/plain": [
       "                   roc_auc improvement       acc    n in_dist_adapter  \\\n",
       "hans              0.608637   -0.116572  0.327586   58            True   \n",
       "sst2              0.736264   -0.147191  0.806452   62            True   \n",
       "amazon_polarity   0.777778   -0.189327  0.909091   66            True   \n",
       "super_glue:axg    0.598058     -0.2197  0.302395  334           False   \n",
       "imdb              0.627591   -0.277353  0.844311  334           False   \n",
       "super_glue:boolq   0.64893   -0.283075  0.808383  334           False   \n",
       "glue:qnli         0.392045   -0.298305  0.382353   68            True   \n",
       "super_glue:rte    0.492424   -0.371706  0.425532   47            True   \n",
       "\n",
       "                 in_dist_probe   balance balance_proxy roc_auc_adapter  \\\n",
       "hans                      True  0.672414      0.672414        0.572879   \n",
       "sst2                      True  0.790323      0.790323        0.671176   \n",
       "amazon_polarity           True  0.909091      0.909091        0.743421   \n",
       "super_glue:axg           False  0.757485      0.757485        0.723048   \n",
       "imdb                     False  0.844311      0.844311        0.785399   \n",
       "super_glue:boolq         False  0.847305      0.847305        0.894935   \n",
       "glue:qnli                 True  0.647059      0.647059         0.59386   \n",
       "super_glue:rte            True  0.765957      0.765957        0.737319   \n",
       "\n",
       "                 roc_auc_base  \n",
       "hans                 0.725209  \n",
       "sst2                 0.883455  \n",
       "amazon_polarity      0.967105  \n",
       "super_glue:axg       0.817758  \n",
       "imdb                 0.904945  \n",
       "super_glue:boolq     0.932004  \n",
       "glue:qnli            0.690351  \n",
       "super_glue:rte        0.86413  "
      ]
     },
     "execution_count": 8,
     "metadata": {},
     "output_type": "execute_result"
    }
   ],
   "source": [
    "print('logistic regression')\n",
    "evaluator = PlainTruthEval(ds_trainval=ds_val, ds_test=ds_ood, importance_matrix=importance_matrix, skip=skip, stride=stride, decimate=decimate, layers_names=layers)\n",
    "model = TorchLogisticRegression(random_state=42, \n",
    "                                max_iter=10,\n",
    "                                penalty='elasticnet',\n",
    "                                # tol=1e-2,\n",
    "                                solver='saga',\n",
    "                                l1_ratio=0.5,\n",
    "                                 class_weight='balanced',)\n",
    "df_res = evaluator.eval(model)\n",
    "insample_datasets = list(set(ds_val['ds_string_base']))\n",
    "analyze_dfres(df_res, insample_datasets, insample_datasets)"
   ]
  },
  {
   "cell_type": "code",
   "execution_count": 9,
   "metadata": {},
   "outputs": [
    {
     "name": "stdout",
     "output_type": "stream",
     "text": [
      "DummyClassifier\n",
      "⭐ main_metric: 0.500 ⭐ roc_auc for 1002 OOD samples\n"
     ]
    },
    {
     "data": {
      "text/html": [
       "<div>\n",
       "<style scoped>\n",
       "    .dataframe tbody tr th:only-of-type {\n",
       "        vertical-align: middle;\n",
       "    }\n",
       "\n",
       "    .dataframe tbody tr th {\n",
       "        vertical-align: top;\n",
       "    }\n",
       "\n",
       "    .dataframe thead th {\n",
       "        text-align: right;\n",
       "    }\n",
       "</style>\n",
       "<table border=\"1\" class=\"dataframe\">\n",
       "  <thead>\n",
       "    <tr style=\"text-align: right;\">\n",
       "      <th></th>\n",
       "      <th>roc_auc</th>\n",
       "      <th>improvement</th>\n",
       "      <th>acc</th>\n",
       "      <th>n</th>\n",
       "      <th>in_dist_adapter</th>\n",
       "      <th>in_dist_probe</th>\n",
       "      <th>balance</th>\n",
       "      <th>balance_proxy</th>\n",
       "      <th>roc_auc_adapter</th>\n",
       "      <th>roc_auc_base</th>\n",
       "    </tr>\n",
       "  </thead>\n",
       "  <tbody>\n",
       "    <tr>\n",
       "      <th>glue:qnli</th>\n",
       "      <td>0.5</td>\n",
       "      <td>-0.190351</td>\n",
       "      <td>0.647059</td>\n",
       "      <td>68</td>\n",
       "      <td>True</td>\n",
       "      <td>True</td>\n",
       "      <td>0.647059</td>\n",
       "      <td>0.647059</td>\n",
       "      <td>0.59386</td>\n",
       "      <td>0.690351</td>\n",
       "    </tr>\n",
       "    <tr>\n",
       "      <th>hans</th>\n",
       "      <td>0.5</td>\n",
       "      <td>-0.225209</td>\n",
       "      <td>0.672414</td>\n",
       "      <td>58</td>\n",
       "      <td>True</td>\n",
       "      <td>True</td>\n",
       "      <td>0.672414</td>\n",
       "      <td>0.672414</td>\n",
       "      <td>0.572879</td>\n",
       "      <td>0.725209</td>\n",
       "    </tr>\n",
       "    <tr>\n",
       "      <th>super_glue:axg</th>\n",
       "      <td>0.5</td>\n",
       "      <td>-0.317758</td>\n",
       "      <td>0.757485</td>\n",
       "      <td>334</td>\n",
       "      <td>False</td>\n",
       "      <td>False</td>\n",
       "      <td>0.757485</td>\n",
       "      <td>0.757485</td>\n",
       "      <td>0.723048</td>\n",
       "      <td>0.817758</td>\n",
       "    </tr>\n",
       "    <tr>\n",
       "      <th>super_glue:rte</th>\n",
       "      <td>0.5</td>\n",
       "      <td>-0.36413</td>\n",
       "      <td>0.765957</td>\n",
       "      <td>47</td>\n",
       "      <td>True</td>\n",
       "      <td>True</td>\n",
       "      <td>0.765957</td>\n",
       "      <td>0.765957</td>\n",
       "      <td>0.737319</td>\n",
       "      <td>0.86413</td>\n",
       "    </tr>\n",
       "    <tr>\n",
       "      <th>sst2</th>\n",
       "      <td>0.5</td>\n",
       "      <td>-0.383455</td>\n",
       "      <td>0.790323</td>\n",
       "      <td>62</td>\n",
       "      <td>True</td>\n",
       "      <td>True</td>\n",
       "      <td>0.790323</td>\n",
       "      <td>0.790323</td>\n",
       "      <td>0.671176</td>\n",
       "      <td>0.883455</td>\n",
       "    </tr>\n",
       "    <tr>\n",
       "      <th>imdb</th>\n",
       "      <td>0.5</td>\n",
       "      <td>-0.404945</td>\n",
       "      <td>0.844311</td>\n",
       "      <td>334</td>\n",
       "      <td>False</td>\n",
       "      <td>False</td>\n",
       "      <td>0.844311</td>\n",
       "      <td>0.844311</td>\n",
       "      <td>0.785399</td>\n",
       "      <td>0.904945</td>\n",
       "    </tr>\n",
       "    <tr>\n",
       "      <th>super_glue:boolq</th>\n",
       "      <td>0.5</td>\n",
       "      <td>-0.432004</td>\n",
       "      <td>0.847305</td>\n",
       "      <td>334</td>\n",
       "      <td>False</td>\n",
       "      <td>False</td>\n",
       "      <td>0.847305</td>\n",
       "      <td>0.847305</td>\n",
       "      <td>0.894935</td>\n",
       "      <td>0.932004</td>\n",
       "    </tr>\n",
       "    <tr>\n",
       "      <th>amazon_polarity</th>\n",
       "      <td>0.5</td>\n",
       "      <td>-0.467105</td>\n",
       "      <td>0.909091</td>\n",
       "      <td>66</td>\n",
       "      <td>True</td>\n",
       "      <td>True</td>\n",
       "      <td>0.909091</td>\n",
       "      <td>0.909091</td>\n",
       "      <td>0.743421</td>\n",
       "      <td>0.967105</td>\n",
       "    </tr>\n",
       "  </tbody>\n",
       "</table>\n",
       "</div>"
      ],
      "text/plain": [
       "                 roc_auc improvement       acc    n in_dist_adapter  \\\n",
       "glue:qnli            0.5   -0.190351  0.647059   68            True   \n",
       "hans                 0.5   -0.225209  0.672414   58            True   \n",
       "super_glue:axg       0.5   -0.317758  0.757485  334           False   \n",
       "super_glue:rte       0.5    -0.36413  0.765957   47            True   \n",
       "sst2                 0.5   -0.383455  0.790323   62            True   \n",
       "imdb                 0.5   -0.404945  0.844311  334           False   \n",
       "super_glue:boolq     0.5   -0.432004  0.847305  334           False   \n",
       "amazon_polarity      0.5   -0.467105  0.909091   66            True   \n",
       "\n",
       "                 in_dist_probe   balance balance_proxy roc_auc_adapter  \\\n",
       "glue:qnli                 True  0.647059      0.647059         0.59386   \n",
       "hans                      True  0.672414      0.672414        0.572879   \n",
       "super_glue:axg           False  0.757485      0.757485        0.723048   \n",
       "super_glue:rte            True  0.765957      0.765957        0.737319   \n",
       "sst2                      True  0.790323      0.790323        0.671176   \n",
       "imdb                     False  0.844311      0.844311        0.785399   \n",
       "super_glue:boolq         False  0.847305      0.847305        0.894935   \n",
       "amazon_polarity           True  0.909091      0.909091        0.743421   \n",
       "\n",
       "                 roc_auc_base  \n",
       "glue:qnli            0.690351  \n",
       "hans                 0.725209  \n",
       "super_glue:axg       0.817758  \n",
       "super_glue:rte        0.86413  \n",
       "sst2                 0.883455  \n",
       "imdb                 0.904945  \n",
       "super_glue:boolq     0.932004  \n",
       "amazon_polarity      0.967105  "
      ]
     },
     "metadata": {},
     "output_type": "display_data"
    },
    {
     "data": {
      "text/html": [
       "<div>\n",
       "<style scoped>\n",
       "    .dataframe tbody tr th:only-of-type {\n",
       "        vertical-align: middle;\n",
       "    }\n",
       "\n",
       "    .dataframe tbody tr th {\n",
       "        vertical-align: top;\n",
       "    }\n",
       "\n",
       "    .dataframe thead th {\n",
       "        text-align: right;\n",
       "    }\n",
       "</style>\n",
       "<table border=\"1\" class=\"dataframe\">\n",
       "  <thead>\n",
       "    <tr style=\"text-align: right;\">\n",
       "      <th></th>\n",
       "      <th>roc_auc</th>\n",
       "      <th>improvement</th>\n",
       "      <th>acc</th>\n",
       "      <th>n</th>\n",
       "      <th>in_dist_adapter</th>\n",
       "      <th>in_dist_probe</th>\n",
       "      <th>balance</th>\n",
       "      <th>balance_proxy</th>\n",
       "      <th>roc_auc_adapter</th>\n",
       "      <th>roc_auc_base</th>\n",
       "    </tr>\n",
       "  </thead>\n",
       "  <tbody>\n",
       "    <tr>\n",
       "      <th>glue:qnli</th>\n",
       "      <td>0.5</td>\n",
       "      <td>-0.190351</td>\n",
       "      <td>0.647059</td>\n",
       "      <td>68</td>\n",
       "      <td>True</td>\n",
       "      <td>True</td>\n",
       "      <td>0.647059</td>\n",
       "      <td>0.647059</td>\n",
       "      <td>0.59386</td>\n",
       "      <td>0.690351</td>\n",
       "    </tr>\n",
       "    <tr>\n",
       "      <th>hans</th>\n",
       "      <td>0.5</td>\n",
       "      <td>-0.225209</td>\n",
       "      <td>0.672414</td>\n",
       "      <td>58</td>\n",
       "      <td>True</td>\n",
       "      <td>True</td>\n",
       "      <td>0.672414</td>\n",
       "      <td>0.672414</td>\n",
       "      <td>0.572879</td>\n",
       "      <td>0.725209</td>\n",
       "    </tr>\n",
       "    <tr>\n",
       "      <th>super_glue:axg</th>\n",
       "      <td>0.5</td>\n",
       "      <td>-0.317758</td>\n",
       "      <td>0.757485</td>\n",
       "      <td>334</td>\n",
       "      <td>False</td>\n",
       "      <td>False</td>\n",
       "      <td>0.757485</td>\n",
       "      <td>0.757485</td>\n",
       "      <td>0.723048</td>\n",
       "      <td>0.817758</td>\n",
       "    </tr>\n",
       "    <tr>\n",
       "      <th>super_glue:rte</th>\n",
       "      <td>0.5</td>\n",
       "      <td>-0.36413</td>\n",
       "      <td>0.765957</td>\n",
       "      <td>47</td>\n",
       "      <td>True</td>\n",
       "      <td>True</td>\n",
       "      <td>0.765957</td>\n",
       "      <td>0.765957</td>\n",
       "      <td>0.737319</td>\n",
       "      <td>0.86413</td>\n",
       "    </tr>\n",
       "    <tr>\n",
       "      <th>sst2</th>\n",
       "      <td>0.5</td>\n",
       "      <td>-0.383455</td>\n",
       "      <td>0.790323</td>\n",
       "      <td>62</td>\n",
       "      <td>True</td>\n",
       "      <td>True</td>\n",
       "      <td>0.790323</td>\n",
       "      <td>0.790323</td>\n",
       "      <td>0.671176</td>\n",
       "      <td>0.883455</td>\n",
       "    </tr>\n",
       "    <tr>\n",
       "      <th>imdb</th>\n",
       "      <td>0.5</td>\n",
       "      <td>-0.404945</td>\n",
       "      <td>0.844311</td>\n",
       "      <td>334</td>\n",
       "      <td>False</td>\n",
       "      <td>False</td>\n",
       "      <td>0.844311</td>\n",
       "      <td>0.844311</td>\n",
       "      <td>0.785399</td>\n",
       "      <td>0.904945</td>\n",
       "    </tr>\n",
       "    <tr>\n",
       "      <th>super_glue:boolq</th>\n",
       "      <td>0.5</td>\n",
       "      <td>-0.432004</td>\n",
       "      <td>0.847305</td>\n",
       "      <td>334</td>\n",
       "      <td>False</td>\n",
       "      <td>False</td>\n",
       "      <td>0.847305</td>\n",
       "      <td>0.847305</td>\n",
       "      <td>0.894935</td>\n",
       "      <td>0.932004</td>\n",
       "    </tr>\n",
       "    <tr>\n",
       "      <th>amazon_polarity</th>\n",
       "      <td>0.5</td>\n",
       "      <td>-0.467105</td>\n",
       "      <td>0.909091</td>\n",
       "      <td>66</td>\n",
       "      <td>True</td>\n",
       "      <td>True</td>\n",
       "      <td>0.909091</td>\n",
       "      <td>0.909091</td>\n",
       "      <td>0.743421</td>\n",
       "      <td>0.967105</td>\n",
       "    </tr>\n",
       "  </tbody>\n",
       "</table>\n",
       "</div>"
      ],
      "text/plain": [
       "                 roc_auc improvement       acc    n in_dist_adapter  \\\n",
       "glue:qnli            0.5   -0.190351  0.647059   68            True   \n",
       "hans                 0.5   -0.225209  0.672414   58            True   \n",
       "super_glue:axg       0.5   -0.317758  0.757485  334           False   \n",
       "super_glue:rte       0.5    -0.36413  0.765957   47            True   \n",
       "sst2                 0.5   -0.383455  0.790323   62            True   \n",
       "imdb                 0.5   -0.404945  0.844311  334           False   \n",
       "super_glue:boolq     0.5   -0.432004  0.847305  334           False   \n",
       "amazon_polarity      0.5   -0.467105  0.909091   66            True   \n",
       "\n",
       "                 in_dist_probe   balance balance_proxy roc_auc_adapter  \\\n",
       "glue:qnli                 True  0.647059      0.647059         0.59386   \n",
       "hans                      True  0.672414      0.672414        0.572879   \n",
       "super_glue:axg           False  0.757485      0.757485        0.723048   \n",
       "super_glue:rte            True  0.765957      0.765957        0.737319   \n",
       "sst2                      True  0.790323      0.790323        0.671176   \n",
       "imdb                     False  0.844311      0.844311        0.785399   \n",
       "super_glue:boolq         False  0.847305      0.847305        0.894935   \n",
       "amazon_polarity           True  0.909091      0.909091        0.743421   \n",
       "\n",
       "                 roc_auc_base  \n",
       "glue:qnli            0.690351  \n",
       "hans                 0.725209  \n",
       "super_glue:axg       0.817758  \n",
       "super_glue:rte        0.86413  \n",
       "sst2                 0.883455  \n",
       "imdb                 0.904945  \n",
       "super_glue:boolq     0.932004  \n",
       "amazon_polarity      0.967105  "
      ]
     },
     "execution_count": 9,
     "metadata": {},
     "output_type": "execute_result"
    }
   ],
   "source": [
    "print('DummyClassifier')\n",
    "baseline_model = TorchDummyClassifier(random_state=42, strategy=\"most_frequent\")\n",
    "df_res2 = evaluator.eval(baseline_model)\n",
    "insample_datasets = list(set(ds_val['ds_string_base']))\n",
    "analyze_dfres(df_res2, insample_datasets, insample_datasets)"
   ]
  },
  {
   "cell_type": "markdown",
   "metadata": {},
   "source": [
    "# Other models"
   ]
  },
  {
   "cell_type": "code",
   "execution_count": 10,
   "metadata": {},
   "outputs": [],
   "source": [
    "from src.probes.direct_bce_ranking import PLSK_BCE, PLSKWrapper\n",
    "from src.eval.pl_sk import RankingTruthEval, DistTruthEval#, RankingObeyEval, PlainObeyEval\n",
    "import numpy as np\n",
    "\n",
    "\n",
    "max_epochs = 10\n",
    "verbose = True\n",
    "batch_size=16"
   ]
  },
  {
   "cell_type": "code",
   "execution_count": 11,
   "metadata": {},
   "outputs": [],
   "source": [
    "# Unit test\n",
    "for cls in [RankingTruthEval, DistTruthEval]:\n",
    "    evaluator = cls(ds_trainval=ds_val, ds_test=ds_ood, importance_matrix=importance_matrix)\n",
    "    proxy = evaluator.ds2proxy(ds_val)\n",
    "    y1 = evaluator.proxy2label(proxy, ds_val)\n",
    "    np.testing.assert_array_equal(y1==True, ds_val['label_true_base'], err_msg=f\"undo_distance_truth_telling failed for {cls}\")"
   ]
  },
  {
   "cell_type": "code",
   "execution_count": null,
   "metadata": {},
   "outputs": [],
   "source": []
  },
  {
   "cell_type": "code",
   "execution_count": 12,
   "metadata": {},
   "outputs": [],
   "source": [
    "# # Unit test\n",
    "# for cls in [RankingObeyEval, PlainObeyEval]:\n",
    "#     evaluator = cls(ds_trainval=ds_val, ds_test=ds_oos, importance_matrix=importance_matrix)\n",
    "#     proxy = evaluator.ds2proxy(ds_val)\n",
    "#     y1 = evaluator.proxy2label(proxy, ds_val)\n",
    "#     np.testing.assert_array_equal(y1==True, ds_val['label_instructed_base'], err_msg=f\"undo_distance_truth_telling failed for {cls}\")"
   ]
  },
  {
   "cell_type": "markdown",
   "metadata": {},
   "source": [
    "### Binary cross entropy"
   ]
  },
  {
   "cell_type": "code",
   "execution_count": 13,
   "metadata": {},
   "outputs": [
    {
     "name": "stdout",
     "output_type": "stream",
     "text": [
      "Binary cross entropy\n"
     ]
    },
    {
     "name": "stderr",
     "output_type": "stream",
     "text": [
      "Trainer will use only 1 of 2 GPUs because it is running inside an interactive / notebook environment. You may try to set `Trainer(devices=2)` but please note that multi-GPU inside interactive / notebook environments is considered experimental and unstable. Your mileage may vary.\n",
      "GPU available: True (cuda), used: True\n",
      "TPU available: False, using: 0 TPU cores\n",
      "IPU available: False, using: 0 IPUs\n",
      "HPU available: False, using: 0 HPUs\n",
      "/media/wassname/SGIronWolf/projects5/elk/sgd_probes_are_lie_detectors/.venv/lib/python3.11/site-packages/lightning/pytorch/trainer/connectors/logger_connector/logger_connector.py:67: Starting from v1.9.0, `tensorboardX` has been removed as a dependency of the `lightning.pytorch` package, due to potential conflicts with other packages in the ML ecosystem. For this reason, `logger=True` will use `CSVLogger` as the default logger, unless the `tensorboard` or `tensorboardX` packages are found. Please `pip install lightning[extra]` or one of them to enable TensorBoard support by default\n",
      "You are using a CUDA device ('NVIDIA GeForce RTX 3090') that has Tensor Cores. To properly utilize them, you should set `torch.set_float32_matmul_precision('medium' | 'high')` which will trade-off precision for performance. For more details, read https://pytorch.org/docs/stable/generated/torch.set_float32_matmul_precision.html#torch.set_float32_matmul_precision\n",
      "LOCAL_RANK: 0 - CUDA_VISIBLE_DEVICES: [0,1]\n",
      "\n",
      "  | Name  | Type      | Params\n",
      "------------------------------------\n",
      "0 | model | HSModel3d | 754 K \n",
      "------------------------------------\n",
      "754 K     Trainable params\n",
      "0         Non-trainable params\n",
      "754 K     Total params\n",
      "3.017     Total estimated model params size (MB)\n"
     ]
    },
    {
     "data": {
      "application/vnd.jupyter.widget-view+json": {
       "model_id": "e2e396fe93454b74ad3ccc9e6c24ac3e",
       "version_major": 2,
       "version_minor": 0
      },
      "text/plain": [
       "Sanity Checking: |          | 0/? [00:00<?, ?it/s]"
      ]
     },
     "metadata": {},
     "output_type": "display_data"
    },
    {
     "name": "stderr",
     "output_type": "stream",
     "text": [
      "/media/wassname/SGIronWolf/projects5/elk/sgd_probes_are_lie_detectors/.venv/lib/python3.11/site-packages/lightning/pytorch/trainer/connectors/data_connector.py:441: The 'val_dataloader' does not have many workers which may be a bottleneck. Consider increasing the value of the `num_workers` argument` to `num_workers=23` in the `DataLoader` to improve performance.\n",
      "/media/wassname/SGIronWolf/projects5/elk/sgd_probes_are_lie_detectors/.venv/lib/python3.11/site-packages/torch/nn/modules/conv.py:306: UserWarning: Using padding='same' with even kernel lengths and odd dilation may require a zero-padded copy of the input be created (Triggered internally at ../aten/src/ATen/native/Convolution.cpp:1008.)\n",
      "  return F.conv1d(input, weight, bias, self.stride,\n",
      "/media/wassname/SGIronWolf/projects5/elk/sgd_probes_are_lie_detectors/.venv/lib/python3.11/site-packages/lightning/pytorch/trainer/connectors/data_connector.py:441: The 'train_dataloader' does not have many workers which may be a bottleneck. Consider increasing the value of the `num_workers` argument` to `num_workers=23` in the `DataLoader` to improve performance.\n"
     ]
    },
    {
     "data": {
      "application/vnd.jupyter.widget-view+json": {
       "model_id": "0f6e9d31f48640a79fced45697a61347",
       "version_major": 2,
       "version_minor": 0
      },
      "text/plain": [
       "Training: |          | 0/? [00:00<?, ?it/s]"
      ]
     },
     "metadata": {},
     "output_type": "display_data"
    },
    {
     "data": {
      "application/vnd.jupyter.widget-view+json": {
       "model_id": "2ca9fc5f646948c3a7c1697fff8f1cad",
       "version_major": 2,
       "version_minor": 0
      },
      "text/plain": [
       "Validation: |          | 0/? [00:00<?, ?it/s]"
      ]
     },
     "metadata": {},
     "output_type": "display_data"
    },
    {
     "data": {
      "application/vnd.jupyter.widget-view+json": {
       "model_id": "54e7c9453a1a47a789222553d1860b62",
       "version_major": 2,
       "version_minor": 0
      },
      "text/plain": [
       "Validation: |          | 0/? [00:00<?, ?it/s]"
      ]
     },
     "metadata": {},
     "output_type": "display_data"
    },
    {
     "data": {
      "application/vnd.jupyter.widget-view+json": {
       "model_id": "25b5e8009335414faa32ff814aa0afbc",
       "version_major": 2,
       "version_minor": 0
      },
      "text/plain": [
       "Validation: |          | 0/? [00:00<?, ?it/s]"
      ]
     },
     "metadata": {},
     "output_type": "display_data"
    },
    {
     "data": {
      "application/vnd.jupyter.widget-view+json": {
       "model_id": "b989d562cf244c9baa49ac4fc5ad0cbf",
       "version_major": 2,
       "version_minor": 0
      },
      "text/plain": [
       "Validation: |          | 0/? [00:00<?, ?it/s]"
      ]
     },
     "metadata": {},
     "output_type": "display_data"
    },
    {
     "data": {
      "application/vnd.jupyter.widget-view+json": {
       "model_id": "1f3a912b46074d338ac94e7da1669e24",
       "version_major": 2,
       "version_minor": 0
      },
      "text/plain": [
       "Validation: |          | 0/? [00:00<?, ?it/s]"
      ]
     },
     "metadata": {},
     "output_type": "display_data"
    },
    {
     "data": {
      "application/vnd.jupyter.widget-view+json": {
       "model_id": "fc28693c4fb84ab18dc98614c50faafd",
       "version_major": 2,
       "version_minor": 0
      },
      "text/plain": [
       "Validation: |          | 0/? [00:00<?, ?it/s]"
      ]
     },
     "metadata": {},
     "output_type": "display_data"
    },
    {
     "data": {
      "application/vnd.jupyter.widget-view+json": {
       "model_id": "4234fb98c8644b05a0aaa3ae4a5b6857",
       "version_major": 2,
       "version_minor": 0
      },
      "text/plain": [
       "Validation: |          | 0/? [00:00<?, ?it/s]"
      ]
     },
     "metadata": {},
     "output_type": "display_data"
    },
    {
     "data": {
      "application/vnd.jupyter.widget-view+json": {
       "model_id": "2d5d651c5d8f4b3fb8d83ad10049985c",
       "version_major": 2,
       "version_minor": 0
      },
      "text/plain": [
       "Validation: |          | 0/? [00:00<?, ?it/s]"
      ]
     },
     "metadata": {},
     "output_type": "display_data"
    },
    {
     "data": {
      "application/vnd.jupyter.widget-view+json": {
       "model_id": "157228ea5ea9435382910b35f09fb61e",
       "version_major": 2,
       "version_minor": 0
      },
      "text/plain": [
       "Validation: |          | 0/? [00:00<?, ?it/s]"
      ]
     },
     "metadata": {},
     "output_type": "display_data"
    },
    {
     "data": {
      "application/vnd.jupyter.widget-view+json": {
       "model_id": "37bbda35936441dba6d8b2256f3efb86",
       "version_major": 2,
       "version_minor": 0
      },
      "text/plain": [
       "Validation: |          | 0/? [00:00<?, ?it/s]"
      ]
     },
     "metadata": {},
     "output_type": "display_data"
    },
    {
     "name": "stderr",
     "output_type": "stream",
     "text": [
      "`Trainer.fit` stopped: `max_epochs=10` reached.\n"
     ]
    },
    {
     "data": {
      "image/png": "[encoded data removed]",
      "text/plain": [
       "<Figure size 800x550 with 1 Axes>"
      ]
     },
     "metadata": {},
     "output_type": "display_data"
    },
    {
     "data": {
      "image/png": "[encoded data removed]",
      "text/plain": [
       "<Figure size 800x550 with 1 Axes>"
      ]
     },
     "metadata": {},
     "output_type": "display_data"
    },
    {
     "name": "stderr",
     "output_type": "stream",
     "text": [
      "LOCAL_RANK: 0 - CUDA_VISIBLE_DEVICES: [0,1]\n",
      "/media/wassname/SGIronWolf/projects5/elk/sgd_probes_are_lie_detectors/.venv/lib/python3.11/site-packages/lightning/pytorch/trainer/connectors/data_connector.py:441: The 'predict_dataloader' does not have many workers which may be a bottleneck. Consider increasing the value of the `num_workers` argument` to `num_workers=23` in the `DataLoader` to improve performance.\n"
     ]
    },
    {
     "data": {
      "application/vnd.jupyter.widget-view+json": {
       "model_id": "68dabc94fa8c4cf588498600fd231655",
       "version_major": 2,
       "version_minor": 0
      },
      "text/plain": [
       "Predicting: |          | 0/? [00:00<?, ?it/s]"
      ]
     },
     "metadata": {},
     "output_type": "display_data"
    },
    {
     "name": "stderr",
     "output_type": "stream",
     "text": [
      "LOCAL_RANK: 0 - CUDA_VISIBLE_DEVICES: [0,1]\n",
      "/media/wassname/SGIronWolf/projects5/elk/sgd_probes_are_lie_detectors/.venv/lib/python3.11/site-packages/lightning/pytorch/trainer/connectors/data_connector.py:441: The 'predict_dataloader' does not have many workers which may be a bottleneck. Consider increasing the value of the `num_workers` argument` to `num_workers=23` in the `DataLoader` to improve performance.\n"
     ]
    },
    {
     "data": {
      "application/vnd.jupyter.widget-view+json": {
       "model_id": "1c16cc49675a434881505b7f6f7b87aa",
       "version_major": 2,
       "version_minor": 0
      },
      "text/plain": [
       "Predicting: |          | 0/? [00:00<?, ?it/s]"
      ]
     },
     "metadata": {},
     "output_type": "display_data"
    },
    {
     "name": "stderr",
     "output_type": "stream",
     "text": [
      "LOCAL_RANK: 0 - CUDA_VISIBLE_DEVICES: [0,1]\n",
      "/media/wassname/SGIronWolf/projects5/elk/sgd_probes_are_lie_detectors/.venv/lib/python3.11/site-packages/lightning/pytorch/trainer/connectors/data_connector.py:441: The 'predict_dataloader' does not have many workers which may be a bottleneck. Consider increasing the value of the `num_workers` argument` to `num_workers=23` in the `DataLoader` to improve performance.\n"
     ]
    },
    {
     "data": {
      "application/vnd.jupyter.widget-view+json": {
       "model_id": "744b738718fb4dbd9dbe3b85af37a5de",
       "version_major": 2,
       "version_minor": 0
      },
      "text/plain": [
       "Predicting: |          | 0/? [00:00<?, ?it/s]"
      ]
     },
     "metadata": {},
     "output_type": "display_data"
    },
    {
     "name": "stdout",
     "output_type": "stream",
     "text": [
      "⭐ main_metric: 0.773 ⭐ roc_auc for 1002 OOD samples\n"
     ]
    },
    {
     "data": {
      "text/html": [
       "<div>\n",
       "<style scoped>\n",
       "    .dataframe tbody tr th:only-of-type {\n",
       "        vertical-align: middle;\n",
       "    }\n",
       "\n",
       "    .dataframe tbody tr th {\n",
       "        vertical-align: top;\n",
       "    }\n",
       "\n",
       "    .dataframe thead th {\n",
       "        text-align: right;\n",
       "    }\n",
       "</style>\n",
       "<table border=\"1\" class=\"dataframe\">\n",
       "  <thead>\n",
       "    <tr style=\"text-align: right;\">\n",
       "      <th></th>\n",
       "      <th>roc_auc</th>\n",
       "      <th>improvement</th>\n",
       "      <th>acc</th>\n",
       "      <th>n</th>\n",
       "      <th>in_dist_adapter</th>\n",
       "      <th>in_dist_probe</th>\n",
       "      <th>balance</th>\n",
       "      <th>balance_proxy</th>\n",
       "      <th>roc_auc_adapter</th>\n",
       "      <th>roc_auc_base</th>\n",
       "    </tr>\n",
       "  </thead>\n",
       "  <tbody>\n",
       "    <tr>\n",
       "      <th>hans</th>\n",
       "      <td>0.70908</td>\n",
       "      <td>-0.016129</td>\n",
       "      <td>0.706897</td>\n",
       "      <td>58</td>\n",
       "      <td>True</td>\n",
       "      <td>True</td>\n",
       "      <td>0.465517</td>\n",
       "      <td>0.706897</td>\n",
       "      <td>0.572879</td>\n",
       "      <td>0.725209</td>\n",
       "    </tr>\n",
       "    <tr>\n",
       "      <th>super_glue:axg</th>\n",
       "      <td>0.754594</td>\n",
       "      <td>-0.063164</td>\n",
       "      <td>0.751497</td>\n",
       "      <td>334</td>\n",
       "      <td>False</td>\n",
       "      <td>False</td>\n",
       "      <td>0.51497</td>\n",
       "      <td>0.751497</td>\n",
       "      <td>0.723048</td>\n",
       "      <td>0.817758</td>\n",
       "    </tr>\n",
       "    <tr>\n",
       "      <th>super_glue:rte</th>\n",
       "      <td>0.78442</td>\n",
       "      <td>-0.07971</td>\n",
       "      <td>0.787234</td>\n",
       "      <td>47</td>\n",
       "      <td>True</td>\n",
       "      <td>True</td>\n",
       "      <td>0.489362</td>\n",
       "      <td>0.787234</td>\n",
       "      <td>0.737319</td>\n",
       "      <td>0.86413</td>\n",
       "    </tr>\n",
       "    <tr>\n",
       "      <th>super_glue:boolq</th>\n",
       "      <td>0.824784</td>\n",
       "      <td>-0.10722</td>\n",
       "      <td>0.826347</td>\n",
       "      <td>334</td>\n",
       "      <td>False</td>\n",
       "      <td>False</td>\n",
       "      <td>0.479042</td>\n",
       "      <td>0.826347</td>\n",
       "      <td>0.894935</td>\n",
       "      <td>0.932004</td>\n",
       "    </tr>\n",
       "    <tr>\n",
       "      <th>glue:qnli</th>\n",
       "      <td>0.57807</td>\n",
       "      <td>-0.112281</td>\n",
       "      <td>0.602941</td>\n",
       "      <td>68</td>\n",
       "      <td>True</td>\n",
       "      <td>True</td>\n",
       "      <td>0.558824</td>\n",
       "      <td>0.602941</td>\n",
       "      <td>0.59386</td>\n",
       "      <td>0.690351</td>\n",
       "    </tr>\n",
       "    <tr>\n",
       "      <th>imdb</th>\n",
       "      <td>0.742515</td>\n",
       "      <td>-0.16243</td>\n",
       "      <td>0.742515</td>\n",
       "      <td>334</td>\n",
       "      <td>False</td>\n",
       "      <td>False</td>\n",
       "      <td>0.5</td>\n",
       "      <td>0.742515</td>\n",
       "      <td>0.785399</td>\n",
       "      <td>0.904945</td>\n",
       "    </tr>\n",
       "    <tr>\n",
       "      <th>sst2</th>\n",
       "      <td>0.677419</td>\n",
       "      <td>-0.206035</td>\n",
       "      <td>0.677419</td>\n",
       "      <td>62</td>\n",
       "      <td>True</td>\n",
       "      <td>True</td>\n",
       "      <td>0.5</td>\n",
       "      <td>0.677419</td>\n",
       "      <td>0.671176</td>\n",
       "      <td>0.883455</td>\n",
       "    </tr>\n",
       "    <tr>\n",
       "      <th>amazon_polarity</th>\n",
       "      <td>0.744361</td>\n",
       "      <td>-0.222744</td>\n",
       "      <td>0.727273</td>\n",
       "      <td>66</td>\n",
       "      <td>True</td>\n",
       "      <td>True</td>\n",
       "      <td>0.575758</td>\n",
       "      <td>0.727273</td>\n",
       "      <td>0.743421</td>\n",
       "      <td>0.967105</td>\n",
       "    </tr>\n",
       "  </tbody>\n",
       "</table>\n",
       "</div>"
      ],
      "text/plain": [
       "                   roc_auc improvement       acc    n in_dist_adapter  \\\n",
       "hans               0.70908   -0.016129  0.706897   58            True   \n",
       "super_glue:axg    0.754594   -0.063164  0.751497  334           False   \n",
       "super_glue:rte     0.78442    -0.07971  0.787234   47            True   \n",
       "super_glue:boolq  0.824784    -0.10722  0.826347  334           False   \n",
       "glue:qnli          0.57807   -0.112281  0.602941   68            True   \n",
       "imdb              0.742515    -0.16243  0.742515  334           False   \n",
       "sst2              0.677419   -0.206035  0.677419   62            True   \n",
       "amazon_polarity   0.744361   -0.222744  0.727273   66            True   \n",
       "\n",
       "                 in_dist_probe   balance balance_proxy roc_auc_adapter  \\\n",
       "hans                      True  0.465517      0.706897        0.572879   \n",
       "super_glue:axg           False   0.51497      0.751497        0.723048   \n",
       "super_glue:rte            True  0.489362      0.787234        0.737319   \n",
       "super_glue:boolq         False  0.479042      0.826347        0.894935   \n",
       "glue:qnli                 True  0.558824      0.602941         0.59386   \n",
       "imdb                     False       0.5      0.742515        0.785399   \n",
       "sst2                      True       0.5      0.677419        0.671176   \n",
       "amazon_polarity           True  0.575758      0.727273        0.743421   \n",
       "\n",
       "                 roc_auc_base  \n",
       "hans                 0.725209  \n",
       "super_glue:axg       0.817758  \n",
       "super_glue:rte        0.86413  \n",
       "super_glue:boolq     0.932004  \n",
       "glue:qnli            0.690351  \n",
       "imdb                 0.904945  \n",
       "sst2                 0.883455  \n",
       "amazon_polarity      0.967105  "
      ]
     },
     "metadata": {},
     "output_type": "display_data"
    },
    {
     "data": {
      "text/html": [
       "<div>\n",
       "<style scoped>\n",
       "    .dataframe tbody tr th:only-of-type {\n",
       "        vertical-align: middle;\n",
       "    }\n",
       "\n",
       "    .dataframe tbody tr th {\n",
       "        vertical-align: top;\n",
       "    }\n",
       "\n",
       "    .dataframe thead th {\n",
       "        text-align: right;\n",
       "    }\n",
       "</style>\n",
       "<table border=\"1\" class=\"dataframe\">\n",
       "  <thead>\n",
       "    <tr style=\"text-align: right;\">\n",
       "      <th></th>\n",
       "      <th>roc_auc</th>\n",
       "      <th>improvement</th>\n",
       "      <th>acc</th>\n",
       "      <th>n</th>\n",
       "      <th>in_dist_adapter</th>\n",
       "      <th>in_dist_probe</th>\n",
       "      <th>balance</th>\n",
       "      <th>balance_proxy</th>\n",
       "      <th>roc_auc_adapter</th>\n",
       "      <th>roc_auc_base</th>\n",
       "    </tr>\n",
       "  </thead>\n",
       "  <tbody>\n",
       "    <tr>\n",
       "      <th>hans</th>\n",
       "      <td>0.70908</td>\n",
       "      <td>-0.016129</td>\n",
       "      <td>0.706897</td>\n",
       "      <td>58</td>\n",
       "      <td>True</td>\n",
       "      <td>True</td>\n",
       "      <td>0.465517</td>\n",
       "      <td>0.706897</td>\n",
       "      <td>0.572879</td>\n",
       "      <td>0.725209</td>\n",
       "    </tr>\n",
       "    <tr>\n",
       "      <th>super_glue:axg</th>\n",
       "      <td>0.754594</td>\n",
       "      <td>-0.063164</td>\n",
       "      <td>0.751497</td>\n",
       "      <td>334</td>\n",
       "      <td>False</td>\n",
       "      <td>False</td>\n",
       "      <td>0.51497</td>\n",
       "      <td>0.751497</td>\n",
       "      <td>0.723048</td>\n",
       "      <td>0.817758</td>\n",
       "    </tr>\n",
       "    <tr>\n",
       "      <th>super_glue:rte</th>\n",
       "      <td>0.78442</td>\n",
       "      <td>-0.07971</td>\n",
       "      <td>0.787234</td>\n",
       "      <td>47</td>\n",
       "      <td>True</td>\n",
       "      <td>True</td>\n",
       "      <td>0.489362</td>\n",
       "      <td>0.787234</td>\n",
       "      <td>0.737319</td>\n",
       "      <td>0.86413</td>\n",
       "    </tr>\n",
       "    <tr>\n",
       "      <th>super_glue:boolq</th>\n",
       "      <td>0.824784</td>\n",
       "      <td>-0.10722</td>\n",
       "      <td>0.826347</td>\n",
       "      <td>334</td>\n",
       "      <td>False</td>\n",
       "      <td>False</td>\n",
       "      <td>0.479042</td>\n",
       "      <td>0.826347</td>\n",
       "      <td>0.894935</td>\n",
       "      <td>0.932004</td>\n",
       "    </tr>\n",
       "    <tr>\n",
       "      <th>glue:qnli</th>\n",
       "      <td>0.57807</td>\n",
       "      <td>-0.112281</td>\n",
       "      <td>0.602941</td>\n",
       "      <td>68</td>\n",
       "      <td>True</td>\n",
       "      <td>True</td>\n",
       "      <td>0.558824</td>\n",
       "      <td>0.602941</td>\n",
       "      <td>0.59386</td>\n",
       "      <td>0.690351</td>\n",
       "    </tr>\n",
       "    <tr>\n",
       "      <th>imdb</th>\n",
       "      <td>0.742515</td>\n",
       "      <td>-0.16243</td>\n",
       "      <td>0.742515</td>\n",
       "      <td>334</td>\n",
       "      <td>False</td>\n",
       "      <td>False</td>\n",
       "      <td>0.5</td>\n",
       "      <td>0.742515</td>\n",
       "      <td>0.785399</td>\n",
       "      <td>0.904945</td>\n",
       "    </tr>\n",
       "    <tr>\n",
       "      <th>sst2</th>\n",
       "      <td>0.677419</td>\n",
       "      <td>-0.206035</td>\n",
       "      <td>0.677419</td>\n",
       "      <td>62</td>\n",
       "      <td>True</td>\n",
       "      <td>True</td>\n",
       "      <td>0.5</td>\n",
       "      <td>0.677419</td>\n",
       "      <td>0.671176</td>\n",
       "      <td>0.883455</td>\n",
       "    </tr>\n",
       "    <tr>\n",
       "      <th>amazon_polarity</th>\n",
       "      <td>0.744361</td>\n",
       "      <td>-0.222744</td>\n",
       "      <td>0.727273</td>\n",
       "      <td>66</td>\n",
       "      <td>True</td>\n",
       "      <td>True</td>\n",
       "      <td>0.575758</td>\n",
       "      <td>0.727273</td>\n",
       "      <td>0.743421</td>\n",
       "      <td>0.967105</td>\n",
       "    </tr>\n",
       "  </tbody>\n",
       "</table>\n",
       "</div>"
      ],
      "text/plain": [
       "                   roc_auc improvement       acc    n in_dist_adapter  \\\n",
       "hans               0.70908   -0.016129  0.706897   58            True   \n",
       "super_glue:axg    0.754594   -0.063164  0.751497  334           False   \n",
       "super_glue:rte     0.78442    -0.07971  0.787234   47            True   \n",
       "super_glue:boolq  0.824784    -0.10722  0.826347  334           False   \n",
       "glue:qnli          0.57807   -0.112281  0.602941   68            True   \n",
       "imdb              0.742515    -0.16243  0.742515  334           False   \n",
       "sst2              0.677419   -0.206035  0.677419   62            True   \n",
       "amazon_polarity   0.744361   -0.222744  0.727273   66            True   \n",
       "\n",
       "                 in_dist_probe   balance balance_proxy roc_auc_adapter  \\\n",
       "hans                      True  0.465517      0.706897        0.572879   \n",
       "super_glue:axg           False   0.51497      0.751497        0.723048   \n",
       "super_glue:rte            True  0.489362      0.787234        0.737319   \n",
       "super_glue:boolq         False  0.479042      0.826347        0.894935   \n",
       "glue:qnli                 True  0.558824      0.602941         0.59386   \n",
       "imdb                     False       0.5      0.742515        0.785399   \n",
       "sst2                      True       0.5      0.677419        0.671176   \n",
       "amazon_polarity           True  0.575758      0.727273        0.743421   \n",
       "\n",
       "                 roc_auc_base  \n",
       "hans                 0.725209  \n",
       "super_glue:axg       0.817758  \n",
       "super_glue:rte        0.86413  \n",
       "super_glue:boolq     0.932004  \n",
       "glue:qnli            0.690351  \n",
       "imdb                 0.904945  \n",
       "sst2                 0.883455  \n",
       "amazon_polarity      0.967105  "
      ]
     },
     "execution_count": 13,
     "metadata": {},
     "output_type": "execute_result"
    }
   ],
   "source": [
    "print('Binary cross entropy')\n",
    "evaluator = RankingTruthEval(ds_trainval=ds_val, ds_test=ds_ood, importance_matrix=importance_matrix, skip=skip, stride=stride, decimate=decimate, layers_names=layers)\n",
    "steps_per_epoch = int(len(ds_val)*0.7//batch_size)\n",
    "\n",
    "_X, _ = evaluator.ds2xy(ds_val)\n",
    "c_in = _X.shape[1:]\n",
    "\n",
    "\n",
    "pl_model = PLSK_BCE(c_in=c_in, steps_per_epoch=steps_per_epoch, max_epochs=max_epochs, dropout=0.25, hs=16, depth=3)\n",
    "model = PLSKWrapper(pl_model, verbose=verbose, max_epochs=max_epochs)\n",
    "df_res = evaluator.eval(model)\n",
    "insample_datasets = list(set(ds_val['ds_string_base']))\n",
    "analyze_dfres(df_res, insample_datasets, insample_datasets)"
   ]
  },
  {
   "cell_type": "markdown",
   "metadata": {},
   "source": [
    "### MSE Ranking"
   ]
  },
  {
   "cell_type": "code",
   "execution_count": 14,
   "metadata": {},
   "outputs": [
    {
     "name": "stdout",
     "output_type": "stream",
     "text": [
      "MSE Ranking\n"
     ]
    },
    {
     "name": "stderr",
     "output_type": "stream",
     "text": [
      "Trainer will use only 1 of 2 GPUs because it is running inside an interactive / notebook environment. You may try to set `Trainer(devices=2)` but please note that multi-GPU inside interactive / notebook environments is considered experimental and unstable. Your mileage may vary.\n",
      "GPU available: True (cuda), used: True\n",
      "TPU available: False, using: 0 TPU cores\n",
      "IPU available: False, using: 0 IPUs\n",
      "HPU available: False, using: 0 HPUs\n",
      "LOCAL_RANK: 0 - CUDA_VISIBLE_DEVICES: [0,1]\n",
      "\n",
      "  | Name  | Type      | Params\n",
      "------------------------------------\n",
      "0 | model | HSModel2d | 199 K \n",
      "------------------------------------\n",
      "199 K     Trainable params\n",
      "0         Non-trainable params\n",
      "199 K     Total params\n",
      "0.797     Total estimated model params size (MB)\n"
     ]
    },
    {
     "data": {
      "application/vnd.jupyter.widget-view+json": {
       "model_id": "ff5eedf7566a4a8b9455d4a263662b37",
       "version_major": 2,
       "version_minor": 0
      },
      "text/plain": [
       "Sanity Checking: |          | 0/? [00:00<?, ?it/s]"
      ]
     },
     "metadata": {},
     "output_type": "display_data"
    },
    {
     "name": "stderr",
     "output_type": "stream",
     "text": [
      "/media/wassname/SGIronWolf/projects5/elk/sgd_probes_are_lie_detectors/.venv/lib/python3.11/site-packages/lightning/pytorch/trainer/connectors/data_connector.py:441: The 'val_dataloader' does not have many workers which may be a bottleneck. Consider increasing the value of the `num_workers` argument` to `num_workers=23` in the `DataLoader` to improve performance.\n",
      "/media/wassname/SGIronWolf/projects5/elk/sgd_probes_are_lie_detectors/.venv/lib/python3.11/site-packages/lightning/pytorch/trainer/connectors/data_connector.py:441: The 'train_dataloader' does not have many workers which may be a bottleneck. Consider increasing the value of the `num_workers` argument` to `num_workers=23` in the `DataLoader` to improve performance.\n"
     ]
    },
    {
     "data": {
      "application/vnd.jupyter.widget-view+json": {
       "model_id": "41cbe05c27c14640a2402f3958023680",
       "version_major": 2,
       "version_minor": 0
      },
      "text/plain": [
       "Training: |          | 0/? [00:00<?, ?it/s]"
      ]
     },
     "metadata": {},
     "output_type": "display_data"
    },
    {
     "data": {
      "application/vnd.jupyter.widget-view+json": {
       "model_id": "c402fb1d090643a9bb8da8e119657557",
       "version_major": 2,
       "version_minor": 0
      },
      "text/plain": [
       "Validation: |          | 0/? [00:00<?, ?it/s]"
      ]
     },
     "metadata": {},
     "output_type": "display_data"
    },
    {
     "data": {
      "application/vnd.jupyter.widget-view+json": {
       "model_id": "fe12340a74974014af524ce9bab7d4ce",
       "version_major": 2,
       "version_minor": 0
      },
      "text/plain": [
       "Validation: |          | 0/? [00:00<?, ?it/s]"
      ]
     },
     "metadata": {},
     "output_type": "display_data"
    },
    {
     "data": {
      "application/vnd.jupyter.widget-view+json": {
       "model_id": "41f3e3012c1c49538f3a66dac3130435",
       "version_major": 2,
       "version_minor": 0
      },
      "text/plain": [
       "Validation: |          | 0/? [00:00<?, ?it/s]"
      ]
     },
     "metadata": {},
     "output_type": "display_data"
    },
    {
     "data": {
      "application/vnd.jupyter.widget-view+json": {
       "model_id": "f4dcaa007b714edabdd1537b56891bb5",
       "version_major": 2,
       "version_minor": 0
      },
      "text/plain": [
       "Validation: |          | 0/? [00:00<?, ?it/s]"
      ]
     },
     "metadata": {},
     "output_type": "display_data"
    },
    {
     "data": {
      "application/vnd.jupyter.widget-view+json": {
       "model_id": "11b0441be4de499cb7db4885a441eb6f",
       "version_major": 2,
       "version_minor": 0
      },
      "text/plain": [
       "Validation: |          | 0/? [00:00<?, ?it/s]"
      ]
     },
     "metadata": {},
     "output_type": "display_data"
    },
    {
     "data": {
      "application/vnd.jupyter.widget-view+json": {
       "model_id": "6ef46ade093341eaa8bd601928398a3e",
       "version_major": 2,
       "version_minor": 0
      },
      "text/plain": [
       "Validation: |          | 0/? [00:00<?, ?it/s]"
      ]
     },
     "metadata": {},
     "output_type": "display_data"
    },
    {
     "data": {
      "application/vnd.jupyter.widget-view+json": {
       "model_id": "c172d2d961184de196d3248e7c333124",
       "version_major": 2,
       "version_minor": 0
      },
      "text/plain": [
       "Validation: |          | 0/? [00:00<?, ?it/s]"
      ]
     },
     "metadata": {},
     "output_type": "display_data"
    },
    {
     "data": {
      "application/vnd.jupyter.widget-view+json": {
       "model_id": "13cab62479294fcc8c5b907c9e83b5cc",
       "version_major": 2,
       "version_minor": 0
      },
      "text/plain": [
       "Validation: |          | 0/? [00:00<?, ?it/s]"
      ]
     },
     "metadata": {},
     "output_type": "display_data"
    },
    {
     "data": {
      "application/vnd.jupyter.widget-view+json": {
       "model_id": "19e1401f9ab84f45a3e214f83517b0cc",
       "version_major": 2,
       "version_minor": 0
      },
      "text/plain": [
       "Validation: |          | 0/? [00:00<?, ?it/s]"
      ]
     },
     "metadata": {},
     "output_type": "display_data"
    },
    {
     "data": {
      "application/vnd.jupyter.widget-view+json": {
       "model_id": "397be0fa2745427c8e4585a60572dbf6",
       "version_major": 2,
       "version_minor": 0
      },
      "text/plain": [
       "Validation: |          | 0/? [00:00<?, ?it/s]"
      ]
     },
     "metadata": {},
     "output_type": "display_data"
    },
    {
     "name": "stderr",
     "output_type": "stream",
     "text": [
      "`Trainer.fit` stopped: `max_epochs=10` reached.\n"
     ]
    },
    {
     "data": {
      "image/png": "[encoded data removed]",
      "text/plain": [
       "<Figure size 800x550 with 1 Axes>"
      ]
     },
     "metadata": {},
     "output_type": "display_data"
    },
    {
     "data": {
      "image/png": "[encoded data removed]",
      "text/plain": [
       "<Figure size 800x550 with 1 Axes>"
      ]
     },
     "metadata": {},
     "output_type": "display_data"
    },
    {
     "name": "stderr",
     "output_type": "stream",
     "text": [
      "LOCAL_RANK: 0 - CUDA_VISIBLE_DEVICES: [0,1]\n",
      "/media/wassname/SGIronWolf/projects5/elk/sgd_probes_are_lie_detectors/.venv/lib/python3.11/site-packages/lightning/pytorch/trainer/connectors/data_connector.py:441: The 'predict_dataloader' does not have many workers which may be a bottleneck. Consider increasing the value of the `num_workers` argument` to `num_workers=23` in the `DataLoader` to improve performance.\n"
     ]
    },
    {
     "data": {
      "application/vnd.jupyter.widget-view+json": {
       "model_id": "30e23eaaa99f453fb7f19d6996838b66",
       "version_major": 2,
       "version_minor": 0
      },
      "text/plain": [
       "Predicting: |          | 0/? [00:00<?, ?it/s]"
      ]
     },
     "metadata": {},
     "output_type": "display_data"
    },
    {
     "name": "stderr",
     "output_type": "stream",
     "text": [
      "LOCAL_RANK: 0 - CUDA_VISIBLE_DEVICES: [0,1]\n",
      "/media/wassname/SGIronWolf/projects5/elk/sgd_probes_are_lie_detectors/.venv/lib/python3.11/site-packages/lightning/pytorch/trainer/connectors/data_connector.py:441: The 'predict_dataloader' does not have many workers which may be a bottleneck. Consider increasing the value of the `num_workers` argument` to `num_workers=23` in the `DataLoader` to improve performance.\n"
     ]
    },
    {
     "data": {
      "application/vnd.jupyter.widget-view+json": {
       "model_id": "01b2a49659d04ba082bd0b2c0061b477",
       "version_major": 2,
       "version_minor": 0
      },
      "text/plain": [
       "Predicting: |          | 0/? [00:00<?, ?it/s]"
      ]
     },
     "metadata": {},
     "output_type": "display_data"
    },
    {
     "name": "stderr",
     "output_type": "stream",
     "text": [
      "LOCAL_RANK: 0 - CUDA_VISIBLE_DEVICES: [0,1]\n",
      "/media/wassname/SGIronWolf/projects5/elk/sgd_probes_are_lie_detectors/.venv/lib/python3.11/site-packages/lightning/pytorch/trainer/connectors/data_connector.py:441: The 'predict_dataloader' does not have many workers which may be a bottleneck. Consider increasing the value of the `num_workers` argument` to `num_workers=23` in the `DataLoader` to improve performance.\n"
     ]
    },
    {
     "data": {
      "application/vnd.jupyter.widget-view+json": {
       "model_id": "513f1247e05544479330f8ba4101308d",
       "version_major": 2,
       "version_minor": 0
      },
      "text/plain": [
       "Predicting: |          | 0/? [00:00<?, ?it/s]"
      ]
     },
     "metadata": {},
     "output_type": "display_data"
    },
    {
     "name": "stdout",
     "output_type": "stream",
     "text": [
      "⭐ main_metric: 0.765 ⭐ roc_auc for 1002 OOD samples\n"
     ]
    },
    {
     "data": {
      "text/html": [
       "<div>\n",
       "<style scoped>\n",
       "    .dataframe tbody tr th:only-of-type {\n",
       "        vertical-align: middle;\n",
       "    }\n",
       "\n",
       "    .dataframe tbody tr th {\n",
       "        vertical-align: top;\n",
       "    }\n",
       "\n",
       "    .dataframe thead th {\n",
       "        text-align: right;\n",
       "    }\n",
       "</style>\n",
       "<table border=\"1\" class=\"dataframe\">\n",
       "  <thead>\n",
       "    <tr style=\"text-align: right;\">\n",
       "      <th></th>\n",
       "      <th>roc_auc</th>\n",
       "      <th>improvement</th>\n",
       "      <th>acc</th>\n",
       "      <th>n</th>\n",
       "      <th>in_dist_adapter</th>\n",
       "      <th>in_dist_probe</th>\n",
       "      <th>balance</th>\n",
       "      <th>balance_proxy</th>\n",
       "      <th>roc_auc_adapter</th>\n",
       "      <th>roc_auc_base</th>\n",
       "    </tr>\n",
       "  </thead>\n",
       "  <tbody>\n",
       "    <tr>\n",
       "      <th>super_glue:axg</th>\n",
       "      <td>0.784094</td>\n",
       "      <td>-0.033664</td>\n",
       "      <td>0.751497</td>\n",
       "      <td>334</td>\n",
       "      <td>False</td>\n",
       "      <td>False</td>\n",
       "      <td>0.51497</td>\n",
       "      <td>0.751497</td>\n",
       "      <td>0.723048</td>\n",
       "      <td>0.817758</td>\n",
       "    </tr>\n",
       "    <tr>\n",
       "      <th>hans</th>\n",
       "      <td>0.686977</td>\n",
       "      <td>-0.038232</td>\n",
       "      <td>0.706897</td>\n",
       "      <td>58</td>\n",
       "      <td>True</td>\n",
       "      <td>True</td>\n",
       "      <td>0.465517</td>\n",
       "      <td>0.706897</td>\n",
       "      <td>0.572879</td>\n",
       "      <td>0.725209</td>\n",
       "    </tr>\n",
       "    <tr>\n",
       "      <th>glue:qnli</th>\n",
       "      <td>0.585088</td>\n",
       "      <td>-0.105263</td>\n",
       "      <td>0.602941</td>\n",
       "      <td>68</td>\n",
       "      <td>True</td>\n",
       "      <td>True</td>\n",
       "      <td>0.558824</td>\n",
       "      <td>0.602941</td>\n",
       "      <td>0.59386</td>\n",
       "      <td>0.690351</td>\n",
       "    </tr>\n",
       "    <tr>\n",
       "      <th>super_glue:boolq</th>\n",
       "      <td>0.815769</td>\n",
       "      <td>-0.116236</td>\n",
       "      <td>0.826347</td>\n",
       "      <td>334</td>\n",
       "      <td>False</td>\n",
       "      <td>False</td>\n",
       "      <td>0.479042</td>\n",
       "      <td>0.826347</td>\n",
       "      <td>0.894935</td>\n",
       "      <td>0.932004</td>\n",
       "    </tr>\n",
       "    <tr>\n",
       "      <th>super_glue:rte</th>\n",
       "      <td>0.735507</td>\n",
       "      <td>-0.128623</td>\n",
       "      <td>0.787234</td>\n",
       "      <td>47</td>\n",
       "      <td>True</td>\n",
       "      <td>True</td>\n",
       "      <td>0.489362</td>\n",
       "      <td>0.787234</td>\n",
       "      <td>0.737319</td>\n",
       "      <td>0.86413</td>\n",
       "    </tr>\n",
       "    <tr>\n",
       "      <th>imdb</th>\n",
       "      <td>0.699039</td>\n",
       "      <td>-0.205906</td>\n",
       "      <td>0.742515</td>\n",
       "      <td>334</td>\n",
       "      <td>False</td>\n",
       "      <td>False</td>\n",
       "      <td>0.5</td>\n",
       "      <td>0.742515</td>\n",
       "      <td>0.785399</td>\n",
       "      <td>0.904945</td>\n",
       "    </tr>\n",
       "    <tr>\n",
       "      <th>sst2</th>\n",
       "      <td>0.664932</td>\n",
       "      <td>-0.218522</td>\n",
       "      <td>0.677419</td>\n",
       "      <td>62</td>\n",
       "      <td>True</td>\n",
       "      <td>True</td>\n",
       "      <td>0.5</td>\n",
       "      <td>0.677419</td>\n",
       "      <td>0.671176</td>\n",
       "      <td>0.883455</td>\n",
       "    </tr>\n",
       "    <tr>\n",
       "      <th>amazon_polarity</th>\n",
       "      <td>0.675752</td>\n",
       "      <td>-0.291353</td>\n",
       "      <td>0.727273</td>\n",
       "      <td>66</td>\n",
       "      <td>True</td>\n",
       "      <td>True</td>\n",
       "      <td>0.575758</td>\n",
       "      <td>0.727273</td>\n",
       "      <td>0.743421</td>\n",
       "      <td>0.967105</td>\n",
       "    </tr>\n",
       "  </tbody>\n",
       "</table>\n",
       "</div>"
      ],
      "text/plain": [
       "                   roc_auc improvement       acc    n in_dist_adapter  \\\n",
       "super_glue:axg    0.784094   -0.033664  0.751497  334           False   \n",
       "hans              0.686977   -0.038232  0.706897   58            True   \n",
       "glue:qnli         0.585088   -0.105263  0.602941   68            True   \n",
       "super_glue:boolq  0.815769   -0.116236  0.826347  334           False   \n",
       "super_glue:rte    0.735507   -0.128623  0.787234   47            True   \n",
       "imdb              0.699039   -0.205906  0.742515  334           False   \n",
       "sst2              0.664932   -0.218522  0.677419   62            True   \n",
       "amazon_polarity   0.675752   -0.291353  0.727273   66            True   \n",
       "\n",
       "                 in_dist_probe   balance balance_proxy roc_auc_adapter  \\\n",
       "super_glue:axg           False   0.51497      0.751497        0.723048   \n",
       "hans                      True  0.465517      0.706897        0.572879   \n",
       "glue:qnli                 True  0.558824      0.602941         0.59386   \n",
       "super_glue:boolq         False  0.479042      0.826347        0.894935   \n",
       "super_glue:rte            True  0.489362      0.787234        0.737319   \n",
       "imdb                     False       0.5      0.742515        0.785399   \n",
       "sst2                      True       0.5      0.677419        0.671176   \n",
       "amazon_polarity           True  0.575758      0.727273        0.743421   \n",
       "\n",
       "                 roc_auc_base  \n",
       "super_glue:axg       0.817758  \n",
       "hans                 0.725209  \n",
       "glue:qnli            0.690351  \n",
       "super_glue:boolq     0.932004  \n",
       "super_glue:rte        0.86413  \n",
       "imdb                 0.904945  \n",
       "sst2                 0.883455  \n",
       "amazon_polarity      0.967105  "
      ]
     },
     "metadata": {},
     "output_type": "display_data"
    },
    {
     "data": {
      "text/html": [
       "<div>\n",
       "<style scoped>\n",
       "    .dataframe tbody tr th:only-of-type {\n",
       "        vertical-align: middle;\n",
       "    }\n",
       "\n",
       "    .dataframe tbody tr th {\n",
       "        vertical-align: top;\n",
       "    }\n",
       "\n",
       "    .dataframe thead th {\n",
       "        text-align: right;\n",
       "    }\n",
       "</style>\n",
       "<table border=\"1\" class=\"dataframe\">\n",
       "  <thead>\n",
       "    <tr style=\"text-align: right;\">\n",
       "      <th></th>\n",
       "      <th>roc_auc</th>\n",
       "      <th>improvement</th>\n",
       "      <th>acc</th>\n",
       "      <th>n</th>\n",
       "      <th>in_dist_adapter</th>\n",
       "      <th>in_dist_probe</th>\n",
       "      <th>balance</th>\n",
       "      <th>balance_proxy</th>\n",
       "      <th>roc_auc_adapter</th>\n",
       "      <th>roc_auc_base</th>\n",
       "    </tr>\n",
       "  </thead>\n",
       "  <tbody>\n",
       "    <tr>\n",
       "      <th>super_glue:axg</th>\n",
       "      <td>0.784094</td>\n",
       "      <td>-0.033664</td>\n",
       "      <td>0.751497</td>\n",
       "      <td>334</td>\n",
       "      <td>False</td>\n",
       "      <td>False</td>\n",
       "      <td>0.51497</td>\n",
       "      <td>0.751497</td>\n",
       "      <td>0.723048</td>\n",
       "      <td>0.817758</td>\n",
       "    </tr>\n",
       "    <tr>\n",
       "      <th>hans</th>\n",
       "      <td>0.686977</td>\n",
       "      <td>-0.038232</td>\n",
       "      <td>0.706897</td>\n",
       "      <td>58</td>\n",
       "      <td>True</td>\n",
       "      <td>True</td>\n",
       "      <td>0.465517</td>\n",
       "      <td>0.706897</td>\n",
       "      <td>0.572879</td>\n",
       "      <td>0.725209</td>\n",
       "    </tr>\n",
       "    <tr>\n",
       "      <th>glue:qnli</th>\n",
       "      <td>0.585088</td>\n",
       "      <td>-0.105263</td>\n",
       "      <td>0.602941</td>\n",
       "      <td>68</td>\n",
       "      <td>True</td>\n",
       "      <td>True</td>\n",
       "      <td>0.558824</td>\n",
       "      <td>0.602941</td>\n",
       "      <td>0.59386</td>\n",
       "      <td>0.690351</td>\n",
       "    </tr>\n",
       "    <tr>\n",
       "      <th>super_glue:boolq</th>\n",
       "      <td>0.815769</td>\n",
       "      <td>-0.116236</td>\n",
       "      <td>0.826347</td>\n",
       "      <td>334</td>\n",
       "      <td>False</td>\n",
       "      <td>False</td>\n",
       "      <td>0.479042</td>\n",
       "      <td>0.826347</td>\n",
       "      <td>0.894935</td>\n",
       "      <td>0.932004</td>\n",
       "    </tr>\n",
       "    <tr>\n",
       "      <th>super_glue:rte</th>\n",
       "      <td>0.735507</td>\n",
       "      <td>-0.128623</td>\n",
       "      <td>0.787234</td>\n",
       "      <td>47</td>\n",
       "      <td>True</td>\n",
       "      <td>True</td>\n",
       "      <td>0.489362</td>\n",
       "      <td>0.787234</td>\n",
       "      <td>0.737319</td>\n",
       "      <td>0.86413</td>\n",
       "    </tr>\n",
       "    <tr>\n",
       "      <th>imdb</th>\n",
       "      <td>0.699039</td>\n",
       "      <td>-0.205906</td>\n",
       "      <td>0.742515</td>\n",
       "      <td>334</td>\n",
       "      <td>False</td>\n",
       "      <td>False</td>\n",
       "      <td>0.5</td>\n",
       "      <td>0.742515</td>\n",
       "      <td>0.785399</td>\n",
       "      <td>0.904945</td>\n",
       "    </tr>\n",
       "    <tr>\n",
       "      <th>sst2</th>\n",
       "      <td>0.664932</td>\n",
       "      <td>-0.218522</td>\n",
       "      <td>0.677419</td>\n",
       "      <td>62</td>\n",
       "      <td>True</td>\n",
       "      <td>True</td>\n",
       "      <td>0.5</td>\n",
       "      <td>0.677419</td>\n",
       "      <td>0.671176</td>\n",
       "      <td>0.883455</td>\n",
       "    </tr>\n",
       "    <tr>\n",
       "      <th>amazon_polarity</th>\n",
       "      <td>0.675752</td>\n",
       "      <td>-0.291353</td>\n",
       "      <td>0.727273</td>\n",
       "      <td>66</td>\n",
       "      <td>True</td>\n",
       "      <td>True</td>\n",
       "      <td>0.575758</td>\n",
       "      <td>0.727273</td>\n",
       "      <td>0.743421</td>\n",
       "      <td>0.967105</td>\n",
       "    </tr>\n",
       "  </tbody>\n",
       "</table>\n",
       "</div>"
      ],
      "text/plain": [
       "                   roc_auc improvement       acc    n in_dist_adapter  \\\n",
       "super_glue:axg    0.784094   -0.033664  0.751497  334           False   \n",
       "hans              0.686977   -0.038232  0.706897   58            True   \n",
       "glue:qnli         0.585088   -0.105263  0.602941   68            True   \n",
       "super_glue:boolq  0.815769   -0.116236  0.826347  334           False   \n",
       "super_glue:rte    0.735507   -0.128623  0.787234   47            True   \n",
       "imdb              0.699039   -0.205906  0.742515  334           False   \n",
       "sst2              0.664932   -0.218522  0.677419   62            True   \n",
       "amazon_polarity   0.675752   -0.291353  0.727273   66            True   \n",
       "\n",
       "                 in_dist_probe   balance balance_proxy roc_auc_adapter  \\\n",
       "super_glue:axg           False   0.51497      0.751497        0.723048   \n",
       "hans                      True  0.465517      0.706897        0.572879   \n",
       "glue:qnli                 True  0.558824      0.602941         0.59386   \n",
       "super_glue:boolq         False  0.479042      0.826347        0.894935   \n",
       "super_glue:rte            True  0.489362      0.787234        0.737319   \n",
       "imdb                     False       0.5      0.742515        0.785399   \n",
       "sst2                      True       0.5      0.677419        0.671176   \n",
       "amazon_polarity           True  0.575758      0.727273        0.743421   \n",
       "\n",
       "                 roc_auc_base  \n",
       "super_glue:axg       0.817758  \n",
       "hans                 0.725209  \n",
       "glue:qnli            0.690351  \n",
       "super_glue:boolq     0.932004  \n",
       "super_glue:rte        0.86413  \n",
       "imdb                 0.904945  \n",
       "sst2                 0.883455  \n",
       "amazon_polarity      0.967105  "
      ]
     },
     "execution_count": 14,
     "metadata": {},
     "output_type": "execute_result"
    }
   ],
   "source": [
    "from src.probes.mse_ranking import PLSKMSErank\n",
    "\n",
    "print('MSE Ranking')\n",
    "evaluator = RankingTruthEval(ds_trainval=ds_val, ds_test=ds_ood, importance_matrix=importance_matrix, skip=skip, stride=stride, decimate=decimate, layers_names=layers)\n",
    "steps_per_epoch = int(len(ds_val)*0.7//batch_size)\n",
    "\n",
    "_X, _ = evaluator.ds2xy(ds_val)\n",
    "c_in = _X.shape[1:]\n",
    "\n",
    "\n",
    "pl_model = PLSKMSErank(c_in=c_in, steps_per_epoch=steps_per_epoch, max_epochs=max_epochs, dropout=0.25, hs=16, depth=3)\n",
    "model = PLSKWrapper(pl_model, verbose=verbose, max_epochs=max_epochs)\n",
    "df_res = evaluator.eval(model)\n",
    "insample_datasets = list(set(ds_val['ds_string_base']))\n",
    "analyze_dfres(df_res, insample_datasets, insample_datasets)"
   ]
  },
  {
   "cell_type": "markdown",
   "metadata": {},
   "source": [
    "### Bool ranking"
   ]
  },
  {
   "cell_type": "code",
   "execution_count": null,
   "metadata": {},
   "outputs": [],
   "source": []
  },
  {
   "cell_type": "code",
   "execution_count": 15,
   "metadata": {},
   "outputs": [
    {
     "name": "stdout",
     "output_type": "stream",
     "text": [
      "MSE Ranking\n"
     ]
    },
    {
     "name": "stderr",
     "output_type": "stream",
     "text": [
      "Trainer will use only 1 of 2 GPUs because it is running inside an interactive / notebook environment. You may try to set `Trainer(devices=2)` but please note that multi-GPU inside interactive / notebook environments is considered experimental and unstable. Your mileage may vary.\n",
      "GPU available: True (cuda), used: True\n",
      "TPU available: False, using: 0 TPU cores\n",
      "IPU available: False, using: 0 IPUs\n",
      "HPU available: False, using: 0 HPUs\n",
      "LOCAL_RANK: 0 - CUDA_VISIBLE_DEVICES: [0,1]\n",
      "\n",
      "  | Name  | Type      | Params\n",
      "------------------------------------\n",
      "0 | model | HSModel2d | 199 K \n",
      "------------------------------------\n",
      "199 K     Trainable params\n",
      "0         Non-trainable params\n",
      "199 K     Total params\n",
      "0.797     Total estimated model params size (MB)\n"
     ]
    },
    {
     "data": {
      "application/vnd.jupyter.widget-view+json": {
       "model_id": "3ed4cc9b8922454dad080353a1c2add3",
       "version_major": 2,
       "version_minor": 0
      },
      "text/plain": [
       "Sanity Checking: |          | 0/? [00:00<?, ?it/s]"
      ]
     },
     "metadata": {},
     "output_type": "display_data"
    },
    {
     "name": "stderr",
     "output_type": "stream",
     "text": [
      "/media/wassname/SGIronWolf/projects5/elk/sgd_probes_are_lie_detectors/.venv/lib/python3.11/site-packages/lightning/pytorch/trainer/connectors/data_connector.py:441: The 'val_dataloader' does not have many workers which may be a bottleneck. Consider increasing the value of the `num_workers` argument` to `num_workers=23` in the `DataLoader` to improve performance.\n",
      "/media/wassname/SGIronWolf/projects5/elk/sgd_probes_are_lie_detectors/.venv/lib/python3.11/site-packages/lightning/pytorch/trainer/connectors/data_connector.py:441: The 'train_dataloader' does not have many workers which may be a bottleneck. Consider increasing the value of the `num_workers` argument` to `num_workers=23` in the `DataLoader` to improve performance.\n"
     ]
    },
    {
     "data": {
      "application/vnd.jupyter.widget-view+json": {
       "model_id": "d809c9c015b042fcaff9edef05f1652f",
       "version_major": 2,
       "version_minor": 0
      },
      "text/plain": [
       "Training: |          | 0/? [00:00<?, ?it/s]"
      ]
     },
     "metadata": {},
     "output_type": "display_data"
    },
    {
     "data": {
      "application/vnd.jupyter.widget-view+json": {
       "model_id": "1e40a1e43e0543bfba8546c03697a847",
       "version_major": 2,
       "version_minor": 0
      },
      "text/plain": [
       "Validation: |          | 0/? [00:00<?, ?it/s]"
      ]
     },
     "metadata": {},
     "output_type": "display_data"
    },
    {
     "data": {
      "application/vnd.jupyter.widget-view+json": {
       "model_id": "b5cc9413540140748065fc2f46530a22",
       "version_major": 2,
       "version_minor": 0
      },
      "text/plain": [
       "Validation: |          | 0/? [00:00<?, ?it/s]"
      ]
     },
     "metadata": {},
     "output_type": "display_data"
    },
    {
     "data": {
      "application/vnd.jupyter.widget-view+json": {
       "model_id": "4706797cf1c446d7af0dcc5351c62d02",
       "version_major": 2,
       "version_minor": 0
      },
      "text/plain": [
       "Validation: |          | 0/? [00:00<?, ?it/s]"
      ]
     },
     "metadata": {},
     "output_type": "display_data"
    },
    {
     "data": {
      "application/vnd.jupyter.widget-view+json": {
       "model_id": "cd4aa21c264143ae944aaf68ec413d5c",
       "version_major": 2,
       "version_minor": 0
      },
      "text/plain": [
       "Validation: |          | 0/? [00:00<?, ?it/s]"
      ]
     },
     "metadata": {},
     "output_type": "display_data"
    },
    {
     "data": {
      "application/vnd.jupyter.widget-view+json": {
       "model_id": "139651cd9bb4412eb98d82deb682d66f",
       "version_major": 2,
       "version_minor": 0
      },
      "text/plain": [
       "Validation: |          | 0/? [00:00<?, ?it/s]"
      ]
     },
     "metadata": {},
     "output_type": "display_data"
    },
    {
     "data": {
      "application/vnd.jupyter.widget-view+json": {
       "model_id": "9548d3a985a44e7bbf8ff8a21e522713",
       "version_major": 2,
       "version_minor": 0
      },
      "text/plain": [
       "Validation: |          | 0/? [00:00<?, ?it/s]"
      ]
     },
     "metadata": {},
     "output_type": "display_data"
    },
    {
     "data": {
      "application/vnd.jupyter.widget-view+json": {
       "model_id": "8f01b10edf4a433489ff443dfa34b50b",
       "version_major": 2,
       "version_minor": 0
      },
      "text/plain": [
       "Validation: |          | 0/? [00:00<?, ?it/s]"
      ]
     },
     "metadata": {},
     "output_type": "display_data"
    },
    {
     "data": {
      "application/vnd.jupyter.widget-view+json": {
       "model_id": "414e63d42a61416e96465d0fa8d11d91",
       "version_major": 2,
       "version_minor": 0
      },
      "text/plain": [
       "Validation: |          | 0/? [00:00<?, ?it/s]"
      ]
     },
     "metadata": {},
     "output_type": "display_data"
    },
    {
     "data": {
      "application/vnd.jupyter.widget-view+json": {
       "model_id": "8675232078a74ffcaf0055fbbc68f1fc",
       "version_major": 2,
       "version_minor": 0
      },
      "text/plain": [
       "Validation: |          | 0/? [00:00<?, ?it/s]"
      ]
     },
     "metadata": {},
     "output_type": "display_data"
    },
    {
     "data": {
      "application/vnd.jupyter.widget-view+json": {
       "model_id": "3b663c9e384a40329a0c19be272802a1",
       "version_major": 2,
       "version_minor": 0
      },
      "text/plain": [
       "Validation: |          | 0/? [00:00<?, ?it/s]"
      ]
     },
     "metadata": {},
     "output_type": "display_data"
    },
    {
     "name": "stderr",
     "output_type": "stream",
     "text": [
      "`Trainer.fit` stopped: `max_epochs=10` reached.\n"
     ]
    },
    {
     "data": {
      "image/png": "[encoded data removed]",
      "text/plain": [
       "<Figure size 800x550 with 1 Axes>"
      ]
     },
     "metadata": {},
     "output_type": "display_data"
    },
    {
     "data": {
      "image/png": "[encoded data removed]",
      "text/plain": [
       "<Figure size 800x550 with 1 Axes>"
      ]
     },
     "metadata": {},
     "output_type": "display_data"
    },
    {
     "name": "stderr",
     "output_type": "stream",
     "text": [
      "LOCAL_RANK: 0 - CUDA_VISIBLE_DEVICES: [0,1]\n",
      "/media/wassname/SGIronWolf/projects5/elk/sgd_probes_are_lie_detectors/.venv/lib/python3.11/site-packages/lightning/pytorch/trainer/connectors/data_connector.py:441: The 'predict_dataloader' does not have many workers which may be a bottleneck. Consider increasing the value of the `num_workers` argument` to `num_workers=23` in the `DataLoader` to improve performance.\n"
     ]
    },
    {
     "data": {
      "application/vnd.jupyter.widget-view+json": {
       "model_id": "a4ec8013b59249b7a488936bd71d9efe",
       "version_major": 2,
       "version_minor": 0
      },
      "text/plain": [
       "Predicting: |          | 0/? [00:00<?, ?it/s]"
      ]
     },
     "metadata": {},
     "output_type": "display_data"
    },
    {
     "name": "stderr",
     "output_type": "stream",
     "text": [
      "LOCAL_RANK: 0 - CUDA_VISIBLE_DEVICES: [0,1]\n",
      "/media/wassname/SGIronWolf/projects5/elk/sgd_probes_are_lie_detectors/.venv/lib/python3.11/site-packages/lightning/pytorch/trainer/connectors/data_connector.py:441: The 'predict_dataloader' does not have many workers which may be a bottleneck. Consider increasing the value of the `num_workers` argument` to `num_workers=23` in the `DataLoader` to improve performance.\n"
     ]
    },
    {
     "data": {
      "application/vnd.jupyter.widget-view+json": {
       "model_id": "4160d9c339c44d2bbe7d64cde500f24f",
       "version_major": 2,
       "version_minor": 0
      },
      "text/plain": [
       "Predicting: |          | 0/? [00:00<?, ?it/s]"
      ]
     },
     "metadata": {},
     "output_type": "display_data"
    },
    {
     "name": "stderr",
     "output_type": "stream",
     "text": [
      "LOCAL_RANK: 0 - CUDA_VISIBLE_DEVICES: [0,1]\n",
      "/media/wassname/SGIronWolf/projects5/elk/sgd_probes_are_lie_detectors/.venv/lib/python3.11/site-packages/lightning/pytorch/trainer/connectors/data_connector.py:441: The 'predict_dataloader' does not have many workers which may be a bottleneck. Consider increasing the value of the `num_workers` argument` to `num_workers=23` in the `DataLoader` to improve performance.\n"
     ]
    },
    {
     "data": {
      "application/vnd.jupyter.widget-view+json": {
       "model_id": "16e8a69600794e979841bc175c2b0c5b",
       "version_major": 2,
       "version_minor": 0
      },
      "text/plain": [
       "Predicting: |          | 0/? [00:00<?, ?it/s]"
      ]
     },
     "metadata": {},
     "output_type": "display_data"
    },
    {
     "name": "stdout",
     "output_type": "stream",
     "text": [
      "⭐ main_metric: 0.529 ⭐ roc_auc for 1002 OOD samples\n"
     ]
    },
    {
     "data": {
      "text/html": [
       "<div>\n",
       "<style scoped>\n",
       "    .dataframe tbody tr th:only-of-type {\n",
       "        vertical-align: middle;\n",
       "    }\n",
       "\n",
       "    .dataframe tbody tr th {\n",
       "        vertical-align: top;\n",
       "    }\n",
       "\n",
       "    .dataframe thead th {\n",
       "        text-align: right;\n",
       "    }\n",
       "</style>\n",
       "<table border=\"1\" class=\"dataframe\">\n",
       "  <thead>\n",
       "    <tr style=\"text-align: right;\">\n",
       "      <th></th>\n",
       "      <th>roc_auc</th>\n",
       "      <th>improvement</th>\n",
       "      <th>acc</th>\n",
       "      <th>n</th>\n",
       "      <th>in_dist_adapter</th>\n",
       "      <th>in_dist_probe</th>\n",
       "      <th>balance</th>\n",
       "      <th>balance_proxy</th>\n",
       "      <th>roc_auc_adapter</th>\n",
       "      <th>roc_auc_base</th>\n",
       "    </tr>\n",
       "  </thead>\n",
       "  <tbody>\n",
       "    <tr>\n",
       "      <th>hans</th>\n",
       "      <td>0.706093</td>\n",
       "      <td>-0.019116</td>\n",
       "      <td>0.741379</td>\n",
       "      <td>58</td>\n",
       "      <td>True</td>\n",
       "      <td>True</td>\n",
       "      <td>0.465517</td>\n",
       "      <td>0.706897</td>\n",
       "      <td>0.572879</td>\n",
       "      <td>0.725209</td>\n",
       "    </tr>\n",
       "    <tr>\n",
       "      <th>glue:qnli</th>\n",
       "      <td>0.539474</td>\n",
       "      <td>-0.150877</td>\n",
       "      <td>0.558824</td>\n",
       "      <td>68</td>\n",
       "      <td>True</td>\n",
       "      <td>True</td>\n",
       "      <td>0.558824</td>\n",
       "      <td>0.602941</td>\n",
       "      <td>0.59386</td>\n",
       "      <td>0.690351</td>\n",
       "    </tr>\n",
       "    <tr>\n",
       "      <th>super_glue:axg</th>\n",
       "      <td>0.605692</td>\n",
       "      <td>-0.212066</td>\n",
       "      <td>0.553892</td>\n",
       "      <td>334</td>\n",
       "      <td>False</td>\n",
       "      <td>False</td>\n",
       "      <td>0.51497</td>\n",
       "      <td>0.751497</td>\n",
       "      <td>0.723048</td>\n",
       "      <td>0.817758</td>\n",
       "    </tr>\n",
       "    <tr>\n",
       "      <th>sst2</th>\n",
       "      <td>0.523413</td>\n",
       "      <td>-0.360042</td>\n",
       "      <td>0.564516</td>\n",
       "      <td>62</td>\n",
       "      <td>True</td>\n",
       "      <td>True</td>\n",
       "      <td>0.5</td>\n",
       "      <td>0.677419</td>\n",
       "      <td>0.671176</td>\n",
       "      <td>0.883455</td>\n",
       "    </tr>\n",
       "    <tr>\n",
       "      <th>super_glue:boolq</th>\n",
       "      <td>0.52403</td>\n",
       "      <td>-0.407974</td>\n",
       "      <td>0.55988</td>\n",
       "      <td>334</td>\n",
       "      <td>False</td>\n",
       "      <td>False</td>\n",
       "      <td>0.479042</td>\n",
       "      <td>0.826347</td>\n",
       "      <td>0.894935</td>\n",
       "      <td>0.932004</td>\n",
       "    </tr>\n",
       "    <tr>\n",
       "      <th>imdb</th>\n",
       "      <td>0.45154</td>\n",
       "      <td>-0.453405</td>\n",
       "      <td>0.488024</td>\n",
       "      <td>334</td>\n",
       "      <td>False</td>\n",
       "      <td>False</td>\n",
       "      <td>0.5</td>\n",
       "      <td>0.742515</td>\n",
       "      <td>0.785399</td>\n",
       "      <td>0.904945</td>\n",
       "    </tr>\n",
       "    <tr>\n",
       "      <th>super_glue:rte</th>\n",
       "      <td>0.331522</td>\n",
       "      <td>-0.532609</td>\n",
       "      <td>0.404255</td>\n",
       "      <td>47</td>\n",
       "      <td>True</td>\n",
       "      <td>True</td>\n",
       "      <td>0.489362</td>\n",
       "      <td>0.787234</td>\n",
       "      <td>0.737319</td>\n",
       "      <td>0.86413</td>\n",
       "    </tr>\n",
       "    <tr>\n",
       "      <th>amazon_polarity</th>\n",
       "      <td>0.31109</td>\n",
       "      <td>-0.656015</td>\n",
       "      <td>0.333333</td>\n",
       "      <td>66</td>\n",
       "      <td>True</td>\n",
       "      <td>True</td>\n",
       "      <td>0.575758</td>\n",
       "      <td>0.727273</td>\n",
       "      <td>0.743421</td>\n",
       "      <td>0.967105</td>\n",
       "    </tr>\n",
       "  </tbody>\n",
       "</table>\n",
       "</div>"
      ],
      "text/plain": [
       "                   roc_auc improvement       acc    n in_dist_adapter  \\\n",
       "hans              0.706093   -0.019116  0.741379   58            True   \n",
       "glue:qnli         0.539474   -0.150877  0.558824   68            True   \n",
       "super_glue:axg    0.605692   -0.212066  0.553892  334           False   \n",
       "sst2              0.523413   -0.360042  0.564516   62            True   \n",
       "super_glue:boolq   0.52403   -0.407974   0.55988  334           False   \n",
       "imdb               0.45154   -0.453405  0.488024  334           False   \n",
       "super_glue:rte    0.331522   -0.532609  0.404255   47            True   \n",
       "amazon_polarity    0.31109   -0.656015  0.333333   66            True   \n",
       "\n",
       "                 in_dist_probe   balance balance_proxy roc_auc_adapter  \\\n",
       "hans                      True  0.465517      0.706897        0.572879   \n",
       "glue:qnli                 True  0.558824      0.602941         0.59386   \n",
       "super_glue:axg           False   0.51497      0.751497        0.723048   \n",
       "sst2                      True       0.5      0.677419        0.671176   \n",
       "super_glue:boolq         False  0.479042      0.826347        0.894935   \n",
       "imdb                     False       0.5      0.742515        0.785399   \n",
       "super_glue:rte            True  0.489362      0.787234        0.737319   \n",
       "amazon_polarity           True  0.575758      0.727273        0.743421   \n",
       "\n",
       "                 roc_auc_base  \n",
       "hans                 0.725209  \n",
       "glue:qnli            0.690351  \n",
       "super_glue:axg       0.817758  \n",
       "sst2                 0.883455  \n",
       "super_glue:boolq     0.932004  \n",
       "imdb                 0.904945  \n",
       "super_glue:rte        0.86413  \n",
       "amazon_polarity      0.967105  "
      ]
     },
     "metadata": {},
     "output_type": "display_data"
    },
    {
     "data": {
      "text/html": [
       "<div>\n",
       "<style scoped>\n",
       "    .dataframe tbody tr th:only-of-type {\n",
       "        vertical-align: middle;\n",
       "    }\n",
       "\n",
       "    .dataframe tbody tr th {\n",
       "        vertical-align: top;\n",
       "    }\n",
       "\n",
       "    .dataframe thead th {\n",
       "        text-align: right;\n",
       "    }\n",
       "</style>\n",
       "<table border=\"1\" class=\"dataframe\">\n",
       "  <thead>\n",
       "    <tr style=\"text-align: right;\">\n",
       "      <th></th>\n",
       "      <th>roc_auc</th>\n",
       "      <th>improvement</th>\n",
       "      <th>acc</th>\n",
       "      <th>n</th>\n",
       "      <th>in_dist_adapter</th>\n",
       "      <th>in_dist_probe</th>\n",
       "      <th>balance</th>\n",
       "      <th>balance_proxy</th>\n",
       "      <th>roc_auc_adapter</th>\n",
       "      <th>roc_auc_base</th>\n",
       "    </tr>\n",
       "  </thead>\n",
       "  <tbody>\n",
       "    <tr>\n",
       "      <th>hans</th>\n",
       "      <td>0.706093</td>\n",
       "      <td>-0.019116</td>\n",
       "      <td>0.741379</td>\n",
       "      <td>58</td>\n",
       "      <td>True</td>\n",
       "      <td>True</td>\n",
       "      <td>0.465517</td>\n",
       "      <td>0.706897</td>\n",
       "      <td>0.572879</td>\n",
       "      <td>0.725209</td>\n",
       "    </tr>\n",
       "    <tr>\n",
       "      <th>glue:qnli</th>\n",
       "      <td>0.539474</td>\n",
       "      <td>-0.150877</td>\n",
       "      <td>0.558824</td>\n",
       "      <td>68</td>\n",
       "      <td>True</td>\n",
       "      <td>True</td>\n",
       "      <td>0.558824</td>\n",
       "      <td>0.602941</td>\n",
       "      <td>0.59386</td>\n",
       "      <td>0.690351</td>\n",
       "    </tr>\n",
       "    <tr>\n",
       "      <th>super_glue:axg</th>\n",
       "      <td>0.605692</td>\n",
       "      <td>-0.212066</td>\n",
       "      <td>0.553892</td>\n",
       "      <td>334</td>\n",
       "      <td>False</td>\n",
       "      <td>False</td>\n",
       "      <td>0.51497</td>\n",
       "      <td>0.751497</td>\n",
       "      <td>0.723048</td>\n",
       "      <td>0.817758</td>\n",
       "    </tr>\n",
       "    <tr>\n",
       "      <th>sst2</th>\n",
       "      <td>0.523413</td>\n",
       "      <td>-0.360042</td>\n",
       "      <td>0.564516</td>\n",
       "      <td>62</td>\n",
       "      <td>True</td>\n",
       "      <td>True</td>\n",
       "      <td>0.5</td>\n",
       "      <td>0.677419</td>\n",
       "      <td>0.671176</td>\n",
       "      <td>0.883455</td>\n",
       "    </tr>\n",
       "    <tr>\n",
       "      <th>super_glue:boolq</th>\n",
       "      <td>0.52403</td>\n",
       "      <td>-0.407974</td>\n",
       "      <td>0.55988</td>\n",
       "      <td>334</td>\n",
       "      <td>False</td>\n",
       "      <td>False</td>\n",
       "      <td>0.479042</td>\n",
       "      <td>0.826347</td>\n",
       "      <td>0.894935</td>\n",
       "      <td>0.932004</td>\n",
       "    </tr>\n",
       "    <tr>\n",
       "      <th>imdb</th>\n",
       "      <td>0.45154</td>\n",
       "      <td>-0.453405</td>\n",
       "      <td>0.488024</td>\n",
       "      <td>334</td>\n",
       "      <td>False</td>\n",
       "      <td>False</td>\n",
       "      <td>0.5</td>\n",
       "      <td>0.742515</td>\n",
       "      <td>0.785399</td>\n",
       "      <td>0.904945</td>\n",
       "    </tr>\n",
       "    <tr>\n",
       "      <th>super_glue:rte</th>\n",
       "      <td>0.331522</td>\n",
       "      <td>-0.532609</td>\n",
       "      <td>0.404255</td>\n",
       "      <td>47</td>\n",
       "      <td>True</td>\n",
       "      <td>True</td>\n",
       "      <td>0.489362</td>\n",
       "      <td>0.787234</td>\n",
       "      <td>0.737319</td>\n",
       "      <td>0.86413</td>\n",
       "    </tr>\n",
       "    <tr>\n",
       "      <th>amazon_polarity</th>\n",
       "      <td>0.31109</td>\n",
       "      <td>-0.656015</td>\n",
       "      <td>0.333333</td>\n",
       "      <td>66</td>\n",
       "      <td>True</td>\n",
       "      <td>True</td>\n",
       "      <td>0.575758</td>\n",
       "      <td>0.727273</td>\n",
       "      <td>0.743421</td>\n",
       "      <td>0.967105</td>\n",
       "    </tr>\n",
       "  </tbody>\n",
       "</table>\n",
       "</div>"
      ],
      "text/plain": [
       "                   roc_auc improvement       acc    n in_dist_adapter  \\\n",
       "hans              0.706093   -0.019116  0.741379   58            True   \n",
       "glue:qnli         0.539474   -0.150877  0.558824   68            True   \n",
       "super_glue:axg    0.605692   -0.212066  0.553892  334           False   \n",
       "sst2              0.523413   -0.360042  0.564516   62            True   \n",
       "super_glue:boolq   0.52403   -0.407974   0.55988  334           False   \n",
       "imdb               0.45154   -0.453405  0.488024  334           False   \n",
       "super_glue:rte    0.331522   -0.532609  0.404255   47            True   \n",
       "amazon_polarity    0.31109   -0.656015  0.333333   66            True   \n",
       "\n",
       "                 in_dist_probe   balance balance_proxy roc_auc_adapter  \\\n",
       "hans                      True  0.465517      0.706897        0.572879   \n",
       "glue:qnli                 True  0.558824      0.602941         0.59386   \n",
       "super_glue:axg           False   0.51497      0.751497        0.723048   \n",
       "sst2                      True       0.5      0.677419        0.671176   \n",
       "super_glue:boolq         False  0.479042      0.826347        0.894935   \n",
       "imdb                     False       0.5      0.742515        0.785399   \n",
       "super_glue:rte            True  0.489362      0.787234        0.737319   \n",
       "amazon_polarity           True  0.575758      0.727273        0.743421   \n",
       "\n",
       "                 roc_auc_base  \n",
       "hans                 0.725209  \n",
       "glue:qnli            0.690351  \n",
       "super_glue:axg       0.817758  \n",
       "sst2                 0.883455  \n",
       "super_glue:boolq     0.932004  \n",
       "imdb                 0.904945  \n",
       "super_glue:rte        0.86413  \n",
       "amazon_polarity      0.967105  "
      ]
     },
     "execution_count": 15,
     "metadata": {},
     "output_type": "execute_result"
    }
   ],
   "source": [
    "from src.probes.mse_ranking import PLSKBoolRank\n",
    "\n",
    "print('MSE Ranking')\n",
    "evaluator = RankingTruthEval(ds_trainval=ds_val, ds_test=ds_ood, importance_matrix=importance_matrix, skip=skip, stride=stride, decimate=decimate, layers_names=layers)\n",
    "steps_per_epoch = int(len(ds_val)*0.7//batch_size)\n",
    "\n",
    "_X, _ = evaluator.ds2xy(ds_val)\n",
    "c_in = _X.shape[1:]\n",
    "\n",
    "\n",
    "pl_model = PLSKBoolRank(c_in=c_in, steps_per_epoch=steps_per_epoch, max_epochs=max_epochs, dropout=0.25, hs=16, depth=3)\n",
    "model = PLSKWrapper(pl_model, verbose=verbose, max_epochs=max_epochs)\n",
    "df_res = evaluator.eval(model)\n",
    "insample_datasets = list(set(ds_val['ds_string_base']))\n",
    "analyze_dfres(df_res, insample_datasets, insample_datasets)"
   ]
  },
  {
   "cell_type": "markdown",
   "metadata": {},
   "source": [
    "### ConformalLR"
   ]
  },
  {
   "cell_type": "code",
   "execution_count": 16,
   "metadata": {},
   "outputs": [
    {
     "name": "stdout",
     "output_type": "stream",
     "text": [
      "ConformalLR\n"
     ]
    },
    {
     "name": "stderr",
     "output_type": "stream",
     "text": [
      "/media/wassname/SGIronWolf/projects5/elk/sgd_probes_are_lie_detectors/.venv/lib/python3.11/site-packages/sklearn/linear_model/_logistic.py:460: ConvergenceWarning: lbfgs failed to converge (status=1):\n",
      "STOP: TOTAL NO. of ITERATIONS REACHED LIMIT.\n",
      "\n",
      "Increase the number of iterations (max_iter) or scale the data as shown in:\n",
      "    https://scikit-learn.org/stable/modules/preprocessing.html\n",
      "Please also refer to the documentation for alternative solver options:\n",
      "    https://scikit-learn.org/stable/modules/linear_model.html#logistic-regression\n",
      "  n_iter_i = _check_optimize_result(\n",
      "/media/wassname/SGIronWolf/projects5/elk/sgd_probes_are_lie_detectors/.venv/lib/python3.11/site-packages/sklearn/linear_model/_logistic.py:460: ConvergenceWarning: lbfgs failed to converge (status=1):\n",
      "STOP: TOTAL NO. of ITERATIONS REACHED LIMIT.\n",
      "\n",
      "Increase the number of iterations (max_iter) or scale the data as shown in:\n",
      "    https://scikit-learn.org/stable/modules/preprocessing.html\n",
      "Please also refer to the documentation for alternative solver options:\n",
      "    https://scikit-learn.org/stable/modules/linear_model.html#logistic-regression\n",
      "  n_iter_i = _check_optimize_result(\n",
      "/media/wassname/SGIronWolf/projects5/elk/sgd_probes_are_lie_detectors/.venv/lib/python3.11/site-packages/sklearn/linear_model/_logistic.py:460: ConvergenceWarning: lbfgs failed to converge (status=1):\n",
      "STOP: TOTAL NO. of ITERATIONS REACHED LIMIT.\n",
      "\n",
      "Increase the number of iterations (max_iter) or scale the data as shown in:\n",
      "    https://scikit-learn.org/stable/modules/preprocessing.html\n",
      "Please also refer to the documentation for alternative solver options:\n",
      "    https://scikit-learn.org/stable/modules/linear_model.html#logistic-regression\n",
      "  n_iter_i = _check_optimize_result(\n",
      "/media/wassname/SGIronWolf/projects5/elk/sgd_probes_are_lie_detectors/.venv/lib/python3.11/site-packages/sklearn/linear_model/_logistic.py:460: ConvergenceWarning: lbfgs failed to converge (status=1):\n",
      "STOP: TOTAL NO. of ITERATIONS REACHED LIMIT.\n",
      "\n",
      "Increase the number of iterations (max_iter) or scale the data as shown in:\n",
      "    https://scikit-learn.org/stable/modules/preprocessing.html\n",
      "Please also refer to the documentation for alternative solver options:\n",
      "    https://scikit-learn.org/stable/modules/linear_model.html#logistic-regression\n",
      "  n_iter_i = _check_optimize_result(\n",
      "/media/wassname/SGIronWolf/projects5/elk/sgd_probes_are_lie_detectors/.venv/lib/python3.11/site-packages/sklearn/linear_model/_logistic.py:460: ConvergenceWarning: lbfgs failed to converge (status=1):\n",
      "STOP: TOTAL NO. of ITERATIONS REACHED LIMIT.\n",
      "\n",
      "Increase the number of iterations (max_iter) or scale the data as shown in:\n",
      "    https://scikit-learn.org/stable/modules/preprocessing.html\n",
      "Please also refer to the documentation for alternative solver options:\n",
      "    https://scikit-learn.org/stable/modules/linear_model.html#logistic-regression\n",
      "  n_iter_i = _check_optimize_result(\n",
      "/media/wassname/SGIronWolf/projects5/elk/sgd_probes_are_lie_detectors/.venv/lib/python3.11/site-packages/sklearn/linear_model/_logistic.py:460: ConvergenceWarning: lbfgs failed to converge (status=1):\n",
      "STOP: TOTAL NO. of ITERATIONS REACHED LIMIT.\n",
      "\n",
      "Increase the number of iterations (max_iter) or scale the data as shown in:\n",
      "    https://scikit-learn.org/stable/modules/preprocessing.html\n",
      "Please also refer to the documentation for alternative solver options:\n",
      "    https://scikit-learn.org/stable/modules/linear_model.html#logistic-regression\n",
      "  n_iter_i = _check_optimize_result(\n"
     ]
    },
    {
     "name": "stdout",
     "output_type": "stream",
     "text": [
      "⭐ main_metric: 0.715 ⭐ roc_auc for 1002 OOD samples\n"
     ]
    },
    {
     "data": {
      "text/html": [
       "<div>\n",
       "<style scoped>\n",
       "    .dataframe tbody tr th:only-of-type {\n",
       "        vertical-align: middle;\n",
       "    }\n",
       "\n",
       "    .dataframe tbody tr th {\n",
       "        vertical-align: top;\n",
       "    }\n",
       "\n",
       "    .dataframe thead th {\n",
       "        text-align: right;\n",
       "    }\n",
       "</style>\n",
       "<table border=\"1\" class=\"dataframe\">\n",
       "  <thead>\n",
       "    <tr style=\"text-align: right;\">\n",
       "      <th></th>\n",
       "      <th>roc_auc</th>\n",
       "      <th>improvement</th>\n",
       "      <th>acc</th>\n",
       "      <th>n</th>\n",
       "      <th>in_dist_adapter</th>\n",
       "      <th>in_dist_probe</th>\n",
       "      <th>balance</th>\n",
       "      <th>balance_proxy</th>\n",
       "      <th>roc_auc_adapter</th>\n",
       "      <th>roc_auc_base</th>\n",
       "    </tr>\n",
       "  </thead>\n",
       "  <tbody>\n",
       "    <tr>\n",
       "      <th>super_glue:axg</th>\n",
       "      <td>0.72861</td>\n",
       "      <td>-0.089147</td>\n",
       "      <td>0.724551</td>\n",
       "      <td>334</td>\n",
       "      <td>False</td>\n",
       "      <td>False</td>\n",
       "      <td>0.51497</td>\n",
       "      <td>0.751497</td>\n",
       "      <td>0.723048</td>\n",
       "      <td>0.817758</td>\n",
       "    </tr>\n",
       "    <tr>\n",
       "      <th>hans</th>\n",
       "      <td>0.602748</td>\n",
       "      <td>-0.122461</td>\n",
       "      <td>0.603448</td>\n",
       "      <td>58</td>\n",
       "      <td>True</td>\n",
       "      <td>True</td>\n",
       "      <td>0.465517</td>\n",
       "      <td>0.706897</td>\n",
       "      <td>0.572879</td>\n",
       "      <td>0.725209</td>\n",
       "    </tr>\n",
       "    <tr>\n",
       "      <th>sst2</th>\n",
       "      <td>0.741935</td>\n",
       "      <td>-0.141519</td>\n",
       "      <td>0.741935</td>\n",
       "      <td>62</td>\n",
       "      <td>True</td>\n",
       "      <td>True</td>\n",
       "      <td>0.5</td>\n",
       "      <td>0.677419</td>\n",
       "      <td>0.671176</td>\n",
       "      <td>0.883455</td>\n",
       "    </tr>\n",
       "    <tr>\n",
       "      <th>super_glue:rte</th>\n",
       "      <td>0.700181</td>\n",
       "      <td>-0.163949</td>\n",
       "      <td>0.702128</td>\n",
       "      <td>47</td>\n",
       "      <td>True</td>\n",
       "      <td>True</td>\n",
       "      <td>0.489362</td>\n",
       "      <td>0.787234</td>\n",
       "      <td>0.737319</td>\n",
       "      <td>0.86413</td>\n",
       "    </tr>\n",
       "    <tr>\n",
       "      <th>glue:qnli</th>\n",
       "      <td>0.483333</td>\n",
       "      <td>-0.207018</td>\n",
       "      <td>0.485294</td>\n",
       "      <td>68</td>\n",
       "      <td>True</td>\n",
       "      <td>True</td>\n",
       "      <td>0.558824</td>\n",
       "      <td>0.602941</td>\n",
       "      <td>0.59386</td>\n",
       "      <td>0.690351</td>\n",
       "    </tr>\n",
       "    <tr>\n",
       "      <th>imdb</th>\n",
       "      <td>0.697605</td>\n",
       "      <td>-0.20734</td>\n",
       "      <td>0.697605</td>\n",
       "      <td>334</td>\n",
       "      <td>False</td>\n",
       "      <td>False</td>\n",
       "      <td>0.5</td>\n",
       "      <td>0.742515</td>\n",
       "      <td>0.785399</td>\n",
       "      <td>0.904945</td>\n",
       "    </tr>\n",
       "    <tr>\n",
       "      <th>super_glue:boolq</th>\n",
       "      <td>0.72306</td>\n",
       "      <td>-0.208944</td>\n",
       "      <td>0.724551</td>\n",
       "      <td>334</td>\n",
       "      <td>False</td>\n",
       "      <td>False</td>\n",
       "      <td>0.479042</td>\n",
       "      <td>0.826347</td>\n",
       "      <td>0.894935</td>\n",
       "      <td>0.932004</td>\n",
       "    </tr>\n",
       "    <tr>\n",
       "      <th>amazon_polarity</th>\n",
       "      <td>0.682331</td>\n",
       "      <td>-0.284774</td>\n",
       "      <td>0.666667</td>\n",
       "      <td>66</td>\n",
       "      <td>True</td>\n",
       "      <td>True</td>\n",
       "      <td>0.575758</td>\n",
       "      <td>0.727273</td>\n",
       "      <td>0.743421</td>\n",
       "      <td>0.967105</td>\n",
       "    </tr>\n",
       "  </tbody>\n",
       "</table>\n",
       "</div>"
      ],
      "text/plain": [
       "                   roc_auc improvement       acc    n in_dist_adapter  \\\n",
       "super_glue:axg     0.72861   -0.089147  0.724551  334           False   \n",
       "hans              0.602748   -0.122461  0.603448   58            True   \n",
       "sst2              0.741935   -0.141519  0.741935   62            True   \n",
       "super_glue:rte    0.700181   -0.163949  0.702128   47            True   \n",
       "glue:qnli         0.483333   -0.207018  0.485294   68            True   \n",
       "imdb              0.697605    -0.20734  0.697605  334           False   \n",
       "super_glue:boolq   0.72306   -0.208944  0.724551  334           False   \n",
       "amazon_polarity   0.682331   -0.284774  0.666667   66            True   \n",
       "\n",
       "                 in_dist_probe   balance balance_proxy roc_auc_adapter  \\\n",
       "super_glue:axg           False   0.51497      0.751497        0.723048   \n",
       "hans                      True  0.465517      0.706897        0.572879   \n",
       "sst2                      True       0.5      0.677419        0.671176   \n",
       "super_glue:rte            True  0.489362      0.787234        0.737319   \n",
       "glue:qnli                 True  0.558824      0.602941         0.59386   \n",
       "imdb                     False       0.5      0.742515        0.785399   \n",
       "super_glue:boolq         False  0.479042      0.826347        0.894935   \n",
       "amazon_polarity           True  0.575758      0.727273        0.743421   \n",
       "\n",
       "                 roc_auc_base  \n",
       "super_glue:axg       0.817758  \n",
       "hans                 0.725209  \n",
       "sst2                 0.883455  \n",
       "super_glue:rte        0.86413  \n",
       "glue:qnli            0.690351  \n",
       "imdb                 0.904945  \n",
       "super_glue:boolq     0.932004  \n",
       "amazon_polarity      0.967105  "
      ]
     },
     "metadata": {},
     "output_type": "display_data"
    },
    {
     "data": {
      "text/html": [
       "<div>\n",
       "<style scoped>\n",
       "    .dataframe tbody tr th:only-of-type {\n",
       "        vertical-align: middle;\n",
       "    }\n",
       "\n",
       "    .dataframe tbody tr th {\n",
       "        vertical-align: top;\n",
       "    }\n",
       "\n",
       "    .dataframe thead th {\n",
       "        text-align: right;\n",
       "    }\n",
       "</style>\n",
       "<table border=\"1\" class=\"dataframe\">\n",
       "  <thead>\n",
       "    <tr style=\"text-align: right;\">\n",
       "      <th></th>\n",
       "      <th>roc_auc</th>\n",
       "      <th>improvement</th>\n",
       "      <th>acc</th>\n",
       "      <th>n</th>\n",
       "      <th>in_dist_adapter</th>\n",
       "      <th>in_dist_probe</th>\n",
       "      <th>balance</th>\n",
       "      <th>balance_proxy</th>\n",
       "      <th>roc_auc_adapter</th>\n",
       "      <th>roc_auc_base</th>\n",
       "    </tr>\n",
       "  </thead>\n",
       "  <tbody>\n",
       "    <tr>\n",
       "      <th>super_glue:axg</th>\n",
       "      <td>0.72861</td>\n",
       "      <td>-0.089147</td>\n",
       "      <td>0.724551</td>\n",
       "      <td>334</td>\n",
       "      <td>False</td>\n",
       "      <td>False</td>\n",
       "      <td>0.51497</td>\n",
       "      <td>0.751497</td>\n",
       "      <td>0.723048</td>\n",
       "      <td>0.817758</td>\n",
       "    </tr>\n",
       "    <tr>\n",
       "      <th>hans</th>\n",
       "      <td>0.602748</td>\n",
       "      <td>-0.122461</td>\n",
       "      <td>0.603448</td>\n",
       "      <td>58</td>\n",
       "      <td>True</td>\n",
       "      <td>True</td>\n",
       "      <td>0.465517</td>\n",
       "      <td>0.706897</td>\n",
       "      <td>0.572879</td>\n",
       "      <td>0.725209</td>\n",
       "    </tr>\n",
       "    <tr>\n",
       "      <th>sst2</th>\n",
       "      <td>0.741935</td>\n",
       "      <td>-0.141519</td>\n",
       "      <td>0.741935</td>\n",
       "      <td>62</td>\n",
       "      <td>True</td>\n",
       "      <td>True</td>\n",
       "      <td>0.5</td>\n",
       "      <td>0.677419</td>\n",
       "      <td>0.671176</td>\n",
       "      <td>0.883455</td>\n",
       "    </tr>\n",
       "    <tr>\n",
       "      <th>super_glue:rte</th>\n",
       "      <td>0.700181</td>\n",
       "      <td>-0.163949</td>\n",
       "      <td>0.702128</td>\n",
       "      <td>47</td>\n",
       "      <td>True</td>\n",
       "      <td>True</td>\n",
       "      <td>0.489362</td>\n",
       "      <td>0.787234</td>\n",
       "      <td>0.737319</td>\n",
       "      <td>0.86413</td>\n",
       "    </tr>\n",
       "    <tr>\n",
       "      <th>glue:qnli</th>\n",
       "      <td>0.483333</td>\n",
       "      <td>-0.207018</td>\n",
       "      <td>0.485294</td>\n",
       "      <td>68</td>\n",
       "      <td>True</td>\n",
       "      <td>True</td>\n",
       "      <td>0.558824</td>\n",
       "      <td>0.602941</td>\n",
       "      <td>0.59386</td>\n",
       "      <td>0.690351</td>\n",
       "    </tr>\n",
       "    <tr>\n",
       "      <th>imdb</th>\n",
       "      <td>0.697605</td>\n",
       "      <td>-0.20734</td>\n",
       "      <td>0.697605</td>\n",
       "      <td>334</td>\n",
       "      <td>False</td>\n",
       "      <td>False</td>\n",
       "      <td>0.5</td>\n",
       "      <td>0.742515</td>\n",
       "      <td>0.785399</td>\n",
       "      <td>0.904945</td>\n",
       "    </tr>\n",
       "    <tr>\n",
       "      <th>super_glue:boolq</th>\n",
       "      <td>0.72306</td>\n",
       "      <td>-0.208944</td>\n",
       "      <td>0.724551</td>\n",
       "      <td>334</td>\n",
       "      <td>False</td>\n",
       "      <td>False</td>\n",
       "      <td>0.479042</td>\n",
       "      <td>0.826347</td>\n",
       "      <td>0.894935</td>\n",
       "      <td>0.932004</td>\n",
       "    </tr>\n",
       "    <tr>\n",
       "      <th>amazon_polarity</th>\n",
       "      <td>0.682331</td>\n",
       "      <td>-0.284774</td>\n",
       "      <td>0.666667</td>\n",
       "      <td>66</td>\n",
       "      <td>True</td>\n",
       "      <td>True</td>\n",
       "      <td>0.575758</td>\n",
       "      <td>0.727273</td>\n",
       "      <td>0.743421</td>\n",
       "      <td>0.967105</td>\n",
       "    </tr>\n",
       "  </tbody>\n",
       "</table>\n",
       "</div>"
      ],
      "text/plain": [
       "                   roc_auc improvement       acc    n in_dist_adapter  \\\n",
       "super_glue:axg     0.72861   -0.089147  0.724551  334           False   \n",
       "hans              0.602748   -0.122461  0.603448   58            True   \n",
       "sst2              0.741935   -0.141519  0.741935   62            True   \n",
       "super_glue:rte    0.700181   -0.163949  0.702128   47            True   \n",
       "glue:qnli         0.483333   -0.207018  0.485294   68            True   \n",
       "imdb              0.697605    -0.20734  0.697605  334           False   \n",
       "super_glue:boolq   0.72306   -0.208944  0.724551  334           False   \n",
       "amazon_polarity   0.682331   -0.284774  0.666667   66            True   \n",
       "\n",
       "                 in_dist_probe   balance balance_proxy roc_auc_adapter  \\\n",
       "super_glue:axg           False   0.51497      0.751497        0.723048   \n",
       "hans                      True  0.465517      0.706897        0.572879   \n",
       "sst2                      True       0.5      0.677419        0.671176   \n",
       "super_glue:rte            True  0.489362      0.787234        0.737319   \n",
       "glue:qnli                 True  0.558824      0.602941         0.59386   \n",
       "imdb                     False       0.5      0.742515        0.785399   \n",
       "super_glue:boolq         False  0.479042      0.826347        0.894935   \n",
       "amazon_polarity           True  0.575758      0.727273        0.743421   \n",
       "\n",
       "                 roc_auc_base  \n",
       "super_glue:axg       0.817758  \n",
       "hans                 0.725209  \n",
       "sst2                 0.883455  \n",
       "super_glue:rte        0.86413  \n",
       "glue:qnli            0.690351  \n",
       "imdb                 0.904945  \n",
       "super_glue:boolq     0.932004  \n",
       "amazon_polarity      0.967105  "
      ]
     },
     "execution_count": 16,
     "metadata": {},
     "output_type": "execute_result"
    }
   ],
   "source": [
    "from src.probes.conformal import MapieClassifier2\n",
    "from sklearn.linear_model import LogisticRegression\n",
    "\n",
    "print('ConformalLR')\n",
    "evaluator = RankingTruthEval(ds_trainval=ds_val, ds_test=ds_ood, importance_matrix=importance_matrix, skip=skip, stride=stride, decimate=decimate, layers_names=layers)\n",
    "\n",
    "clf = LogisticRegression(random_state=42, max_iter=1000, class_weight='balanced',)\n",
    "model = MapieClassifier2(estimator=clf, \n",
    "                        # cv=\"prefit\",\n",
    "                        method=\"score\",                        \n",
    "                        )\n",
    "df_res = evaluator.eval(model)\n",
    "insample_datasets = list(set(ds_val['ds_string_base']))\n",
    "analyze_dfres(df_res, insample_datasets, insample_datasets)"
   ]
  },
  {
   "cell_type": "code",
   "execution_count": null,
   "metadata": {},
   "outputs": [],
   "source": []
  },
  {
   "cell_type": "markdown",
   "metadata": {},
   "source": [
    "### CCS"
   ]
  },
  {
   "cell_type": "code",
   "execution_count": 17,
   "metadata": {},
   "outputs": [],
   "source": [
    "from src.probes.ccs import PLSKCCS"
   ]
  },
  {
   "cell_type": "code",
   "execution_count": 18,
   "metadata": {},
   "outputs": [
    {
     "name": "stdout",
     "output_type": "stream",
     "text": [
      "CCS\n"
     ]
    },
    {
     "name": "stderr",
     "output_type": "stream",
     "text": [
      "Trainer will use only 1 of 2 GPUs because it is running inside an interactive / notebook environment. You may try to set `Trainer(devices=2)` but please note that multi-GPU inside interactive / notebook environments is considered experimental and unstable. Your mileage may vary.\n",
      "GPU available: True (cuda), used: True\n",
      "TPU available: False, using: 0 TPU cores\n",
      "IPU available: False, using: 0 IPUs\n",
      "HPU available: False, using: 0 HPUs\n",
      "LOCAL_RANK: 0 - CUDA_VISIBLE_DEVICES: [0,1]\n",
      "\n",
      "  | Name  | Type       | Params\n",
      "-------------------------------------\n",
      "0 | model | Sequential | 57.6 K\n",
      "-------------------------------------\n",
      "57.6 K    Trainable params\n",
      "0         Non-trainable params\n",
      "57.6 K    Total params\n",
      "0.230     Total estimated model params size (MB)\n"
     ]
    },
    {
     "data": {
      "application/vnd.jupyter.widget-view+json": {
       "model_id": "1499de16cde942aba8501ae8c99bc8c0",
       "version_major": 2,
       "version_minor": 0
      },
      "text/plain": [
       "Sanity Checking: |          | 0/? [00:00<?, ?it/s]"
      ]
     },
     "metadata": {},
     "output_type": "display_data"
    },
    {
     "name": "stderr",
     "output_type": "stream",
     "text": [
      "/media/wassname/SGIronWolf/projects5/elk/sgd_probes_are_lie_detectors/.venv/lib/python3.11/site-packages/lightning/pytorch/trainer/connectors/data_connector.py:441: The 'val_dataloader' does not have many workers which may be a bottleneck. Consider increasing the value of the `num_workers` argument` to `num_workers=23` in the `DataLoader` to improve performance.\n",
      "/media/wassname/SGIronWolf/projects5/elk/sgd_probes_are_lie_detectors/.venv/lib/python3.11/site-packages/lightning/pytorch/trainer/connectors/data_connector.py:441: The 'train_dataloader' does not have many workers which may be a bottleneck. Consider increasing the value of the `num_workers` argument` to `num_workers=23` in the `DataLoader` to improve performance.\n"
     ]
    },
    {
     "data": {
      "application/vnd.jupyter.widget-view+json": {
       "model_id": "72dabbad0cf144a095e42d6807c11303",
       "version_major": 2,
       "version_minor": 0
      },
      "text/plain": [
       "Training: |          | 0/? [00:00<?, ?it/s]"
      ]
     },
     "metadata": {},
     "output_type": "display_data"
    },
    {
     "data": {
      "application/vnd.jupyter.widget-view+json": {
       "model_id": "fb80d3f30d3845aeaaf69d5987f77f9f",
       "version_major": 2,
       "version_minor": 0
      },
      "text/plain": [
       "Validation: |          | 0/? [00:00<?, ?it/s]"
      ]
     },
     "metadata": {},
     "output_type": "display_data"
    },
    {
     "data": {
      "application/vnd.jupyter.widget-view+json": {
       "model_id": "8f24042c66be47509cc98e94563d8bc7",
       "version_major": 2,
       "version_minor": 0
      },
      "text/plain": [
       "Validation: |          | 0/? [00:00<?, ?it/s]"
      ]
     },
     "metadata": {},
     "output_type": "display_data"
    },
    {
     "name": "stderr",
     "output_type": "stream",
     "text": [
      "`Trainer.fit` stopped: `max_epochs=2` reached.\n"
     ]
    },
    {
     "data": {
      "image/png": "[encoded data removed]",
      "text/plain": [
       "<Figure size 800x550 with 1 Axes>"
      ]
     },
     "metadata": {},
     "output_type": "display_data"
    },
    {
     "data": {
      "image/png": "[encoded data removed]",
      "text/plain": [
       "<Figure size 800x550 with 1 Axes>"
      ]
     },
     "metadata": {},
     "output_type": "display_data"
    },
    {
     "name": "stderr",
     "output_type": "stream",
     "text": [
      "LOCAL_RANK: 0 - CUDA_VISIBLE_DEVICES: [0,1]\n",
      "/media/wassname/SGIronWolf/projects5/elk/sgd_probes_are_lie_detectors/.venv/lib/python3.11/site-packages/lightning/pytorch/trainer/connectors/data_connector.py:441: The 'predict_dataloader' does not have many workers which may be a bottleneck. Consider increasing the value of the `num_workers` argument` to `num_workers=23` in the `DataLoader` to improve performance.\n"
     ]
    },
    {
     "data": {
      "application/vnd.jupyter.widget-view+json": {
       "model_id": "e88757217e7a4c6fa386202954586579",
       "version_major": 2,
       "version_minor": 0
      },
      "text/plain": [
       "Predicting: |          | 0/? [00:00<?, ?it/s]"
      ]
     },
     "metadata": {},
     "output_type": "display_data"
    },
    {
     "name": "stderr",
     "output_type": "stream",
     "text": [
      "LOCAL_RANK: 0 - CUDA_VISIBLE_DEVICES: [0,1]\n",
      "/media/wassname/SGIronWolf/projects5/elk/sgd_probes_are_lie_detectors/.venv/lib/python3.11/site-packages/lightning/pytorch/trainer/connectors/data_connector.py:441: The 'predict_dataloader' does not have many workers which may be a bottleneck. Consider increasing the value of the `num_workers` argument` to `num_workers=23` in the `DataLoader` to improve performance.\n"
     ]
    },
    {
     "data": {
      "application/vnd.jupyter.widget-view+json": {
       "model_id": "8dc7623cbeca40e78423974be9234292",
       "version_major": 2,
       "version_minor": 0
      },
      "text/plain": [
       "Predicting: |          | 0/? [00:00<?, ?it/s]"
      ]
     },
     "metadata": {},
     "output_type": "display_data"
    },
    {
     "name": "stderr",
     "output_type": "stream",
     "text": [
      "LOCAL_RANK: 0 - CUDA_VISIBLE_DEVICES: [0,1]\n",
      "/media/wassname/SGIronWolf/projects5/elk/sgd_probes_are_lie_detectors/.venv/lib/python3.11/site-packages/lightning/pytorch/trainer/connectors/data_connector.py:441: The 'predict_dataloader' does not have many workers which may be a bottleneck. Consider increasing the value of the `num_workers` argument` to `num_workers=23` in the `DataLoader` to improve performance.\n"
     ]
    },
    {
     "data": {
      "application/vnd.jupyter.widget-view+json": {
       "model_id": "5d3b367593794f2c93742cf5670ddf81",
       "version_major": 2,
       "version_minor": 0
      },
      "text/plain": [
       "Predicting: |          | 0/? [00:00<?, ?it/s]"
      ]
     },
     "metadata": {},
     "output_type": "display_data"
    },
    {
     "name": "stdout",
     "output_type": "stream",
     "text": [
      "⭐ main_metric: 0.227 ⭐ roc_auc for 1002 OOD samples\n"
     ]
    },
    {
     "data": {
      "text/html": [
       "<div>\n",
       "<style scoped>\n",
       "    .dataframe tbody tr th:only-of-type {\n",
       "        vertical-align: middle;\n",
       "    }\n",
       "\n",
       "    .dataframe tbody tr th {\n",
       "        vertical-align: top;\n",
       "    }\n",
       "\n",
       "    .dataframe thead th {\n",
       "        text-align: right;\n",
       "    }\n",
       "</style>\n",
       "<table border=\"1\" class=\"dataframe\">\n",
       "  <thead>\n",
       "    <tr style=\"text-align: right;\">\n",
       "      <th></th>\n",
       "      <th>roc_auc</th>\n",
       "      <th>improvement</th>\n",
       "      <th>acc</th>\n",
       "      <th>n</th>\n",
       "      <th>in_dist_adapter</th>\n",
       "      <th>in_dist_probe</th>\n",
       "      <th>balance</th>\n",
       "      <th>balance_proxy</th>\n",
       "      <th>roc_auc_adapter</th>\n",
       "      <th>roc_auc_base</th>\n",
       "    </tr>\n",
       "  </thead>\n",
       "  <tbody>\n",
       "    <tr>\n",
       "      <th>glue:qnli</th>\n",
       "      <td>0.42193</td>\n",
       "      <td>-0.268421</td>\n",
       "      <td>0.397059</td>\n",
       "      <td>68</td>\n",
       "      <td>True</td>\n",
       "      <td>True</td>\n",
       "      <td>0.558824</td>\n",
       "      <td>0.602941</td>\n",
       "      <td>0.59386</td>\n",
       "      <td>0.690351</td>\n",
       "    </tr>\n",
       "    <tr>\n",
       "      <th>hans</th>\n",
       "      <td>0.29092</td>\n",
       "      <td>-0.434289</td>\n",
       "      <td>0.293103</td>\n",
       "      <td>58</td>\n",
       "      <td>True</td>\n",
       "      <td>True</td>\n",
       "      <td>0.465517</td>\n",
       "      <td>0.706897</td>\n",
       "      <td>0.572879</td>\n",
       "      <td>0.725209</td>\n",
       "    </tr>\n",
       "    <tr>\n",
       "      <th>sst2</th>\n",
       "      <td>0.322581</td>\n",
       "      <td>-0.560874</td>\n",
       "      <td>0.322581</td>\n",
       "      <td>62</td>\n",
       "      <td>True</td>\n",
       "      <td>True</td>\n",
       "      <td>0.5</td>\n",
       "      <td>0.677419</td>\n",
       "      <td>0.671176</td>\n",
       "      <td>0.883455</td>\n",
       "    </tr>\n",
       "    <tr>\n",
       "      <th>super_glue:axg</th>\n",
       "      <td>0.245406</td>\n",
       "      <td>-0.572351</td>\n",
       "      <td>0.248503</td>\n",
       "      <td>334</td>\n",
       "      <td>False</td>\n",
       "      <td>False</td>\n",
       "      <td>0.51497</td>\n",
       "      <td>0.751497</td>\n",
       "      <td>0.723048</td>\n",
       "      <td>0.817758</td>\n",
       "    </tr>\n",
       "    <tr>\n",
       "      <th>imdb</th>\n",
       "      <td>0.257485</td>\n",
       "      <td>-0.64746</td>\n",
       "      <td>0.257485</td>\n",
       "      <td>334</td>\n",
       "      <td>False</td>\n",
       "      <td>False</td>\n",
       "      <td>0.5</td>\n",
       "      <td>0.742515</td>\n",
       "      <td>0.785399</td>\n",
       "      <td>0.904945</td>\n",
       "    </tr>\n",
       "    <tr>\n",
       "      <th>super_glue:rte</th>\n",
       "      <td>0.21558</td>\n",
       "      <td>-0.648551</td>\n",
       "      <td>0.212766</td>\n",
       "      <td>47</td>\n",
       "      <td>True</td>\n",
       "      <td>True</td>\n",
       "      <td>0.489362</td>\n",
       "      <td>0.787234</td>\n",
       "      <td>0.737319</td>\n",
       "      <td>0.86413</td>\n",
       "    </tr>\n",
       "    <tr>\n",
       "      <th>amazon_polarity</th>\n",
       "      <td>0.255639</td>\n",
       "      <td>-0.711466</td>\n",
       "      <td>0.272727</td>\n",
       "      <td>66</td>\n",
       "      <td>True</td>\n",
       "      <td>True</td>\n",
       "      <td>0.575758</td>\n",
       "      <td>0.727273</td>\n",
       "      <td>0.743421</td>\n",
       "      <td>0.967105</td>\n",
       "    </tr>\n",
       "    <tr>\n",
       "      <th>super_glue:boolq</th>\n",
       "      <td>0.175216</td>\n",
       "      <td>-0.756789</td>\n",
       "      <td>0.173653</td>\n",
       "      <td>334</td>\n",
       "      <td>False</td>\n",
       "      <td>False</td>\n",
       "      <td>0.479042</td>\n",
       "      <td>0.826347</td>\n",
       "      <td>0.894935</td>\n",
       "      <td>0.932004</td>\n",
       "    </tr>\n",
       "  </tbody>\n",
       "</table>\n",
       "</div>"
      ],
      "text/plain": [
       "                   roc_auc improvement       acc    n in_dist_adapter  \\\n",
       "glue:qnli          0.42193   -0.268421  0.397059   68            True   \n",
       "hans               0.29092   -0.434289  0.293103   58            True   \n",
       "sst2              0.322581   -0.560874  0.322581   62            True   \n",
       "super_glue:axg    0.245406   -0.572351  0.248503  334           False   \n",
       "imdb              0.257485    -0.64746  0.257485  334           False   \n",
       "super_glue:rte     0.21558   -0.648551  0.212766   47            True   \n",
       "amazon_polarity   0.255639   -0.711466  0.272727   66            True   \n",
       "super_glue:boolq  0.175216   -0.756789  0.173653  334           False   \n",
       "\n",
       "                 in_dist_probe   balance balance_proxy roc_auc_adapter  \\\n",
       "glue:qnli                 True  0.558824      0.602941         0.59386   \n",
       "hans                      True  0.465517      0.706897        0.572879   \n",
       "sst2                      True       0.5      0.677419        0.671176   \n",
       "super_glue:axg           False   0.51497      0.751497        0.723048   \n",
       "imdb                     False       0.5      0.742515        0.785399   \n",
       "super_glue:rte            True  0.489362      0.787234        0.737319   \n",
       "amazon_polarity           True  0.575758      0.727273        0.743421   \n",
       "super_glue:boolq         False  0.479042      0.826347        0.894935   \n",
       "\n",
       "                 roc_auc_base  \n",
       "glue:qnli            0.690351  \n",
       "hans                 0.725209  \n",
       "sst2                 0.883455  \n",
       "super_glue:axg       0.817758  \n",
       "imdb                 0.904945  \n",
       "super_glue:rte        0.86413  \n",
       "amazon_polarity      0.967105  \n",
       "super_glue:boolq     0.932004  "
      ]
     },
     "metadata": {},
     "output_type": "display_data"
    },
    {
     "data": {
      "text/html": [
       "<div>\n",
       "<style scoped>\n",
       "    .dataframe tbody tr th:only-of-type {\n",
       "        vertical-align: middle;\n",
       "    }\n",
       "\n",
       "    .dataframe tbody tr th {\n",
       "        vertical-align: top;\n",
       "    }\n",
       "\n",
       "    .dataframe thead th {\n",
       "        text-align: right;\n",
       "    }\n",
       "</style>\n",
       "<table border=\"1\" class=\"dataframe\">\n",
       "  <thead>\n",
       "    <tr style=\"text-align: right;\">\n",
       "      <th></th>\n",
       "      <th>roc_auc</th>\n",
       "      <th>improvement</th>\n",
       "      <th>acc</th>\n",
       "      <th>n</th>\n",
       "      <th>in_dist_adapter</th>\n",
       "      <th>in_dist_probe</th>\n",
       "      <th>balance</th>\n",
       "      <th>balance_proxy</th>\n",
       "      <th>roc_auc_adapter</th>\n",
       "      <th>roc_auc_base</th>\n",
       "    </tr>\n",
       "  </thead>\n",
       "  <tbody>\n",
       "    <tr>\n",
       "      <th>glue:qnli</th>\n",
       "      <td>0.42193</td>\n",
       "      <td>-0.268421</td>\n",
       "      <td>0.397059</td>\n",
       "      <td>68</td>\n",
       "      <td>True</td>\n",
       "      <td>True</td>\n",
       "      <td>0.558824</td>\n",
       "      <td>0.602941</td>\n",
       "      <td>0.59386</td>\n",
       "      <td>0.690351</td>\n",
       "    </tr>\n",
       "    <tr>\n",
       "      <th>hans</th>\n",
       "      <td>0.29092</td>\n",
       "      <td>-0.434289</td>\n",
       "      <td>0.293103</td>\n",
       "      <td>58</td>\n",
       "      <td>True</td>\n",
       "      <td>True</td>\n",
       "      <td>0.465517</td>\n",
       "      <td>0.706897</td>\n",
       "      <td>0.572879</td>\n",
       "      <td>0.725209</td>\n",
       "    </tr>\n",
       "    <tr>\n",
       "      <th>sst2</th>\n",
       "      <td>0.322581</td>\n",
       "      <td>-0.560874</td>\n",
       "      <td>0.322581</td>\n",
       "      <td>62</td>\n",
       "      <td>True</td>\n",
       "      <td>True</td>\n",
       "      <td>0.5</td>\n",
       "      <td>0.677419</td>\n",
       "      <td>0.671176</td>\n",
       "      <td>0.883455</td>\n",
       "    </tr>\n",
       "    <tr>\n",
       "      <th>super_glue:axg</th>\n",
       "      <td>0.245406</td>\n",
       "      <td>-0.572351</td>\n",
       "      <td>0.248503</td>\n",
       "      <td>334</td>\n",
       "      <td>False</td>\n",
       "      <td>False</td>\n",
       "      <td>0.51497</td>\n",
       "      <td>0.751497</td>\n",
       "      <td>0.723048</td>\n",
       "      <td>0.817758</td>\n",
       "    </tr>\n",
       "    <tr>\n",
       "      <th>imdb</th>\n",
       "      <td>0.257485</td>\n",
       "      <td>-0.64746</td>\n",
       "      <td>0.257485</td>\n",
       "      <td>334</td>\n",
       "      <td>False</td>\n",
       "      <td>False</td>\n",
       "      <td>0.5</td>\n",
       "      <td>0.742515</td>\n",
       "      <td>0.785399</td>\n",
       "      <td>0.904945</td>\n",
       "    </tr>\n",
       "    <tr>\n",
       "      <th>super_glue:rte</th>\n",
       "      <td>0.21558</td>\n",
       "      <td>-0.648551</td>\n",
       "      <td>0.212766</td>\n",
       "      <td>47</td>\n",
       "      <td>True</td>\n",
       "      <td>True</td>\n",
       "      <td>0.489362</td>\n",
       "      <td>0.787234</td>\n",
       "      <td>0.737319</td>\n",
       "      <td>0.86413</td>\n",
       "    </tr>\n",
       "    <tr>\n",
       "      <th>amazon_polarity</th>\n",
       "      <td>0.255639</td>\n",
       "      <td>-0.711466</td>\n",
       "      <td>0.272727</td>\n",
       "      <td>66</td>\n",
       "      <td>True</td>\n",
       "      <td>True</td>\n",
       "      <td>0.575758</td>\n",
       "      <td>0.727273</td>\n",
       "      <td>0.743421</td>\n",
       "      <td>0.967105</td>\n",
       "    </tr>\n",
       "    <tr>\n",
       "      <th>super_glue:boolq</th>\n",
       "      <td>0.175216</td>\n",
       "      <td>-0.756789</td>\n",
       "      <td>0.173653</td>\n",
       "      <td>334</td>\n",
       "      <td>False</td>\n",
       "      <td>False</td>\n",
       "      <td>0.479042</td>\n",
       "      <td>0.826347</td>\n",
       "      <td>0.894935</td>\n",
       "      <td>0.932004</td>\n",
       "    </tr>\n",
       "  </tbody>\n",
       "</table>\n",
       "</div>"
      ],
      "text/plain": [
       "                   roc_auc improvement       acc    n in_dist_adapter  \\\n",
       "glue:qnli          0.42193   -0.268421  0.397059   68            True   \n",
       "hans               0.29092   -0.434289  0.293103   58            True   \n",
       "sst2              0.322581   -0.560874  0.322581   62            True   \n",
       "super_glue:axg    0.245406   -0.572351  0.248503  334           False   \n",
       "imdb              0.257485    -0.64746  0.257485  334           False   \n",
       "super_glue:rte     0.21558   -0.648551  0.212766   47            True   \n",
       "amazon_polarity   0.255639   -0.711466  0.272727   66            True   \n",
       "super_glue:boolq  0.175216   -0.756789  0.173653  334           False   \n",
       "\n",
       "                 in_dist_probe   balance balance_proxy roc_auc_adapter  \\\n",
       "glue:qnli                 True  0.558824      0.602941         0.59386   \n",
       "hans                      True  0.465517      0.706897        0.572879   \n",
       "sst2                      True       0.5      0.677419        0.671176   \n",
       "super_glue:axg           False   0.51497      0.751497        0.723048   \n",
       "imdb                     False       0.5      0.742515        0.785399   \n",
       "super_glue:rte            True  0.489362      0.787234        0.737319   \n",
       "amazon_polarity           True  0.575758      0.727273        0.743421   \n",
       "super_glue:boolq         False  0.479042      0.826347        0.894935   \n",
       "\n",
       "                 roc_auc_base  \n",
       "glue:qnli            0.690351  \n",
       "hans                 0.725209  \n",
       "sst2                 0.883455  \n",
       "super_glue:axg       0.817758  \n",
       "imdb                 0.904945  \n",
       "super_glue:rte        0.86413  \n",
       "amazon_polarity      0.967105  \n",
       "super_glue:boolq     0.932004  "
      ]
     },
     "execution_count": 18,
     "metadata": {},
     "output_type": "execute_result"
    }
   ],
   "source": [
    "max_epochs = 2\n",
    "print('CCS')\n",
    "evaluator = RankingTruthEval(ds_trainval=ds_val, ds_test=ds_ood, importance_matrix=importance_matrix, skip=skip, stride=stride, decimate=decimate, layers_names=layers)\n",
    "steps_per_epoch = int(len(ds_val)*0.7//batch_size)\n",
    "\n",
    "_X, _ = evaluator.ds2xy(ds_val)\n",
    "c_in = _X.shape[1:]\n",
    "\n",
    "\n",
    "pl_model = PLSKCCS(c_in=c_in, steps_per_epoch=steps_per_epoch, max_epochs=max_epochs, dropout=0.25, hs=16, depth=2)\n",
    "model = PLSKWrapper(pl_model, verbose=verbose, max_epochs=max_epochs)\n",
    "df_res = evaluator.eval(model)\n",
    "insample_datasets = list(set(ds_val['ds_string_base']))\n",
    "analyze_dfres(df_res, insample_datasets, insample_datasets)"
   ]
  },
  {
   "cell_type": "markdown",
   "metadata": {},
   "source": [
    "# Compare importance matrix"
   ]
  },
  {
   "cell_type": "code",
   "execution_count": 19,
   "metadata": {},
   "outputs": [],
   "source": [
    "from sklearn.metrics import roc_auc_score, accuracy_score\n",
    "from einops import rearrange\n",
    "import safetensors.torch\n",
    "\n",
    "def get_importance_matrix2(saved_adaptop_file, layers=['fc1', 'Wqkv']):\n",
    "    state_dict = safetensors.torch.load_file(saved_adaptop_file)\n",
    "    keys = sorted(state_dict.keys())\n",
    "    if layers is None:\n",
    "        layers = list(set([k.split('.')[-2] for k in state_dict.keys()]))\n",
    "\n",
    "    activations = {}\n",
    "\n",
    "    for k in keys:\n",
    "        suffix = k.split('.')[-2]\n",
    "        if suffix not in activations:\n",
    "            activations[suffix] = []\n",
    "        activations[suffix].append(state_dict[k])\n",
    "\n",
    "    for k in activations.keys():\n",
    "        activations[k] = rearrange(activations[k], 'l h b -> (b l) h').detach().cpu().float()\n",
    "        print(k, activations[k].shape)\n",
    "\n",
    "\n",
    "    importance_matrix = torch.concat([activations[i] for i in layers], dim=1)\n",
    "    return importance_matrix"
   ]
  },
  {
   "cell_type": "code",
   "execution_count": 20,
   "metadata": {},
   "outputs": [
    {
     "name": "stdout",
     "output_type": "stream",
     "text": [
      "no matrix\n"
     ]
    },
    {
     "name": "stderr",
     "output_type": "stream",
     "text": [
      "/media/wassname/SGIronWolf/projects5/elk/sgd_probes_are_lie_detectors/.venv/lib/python3.11/site-packages/sklearn/linear_model/_sag.py:350: ConvergenceWarning: The max_iter was reached which means the coef_ did not converge\n",
      "  warnings.warn(\n"
     ]
    },
    {
     "name": "stdout",
     "output_type": "stream",
     "text": [
      "⭐ main_metric: 0.616 ⭐ roc_auc for 1002 OOD samples\n"
     ]
    },
    {
     "data": {
      "text/html": [
       "<div>\n",
       "<style scoped>\n",
       "    .dataframe tbody tr th:only-of-type {\n",
       "        vertical-align: middle;\n",
       "    }\n",
       "\n",
       "    .dataframe tbody tr th {\n",
       "        vertical-align: top;\n",
       "    }\n",
       "\n",
       "    .dataframe thead th {\n",
       "        text-align: right;\n",
       "    }\n",
       "</style>\n",
       "<table border=\"1\" class=\"dataframe\">\n",
       "  <thead>\n",
       "    <tr style=\"text-align: right;\">\n",
       "      <th></th>\n",
       "      <th>roc_auc</th>\n",
       "      <th>improvement</th>\n",
       "      <th>acc</th>\n",
       "      <th>n</th>\n",
       "      <th>in_dist_adapter</th>\n",
       "      <th>in_dist_probe</th>\n",
       "      <th>balance</th>\n",
       "      <th>balance_proxy</th>\n",
       "      <th>roc_auc_adapter</th>\n",
       "      <th>roc_auc_base</th>\n",
       "    </tr>\n",
       "  </thead>\n",
       "  <tbody>\n",
       "    <tr>\n",
       "      <th>amazon_polarity</th>\n",
       "      <td>0.869444</td>\n",
       "      <td>-0.097661</td>\n",
       "      <td>0.909091</td>\n",
       "      <td>66</td>\n",
       "      <td>True</td>\n",
       "      <td>True</td>\n",
       "      <td>0.909091</td>\n",
       "      <td>0.909091</td>\n",
       "      <td>0.743421</td>\n",
       "      <td>0.967105</td>\n",
       "    </tr>\n",
       "    <tr>\n",
       "      <th>sst2</th>\n",
       "      <td>0.766091</td>\n",
       "      <td>-0.117364</td>\n",
       "      <td>0.758065</td>\n",
       "      <td>62</td>\n",
       "      <td>True</td>\n",
       "      <td>True</td>\n",
       "      <td>0.790323</td>\n",
       "      <td>0.790323</td>\n",
       "      <td>0.671176</td>\n",
       "      <td>0.883455</td>\n",
       "    </tr>\n",
       "    <tr>\n",
       "      <th>hans</th>\n",
       "      <td>0.561404</td>\n",
       "      <td>-0.163806</td>\n",
       "      <td>0.327586</td>\n",
       "      <td>58</td>\n",
       "      <td>True</td>\n",
       "      <td>True</td>\n",
       "      <td>0.672414</td>\n",
       "      <td>0.672414</td>\n",
       "      <td>0.572879</td>\n",
       "      <td>0.725209</td>\n",
       "    </tr>\n",
       "    <tr>\n",
       "      <th>super_glue:axg</th>\n",
       "      <td>0.620017</td>\n",
       "      <td>-0.197741</td>\n",
       "      <td>0.302395</td>\n",
       "      <td>334</td>\n",
       "      <td>False</td>\n",
       "      <td>False</td>\n",
       "      <td>0.757485</td>\n",
       "      <td>0.757485</td>\n",
       "      <td>0.723048</td>\n",
       "      <td>0.817758</td>\n",
       "    </tr>\n",
       "    <tr>\n",
       "      <th>super_glue:boolq</th>\n",
       "      <td>0.681355</td>\n",
       "      <td>-0.250649</td>\n",
       "      <td>0.622754</td>\n",
       "      <td>334</td>\n",
       "      <td>False</td>\n",
       "      <td>False</td>\n",
       "      <td>0.847305</td>\n",
       "      <td>0.847305</td>\n",
       "      <td>0.894935</td>\n",
       "      <td>0.932004</td>\n",
       "    </tr>\n",
       "    <tr>\n",
       "      <th>glue:qnli</th>\n",
       "      <td>0.410985</td>\n",
       "      <td>-0.279366</td>\n",
       "      <td>0.367647</td>\n",
       "      <td>68</td>\n",
       "      <td>True</td>\n",
       "      <td>True</td>\n",
       "      <td>0.647059</td>\n",
       "      <td>0.647059</td>\n",
       "      <td>0.59386</td>\n",
       "      <td>0.690351</td>\n",
       "    </tr>\n",
       "    <tr>\n",
       "      <th>imdb</th>\n",
       "      <td>0.621249</td>\n",
       "      <td>-0.283695</td>\n",
       "      <td>0.844311</td>\n",
       "      <td>334</td>\n",
       "      <td>False</td>\n",
       "      <td>False</td>\n",
       "      <td>0.844311</td>\n",
       "      <td>0.844311</td>\n",
       "      <td>0.785399</td>\n",
       "      <td>0.904945</td>\n",
       "    </tr>\n",
       "    <tr>\n",
       "      <th>super_glue:rte</th>\n",
       "      <td>0.525253</td>\n",
       "      <td>-0.338878</td>\n",
       "      <td>0.382979</td>\n",
       "      <td>47</td>\n",
       "      <td>True</td>\n",
       "      <td>True</td>\n",
       "      <td>0.765957</td>\n",
       "      <td>0.765957</td>\n",
       "      <td>0.737319</td>\n",
       "      <td>0.86413</td>\n",
       "    </tr>\n",
       "  </tbody>\n",
       "</table>\n",
       "</div>"
      ],
      "text/plain": [
       "                   roc_auc improvement       acc    n in_dist_adapter  \\\n",
       "amazon_polarity   0.869444   -0.097661  0.909091   66            True   \n",
       "sst2              0.766091   -0.117364  0.758065   62            True   \n",
       "hans              0.561404   -0.163806  0.327586   58            True   \n",
       "super_glue:axg    0.620017   -0.197741  0.302395  334           False   \n",
       "super_glue:boolq  0.681355   -0.250649  0.622754  334           False   \n",
       "glue:qnli         0.410985   -0.279366  0.367647   68            True   \n",
       "imdb              0.621249   -0.283695  0.844311  334           False   \n",
       "super_glue:rte    0.525253   -0.338878  0.382979   47            True   \n",
       "\n",
       "                 in_dist_probe   balance balance_proxy roc_auc_adapter  \\\n",
       "amazon_polarity           True  0.909091      0.909091        0.743421   \n",
       "sst2                      True  0.790323      0.790323        0.671176   \n",
       "hans                      True  0.672414      0.672414        0.572879   \n",
       "super_glue:axg           False  0.757485      0.757485        0.723048   \n",
       "super_glue:boolq         False  0.847305      0.847305        0.894935   \n",
       "glue:qnli                 True  0.647059      0.647059         0.59386   \n",
       "imdb                     False  0.844311      0.844311        0.785399   \n",
       "super_glue:rte            True  0.765957      0.765957        0.737319   \n",
       "\n",
       "                 roc_auc_base  \n",
       "amazon_polarity      0.967105  \n",
       "sst2                 0.883455  \n",
       "hans                 0.725209  \n",
       "super_glue:axg       0.817758  \n",
       "super_glue:boolq     0.932004  \n",
       "glue:qnli            0.690351  \n",
       "imdb                 0.904945  \n",
       "super_glue:rte        0.86413  "
      ]
     },
     "metadata": {},
     "output_type": "display_data"
    }
   ],
   "source": [
    "print('no matrix')\n",
    "evaluator = PlainTruthEval(ds_trainval=ds_val, ds_test=ds_ood, \n",
    "                        #    importance_matrix=importance_matrix\n",
    "                           skip=skip, stride=stride, decimate=decimate\n",
    "                           )\n",
    "model = TorchLogisticRegression(random_state=42, \n",
    "                                penalty='elasticnet',\n",
    "                                solver='saga',\n",
    "                                l1_ratio=0.5,\n",
    "                                 class_weight='balanced',)\n",
    "df_res = evaluator.eval(model)\n",
    "insample_datasets = list(set(ds_val['ds_string_base']))\n",
    "df_res_ana = analyze_dfres(df_res, insample_datasets, insample_datasets)"
   ]
  },
  {
   "cell_type": "code",
   "execution_count": 21,
   "metadata": {},
   "outputs": [
    {
     "name": "stdout",
     "output_type": "stream",
     "text": [
      "matrix\n"
     ]
    },
    {
     "ename": "RuntimeError",
     "evalue": "The size of tensor a (17920) must match the size of tensor b (23040) at non-singleton dimension 2",
     "output_type": "error",
     "traceback": [
      "\u001b[0;31m---------------------------------------------------------------------------\u001b[0m",
      "\u001b[0;31mRuntimeError\u001b[0m                              Traceback (most recent call last)",
      "Cell \u001b[0;32mIn[21], line 11\u001b[0m\n\u001b[1;32m      2\u001b[0m evaluator \u001b[38;5;241m=\u001b[39m PlainTruthEval(ds_trainval\u001b[38;5;241m=\u001b[39mds_val, ds_test\u001b[38;5;241m=\u001b[39mds_ood, \n\u001b[1;32m      3\u001b[0m                            importance_matrix\u001b[38;5;241m=\u001b[39mimportance_matrix\n\u001b[1;32m      4\u001b[0m                            , skip\u001b[38;5;241m=\u001b[39mskip, stride\u001b[38;5;241m=\u001b[39mstride, decimate\u001b[38;5;241m=\u001b[39mdecimate\n\u001b[1;32m      5\u001b[0m                            )\n\u001b[1;32m      6\u001b[0m model \u001b[38;5;241m=\u001b[39m TorchLogisticRegression(random_state\u001b[38;5;241m=\u001b[39m\u001b[38;5;241m42\u001b[39m, \n\u001b[1;32m      7\u001b[0m                                 penalty\u001b[38;5;241m=\u001b[39m\u001b[38;5;124m'\u001b[39m\u001b[38;5;124melasticnet\u001b[39m\u001b[38;5;124m'\u001b[39m,\n\u001b[1;32m      8\u001b[0m                                 solver\u001b[38;5;241m=\u001b[39m\u001b[38;5;124m'\u001b[39m\u001b[38;5;124msaga\u001b[39m\u001b[38;5;124m'\u001b[39m,\n\u001b[1;32m      9\u001b[0m                                 l1_ratio\u001b[38;5;241m=\u001b[39m\u001b[38;5;241m0.5\u001b[39m,\n\u001b[1;32m     10\u001b[0m                                  class_weight\u001b[38;5;241m=\u001b[39m\u001b[38;5;124m'\u001b[39m\u001b[38;5;124mbalanced\u001b[39m\u001b[38;5;124m'\u001b[39m,)\n\u001b[0;32m---> 11\u001b[0m df_res \u001b[38;5;241m=\u001b[39m \u001b[43mevaluator\u001b[49m\u001b[38;5;241;43m.\u001b[39;49m\u001b[43meval\u001b[49m\u001b[43m(\u001b[49m\u001b[43mmodel\u001b[49m\u001b[43m)\u001b[49m\n\u001b[1;32m     12\u001b[0m insample_datasets \u001b[38;5;241m=\u001b[39m \u001b[38;5;28mlist\u001b[39m(\u001b[38;5;28mset\u001b[39m(ds_val[\u001b[38;5;124m'\u001b[39m\u001b[38;5;124mds_string_base\u001b[39m\u001b[38;5;124m'\u001b[39m]))\n\u001b[1;32m     13\u001b[0m analyze_dfres(df_res, insample_datasets, insample_datasets)\n",
      "File \u001b[0;32m/media/wassname/SGIronWolf/projects5/elk/sgd_probes_are_lie_detectors/src/eval/pl_sk.py:161\u001b[0m, in \u001b[0;36mSKEvaluator.eval\u001b[0;34m(self, model)\u001b[0m\n\u001b[1;32m    159\u001b[0m \u001b[38;5;66;03m# split\u001b[39;00m\n\u001b[1;32m    160\u001b[0m ds_train, ds_val \u001b[38;5;241m=\u001b[39m train_test_split_ds(\u001b[38;5;28mself\u001b[39m\u001b[38;5;241m.\u001b[39mds_trainval, test_size\u001b[38;5;241m=\u001b[39m\u001b[38;5;241m0.3\u001b[39m)\n\u001b[0;32m--> 161\u001b[0m X_val, y_val_proxy \u001b[38;5;241m=\u001b[39m \u001b[38;5;28;43mself\u001b[39;49m\u001b[38;5;241;43m.\u001b[39;49m\u001b[43mds2xy\u001b[49m\u001b[43m(\u001b[49m\u001b[43mds_val\u001b[49m\u001b[43m)\u001b[49m\n\u001b[1;32m    162\u001b[0m X_train, y_train_proxy \u001b[38;5;241m=\u001b[39m \u001b[38;5;28mself\u001b[39m\u001b[38;5;241m.\u001b[39mds2xy(ds_train)\n\u001b[1;32m    164\u001b[0m \u001b[38;5;66;03m# scale\u001b[39;00m\n",
      "File \u001b[0;32m/media/wassname/SGIronWolf/projects5/elk/sgd_probes_are_lie_detectors/src/eval/pl_sk.py:120\u001b[0m, in \u001b[0;36mSKEvaluator.ds2xy\u001b[0;34m(self, ds)\u001b[0m\n\u001b[1;32m    117\u001b[0m x \u001b[38;5;241m=\u001b[39m torch\u001b[38;5;241m.\u001b[39mconcat(data, dim\u001b[38;5;241m=\u001b[39m\u001b[38;5;241m2\u001b[39m)\n\u001b[1;32m    119\u001b[0m \u001b[38;5;28;01mif\u001b[39;00m \u001b[38;5;28mself\u001b[39m\u001b[38;5;241m.\u001b[39mimportance_matrix \u001b[38;5;129;01mis\u001b[39;00m \u001b[38;5;129;01mnot\u001b[39;00m \u001b[38;5;28;01mNone\u001b[39;00m:\n\u001b[0;32m--> 120\u001b[0m     x \u001b[38;5;241m=\u001b[39m \u001b[43mx\u001b[49m\u001b[43m \u001b[49m\u001b[38;5;241;43m*\u001b[39;49m\u001b[43m \u001b[49m\u001b[38;5;28;43mself\u001b[39;49m\u001b[38;5;241;43m.\u001b[39;49m\u001b[43mimportance_matrix\u001b[49m\u001b[43m[\u001b[49m\u001b[38;5;28;43;01mNone\u001b[39;49;00m\u001b[43m,\u001b[49m\u001b[43m \u001b[49m\u001b[43m:\u001b[49m\u001b[43m,\u001b[49m\u001b[43m \u001b[49m\u001b[43m:\u001b[49m\u001b[43m,\u001b[49m\u001b[43m \u001b[49m\u001b[38;5;28;43;01mNone\u001b[39;49;00m\u001b[43m]\u001b[49m\u001b[38;5;241;43m*\u001b[39;49m\u001b[38;5;241;43m*\u001b[39;49m\u001b[38;5;241;43m2\u001b[39;49m\n\u001b[1;32m    121\u001b[0m x \u001b[38;5;241m=\u001b[39m x[:, \u001b[38;5;28mself\u001b[39m\u001b[38;5;241m.\u001b[39mskip::\u001b[38;5;28mself\u001b[39m\u001b[38;5;241m.\u001b[39mstride, ::\u001b[38;5;28mself\u001b[39m\u001b[38;5;241m.\u001b[39mdecimate] \n\u001b[1;32m    122\u001b[0m y \u001b[38;5;241m=\u001b[39m \u001b[38;5;28mself\u001b[39m\u001b[38;5;241m.\u001b[39mds2proxy(ds)\n",
      "\u001b[0;31mRuntimeError\u001b[0m: The size of tensor a (17920) must match the size of tensor b (23040) at non-singleton dimension 2"
     ]
    }
   ],
   "source": [
    "print('matrix')\n",
    "evaluator = PlainTruthEval(ds_trainval=ds_val, ds_test=ds_ood, \n",
    "                           importance_matrix=importance_matrix\n",
    "                           , skip=skip, stride=stride, decimate=decimate\n",
    "                           )\n",
    "model = TorchLogisticRegression(random_state=42, \n",
    "                                penalty='elasticnet',\n",
    "                                solver='saga',\n",
    "                                l1_ratio=0.5,\n",
    "                                 class_weight='balanced',)\n",
    "df_res = evaluator.eval(model)\n",
    "insample_datasets = list(set(ds_val['ds_string_base']))\n",
    "analyze_dfres(df_res, insample_datasets, insample_datasets)\n",
    "roc_auc_score(df_res['y'], df_res['y_prob'])"
   ]
  },
  {
   "cell_type": "code",
   "execution_count": null,
   "metadata": {},
   "outputs": [],
   "source": [
    "class PlainTruthEvalTop(PlainTruthEval):\n",
    "    \"\"\"only take the top X % of importance values.\"\"\"\n",
    "\n",
    "    def ds2xy(self, ds: Dataset):\n",
    "        \"\"\"function which will transform a dataset into x and y.\"\"\"\n",
    "        data = []\n",
    "        for layer in self.layers_names:\n",
    "            # Stack the base and adapter representations as a 4th dim\n",
    "            X1 = [ds[f'end_residual_{layer}_base'], ds[f'end_residual_{layer}_adapt']]\n",
    "            X1 = rearrange(X1, 'versions b l f  -> b l f versions')\n",
    "            data.append(X1)\n",
    "        \n",
    "        # concat layers\n",
    "        # x = rearrange(data, 'parts b l f v -> b l (parts f) v')\n",
    "        x = torch.concat(data, dim=2)\n",
    "        \n",
    "        # restrict to non zero values\n",
    "        mask = self.importance_matrix>1\n",
    "        mask = rearrange(mask, 'l f -> (l f)')\n",
    "        xf = rearrange(x, 'b l f v -> b (l f) v')[:, mask, :]\n",
    "        print(f'keeping top {(mask*1.0).mean():2.2%} of values {x.shape} -> {xf.shape}')\n",
    "        x = rearrange(xf, 'b lf v -> b lf 1 v') \n",
    "        y = self.ds2proxy(ds)\n",
    "        return x, y\n"
   ]
  },
  {
   "cell_type": "code",
   "execution_count": null,
   "metadata": {},
   "outputs": [],
   "source": [
    "print('top 10%')\n",
    "\n",
    "importance_matrix = get_importance_matrix2(f, layers=layers)\n",
    "importance_matrix = (importance_matrix-1).abs()\n",
    "importance_matrix = importance_matrix / importance_matrix.std()\n",
    "importance_matrix = importance_matrix + 1\n",
    "importance_matrix = importance_matrix * ((importance_matrix>4))\n",
    "\n",
    "# plt.hist(importance_matrix.flatten(), bins=55)\n",
    "# plt.show();\n",
    "\n",
    "evaluator = PlainTruthEvalTop(ds_trainval=ds_val, ds_test=ds_ood, \n",
    "                           importance_matrix=importance_matrix, skip=skip, stride=stride, decimate=decimate\n",
    "                           )\n",
    "model = TorchLogisticRegression(random_state=42, \n",
    "                                penalty='elasticnet',\n",
    "                                solver='saga',\n",
    "                                # max_iter=100,\n",
    "                                l1_ratio=0.5,\n",
    "                                 class_weight='balanced',)\n",
    "df_res = evaluator.eval(model)\n",
    "insample_datasets = list(set(ds_val['ds_string_base']))\n",
    "analyze_dfres(df_res, insample_datasets, insample_datasets)"
   ]
  }
 ],
 "metadata": {
  "kernelspec": {
   "display_name": ".venv",
   "language": "python",
   "name": "python3"
  },
  "language_info": {
   "codemirror_mode": {
    "name": "ipython",
    "version": 3
   },
   "file_extension": ".py",
   "mimetype": "text/x-python",
   "name": "python",
   "nbconvert_exporter": "python",
   "pygments_lexer": "ipython3",
   "version": "3.11.0rc1"
  }
 },
 "nbformat": 4,
 "nbformat_minor": 2
}
