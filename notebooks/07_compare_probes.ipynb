{
 "cells": [
  {
   "cell_type": "markdown",
   "metadata": {},
   "source": [
    "my known lie doesn't make sense anymore? Well truth is when examples of truth are given (and maybe it's asked to tell the truth?) I would need to analyze this seperatly, but getting say N tokens. And trying differen't combinatiuons of system prompt, and n-shot examples\n"
   ]
  },
  {
   "cell_type": "code",
   "execution_count": 1,
   "metadata": {},
   "outputs": [],
   "source": [
    "import torch\n",
    "from IPython.display import display, HTML, Markdown\n",
    "from torch.utils.data import random_split, DataLoader, TensorDataset\n",
    "from loguru import logger\n",
    "import sys\n",
    "import pandas as pd\n",
    "import seaborn as sns\n",
    "\n",
    "\n",
    "logger.remove()\n",
    "logger.add(sys.stderr, format=\"{time} {level} {message}\", level=\"INFO\")\n",
    "\n",
    "# load my code\n",
    "%load_ext autoreload\n",
    "%autoreload 2\n",
    "from src.eval.collect import manual_collect2\n",
    "from src.eval.ds import ds2df, qc_ds, qc_dsdf\n",
    "from src.prompts.prompt_loading import load_prompts, format_prompt, load_preproc_dataset\n",
    "from src.llms.load import load_model\n",
    "\n",
    "from matplotlib import pyplot as plt\n",
    "plt.style.use(['seaborn-v0_8'])\n"
   ]
  },
  {
   "cell_type": "code",
   "execution_count": null,
   "metadata": {},
   "outputs": [],
   "source": []
  },
  {
   "cell_type": "code",
   "execution_count": 2,
   "metadata": {},
   "outputs": [],
   "source": [
    "from pathlib import Path\n",
    "BASE_FOLDER = Path(\"/media/wassname/SGIronWolf/projects5/elk/sgd_probes_are_lie_detectors/notebooks/lightning_logs/version_24/\")\n",
    "\n",
    "# speed it up\n",
    "decimate = 1\n",
    "skip = 4\n",
    "stride = 3\n",
    "layers=['fc1', 'Wqkv', 'fc2', 'out_proj']"
   ]
  },
  {
   "cell_type": "markdown",
   "metadata": {},
   "source": [
    "## Importance matrix"
   ]
  },
  {
   "cell_type": "code",
   "execution_count": 3,
   "metadata": {},
   "outputs": [
    {
     "name": "stdout",
     "output_type": "stream",
     "text": [
      "Wqkv torch.Size([32, 7680])\n",
      "out_proj torch.Size([32, 2560])\n",
      "fc1 torch.Size([32, 10240])\n",
      "fc2 torch.Size([32, 2560])\n",
      "torch.Size([32, 23040])\n"
     ]
    },
    {
     "data": {
      "image/png": "[encoded data removed]",
      "text/plain": [
       "<Figure size 800x550 with 1 Axes>"
      ]
     },
     "metadata": {},
     "output_type": "display_data"
    }
   ],
   "source": [
    "from src.probes.importance_matrix import get_importance_matrix\n",
    "\n",
    "f = f\"{BASE_FOLDER}/checkpoint_last/adapter_model.safetensors\"\n",
    "importance_matrix = get_importance_matrix(f, layers=layers)\n",
    "print(importance_matrix.shape)\n",
    "plt.hist(importance_matrix.flatten(), bins=55);\n"
   ]
  },
  {
   "cell_type": "markdown",
   "metadata": {},
   "source": [
    "## Load DS"
   ]
  },
  {
   "cell_type": "code",
   "execution_count": 4,
   "metadata": {},
   "outputs": [],
   "source": [
    "from datasets import Dataset\n",
    "\n",
    "f1_val = next(iter(BASE_FOLDER.glob('hidden_states/.ds/ds_valtest_*')))\n",
    "f1_ood = next(iter(BASE_FOLDER.glob('hidden_states/.ds/ds_OOD_*')))\n",
    "f1_val, f1_ood\n",
    "\n",
    "ds_val = Dataset.from_file(str(f1_val)).with_format(\"torch\")\n",
    "ds_ood = Dataset.from_file(str(f1_ood)).with_format(\"torch\")\n",
    "\n",
    "# ds_known1 = filter_ds_to_known(ds_out, verbose=True)"
   ]
  },
  {
   "cell_type": "code",
   "execution_count": 5,
   "metadata": {},
   "outputs": [
    {
     "name": "stdout",
     "output_type": "stream",
     "text": [
      "with base model\n",
      "with adapter\n",
      "with base model\n",
      "with adapter\n"
     ]
    },
    {
     "data": {
      "text/plain": [
       "({'balance': 0.49800399201596807,\n",
       "  'N': 1002,\n",
       "  'auroc': 0.7332721025955029,\n",
       "  'lie_auroc': 0.3332161029631847,\n",
       "  'known_lie_auroc': 0.31510177883733725,\n",
       "  'choice_cov': 0.9814956},\n",
       " {'balance': 0.49800399201596807,\n",
       "  'N': 1002,\n",
       "  'auroc': 0.7332721025955029,\n",
       "  'lie_auroc': 0.3332161029631847,\n",
       "  'known_lie_auroc': 0.31510177883733725,\n",
       "  'choice_cov': 0.9814956})"
      ]
     },
     "execution_count": 5,
     "metadata": {},
     "output_type": "execute_result"
    }
   ],
   "source": [
    "qc_ds(ds_val)\n",
    "qc_ds(ds_ood)\n"
   ]
  },
  {
   "cell_type": "code",
   "execution_count": 6,
   "metadata": {},
   "outputs": [
    {
     "data": {
      "text/html": [
       "<div>\n",
       "<style scoped>\n",
       "    .dataframe tbody tr th:only-of-type {\n",
       "        vertical-align: middle;\n",
       "    }\n",
       "\n",
       "    .dataframe tbody tr th {\n",
       "        vertical-align: top;\n",
       "    }\n",
       "\n",
       "    .dataframe thead th {\n",
       "        text-align: right;\n",
       "    }\n",
       "</style>\n",
       "<table border=\"1\" class=\"dataframe\">\n",
       "  <thead>\n",
       "    <tr style=\"text-align: right;\">\n",
       "      <th></th>\n",
       "      <th>acc</th>\n",
       "      <th>n</th>\n",
       "    </tr>\n",
       "    <tr>\n",
       "      <th>sys_instr_name</th>\n",
       "      <th></th>\n",
       "      <th></th>\n",
       "    </tr>\n",
       "  </thead>\n",
       "  <tbody>\n",
       "    <tr>\n",
       "      <th>false_none</th>\n",
       "      <td>0.258547</td>\n",
       "      <td>468.0</td>\n",
       "    </tr>\n",
       "    <tr>\n",
       "      <th>truth</th>\n",
       "      <td>0.743925</td>\n",
       "      <td>535.0</td>\n",
       "    </tr>\n",
       "  </tbody>\n",
       "</table>\n",
       "</div>"
      ],
      "text/plain": [
       "                     acc      n\n",
       "sys_instr_name                 \n",
       "false_none      0.258547  468.0\n",
       "truth           0.743925  535.0"
      ]
     },
     "metadata": {},
     "output_type": "display_data"
    },
    {
     "data": {
      "text/html": [
       "<div>\n",
       "<style scoped>\n",
       "    .dataframe tbody tr th:only-of-type {\n",
       "        vertical-align: middle;\n",
       "    }\n",
       "\n",
       "    .dataframe tbody tr th {\n",
       "        vertical-align: top;\n",
       "    }\n",
       "\n",
       "    .dataframe thead th {\n",
       "        text-align: right;\n",
       "    }\n",
       "</style>\n",
       "<table border=\"1\" class=\"dataframe\">\n",
       "  <thead>\n",
       "    <tr style=\"text-align: right;\">\n",
       "      <th></th>\n",
       "      <th>acc</th>\n",
       "      <th>n</th>\n",
       "    </tr>\n",
       "    <tr>\n",
       "      <th>ds_string</th>\n",
       "      <th></th>\n",
       "      <th></th>\n",
       "    </tr>\n",
       "  </thead>\n",
       "  <tbody>\n",
       "    <tr>\n",
       "      <th>amazon_polarity</th>\n",
       "      <td>0.485000</td>\n",
       "      <td>200.0</td>\n",
       "    </tr>\n",
       "    <tr>\n",
       "      <th>glue:qnli</th>\n",
       "      <td>0.555000</td>\n",
       "      <td>200.0</td>\n",
       "    </tr>\n",
       "    <tr>\n",
       "      <th>hans</th>\n",
       "      <td>0.507463</td>\n",
       "      <td>201.0</td>\n",
       "    </tr>\n",
       "    <tr>\n",
       "      <th>sst2</th>\n",
       "      <td>0.572139</td>\n",
       "      <td>201.0</td>\n",
       "    </tr>\n",
       "    <tr>\n",
       "      <th>super_glue:rte</th>\n",
       "      <td>0.467662</td>\n",
       "      <td>201.0</td>\n",
       "    </tr>\n",
       "  </tbody>\n",
       "</table>\n",
       "</div>"
      ],
      "text/plain": [
       "                      acc      n\n",
       "ds_string                       \n",
       "amazon_polarity  0.485000  200.0\n",
       "glue:qnli        0.555000  200.0\n",
       "hans             0.507463  201.0\n",
       "sst2             0.572139  201.0\n",
       "super_glue:rte   0.467662  201.0"
      ]
     },
     "metadata": {},
     "output_type": "display_data"
    }
   ],
   "source": [
    "def agg_func(x):\n",
    "    acc = (x.label_instructed == x[\"ans\"]).mean()\n",
    "    return pd.Series(dict(acc=acc, n=len(x)))\n",
    "\n",
    "df = ds2df(ds_val)\n",
    "df = df.rename(columns=lambda x: x.replace(\"_base\", \"\")).copy()\n",
    "\n",
    "for col in [\"sys_instr_name\", \"ds_string\"]:\n",
    "    display(df.groupby(col).apply(agg_func))\n"
   ]
  },
  {
   "cell_type": "markdown",
   "metadata": {},
   "source": [
    "# Probe"
   ]
  },
  {
   "cell_type": "code",
   "execution_count": 7,
   "metadata": {},
   "outputs": [],
   "source": [
    "from src.probes.lr import TorchRobustScaler, TorchLogisticRegression, TorchDummyClassifier\n",
    "from src.helpers.ds import train_test_split_ds\n",
    "from src.eval.pl_sk import analyze_dfres, SKEvaluator, PlainTruthEval"
   ]
  },
  {
   "cell_type": "markdown",
   "metadata": {},
   "source": [
    "### LR"
   ]
  },
  {
   "cell_type": "code",
   "execution_count": 8,
   "metadata": {},
   "outputs": [
    {
     "name": "stdout",
     "output_type": "stream",
     "text": [
      "logistic regression\n"
     ]
    },
    {
     "name": "stderr",
     "output_type": "stream",
     "text": [
      "/media/wassname/SGIronWolf/projects5/elk/sgd_probes_are_lie_detectors/.venv/lib/python3.11/site-packages/sklearn/linear_model/_sag.py:350: ConvergenceWarning: The max_iter was reached which means the coef_ did not converge\n",
      "  warnings.warn(\n"
     ]
    },
    {
     "name": "stdout",
     "output_type": "stream",
     "text": [
      "⭐ main_metric: 0.602 ⭐ roc_auc for 1002 OOD samples\n"
     ]
    },
    {
     "data": {
      "text/html": [
       "<div>\n",
       "<style scoped>\n",
       "    .dataframe tbody tr th:only-of-type {\n",
       "        vertical-align: middle;\n",
       "    }\n",
       "\n",
       "    .dataframe tbody tr th {\n",
       "        vertical-align: top;\n",
       "    }\n",
       "\n",
       "    .dataframe thead th {\n",
       "        text-align: right;\n",
       "    }\n",
       "</style>\n",
       "<table border=\"1\" class=\"dataframe\">\n",
       "  <thead>\n",
       "    <tr style=\"text-align: right;\">\n",
       "      <th></th>\n",
       "      <th>roc_auc</th>\n",
       "      <th>improvement</th>\n",
       "      <th>acc</th>\n",
       "      <th>n</th>\n",
       "      <th>in_dist_adapter</th>\n",
       "      <th>in_dist_probe</th>\n",
       "      <th>balance</th>\n",
       "      <th>balance_proxy</th>\n",
       "      <th>roc_auc_adapter</th>\n",
       "      <th>roc_auc_base</th>\n",
       "    </tr>\n",
       "  </thead>\n",
       "  <tbody>\n",
       "    <tr>\n",
       "      <th>hans</th>\n",
       "      <td>0.620783</td>\n",
       "      <td>-0.104426</td>\n",
       "      <td>0.327586</td>\n",
       "      <td>58</td>\n",
       "      <td>True</td>\n",
       "      <td>True</td>\n",
       "      <td>0.672414</td>\n",
       "      <td>0.672414</td>\n",
       "      <td>0.617682</td>\n",
       "      <td>0.725209</td>\n",
       "    </tr>\n",
       "    <tr>\n",
       "      <th>sst2</th>\n",
       "      <td>0.737834</td>\n",
       "      <td>-0.145621</td>\n",
       "      <td>0.822581</td>\n",
       "      <td>62</td>\n",
       "      <td>True</td>\n",
       "      <td>True</td>\n",
       "      <td>0.790323</td>\n",
       "      <td>0.790323</td>\n",
       "      <td>0.62435</td>\n",
       "      <td>0.883455</td>\n",
       "    </tr>\n",
       "    <tr>\n",
       "      <th>amazon_polarity</th>\n",
       "      <td>0.738889</td>\n",
       "      <td>-0.228216</td>\n",
       "      <td>0.909091</td>\n",
       "      <td>66</td>\n",
       "      <td>True</td>\n",
       "      <td>True</td>\n",
       "      <td>0.909091</td>\n",
       "      <td>0.909091</td>\n",
       "      <td>0.833647</td>\n",
       "      <td>0.967105</td>\n",
       "    </tr>\n",
       "    <tr>\n",
       "      <th>super_glue:axg</th>\n",
       "      <td>0.589128</td>\n",
       "      <td>-0.22863</td>\n",
       "      <td>0.272455</td>\n",
       "      <td>334</td>\n",
       "      <td>False</td>\n",
       "      <td>False</td>\n",
       "      <td>0.757485</td>\n",
       "      <td>0.757485</td>\n",
       "      <td>0.772825</td>\n",
       "      <td>0.817758</td>\n",
       "    </tr>\n",
       "    <tr>\n",
       "      <th>imdb</th>\n",
       "      <td>0.6235</td>\n",
       "      <td>-0.281445</td>\n",
       "      <td>0.844311</td>\n",
       "      <td>334</td>\n",
       "      <td>False</td>\n",
       "      <td>False</td>\n",
       "      <td>0.844311</td>\n",
       "      <td>0.844311</td>\n",
       "      <td>0.793467</td>\n",
       "      <td>0.904945</td>\n",
       "    </tr>\n",
       "    <tr>\n",
       "      <th>super_glue:boolq</th>\n",
       "      <td>0.639507</td>\n",
       "      <td>-0.292498</td>\n",
       "      <td>0.805389</td>\n",
       "      <td>334</td>\n",
       "      <td>False</td>\n",
       "      <td>False</td>\n",
       "      <td>0.847305</td>\n",
       "      <td>0.847305</td>\n",
       "      <td>0.888254</td>\n",
       "      <td>0.932004</td>\n",
       "    </tr>\n",
       "    <tr>\n",
       "      <th>glue:qnli</th>\n",
       "      <td>0.370265</td>\n",
       "      <td>-0.320086</td>\n",
       "      <td>0.367647</td>\n",
       "      <td>68</td>\n",
       "      <td>True</td>\n",
       "      <td>True</td>\n",
       "      <td>0.647059</td>\n",
       "      <td>0.647059</td>\n",
       "      <td>0.582456</td>\n",
       "      <td>0.690351</td>\n",
       "    </tr>\n",
       "    <tr>\n",
       "      <th>super_glue:rte</th>\n",
       "      <td>0.502525</td>\n",
       "      <td>-0.361605</td>\n",
       "      <td>0.425532</td>\n",
       "      <td>47</td>\n",
       "      <td>True</td>\n",
       "      <td>True</td>\n",
       "      <td>0.765957</td>\n",
       "      <td>0.765957</td>\n",
       "      <td>0.788043</td>\n",
       "      <td>0.86413</td>\n",
       "    </tr>\n",
       "  </tbody>\n",
       "</table>\n",
       "</div>"
      ],
      "text/plain": [
       "                   roc_auc improvement       acc    n in_dist_adapter  \\\n",
       "hans              0.620783   -0.104426  0.327586   58            True   \n",
       "sst2              0.737834   -0.145621  0.822581   62            True   \n",
       "amazon_polarity   0.738889   -0.228216  0.909091   66            True   \n",
       "super_glue:axg    0.589128    -0.22863  0.272455  334           False   \n",
       "imdb                0.6235   -0.281445  0.844311  334           False   \n",
       "super_glue:boolq  0.639507   -0.292498  0.805389  334           False   \n",
       "glue:qnli         0.370265   -0.320086  0.367647   68            True   \n",
       "super_glue:rte    0.502525   -0.361605  0.425532   47            True   \n",
       "\n",
       "                 in_dist_probe   balance balance_proxy roc_auc_adapter  \\\n",
       "hans                      True  0.672414      0.672414        0.617682   \n",
       "sst2                      True  0.790323      0.790323         0.62435   \n",
       "amazon_polarity           True  0.909091      0.909091        0.833647   \n",
       "super_glue:axg           False  0.757485      0.757485        0.772825   \n",
       "imdb                     False  0.844311      0.844311        0.793467   \n",
       "super_glue:boolq         False  0.847305      0.847305        0.888254   \n",
       "glue:qnli                 True  0.647059      0.647059        0.582456   \n",
       "super_glue:rte            True  0.765957      0.765957        0.788043   \n",
       "\n",
       "                 roc_auc_base  \n",
       "hans                 0.725209  \n",
       "sst2                 0.883455  \n",
       "amazon_polarity      0.967105  \n",
       "super_glue:axg       0.817758  \n",
       "imdb                 0.904945  \n",
       "super_glue:boolq     0.932004  \n",
       "glue:qnli            0.690351  \n",
       "super_glue:rte        0.86413  "
      ]
     },
     "metadata": {},
     "output_type": "display_data"
    },
    {
     "data": {
      "text/html": [
       "<div>\n",
       "<style scoped>\n",
       "    .dataframe tbody tr th:only-of-type {\n",
       "        vertical-align: middle;\n",
       "    }\n",
       "\n",
       "    .dataframe tbody tr th {\n",
       "        vertical-align: top;\n",
       "    }\n",
       "\n",
       "    .dataframe thead th {\n",
       "        text-align: right;\n",
       "    }\n",
       "</style>\n",
       "<table border=\"1\" class=\"dataframe\">\n",
       "  <thead>\n",
       "    <tr style=\"text-align: right;\">\n",
       "      <th></th>\n",
       "      <th>roc_auc</th>\n",
       "      <th>improvement</th>\n",
       "      <th>acc</th>\n",
       "      <th>n</th>\n",
       "      <th>in_dist_adapter</th>\n",
       "      <th>in_dist_probe</th>\n",
       "      <th>balance</th>\n",
       "      <th>balance_proxy</th>\n",
       "      <th>roc_auc_adapter</th>\n",
       "      <th>roc_auc_base</th>\n",
       "    </tr>\n",
       "  </thead>\n",
       "  <tbody>\n",
       "    <tr>\n",
       "      <th>hans</th>\n",
       "      <td>0.620783</td>\n",
       "      <td>-0.104426</td>\n",
       "      <td>0.327586</td>\n",
       "      <td>58</td>\n",
       "      <td>True</td>\n",
       "      <td>True</td>\n",
       "      <td>0.672414</td>\n",
       "      <td>0.672414</td>\n",
       "      <td>0.617682</td>\n",
       "      <td>0.725209</td>\n",
       "    </tr>\n",
       "    <tr>\n",
       "      <th>sst2</th>\n",
       "      <td>0.737834</td>\n",
       "      <td>-0.145621</td>\n",
       "      <td>0.822581</td>\n",
       "      <td>62</td>\n",
       "      <td>True</td>\n",
       "      <td>True</td>\n",
       "      <td>0.790323</td>\n",
       "      <td>0.790323</td>\n",
       "      <td>0.62435</td>\n",
       "      <td>0.883455</td>\n",
       "    </tr>\n",
       "    <tr>\n",
       "      <th>amazon_polarity</th>\n",
       "      <td>0.738889</td>\n",
       "      <td>-0.228216</td>\n",
       "      <td>0.909091</td>\n",
       "      <td>66</td>\n",
       "      <td>True</td>\n",
       "      <td>True</td>\n",
       "      <td>0.909091</td>\n",
       "      <td>0.909091</td>\n",
       "      <td>0.833647</td>\n",
       "      <td>0.967105</td>\n",
       "    </tr>\n",
       "    <tr>\n",
       "      <th>super_glue:axg</th>\n",
       "      <td>0.589128</td>\n",
       "      <td>-0.22863</td>\n",
       "      <td>0.272455</td>\n",
       "      <td>334</td>\n",
       "      <td>False</td>\n",
       "      <td>False</td>\n",
       "      <td>0.757485</td>\n",
       "      <td>0.757485</td>\n",
       "      <td>0.772825</td>\n",
       "      <td>0.817758</td>\n",
       "    </tr>\n",
       "    <tr>\n",
       "      <th>imdb</th>\n",
       "      <td>0.6235</td>\n",
       "      <td>-0.281445</td>\n",
       "      <td>0.844311</td>\n",
       "      <td>334</td>\n",
       "      <td>False</td>\n",
       "      <td>False</td>\n",
       "      <td>0.844311</td>\n",
       "      <td>0.844311</td>\n",
       "      <td>0.793467</td>\n",
       "      <td>0.904945</td>\n",
       "    </tr>\n",
       "    <tr>\n",
       "      <th>super_glue:boolq</th>\n",
       "      <td>0.639507</td>\n",
       "      <td>-0.292498</td>\n",
       "      <td>0.805389</td>\n",
       "      <td>334</td>\n",
       "      <td>False</td>\n",
       "      <td>False</td>\n",
       "      <td>0.847305</td>\n",
       "      <td>0.847305</td>\n",
       "      <td>0.888254</td>\n",
       "      <td>0.932004</td>\n",
       "    </tr>\n",
       "    <tr>\n",
       "      <th>glue:qnli</th>\n",
       "      <td>0.370265</td>\n",
       "      <td>-0.320086</td>\n",
       "      <td>0.367647</td>\n",
       "      <td>68</td>\n",
       "      <td>True</td>\n",
       "      <td>True</td>\n",
       "      <td>0.647059</td>\n",
       "      <td>0.647059</td>\n",
       "      <td>0.582456</td>\n",
       "      <td>0.690351</td>\n",
       "    </tr>\n",
       "    <tr>\n",
       "      <th>super_glue:rte</th>\n",
       "      <td>0.502525</td>\n",
       "      <td>-0.361605</td>\n",
       "      <td>0.425532</td>\n",
       "      <td>47</td>\n",
       "      <td>True</td>\n",
       "      <td>True</td>\n",
       "      <td>0.765957</td>\n",
       "      <td>0.765957</td>\n",
       "      <td>0.788043</td>\n",
       "      <td>0.86413</td>\n",
       "    </tr>\n",
       "  </tbody>\n",
       "</table>\n",
       "</div>"
      ],
      "text/plain": [
       "                   roc_auc improvement       acc    n in_dist_adapter  \\\n",
       "hans              0.620783   -0.104426  0.327586   58            True   \n",
       "sst2              0.737834   -0.145621  0.822581   62            True   \n",
       "amazon_polarity   0.738889   -0.228216  0.909091   66            True   \n",
       "super_glue:axg    0.589128    -0.22863  0.272455  334           False   \n",
       "imdb                0.6235   -0.281445  0.844311  334           False   \n",
       "super_glue:boolq  0.639507   -0.292498  0.805389  334           False   \n",
       "glue:qnli         0.370265   -0.320086  0.367647   68            True   \n",
       "super_glue:rte    0.502525   -0.361605  0.425532   47            True   \n",
       "\n",
       "                 in_dist_probe   balance balance_proxy roc_auc_adapter  \\\n",
       "hans                      True  0.672414      0.672414        0.617682   \n",
       "sst2                      True  0.790323      0.790323         0.62435   \n",
       "amazon_polarity           True  0.909091      0.909091        0.833647   \n",
       "super_glue:axg           False  0.757485      0.757485        0.772825   \n",
       "imdb                     False  0.844311      0.844311        0.793467   \n",
       "super_glue:boolq         False  0.847305      0.847305        0.888254   \n",
       "glue:qnli                 True  0.647059      0.647059        0.582456   \n",
       "super_glue:rte            True  0.765957      0.765957        0.788043   \n",
       "\n",
       "                 roc_auc_base  \n",
       "hans                 0.725209  \n",
       "sst2                 0.883455  \n",
       "amazon_polarity      0.967105  \n",
       "super_glue:axg       0.817758  \n",
       "imdb                 0.904945  \n",
       "super_glue:boolq     0.932004  \n",
       "glue:qnli            0.690351  \n",
       "super_glue:rte        0.86413  "
      ]
     },
     "execution_count": 8,
     "metadata": {},
     "output_type": "execute_result"
    }
   ],
   "source": [
    "print('logistic regression')\n",
    "evaluator = PlainTruthEval(ds_trainval=ds_val, ds_test=ds_ood, importance_matrix=importance_matrix, skip=skip, stride=stride, decimate=decimate, layers_names=layers)\n",
    "model = TorchLogisticRegression(random_state=42, \n",
    "                                max_iter=10,\n",
    "                                penalty='elasticnet',\n",
    "                                # tol=1e-2,\n",
    "                                solver='saga',\n",
    "                                l1_ratio=0.5,\n",
    "                                 class_weight='balanced',)\n",
    "df_res = evaluator.eval(model)\n",
    "insample_datasets = list(set(ds_val['ds_string_base']))\n",
    "analyze_dfres(df_res, insample_datasets, insample_datasets)"
   ]
  },
  {
   "cell_type": "code",
   "execution_count": 9,
   "metadata": {},
   "outputs": [
    {
     "name": "stdout",
     "output_type": "stream",
     "text": [
      "DummyClassifier\n",
      "⭐ main_metric: 0.500 ⭐ roc_auc for 1002 OOD samples\n"
     ]
    },
    {
     "data": {
      "text/html": [
       "<div>\n",
       "<style scoped>\n",
       "    .dataframe tbody tr th:only-of-type {\n",
       "        vertical-align: middle;\n",
       "    }\n",
       "\n",
       "    .dataframe tbody tr th {\n",
       "        vertical-align: top;\n",
       "    }\n",
       "\n",
       "    .dataframe thead th {\n",
       "        text-align: right;\n",
       "    }\n",
       "</style>\n",
       "<table border=\"1\" class=\"dataframe\">\n",
       "  <thead>\n",
       "    <tr style=\"text-align: right;\">\n",
       "      <th></th>\n",
       "      <th>roc_auc</th>\n",
       "      <th>improvement</th>\n",
       "      <th>acc</th>\n",
       "      <th>n</th>\n",
       "      <th>in_dist_adapter</th>\n",
       "      <th>in_dist_probe</th>\n",
       "      <th>balance</th>\n",
       "      <th>balance_proxy</th>\n",
       "      <th>roc_auc_adapter</th>\n",
       "      <th>roc_auc_base</th>\n",
       "    </tr>\n",
       "  </thead>\n",
       "  <tbody>\n",
       "    <tr>\n",
       "      <th>glue:qnli</th>\n",
       "      <td>0.5</td>\n",
       "      <td>-0.190351</td>\n",
       "      <td>0.647059</td>\n",
       "      <td>68</td>\n",
       "      <td>True</td>\n",
       "      <td>True</td>\n",
       "      <td>0.647059</td>\n",
       "      <td>0.647059</td>\n",
       "      <td>0.582456</td>\n",
       "      <td>0.690351</td>\n",
       "    </tr>\n",
       "    <tr>\n",
       "      <th>hans</th>\n",
       "      <td>0.5</td>\n",
       "      <td>-0.225209</td>\n",
       "      <td>0.672414</td>\n",
       "      <td>58</td>\n",
       "      <td>True</td>\n",
       "      <td>True</td>\n",
       "      <td>0.672414</td>\n",
       "      <td>0.672414</td>\n",
       "      <td>0.617682</td>\n",
       "      <td>0.725209</td>\n",
       "    </tr>\n",
       "    <tr>\n",
       "      <th>super_glue:axg</th>\n",
       "      <td>0.5</td>\n",
       "      <td>-0.317758</td>\n",
       "      <td>0.757485</td>\n",
       "      <td>334</td>\n",
       "      <td>False</td>\n",
       "      <td>False</td>\n",
       "      <td>0.757485</td>\n",
       "      <td>0.757485</td>\n",
       "      <td>0.772825</td>\n",
       "      <td>0.817758</td>\n",
       "    </tr>\n",
       "    <tr>\n",
       "      <th>super_glue:rte</th>\n",
       "      <td>0.5</td>\n",
       "      <td>-0.36413</td>\n",
       "      <td>0.765957</td>\n",
       "      <td>47</td>\n",
       "      <td>True</td>\n",
       "      <td>True</td>\n",
       "      <td>0.765957</td>\n",
       "      <td>0.765957</td>\n",
       "      <td>0.788043</td>\n",
       "      <td>0.86413</td>\n",
       "    </tr>\n",
       "    <tr>\n",
       "      <th>sst2</th>\n",
       "      <td>0.5</td>\n",
       "      <td>-0.383455</td>\n",
       "      <td>0.790323</td>\n",
       "      <td>62</td>\n",
       "      <td>True</td>\n",
       "      <td>True</td>\n",
       "      <td>0.790323</td>\n",
       "      <td>0.790323</td>\n",
       "      <td>0.62435</td>\n",
       "      <td>0.883455</td>\n",
       "    </tr>\n",
       "    <tr>\n",
       "      <th>imdb</th>\n",
       "      <td>0.5</td>\n",
       "      <td>-0.404945</td>\n",
       "      <td>0.844311</td>\n",
       "      <td>334</td>\n",
       "      <td>False</td>\n",
       "      <td>False</td>\n",
       "      <td>0.844311</td>\n",
       "      <td>0.844311</td>\n",
       "      <td>0.793467</td>\n",
       "      <td>0.904945</td>\n",
       "    </tr>\n",
       "    <tr>\n",
       "      <th>super_glue:boolq</th>\n",
       "      <td>0.5</td>\n",
       "      <td>-0.432004</td>\n",
       "      <td>0.847305</td>\n",
       "      <td>334</td>\n",
       "      <td>False</td>\n",
       "      <td>False</td>\n",
       "      <td>0.847305</td>\n",
       "      <td>0.847305</td>\n",
       "      <td>0.888254</td>\n",
       "      <td>0.932004</td>\n",
       "    </tr>\n",
       "    <tr>\n",
       "      <th>amazon_polarity</th>\n",
       "      <td>0.5</td>\n",
       "      <td>-0.467105</td>\n",
       "      <td>0.909091</td>\n",
       "      <td>66</td>\n",
       "      <td>True</td>\n",
       "      <td>True</td>\n",
       "      <td>0.909091</td>\n",
       "      <td>0.909091</td>\n",
       "      <td>0.833647</td>\n",
       "      <td>0.967105</td>\n",
       "    </tr>\n",
       "  </tbody>\n",
       "</table>\n",
       "</div>"
      ],
      "text/plain": [
       "                 roc_auc improvement       acc    n in_dist_adapter  \\\n",
       "glue:qnli            0.5   -0.190351  0.647059   68            True   \n",
       "hans                 0.5   -0.225209  0.672414   58            True   \n",
       "super_glue:axg       0.5   -0.317758  0.757485  334           False   \n",
       "super_glue:rte       0.5    -0.36413  0.765957   47            True   \n",
       "sst2                 0.5   -0.383455  0.790323   62            True   \n",
       "imdb                 0.5   -0.404945  0.844311  334           False   \n",
       "super_glue:boolq     0.5   -0.432004  0.847305  334           False   \n",
       "amazon_polarity      0.5   -0.467105  0.909091   66            True   \n",
       "\n",
       "                 in_dist_probe   balance balance_proxy roc_auc_adapter  \\\n",
       "glue:qnli                 True  0.647059      0.647059        0.582456   \n",
       "hans                      True  0.672414      0.672414        0.617682   \n",
       "super_glue:axg           False  0.757485      0.757485        0.772825   \n",
       "super_glue:rte            True  0.765957      0.765957        0.788043   \n",
       "sst2                      True  0.790323      0.790323         0.62435   \n",
       "imdb                     False  0.844311      0.844311        0.793467   \n",
       "super_glue:boolq         False  0.847305      0.847305        0.888254   \n",
       "amazon_polarity           True  0.909091      0.909091        0.833647   \n",
       "\n",
       "                 roc_auc_base  \n",
       "glue:qnli            0.690351  \n",
       "hans                 0.725209  \n",
       "super_glue:axg       0.817758  \n",
       "super_glue:rte        0.86413  \n",
       "sst2                 0.883455  \n",
       "imdb                 0.904945  \n",
       "super_glue:boolq     0.932004  \n",
       "amazon_polarity      0.967105  "
      ]
     },
     "metadata": {},
     "output_type": "display_data"
    },
    {
     "data": {
      "text/html": [
       "<div>\n",
       "<style scoped>\n",
       "    .dataframe tbody tr th:only-of-type {\n",
       "        vertical-align: middle;\n",
       "    }\n",
       "\n",
       "    .dataframe tbody tr th {\n",
       "        vertical-align: top;\n",
       "    }\n",
       "\n",
       "    .dataframe thead th {\n",
       "        text-align: right;\n",
       "    }\n",
       "</style>\n",
       "<table border=\"1\" class=\"dataframe\">\n",
       "  <thead>\n",
       "    <tr style=\"text-align: right;\">\n",
       "      <th></th>\n",
       "      <th>roc_auc</th>\n",
       "      <th>improvement</th>\n",
       "      <th>acc</th>\n",
       "      <th>n</th>\n",
       "      <th>in_dist_adapter</th>\n",
       "      <th>in_dist_probe</th>\n",
       "      <th>balance</th>\n",
       "      <th>balance_proxy</th>\n",
       "      <th>roc_auc_adapter</th>\n",
       "      <th>roc_auc_base</th>\n",
       "    </tr>\n",
       "  </thead>\n",
       "  <tbody>\n",
       "    <tr>\n",
       "      <th>glue:qnli</th>\n",
       "      <td>0.5</td>\n",
       "      <td>-0.190351</td>\n",
       "      <td>0.647059</td>\n",
       "      <td>68</td>\n",
       "      <td>True</td>\n",
       "      <td>True</td>\n",
       "      <td>0.647059</td>\n",
       "      <td>0.647059</td>\n",
       "      <td>0.582456</td>\n",
       "      <td>0.690351</td>\n",
       "    </tr>\n",
       "    <tr>\n",
       "      <th>hans</th>\n",
       "      <td>0.5</td>\n",
       "      <td>-0.225209</td>\n",
       "      <td>0.672414</td>\n",
       "      <td>58</td>\n",
       "      <td>True</td>\n",
       "      <td>True</td>\n",
       "      <td>0.672414</td>\n",
       "      <td>0.672414</td>\n",
       "      <td>0.617682</td>\n",
       "      <td>0.725209</td>\n",
       "    </tr>\n",
       "    <tr>\n",
       "      <th>super_glue:axg</th>\n",
       "      <td>0.5</td>\n",
       "      <td>-0.317758</td>\n",
       "      <td>0.757485</td>\n",
       "      <td>334</td>\n",
       "      <td>False</td>\n",
       "      <td>False</td>\n",
       "      <td>0.757485</td>\n",
       "      <td>0.757485</td>\n",
       "      <td>0.772825</td>\n",
       "      <td>0.817758</td>\n",
       "    </tr>\n",
       "    <tr>\n",
       "      <th>super_glue:rte</th>\n",
       "      <td>0.5</td>\n",
       "      <td>-0.36413</td>\n",
       "      <td>0.765957</td>\n",
       "      <td>47</td>\n",
       "      <td>True</td>\n",
       "      <td>True</td>\n",
       "      <td>0.765957</td>\n",
       "      <td>0.765957</td>\n",
       "      <td>0.788043</td>\n",
       "      <td>0.86413</td>\n",
       "    </tr>\n",
       "    <tr>\n",
       "      <th>sst2</th>\n",
       "      <td>0.5</td>\n",
       "      <td>-0.383455</td>\n",
       "      <td>0.790323</td>\n",
       "      <td>62</td>\n",
       "      <td>True</td>\n",
       "      <td>True</td>\n",
       "      <td>0.790323</td>\n",
       "      <td>0.790323</td>\n",
       "      <td>0.62435</td>\n",
       "      <td>0.883455</td>\n",
       "    </tr>\n",
       "    <tr>\n",
       "      <th>imdb</th>\n",
       "      <td>0.5</td>\n",
       "      <td>-0.404945</td>\n",
       "      <td>0.844311</td>\n",
       "      <td>334</td>\n",
       "      <td>False</td>\n",
       "      <td>False</td>\n",
       "      <td>0.844311</td>\n",
       "      <td>0.844311</td>\n",
       "      <td>0.793467</td>\n",
       "      <td>0.904945</td>\n",
       "    </tr>\n",
       "    <tr>\n",
       "      <th>super_glue:boolq</th>\n",
       "      <td>0.5</td>\n",
       "      <td>-0.432004</td>\n",
       "      <td>0.847305</td>\n",
       "      <td>334</td>\n",
       "      <td>False</td>\n",
       "      <td>False</td>\n",
       "      <td>0.847305</td>\n",
       "      <td>0.847305</td>\n",
       "      <td>0.888254</td>\n",
       "      <td>0.932004</td>\n",
       "    </tr>\n",
       "    <tr>\n",
       "      <th>amazon_polarity</th>\n",
       "      <td>0.5</td>\n",
       "      <td>-0.467105</td>\n",
       "      <td>0.909091</td>\n",
       "      <td>66</td>\n",
       "      <td>True</td>\n",
       "      <td>True</td>\n",
       "      <td>0.909091</td>\n",
       "      <td>0.909091</td>\n",
       "      <td>0.833647</td>\n",
       "      <td>0.967105</td>\n",
       "    </tr>\n",
       "  </tbody>\n",
       "</table>\n",
       "</div>"
      ],
      "text/plain": [
       "                 roc_auc improvement       acc    n in_dist_adapter  \\\n",
       "glue:qnli            0.5   -0.190351  0.647059   68            True   \n",
       "hans                 0.5   -0.225209  0.672414   58            True   \n",
       "super_glue:axg       0.5   -0.317758  0.757485  334           False   \n",
       "super_glue:rte       0.5    -0.36413  0.765957   47            True   \n",
       "sst2                 0.5   -0.383455  0.790323   62            True   \n",
       "imdb                 0.5   -0.404945  0.844311  334           False   \n",
       "super_glue:boolq     0.5   -0.432004  0.847305  334           False   \n",
       "amazon_polarity      0.5   -0.467105  0.909091   66            True   \n",
       "\n",
       "                 in_dist_probe   balance balance_proxy roc_auc_adapter  \\\n",
       "glue:qnli                 True  0.647059      0.647059        0.582456   \n",
       "hans                      True  0.672414      0.672414        0.617682   \n",
       "super_glue:axg           False  0.757485      0.757485        0.772825   \n",
       "super_glue:rte            True  0.765957      0.765957        0.788043   \n",
       "sst2                      True  0.790323      0.790323         0.62435   \n",
       "imdb                     False  0.844311      0.844311        0.793467   \n",
       "super_glue:boolq         False  0.847305      0.847305        0.888254   \n",
       "amazon_polarity           True  0.909091      0.909091        0.833647   \n",
       "\n",
       "                 roc_auc_base  \n",
       "glue:qnli            0.690351  \n",
       "hans                 0.725209  \n",
       "super_glue:axg       0.817758  \n",
       "super_glue:rte        0.86413  \n",
       "sst2                 0.883455  \n",
       "imdb                 0.904945  \n",
       "super_glue:boolq     0.932004  \n",
       "amazon_polarity      0.967105  "
      ]
     },
     "execution_count": 9,
     "metadata": {},
     "output_type": "execute_result"
    }
   ],
   "source": [
    "print('DummyClassifier')\n",
    "baseline_model = TorchDummyClassifier(random_state=42, strategy=\"most_frequent\")\n",
    "df_res2 = evaluator.eval(baseline_model)\n",
    "insample_datasets = list(set(ds_val['ds_string_base']))\n",
    "analyze_dfres(df_res2, insample_datasets, insample_datasets)"
   ]
  },
  {
   "cell_type": "markdown",
   "metadata": {},
   "source": [
    "# Other models"
   ]
  },
  {
   "cell_type": "code",
   "execution_count": 10,
   "metadata": {},
   "outputs": [],
   "source": [
    "from src.probes.direct_bce_ranking import PLSK_BCE, PLSKWrapper\n",
    "from src.eval.pl_sk import RankingTruthEval, DistTruthEval#, RankingObeyEval, PlainObeyEval\n",
    "import numpy as np\n",
    "\n",
    "\n",
    "max_epochs = 10\n",
    "verbose = True\n",
    "batch_size=16"
   ]
  },
  {
   "cell_type": "code",
   "execution_count": 11,
   "metadata": {},
   "outputs": [],
   "source": [
    "# Unit test\n",
    "for cls in [RankingTruthEval, DistTruthEval]:\n",
    "    evaluator = cls(ds_trainval=ds_val, ds_test=ds_ood, importance_matrix=importance_matrix)\n",
    "    proxy = evaluator.ds2proxy(ds_val)\n",
    "    y1 = evaluator.proxy2label(proxy, ds_val)\n",
    "    np.testing.assert_array_equal(y1==True, ds_val['label_true_base'], err_msg=f\"undo_distance_truth_telling failed for {cls}\")"
   ]
  },
  {
   "cell_type": "code",
   "execution_count": null,
   "metadata": {},
   "outputs": [],
   "source": []
  },
  {
   "cell_type": "code",
   "execution_count": 12,
   "metadata": {},
   "outputs": [],
   "source": [
    "# # Unit test\n",
    "# for cls in [RankingObeyEval, PlainObeyEval]:\n",
    "#     evaluator = cls(ds_trainval=ds_val, ds_test=ds_oos, importance_matrix=importance_matrix)\n",
    "#     proxy = evaluator.ds2proxy(ds_val)\n",
    "#     y1 = evaluator.proxy2label(proxy, ds_val)\n",
    "#     np.testing.assert_array_equal(y1==True, ds_val['label_instructed_base'], err_msg=f\"undo_distance_truth_telling failed for {cls}\")"
   ]
  },
  {
   "cell_type": "markdown",
   "metadata": {},
   "source": [
    "### Binary cross entropy"
   ]
  },
  {
   "cell_type": "code",
   "execution_count": 13,
   "metadata": {},
   "outputs": [
    {
     "name": "stdout",
     "output_type": "stream",
     "text": [
      "Binary cross entropy\n"
     ]
    },
    {
     "name": "stderr",
     "output_type": "stream",
     "text": [
      "Trainer will use only 1 of 2 GPUs because it is running inside an interactive / notebook environment. You may try to set `Trainer(devices=2)` but please note that multi-GPU inside interactive / notebook environments is considered experimental and unstable. Your mileage may vary.\n",
      "GPU available: True (cuda), used: True\n",
      "TPU available: False, using: 0 TPU cores\n",
      "IPU available: False, using: 0 IPUs\n",
      "HPU available: False, using: 0 HPUs\n",
      "/media/wassname/SGIronWolf/projects5/elk/sgd_probes_are_lie_detectors/.venv/lib/python3.11/site-packages/lightning/pytorch/trainer/connectors/logger_connector/logger_connector.py:67: Starting from v1.9.0, `tensorboardX` has been removed as a dependency of the `lightning.pytorch` package, due to potential conflicts with other packages in the ML ecosystem. For this reason, `logger=True` will use `CSVLogger` as the default logger, unless the `tensorboard` or `tensorboardX` packages are found. Please `pip install lightning[extra]` or one of them to enable TensorBoard support by default\n",
      "You are using a CUDA device ('NVIDIA GeForce RTX 3090') that has Tensor Cores. To properly utilize them, you should set `torch.set_float32_matmul_precision('medium' | 'high')` which will trade-off precision for performance. For more details, read https://pytorch.org/docs/stable/generated/torch.set_float32_matmul_precision.html#torch.set_float32_matmul_precision\n",
      "LOCAL_RANK: 0 - CUDA_VISIBLE_DEVICES: [0,1]\n",
      "\n",
      "  | Name  | Type      | Params\n",
      "------------------------------------\n",
      "0 | model | HSModel3d | 3.0 M \n",
      "------------------------------------\n",
      "3.0 M     Trainable params\n",
      "0         Non-trainable params\n",
      "3.0 M     Total params\n",
      "11.865    Total estimated model params size (MB)\n"
     ]
    },
    {
     "data": {
      "application/vnd.jupyter.widget-view+json": {
       "model_id": "35ba571202674a7faf8b3c01f5408bcd",
       "version_major": 2,
       "version_minor": 0
      },
      "text/plain": [
       "Sanity Checking: |          | 0/? [00:00<?, ?it/s]"
      ]
     },
     "metadata": {},
     "output_type": "display_data"
    },
    {
     "name": "stderr",
     "output_type": "stream",
     "text": [
      "/media/wassname/SGIronWolf/projects5/elk/sgd_probes_are_lie_detectors/.venv/lib/python3.11/site-packages/lightning/pytorch/trainer/connectors/data_connector.py:441: The 'val_dataloader' does not have many workers which may be a bottleneck. Consider increasing the value of the `num_workers` argument` to `num_workers=23` in the `DataLoader` to improve performance.\n",
      "/media/wassname/SGIronWolf/projects5/elk/sgd_probes_are_lie_detectors/.venv/lib/python3.11/site-packages/torch/nn/modules/conv.py:306: UserWarning: Using padding='same' with even kernel lengths and odd dilation may require a zero-padded copy of the input be created (Triggered internally at ../aten/src/ATen/native/Convolution.cpp:1008.)\n",
      "  return F.conv1d(input, weight, bias, self.stride,\n",
      "/media/wassname/SGIronWolf/projects5/elk/sgd_probes_are_lie_detectors/.venv/lib/python3.11/site-packages/lightning/pytorch/trainer/connectors/data_connector.py:441: The 'train_dataloader' does not have many workers which may be a bottleneck. Consider increasing the value of the `num_workers` argument` to `num_workers=23` in the `DataLoader` to improve performance.\n"
     ]
    },
    {
     "data": {
      "application/vnd.jupyter.widget-view+json": {
       "model_id": "caec766622df4798b6cd5e26193a75e5",
       "version_major": 2,
       "version_minor": 0
      },
      "text/plain": [
       "Training: |          | 0/? [00:00<?, ?it/s]"
      ]
     },
     "metadata": {},
     "output_type": "display_data"
    },
    {
     "data": {
      "application/vnd.jupyter.widget-view+json": {
       "model_id": "c1421c51b98c4bd3a33c9802b42da522",
       "version_major": 2,
       "version_minor": 0
      },
      "text/plain": [
       "Validation: |          | 0/? [00:00<?, ?it/s]"
      ]
     },
     "metadata": {},
     "output_type": "display_data"
    },
    {
     "data": {
      "application/vnd.jupyter.widget-view+json": {
       "model_id": "bf83d3b84a4e439994a74a8860457938",
       "version_major": 2,
       "version_minor": 0
      },
      "text/plain": [
       "Validation: |          | 0/? [00:00<?, ?it/s]"
      ]
     },
     "metadata": {},
     "output_type": "display_data"
    },
    {
     "data": {
      "application/vnd.jupyter.widget-view+json": {
       "model_id": "7fd2cc6772d6474bbee4594b89f53e64",
       "version_major": 2,
       "version_minor": 0
      },
      "text/plain": [
       "Validation: |          | 0/? [00:00<?, ?it/s]"
      ]
     },
     "metadata": {},
     "output_type": "display_data"
    },
    {
     "data": {
      "application/vnd.jupyter.widget-view+json": {
       "model_id": "3d52bc31bf4442cd805b741212207531",
       "version_major": 2,
       "version_minor": 0
      },
      "text/plain": [
       "Validation: |          | 0/? [00:00<?, ?it/s]"
      ]
     },
     "metadata": {},
     "output_type": "display_data"
    },
    {
     "data": {
      "application/vnd.jupyter.widget-view+json": {
       "model_id": "51d523fe06a04d3ba1d2d2f0f8d806d9",
       "version_major": 2,
       "version_minor": 0
      },
      "text/plain": [
       "Validation: |          | 0/? [00:00<?, ?it/s]"
      ]
     },
     "metadata": {},
     "output_type": "display_data"
    },
    {
     "data": {
      "application/vnd.jupyter.widget-view+json": {
       "model_id": "a84a6b48950946c4bba97ae728264df3",
       "version_major": 2,
       "version_minor": 0
      },
      "text/plain": [
       "Validation: |          | 0/? [00:00<?, ?it/s]"
      ]
     },
     "metadata": {},
     "output_type": "display_data"
    },
    {
     "data": {
      "application/vnd.jupyter.widget-view+json": {
       "model_id": "83e515366f9c425aa59ca6d5c0aa3902",
       "version_major": 2,
       "version_minor": 0
      },
      "text/plain": [
       "Validation: |          | 0/? [00:00<?, ?it/s]"
      ]
     },
     "metadata": {},
     "output_type": "display_data"
    },
    {
     "data": {
      "application/vnd.jupyter.widget-view+json": {
       "model_id": "5d08d7e35c6648c4a64af2f6b34cf33e",
       "version_major": 2,
       "version_minor": 0
      },
      "text/plain": [
       "Validation: |          | 0/? [00:00<?, ?it/s]"
      ]
     },
     "metadata": {},
     "output_type": "display_data"
    },
    {
     "data": {
      "application/vnd.jupyter.widget-view+json": {
       "model_id": "3dd54c0083b442ebb7e2c917dab813b0",
       "version_major": 2,
       "version_minor": 0
      },
      "text/plain": [
       "Validation: |          | 0/? [00:00<?, ?it/s]"
      ]
     },
     "metadata": {},
     "output_type": "display_data"
    },
    {
     "data": {
      "application/vnd.jupyter.widget-view+json": {
       "model_id": "24667201f08944ecae8ed103170d7c23",
       "version_major": 2,
       "version_minor": 0
      },
      "text/plain": [
       "Validation: |          | 0/? [00:00<?, ?it/s]"
      ]
     },
     "metadata": {},
     "output_type": "display_data"
    },
    {
     "name": "stderr",
     "output_type": "stream",
     "text": [
      "`Trainer.fit` stopped: `max_epochs=10` reached.\n"
     ]
    },
    {
     "data": {
      "image/png": "[encoded data removed]",
      "text/plain": [
       "<Figure size 800x550 with 1 Axes>"
      ]
     },
     "metadata": {},
     "output_type": "display_data"
    },
    {
     "data": {
      "image/png": "[encoded data removed]",
      "text/plain": [
       "<Figure size 800x550 with 1 Axes>"
      ]
     },
     "metadata": {},
     "output_type": "display_data"
    },
    {
     "name": "stderr",
     "output_type": "stream",
     "text": [
      "LOCAL_RANK: 0 - CUDA_VISIBLE_DEVICES: [0,1]\n",
      "/media/wassname/SGIronWolf/projects5/elk/sgd_probes_are_lie_detectors/.venv/lib/python3.11/site-packages/lightning/pytorch/trainer/connectors/data_connector.py:441: The 'predict_dataloader' does not have many workers which may be a bottleneck. Consider increasing the value of the `num_workers` argument` to `num_workers=23` in the `DataLoader` to improve performance.\n"
     ]
    },
    {
     "data": {
      "application/vnd.jupyter.widget-view+json": {
       "model_id": "46f917f8afdd4f87a6144860307badd9",
       "version_major": 2,
       "version_minor": 0
      },
      "text/plain": [
       "Predicting: |          | 0/? [00:00<?, ?it/s]"
      ]
     },
     "metadata": {},
     "output_type": "display_data"
    },
    {
     "name": "stderr",
     "output_type": "stream",
     "text": [
      "LOCAL_RANK: 0 - CUDA_VISIBLE_DEVICES: [0,1]\n",
      "/media/wassname/SGIronWolf/projects5/elk/sgd_probes_are_lie_detectors/.venv/lib/python3.11/site-packages/lightning/pytorch/trainer/connectors/data_connector.py:441: The 'predict_dataloader' does not have many workers which may be a bottleneck. Consider increasing the value of the `num_workers` argument` to `num_workers=23` in the `DataLoader` to improve performance.\n"
     ]
    },
    {
     "data": {
      "application/vnd.jupyter.widget-view+json": {
       "model_id": "386304dff495442a99b219bb0c62c1cc",
       "version_major": 2,
       "version_minor": 0
      },
      "text/plain": [
       "Predicting: |          | 0/? [00:00<?, ?it/s]"
      ]
     },
     "metadata": {},
     "output_type": "display_data"
    },
    {
     "name": "stderr",
     "output_type": "stream",
     "text": [
      "LOCAL_RANK: 0 - CUDA_VISIBLE_DEVICES: [0,1]\n",
      "/media/wassname/SGIronWolf/projects5/elk/sgd_probes_are_lie_detectors/.venv/lib/python3.11/site-packages/lightning/pytorch/trainer/connectors/data_connector.py:441: The 'predict_dataloader' does not have many workers which may be a bottleneck. Consider increasing the value of the `num_workers` argument` to `num_workers=23` in the `DataLoader` to improve performance.\n"
     ]
    },
    {
     "data": {
      "application/vnd.jupyter.widget-view+json": {
       "model_id": "05e6020b994f463f9ce237899468d6fa",
       "version_major": 2,
       "version_minor": 0
      },
      "text/plain": [
       "Predicting: |          | 0/? [00:00<?, ?it/s]"
      ]
     },
     "metadata": {},
     "output_type": "display_data"
    },
    {
     "name": "stdout",
     "output_type": "stream",
     "text": [
      "⭐ main_metric: 0.760 ⭐ roc_auc for 1002 OOD samples\n"
     ]
    },
    {
     "data": {
      "text/html": [
       "<div>\n",
       "<style scoped>\n",
       "    .dataframe tbody tr th:only-of-type {\n",
       "        vertical-align: middle;\n",
       "    }\n",
       "\n",
       "    .dataframe tbody tr th {\n",
       "        vertical-align: top;\n",
       "    }\n",
       "\n",
       "    .dataframe thead th {\n",
       "        text-align: right;\n",
       "    }\n",
       "</style>\n",
       "<table border=\"1\" class=\"dataframe\">\n",
       "  <thead>\n",
       "    <tr style=\"text-align: right;\">\n",
       "      <th></th>\n",
       "      <th>roc_auc</th>\n",
       "      <th>improvement</th>\n",
       "      <th>acc</th>\n",
       "      <th>n</th>\n",
       "      <th>in_dist_adapter</th>\n",
       "      <th>in_dist_probe</th>\n",
       "      <th>balance</th>\n",
       "      <th>balance_proxy</th>\n",
       "      <th>roc_auc_adapter</th>\n",
       "      <th>roc_auc_base</th>\n",
       "    </tr>\n",
       "  </thead>\n",
       "  <tbody>\n",
       "    <tr>\n",
       "      <th>hans</th>\n",
       "      <td>0.792115</td>\n",
       "      <td>0.066906</td>\n",
       "      <td>0.724138</td>\n",
       "      <td>58</td>\n",
       "      <td>True</td>\n",
       "      <td>True</td>\n",
       "      <td>0.465517</td>\n",
       "      <td>0.724138</td>\n",
       "      <td>0.617682</td>\n",
       "      <td>0.725209</td>\n",
       "    </tr>\n",
       "    <tr>\n",
       "      <th>glue:qnli</th>\n",
       "      <td>0.683333</td>\n",
       "      <td>-0.007018</td>\n",
       "      <td>0.661765</td>\n",
       "      <td>68</td>\n",
       "      <td>True</td>\n",
       "      <td>True</td>\n",
       "      <td>0.558824</td>\n",
       "      <td>0.661765</td>\n",
       "      <td>0.582456</td>\n",
       "      <td>0.690351</td>\n",
       "    </tr>\n",
       "    <tr>\n",
       "      <th>sst2</th>\n",
       "      <td>0.842872</td>\n",
       "      <td>-0.040583</td>\n",
       "      <td>0.83871</td>\n",
       "      <td>62</td>\n",
       "      <td>True</td>\n",
       "      <td>True</td>\n",
       "      <td>0.5</td>\n",
       "      <td>0.83871</td>\n",
       "      <td>0.62435</td>\n",
       "      <td>0.883455</td>\n",
       "    </tr>\n",
       "    <tr>\n",
       "      <th>amazon_polarity</th>\n",
       "      <td>0.921992</td>\n",
       "      <td>-0.045113</td>\n",
       "      <td>0.893939</td>\n",
       "      <td>66</td>\n",
       "      <td>True</td>\n",
       "      <td>True</td>\n",
       "      <td>0.575758</td>\n",
       "      <td>0.893939</td>\n",
       "      <td>0.833647</td>\n",
       "      <td>0.967105</td>\n",
       "    </tr>\n",
       "    <tr>\n",
       "      <th>imdb</th>\n",
       "      <td>0.836817</td>\n",
       "      <td>-0.068127</td>\n",
       "      <td>0.826347</td>\n",
       "      <td>334</td>\n",
       "      <td>False</td>\n",
       "      <td>False</td>\n",
       "      <td>0.5</td>\n",
       "      <td>0.826347</td>\n",
       "      <td>0.793467</td>\n",
       "      <td>0.904945</td>\n",
       "    </tr>\n",
       "    <tr>\n",
       "      <th>super_glue:boolq</th>\n",
       "      <td>0.862428</td>\n",
       "      <td>-0.069576</td>\n",
       "      <td>0.856287</td>\n",
       "      <td>334</td>\n",
       "      <td>False</td>\n",
       "      <td>False</td>\n",
       "      <td>0.479042</td>\n",
       "      <td>0.856287</td>\n",
       "      <td>0.888254</td>\n",
       "      <td>0.932004</td>\n",
       "    </tr>\n",
       "    <tr>\n",
       "      <th>super_glue:axg</th>\n",
       "      <td>0.663814</td>\n",
       "      <td>-0.153944</td>\n",
       "      <td>0.691617</td>\n",
       "      <td>334</td>\n",
       "      <td>False</td>\n",
       "      <td>False</td>\n",
       "      <td>0.51497</td>\n",
       "      <td>0.691617</td>\n",
       "      <td>0.772825</td>\n",
       "      <td>0.817758</td>\n",
       "    </tr>\n",
       "    <tr>\n",
       "      <th>super_glue:rte</th>\n",
       "      <td>0.706522</td>\n",
       "      <td>-0.157609</td>\n",
       "      <td>0.723404</td>\n",
       "      <td>47</td>\n",
       "      <td>True</td>\n",
       "      <td>True</td>\n",
       "      <td>0.489362</td>\n",
       "      <td>0.723404</td>\n",
       "      <td>0.788043</td>\n",
       "      <td>0.86413</td>\n",
       "    </tr>\n",
       "  </tbody>\n",
       "</table>\n",
       "</div>"
      ],
      "text/plain": [
       "                   roc_auc improvement       acc    n in_dist_adapter  \\\n",
       "hans              0.792115    0.066906  0.724138   58            True   \n",
       "glue:qnli         0.683333   -0.007018  0.661765   68            True   \n",
       "sst2              0.842872   -0.040583   0.83871   62            True   \n",
       "amazon_polarity   0.921992   -0.045113  0.893939   66            True   \n",
       "imdb              0.836817   -0.068127  0.826347  334           False   \n",
       "super_glue:boolq  0.862428   -0.069576  0.856287  334           False   \n",
       "super_glue:axg    0.663814   -0.153944  0.691617  334           False   \n",
       "super_glue:rte    0.706522   -0.157609  0.723404   47            True   \n",
       "\n",
       "                 in_dist_probe   balance balance_proxy roc_auc_adapter  \\\n",
       "hans                      True  0.465517      0.724138        0.617682   \n",
       "glue:qnli                 True  0.558824      0.661765        0.582456   \n",
       "sst2                      True       0.5       0.83871         0.62435   \n",
       "amazon_polarity           True  0.575758      0.893939        0.833647   \n",
       "imdb                     False       0.5      0.826347        0.793467   \n",
       "super_glue:boolq         False  0.479042      0.856287        0.888254   \n",
       "super_glue:axg           False   0.51497      0.691617        0.772825   \n",
       "super_glue:rte            True  0.489362      0.723404        0.788043   \n",
       "\n",
       "                 roc_auc_base  \n",
       "hans                 0.725209  \n",
       "glue:qnli            0.690351  \n",
       "sst2                 0.883455  \n",
       "amazon_polarity      0.967105  \n",
       "imdb                 0.904945  \n",
       "super_glue:boolq     0.932004  \n",
       "super_glue:axg       0.817758  \n",
       "super_glue:rte        0.86413  "
      ]
     },
     "metadata": {},
     "output_type": "display_data"
    },
    {
     "data": {
      "text/html": [
       "<div>\n",
       "<style scoped>\n",
       "    .dataframe tbody tr th:only-of-type {\n",
       "        vertical-align: middle;\n",
       "    }\n",
       "\n",
       "    .dataframe tbody tr th {\n",
       "        vertical-align: top;\n",
       "    }\n",
       "\n",
       "    .dataframe thead th {\n",
       "        text-align: right;\n",
       "    }\n",
       "</style>\n",
       "<table border=\"1\" class=\"dataframe\">\n",
       "  <thead>\n",
       "    <tr style=\"text-align: right;\">\n",
       "      <th></th>\n",
       "      <th>roc_auc</th>\n",
       "      <th>improvement</th>\n",
       "      <th>acc</th>\n",
       "      <th>n</th>\n",
       "      <th>in_dist_adapter</th>\n",
       "      <th>in_dist_probe</th>\n",
       "      <th>balance</th>\n",
       "      <th>balance_proxy</th>\n",
       "      <th>roc_auc_adapter</th>\n",
       "      <th>roc_auc_base</th>\n",
       "    </tr>\n",
       "  </thead>\n",
       "  <tbody>\n",
       "    <tr>\n",
       "      <th>hans</th>\n",
       "      <td>0.792115</td>\n",
       "      <td>0.066906</td>\n",
       "      <td>0.724138</td>\n",
       "      <td>58</td>\n",
       "      <td>True</td>\n",
       "      <td>True</td>\n",
       "      <td>0.465517</td>\n",
       "      <td>0.724138</td>\n",
       "      <td>0.617682</td>\n",
       "      <td>0.725209</td>\n",
       "    </tr>\n",
       "    <tr>\n",
       "      <th>glue:qnli</th>\n",
       "      <td>0.683333</td>\n",
       "      <td>-0.007018</td>\n",
       "      <td>0.661765</td>\n",
       "      <td>68</td>\n",
       "      <td>True</td>\n",
       "      <td>True</td>\n",
       "      <td>0.558824</td>\n",
       "      <td>0.661765</td>\n",
       "      <td>0.582456</td>\n",
       "      <td>0.690351</td>\n",
       "    </tr>\n",
       "    <tr>\n",
       "      <th>sst2</th>\n",
       "      <td>0.842872</td>\n",
       "      <td>-0.040583</td>\n",
       "      <td>0.83871</td>\n",
       "      <td>62</td>\n",
       "      <td>True</td>\n",
       "      <td>True</td>\n",
       "      <td>0.5</td>\n",
       "      <td>0.83871</td>\n",
       "      <td>0.62435</td>\n",
       "      <td>0.883455</td>\n",
       "    </tr>\n",
       "    <tr>\n",
       "      <th>amazon_polarity</th>\n",
       "      <td>0.921992</td>\n",
       "      <td>-0.045113</td>\n",
       "      <td>0.893939</td>\n",
       "      <td>66</td>\n",
       "      <td>True</td>\n",
       "      <td>True</td>\n",
       "      <td>0.575758</td>\n",
       "      <td>0.893939</td>\n",
       "      <td>0.833647</td>\n",
       "      <td>0.967105</td>\n",
       "    </tr>\n",
       "    <tr>\n",
       "      <th>imdb</th>\n",
       "      <td>0.836817</td>\n",
       "      <td>-0.068127</td>\n",
       "      <td>0.826347</td>\n",
       "      <td>334</td>\n",
       "      <td>False</td>\n",
       "      <td>False</td>\n",
       "      <td>0.5</td>\n",
       "      <td>0.826347</td>\n",
       "      <td>0.793467</td>\n",
       "      <td>0.904945</td>\n",
       "    </tr>\n",
       "    <tr>\n",
       "      <th>super_glue:boolq</th>\n",
       "      <td>0.862428</td>\n",
       "      <td>-0.069576</td>\n",
       "      <td>0.856287</td>\n",
       "      <td>334</td>\n",
       "      <td>False</td>\n",
       "      <td>False</td>\n",
       "      <td>0.479042</td>\n",
       "      <td>0.856287</td>\n",
       "      <td>0.888254</td>\n",
       "      <td>0.932004</td>\n",
       "    </tr>\n",
       "    <tr>\n",
       "      <th>super_glue:axg</th>\n",
       "      <td>0.663814</td>\n",
       "      <td>-0.153944</td>\n",
       "      <td>0.691617</td>\n",
       "      <td>334</td>\n",
       "      <td>False</td>\n",
       "      <td>False</td>\n",
       "      <td>0.51497</td>\n",
       "      <td>0.691617</td>\n",
       "      <td>0.772825</td>\n",
       "      <td>0.817758</td>\n",
       "    </tr>\n",
       "    <tr>\n",
       "      <th>super_glue:rte</th>\n",
       "      <td>0.706522</td>\n",
       "      <td>-0.157609</td>\n",
       "      <td>0.723404</td>\n",
       "      <td>47</td>\n",
       "      <td>True</td>\n",
       "      <td>True</td>\n",
       "      <td>0.489362</td>\n",
       "      <td>0.723404</td>\n",
       "      <td>0.788043</td>\n",
       "      <td>0.86413</td>\n",
       "    </tr>\n",
       "  </tbody>\n",
       "</table>\n",
       "</div>"
      ],
      "text/plain": [
       "                   roc_auc improvement       acc    n in_dist_adapter  \\\n",
       "hans              0.792115    0.066906  0.724138   58            True   \n",
       "glue:qnli         0.683333   -0.007018  0.661765   68            True   \n",
       "sst2              0.842872   -0.040583   0.83871   62            True   \n",
       "amazon_polarity   0.921992   -0.045113  0.893939   66            True   \n",
       "imdb              0.836817   -0.068127  0.826347  334           False   \n",
       "super_glue:boolq  0.862428   -0.069576  0.856287  334           False   \n",
       "super_glue:axg    0.663814   -0.153944  0.691617  334           False   \n",
       "super_glue:rte    0.706522   -0.157609  0.723404   47            True   \n",
       "\n",
       "                 in_dist_probe   balance balance_proxy roc_auc_adapter  \\\n",
       "hans                      True  0.465517      0.724138        0.617682   \n",
       "glue:qnli                 True  0.558824      0.661765        0.582456   \n",
       "sst2                      True       0.5       0.83871         0.62435   \n",
       "amazon_polarity           True  0.575758      0.893939        0.833647   \n",
       "imdb                     False       0.5      0.826347        0.793467   \n",
       "super_glue:boolq         False  0.479042      0.856287        0.888254   \n",
       "super_glue:axg           False   0.51497      0.691617        0.772825   \n",
       "super_glue:rte            True  0.489362      0.723404        0.788043   \n",
       "\n",
       "                 roc_auc_base  \n",
       "hans                 0.725209  \n",
       "glue:qnli            0.690351  \n",
       "sst2                 0.883455  \n",
       "amazon_polarity      0.967105  \n",
       "imdb                 0.904945  \n",
       "super_glue:boolq     0.932004  \n",
       "super_glue:axg       0.817758  \n",
       "super_glue:rte        0.86413  "
      ]
     },
     "execution_count": 13,
     "metadata": {},
     "output_type": "execute_result"
    }
   ],
   "source": [
    "print('Binary cross entropy')\n",
    "evaluator = RankingTruthEval(ds_trainval=ds_val, ds_test=ds_ood, importance_matrix=importance_matrix, skip=skip, stride=stride, decimate=decimate, layers_names=layers)\n",
    "epoch_steps = int(len(ds_val)*0.7//batch_size)\n",
    "\n",
    "_X, _ = evaluator.ds2xy(ds_val)\n",
    "c_in = _X.shape[1:]\n",
    "\n",
    "\n",
    "pl_model = PLSK_BCE(c_in=c_in, epoch_steps=epoch_steps, max_epochs=max_epochs, dropout=0.25, hs=16, depth=3)\n",
    "model = PLSKWrapper(pl_model, verbose=verbose, max_epochs=max_epochs)\n",
    "df_res = evaluator.eval(model)\n",
    "insample_datasets = list(set(ds_val['ds_string_base']))\n",
    "analyze_dfres(df_res, insample_datasets, insample_datasets)"
   ]
  },
  {
   "cell_type": "markdown",
   "metadata": {},
   "source": [
    "### MSE Ranking"
   ]
  },
  {
   "cell_type": "code",
   "execution_count": 14,
   "metadata": {},
   "outputs": [
    {
     "name": "stdout",
     "output_type": "stream",
     "text": [
      "MSE Ranking\n"
     ]
    },
    {
     "name": "stderr",
     "output_type": "stream",
     "text": [
      "Trainer will use only 1 of 2 GPUs because it is running inside an interactive / notebook environment. You may try to set `Trainer(devices=2)` but please note that multi-GPU inside interactive / notebook environments is considered experimental and unstable. Your mileage may vary.\n",
      "GPU available: True (cuda), used: True\n",
      "TPU available: False, using: 0 TPU cores\n",
      "IPU available: False, using: 0 IPUs\n",
      "HPU available: False, using: 0 HPUs\n",
      "LOCAL_RANK: 0 - CUDA_VISIBLE_DEVICES: [0,1]\n",
      "\n",
      "  | Name  | Type      | Params\n",
      "------------------------------------\n",
      "0 | model | HSModel2d | 752 K \n",
      "------------------------------------\n",
      "752 K     Trainable params\n",
      "0         Non-trainable params\n",
      "752 K     Total params\n",
      "3.009     Total estimated model params size (MB)\n"
     ]
    },
    {
     "data": {
      "application/vnd.jupyter.widget-view+json": {
       "model_id": "6fe35b8f7bab43d78308b84171d507bd",
       "version_major": 2,
       "version_minor": 0
      },
      "text/plain": [
       "Sanity Checking: |          | 0/? [00:00<?, ?it/s]"
      ]
     },
     "metadata": {},
     "output_type": "display_data"
    },
    {
     "name": "stderr",
     "output_type": "stream",
     "text": [
      "/media/wassname/SGIronWolf/projects5/elk/sgd_probes_are_lie_detectors/.venv/lib/python3.11/site-packages/lightning/pytorch/trainer/connectors/data_connector.py:441: The 'val_dataloader' does not have many workers which may be a bottleneck. Consider increasing the value of the `num_workers` argument` to `num_workers=23` in the `DataLoader` to improve performance.\n",
      "/media/wassname/SGIronWolf/projects5/elk/sgd_probes_are_lie_detectors/.venv/lib/python3.11/site-packages/lightning/pytorch/trainer/connectors/data_connector.py:441: The 'train_dataloader' does not have many workers which may be a bottleneck. Consider increasing the value of the `num_workers` argument` to `num_workers=23` in the `DataLoader` to improve performance.\n"
     ]
    },
    {
     "data": {
      "application/vnd.jupyter.widget-view+json": {
       "model_id": "55dd4da5ee0d45598014e5a9055df8ee",
       "version_major": 2,
       "version_minor": 0
      },
      "text/plain": [
       "Training: |          | 0/? [00:00<?, ?it/s]"
      ]
     },
     "metadata": {},
     "output_type": "display_data"
    },
    {
     "data": {
      "application/vnd.jupyter.widget-view+json": {
       "model_id": "6d0474acca1849159a31ab892ce6445d",
       "version_major": 2,
       "version_minor": 0
      },
      "text/plain": [
       "Validation: |          | 0/? [00:00<?, ?it/s]"
      ]
     },
     "metadata": {},
     "output_type": "display_data"
    },
    {
     "data": {
      "application/vnd.jupyter.widget-view+json": {
       "model_id": "895684e0a2334774b79f5c13121fcd7b",
       "version_major": 2,
       "version_minor": 0
      },
      "text/plain": [
       "Validation: |          | 0/? [00:00<?, ?it/s]"
      ]
     },
     "metadata": {},
     "output_type": "display_data"
    },
    {
     "data": {
      "application/vnd.jupyter.widget-view+json": {
       "model_id": "24bbcd976f1d41448b803b3fb09dbec2",
       "version_major": 2,
       "version_minor": 0
      },
      "text/plain": [
       "Validation: |          | 0/? [00:00<?, ?it/s]"
      ]
     },
     "metadata": {},
     "output_type": "display_data"
    },
    {
     "data": {
      "application/vnd.jupyter.widget-view+json": {
       "model_id": "a83c8fbe40ca474e97bc668a9a9d0c15",
       "version_major": 2,
       "version_minor": 0
      },
      "text/plain": [
       "Validation: |          | 0/? [00:00<?, ?it/s]"
      ]
     },
     "metadata": {},
     "output_type": "display_data"
    },
    {
     "data": {
      "application/vnd.jupyter.widget-view+json": {
       "model_id": "33b83ceeb02743979ea6a410a4f13517",
       "version_major": 2,
       "version_minor": 0
      },
      "text/plain": [
       "Validation: |          | 0/? [00:00<?, ?it/s]"
      ]
     },
     "metadata": {},
     "output_type": "display_data"
    },
    {
     "data": {
      "application/vnd.jupyter.widget-view+json": {
       "model_id": "98d0c3d6f31345809f357285a7d45b80",
       "version_major": 2,
       "version_minor": 0
      },
      "text/plain": [
       "Validation: |          | 0/? [00:00<?, ?it/s]"
      ]
     },
     "metadata": {},
     "output_type": "display_data"
    },
    {
     "data": {
      "application/vnd.jupyter.widget-view+json": {
       "model_id": "7bc2bebf1dfd48cab42805623a51d428",
       "version_major": 2,
       "version_minor": 0
      },
      "text/plain": [
       "Validation: |          | 0/? [00:00<?, ?it/s]"
      ]
     },
     "metadata": {},
     "output_type": "display_data"
    },
    {
     "data": {
      "application/vnd.jupyter.widget-view+json": {
       "model_id": "8687cd4a76e749b4b23ac48f09fc8ba9",
       "version_major": 2,
       "version_minor": 0
      },
      "text/plain": [
       "Validation: |          | 0/? [00:00<?, ?it/s]"
      ]
     },
     "metadata": {},
     "output_type": "display_data"
    },
    {
     "data": {
      "application/vnd.jupyter.widget-view+json": {
       "model_id": "aa63e8b80ab24e5a84f210fb904241d8",
       "version_major": 2,
       "version_minor": 0
      },
      "text/plain": [
       "Validation: |          | 0/? [00:00<?, ?it/s]"
      ]
     },
     "metadata": {},
     "output_type": "display_data"
    },
    {
     "data": {
      "application/vnd.jupyter.widget-view+json": {
       "model_id": "78061daba72042c9b9c800596748af86",
       "version_major": 2,
       "version_minor": 0
      },
      "text/plain": [
       "Validation: |          | 0/? [00:00<?, ?it/s]"
      ]
     },
     "metadata": {},
     "output_type": "display_data"
    },
    {
     "name": "stderr",
     "output_type": "stream",
     "text": [
      "`Trainer.fit` stopped: `max_epochs=10` reached.\n"
     ]
    },
    {
     "data": {
      "image/png": "[encoded data removed]",
      "text/plain": [
       "<Figure size 800x550 with 1 Axes>"
      ]
     },
     "metadata": {},
     "output_type": "display_data"
    },
    {
     "data": {
      "image/png": "[encoded data removed]",
      "text/plain": [
       "<Figure size 800x550 with 1 Axes>"
      ]
     },
     "metadata": {},
     "output_type": "display_data"
    },
    {
     "name": "stderr",
     "output_type": "stream",
     "text": [
      "LOCAL_RANK: 0 - CUDA_VISIBLE_DEVICES: [0,1]\n",
      "/media/wassname/SGIronWolf/projects5/elk/sgd_probes_are_lie_detectors/.venv/lib/python3.11/site-packages/lightning/pytorch/trainer/connectors/data_connector.py:441: The 'predict_dataloader' does not have many workers which may be a bottleneck. Consider increasing the value of the `num_workers` argument` to `num_workers=23` in the `DataLoader` to improve performance.\n"
     ]
    },
    {
     "data": {
      "application/vnd.jupyter.widget-view+json": {
       "model_id": "3b6275a6dce7403da7359bc9329f91e4",
       "version_major": 2,
       "version_minor": 0
      },
      "text/plain": [
       "Predicting: |          | 0/? [00:00<?, ?it/s]"
      ]
     },
     "metadata": {},
     "output_type": "display_data"
    },
    {
     "name": "stderr",
     "output_type": "stream",
     "text": [
      "LOCAL_RANK: 0 - CUDA_VISIBLE_DEVICES: [0,1]\n",
      "/media/wassname/SGIronWolf/projects5/elk/sgd_probes_are_lie_detectors/.venv/lib/python3.11/site-packages/lightning/pytorch/trainer/connectors/data_connector.py:441: The 'predict_dataloader' does not have many workers which may be a bottleneck. Consider increasing the value of the `num_workers` argument` to `num_workers=23` in the `DataLoader` to improve performance.\n"
     ]
    },
    {
     "data": {
      "application/vnd.jupyter.widget-view+json": {
       "model_id": "0a59ffe54f4d43d8bd6f93d41cbde4e5",
       "version_major": 2,
       "version_minor": 0
      },
      "text/plain": [
       "Predicting: |          | 0/? [00:00<?, ?it/s]"
      ]
     },
     "metadata": {},
     "output_type": "display_data"
    },
    {
     "ename": "",
     "evalue": "",
     "output_type": "error",
     "traceback": [
      "\u001b[1;31mThe Kernel crashed while executing code in the the current cell or a previous cell. Please review the code in the cell(s) to identify a possible cause of the failure. Click <a href='https://aka.ms/vscodeJupyterKernelCrash'>here</a> for more info. View Jupyter <a href='command:jupyter.viewOutput'>log</a> for further details."
     ]
    }
   ],
   "source": [
    "from src.probes.mse_ranking import PLSKMSErank\n",
    "\n",
    "print('MSE Ranking')\n",
    "evaluator = RankingTruthEval(ds_trainval=ds_val, ds_test=ds_ood, importance_matrix=importance_matrix, skip=skip, stride=stride, decimate=decimate, layers_names=layers)\n",
    "epoch_steps = int(len(ds_val)*0.7//batch_size)\n",
    "\n",
    "_X, _ = evaluator.ds2xy(ds_val)\n",
    "c_in = _X.shape[1:]\n",
    "\n",
    "\n",
    "pl_model = PLSKMSErank(c_in=c_in, epoch_steps=epoch_steps, max_epochs=max_epochs, dropout=0.25, hs=16, depth=3)\n",
    "model = PLSKWrapper(pl_model, verbose=verbose, max_epochs=max_epochs)\n",
    "df_res = evaluator.eval(model)\n",
    "insample_datasets = list(set(ds_val['ds_string_base']))\n",
    "analyze_dfres(df_res, insample_datasets, insample_datasets)"
   ]
  },
  {
   "cell_type": "markdown",
   "metadata": {},
   "source": [
    "### Bool ranking"
   ]
  },
  {
   "cell_type": "code",
   "execution_count": null,
   "metadata": {},
   "outputs": [],
   "source": []
  },
  {
   "cell_type": "code",
   "execution_count": null,
   "metadata": {},
   "outputs": [],
   "source": [
    "from src.probes.mse_ranking import PLSKBoolRank\n",
    "\n",
    "print('MSE Ranking')\n",
    "evaluator = RankingTruthEval(ds_trainval=ds_val, ds_test=ds_ood, importance_matrix=importance_matrix, skip=skip, stride=stride, decimate=decimate, layers_names=layers)\n",
    "epoch_steps = int(len(ds_val)*0.7//batch_size)\n",
    "\n",
    "_X, _ = evaluator.ds2xy(ds_val)\n",
    "c_in = _X.shape[1:]\n",
    "\n",
    "\n",
    "pl_model = PLSKBoolRank(c_in=c_in, epoch_steps=epoch_steps, max_epochs=max_epochs, dropout=0.25, hs=16, depth=3)\n",
    "model = PLSKWrapper(pl_model, verbose=verbose, max_epochs=max_epochs)\n",
    "df_res = evaluator.eval(model)\n",
    "insample_datasets = list(set(ds_val['ds_string_base']))\n",
    "analyze_dfres(df_res, insample_datasets, insample_datasets)"
   ]
  },
  {
   "cell_type": "markdown",
   "metadata": {},
   "source": [
    "### ConformalLR"
   ]
  },
  {
   "cell_type": "code",
   "execution_count": null,
   "metadata": {},
   "outputs": [],
   "source": [
    "from src.probes.conformal import MapieClassifier2\n",
    "from sklearn.linear_model import LogisticRegression\n",
    "\n",
    "print('ConformalLR')\n",
    "evaluator = RankingTruthEval(ds_trainval=ds_val, ds_test=ds_ood, importance_matrix=importance_matrix, skip=skip, stride=stride, decimate=decimate, layers_names=layers)\n",
    "\n",
    "clf = LogisticRegression(random_state=42, max_iter=1000, class_weight='balanced',)\n",
    "model = MapieClassifier2(estimator=clf, \n",
    "                        # cv=\"prefit\",\n",
    "                        method=\"score\",                        \n",
    "                        )\n",
    "df_res = evaluator.eval(model)\n",
    "insample_datasets = list(set(ds_val['ds_string_base']))\n",
    "analyze_dfres(df_res, insample_datasets, insample_datasets)"
   ]
  },
  {
   "cell_type": "code",
   "execution_count": null,
   "metadata": {},
   "outputs": [],
   "source": []
  },
  {
   "cell_type": "markdown",
   "metadata": {},
   "source": [
    "### CCS"
   ]
  },
  {
   "cell_type": "code",
   "execution_count": null,
   "metadata": {},
   "outputs": [],
   "source": [
    "from src.probes.ccs import PLSKCCS"
   ]
  },
  {
   "cell_type": "code",
   "execution_count": null,
   "metadata": {},
   "outputs": [],
   "source": [
    "max_epochs = 2\n",
    "print('CCS')\n",
    "evaluator = RankingTruthEval(ds_trainval=ds_val, ds_test=ds_ood, importance_matrix=importance_matrix, skip=skip, stride=stride, decimate=decimate, layers_names=layers)\n",
    "epoch_steps = int(len(ds_val)*0.7//batch_size)\n",
    "\n",
    "_X, _ = evaluator.ds2xy(ds_val)\n",
    "c_in = _X.shape[1:]\n",
    "\n",
    "\n",
    "pl_model = PLSKCCS(c_in=c_in, epoch_steps=epoch_steps, max_epochs=max_epochs, dropout=0.25, hs=16, depth=2)\n",
    "model = PLSKWrapper(pl_model, verbose=verbose, max_epochs=max_epochs)\n",
    "df_res = evaluator.eval(model)\n",
    "insample_datasets = list(set(ds_val['ds_string_base']))\n",
    "analyze_dfres(df_res, insample_datasets, insample_datasets)"
   ]
  },
  {
   "cell_type": "markdown",
   "metadata": {},
   "source": [
    "# Compare importance matrix"
   ]
  },
  {
   "cell_type": "code",
   "execution_count": null,
   "metadata": {},
   "outputs": [],
   "source": [
    "from sklearn.metrics import roc_auc_score, accuracy_score\n",
    "from einops import rearrange\n",
    "import safetensors.torch\n",
    "\n",
    "def get_importance_matrix2(saved_adaptop_file, layers=['fc1', 'Wqkv']):\n",
    "    state_dict = safetensors.torch.load_file(saved_adaptop_file)\n",
    "    keys = sorted(state_dict.keys())\n",
    "    if layers is None:\n",
    "        layers = list(set([k.split('.')[-2] for k in state_dict.keys()]))\n",
    "\n",
    "    activations = {}\n",
    "\n",
    "    for k in keys:\n",
    "        suffix = k.split('.')[-2]\n",
    "        if suffix not in activations:\n",
    "            activations[suffix] = []\n",
    "        activations[suffix].append(state_dict[k])\n",
    "\n",
    "    for k in activations.keys():\n",
    "        activations[k] = rearrange(activations[k], 'l h b -> (b l) h').detach().cpu().float()\n",
    "        print(k, activations[k].shape)\n",
    "\n",
    "\n",
    "    importance_matrix = torch.concat([activations[i] for i in layers], dim=1)\n",
    "    return importance_matrix"
   ]
  },
  {
   "cell_type": "code",
   "execution_count": null,
   "metadata": {},
   "outputs": [],
   "source": [
    "print('no matrix')\n",
    "evaluator = PlainTruthEval(ds_trainval=ds_val, ds_test=ds_ood, \n",
    "                        #    importance_matrix=importance_matrix\n",
    "                           skip=skip, stride=stride, decimate=decimate\n",
    "                           )\n",
    "model = TorchLogisticRegression(random_state=42, \n",
    "                                penalty='elasticnet',\n",
    "                                solver='saga',\n",
    "                                l1_ratio=0.5,\n",
    "                                 class_weight='balanced',)\n",
    "df_res = evaluator.eval(model)\n",
    "insample_datasets = list(set(ds_val['ds_string_base']))\n",
    "df_res_ana = analyze_dfres(df_res, insample_datasets, insample_datasets)"
   ]
  },
  {
   "cell_type": "code",
   "execution_count": null,
   "metadata": {},
   "outputs": [],
   "source": [
    "print('matrix')\n",
    "evaluator = PlainTruthEval(ds_trainval=ds_val, ds_test=ds_ood, \n",
    "                           importance_matrix=importance_matrix\n",
    "                           , skip=skip, stride=stride, decimate=decimate\n",
    "                           )\n",
    "model = TorchLogisticRegression(random_state=42, \n",
    "                                penalty='elasticnet',\n",
    "                                solver='saga',\n",
    "                                l1_ratio=0.5,\n",
    "                                 class_weight='balanced',)\n",
    "df_res = evaluator.eval(model)\n",
    "insample_datasets = list(set(ds_val['ds_string_base']))\n",
    "analyze_dfres(df_res, insample_datasets, insample_datasets)\n",
    "roc_auc_score(df_res['y'], df_res['y_prob'])"
   ]
  },
  {
   "cell_type": "code",
   "execution_count": null,
   "metadata": {},
   "outputs": [],
   "source": [
    "class PlainTruthEvalTop(PlainTruthEval):\n",
    "    \"\"\"only take the top X % of importance values.\"\"\"\n",
    "\n",
    "    def ds2xy(self, ds: Dataset):\n",
    "        \"\"\"function which will transform a dataset into x and y.\"\"\"\n",
    "        data = []\n",
    "        for layer in self.layers_names:\n",
    "            # Stack the base and adapter representations as a 4th dim\n",
    "            X1 = [ds[f'end_residual_{layer}_base'], ds[f'end_residual_{layer}_adapt']]\n",
    "            X1 = rearrange(X1, 'versions b l f  -> b l f versions')\n",
    "            data.append(X1)\n",
    "        \n",
    "        # concat layers\n",
    "        # x = rearrange(data, 'parts b l f v -> b l (parts f) v')\n",
    "        x = torch.concat(data, dim=2)\n",
    "        \n",
    "        # restrict to non zero values\n",
    "        mask = self.importance_matrix>1\n",
    "        mask = rearrange(mask, 'l f -> (l f)')\n",
    "        xf = rearrange(x, 'b l f v -> b (l f) v')[:, mask, :]\n",
    "        print(f'keeping top {(mask*1.0).mean():2.2%} of values {x.shape} -> {xf.shape}')\n",
    "        x = rearrange(xf, 'b lf v -> b lf 1 v') \n",
    "        y = self.ds2proxy(ds)\n",
    "        return x, y\n"
   ]
  },
  {
   "cell_type": "code",
   "execution_count": null,
   "metadata": {},
   "outputs": [],
   "source": [
    "print('top 10%')\n",
    "\n",
    "importance_matrix = get_importance_matrix2(f, layers=layers)\n",
    "importance_matrix = (importance_matrix-1).abs()\n",
    "importance_matrix = importance_matrix / importance_matrix.std()\n",
    "importance_matrix = importance_matrix + 1\n",
    "importance_matrix = importance_matrix * ((importance_matrix>4))\n",
    "\n",
    "# plt.hist(importance_matrix.flatten(), bins=55)\n",
    "# plt.show();\n",
    "\n",
    "evaluator = PlainTruthEvalTop(ds_trainval=ds_val, ds_test=ds_ood, \n",
    "                           importance_matrix=importance_matrix, skip=skip, stride=stride, decimate=decimate\n",
    "                           )\n",
    "model = TorchLogisticRegression(random_state=42, \n",
    "                                penalty='elasticnet',\n",
    "                                solver='saga',\n",
    "                                # max_iter=100,\n",
    "                                l1_ratio=0.5,\n",
    "                                 class_weight='balanced',)\n",
    "df_res = evaluator.eval(model)\n",
    "insample_datasets = list(set(ds_val['ds_string_base']))\n",
    "analyze_dfres(df_res, insample_datasets, insample_datasets)"
   ]
  }
 ],
 "metadata": {
  "kernelspec": {
   "display_name": ".venv",
   "language": "python",
   "name": "python3"
  },
  "language_info": {
   "codemirror_mode": {
    "name": "ipython",
    "version": 3
   },
   "file_extension": ".py",
   "mimetype": "text/x-python",
   "name": "python",
   "nbconvert_exporter": "python",
   "pygments_lexer": "ipython3",
   "version": "3.11.0rc1"
  }
 },
 "nbformat": 4,
 "nbformat_minor": 2
}
