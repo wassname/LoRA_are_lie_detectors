{
 "cells": [
  {
   "cell_type": "code",
   "execution_count": 1,
   "metadata": {},
   "outputs": [],
   "source": [
    "from transformers import AutoTokenizer, AutoModelForCausalLM\n",
    "import torch\n",
    "from IPython.display import display, HTML, Markdown\n",
    "from torch.utils.data import random_split, DataLoader, TensorDataset\n",
    "from loguru import logger\n",
    "import sys\n",
    "import pandas as pd\n",
    "logger.remove()\n",
    "logger.add(sys.stderr, format=\"{time} {level} {message}\", level=\"INFO\")\n",
    "\n",
    "# load my code\n",
    "%load_ext autoreload\n",
    "%autoreload 2\n",
    "from src.eval.collect import manual_collect2\n",
    "from src.eval.ds import ds2df, qc_ds, qc_dsdf\n",
    "from src.prompts.prompt_loading import load_prompts, format_prompt, load_preproc_dataset\n",
    "from src.models.load import load_model\n",
    "\n"
   ]
  },
  {
   "cell_type": "markdown",
   "metadata": {},
   "source": [
    "So here we try new datasets, we want them to have the charecteristics\n",
    "\n",
    "- in the ELK code https://github.com/EleutherAI/elk/tree/1b60b3bff348b00356cd15b5eb017f9c9bfdbae1/elk/promptsource/templates\n",
    "- acheivable! e.g. acc >70%\n",
    "- boolean\n",
    "- not to long (IMBD often becomes over 777 chars) which gets truncated and fills up my mem\n",
    "- diverse"
   ]
  },
  {
   "cell_type": "code",
   "execution_count": 2,
   "metadata": {},
   "outputs": [
    {
     "name": "stdout",
     "output_type": "stream",
     "text": [
      "Walmart-the-bag/phi-2-uncensored\n"
     ]
    },
    {
     "name": "stderr",
     "output_type": "stream",
     "text": [
      "Special tokens have been added in the vocabulary, make sure the associated word embeddings are fine-tuned or trained.\n"
     ]
    },
    {
     "data": {
      "application/vnd.jupyter.widget-view+json": {
       "model_id": "5180441993be4f9393c0ae37c61c39d7",
       "version_major": 2,
       "version_minor": 0
      },
      "text/plain": [
       "Loading checkpoint shards:   0%|          | 0/3 [00:00<?, ?it/s]"
      ]
     },
     "metadata": {},
     "output_type": "display_data"
    }
   ],
   "source": [
    "N = 300\n",
    "model_id = \"Walmart-the-bag/phi-2-uncensored\"\n",
    "print(model_id)\n",
    "# load model\n",
    "model, tokenizer = load_model(model_id, dtype=torch.float16)\n"
   ]
  },
  {
   "cell_type": "code",
   "execution_count": 3,
   "metadata": {},
   "outputs": [
    {
     "name": "stdout",
     "output_type": "stream",
     "text": [
      "================================================================================================================================================================\n",
      "EleutherAI/truthful_qa_binary\n"
     ]
    },
    {
     "data": {
      "application/vnd.jupyter.widget-view+json": {
       "model_id": "9b3347d8443d4a198cd51e64febd7ea9",
       "version_major": 2,
       "version_minor": 0
      },
      "text/plain": [
       "Generating train split: 0 examples [00:00, ? examples/s]"
      ]
     },
     "metadata": {},
     "output_type": "display_data"
    },
    {
     "data": {
      "application/vnd.jupyter.widget-view+json": {
       "model_id": "16fdbb8595bc49d086f5de1ebc4f423b",
       "version_major": 2,
       "version_minor": 0
      },
      "text/plain": [
       "Downloading builder script:   0%|          | 0.00/4.89k [00:00<?, ?B/s]"
      ]
     },
     "metadata": {},
     "output_type": "display_data"
    },
    {
     "data": {
      "application/vnd.jupyter.widget-view+json": {
       "model_id": "c0b000cd5b884b53b4d3d2a97b981465",
       "version_major": 2,
       "version_minor": 0
      },
      "text/plain": [
       "Downloading readme:   0%|          | 0.00/6.54k [00:00<?, ?B/s]"
      ]
     },
     "metadata": {},
     "output_type": "display_data"
    },
    {
     "data": {
      "application/vnd.jupyter.widget-view+json": {
       "model_id": "4871124c34d5428ea1f1dbc358ce0bd8",
       "version_major": 2,
       "version_minor": 0
      },
      "text/plain": [
       "Downloading data:   0%|          | 0.00/105k [00:00<?, ?B/s]"
      ]
     },
     "metadata": {},
     "output_type": "display_data"
    },
    {
     "data": {
      "application/vnd.jupyter.widget-view+json": {
       "model_id": "21be3dc10c4c488ba70e45b6841cef65",
       "version_major": 2,
       "version_minor": 0
      },
      "text/plain": [
       "Generating validation split:   0%|          | 0/817 [00:00<?, ? examples/s]"
      ]
     },
     "metadata": {},
     "output_type": "display_data"
    },
    {
     "name": "stderr",
     "output_type": "stream",
     "text": [
      "2023-12-28T08:08:23.445885+0800 ERROR Failed to load EleutherAI/truthful_qa_binary `An error occurred while generating the dataset`\n",
      "\u001b[33m\u001b[1mTraceback (most recent call last):\u001b[0m\n",
      "\n",
      "  File \"/media/wassname/SGIronWolf/projects5/elk/sgd_probes_are_lie_detectors/.venv/lib/python3.11/site-packages/datasets/builder.py\", line 1676, in _prepare_split_single\n",
      "    for key, record in generator:\n",
      "                       └ <generator object Generator._generate_examples at 0x7f5c4206bb40>\n",
      "  File \"/media/wassname/SGIronWolf/projects5/elk/sgd_probes_are_lie_detectors/.venv/lib/python3.11/site-packages/datasets/packaged_modules/generator/generator.py\", line 30, in _generate_examples\n",
      "    for idx, ex in enumerate(self.config.generator(**gen_kwargs)):\n",
      "                             │    │      │           └ {'ds_string': 'EleutherAI/truthful_qa_binary', 'num_shots': 1, 'split_type': 'train', 'seed': 42, 'N': 900}\n",
      "                             │    │      └ <function load_prompts at 0x7f5c42a672e0>\n",
      "                             │    └ GeneratorConfig(name='default', version=0.0.0, data_dir=None, data_files=None, description=None, generator=<function load_pro...\n",
      "                             └ <datasets.packaged_modules.generator.generator.Generator object at 0x7f5c41a6f2d0>\n",
      "\n",
      "  File \"\u001b[32m/media/wassname/SGIronWolf/projects5/elk/sgd_probes_are_lie_detectors/src/prompts/\u001b[0m\u001b[32m\u001b[1mprompt_loading.py\u001b[0m\", line \u001b[33m108\u001b[0m, in \u001b[35mload_prompts\u001b[0m\n",
      "    \u001b[1mprompter\u001b[0m \u001b[35m\u001b[1m=\u001b[0m \u001b[1mDatasetTemplates\u001b[0m\u001b[1m(\u001b[0m\u001b[1mds_name\u001b[0m\u001b[1m,\u001b[0m \u001b[1mconfig_name\u001b[0m\u001b[1m)\u001b[0m\n",
      "    \u001b[36m           │                │        └ \u001b[0m\u001b[36m\u001b[1m''\u001b[0m\n",
      "    \u001b[36m           │                └ \u001b[0m\u001b[36m\u001b[1m'EleutherAI/truthful_qa_binary'\u001b[0m\n",
      "    \u001b[36m           └ \u001b[0m\u001b[36m\u001b[1m<class 'elk.promptsource.templates.DatasetTemplates'>\u001b[0m\n",
      "\n",
      "  File \"/media/wassname/SGIronWolf/projects5/elk/sgd_probes_are_lie_detectors/.venv/lib/python3.11/site-packages/elk/promptsource/templates.py\", line 258, in __init__\n",
      "    with open(self.yaml_path, \"r\") as f:\n",
      "              │    └ <property object at 0x7f5c42b1da80>\n",
      "              └ <elk.promptsource.templates.DatasetTemplates object at 0x7f5dcc06b510>\n",
      "  File \"/media/wassname/SGIronWolf/projects5/elk/sgd_probes_are_lie_detectors/.venv/lib/python3.11/site-packages/elk/promptsource/templates.py\", line 299, in yaml_path\n",
      "    raise ValueError(f\"Expected prompt templates to exist at {path}\")\n",
      "\n",
      "\u001b[31m\u001b[1mValueError\u001b[0m:\u001b[1m Expected prompt templates to exist at /media/wassname/SGIronWolf/projects5/elk/sgd_probes_are_lie_detectors/.venv/lib/python3.11/site-packages/elk/promptsource/templates/EleutherAI/truthful_qa_binary/templates.yaml\u001b[0m\n",
      "\n",
      "\n",
      "\u001b[1mThe above exception was the direct cause of the following exception:\u001b[0m\n",
      "\n",
      "\n",
      "\u001b[33m\u001b[1mTraceback (most recent call last):\u001b[0m\n",
      "\n",
      "  File \"<frozen runpy>\", line 198, in _run_module_as_main\n",
      "  File \"<frozen runpy>\", line 88, in _run_code\n",
      "  File \"/media/wassname/SGIronWolf/projects5/elk/sgd_probes_are_lie_detectors/.venv/lib/python3.11/site-packages/ipykernel_launcher.py\", line 17, in <module>\n",
      "    app.launch_new_instance()\n",
      "    │   └ <bound method Application.launch_instance of <class 'ipykernel.kernelapp.IPKernelApp'>>\n",
      "    └ <module 'ipykernel.kernelapp' from '/media/wassname/SGIronWolf/projects5/elk/sgd_probes_are_lie_detectors/.venv/lib/python3.1...\n",
      "  File \"/media/wassname/SGIronWolf/projects5/elk/sgd_probes_are_lie_detectors/.venv/lib/python3.11/site-packages/traitlets/config/application.py\", line 1077, in launch_instance\n",
      "    app.start()\n",
      "    │   └ <function IPKernelApp.start at 0x7f5dcd8011c0>\n",
      "    └ <ipykernel.kernelapp.IPKernelApp object at 0x7f5dd0535750>\n",
      "  File \"/media/wassname/SGIronWolf/projects5/elk/sgd_probes_are_lie_detectors/.venv/lib/python3.11/site-packages/ipykernel/kernelapp.py\", line 739, in start\n",
      "    self.io_loop.start()\n",
      "    │    │       └ <function BaseAsyncIOLoop.start at 0x7f5dcd801bc0>\n",
      "    │    └ <tornado.platform.asyncio.AsyncIOMainLoop object at 0x7f5dcd807950>\n",
      "    └ <ipykernel.kernelapp.IPKernelApp object at 0x7f5dd0535750>\n",
      "  File \"/media/wassname/SGIronWolf/projects5/elk/sgd_probes_are_lie_detectors/.venv/lib/python3.11/site-packages/tornado/platform/asyncio.py\", line 205, in start\n",
      "    self.asyncio_loop.run_forever()\n",
      "    │    │            └ <function BaseEventLoop.run_forever at 0x7f5dcf44a700>\n",
      "    │    └ <_UnixSelectorEventLoop running=True closed=False debug=False>\n",
      "    └ <tornado.platform.asyncio.AsyncIOMainLoop object at 0x7f5dcd807950>\n",
      "  File \"/usr/lib/python3.11/asyncio/base_events.py\", line 604, in run_forever\n",
      "    self._run_once()\n",
      "    │    └ <function BaseEventLoop._run_once at 0x7f5dcf444540>\n",
      "    └ <_UnixSelectorEventLoop running=True closed=False debug=False>\n",
      "  File \"/usr/lib/python3.11/asyncio/base_events.py\", line 1909, in _run_once\n",
      "    handle._run()\n",
      "    │      └ <function Handle._run at 0x7f5dcf6393a0>\n",
      "    └ <Handle Task.task_wakeup(<Future finis...410>, ...],))>)>\n",
      "  File \"/usr/lib/python3.11/asyncio/events.py\", line 80, in _run\n",
      "    self._context.run(self._callback, *self._args)\n",
      "    │    │            │    │           │    └ <member '_args' of 'Handle' objects>\n",
      "    │    │            │    │           └ <Handle Task.task_wakeup(<Future finis...410>, ...],))>)>\n",
      "    │    │            │    └ <member '_callback' of 'Handle' objects>\n",
      "    │    │            └ <Handle Task.task_wakeup(<Future finis...410>, ...],))>)>\n",
      "    │    └ <member '_context' of 'Handle' objects>\n",
      "    └ <Handle Task.task_wakeup(<Future finis...410>, ...],))>)>\n",
      "  File \"/media/wassname/SGIronWolf/projects5/elk/sgd_probes_are_lie_detectors/.venv/lib/python3.11/site-packages/ipykernel/kernelbase.py\", line 529, in dispatch_queue\n",
      "    await self.process_one()\n",
      "          │    └ <function Kernel.process_one at 0x7f5dcde693a0>\n",
      "          └ <ipykernel.ipkernel.IPythonKernel object at 0x7f5dcd8102d0>\n",
      "  File \"/media/wassname/SGIronWolf/projects5/elk/sgd_probes_are_lie_detectors/.venv/lib/python3.11/site-packages/ipykernel/kernelbase.py\", line 518, in process_one\n",
      "    await dispatch(*args)\n",
      "          │         └ ([<zmq.sugar.frame.Frame object at 0x7f5dcdb1be90>, <zmq.sugar.frame.Frame object at 0x7f5dcdb1bf50>, <zmq.sugar.frame.Frame ...\n",
      "          └ <bound method Kernel.dispatch_shell of <ipykernel.ipkernel.IPythonKernel object at 0x7f5dcd8102d0>>\n",
      "  File \"/media/wassname/SGIronWolf/projects5/elk/sgd_probes_are_lie_detectors/.venv/lib/python3.11/site-packages/ipykernel/kernelbase.py\", line 424, in dispatch_shell\n",
      "    await result\n",
      "          └ <coroutine object Kernel.execute_request at 0x7f5dcda7a140>\n",
      "  File \"/media/wassname/SGIronWolf/projects5/elk/sgd_probes_are_lie_detectors/.venv/lib/python3.11/site-packages/ipykernel/kernelbase.py\", line 766, in execute_request\n",
      "    reply_content = await reply_content\n",
      "                          └ <coroutine object IPythonKernel.do_execute at 0x7f5dcd94b560>\n",
      "  File \"/media/wassname/SGIronWolf/projects5/elk/sgd_probes_are_lie_detectors/.venv/lib/python3.11/site-packages/ipykernel/ipkernel.py\", line 429, in do_execute\n",
      "    res = shell.run_cell(\n",
      "          │     └ <function ZMQInteractiveShell.run_cell at 0x7f5dcd7e25c0>\n",
      "          └ <ipykernel.zmqshell.ZMQInteractiveShell object at 0x7f5dcd81ea10>\n",
      "  File \"/media/wassname/SGIronWolf/projects5/elk/sgd_probes_are_lie_detectors/.venv/lib/python3.11/site-packages/ipykernel/zmqshell.py\", line 549, in run_cell\n",
      "    return super().run_cell(*args, **kwargs)\n",
      "                             │       └ {'store_history': True, 'silent': False, 'cell_id': 'vscode-notebook-cell:/media/wassname/SGIronWolf/projects5/elk/sgd_probes...\n",
      "                             └ ('\\nds_names = [\\n    \\'EleutherAI/truthful_qa_binary\\',\\n    \"amazon_polarity\",\\n    \\'imdb\\',\\n    \\n    \\'super_glue:boolq...\n",
      "  File \"/media/wassname/SGIronWolf/projects5/elk/sgd_probes_are_lie_detectors/.venv/lib/python3.11/site-packages/IPython/core/interactiveshell.py\", line 3048, in run_cell\n",
      "    result = self._run_cell(\n",
      "             │    └ <function InteractiveShell._run_cell at 0x7f5dce6ee480>\n",
      "             └ <ipykernel.zmqshell.ZMQInteractiveShell object at 0x7f5dcd81ea10>\n",
      "  File \"/media/wassname/SGIronWolf/projects5/elk/sgd_probes_are_lie_detectors/.venv/lib/python3.11/site-packages/IPython/core/interactiveshell.py\", line 3103, in _run_cell\n",
      "    result = runner(coro)\n",
      "             │      └ <coroutine object InteractiveShell.run_cell_async at 0x7f5dcdb0da40>\n",
      "             └ <function _pseudo_sync_runner at 0x7f5dce6c9620>\n",
      "  File \"/media/wassname/SGIronWolf/projects5/elk/sgd_probes_are_lie_detectors/.venv/lib/python3.11/site-packages/IPython/core/async_helpers.py\", line 129, in _pseudo_sync_runner\n",
      "    coro.send(None)\n",
      "    │    └ <method 'send' of 'coroutine' objects>\n",
      "    └ <coroutine object InteractiveShell.run_cell_async at 0x7f5dcdb0da40>\n",
      "  File \"/media/wassname/SGIronWolf/projects5/elk/sgd_probes_are_lie_detectors/.venv/lib/python3.11/site-packages/IPython/core/interactiveshell.py\", line 3308, in run_cell_async\n",
      "    has_raised = await self.run_ast_nodes(code_ast.body, cell_name,\n",
      "                       │    │             │        │     └ '/tmp/ipykernel_1761731/17515060.py'\n",
      "                       │    │             │        └ [<ast.Assign object at 0x7f5c42903b20>, <ast.Assign object at 0x7f5c41df3880>, <ast.For object at 0x7f5c41df3d60>]\n",
      "                       │    │             └ <ast.Module object at 0x7f5c42903c10>\n",
      "                       │    └ <function InteractiveShell.run_ast_nodes at 0x7f5dce6ee7a0>\n",
      "                       └ <ipykernel.zmqshell.ZMQInteractiveShell object at 0x7f5dcd81ea10>\n",
      "  File \"/media/wassname/SGIronWolf/projects5/elk/sgd_probes_are_lie_detectors/.venv/lib/python3.11/site-packages/IPython/core/interactiveshell.py\", line 3490, in run_ast_nodes\n",
      "    if await self.run_code(code, result, async_=asy):\n",
      "             │    │        │     │              └ False\n",
      "             │    │        │     └ <ExecutionResult object at 7f5c430aa7d0, execution_count=3 error_before_exec=None error_in_exec=None info=<ExecutionInfo obje...\n",
      "             │    │        └ <code object <module> at 0xbe54a30, file \"/tmp/ipykernel_1761731/17515060.py\", line 1>\n",
      "             │    └ <function InteractiveShell.run_code at 0x7f5dce6ee840>\n",
      "             └ <ipykernel.zmqshell.ZMQInteractiveShell object at 0x7f5dcd81ea10>\n",
      "  File \"/media/wassname/SGIronWolf/projects5/elk/sgd_probes_are_lie_detectors/.venv/lib/python3.11/site-packages/IPython/core/interactiveshell.py\", line 3550, in run_code\n",
      "    exec(code_obj, self.user_global_ns, self.user_ns)\n",
      "         │         │    │               │    └ {'__name__': '__main__', '__doc__': 'Automatically created module for IPython interactive environment', '__package__': None, ...\n",
      "         │         │    │               └ <ipykernel.zmqshell.ZMQInteractiveShell object at 0x7f5dcd81ea10>\n",
      "         │         │    └ <property object at 0x7f5dce6e4310>\n",
      "         │         └ <ipykernel.zmqshell.ZMQInteractiveShell object at 0x7f5dcd81ea10>\n",
      "         └ <code object <module> at 0xbe54a30, file \"/tmp/ipykernel_1761731/17515060.py\", line 1>\n",
      "\n",
      "> File \"\u001b[32m/tmp/ipykernel_1761731/\u001b[0m\u001b[32m\u001b[1m17515060.py\u001b[0m\", line \u001b[33m48\u001b[0m, in \u001b[35m<module>\u001b[0m\n",
      "    \u001b[1mds\u001b[0m \u001b[35m\u001b[1m=\u001b[0m \u001b[1mload_preproc_dataset\u001b[0m\u001b[1m(\u001b[0m\u001b[1mds_name\u001b[0m\u001b[1m,\u001b[0m \u001b[1mtokenizer\u001b[0m\u001b[1m,\u001b[0m \u001b[1mN\u001b[0m\u001b[1m,\u001b[0m \u001b[1mprompt_format\u001b[0m\u001b[35m\u001b[1m=\u001b[0m\u001b[36m'phi'\u001b[0m\u001b[1m)\u001b[0m\u001b[35m\u001b[1m.\u001b[0m\u001b[1mwith_format\u001b[0m\u001b[1m(\u001b[0m\u001b[36m\"torch\"\u001b[0m\u001b[1m)\u001b[0m\n",
      "    \u001b[36m     │                    │        │          └ \u001b[0m\u001b[36m\u001b[1m300\u001b[0m\n",
      "    \u001b[36m     │                    │        └ \u001b[0m\u001b[36m\u001b[1mCodeGenTokenizerFast(name_or_path='Walmart-the-bag/phi-2-uncensored', vocab_size=50257, model_max_length=2048, is_fast=True, ...\u001b[0m\n",
      "    \u001b[36m     │                    └ \u001b[0m\u001b[36m\u001b[1m'EleutherAI/truthful_qa_binary'\u001b[0m\n",
      "    \u001b[36m     └ \u001b[0m\u001b[36m\u001b[1m<function load_preproc_dataset at 0x7f5c42a759e0>\u001b[0m\n",
      "\n",
      "  File \"\u001b[32m/media/wassname/SGIronWolf/projects5/elk/sgd_probes_are_lie_detectors/src/prompts/\u001b[0m\u001b[32m\u001b[1mprompt_loading.py\u001b[0m\", line \u001b[33m337\u001b[0m, in \u001b[35mload_preproc_dataset\u001b[0m\n",
      "    \u001b[1mds_prompts\u001b[0m \u001b[35m\u001b[1m=\u001b[0m \u001b[1mDataset\u001b[0m\u001b[35m\u001b[1m.\u001b[0m\u001b[1mfrom_generator\u001b[0m\u001b[1m(\u001b[0m\n",
      "    \u001b[36m             │       └ \u001b[0m\u001b[36m\u001b[1m<staticmethod(<function Dataset.from_generator at 0x7f5cbad41bc0>)>\u001b[0m\n",
      "    \u001b[36m             └ \u001b[0m\u001b[36m\u001b[1m<class 'datasets.arrow_dataset.Dataset'>\u001b[0m\n",
      "\n",
      "  File \"/media/wassname/SGIronWolf/projects5/elk/sgd_probes_are_lie_detectors/.venv/lib/python3.11/site-packages/datasets/arrow_dataset.py\", line 1072, in from_generator\n",
      "    ).read()\n",
      "  File \"/media/wassname/SGIronWolf/projects5/elk/sgd_probes_are_lie_detectors/.venv/lib/python3.11/site-packages/datasets/io/generator.py\", line 47, in read\n",
      "    self.builder.download_and_prepare(\n",
      "    │    │       └ <function DatasetBuilder.download_and_prepare at 0x7f5cbabcaca0>\n",
      "    │    └ <datasets.packaged_modules.generator.generator.Generator object at 0x7f5c41a6f2d0>\n",
      "    └ <datasets.io.generator.GeneratorDatasetInputStream object at 0x7f5c41eff310>\n",
      "  File \"/media/wassname/SGIronWolf/projects5/elk/sgd_probes_are_lie_detectors/.venv/lib/python3.11/site-packages/datasets/builder.py\", line 954, in download_and_prepare\n",
      "    self._download_and_prepare(\n",
      "    │    └ <function GeneratorBasedBuilder._download_and_prepare at 0x7f5cbabcbba0>\n",
      "    └ <datasets.packaged_modules.generator.generator.Generator object at 0x7f5c41a6f2d0>\n",
      "  File \"/media/wassname/SGIronWolf/projects5/elk/sgd_probes_are_lie_detectors/.venv/lib/python3.11/site-packages/datasets/builder.py\", line 1717, in _download_and_prepare\n",
      "    super()._download_and_prepare(\n",
      "  File \"/media/wassname/SGIronWolf/projects5/elk/sgd_probes_are_lie_detectors/.venv/lib/python3.11/site-packages/datasets/builder.py\", line 1049, in _download_and_prepare\n",
      "    self._prepare_split(split_generator, **prepare_split_kwargs)\n",
      "    │    │              │                  └ {'check_duplicate_keys': True, 'file_format': 'arrow'}\n",
      "    │    │              └ SplitGenerator(name='train', gen_kwargs={'ds_string': 'EleutherAI/truthful_qa_binary', 'num_shots': 1, 'split_type': 'train',...\n",
      "    │    └ <function GeneratorBasedBuilder._prepare_split at 0x7f5cbabcba60>\n",
      "    └ <datasets.packaged_modules.generator.generator.Generator object at 0x7f5c41a6f2d0>\n",
      "  File \"/media/wassname/SGIronWolf/projects5/elk/sgd_probes_are_lie_detectors/.venv/lib/python3.11/site-packages/datasets/builder.py\", line 1555, in _prepare_split\n",
      "    for job_id, done, content in self._prepare_split_single(\n",
      "        │       │     │          │    └ <function GeneratorBasedBuilder._prepare_split_single at 0x7f5cbabcbb00>\n",
      "        │       │     │          └ <datasets.packaged_modules.generator.generator.Generator object at 0x7f5c41a6f2d0>\n",
      "        │       │     └ 0\n",
      "        │       └ False\n",
      "        └ 0\n",
      "  File \"/media/wassname/SGIronWolf/projects5/elk/sgd_probes_are_lie_detectors/.venv/lib/python3.11/site-packages/datasets/builder.py\", line 1712, in _prepare_split_single\n",
      "    raise DatasetGenerationError(\"An error occurred while generating the dataset\") from e\n",
      "          └ <class 'datasets.builder.DatasetGenerationError'>\n",
      "\n",
      "\u001b[31m\u001b[1mdatasets.builder.DatasetGenerationError\u001b[0m:\u001b[1m An error occurred while generating the dataset\u001b[0m\n"
     ]
    },
    {
     "ename": "DatasetGenerationError",
     "evalue": "An error occurred while generating the dataset",
     "output_type": "error",
     "traceback": [
      "\u001b[0;31m---------------------------------------------------------------------------\u001b[0m",
      "\u001b[0;31mValueError\u001b[0m                                Traceback (most recent call last)",
      "File \u001b[0;32m/media/wassname/SGIronWolf/projects5/elk/sgd_probes_are_lie_detectors/.venv/lib/python3.11/site-packages/datasets/builder.py:1676\u001b[0m, in \u001b[0;36mGeneratorBasedBuilder._prepare_split_single\u001b[0;34m(self, gen_kwargs, fpath, file_format, max_shard_size, split_info, check_duplicate_keys, job_id)\u001b[0m\n\u001b[1;32m   1675\u001b[0m _time \u001b[39m=\u001b[39m time\u001b[39m.\u001b[39mtime()\n\u001b[0;32m-> 1676\u001b[0m \u001b[39mfor\u001b[39;49;00m key, record \u001b[39min\u001b[39;49;00m generator:\n\u001b[1;32m   1677\u001b[0m     \u001b[39mif\u001b[39;49;00m max_shard_size \u001b[39mis\u001b[39;49;00m \u001b[39mnot\u001b[39;49;00m \u001b[39mNone\u001b[39;49;00m \u001b[39mand\u001b[39;49;00m writer\u001b[39m.\u001b[39;49m_num_bytes \u001b[39m>\u001b[39;49m max_shard_size:\n",
      "File \u001b[0;32m/media/wassname/SGIronWolf/projects5/elk/sgd_probes_are_lie_detectors/.venv/lib/python3.11/site-packages/datasets/packaged_modules/generator/generator.py:30\u001b[0m, in \u001b[0;36mGenerator._generate_examples\u001b[0;34m(self, **gen_kwargs)\u001b[0m\n\u001b[1;32m     29\u001b[0m \u001b[39mdef\u001b[39;00m \u001b[39m_generate_examples\u001b[39m(\u001b[39mself\u001b[39m, \u001b[39m*\u001b[39m\u001b[39m*\u001b[39mgen_kwargs):\n\u001b[0;32m---> 30\u001b[0m     \u001b[39mfor\u001b[39;49;00m idx, ex \u001b[39min\u001b[39;49;00m \u001b[39menumerate\u001b[39;49m(\u001b[39mself\u001b[39;49m\u001b[39m.\u001b[39;49mconfig\u001b[39m.\u001b[39;49mgenerator(\u001b[39m*\u001b[39;49m\u001b[39m*\u001b[39;49mgen_kwargs)):\n\u001b[1;32m     31\u001b[0m         \u001b[39myield\u001b[39;49;00m idx, ex\n",
      "File \u001b[0;32m/media/wassname/SGIronWolf/projects5/elk/sgd_probes_are_lie_detectors/src/prompts/prompt_loading.py:108\u001b[0m, in \u001b[0;36mload_prompts\u001b[0;34m(ds_string, sys_instructions, binarize, num_shots, seed, split_type, template_path, rank, world_size, prompt_sampler, N)\u001b[0m\n\u001b[1;32m    107\u001b[0m \u001b[39mif\u001b[39;00m template_path \u001b[39mis\u001b[39;00m \u001b[39mNone\u001b[39;00m:\n\u001b[0;32m--> 108\u001b[0m     prompter \u001b[39m=\u001b[39m DatasetTemplates(ds_name, config_name)\n\u001b[1;32m    109\u001b[0m \u001b[39melse\u001b[39;00m:\n",
      "File \u001b[0;32m/media/wassname/SGIronWolf/projects5/elk/sgd_probes_are_lie_detectors/.venv/lib/python3.11/site-packages/elk/promptsource/templates.py:258\u001b[0m, in \u001b[0;36mDatasetTemplates.__init__\u001b[0;34m(self, dataset_name, subset_name)\u001b[0m\n\u001b[1;32m    256\u001b[0m \u001b[39mself\u001b[39m\u001b[39m.\u001b[39msubset_name \u001b[39m=\u001b[39m subset_name\n\u001b[0;32m--> 258\u001b[0m \u001b[39mwith\u001b[39;00m \u001b[39mopen\u001b[39m(\u001b[39mself\u001b[39;49m\u001b[39m.\u001b[39;49myaml_path, \u001b[39m\"\u001b[39m\u001b[39mr\u001b[39m\u001b[39m\"\u001b[39m) \u001b[39mas\u001b[39;00m f:\n\u001b[1;32m    259\u001b[0m     yaml_dict \u001b[39m=\u001b[39m yaml\u001b[39m.\u001b[39mload(f, Loader\u001b[39m=\u001b[39myaml\u001b[39m.\u001b[39mFullLoader)\n",
      "File \u001b[0;32m/media/wassname/SGIronWolf/projects5/elk/sgd_probes_are_lie_detectors/.venv/lib/python3.11/site-packages/elk/promptsource/templates.py:299\u001b[0m, in \u001b[0;36mDatasetTemplates.yaml_path\u001b[0;34m(self)\u001b[0m\n\u001b[1;32m    298\u001b[0m \u001b[39mif\u001b[39;00m \u001b[39mnot\u001b[39;00m os\u001b[39m.\u001b[39mpath\u001b[39m.\u001b[39mexists(path):\n\u001b[0;32m--> 299\u001b[0m     \u001b[39mraise\u001b[39;00m \u001b[39mValueError\u001b[39;00m(\u001b[39mf\u001b[39m\u001b[39m\"\u001b[39m\u001b[39mExpected prompt templates to exist at \u001b[39m\u001b[39m{\u001b[39;00mpath\u001b[39m}\u001b[39;00m\u001b[39m\"\u001b[39m)\n\u001b[1;32m    301\u001b[0m \u001b[39mreturn\u001b[39;00m path\n",
      "\u001b[0;31mValueError\u001b[0m: Expected prompt templates to exist at /media/wassname/SGIronWolf/projects5/elk/sgd_probes_are_lie_detectors/.venv/lib/python3.11/site-packages/elk/promptsource/templates/EleutherAI/truthful_qa_binary/templates.yaml",
      "\nThe above exception was the direct cause of the following exception:\n",
      "\u001b[0;31mDatasetGenerationError\u001b[0m                    Traceback (most recent call last)",
      "\u001b[1;32m/media/wassname/SGIronWolf/projects5/elk/sgd_probes_are_lie_detectors/notebooks/01_try_ds.ipynb Cell 4\u001b[0m line \u001b[0;36m4\n\u001b[1;32m     <a href='vscode-notebook-cell:/media/wassname/SGIronWolf/projects5/elk/sgd_probes_are_lie_detectors/notebooks/01_try_ds.ipynb#W3sZmlsZQ%3D%3D?line=45'>46</a>\u001b[0m \u001b[39m# load dataset\u001b[39;00m\n\u001b[1;32m     <a href='vscode-notebook-cell:/media/wassname/SGIronWolf/projects5/elk/sgd_probes_are_lie_detectors/notebooks/01_try_ds.ipynb#W3sZmlsZQ%3D%3D?line=46'>47</a>\u001b[0m \u001b[39mtry\u001b[39;00m:\n\u001b[0;32m---> <a href='vscode-notebook-cell:/media/wassname/SGIronWolf/projects5/elk/sgd_probes_are_lie_detectors/notebooks/01_try_ds.ipynb#W3sZmlsZQ%3D%3D?line=47'>48</a>\u001b[0m     ds \u001b[39m=\u001b[39m load_preproc_dataset(ds_name, tokenizer, N, prompt_format\u001b[39m=\u001b[39;49m\u001b[39m'\u001b[39;49m\u001b[39mphi\u001b[39;49m\u001b[39m'\u001b[39;49m)\u001b[39m.\u001b[39mwith_format(\u001b[39m\"\u001b[39m\u001b[39mtorch\u001b[39m\u001b[39m\"\u001b[39m)\n\u001b[1;32m     <a href='vscode-notebook-cell:/media/wassname/SGIronWolf/projects5/elk/sgd_probes_are_lie_detectors/notebooks/01_try_ds.ipynb#W3sZmlsZQ%3D%3D?line=48'>49</a>\u001b[0m     ds\n\u001b[1;32m     <a href='vscode-notebook-cell:/media/wassname/SGIronWolf/projects5/elk/sgd_probes_are_lie_detectors/notebooks/01_try_ds.ipynb#W3sZmlsZQ%3D%3D?line=49'>50</a>\u001b[0m \u001b[39mexcept\u001b[39;00m \u001b[39mKeyboardInterrupt\u001b[39;00m:\n",
      "File \u001b[0;32m/media/wassname/SGIronWolf/projects5/elk/sgd_probes_are_lie_detectors/src/prompts/prompt_loading.py:337\u001b[0m, in \u001b[0;36mload_preproc_dataset\u001b[0;34m(ds_name, tokenizer, N, prompt_format, split_type, seed, num_shots, max_length)\u001b[0m\n\u001b[1;32m    335\u001b[0m \u001b[39mdef\u001b[39;00m \u001b[39mload_preproc_dataset\u001b[39m(ds_name: \u001b[39mstr\u001b[39m, tokenizer: PreTrainedTokenizerBase, N:\u001b[39mint\u001b[39m, prompt_format:\u001b[39mstr\u001b[39m \u001b[39m=\u001b[39m \u001b[39mNone\u001b[39;00m, split_type:\u001b[39mstr\u001b[39m\u001b[39m=\u001b[39m\u001b[39m\"\u001b[39m\u001b[39mtrain\u001b[39m\u001b[39m\"\u001b[39m, seed\u001b[39m=\u001b[39m\u001b[39m42\u001b[39m, num_shots\u001b[39m=\u001b[39m\u001b[39m1\u001b[39m, max_length\u001b[39m=\u001b[39m\u001b[39m999\u001b[39m) \u001b[39m-\u001b[39m\u001b[39m>\u001b[39m Dataset:\n\u001b[1;32m    336\u001b[0m     rng \u001b[39m=\u001b[39m Random(seed)\n\u001b[0;32m--> 337\u001b[0m     ds_prompts \u001b[39m=\u001b[39m Dataset\u001b[39m.\u001b[39;49mfrom_generator(\n\u001b[1;32m    338\u001b[0m         load_prompts,\n\u001b[1;32m    339\u001b[0m         gen_kwargs\u001b[39m=\u001b[39;49m\u001b[39mdict\u001b[39;49m(\n\u001b[1;32m    340\u001b[0m             ds_string\u001b[39m=\u001b[39;49mds_name,\n\u001b[1;32m    341\u001b[0m             num_shots\u001b[39m=\u001b[39;49mnum_shots,\n\u001b[1;32m    342\u001b[0m             split_type\u001b[39m=\u001b[39;49msplit_type,\n\u001b[1;32m    343\u001b[0m             \u001b[39m# template_path=template_path,\u001b[39;49;00m\n\u001b[1;32m    344\u001b[0m             seed\u001b[39m=\u001b[39;49mseed,\n\u001b[1;32m    345\u001b[0m             N\u001b[39m=\u001b[39;49mN\u001b[39m*\u001b[39;49m\u001b[39m3\u001b[39;49m,\n\u001b[1;32m    346\u001b[0m         ),\n\u001b[1;32m    347\u001b[0m         \u001b[39m# prefetch=False,\u001b[39;49;00m\n\u001b[1;32m    348\u001b[0m         \u001b[39m# num_proc=0,\u001b[39;49;00m\n\u001b[1;32m    349\u001b[0m         keep_in_memory\u001b[39m=\u001b[39;49m\u001b[39mFalse\u001b[39;49;00m,\n\u001b[1;32m    350\u001b[0m     )\n\u001b[1;32m    353\u001b[0m     \u001b[39m# ## Format prompts\u001b[39;00m\n\u001b[1;32m    354\u001b[0m     \u001b[39m# The prompt is the thing we most often have to change and debug. So we do it explicitly here.\u001b[39;00m\n\u001b[1;32m    355\u001b[0m     \u001b[39m# We do it as transforms on a huggingface dataset.\u001b[39;00m\n\u001b[1;32m    356\u001b[0m     \u001b[39m# In this case we use multishot examples from train, and use the test set to generated the hidden states dataset. We will test generalisation on a whole new dataset.\u001b[39;00m\n\u001b[1;32m    357\u001b[0m     \u001b[39mif\u001b[39;00m tokenizer\u001b[39m.\u001b[39mchat_template \u001b[39mis\u001b[39;00m \u001b[39mNone\u001b[39;00m:\n",
      "File \u001b[0;32m/media/wassname/SGIronWolf/projects5/elk/sgd_probes_are_lie_detectors/.venv/lib/python3.11/site-packages/datasets/arrow_dataset.py:1072\u001b[0m, in \u001b[0;36mDataset.from_generator\u001b[0;34m(generator, features, cache_dir, keep_in_memory, gen_kwargs, num_proc, **kwargs)\u001b[0m\n\u001b[1;32m   1016\u001b[0m \u001b[39m\u001b[39m\u001b[39m\"\"\"Create a Dataset from a generator.\u001b[39;00m\n\u001b[1;32m   1017\u001b[0m \n\u001b[1;32m   1018\u001b[0m \u001b[39mArgs:\u001b[39;00m\n\u001b[0;32m   (...)\u001b[0m\n\u001b[1;32m   1060\u001b[0m \u001b[39m```\u001b[39;00m\n\u001b[1;32m   1061\u001b[0m \u001b[39m\"\"\"\u001b[39;00m\n\u001b[1;32m   1062\u001b[0m \u001b[39mfrom\u001b[39;00m \u001b[39m.\u001b[39;00m\u001b[39mio\u001b[39;00m\u001b[39m.\u001b[39;00m\u001b[39mgenerator\u001b[39;00m \u001b[39mimport\u001b[39;00m GeneratorDatasetInputStream\n\u001b[1;32m   1064\u001b[0m \u001b[39mreturn\u001b[39;00m GeneratorDatasetInputStream(\n\u001b[1;32m   1065\u001b[0m     generator\u001b[39m=\u001b[39;49mgenerator,\n\u001b[1;32m   1066\u001b[0m     features\u001b[39m=\u001b[39;49mfeatures,\n\u001b[1;32m   1067\u001b[0m     cache_dir\u001b[39m=\u001b[39;49mcache_dir,\n\u001b[1;32m   1068\u001b[0m     keep_in_memory\u001b[39m=\u001b[39;49mkeep_in_memory,\n\u001b[1;32m   1069\u001b[0m     gen_kwargs\u001b[39m=\u001b[39;49mgen_kwargs,\n\u001b[1;32m   1070\u001b[0m     num_proc\u001b[39m=\u001b[39;49mnum_proc,\n\u001b[1;32m   1071\u001b[0m     \u001b[39m*\u001b[39;49m\u001b[39m*\u001b[39;49mkwargs,\n\u001b[0;32m-> 1072\u001b[0m )\u001b[39m.\u001b[39;49mread()\n",
      "File \u001b[0;32m/media/wassname/SGIronWolf/projects5/elk/sgd_probes_are_lie_detectors/.venv/lib/python3.11/site-packages/datasets/io/generator.py:47\u001b[0m, in \u001b[0;36mGeneratorDatasetInputStream.read\u001b[0;34m(self)\u001b[0m\n\u001b[1;32m     44\u001b[0m     verification_mode \u001b[39m=\u001b[39m \u001b[39mNone\u001b[39;00m\n\u001b[1;32m     45\u001b[0m     base_path \u001b[39m=\u001b[39m \u001b[39mNone\u001b[39;00m\n\u001b[0;32m---> 47\u001b[0m     \u001b[39mself\u001b[39;49m\u001b[39m.\u001b[39;49mbuilder\u001b[39m.\u001b[39;49mdownload_and_prepare(\n\u001b[1;32m     48\u001b[0m         download_config\u001b[39m=\u001b[39;49mdownload_config,\n\u001b[1;32m     49\u001b[0m         download_mode\u001b[39m=\u001b[39;49mdownload_mode,\n\u001b[1;32m     50\u001b[0m         verification_mode\u001b[39m=\u001b[39;49mverification_mode,\n\u001b[1;32m     51\u001b[0m         try_from_hf_gcs\u001b[39m=\u001b[39;49m\u001b[39mFalse\u001b[39;49;00m,\n\u001b[1;32m     52\u001b[0m         base_path\u001b[39m=\u001b[39;49mbase_path,\n\u001b[1;32m     53\u001b[0m         num_proc\u001b[39m=\u001b[39;49m\u001b[39mself\u001b[39;49m\u001b[39m.\u001b[39;49mnum_proc,\n\u001b[1;32m     54\u001b[0m     )\n\u001b[1;32m     55\u001b[0m     dataset \u001b[39m=\u001b[39m \u001b[39mself\u001b[39m\u001b[39m.\u001b[39mbuilder\u001b[39m.\u001b[39mas_dataset(\n\u001b[1;32m     56\u001b[0m         split\u001b[39m=\u001b[39m\u001b[39m\"\u001b[39m\u001b[39mtrain\u001b[39m\u001b[39m\"\u001b[39m, verification_mode\u001b[39m=\u001b[39mverification_mode, in_memory\u001b[39m=\u001b[39m\u001b[39mself\u001b[39m\u001b[39m.\u001b[39mkeep_in_memory\n\u001b[1;32m     57\u001b[0m     )\n\u001b[1;32m     58\u001b[0m \u001b[39mreturn\u001b[39;00m dataset\n",
      "File \u001b[0;32m/media/wassname/SGIronWolf/projects5/elk/sgd_probes_are_lie_detectors/.venv/lib/python3.11/site-packages/datasets/builder.py:954\u001b[0m, in \u001b[0;36mDatasetBuilder.download_and_prepare\u001b[0;34m(self, output_dir, download_config, download_mode, verification_mode, ignore_verifications, try_from_hf_gcs, dl_manager, base_path, use_auth_token, file_format, max_shard_size, num_proc, storage_options, **download_and_prepare_kwargs)\u001b[0m\n\u001b[1;32m    952\u001b[0m     \u001b[39mif\u001b[39;00m num_proc \u001b[39mis\u001b[39;00m \u001b[39mnot\u001b[39;00m \u001b[39mNone\u001b[39;00m:\n\u001b[1;32m    953\u001b[0m         prepare_split_kwargs[\u001b[39m\"\u001b[39m\u001b[39mnum_proc\u001b[39m\u001b[39m\"\u001b[39m] \u001b[39m=\u001b[39m num_proc\n\u001b[0;32m--> 954\u001b[0m     \u001b[39mself\u001b[39;49m\u001b[39m.\u001b[39;49m_download_and_prepare(\n\u001b[1;32m    955\u001b[0m         dl_manager\u001b[39m=\u001b[39;49mdl_manager,\n\u001b[1;32m    956\u001b[0m         verification_mode\u001b[39m=\u001b[39;49mverification_mode,\n\u001b[1;32m    957\u001b[0m         \u001b[39m*\u001b[39;49m\u001b[39m*\u001b[39;49mprepare_split_kwargs,\n\u001b[1;32m    958\u001b[0m         \u001b[39m*\u001b[39;49m\u001b[39m*\u001b[39;49mdownload_and_prepare_kwargs,\n\u001b[1;32m    959\u001b[0m     )\n\u001b[1;32m    960\u001b[0m \u001b[39m# Sync info\u001b[39;00m\n\u001b[1;32m    961\u001b[0m \u001b[39mself\u001b[39m\u001b[39m.\u001b[39minfo\u001b[39m.\u001b[39mdataset_size \u001b[39m=\u001b[39m \u001b[39msum\u001b[39m(split\u001b[39m.\u001b[39mnum_bytes \u001b[39mfor\u001b[39;00m split \u001b[39min\u001b[39;00m \u001b[39mself\u001b[39m\u001b[39m.\u001b[39minfo\u001b[39m.\u001b[39msplits\u001b[39m.\u001b[39mvalues())\n",
      "File \u001b[0;32m/media/wassname/SGIronWolf/projects5/elk/sgd_probes_are_lie_detectors/.venv/lib/python3.11/site-packages/datasets/builder.py:1717\u001b[0m, in \u001b[0;36mGeneratorBasedBuilder._download_and_prepare\u001b[0;34m(self, dl_manager, verification_mode, **prepare_splits_kwargs)\u001b[0m\n\u001b[1;32m   1716\u001b[0m \u001b[39mdef\u001b[39;00m \u001b[39m_download_and_prepare\u001b[39m(\u001b[39mself\u001b[39m, dl_manager, verification_mode, \u001b[39m*\u001b[39m\u001b[39m*\u001b[39mprepare_splits_kwargs):\n\u001b[0;32m-> 1717\u001b[0m     \u001b[39msuper\u001b[39;49m()\u001b[39m.\u001b[39;49m_download_and_prepare(\n\u001b[1;32m   1718\u001b[0m         dl_manager,\n\u001b[1;32m   1719\u001b[0m         verification_mode,\n\u001b[1;32m   1720\u001b[0m         check_duplicate_keys\u001b[39m=\u001b[39;49mverification_mode \u001b[39m==\u001b[39;49m VerificationMode\u001b[39m.\u001b[39;49mBASIC_CHECKS\n\u001b[1;32m   1721\u001b[0m         \u001b[39mor\u001b[39;49;00m verification_mode \u001b[39m==\u001b[39;49m VerificationMode\u001b[39m.\u001b[39;49mALL_CHECKS,\n\u001b[1;32m   1722\u001b[0m         \u001b[39m*\u001b[39;49m\u001b[39m*\u001b[39;49mprepare_splits_kwargs,\n\u001b[1;32m   1723\u001b[0m     )\n",
      "File \u001b[0;32m/media/wassname/SGIronWolf/projects5/elk/sgd_probes_are_lie_detectors/.venv/lib/python3.11/site-packages/datasets/builder.py:1049\u001b[0m, in \u001b[0;36mDatasetBuilder._download_and_prepare\u001b[0;34m(self, dl_manager, verification_mode, **prepare_split_kwargs)\u001b[0m\n\u001b[1;32m   1045\u001b[0m split_dict\u001b[39m.\u001b[39madd(split_generator\u001b[39m.\u001b[39msplit_info)\n\u001b[1;32m   1047\u001b[0m \u001b[39mtry\u001b[39;00m:\n\u001b[1;32m   1048\u001b[0m     \u001b[39m# Prepare split will record examples associated to the split\u001b[39;00m\n\u001b[0;32m-> 1049\u001b[0m     \u001b[39mself\u001b[39;49m\u001b[39m.\u001b[39;49m_prepare_split(split_generator, \u001b[39m*\u001b[39;49m\u001b[39m*\u001b[39;49mprepare_split_kwargs)\n\u001b[1;32m   1050\u001b[0m \u001b[39mexcept\u001b[39;00m \u001b[39mOSError\u001b[39;00m \u001b[39mas\u001b[39;00m e:\n\u001b[1;32m   1051\u001b[0m     \u001b[39mraise\u001b[39;00m \u001b[39mOSError\u001b[39;00m(\n\u001b[1;32m   1052\u001b[0m         \u001b[39m\"\u001b[39m\u001b[39mCannot find data file. \u001b[39m\u001b[39m\"\u001b[39m\n\u001b[1;32m   1053\u001b[0m         \u001b[39m+\u001b[39m (\u001b[39mself\u001b[39m\u001b[39m.\u001b[39mmanual_download_instructions \u001b[39mor\u001b[39;00m \u001b[39m\"\u001b[39m\u001b[39m\"\u001b[39m)\n\u001b[1;32m   1054\u001b[0m         \u001b[39m+\u001b[39m \u001b[39m\"\u001b[39m\u001b[39m\\n\u001b[39;00m\u001b[39mOriginal error:\u001b[39m\u001b[39m\\n\u001b[39;00m\u001b[39m\"\u001b[39m\n\u001b[1;32m   1055\u001b[0m         \u001b[39m+\u001b[39m \u001b[39mstr\u001b[39m(e)\n\u001b[1;32m   1056\u001b[0m     ) \u001b[39mfrom\u001b[39;00m \u001b[39mNone\u001b[39;00m\n",
      "File \u001b[0;32m/media/wassname/SGIronWolf/projects5/elk/sgd_probes_are_lie_detectors/.venv/lib/python3.11/site-packages/datasets/builder.py:1555\u001b[0m, in \u001b[0;36mGeneratorBasedBuilder._prepare_split\u001b[0;34m(self, split_generator, check_duplicate_keys, file_format, num_proc, max_shard_size)\u001b[0m\n\u001b[1;32m   1553\u001b[0m job_id \u001b[39m=\u001b[39m \u001b[39m0\u001b[39m\n\u001b[1;32m   1554\u001b[0m \u001b[39mwith\u001b[39;00m pbar:\n\u001b[0;32m-> 1555\u001b[0m     \u001b[39mfor\u001b[39;49;00m job_id, done, content \u001b[39min\u001b[39;49;00m \u001b[39mself\u001b[39;49m\u001b[39m.\u001b[39;49m_prepare_split_single(\n\u001b[1;32m   1556\u001b[0m         gen_kwargs\u001b[39m=\u001b[39;49mgen_kwargs, job_id\u001b[39m=\u001b[39;49mjob_id, \u001b[39m*\u001b[39;49m\u001b[39m*\u001b[39;49m_prepare_split_args\n\u001b[1;32m   1557\u001b[0m     ):\n\u001b[1;32m   1558\u001b[0m         \u001b[39mif\u001b[39;49;00m done:\n\u001b[1;32m   1559\u001b[0m             result \u001b[39m=\u001b[39;49m content\n",
      "File \u001b[0;32m/media/wassname/SGIronWolf/projects5/elk/sgd_probes_are_lie_detectors/.venv/lib/python3.11/site-packages/datasets/builder.py:1712\u001b[0m, in \u001b[0;36mGeneratorBasedBuilder._prepare_split_single\u001b[0;34m(self, gen_kwargs, fpath, file_format, max_shard_size, split_info, check_duplicate_keys, job_id)\u001b[0m\n\u001b[1;32m   1710\u001b[0m     \u001b[39mif\u001b[39;00m \u001b[39misinstance\u001b[39m(e, SchemaInferenceError) \u001b[39mand\u001b[39;00m e\u001b[39m.\u001b[39m__context__ \u001b[39mis\u001b[39;00m \u001b[39mnot\u001b[39;00m \u001b[39mNone\u001b[39;00m:\n\u001b[1;32m   1711\u001b[0m         e \u001b[39m=\u001b[39m e\u001b[39m.\u001b[39m__context__\n\u001b[0;32m-> 1712\u001b[0m     \u001b[39mraise\u001b[39;00m DatasetGenerationError(\u001b[39m\"\u001b[39m\u001b[39mAn error occurred while generating the dataset\u001b[39m\u001b[39m\"\u001b[39m) \u001b[39mfrom\u001b[39;00m \u001b[39me\u001b[39;00m\n\u001b[1;32m   1714\u001b[0m \u001b[39myield\u001b[39;00m job_id, \u001b[39mTrue\u001b[39;00m, (total_num_examples, total_num_bytes, writer\u001b[39m.\u001b[39m_features, num_shards, shard_lengths)\n",
      "\u001b[0;31mDatasetGenerationError\u001b[0m: An error occurred while generating the dataset"
     ]
    }
   ],
   "source": [
    "\n",
    "ds_names = [\n",
    "    'EleutherAI/truthful_qa_binary',\n",
    "    \"amazon_polarity\",\n",
    "    'imdb',\n",
    "    \n",
    "    'super_glue:boolq', # yes\n",
    "    'glue:qnli', # yes\n",
    "    'super_glue:axg', # yes\n",
    "    'super_glue:rte',  # yes\n",
    "    # 'super_glue:cb', # xpected label to be 0 or 1, got 2\n",
    "    'hans', # yes\n",
    "    'sst2', # yes\n",
    "    # 'snli', # Expected label to be 0 or 1, got 2\n",
    "    # 'xnli:en', # Expected label to be 0 or 1, got 2\n",
    "    # 'glue:mnli', # Expected label to be 0 or 1, got 2\n",
    "    # 'glue:mnli_mismatched', # Expected label to be 0 or 1, got 2\n",
    "\n",
    "\n",
    "    # 'super_glue:copa', # yes\n",
    "    \n",
    "\n",
    "    # 'wiqa',  # no label columns\n",
    "    # \"hotpot_qa:fullwiki\", # no label columns\n",
    "    # \"hotpot_qa:distractor\", # No multiple choice templates found\n",
    "    # 'biosses', # Dataset has no label column\n",
    "    # 'commonsense_qa',  #ValueError: Dataset has no label column \n",
    "    'sms_spam', # yes\n",
    "    'wiki_qa', # yes\n",
    "    # 'math_qa', # no label\n",
    "    # 'adversarial_qa:droberta', # No multiple choice templates found\n",
    "    # 'math_dataset:algebra__linear_1d', # o multiple choice templates found\n",
    "    # 'emotion', #  Expected label to be 0 or 1, got 4\n",
    "    # 'emo', #  Expected label to be 0 or 1, got 3\n",
    "    # 'lauritowal/redefine_math', # Dataset has no label column\n",
    "    # 'boolq_pt', # cannot find\n",
    "    # 'liar', #  Expected label to be 0 or 1, got 2\n",
    "    # 'ag_news', #  Expected label to be 0 or 1, got 2\n",
    "    # 'movie_rationales', # long?\n",
    "    # 'hate_speech18', # label is dict\n",
    "]\n",
    "\n",
    "data = {}\n",
    "for ds_name in ds_names:\n",
    "    print('=='*80)\n",
    "    print(ds_name)\n",
    "    # load dataset\n",
    "    try:\n",
    "        ds = load_preproc_dataset(ds_name, tokenizer, N, prompt_format='phi').with_format(\"torch\")\n",
    "        ds\n",
    "    except KeyboardInterrupt:\n",
    "        raise\n",
    "    except Exception as e:\n",
    "        logger.exception(f\"Failed to load {ds_name} `{e}`\")\n",
    "        raise\n",
    "        continue\n",
    "\n",
    "\n",
    "    # eval\n",
    "    dl = DataLoader(ds, batch_size=8, shuffle=False, num_workers=0)\n",
    "    ds_out, f = manual_collect2(dl, model, get_residual=False)\n",
    "    print(f'for {model_id}:')\n",
    "\n",
    "    res = qc_ds(ds_out)\n",
    "    res['truncation']=(ds['truncated']*1.0).mean()\n",
    "    data[ds_name] = res\n",
    "\n",
    "    print(ds_name)\n",
    "    # /\n",
    "\n"
   ]
  },
  {
   "cell_type": "code",
   "execution_count": null,
   "metadata": {},
   "outputs": [
    {
     "data": {
      "text/markdown": [
       "|                  |   balance |   N |    auroc |   lie_auroc |   known_lie_auroc |   choice_cov |   truncation |\n",
       "|:-----------------|----------:|----:|---------:|------------:|------------------:|-------------:|-------------:|\n",
       "| sms_spam         |  0.486667 | 300 | 0.499377 |    0.531934 |         0.296474  |     0.973791 |            0 |\n",
       "| wiki_qa          |  0.486667 | 300 | 0.537004 |    0.42528  |         0.3       |     0.84084  |            0 |\n",
       "| glue:qnli        |  0.486667 | 300 | 0.616972 |    0.409714 |         0.251208  |     0.729142 |            0 |\n",
       "| hans             |  0.486667 | 300 | 0.649173 |    0.396282 |         0.209524  |     0.99918  |            0 |\n",
       "| sst2             |  0.486667 | 300 | 0.686622 |    0.351628 |         0.266447  |     0.81738  |            0 |\n",
       "| super_glue:axg   |  0.486667 | 300 | 0.703611 |    0.310087 |         0.0772059 |     0.999047 |            0 |\n",
       "| super_glue:boolq |  0.486667 | 300 | 0.734211 |    0.271927 |         0.0744207 |     0.98014  |            0 |\n",
       "| super_glue:rte   |  0.486667 | 300 | 0.770681 |    0.268991 |         0.0930556 |     0.997921 |            0 |\n",
       "| imdb             |  0.51     | 300 | 0.781798 |    0.271429 |         0.16313   |     0.886125 |            0 |\n",
       "| amazon_polarity  |  0.486667 | 300 | 0.835527 |    0.22327  |         0.169878  |     0.963495 |            0 |"
      ],
      "text/plain": [
       "<IPython.core.display.Markdown object>"
      ]
     },
     "metadata": {},
     "output_type": "display_data"
    },
    {
     "name": "stdout",
     "output_type": "stream",
     "text": [
      "|                  |   balance |   N |    auroc |   lie_auroc |   known_lie_auroc |   choice_cov |   truncation |\n",
      "|:-----------------|----------:|----:|---------:|------------:|------------------:|-------------:|-------------:|\n",
      "| sms_spam         |  0.486667 | 300 | 0.499377 |    0.531934 |         0.296474  |     0.973791 |            0 |\n",
      "| wiki_qa          |  0.486667 | 300 | 0.537004 |    0.42528  |         0.3       |     0.84084  |            0 |\n",
      "| glue:qnli        |  0.486667 | 300 | 0.616972 |    0.409714 |         0.251208  |     0.729142 |            0 |\n",
      "| hans             |  0.486667 | 300 | 0.649173 |    0.396282 |         0.209524  |     0.99918  |            0 |\n",
      "| sst2             |  0.486667 | 300 | 0.686622 |    0.351628 |         0.266447  |     0.81738  |            0 |\n",
      "| super_glue:axg   |  0.486667 | 300 | 0.703611 |    0.310087 |         0.0772059 |     0.999047 |            0 |\n",
      "| super_glue:boolq |  0.486667 | 300 | 0.734211 |    0.271927 |         0.0744207 |     0.98014  |            0 |\n",
      "| super_glue:rte   |  0.486667 | 300 | 0.770681 |    0.268991 |         0.0930556 |     0.997921 |            0 |\n",
      "| imdb             |  0.51     | 300 | 0.781798 |    0.271429 |         0.16313   |     0.886125 |            0 |\n",
      "| amazon_polarity  |  0.486667 | 300 | 0.835527 |    0.22327  |         0.169878  |     0.963495 |            0 |\n"
     ]
    }
   ],
   "source": [
    "df = pd.DataFrame(data).T.sort_values('auroc')\n",
    "display(Markdown(df.to_markdown()))\n",
    "print(df.to_markdown())\n"
   ]
  },
  {
   "cell_type": "markdown",
   "metadata": {},
   "source": [
    "|                  |   balance |   N |    auroc |   lie_auroc |   known_lie_auroc |   choice_cov |   truncation |\n",
    "|:-----------------|----------:|----:|---------:|------------:|------------------:|-------------:|-------------:|\n",
    "| sms_spam         |  0.486667 | 300 | 0.499377 |    0.531934 |         0.296474  |     0.973791 |            0 |\n",
    "| wiki_qa          |  0.486667 | 300 | 0.537004 |    0.42528  |         0.3       |     0.84084  |            0 |\n",
    "| glue:qnli        |  0.486667 | 300 | 0.616972 |    0.409714 |         0.251208  |     0.729142 |            0 |\n",
    "| hans             |  0.486667 | 300 | 0.649173 |    0.396282 |         0.209524  |     0.99918  |            0 |\n",
    "| sst2             |  0.486667 | 300 | 0.686622 |    0.351628 |         0.266447  |     0.81738  |            0 |\n",
    "| super_glue:axg   |  0.486667 | 300 | 0.703611 |    0.310087 |         0.0772059 |     0.999047 |            0 |\n",
    "| super_glue:boolq |  0.486667 | 300 | 0.734211 |    0.271927 |         0.0744207 |     0.98014  |            0 |\n",
    "| super_glue:rte   |  0.486667 | 300 | 0.770681 |    0.268991 |         0.0930556 |     0.997921 |            0 |\n",
    "| imdb             |  0.51     | 300 | 0.781798 |    0.271429 |         0.16313   |     0.886125 |            0 |\n",
    "| amazon_polarity  |  0.486667 | 300 | 0.835527 |    0.22327  |         0.169878  |     0.963495 |            0 |"
   ]
  },
  {
   "cell_type": "code",
   "execution_count": null,
   "metadata": {},
   "outputs": [],
   "source": []
  },
  {
   "cell_type": "code",
   "execution_count": null,
   "metadata": {},
   "outputs": [],
   "source": []
  },
  {
   "cell_type": "code",
   "execution_count": null,
   "metadata": {},
   "outputs": [],
   "source": []
  }
 ],
 "metadata": {
  "kernelspec": {
   "display_name": ".venv",
   "language": "python",
   "name": "python3"
  },
  "language_info": {
   "codemirror_mode": {
    "name": "ipython",
    "version": 3
   },
   "file_extension": ".py",
   "mimetype": "text/x-python",
   "name": "python",
   "nbconvert_exporter": "python",
   "pygments_lexer": "ipython3",
   "version": "3.11.0rc1"
  }
 },
 "nbformat": 4,
 "nbformat_minor": 2
}
