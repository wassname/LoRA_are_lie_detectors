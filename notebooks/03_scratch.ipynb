{
 "cells": [
  {
   "cell_type": "code",
   "execution_count": 1,
   "metadata": {},
   "outputs": [],
   "source": [
    "import torch\n"
   ]
  },
  {
   "cell_type": "markdown",
   "metadata": {},
   "source": [
    "In pytorch I often have logits from a transformer e.g. `logits = torch.rand(batch_size, sequence, tokens)`. And I have certain token choices I want to select. `token_choices = torch.tensor([[10, 100], [300, 333]])` where the first dimension is the batch and the second is the token.\n",
    "\n",
    "Is there a tidy way to do this?"
   ]
  },
  {
   "cell_type": "code",
   "execution_count": 14,
   "metadata": {},
   "outputs": [],
   "source": [
    "batch_size = 3\n",
    "tokens = 102\n",
    "logits = torch.rand(batch_size,tokens)\n",
    "token_choices = torch.randint(tokens, (batch_size, 2))\n",
    "\n",
    "\n",
    "# Create a batch range\n",
    "batch_range = torch.arange(batch_size).unsqueeze(1)\n",
    "\n",
    "# Select the tokens\n",
    "selected_logits = logits[batch_range, token_choices]\n",
    "selected_logits\n",
    "\n"
   ]
  },
  {
   "cell_type": "code",
   "execution_count": 16,
   "metadata": {},
   "outputs": [
    {
     "data": {
      "text/plain": [
       "tensor([[0.4240, 0.7202],\n",
       "        [0.2919, 0.1222],\n",
       "        [0.7530, 0.5220]])"
      ]
     },
     "execution_count": 16,
     "metadata": {},
     "output_type": "execute_result"
    }
   ],
   "source": [
    "\n",
    "# Example tensors\n",
    "# batch_size, sequence, tokens = logits.shape\n",
    "# logits = torch.rand(batch_size, sequence, tokens)  # Your logits tensor\n",
    "# token_choices = torch.tensor([[10, 100], [300, 333]])  # Your token choices\n"
   ]
  },
  {
   "cell_type": "code",
   "execution_count": null,
   "metadata": {},
   "outputs": [],
   "source": []
  },
  {
   "cell_type": "code",
   "execution_count": 17,
   "metadata": {},
   "outputs": [
    {
     "data": {
      "text/plain": [
       "tensor([0.4240, 0.7202])"
      ]
     },
     "execution_count": 17,
     "metadata": {},
     "output_type": "execute_result"
    }
   ],
   "source": [
    "logits[0, token_choices[0]]\n"
   ]
  },
  {
   "cell_type": "markdown",
   "metadata": {},
   "source": [
    "# Refactor scores.py"
   ]
  },
  {
   "cell_type": "code",
   "execution_count": 34,
   "metadata": {},
   "outputs": [],
   "source": [
    "import torch\n",
    "from einops import rearrange\n",
    "\n",
    "end_logits = torch.rand([2, 51200])\n",
    "\n",
    "choices = torch.randint(51200, (2, 2, 2))\n",
    "choices = rearrange(choices, 'b c n -> b (c n)')\n",
    "\n",
    "\n",
    "# choice_probs\n",
    "batch_size = end_logits.shape[0]\n",
    "batch_range = torch.arange(batch_size).unsqueeze(1)\n",
    "selected_logits = end_logits[batch_range, choices]\n"
   ]
  },
  {
   "cell_type": "code",
   "execution_count": null,
   "metadata": {},
   "outputs": [],
   "source": [
    "def select_choices(end_logits: Float[Tensor, \"batch tokens\"], choices: Long[Tensor, \"batch choices alternates\"],) -> Float[Tensor, \"batch choices\"]:\n",
    "    batch_size = end_logits.shape[0]\n",
    "    choices = torch.randint(51200, (2, 2, 2))\n",
    "    choices_flat = rearrange(choices, 'b c n -> b (c n)')\n",
    "    batch_range = torch.arange(batch_size).unsqueeze(1)\n",
    "    selected_logits = end_logits[batch_range, choices_flat]\n",
    "    selected_logits = rearrange(selected_logits, 'b (c n) -> b c n', c=choices.shape[1])\n",
    "    return selected_logits\n",
    "\n"
   ]
  },
  {
   "cell_type": "code",
   "execution_count": 40,
   "metadata": {},
   "outputs": [
    {
     "data": {
      "text/plain": [
       "(tensor(0.1551), tensor(0.1551))"
      ]
     },
     "execution_count": 40,
     "metadata": {},
     "output_type": "execute_result"
    }
   ],
   "source": [
    "bi = 1\n",
    "i = 1\n",
    "selected_logits[bi, i], end_logits[bi, choices[bi, i]]\n"
   ]
  },
  {
   "cell_type": "code",
   "execution_count": 23,
   "metadata": {},
   "outputs": [
    {
     "data": {
      "text/plain": [
       "tensor(0.5383)"
      ]
     },
     "execution_count": 23,
     "metadata": {},
     "output_type": "execute_result"
    }
   ],
   "source": []
  },
  {
   "cell_type": "markdown",
   "metadata": {},
   "source": []
  }
 ],
 "metadata": {
  "kernelspec": {
   "display_name": ".venv",
   "language": "python",
   "name": "python3"
  },
  "language_info": {
   "codemirror_mode": {
    "name": "ipython",
    "version": 3
   },
   "file_extension": ".py",
   "mimetype": "text/x-python",
   "name": "python",
   "nbconvert_exporter": "python",
   "pygments_lexer": "ipython3",
   "version": "3.11.0rc1"
  }
 },
 "nbformat": 4,
 "nbformat_minor": 2
}
