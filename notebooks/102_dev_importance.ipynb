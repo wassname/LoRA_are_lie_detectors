{
 "cells": [
  {
   "cell_type": "markdown",
   "metadata": {},
   "source": [
    "my known lie doesn't make sense anymore? Well truth is when examples of truth are given (and maybe it's asked to tell the truth?) I would need to analyze this seperatly, but getting say N tokens. And trying differen't combinatiuons of system prompt, and n-shot examples\n"
   ]
  },
  {
   "cell_type": "code",
   "execution_count": 7,
   "metadata": {},
   "outputs": [],
   "source": [
    "import torch\n",
    "from IPython.display import display, HTML, Markdown\n",
    "from torch.utils.data import random_split, DataLoader, TensorDataset\n",
    "from loguru import logger\n",
    "import sys\n",
    "import pandas as pd\n",
    "import seaborn as sns\n",
    "\n",
    "\n",
    "logger.remove()\n",
    "logger.add(sys.stderr, format=\"{time} {level} {message}\", level=\"INFO\")\n",
    "\n",
    "# load my code\n",
    "%load_ext autoreload\n",
    "%autoreload 2\n",
    "from src.eval.collect import manual_collect2\n",
    "from src.eval.ds import ds2df, qc_ds, qc_dsdf\n",
    "from src.prompts.prompt_loading import load_prompts, format_prompt, load_preproc_dataset\n",
    "from src.llms.load import load_model\n",
    "\n",
    "from matplotlib import pyplot as plt\n",
    "plt.style.use(['seaborn-v0_8'])\n"
   ]
  },
  {
   "cell_type": "code",
   "execution_count": null,
   "metadata": {},
   "outputs": [],
   "source": []
  },
  {
   "cell_type": "code",
   "execution_count": 8,
   "metadata": {},
   "outputs": [],
   "source": [
    "from pathlib import Path\n",
    "BASE_FOLDER = Path(\"/media/wassname/SGIronWolf/projects5/elk/sgd_probes_are_lie_detectors/notebooks/lightning_logs/version_6/\")"
   ]
  },
  {
   "cell_type": "markdown",
   "metadata": {},
   "source": [
    "## Importance matrix"
   ]
  },
  {
   "cell_type": "code",
   "execution_count": 9,
   "metadata": {},
   "outputs": [
    {
     "name": "stdout",
     "output_type": "stream",
     "text": [
      "Wqkv torch.Size([32, 7680])\n",
      "fc1 torch.Size([32, 10240])\n",
      "torch.Size([32, 17920])\n"
     ]
    },
    {
     "data": {
      "image/png": "[encoded data removed]",
      "text/plain": [
       "<Figure size 800x550 with 1 Axes>"
      ]
     },
     "metadata": {},
     "output_type": "display_data"
    }
   ],
   "source": [
    "from src.probes.importance_matrix import get_importance_matrix\n",
    "\n",
    "f = f\"{BASE_FOLDER}/checkpoint_last/adapter_model.safetensors\"\n",
    "importance_matrix = get_importance_matrix(f, layers=['fc1', 'Wqkv'])#[SKIP+1::STRIDE, ::DECIMATE]\n",
    "print(importance_matrix.shape)\n",
    "plt.hist(importance_matrix.flatten(), bins=55);\n"
   ]
  },
  {
   "cell_type": "markdown",
   "metadata": {},
   "source": [
    "## Load DS"
   ]
  },
  {
   "cell_type": "code",
   "execution_count": 10,
   "metadata": {},
   "outputs": [],
   "source": [
    "from datasets import Dataset\n",
    "\n",
    "f1_val = next(iter(BASE_FOLDER.glob('hidden_states/.ds/ds_valtest_*')))\n",
    "f1_ood = next(iter(BASE_FOLDER.glob('hidden_states/.ds/ds_OOD_*')))\n",
    "f1_val, f1_ood\n",
    "\n",
    "ds_val = Dataset.from_file(str(f1_val)).with_format(\"torch\")\n",
    "ds_oos = Dataset.from_file(str(f1_ood)).with_format(\"torch\")\n",
    "\n",
    "# ds_known1 = filter_ds_to_known(ds_out, verbose=True)"
   ]
  },
  {
   "cell_type": "code",
   "execution_count": 5,
   "metadata": {},
   "outputs": [
    {
     "name": "stdout",
     "output_type": "stream",
     "text": [
      "with base model\n",
      "with adapter\n",
      "with base model\n",
      "with adapter\n"
     ]
    },
    {
     "data": {
      "text/plain": [
       "({'balance': 0.49800399201596807,\n",
       "  'N': 1002,\n",
       "  'auroc': 0.7698574684491615,\n",
       "  'lie_auroc': 0.2981741993415145,\n",
       "  'choice_cov': 0.9784463},\n",
       " {'balance': 0.49800399201596807,\n",
       "  'N': 1002,\n",
       "  'auroc': 0.7698574684491615,\n",
       "  'lie_auroc': 0.2981741993415145,\n",
       "  'choice_cov': 0.9784463})"
      ]
     },
     "execution_count": 5,
     "metadata": {},
     "output_type": "execute_result"
    }
   ],
   "source": [
    "qc_ds(ds_val)\n",
    "qc_ds(ds_oos)\n"
   ]
  },
  {
   "cell_type": "code",
   "execution_count": 6,
   "metadata": {},
   "outputs": [
    {
     "data": {
      "text/html": [
       "<div>\n",
       "<style scoped>\n",
       "    .dataframe tbody tr th:only-of-type {\n",
       "        vertical-align: middle;\n",
       "    }\n",
       "\n",
       "    .dataframe tbody tr th {\n",
       "        vertical-align: top;\n",
       "    }\n",
       "\n",
       "    .dataframe thead th {\n",
       "        text-align: right;\n",
       "    }\n",
       "</style>\n",
       "<table border=\"1\" class=\"dataframe\">\n",
       "  <thead>\n",
       "    <tr style=\"text-align: right;\">\n",
       "      <th></th>\n",
       "      <th>acc</th>\n",
       "      <th>n</th>\n",
       "    </tr>\n",
       "    <tr>\n",
       "      <th>sys_instr_name</th>\n",
       "      <th></th>\n",
       "      <th></th>\n",
       "    </tr>\n",
       "  </thead>\n",
       "  <tbody>\n",
       "    <tr>\n",
       "      <th>false_none</th>\n",
       "      <td>0.258547</td>\n",
       "      <td>468.0</td>\n",
       "    </tr>\n",
       "    <tr>\n",
       "      <th>true_none</th>\n",
       "      <td>0.743925</td>\n",
       "      <td>535.0</td>\n",
       "    </tr>\n",
       "  </tbody>\n",
       "</table>\n",
       "</div>"
      ],
      "text/plain": [
       "                     acc      n\n",
       "sys_instr_name                 \n",
       "false_none      0.258547  468.0\n",
       "true_none       0.743925  535.0"
      ]
     },
     "metadata": {},
     "output_type": "display_data"
    },
    {
     "data": {
      "text/html": [
       "<div>\n",
       "<style scoped>\n",
       "    .dataframe tbody tr th:only-of-type {\n",
       "        vertical-align: middle;\n",
       "    }\n",
       "\n",
       "    .dataframe tbody tr th {\n",
       "        vertical-align: top;\n",
       "    }\n",
       "\n",
       "    .dataframe thead th {\n",
       "        text-align: right;\n",
       "    }\n",
       "</style>\n",
       "<table border=\"1\" class=\"dataframe\">\n",
       "  <thead>\n",
       "    <tr style=\"text-align: right;\">\n",
       "      <th></th>\n",
       "      <th>acc</th>\n",
       "      <th>n</th>\n",
       "    </tr>\n",
       "    <tr>\n",
       "      <th>ds_string</th>\n",
       "      <th></th>\n",
       "      <th></th>\n",
       "    </tr>\n",
       "  </thead>\n",
       "  <tbody>\n",
       "    <tr>\n",
       "      <th>amazon_polarity</th>\n",
       "      <td>0.485000</td>\n",
       "      <td>200.0</td>\n",
       "    </tr>\n",
       "    <tr>\n",
       "      <th>glue:qnli</th>\n",
       "      <td>0.555000</td>\n",
       "      <td>200.0</td>\n",
       "    </tr>\n",
       "    <tr>\n",
       "      <th>hans</th>\n",
       "      <td>0.507463</td>\n",
       "      <td>201.0</td>\n",
       "    </tr>\n",
       "    <tr>\n",
       "      <th>sst2</th>\n",
       "      <td>0.572139</td>\n",
       "      <td>201.0</td>\n",
       "    </tr>\n",
       "    <tr>\n",
       "      <th>super_glue:rte</th>\n",
       "      <td>0.467662</td>\n",
       "      <td>201.0</td>\n",
       "    </tr>\n",
       "  </tbody>\n",
       "</table>\n",
       "</div>"
      ],
      "text/plain": [
       "                      acc      n\n",
       "ds_string                       \n",
       "amazon_polarity  0.485000  200.0\n",
       "glue:qnli        0.555000  200.0\n",
       "hans             0.507463  201.0\n",
       "sst2             0.572139  201.0\n",
       "super_glue:rte   0.467662  201.0"
      ]
     },
     "metadata": {},
     "output_type": "display_data"
    }
   ],
   "source": [
    "def agg_func(x):\n",
    "    acc = (x.label_instructed == x[\"ans\"]).mean()\n",
    "    return pd.Series(dict(acc=acc, n=len(x)))\n",
    "\n",
    "df = ds2df(ds_val)\n",
    "df = df.rename(columns=lambda x: x.replace(\"_base\", \"\")).copy()\n",
    "\n",
    "for col in [\"sys_instr_name\", \"ds_string\"]:\n",
    "    display(df.groupby(col).apply(agg_func))\n"
   ]
  },
  {
   "cell_type": "markdown",
   "metadata": {},
   "source": [
    "# Probe"
   ]
  },
  {
   "cell_type": "code",
   "execution_count": 11,
   "metadata": {},
   "outputs": [],
   "source": [
    "from src.probes.lr import TorchRobustScaler, TorchLogisticRegression, TorchDummyClassifier\n",
    "from src.helpers.ds import train_test_split_ds\n",
    "from src.eval.pl_sk import analyze_dfres, SKEvaluator, PlainTruthEval"
   ]
  },
  {
   "cell_type": "markdown",
   "metadata": {},
   "source": [
    "### LR"
   ]
  },
  {
   "cell_type": "code",
   "execution_count": null,
   "metadata": {},
   "outputs": [],
   "source": [
    "print('logistic regression')\n",
    "evaluator = PlainTruthEval(ds_trainval=ds_val, ds_test=ds_oos, importance_matrix=importance_matrix)\n",
    "model = TorchLogisticRegression(random_state=42, \n",
    "                                max_iter=10,\n",
    "                                penalty='elasticnet',\n",
    "                                # tol=1e-2,\n",
    "                                solver='saga',\n",
    "                                l1_ratio=0.5,\n",
    "                                 class_weight='balanced',)\n",
    "df_res = evaluator.eval(model)\n",
    "insample_datasets = list(set(ds_val['ds_string_base']))\n",
    "analyze_dfres(df_res, insample_datasets, insample_datasets)"
   ]
  },
  {
   "cell_type": "code",
   "execution_count": 22,
   "metadata": {},
   "outputs": [
    {
     "name": "stdout",
     "output_type": "stream",
     "text": [
      "DummyClassifier\n"
     ]
    },
    {
     "data": {
      "text/html": [
       "<div>\n",
       "<style scoped>\n",
       "    .dataframe tbody tr th:only-of-type {\n",
       "        vertical-align: middle;\n",
       "    }\n",
       "\n",
       "    .dataframe tbody tr th {\n",
       "        vertical-align: top;\n",
       "    }\n",
       "\n",
       "    .dataframe thead th {\n",
       "        text-align: right;\n",
       "    }\n",
       "</style>\n",
       "<table border=\"1\" class=\"dataframe\">\n",
       "  <thead>\n",
       "    <tr style=\"text-align: right;\">\n",
       "      <th></th>\n",
       "      <th>roc_auc</th>\n",
       "      <th>improvement</th>\n",
       "      <th>acc</th>\n",
       "      <th>n</th>\n",
       "      <th>in_dist_adapter</th>\n",
       "      <th>in_dist_probe</th>\n",
       "      <th>balance</th>\n",
       "      <th>balance_proxy</th>\n",
       "      <th>roc_auc_adapter</th>\n",
       "      <th>roc_auc_base</th>\n",
       "    </tr>\n",
       "  </thead>\n",
       "  <tbody>\n",
       "    <tr>\n",
       "      <th>glue:qnli</th>\n",
       "      <td>0.5</td>\n",
       "      <td>-0.190351</td>\n",
       "      <td>0.647059</td>\n",
       "      <td>68</td>\n",
       "      <td>True</td>\n",
       "      <td>True</td>\n",
       "      <td>0.647059</td>\n",
       "      <td>0.647059</td>\n",
       "      <td>0.609649</td>\n",
       "      <td>0.690351</td>\n",
       "    </tr>\n",
       "    <tr>\n",
       "      <th>hans</th>\n",
       "      <td>0.5</td>\n",
       "      <td>-0.225209</td>\n",
       "      <td>0.672414</td>\n",
       "      <td>58</td>\n",
       "      <td>True</td>\n",
       "      <td>True</td>\n",
       "      <td>0.672414</td>\n",
       "      <td>0.672414</td>\n",
       "      <td>0.618877</td>\n",
       "      <td>0.725209</td>\n",
       "    </tr>\n",
       "    <tr>\n",
       "      <th>super_glue:axg</th>\n",
       "      <td>0.5</td>\n",
       "      <td>-0.317758</td>\n",
       "      <td>0.757485</td>\n",
       "      <td>334</td>\n",
       "      <td>False</td>\n",
       "      <td>False</td>\n",
       "      <td>0.757485</td>\n",
       "      <td>0.757485</td>\n",
       "      <td>0.769721</td>\n",
       "      <td>0.817758</td>\n",
       "    </tr>\n",
       "    <tr>\n",
       "      <th>super_glue:rte</th>\n",
       "      <td>0.5</td>\n",
       "      <td>-0.36413</td>\n",
       "      <td>0.765957</td>\n",
       "      <td>47</td>\n",
       "      <td>True</td>\n",
       "      <td>True</td>\n",
       "      <td>0.765957</td>\n",
       "      <td>0.765957</td>\n",
       "      <td>0.824275</td>\n",
       "      <td>0.86413</td>\n",
       "    </tr>\n",
       "    <tr>\n",
       "      <th>sst2</th>\n",
       "      <td>0.5</td>\n",
       "      <td>-0.383455</td>\n",
       "      <td>0.790323</td>\n",
       "      <td>62</td>\n",
       "      <td>True</td>\n",
       "      <td>True</td>\n",
       "      <td>0.790323</td>\n",
       "      <td>0.790323</td>\n",
       "      <td>0.651405</td>\n",
       "      <td>0.883455</td>\n",
       "    </tr>\n",
       "    <tr>\n",
       "      <th>imdb</th>\n",
       "      <td>0.5</td>\n",
       "      <td>-0.404945</td>\n",
       "      <td>0.844311</td>\n",
       "      <td>334</td>\n",
       "      <td>False</td>\n",
       "      <td>False</td>\n",
       "      <td>0.844311</td>\n",
       "      <td>0.844311</td>\n",
       "      <td>0.808885</td>\n",
       "      <td>0.904945</td>\n",
       "    </tr>\n",
       "    <tr>\n",
       "      <th>super_glue:boolq</th>\n",
       "      <td>0.5</td>\n",
       "      <td>-0.432004</td>\n",
       "      <td>0.847305</td>\n",
       "      <td>334</td>\n",
       "      <td>False</td>\n",
       "      <td>False</td>\n",
       "      <td>0.847305</td>\n",
       "      <td>0.847305</td>\n",
       "      <td>0.896731</td>\n",
       "      <td>0.932004</td>\n",
       "    </tr>\n",
       "    <tr>\n",
       "      <th>amazon_polarity</th>\n",
       "      <td>0.5</td>\n",
       "      <td>-0.467105</td>\n",
       "      <td>0.909091</td>\n",
       "      <td>66</td>\n",
       "      <td>True</td>\n",
       "      <td>True</td>\n",
       "      <td>0.909091</td>\n",
       "      <td>0.909091</td>\n",
       "      <td>0.841165</td>\n",
       "      <td>0.967105</td>\n",
       "    </tr>\n",
       "  </tbody>\n",
       "</table>\n",
       "</div>"
      ],
      "text/plain": [
       "                 roc_auc improvement       acc    n in_dist_adapter  \\\n",
       "glue:qnli            0.5   -0.190351  0.647059   68            True   \n",
       "hans                 0.5   -0.225209  0.672414   58            True   \n",
       "super_glue:axg       0.5   -0.317758  0.757485  334           False   \n",
       "super_glue:rte       0.5    -0.36413  0.765957   47            True   \n",
       "sst2                 0.5   -0.383455  0.790323   62            True   \n",
       "imdb                 0.5   -0.404945  0.844311  334           False   \n",
       "super_glue:boolq     0.5   -0.432004  0.847305  334           False   \n",
       "amazon_polarity      0.5   -0.467105  0.909091   66            True   \n",
       "\n",
       "                 in_dist_probe   balance balance_proxy roc_auc_adapter  \\\n",
       "glue:qnli                 True  0.647059      0.647059        0.609649   \n",
       "hans                      True  0.672414      0.672414        0.618877   \n",
       "super_glue:axg           False  0.757485      0.757485        0.769721   \n",
       "super_glue:rte            True  0.765957      0.765957        0.824275   \n",
       "sst2                      True  0.790323      0.790323        0.651405   \n",
       "imdb                     False  0.844311      0.844311        0.808885   \n",
       "super_glue:boolq         False  0.847305      0.847305        0.896731   \n",
       "amazon_polarity           True  0.909091      0.909091        0.841165   \n",
       "\n",
       "                 roc_auc_base  \n",
       "glue:qnli            0.690351  \n",
       "hans                 0.725209  \n",
       "super_glue:axg       0.817758  \n",
       "super_glue:rte        0.86413  \n",
       "sst2                 0.883455  \n",
       "imdb                 0.904945  \n",
       "super_glue:boolq     0.932004  \n",
       "amazon_polarity      0.967105  "
      ]
     },
     "metadata": {},
     "output_type": "display_data"
    },
    {
     "data": {
      "text/html": [
       "<div>\n",
       "<style scoped>\n",
       "    .dataframe tbody tr th:only-of-type {\n",
       "        vertical-align: middle;\n",
       "    }\n",
       "\n",
       "    .dataframe tbody tr th {\n",
       "        vertical-align: top;\n",
       "    }\n",
       "\n",
       "    .dataframe thead th {\n",
       "        text-align: right;\n",
       "    }\n",
       "</style>\n",
       "<table border=\"1\" class=\"dataframe\">\n",
       "  <thead>\n",
       "    <tr style=\"text-align: right;\">\n",
       "      <th></th>\n",
       "      <th>roc_auc</th>\n",
       "      <th>improvement</th>\n",
       "      <th>acc</th>\n",
       "      <th>n</th>\n",
       "      <th>in_dist_adapter</th>\n",
       "      <th>in_dist_probe</th>\n",
       "      <th>balance</th>\n",
       "      <th>balance_proxy</th>\n",
       "      <th>roc_auc_adapter</th>\n",
       "      <th>roc_auc_base</th>\n",
       "    </tr>\n",
       "  </thead>\n",
       "  <tbody>\n",
       "    <tr>\n",
       "      <th>glue:qnli</th>\n",
       "      <td>0.5</td>\n",
       "      <td>-0.190351</td>\n",
       "      <td>0.647059</td>\n",
       "      <td>68</td>\n",
       "      <td>True</td>\n",
       "      <td>True</td>\n",
       "      <td>0.647059</td>\n",
       "      <td>0.647059</td>\n",
       "      <td>0.609649</td>\n",
       "      <td>0.690351</td>\n",
       "    </tr>\n",
       "    <tr>\n",
       "      <th>hans</th>\n",
       "      <td>0.5</td>\n",
       "      <td>-0.225209</td>\n",
       "      <td>0.672414</td>\n",
       "      <td>58</td>\n",
       "      <td>True</td>\n",
       "      <td>True</td>\n",
       "      <td>0.672414</td>\n",
       "      <td>0.672414</td>\n",
       "      <td>0.618877</td>\n",
       "      <td>0.725209</td>\n",
       "    </tr>\n",
       "    <tr>\n",
       "      <th>super_glue:axg</th>\n",
       "      <td>0.5</td>\n",
       "      <td>-0.317758</td>\n",
       "      <td>0.757485</td>\n",
       "      <td>334</td>\n",
       "      <td>False</td>\n",
       "      <td>False</td>\n",
       "      <td>0.757485</td>\n",
       "      <td>0.757485</td>\n",
       "      <td>0.769721</td>\n",
       "      <td>0.817758</td>\n",
       "    </tr>\n",
       "    <tr>\n",
       "      <th>super_glue:rte</th>\n",
       "      <td>0.5</td>\n",
       "      <td>-0.36413</td>\n",
       "      <td>0.765957</td>\n",
       "      <td>47</td>\n",
       "      <td>True</td>\n",
       "      <td>True</td>\n",
       "      <td>0.765957</td>\n",
       "      <td>0.765957</td>\n",
       "      <td>0.824275</td>\n",
       "      <td>0.86413</td>\n",
       "    </tr>\n",
       "    <tr>\n",
       "      <th>sst2</th>\n",
       "      <td>0.5</td>\n",
       "      <td>-0.383455</td>\n",
       "      <td>0.790323</td>\n",
       "      <td>62</td>\n",
       "      <td>True</td>\n",
       "      <td>True</td>\n",
       "      <td>0.790323</td>\n",
       "      <td>0.790323</td>\n",
       "      <td>0.651405</td>\n",
       "      <td>0.883455</td>\n",
       "    </tr>\n",
       "    <tr>\n",
       "      <th>imdb</th>\n",
       "      <td>0.5</td>\n",
       "      <td>-0.404945</td>\n",
       "      <td>0.844311</td>\n",
       "      <td>334</td>\n",
       "      <td>False</td>\n",
       "      <td>False</td>\n",
       "      <td>0.844311</td>\n",
       "      <td>0.844311</td>\n",
       "      <td>0.808885</td>\n",
       "      <td>0.904945</td>\n",
       "    </tr>\n",
       "    <tr>\n",
       "      <th>super_glue:boolq</th>\n",
       "      <td>0.5</td>\n",
       "      <td>-0.432004</td>\n",
       "      <td>0.847305</td>\n",
       "      <td>334</td>\n",
       "      <td>False</td>\n",
       "      <td>False</td>\n",
       "      <td>0.847305</td>\n",
       "      <td>0.847305</td>\n",
       "      <td>0.896731</td>\n",
       "      <td>0.932004</td>\n",
       "    </tr>\n",
       "    <tr>\n",
       "      <th>amazon_polarity</th>\n",
       "      <td>0.5</td>\n",
       "      <td>-0.467105</td>\n",
       "      <td>0.909091</td>\n",
       "      <td>66</td>\n",
       "      <td>True</td>\n",
       "      <td>True</td>\n",
       "      <td>0.909091</td>\n",
       "      <td>0.909091</td>\n",
       "      <td>0.841165</td>\n",
       "      <td>0.967105</td>\n",
       "    </tr>\n",
       "  </tbody>\n",
       "</table>\n",
       "</div>"
      ],
      "text/plain": [
       "                 roc_auc improvement       acc    n in_dist_adapter  \\\n",
       "glue:qnli            0.5   -0.190351  0.647059   68            True   \n",
       "hans                 0.5   -0.225209  0.672414   58            True   \n",
       "super_glue:axg       0.5   -0.317758  0.757485  334           False   \n",
       "super_glue:rte       0.5    -0.36413  0.765957   47            True   \n",
       "sst2                 0.5   -0.383455  0.790323   62            True   \n",
       "imdb                 0.5   -0.404945  0.844311  334           False   \n",
       "super_glue:boolq     0.5   -0.432004  0.847305  334           False   \n",
       "amazon_polarity      0.5   -0.467105  0.909091   66            True   \n",
       "\n",
       "                 in_dist_probe   balance balance_proxy roc_auc_adapter  \\\n",
       "glue:qnli                 True  0.647059      0.647059        0.609649   \n",
       "hans                      True  0.672414      0.672414        0.618877   \n",
       "super_glue:axg           False  0.757485      0.757485        0.769721   \n",
       "super_glue:rte            True  0.765957      0.765957        0.824275   \n",
       "sst2                      True  0.790323      0.790323        0.651405   \n",
       "imdb                     False  0.844311      0.844311        0.808885   \n",
       "super_glue:boolq         False  0.847305      0.847305        0.896731   \n",
       "amazon_polarity           True  0.909091      0.909091        0.841165   \n",
       "\n",
       "                 roc_auc_base  \n",
       "glue:qnli            0.690351  \n",
       "hans                 0.725209  \n",
       "super_glue:axg       0.817758  \n",
       "super_glue:rte        0.86413  \n",
       "sst2                 0.883455  \n",
       "imdb                 0.904945  \n",
       "super_glue:boolq     0.932004  \n",
       "amazon_polarity      0.967105  "
      ]
     },
     "execution_count": 22,
     "metadata": {},
     "output_type": "execute_result"
    }
   ],
   "source": [
    "print('DummyClassifier')\n",
    "baseline_model = TorchDummyClassifier(random_state=42, strategy=\"most_frequent\")\n",
    "df_res2 = evaluator.eval(baseline_model)\n",
    "insample_datasets = list(set(ds_val['ds_string_base']))\n",
    "analyze_dfres(df_res2, insample_datasets, insample_datasets)"
   ]
  },
  {
   "cell_type": "markdown",
   "metadata": {},
   "source": [
    "# Other models"
   ]
  },
  {
   "cell_type": "code",
   "execution_count": 54,
   "metadata": {},
   "outputs": [],
   "source": [
    "from src.probes.direct_bce_ranking import PLSK_BCE, PLSKWrapper\n",
    "from src.eval.pl_sk import RankingTruthEval, DistTruthEval, RankingObeyEval, PlainObeyEval\n",
    "import numpy as np\n",
    "\n",
    "\n",
    "max_epochs = 10\n",
    "verbose = True\n",
    "batch_size=16"
   ]
  },
  {
   "cell_type": "code",
   "execution_count": null,
   "metadata": {},
   "outputs": [],
   "source": [
    "# Unit test\n",
    "for cls in [RankingTruthEval, DistTruthEval, RankingObeyEval, PlainObeyEval]:\n",
    "    evaluator = cls(ds_trainval=ds_val, ds_test=ds_oos, importance_matrix=importance_matrix)\n",
    "    proxy = evaluator.ds2proxy(ds_val)\n",
    "    y1 = evaluator.proxy2label(proxy, ds_val)\n",
    "    np.testing.assert_array_equal(y1, ds_val['label_true_base'], err_msg=\"undo_distance_truth_telling failed\")"
   ]
  },
  {
   "cell_type": "markdown",
   "metadata": {},
   "source": [
    "### Binary cross entropy"
   ]
  },
  {
   "cell_type": "code",
   "execution_count": null,
   "metadata": {},
   "outputs": [],
   "source": [
    "print('Binary cross entropy')\n",
    "evaluator = RankingTruthEval(ds_trainval=ds_val, ds_test=ds_oos, importance_matrix=importance_matrix)\n",
    "epoch_steps = int(len(ds_val)*0.7//batch_size)\n",
    "\n",
    "_X, _ = evaluator.ds2xy(ds_val)\n",
    "c_in = _X.shape[1:]\n",
    "\n",
    "\n",
    "pl_model = PLSK_BCE(c_in=c_in, epoch_steps=epoch_steps, max_epochs=max_epochs, dropout=0.25, hs=16, depth=3)\n",
    "model = PLSKWrapper(pl_model, verbose=verbose, max_epochs=max_epochs)\n",
    "df_res = evaluator.eval(model)\n",
    "insample_datasets = list(set(ds_val['ds_string_base']))\n",
    "analyze_dfres(df_res, insample_datasets, insample_datasets)"
   ]
  },
  {
   "cell_type": "markdown",
   "metadata": {},
   "source": [
    "### MSE Ranking"
   ]
  },
  {
   "cell_type": "code",
   "execution_count": 49,
   "metadata": {},
   "outputs": [
    {
     "name": "stdout",
     "output_type": "stream",
     "text": [
      "MSE Ranking\n"
     ]
    },
    {
     "name": "stderr",
     "output_type": "stream",
     "text": [
      "Trainer will use only 1 of 2 GPUs because it is running inside an interactive / notebook environment. You may try to set `Trainer(devices=2)` but please note that multi-GPU inside interactive / notebook environments is considered experimental and unstable. Your mileage may vary.\n",
      "GPU available: True (cuda), used: True\n",
      "TPU available: False, using: 0 TPU cores\n",
      "IPU available: False, using: 0 IPUs\n",
      "HPU available: False, using: 0 HPUs\n",
      "LOCAL_RANK: 0 - CUDA_VISIBLE_DEVICES: [0,1]\n",
      "\n",
      "  | Name  | Type      | Params\n",
      "------------------------------------\n",
      "0 | model | HSModel2d | 590 K \n",
      "------------------------------------\n",
      "590 K     Trainable params\n",
      "0         Non-trainable params\n",
      "590 K     Total params\n",
      "2.362     Total estimated model params size (MB)\n"
     ]
    },
    {
     "data": {
      "application/vnd.jupyter.widget-view+json": {
       "model_id": "e97afad5c6e644e8a6a8218465b17956",
       "version_major": 2,
       "version_minor": 0
      },
      "text/plain": [
       "Sanity Checking: |          | 0/? [00:00<?, ?it/s]"
      ]
     },
     "metadata": {},
     "output_type": "display_data"
    },
    {
     "name": "stderr",
     "output_type": "stream",
     "text": [
      "/media/wassname/SGIronWolf/projects5/elk/sgd_probes_are_lie_detectors/.venv/lib/python3.11/site-packages/lightning/pytorch/trainer/connectors/data_connector.py:441: The 'val_dataloader' does not have many workers which may be a bottleneck. Consider increasing the value of the `num_workers` argument` to `num_workers=23` in the `DataLoader` to improve performance.\n",
      "/media/wassname/SGIronWolf/projects5/elk/sgd_probes_are_lie_detectors/.venv/lib/python3.11/site-packages/lightning/pytorch/trainer/connectors/data_connector.py:441: The 'train_dataloader' does not have many workers which may be a bottleneck. Consider increasing the value of the `num_workers` argument` to `num_workers=23` in the `DataLoader` to improve performance.\n"
     ]
    },
    {
     "data": {
      "application/vnd.jupyter.widget-view+json": {
       "model_id": "9ca771a834664d14ba2b3b763a351b58",
       "version_major": 2,
       "version_minor": 0
      },
      "text/plain": [
       "Training: |          | 0/? [00:00<?, ?it/s]"
      ]
     },
     "metadata": {},
     "output_type": "display_data"
    },
    {
     "data": {
      "application/vnd.jupyter.widget-view+json": {
       "model_id": "61d47421f21a4ef69d6ca783f093dde6",
       "version_major": 2,
       "version_minor": 0
      },
      "text/plain": [
       "Validation: |          | 0/? [00:00<?, ?it/s]"
      ]
     },
     "metadata": {},
     "output_type": "display_data"
    },
    {
     "data": {
      "application/vnd.jupyter.widget-view+json": {
       "model_id": "39286665f2de4e65bb6325d4b601af9b",
       "version_major": 2,
       "version_minor": 0
      },
      "text/plain": [
       "Validation: |          | 0/? [00:00<?, ?it/s]"
      ]
     },
     "metadata": {},
     "output_type": "display_data"
    },
    {
     "data": {
      "application/vnd.jupyter.widget-view+json": {
       "model_id": "6690aaf2b33d4a4da1e91818b22359f1",
       "version_major": 2,
       "version_minor": 0
      },
      "text/plain": [
       "Validation: |          | 0/? [00:00<?, ?it/s]"
      ]
     },
     "metadata": {},
     "output_type": "display_data"
    },
    {
     "data": {
      "application/vnd.jupyter.widget-view+json": {
       "model_id": "e2426b1330f14beaa9a958e08c291a23",
       "version_major": 2,
       "version_minor": 0
      },
      "text/plain": [
       "Validation: |          | 0/? [00:00<?, ?it/s]"
      ]
     },
     "metadata": {},
     "output_type": "display_data"
    },
    {
     "data": {
      "application/vnd.jupyter.widget-view+json": {
       "model_id": "c9657b054e9b4d6499cde82c79cd03e0",
       "version_major": 2,
       "version_minor": 0
      },
      "text/plain": [
       "Validation: |          | 0/? [00:00<?, ?it/s]"
      ]
     },
     "metadata": {},
     "output_type": "display_data"
    },
    {
     "data": {
      "application/vnd.jupyter.widget-view+json": {
       "model_id": "cb761cf527be4612b30fbcc303d8c7d9",
       "version_major": 2,
       "version_minor": 0
      },
      "text/plain": [
       "Validation: |          | 0/? [00:00<?, ?it/s]"
      ]
     },
     "metadata": {},
     "output_type": "display_data"
    },
    {
     "data": {
      "application/vnd.jupyter.widget-view+json": {
       "model_id": "2820ca1c70064e6a908375627a8f531a",
       "version_major": 2,
       "version_minor": 0
      },
      "text/plain": [
       "Validation: |          | 0/? [00:00<?, ?it/s]"
      ]
     },
     "metadata": {},
     "output_type": "display_data"
    },
    {
     "data": {
      "application/vnd.jupyter.widget-view+json": {
       "model_id": "256383282f6d485195950935b762cabd",
       "version_major": 2,
       "version_minor": 0
      },
      "text/plain": [
       "Validation: |          | 0/? [00:00<?, ?it/s]"
      ]
     },
     "metadata": {},
     "output_type": "display_data"
    },
    {
     "data": {
      "application/vnd.jupyter.widget-view+json": {
       "model_id": "164946ccc33d47cb96cb5cd044c2b0db",
       "version_major": 2,
       "version_minor": 0
      },
      "text/plain": [
       "Validation: |          | 0/? [00:00<?, ?it/s]"
      ]
     },
     "metadata": {},
     "output_type": "display_data"
    },
    {
     "data": {
      "application/vnd.jupyter.widget-view+json": {
       "model_id": "8ad85b71ccab43d39f3a76df5ea1a4ad",
       "version_major": 2,
       "version_minor": 0
      },
      "text/plain": [
       "Validation: |          | 0/? [00:00<?, ?it/s]"
      ]
     },
     "metadata": {},
     "output_type": "display_data"
    },
    {
     "name": "stderr",
     "output_type": "stream",
     "text": [
      "`Trainer.fit` stopped: `max_epochs=10` reached.\n"
     ]
    },
    {
     "data": {
      "image/png": "[encoded data removed]",
      "text/plain": [
       "<Figure size 800x550 with 1 Axes>"
      ]
     },
     "metadata": {},
     "output_type": "display_data"
    },
    {
     "name": "stderr",
     "output_type": "stream",
     "text": [
      "LOCAL_RANK: 0 - CUDA_VISIBLE_DEVICES: [0,1]\n",
      "/media/wassname/SGIronWolf/projects5/elk/sgd_probes_are_lie_detectors/.venv/lib/python3.11/site-packages/lightning/pytorch/trainer/connectors/data_connector.py:441: The 'predict_dataloader' does not have many workers which may be a bottleneck. Consider increasing the value of the `num_workers` argument` to `num_workers=23` in the `DataLoader` to improve performance.\n"
     ]
    },
    {
     "data": {
      "application/vnd.jupyter.widget-view+json": {
       "model_id": "fb90cdb2114e4a24a0ddc5376668aa33",
       "version_major": 2,
       "version_minor": 0
      },
      "text/plain": [
       "Predicting: |          | 0/? [00:00<?, ?it/s]"
      ]
     },
     "metadata": {},
     "output_type": "display_data"
    },
    {
     "name": "stderr",
     "output_type": "stream",
     "text": [
      "LOCAL_RANK: 0 - CUDA_VISIBLE_DEVICES: [0,1]\n",
      "/media/wassname/SGIronWolf/projects5/elk/sgd_probes_are_lie_detectors/.venv/lib/python3.11/site-packages/lightning/pytorch/trainer/connectors/data_connector.py:441: The 'predict_dataloader' does not have many workers which may be a bottleneck. Consider increasing the value of the `num_workers` argument` to `num_workers=23` in the `DataLoader` to improve performance.\n"
     ]
    },
    {
     "data": {
      "application/vnd.jupyter.widget-view+json": {
       "model_id": "c0f8a621ff4c45388561a2da3a365eee",
       "version_major": 2,
       "version_minor": 0
      },
      "text/plain": [
       "Predicting: |          | 0/? [00:00<?, ?it/s]"
      ]
     },
     "metadata": {},
     "output_type": "display_data"
    },
    {
     "name": "stderr",
     "output_type": "stream",
     "text": [
      "LOCAL_RANK: 0 - CUDA_VISIBLE_DEVICES: [0,1]\n",
      "/media/wassname/SGIronWolf/projects5/elk/sgd_probes_are_lie_detectors/.venv/lib/python3.11/site-packages/lightning/pytorch/trainer/connectors/data_connector.py:441: The 'predict_dataloader' does not have many workers which may be a bottleneck. Consider increasing the value of the `num_workers` argument` to `num_workers=23` in the `DataLoader` to improve performance.\n"
     ]
    },
    {
     "data": {
      "application/vnd.jupyter.widget-view+json": {
       "model_id": "41e364ffba7247eca4cb94833ad1d6f6",
       "version_major": 2,
       "version_minor": 0
      },
      "text/plain": [
       "Predicting: |          | 0/? [00:00<?, ?it/s]"
      ]
     },
     "metadata": {},
     "output_type": "display_data"
    },
    {
     "name": "stdout",
     "output_type": "stream",
     "text": [
      "⭐ main_metric: 0.769 ⭐ roc_auc for 1002 OOD samples\n"
     ]
    },
    {
     "data": {
      "text/html": [
       "<div>\n",
       "<style scoped>\n",
       "    .dataframe tbody tr th:only-of-type {\n",
       "        vertical-align: middle;\n",
       "    }\n",
       "\n",
       "    .dataframe tbody tr th {\n",
       "        vertical-align: top;\n",
       "    }\n",
       "\n",
       "    .dataframe thead th {\n",
       "        text-align: right;\n",
       "    }\n",
       "</style>\n",
       "<table border=\"1\" class=\"dataframe\">\n",
       "  <thead>\n",
       "    <tr style=\"text-align: right;\">\n",
       "      <th></th>\n",
       "      <th>roc_auc</th>\n",
       "      <th>improvement</th>\n",
       "      <th>acc</th>\n",
       "      <th>n</th>\n",
       "      <th>in_dist_adapter</th>\n",
       "      <th>in_dist_probe</th>\n",
       "      <th>balance</th>\n",
       "      <th>balance_proxy</th>\n",
       "      <th>roc_auc_adapter</th>\n",
       "      <th>roc_auc_base</th>\n",
       "    </tr>\n",
       "  </thead>\n",
       "  <tbody>\n",
       "    <tr>\n",
       "      <th>sst2</th>\n",
       "      <td>0.858481</td>\n",
       "      <td>-0.024974</td>\n",
       "      <td>0.854839</td>\n",
       "      <td>62</td>\n",
       "      <td>True</td>\n",
       "      <td>True</td>\n",
       "      <td>0.5</td>\n",
       "      <td>0.854839</td>\n",
       "      <td>0.651405</td>\n",
       "      <td>0.883455</td>\n",
       "    </tr>\n",
       "    <tr>\n",
       "      <th>glue:qnli</th>\n",
       "      <td>0.631579</td>\n",
       "      <td>-0.058772</td>\n",
       "      <td>0.661765</td>\n",
       "      <td>68</td>\n",
       "      <td>True</td>\n",
       "      <td>True</td>\n",
       "      <td>0.558824</td>\n",
       "      <td>0.661765</td>\n",
       "      <td>0.609649</td>\n",
       "      <td>0.690351</td>\n",
       "    </tr>\n",
       "    <tr>\n",
       "      <th>super_glue:boolq</th>\n",
       "      <td>0.859734</td>\n",
       "      <td>-0.07227</td>\n",
       "      <td>0.850299</td>\n",
       "      <td>334</td>\n",
       "      <td>False</td>\n",
       "      <td>False</td>\n",
       "      <td>0.479042</td>\n",
       "      <td>0.850299</td>\n",
       "      <td>0.896731</td>\n",
       "      <td>0.932004</td>\n",
       "    </tr>\n",
       "    <tr>\n",
       "      <th>amazon_polarity</th>\n",
       "      <td>0.871241</td>\n",
       "      <td>-0.095865</td>\n",
       "      <td>0.893939</td>\n",
       "      <td>66</td>\n",
       "      <td>True</td>\n",
       "      <td>True</td>\n",
       "      <td>0.575758</td>\n",
       "      <td>0.893939</td>\n",
       "      <td>0.841165</td>\n",
       "      <td>0.967105</td>\n",
       "    </tr>\n",
       "    <tr>\n",
       "      <th>super_glue:axg</th>\n",
       "      <td>0.70435</td>\n",
       "      <td>-0.113408</td>\n",
       "      <td>0.700599</td>\n",
       "      <td>334</td>\n",
       "      <td>False</td>\n",
       "      <td>False</td>\n",
       "      <td>0.51497</td>\n",
       "      <td>0.700599</td>\n",
       "      <td>0.769721</td>\n",
       "      <td>0.817758</td>\n",
       "    </tr>\n",
       "    <tr>\n",
       "      <th>hans</th>\n",
       "      <td>0.610514</td>\n",
       "      <td>-0.114695</td>\n",
       "      <td>0.655172</td>\n",
       "      <td>58</td>\n",
       "      <td>True</td>\n",
       "      <td>True</td>\n",
       "      <td>0.465517</td>\n",
       "      <td>0.655172</td>\n",
       "      <td>0.618877</td>\n",
       "      <td>0.725209</td>\n",
       "    </tr>\n",
       "    <tr>\n",
       "      <th>imdb</th>\n",
       "      <td>0.788124</td>\n",
       "      <td>-0.11682</td>\n",
       "      <td>0.832335</td>\n",
       "      <td>334</td>\n",
       "      <td>False</td>\n",
       "      <td>False</td>\n",
       "      <td>0.5</td>\n",
       "      <td>0.832335</td>\n",
       "      <td>0.808885</td>\n",
       "      <td>0.904945</td>\n",
       "    </tr>\n",
       "    <tr>\n",
       "      <th>super_glue:rte</th>\n",
       "      <td>0.572464</td>\n",
       "      <td>-0.291667</td>\n",
       "      <td>0.723404</td>\n",
       "      <td>47</td>\n",
       "      <td>True</td>\n",
       "      <td>True</td>\n",
       "      <td>0.489362</td>\n",
       "      <td>0.723404</td>\n",
       "      <td>0.824275</td>\n",
       "      <td>0.86413</td>\n",
       "    </tr>\n",
       "  </tbody>\n",
       "</table>\n",
       "</div>"
      ],
      "text/plain": [
       "                   roc_auc improvement       acc    n in_dist_adapter  \\\n",
       "sst2              0.858481   -0.024974  0.854839   62            True   \n",
       "glue:qnli         0.631579   -0.058772  0.661765   68            True   \n",
       "super_glue:boolq  0.859734    -0.07227  0.850299  334           False   \n",
       "amazon_polarity   0.871241   -0.095865  0.893939   66            True   \n",
       "super_glue:axg     0.70435   -0.113408  0.700599  334           False   \n",
       "hans              0.610514   -0.114695  0.655172   58            True   \n",
       "imdb              0.788124    -0.11682  0.832335  334           False   \n",
       "super_glue:rte    0.572464   -0.291667  0.723404   47            True   \n",
       "\n",
       "                 in_dist_probe   balance balance_proxy roc_auc_adapter  \\\n",
       "sst2                      True       0.5      0.854839        0.651405   \n",
       "glue:qnli                 True  0.558824      0.661765        0.609649   \n",
       "super_glue:boolq         False  0.479042      0.850299        0.896731   \n",
       "amazon_polarity           True  0.575758      0.893939        0.841165   \n",
       "super_glue:axg           False   0.51497      0.700599        0.769721   \n",
       "hans                      True  0.465517      0.655172        0.618877   \n",
       "imdb                     False       0.5      0.832335        0.808885   \n",
       "super_glue:rte            True  0.489362      0.723404        0.824275   \n",
       "\n",
       "                 roc_auc_base  \n",
       "sst2                 0.883455  \n",
       "glue:qnli            0.690351  \n",
       "super_glue:boolq     0.932004  \n",
       "amazon_polarity      0.967105  \n",
       "super_glue:axg       0.817758  \n",
       "hans                 0.725209  \n",
       "imdb                 0.904945  \n",
       "super_glue:rte        0.86413  "
      ]
     },
     "metadata": {},
     "output_type": "display_data"
    },
    {
     "data": {
      "text/html": [
       "<div>\n",
       "<style scoped>\n",
       "    .dataframe tbody tr th:only-of-type {\n",
       "        vertical-align: middle;\n",
       "    }\n",
       "\n",
       "    .dataframe tbody tr th {\n",
       "        vertical-align: top;\n",
       "    }\n",
       "\n",
       "    .dataframe thead th {\n",
       "        text-align: right;\n",
       "    }\n",
       "</style>\n",
       "<table border=\"1\" class=\"dataframe\">\n",
       "  <thead>\n",
       "    <tr style=\"text-align: right;\">\n",
       "      <th></th>\n",
       "      <th>roc_auc</th>\n",
       "      <th>improvement</th>\n",
       "      <th>acc</th>\n",
       "      <th>n</th>\n",
       "      <th>in_dist_adapter</th>\n",
       "      <th>in_dist_probe</th>\n",
       "      <th>balance</th>\n",
       "      <th>balance_proxy</th>\n",
       "      <th>roc_auc_adapter</th>\n",
       "      <th>roc_auc_base</th>\n",
       "    </tr>\n",
       "  </thead>\n",
       "  <tbody>\n",
       "    <tr>\n",
       "      <th>sst2</th>\n",
       "      <td>0.858481</td>\n",
       "      <td>-0.024974</td>\n",
       "      <td>0.854839</td>\n",
       "      <td>62</td>\n",
       "      <td>True</td>\n",
       "      <td>True</td>\n",
       "      <td>0.5</td>\n",
       "      <td>0.854839</td>\n",
       "      <td>0.651405</td>\n",
       "      <td>0.883455</td>\n",
       "    </tr>\n",
       "    <tr>\n",
       "      <th>glue:qnli</th>\n",
       "      <td>0.631579</td>\n",
       "      <td>-0.058772</td>\n",
       "      <td>0.661765</td>\n",
       "      <td>68</td>\n",
       "      <td>True</td>\n",
       "      <td>True</td>\n",
       "      <td>0.558824</td>\n",
       "      <td>0.661765</td>\n",
       "      <td>0.609649</td>\n",
       "      <td>0.690351</td>\n",
       "    </tr>\n",
       "    <tr>\n",
       "      <th>super_glue:boolq</th>\n",
       "      <td>0.859734</td>\n",
       "      <td>-0.07227</td>\n",
       "      <td>0.850299</td>\n",
       "      <td>334</td>\n",
       "      <td>False</td>\n",
       "      <td>False</td>\n",
       "      <td>0.479042</td>\n",
       "      <td>0.850299</td>\n",
       "      <td>0.896731</td>\n",
       "      <td>0.932004</td>\n",
       "    </tr>\n",
       "    <tr>\n",
       "      <th>amazon_polarity</th>\n",
       "      <td>0.871241</td>\n",
       "      <td>-0.095865</td>\n",
       "      <td>0.893939</td>\n",
       "      <td>66</td>\n",
       "      <td>True</td>\n",
       "      <td>True</td>\n",
       "      <td>0.575758</td>\n",
       "      <td>0.893939</td>\n",
       "      <td>0.841165</td>\n",
       "      <td>0.967105</td>\n",
       "    </tr>\n",
       "    <tr>\n",
       "      <th>super_glue:axg</th>\n",
       "      <td>0.70435</td>\n",
       "      <td>-0.113408</td>\n",
       "      <td>0.700599</td>\n",
       "      <td>334</td>\n",
       "      <td>False</td>\n",
       "      <td>False</td>\n",
       "      <td>0.51497</td>\n",
       "      <td>0.700599</td>\n",
       "      <td>0.769721</td>\n",
       "      <td>0.817758</td>\n",
       "    </tr>\n",
       "    <tr>\n",
       "      <th>hans</th>\n",
       "      <td>0.610514</td>\n",
       "      <td>-0.114695</td>\n",
       "      <td>0.655172</td>\n",
       "      <td>58</td>\n",
       "      <td>True</td>\n",
       "      <td>True</td>\n",
       "      <td>0.465517</td>\n",
       "      <td>0.655172</td>\n",
       "      <td>0.618877</td>\n",
       "      <td>0.725209</td>\n",
       "    </tr>\n",
       "    <tr>\n",
       "      <th>imdb</th>\n",
       "      <td>0.788124</td>\n",
       "      <td>-0.11682</td>\n",
       "      <td>0.832335</td>\n",
       "      <td>334</td>\n",
       "      <td>False</td>\n",
       "      <td>False</td>\n",
       "      <td>0.5</td>\n",
       "      <td>0.832335</td>\n",
       "      <td>0.808885</td>\n",
       "      <td>0.904945</td>\n",
       "    </tr>\n",
       "    <tr>\n",
       "      <th>super_glue:rte</th>\n",
       "      <td>0.572464</td>\n",
       "      <td>-0.291667</td>\n",
       "      <td>0.723404</td>\n",
       "      <td>47</td>\n",
       "      <td>True</td>\n",
       "      <td>True</td>\n",
       "      <td>0.489362</td>\n",
       "      <td>0.723404</td>\n",
       "      <td>0.824275</td>\n",
       "      <td>0.86413</td>\n",
       "    </tr>\n",
       "  </tbody>\n",
       "</table>\n",
       "</div>"
      ],
      "text/plain": [
       "                   roc_auc improvement       acc    n in_dist_adapter  \\\n",
       "sst2              0.858481   -0.024974  0.854839   62            True   \n",
       "glue:qnli         0.631579   -0.058772  0.661765   68            True   \n",
       "super_glue:boolq  0.859734    -0.07227  0.850299  334           False   \n",
       "amazon_polarity   0.871241   -0.095865  0.893939   66            True   \n",
       "super_glue:axg     0.70435   -0.113408  0.700599  334           False   \n",
       "hans              0.610514   -0.114695  0.655172   58            True   \n",
       "imdb              0.788124    -0.11682  0.832335  334           False   \n",
       "super_glue:rte    0.572464   -0.291667  0.723404   47            True   \n",
       "\n",
       "                 in_dist_probe   balance balance_proxy roc_auc_adapter  \\\n",
       "sst2                      True       0.5      0.854839        0.651405   \n",
       "glue:qnli                 True  0.558824      0.661765        0.609649   \n",
       "super_glue:boolq         False  0.479042      0.850299        0.896731   \n",
       "amazon_polarity           True  0.575758      0.893939        0.841165   \n",
       "super_glue:axg           False   0.51497      0.700599        0.769721   \n",
       "hans                      True  0.465517      0.655172        0.618877   \n",
       "imdb                     False       0.5      0.832335        0.808885   \n",
       "super_glue:rte            True  0.489362      0.723404        0.824275   \n",
       "\n",
       "                 roc_auc_base  \n",
       "sst2                 0.883455  \n",
       "glue:qnli            0.690351  \n",
       "super_glue:boolq     0.932004  \n",
       "amazon_polarity      0.967105  \n",
       "super_glue:axg       0.817758  \n",
       "hans                 0.725209  \n",
       "imdb                 0.904945  \n",
       "super_glue:rte        0.86413  "
      ]
     },
     "execution_count": 49,
     "metadata": {},
     "output_type": "execute_result"
    }
   ],
   "source": [
    "from src.probes.mse_ranking import PLSKMSErank\n",
    "\n",
    "print('MSE Ranking')\n",
    "evaluator = RankingTruthEval(ds_trainval=ds_val, ds_test=ds_oos, importance_matrix=importance_matrix)\n",
    "epoch_steps = int(len(ds_val)*0.7//batch_size)\n",
    "\n",
    "_X, _ = evaluator.ds2xy(ds_val)\n",
    "c_in = _X.shape[1:]\n",
    "\n",
    "\n",
    "pl_model = PLSKMSErank(c_in=c_in, epoch_steps=epoch_steps, max_epochs=max_epochs, dropout=0.25, hs=16, depth=3)\n",
    "model = PLSKWrapper(pl_model, verbose=verbose, max_epochs=max_epochs)\n",
    "df_res = evaluator.eval(model)\n",
    "insample_datasets = list(set(ds_val['ds_string_base']))\n",
    "analyze_dfres(df_res, insample_datasets, insample_datasets)"
   ]
  },
  {
   "cell_type": "markdown",
   "metadata": {},
   "source": [
    "### Bool ranking"
   ]
  },
  {
   "cell_type": "code",
   "execution_count": null,
   "metadata": {},
   "outputs": [],
   "source": []
  },
  {
   "cell_type": "code",
   "execution_count": 51,
   "metadata": {},
   "outputs": [
    {
     "name": "stdout",
     "output_type": "stream",
     "text": [
      "MSE Ranking\n"
     ]
    },
    {
     "name": "stderr",
     "output_type": "stream",
     "text": [
      "Trainer will use only 1 of 2 GPUs because it is running inside an interactive / notebook environment. You may try to set `Trainer(devices=2)` but please note that multi-GPU inside interactive / notebook environments is considered experimental and unstable. Your mileage may vary.\n",
      "GPU available: True (cuda), used: True\n",
      "TPU available: False, using: 0 TPU cores\n",
      "IPU available: False, using: 0 IPUs\n",
      "HPU available: False, using: 0 HPUs\n",
      "LOCAL_RANK: 0 - CUDA_VISIBLE_DEVICES: [0,1]\n",
      "\n",
      "  | Name  | Type      | Params\n",
      "------------------------------------\n",
      "0 | model | HSModel2d | 590 K \n",
      "------------------------------------\n",
      "590 K     Trainable params\n",
      "0         Non-trainable params\n",
      "590 K     Total params\n",
      "2.362     Total estimated model params size (MB)\n"
     ]
    },
    {
     "data": {
      "application/vnd.jupyter.widget-view+json": {
       "model_id": "d92e13e9814148dfa156326ba9a5f51c",
       "version_major": 2,
       "version_minor": 0
      },
      "text/plain": [
       "Sanity Checking: |          | 0/? [00:00<?, ?it/s]"
      ]
     },
     "metadata": {},
     "output_type": "display_data"
    },
    {
     "name": "stderr",
     "output_type": "stream",
     "text": [
      "/media/wassname/SGIronWolf/projects5/elk/sgd_probes_are_lie_detectors/.venv/lib/python3.11/site-packages/lightning/pytorch/trainer/connectors/data_connector.py:441: The 'val_dataloader' does not have many workers which may be a bottleneck. Consider increasing the value of the `num_workers` argument` to `num_workers=23` in the `DataLoader` to improve performance.\n",
      "/media/wassname/SGIronWolf/projects5/elk/sgd_probes_are_lie_detectors/.venv/lib/python3.11/site-packages/lightning/pytorch/trainer/connectors/data_connector.py:441: The 'train_dataloader' does not have many workers which may be a bottleneck. Consider increasing the value of the `num_workers` argument` to `num_workers=23` in the `DataLoader` to improve performance.\n"
     ]
    },
    {
     "data": {
      "application/vnd.jupyter.widget-view+json": {
       "model_id": "f5a0a4fc98094929bc14740a16328cd5",
       "version_major": 2,
       "version_minor": 0
      },
      "text/plain": [
       "Training: |          | 0/? [00:00<?, ?it/s]"
      ]
     },
     "metadata": {},
     "output_type": "display_data"
    },
    {
     "data": {
      "application/vnd.jupyter.widget-view+json": {
       "model_id": "118f114476364b5c870dcfed3297bb45",
       "version_major": 2,
       "version_minor": 0
      },
      "text/plain": [
       "Validation: |          | 0/? [00:00<?, ?it/s]"
      ]
     },
     "metadata": {},
     "output_type": "display_data"
    },
    {
     "data": {
      "application/vnd.jupyter.widget-view+json": {
       "model_id": "f68f07afbd99475b8c32604311acccfb",
       "version_major": 2,
       "version_minor": 0
      },
      "text/plain": [
       "Validation: |          | 0/? [00:00<?, ?it/s]"
      ]
     },
     "metadata": {},
     "output_type": "display_data"
    },
    {
     "data": {
      "application/vnd.jupyter.widget-view+json": {
       "model_id": "f94ff9d5d7034bb1bad347994e5ac192",
       "version_major": 2,
       "version_minor": 0
      },
      "text/plain": [
       "Validation: |          | 0/? [00:00<?, ?it/s]"
      ]
     },
     "metadata": {},
     "output_type": "display_data"
    },
    {
     "data": {
      "application/vnd.jupyter.widget-view+json": {
       "model_id": "ed2d64e7386a454f80f11db6a6f2de60",
       "version_major": 2,
       "version_minor": 0
      },
      "text/plain": [
       "Validation: |          | 0/? [00:00<?, ?it/s]"
      ]
     },
     "metadata": {},
     "output_type": "display_data"
    },
    {
     "data": {
      "application/vnd.jupyter.widget-view+json": {
       "model_id": "55af6e35f1134b718271d6c782ecb15e",
       "version_major": 2,
       "version_minor": 0
      },
      "text/plain": [
       "Validation: |          | 0/? [00:00<?, ?it/s]"
      ]
     },
     "metadata": {},
     "output_type": "display_data"
    },
    {
     "data": {
      "application/vnd.jupyter.widget-view+json": {
       "model_id": "bf5d96904e7f4b7b9ac149e06a7a690c",
       "version_major": 2,
       "version_minor": 0
      },
      "text/plain": [
       "Validation: |          | 0/? [00:00<?, ?it/s]"
      ]
     },
     "metadata": {},
     "output_type": "display_data"
    },
    {
     "data": {
      "application/vnd.jupyter.widget-view+json": {
       "model_id": "774dd4a955ed4c6a9503fd91a2d58f99",
       "version_major": 2,
       "version_minor": 0
      },
      "text/plain": [
       "Validation: |          | 0/? [00:00<?, ?it/s]"
      ]
     },
     "metadata": {},
     "output_type": "display_data"
    },
    {
     "data": {
      "application/vnd.jupyter.widget-view+json": {
       "model_id": "5687e83027c743198a4ed2f23a2ac2a3",
       "version_major": 2,
       "version_minor": 0
      },
      "text/plain": [
       "Validation: |          | 0/? [00:00<?, ?it/s]"
      ]
     },
     "metadata": {},
     "output_type": "display_data"
    },
    {
     "data": {
      "application/vnd.jupyter.widget-view+json": {
       "model_id": "01d1b999b12c4df5b3736d913f3df19d",
       "version_major": 2,
       "version_minor": 0
      },
      "text/plain": [
       "Validation: |          | 0/? [00:00<?, ?it/s]"
      ]
     },
     "metadata": {},
     "output_type": "display_data"
    },
    {
     "data": {
      "application/vnd.jupyter.widget-view+json": {
       "model_id": "13800fb769be4321aedc594627d87795",
       "version_major": 2,
       "version_minor": 0
      },
      "text/plain": [
       "Validation: |          | 0/? [00:00<?, ?it/s]"
      ]
     },
     "metadata": {},
     "output_type": "display_data"
    },
    {
     "name": "stderr",
     "output_type": "stream",
     "text": [
      "`Trainer.fit` stopped: `max_epochs=10` reached.\n"
     ]
    },
    {
     "data": {
      "image/png": "[encoded data removed]",
      "text/plain": [
       "<Figure size 800x550 with 1 Axes>"
      ]
     },
     "metadata": {},
     "output_type": "display_data"
    },
    {
     "name": "stderr",
     "output_type": "stream",
     "text": [
      "LOCAL_RANK: 0 - CUDA_VISIBLE_DEVICES: [0,1]\n",
      "/media/wassname/SGIronWolf/projects5/elk/sgd_probes_are_lie_detectors/.venv/lib/python3.11/site-packages/lightning/pytorch/trainer/connectors/data_connector.py:441: The 'predict_dataloader' does not have many workers which may be a bottleneck. Consider increasing the value of the `num_workers` argument` to `num_workers=23` in the `DataLoader` to improve performance.\n"
     ]
    },
    {
     "data": {
      "application/vnd.jupyter.widget-view+json": {
       "model_id": "daba659df0ac41e699271aecb483b6b0",
       "version_major": 2,
       "version_minor": 0
      },
      "text/plain": [
       "Predicting: |          | 0/? [00:00<?, ?it/s]"
      ]
     },
     "metadata": {},
     "output_type": "display_data"
    },
    {
     "name": "stderr",
     "output_type": "stream",
     "text": [
      "LOCAL_RANK: 0 - CUDA_VISIBLE_DEVICES: [0,1]\n",
      "/media/wassname/SGIronWolf/projects5/elk/sgd_probes_are_lie_detectors/.venv/lib/python3.11/site-packages/lightning/pytorch/trainer/connectors/data_connector.py:441: The 'predict_dataloader' does not have many workers which may be a bottleneck. Consider increasing the value of the `num_workers` argument` to `num_workers=23` in the `DataLoader` to improve performance.\n"
     ]
    },
    {
     "data": {
      "application/vnd.jupyter.widget-view+json": {
       "model_id": "53d9b88fe92142b28961d7e97702759c",
       "version_major": 2,
       "version_minor": 0
      },
      "text/plain": [
       "Predicting: |          | 0/? [00:00<?, ?it/s]"
      ]
     },
     "metadata": {},
     "output_type": "display_data"
    },
    {
     "name": "stderr",
     "output_type": "stream",
     "text": [
      "LOCAL_RANK: 0 - CUDA_VISIBLE_DEVICES: [0,1]\n",
      "/media/wassname/SGIronWolf/projects5/elk/sgd_probes_are_lie_detectors/.venv/lib/python3.11/site-packages/lightning/pytorch/trainer/connectors/data_connector.py:441: The 'predict_dataloader' does not have many workers which may be a bottleneck. Consider increasing the value of the `num_workers` argument` to `num_workers=23` in the `DataLoader` to improve performance.\n"
     ]
    },
    {
     "data": {
      "application/vnd.jupyter.widget-view+json": {
       "model_id": "ccf4ff261880417ea4d4daff5279fe68",
       "version_major": 2,
       "version_minor": 0
      },
      "text/plain": [
       "Predicting: |          | 0/? [00:00<?, ?it/s]"
      ]
     },
     "metadata": {},
     "output_type": "display_data"
    },
    {
     "name": "stdout",
     "output_type": "stream",
     "text": [
      "⭐ main_metric: 0.786 ⭐ roc_auc for 1002 OOD samples\n"
     ]
    },
    {
     "data": {
      "text/html": [
       "<div>\n",
       "<style scoped>\n",
       "    .dataframe tbody tr th:only-of-type {\n",
       "        vertical-align: middle;\n",
       "    }\n",
       "\n",
       "    .dataframe tbody tr th {\n",
       "        vertical-align: top;\n",
       "    }\n",
       "\n",
       "    .dataframe thead th {\n",
       "        text-align: right;\n",
       "    }\n",
       "</style>\n",
       "<table border=\"1\" class=\"dataframe\">\n",
       "  <thead>\n",
       "    <tr style=\"text-align: right;\">\n",
       "      <th></th>\n",
       "      <th>roc_auc</th>\n",
       "      <th>improvement</th>\n",
       "      <th>acc</th>\n",
       "      <th>n</th>\n",
       "      <th>in_dist_adapter</th>\n",
       "      <th>in_dist_probe</th>\n",
       "      <th>balance</th>\n",
       "      <th>balance_proxy</th>\n",
       "      <th>roc_auc_adapter</th>\n",
       "      <th>roc_auc_base</th>\n",
       "    </tr>\n",
       "  </thead>\n",
       "  <tbody>\n",
       "    <tr>\n",
       "      <th>hans</th>\n",
       "      <td>0.721625</td>\n",
       "      <td>-0.003584</td>\n",
       "      <td>0.655172</td>\n",
       "      <td>58</td>\n",
       "      <td>True</td>\n",
       "      <td>True</td>\n",
       "      <td>0.465517</td>\n",
       "      <td>0.655172</td>\n",
       "      <td>0.618877</td>\n",
       "      <td>0.725209</td>\n",
       "    </tr>\n",
       "    <tr>\n",
       "      <th>sst2</th>\n",
       "      <td>0.867846</td>\n",
       "      <td>-0.015609</td>\n",
       "      <td>0.854839</td>\n",
       "      <td>62</td>\n",
       "      <td>True</td>\n",
       "      <td>True</td>\n",
       "      <td>0.5</td>\n",
       "      <td>0.854839</td>\n",
       "      <td>0.651405</td>\n",
       "      <td>0.883455</td>\n",
       "    </tr>\n",
       "    <tr>\n",
       "      <th>glue:qnli</th>\n",
       "      <td>0.657895</td>\n",
       "      <td>-0.032456</td>\n",
       "      <td>0.661765</td>\n",
       "      <td>68</td>\n",
       "      <td>True</td>\n",
       "      <td>True</td>\n",
       "      <td>0.558824</td>\n",
       "      <td>0.661765</td>\n",
       "      <td>0.609649</td>\n",
       "      <td>0.690351</td>\n",
       "    </tr>\n",
       "    <tr>\n",
       "      <th>super_glue:boolq</th>\n",
       "      <td>0.87967</td>\n",
       "      <td>-0.052335</td>\n",
       "      <td>0.850299</td>\n",
       "      <td>334</td>\n",
       "      <td>False</td>\n",
       "      <td>False</td>\n",
       "      <td>0.479042</td>\n",
       "      <td>0.850299</td>\n",
       "      <td>0.896731</td>\n",
       "      <td>0.932004</td>\n",
       "    </tr>\n",
       "    <tr>\n",
       "      <th>amazon_polarity</th>\n",
       "      <td>0.913534</td>\n",
       "      <td>-0.053571</td>\n",
       "      <td>0.893939</td>\n",
       "      <td>66</td>\n",
       "      <td>True</td>\n",
       "      <td>True</td>\n",
       "      <td>0.575758</td>\n",
       "      <td>0.893939</td>\n",
       "      <td>0.841165</td>\n",
       "      <td>0.967105</td>\n",
       "    </tr>\n",
       "    <tr>\n",
       "      <th>imdb</th>\n",
       "      <td>0.803184</td>\n",
       "      <td>-0.101761</td>\n",
       "      <td>0.832335</td>\n",
       "      <td>334</td>\n",
       "      <td>False</td>\n",
       "      <td>False</td>\n",
       "      <td>0.5</td>\n",
       "      <td>0.832335</td>\n",
       "      <td>0.808885</td>\n",
       "      <td>0.904945</td>\n",
       "    </tr>\n",
       "    <tr>\n",
       "      <th>super_glue:axg</th>\n",
       "      <td>0.703758</td>\n",
       "      <td>-0.114</td>\n",
       "      <td>0.700599</td>\n",
       "      <td>334</td>\n",
       "      <td>False</td>\n",
       "      <td>False</td>\n",
       "      <td>0.51497</td>\n",
       "      <td>0.700599</td>\n",
       "      <td>0.769721</td>\n",
       "      <td>0.817758</td>\n",
       "    </tr>\n",
       "    <tr>\n",
       "      <th>super_glue:rte</th>\n",
       "      <td>0.644928</td>\n",
       "      <td>-0.219203</td>\n",
       "      <td>0.723404</td>\n",
       "      <td>47</td>\n",
       "      <td>True</td>\n",
       "      <td>True</td>\n",
       "      <td>0.489362</td>\n",
       "      <td>0.723404</td>\n",
       "      <td>0.824275</td>\n",
       "      <td>0.86413</td>\n",
       "    </tr>\n",
       "  </tbody>\n",
       "</table>\n",
       "</div>"
      ],
      "text/plain": [
       "                   roc_auc improvement       acc    n in_dist_adapter  \\\n",
       "hans              0.721625   -0.003584  0.655172   58            True   \n",
       "sst2              0.867846   -0.015609  0.854839   62            True   \n",
       "glue:qnli         0.657895   -0.032456  0.661765   68            True   \n",
       "super_glue:boolq   0.87967   -0.052335  0.850299  334           False   \n",
       "amazon_polarity   0.913534   -0.053571  0.893939   66            True   \n",
       "imdb              0.803184   -0.101761  0.832335  334           False   \n",
       "super_glue:axg    0.703758      -0.114  0.700599  334           False   \n",
       "super_glue:rte    0.644928   -0.219203  0.723404   47            True   \n",
       "\n",
       "                 in_dist_probe   balance balance_proxy roc_auc_adapter  \\\n",
       "hans                      True  0.465517      0.655172        0.618877   \n",
       "sst2                      True       0.5      0.854839        0.651405   \n",
       "glue:qnli                 True  0.558824      0.661765        0.609649   \n",
       "super_glue:boolq         False  0.479042      0.850299        0.896731   \n",
       "amazon_polarity           True  0.575758      0.893939        0.841165   \n",
       "imdb                     False       0.5      0.832335        0.808885   \n",
       "super_glue:axg           False   0.51497      0.700599        0.769721   \n",
       "super_glue:rte            True  0.489362      0.723404        0.824275   \n",
       "\n",
       "                 roc_auc_base  \n",
       "hans                 0.725209  \n",
       "sst2                 0.883455  \n",
       "glue:qnli            0.690351  \n",
       "super_glue:boolq     0.932004  \n",
       "amazon_polarity      0.967105  \n",
       "imdb                 0.904945  \n",
       "super_glue:axg       0.817758  \n",
       "super_glue:rte        0.86413  "
      ]
     },
     "metadata": {},
     "output_type": "display_data"
    },
    {
     "data": {
      "text/html": [
       "<div>\n",
       "<style scoped>\n",
       "    .dataframe tbody tr th:only-of-type {\n",
       "        vertical-align: middle;\n",
       "    }\n",
       "\n",
       "    .dataframe tbody tr th {\n",
       "        vertical-align: top;\n",
       "    }\n",
       "\n",
       "    .dataframe thead th {\n",
       "        text-align: right;\n",
       "    }\n",
       "</style>\n",
       "<table border=\"1\" class=\"dataframe\">\n",
       "  <thead>\n",
       "    <tr style=\"text-align: right;\">\n",
       "      <th></th>\n",
       "      <th>roc_auc</th>\n",
       "      <th>improvement</th>\n",
       "      <th>acc</th>\n",
       "      <th>n</th>\n",
       "      <th>in_dist_adapter</th>\n",
       "      <th>in_dist_probe</th>\n",
       "      <th>balance</th>\n",
       "      <th>balance_proxy</th>\n",
       "      <th>roc_auc_adapter</th>\n",
       "      <th>roc_auc_base</th>\n",
       "    </tr>\n",
       "  </thead>\n",
       "  <tbody>\n",
       "    <tr>\n",
       "      <th>hans</th>\n",
       "      <td>0.721625</td>\n",
       "      <td>-0.003584</td>\n",
       "      <td>0.655172</td>\n",
       "      <td>58</td>\n",
       "      <td>True</td>\n",
       "      <td>True</td>\n",
       "      <td>0.465517</td>\n",
       "      <td>0.655172</td>\n",
       "      <td>0.618877</td>\n",
       "      <td>0.725209</td>\n",
       "    </tr>\n",
       "    <tr>\n",
       "      <th>sst2</th>\n",
       "      <td>0.867846</td>\n",
       "      <td>-0.015609</td>\n",
       "      <td>0.854839</td>\n",
       "      <td>62</td>\n",
       "      <td>True</td>\n",
       "      <td>True</td>\n",
       "      <td>0.5</td>\n",
       "      <td>0.854839</td>\n",
       "      <td>0.651405</td>\n",
       "      <td>0.883455</td>\n",
       "    </tr>\n",
       "    <tr>\n",
       "      <th>glue:qnli</th>\n",
       "      <td>0.657895</td>\n",
       "      <td>-0.032456</td>\n",
       "      <td>0.661765</td>\n",
       "      <td>68</td>\n",
       "      <td>True</td>\n",
       "      <td>True</td>\n",
       "      <td>0.558824</td>\n",
       "      <td>0.661765</td>\n",
       "      <td>0.609649</td>\n",
       "      <td>0.690351</td>\n",
       "    </tr>\n",
       "    <tr>\n",
       "      <th>super_glue:boolq</th>\n",
       "      <td>0.87967</td>\n",
       "      <td>-0.052335</td>\n",
       "      <td>0.850299</td>\n",
       "      <td>334</td>\n",
       "      <td>False</td>\n",
       "      <td>False</td>\n",
       "      <td>0.479042</td>\n",
       "      <td>0.850299</td>\n",
       "      <td>0.896731</td>\n",
       "      <td>0.932004</td>\n",
       "    </tr>\n",
       "    <tr>\n",
       "      <th>amazon_polarity</th>\n",
       "      <td>0.913534</td>\n",
       "      <td>-0.053571</td>\n",
       "      <td>0.893939</td>\n",
       "      <td>66</td>\n",
       "      <td>True</td>\n",
       "      <td>True</td>\n",
       "      <td>0.575758</td>\n",
       "      <td>0.893939</td>\n",
       "      <td>0.841165</td>\n",
       "      <td>0.967105</td>\n",
       "    </tr>\n",
       "    <tr>\n",
       "      <th>imdb</th>\n",
       "      <td>0.803184</td>\n",
       "      <td>-0.101761</td>\n",
       "      <td>0.832335</td>\n",
       "      <td>334</td>\n",
       "      <td>False</td>\n",
       "      <td>False</td>\n",
       "      <td>0.5</td>\n",
       "      <td>0.832335</td>\n",
       "      <td>0.808885</td>\n",
       "      <td>0.904945</td>\n",
       "    </tr>\n",
       "    <tr>\n",
       "      <th>super_glue:axg</th>\n",
       "      <td>0.703758</td>\n",
       "      <td>-0.114</td>\n",
       "      <td>0.700599</td>\n",
       "      <td>334</td>\n",
       "      <td>False</td>\n",
       "      <td>False</td>\n",
       "      <td>0.51497</td>\n",
       "      <td>0.700599</td>\n",
       "      <td>0.769721</td>\n",
       "      <td>0.817758</td>\n",
       "    </tr>\n",
       "    <tr>\n",
       "      <th>super_glue:rte</th>\n",
       "      <td>0.644928</td>\n",
       "      <td>-0.219203</td>\n",
       "      <td>0.723404</td>\n",
       "      <td>47</td>\n",
       "      <td>True</td>\n",
       "      <td>True</td>\n",
       "      <td>0.489362</td>\n",
       "      <td>0.723404</td>\n",
       "      <td>0.824275</td>\n",
       "      <td>0.86413</td>\n",
       "    </tr>\n",
       "  </tbody>\n",
       "</table>\n",
       "</div>"
      ],
      "text/plain": [
       "                   roc_auc improvement       acc    n in_dist_adapter  \\\n",
       "hans              0.721625   -0.003584  0.655172   58            True   \n",
       "sst2              0.867846   -0.015609  0.854839   62            True   \n",
       "glue:qnli         0.657895   -0.032456  0.661765   68            True   \n",
       "super_glue:boolq   0.87967   -0.052335  0.850299  334           False   \n",
       "amazon_polarity   0.913534   -0.053571  0.893939   66            True   \n",
       "imdb              0.803184   -0.101761  0.832335  334           False   \n",
       "super_glue:axg    0.703758      -0.114  0.700599  334           False   \n",
       "super_glue:rte    0.644928   -0.219203  0.723404   47            True   \n",
       "\n",
       "                 in_dist_probe   balance balance_proxy roc_auc_adapter  \\\n",
       "hans                      True  0.465517      0.655172        0.618877   \n",
       "sst2                      True       0.5      0.854839        0.651405   \n",
       "glue:qnli                 True  0.558824      0.661765        0.609649   \n",
       "super_glue:boolq         False  0.479042      0.850299        0.896731   \n",
       "amazon_polarity           True  0.575758      0.893939        0.841165   \n",
       "imdb                     False       0.5      0.832335        0.808885   \n",
       "super_glue:axg           False   0.51497      0.700599        0.769721   \n",
       "super_glue:rte            True  0.489362      0.723404        0.824275   \n",
       "\n",
       "                 roc_auc_base  \n",
       "hans                 0.725209  \n",
       "sst2                 0.883455  \n",
       "glue:qnli            0.690351  \n",
       "super_glue:boolq     0.932004  \n",
       "amazon_polarity      0.967105  \n",
       "imdb                 0.904945  \n",
       "super_glue:axg       0.817758  \n",
       "super_glue:rte        0.86413  "
      ]
     },
     "execution_count": 51,
     "metadata": {},
     "output_type": "execute_result"
    }
   ],
   "source": [
    "from src.probes.mse_ranking import PLSKBoolRank\n",
    "\n",
    "print('MSE Ranking')\n",
    "evaluator = RankingTruthEval(ds_trainval=ds_val, ds_test=ds_oos, importance_matrix=importance_matrix)\n",
    "epoch_steps = int(len(ds_val)*0.7//batch_size)\n",
    "\n",
    "_X, _ = evaluator.ds2xy(ds_val)\n",
    "c_in = _X.shape[1:]\n",
    "\n",
    "\n",
    "pl_model = PLSKBoolRank(c_in=c_in, epoch_steps=epoch_steps, max_epochs=max_epochs, dropout=0.25, hs=16, depth=3)\n",
    "model = PLSKWrapper(pl_model, verbose=verbose, max_epochs=max_epochs)\n",
    "df_res = evaluator.eval(model)\n",
    "insample_datasets = list(set(ds_val['ds_string_base']))\n",
    "analyze_dfres(df_res, insample_datasets, insample_datasets)"
   ]
  },
  {
   "cell_type": "markdown",
   "metadata": {},
   "source": [
    "### CCS"
   ]
  },
  {
   "cell_type": "code",
   "execution_count": 52,
   "metadata": {},
   "outputs": [],
   "source": [
    "from src.probes.ccs import PLSKCCS"
   ]
  },
  {
   "cell_type": "code",
   "execution_count": 55,
   "metadata": {},
   "outputs": [],
   "source": [
    "\n",
    "print('CCS')\n",
    "evaluator = RankingTruthEval(ds_trainval=ds_val, ds_test=ds_oos, importance_matrix=importance_matrix)\n",
    "epoch_steps = int(len(ds_val)*0.7//batch_size)\n",
    "\n",
    "_X, _ = evaluator.ds2xy(ds_val)\n",
    "c_in = _X.shape[1:]\n",
    "\n",
    "\n",
    "pl_model = PLSKCCS(c_in=c_in, epoch_steps=epoch_steps, max_epochs=max_epochs, dropout=0.25, hs=16, depth=3)\n",
    "model = PLSKWrapper(pl_model, verbose=verbose, max_epochs=max_epochs)\n",
    "df_res = evaluator.eval(model)\n",
    "insample_datasets = list(set(ds_val['ds_string_base']))\n",
    "analyze_dfres(df_res, insample_datasets, insample_datasets)"
   ]
  },
  {
   "cell_type": "markdown",
   "metadata": {},
   "source": [
    "### ConformalLR"
   ]
  },
  {
   "cell_type": "code",
   "execution_count": null,
   "metadata": {},
   "outputs": [],
   "source": [
    "from src.probes.conformal import MapieClassifier2\n",
    "from sklearn.linear_model import LogisticRegression\n",
    "\n",
    "print('ConformalLR')\n",
    "evaluator = RankingTruthEval(ds_trainval=ds_val, ds_test=ds_oos, importance_matrix=importance_matrix)\n",
    "\n",
    "clf = LogisticRegression(random_state=42, max_iter=1000, class_weight='balanced',)\n",
    "model = MapieClassifier2(estimator=clf, \n",
    "                        # cv=\"prefit\",\n",
    "                        method=\"score\",                        \n",
    "                        )\n",
    "df_res = evaluator.eval(model)\n",
    "insample_datasets = list(set(ds_val['ds_string_base']))\n",
    "analyze_dfres(df_res, insample_datasets, insample_datasets)"
   ]
  },
  {
   "cell_type": "code",
   "execution_count": null,
   "metadata": {},
   "outputs": [],
   "source": []
  },
  {
   "cell_type": "markdown",
   "metadata": {},
   "source": [
    "# Compare importance matrix"
   ]
  },
  {
   "cell_type": "code",
   "execution_count": 19,
   "metadata": {},
   "outputs": [],
   "source": [
    "from sklearn.metrics import roc_auc_score, accuracy_score\n",
    "from einops import rearrange\n",
    "import safetensors.torch\n",
    "\n",
    "def get_importance_matrix2(saved_adaptop_file, layers=['fc1', 'Wqkv']):\n",
    "    state_dict = safetensors.torch.load_file(saved_adaptop_file)\n",
    "    keys = sorted(state_dict.keys())\n",
    "    if layers is None:\n",
    "        layers = list(set([k.split('.')[-2] for k in state_dict.keys()]))\n",
    "\n",
    "    activations = {}\n",
    "\n",
    "    for k in keys:\n",
    "        suffix = k.split('.')[-2]\n",
    "        if suffix not in activations:\n",
    "            activations[suffix] = []\n",
    "        activations[suffix].append(state_dict[k])\n",
    "\n",
    "    for k in activations.keys():\n",
    "        activations[k] = rearrange(activations[k], 'l h b -> (b l) h').detach().cpu().float()\n",
    "        print(k, activations[k].shape)\n",
    "\n",
    "\n",
    "    importance_matrix = torch.concat([activations[i] for i in layers], dim=1)\n",
    "    return importance_matrix"
   ]
  },
  {
   "cell_type": "code",
   "execution_count": 20,
   "metadata": {},
   "outputs": [
    {
     "name": "stdout",
     "output_type": "stream",
     "text": [
      "no matrix\n"
     ]
    },
    {
     "name": "stderr",
     "output_type": "stream",
     "text": [
      "/media/wassname/SGIronWolf/projects5/elk/sgd_probes_are_lie_detectors/.venv/lib/python3.11/site-packages/sklearn/linear_model/_sag.py:350: ConvergenceWarning: The max_iter was reached which means the coef_ did not converge\n",
      "  warnings.warn(\n"
     ]
    },
    {
     "data": {
      "text/html": [
       "<div>\n",
       "<style scoped>\n",
       "    .dataframe tbody tr th:only-of-type {\n",
       "        vertical-align: middle;\n",
       "    }\n",
       "\n",
       "    .dataframe tbody tr th {\n",
       "        vertical-align: top;\n",
       "    }\n",
       "\n",
       "    .dataframe thead th {\n",
       "        text-align: right;\n",
       "    }\n",
       "</style>\n",
       "<table border=\"1\" class=\"dataframe\">\n",
       "  <thead>\n",
       "    <tr style=\"text-align: right;\">\n",
       "      <th></th>\n",
       "      <th>roc_auc</th>\n",
       "      <th>improvement</th>\n",
       "      <th>acc</th>\n",
       "      <th>n</th>\n",
       "      <th>in_dist_adapter</th>\n",
       "      <th>in_dist_probe</th>\n",
       "      <th>balance</th>\n",
       "      <th>balance_proxy</th>\n",
       "      <th>roc_auc_adapter</th>\n",
       "      <th>roc_auc_base</th>\n",
       "    </tr>\n",
       "  </thead>\n",
       "  <tbody>\n",
       "    <tr>\n",
       "      <th>sst2</th>\n",
       "      <td>0.77237</td>\n",
       "      <td>-0.111084</td>\n",
       "      <td>0.806452</td>\n",
       "      <td>62</td>\n",
       "      <td>True</td>\n",
       "      <td>True</td>\n",
       "      <td>0.790323</td>\n",
       "      <td>0.790323</td>\n",
       "      <td>0.651405</td>\n",
       "      <td>0.883455</td>\n",
       "    </tr>\n",
       "    <tr>\n",
       "      <th>amazon_polarity</th>\n",
       "      <td>0.819444</td>\n",
       "      <td>-0.147661</td>\n",
       "      <td>0.909091</td>\n",
       "      <td>66</td>\n",
       "      <td>True</td>\n",
       "      <td>True</td>\n",
       "      <td>0.909091</td>\n",
       "      <td>0.909091</td>\n",
       "      <td>0.841165</td>\n",
       "      <td>0.967105</td>\n",
       "    </tr>\n",
       "    <tr>\n",
       "      <th>hans</th>\n",
       "      <td>0.565452</td>\n",
       "      <td>-0.159757</td>\n",
       "      <td>0.327586</td>\n",
       "      <td>58</td>\n",
       "      <td>True</td>\n",
       "      <td>True</td>\n",
       "      <td>0.672414</td>\n",
       "      <td>0.672414</td>\n",
       "      <td>0.618877</td>\n",
       "      <td>0.725209</td>\n",
       "    </tr>\n",
       "    <tr>\n",
       "      <th>super_glue:axg</th>\n",
       "      <td>0.624945</td>\n",
       "      <td>-0.192813</td>\n",
       "      <td>0.317365</td>\n",
       "      <td>334</td>\n",
       "      <td>False</td>\n",
       "      <td>False</td>\n",
       "      <td>0.757485</td>\n",
       "      <td>0.757485</td>\n",
       "      <td>0.769721</td>\n",
       "      <td>0.817758</td>\n",
       "    </tr>\n",
       "    <tr>\n",
       "      <th>super_glue:boolq</th>\n",
       "      <td>0.709554</td>\n",
       "      <td>-0.22245</td>\n",
       "      <td>0.637725</td>\n",
       "      <td>334</td>\n",
       "      <td>False</td>\n",
       "      <td>False</td>\n",
       "      <td>0.847305</td>\n",
       "      <td>0.847305</td>\n",
       "      <td>0.896731</td>\n",
       "      <td>0.932004</td>\n",
       "    </tr>\n",
       "    <tr>\n",
       "      <th>imdb</th>\n",
       "      <td>0.635706</td>\n",
       "      <td>-0.269238</td>\n",
       "      <td>0.844311</td>\n",
       "      <td>334</td>\n",
       "      <td>False</td>\n",
       "      <td>False</td>\n",
       "      <td>0.844311</td>\n",
       "      <td>0.844311</td>\n",
       "      <td>0.808885</td>\n",
       "      <td>0.904945</td>\n",
       "    </tr>\n",
       "    <tr>\n",
       "      <th>glue:qnli</th>\n",
       "      <td>0.393939</td>\n",
       "      <td>-0.296411</td>\n",
       "      <td>0.367647</td>\n",
       "      <td>68</td>\n",
       "      <td>True</td>\n",
       "      <td>True</td>\n",
       "      <td>0.647059</td>\n",
       "      <td>0.647059</td>\n",
       "      <td>0.609649</td>\n",
       "      <td>0.690351</td>\n",
       "    </tr>\n",
       "    <tr>\n",
       "      <th>super_glue:rte</th>\n",
       "      <td>0.55303</td>\n",
       "      <td>-0.3111</td>\n",
       "      <td>0.382979</td>\n",
       "      <td>47</td>\n",
       "      <td>True</td>\n",
       "      <td>True</td>\n",
       "      <td>0.765957</td>\n",
       "      <td>0.765957</td>\n",
       "      <td>0.824275</td>\n",
       "      <td>0.86413</td>\n",
       "    </tr>\n",
       "  </tbody>\n",
       "</table>\n",
       "</div>"
      ],
      "text/plain": [
       "                   roc_auc improvement       acc    n in_dist_adapter  \\\n",
       "sst2               0.77237   -0.111084  0.806452   62            True   \n",
       "amazon_polarity   0.819444   -0.147661  0.909091   66            True   \n",
       "hans              0.565452   -0.159757  0.327586   58            True   \n",
       "super_glue:axg    0.624945   -0.192813  0.317365  334           False   \n",
       "super_glue:boolq  0.709554    -0.22245  0.637725  334           False   \n",
       "imdb              0.635706   -0.269238  0.844311  334           False   \n",
       "glue:qnli         0.393939   -0.296411  0.367647   68            True   \n",
       "super_glue:rte     0.55303     -0.3111  0.382979   47            True   \n",
       "\n",
       "                 in_dist_probe   balance balance_proxy roc_auc_adapter  \\\n",
       "sst2                      True  0.790323      0.790323        0.651405   \n",
       "amazon_polarity           True  0.909091      0.909091        0.841165   \n",
       "hans                      True  0.672414      0.672414        0.618877   \n",
       "super_glue:axg           False  0.757485      0.757485        0.769721   \n",
       "super_glue:boolq         False  0.847305      0.847305        0.896731   \n",
       "imdb                     False  0.844311      0.844311        0.808885   \n",
       "glue:qnli                 True  0.647059      0.647059        0.609649   \n",
       "super_glue:rte            True  0.765957      0.765957        0.824275   \n",
       "\n",
       "                 roc_auc_base  \n",
       "sst2                 0.883455  \n",
       "amazon_polarity      0.967105  \n",
       "hans                 0.725209  \n",
       "super_glue:axg       0.817758  \n",
       "super_glue:boolq     0.932004  \n",
       "imdb                 0.904945  \n",
       "glue:qnli            0.690351  \n",
       "super_glue:rte        0.86413  "
      ]
     },
     "metadata": {},
     "output_type": "display_data"
    },
    {
     "data": {
      "text/plain": [
       "0.6407139296634947"
      ]
     },
     "execution_count": 20,
     "metadata": {},
     "output_type": "execute_result"
    }
   ],
   "source": [
    "print('no matrix')\n",
    "evaluator = PlainTruthEval(ds_trainval=ds_val, ds_test=ds_oos, \n",
    "                        #    importance_matrix=importance_matrix\n",
    "                           )\n",
    "model = TorchLogisticRegression(random_state=42, \n",
    "                                penalty='elasticnet',\n",
    "                                solver='saga',\n",
    "                                l1_ratio=0.5,\n",
    "                                 class_weight='balanced',)\n",
    "df_res = evaluator.eval(model)\n",
    "insample_datasets = list(set(ds_val['ds_string_base']))\n",
    "df_res_ana = analyze_dfres(df_res, insample_datasets, insample_datasets)"
   ]
  },
  {
   "cell_type": "code",
   "execution_count": 21,
   "metadata": {},
   "outputs": [
    {
     "name": "stdout",
     "output_type": "stream",
     "text": [
      "matrix\n"
     ]
    },
    {
     "name": "stderr",
     "output_type": "stream",
     "text": [
      "/media/wassname/SGIronWolf/projects5/elk/sgd_probes_are_lie_detectors/.venv/lib/python3.11/site-packages/sklearn/linear_model/_sag.py:350: ConvergenceWarning: The max_iter was reached which means the coef_ did not converge\n",
      "  warnings.warn(\n"
     ]
    },
    {
     "data": {
      "text/html": [
       "<div>\n",
       "<style scoped>\n",
       "    .dataframe tbody tr th:only-of-type {\n",
       "        vertical-align: middle;\n",
       "    }\n",
       "\n",
       "    .dataframe tbody tr th {\n",
       "        vertical-align: top;\n",
       "    }\n",
       "\n",
       "    .dataframe thead th {\n",
       "        text-align: right;\n",
       "    }\n",
       "</style>\n",
       "<table border=\"1\" class=\"dataframe\">\n",
       "  <thead>\n",
       "    <tr style=\"text-align: right;\">\n",
       "      <th></th>\n",
       "      <th>roc_auc</th>\n",
       "      <th>improvement</th>\n",
       "      <th>acc</th>\n",
       "      <th>n</th>\n",
       "      <th>in_dist_adapter</th>\n",
       "      <th>in_dist_probe</th>\n",
       "      <th>balance</th>\n",
       "      <th>balance_proxy</th>\n",
       "      <th>roc_auc_adapter</th>\n",
       "      <th>roc_auc_base</th>\n",
       "    </tr>\n",
       "  </thead>\n",
       "  <tbody>\n",
       "    <tr>\n",
       "      <th>sst2</th>\n",
       "      <td>0.877551</td>\n",
       "      <td>-0.005904</td>\n",
       "      <td>0.790323</td>\n",
       "      <td>62</td>\n",
       "      <td>True</td>\n",
       "      <td>True</td>\n",
       "      <td>0.790323</td>\n",
       "      <td>0.790323</td>\n",
       "      <td>0.651405</td>\n",
       "      <td>0.883455</td>\n",
       "    </tr>\n",
       "    <tr>\n",
       "      <th>hans</th>\n",
       "      <td>0.558704</td>\n",
       "      <td>-0.166505</td>\n",
       "      <td>0.344828</td>\n",
       "      <td>58</td>\n",
       "      <td>True</td>\n",
       "      <td>True</td>\n",
       "      <td>0.672414</td>\n",
       "      <td>0.672414</td>\n",
       "      <td>0.618877</td>\n",
       "      <td>0.725209</td>\n",
       "    </tr>\n",
       "    <tr>\n",
       "      <th>amazon_polarity</th>\n",
       "      <td>0.8</td>\n",
       "      <td>-0.167105</td>\n",
       "      <td>0.893939</td>\n",
       "      <td>66</td>\n",
       "      <td>True</td>\n",
       "      <td>True</td>\n",
       "      <td>0.909091</td>\n",
       "      <td>0.909091</td>\n",
       "      <td>0.841165</td>\n",
       "      <td>0.967105</td>\n",
       "    </tr>\n",
       "    <tr>\n",
       "      <th>super_glue:axg</th>\n",
       "      <td>0.632216</td>\n",
       "      <td>-0.185542</td>\n",
       "      <td>0.508982</td>\n",
       "      <td>334</td>\n",
       "      <td>False</td>\n",
       "      <td>False</td>\n",
       "      <td>0.757485</td>\n",
       "      <td>0.757485</td>\n",
       "      <td>0.769721</td>\n",
       "      <td>0.817758</td>\n",
       "    </tr>\n",
       "    <tr>\n",
       "      <th>super_glue:boolq</th>\n",
       "      <td>0.741287</td>\n",
       "      <td>-0.190717</td>\n",
       "      <td>0.778443</td>\n",
       "      <td>334</td>\n",
       "      <td>False</td>\n",
       "      <td>False</td>\n",
       "      <td>0.847305</td>\n",
       "      <td>0.847305</td>\n",
       "      <td>0.896731</td>\n",
       "      <td>0.932004</td>\n",
       "    </tr>\n",
       "    <tr>\n",
       "      <th>imdb</th>\n",
       "      <td>0.678737</td>\n",
       "      <td>-0.226208</td>\n",
       "      <td>0.844311</td>\n",
       "      <td>334</td>\n",
       "      <td>False</td>\n",
       "      <td>False</td>\n",
       "      <td>0.844311</td>\n",
       "      <td>0.844311</td>\n",
       "      <td>0.808885</td>\n",
       "      <td>0.904945</td>\n",
       "    </tr>\n",
       "    <tr>\n",
       "      <th>glue:qnli</th>\n",
       "      <td>0.428977</td>\n",
       "      <td>-0.261374</td>\n",
       "      <td>0.397059</td>\n",
       "      <td>68</td>\n",
       "      <td>True</td>\n",
       "      <td>True</td>\n",
       "      <td>0.647059</td>\n",
       "      <td>0.647059</td>\n",
       "      <td>0.609649</td>\n",
       "      <td>0.690351</td>\n",
       "    </tr>\n",
       "    <tr>\n",
       "      <th>super_glue:rte</th>\n",
       "      <td>0.60101</td>\n",
       "      <td>-0.26312</td>\n",
       "      <td>0.531915</td>\n",
       "      <td>47</td>\n",
       "      <td>True</td>\n",
       "      <td>True</td>\n",
       "      <td>0.765957</td>\n",
       "      <td>0.765957</td>\n",
       "      <td>0.824275</td>\n",
       "      <td>0.86413</td>\n",
       "    </tr>\n",
       "  </tbody>\n",
       "</table>\n",
       "</div>"
      ],
      "text/plain": [
       "                   roc_auc improvement       acc    n in_dist_adapter  \\\n",
       "sst2              0.877551   -0.005904  0.790323   62            True   \n",
       "hans              0.558704   -0.166505  0.344828   58            True   \n",
       "amazon_polarity        0.8   -0.167105  0.893939   66            True   \n",
       "super_glue:axg    0.632216   -0.185542  0.508982  334           False   \n",
       "super_glue:boolq  0.741287   -0.190717  0.778443  334           False   \n",
       "imdb              0.678737   -0.226208  0.844311  334           False   \n",
       "glue:qnli         0.428977   -0.261374  0.397059   68            True   \n",
       "super_glue:rte     0.60101    -0.26312  0.531915   47            True   \n",
       "\n",
       "                 in_dist_probe   balance balance_proxy roc_auc_adapter  \\\n",
       "sst2                      True  0.790323      0.790323        0.651405   \n",
       "hans                      True  0.672414      0.672414        0.618877   \n",
       "amazon_polarity           True  0.909091      0.909091        0.841165   \n",
       "super_glue:axg           False  0.757485      0.757485        0.769721   \n",
       "super_glue:boolq         False  0.847305      0.847305        0.896731   \n",
       "imdb                     False  0.844311      0.844311        0.808885   \n",
       "glue:qnli                 True  0.647059      0.647059        0.609649   \n",
       "super_glue:rte            True  0.765957      0.765957        0.824275   \n",
       "\n",
       "                 roc_auc_base  \n",
       "sst2                 0.883455  \n",
       "hans                 0.725209  \n",
       "amazon_polarity      0.967105  \n",
       "super_glue:axg       0.817758  \n",
       "super_glue:boolq     0.932004  \n",
       "imdb                 0.904945  \n",
       "glue:qnli            0.690351  \n",
       "super_glue:rte        0.86413  "
      ]
     },
     "metadata": {},
     "output_type": "display_data"
    },
    {
     "data": {
      "text/plain": [
       "0.6731071117691261"
      ]
     },
     "execution_count": 21,
     "metadata": {},
     "output_type": "execute_result"
    }
   ],
   "source": [
    "print('matrix')\n",
    "evaluator = PlainTruthEval(ds_trainval=ds_val, ds_test=ds_oos, \n",
    "                           importance_matrix=importance_matrix\n",
    "                           )\n",
    "model = TorchLogisticRegression(random_state=42, \n",
    "                                penalty='elasticnet',\n",
    "                                solver='saga',\n",
    "                                l1_ratio=0.5,\n",
    "                                 class_weight='balanced',)\n",
    "df_res = evaluator.eval(model)\n",
    "insample_datasets = list(set(ds_val['ds_string_base']))\n",
    "analyze_dfres(df_res, insample_datasets, insample_datasets)\n",
    "roc_auc_score(df_res['y'], df_res['y_prob'])"
   ]
  },
  {
   "cell_type": "code",
   "execution_count": 16,
   "metadata": {},
   "outputs": [],
   "source": [
    "class PlainTruthEvalTop(PlainTruthEval):\n",
    "    \"\"\"only take the top X % of importance values.\"\"\"\n",
    "\n",
    "    def ds2xy(self, ds: Dataset):\n",
    "        \"\"\"function which will transform a dataset into x and y.\"\"\"\n",
    "        data = []\n",
    "        for layer in self.layers_names:\n",
    "            # Stack the base and adapter representations as a 4th dim\n",
    "            X1 = [ds[f'end_residual_{layer}_base'], ds[f'end_residual_{layer}_adapt']]\n",
    "            X1 = rearrange(X1, 'versions b l f  -> b l f versions')\n",
    "            data.append(X1)\n",
    "        \n",
    "        # concat layers\n",
    "        # x = rearrange(data, 'parts b l f v -> b l (parts f) v')\n",
    "        x = torch.concat(data, dim=2)\n",
    "        \n",
    "        # restrict to non zero values\n",
    "        mask = self.importance_matrix>1\n",
    "        mask = rearrange(mask, 'l f -> (l f)')\n",
    "        xf = rearrange(x, 'b l f v -> b (l f) v')[:, mask, :]\n",
    "        print(f'keeping top {(mask*1.0).mean():2.2%} of values {x.shape} -> {xf.shape}')\n",
    "        x = rearrange(xf, 'b lf v -> b lf 1 v') \n",
    "        y = self.ds2proxy(ds)\n",
    "        return x, y\n"
   ]
  },
  {
   "cell_type": "code",
   "execution_count": 41,
   "metadata": {},
   "outputs": [
    {
     "name": "stdout",
     "output_type": "stream",
     "text": [
      "top 10%\n",
      "Wqkv torch.Size([32, 7680])\n",
      "fc1 torch.Size([32, 10240])\n",
      "keeping top 0.09% of values torch.Size([301, 32, 17920, 2]) -> torch.Size([301, 526, 2])\n",
      "keeping top 0.09% of values torch.Size([702, 32, 17920, 2]) -> torch.Size([702, 526, 2])\n"
     ]
    },
    {
     "name": "stderr",
     "output_type": "stream",
     "text": [
      "/media/wassname/SGIronWolf/projects5/elk/sgd_probes_are_lie_detectors/.venv/lib/python3.11/site-packages/sklearn/linear_model/_sag.py:350: ConvergenceWarning: The max_iter was reached which means the coef_ did not converge\n",
      "  warnings.warn(\n"
     ]
    },
    {
     "name": "stdout",
     "output_type": "stream",
     "text": [
      "keeping top 0.09% of values torch.Size([301, 32, 17920, 2]) -> torch.Size([301, 526, 2])\n",
      "keeping top 0.09% of values torch.Size([1002, 32, 17920, 2]) -> torch.Size([1002, 526, 2])\n",
      "⭐ main_metric: 0.646 ⭐ roc_auc for 1002 OOD samples\n"
     ]
    },
    {
     "data": {
      "text/html": [
       "<div>\n",
       "<style scoped>\n",
       "    .dataframe tbody tr th:only-of-type {\n",
       "        vertical-align: middle;\n",
       "    }\n",
       "\n",
       "    .dataframe tbody tr th {\n",
       "        vertical-align: top;\n",
       "    }\n",
       "\n",
       "    .dataframe thead th {\n",
       "        text-align: right;\n",
       "    }\n",
       "</style>\n",
       "<table border=\"1\" class=\"dataframe\">\n",
       "  <thead>\n",
       "    <tr style=\"text-align: right;\">\n",
       "      <th></th>\n",
       "      <th>roc_auc</th>\n",
       "      <th>improvement</th>\n",
       "      <th>acc</th>\n",
       "      <th>n</th>\n",
       "      <th>in_dist_adapter</th>\n",
       "      <th>in_dist_probe</th>\n",
       "      <th>balance</th>\n",
       "      <th>balance_proxy</th>\n",
       "      <th>roc_auc_adapter</th>\n",
       "      <th>roc_auc_base</th>\n",
       "    </tr>\n",
       "  </thead>\n",
       "  <tbody>\n",
       "    <tr>\n",
       "      <th>sst2</th>\n",
       "      <td>0.824176</td>\n",
       "      <td>-0.059279</td>\n",
       "      <td>0.774194</td>\n",
       "      <td>62</td>\n",
       "      <td>True</td>\n",
       "      <td>True</td>\n",
       "      <td>0.790323</td>\n",
       "      <td>0.790323</td>\n",
       "      <td>0.651405</td>\n",
       "      <td>0.883455</td>\n",
       "    </tr>\n",
       "    <tr>\n",
       "      <th>super_glue:boolq</th>\n",
       "      <td>0.770664</td>\n",
       "      <td>-0.16134</td>\n",
       "      <td>0.673653</td>\n",
       "      <td>334</td>\n",
       "      <td>False</td>\n",
       "      <td>False</td>\n",
       "      <td>0.847305</td>\n",
       "      <td>0.847305</td>\n",
       "      <td>0.896731</td>\n",
       "      <td>0.932004</td>\n",
       "    </tr>\n",
       "    <tr>\n",
       "      <th>amazon_polarity</th>\n",
       "      <td>0.791667</td>\n",
       "      <td>-0.175439</td>\n",
       "      <td>0.909091</td>\n",
       "      <td>66</td>\n",
       "      <td>True</td>\n",
       "      <td>True</td>\n",
       "      <td>0.909091</td>\n",
       "      <td>0.909091</td>\n",
       "      <td>0.841165</td>\n",
       "      <td>0.967105</td>\n",
       "    </tr>\n",
       "    <tr>\n",
       "      <th>hans</th>\n",
       "      <td>0.538462</td>\n",
       "      <td>-0.186748</td>\n",
       "      <td>0.344828</td>\n",
       "      <td>58</td>\n",
       "      <td>True</td>\n",
       "      <td>True</td>\n",
       "      <td>0.672414</td>\n",
       "      <td>0.672414</td>\n",
       "      <td>0.618877</td>\n",
       "      <td>0.725209</td>\n",
       "    </tr>\n",
       "    <tr>\n",
       "      <th>super_glue:axg</th>\n",
       "      <td>0.604499</td>\n",
       "      <td>-0.213259</td>\n",
       "      <td>0.42515</td>\n",
       "      <td>334</td>\n",
       "      <td>False</td>\n",
       "      <td>False</td>\n",
       "      <td>0.757485</td>\n",
       "      <td>0.757485</td>\n",
       "      <td>0.769721</td>\n",
       "      <td>0.817758</td>\n",
       "    </tr>\n",
       "    <tr>\n",
       "      <th>imdb</th>\n",
       "      <td>0.682624</td>\n",
       "      <td>-0.22232</td>\n",
       "      <td>0.844311</td>\n",
       "      <td>334</td>\n",
       "      <td>False</td>\n",
       "      <td>False</td>\n",
       "      <td>0.844311</td>\n",
       "      <td>0.844311</td>\n",
       "      <td>0.808885</td>\n",
       "      <td>0.904945</td>\n",
       "    </tr>\n",
       "    <tr>\n",
       "      <th>super_glue:rte</th>\n",
       "      <td>0.59596</td>\n",
       "      <td>-0.268171</td>\n",
       "      <td>0.531915</td>\n",
       "      <td>47</td>\n",
       "      <td>True</td>\n",
       "      <td>True</td>\n",
       "      <td>0.765957</td>\n",
       "      <td>0.765957</td>\n",
       "      <td>0.824275</td>\n",
       "      <td>0.86413</td>\n",
       "    </tr>\n",
       "    <tr>\n",
       "      <th>glue:qnli</th>\n",
       "      <td>0.392992</td>\n",
       "      <td>-0.297358</td>\n",
       "      <td>0.352941</td>\n",
       "      <td>68</td>\n",
       "      <td>True</td>\n",
       "      <td>True</td>\n",
       "      <td>0.647059</td>\n",
       "      <td>0.647059</td>\n",
       "      <td>0.609649</td>\n",
       "      <td>0.690351</td>\n",
       "    </tr>\n",
       "  </tbody>\n",
       "</table>\n",
       "</div>"
      ],
      "text/plain": [
       "                   roc_auc improvement       acc    n in_dist_adapter  \\\n",
       "sst2              0.824176   -0.059279  0.774194   62            True   \n",
       "super_glue:boolq  0.770664    -0.16134  0.673653  334           False   \n",
       "amazon_polarity   0.791667   -0.175439  0.909091   66            True   \n",
       "hans              0.538462   -0.186748  0.344828   58            True   \n",
       "super_glue:axg    0.604499   -0.213259   0.42515  334           False   \n",
       "imdb              0.682624    -0.22232  0.844311  334           False   \n",
       "super_glue:rte     0.59596   -0.268171  0.531915   47            True   \n",
       "glue:qnli         0.392992   -0.297358  0.352941   68            True   \n",
       "\n",
       "                 in_dist_probe   balance balance_proxy roc_auc_adapter  \\\n",
       "sst2                      True  0.790323      0.790323        0.651405   \n",
       "super_glue:boolq         False  0.847305      0.847305        0.896731   \n",
       "amazon_polarity           True  0.909091      0.909091        0.841165   \n",
       "hans                      True  0.672414      0.672414        0.618877   \n",
       "super_glue:axg           False  0.757485      0.757485        0.769721   \n",
       "imdb                     False  0.844311      0.844311        0.808885   \n",
       "super_glue:rte            True  0.765957      0.765957        0.824275   \n",
       "glue:qnli                 True  0.647059      0.647059        0.609649   \n",
       "\n",
       "                 roc_auc_base  \n",
       "sst2                 0.883455  \n",
       "super_glue:boolq     0.932004  \n",
       "amazon_polarity      0.967105  \n",
       "hans                 0.725209  \n",
       "super_glue:axg       0.817758  \n",
       "imdb                 0.904945  \n",
       "super_glue:rte        0.86413  \n",
       "glue:qnli            0.690351  "
      ]
     },
     "metadata": {},
     "output_type": "display_data"
    },
    {
     "data": {
      "text/plain": [
       "0.6576470675763144"
      ]
     },
     "execution_count": 41,
     "metadata": {},
     "output_type": "execute_result"
    }
   ],
   "source": [
    "print('top 10%')\n",
    "\n",
    "importance_matrix = get_importance_matrix2(f, layers=['fc1', 'Wqkv'])\n",
    "importance_matrix = (importance_matrix-1).abs()\n",
    "importance_matrix = importance_matrix / importance_matrix.std()\n",
    "importance_matrix = importance_matrix + 1\n",
    "importance_matrix = importance_matrix * ((importance_matrix>4))\n",
    "\n",
    "# plt.hist(importance_matrix.flatten(), bins=55)\n",
    "# plt.show();\n",
    "\n",
    "evaluator = PlainTruthEvalTop(ds_trainval=ds_val, ds_test=ds_oos, \n",
    "                           importance_matrix=importance_matrix\n",
    "                           )\n",
    "model = TorchLogisticRegression(random_state=42, \n",
    "                                penalty='elasticnet',\n",
    "                                solver='saga',\n",
    "                                # max_iter=100,\n",
    "                                l1_ratio=0.5,\n",
    "                                 class_weight='balanced',)\n",
    "df_res = evaluator.eval(model)\n",
    "insample_datasets = list(set(ds_val['ds_string_base']))\n",
    "analyze_dfres(df_res, insample_datasets, insample_datasets)"
   ]
  }
 ],
 "metadata": {
  "kernelspec": {
   "display_name": ".venv",
   "language": "python",
   "name": "python3"
  },
  "language_info": {
   "codemirror_mode": {
    "name": "ipython",
    "version": 3
   },
   "file_extension": ".py",
   "mimetype": "text/x-python",
   "name": "python",
   "nbconvert_exporter": "python",
   "pygments_lexer": "ipython3",
   "version": "3.11.0rc1"
  }
 },
 "nbformat": 4,
 "nbformat_minor": 2
}
