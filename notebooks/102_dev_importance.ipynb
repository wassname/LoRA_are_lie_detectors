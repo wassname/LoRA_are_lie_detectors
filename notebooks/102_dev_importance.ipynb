{
 "cells": [
  {
   "cell_type": "markdown",
   "metadata": {},
   "source": [
    "my known lie doesn't make sense anymore? Well truth is when examples of truth are given (and maybe it's asked to tell the truth?) I would need to analyze this seperatly, but getting say N tokens. And trying differen't combinatiuons of system prompt, and n-shot examples\n"
   ]
  },
  {
   "cell_type": "code",
   "execution_count": 1,
   "metadata": {},
   "outputs": [],
   "source": [
    "import torch\n",
    "from IPython.display import display, HTML, Markdown\n",
    "from torch.utils.data import random_split, DataLoader, TensorDataset\n",
    "from loguru import logger\n",
    "import sys\n",
    "import pandas as pd\n",
    "import seaborn as sns\n",
    "\n",
    "\n",
    "logger.remove()\n",
    "logger.add(sys.stderr, format=\"{time} {level} {message}\", level=\"INFO\")\n",
    "\n",
    "# load my code\n",
    "%load_ext autoreload\n",
    "%autoreload 2\n",
    "from src.eval.collect import manual_collect2\n",
    "from src.eval.ds import ds2df, qc_ds, qc_dsdf\n",
    "from src.prompts.prompt_loading import load_prompts, format_prompt, load_preproc_dataset\n",
    "from src.models.load import load_model\n",
    "\n",
    "from matplotlib import pyplot as plt\n",
    "plt.style.use(['seaborn-v0_8'])\n"
   ]
  },
  {
   "cell_type": "code",
   "execution_count": null,
   "metadata": {},
   "outputs": [],
   "source": []
  },
  {
   "cell_type": "code",
   "execution_count": 2,
   "metadata": {},
   "outputs": [],
   "source": [
    "from pathlib import Path\n",
    "BASE_FOLDER = Path(\"/media/wassname/SGIronWolf/projects5/elk/sgd_probes_are_lie_detectors/notebooks/lightning_logs/version_4/\")"
   ]
  },
  {
   "cell_type": "markdown",
   "metadata": {},
   "source": [
    "## Importance matrix"
   ]
  },
  {
   "cell_type": "code",
   "execution_count": 3,
   "metadata": {},
   "outputs": [
    {
     "name": "stdout",
     "output_type": "stream",
     "text": [
      "Wqkv torch.Size([32, 7680])\n",
      "fc1 torch.Size([32, 10240])\n",
      "torch.Size([32, 17920])\n"
     ]
    },
    {
     "data": {
      "image/png": "[encoded data removed]",
      "text/plain": [
       "<Figure size 800x550 with 1 Axes>"
      ]
     },
     "metadata": {},
     "output_type": "display_data"
    }
   ],
   "source": [
    "from src.probes.importance_matrix import get_importance_matrix\n",
    "\n",
    "# f = f\"{BASE_FOLDER}/checkpoint_last/adapter_model.safetensors\"\n",
    "\n",
    "# HACK:\n",
    "f = \"/media/wassname/SGIronWolf/projects5/elk/sgd_probes_are_lie_detectors/notebooks/lightning_logs/version_0/checkpoint_last/adapter_model.safetensors\"\n",
    "# +1 because the residuals are a product of diff, so the first row didn't have a diff. So we skip that corresponding first row of the importance matrix\n",
    "importance_matrix = get_importance_matrix(f, layers=['fc1', 'Wqkv'])#[SKIP+1::STRIDE, ::DECIMATE]\n",
    "print(importance_matrix.shape)\n",
    "plt.hist(importance_matrix.flatten(), bins=55);\n"
   ]
  },
  {
   "cell_type": "markdown",
   "metadata": {},
   "source": [
    "## Load DS"
   ]
  },
  {
   "cell_type": "code",
   "execution_count": 4,
   "metadata": {},
   "outputs": [],
   "source": [
    "from datasets import Dataset\n",
    "\n",
    "f1_val = next(iter(BASE_FOLDER.glob('hidden_states/.ds/ds_valtest_*')))\n",
    "f1_ood = next(iter(BASE_FOLDER.glob('hidden_states/.ds/ds_OOD_*')))\n",
    "f1_val, f1_ood\n",
    "\n",
    "ds_val = Dataset.from_file(str(f1_val)).with_format(\"torch\")\n",
    "ds_oos = Dataset.from_file(str(f1_ood)).with_format(\"torch\")\n",
    "\n",
    "# ds_known1 = filter_ds_to_known(ds_out, verbose=True)"
   ]
  },
  {
   "cell_type": "code",
   "execution_count": 5,
   "metadata": {},
   "outputs": [
    {
     "name": "stdout",
     "output_type": "stream",
     "text": [
      "with base model\n",
      "with adapter\n",
      "with base model\n",
      "with adapter\n"
     ]
    },
    {
     "data": {
      "text/plain": [
       "({'balance': 0.49600798403193613,\n",
       "  'N': 1002,\n",
       "  'auroc': 0.7395008721320274,\n",
       "  'lie_auroc': 0.2827527322404372,\n",
       "  'known_lie_auroc': 0.23144220572640511,\n",
       "  'choice_cov': 0.9787885},\n",
       " {'balance': 0.49600798403193613,\n",
       "  'N': 1002,\n",
       "  'auroc': 0.7395008721320274,\n",
       "  'lie_auroc': 0.2827527322404372,\n",
       "  'known_lie_auroc': 0.23144220572640511,\n",
       "  'choice_cov': 0.9787885})"
      ]
     },
     "execution_count": 5,
     "metadata": {},
     "output_type": "execute_result"
    }
   ],
   "source": [
    "qc_ds(ds_val)\n",
    "qc_ds(ds_oos)\n"
   ]
  },
  {
   "cell_type": "code",
   "execution_count": 6,
   "metadata": {},
   "outputs": [
    {
     "data": {
      "text/html": [
       "<div>\n",
       "<style scoped>\n",
       "    .dataframe tbody tr th:only-of-type {\n",
       "        vertical-align: middle;\n",
       "    }\n",
       "\n",
       "    .dataframe tbody tr th {\n",
       "        vertical-align: top;\n",
       "    }\n",
       "\n",
       "    .dataframe thead th {\n",
       "        text-align: right;\n",
       "    }\n",
       "</style>\n",
       "<table border=\"1\" class=\"dataframe\">\n",
       "  <thead>\n",
       "    <tr style=\"text-align: right;\">\n",
       "      <th></th>\n",
       "      <th>acc</th>\n",
       "      <th>n</th>\n",
       "    </tr>\n",
       "    <tr>\n",
       "      <th>sys_instr_name</th>\n",
       "      <th></th>\n",
       "      <th></th>\n",
       "    </tr>\n",
       "  </thead>\n",
       "  <tbody>\n",
       "    <tr>\n",
       "      <th>default</th>\n",
       "      <td>0.315068</td>\n",
       "      <td>219.0</td>\n",
       "    </tr>\n",
       "    <tr>\n",
       "      <th>none</th>\n",
       "      <td>0.497967</td>\n",
       "      <td>492.0</td>\n",
       "    </tr>\n",
       "    <tr>\n",
       "      <th>truth</th>\n",
       "      <td>0.695205</td>\n",
       "      <td>292.0</td>\n",
       "    </tr>\n",
       "  </tbody>\n",
       "</table>\n",
       "</div>"
      ],
      "text/plain": [
       "                     acc      n\n",
       "sys_instr_name                 \n",
       "default         0.315068  219.0\n",
       "none            0.497967  492.0\n",
       "truth           0.695205  292.0"
      ]
     },
     "metadata": {},
     "output_type": "display_data"
    },
    {
     "data": {
      "text/html": [
       "<div>\n",
       "<style scoped>\n",
       "    .dataframe tbody tr th:only-of-type {\n",
       "        vertical-align: middle;\n",
       "    }\n",
       "\n",
       "    .dataframe tbody tr th {\n",
       "        vertical-align: top;\n",
       "    }\n",
       "\n",
       "    .dataframe thead th {\n",
       "        text-align: right;\n",
       "    }\n",
       "</style>\n",
       "<table border=\"1\" class=\"dataframe\">\n",
       "  <thead>\n",
       "    <tr style=\"text-align: right;\">\n",
       "      <th></th>\n",
       "      <th>acc</th>\n",
       "      <th>n</th>\n",
       "    </tr>\n",
       "    <tr>\n",
       "      <th>ds_string</th>\n",
       "      <th></th>\n",
       "      <th></th>\n",
       "    </tr>\n",
       "  </thead>\n",
       "  <tbody>\n",
       "    <tr>\n",
       "      <th>amazon_polarity</th>\n",
       "      <td>0.525000</td>\n",
       "      <td>200.0</td>\n",
       "    </tr>\n",
       "    <tr>\n",
       "      <th>glue:qnli</th>\n",
       "      <td>0.510000</td>\n",
       "      <td>200.0</td>\n",
       "    </tr>\n",
       "    <tr>\n",
       "      <th>hans</th>\n",
       "      <td>0.482587</td>\n",
       "      <td>201.0</td>\n",
       "    </tr>\n",
       "    <tr>\n",
       "      <th>sst2</th>\n",
       "      <td>0.597015</td>\n",
       "      <td>201.0</td>\n",
       "    </tr>\n",
       "    <tr>\n",
       "      <th>super_glue:rte</th>\n",
       "      <td>0.462687</td>\n",
       "      <td>201.0</td>\n",
       "    </tr>\n",
       "  </tbody>\n",
       "</table>\n",
       "</div>"
      ],
      "text/plain": [
       "                      acc      n\n",
       "ds_string                       \n",
       "amazon_polarity  0.525000  200.0\n",
       "glue:qnli        0.510000  200.0\n",
       "hans             0.482587  201.0\n",
       "sst2             0.597015  201.0\n",
       "super_glue:rte   0.462687  201.0"
      ]
     },
     "metadata": {},
     "output_type": "display_data"
    }
   ],
   "source": [
    "def agg_func(x):\n",
    "    acc = (x.label_instructed == x[\"ans\"]).mean()\n",
    "    return pd.Series(dict(acc=acc, n=len(x)))\n",
    "\n",
    "df = ds2df(ds_val)\n",
    "df = df.rename(columns=lambda x: x.replace(\"_base\", \"\")).copy()\n",
    "\n",
    "for col in [\"sys_instr_name\", \"ds_string\"]:\n",
    "    display(df.groupby(col).apply(agg_func))\n"
   ]
  },
  {
   "cell_type": "markdown",
   "metadata": {},
   "source": [
    "# Probe"
   ]
  },
  {
   "cell_type": "code",
   "execution_count": 7,
   "metadata": {},
   "outputs": [],
   "source": [
    "from src.eval.labels import ds2label_model_truth\n",
    "ds2proxy = ds2label_model_truth\n",
    "proxy2label = lambda x, ds: x\n",
    "label_name = \"model_truth\""
   ]
  },
  {
   "cell_type": "code",
   "execution_count": 8,
   "metadata": {},
   "outputs": [],
   "source": [
    "# STRIDE=1\n",
    "# SKIP=0\n",
    "# DECIMATE=1\n",
    "# from typing import Tuple\n",
    "# from torch import Tensor\n",
    "\n",
    "# def ds2xy(ds: Dataset, ds2proxy) -> Tuple[Tensor, Tensor]:\n",
    "#     # x = torch.stack([ds['end_residual_stream_base'], ds['end_residual_stream_adapt']], -1)[:, SKIP::STIDE]\n",
    "#     X1 = torch.stack([ds['end_residual_fc1_base'], ds['end_residual_fc1_adapt']], dim=-1)\n",
    "#     X2 = torch.stack([ds['end_residual_Wqkv_base'], ds['end_residual_Wqkv_adapt']], dim=-1)\n",
    "#     x = torch.concat([X1, X2], dim=2)[:, SKIP::STRIDE, ::DECIMATE] # [layers, features, base/adapt]\n",
    "#     x = x * importance_matrix[None, :, :, None]**2\n",
    "#     y = ds2proxy(ds)\n",
    "#     return x, y\n"
   ]
  },
  {
   "cell_type": "code",
   "execution_count": 9,
   "metadata": {},
   "outputs": [],
   "source": [
    "from src.probes.lr import TorchRobustScaler, TorchLogisticRegression, TorchDummyClassifier\n",
    "from src.helpers.ds import train_test_split_ds\n",
    "from src.eval.pl_sk import analyze_dfres, SKEvaluator, PlainTruthEval"
   ]
  },
  {
   "cell_type": "code",
   "execution_count": 10,
   "metadata": {},
   "outputs": [],
   "source": [
    "insample_datasets = list(set(ds_val['ds_string_base']))"
   ]
  },
  {
   "cell_type": "code",
   "execution_count": 11,
   "metadata": {},
   "outputs": [],
   "source": [
    "evaluator = PlainTruthEval(ds_trainval=ds_val, ds_test=ds_oos, importance_matrix=importance_matrix)\n",
    "model = TorchLogisticRegression(random_state=42, \n",
    "                                max_iter=100,\n",
    "                                 class_weight='balanced',)\n",
    "evaluator.eval(model)"
   ]
  },
  {
   "cell_type": "code",
   "execution_count": null,
   "metadata": {},
   "outputs": [],
   "source": [
    "# def test_intervention_quality2(ds_trainval, ds_test, proxy2label, title=\"\", ):\n",
    "#     if ds_test is None:\n",
    "#         ds_trainval, ds_test = train_test_split_ds(ds_trainval, test_size=0.2, random_state=42)\n",
    "#     model = TorchDummyClassifier(random_state=42, strategy=\"most_frequent\")\n",
    "#     df_res = eval_ranking(model, ds_trainval, ds_test, proxy2label, ds2proxy)\n",
    "#     analyze_dfres(df_res);\n",
    "\n",
    "\n",
    "# # model = TorchDummyClassifier(random_state=42, strategy=\"most_frequent\")\n",
    "# # df_res = eval_ranking(model, ds_trainval, ds_test, proxy2label, ds2proxy)\n",
    "# # analyze_dfres(df_res);\n"
   ]
  },
  {
   "cell_type": "code",
   "execution_count": null,
   "metadata": {},
   "outputs": [],
   "source": []
  }
 ],
 "metadata": {
  "kernelspec": {
   "display_name": ".venv",
   "language": "python",
   "name": "python3"
  },
  "language_info": {
   "codemirror_mode": {
    "name": "ipython",
    "version": 3
   },
   "file_extension": ".py",
   "mimetype": "text/x-python",
   "name": "python",
   "nbconvert_exporter": "python",
   "pygments_lexer": "ipython3",
   "version": "3.11.0rc1"
  }
 },
 "nbformat": 4,
 "nbformat_minor": 2
}
