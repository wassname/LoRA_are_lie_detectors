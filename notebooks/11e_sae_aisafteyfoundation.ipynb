{
 "cells": [
  {
   "cell_type": "markdown",
   "metadata": {},
   "source": [
    "# Trying a sparse 1 layer autoencoder, then a probe"
   ]
  },
  {
   "cell_type": "markdown",
   "metadata": {},
   "source": []
  },
  {
   "cell_type": "code",
   "execution_count": 1,
   "metadata": {},
   "outputs": [],
   "source": [
    "import os\n",
    "import numpy as np\n",
    "import pandas as pd\n",
    "from matplotlib import pyplot as plt\n",
    "from tqdm.auto import tqdm\n",
    "\n",
    "\n",
    "\n",
    "from typing import Optional, List, Dict, Union\n",
    "from jaxtyping import Float\n",
    "from torch import Tensor\n",
    "\n",
    "import torch\n",
    "import torch.nn as nn\n",
    "import torch.nn.functional as F\n",
    "\n",
    "from torch import Tensor\n",
    "from torch import optim\n",
    "from torch.utils.data import random_split, DataLoader, TensorDataset\n",
    "\n",
    "from pathlib import Path\n",
    "from einops import rearrange\n",
    "\n",
    "import transformers\n",
    "from transformers import (\n",
    "    AutoTokenizer,\n",
    "    AutoModelForCausalLM,\n",
    "    BitsAndBytesConfig,\n",
    "    AutoConfig,\n",
    ")\n",
    "from peft import (\n",
    "    get_peft_config,\n",
    "    get_peft_model,\n",
    "    LoraConfig,\n",
    "    TaskType,\n",
    "    LoftQConfig,\n",
    "    IA3Config,\n",
    ")\n",
    "from pathlib import Path\n",
    "import datasets\n",
    "from datasets import Dataset\n",
    "\n",
    "from loguru import logger\n",
    "\n",
    "logger.add(os.sys.stderr, format=\"{time} {level} {message}\", level=\"INFO\")\n",
    "\n",
    "# load my code\n",
    "%load_ext autoreload\n",
    "%autoreload 2\n",
    "\n",
    "import lightning.pytorch as pl\n",
    "\n",
    "from src.config import ExtractConfig\n",
    "from src.llms.load import load_model\n",
    "from src.helpers.torch_helpers import clear_mem\n",
    "from src.llms.phi.model_phi import PhiForCausalLMWHS\n",
    "from src.eval.ds import filter_ds_to_known\n",
    "from src.datasets.act_dm import ActivationDataModule\n",
    "\n",
    "# plt.style.use(\"ggplot\")\n",
    "# plt.style.use(\"seaborn-v0_8\")\n",
    "import seaborn as sns\n",
    "sns.set_theme('paper')\n"
   ]
  },
  {
   "cell_type": "markdown",
   "metadata": {},
   "source": [
    "## Paramsnet\n"
   ]
  },
  {
   "cell_type": "code",
   "execution_count": 2,
   "metadata": {},
   "outputs": [],
   "source": [
    "# params\n",
    "\n",
    "# cfg = ExtractConfig(\n",
    "#     # model=\"microsoft/phi-2\",\n",
    "#     # # batch_size=1,\n",
    "#     # prompt_format=\"phi\",\n",
    "# )\n",
    "# cfg\n",
    "\n",
    "# params\n",
    "batch_size = 32\n",
    "lr = 1e-3 # at 3e-4 I get nan\n",
    "wd = 0 # 1e-5\n",
    "\n",
    "MAX_ROWS = 2000\n",
    "\n",
    "SKIP=5 # skip initial N layers\n",
    "STRIDE=4 # skip every N layers\n",
    "DECIMATE=1 # discard N features for speed\n",
    "\n",
    "device = \"cuda:0\"\n",
    "max_epochs = 44\n",
    "\n",
    "l1_coeff = 0.5 # 0.5  # neel uses 3e-4 ! https://github.dev/neelnanda-io/1L-Sparse-Autoencoder/blob/bcae01328a2f41d24bd4a9160828f2fc22737f75/utils.py#L106, but them they sum l1 where mean l2\n",
    "    # x_feats=x_feats. other use 1e-1\n",
    "\n",
    "\n",
    "BASE_FOLDER = Path(\"/media/wassname/SGIronWolf/projects5/elk/sgd_probes_are_lie_detectors/notebooks/lightning_logs/version_24/\")\n",
    "layers_names = (\n",
    "    'fc1', 'Wqkv',\n",
    "                 'fc2', 'out_proj')"
   ]
  },
  {
   "cell_type": "markdown",
   "metadata": {},
   "source": [
    "## Load data"
   ]
  },
  {
   "cell_type": "code",
   "execution_count": 3,
   "metadata": {},
   "outputs": [
    {
     "data": {
      "text/plain": [
       "(PosixPath('/media/wassname/SGIronWolf/projects5/elk/sgd_probes_are_lie_detectors/notebooks/lightning_logs/version_24/hidden_states/.ds/ds_valtest_8b8fd6070504d5ef'),\n",
       " PosixPath('/media/wassname/SGIronWolf/projects5/elk/sgd_probes_are_lie_detectors/notebooks/lightning_logs/version_24/hidden_states/.ds/ds_OOD_a41d3a61513ade30'))"
      ]
     },
     "execution_count": 3,
     "metadata": {},
     "output_type": "execute_result"
    }
   ],
   "source": [
    "# load hidden state from a previously loaded adapter\n",
    "# the columns with _base are from the base model, and adapt from adapter\n",
    "# FROM TRAINING TRUTH\n",
    "f1_val = next(iter(BASE_FOLDER.glob('hidden_states/.ds/ds_valtest_*')))\n",
    "f1_ood = next(iter(BASE_FOLDER.glob('hidden_states/.ds/ds_OOD_*')))\n",
    "f1_val, f1_ood"
   ]
  },
  {
   "cell_type": "code",
   "execution_count": null,
   "metadata": {},
   "outputs": [],
   "source": []
  },
  {
   "cell_type": "code",
   "execution_count": 4,
   "metadata": {},
   "outputs": [],
   "source": [
    "# # insample_datasets = list(set(ds_val['ds_string_base']))\n",
    "# # outsample_datasets = list(set(ds_ood['ds_string_base']))\n",
    "# # print(insample_datasets, outsample_datasets)\n",
    "# from src.datasets.act_dm import ActivationDataModule, SharedDataset\n",
    "\n",
    "\n",
    "# class ActivationDataModule2(ActivationDataModule):\n",
    "#     def to_tds(self, ds, name):\n",
    "#         \"\"\"huggingface dataset to pytorch.\"\"\"\n",
    "#         h = self.hparams\n",
    "#         # 4x faster if we make it a tensor ourselves\n",
    "#         ds = ds.with_format(None)\n",
    "#         tds = torch.utils.data.TensorDataset(\n",
    "#             torch.FloatTensor(ds['X'][..., 0]), torch.FloatTensor(ds['y']))\n",
    "        \n",
    "#         # this shared dataset is 10x faster with multiple workers\n",
    "#         if h.num_workers>0: \n",
    "#             tds = SharedDataset(tds, f\"{self.hparams.name}_{name}\") \n",
    "#         return tds"
   ]
  },
  {
   "cell_type": "code",
   "execution_count": 112,
   "metadata": {},
   "outputs": [
    {
     "name": "stdout",
     "output_type": "stream",
     "text": [
      "select rows are 74.39% based on knowledge\n"
     ]
    },
    {
     "data": {
      "application/vnd.jupyter.widget-view+json": {
       "model_id": "dd5b1f4404b74220aa358c61e09e863e",
       "version_major": 2,
       "version_minor": 0
      },
      "text/plain": [
       "Map:   0%|          | 0/615 [00:00<?, ? examples/s]"
      ]
     },
     "metadata": {},
     "output_type": "display_data"
    },
    {
     "name": "stderr",
     "output_type": "stream",
     "text": [
      "\u001b[32m2024-01-10 10:34:55.505\u001b[0m | \u001b[1mINFO    \u001b[0m | \u001b[36msrc.datasets.act_dm\u001b[0m:\u001b[36msetup\u001b[0m:\u001b[36m64\u001b[0m - \u001b[1mconverting datasets this may take a while... ds_OOD_a41d3a61513ade30 all\u001b[0m\n",
      "2024-01-10T10:34:55.505990+0800 INFO converting datasets this may take a while... ds_OOD_a41d3a61513ade30 all\n"
     ]
    },
    {
     "name": "stdout",
     "output_type": "stream",
     "text": [
      "making shared dataset with unique name all\n"
     ]
    }
   ],
   "source": [
    "input_columns = ['binary_ans_base', 'binary_ans_adapt' ] + [f'end_residual_{layer}_base' for layer in layers_names] + [f'end_residual_{layer}_adapt' for layer in layers_names]\n",
    "\n",
    "def ds2xy_batched(ds):\n",
    "    data = []\n",
    "    for layer in layers_names:\n",
    "        # Stack the base and adapter representations as a 4th dim\n",
    "        X1 = [ds[f'end_residual_{layer}_base'], ds[f'end_residual_{layer}_adapt']]\n",
    "        X1 = rearrange(X1, 'versions b l f  -> b l f versions')[..., 0]\n",
    "        data.append(X1)\n",
    "    \n",
    "    # concat layers\n",
    "    # x = rearrange(data, 'b parts l f v -> b l (parts f) v')\n",
    "    X = torch.concat(data, dim=2)[:, SKIP::STRIDE, ::DECIMATE]\n",
    "\n",
    "    y = ds['binary_ans_base']-ds['binary_ans_adapt']\n",
    "    return dict(X=X, y=y)\n",
    "\n",
    "\n",
    "\n",
    "def prepare_ds(ds):\n",
    "    \"\"\"\n",
    "    prepare a dataset for training\n",
    "\n",
    "    this should front load much of the computation\n",
    "    it should restrict it to the needed rows X and y\n",
    "    \n",
    "    \"\"\"\n",
    "    ds = (ds\n",
    "          .with_format(\"torch\")\n",
    "          .select_columns(input_columns)\n",
    "          .map(ds2xy_batched, batched=True, batch_size=128,\n",
    "        remove_columns=input_columns)\n",
    "    )\n",
    "    return ds\n",
    "\n",
    "def load_file_to_dm(f, stage):\n",
    "    ds1 = Dataset.from_file(str(f1_val), in_memory=True).with_format(\"torch\")\n",
    "    ds1 = filter_ds_to_known(ds1, verbose=True, true_col='truth')\n",
    "    ds = prepare_ds(ds1)\n",
    "\n",
    "    # limit size\n",
    "    MAX_SAMPLES = min(len(ds), MAX_ROWS*2)\n",
    "    ds = ds.select(range(0, MAX_SAMPLES))\n",
    "\n",
    "    dm = ActivationDataModule(ds, f.stem, batch_size=batch_size, num_workers=0)\n",
    "    dm.setup(stage)\n",
    "    dm.dm_orig = ds1\n",
    "    return dm\n",
    "\n",
    "\n",
    "dm = load_file_to_dm(f1_val, 'train')\n",
    "dm_ood = load_file_to_dm(f1_ood, 'all')"
   ]
  },
  {
   "cell_type": "code",
   "execution_count": null,
   "metadata": {},
   "outputs": [],
   "source": []
  },
  {
   "cell_type": "code",
   "execution_count": 6,
   "metadata": {},
   "outputs": [],
   "source": [
    "\n",
    "dl_train = dm.train_dataloader()\n",
    "dl_val = dm.val_dataloader()\n",
    "dl_test = dm.test_dataloader()\n",
    "dl_ood = dm_ood.all_dataloader()"
   ]
  },
  {
   "cell_type": "markdown",
   "metadata": {},
   "source": [
    "Experiment with dataloading speeds:\n",
    "- does it help to save the Xy dataset to disc, then load, while keeping in mem?. no not faster at all\n",
    "- does it help to use num_workers > 0? yes 3x faster\n",
    "- the shared dataset wrapper is 10x faster, and less mem"
   ]
  },
  {
   "cell_type": "markdown",
   "metadata": {},
   "source": [
    "# Get importance matrix from adapter"
   ]
  },
  {
   "cell_type": "code",
   "execution_count": 7,
   "metadata": {},
   "outputs": [],
   "source": [
    "# from src.probes.importance_matrix import get_importance_matrix\n",
    "\n",
    "\n",
    "# f = f\"{BASE_FOLDER}/checkpoint_last/adapter_model.safetensors\"\n",
    "# importance_matrix = get_importance_matrix(f, layers=layers_names)[SKIP::STRIDE, ::DECIMATE]\n",
    "# plt.hist(importance_matrix.flatten(), bins=155);\n",
    "importance_matrix = None\n"
   ]
  },
  {
   "cell_type": "code",
   "execution_count": 8,
   "metadata": {},
   "outputs": [],
   "source": [
    "# ((importance_matrix>0)*1.0).sum()"
   ]
  },
  {
   "cell_type": "code",
   "execution_count": null,
   "metadata": {},
   "outputs": [],
   "source": []
  },
  {
   "cell_type": "code",
   "execution_count": 10,
   "metadata": {},
   "outputs": [],
   "source": [
    "# ds_test2 = dm.datasets['test']\n",
    "# shape1 = ds_test2[0][0].shape\n",
    "# shape2= importance_matrix.shape\n",
    "# np.testing.assert_equal(shape1, shape2, err_msg=\"shape mismatch between ds and importance matrix\")\n"
   ]
  },
  {
   "cell_type": "markdown",
   "metadata": {},
   "source": [
    "# Model"
   ]
  },
  {
   "cell_type": "code",
   "execution_count": 11,
   "metadata": {},
   "outputs": [],
   "source": [
    "\n",
    "from src.vae.conv_inception import PLAE, LinBnDrop, PLBase, recursive_requires_grad, accuracy, auroc\n",
    "\n",
    "from src.vae.sae import AutoEncoder, AutoEncoderConfig"
   ]
  },
  {
   "cell_type": "code",
   "execution_count": null,
   "metadata": {},
   "outputs": [],
   "source": []
  },
  {
   "cell_type": "code",
   "execution_count": 12,
   "metadata": {},
   "outputs": [],
   "source": [
    "\n",
    "class PLAE(PLBase):\n",
    "    def __init__(\n",
    "        self,\n",
    "        c_in,\n",
    "        steps_per_epoch,\n",
    "        max_epochs,\n",
    "        # depth=0,\n",
    "        lr=4e-3,\n",
    "        weight_decay=1e-9,\n",
    "        # hs=64,\n",
    "        n_latent=32,\n",
    "        l1_coeff=1,\n",
    "        dropout=0,\n",
    "        importance_matrix=None,\n",
    "        **kwargs,\n",
    "    ):\n",
    "        super().__init__(steps_per_epoch=steps_per_epoch, max_epochs=max_epochs, lr=lr, weight_decay=weight_decay)\n",
    "        self.save_hyperparameters()\n",
    "\n",
    "        n_layers, n_channels = c_in\n",
    "        self.ae_cfg = AutoEncoderConfig(\n",
    "            n_instances=n_layers,\n",
    "            n_input_ae=n_channels,\n",
    "            n_hidden_ae=n_latent,\n",
    "            tied_weights=False,\n",
    "            l1_coeff=l1_coeff,\n",
    "        )\n",
    "\n",
    "        self.ae = AutoEncoder(\n",
    "            self.ae_cfg,\n",
    "            importance_matrix=importance_matrix,\n",
    "        )\n",
    "        \n",
    "        n = n_latent * n_layers\n",
    "        self.head = nn.Sequential(\n",
    "            LinBnDrop(n, n, bn=False),\n",
    "            LinBnDrop(n, n // 4, dropout=dropout, bn=False),\n",
    "            LinBnDrop(n // 4, n // 12, bn=False),\n",
    "            nn.Linear(n // 12, 1),\n",
    "            # nn.Tanh(),\n",
    "        )\n",
    "        self._ae_mode = True\n",
    "\n",
    "    def ae_mode(self, mode=0):\n",
    "        \"\"\"\n",
    "        mode 0, train the ae\n",
    "        mode 1, train only the prob\n",
    "        mode 2, train both\n",
    "        \"\"\"\n",
    "        if mode==0:\n",
    "            print('training ae')\n",
    "        elif mode==1:\n",
    "            print('training probe')\n",
    "        elif mode==2:\n",
    "            print('training both ae and probe')\n",
    "        self._ae_mode = mode\n",
    "        recursive_requires_grad(self.ae, mode in [0, 2])\n",
    "\n",
    "    def forward(self, x):\n",
    "        if x.ndim == 4:\n",
    "            x = x.squeeze(3)\n",
    "        # x = rearrange(x, \"b l h -> b h l\")\n",
    "        # if not self._ae_mode:\n",
    "        #     with torch.no_grad():\n",
    "        #         l1_loss, l2_loss, loss, latent, h_rec = self.ae(x)\n",
    "        # else:\n",
    "        l1_loss, l2_loss, loss, latent, h_rec = self.ae(x)\n",
    "\n",
    "        latent2 = rearrange(latent, \"b l h -> b (l h)\")\n",
    "        pred = self.head(latent2).squeeze(1)\n",
    "        return dict(\n",
    "            pred=pred,\n",
    "            l1_loss=l1_loss,\n",
    "            l2_loss=l2_loss,\n",
    "            loss=loss,\n",
    "            latent=latent,\n",
    "            h_rec=h_rec,\n",
    "        )\n",
    "\n",
    "    def _step(self, batch, batch_idx, stage=\"train\"):        \n",
    "        if stage == \"train\":\n",
    "            # Normalize the decoder weights before each optimization step\n",
    "            self.ae.normalize_decoder()\n",
    "\n",
    "\n",
    "        device = next(self.parameters()).device\n",
    "        x, y = batch # batch['X'], batch['y']\n",
    "        x = x.to(device)\n",
    "        y = y.to(device)\n",
    "        x0 = x#[..., 0]\n",
    "        # x1 = x[..., 1]\n",
    "        info0 = self(x0)\n",
    "        # info1 = self(x1)\n",
    "        # ypred1 = info1[\"pred\"]\n",
    "        logits = info0[\"pred\"]\n",
    "        y_probs = F.sigmoid(logits)\n",
    "        y_cls = y_probs > 0.5\n",
    "\n",
    "        if stage == \"pred\":\n",
    "            return (y_probs).float()\n",
    "        \n",
    "        pred_loss = F.binary_cross_entropy_with_logits(logits, (y>0.).float())\n",
    "\n",
    "        # pred_loss = F.smooth_l1_loss(ypred0, y)\n",
    "        rec_loss = info0[\"loss\"] \n",
    "        l1_loss = info0[\"l1_loss\"].mean()\n",
    "        l2_loss = info0[\"l2_loss\"].mean()\n",
    "\n",
    "        self.log(\n",
    "            f\"{stage}/auroc\",\n",
    "            auroc(y_probs, y > 0, \"binary\"),\n",
    "            on_epoch=True,\n",
    "            on_step=False,\n",
    "        )\n",
    "        self.log(\n",
    "            f\"{stage}/acc\",\n",
    "            accuracy(y_cls, y > 0, \"binary\"),\n",
    "            on_epoch=True,\n",
    "            on_step=False,\n",
    "        )\n",
    "        self.log(\n",
    "            f\"{stage}/loss_pred\",\n",
    "            float(pred_loss),\n",
    "            on_epoch=True,\n",
    "            on_step=True,\n",
    "            prog_bar=True,\n",
    "        )\n",
    "        self.log(\n",
    "            f\"{stage}/loss_rec\",\n",
    "            float(rec_loss),\n",
    "            on_epoch=True,\n",
    "            on_step=True,\n",
    "            prog_bar=True,\n",
    "        )\n",
    "        self.log(f\"{stage}/l1_loss\", l1_loss, on_epoch=True, on_step=False)\n",
    "        self.log(f\"{stage}/l2_loss\", l2_loss, on_epoch=True, on_step=False)\n",
    "        self.log(\n",
    "            f\"{stage}/n\",\n",
    "            float(len(y)),\n",
    "            on_epoch=True,\n",
    "            on_step=False,\n",
    "            reduce_fx=torch.sum,\n",
    "        )\n",
    "        if self._ae_mode == 0:\n",
    "            assert torch.isfinite(rec_loss), \"rec_loss is not finite\"\n",
    "            return rec_loss\n",
    "        elif self._ae_mode == 1:\n",
    "            assert torch.isfinite(pred_loss), \"pred_loss is not finite\"\n",
    "            return pred_loss\n",
    "        elif self._ae_mode == 2:\n",
    "            # , train/loss_pred_epoch=0.0195, train/loss_rec_epoch=169.0\n",
    "            assert torch.isfinite(pred_loss), \"pred_loss is not finite\"\n",
    "            assert torch.isfinite(rec_loss), \"rec_loss is not finite\"\n",
    "            return pred_loss * 50000 + rec_loss"
   ]
  },
  {
   "cell_type": "markdown",
   "metadata": {},
   "source": [
    "# Train"
   ]
  },
  {
   "cell_type": "markdown",
   "metadata": {},
   "source": [
    "### Metrics\n"
   ]
  },
  {
   "cell_type": "markdown",
   "metadata": {},
   "source": [
    "### Setup"
   ]
  },
  {
   "cell_type": "code",
   "execution_count": 13,
   "metadata": {},
   "outputs": [
    {
     "name": "stdout",
     "output_type": "stream",
     "text": [
      "10 5\n",
      "torch.Size([32, 7, 23040]) x\n"
     ]
    }
   ],
   "source": [
    "\n",
    "\n",
    "print(len(dl_train), len(dl_val))\n",
    "b = next(iter(dl_train))\n",
    "x, y = b # b['X'], b['y']\n",
    "print(x.shape, \"x\")\n",
    "if x.ndim == 3:\n",
    "    x = x.unsqueeze(-1)\n",
    "c_in = x.shape[1:-1]\n"
   ]
  },
  {
   "cell_type": "code",
   "execution_count": 14,
   "metadata": {},
   "outputs": [],
   "source": [
    "# # TEST\n",
    "# for b in tqdm(dl_train):\n",
    "#     pass"
   ]
  },
  {
   "cell_type": "code",
   "execution_count": 15,
   "metadata": {},
   "outputs": [],
   "source": [
    "# %%time\n",
    "# # oh no, this is very slow\n",
    "# g = iter(dl_train)\n",
    "# b = next(g)\n",
    "# b = next(g)\n"
   ]
  },
  {
   "cell_type": "code",
   "execution_count": 16,
   "metadata": {},
   "outputs": [
    {
     "name": "stdout",
     "output_type": "stream",
     "text": [
      "torch.Size([7, 23040])\n"
     ]
    },
    {
     "data": {
      "text/plain": [
       "({'pred': tensor(0.0577),\n",
       "  'l1_loss': tensor(447.2836),\n",
       "  'l2_loss': tensor(35908708.),\n",
       "  'loss': tensor(35908928.),\n",
       "  'latent': tensor(0.2496),\n",
       "  'h_rec': tensor(0.0031)},\n",
       " {'pred': torch.Size([32]),\n",
       "  'l1_loss': torch.Size([32]),\n",
       "  'l2_loss': torch.Size([32]),\n",
       "  'loss': torch.Size([]),\n",
       "  'latent': torch.Size([32, 7, 256]),\n",
       "  'h_rec': torch.Size([32, 7, 23040])})"
      ]
     },
     "execution_count": 16,
     "metadata": {},
     "output_type": "execute_result"
    }
   ],
   "source": [
    "\n",
    "net = PLAE(\n",
    "    c_in=c_in,\n",
    "    steps_per_epoch=len(dl_train),\n",
    "    max_epochs=max_epochs,\n",
    "    lr=lr,\n",
    "    weight_decay=wd,\n",
    "    # hs=64,\n",
    "    dropout=0,\n",
    "    n_latent=256, # there will be layers * n_latent latent features\n",
    "    l1_coeff=l1_coeff, \n",
    "    importance_matrix=importance_matrix,\n",
    ")\n",
    "print(c_in)\n",
    "x1= x[..., 0]\n",
    "with torch.no_grad():\n",
    "    y = net(x1)\n",
    "{k: v.abs().mean() for k, v in y.items()}, {k: v.shape for k, v in y.items()}"
   ]
  },
  {
   "cell_type": "code",
   "execution_count": 17,
   "metadata": {},
   "outputs": [
    {
     "data": {
      "text/plain": [
       "2048.714285714286"
      ]
     },
     "execution_count": 17,
     "metadata": {},
     "output_type": "execute_result"
    }
   ],
   "source": [
    "14341/c_in[0]"
   ]
  },
  {
   "cell_type": "code",
   "execution_count": 18,
   "metadata": {},
   "outputs": [
    {
     "data": {
      "text/plain": [
       "==========================================================================================\n",
       "Layer (type:depth-idx)                   Output Shape              Param #\n",
       "==========================================================================================\n",
       "PLAE                                     [32, 7, 23040]            --\n",
       "├─AutoEncoder: 1-1                       [32]                      82,738,432\n",
       "├─Sequential: 1-2                        [32, 1]                   --\n",
       "│    └─LinBnDrop: 2-1                    [32, 1792]                --\n",
       "│    │    └─Linear: 3-1                  [32, 1792]                3,213,056\n",
       "│    │    └─ReLU: 3-2                    [32, 1792]                --\n",
       "│    └─LinBnDrop: 2-2                    [32, 448]                 --\n",
       "│    │    └─Linear: 3-3                  [32, 448]                 803,264\n",
       "│    │    └─ReLU: 3-4                    [32, 448]                 --\n",
       "│    └─LinBnDrop: 2-3                    [32, 149]                 --\n",
       "│    │    └─Linear: 3-5                  [32, 149]                 66,901\n",
       "│    │    └─ReLU: 3-6                    [32, 149]                 --\n",
       "│    └─Linear: 2-4                       [32, 1]                   150\n",
       "==========================================================================================\n",
       "Total params: 86,821,803\n",
       "Trainable params: 86,821,803\n",
       "Non-trainable params: 0\n",
       "Total mult-adds (Units.MEGABYTES): 130.67\n",
       "==========================================================================================\n",
       "Input size (MB): 20.64\n",
       "Forward/backward pass size (MB): 0.61\n",
       "Params size (MB): 347.29\n",
       "Estimated Total Size (MB): 368.54\n",
       "=========================================================================================="
      ]
     },
     "execution_count": 18,
     "metadata": {},
     "output_type": "execute_result"
    }
   ],
   "source": [
    "from torchinfo import summary\n",
    "\n",
    "summary(net, input_data=x1, depth=4)  # input_size=(batch_size, 1, 28, 28))\n"
   ]
  },
  {
   "cell_type": "markdown",
   "metadata": {},
   "source": [
    "### Train autoencoder"
   ]
  },
  {
   "cell_type": "code",
   "execution_count": 19,
   "metadata": {},
   "outputs": [],
   "source": [
    "torch.set_float32_matmul_precision('medium')"
   ]
  },
  {
   "cell_type": "code",
   "execution_count": 20,
   "metadata": {},
   "outputs": [],
   "source": [
    "# %%time\n",
    "# for b in tqdm(dl_train):\n",
    "#     pass"
   ]
  },
  {
   "cell_type": "code",
   "execution_count": 21,
   "metadata": {},
   "outputs": [],
   "source": [
    "with torch.no_grad():\n",
    "    o = net.predict_step(b)\n",
    "    l1_loss, l2_loss, loss, acts, h_reconstructed = net.ae(b[0])"
   ]
  },
  {
   "cell_type": "code",
   "execution_count": 22,
   "metadata": {},
   "outputs": [],
   "source": [
    "# l1_coeff = 0.5"
   ]
  },
  {
   "cell_type": "code",
   "execution_count": 23,
   "metadata": {},
   "outputs": [
    {
     "data": {
      "text/plain": [
       "tensor(3369.)"
      ]
     },
     "execution_count": 23,
     "metadata": {},
     "output_type": "execute_result"
    }
   ],
   "source": [
    "((acts>1)*1.0).sum()"
   ]
  },
  {
   "cell_type": "code",
   "execution_count": 24,
   "metadata": {},
   "outputs": [
    {
     "data": {
      "text/plain": [
       "(tensor([454.3978, 454.7835, 448.6992, 441.6068, 417.2707, 448.6612, 475.8464,\n",
       "         458.5211, 471.8102, 444.4535, 466.0010, 450.3542, 447.6740, 455.9492,\n",
       "         460.3827, 450.3036, 458.3523, 450.4668, 463.0191, 460.2495, 367.9336,\n",
       "         456.1146, 454.4958, 465.9121, 455.3669, 456.8765, 418.1169, 398.1932,\n",
       "         475.9533, 461.2486, 444.1835, 379.8762]),\n",
       " tensor([72751472., 74363224., 73388864., 69565112., 58488100., 72698944.,\n",
       "         86736288., 76342368., 80661376., 67314328., 79999608., 70294944.,\n",
       "         70709360., 74207688., 76094648., 74251960., 77935376., 74227056.,\n",
       "         78577632., 77667496., 37289508., 73902656., 74154384., 82430536.,\n",
       "         73620992., 74764248., 61144036., 52865812., 84504080., 78896800.,\n",
       "         72299680., 46008636.]))"
      ]
     },
     "execution_count": 24,
     "metadata": {},
     "output_type": "execute_result"
    }
   ],
   "source": [
    "l1_loss, l2_loss/l1_coeff"
   ]
  },
  {
   "cell_type": "code",
   "execution_count": 25,
   "metadata": {},
   "outputs": [],
   "source": [
    "from src.helpers.lightning import read_metrics_csv, plot_hist, rename_pl_test_results\n",
    "\n",
    "from lightning.pytorch.callbacks import LearningRateMonitor"
   ]
  },
  {
   "cell_type": "code",
   "execution_count": 26,
   "metadata": {},
   "outputs": [
    {
     "name": "stderr",
     "output_type": "stream",
     "text": [
      "Using 16bit Automatic Mixed Precision (AMP)\n"
     ]
    },
    {
     "name": "stdout",
     "output_type": "stream",
     "text": [
      "training ae\n",
      "requires_grad: True\n"
     ]
    },
    {
     "name": "stderr",
     "output_type": "stream",
     "text": [
      "GPU available: True (cuda), used: True\n",
      "TPU available: False, using: 0 TPU cores\n",
      "IPU available: False, using: 0 IPUs\n",
      "HPU available: False, using: 0 HPUs\n",
      "/media/wassname/SGIronWolf/projects5/elk/sgd_probes_are_lie_detectors/.venv/lib/python3.11/site-packages/lightning/pytorch/trainer/connectors/logger_connector/logger_connector.py:67: Starting from v1.9.0, `tensorboardX` has been removed as a dependency of the `lightning.pytorch` package, due to potential conflicts with other packages in the ML ecosystem. For this reason, `logger=True` will use `CSVLogger` as the default logger, unless the `tensorboard` or `tensorboardX` packages are found. Please `pip install lightning[extra]` or one of them to enable TensorBoard support by default\n",
      "LOCAL_RANK: 0 - CUDA_VISIBLE_DEVICES: [0,1]\n",
      "\n",
      "  | Name | Type        | Params\n",
      "-------------------------------------\n",
      "0 | ae   | AutoEncoder | 82.7 M\n",
      "1 | head | Sequential  | 4.1 M \n",
      "-------------------------------------\n",
      "86.8 M    Trainable params\n",
      "0         Non-trainable params\n",
      "86.8 M    Total params\n",
      "347.287   Total estimated model params size (MB)\n"
     ]
    },
    {
     "data": {
      "application/vnd.jupyter.widget-view+json": {
       "model_id": "6a627c6df26249bd80537b23c37a3b6f",
       "version_major": 2,
       "version_minor": 0
      },
      "text/plain": [
       "Sanity Checking: |          | 0/? [00:00<?, ?it/s]"
      ]
     },
     "metadata": {},
     "output_type": "display_data"
    },
    {
     "name": "stderr",
     "output_type": "stream",
     "text": [
      "/media/wassname/SGIronWolf/projects5/elk/sgd_probes_are_lie_detectors/.venv/lib/python3.11/site-packages/lightning/pytorch/trainer/connectors/data_connector.py:441: The 'val_dataloader' does not have many workers which may be a bottleneck. Consider increasing the value of the `num_workers` argument` to `num_workers=23` in the `DataLoader` to improve performance.\n",
      "/media/wassname/SGIronWolf/projects5/elk/sgd_probes_are_lie_detectors/.venv/lib/python3.11/site-packages/lightning/pytorch/trainer/connectors/data_connector.py:441: The 'train_dataloader' does not have many workers which may be a bottleneck. Consider increasing the value of the `num_workers` argument` to `num_workers=23` in the `DataLoader` to improve performance.\n"
     ]
    },
    {
     "data": {
      "application/vnd.jupyter.widget-view+json": {
       "model_id": "6a24e4be31ae497594156b3d8c74737f",
       "version_major": 2,
       "version_minor": 0
      },
      "text/plain": [
       "Training: |          | 0/? [00:00<?, ?it/s]"
      ]
     },
     "metadata": {},
     "output_type": "display_data"
    },
    {
     "data": {
      "application/vnd.jupyter.widget-view+json": {
       "model_id": "f87c9d44571b49a1b90294944b4d64bc",
       "version_major": 2,
       "version_minor": 0
      },
      "text/plain": [
       "Validation: |          | 0/? [00:00<?, ?it/s]"
      ]
     },
     "metadata": {},
     "output_type": "display_data"
    },
    {
     "data": {
      "application/vnd.jupyter.widget-view+json": {
       "model_id": "a5ead07b2a674a8e8a7b576743f19f0a",
       "version_major": 2,
       "version_minor": 0
      },
      "text/plain": [
       "Validation: |          | 0/? [00:00<?, ?it/s]"
      ]
     },
     "metadata": {},
     "output_type": "display_data"
    },
    {
     "data": {
      "application/vnd.jupyter.widget-view+json": {
       "model_id": "4499b30454274141b803ce6847e8c408",
       "version_major": 2,
       "version_minor": 0
      },
      "text/plain": [
       "Validation: |          | 0/? [00:00<?, ?it/s]"
      ]
     },
     "metadata": {},
     "output_type": "display_data"
    },
    {
     "data": {
      "application/vnd.jupyter.widget-view+json": {
       "model_id": "83fae2eb90784b60a29fde4fffa86871",
       "version_major": 2,
       "version_minor": 0
      },
      "text/plain": [
       "Validation: |          | 0/? [00:00<?, ?it/s]"
      ]
     },
     "metadata": {},
     "output_type": "display_data"
    },
    {
     "data": {
      "application/vnd.jupyter.widget-view+json": {
       "model_id": "109f722e2000478db515b6d128cd09ee",
       "version_major": 2,
       "version_minor": 0
      },
      "text/plain": [
       "Validation: |          | 0/? [00:00<?, ?it/s]"
      ]
     },
     "metadata": {},
     "output_type": "display_data"
    },
    {
     "data": {
      "application/vnd.jupyter.widget-view+json": {
       "model_id": "658987429c8b4512a3660a8b12d20e21",
       "version_major": 2,
       "version_minor": 0
      },
      "text/plain": [
       "Validation: |          | 0/? [00:00<?, ?it/s]"
      ]
     },
     "metadata": {},
     "output_type": "display_data"
    },
    {
     "data": {
      "application/vnd.jupyter.widget-view+json": {
       "model_id": "212514558b1d406fad961116c9156dd2",
       "version_major": 2,
       "version_minor": 0
      },
      "text/plain": [
       "Validation: |          | 0/? [00:00<?, ?it/s]"
      ]
     },
     "metadata": {},
     "output_type": "display_data"
    },
    {
     "data": {
      "application/vnd.jupyter.widget-view+json": {
       "model_id": "39eacffccde74f2d989b7b0bd9657a71",
       "version_major": 2,
       "version_minor": 0
      },
      "text/plain": [
       "Validation: |          | 0/? [00:00<?, ?it/s]"
      ]
     },
     "metadata": {},
     "output_type": "display_data"
    },
    {
     "data": {
      "application/vnd.jupyter.widget-view+json": {
       "model_id": "c5d75b4d097547629ea655382ef30c4b",
       "version_major": 2,
       "version_minor": 0
      },
      "text/plain": [
       "Validation: |          | 0/? [00:00<?, ?it/s]"
      ]
     },
     "metadata": {},
     "output_type": "display_data"
    },
    {
     "data": {
      "application/vnd.jupyter.widget-view+json": {
       "model_id": "67ba2a0a9227417694994f078e4debba",
       "version_major": 2,
       "version_minor": 0
      },
      "text/plain": [
       "Validation: |          | 0/? [00:00<?, ?it/s]"
      ]
     },
     "metadata": {},
     "output_type": "display_data"
    },
    {
     "data": {
      "application/vnd.jupyter.widget-view+json": {
       "model_id": "ae49780605324bb897012952a4c916c6",
       "version_major": 2,
       "version_minor": 0
      },
      "text/plain": [
       "Validation: |          | 0/? [00:00<?, ?it/s]"
      ]
     },
     "metadata": {},
     "output_type": "display_data"
    },
    {
     "data": {
      "application/vnd.jupyter.widget-view+json": {
       "model_id": "84e813adff7846b8b9172d9693d75779",
       "version_major": 2,
       "version_minor": 0
      },
      "text/plain": [
       "Validation: |          | 0/? [00:00<?, ?it/s]"
      ]
     },
     "metadata": {},
     "output_type": "display_data"
    },
    {
     "data": {
      "application/vnd.jupyter.widget-view+json": {
       "model_id": "ed21fb7a3f9a49779bdfc7d21dda41d7",
       "version_major": 2,
       "version_minor": 0
      },
      "text/plain": [
       "Validation: |          | 0/? [00:00<?, ?it/s]"
      ]
     },
     "metadata": {},
     "output_type": "display_data"
    },
    {
     "data": {
      "application/vnd.jupyter.widget-view+json": {
       "model_id": "6a84eef622d6440caf84a34cbdadd3e3",
       "version_major": 2,
       "version_minor": 0
      },
      "text/plain": [
       "Validation: |          | 0/? [00:00<?, ?it/s]"
      ]
     },
     "metadata": {},
     "output_type": "display_data"
    },
    {
     "data": {
      "application/vnd.jupyter.widget-view+json": {
       "model_id": "90ae5aab207f4914a95a59978c1ac308",
       "version_major": 2,
       "version_minor": 0
      },
      "text/plain": [
       "Validation: |          | 0/? [00:00<?, ?it/s]"
      ]
     },
     "metadata": {},
     "output_type": "display_data"
    },
    {
     "data": {
      "application/vnd.jupyter.widget-view+json": {
       "model_id": "de625ba1859b4ece8e296b64b2907632",
       "version_major": 2,
       "version_minor": 0
      },
      "text/plain": [
       "Validation: |          | 0/? [00:00<?, ?it/s]"
      ]
     },
     "metadata": {},
     "output_type": "display_data"
    },
    {
     "data": {
      "application/vnd.jupyter.widget-view+json": {
       "model_id": "04cbb718b1934a2081939269a7706069",
       "version_major": 2,
       "version_minor": 0
      },
      "text/plain": [
       "Validation: |          | 0/? [00:00<?, ?it/s]"
      ]
     },
     "metadata": {},
     "output_type": "display_data"
    },
    {
     "data": {
      "application/vnd.jupyter.widget-view+json": {
       "model_id": "4077267d363045629aafd20a96f0e4f3",
       "version_major": 2,
       "version_minor": 0
      },
      "text/plain": [
       "Validation: |          | 0/? [00:00<?, ?it/s]"
      ]
     },
     "metadata": {},
     "output_type": "display_data"
    },
    {
     "data": {
      "application/vnd.jupyter.widget-view+json": {
       "model_id": "d5524ba3f32e48689eabaaa019bdc319",
       "version_major": 2,
       "version_minor": 0
      },
      "text/plain": [
       "Validation: |          | 0/? [00:00<?, ?it/s]"
      ]
     },
     "metadata": {},
     "output_type": "display_data"
    },
    {
     "data": {
      "application/vnd.jupyter.widget-view+json": {
       "model_id": "42e0df128aa1466fbc7abe75066d3ffb",
       "version_major": 2,
       "version_minor": 0
      },
      "text/plain": [
       "Validation: |          | 0/? [00:00<?, ?it/s]"
      ]
     },
     "metadata": {},
     "output_type": "display_data"
    },
    {
     "data": {
      "application/vnd.jupyter.widget-view+json": {
       "model_id": "42629729b78e4669baa110d93d0e9585",
       "version_major": 2,
       "version_minor": 0
      },
      "text/plain": [
       "Validation: |          | 0/? [00:00<?, ?it/s]"
      ]
     },
     "metadata": {},
     "output_type": "display_data"
    },
    {
     "data": {
      "application/vnd.jupyter.widget-view+json": {
       "model_id": "adc3a04a18794dd49d109f01144cab4b",
       "version_major": 2,
       "version_minor": 0
      },
      "text/plain": [
       "Validation: |          | 0/? [00:00<?, ?it/s]"
      ]
     },
     "metadata": {},
     "output_type": "display_data"
    },
    {
     "data": {
      "application/vnd.jupyter.widget-view+json": {
       "model_id": "d089c1e2563e443ba840e0dcf90f5c85",
       "version_major": 2,
       "version_minor": 0
      },
      "text/plain": [
       "Validation: |          | 0/? [00:00<?, ?it/s]"
      ]
     },
     "metadata": {},
     "output_type": "display_data"
    },
    {
     "data": {
      "application/vnd.jupyter.widget-view+json": {
       "model_id": "42a9ee00a5e14066ac25b91d045a4d81",
       "version_major": 2,
       "version_minor": 0
      },
      "text/plain": [
       "Validation: |          | 0/? [00:00<?, ?it/s]"
      ]
     },
     "metadata": {},
     "output_type": "display_data"
    },
    {
     "data": {
      "application/vnd.jupyter.widget-view+json": {
       "model_id": "9f359c14a40c413ea9f635c55b5d66ab",
       "version_major": 2,
       "version_minor": 0
      },
      "text/plain": [
       "Validation: |          | 0/? [00:00<?, ?it/s]"
      ]
     },
     "metadata": {},
     "output_type": "display_data"
    },
    {
     "data": {
      "application/vnd.jupyter.widget-view+json": {
       "model_id": "45929a2673fa4f4a80e8616ed90ab968",
       "version_major": 2,
       "version_minor": 0
      },
      "text/plain": [
       "Validation: |          | 0/? [00:00<?, ?it/s]"
      ]
     },
     "metadata": {},
     "output_type": "display_data"
    },
    {
     "data": {
      "application/vnd.jupyter.widget-view+json": {
       "model_id": "5cc9e9a41c7b4e6fb49bac930b0754cb",
       "version_major": 2,
       "version_minor": 0
      },
      "text/plain": [
       "Validation: |          | 0/? [00:00<?, ?it/s]"
      ]
     },
     "metadata": {},
     "output_type": "display_data"
    },
    {
     "data": {
      "application/vnd.jupyter.widget-view+json": {
       "model_id": "9e55d2947a6a483b962fc71196c1194d",
       "version_major": 2,
       "version_minor": 0
      },
      "text/plain": [
       "Validation: |          | 0/? [00:00<?, ?it/s]"
      ]
     },
     "metadata": {},
     "output_type": "display_data"
    },
    {
     "data": {
      "application/vnd.jupyter.widget-view+json": {
       "model_id": "bdf7d7b969e1462aae4ef934d76320d0",
       "version_major": 2,
       "version_minor": 0
      },
      "text/plain": [
       "Validation: |          | 0/? [00:00<?, ?it/s]"
      ]
     },
     "metadata": {},
     "output_type": "display_data"
    },
    {
     "data": {
      "application/vnd.jupyter.widget-view+json": {
       "model_id": "6d9ef1d39c1a4a4e9ccfd7b4f113ecb3",
       "version_major": 2,
       "version_minor": 0
      },
      "text/plain": [
       "Validation: |          | 0/? [00:00<?, ?it/s]"
      ]
     },
     "metadata": {},
     "output_type": "display_data"
    },
    {
     "data": {
      "application/vnd.jupyter.widget-view+json": {
       "model_id": "68d3359339424f0d8ec08b8ec3e503a4",
       "version_major": 2,
       "version_minor": 0
      },
      "text/plain": [
       "Validation: |          | 0/? [00:00<?, ?it/s]"
      ]
     },
     "metadata": {},
     "output_type": "display_data"
    },
    {
     "data": {
      "application/vnd.jupyter.widget-view+json": {
       "model_id": "e7ffff7ae31847ea8b2b3603802c1427",
       "version_major": 2,
       "version_minor": 0
      },
      "text/plain": [
       "Validation: |          | 0/? [00:00<?, ?it/s]"
      ]
     },
     "metadata": {},
     "output_type": "display_data"
    },
    {
     "data": {
      "application/vnd.jupyter.widget-view+json": {
       "model_id": "9818710802b14c439508472a9d307317",
       "version_major": 2,
       "version_minor": 0
      },
      "text/plain": [
       "Validation: |          | 0/? [00:00<?, ?it/s]"
      ]
     },
     "metadata": {},
     "output_type": "display_data"
    },
    {
     "data": {
      "application/vnd.jupyter.widget-view+json": {
       "model_id": "02744a35302d42d3993199651c5b1eed",
       "version_major": 2,
       "version_minor": 0
      },
      "text/plain": [
       "Validation: |          | 0/? [00:00<?, ?it/s]"
      ]
     },
     "metadata": {},
     "output_type": "display_data"
    },
    {
     "data": {
      "application/vnd.jupyter.widget-view+json": {
       "model_id": "ca7ada725f6d4dd2a4f3c96e6a7ff9ce",
       "version_major": 2,
       "version_minor": 0
      },
      "text/plain": [
       "Validation: |          | 0/? [00:00<?, ?it/s]"
      ]
     },
     "metadata": {},
     "output_type": "display_data"
    },
    {
     "data": {
      "application/vnd.jupyter.widget-view+json": {
       "model_id": "9704f27d3adf44a895d0f5dbf3849fe9",
       "version_major": 2,
       "version_minor": 0
      },
      "text/plain": [
       "Validation: |          | 0/? [00:00<?, ?it/s]"
      ]
     },
     "metadata": {},
     "output_type": "display_data"
    },
    {
     "data": {
      "application/vnd.jupyter.widget-view+json": {
       "model_id": "3075ef87bdeb4e188942edf0aa34953c",
       "version_major": 2,
       "version_minor": 0
      },
      "text/plain": [
       "Validation: |          | 0/? [00:00<?, ?it/s]"
      ]
     },
     "metadata": {},
     "output_type": "display_data"
    },
    {
     "data": {
      "application/vnd.jupyter.widget-view+json": {
       "model_id": "ba1057e5a4fd48b8829bd60062669c01",
       "version_major": 2,
       "version_minor": 0
      },
      "text/plain": [
       "Validation: |          | 0/? [00:00<?, ?it/s]"
      ]
     },
     "metadata": {},
     "output_type": "display_data"
    },
    {
     "data": {
      "application/vnd.jupyter.widget-view+json": {
       "model_id": "e8b43385ccd145839d1c6181a1472ea9",
       "version_major": 2,
       "version_minor": 0
      },
      "text/plain": [
       "Validation: |          | 0/? [00:00<?, ?it/s]"
      ]
     },
     "metadata": {},
     "output_type": "display_data"
    },
    {
     "data": {
      "application/vnd.jupyter.widget-view+json": {
       "model_id": "204f33de1c214d99a0442e035c0fe318",
       "version_major": 2,
       "version_minor": 0
      },
      "text/plain": [
       "Validation: |          | 0/? [00:00<?, ?it/s]"
      ]
     },
     "metadata": {},
     "output_type": "display_data"
    },
    {
     "data": {
      "application/vnd.jupyter.widget-view+json": {
       "model_id": "63e24da4c5e647dda9b2b6466d30f804",
       "version_major": 2,
       "version_minor": 0
      },
      "text/plain": [
       "Validation: |          | 0/? [00:00<?, ?it/s]"
      ]
     },
     "metadata": {},
     "output_type": "display_data"
    },
    {
     "data": {
      "application/vnd.jupyter.widget-view+json": {
       "model_id": "0e2b3487c1cb4079a29f6aee3a658d7c",
       "version_major": 2,
       "version_minor": 0
      },
      "text/plain": [
       "Validation: |          | 0/? [00:00<?, ?it/s]"
      ]
     },
     "metadata": {},
     "output_type": "display_data"
    },
    {
     "data": {
      "application/vnd.jupyter.widget-view+json": {
       "model_id": "59f955bed7b646239389724b466ccbff",
       "version_major": 2,
       "version_minor": 0
      },
      "text/plain": [
       "Validation: |          | 0/? [00:00<?, ?it/s]"
      ]
     },
     "metadata": {},
     "output_type": "display_data"
    },
    {
     "data": {
      "application/vnd.jupyter.widget-view+json": {
       "model_id": "acfc1440a01a4a78b5a916dc08351c72",
       "version_major": 2,
       "version_minor": 0
      },
      "text/plain": [
       "Validation: |          | 0/? [00:00<?, ?it/s]"
      ]
     },
     "metadata": {},
     "output_type": "display_data"
    },
    {
     "name": "stderr",
     "output_type": "stream",
     "text": [
      "`Trainer.fit` stopped: `max_epochs=44` reached.\n"
     ]
    },
    {
     "data": {
      "image/png": "[encoded data removed]",
      "text/plain": [
       "<Figure size 640x480 with 1 Axes>"
      ]
     },
     "metadata": {},
     "output_type": "display_data"
    },
    {
     "data": {
      "image/png": "[encoded data removed]",
      "text/plain": [
       "<Figure size 640x480 with 1 Axes>"
      ]
     },
     "metadata": {},
     "output_type": "display_data"
    },
    {
     "data": {
      "image/png": "[encoded data removed]",
      "text/plain": [
       "<Figure size 640x480 with 1 Axes>"
      ]
     },
     "metadata": {},
     "output_type": "display_data"
    },
    {
     "data": {
      "text/html": [
       "<div>\n",
       "<style scoped>\n",
       "    .dataframe tbody tr th:only-of-type {\n",
       "        vertical-align: middle;\n",
       "    }\n",
       "\n",
       "    .dataframe tbody tr th {\n",
       "        vertical-align: top;\n",
       "    }\n",
       "\n",
       "    .dataframe thead th {\n",
       "        text-align: right;\n",
       "    }\n",
       "</style>\n",
       "<table border=\"1\" class=\"dataframe\">\n",
       "  <thead>\n",
       "    <tr style=\"text-align: right;\">\n",
       "      <th></th>\n",
       "      <th>train/loss_rec_step</th>\n",
       "      <th>lr-AdamW</th>\n",
       "      <th>step</th>\n",
       "      <th>train/loss_pred_step</th>\n",
       "      <th>val/loss_pred_step</th>\n",
       "      <th>val/loss_rec_step</th>\n",
       "      <th>val/loss_pred_epoch</th>\n",
       "      <th>val/l1_loss</th>\n",
       "      <th>val/n</th>\n",
       "      <th>val/auroc</th>\n",
       "      <th>val/l2_loss</th>\n",
       "      <th>val/loss_rec_epoch</th>\n",
       "      <th>val/acc</th>\n",
       "      <th>train/acc</th>\n",
       "      <th>train/l2_loss</th>\n",
       "      <th>train/loss_pred_epoch</th>\n",
       "      <th>train/l1_loss</th>\n",
       "      <th>train/n</th>\n",
       "      <th>train/auroc</th>\n",
       "      <th>train/loss_rec_epoch</th>\n",
       "    </tr>\n",
       "    <tr>\n",
       "      <th>epoch</th>\n",
       "      <th></th>\n",
       "      <th></th>\n",
       "      <th></th>\n",
       "      <th></th>\n",
       "      <th></th>\n",
       "      <th></th>\n",
       "      <th></th>\n",
       "      <th></th>\n",
       "      <th></th>\n",
       "      <th></th>\n",
       "      <th></th>\n",
       "      <th></th>\n",
       "      <th></th>\n",
       "      <th></th>\n",
       "      <th></th>\n",
       "      <th></th>\n",
       "      <th></th>\n",
       "      <th></th>\n",
       "      <th></th>\n",
       "      <th></th>\n",
       "    </tr>\n",
       "  </thead>\n",
       "  <tbody>\n",
       "    <tr>\n",
       "      <th>0.0</th>\n",
       "      <td>3.461290e+07</td>\n",
       "      <td>5.373681e-05</td>\n",
       "      <td>10</td>\n",
       "      <td>0.690982</td>\n",
       "      <td>0.703907</td>\n",
       "      <td>3.578138e+07</td>\n",
       "      <td>0.694671</td>\n",
       "      <td>443.252899</td>\n",
       "      <td>154.0</td>\n",
       "      <td>0.491922</td>\n",
       "      <td>3.495302e+07</td>\n",
       "      <td>3.495324e+07</td>\n",
       "      <td>0.487013</td>\n",
       "      <td>0.384365</td>\n",
       "      <td>3.534922e+07</td>\n",
       "      <td>0.701103</td>\n",
       "      <td>444.834473</td>\n",
       "      <td>307.0</td>\n",
       "      <td>0.427860</td>\n",
       "      <td>3.534944e+07</td>\n",
       "    </tr>\n",
       "    <tr>\n",
       "      <th>1.0</th>\n",
       "      <td>3.467024e+07</td>\n",
       "      <td>9.416100e-05</td>\n",
       "      <td>20</td>\n",
       "      <td>0.688571</td>\n",
       "      <td>0.700095</td>\n",
       "      <td>3.500953e+07</td>\n",
       "      <td>0.693272</td>\n",
       "      <td>8128.790527</td>\n",
       "      <td>154.0</td>\n",
       "      <td>0.616635</td>\n",
       "      <td>3.420325e+07</td>\n",
       "      <td>3.420732e+07</td>\n",
       "      <td>0.487013</td>\n",
       "      <td>0.429967</td>\n",
       "      <td>3.530958e+07</td>\n",
       "      <td>0.699373</td>\n",
       "      <td>982.634888</td>\n",
       "      <td>307.0</td>\n",
       "      <td>0.461579</td>\n",
       "      <td>3.531007e+07</td>\n",
       "    </tr>\n",
       "    <tr>\n",
       "      <th>2.0</th>\n",
       "      <td>2.264678e+07</td>\n",
       "      <td>1.589588e-04</td>\n",
       "      <td>30</td>\n",
       "      <td>0.654444</td>\n",
       "      <td>0.645123</td>\n",
       "      <td>2.199153e+07</td>\n",
       "      <td>0.705682</td>\n",
       "      <td>37187.746094</td>\n",
       "      <td>154.0</td>\n",
       "      <td>0.653044</td>\n",
       "      <td>2.160981e+07</td>\n",
       "      <td>2.162840e+07</td>\n",
       "      <td>0.512987</td>\n",
       "      <td>0.514658</td>\n",
       "      <td>3.004551e+07</td>\n",
       "      <td>0.685745</td>\n",
       "      <td>21290.494141</td>\n",
       "      <td>307.0</td>\n",
       "      <td>0.614699</td>\n",
       "      <td>3.005616e+07</td>\n",
       "    </tr>\n",
       "    <tr>\n",
       "      <th>3.0</th>\n",
       "      <td>9.912304e+06</td>\n",
       "      <td>2.444214e-04</td>\n",
       "      <td>40</td>\n",
       "      <td>0.667675</td>\n",
       "      <td>0.640912</td>\n",
       "      <td>9.799989e+06</td>\n",
       "      <td>0.723493</td>\n",
       "      <td>69843.101562</td>\n",
       "      <td>154.0</td>\n",
       "      <td>0.647365</td>\n",
       "      <td>9.848128e+06</td>\n",
       "      <td>9.883050e+06</td>\n",
       "      <td>0.512987</td>\n",
       "      <td>0.615635</td>\n",
       "      <td>1.388700e+07</td>\n",
       "      <td>0.672970</td>\n",
       "      <td>54841.902344</td>\n",
       "      <td>307.0</td>\n",
       "      <td>0.602995</td>\n",
       "      <td>1.391442e+07</td>\n",
       "    </tr>\n",
       "    <tr>\n",
       "      <th>4.0</th>\n",
       "      <td>4.940090e+06</td>\n",
       "      <td>3.456573e-04</td>\n",
       "      <td>50</td>\n",
       "      <td>0.943811</td>\n",
       "      <td>0.934861</td>\n",
       "      <td>3.654870e+06</td>\n",
       "      <td>0.805775</td>\n",
       "      <td>47388.441406</td>\n",
       "      <td>154.0</td>\n",
       "      <td>0.469473</td>\n",
       "      <td>4.046236e+06</td>\n",
       "      <td>4.069930e+06</td>\n",
       "      <td>0.487013</td>\n",
       "      <td>0.514658</td>\n",
       "      <td>6.154806e+06</td>\n",
       "      <td>0.723177</td>\n",
       "      <td>61723.933594</td>\n",
       "      <td>307.0</td>\n",
       "      <td>0.588667</td>\n",
       "      <td>6.185669e+06</td>\n",
       "    </tr>\n",
       "    <tr>\n",
       "      <th>5.0</th>\n",
       "      <td>3.123402e+06</td>\n",
       "      <td>4.568719e-04</td>\n",
       "      <td>60</td>\n",
       "      <td>0.959417</td>\n",
       "      <td>1.008202</td>\n",
       "      <td>1.981449e+06</td>\n",
       "      <td>0.852485</td>\n",
       "      <td>43902.628906</td>\n",
       "      <td>154.0</td>\n",
       "      <td>0.433592</td>\n",
       "      <td>2.425092e+06</td>\n",
       "      <td>2.447044e+06</td>\n",
       "      <td>0.487013</td>\n",
       "      <td>0.384365</td>\n",
       "      <td>2.986016e+06</td>\n",
       "      <td>0.949935</td>\n",
       "      <td>50847.777344</td>\n",
       "      <td>307.0</td>\n",
       "      <td>0.540501</td>\n",
       "      <td>3.011440e+06</td>\n",
       "    </tr>\n",
       "    <tr>\n",
       "      <th>6.0</th>\n",
       "      <td>2.899509e+06</td>\n",
       "      <td>5.716998e-04</td>\n",
       "      <td>70</td>\n",
       "      <td>0.857582</td>\n",
       "      <td>1.007241</td>\n",
       "      <td>1.553650e+06</td>\n",
       "      <td>0.851847</td>\n",
       "      <td>42101.246094</td>\n",
       "      <td>154.0</td>\n",
       "      <td>0.435102</td>\n",
       "      <td>2.026930e+06</td>\n",
       "      <td>2.047981e+06</td>\n",
       "      <td>0.487013</td>\n",
       "      <td>0.384365</td>\n",
       "      <td>2.196814e+06</td>\n",
       "      <td>0.974137</td>\n",
       "      <td>44307.980469</td>\n",
       "      <td>307.0</td>\n",
       "      <td>0.492052</td>\n",
       "      <td>2.218968e+06</td>\n",
       "    </tr>\n",
       "    <tr>\n",
       "      <th>7.0</th>\n",
       "      <td>1.818972e+06</td>\n",
       "      <td>6.835686e-04</td>\n",
       "      <td>80</td>\n",
       "      <td>0.794273</td>\n",
       "      <td>1.026172</td>\n",
       "      <td>1.510616e+06</td>\n",
       "      <td>0.858054</td>\n",
       "      <td>37513.156250</td>\n",
       "      <td>154.0</td>\n",
       "      <td>0.475117</td>\n",
       "      <td>1.987747e+06</td>\n",
       "      <td>2.006504e+06</td>\n",
       "      <td>0.487013</td>\n",
       "      <td>0.384365</td>\n",
       "      <td>2.005284e+06</td>\n",
       "      <td>0.962328</td>\n",
       "      <td>40189.382812</td>\n",
       "      <td>307.0</td>\n",
       "      <td>0.494868</td>\n",
       "      <td>2.025378e+06</td>\n",
       "    </tr>\n",
       "    <tr>\n",
       "      <th>8.0</th>\n",
       "      <td>1.847052e+06</td>\n",
       "      <td>7.860752e-04</td>\n",
       "      <td>90</td>\n",
       "      <td>0.774895</td>\n",
       "      <td>0.883775</td>\n",
       "      <td>1.225119e+06</td>\n",
       "      <td>0.790790</td>\n",
       "      <td>36348.972656</td>\n",
       "      <td>154.0</td>\n",
       "      <td>0.475612</td>\n",
       "      <td>1.615220e+06</td>\n",
       "      <td>1.633394e+06</td>\n",
       "      <td>0.487013</td>\n",
       "      <td>0.384365</td>\n",
       "      <td>1.865500e+06</td>\n",
       "      <td>0.903951</td>\n",
       "      <td>36509.386719</td>\n",
       "      <td>307.0</td>\n",
       "      <td>0.517401</td>\n",
       "      <td>1.883755e+06</td>\n",
       "    </tr>\n",
       "    <tr>\n",
       "      <th>9.0</th>\n",
       "      <td>9.024920e+05</td>\n",
       "      <td>8.733526e-04</td>\n",
       "      <td>100</td>\n",
       "      <td>0.784325</td>\n",
       "      <td>0.745023</td>\n",
       "      <td>9.101245e+05</td>\n",
       "      <td>0.743880</td>\n",
       "      <td>34629.148438</td>\n",
       "      <td>154.0</td>\n",
       "      <td>0.493128</td>\n",
       "      <td>1.208413e+06</td>\n",
       "      <td>1.225727e+06</td>\n",
       "      <td>0.454545</td>\n",
       "      <td>0.397394</td>\n",
       "      <td>1.423096e+06</td>\n",
       "      <td>0.810808</td>\n",
       "      <td>34553.054688</td>\n",
       "      <td>307.0</td>\n",
       "      <td>0.567011</td>\n",
       "      <td>1.440372e+06</td>\n",
       "    </tr>\n",
       "    <tr>\n",
       "      <th>10.0</th>\n",
       "      <td>9.838836e+05</td>\n",
       "      <td>9.404052e-04</td>\n",
       "      <td>110</td>\n",
       "      <td>0.704214</td>\n",
       "      <td>0.663068</td>\n",
       "      <td>7.079582e+05</td>\n",
       "      <td>0.702778</td>\n",
       "      <td>34422.039062</td>\n",
       "      <td>154.0</td>\n",
       "      <td>0.496075</td>\n",
       "      <td>9.521154e+05</td>\n",
       "      <td>9.693266e+05</td>\n",
       "      <td>0.474026</td>\n",
       "      <td>0.436482</td>\n",
       "      <td>1.167888e+06</td>\n",
       "      <td>0.740250</td>\n",
       "      <td>33798.820312</td>\n",
       "      <td>307.0</td>\n",
       "      <td>0.559147</td>\n",
       "      <td>1.184787e+06</td>\n",
       "    </tr>\n",
       "    <tr>\n",
       "      <th>11.0</th>\n",
       "      <td>6.867856e+05</td>\n",
       "      <td>9.833952e-04</td>\n",
       "      <td>120</td>\n",
       "      <td>0.741300</td>\n",
       "      <td>0.622728</td>\n",
       "      <td>6.000532e+05</td>\n",
       "      <td>0.692893</td>\n",
       "      <td>34801.960938</td>\n",
       "      <td>154.0</td>\n",
       "      <td>0.547704</td>\n",
       "      <td>7.353364e+05</td>\n",
       "      <td>7.527374e+05</td>\n",
       "      <td>0.551948</td>\n",
       "      <td>0.550489</td>\n",
       "      <td>8.893985e+05</td>\n",
       "      <td>0.700477</td>\n",
       "      <td>33416.199219</td>\n",
       "      <td>307.0</td>\n",
       "      <td>0.595631</td>\n",
       "      <td>9.061066e+05</td>\n",
       "    </tr>\n",
       "    <tr>\n",
       "      <th>12.0</th>\n",
       "      <td>4.397864e+05</td>\n",
       "      <td>9.998620e-04</td>\n",
       "      <td>130</td>\n",
       "      <td>0.714005</td>\n",
       "      <td>0.622017</td>\n",
       "      <td>4.199640e+05</td>\n",
       "      <td>0.679157</td>\n",
       "      <td>34926.363281</td>\n",
       "      <td>154.0</td>\n",
       "      <td>0.604415</td>\n",
       "      <td>4.832221e+05</td>\n",
       "      <td>5.006853e+05</td>\n",
       "      <td>0.571429</td>\n",
       "      <td>0.573290</td>\n",
       "      <td>5.955487e+05</td>\n",
       "      <td>0.689719</td>\n",
       "      <td>33861.046875</td>\n",
       "      <td>307.0</td>\n",
       "      <td>0.576051</td>\n",
       "      <td>6.124792e+05</td>\n",
       "    </tr>\n",
       "    <tr>\n",
       "      <th>13.0</th>\n",
       "      <td>5.757654e+05</td>\n",
       "      <td>9.978947e-04</td>\n",
       "      <td>140</td>\n",
       "      <td>0.610012</td>\n",
       "      <td>0.655168</td>\n",
       "      <td>4.187298e+05</td>\n",
       "      <td>0.683325</td>\n",
       "      <td>35046.910156</td>\n",
       "      <td>154.0</td>\n",
       "      <td>0.604364</td>\n",
       "      <td>4.601047e+05</td>\n",
       "      <td>4.776282e+05</td>\n",
       "      <td>0.603896</td>\n",
       "      <td>0.586319</td>\n",
       "      <td>4.818463e+05</td>\n",
       "      <td>0.694168</td>\n",
       "      <td>34061.089844</td>\n",
       "      <td>307.0</td>\n",
       "      <td>0.579135</td>\n",
       "      <td>4.988769e+05</td>\n",
       "    </tr>\n",
       "    <tr>\n",
       "      <th>14.0</th>\n",
       "      <td>3.456456e+05</td>\n",
       "      <td>9.906398e-04</td>\n",
       "      <td>150</td>\n",
       "      <td>0.610907</td>\n",
       "      <td>0.659210</td>\n",
       "      <td>5.346467e+05</td>\n",
       "      <td>0.688814</td>\n",
       "      <td>35878.519531</td>\n",
       "      <td>154.0</td>\n",
       "      <td>0.581812</td>\n",
       "      <td>5.592660e+05</td>\n",
       "      <td>5.772053e+05</td>\n",
       "      <td>0.571429</td>\n",
       "      <td>0.589577</td>\n",
       "      <td>4.374242e+05</td>\n",
       "      <td>0.699627</td>\n",
       "      <td>34646.500000</td>\n",
       "      <td>307.0</td>\n",
       "      <td>0.583205</td>\n",
       "      <td>4.547475e+05</td>\n",
       "    </tr>\n",
       "    <tr>\n",
       "      <th>15.0</th>\n",
       "      <td>4.978493e+05</td>\n",
       "      <td>9.782848e-04</td>\n",
       "      <td>160</td>\n",
       "      <td>0.688614</td>\n",
       "      <td>0.681083</td>\n",
       "      <td>3.881329e+05</td>\n",
       "      <td>0.694282</td>\n",
       "      <td>35273.968750</td>\n",
       "      <td>154.0</td>\n",
       "      <td>0.569791</td>\n",
       "      <td>4.125633e+05</td>\n",
       "      <td>4.302003e+05</td>\n",
       "      <td>0.571429</td>\n",
       "      <td>0.570033</td>\n",
       "      <td>4.278664e+05</td>\n",
       "      <td>0.703536</td>\n",
       "      <td>34530.148438</td>\n",
       "      <td>307.0</td>\n",
       "      <td>0.577830</td>\n",
       "      <td>4.451315e+05</td>\n",
       "    </tr>\n",
       "    <tr>\n",
       "      <th>16.0</th>\n",
       "      <td>3.262636e+05</td>\n",
       "      <td>9.609581e-04</td>\n",
       "      <td>170</td>\n",
       "      <td>0.884468</td>\n",
       "      <td>0.676219</td>\n",
       "      <td>5.696443e+05</td>\n",
       "      <td>0.707445</td>\n",
       "      <td>34328.269531</td>\n",
       "      <td>154.0</td>\n",
       "      <td>0.523142</td>\n",
       "      <td>5.820535e+05</td>\n",
       "      <td>5.992176e+05</td>\n",
       "      <td>0.545455</td>\n",
       "      <td>0.540717</td>\n",
       "      <td>4.129102e+05</td>\n",
       "      <td>0.721086</td>\n",
       "      <td>34218.207031</td>\n",
       "      <td>307.0</td>\n",
       "      <td>0.561003</td>\n",
       "      <td>4.300194e+05</td>\n",
       "    </tr>\n",
       "    <tr>\n",
       "      <th>17.0</th>\n",
       "      <td>4.437711e+05</td>\n",
       "      <td>9.388397e-04</td>\n",
       "      <td>180</td>\n",
       "      <td>0.730809</td>\n",
       "      <td>0.685222</td>\n",
       "      <td>7.760880e+05</td>\n",
       "      <td>0.711039</td>\n",
       "      <td>32772.195312</td>\n",
       "      <td>154.0</td>\n",
       "      <td>0.495678</td>\n",
       "      <td>7.764691e+05</td>\n",
       "      <td>7.928552e+05</td>\n",
       "      <td>0.506494</td>\n",
       "      <td>0.524430</td>\n",
       "      <td>5.389957e+05</td>\n",
       "      <td>0.735197</td>\n",
       "      <td>32919.160156</td>\n",
       "      <td>307.0</td>\n",
       "      <td>0.562740</td>\n",
       "      <td>5.554552e+05</td>\n",
       "    </tr>\n",
       "    <tr>\n",
       "      <th>18.0</th>\n",
       "      <td>6.890862e+05</td>\n",
       "      <td>9.121597e-04</td>\n",
       "      <td>190</td>\n",
       "      <td>0.690120</td>\n",
       "      <td>0.782047</td>\n",
       "      <td>1.262466e+06</td>\n",
       "      <td>0.751829</td>\n",
       "      <td>32279.195312</td>\n",
       "      <td>154.0</td>\n",
       "      <td>0.506040</td>\n",
       "      <td>1.258861e+06</td>\n",
       "      <td>1.275001e+06</td>\n",
       "      <td>0.474026</td>\n",
       "      <td>0.482085</td>\n",
       "      <td>6.600542e+05</td>\n",
       "      <td>0.741318</td>\n",
       "      <td>30264.439453</td>\n",
       "      <td>307.0</td>\n",
       "      <td>0.536574</td>\n",
       "      <td>6.751864e+05</td>\n",
       "    </tr>\n",
       "    <tr>\n",
       "      <th>19.0</th>\n",
       "      <td>7.358140e+05</td>\n",
       "      <td>8.811953e-04</td>\n",
       "      <td>200</td>\n",
       "      <td>0.857239</td>\n",
       "      <td>0.738268</td>\n",
       "      <td>6.440987e+05</td>\n",
       "      <td>0.744728</td>\n",
       "      <td>26270.236328</td>\n",
       "      <td>154.0</td>\n",
       "      <td>0.394237</td>\n",
       "      <td>6.352681e+05</td>\n",
       "      <td>6.484032e+05</td>\n",
       "      <td>0.454545</td>\n",
       "      <td>0.384365</td>\n",
       "      <td>7.836710e+05</td>\n",
       "      <td>0.783342</td>\n",
       "      <td>29354.525391</td>\n",
       "      <td>307.0</td>\n",
       "      <td>0.542585</td>\n",
       "      <td>7.983483e+05</td>\n",
       "    </tr>\n",
       "    <tr>\n",
       "      <th>20.0</th>\n",
       "      <td>4.247281e+05</td>\n",
       "      <td>8.462685e-04</td>\n",
       "      <td>210</td>\n",
       "      <td>0.659276</td>\n",
       "      <td>0.755350</td>\n",
       "      <td>4.547318e+05</td>\n",
       "      <td>0.738197</td>\n",
       "      <td>30330.937500</td>\n",
       "      <td>154.0</td>\n",
       "      <td>0.456611</td>\n",
       "      <td>4.479140e+05</td>\n",
       "      <td>4.630794e+05</td>\n",
       "      <td>0.467532</td>\n",
       "      <td>0.413681</td>\n",
       "      <td>5.152013e+05</td>\n",
       "      <td>0.757815</td>\n",
       "      <td>28281.005859</td>\n",
       "      <td>307.0</td>\n",
       "      <td>0.544544</td>\n",
       "      <td>5.293419e+05</td>\n",
       "    </tr>\n",
       "    <tr>\n",
       "      <th>21.0</th>\n",
       "      <td>3.645094e+05</td>\n",
       "      <td>8.077422e-04</td>\n",
       "      <td>220</td>\n",
       "      <td>0.822618</td>\n",
       "      <td>0.721393</td>\n",
       "      <td>3.414654e+05</td>\n",
       "      <td>0.719145</td>\n",
       "      <td>27995.916016</td>\n",
       "      <td>154.0</td>\n",
       "      <td>0.509116</td>\n",
       "      <td>3.441176e+05</td>\n",
       "      <td>3.581156e+05</td>\n",
       "      <td>0.506494</td>\n",
       "      <td>0.397394</td>\n",
       "      <td>3.846792e+05</td>\n",
       "      <td>0.780604</td>\n",
       "      <td>29392.710938</td>\n",
       "      <td>307.0</td>\n",
       "      <td>0.514938</td>\n",
       "      <td>3.993756e+05</td>\n",
       "    </tr>\n",
       "    <tr>\n",
       "      <th>22.0</th>\n",
       "      <td>2.524307e+05</td>\n",
       "      <td>7.660170e-04</td>\n",
       "      <td>230</td>\n",
       "      <td>0.786846</td>\n",
       "      <td>0.725816</td>\n",
       "      <td>3.860918e+05</td>\n",
       "      <td>0.718512</td>\n",
       "      <td>32012.675781</td>\n",
       "      <td>154.0</td>\n",
       "      <td>0.522528</td>\n",
       "      <td>3.880368e+05</td>\n",
       "      <td>4.040432e+05</td>\n",
       "      <td>0.525974</td>\n",
       "      <td>0.423453</td>\n",
       "      <td>3.197314e+05</td>\n",
       "      <td>0.767549</td>\n",
       "      <td>29954.390625</td>\n",
       "      <td>307.0</td>\n",
       "      <td>0.537773</td>\n",
       "      <td>3.347086e+05</td>\n",
       "    </tr>\n",
       "    <tr>\n",
       "      <th>23.0</th>\n",
       "      <td>2.321588e+05</td>\n",
       "      <td>7.215265e-04</td>\n",
       "      <td>240</td>\n",
       "      <td>0.886577</td>\n",
       "      <td>0.720313</td>\n",
       "      <td>3.353431e+05</td>\n",
       "      <td>0.717578</td>\n",
       "      <td>29505.882812</td>\n",
       "      <td>154.0</td>\n",
       "      <td>0.525502</td>\n",
       "      <td>3.241512e+05</td>\n",
       "      <td>3.389042e+05</td>\n",
       "      <td>0.519481</td>\n",
       "      <td>0.429967</td>\n",
       "      <td>2.862280e+05</td>\n",
       "      <td>0.771237</td>\n",
       "      <td>30940.042969</td>\n",
       "      <td>307.0</td>\n",
       "      <td>0.572121</td>\n",
       "      <td>3.016981e+05</td>\n",
       "    </tr>\n",
       "    <tr>\n",
       "      <th>24.0</th>\n",
       "      <td>2.765246e+05</td>\n",
       "      <td>6.747334e-04</td>\n",
       "      <td>250</td>\n",
       "      <td>0.824105</td>\n",
       "      <td>0.769346</td>\n",
       "      <td>2.732291e+05</td>\n",
       "      <td>0.738303</td>\n",
       "      <td>32806.496094</td>\n",
       "      <td>154.0</td>\n",
       "      <td>0.517234</td>\n",
       "      <td>2.659364e+05</td>\n",
       "      <td>2.823396e+05</td>\n",
       "      <td>0.500000</td>\n",
       "      <td>0.407166</td>\n",
       "      <td>2.503219e+05</td>\n",
       "      <td>0.790272</td>\n",
       "      <td>31086.423828</td>\n",
       "      <td>307.0</td>\n",
       "      <td>0.558251</td>\n",
       "      <td>2.658651e+05</td>\n",
       "    </tr>\n",
       "    <tr>\n",
       "      <th>25.0</th>\n",
       "      <td>2.591485e+05</td>\n",
       "      <td>6.261239e-04</td>\n",
       "      <td>260</td>\n",
       "      <td>0.915319</td>\n",
       "      <td>0.772307</td>\n",
       "      <td>2.482292e+05</td>\n",
       "      <td>0.741342</td>\n",
       "      <td>31074.392578</td>\n",
       "      <td>154.0</td>\n",
       "      <td>0.516708</td>\n",
       "      <td>2.406862e+05</td>\n",
       "      <td>2.562234e+05</td>\n",
       "      <td>0.487013</td>\n",
       "      <td>0.387622</td>\n",
       "      <td>2.199712e+05</td>\n",
       "      <td>0.820705</td>\n",
       "      <td>32205.775391</td>\n",
       "      <td>307.0</td>\n",
       "      <td>0.560380</td>\n",
       "      <td>2.360742e+05</td>\n",
       "    </tr>\n",
       "    <tr>\n",
       "      <th>26.0</th>\n",
       "      <td>1.742583e+05</td>\n",
       "      <td>5.762034e-04</td>\n",
       "      <td>270</td>\n",
       "      <td>0.869719</td>\n",
       "      <td>0.769375</td>\n",
       "      <td>2.222660e+05</td>\n",
       "      <td>0.744436</td>\n",
       "      <td>33442.238281</td>\n",
       "      <td>154.0</td>\n",
       "      <td>0.497733</td>\n",
       "      <td>2.190684e+05</td>\n",
       "      <td>2.357896e+05</td>\n",
       "      <td>0.487013</td>\n",
       "      <td>0.390879</td>\n",
       "      <td>1.995468e+05</td>\n",
       "      <td>0.823310</td>\n",
       "      <td>32395.576172</td>\n",
       "      <td>307.0</td>\n",
       "      <td>0.551778</td>\n",
       "      <td>2.157445e+05</td>\n",
       "    </tr>\n",
       "    <tr>\n",
       "      <th>27.0</th>\n",
       "      <td>2.169805e+05</td>\n",
       "      <td>5.254908e-04</td>\n",
       "      <td>280</td>\n",
       "      <td>0.753896</td>\n",
       "      <td>0.774263</td>\n",
       "      <td>1.930827e+05</td>\n",
       "      <td>0.744604</td>\n",
       "      <td>32168.878906</td>\n",
       "      <td>154.0</td>\n",
       "      <td>0.494392</td>\n",
       "      <td>1.882019e+05</td>\n",
       "      <td>2.042864e+05</td>\n",
       "      <td>0.474026</td>\n",
       "      <td>0.390879</td>\n",
       "      <td>1.801717e+05</td>\n",
       "      <td>0.820322</td>\n",
       "      <td>32943.886719</td>\n",
       "      <td>307.0</td>\n",
       "      <td>0.554254</td>\n",
       "      <td>1.966436e+05</td>\n",
       "    </tr>\n",
       "    <tr>\n",
       "      <th>28.0</th>\n",
       "      <td>1.895485e+05</td>\n",
       "      <td>4.745132e-04</td>\n",
       "      <td>290</td>\n",
       "      <td>0.884644</td>\n",
       "      <td>0.777537</td>\n",
       "      <td>1.657529e+05</td>\n",
       "      <td>0.748521</td>\n",
       "      <td>33433.941406</td>\n",
       "      <td>154.0</td>\n",
       "      <td>0.484891</td>\n",
       "      <td>1.636236e+05</td>\n",
       "      <td>1.803405e+05</td>\n",
       "      <td>0.480519</td>\n",
       "      <td>0.387622</td>\n",
       "      <td>1.656091e+05</td>\n",
       "      <td>0.820773</td>\n",
       "      <td>33062.593750</td>\n",
       "      <td>307.0</td>\n",
       "      <td>0.535925</td>\n",
       "      <td>1.821404e+05</td>\n",
       "    </tr>\n",
       "    <tr>\n",
       "      <th>29.0</th>\n",
       "      <td>1.541918e+05</td>\n",
       "      <td>4.238006e-04</td>\n",
       "      <td>300</td>\n",
       "      <td>0.799661</td>\n",
       "      <td>0.765978</td>\n",
       "      <td>1.743113e+05</td>\n",
       "      <td>0.742295</td>\n",
       "      <td>32463.734375</td>\n",
       "      <td>154.0</td>\n",
       "      <td>0.492800</td>\n",
       "      <td>1.714195e+05</td>\n",
       "      <td>1.876514e+05</td>\n",
       "      <td>0.493506</td>\n",
       "      <td>0.390879</td>\n",
       "      <td>1.524323e+05</td>\n",
       "      <td>0.820746</td>\n",
       "      <td>33314.578125</td>\n",
       "      <td>307.0</td>\n",
       "      <td>0.531844</td>\n",
       "      <td>1.690896e+05</td>\n",
       "    </tr>\n",
       "    <tr>\n",
       "      <th>30.0</th>\n",
       "      <td>1.488257e+05</td>\n",
       "      <td>3.738801e-04</td>\n",
       "      <td>310</td>\n",
       "      <td>0.881432</td>\n",
       "      <td>0.776538</td>\n",
       "      <td>1.516751e+05</td>\n",
       "      <td>0.745798</td>\n",
       "      <td>33254.281250</td>\n",
       "      <td>154.0</td>\n",
       "      <td>0.499300</td>\n",
       "      <td>1.492527e+05</td>\n",
       "      <td>1.658798e+05</td>\n",
       "      <td>0.487013</td>\n",
       "      <td>0.390879</td>\n",
       "      <td>1.425359e+05</td>\n",
       "      <td>0.819341</td>\n",
       "      <td>33044.281250</td>\n",
       "      <td>307.0</td>\n",
       "      <td>0.540360</td>\n",
       "      <td>1.590580e+05</td>\n",
       "    </tr>\n",
       "    <tr>\n",
       "      <th>31.0</th>\n",
       "      <td>1.519959e+05</td>\n",
       "      <td>3.252706e-04</td>\n",
       "      <td>320</td>\n",
       "      <td>0.815589</td>\n",
       "      <td>0.752946</td>\n",
       "      <td>1.432502e+05</td>\n",
       "      <td>0.736460</td>\n",
       "      <td>32279.078125</td>\n",
       "      <td>154.0</td>\n",
       "      <td>0.510206</td>\n",
       "      <td>1.416874e+05</td>\n",
       "      <td>1.578269e+05</td>\n",
       "      <td>0.493506</td>\n",
       "      <td>0.387622</td>\n",
       "      <td>1.304552e+05</td>\n",
       "      <td>0.817165</td>\n",
       "      <td>32936.066406</td>\n",
       "      <td>307.0</td>\n",
       "      <td>0.549140</td>\n",
       "      <td>1.469232e+05</td>\n",
       "    </tr>\n",
       "    <tr>\n",
       "      <th>32.0</th>\n",
       "      <td>1.477622e+05</td>\n",
       "      <td>2.784775e-04</td>\n",
       "      <td>330</td>\n",
       "      <td>0.769446</td>\n",
       "      <td>0.754016</td>\n",
       "      <td>1.330207e+05</td>\n",
       "      <td>0.735733</td>\n",
       "      <td>32213.464844</td>\n",
       "      <td>154.0</td>\n",
       "      <td>0.516694</td>\n",
       "      <td>1.307337e+05</td>\n",
       "      <td>1.468405e+05</td>\n",
       "      <td>0.493506</td>\n",
       "      <td>0.390879</td>\n",
       "      <td>1.182753e+05</td>\n",
       "      <td>0.815526</td>\n",
       "      <td>32514.667969</td>\n",
       "      <td>307.0</td>\n",
       "      <td>0.539846</td>\n",
       "      <td>1.345326e+05</td>\n",
       "    </tr>\n",
       "    <tr>\n",
       "      <th>33.0</th>\n",
       "      <td>1.317741e+05</td>\n",
       "      <td>2.339870e-04</td>\n",
       "      <td>340</td>\n",
       "      <td>0.832868</td>\n",
       "      <td>0.741723</td>\n",
       "      <td>1.272012e+05</td>\n",
       "      <td>0.728789</td>\n",
       "      <td>31754.328125</td>\n",
       "      <td>154.0</td>\n",
       "      <td>0.520436</td>\n",
       "      <td>1.266065e+05</td>\n",
       "      <td>1.424836e+05</td>\n",
       "      <td>0.487013</td>\n",
       "      <td>0.384365</td>\n",
       "      <td>1.104454e+05</td>\n",
       "      <td>0.805392</td>\n",
       "      <td>32219.078125</td>\n",
       "      <td>307.0</td>\n",
       "      <td>0.556356</td>\n",
       "      <td>1.265549e+05</td>\n",
       "    </tr>\n",
       "    <tr>\n",
       "      <th>34.0</th>\n",
       "      <td>1.214637e+05</td>\n",
       "      <td>1.922618e-04</td>\n",
       "      <td>350</td>\n",
       "      <td>0.813840</td>\n",
       "      <td>0.727893</td>\n",
       "      <td>1.224709e+05</td>\n",
       "      <td>0.722187</td>\n",
       "      <td>31463.166016</td>\n",
       "      <td>154.0</td>\n",
       "      <td>0.531509</td>\n",
       "      <td>1.217398e+05</td>\n",
       "      <td>1.374714e+05</td>\n",
       "      <td>0.493506</td>\n",
       "      <td>0.403909</td>\n",
       "      <td>1.026613e+05</td>\n",
       "      <td>0.791164</td>\n",
       "      <td>31883.472656</td>\n",
       "      <td>307.0</td>\n",
       "      <td>0.551529</td>\n",
       "      <td>1.186031e+05</td>\n",
       "    </tr>\n",
       "    <tr>\n",
       "      <th>35.0</th>\n",
       "      <td>1.614108e+05</td>\n",
       "      <td>1.537355e-04</td>\n",
       "      <td>360</td>\n",
       "      <td>0.709252</td>\n",
       "      <td>0.716827</td>\n",
       "      <td>1.148723e+05</td>\n",
       "      <td>0.718978</td>\n",
       "      <td>31371.294922</td>\n",
       "      <td>154.0</td>\n",
       "      <td>0.532358</td>\n",
       "      <td>1.140879e+05</td>\n",
       "      <td>1.297735e+05</td>\n",
       "      <td>0.493506</td>\n",
       "      <td>0.413681</td>\n",
       "      <td>9.772023e+04</td>\n",
       "      <td>0.782926</td>\n",
       "      <td>31596.820312</td>\n",
       "      <td>307.0</td>\n",
       "      <td>0.559880</td>\n",
       "      <td>1.135186e+05</td>\n",
       "    </tr>\n",
       "    <tr>\n",
       "      <th>36.0</th>\n",
       "      <td>1.234989e+05</td>\n",
       "      <td>1.188087e-04</td>\n",
       "      <td>370</td>\n",
       "      <td>0.788410</td>\n",
       "      <td>0.704056</td>\n",
       "      <td>1.121212e+05</td>\n",
       "      <td>0.712321</td>\n",
       "      <td>31190.378906</td>\n",
       "      <td>154.0</td>\n",
       "      <td>0.545848</td>\n",
       "      <td>1.099481e+05</td>\n",
       "      <td>1.255433e+05</td>\n",
       "      <td>0.500000</td>\n",
       "      <td>0.416938</td>\n",
       "      <td>9.230008e+04</td>\n",
       "      <td>0.778055</td>\n",
       "      <td>31413.316406</td>\n",
       "      <td>307.0</td>\n",
       "      <td>0.547771</td>\n",
       "      <td>1.080067e+05</td>\n",
       "    </tr>\n",
       "    <tr>\n",
       "      <th>37.0</th>\n",
       "      <td>1.079999e+05</td>\n",
       "      <td>8.784429e-05</td>\n",
       "      <td>380</td>\n",
       "      <td>0.789494</td>\n",
       "      <td>0.684731</td>\n",
       "      <td>1.120074e+05</td>\n",
       "      <td>0.708215</td>\n",
       "      <td>31159.753906</td>\n",
       "      <td>154.0</td>\n",
       "      <td>0.544455</td>\n",
       "      <td>1.078406e+05</td>\n",
       "      <td>1.234205e+05</td>\n",
       "      <td>0.487013</td>\n",
       "      <td>0.420195</td>\n",
       "      <td>8.878269e+04</td>\n",
       "      <td>0.771260</td>\n",
       "      <td>31273.576172</td>\n",
       "      <td>307.0</td>\n",
       "      <td>0.547744</td>\n",
       "      <td>1.044195e+05</td>\n",
       "    </tr>\n",
       "    <tr>\n",
       "      <th>38.0</th>\n",
       "      <td>1.169752e+05</td>\n",
       "      <td>6.116426e-05</td>\n",
       "      <td>390</td>\n",
       "      <td>0.741997</td>\n",
       "      <td>0.687664</td>\n",
       "      <td>1.069960e+05</td>\n",
       "      <td>0.707404</td>\n",
       "      <td>30936.412109</td>\n",
       "      <td>154.0</td>\n",
       "      <td>0.547078</td>\n",
       "      <td>1.040315e+05</td>\n",
       "      <td>1.194997e+05</td>\n",
       "      <td>0.500000</td>\n",
       "      <td>0.433225</td>\n",
       "      <td>8.815236e+04</td>\n",
       "      <td>0.759658</td>\n",
       "      <td>31166.986328</td>\n",
       "      <td>307.0</td>\n",
       "      <td>0.553858</td>\n",
       "      <td>1.037359e+05</td>\n",
       "    </tr>\n",
       "    <tr>\n",
       "      <th>39.0</th>\n",
       "      <td>7.377189e+04</td>\n",
       "      <td>3.904592e-05</td>\n",
       "      <td>400</td>\n",
       "      <td>0.773651</td>\n",
       "      <td>0.679134</td>\n",
       "      <td>1.031445e+05</td>\n",
       "      <td>0.705528</td>\n",
       "      <td>31006.474609</td>\n",
       "      <td>154.0</td>\n",
       "      <td>0.546790</td>\n",
       "      <td>1.013189e+05</td>\n",
       "      <td>1.168221e+05</td>\n",
       "      <td>0.487013</td>\n",
       "      <td>0.420195</td>\n",
       "      <td>8.275794e+04</td>\n",
       "      <td>0.759302</td>\n",
       "      <td>31084.941406</td>\n",
       "      <td>307.0</td>\n",
       "      <td>0.556633</td>\n",
       "      <td>9.830041e+04</td>\n",
       "    </tr>\n",
       "    <tr>\n",
       "      <th>40.0</th>\n",
       "      <td>9.729823e+04</td>\n",
       "      <td>2.171919e-05</td>\n",
       "      <td>410</td>\n",
       "      <td>0.648916</td>\n",
       "      <td>0.674908</td>\n",
       "      <td>1.028341e+05</td>\n",
       "      <td>0.704433</td>\n",
       "      <td>30961.068359</td>\n",
       "      <td>154.0</td>\n",
       "      <td>0.552761</td>\n",
       "      <td>9.969197e+04</td>\n",
       "      <td>1.151725e+05</td>\n",
       "      <td>0.500000</td>\n",
       "      <td>0.416938</td>\n",
       "      <td>8.013504e+04</td>\n",
       "      <td>0.755180</td>\n",
       "      <td>31069.642578</td>\n",
       "      <td>307.0</td>\n",
       "      <td>0.544019</td>\n",
       "      <td>9.566986e+04</td>\n",
       "    </tr>\n",
       "    <tr>\n",
       "      <th>41.0</th>\n",
       "      <td>8.634038e+04</td>\n",
       "      <td>9.364177e-06</td>\n",
       "      <td>420</td>\n",
       "      <td>0.675248</td>\n",
       "      <td>0.674604</td>\n",
       "      <td>1.012167e+05</td>\n",
       "      <td>0.704245</td>\n",
       "      <td>30919.636719</td>\n",
       "      <td>154.0</td>\n",
       "      <td>0.551918</td>\n",
       "      <td>9.873870e+04</td>\n",
       "      <td>1.141985e+05</td>\n",
       "      <td>0.500000</td>\n",
       "      <td>0.426710</td>\n",
       "      <td>7.902053e+04</td>\n",
       "      <td>0.753979</td>\n",
       "      <td>31020.652344</td>\n",
       "      <td>307.0</td>\n",
       "      <td>0.553267</td>\n",
       "      <td>9.453087e+04</td>\n",
       "    </tr>\n",
       "    <tr>\n",
       "      <th>42.0</th>\n",
       "      <td>7.507551e+04</td>\n",
       "      <td>2.109313e-06</td>\n",
       "      <td>430</td>\n",
       "      <td>0.833930</td>\n",
       "      <td>0.672941</td>\n",
       "      <td>1.004236e+05</td>\n",
       "      <td>0.703898</td>\n",
       "      <td>30888.146484</td>\n",
       "      <td>154.0</td>\n",
       "      <td>0.549613</td>\n",
       "      <td>9.826592e+04</td>\n",
       "      <td>1.137100e+05</td>\n",
       "      <td>0.500000</td>\n",
       "      <td>0.433225</td>\n",
       "      <td>7.800331e+04</td>\n",
       "      <td>0.752637</td>\n",
       "      <td>31058.779297</td>\n",
       "      <td>307.0</td>\n",
       "      <td>0.552387</td>\n",
       "      <td>9.353270e+04</td>\n",
       "    </tr>\n",
       "    <tr>\n",
       "      <th>43.0</th>\n",
       "      <td>7.855788e+04</td>\n",
       "      <td>4.000000e-09</td>\n",
       "      <td>439</td>\n",
       "      <td>0.764639</td>\n",
       "      <td>0.672374</td>\n",
       "      <td>1.003861e+05</td>\n",
       "      <td>0.703667</td>\n",
       "      <td>30880.197266</td>\n",
       "      <td>154.0</td>\n",
       "      <td>0.551517</td>\n",
       "      <td>9.816409e+04</td>\n",
       "      <td>1.136042e+05</td>\n",
       "      <td>0.500000</td>\n",
       "      <td>0.442997</td>\n",
       "      <td>7.758846e+04</td>\n",
       "      <td>0.752162</td>\n",
       "      <td>31015.906250</td>\n",
       "      <td>307.0</td>\n",
       "      <td>0.549305</td>\n",
       "      <td>9.309641e+04</td>\n",
       "    </tr>\n",
       "  </tbody>\n",
       "</table>\n",
       "</div>"
      ],
      "text/plain": [
       "       train/loss_rec_step      lr-AdamW  step  train/loss_pred_step  \\\n",
       "epoch                                                                  \n",
       "0.0           3.461290e+07  5.373681e-05    10              0.690982   \n",
       "1.0           3.467024e+07  9.416100e-05    20              0.688571   \n",
       "2.0           2.264678e+07  1.589588e-04    30              0.654444   \n",
       "3.0           9.912304e+06  2.444214e-04    40              0.667675   \n",
       "4.0           4.940090e+06  3.456573e-04    50              0.943811   \n",
       "5.0           3.123402e+06  4.568719e-04    60              0.959417   \n",
       "6.0           2.899509e+06  5.716998e-04    70              0.857582   \n",
       "7.0           1.818972e+06  6.835686e-04    80              0.794273   \n",
       "8.0           1.847052e+06  7.860752e-04    90              0.774895   \n",
       "9.0           9.024920e+05  8.733526e-04   100              0.784325   \n",
       "10.0          9.838836e+05  9.404052e-04   110              0.704214   \n",
       "11.0          6.867856e+05  9.833952e-04   120              0.741300   \n",
       "12.0          4.397864e+05  9.998620e-04   130              0.714005   \n",
       "13.0          5.757654e+05  9.978947e-04   140              0.610012   \n",
       "14.0          3.456456e+05  9.906398e-04   150              0.610907   \n",
       "15.0          4.978493e+05  9.782848e-04   160              0.688614   \n",
       "16.0          3.262636e+05  9.609581e-04   170              0.884468   \n",
       "17.0          4.437711e+05  9.388397e-04   180              0.730809   \n",
       "18.0          6.890862e+05  9.121597e-04   190              0.690120   \n",
       "19.0          7.358140e+05  8.811953e-04   200              0.857239   \n",
       "20.0          4.247281e+05  8.462685e-04   210              0.659276   \n",
       "21.0          3.645094e+05  8.077422e-04   220              0.822618   \n",
       "22.0          2.524307e+05  7.660170e-04   230              0.786846   \n",
       "23.0          2.321588e+05  7.215265e-04   240              0.886577   \n",
       "24.0          2.765246e+05  6.747334e-04   250              0.824105   \n",
       "25.0          2.591485e+05  6.261239e-04   260              0.915319   \n",
       "26.0          1.742583e+05  5.762034e-04   270              0.869719   \n",
       "27.0          2.169805e+05  5.254908e-04   280              0.753896   \n",
       "28.0          1.895485e+05  4.745132e-04   290              0.884644   \n",
       "29.0          1.541918e+05  4.238006e-04   300              0.799661   \n",
       "30.0          1.488257e+05  3.738801e-04   310              0.881432   \n",
       "31.0          1.519959e+05  3.252706e-04   320              0.815589   \n",
       "32.0          1.477622e+05  2.784775e-04   330              0.769446   \n",
       "33.0          1.317741e+05  2.339870e-04   340              0.832868   \n",
       "34.0          1.214637e+05  1.922618e-04   350              0.813840   \n",
       "35.0          1.614108e+05  1.537355e-04   360              0.709252   \n",
       "36.0          1.234989e+05  1.188087e-04   370              0.788410   \n",
       "37.0          1.079999e+05  8.784429e-05   380              0.789494   \n",
       "38.0          1.169752e+05  6.116426e-05   390              0.741997   \n",
       "39.0          7.377189e+04  3.904592e-05   400              0.773651   \n",
       "40.0          9.729823e+04  2.171919e-05   410              0.648916   \n",
       "41.0          8.634038e+04  9.364177e-06   420              0.675248   \n",
       "42.0          7.507551e+04  2.109313e-06   430              0.833930   \n",
       "43.0          7.855788e+04  4.000000e-09   439              0.764639   \n",
       "\n",
       "       val/loss_pred_step  val/loss_rec_step  val/loss_pred_epoch  \\\n",
       "epoch                                                               \n",
       "0.0              0.703907       3.578138e+07             0.694671   \n",
       "1.0              0.700095       3.500953e+07             0.693272   \n",
       "2.0              0.645123       2.199153e+07             0.705682   \n",
       "3.0              0.640912       9.799989e+06             0.723493   \n",
       "4.0              0.934861       3.654870e+06             0.805775   \n",
       "5.0              1.008202       1.981449e+06             0.852485   \n",
       "6.0              1.007241       1.553650e+06             0.851847   \n",
       "7.0              1.026172       1.510616e+06             0.858054   \n",
       "8.0              0.883775       1.225119e+06             0.790790   \n",
       "9.0              0.745023       9.101245e+05             0.743880   \n",
       "10.0             0.663068       7.079582e+05             0.702778   \n",
       "11.0             0.622728       6.000532e+05             0.692893   \n",
       "12.0             0.622017       4.199640e+05             0.679157   \n",
       "13.0             0.655168       4.187298e+05             0.683325   \n",
       "14.0             0.659210       5.346467e+05             0.688814   \n",
       "15.0             0.681083       3.881329e+05             0.694282   \n",
       "16.0             0.676219       5.696443e+05             0.707445   \n",
       "17.0             0.685222       7.760880e+05             0.711039   \n",
       "18.0             0.782047       1.262466e+06             0.751829   \n",
       "19.0             0.738268       6.440987e+05             0.744728   \n",
       "20.0             0.755350       4.547318e+05             0.738197   \n",
       "21.0             0.721393       3.414654e+05             0.719145   \n",
       "22.0             0.725816       3.860918e+05             0.718512   \n",
       "23.0             0.720313       3.353431e+05             0.717578   \n",
       "24.0             0.769346       2.732291e+05             0.738303   \n",
       "25.0             0.772307       2.482292e+05             0.741342   \n",
       "26.0             0.769375       2.222660e+05             0.744436   \n",
       "27.0             0.774263       1.930827e+05             0.744604   \n",
       "28.0             0.777537       1.657529e+05             0.748521   \n",
       "29.0             0.765978       1.743113e+05             0.742295   \n",
       "30.0             0.776538       1.516751e+05             0.745798   \n",
       "31.0             0.752946       1.432502e+05             0.736460   \n",
       "32.0             0.754016       1.330207e+05             0.735733   \n",
       "33.0             0.741723       1.272012e+05             0.728789   \n",
       "34.0             0.727893       1.224709e+05             0.722187   \n",
       "35.0             0.716827       1.148723e+05             0.718978   \n",
       "36.0             0.704056       1.121212e+05             0.712321   \n",
       "37.0             0.684731       1.120074e+05             0.708215   \n",
       "38.0             0.687664       1.069960e+05             0.707404   \n",
       "39.0             0.679134       1.031445e+05             0.705528   \n",
       "40.0             0.674908       1.028341e+05             0.704433   \n",
       "41.0             0.674604       1.012167e+05             0.704245   \n",
       "42.0             0.672941       1.004236e+05             0.703898   \n",
       "43.0             0.672374       1.003861e+05             0.703667   \n",
       "\n",
       "        val/l1_loss  val/n  val/auroc   val/l2_loss  val/loss_rec_epoch  \\\n",
       "epoch                                                                     \n",
       "0.0      443.252899  154.0   0.491922  3.495302e+07        3.495324e+07   \n",
       "1.0     8128.790527  154.0   0.616635  3.420325e+07        3.420732e+07   \n",
       "2.0    37187.746094  154.0   0.653044  2.160981e+07        2.162840e+07   \n",
       "3.0    69843.101562  154.0   0.647365  9.848128e+06        9.883050e+06   \n",
       "4.0    47388.441406  154.0   0.469473  4.046236e+06        4.069930e+06   \n",
       "5.0    43902.628906  154.0   0.433592  2.425092e+06        2.447044e+06   \n",
       "6.0    42101.246094  154.0   0.435102  2.026930e+06        2.047981e+06   \n",
       "7.0    37513.156250  154.0   0.475117  1.987747e+06        2.006504e+06   \n",
       "8.0    36348.972656  154.0   0.475612  1.615220e+06        1.633394e+06   \n",
       "9.0    34629.148438  154.0   0.493128  1.208413e+06        1.225727e+06   \n",
       "10.0   34422.039062  154.0   0.496075  9.521154e+05        9.693266e+05   \n",
       "11.0   34801.960938  154.0   0.547704  7.353364e+05        7.527374e+05   \n",
       "12.0   34926.363281  154.0   0.604415  4.832221e+05        5.006853e+05   \n",
       "13.0   35046.910156  154.0   0.604364  4.601047e+05        4.776282e+05   \n",
       "14.0   35878.519531  154.0   0.581812  5.592660e+05        5.772053e+05   \n",
       "15.0   35273.968750  154.0   0.569791  4.125633e+05        4.302003e+05   \n",
       "16.0   34328.269531  154.0   0.523142  5.820535e+05        5.992176e+05   \n",
       "17.0   32772.195312  154.0   0.495678  7.764691e+05        7.928552e+05   \n",
       "18.0   32279.195312  154.0   0.506040  1.258861e+06        1.275001e+06   \n",
       "19.0   26270.236328  154.0   0.394237  6.352681e+05        6.484032e+05   \n",
       "20.0   30330.937500  154.0   0.456611  4.479140e+05        4.630794e+05   \n",
       "21.0   27995.916016  154.0   0.509116  3.441176e+05        3.581156e+05   \n",
       "22.0   32012.675781  154.0   0.522528  3.880368e+05        4.040432e+05   \n",
       "23.0   29505.882812  154.0   0.525502  3.241512e+05        3.389042e+05   \n",
       "24.0   32806.496094  154.0   0.517234  2.659364e+05        2.823396e+05   \n",
       "25.0   31074.392578  154.0   0.516708  2.406862e+05        2.562234e+05   \n",
       "26.0   33442.238281  154.0   0.497733  2.190684e+05        2.357896e+05   \n",
       "27.0   32168.878906  154.0   0.494392  1.882019e+05        2.042864e+05   \n",
       "28.0   33433.941406  154.0   0.484891  1.636236e+05        1.803405e+05   \n",
       "29.0   32463.734375  154.0   0.492800  1.714195e+05        1.876514e+05   \n",
       "30.0   33254.281250  154.0   0.499300  1.492527e+05        1.658798e+05   \n",
       "31.0   32279.078125  154.0   0.510206  1.416874e+05        1.578269e+05   \n",
       "32.0   32213.464844  154.0   0.516694  1.307337e+05        1.468405e+05   \n",
       "33.0   31754.328125  154.0   0.520436  1.266065e+05        1.424836e+05   \n",
       "34.0   31463.166016  154.0   0.531509  1.217398e+05        1.374714e+05   \n",
       "35.0   31371.294922  154.0   0.532358  1.140879e+05        1.297735e+05   \n",
       "36.0   31190.378906  154.0   0.545848  1.099481e+05        1.255433e+05   \n",
       "37.0   31159.753906  154.0   0.544455  1.078406e+05        1.234205e+05   \n",
       "38.0   30936.412109  154.0   0.547078  1.040315e+05        1.194997e+05   \n",
       "39.0   31006.474609  154.0   0.546790  1.013189e+05        1.168221e+05   \n",
       "40.0   30961.068359  154.0   0.552761  9.969197e+04        1.151725e+05   \n",
       "41.0   30919.636719  154.0   0.551918  9.873870e+04        1.141985e+05   \n",
       "42.0   30888.146484  154.0   0.549613  9.826592e+04        1.137100e+05   \n",
       "43.0   30880.197266  154.0   0.551517  9.816409e+04        1.136042e+05   \n",
       "\n",
       "        val/acc  train/acc  train/l2_loss  train/loss_pred_epoch  \\\n",
       "epoch                                                              \n",
       "0.0    0.487013   0.384365   3.534922e+07               0.701103   \n",
       "1.0    0.487013   0.429967   3.530958e+07               0.699373   \n",
       "2.0    0.512987   0.514658   3.004551e+07               0.685745   \n",
       "3.0    0.512987   0.615635   1.388700e+07               0.672970   \n",
       "4.0    0.487013   0.514658   6.154806e+06               0.723177   \n",
       "5.0    0.487013   0.384365   2.986016e+06               0.949935   \n",
       "6.0    0.487013   0.384365   2.196814e+06               0.974137   \n",
       "7.0    0.487013   0.384365   2.005284e+06               0.962328   \n",
       "8.0    0.487013   0.384365   1.865500e+06               0.903951   \n",
       "9.0    0.454545   0.397394   1.423096e+06               0.810808   \n",
       "10.0   0.474026   0.436482   1.167888e+06               0.740250   \n",
       "11.0   0.551948   0.550489   8.893985e+05               0.700477   \n",
       "12.0   0.571429   0.573290   5.955487e+05               0.689719   \n",
       "13.0   0.603896   0.586319   4.818463e+05               0.694168   \n",
       "14.0   0.571429   0.589577   4.374242e+05               0.699627   \n",
       "15.0   0.571429   0.570033   4.278664e+05               0.703536   \n",
       "16.0   0.545455   0.540717   4.129102e+05               0.721086   \n",
       "17.0   0.506494   0.524430   5.389957e+05               0.735197   \n",
       "18.0   0.474026   0.482085   6.600542e+05               0.741318   \n",
       "19.0   0.454545   0.384365   7.836710e+05               0.783342   \n",
       "20.0   0.467532   0.413681   5.152013e+05               0.757815   \n",
       "21.0   0.506494   0.397394   3.846792e+05               0.780604   \n",
       "22.0   0.525974   0.423453   3.197314e+05               0.767549   \n",
       "23.0   0.519481   0.429967   2.862280e+05               0.771237   \n",
       "24.0   0.500000   0.407166   2.503219e+05               0.790272   \n",
       "25.0   0.487013   0.387622   2.199712e+05               0.820705   \n",
       "26.0   0.487013   0.390879   1.995468e+05               0.823310   \n",
       "27.0   0.474026   0.390879   1.801717e+05               0.820322   \n",
       "28.0   0.480519   0.387622   1.656091e+05               0.820773   \n",
       "29.0   0.493506   0.390879   1.524323e+05               0.820746   \n",
       "30.0   0.487013   0.390879   1.425359e+05               0.819341   \n",
       "31.0   0.493506   0.387622   1.304552e+05               0.817165   \n",
       "32.0   0.493506   0.390879   1.182753e+05               0.815526   \n",
       "33.0   0.487013   0.384365   1.104454e+05               0.805392   \n",
       "34.0   0.493506   0.403909   1.026613e+05               0.791164   \n",
       "35.0   0.493506   0.413681   9.772023e+04               0.782926   \n",
       "36.0   0.500000   0.416938   9.230008e+04               0.778055   \n",
       "37.0   0.487013   0.420195   8.878269e+04               0.771260   \n",
       "38.0   0.500000   0.433225   8.815236e+04               0.759658   \n",
       "39.0   0.487013   0.420195   8.275794e+04               0.759302   \n",
       "40.0   0.500000   0.416938   8.013504e+04               0.755180   \n",
       "41.0   0.500000   0.426710   7.902053e+04               0.753979   \n",
       "42.0   0.500000   0.433225   7.800331e+04               0.752637   \n",
       "43.0   0.500000   0.442997   7.758846e+04               0.752162   \n",
       "\n",
       "       train/l1_loss  train/n  train/auroc  train/loss_rec_epoch  \n",
       "epoch                                                             \n",
       "0.0       444.834473    307.0     0.427860          3.534944e+07  \n",
       "1.0       982.634888    307.0     0.461579          3.531007e+07  \n",
       "2.0     21290.494141    307.0     0.614699          3.005616e+07  \n",
       "3.0     54841.902344    307.0     0.602995          1.391442e+07  \n",
       "4.0     61723.933594    307.0     0.588667          6.185669e+06  \n",
       "5.0     50847.777344    307.0     0.540501          3.011440e+06  \n",
       "6.0     44307.980469    307.0     0.492052          2.218968e+06  \n",
       "7.0     40189.382812    307.0     0.494868          2.025378e+06  \n",
       "8.0     36509.386719    307.0     0.517401          1.883755e+06  \n",
       "9.0     34553.054688    307.0     0.567011          1.440372e+06  \n",
       "10.0    33798.820312    307.0     0.559147          1.184787e+06  \n",
       "11.0    33416.199219    307.0     0.595631          9.061066e+05  \n",
       "12.0    33861.046875    307.0     0.576051          6.124792e+05  \n",
       "13.0    34061.089844    307.0     0.579135          4.988769e+05  \n",
       "14.0    34646.500000    307.0     0.583205          4.547475e+05  \n",
       "15.0    34530.148438    307.0     0.577830          4.451315e+05  \n",
       "16.0    34218.207031    307.0     0.561003          4.300194e+05  \n",
       "17.0    32919.160156    307.0     0.562740          5.554552e+05  \n",
       "18.0    30264.439453    307.0     0.536574          6.751864e+05  \n",
       "19.0    29354.525391    307.0     0.542585          7.983483e+05  \n",
       "20.0    28281.005859    307.0     0.544544          5.293419e+05  \n",
       "21.0    29392.710938    307.0     0.514938          3.993756e+05  \n",
       "22.0    29954.390625    307.0     0.537773          3.347086e+05  \n",
       "23.0    30940.042969    307.0     0.572121          3.016981e+05  \n",
       "24.0    31086.423828    307.0     0.558251          2.658651e+05  \n",
       "25.0    32205.775391    307.0     0.560380          2.360742e+05  \n",
       "26.0    32395.576172    307.0     0.551778          2.157445e+05  \n",
       "27.0    32943.886719    307.0     0.554254          1.966436e+05  \n",
       "28.0    33062.593750    307.0     0.535925          1.821404e+05  \n",
       "29.0    33314.578125    307.0     0.531844          1.690896e+05  \n",
       "30.0    33044.281250    307.0     0.540360          1.590580e+05  \n",
       "31.0    32936.066406    307.0     0.549140          1.469232e+05  \n",
       "32.0    32514.667969    307.0     0.539846          1.345326e+05  \n",
       "33.0    32219.078125    307.0     0.556356          1.265549e+05  \n",
       "34.0    31883.472656    307.0     0.551529          1.186031e+05  \n",
       "35.0    31596.820312    307.0     0.559880          1.135186e+05  \n",
       "36.0    31413.316406    307.0     0.547771          1.080067e+05  \n",
       "37.0    31273.576172    307.0     0.547744          1.044195e+05  \n",
       "38.0    31166.986328    307.0     0.553858          1.037359e+05  \n",
       "39.0    31084.941406    307.0     0.556633          9.830041e+04  \n",
       "40.0    31069.642578    307.0     0.544019          9.566986e+04  \n",
       "41.0    31020.652344    307.0     0.553267          9.453087e+04  \n",
       "42.0    31058.779297    307.0     0.552387          9.353270e+04  \n",
       "43.0    31015.906250    307.0     0.549305          9.309641e+04  "
      ]
     },
     "metadata": {},
     "output_type": "display_data"
    }
   ],
   "source": [
    "net.ae_mode(0)\n",
    " \n",
    "lr_logger = LearningRateMonitor(logging_interval='step')\n",
    "trainer1 = pl.Trainer(\n",
    "    precision=\"16-mixed\",\n",
    "    gradient_clip_val=20,\n",
    "    # devices=2,\n",
    "    accelerator=\"auto\",\n",
    "    devices=\"1\",\n",
    "    max_epochs=max_epochs,# * VAE_EPOCH_MULT,\n",
    "    log_every_n_steps=1,\n",
    "    # enable_progress_bar=False, enable_model_summary=False\n",
    "    callbacks=[lr_logger],\n",
    ")\n",
    "\n",
    "# LOAD_CHECKPONT = Path('/media/wassname/SGIronWolf/projects5/elk/sgd_probes_are_lie_detectors/notebooks/lightning_logs/version_52/1_ae.ckpt')\n",
    "LOAD_CHECKPONT = None\n",
    "if LOAD_CHECKPONT:\n",
    "    PLAE.load_from_checkpoint(LOAD_CHECKPONT)\n",
    "else:\n",
    "    trainer1.fit(model=net, train_dataloaders=dl_train, \n",
    "                 val_dataloaders=dl_val # FIXME why does this slow it down with multiple processes?\n",
    "                );\n",
    "\n",
    "    df_hist, df_hist_step = read_metrics_csv(trainer1.logger.experiment.metrics_file_path)\n",
    "    plot_hist(df_hist, ['l2_loss', 'l1_loss', 'loss_rec'], logy=True)\n",
    "    plt.show()\n",
    "    plot_hist(df_hist_step, ['loss_rec_step'], logy=True)\n",
    "\n",
    "    display(df_hist)\n"
   ]
  },
  {
   "cell_type": "code",
   "execution_count": 27,
   "metadata": {},
   "outputs": [],
   "source": [
    "df_hist, df_hist_step = read_metrics_csv(trainer1.logger.experiment.metrics_file_path)"
   ]
  },
  {
   "cell_type": "code",
   "execution_count": 28,
   "metadata": {},
   "outputs": [
    {
     "data": {
      "text/plain": [
       "<Axes: xlabel='epoch'>"
      ]
     },
     "execution_count": 28,
     "metadata": {},
     "output_type": "execute_result"
    },
    {
     "data": {
      "image/png": "[encoded data removed]",
      "text/plain": [
       "<Figure size 640x480 with 1 Axes>"
      ]
     },
     "metadata": {},
     "output_type": "display_data"
    }
   ],
   "source": [
    "# Check the LR\n",
    "df_hist, df_hist_step = read_metrics_csv(trainer1.logger.experiment.metrics_file_path)\n",
    "df_hist['lr-AdamW'].plot()"
   ]
  },
  {
   "cell_type": "markdown",
   "metadata": {},
   "source": [
    "l2_loss ~= l1_loss * l1_coeff"
   ]
  },
  {
   "cell_type": "code",
   "execution_count": 29,
   "metadata": {},
   "outputs": [
    {
     "data": {
      "text/plain": [
       "0.5"
      ]
     },
     "execution_count": 29,
     "metadata": {},
     "output_type": "execute_result"
    }
   ],
   "source": [
    "l1_coeff"
   ]
  },
  {
   "cell_type": "code",
   "execution_count": 30,
   "metadata": {},
   "outputs": [
    {
     "data": {
      "text/html": [
       "<div>\n",
       "<style scoped>\n",
       "    .dataframe tbody tr th:only-of-type {\n",
       "        vertical-align: middle;\n",
       "    }\n",
       "\n",
       "    .dataframe tbody tr th {\n",
       "        vertical-align: top;\n",
       "    }\n",
       "\n",
       "    .dataframe thead th {\n",
       "        text-align: right;\n",
       "    }\n",
       "</style>\n",
       "<table border=\"1\" class=\"dataframe\">\n",
       "  <thead>\n",
       "    <tr style=\"text-align: right;\">\n",
       "      <th></th>\n",
       "      <th>train/l2_loss</th>\n",
       "      <th>train/l1_loss</th>\n",
       "    </tr>\n",
       "    <tr>\n",
       "      <th>epoch</th>\n",
       "      <th></th>\n",
       "      <th></th>\n",
       "    </tr>\n",
       "  </thead>\n",
       "  <tbody>\n",
       "    <tr>\n",
       "      <th>0.0</th>\n",
       "      <td>3.534922e+07</td>\n",
       "      <td>444.834473</td>\n",
       "    </tr>\n",
       "    <tr>\n",
       "      <th>1.0</th>\n",
       "      <td>3.530958e+07</td>\n",
       "      <td>982.634888</td>\n",
       "    </tr>\n",
       "    <tr>\n",
       "      <th>2.0</th>\n",
       "      <td>3.004551e+07</td>\n",
       "      <td>21290.494141</td>\n",
       "    </tr>\n",
       "    <tr>\n",
       "      <th>3.0</th>\n",
       "      <td>1.388700e+07</td>\n",
       "      <td>54841.902344</td>\n",
       "    </tr>\n",
       "    <tr>\n",
       "      <th>4.0</th>\n",
       "      <td>6.154806e+06</td>\n",
       "      <td>61723.933594</td>\n",
       "    </tr>\n",
       "    <tr>\n",
       "      <th>5.0</th>\n",
       "      <td>2.986016e+06</td>\n",
       "      <td>50847.777344</td>\n",
       "    </tr>\n",
       "    <tr>\n",
       "      <th>6.0</th>\n",
       "      <td>2.196814e+06</td>\n",
       "      <td>44307.980469</td>\n",
       "    </tr>\n",
       "    <tr>\n",
       "      <th>7.0</th>\n",
       "      <td>2.005284e+06</td>\n",
       "      <td>40189.382812</td>\n",
       "    </tr>\n",
       "    <tr>\n",
       "      <th>8.0</th>\n",
       "      <td>1.865500e+06</td>\n",
       "      <td>36509.386719</td>\n",
       "    </tr>\n",
       "    <tr>\n",
       "      <th>9.0</th>\n",
       "      <td>1.423096e+06</td>\n",
       "      <td>34553.054688</td>\n",
       "    </tr>\n",
       "    <tr>\n",
       "      <th>10.0</th>\n",
       "      <td>1.167888e+06</td>\n",
       "      <td>33798.820312</td>\n",
       "    </tr>\n",
       "    <tr>\n",
       "      <th>11.0</th>\n",
       "      <td>8.893985e+05</td>\n",
       "      <td>33416.199219</td>\n",
       "    </tr>\n",
       "    <tr>\n",
       "      <th>12.0</th>\n",
       "      <td>5.955487e+05</td>\n",
       "      <td>33861.046875</td>\n",
       "    </tr>\n",
       "    <tr>\n",
       "      <th>13.0</th>\n",
       "      <td>4.818463e+05</td>\n",
       "      <td>34061.089844</td>\n",
       "    </tr>\n",
       "    <tr>\n",
       "      <th>14.0</th>\n",
       "      <td>4.374242e+05</td>\n",
       "      <td>34646.500000</td>\n",
       "    </tr>\n",
       "    <tr>\n",
       "      <th>15.0</th>\n",
       "      <td>4.278664e+05</td>\n",
       "      <td>34530.148438</td>\n",
       "    </tr>\n",
       "    <tr>\n",
       "      <th>16.0</th>\n",
       "      <td>4.129102e+05</td>\n",
       "      <td>34218.207031</td>\n",
       "    </tr>\n",
       "    <tr>\n",
       "      <th>17.0</th>\n",
       "      <td>5.389957e+05</td>\n",
       "      <td>32919.160156</td>\n",
       "    </tr>\n",
       "    <tr>\n",
       "      <th>18.0</th>\n",
       "      <td>6.600542e+05</td>\n",
       "      <td>30264.439453</td>\n",
       "    </tr>\n",
       "    <tr>\n",
       "      <th>19.0</th>\n",
       "      <td>7.836710e+05</td>\n",
       "      <td>29354.525391</td>\n",
       "    </tr>\n",
       "    <tr>\n",
       "      <th>20.0</th>\n",
       "      <td>5.152013e+05</td>\n",
       "      <td>28281.005859</td>\n",
       "    </tr>\n",
       "    <tr>\n",
       "      <th>21.0</th>\n",
       "      <td>3.846792e+05</td>\n",
       "      <td>29392.710938</td>\n",
       "    </tr>\n",
       "    <tr>\n",
       "      <th>22.0</th>\n",
       "      <td>3.197314e+05</td>\n",
       "      <td>29954.390625</td>\n",
       "    </tr>\n",
       "    <tr>\n",
       "      <th>23.0</th>\n",
       "      <td>2.862280e+05</td>\n",
       "      <td>30940.042969</td>\n",
       "    </tr>\n",
       "    <tr>\n",
       "      <th>24.0</th>\n",
       "      <td>2.503219e+05</td>\n",
       "      <td>31086.423828</td>\n",
       "    </tr>\n",
       "    <tr>\n",
       "      <th>25.0</th>\n",
       "      <td>2.199712e+05</td>\n",
       "      <td>32205.775391</td>\n",
       "    </tr>\n",
       "    <tr>\n",
       "      <th>26.0</th>\n",
       "      <td>1.995468e+05</td>\n",
       "      <td>32395.576172</td>\n",
       "    </tr>\n",
       "    <tr>\n",
       "      <th>27.0</th>\n",
       "      <td>1.801717e+05</td>\n",
       "      <td>32943.886719</td>\n",
       "    </tr>\n",
       "    <tr>\n",
       "      <th>28.0</th>\n",
       "      <td>1.656091e+05</td>\n",
       "      <td>33062.593750</td>\n",
       "    </tr>\n",
       "    <tr>\n",
       "      <th>29.0</th>\n",
       "      <td>1.524323e+05</td>\n",
       "      <td>33314.578125</td>\n",
       "    </tr>\n",
       "    <tr>\n",
       "      <th>30.0</th>\n",
       "      <td>1.425359e+05</td>\n",
       "      <td>33044.281250</td>\n",
       "    </tr>\n",
       "    <tr>\n",
       "      <th>31.0</th>\n",
       "      <td>1.304552e+05</td>\n",
       "      <td>32936.066406</td>\n",
       "    </tr>\n",
       "    <tr>\n",
       "      <th>32.0</th>\n",
       "      <td>1.182753e+05</td>\n",
       "      <td>32514.667969</td>\n",
       "    </tr>\n",
       "    <tr>\n",
       "      <th>33.0</th>\n",
       "      <td>1.104454e+05</td>\n",
       "      <td>32219.078125</td>\n",
       "    </tr>\n",
       "    <tr>\n",
       "      <th>34.0</th>\n",
       "      <td>1.026613e+05</td>\n",
       "      <td>31883.472656</td>\n",
       "    </tr>\n",
       "    <tr>\n",
       "      <th>35.0</th>\n",
       "      <td>9.772023e+04</td>\n",
       "      <td>31596.820312</td>\n",
       "    </tr>\n",
       "    <tr>\n",
       "      <th>36.0</th>\n",
       "      <td>9.230008e+04</td>\n",
       "      <td>31413.316406</td>\n",
       "    </tr>\n",
       "    <tr>\n",
       "      <th>37.0</th>\n",
       "      <td>8.878269e+04</td>\n",
       "      <td>31273.576172</td>\n",
       "    </tr>\n",
       "    <tr>\n",
       "      <th>38.0</th>\n",
       "      <td>8.815236e+04</td>\n",
       "      <td>31166.986328</td>\n",
       "    </tr>\n",
       "    <tr>\n",
       "      <th>39.0</th>\n",
       "      <td>8.275794e+04</td>\n",
       "      <td>31084.941406</td>\n",
       "    </tr>\n",
       "    <tr>\n",
       "      <th>40.0</th>\n",
       "      <td>8.013504e+04</td>\n",
       "      <td>31069.642578</td>\n",
       "    </tr>\n",
       "    <tr>\n",
       "      <th>41.0</th>\n",
       "      <td>7.902053e+04</td>\n",
       "      <td>31020.652344</td>\n",
       "    </tr>\n",
       "    <tr>\n",
       "      <th>42.0</th>\n",
       "      <td>7.800331e+04</td>\n",
       "      <td>31058.779297</td>\n",
       "    </tr>\n",
       "    <tr>\n",
       "      <th>43.0</th>\n",
       "      <td>7.758846e+04</td>\n",
       "      <td>31015.906250</td>\n",
       "    </tr>\n",
       "  </tbody>\n",
       "</table>\n",
       "</div>"
      ],
      "text/plain": [
       "       train/l2_loss  train/l1_loss\n",
       "epoch                              \n",
       "0.0     3.534922e+07     444.834473\n",
       "1.0     3.530958e+07     982.634888\n",
       "2.0     3.004551e+07   21290.494141\n",
       "3.0     1.388700e+07   54841.902344\n",
       "4.0     6.154806e+06   61723.933594\n",
       "5.0     2.986016e+06   50847.777344\n",
       "6.0     2.196814e+06   44307.980469\n",
       "7.0     2.005284e+06   40189.382812\n",
       "8.0     1.865500e+06   36509.386719\n",
       "9.0     1.423096e+06   34553.054688\n",
       "10.0    1.167888e+06   33798.820312\n",
       "11.0    8.893985e+05   33416.199219\n",
       "12.0    5.955487e+05   33861.046875\n",
       "13.0    4.818463e+05   34061.089844\n",
       "14.0    4.374242e+05   34646.500000\n",
       "15.0    4.278664e+05   34530.148438\n",
       "16.0    4.129102e+05   34218.207031\n",
       "17.0    5.389957e+05   32919.160156\n",
       "18.0    6.600542e+05   30264.439453\n",
       "19.0    7.836710e+05   29354.525391\n",
       "20.0    5.152013e+05   28281.005859\n",
       "21.0    3.846792e+05   29392.710938\n",
       "22.0    3.197314e+05   29954.390625\n",
       "23.0    2.862280e+05   30940.042969\n",
       "24.0    2.503219e+05   31086.423828\n",
       "25.0    2.199712e+05   32205.775391\n",
       "26.0    1.995468e+05   32395.576172\n",
       "27.0    1.801717e+05   32943.886719\n",
       "28.0    1.656091e+05   33062.593750\n",
       "29.0    1.524323e+05   33314.578125\n",
       "30.0    1.425359e+05   33044.281250\n",
       "31.0    1.304552e+05   32936.066406\n",
       "32.0    1.182753e+05   32514.667969\n",
       "33.0    1.104454e+05   32219.078125\n",
       "34.0    1.026613e+05   31883.472656\n",
       "35.0    9.772023e+04   31596.820312\n",
       "36.0    9.230008e+04   31413.316406\n",
       "37.0    8.878269e+04   31273.576172\n",
       "38.0    8.815236e+04   31166.986328\n",
       "39.0    8.275794e+04   31084.941406\n",
       "40.0    8.013504e+04   31069.642578\n",
       "41.0    7.902053e+04   31020.652344\n",
       "42.0    7.800331e+04   31058.779297\n",
       "43.0    7.758846e+04   31015.906250"
      ]
     },
     "execution_count": 30,
     "metadata": {},
     "output_type": "execute_result"
    }
   ],
   "source": [
    "df_hist[['train/l2_loss','train/l1_loss']]"
   ]
  },
  {
   "cell_type": "code",
   "execution_count": 31,
   "metadata": {},
   "outputs": [
    {
     "name": "stdout",
     "output_type": "stream",
     "text": [
      "l1 coeff should be approx\n"
     ]
    },
    {
     "data": {
      "text/plain": [
       "5351.793750702701"
      ]
     },
     "execution_count": 31,
     "metadata": {},
     "output_type": "execute_result"
    }
   ],
   "source": [
    "print('l1 coeff should be approx')\n",
    "ratio = df_hist['train/l2_loss']/df_hist['train/l1_loss']\n",
    "ratio = ratio[np.isfinite(ratio)]\n",
    "ratio.mean()/l1_coeff\n"
   ]
  },
  {
   "cell_type": "code",
   "execution_count": 32,
   "metadata": {},
   "outputs": [],
   "source": [
    "# ((latent>0)*1.0).mean()"
   ]
  },
  {
   "cell_type": "markdown",
   "metadata": {},
   "source": []
  },
  {
   "cell_type": "markdown",
   "metadata": {},
   "source": [
    "5/10 [00:04<00:04, 1.10it/s, v_num=295, val/loss_pred=0.0849, val/loss_rec=9.58e+5, train/loss_pred=0.350, train/loss_rec=9.8e+5]\n"
   ]
  },
  {
   "cell_type": "code",
   "execution_count": 33,
   "metadata": {},
   "outputs": [
    {
     "data": {
      "image/png": "[encoded data removed]",
      "text/plain": [
       "<Figure size 640x480 with 8 Axes>"
      ]
     },
     "metadata": {},
     "output_type": "display_data"
    },
    {
     "data": {
      "image/png": "[encoded data removed]",
      "text/plain": [
       "<Figure size 640x480 with 1 Axes>"
      ]
     },
     "metadata": {},
     "output_type": "display_data"
    }
   ],
   "source": [
    "# visualize latent space\n",
    "from matplotlib import cm\n",
    "\n",
    "\n",
    "def plot_latent(latent):\n",
    "\n",
    "    # plot image of latent space\n",
    "    vmax = latent.abs().max()\n",
    "    for i in range(4):\n",
    "        plt.subplot(2, 2, i + 1)\n",
    "        vmax = latent[i].abs().max()\n",
    "        plt.imshow(\n",
    "            latent[i],\n",
    "            cmap=cm.coolwarm,\n",
    "            interpolation=\"none\",\n",
    "            aspect=\"auto\",\n",
    "            vmin=-vmax,\n",
    "            vmax=vmax,\n",
    "        )\n",
    "        plt.xlabel(\"layer\")\n",
    "        plt.ylabel(\"neuron\")\n",
    "        if i < 2:\n",
    "            plt.xlabel(\"\")\n",
    "            plt.xticks([])\n",
    "        if i % 2 == 1:\n",
    "            plt.ylabel(\"\")\n",
    "            plt.yticks([])\n",
    "        plt.grid(False)\n",
    "        plt.colorbar()\n",
    "    # plt.colorbar()\n",
    "    plt.subplots_adjust(wspace=0.05, hspace=0.05)\n",
    "    plt.show()\n",
    "\n",
    "    # histogram\n",
    "    latentf = rearrange(latent, \"b n l -> (b n) l\").flatten()\n",
    "    vmax = (latentf.abs().mean() + 5 * latentf.abs().std()).item()\n",
    "    plt.hist(latentf, bins=55, range=[-vmax, vmax], histtype=\"step\")\n",
    "    plt.title(\"latents by layer\")\n",
    "    plt.show()\n",
    "\n",
    "\n",
    "latent = y[\"latent\"].cpu()  # .reshape(64, 24, 12) # [Batch, Latent, Layer]\n",
    "plot_latent(latent)\n"
   ]
  },
  {
   "cell_type": "code",
   "execution_count": 34,
   "metadata": {},
   "outputs": [
    {
     "data": {
      "text/plain": [
       "(torch.Size([32, 7, 256]), tensor(1.3731), tensor(0.8811), tensor(1.0941), 112)"
      ]
     },
     "execution_count": 34,
     "metadata": {},
     "output_type": "execute_result"
    }
   ],
   "source": [
    "latent.shape, latent.diff(dim=1).std(), latent.std(), latent.diff(dim=2).std(), 16*7"
   ]
  },
  {
   "cell_type": "code",
   "execution_count": null,
   "metadata": {},
   "outputs": [],
   "source": []
  },
  {
   "cell_type": "markdown",
   "metadata": {},
   "source": [
    "# helpers"
   ]
  },
  {
   "cell_type": "code",
   "execution_count": 113,
   "metadata": {},
   "outputs": [],
   "source": [
    "from src.eval.ds import ds2df\n",
    "\n",
    "def get_acc_subset(df, query, verbose=True):\n",
    "    assert (df['y'].mean()<0).any(), 'y should be [-1, 1]'\n",
    "    assert (df['y'].mean()>-1).all(), 'y should be [-1, 1]'\n",
    "    assert (df['y'].mean()<1).all(), 'y should be [-1, 1]'\n",
    "    assert (df['probe_pred'].mean()>0).all(), 'pred should be [0,1]'\n",
    "    assert (df['probe_pred'].mean()<1).all(), 'pred should be [0,1]'\n",
    "\n",
    "    if query:\n",
    "        df = df.query(query)\n",
    "    # df[\"probe_cls\"] = df[\"probe_pred\"] > 0.5\n",
    "    acc = ((df[\"probe_pred\"]>0.5) == (df[\"y\"]>0)).mean()\n",
    "    if verbose:\n",
    "        print(f\"acc={acc:2.2%},\\tn={len(df)},\\t[{query}] \")\n",
    "    return acc\n",
    "\n",
    "\n",
    "def calc_metrics(dm, net, trainer=None, split=\"test\", verbose=True):\n",
    "\n",
    "    # predict\n",
    "    dl_test = dm.create_dataloader(split)\n",
    "    if trainer is None:\n",
    "        trainer = pl.Trainer(logger=False, enable_progress_bar=False, enable_model_summary=False)\n",
    "    rt = trainer.predict(net, dataloaders=dl_test)\n",
    "    y_test_pred = np.concatenate(rt)\n",
    "\n",
    "    # get original df\n",
    "    splits = dm.splits[split]\n",
    "    df = ds2df(dm.dm_orig).rename(columns=lambda s:s.replace('_base',''))\n",
    "    df['y'] = dm.ds['y']\n",
    "    df_test = df.iloc[splits[0] : splits[1]].copy()\n",
    "    df_test[\"probe_pred\"] = y_test_pred\n",
    "\n",
    "    if verbose:\n",
    "        print(f\"probe results on subsets of the data for {split}\")\n",
    "    acc = get_acc_subset(df_test, \"\", verbose=verbose)\n",
    "    get_acc_subset(\n",
    "        df_test, \"instructed_to_lie==True\", verbose=verbose\n",
    "    )  # it was ph told to lie\n",
    "    get_acc_subset(\n",
    "        df_test, \"instructed_to_lie==False\", verbose=verbose\n",
    "    )  # it was told not to lie\n",
    "    get_acc_subset(\n",
    "        df_test, \"ans==label_true\", verbose=verbose\n",
    "    )  # the llm gave the true ans\n",
    "    get_acc_subset(\n",
    "        df_test, \"ans==label_instructed\", verbose=verbose\n",
    "    )  # the llm gave the desired ans\n",
    "    acc_lie_lie = get_acc_subset(\n",
    "        df_test, \"instructed_to_lie==True & ans==label_instructed\", verbose=verbose\n",
    "    )  # it was told to lie, and it did lie\n",
    "    acc_lie_truth = get_acc_subset(\n",
    "        df_test, \"instructed_to_lie==True & ans!=label_instructed\", verbose=verbose\n",
    "    )\n",
    "\n",
    "    a = get_acc_subset(\n",
    "        df_test, \"instructed_to_lie==False & ans==label_instructed\", verbose=False\n",
    "    )\n",
    "    b = get_acc_subset(\n",
    "        df_test, \"instructed_to_lie==False & ans!=label_instructed\", verbose=False\n",
    "    )\n",
    "    c = get_acc_subset(\n",
    "        df_test, \"instructed_to_lie==True & ans==label_instructed\", verbose=False\n",
    "    )\n",
    "    d = get_acc_subset(\n",
    "        df_test, \"instructed_to_lie==True & ans!=label_instructed\", verbose=False\n",
    "    )\n",
    "    \n",
    "\n",
    "    df_confusion = pd.DataFrame(\n",
    "        [[a, b], [c, d]],\n",
    "        index=[\"tell a truth\", \"tell a lie\"],\n",
    "        columns=[\"did\", \"didn't\"],\n",
    "    )\n",
    "    df_confusion.index.name = \"instructed to\"\n",
    "    df_confusion.columns.name = \"llm gave\"\n",
    "\n",
    "\n",
    "    if verbose:\n",
    "        print(f\"⭐PRIMARY METRIC⭐ acc={acc:2.2%} from probe on {split}\")\n",
    "        print(f\"⭐SECONDARY METRIC⭐ acc_lie_lie={acc_lie_lie:2.2%} from probe on {split}\")\n",
    "    \n",
    "    print(\"\\n\\nprobe accuracy for quadrants:\")\n",
    "    print(df_confusion.round(2).to_markdown())\n",
    "    print('\\n\\n')\n",
    "\n",
    "\n",
    "    return dict(acc=acc, acc_lie_lie=acc_lie_lie, acc_lie_truth=acc_lie_truth, df_test=df_test, df_confusion=df_confusion)\n",
    "\n",
    "\n",
    "# r = testval_metrics = calc_metrics(dm, trainer3, net, use_val=True)\n",
    "# r['df_test']"
   ]
  },
  {
   "cell_type": "code",
   "execution_count": 114,
   "metadata": {},
   "outputs": [],
   "source": [
    "# dm_ood.splits"
   ]
  },
  {
   "cell_type": "code",
   "execution_count": 115,
   "metadata": {},
   "outputs": [
    {
     "name": "stderr",
     "output_type": "stream",
     "text": [
      "LOCAL_RANK: 0 - CUDA_VISIBLE_DEVICES: [0,1]\n",
      "/media/wassname/SGIronWolf/projects5/elk/sgd_probes_are_lie_detectors/.venv/lib/python3.11/site-packages/lightning/pytorch/trainer/connectors/data_connector.py:441: The 'predict_dataloader' does not have many workers which may be a bottleneck. Consider increasing the value of the `num_workers` argument` to `num_workers=23` in the `DataLoader` to improve performance.\n"
     ]
    },
    {
     "data": {
      "application/vnd.jupyter.widget-view+json": {
       "model_id": "fd2d4f586f554d5dae890ef860e1c9b9",
       "version_major": 2,
       "version_minor": 0
      },
      "text/plain": [
       "Predicting: |          | 0/? [00:00<?, ?it/s]"
      ]
     },
     "metadata": {},
     "output_type": "display_data"
    },
    {
     "name": "stderr",
     "output_type": "stream",
     "text": [
      "LOCAL_RANK: 0 - CUDA_VISIBLE_DEVICES: [0,1]\n"
     ]
    },
    {
     "name": "stdout",
     "output_type": "stream",
     "text": [
      "probe results on subsets of the data for test\n",
      "acc=84.42%,\tn=154,\t[] \n",
      "acc=88.24%,\tn=34,\t[instructed_to_lie==True] \n",
      "acc=83.33%,\tn=120,\t[instructed_to_lie==False] \n",
      "acc=90.52%,\tn=116,\t[ans==label_true] \n",
      "acc=88.78%,\tn=98,\t[ans==label_instructed] \n",
      "acc=75.00%,\tn=8,\t[instructed_to_lie==True & ans==label_instructed] \n",
      "acc=92.31%,\tn=26,\t[instructed_to_lie==True & ans!=label_instructed] \n",
      "⭐PRIMARY METRIC⭐ acc=84.42% from probe on test\n",
      "⭐SECONDARY METRIC⭐ acc_lie_lie=75.00% from probe on test\n",
      "\n",
      "\n",
      "probe accuracy for quadrants:\n",
      "| instructed to   |   did |   didn't |\n",
      "|:----------------|------:|---------:|\n",
      "| tell a truth    |  0.9  |     0.63 |\n",
      "| tell a lie      |  0.75 |     0.92 |\n",
      "\n",
      "\n",
      "\n"
     ]
    },
    {
     "name": "stderr",
     "output_type": "stream",
     "text": [
      "/media/wassname/SGIronWolf/projects5/elk/sgd_probes_are_lie_detectors/.venv/lib/python3.11/site-packages/lightning/pytorch/trainer/connectors/data_connector.py:441: The 'predict_dataloader' does not have many workers which may be a bottleneck. Consider increasing the value of the `num_workers` argument` to `num_workers=23` in the `DataLoader` to improve performance.\n"
     ]
    },
    {
     "data": {
      "application/vnd.jupyter.widget-view+json": {
       "model_id": "83abd89c80b64ea082a991c77d08d390",
       "version_major": 2,
       "version_minor": 0
      },
      "text/plain": [
       "Predicting: |          | 0/? [00:00<?, ?it/s]"
      ]
     },
     "metadata": {},
     "output_type": "display_data"
    },
    {
     "name": "stderr",
     "output_type": "stream",
     "text": [
      "LOCAL_RANK: 0 - CUDA_VISIBLE_DEVICES: [0,1]\n"
     ]
    },
    {
     "name": "stdout",
     "output_type": "stream",
     "text": [
      "probe results on subsets of the data for val\n",
      "acc=84.42%,\tn=154,\t[] \n",
      "acc=81.82%,\tn=11,\t[instructed_to_lie==True] \n",
      "acc=84.62%,\tn=143,\t[instructed_to_lie==False] \n",
      "acc=84.82%,\tn=112,\t[ans==label_true] \n",
      "acc=84.11%,\tn=107,\t[ans==label_instructed] \n",
      "acc=66.67%,\tn=3,\t[instructed_to_lie==True & ans==label_instructed] \n",
      "acc=87.50%,\tn=8,\t[instructed_to_lie==True & ans!=label_instructed] \n",
      "⭐PRIMARY METRIC⭐ acc=84.42% from probe on val\n",
      "⭐SECONDARY METRIC⭐ acc_lie_lie=66.67% from probe on val\n",
      "\n",
      "\n",
      "probe accuracy for quadrants:\n",
      "| instructed to   |   did |   didn't |\n",
      "|:----------------|------:|---------:|\n",
      "| tell a truth    |  0.85 |     0.85 |\n",
      "| tell a lie      |  0.67 |     0.88 |\n",
      "\n",
      "\n",
      "\n"
     ]
    },
    {
     "name": "stderr",
     "output_type": "stream",
     "text": [
      "/media/wassname/SGIronWolf/projects5/elk/sgd_probes_are_lie_detectors/.venv/lib/python3.11/site-packages/lightning/pytorch/trainer/connectors/data_connector.py:441: The 'predict_dataloader' does not have many workers which may be a bottleneck. Consider increasing the value of the `num_workers` argument` to `num_workers=23` in the `DataLoader` to improve performance.\n"
     ]
    },
    {
     "data": {
      "application/vnd.jupyter.widget-view+json": {
       "model_id": "a8f557365d5e4608a55327dbf8e68caa",
       "version_major": 2,
       "version_minor": 0
      },
      "text/plain": [
       "Predicting: |          | 0/? [00:00<?, ?it/s]"
      ]
     },
     "metadata": {},
     "output_type": "display_data"
    },
    {
     "ename": "KeyError",
     "evalue": "'all'",
     "output_type": "error",
     "traceback": [
      "\u001b[0;31m---------------------------------------------------------------------------\u001b[0m",
      "\u001b[0;31mKeyError\u001b[0m                                  Traceback (most recent call last)",
      "Cell \u001b[0;32mIn[115], line 5\u001b[0m\n\u001b[1;32m      2\u001b[0m b \u001b[38;5;241m=\u001b[39m calc_metrics(dm, net,trainer1,  \u001b[38;5;124m'\u001b[39m\u001b[38;5;124mval\u001b[39m\u001b[38;5;124m'\u001b[39m)\n\u001b[1;32m      3\u001b[0m pd\u001b[38;5;241m.\u001b[39mDataFrame([a, b], index\u001b[38;5;241m=\u001b[39m[\u001b[38;5;124m'\u001b[39m\u001b[38;5;124mtest\u001b[39m\u001b[38;5;124m'\u001b[39m, \u001b[38;5;124m'\u001b[39m\u001b[38;5;124mval\u001b[39m\u001b[38;5;124m'\u001b[39m])\n\u001b[0;32m----> 5\u001b[0m c \u001b[38;5;241m=\u001b[39m \u001b[43mcalc_metrics\u001b[49m\u001b[43m(\u001b[49m\u001b[43mdm_ood\u001b[49m\u001b[43m,\u001b[49m\u001b[43m \u001b[49m\u001b[43mnet\u001b[49m\u001b[43m,\u001b[49m\u001b[43m \u001b[49m\u001b[43mtrainer1\u001b[49m\u001b[43m,\u001b[49m\u001b[43m \u001b[49m\u001b[38;5;124;43m'\u001b[39;49m\u001b[38;5;124;43mall\u001b[39;49m\u001b[38;5;124;43m'\u001b[39;49m\u001b[43m)\u001b[49m\n\u001b[1;32m      6\u001b[0m pd\u001b[38;5;241m.\u001b[39mDataFrame([a, b, c], index\u001b[38;5;241m=\u001b[39m[\u001b[38;5;124m'\u001b[39m\u001b[38;5;124mtest\u001b[39m\u001b[38;5;124m'\u001b[39m, \u001b[38;5;124m'\u001b[39m\u001b[38;5;124mval\u001b[39m\u001b[38;5;124m'\u001b[39m, \u001b[38;5;124m'\u001b[39m\u001b[38;5;124mood\u001b[39m\u001b[38;5;124m'\u001b[39m])\n",
      "Cell \u001b[0;32mIn[113], line 29\u001b[0m, in \u001b[0;36mcalc_metrics\u001b[0;34m(dm, net, trainer, split, verbose)\u001b[0m\n\u001b[1;32m     26\u001b[0m y_test_pred \u001b[38;5;241m=\u001b[39m np\u001b[38;5;241m.\u001b[39mconcatenate(rt)\n\u001b[1;32m     28\u001b[0m \u001b[38;5;66;03m# get original df\u001b[39;00m\n\u001b[0;32m---> 29\u001b[0m splits \u001b[38;5;241m=\u001b[39m \u001b[43mdm\u001b[49m\u001b[38;5;241;43m.\u001b[39;49m\u001b[43msplits\u001b[49m\u001b[43m[\u001b[49m\u001b[43msplit\u001b[49m\u001b[43m]\u001b[49m\n\u001b[1;32m     30\u001b[0m df \u001b[38;5;241m=\u001b[39m ds2df(dm\u001b[38;5;241m.\u001b[39mdm_orig)\u001b[38;5;241m.\u001b[39mrename(columns\u001b[38;5;241m=\u001b[39m\u001b[38;5;28;01mlambda\u001b[39;00m s:s\u001b[38;5;241m.\u001b[39mreplace(\u001b[38;5;124m'\u001b[39m\u001b[38;5;124m_base\u001b[39m\u001b[38;5;124m'\u001b[39m,\u001b[38;5;124m'\u001b[39m\u001b[38;5;124m'\u001b[39m))\n\u001b[1;32m     31\u001b[0m df[\u001b[38;5;124m'\u001b[39m\u001b[38;5;124my\u001b[39m\u001b[38;5;124m'\u001b[39m] \u001b[38;5;241m=\u001b[39m dm\u001b[38;5;241m.\u001b[39mds[\u001b[38;5;124m'\u001b[39m\u001b[38;5;124my\u001b[39m\u001b[38;5;124m'\u001b[39m]\n",
      "\u001b[0;31mKeyError\u001b[0m: 'all'"
     ]
    }
   ],
   "source": [
    "a = calc_metrics(dm, net, trainer1, 'test')\n",
    "b = calc_metrics(dm, net,trainer1,  'val')\n",
    "pd.DataFrame([a, b], index=['test', 'val'])\n",
    "\n",
    "c = calc_metrics(dm_ood, net, trainer1, 'all')\n",
    "pd.DataFrame([a, b, c], index=['test', 'val', 'ood'])\n",
    "\n"
   ]
  },
  {
   "cell_type": "code",
   "execution_count": 111,
   "metadata": {},
   "outputs": [
    {
     "data": {
      "text/html": [
       "<div>\n",
       "<style scoped>\n",
       "    .dataframe tbody tr th:only-of-type {\n",
       "        vertical-align: middle;\n",
       "    }\n",
       "\n",
       "    .dataframe tbody tr th {\n",
       "        vertical-align: top;\n",
       "    }\n",
       "\n",
       "    .dataframe thead th {\n",
       "        text-align: right;\n",
       "    }\n",
       "</style>\n",
       "<table border=\"1\" class=\"dataframe\">\n",
       "  <thead>\n",
       "    <tr style=\"text-align: right;\">\n",
       "      <th></th>\n",
       "      <th>acc</th>\n",
       "      <th>acc_lie_lie</th>\n",
       "      <th>acc_lie_truth</th>\n",
       "      <th>df_test</th>\n",
       "    </tr>\n",
       "  </thead>\n",
       "  <tbody>\n",
       "    <tr>\n",
       "      <th>test</th>\n",
       "      <td>0.844156</td>\n",
       "      <td>0.750000</td>\n",
       "      <td>0.923077</td>\n",
       "      <td>binary_ans  label_true  label_instructed ...</td>\n",
       "    </tr>\n",
       "    <tr>\n",
       "      <th>val</th>\n",
       "      <td>0.844156</td>\n",
       "      <td>0.666667</td>\n",
       "      <td>0.875000</td>\n",
       "      <td>binary_ans  label_true  label_instructed ...</td>\n",
       "    </tr>\n",
       "  </tbody>\n",
       "</table>\n",
       "</div>"
      ],
      "text/plain": [
       "           acc  acc_lie_lie  acc_lie_truth  \\\n",
       "test  0.844156     0.750000       0.923077   \n",
       "val   0.844156     0.666667       0.875000   \n",
       "\n",
       "                                                df_test  \n",
       "test       binary_ans  label_true  label_instructed ...  \n",
       "val        binary_ans  label_true  label_instructed ...  "
      ]
     },
     "execution_count": 111,
     "metadata": {},
     "output_type": "execute_result"
    }
   ],
   "source": []
  },
  {
   "cell_type": "markdown",
   "metadata": {},
   "source": [
    "### Train probe"
   ]
  },
  {
   "cell_type": "code",
   "execution_count": 35,
   "metadata": {},
   "outputs": [],
   "source": [
    "# # net.save_checkpoint\n",
    "# f = Path(trainer1.log_dir)/\"1_ae.ckpt\"\n",
    "# trainer1.save_checkpoint(f)\n",
    "# # PosixPath('/media/wassname/SGIronWolf/projects5/elk/sgd_probes_are_lie_detectors/notebooks/lightning_logs/version_52/1_ae.ckpt')\n",
    "# f"
   ]
  },
  {
   "cell_type": "code",
   "execution_count": 36,
   "metadata": {},
   "outputs": [],
   "source": [
    "# net.configure_optimizers()"
   ]
  },
  {
   "cell_type": "code",
   "execution_count": 37,
   "metadata": {},
   "outputs": [
    {
     "data": {
      "application/vnd.jupyter.widget-view+json": {
       "model_id": "33ebf4b746f0457bb6cce39211d4708b",
       "version_major": 2,
       "version_minor": 0
      },
      "text/plain": [
       "  0%|          | 0/10 [00:00<?, ?it/s]"
      ]
     },
     "metadata": {},
     "output_type": "display_data"
    },
    {
     "name": "stdout",
     "output_type": "stream",
     "text": [
      "CPU times: user 496 ms, sys: 13 ms, total: 509 ms\n",
      "Wall time: 47.3 ms\n"
     ]
    }
   ],
   "source": [
    "%%time\n",
    "for b in tqdm(dl_train):\n",
    "    pass"
   ]
  },
  {
   "cell_type": "code",
   "execution_count": 38,
   "metadata": {},
   "outputs": [
    {
     "data": {
      "application/vnd.jupyter.widget-view+json": {
       "model_id": "580207ae7d1f4770bdb76c44f24dc224",
       "version_major": 2,
       "version_minor": 0
      },
      "text/plain": [
       "  0%|          | 0/10 [00:00<?, ?it/s]"
      ]
     },
     "metadata": {},
     "output_type": "display_data"
    },
    {
     "name": "stdout",
     "output_type": "stream",
     "text": [
      "CPU times: user 4.58 s, sys: 293 ms, total: 4.87 s\n",
      "Wall time: 413 ms\n"
     ]
    }
   ],
   "source": [
    "%%time\n",
    "for b in tqdm(dl_train):\n",
    "    y = net.predict_step(b)"
   ]
  },
  {
   "cell_type": "code",
   "execution_count": 39,
   "metadata": {},
   "outputs": [],
   "source": [
    "\n",
    "# # debug\n",
    "# with torch.no_grad():\n",
    "#     b = next(iter(dl_train))\n",
    "#     y = net.predict_step(b)"
   ]
  },
  {
   "cell_type": "code",
   "execution_count": 40,
   "metadata": {},
   "outputs": [
    {
     "name": "stderr",
     "output_type": "stream",
     "text": [
      "Trainer will use only 1 of 2 GPUs because it is running inside an interactive / notebook environment. You may try to set `Trainer(devices=2)` but please note that multi-GPU inside interactive / notebook environments is considered experimental and unstable. Your mileage may vary.\n",
      "GPU available: True (cuda), used: True\n",
      "TPU available: False, using: 0 TPU cores\n",
      "IPU available: False, using: 0 IPUs\n",
      "HPU available: False, using: 0 HPUs\n",
      "LOCAL_RANK: 0 - CUDA_VISIBLE_DEVICES: [0,1]\n",
      "\n",
      "  | Name | Type        | Params\n",
      "-------------------------------------\n",
      "0 | ae   | AutoEncoder | 82.7 M\n",
      "1 | head | Sequential  | 4.1 M \n",
      "-------------------------------------\n",
      "4.1 M     Trainable params\n",
      "82.7 M    Non-trainable params\n",
      "86.8 M    Total params\n",
      "347.287   Total estimated model params size (MB)\n"
     ]
    },
    {
     "name": "stdout",
     "output_type": "stream",
     "text": [
      "training probe\n",
      "requires_grad: False\n"
     ]
    },
    {
     "data": {
      "application/vnd.jupyter.widget-view+json": {
       "model_id": "c3260bf7271f44d1829970ccadf0facd",
       "version_major": 2,
       "version_minor": 0
      },
      "text/plain": [
       "Sanity Checking: |          | 0/? [00:00<?, ?it/s]"
      ]
     },
     "metadata": {},
     "output_type": "display_data"
    },
    {
     "name": "stderr",
     "output_type": "stream",
     "text": [
      "/media/wassname/SGIronWolf/projects5/elk/sgd_probes_are_lie_detectors/.venv/lib/python3.11/site-packages/lightning/pytorch/trainer/connectors/data_connector.py:441: The 'val_dataloader' does not have many workers which may be a bottleneck. Consider increasing the value of the `num_workers` argument` to `num_workers=23` in the `DataLoader` to improve performance.\n",
      "/media/wassname/SGIronWolf/projects5/elk/sgd_probes_are_lie_detectors/.venv/lib/python3.11/site-packages/lightning/pytorch/trainer/connectors/data_connector.py:441: The 'train_dataloader' does not have many workers which may be a bottleneck. Consider increasing the value of the `num_workers` argument` to `num_workers=23` in the `DataLoader` to improve performance.\n"
     ]
    },
    {
     "data": {
      "application/vnd.jupyter.widget-view+json": {
       "model_id": "7854b5af470441f2bb65ede4a3833f6c",
       "version_major": 2,
       "version_minor": 0
      },
      "text/plain": [
       "Training: |          | 0/? [00:00<?, ?it/s]"
      ]
     },
     "metadata": {},
     "output_type": "display_data"
    },
    {
     "data": {
      "application/vnd.jupyter.widget-view+json": {
       "model_id": "63abb70dbb3641998ba53fcd3cff0fe1",
       "version_major": 2,
       "version_minor": 0
      },
      "text/plain": [
       "Validation: |          | 0/? [00:00<?, ?it/s]"
      ]
     },
     "metadata": {},
     "output_type": "display_data"
    },
    {
     "data": {
      "application/vnd.jupyter.widget-view+json": {
       "model_id": "23a2fa0aa5a9484582c7100ee147a0eb",
       "version_major": 2,
       "version_minor": 0
      },
      "text/plain": [
       "Validation: |          | 0/? [00:00<?, ?it/s]"
      ]
     },
     "metadata": {},
     "output_type": "display_data"
    },
    {
     "data": {
      "application/vnd.jupyter.widget-view+json": {
       "model_id": "ab8c7dacdc214517a90af0a5d47f7754",
       "version_major": 2,
       "version_minor": 0
      },
      "text/plain": [
       "Validation: |          | 0/? [00:00<?, ?it/s]"
      ]
     },
     "metadata": {},
     "output_type": "display_data"
    },
    {
     "data": {
      "application/vnd.jupyter.widget-view+json": {
       "model_id": "f694ca029a174322a3e9c4fb5e10dad4",
       "version_major": 2,
       "version_minor": 0
      },
      "text/plain": [
       "Validation: |          | 0/? [00:00<?, ?it/s]"
      ]
     },
     "metadata": {},
     "output_type": "display_data"
    },
    {
     "data": {
      "application/vnd.jupyter.widget-view+json": {
       "model_id": "24fe92c6aecb4a5d9b8ed26de8b2e72c",
       "version_major": 2,
       "version_minor": 0
      },
      "text/plain": [
       "Validation: |          | 0/? [00:00<?, ?it/s]"
      ]
     },
     "metadata": {},
     "output_type": "display_data"
    },
    {
     "data": {
      "application/vnd.jupyter.widget-view+json": {
       "model_id": "9ffb144d5ec145a0931819efad3c7ef9",
       "version_major": 2,
       "version_minor": 0
      },
      "text/plain": [
       "Validation: |          | 0/? [00:00<?, ?it/s]"
      ]
     },
     "metadata": {},
     "output_type": "display_data"
    },
    {
     "data": {
      "application/vnd.jupyter.widget-view+json": {
       "model_id": "e180a62107124c83b6ec7d851a49719a",
       "version_major": 2,
       "version_minor": 0
      },
      "text/plain": [
       "Validation: |          | 0/? [00:00<?, ?it/s]"
      ]
     },
     "metadata": {},
     "output_type": "display_data"
    },
    {
     "data": {
      "application/vnd.jupyter.widget-view+json": {
       "model_id": "a8a9cb44d6f5419598aa29fbf4d9bef6",
       "version_major": 2,
       "version_minor": 0
      },
      "text/plain": [
       "Validation: |          | 0/? [00:00<?, ?it/s]"
      ]
     },
     "metadata": {},
     "output_type": "display_data"
    },
    {
     "data": {
      "application/vnd.jupyter.widget-view+json": {
       "model_id": "6edc68aec47741be8e82bbfdf21dd81e",
       "version_major": 2,
       "version_minor": 0
      },
      "text/plain": [
       "Validation: |          | 0/? [00:00<?, ?it/s]"
      ]
     },
     "metadata": {},
     "output_type": "display_data"
    },
    {
     "data": {
      "application/vnd.jupyter.widget-view+json": {
       "model_id": "be86c6676a0148eda961a227216d1ca8",
       "version_major": 2,
       "version_minor": 0
      },
      "text/plain": [
       "Validation: |          | 0/? [00:00<?, ?it/s]"
      ]
     },
     "metadata": {},
     "output_type": "display_data"
    },
    {
     "data": {
      "application/vnd.jupyter.widget-view+json": {
       "model_id": "ccc8fee4f562435da9a4c9fa33d83d78",
       "version_major": 2,
       "version_minor": 0
      },
      "text/plain": [
       "Validation: |          | 0/? [00:00<?, ?it/s]"
      ]
     },
     "metadata": {},
     "output_type": "display_data"
    },
    {
     "data": {
      "application/vnd.jupyter.widget-view+json": {
       "model_id": "34cbf8e2d21640d7bc1fde0bb3dd6525",
       "version_major": 2,
       "version_minor": 0
      },
      "text/plain": [
       "Validation: |          | 0/? [00:00<?, ?it/s]"
      ]
     },
     "metadata": {},
     "output_type": "display_data"
    },
    {
     "data": {
      "application/vnd.jupyter.widget-view+json": {
       "model_id": "4eca61c4010f4630b1f22dbee3c5d0d2",
       "version_major": 2,
       "version_minor": 0
      },
      "text/plain": [
       "Validation: |          | 0/? [00:00<?, ?it/s]"
      ]
     },
     "metadata": {},
     "output_type": "display_data"
    },
    {
     "data": {
      "application/vnd.jupyter.widget-view+json": {
       "model_id": "dc602e8056854514b9d08d05b95e3e92",
       "version_major": 2,
       "version_minor": 0
      },
      "text/plain": [
       "Validation: |          | 0/? [00:00<?, ?it/s]"
      ]
     },
     "metadata": {},
     "output_type": "display_data"
    },
    {
     "data": {
      "application/vnd.jupyter.widget-view+json": {
       "model_id": "804fa3737d35421b8b2030a865fcb428",
       "version_major": 2,
       "version_minor": 0
      },
      "text/plain": [
       "Validation: |          | 0/? [00:00<?, ?it/s]"
      ]
     },
     "metadata": {},
     "output_type": "display_data"
    },
    {
     "data": {
      "application/vnd.jupyter.widget-view+json": {
       "model_id": "055bb5bc79cc4cd8b23a47f25dcf3ac9",
       "version_major": 2,
       "version_minor": 0
      },
      "text/plain": [
       "Validation: |          | 0/? [00:00<?, ?it/s]"
      ]
     },
     "metadata": {},
     "output_type": "display_data"
    },
    {
     "data": {
      "application/vnd.jupyter.widget-view+json": {
       "model_id": "d4a90104dcbf4430bf311dd3bc923354",
       "version_major": 2,
       "version_minor": 0
      },
      "text/plain": [
       "Validation: |          | 0/? [00:00<?, ?it/s]"
      ]
     },
     "metadata": {},
     "output_type": "display_data"
    },
    {
     "data": {
      "application/vnd.jupyter.widget-view+json": {
       "model_id": "f9dccc44ff974b2eafb42218c824d924",
       "version_major": 2,
       "version_minor": 0
      },
      "text/plain": [
       "Validation: |          | 0/? [00:00<?, ?it/s]"
      ]
     },
     "metadata": {},
     "output_type": "display_data"
    },
    {
     "data": {
      "application/vnd.jupyter.widget-view+json": {
       "model_id": "62387a5b0aac4244b07c0255c6020870",
       "version_major": 2,
       "version_minor": 0
      },
      "text/plain": [
       "Validation: |          | 0/? [00:00<?, ?it/s]"
      ]
     },
     "metadata": {},
     "output_type": "display_data"
    },
    {
     "data": {
      "application/vnd.jupyter.widget-view+json": {
       "model_id": "5195fd1c166549a3b47ec9065b45fc47",
       "version_major": 2,
       "version_minor": 0
      },
      "text/plain": [
       "Validation: |          | 0/? [00:00<?, ?it/s]"
      ]
     },
     "metadata": {},
     "output_type": "display_data"
    },
    {
     "data": {
      "application/vnd.jupyter.widget-view+json": {
       "model_id": "2cde8a5629ec441da6279c4404a423c1",
       "version_major": 2,
       "version_minor": 0
      },
      "text/plain": [
       "Validation: |          | 0/? [00:00<?, ?it/s]"
      ]
     },
     "metadata": {},
     "output_type": "display_data"
    },
    {
     "data": {
      "application/vnd.jupyter.widget-view+json": {
       "model_id": "5b1800ec28d64a80a0bc970c48399196",
       "version_major": 2,
       "version_minor": 0
      },
      "text/plain": [
       "Validation: |          | 0/? [00:00<?, ?it/s]"
      ]
     },
     "metadata": {},
     "output_type": "display_data"
    },
    {
     "data": {
      "application/vnd.jupyter.widget-view+json": {
       "model_id": "b16a9af998a146e8858a7544ac36ca98",
       "version_major": 2,
       "version_minor": 0
      },
      "text/plain": [
       "Validation: |          | 0/? [00:00<?, ?it/s]"
      ]
     },
     "metadata": {},
     "output_type": "display_data"
    },
    {
     "data": {
      "application/vnd.jupyter.widget-view+json": {
       "model_id": "43b351e7ff474d96a417cb48755c39a8",
       "version_major": 2,
       "version_minor": 0
      },
      "text/plain": [
       "Validation: |          | 0/? [00:00<?, ?it/s]"
      ]
     },
     "metadata": {},
     "output_type": "display_data"
    },
    {
     "data": {
      "application/vnd.jupyter.widget-view+json": {
       "model_id": "ade9dfb74ce844379398d225e5f5e3be",
       "version_major": 2,
       "version_minor": 0
      },
      "text/plain": [
       "Validation: |          | 0/? [00:00<?, ?it/s]"
      ]
     },
     "metadata": {},
     "output_type": "display_data"
    },
    {
     "data": {
      "application/vnd.jupyter.widget-view+json": {
       "model_id": "a20c6d15fc2b438799fc5f55607c2e87",
       "version_major": 2,
       "version_minor": 0
      },
      "text/plain": [
       "Validation: |          | 0/? [00:00<?, ?it/s]"
      ]
     },
     "metadata": {},
     "output_type": "display_data"
    },
    {
     "data": {
      "application/vnd.jupyter.widget-view+json": {
       "model_id": "70b9517d12cf4349bd5b00efbd3f6841",
       "version_major": 2,
       "version_minor": 0
      },
      "text/plain": [
       "Validation: |          | 0/? [00:00<?, ?it/s]"
      ]
     },
     "metadata": {},
     "output_type": "display_data"
    },
    {
     "data": {
      "application/vnd.jupyter.widget-view+json": {
       "model_id": "01837b0e491a49a4b096ee372cc7eedc",
       "version_major": 2,
       "version_minor": 0
      },
      "text/plain": [
       "Validation: |          | 0/? [00:00<?, ?it/s]"
      ]
     },
     "metadata": {},
     "output_type": "display_data"
    },
    {
     "data": {
      "application/vnd.jupyter.widget-view+json": {
       "model_id": "24f2716c0413425b9dae67d43fd5ad0d",
       "version_major": 2,
       "version_minor": 0
      },
      "text/plain": [
       "Validation: |          | 0/? [00:00<?, ?it/s]"
      ]
     },
     "metadata": {},
     "output_type": "display_data"
    },
    {
     "data": {
      "application/vnd.jupyter.widget-view+json": {
       "model_id": "72a115f9d7784620bdc7e8fb948409ce",
       "version_major": 2,
       "version_minor": 0
      },
      "text/plain": [
       "Validation: |          | 0/? [00:00<?, ?it/s]"
      ]
     },
     "metadata": {},
     "output_type": "display_data"
    },
    {
     "data": {
      "application/vnd.jupyter.widget-view+json": {
       "model_id": "b1ec6d414db545ac8cb1a4d44dce992f",
       "version_major": 2,
       "version_minor": 0
      },
      "text/plain": [
       "Validation: |          | 0/? [00:00<?, ?it/s]"
      ]
     },
     "metadata": {},
     "output_type": "display_data"
    },
    {
     "data": {
      "application/vnd.jupyter.widget-view+json": {
       "model_id": "4d443016fe884ce59ad924eea722f936",
       "version_major": 2,
       "version_minor": 0
      },
      "text/plain": [
       "Validation: |          | 0/? [00:00<?, ?it/s]"
      ]
     },
     "metadata": {},
     "output_type": "display_data"
    },
    {
     "data": {
      "application/vnd.jupyter.widget-view+json": {
       "model_id": "0f92f26282a64ff5a5944ee7f4f608c7",
       "version_major": 2,
       "version_minor": 0
      },
      "text/plain": [
       "Validation: |          | 0/? [00:00<?, ?it/s]"
      ]
     },
     "metadata": {},
     "output_type": "display_data"
    },
    {
     "data": {
      "application/vnd.jupyter.widget-view+json": {
       "model_id": "0fa8b1abf35a4f4a8c78ee16cc632208",
       "version_major": 2,
       "version_minor": 0
      },
      "text/plain": [
       "Validation: |          | 0/? [00:00<?, ?it/s]"
      ]
     },
     "metadata": {},
     "output_type": "display_data"
    },
    {
     "data": {
      "application/vnd.jupyter.widget-view+json": {
       "model_id": "f4b795e54f6c4833a0de52a6162bd747",
       "version_major": 2,
       "version_minor": 0
      },
      "text/plain": [
       "Validation: |          | 0/? [00:00<?, ?it/s]"
      ]
     },
     "metadata": {},
     "output_type": "display_data"
    },
    {
     "data": {
      "application/vnd.jupyter.widget-view+json": {
       "model_id": "53f41a6536d04ec5be13c9356365e98a",
       "version_major": 2,
       "version_minor": 0
      },
      "text/plain": [
       "Validation: |          | 0/? [00:00<?, ?it/s]"
      ]
     },
     "metadata": {},
     "output_type": "display_data"
    },
    {
     "data": {
      "application/vnd.jupyter.widget-view+json": {
       "model_id": "67d5e5f0866b4fe7b08914b01109843a",
       "version_major": 2,
       "version_minor": 0
      },
      "text/plain": [
       "Validation: |          | 0/? [00:00<?, ?it/s]"
      ]
     },
     "metadata": {},
     "output_type": "display_data"
    },
    {
     "data": {
      "application/vnd.jupyter.widget-view+json": {
       "model_id": "e8f89fbc3c9f4fbead1e2e7010e79f84",
       "version_major": 2,
       "version_minor": 0
      },
      "text/plain": [
       "Validation: |          | 0/? [00:00<?, ?it/s]"
      ]
     },
     "metadata": {},
     "output_type": "display_data"
    },
    {
     "data": {
      "application/vnd.jupyter.widget-view+json": {
       "model_id": "fb2d5641454e4a9baff659c56050d503",
       "version_major": 2,
       "version_minor": 0
      },
      "text/plain": [
       "Validation: |          | 0/? [00:00<?, ?it/s]"
      ]
     },
     "metadata": {},
     "output_type": "display_data"
    },
    {
     "data": {
      "application/vnd.jupyter.widget-view+json": {
       "model_id": "448e8d3ac1e247d8ba5216619d18f757",
       "version_major": 2,
       "version_minor": 0
      },
      "text/plain": [
       "Validation: |          | 0/? [00:00<?, ?it/s]"
      ]
     },
     "metadata": {},
     "output_type": "display_data"
    },
    {
     "data": {
      "application/vnd.jupyter.widget-view+json": {
       "model_id": "ae9469d0fa154c2b8e84970b06a6c7ac",
       "version_major": 2,
       "version_minor": 0
      },
      "text/plain": [
       "Validation: |          | 0/? [00:00<?, ?it/s]"
      ]
     },
     "metadata": {},
     "output_type": "display_data"
    },
    {
     "data": {
      "application/vnd.jupyter.widget-view+json": {
       "model_id": "31358576877241c8a222c5399265c7a7",
       "version_major": 2,
       "version_minor": 0
      },
      "text/plain": [
       "Validation: |          | 0/? [00:00<?, ?it/s]"
      ]
     },
     "metadata": {},
     "output_type": "display_data"
    },
    {
     "data": {
      "application/vnd.jupyter.widget-view+json": {
       "model_id": "bd3117ed14b6469c93f6df1dcbd9cf98",
       "version_major": 2,
       "version_minor": 0
      },
      "text/plain": [
       "Validation: |          | 0/? [00:00<?, ?it/s]"
      ]
     },
     "metadata": {},
     "output_type": "display_data"
    },
    {
     "data": {
      "application/vnd.jupyter.widget-view+json": {
       "model_id": "922f5069a03e4fc6bc4265590c865236",
       "version_major": 2,
       "version_minor": 0
      },
      "text/plain": [
       "Validation: |          | 0/? [00:00<?, ?it/s]"
      ]
     },
     "metadata": {},
     "output_type": "display_data"
    },
    {
     "name": "stderr",
     "output_type": "stream",
     "text": [
      "`Trainer.fit` stopped: `max_epochs=44` reached.\n"
     ]
    }
   ],
   "source": [
    "net.ae_mode(1)\n",
    "trainer2 = pl.Trainer(\n",
    "    # precision=\"16-mixed\",\n",
    "    gradient_clip_val=20,\n",
    "    max_epochs=max_epochs,\n",
    "    log_every_n_steps=1,\n",
    "    # enable_progress_bar=False, enable_model_summary=False\n",
    "    # callbacks=[lr_logger],\n",
    ")\n",
    "trainer2.fit(model=net, train_dataloaders=dl_train, \n",
    "             val_dataloaders=dl_val\n",
    "             );\n"
   ]
  },
  {
   "cell_type": "code",
   "execution_count": null,
   "metadata": {},
   "outputs": [],
   "source": []
  },
  {
   "cell_type": "code",
   "execution_count": 41,
   "metadata": {},
   "outputs": [
    {
     "data": {
      "image/png": "[encoded data removed]",
      "text/plain": [
       "<Figure size 640x480 with 1 Axes>"
      ]
     },
     "metadata": {},
     "output_type": "display_data"
    },
    {
     "data": {
      "image/png": "[encoded data removed]",
      "text/plain": [
       "<Figure size 640x480 with 1 Axes>"
      ]
     },
     "metadata": {},
     "output_type": "display_data"
    },
    {
     "data": {
      "text/html": [
       "<div>\n",
       "<style scoped>\n",
       "    .dataframe tbody tr th:only-of-type {\n",
       "        vertical-align: middle;\n",
       "    }\n",
       "\n",
       "    .dataframe tbody tr th {\n",
       "        vertical-align: top;\n",
       "    }\n",
       "\n",
       "    .dataframe thead th {\n",
       "        text-align: right;\n",
       "    }\n",
       "</style>\n",
       "<table border=\"1\" class=\"dataframe\">\n",
       "  <thead>\n",
       "    <tr style=\"text-align: right;\">\n",
       "      <th></th>\n",
       "      <th>train/loss_rec_step</th>\n",
       "      <th>step</th>\n",
       "      <th>train/loss_pred_step</th>\n",
       "      <th>val/loss_pred_step</th>\n",
       "      <th>val/loss_rec_step</th>\n",
       "      <th>val/loss_pred_epoch</th>\n",
       "      <th>val/l1_loss</th>\n",
       "      <th>val/n</th>\n",
       "      <th>val/auroc</th>\n",
       "      <th>val/l2_loss</th>\n",
       "      <th>val/loss_rec_epoch</th>\n",
       "      <th>val/acc</th>\n",
       "      <th>train/acc</th>\n",
       "      <th>train/l2_loss</th>\n",
       "      <th>train/loss_pred_epoch</th>\n",
       "      <th>train/l1_loss</th>\n",
       "      <th>train/n</th>\n",
       "      <th>train/auroc</th>\n",
       "      <th>train/loss_rec_epoch</th>\n",
       "    </tr>\n",
       "    <tr>\n",
       "      <th>epoch</th>\n",
       "      <th></th>\n",
       "      <th></th>\n",
       "      <th></th>\n",
       "      <th></th>\n",
       "      <th></th>\n",
       "      <th></th>\n",
       "      <th></th>\n",
       "      <th></th>\n",
       "      <th></th>\n",
       "      <th></th>\n",
       "      <th></th>\n",
       "      <th></th>\n",
       "      <th></th>\n",
       "      <th></th>\n",
       "      <th></th>\n",
       "      <th></th>\n",
       "      <th></th>\n",
       "      <th></th>\n",
       "      <th></th>\n",
       "    </tr>\n",
       "  </thead>\n",
       "  <tbody>\n",
       "    <tr>\n",
       "      <th>0.0</th>\n",
       "      <td>77397.773438</td>\n",
       "      <td>9</td>\n",
       "      <td>1.069788</td>\n",
       "      <td>0.778202</td>\n",
       "      <td>100395.21875</td>\n",
       "      <td>1.160508</td>\n",
       "      <td>30877.785156</td>\n",
       "      <td>154.0</td>\n",
       "      <td>0.566243</td>\n",
       "      <td>98168.09375</td>\n",
       "      <td>113606.984375</td>\n",
       "      <td>0.525974</td>\n",
       "      <td>0.511401</td>\n",
       "      <td>77545.398438</td>\n",
       "      <td>1.020661</td>\n",
       "      <td>31012.433594</td>\n",
       "      <td>307.0</td>\n",
       "      <td>0.578966</td>\n",
       "      <td>93051.617188</td>\n",
       "    </tr>\n",
       "    <tr>\n",
       "      <th>1.0</th>\n",
       "      <td>91063.453125</td>\n",
       "      <td>19</td>\n",
       "      <td>0.843710</td>\n",
       "      <td>0.660874</td>\n",
       "      <td>100395.21875</td>\n",
       "      <td>0.862282</td>\n",
       "      <td>30877.785156</td>\n",
       "      <td>154.0</td>\n",
       "      <td>0.710818</td>\n",
       "      <td>98168.09375</td>\n",
       "      <td>113606.984375</td>\n",
       "      <td>0.519481</td>\n",
       "      <td>0.508143</td>\n",
       "      <td>77545.406250</td>\n",
       "      <td>0.884215</td>\n",
       "      <td>31012.433594</td>\n",
       "      <td>307.0</td>\n",
       "      <td>0.654156</td>\n",
       "      <td>93051.625000</td>\n",
       "    </tr>\n",
       "    <tr>\n",
       "      <th>2.0</th>\n",
       "      <td>90795.132812</td>\n",
       "      <td>29</td>\n",
       "      <td>0.949022</td>\n",
       "      <td>0.689792</td>\n",
       "      <td>100395.21875</td>\n",
       "      <td>0.690631</td>\n",
       "      <td>30877.785156</td>\n",
       "      <td>154.0</td>\n",
       "      <td>0.607301</td>\n",
       "      <td>98168.09375</td>\n",
       "      <td>113606.984375</td>\n",
       "      <td>0.603896</td>\n",
       "      <td>0.615635</td>\n",
       "      <td>77545.398438</td>\n",
       "      <td>0.723649</td>\n",
       "      <td>31012.433594</td>\n",
       "      <td>307.0</td>\n",
       "      <td>0.680807</td>\n",
       "      <td>93051.632812</td>\n",
       "    </tr>\n",
       "    <tr>\n",
       "      <th>3.0</th>\n",
       "      <td>89330.171875</td>\n",
       "      <td>39</td>\n",
       "      <td>0.601921</td>\n",
       "      <td>0.809051</td>\n",
       "      <td>100395.21875</td>\n",
       "      <td>0.986673</td>\n",
       "      <td>30877.785156</td>\n",
       "      <td>154.0</td>\n",
       "      <td>0.671147</td>\n",
       "      <td>98168.09375</td>\n",
       "      <td>113606.984375</td>\n",
       "      <td>0.545455</td>\n",
       "      <td>0.677524</td>\n",
       "      <td>77545.406250</td>\n",
       "      <td>0.616691</td>\n",
       "      <td>31012.433594</td>\n",
       "      <td>307.0</td>\n",
       "      <td>0.718683</td>\n",
       "      <td>93051.625000</td>\n",
       "    </tr>\n",
       "    <tr>\n",
       "      <th>4.0</th>\n",
       "      <td>90714.328125</td>\n",
       "      <td>49</td>\n",
       "      <td>0.709774</td>\n",
       "      <td>0.704353</td>\n",
       "      <td>100395.21875</td>\n",
       "      <td>0.651313</td>\n",
       "      <td>30877.785156</td>\n",
       "      <td>154.0</td>\n",
       "      <td>0.684201</td>\n",
       "      <td>98168.09375</td>\n",
       "      <td>113606.984375</td>\n",
       "      <td>0.616883</td>\n",
       "      <td>0.596091</td>\n",
       "      <td>77545.406250</td>\n",
       "      <td>0.700747</td>\n",
       "      <td>31012.433594</td>\n",
       "      <td>307.0</td>\n",
       "      <td>0.725853</td>\n",
       "      <td>93051.625000</td>\n",
       "    </tr>\n",
       "    <tr>\n",
       "      <th>5.0</th>\n",
       "      <td>106039.632812</td>\n",
       "      <td>59</td>\n",
       "      <td>0.651428</td>\n",
       "      <td>0.678959</td>\n",
       "      <td>100395.21875</td>\n",
       "      <td>0.741412</td>\n",
       "      <td>30877.785156</td>\n",
       "      <td>154.0</td>\n",
       "      <td>0.740930</td>\n",
       "      <td>98168.09375</td>\n",
       "      <td>113606.984375</td>\n",
       "      <td>0.597403</td>\n",
       "      <td>0.628664</td>\n",
       "      <td>77545.398438</td>\n",
       "      <td>0.638593</td>\n",
       "      <td>31012.433594</td>\n",
       "      <td>307.0</td>\n",
       "      <td>0.765669</td>\n",
       "      <td>93051.625000</td>\n",
       "    </tr>\n",
       "    <tr>\n",
       "      <th>6.0</th>\n",
       "      <td>81858.281250</td>\n",
       "      <td>69</td>\n",
       "      <td>0.569671</td>\n",
       "      <td>0.570009</td>\n",
       "      <td>100395.21875</td>\n",
       "      <td>0.730938</td>\n",
       "      <td>30877.785156</td>\n",
       "      <td>154.0</td>\n",
       "      <td>0.817584</td>\n",
       "      <td>98168.09375</td>\n",
       "      <td>113606.984375</td>\n",
       "      <td>0.577922</td>\n",
       "      <td>0.690554</td>\n",
       "      <td>77545.406250</td>\n",
       "      <td>0.603959</td>\n",
       "      <td>31012.433594</td>\n",
       "      <td>307.0</td>\n",
       "      <td>0.817182</td>\n",
       "      <td>93051.617188</td>\n",
       "    </tr>\n",
       "    <tr>\n",
       "      <th>7.0</th>\n",
       "      <td>86209.156250</td>\n",
       "      <td>79</td>\n",
       "      <td>3.969136</td>\n",
       "      <td>4.288115</td>\n",
       "      <td>100395.21875</td>\n",
       "      <td>3.304382</td>\n",
       "      <td>30877.785156</td>\n",
       "      <td>154.0</td>\n",
       "      <td>0.753181</td>\n",
       "      <td>98168.09375</td>\n",
       "      <td>113606.984375</td>\n",
       "      <td>0.487013</td>\n",
       "      <td>0.592834</td>\n",
       "      <td>77545.406250</td>\n",
       "      <td>1.214469</td>\n",
       "      <td>31012.433594</td>\n",
       "      <td>307.0</td>\n",
       "      <td>0.797214</td>\n",
       "      <td>93051.625000</td>\n",
       "    </tr>\n",
       "    <tr>\n",
       "      <th>8.0</th>\n",
       "      <td>102165.445312</td>\n",
       "      <td>89</td>\n",
       "      <td>1.690567</td>\n",
       "      <td>0.792697</td>\n",
       "      <td>100395.21875</td>\n",
       "      <td>0.699588</td>\n",
       "      <td>30877.785156</td>\n",
       "      <td>154.0</td>\n",
       "      <td>0.770118</td>\n",
       "      <td>98168.09375</td>\n",
       "      <td>113606.984375</td>\n",
       "      <td>0.525974</td>\n",
       "      <td>0.508143</td>\n",
       "      <td>77545.414062</td>\n",
       "      <td>1.733171</td>\n",
       "      <td>31012.433594</td>\n",
       "      <td>307.0</td>\n",
       "      <td>0.772954</td>\n",
       "      <td>93051.625000</td>\n",
       "    </tr>\n",
       "    <tr>\n",
       "      <th>9.0</th>\n",
       "      <td>98064.218750</td>\n",
       "      <td>99</td>\n",
       "      <td>0.521591</td>\n",
       "      <td>0.672620</td>\n",
       "      <td>100395.21875</td>\n",
       "      <td>0.704992</td>\n",
       "      <td>30877.785156</td>\n",
       "      <td>154.0</td>\n",
       "      <td>0.737901</td>\n",
       "      <td>98168.09375</td>\n",
       "      <td>113606.984375</td>\n",
       "      <td>0.616883</td>\n",
       "      <td>0.631922</td>\n",
       "      <td>77545.406250</td>\n",
       "      <td>0.636802</td>\n",
       "      <td>31012.429688</td>\n",
       "      <td>307.0</td>\n",
       "      <td>0.780447</td>\n",
       "      <td>93051.632812</td>\n",
       "    </tr>\n",
       "    <tr>\n",
       "      <th>10.0</th>\n",
       "      <td>69636.710938</td>\n",
       "      <td>109</td>\n",
       "      <td>0.461808</td>\n",
       "      <td>0.520920</td>\n",
       "      <td>100395.21875</td>\n",
       "      <td>0.660143</td>\n",
       "      <td>30877.785156</td>\n",
       "      <td>154.0</td>\n",
       "      <td>0.788122</td>\n",
       "      <td>98168.09375</td>\n",
       "      <td>113606.984375</td>\n",
       "      <td>0.603896</td>\n",
       "      <td>0.667752</td>\n",
       "      <td>77545.414062</td>\n",
       "      <td>0.692107</td>\n",
       "      <td>31012.435547</td>\n",
       "      <td>307.0</td>\n",
       "      <td>0.804601</td>\n",
       "      <td>93051.625000</td>\n",
       "    </tr>\n",
       "    <tr>\n",
       "      <th>11.0</th>\n",
       "      <td>75968.390625</td>\n",
       "      <td>119</td>\n",
       "      <td>0.570702</td>\n",
       "      <td>0.788361</td>\n",
       "      <td>100395.21875</td>\n",
       "      <td>0.677515</td>\n",
       "      <td>30877.785156</td>\n",
       "      <td>154.0</td>\n",
       "      <td>0.751004</td>\n",
       "      <td>98168.09375</td>\n",
       "      <td>113606.984375</td>\n",
       "      <td>0.571429</td>\n",
       "      <td>0.644951</td>\n",
       "      <td>77545.414062</td>\n",
       "      <td>0.634193</td>\n",
       "      <td>31012.429688</td>\n",
       "      <td>307.0</td>\n",
       "      <td>0.834798</td>\n",
       "      <td>93051.625000</td>\n",
       "    </tr>\n",
       "    <tr>\n",
       "      <th>12.0</th>\n",
       "      <td>97414.601562</td>\n",
       "      <td>129</td>\n",
       "      <td>0.460473</td>\n",
       "      <td>0.664653</td>\n",
       "      <td>100395.21875</td>\n",
       "      <td>0.774117</td>\n",
       "      <td>30877.785156</td>\n",
       "      <td>154.0</td>\n",
       "      <td>0.771113</td>\n",
       "      <td>98168.09375</td>\n",
       "      <td>113606.984375</td>\n",
       "      <td>0.551948</td>\n",
       "      <td>0.664495</td>\n",
       "      <td>77545.406250</td>\n",
       "      <td>0.602314</td>\n",
       "      <td>31012.433594</td>\n",
       "      <td>307.0</td>\n",
       "      <td>0.839575</td>\n",
       "      <td>93051.625000</td>\n",
       "    </tr>\n",
       "    <tr>\n",
       "      <th>13.0</th>\n",
       "      <td>104531.179688</td>\n",
       "      <td>139</td>\n",
       "      <td>0.683978</td>\n",
       "      <td>0.515957</td>\n",
       "      <td>100395.21875</td>\n",
       "      <td>0.672138</td>\n",
       "      <td>30877.785156</td>\n",
       "      <td>154.0</td>\n",
       "      <td>0.730726</td>\n",
       "      <td>98168.09375</td>\n",
       "      <td>113606.984375</td>\n",
       "      <td>0.610390</td>\n",
       "      <td>0.697068</td>\n",
       "      <td>77545.414062</td>\n",
       "      <td>0.592645</td>\n",
       "      <td>31012.429688</td>\n",
       "      <td>307.0</td>\n",
       "      <td>0.831244</td>\n",
       "      <td>93051.625000</td>\n",
       "    </tr>\n",
       "    <tr>\n",
       "      <th>14.0</th>\n",
       "      <td>121984.343750</td>\n",
       "      <td>149</td>\n",
       "      <td>0.458280</td>\n",
       "      <td>0.669487</td>\n",
       "      <td>100395.21875</td>\n",
       "      <td>0.557663</td>\n",
       "      <td>30877.785156</td>\n",
       "      <td>154.0</td>\n",
       "      <td>0.834384</td>\n",
       "      <td>98168.09375</td>\n",
       "      <td>113606.984375</td>\n",
       "      <td>0.733766</td>\n",
       "      <td>0.710098</td>\n",
       "      <td>77545.398438</td>\n",
       "      <td>0.548631</td>\n",
       "      <td>31012.433594</td>\n",
       "      <td>307.0</td>\n",
       "      <td>0.868454</td>\n",
       "      <td>93051.625000</td>\n",
       "    </tr>\n",
       "    <tr>\n",
       "      <th>15.0</th>\n",
       "      <td>88494.093750</td>\n",
       "      <td>159</td>\n",
       "      <td>1.014107</td>\n",
       "      <td>0.591291</td>\n",
       "      <td>100395.21875</td>\n",
       "      <td>0.596720</td>\n",
       "      <td>30877.785156</td>\n",
       "      <td>154.0</td>\n",
       "      <td>0.810539</td>\n",
       "      <td>98168.09375</td>\n",
       "      <td>113606.984375</td>\n",
       "      <td>0.681818</td>\n",
       "      <td>0.684039</td>\n",
       "      <td>77545.406250</td>\n",
       "      <td>0.584592</td>\n",
       "      <td>31012.433594</td>\n",
       "      <td>307.0</td>\n",
       "      <td>0.862822</td>\n",
       "      <td>93051.625000</td>\n",
       "    </tr>\n",
       "    <tr>\n",
       "      <th>16.0</th>\n",
       "      <td>105940.289062</td>\n",
       "      <td>169</td>\n",
       "      <td>0.387916</td>\n",
       "      <td>0.506099</td>\n",
       "      <td>100395.21875</td>\n",
       "      <td>0.584782</td>\n",
       "      <td>30877.785156</td>\n",
       "      <td>154.0</td>\n",
       "      <td>0.795673</td>\n",
       "      <td>98168.09375</td>\n",
       "      <td>113606.984375</td>\n",
       "      <td>0.655844</td>\n",
       "      <td>0.723127</td>\n",
       "      <td>77545.406250</td>\n",
       "      <td>0.565336</td>\n",
       "      <td>31012.433594</td>\n",
       "      <td>307.0</td>\n",
       "      <td>0.872286</td>\n",
       "      <td>93051.625000</td>\n",
       "    </tr>\n",
       "    <tr>\n",
       "      <th>17.0</th>\n",
       "      <td>93633.195312</td>\n",
       "      <td>179</td>\n",
       "      <td>0.810040</td>\n",
       "      <td>0.608471</td>\n",
       "      <td>100395.21875</td>\n",
       "      <td>0.549278</td>\n",
       "      <td>30877.785156</td>\n",
       "      <td>154.0</td>\n",
       "      <td>0.824255</td>\n",
       "      <td>98168.09375</td>\n",
       "      <td>113606.984375</td>\n",
       "      <td>0.701299</td>\n",
       "      <td>0.726384</td>\n",
       "      <td>77545.406250</td>\n",
       "      <td>0.526617</td>\n",
       "      <td>31012.429688</td>\n",
       "      <td>307.0</td>\n",
       "      <td>0.869530</td>\n",
       "      <td>93051.625000</td>\n",
       "    </tr>\n",
       "    <tr>\n",
       "      <th>18.0</th>\n",
       "      <td>84510.710938</td>\n",
       "      <td>189</td>\n",
       "      <td>0.414939</td>\n",
       "      <td>0.477233</td>\n",
       "      <td>100395.21875</td>\n",
       "      <td>0.514056</td>\n",
       "      <td>30877.785156</td>\n",
       "      <td>154.0</td>\n",
       "      <td>0.803141</td>\n",
       "      <td>98168.09375</td>\n",
       "      <td>113606.984375</td>\n",
       "      <td>0.753247</td>\n",
       "      <td>0.716612</td>\n",
       "      <td>77545.406250</td>\n",
       "      <td>0.499335</td>\n",
       "      <td>31012.433594</td>\n",
       "      <td>307.0</td>\n",
       "      <td>0.878709</td>\n",
       "      <td>93051.625000</td>\n",
       "    </tr>\n",
       "    <tr>\n",
       "      <th>19.0</th>\n",
       "      <td>85320.609375</td>\n",
       "      <td>199</td>\n",
       "      <td>0.615247</td>\n",
       "      <td>0.677246</td>\n",
       "      <td>100395.21875</td>\n",
       "      <td>0.547554</td>\n",
       "      <td>30877.785156</td>\n",
       "      <td>154.0</td>\n",
       "      <td>0.883409</td>\n",
       "      <td>98168.09375</td>\n",
       "      <td>113606.984375</td>\n",
       "      <td>0.727273</td>\n",
       "      <td>0.775244</td>\n",
       "      <td>77545.398438</td>\n",
       "      <td>0.473835</td>\n",
       "      <td>31012.433594</td>\n",
       "      <td>307.0</td>\n",
       "      <td>0.899666</td>\n",
       "      <td>93051.625000</td>\n",
       "    </tr>\n",
       "    <tr>\n",
       "      <th>20.0</th>\n",
       "      <td>98640.500000</td>\n",
       "      <td>209</td>\n",
       "      <td>0.776128</td>\n",
       "      <td>0.769955</td>\n",
       "      <td>100395.21875</td>\n",
       "      <td>0.611047</td>\n",
       "      <td>30877.785156</td>\n",
       "      <td>154.0</td>\n",
       "      <td>0.806176</td>\n",
       "      <td>98168.09375</td>\n",
       "      <td>113606.984375</td>\n",
       "      <td>0.642857</td>\n",
       "      <td>0.700326</td>\n",
       "      <td>77545.398438</td>\n",
       "      <td>0.579547</td>\n",
       "      <td>31012.433594</td>\n",
       "      <td>307.0</td>\n",
       "      <td>0.905836</td>\n",
       "      <td>93051.617188</td>\n",
       "    </tr>\n",
       "    <tr>\n",
       "      <th>21.0</th>\n",
       "      <td>94597.359375</td>\n",
       "      <td>219</td>\n",
       "      <td>0.576955</td>\n",
       "      <td>0.561617</td>\n",
       "      <td>100395.21875</td>\n",
       "      <td>0.555429</td>\n",
       "      <td>30877.785156</td>\n",
       "      <td>154.0</td>\n",
       "      <td>0.796464</td>\n",
       "      <td>98168.09375</td>\n",
       "      <td>113606.984375</td>\n",
       "      <td>0.694805</td>\n",
       "      <td>0.661238</td>\n",
       "      <td>77545.414062</td>\n",
       "      <td>0.586174</td>\n",
       "      <td>31012.433594</td>\n",
       "      <td>307.0</td>\n",
       "      <td>0.831182</td>\n",
       "      <td>93051.617188</td>\n",
       "    </tr>\n",
       "    <tr>\n",
       "      <th>22.0</th>\n",
       "      <td>101388.945312</td>\n",
       "      <td>229</td>\n",
       "      <td>0.491799</td>\n",
       "      <td>0.701527</td>\n",
       "      <td>100395.21875</td>\n",
       "      <td>0.559388</td>\n",
       "      <td>30877.785156</td>\n",
       "      <td>154.0</td>\n",
       "      <td>0.833618</td>\n",
       "      <td>98168.09375</td>\n",
       "      <td>113606.984375</td>\n",
       "      <td>0.714286</td>\n",
       "      <td>0.739414</td>\n",
       "      <td>77545.414062</td>\n",
       "      <td>0.519696</td>\n",
       "      <td>31012.433594</td>\n",
       "      <td>307.0</td>\n",
       "      <td>0.924990</td>\n",
       "      <td>93051.625000</td>\n",
       "    </tr>\n",
       "    <tr>\n",
       "      <th>23.0</th>\n",
       "      <td>106463.648438</td>\n",
       "      <td>239</td>\n",
       "      <td>0.283981</td>\n",
       "      <td>0.483018</td>\n",
       "      <td>100395.21875</td>\n",
       "      <td>0.563574</td>\n",
       "      <td>30877.785156</td>\n",
       "      <td>154.0</td>\n",
       "      <td>0.834375</td>\n",
       "      <td>98168.09375</td>\n",
       "      <td>113606.984375</td>\n",
       "      <td>0.688312</td>\n",
       "      <td>0.807818</td>\n",
       "      <td>77545.406250</td>\n",
       "      <td>0.443358</td>\n",
       "      <td>31012.433594</td>\n",
       "      <td>307.0</td>\n",
       "      <td>0.921825</td>\n",
       "      <td>93051.625000</td>\n",
       "    </tr>\n",
       "    <tr>\n",
       "      <th>24.0</th>\n",
       "      <td>73172.257812</td>\n",
       "      <td>249</td>\n",
       "      <td>0.501604</td>\n",
       "      <td>0.426876</td>\n",
       "      <td>100395.21875</td>\n",
       "      <td>0.483047</td>\n",
       "      <td>30877.785156</td>\n",
       "      <td>154.0</td>\n",
       "      <td>0.857441</td>\n",
       "      <td>98168.09375</td>\n",
       "      <td>113606.984375</td>\n",
       "      <td>0.759740</td>\n",
       "      <td>0.817590</td>\n",
       "      <td>77545.398438</td>\n",
       "      <td>0.393591</td>\n",
       "      <td>31012.433594</td>\n",
       "      <td>307.0</td>\n",
       "      <td>0.927127</td>\n",
       "      <td>93051.625000</td>\n",
       "    </tr>\n",
       "    <tr>\n",
       "      <th>25.0</th>\n",
       "      <td>84696.750000</td>\n",
       "      <td>259</td>\n",
       "      <td>0.509627</td>\n",
       "      <td>0.568783</td>\n",
       "      <td>100395.21875</td>\n",
       "      <td>0.458528</td>\n",
       "      <td>30877.785156</td>\n",
       "      <td>154.0</td>\n",
       "      <td>0.867930</td>\n",
       "      <td>98168.09375</td>\n",
       "      <td>113606.984375</td>\n",
       "      <td>0.811688</td>\n",
       "      <td>0.833876</td>\n",
       "      <td>77545.406250</td>\n",
       "      <td>0.342487</td>\n",
       "      <td>31012.433594</td>\n",
       "      <td>307.0</td>\n",
       "      <td>0.936817</td>\n",
       "      <td>93051.617188</td>\n",
       "    </tr>\n",
       "    <tr>\n",
       "      <th>26.0</th>\n",
       "      <td>87992.476562</td>\n",
       "      <td>269</td>\n",
       "      <td>0.241337</td>\n",
       "      <td>0.588086</td>\n",
       "      <td>100395.21875</td>\n",
       "      <td>0.689411</td>\n",
       "      <td>30877.785156</td>\n",
       "      <td>154.0</td>\n",
       "      <td>0.840818</td>\n",
       "      <td>98168.09375</td>\n",
       "      <td>113606.984375</td>\n",
       "      <td>0.694805</td>\n",
       "      <td>0.843648</td>\n",
       "      <td>77545.398438</td>\n",
       "      <td>0.327118</td>\n",
       "      <td>31012.433594</td>\n",
       "      <td>307.0</td>\n",
       "      <td>0.949002</td>\n",
       "      <td>93051.625000</td>\n",
       "    </tr>\n",
       "    <tr>\n",
       "      <th>27.0</th>\n",
       "      <td>87263.203125</td>\n",
       "      <td>279</td>\n",
       "      <td>0.312636</td>\n",
       "      <td>0.401815</td>\n",
       "      <td>100395.21875</td>\n",
       "      <td>0.454522</td>\n",
       "      <td>30877.785156</td>\n",
       "      <td>154.0</td>\n",
       "      <td>0.897142</td>\n",
       "      <td>98168.09375</td>\n",
       "      <td>113606.984375</td>\n",
       "      <td>0.766234</td>\n",
       "      <td>0.879479</td>\n",
       "      <td>77545.398438</td>\n",
       "      <td>0.302037</td>\n",
       "      <td>31012.433594</td>\n",
       "      <td>307.0</td>\n",
       "      <td>0.957852</td>\n",
       "      <td>93051.617188</td>\n",
       "    </tr>\n",
       "    <tr>\n",
       "      <th>28.0</th>\n",
       "      <td>92031.648438</td>\n",
       "      <td>289</td>\n",
       "      <td>0.180276</td>\n",
       "      <td>0.440955</td>\n",
       "      <td>100395.21875</td>\n",
       "      <td>0.543356</td>\n",
       "      <td>30877.785156</td>\n",
       "      <td>154.0</td>\n",
       "      <td>0.877682</td>\n",
       "      <td>98168.09375</td>\n",
       "      <td>113606.984375</td>\n",
       "      <td>0.759740</td>\n",
       "      <td>0.895765</td>\n",
       "      <td>77545.406250</td>\n",
       "      <td>0.277110</td>\n",
       "      <td>31012.433594</td>\n",
       "      <td>307.0</td>\n",
       "      <td>0.956152</td>\n",
       "      <td>93051.625000</td>\n",
       "    </tr>\n",
       "    <tr>\n",
       "      <th>29.0</th>\n",
       "      <td>90158.460938</td>\n",
       "      <td>299</td>\n",
       "      <td>0.247529</td>\n",
       "      <td>0.547728</td>\n",
       "      <td>100395.21875</td>\n",
       "      <td>0.492642</td>\n",
       "      <td>30877.785156</td>\n",
       "      <td>154.0</td>\n",
       "      <td>0.884150</td>\n",
       "      <td>98168.09375</td>\n",
       "      <td>113606.984375</td>\n",
       "      <td>0.798701</td>\n",
       "      <td>0.876221</td>\n",
       "      <td>77545.398438</td>\n",
       "      <td>0.282436</td>\n",
       "      <td>31012.435547</td>\n",
       "      <td>307.0</td>\n",
       "      <td>0.954290</td>\n",
       "      <td>93051.617188</td>\n",
       "    </tr>\n",
       "    <tr>\n",
       "      <th>30.0</th>\n",
       "      <td>99814.937500</td>\n",
       "      <td>309</td>\n",
       "      <td>0.105513</td>\n",
       "      <td>0.428403</td>\n",
       "      <td>100395.21875</td>\n",
       "      <td>0.479470</td>\n",
       "      <td>30877.785156</td>\n",
       "      <td>154.0</td>\n",
       "      <td>0.866164</td>\n",
       "      <td>98168.09375</td>\n",
       "      <td>113606.984375</td>\n",
       "      <td>0.766234</td>\n",
       "      <td>0.908795</td>\n",
       "      <td>77545.398438</td>\n",
       "      <td>0.262222</td>\n",
       "      <td>31012.433594</td>\n",
       "      <td>307.0</td>\n",
       "      <td>0.961753</td>\n",
       "      <td>93051.617188</td>\n",
       "    </tr>\n",
       "    <tr>\n",
       "      <th>31.0</th>\n",
       "      <td>88258.117188</td>\n",
       "      <td>319</td>\n",
       "      <td>0.142466</td>\n",
       "      <td>0.447334</td>\n",
       "      <td>100395.21875</td>\n",
       "      <td>0.482315</td>\n",
       "      <td>30877.785156</td>\n",
       "      <td>154.0</td>\n",
       "      <td>0.862355</td>\n",
       "      <td>98168.09375</td>\n",
       "      <td>113606.984375</td>\n",
       "      <td>0.766234</td>\n",
       "      <td>0.885993</td>\n",
       "      <td>77545.406250</td>\n",
       "      <td>0.249586</td>\n",
       "      <td>31012.433594</td>\n",
       "      <td>307.0</td>\n",
       "      <td>0.958822</td>\n",
       "      <td>93051.617188</td>\n",
       "    </tr>\n",
       "    <tr>\n",
       "      <th>32.0</th>\n",
       "      <td>97447.195312</td>\n",
       "      <td>329</td>\n",
       "      <td>0.363283</td>\n",
       "      <td>0.616281</td>\n",
       "      <td>100395.21875</td>\n",
       "      <td>0.523725</td>\n",
       "      <td>30877.785156</td>\n",
       "      <td>154.0</td>\n",
       "      <td>0.880247</td>\n",
       "      <td>98168.09375</td>\n",
       "      <td>113606.984375</td>\n",
       "      <td>0.811688</td>\n",
       "      <td>0.912052</td>\n",
       "      <td>77545.406250</td>\n",
       "      <td>0.228062</td>\n",
       "      <td>31012.429688</td>\n",
       "      <td>307.0</td>\n",
       "      <td>0.968350</td>\n",
       "      <td>93051.625000</td>\n",
       "    </tr>\n",
       "    <tr>\n",
       "      <th>33.0</th>\n",
       "      <td>134090.781250</td>\n",
       "      <td>339</td>\n",
       "      <td>0.189077</td>\n",
       "      <td>0.484798</td>\n",
       "      <td>100395.21875</td>\n",
       "      <td>0.452150</td>\n",
       "      <td>30877.785156</td>\n",
       "      <td>154.0</td>\n",
       "      <td>0.880442</td>\n",
       "      <td>98168.09375</td>\n",
       "      <td>113606.984375</td>\n",
       "      <td>0.785714</td>\n",
       "      <td>0.902280</td>\n",
       "      <td>77545.398438</td>\n",
       "      <td>0.235713</td>\n",
       "      <td>31012.433594</td>\n",
       "      <td>307.0</td>\n",
       "      <td>0.966824</td>\n",
       "      <td>93051.617188</td>\n",
       "    </tr>\n",
       "    <tr>\n",
       "      <th>34.0</th>\n",
       "      <td>93824.671875</td>\n",
       "      <td>349</td>\n",
       "      <td>0.223461</td>\n",
       "      <td>0.454525</td>\n",
       "      <td>100395.21875</td>\n",
       "      <td>0.483442</td>\n",
       "      <td>30877.785156</td>\n",
       "      <td>154.0</td>\n",
       "      <td>0.864533</td>\n",
       "      <td>98168.09375</td>\n",
       "      <td>113606.984375</td>\n",
       "      <td>0.785714</td>\n",
       "      <td>0.918567</td>\n",
       "      <td>77545.398438</td>\n",
       "      <td>0.214750</td>\n",
       "      <td>31012.433594</td>\n",
       "      <td>307.0</td>\n",
       "      <td>0.976520</td>\n",
       "      <td>93051.625000</td>\n",
       "    </tr>\n",
       "    <tr>\n",
       "      <th>35.0</th>\n",
       "      <td>107830.625000</td>\n",
       "      <td>359</td>\n",
       "      <td>0.069726</td>\n",
       "      <td>0.441866</td>\n",
       "      <td>100395.21875</td>\n",
       "      <td>0.485058</td>\n",
       "      <td>30877.785156</td>\n",
       "      <td>154.0</td>\n",
       "      <td>0.872056</td>\n",
       "      <td>98168.09375</td>\n",
       "      <td>113606.984375</td>\n",
       "      <td>0.779221</td>\n",
       "      <td>0.928339</td>\n",
       "      <td>77545.406250</td>\n",
       "      <td>0.187813</td>\n",
       "      <td>31012.435547</td>\n",
       "      <td>307.0</td>\n",
       "      <td>0.977937</td>\n",
       "      <td>93051.625000</td>\n",
       "    </tr>\n",
       "    <tr>\n",
       "      <th>36.0</th>\n",
       "      <td>81456.304688</td>\n",
       "      <td>369</td>\n",
       "      <td>0.309759</td>\n",
       "      <td>0.450383</td>\n",
       "      <td>100395.21875</td>\n",
       "      <td>0.479217</td>\n",
       "      <td>30877.785156</td>\n",
       "      <td>154.0</td>\n",
       "      <td>0.873548</td>\n",
       "      <td>98168.09375</td>\n",
       "      <td>113606.984375</td>\n",
       "      <td>0.772727</td>\n",
       "      <td>0.928339</td>\n",
       "      <td>77545.406250</td>\n",
       "      <td>0.190207</td>\n",
       "      <td>31012.433594</td>\n",
       "      <td>307.0</td>\n",
       "      <td>0.979828</td>\n",
       "      <td>93051.625000</td>\n",
       "    </tr>\n",
       "    <tr>\n",
       "      <th>37.0</th>\n",
       "      <td>122290.656250</td>\n",
       "      <td>379</td>\n",
       "      <td>0.017839</td>\n",
       "      <td>0.473518</td>\n",
       "      <td>100395.21875</td>\n",
       "      <td>0.502710</td>\n",
       "      <td>30877.785156</td>\n",
       "      <td>154.0</td>\n",
       "      <td>0.875545</td>\n",
       "      <td>98168.09375</td>\n",
       "      <td>113606.984375</td>\n",
       "      <td>0.785714</td>\n",
       "      <td>0.928339</td>\n",
       "      <td>77545.398438</td>\n",
       "      <td>0.177915</td>\n",
       "      <td>31012.433594</td>\n",
       "      <td>307.0</td>\n",
       "      <td>0.980424</td>\n",
       "      <td>93051.625000</td>\n",
       "    </tr>\n",
       "    <tr>\n",
       "      <th>38.0</th>\n",
       "      <td>95919.554688</td>\n",
       "      <td>389</td>\n",
       "      <td>0.147417</td>\n",
       "      <td>0.466035</td>\n",
       "      <td>100395.21875</td>\n",
       "      <td>0.491491</td>\n",
       "      <td>30877.785156</td>\n",
       "      <td>154.0</td>\n",
       "      <td>0.875971</td>\n",
       "      <td>98168.09375</td>\n",
       "      <td>113606.984375</td>\n",
       "      <td>0.772727</td>\n",
       "      <td>0.928339</td>\n",
       "      <td>77545.406250</td>\n",
       "      <td>0.168959</td>\n",
       "      <td>31012.433594</td>\n",
       "      <td>307.0</td>\n",
       "      <td>0.982604</td>\n",
       "      <td>93051.625000</td>\n",
       "    </tr>\n",
       "    <tr>\n",
       "      <th>39.0</th>\n",
       "      <td>81279.812500</td>\n",
       "      <td>399</td>\n",
       "      <td>0.127831</td>\n",
       "      <td>0.462244</td>\n",
       "      <td>100395.21875</td>\n",
       "      <td>0.485890</td>\n",
       "      <td>30877.785156</td>\n",
       "      <td>154.0</td>\n",
       "      <td>0.878812</td>\n",
       "      <td>98168.09375</td>\n",
       "      <td>113606.984375</td>\n",
       "      <td>0.772727</td>\n",
       "      <td>0.925081</td>\n",
       "      <td>77545.390625</td>\n",
       "      <td>0.167028</td>\n",
       "      <td>31012.433594</td>\n",
       "      <td>307.0</td>\n",
       "      <td>0.987769</td>\n",
       "      <td>93051.617188</td>\n",
       "    </tr>\n",
       "    <tr>\n",
       "      <th>40.0</th>\n",
       "      <td>78326.226562</td>\n",
       "      <td>409</td>\n",
       "      <td>0.074782</td>\n",
       "      <td>0.464400</td>\n",
       "      <td>100395.21875</td>\n",
       "      <td>0.498037</td>\n",
       "      <td>30877.785156</td>\n",
       "      <td>154.0</td>\n",
       "      <td>0.878791</td>\n",
       "      <td>98168.09375</td>\n",
       "      <td>113606.984375</td>\n",
       "      <td>0.779221</td>\n",
       "      <td>0.928339</td>\n",
       "      <td>77545.406250</td>\n",
       "      <td>0.167863</td>\n",
       "      <td>31012.433594</td>\n",
       "      <td>307.0</td>\n",
       "      <td>0.984381</td>\n",
       "      <td>93051.625000</td>\n",
       "    </tr>\n",
       "    <tr>\n",
       "      <th>41.0</th>\n",
       "      <td>87650.265625</td>\n",
       "      <td>419</td>\n",
       "      <td>0.152532</td>\n",
       "      <td>0.458993</td>\n",
       "      <td>100395.21875</td>\n",
       "      <td>0.485114</td>\n",
       "      <td>30877.785156</td>\n",
       "      <td>154.0</td>\n",
       "      <td>0.876627</td>\n",
       "      <td>98168.09375</td>\n",
       "      <td>113606.984375</td>\n",
       "      <td>0.772727</td>\n",
       "      <td>0.928339</td>\n",
       "      <td>77545.406250</td>\n",
       "      <td>0.161606</td>\n",
       "      <td>31012.433594</td>\n",
       "      <td>307.0</td>\n",
       "      <td>0.988133</td>\n",
       "      <td>93051.625000</td>\n",
       "    </tr>\n",
       "    <tr>\n",
       "      <th>42.0</th>\n",
       "      <td>81629.171875</td>\n",
       "      <td>429</td>\n",
       "      <td>0.257437</td>\n",
       "      <td>0.458968</td>\n",
       "      <td>100395.21875</td>\n",
       "      <td>0.485864</td>\n",
       "      <td>30877.785156</td>\n",
       "      <td>154.0</td>\n",
       "      <td>0.876765</td>\n",
       "      <td>98168.09375</td>\n",
       "      <td>113606.984375</td>\n",
       "      <td>0.779221</td>\n",
       "      <td>0.928339</td>\n",
       "      <td>77545.390625</td>\n",
       "      <td>0.160474</td>\n",
       "      <td>31012.433594</td>\n",
       "      <td>307.0</td>\n",
       "      <td>0.984375</td>\n",
       "      <td>93051.617188</td>\n",
       "    </tr>\n",
       "    <tr>\n",
       "      <th>43.0</th>\n",
       "      <td>81339.859375</td>\n",
       "      <td>439</td>\n",
       "      <td>0.129346</td>\n",
       "      <td>0.458855</td>\n",
       "      <td>100395.21875</td>\n",
       "      <td>0.486042</td>\n",
       "      <td>30877.785156</td>\n",
       "      <td>154.0</td>\n",
       "      <td>0.876765</td>\n",
       "      <td>98168.09375</td>\n",
       "      <td>113606.984375</td>\n",
       "      <td>0.779221</td>\n",
       "      <td>0.931596</td>\n",
       "      <td>77545.406250</td>\n",
       "      <td>0.159917</td>\n",
       "      <td>31012.433594</td>\n",
       "      <td>307.0</td>\n",
       "      <td>0.985536</td>\n",
       "      <td>93051.625000</td>\n",
       "    </tr>\n",
       "  </tbody>\n",
       "</table>\n",
       "</div>"
      ],
      "text/plain": [
       "       train/loss_rec_step  step  train/loss_pred_step  val/loss_pred_step  \\\n",
       "epoch                                                                        \n",
       "0.0           77397.773438     9              1.069788            0.778202   \n",
       "1.0           91063.453125    19              0.843710            0.660874   \n",
       "2.0           90795.132812    29              0.949022            0.689792   \n",
       "3.0           89330.171875    39              0.601921            0.809051   \n",
       "4.0           90714.328125    49              0.709774            0.704353   \n",
       "5.0          106039.632812    59              0.651428            0.678959   \n",
       "6.0           81858.281250    69              0.569671            0.570009   \n",
       "7.0           86209.156250    79              3.969136            4.288115   \n",
       "8.0          102165.445312    89              1.690567            0.792697   \n",
       "9.0           98064.218750    99              0.521591            0.672620   \n",
       "10.0          69636.710938   109              0.461808            0.520920   \n",
       "11.0          75968.390625   119              0.570702            0.788361   \n",
       "12.0          97414.601562   129              0.460473            0.664653   \n",
       "13.0         104531.179688   139              0.683978            0.515957   \n",
       "14.0         121984.343750   149              0.458280            0.669487   \n",
       "15.0          88494.093750   159              1.014107            0.591291   \n",
       "16.0         105940.289062   169              0.387916            0.506099   \n",
       "17.0          93633.195312   179              0.810040            0.608471   \n",
       "18.0          84510.710938   189              0.414939            0.477233   \n",
       "19.0          85320.609375   199              0.615247            0.677246   \n",
       "20.0          98640.500000   209              0.776128            0.769955   \n",
       "21.0          94597.359375   219              0.576955            0.561617   \n",
       "22.0         101388.945312   229              0.491799            0.701527   \n",
       "23.0         106463.648438   239              0.283981            0.483018   \n",
       "24.0          73172.257812   249              0.501604            0.426876   \n",
       "25.0          84696.750000   259              0.509627            0.568783   \n",
       "26.0          87992.476562   269              0.241337            0.588086   \n",
       "27.0          87263.203125   279              0.312636            0.401815   \n",
       "28.0          92031.648438   289              0.180276            0.440955   \n",
       "29.0          90158.460938   299              0.247529            0.547728   \n",
       "30.0          99814.937500   309              0.105513            0.428403   \n",
       "31.0          88258.117188   319              0.142466            0.447334   \n",
       "32.0          97447.195312   329              0.363283            0.616281   \n",
       "33.0         134090.781250   339              0.189077            0.484798   \n",
       "34.0          93824.671875   349              0.223461            0.454525   \n",
       "35.0         107830.625000   359              0.069726            0.441866   \n",
       "36.0          81456.304688   369              0.309759            0.450383   \n",
       "37.0         122290.656250   379              0.017839            0.473518   \n",
       "38.0          95919.554688   389              0.147417            0.466035   \n",
       "39.0          81279.812500   399              0.127831            0.462244   \n",
       "40.0          78326.226562   409              0.074782            0.464400   \n",
       "41.0          87650.265625   419              0.152532            0.458993   \n",
       "42.0          81629.171875   429              0.257437            0.458968   \n",
       "43.0          81339.859375   439              0.129346            0.458855   \n",
       "\n",
       "       val/loss_rec_step  val/loss_pred_epoch   val/l1_loss  val/n  val/auroc  \\\n",
       "epoch                                                                           \n",
       "0.0         100395.21875             1.160508  30877.785156  154.0   0.566243   \n",
       "1.0         100395.21875             0.862282  30877.785156  154.0   0.710818   \n",
       "2.0         100395.21875             0.690631  30877.785156  154.0   0.607301   \n",
       "3.0         100395.21875             0.986673  30877.785156  154.0   0.671147   \n",
       "4.0         100395.21875             0.651313  30877.785156  154.0   0.684201   \n",
       "5.0         100395.21875             0.741412  30877.785156  154.0   0.740930   \n",
       "6.0         100395.21875             0.730938  30877.785156  154.0   0.817584   \n",
       "7.0         100395.21875             3.304382  30877.785156  154.0   0.753181   \n",
       "8.0         100395.21875             0.699588  30877.785156  154.0   0.770118   \n",
       "9.0         100395.21875             0.704992  30877.785156  154.0   0.737901   \n",
       "10.0        100395.21875             0.660143  30877.785156  154.0   0.788122   \n",
       "11.0        100395.21875             0.677515  30877.785156  154.0   0.751004   \n",
       "12.0        100395.21875             0.774117  30877.785156  154.0   0.771113   \n",
       "13.0        100395.21875             0.672138  30877.785156  154.0   0.730726   \n",
       "14.0        100395.21875             0.557663  30877.785156  154.0   0.834384   \n",
       "15.0        100395.21875             0.596720  30877.785156  154.0   0.810539   \n",
       "16.0        100395.21875             0.584782  30877.785156  154.0   0.795673   \n",
       "17.0        100395.21875             0.549278  30877.785156  154.0   0.824255   \n",
       "18.0        100395.21875             0.514056  30877.785156  154.0   0.803141   \n",
       "19.0        100395.21875             0.547554  30877.785156  154.0   0.883409   \n",
       "20.0        100395.21875             0.611047  30877.785156  154.0   0.806176   \n",
       "21.0        100395.21875             0.555429  30877.785156  154.0   0.796464   \n",
       "22.0        100395.21875             0.559388  30877.785156  154.0   0.833618   \n",
       "23.0        100395.21875             0.563574  30877.785156  154.0   0.834375   \n",
       "24.0        100395.21875             0.483047  30877.785156  154.0   0.857441   \n",
       "25.0        100395.21875             0.458528  30877.785156  154.0   0.867930   \n",
       "26.0        100395.21875             0.689411  30877.785156  154.0   0.840818   \n",
       "27.0        100395.21875             0.454522  30877.785156  154.0   0.897142   \n",
       "28.0        100395.21875             0.543356  30877.785156  154.0   0.877682   \n",
       "29.0        100395.21875             0.492642  30877.785156  154.0   0.884150   \n",
       "30.0        100395.21875             0.479470  30877.785156  154.0   0.866164   \n",
       "31.0        100395.21875             0.482315  30877.785156  154.0   0.862355   \n",
       "32.0        100395.21875             0.523725  30877.785156  154.0   0.880247   \n",
       "33.0        100395.21875             0.452150  30877.785156  154.0   0.880442   \n",
       "34.0        100395.21875             0.483442  30877.785156  154.0   0.864533   \n",
       "35.0        100395.21875             0.485058  30877.785156  154.0   0.872056   \n",
       "36.0        100395.21875             0.479217  30877.785156  154.0   0.873548   \n",
       "37.0        100395.21875             0.502710  30877.785156  154.0   0.875545   \n",
       "38.0        100395.21875             0.491491  30877.785156  154.0   0.875971   \n",
       "39.0        100395.21875             0.485890  30877.785156  154.0   0.878812   \n",
       "40.0        100395.21875             0.498037  30877.785156  154.0   0.878791   \n",
       "41.0        100395.21875             0.485114  30877.785156  154.0   0.876627   \n",
       "42.0        100395.21875             0.485864  30877.785156  154.0   0.876765   \n",
       "43.0        100395.21875             0.486042  30877.785156  154.0   0.876765   \n",
       "\n",
       "       val/l2_loss  val/loss_rec_epoch   val/acc  train/acc  train/l2_loss  \\\n",
       "epoch                                                                        \n",
       "0.0    98168.09375       113606.984375  0.525974   0.511401   77545.398438   \n",
       "1.0    98168.09375       113606.984375  0.519481   0.508143   77545.406250   \n",
       "2.0    98168.09375       113606.984375  0.603896   0.615635   77545.398438   \n",
       "3.0    98168.09375       113606.984375  0.545455   0.677524   77545.406250   \n",
       "4.0    98168.09375       113606.984375  0.616883   0.596091   77545.406250   \n",
       "5.0    98168.09375       113606.984375  0.597403   0.628664   77545.398438   \n",
       "6.0    98168.09375       113606.984375  0.577922   0.690554   77545.406250   \n",
       "7.0    98168.09375       113606.984375  0.487013   0.592834   77545.406250   \n",
       "8.0    98168.09375       113606.984375  0.525974   0.508143   77545.414062   \n",
       "9.0    98168.09375       113606.984375  0.616883   0.631922   77545.406250   \n",
       "10.0   98168.09375       113606.984375  0.603896   0.667752   77545.414062   \n",
       "11.0   98168.09375       113606.984375  0.571429   0.644951   77545.414062   \n",
       "12.0   98168.09375       113606.984375  0.551948   0.664495   77545.406250   \n",
       "13.0   98168.09375       113606.984375  0.610390   0.697068   77545.414062   \n",
       "14.0   98168.09375       113606.984375  0.733766   0.710098   77545.398438   \n",
       "15.0   98168.09375       113606.984375  0.681818   0.684039   77545.406250   \n",
       "16.0   98168.09375       113606.984375  0.655844   0.723127   77545.406250   \n",
       "17.0   98168.09375       113606.984375  0.701299   0.726384   77545.406250   \n",
       "18.0   98168.09375       113606.984375  0.753247   0.716612   77545.406250   \n",
       "19.0   98168.09375       113606.984375  0.727273   0.775244   77545.398438   \n",
       "20.0   98168.09375       113606.984375  0.642857   0.700326   77545.398438   \n",
       "21.0   98168.09375       113606.984375  0.694805   0.661238   77545.414062   \n",
       "22.0   98168.09375       113606.984375  0.714286   0.739414   77545.414062   \n",
       "23.0   98168.09375       113606.984375  0.688312   0.807818   77545.406250   \n",
       "24.0   98168.09375       113606.984375  0.759740   0.817590   77545.398438   \n",
       "25.0   98168.09375       113606.984375  0.811688   0.833876   77545.406250   \n",
       "26.0   98168.09375       113606.984375  0.694805   0.843648   77545.398438   \n",
       "27.0   98168.09375       113606.984375  0.766234   0.879479   77545.398438   \n",
       "28.0   98168.09375       113606.984375  0.759740   0.895765   77545.406250   \n",
       "29.0   98168.09375       113606.984375  0.798701   0.876221   77545.398438   \n",
       "30.0   98168.09375       113606.984375  0.766234   0.908795   77545.398438   \n",
       "31.0   98168.09375       113606.984375  0.766234   0.885993   77545.406250   \n",
       "32.0   98168.09375       113606.984375  0.811688   0.912052   77545.406250   \n",
       "33.0   98168.09375       113606.984375  0.785714   0.902280   77545.398438   \n",
       "34.0   98168.09375       113606.984375  0.785714   0.918567   77545.398438   \n",
       "35.0   98168.09375       113606.984375  0.779221   0.928339   77545.406250   \n",
       "36.0   98168.09375       113606.984375  0.772727   0.928339   77545.406250   \n",
       "37.0   98168.09375       113606.984375  0.785714   0.928339   77545.398438   \n",
       "38.0   98168.09375       113606.984375  0.772727   0.928339   77545.406250   \n",
       "39.0   98168.09375       113606.984375  0.772727   0.925081   77545.390625   \n",
       "40.0   98168.09375       113606.984375  0.779221   0.928339   77545.406250   \n",
       "41.0   98168.09375       113606.984375  0.772727   0.928339   77545.406250   \n",
       "42.0   98168.09375       113606.984375  0.779221   0.928339   77545.390625   \n",
       "43.0   98168.09375       113606.984375  0.779221   0.931596   77545.406250   \n",
       "\n",
       "       train/loss_pred_epoch  train/l1_loss  train/n  train/auroc  \\\n",
       "epoch                                                               \n",
       "0.0                 1.020661   31012.433594    307.0     0.578966   \n",
       "1.0                 0.884215   31012.433594    307.0     0.654156   \n",
       "2.0                 0.723649   31012.433594    307.0     0.680807   \n",
       "3.0                 0.616691   31012.433594    307.0     0.718683   \n",
       "4.0                 0.700747   31012.433594    307.0     0.725853   \n",
       "5.0                 0.638593   31012.433594    307.0     0.765669   \n",
       "6.0                 0.603959   31012.433594    307.0     0.817182   \n",
       "7.0                 1.214469   31012.433594    307.0     0.797214   \n",
       "8.0                 1.733171   31012.433594    307.0     0.772954   \n",
       "9.0                 0.636802   31012.429688    307.0     0.780447   \n",
       "10.0                0.692107   31012.435547    307.0     0.804601   \n",
       "11.0                0.634193   31012.429688    307.0     0.834798   \n",
       "12.0                0.602314   31012.433594    307.0     0.839575   \n",
       "13.0                0.592645   31012.429688    307.0     0.831244   \n",
       "14.0                0.548631   31012.433594    307.0     0.868454   \n",
       "15.0                0.584592   31012.433594    307.0     0.862822   \n",
       "16.0                0.565336   31012.433594    307.0     0.872286   \n",
       "17.0                0.526617   31012.429688    307.0     0.869530   \n",
       "18.0                0.499335   31012.433594    307.0     0.878709   \n",
       "19.0                0.473835   31012.433594    307.0     0.899666   \n",
       "20.0                0.579547   31012.433594    307.0     0.905836   \n",
       "21.0                0.586174   31012.433594    307.0     0.831182   \n",
       "22.0                0.519696   31012.433594    307.0     0.924990   \n",
       "23.0                0.443358   31012.433594    307.0     0.921825   \n",
       "24.0                0.393591   31012.433594    307.0     0.927127   \n",
       "25.0                0.342487   31012.433594    307.0     0.936817   \n",
       "26.0                0.327118   31012.433594    307.0     0.949002   \n",
       "27.0                0.302037   31012.433594    307.0     0.957852   \n",
       "28.0                0.277110   31012.433594    307.0     0.956152   \n",
       "29.0                0.282436   31012.435547    307.0     0.954290   \n",
       "30.0                0.262222   31012.433594    307.0     0.961753   \n",
       "31.0                0.249586   31012.433594    307.0     0.958822   \n",
       "32.0                0.228062   31012.429688    307.0     0.968350   \n",
       "33.0                0.235713   31012.433594    307.0     0.966824   \n",
       "34.0                0.214750   31012.433594    307.0     0.976520   \n",
       "35.0                0.187813   31012.435547    307.0     0.977937   \n",
       "36.0                0.190207   31012.433594    307.0     0.979828   \n",
       "37.0                0.177915   31012.433594    307.0     0.980424   \n",
       "38.0                0.168959   31012.433594    307.0     0.982604   \n",
       "39.0                0.167028   31012.433594    307.0     0.987769   \n",
       "40.0                0.167863   31012.433594    307.0     0.984381   \n",
       "41.0                0.161606   31012.433594    307.0     0.988133   \n",
       "42.0                0.160474   31012.433594    307.0     0.984375   \n",
       "43.0                0.159917   31012.433594    307.0     0.985536   \n",
       "\n",
       "       train/loss_rec_epoch  \n",
       "epoch                        \n",
       "0.0            93051.617188  \n",
       "1.0            93051.625000  \n",
       "2.0            93051.632812  \n",
       "3.0            93051.625000  \n",
       "4.0            93051.625000  \n",
       "5.0            93051.625000  \n",
       "6.0            93051.617188  \n",
       "7.0            93051.625000  \n",
       "8.0            93051.625000  \n",
       "9.0            93051.632812  \n",
       "10.0           93051.625000  \n",
       "11.0           93051.625000  \n",
       "12.0           93051.625000  \n",
       "13.0           93051.625000  \n",
       "14.0           93051.625000  \n",
       "15.0           93051.625000  \n",
       "16.0           93051.625000  \n",
       "17.0           93051.625000  \n",
       "18.0           93051.625000  \n",
       "19.0           93051.625000  \n",
       "20.0           93051.617188  \n",
       "21.0           93051.617188  \n",
       "22.0           93051.625000  \n",
       "23.0           93051.625000  \n",
       "24.0           93051.625000  \n",
       "25.0           93051.617188  \n",
       "26.0           93051.625000  \n",
       "27.0           93051.617188  \n",
       "28.0           93051.625000  \n",
       "29.0           93051.617188  \n",
       "30.0           93051.617188  \n",
       "31.0           93051.617188  \n",
       "32.0           93051.625000  \n",
       "33.0           93051.617188  \n",
       "34.0           93051.625000  \n",
       "35.0           93051.625000  \n",
       "36.0           93051.625000  \n",
       "37.0           93051.625000  \n",
       "38.0           93051.625000  \n",
       "39.0           93051.617188  \n",
       "40.0           93051.625000  \n",
       "41.0           93051.625000  \n",
       "42.0           93051.617188  \n",
       "43.0           93051.625000  "
      ]
     },
     "execution_count": 41,
     "metadata": {},
     "output_type": "execute_result"
    }
   ],
   "source": [
    "df_hist, _ = read_metrics_csv(trainer2.logger.experiment.metrics_file_path)\n",
    "plot_hist(df_hist, ['loss_pred_epoch', 'auroc'])\n",
    "df_hist"
   ]
  },
  {
   "cell_type": "code",
   "execution_count": null,
   "metadata": {},
   "outputs": [],
   "source": []
  },
  {
   "cell_type": "code",
   "execution_count": 68,
   "metadata": {},
   "outputs": [
    {
     "data": {
      "text/html": [
       "<div>\n",
       "<style scoped>\n",
       "    .dataframe tbody tr th:only-of-type {\n",
       "        vertical-align: middle;\n",
       "    }\n",
       "\n",
       "    .dataframe tbody tr th {\n",
       "        vertical-align: top;\n",
       "    }\n",
       "\n",
       "    .dataframe thead th {\n",
       "        text-align: right;\n",
       "    }\n",
       "</style>\n",
       "<table border=\"1\" class=\"dataframe\">\n",
       "  <thead>\n",
       "    <tr style=\"text-align: right;\">\n",
       "      <th></th>\n",
       "      <th>test/auroc/dataloader_idx_0</th>\n",
       "      <th>test/acc/dataloader_idx_0</th>\n",
       "      <th>test/loss_pred_epoch/dataloader_idx_0</th>\n",
       "      <th>test/loss_rec_epoch/dataloader_idx_0</th>\n",
       "      <th>test/l1_loss/dataloader_idx_0</th>\n",
       "      <th>test/l2_loss/dataloader_idx_0</th>\n",
       "      <th>test/n/dataloader_idx_0</th>\n",
       "      <th>test/auroc/dataloader_idx_1</th>\n",
       "      <th>test/acc/dataloader_idx_1</th>\n",
       "      <th>test/loss_pred_epoch/dataloader_idx_1</th>\n",
       "      <th>...</th>\n",
       "      <th>test/l1_loss/dataloader_idx_2</th>\n",
       "      <th>test/l2_loss/dataloader_idx_2</th>\n",
       "      <th>test/n/dataloader_idx_2</th>\n",
       "      <th>test/auroc/dataloader_idx_3</th>\n",
       "      <th>test/acc/dataloader_idx_3</th>\n",
       "      <th>test/loss_pred_epoch/dataloader_idx_3</th>\n",
       "      <th>test/loss_rec_epoch/dataloader_idx_3</th>\n",
       "      <th>test/l1_loss/dataloader_idx_3</th>\n",
       "      <th>test/l2_loss/dataloader_idx_3</th>\n",
       "      <th>test/n/dataloader_idx_3</th>\n",
       "    </tr>\n",
       "  </thead>\n",
       "  <tbody>\n",
       "    <tr>\n",
       "      <th>0</th>\n",
       "      <td>1.0</td>\n",
       "      <td>1.0</td>\n",
       "      <td>0.001191</td>\n",
       "      <td>30446.630859</td>\n",
       "      <td>22865.074219</td>\n",
       "      <td>19014.091797</td>\n",
       "      <td>307.0</td>\n",
       "      <td>NaN</td>\n",
       "      <td>NaN</td>\n",
       "      <td>NaN</td>\n",
       "      <td>...</td>\n",
       "      <td>NaN</td>\n",
       "      <td>NaN</td>\n",
       "      <td>NaN</td>\n",
       "      <td>NaN</td>\n",
       "      <td>NaN</td>\n",
       "      <td>NaN</td>\n",
       "      <td>NaN</td>\n",
       "      <td>NaN</td>\n",
       "      <td>NaN</td>\n",
       "      <td>NaN</td>\n",
       "    </tr>\n",
       "    <tr>\n",
       "      <th>1</th>\n",
       "      <td>NaN</td>\n",
       "      <td>NaN</td>\n",
       "      <td>NaN</td>\n",
       "      <td>NaN</td>\n",
       "      <td>NaN</td>\n",
       "      <td>NaN</td>\n",
       "      <td>NaN</td>\n",
       "      <td>0.919498</td>\n",
       "      <td>0.844156</td>\n",
       "      <td>0.729616</td>\n",
       "      <td>...</td>\n",
       "      <td>NaN</td>\n",
       "      <td>NaN</td>\n",
       "      <td>NaN</td>\n",
       "      <td>NaN</td>\n",
       "      <td>NaN</td>\n",
       "      <td>NaN</td>\n",
       "      <td>NaN</td>\n",
       "      <td>NaN</td>\n",
       "      <td>NaN</td>\n",
       "      <td>NaN</td>\n",
       "    </tr>\n",
       "    <tr>\n",
       "      <th>2</th>\n",
       "      <td>NaN</td>\n",
       "      <td>NaN</td>\n",
       "      <td>NaN</td>\n",
       "      <td>NaN</td>\n",
       "      <td>NaN</td>\n",
       "      <td>NaN</td>\n",
       "      <td>NaN</td>\n",
       "      <td>NaN</td>\n",
       "      <td>NaN</td>\n",
       "      <td>NaN</td>\n",
       "      <td>...</td>\n",
       "      <td>22943.240234</td>\n",
       "      <td>23928.457031</td>\n",
       "      <td>154.0</td>\n",
       "      <td>NaN</td>\n",
       "      <td>NaN</td>\n",
       "      <td>NaN</td>\n",
       "      <td>NaN</td>\n",
       "      <td>NaN</td>\n",
       "      <td>NaN</td>\n",
       "      <td>NaN</td>\n",
       "    </tr>\n",
       "    <tr>\n",
       "      <th>3</th>\n",
       "      <td>NaN</td>\n",
       "      <td>NaN</td>\n",
       "      <td>NaN</td>\n",
       "      <td>NaN</td>\n",
       "      <td>NaN</td>\n",
       "      <td>NaN</td>\n",
       "      <td>NaN</td>\n",
       "      <td>NaN</td>\n",
       "      <td>NaN</td>\n",
       "      <td>NaN</td>\n",
       "      <td>...</td>\n",
       "      <td>NaN</td>\n",
       "      <td>NaN</td>\n",
       "      <td>NaN</td>\n",
       "      <td>0.964171</td>\n",
       "      <td>0.921951</td>\n",
       "      <td>0.385069</td>\n",
       "      <td>33809.714844</td>\n",
       "      <td>22865.667969</td>\n",
       "      <td>22376.880859</td>\n",
       "      <td>615.0</td>\n",
       "    </tr>\n",
       "  </tbody>\n",
       "</table>\n",
       "<p>4 rows × 28 columns</p>\n",
       "</div>"
      ],
      "text/plain": [
       "   test/auroc/dataloader_idx_0  test/acc/dataloader_idx_0  \\\n",
       "0                          1.0                        1.0   \n",
       "1                          NaN                        NaN   \n",
       "2                          NaN                        NaN   \n",
       "3                          NaN                        NaN   \n",
       "\n",
       "   test/loss_pred_epoch/dataloader_idx_0  \\\n",
       "0                               0.001191   \n",
       "1                                    NaN   \n",
       "2                                    NaN   \n",
       "3                                    NaN   \n",
       "\n",
       "   test/loss_rec_epoch/dataloader_idx_0  test/l1_loss/dataloader_idx_0  \\\n",
       "0                          30446.630859                   22865.074219   \n",
       "1                                   NaN                            NaN   \n",
       "2                                   NaN                            NaN   \n",
       "3                                   NaN                            NaN   \n",
       "\n",
       "   test/l2_loss/dataloader_idx_0  test/n/dataloader_idx_0  \\\n",
       "0                   19014.091797                    307.0   \n",
       "1                            NaN                      NaN   \n",
       "2                            NaN                      NaN   \n",
       "3                            NaN                      NaN   \n",
       "\n",
       "   test/auroc/dataloader_idx_1  test/acc/dataloader_idx_1  \\\n",
       "0                          NaN                        NaN   \n",
       "1                     0.919498                   0.844156   \n",
       "2                          NaN                        NaN   \n",
       "3                          NaN                        NaN   \n",
       "\n",
       "   test/loss_pred_epoch/dataloader_idx_1  ...  test/l1_loss/dataloader_idx_2  \\\n",
       "0                                    NaN  ...                            NaN   \n",
       "1                               0.729616  ...                            NaN   \n",
       "2                                    NaN  ...                   22943.240234   \n",
       "3                                    NaN  ...                            NaN   \n",
       "\n",
       "   test/l2_loss/dataloader_idx_2  test/n/dataloader_idx_2  \\\n",
       "0                            NaN                      NaN   \n",
       "1                            NaN                      NaN   \n",
       "2                   23928.457031                    154.0   \n",
       "3                            NaN                      NaN   \n",
       "\n",
       "   test/auroc/dataloader_idx_3  test/acc/dataloader_idx_3  \\\n",
       "0                          NaN                        NaN   \n",
       "1                          NaN                        NaN   \n",
       "2                          NaN                        NaN   \n",
       "3                     0.964171                   0.921951   \n",
       "\n",
       "   test/loss_pred_epoch/dataloader_idx_3  \\\n",
       "0                                    NaN   \n",
       "1                                    NaN   \n",
       "2                                    NaN   \n",
       "3                               0.385069   \n",
       "\n",
       "   test/loss_rec_epoch/dataloader_idx_3  test/l1_loss/dataloader_idx_3  \\\n",
       "0                                   NaN                            NaN   \n",
       "1                                   NaN                            NaN   \n",
       "2                                   NaN                            NaN   \n",
       "3                          33809.714844                   22865.667969   \n",
       "\n",
       "   test/l2_loss/dataloader_idx_3  test/n/dataloader_idx_3  \n",
       "0                            NaN                      NaN  \n",
       "1                            NaN                      NaN  \n",
       "2                            NaN                      NaN  \n",
       "3                   22376.880859                    615.0  \n",
       "\n",
       "[4 rows x 28 columns]"
      ]
     },
     "execution_count": 68,
     "metadata": {},
     "output_type": "execute_result"
    }
   ],
   "source": []
  },
  {
   "cell_type": "code",
   "execution_count": 85,
   "metadata": {},
   "outputs": [
    {
     "name": "stderr",
     "output_type": "stream",
     "text": [
      "LOCAL_RANK: 0 - CUDA_VISIBLE_DEVICES: [0,1]\n",
      "/media/wassname/SGIronWolf/projects5/elk/sgd_probes_are_lie_detectors/.venv/lib/python3.11/site-packages/lightning/pytorch/trainer/connectors/data_connector.py:441: The 'predict_dataloader' does not have many workers which may be a bottleneck. Consider increasing the value of the `num_workers` argument` to `num_workers=23` in the `DataLoader` to improve performance.\n"
     ]
    },
    {
     "data": {
      "application/vnd.jupyter.widget-view+json": {
       "model_id": "887015d54c1f42fda804b79db5794352",
       "version_major": 2,
       "version_minor": 0
      },
      "text/plain": [
       "Predicting: |          | 0/? [00:00<?, ?it/s]"
      ]
     },
     "metadata": {},
     "output_type": "display_data"
    },
    {
     "name": "stderr",
     "output_type": "stream",
     "text": [
      "LOCAL_RANK: 0 - CUDA_VISIBLE_DEVICES: [0,1]\n",
      "/media/wassname/SGIronWolf/projects5/elk/sgd_probes_are_lie_detectors/.venv/lib/python3.11/site-packages/lightning/pytorch/trainer/connectors/data_connector.py:441: The 'predict_dataloader' does not have many workers which may be a bottleneck. Consider increasing the value of the `num_workers` argument` to `num_workers=23` in the `DataLoader` to improve performance.\n"
     ]
    },
    {
     "data": {
      "application/vnd.jupyter.widget-view+json": {
       "model_id": "9224de225c8044c1bcb06d35299fb610",
       "version_major": 2,
       "version_minor": 0
      },
      "text/plain": [
       "Predicting: |          | 0/? [00:00<?, ?it/s]"
      ]
     },
     "metadata": {},
     "output_type": "display_data"
    },
    {
     "name": "stdout",
     "output_type": "stream",
     "text": [
      "probe results on subsets of the data\n",
      "acc=84.42%,\tn=308,\t[] \n",
      "acc=86.67%,\tn=45,\t[instructed_to_lie==True] \n",
      "acc=84.03%,\tn=263,\t[instructed_to_lie==False] \n",
      "acc=87.72%,\tn=228,\t[ans==label_true] \n",
      "acc=86.34%,\tn=205,\t[ans==label_instructed] \n",
      "acc=72.73%,\tn=11,\t[instructed_to_lie==True & ans==label_instructed] \n",
      "acc=91.18%,\tn=34,\t[instructed_to_lie==True & ans!=label_instructed] \n",
      "⭐PRIMARY METRIC⭐ acc=84.42% from probe\n",
      "⭐SECONDARY METRIC⭐ acc_lie_lie=72.73% from probe\n",
      "\n",
      "\n",
      "probe accuracy for quadrants:\n",
      "| instructed to   |   did |   didn't |\n",
      "|:----------------|------:|---------:|\n",
      "| tell a truth    |  0.87 |     0.75 |\n",
      "| tell a lie      |  0.73 |     0.91 |\n",
      "\n",
      "\n",
      "\n",
      "|                 |     train |       val |      test |       ood |\n",
      "|:----------------|----------:|----------:|----------:|----------:|\n",
      "| auroc           |     1     |     0.919 |     0.935 |     0.964 |\n",
      "| acc             |     1     |     0.844 |     0.844 |     0.922 |\n",
      "| loss_pred_epoch |     0.001 |     0.73  |     0.806 |     0.385 |\n",
      "| loss_rec_epoch  | 30446.6   | 38923.9   | 35400.1   | 33809.7   |\n",
      "| l1_loss         | 22865.1   | 22789.2   | 22943.2   | 22865.7   |\n",
      "| l2_loss         | 19014.1   | 27529.3   | 23928.5   | 22376.9   |\n",
      "| n               |   307     |   154     |   154     |   615     |\n"
     ]
    }
   ],
   "source": [
    "rs2r = trainer2.test(net, dataloaders=[dl_train, dl_val, dl_test, dl_ood])\n",
    "rs2 = rename_pl_test_results(rs2r, [\"train\", \"val\", \"test\", \"ood\"])\n",
    "\n",
    "# TODO just pass in dl?\n",
    "testval_metrics = calc_metrics(dm, trainer2, net, use_val=True)\n",
    "print(pd.DataFrame(rs2).round(3).to_markdown())\n"
   ]
  },
  {
   "cell_type": "markdown",
   "metadata": {},
   "source": [
    "### Train end-to-end\n"
   ]
  },
  {
   "cell_type": "code",
   "execution_count": 45,
   "metadata": {},
   "outputs": [
    {
     "name": "stderr",
     "output_type": "stream",
     "text": [
      "Trainer will use only 1 of 2 GPUs because it is running inside an interactive / notebook environment. You may try to set `Trainer(devices=2)` but please note that multi-GPU inside interactive / notebook environments is considered experimental and unstable. Your mileage may vary.\n",
      "Using 16bit Automatic Mixed Precision (AMP)\n",
      "GPU available: True (cuda), used: True\n",
      "TPU available: False, using: 0 TPU cores\n",
      "IPU available: False, using: 0 IPUs\n",
      "HPU available: False, using: 0 HPUs\n",
      "LOCAL_RANK: 0 - CUDA_VISIBLE_DEVICES: [0,1]\n",
      "\n",
      "  | Name | Type        | Params\n",
      "-------------------------------------\n",
      "0 | ae   | AutoEncoder | 82.7 M\n",
      "1 | head | Sequential  | 4.1 M \n",
      "-------------------------------------\n",
      "86.8 M    Trainable params\n",
      "0         Non-trainable params\n",
      "86.8 M    Total params\n",
      "347.287   Total estimated model params size (MB)\n"
     ]
    },
    {
     "name": "stdout",
     "output_type": "stream",
     "text": [
      "training both ae and probe\n",
      "requires_grad: True\n"
     ]
    },
    {
     "data": {
      "application/vnd.jupyter.widget-view+json": {
       "model_id": "d66bd003cf5a4d9facccc119f87d0f34",
       "version_major": 2,
       "version_minor": 0
      },
      "text/plain": [
       "Sanity Checking: |          | 0/? [00:00<?, ?it/s]"
      ]
     },
     "metadata": {},
     "output_type": "display_data"
    },
    {
     "name": "stderr",
     "output_type": "stream",
     "text": [
      "/media/wassname/SGIronWolf/projects5/elk/sgd_probes_are_lie_detectors/.venv/lib/python3.11/site-packages/lightning/pytorch/trainer/connectors/data_connector.py:441: The 'val_dataloader' does not have many workers which may be a bottleneck. Consider increasing the value of the `num_workers` argument` to `num_workers=23` in the `DataLoader` to improve performance.\n",
      "/media/wassname/SGIronWolf/projects5/elk/sgd_probes_are_lie_detectors/.venv/lib/python3.11/site-packages/lightning/pytorch/trainer/connectors/data_connector.py:441: The 'train_dataloader' does not have many workers which may be a bottleneck. Consider increasing the value of the `num_workers` argument` to `num_workers=23` in the `DataLoader` to improve performance.\n"
     ]
    },
    {
     "data": {
      "application/vnd.jupyter.widget-view+json": {
       "model_id": "e40f336cfcb04f42bb8f126f7b3d79e1",
       "version_major": 2,
       "version_minor": 0
      },
      "text/plain": [
       "Training: |          | 0/? [00:00<?, ?it/s]"
      ]
     },
     "metadata": {},
     "output_type": "display_data"
    },
    {
     "data": {
      "application/vnd.jupyter.widget-view+json": {
       "model_id": "2b3e0b29748643de8b13d162f449c6b4",
       "version_major": 2,
       "version_minor": 0
      },
      "text/plain": [
       "Validation: |          | 0/? [00:00<?, ?it/s]"
      ]
     },
     "metadata": {},
     "output_type": "display_data"
    },
    {
     "data": {
      "application/vnd.jupyter.widget-view+json": {
       "model_id": "66bddda8664444f999954162160e2ebb",
       "version_major": 2,
       "version_minor": 0
      },
      "text/plain": [
       "Validation: |          | 0/? [00:00<?, ?it/s]"
      ]
     },
     "metadata": {},
     "output_type": "display_data"
    },
    {
     "data": {
      "application/vnd.jupyter.widget-view+json": {
       "model_id": "dd0c2b09059f4355903c543854a60493",
       "version_major": 2,
       "version_minor": 0
      },
      "text/plain": [
       "Validation: |          | 0/? [00:00<?, ?it/s]"
      ]
     },
     "metadata": {},
     "output_type": "display_data"
    },
    {
     "data": {
      "application/vnd.jupyter.widget-view+json": {
       "model_id": "6ca68f06c3b94b1fb5617fc86a2bfe8b",
       "version_major": 2,
       "version_minor": 0
      },
      "text/plain": [
       "Validation: |          | 0/? [00:00<?, ?it/s]"
      ]
     },
     "metadata": {},
     "output_type": "display_data"
    },
    {
     "data": {
      "application/vnd.jupyter.widget-view+json": {
       "model_id": "bd6e41a31bea4038a6678b75c06fa286",
       "version_major": 2,
       "version_minor": 0
      },
      "text/plain": [
       "Validation: |          | 0/? [00:00<?, ?it/s]"
      ]
     },
     "metadata": {},
     "output_type": "display_data"
    },
    {
     "data": {
      "application/vnd.jupyter.widget-view+json": {
       "model_id": "9bf55a347b1248dfaccbc6ac4193f3d2",
       "version_major": 2,
       "version_minor": 0
      },
      "text/plain": [
       "Validation: |          | 0/? [00:00<?, ?it/s]"
      ]
     },
     "metadata": {},
     "output_type": "display_data"
    },
    {
     "data": {
      "application/vnd.jupyter.widget-view+json": {
       "model_id": "815f5e00587540c5b38909e307bbf1db",
       "version_major": 2,
       "version_minor": 0
      },
      "text/plain": [
       "Validation: |          | 0/? [00:00<?, ?it/s]"
      ]
     },
     "metadata": {},
     "output_type": "display_data"
    },
    {
     "data": {
      "application/vnd.jupyter.widget-view+json": {
       "model_id": "824410f6e838434daf719254f1c03fe2",
       "version_major": 2,
       "version_minor": 0
      },
      "text/plain": [
       "Validation: |          | 0/? [00:00<?, ?it/s]"
      ]
     },
     "metadata": {},
     "output_type": "display_data"
    },
    {
     "data": {
      "application/vnd.jupyter.widget-view+json": {
       "model_id": "8d58a32a7afc4bebb9b3c12345b7ed3a",
       "version_major": 2,
       "version_minor": 0
      },
      "text/plain": [
       "Validation: |          | 0/? [00:00<?, ?it/s]"
      ]
     },
     "metadata": {},
     "output_type": "display_data"
    },
    {
     "data": {
      "application/vnd.jupyter.widget-view+json": {
       "model_id": "75f82a39de9c46868379baba15821d73",
       "version_major": 2,
       "version_minor": 0
      },
      "text/plain": [
       "Validation: |          | 0/? [00:00<?, ?it/s]"
      ]
     },
     "metadata": {},
     "output_type": "display_data"
    },
    {
     "data": {
      "application/vnd.jupyter.widget-view+json": {
       "model_id": "f630df064b1f41968a88995d5ea32c08",
       "version_major": 2,
       "version_minor": 0
      },
      "text/plain": [
       "Validation: |          | 0/? [00:00<?, ?it/s]"
      ]
     },
     "metadata": {},
     "output_type": "display_data"
    },
    {
     "data": {
      "application/vnd.jupyter.widget-view+json": {
       "model_id": "4a0f43f2534b41bd96b5a60e9cbf109a",
       "version_major": 2,
       "version_minor": 0
      },
      "text/plain": [
       "Validation: |          | 0/? [00:00<?, ?it/s]"
      ]
     },
     "metadata": {},
     "output_type": "display_data"
    },
    {
     "data": {
      "application/vnd.jupyter.widget-view+json": {
       "model_id": "094d1e861be14ee7b5481b942b8f532f",
       "version_major": 2,
       "version_minor": 0
      },
      "text/plain": [
       "Validation: |          | 0/? [00:00<?, ?it/s]"
      ]
     },
     "metadata": {},
     "output_type": "display_data"
    },
    {
     "data": {
      "application/vnd.jupyter.widget-view+json": {
       "model_id": "27e9277d92024b10a4abd9ace57f198f",
       "version_major": 2,
       "version_minor": 0
      },
      "text/plain": [
       "Validation: |          | 0/? [00:00<?, ?it/s]"
      ]
     },
     "metadata": {},
     "output_type": "display_data"
    },
    {
     "data": {
      "application/vnd.jupyter.widget-view+json": {
       "model_id": "60a95c75a45a4db4bcecc6d013519867",
       "version_major": 2,
       "version_minor": 0
      },
      "text/plain": [
       "Validation: |          | 0/? [00:00<?, ?it/s]"
      ]
     },
     "metadata": {},
     "output_type": "display_data"
    },
    {
     "data": {
      "application/vnd.jupyter.widget-view+json": {
       "model_id": "a69e94a811ef4251b9a16ae9fedc7a7f",
       "version_major": 2,
       "version_minor": 0
      },
      "text/plain": [
       "Validation: |          | 0/? [00:00<?, ?it/s]"
      ]
     },
     "metadata": {},
     "output_type": "display_data"
    },
    {
     "data": {
      "application/vnd.jupyter.widget-view+json": {
       "model_id": "f0f8ec39bac64a60b0abffee88f751d0",
       "version_major": 2,
       "version_minor": 0
      },
      "text/plain": [
       "Validation: |          | 0/? [00:00<?, ?it/s]"
      ]
     },
     "metadata": {},
     "output_type": "display_data"
    },
    {
     "data": {
      "application/vnd.jupyter.widget-view+json": {
       "model_id": "2005ee5f796848e4b539538c8d46916a",
       "version_major": 2,
       "version_minor": 0
      },
      "text/plain": [
       "Validation: |          | 0/? [00:00<?, ?it/s]"
      ]
     },
     "metadata": {},
     "output_type": "display_data"
    },
    {
     "data": {
      "application/vnd.jupyter.widget-view+json": {
       "model_id": "59dfa3b3895d4cde952607ee24d432bf",
       "version_major": 2,
       "version_minor": 0
      },
      "text/plain": [
       "Validation: |          | 0/? [00:00<?, ?it/s]"
      ]
     },
     "metadata": {},
     "output_type": "display_data"
    },
    {
     "data": {
      "application/vnd.jupyter.widget-view+json": {
       "model_id": "03cfd415856d44429c96a7e77592253d",
       "version_major": 2,
       "version_minor": 0
      },
      "text/plain": [
       "Validation: |          | 0/? [00:00<?, ?it/s]"
      ]
     },
     "metadata": {},
     "output_type": "display_data"
    },
    {
     "data": {
      "application/vnd.jupyter.widget-view+json": {
       "model_id": "b7c75f3de6bf4bf8a5559459eb15cd43",
       "version_major": 2,
       "version_minor": 0
      },
      "text/plain": [
       "Validation: |          | 0/? [00:00<?, ?it/s]"
      ]
     },
     "metadata": {},
     "output_type": "display_data"
    },
    {
     "data": {
      "application/vnd.jupyter.widget-view+json": {
       "model_id": "49e86653c10a4957b8cdc0a097c5e7d8",
       "version_major": 2,
       "version_minor": 0
      },
      "text/plain": [
       "Validation: |          | 0/? [00:00<?, ?it/s]"
      ]
     },
     "metadata": {},
     "output_type": "display_data"
    },
    {
     "data": {
      "application/vnd.jupyter.widget-view+json": {
       "model_id": "5b8193d06eeb4804b0f49c23896feb2f",
       "version_major": 2,
       "version_minor": 0
      },
      "text/plain": [
       "Validation: |          | 0/? [00:00<?, ?it/s]"
      ]
     },
     "metadata": {},
     "output_type": "display_data"
    },
    {
     "data": {
      "application/vnd.jupyter.widget-view+json": {
       "model_id": "40b1af34cb1946a295cc05cab9de0f1a",
       "version_major": 2,
       "version_minor": 0
      },
      "text/plain": [
       "Validation: |          | 0/? [00:00<?, ?it/s]"
      ]
     },
     "metadata": {},
     "output_type": "display_data"
    },
    {
     "data": {
      "application/vnd.jupyter.widget-view+json": {
       "model_id": "2d5ea41af86c4278bee7de88e48065a5",
       "version_major": 2,
       "version_minor": 0
      },
      "text/plain": [
       "Validation: |          | 0/? [00:00<?, ?it/s]"
      ]
     },
     "metadata": {},
     "output_type": "display_data"
    },
    {
     "data": {
      "application/vnd.jupyter.widget-view+json": {
       "model_id": "99f3f954ba554436bf0d939d917a2bdb",
       "version_major": 2,
       "version_minor": 0
      },
      "text/plain": [
       "Validation: |          | 0/? [00:00<?, ?it/s]"
      ]
     },
     "metadata": {},
     "output_type": "display_data"
    },
    {
     "data": {
      "application/vnd.jupyter.widget-view+json": {
       "model_id": "27ee44d9e77a4433986687d67e0d814c",
       "version_major": 2,
       "version_minor": 0
      },
      "text/plain": [
       "Validation: |          | 0/? [00:00<?, ?it/s]"
      ]
     },
     "metadata": {},
     "output_type": "display_data"
    },
    {
     "data": {
      "application/vnd.jupyter.widget-view+json": {
       "model_id": "e1d8c19472f54bcd9dea2579974b90a7",
       "version_major": 2,
       "version_minor": 0
      },
      "text/plain": [
       "Validation: |          | 0/? [00:00<?, ?it/s]"
      ]
     },
     "metadata": {},
     "output_type": "display_data"
    },
    {
     "data": {
      "application/vnd.jupyter.widget-view+json": {
       "model_id": "820f778f70e84bb39270c533033465f8",
       "version_major": 2,
       "version_minor": 0
      },
      "text/plain": [
       "Validation: |          | 0/? [00:00<?, ?it/s]"
      ]
     },
     "metadata": {},
     "output_type": "display_data"
    },
    {
     "data": {
      "application/vnd.jupyter.widget-view+json": {
       "model_id": "dbbebcee106949d8b013991f1f2adb67",
       "version_major": 2,
       "version_minor": 0
      },
      "text/plain": [
       "Validation: |          | 0/? [00:00<?, ?it/s]"
      ]
     },
     "metadata": {},
     "output_type": "display_data"
    },
    {
     "data": {
      "application/vnd.jupyter.widget-view+json": {
       "model_id": "97dfdfb3593d41fba40d1c42e876226d",
       "version_major": 2,
       "version_minor": 0
      },
      "text/plain": [
       "Validation: |          | 0/? [00:00<?, ?it/s]"
      ]
     },
     "metadata": {},
     "output_type": "display_data"
    },
    {
     "data": {
      "application/vnd.jupyter.widget-view+json": {
       "model_id": "8f9b22d1e42349c0bac55399b38c9e05",
       "version_major": 2,
       "version_minor": 0
      },
      "text/plain": [
       "Validation: |          | 0/? [00:00<?, ?it/s]"
      ]
     },
     "metadata": {},
     "output_type": "display_data"
    },
    {
     "data": {
      "application/vnd.jupyter.widget-view+json": {
       "model_id": "6c00b144b44049a19a81ac8d473c9faf",
       "version_major": 2,
       "version_minor": 0
      },
      "text/plain": [
       "Validation: |          | 0/? [00:00<?, ?it/s]"
      ]
     },
     "metadata": {},
     "output_type": "display_data"
    },
    {
     "data": {
      "application/vnd.jupyter.widget-view+json": {
       "model_id": "d801997fc06f44f7ba7b30c5e5c26583",
       "version_major": 2,
       "version_minor": 0
      },
      "text/plain": [
       "Validation: |          | 0/? [00:00<?, ?it/s]"
      ]
     },
     "metadata": {},
     "output_type": "display_data"
    },
    {
     "data": {
      "application/vnd.jupyter.widget-view+json": {
       "model_id": "e2cfa0c953cc452b97ed55290e7527da",
       "version_major": 2,
       "version_minor": 0
      },
      "text/plain": [
       "Validation: |          | 0/? [00:00<?, ?it/s]"
      ]
     },
     "metadata": {},
     "output_type": "display_data"
    },
    {
     "data": {
      "application/vnd.jupyter.widget-view+json": {
       "model_id": "48873105fb27419e8bc1c83025419729",
       "version_major": 2,
       "version_minor": 0
      },
      "text/plain": [
       "Validation: |          | 0/? [00:00<?, ?it/s]"
      ]
     },
     "metadata": {},
     "output_type": "display_data"
    },
    {
     "data": {
      "application/vnd.jupyter.widget-view+json": {
       "model_id": "55be024f4e864ca1b7056687f1f7758a",
       "version_major": 2,
       "version_minor": 0
      },
      "text/plain": [
       "Validation: |          | 0/? [00:00<?, ?it/s]"
      ]
     },
     "metadata": {},
     "output_type": "display_data"
    },
    {
     "data": {
      "application/vnd.jupyter.widget-view+json": {
       "model_id": "c6f6def93abb41be98370cbad5eec459",
       "version_major": 2,
       "version_minor": 0
      },
      "text/plain": [
       "Validation: |          | 0/? [00:00<?, ?it/s]"
      ]
     },
     "metadata": {},
     "output_type": "display_data"
    },
    {
     "data": {
      "application/vnd.jupyter.widget-view+json": {
       "model_id": "a0252739badd411ca67fba392b789cee",
       "version_major": 2,
       "version_minor": 0
      },
      "text/plain": [
       "Validation: |          | 0/? [00:00<?, ?it/s]"
      ]
     },
     "metadata": {},
     "output_type": "display_data"
    },
    {
     "data": {
      "application/vnd.jupyter.widget-view+json": {
       "model_id": "3469b359d76e4e31816599296324b7f3",
       "version_major": 2,
       "version_minor": 0
      },
      "text/plain": [
       "Validation: |          | 0/? [00:00<?, ?it/s]"
      ]
     },
     "metadata": {},
     "output_type": "display_data"
    },
    {
     "data": {
      "application/vnd.jupyter.widget-view+json": {
       "model_id": "67a1d4c1b6914928bb2e397ac700995b",
       "version_major": 2,
       "version_minor": 0
      },
      "text/plain": [
       "Validation: |          | 0/? [00:00<?, ?it/s]"
      ]
     },
     "metadata": {},
     "output_type": "display_data"
    },
    {
     "data": {
      "application/vnd.jupyter.widget-view+json": {
       "model_id": "6046554f12ef440bbae64c5f1eeb6ba4",
       "version_major": 2,
       "version_minor": 0
      },
      "text/plain": [
       "Validation: |          | 0/? [00:00<?, ?it/s]"
      ]
     },
     "metadata": {},
     "output_type": "display_data"
    },
    {
     "data": {
      "application/vnd.jupyter.widget-view+json": {
       "model_id": "836fad286fb1407389dfe9cd672dd019",
       "version_major": 2,
       "version_minor": 0
      },
      "text/plain": [
       "Validation: |          | 0/? [00:00<?, ?it/s]"
      ]
     },
     "metadata": {},
     "output_type": "display_data"
    },
    {
     "data": {
      "application/vnd.jupyter.widget-view+json": {
       "model_id": "2cbd7978dda94cf19e18d8ffea2a6eb0",
       "version_major": 2,
       "version_minor": 0
      },
      "text/plain": [
       "Validation: |          | 0/? [00:00<?, ?it/s]"
      ]
     },
     "metadata": {},
     "output_type": "display_data"
    },
    {
     "name": "stderr",
     "output_type": "stream",
     "text": [
      "`Trainer.fit` stopped: `max_epochs=44` reached.\n"
     ]
    },
    {
     "data": {
      "text/plain": [
       "1"
      ]
     },
     "execution_count": 45,
     "metadata": {},
     "output_type": "execute_result"
    }
   ],
   "source": [
    "net.ae_mode(2)\n",
    "trainer3 = pl.Trainer(\n",
    "    precision=\"16-mixed\",\n",
    "    gradient_clip_val=20,\n",
    "    max_epochs=max_epochs,\n",
    "    log_every_n_steps=3,\n",
    "    # enable_progress_bar=False, enable_model_summary=False\n",
    ")\n",
    "trainer3.fit(model=net, train_dataloaders=dl_train, val_dataloaders=dl_val)\n",
    "1\n"
   ]
  },
  {
   "cell_type": "code",
   "execution_count": 46,
   "metadata": {},
   "outputs": [],
   "source": [
    "# ds2df(dm.dm_orig)\n"
   ]
  },
  {
   "cell_type": "code",
   "execution_count": 47,
   "metadata": {},
   "outputs": [],
   "source": []
  },
  {
   "cell_type": "code",
   "execution_count": 88,
   "metadata": {},
   "outputs": [
    {
     "data": {
      "image/png": "[encoded data removed]",
      "text/plain": [
       "<Figure size 640x480 with 1 Axes>"
      ]
     },
     "metadata": {},
     "output_type": "display_data"
    },
    {
     "name": "stderr",
     "output_type": "stream",
     "text": [
      "LOCAL_RANK: 0 - CUDA_VISIBLE_DEVICES: [0,1]\n",
      "/media/wassname/SGIronWolf/projects5/elk/sgd_probes_are_lie_detectors/.venv/lib/python3.11/site-packages/lightning/pytorch/trainer/connectors/data_connector.py:492: Your `test_dataloader`'s sampler has shuffling enabled, it is strongly recommended that you turn shuffling off for val/test dataloaders.\n",
      "/media/wassname/SGIronWolf/projects5/elk/sgd_probes_are_lie_detectors/.venv/lib/python3.11/site-packages/lightning/pytorch/trainer/connectors/data_connector.py:441: The 'test_dataloader' does not have many workers which may be a bottleneck. Consider increasing the value of the `num_workers` argument` to `num_workers=23` in the `DataLoader` to improve performance.\n"
     ]
    },
    {
     "data": {
      "application/vnd.jupyter.widget-view+json": {
       "model_id": "665e8d8de5f74cab97cdc3ec406e190a",
       "version_major": 2,
       "version_minor": 0
      },
      "text/plain": [
       "Testing: |          | 0/? [00:00<?, ?it/s]"
      ]
     },
     "metadata": {},
     "output_type": "display_data"
    },
    {
     "data": {
      "text/html": [
       "<pre style=\"white-space:pre;overflow-x:auto;line-height:normal;font-family:Menlo,'DejaVu Sans Mono',consolas,'Courier New',monospace\">┏━━━━━━━━━━━━━━━━━━━━━━━━━━━┳━━━━━━━━━━━━━━━━━━━━━━━━━━━┳━━━━━━━━━━━━━━━━━━━━━━━━━━━┳━━━━━━━━━━━━━━━━━━━━━━━━━━━┓\n",
       "┃<span style=\"font-weight: bold\">        Test metric        </span>┃<span style=\"font-weight: bold\">       DataLoader 0        </span>┃<span style=\"font-weight: bold\">       DataLoader 1        </span>┃<span style=\"font-weight: bold\">       DataLoader 2        </span>┃\n",
       "┡━━━━━━━━━━━━━━━━━━━━━━━━━━━╇━━━━━━━━━━━━━━━━━━━━━━━━━━━╇━━━━━━━━━━━━━━━━━━━━━━━━━━━╇━━━━━━━━━━━━━━━━━━━━━━━━━━━┩\n",
       "│<span style=\"color: #008080; text-decoration-color: #008080\">         test/acc          </span>│<span style=\"color: #800080; text-decoration-color: #800080\">    0.9999999403953552     </span>│<span style=\"color: #800080; text-decoration-color: #800080\">    0.8441558480262756     </span>│<span style=\"color: #800080; text-decoration-color: #800080\">    0.8441558480262756     </span>│\n",
       "│<span style=\"color: #008080; text-decoration-color: #008080\">        test/auroc         </span>│<span style=\"color: #800080; text-decoration-color: #800080\">    0.9999999403953552     </span>│<span style=\"color: #800080; text-decoration-color: #800080\">    0.9194979071617126     </span>│<span style=\"color: #800080; text-decoration-color: #800080\">    0.9344504475593567     </span>│\n",
       "│<span style=\"color: #008080; text-decoration-color: #008080\">       test/l1_loss        </span>│<span style=\"color: #800080; text-decoration-color: #800080\">      22866.646484375      </span>│<span style=\"color: #800080; text-decoration-color: #800080\">      22790.701171875      </span>│<span style=\"color: #800080; text-decoration-color: #800080\">      22944.76171875       </span>│\n",
       "│<span style=\"color: #008080; text-decoration-color: #008080\">       test/l2_loss        </span>│<span style=\"color: #800080; text-decoration-color: #800080\">      19016.119140625      </span>│<span style=\"color: #800080; text-decoration-color: #800080\">       27528.8515625       </span>│<span style=\"color: #800080; text-decoration-color: #800080\">      23930.302734375      </span>│\n",
       "│<span style=\"color: #008080; text-decoration-color: #008080\">   test/loss_pred_epoch    </span>│<span style=\"color: #800080; text-decoration-color: #800080\">   0.001192848663777113    </span>│<span style=\"color: #800080; text-decoration-color: #800080\">    0.7295305132865906     </span>│<span style=\"color: #800080; text-decoration-color: #800080\">    0.8057235479354858     </span>│\n",
       "│<span style=\"color: #008080; text-decoration-color: #008080\">    test/loss_rec_epoch    </span>│<span style=\"color: #800080; text-decoration-color: #800080\">       30449.4453125       </span>│<span style=\"color: #800080; text-decoration-color: #800080\">       38924.203125        </span>│<span style=\"color: #800080; text-decoration-color: #800080\">      35402.68359375       </span>│\n",
       "│<span style=\"color: #008080; text-decoration-color: #008080\">          test/n           </span>│<span style=\"color: #800080; text-decoration-color: #800080\">           307.0           </span>│<span style=\"color: #800080; text-decoration-color: #800080\">           154.0           </span>│<span style=\"color: #800080; text-decoration-color: #800080\">           154.0           </span>│\n",
       "└───────────────────────────┴───────────────────────────┴───────────────────────────┴───────────────────────────┘\n",
       "</pre>\n"
      ],
      "text/plain": [
       "┏━━━━━━━━━━━━━━━━━━━━━━━━━━━┳━━━━━━━━━━━━━━━━━━━━━━━━━━━┳━━━━━━━━━━━━━━━━━━━━━━━━━━━┳━━━━━━━━━━━━━━━━━━━━━━━━━━━┓\n",
       "┃\u001b[1m \u001b[0m\u001b[1m       Test metric       \u001b[0m\u001b[1m \u001b[0m┃\u001b[1m \u001b[0m\u001b[1m      DataLoader 0       \u001b[0m\u001b[1m \u001b[0m┃\u001b[1m \u001b[0m\u001b[1m      DataLoader 1       \u001b[0m\u001b[1m \u001b[0m┃\u001b[1m \u001b[0m\u001b[1m      DataLoader 2       \u001b[0m\u001b[1m \u001b[0m┃\n",
       "┡━━━━━━━━━━━━━━━━━━━━━━━━━━━╇━━━━━━━━━━━━━━━━━━━━━━━━━━━╇━━━━━━━━━━━━━━━━━━━━━━━━━━━╇━━━━━━━━━━━━━━━━━━━━━━━━━━━┩\n",
       "│\u001b[36m \u001b[0m\u001b[36m        test/acc         \u001b[0m\u001b[36m \u001b[0m│\u001b[35m \u001b[0m\u001b[35m   0.9999999403953552    \u001b[0m\u001b[35m \u001b[0m│\u001b[35m \u001b[0m\u001b[35m   0.8441558480262756    \u001b[0m\u001b[35m \u001b[0m│\u001b[35m \u001b[0m\u001b[35m   0.8441558480262756    \u001b[0m\u001b[35m \u001b[0m│\n",
       "│\u001b[36m \u001b[0m\u001b[36m       test/auroc        \u001b[0m\u001b[36m \u001b[0m│\u001b[35m \u001b[0m\u001b[35m   0.9999999403953552    \u001b[0m\u001b[35m \u001b[0m│\u001b[35m \u001b[0m\u001b[35m   0.9194979071617126    \u001b[0m\u001b[35m \u001b[0m│\u001b[35m \u001b[0m\u001b[35m   0.9344504475593567    \u001b[0m\u001b[35m \u001b[0m│\n",
       "│\u001b[36m \u001b[0m\u001b[36m      test/l1_loss       \u001b[0m\u001b[36m \u001b[0m│\u001b[35m \u001b[0m\u001b[35m     22866.646484375     \u001b[0m\u001b[35m \u001b[0m│\u001b[35m \u001b[0m\u001b[35m     22790.701171875     \u001b[0m\u001b[35m \u001b[0m│\u001b[35m \u001b[0m\u001b[35m     22944.76171875      \u001b[0m\u001b[35m \u001b[0m│\n",
       "│\u001b[36m \u001b[0m\u001b[36m      test/l2_loss       \u001b[0m\u001b[36m \u001b[0m│\u001b[35m \u001b[0m\u001b[35m     19016.119140625     \u001b[0m\u001b[35m \u001b[0m│\u001b[35m \u001b[0m\u001b[35m      27528.8515625      \u001b[0m\u001b[35m \u001b[0m│\u001b[35m \u001b[0m\u001b[35m     23930.302734375     \u001b[0m\u001b[35m \u001b[0m│\n",
       "│\u001b[36m \u001b[0m\u001b[36m  test/loss_pred_epoch   \u001b[0m\u001b[36m \u001b[0m│\u001b[35m \u001b[0m\u001b[35m  0.001192848663777113   \u001b[0m\u001b[35m \u001b[0m│\u001b[35m \u001b[0m\u001b[35m   0.7295305132865906    \u001b[0m\u001b[35m \u001b[0m│\u001b[35m \u001b[0m\u001b[35m   0.8057235479354858    \u001b[0m\u001b[35m \u001b[0m│\n",
       "│\u001b[36m \u001b[0m\u001b[36m   test/loss_rec_epoch   \u001b[0m\u001b[36m \u001b[0m│\u001b[35m \u001b[0m\u001b[35m      30449.4453125      \u001b[0m\u001b[35m \u001b[0m│\u001b[35m \u001b[0m\u001b[35m      38924.203125       \u001b[0m\u001b[35m \u001b[0m│\u001b[35m \u001b[0m\u001b[35m     35402.68359375      \u001b[0m\u001b[35m \u001b[0m│\n",
       "│\u001b[36m \u001b[0m\u001b[36m         test/n          \u001b[0m\u001b[36m \u001b[0m│\u001b[35m \u001b[0m\u001b[35m          307.0          \u001b[0m\u001b[35m \u001b[0m│\u001b[35m \u001b[0m\u001b[35m          154.0          \u001b[0m\u001b[35m \u001b[0m│\u001b[35m \u001b[0m\u001b[35m          154.0          \u001b[0m\u001b[35m \u001b[0m│\n",
       "└───────────────────────────┴───────────────────────────┴───────────────────────────┴───────────────────────────┘\n"
      ]
     },
     "metadata": {},
     "output_type": "display_data"
    },
    {
     "data": {
      "text/html": [
       "<pre style=\"white-space:pre;overflow-x:auto;line-height:normal;font-family:Menlo,'DejaVu Sans Mono',consolas,'Courier New',monospace\">┏━━━━━━━━━━━━━━━━━━━━━━━━━━━┳━━━━━━━━━━━━━━━━━━━━━━━━━━━┓\n",
       "┃<span style=\"font-weight: bold\">        Test metric        </span>┃<span style=\"font-weight: bold\">       DataLoader 3        </span>┃\n",
       "┡━━━━━━━━━━━━━━━━━━━━━━━━━━━╇━━━━━━━━━━━━━━━━━━━━━━━━━━━┩\n",
       "│<span style=\"color: #008080; text-decoration-color: #008080\">         test/acc          </span>│<span style=\"color: #800080; text-decoration-color: #800080\">     0.921951174736023     </span>│\n",
       "│<span style=\"color: #008080; text-decoration-color: #008080\">        test/auroc         </span>│<span style=\"color: #800080; text-decoration-color: #800080\">    0.9638615250587463     </span>│\n",
       "│<span style=\"color: #008080; text-decoration-color: #008080\">       test/l1_loss        </span>│<span style=\"color: #800080; text-decoration-color: #800080\">      22867.189453125      </span>│\n",
       "│<span style=\"color: #008080; text-decoration-color: #008080\">       test/l2_loss        </span>│<span style=\"color: #800080; text-decoration-color: #800080\">      22378.306640625      </span>│\n",
       "│<span style=\"color: #008080; text-decoration-color: #008080\">   test/loss_pred_epoch    </span>│<span style=\"color: #800080; text-decoration-color: #800080\">    0.3850327134132385     </span>│\n",
       "│<span style=\"color: #008080; text-decoration-color: #008080\">    test/loss_rec_epoch    </span>│<span style=\"color: #800080; text-decoration-color: #800080\">      33811.90234375       </span>│\n",
       "│<span style=\"color: #008080; text-decoration-color: #008080\">          test/n           </span>│<span style=\"color: #800080; text-decoration-color: #800080\">           615.0           </span>│\n",
       "└───────────────────────────┴───────────────────────────┘\n",
       "</pre>\n"
      ],
      "text/plain": [
       "┏━━━━━━━━━━━━━━━━━━━━━━━━━━━┳━━━━━━━━━━━━━━━━━━━━━━━━━━━┓\n",
       "┃\u001b[1m \u001b[0m\u001b[1m       Test metric       \u001b[0m\u001b[1m \u001b[0m┃\u001b[1m \u001b[0m\u001b[1m      DataLoader 3       \u001b[0m\u001b[1m \u001b[0m┃\n",
       "┡━━━━━━━━━━━━━━━━━━━━━━━━━━━╇━━━━━━━━━━━━━━━━━━━━━━━━━━━┩\n",
       "│\u001b[36m \u001b[0m\u001b[36m        test/acc         \u001b[0m\u001b[36m \u001b[0m│\u001b[35m \u001b[0m\u001b[35m    0.921951174736023    \u001b[0m\u001b[35m \u001b[0m│\n",
       "│\u001b[36m \u001b[0m\u001b[36m       test/auroc        \u001b[0m\u001b[36m \u001b[0m│\u001b[35m \u001b[0m\u001b[35m   0.9638615250587463    \u001b[0m\u001b[35m \u001b[0m│\n",
       "│\u001b[36m \u001b[0m\u001b[36m      test/l1_loss       \u001b[0m\u001b[36m \u001b[0m│\u001b[35m \u001b[0m\u001b[35m     22867.189453125     \u001b[0m\u001b[35m \u001b[0m│\n",
       "│\u001b[36m \u001b[0m\u001b[36m      test/l2_loss       \u001b[0m\u001b[36m \u001b[0m│\u001b[35m \u001b[0m\u001b[35m     22378.306640625     \u001b[0m\u001b[35m \u001b[0m│\n",
       "│\u001b[36m \u001b[0m\u001b[36m  test/loss_pred_epoch   \u001b[0m\u001b[36m \u001b[0m│\u001b[35m \u001b[0m\u001b[35m   0.3850327134132385    \u001b[0m\u001b[35m \u001b[0m│\n",
       "│\u001b[36m \u001b[0m\u001b[36m   test/loss_rec_epoch   \u001b[0m\u001b[36m \u001b[0m│\u001b[35m \u001b[0m\u001b[35m     33811.90234375      \u001b[0m\u001b[35m \u001b[0m│\n",
       "│\u001b[36m \u001b[0m\u001b[36m         test/n          \u001b[0m\u001b[36m \u001b[0m│\u001b[35m \u001b[0m\u001b[35m          615.0          \u001b[0m\u001b[35m \u001b[0m│\n",
       "└───────────────────────────┴───────────────────────────┘\n"
      ]
     },
     "metadata": {},
     "output_type": "display_data"
    },
    {
     "name": "stderr",
     "output_type": "stream",
     "text": [
      "LOCAL_RANK: 0 - CUDA_VISIBLE_DEVICES: [0,1]\n",
      "/media/wassname/SGIronWolf/projects5/elk/sgd_probes_are_lie_detectors/.venv/lib/python3.11/site-packages/lightning/pytorch/trainer/connectors/data_connector.py:441: The 'predict_dataloader' does not have many workers which may be a bottleneck. Consider increasing the value of the `num_workers` argument` to `num_workers=23` in the `DataLoader` to improve performance.\n"
     ]
    },
    {
     "data": {
      "application/vnd.jupyter.widget-view+json": {
       "model_id": "2c8627e28e914fca84c6131350a06d79",
       "version_major": 2,
       "version_minor": 0
      },
      "text/plain": [
       "Predicting: |          | 0/? [00:00<?, ?it/s]"
      ]
     },
     "metadata": {},
     "output_type": "display_data"
    },
    {
     "name": "stderr",
     "output_type": "stream",
     "text": [
      "LOCAL_RANK: 0 - CUDA_VISIBLE_DEVICES: [0,1]\n",
      "/media/wassname/SGIronWolf/projects5/elk/sgd_probes_are_lie_detectors/.venv/lib/python3.11/site-packages/lightning/pytorch/trainer/connectors/data_connector.py:441: The 'predict_dataloader' does not have many workers which may be a bottleneck. Consider increasing the value of the `num_workers` argument` to `num_workers=23` in the `DataLoader` to improve performance.\n"
     ]
    },
    {
     "data": {
      "application/vnd.jupyter.widget-view+json": {
       "model_id": "40a343fa4ec94b34a99acb2982c636b5",
       "version_major": 2,
       "version_minor": 0
      },
      "text/plain": [
       "Predicting: |          | 0/? [00:00<?, ?it/s]"
      ]
     },
     "metadata": {},
     "output_type": "display_data"
    },
    {
     "name": "stdout",
     "output_type": "stream",
     "text": [
      "probe results on subsets of the data\n",
      "acc=84.42%,\tn=308,\t[] \n",
      "acc=86.67%,\tn=45,\t[instructed_to_lie==True] \n",
      "acc=84.03%,\tn=263,\t[instructed_to_lie==False] \n",
      "acc=87.72%,\tn=228,\t[ans==label_true] \n",
      "acc=86.34%,\tn=205,\t[ans==label_instructed] \n",
      "acc=72.73%,\tn=11,\t[instructed_to_lie==True & ans==label_instructed] \n",
      "acc=91.18%,\tn=34,\t[instructed_to_lie==True & ans!=label_instructed] \n",
      "⭐PRIMARY METRIC⭐ acc=84.42% from probe\n",
      "⭐SECONDARY METRIC⭐ acc_lie_lie=72.73% from probe\n",
      "\n",
      "\n",
      "probe accuracy for quadrants:\n",
      "| instructed to   |   did |   didn't |\n",
      "|:----------------|------:|---------:|\n",
      "| tell a truth    |  0.87 |     0.75 |\n",
      "| tell a lie      |  0.73 |     0.91 |\n",
      "\n",
      "\n",
      "\n",
      "|                 |     train |       val |      test |       ood |\n",
      "|:----------------|----------:|----------:|----------:|----------:|\n",
      "| auroc           |     1     |     0.919 |     0.934 |     0.964 |\n",
      "| acc             |     1     |     0.844 |     0.844 |     0.922 |\n",
      "| loss_pred_epoch |     0.001 |     0.73  |     0.806 |     0.385 |\n",
      "| loss_rec_epoch  | 30449.4   | 38924.2   | 35402.7   | 33811.9   |\n",
      "| l1_loss         | 22866.6   | 22790.7   | 22944.8   | 22867.2   |\n",
      "| l2_loss         | 19016.1   | 27528.9   | 23930.3   | 22378.3   |\n",
      "| n               |   307     |   154     |   154     |   615     |\n"
     ]
    }
   ],
   "source": [
    "# look at hist\n",
    "df_hist, _ = read_metrics_csv(trainer3.logger.experiment.metrics_file_path)\n",
    "plot_hist(df_hist, ['loss_pred', 'acc'])\n",
    "\n",
    "# predict\n",
    "# dl_test = dm.test_dataloader()\n",
    "# print(f\"training with x_feats={x_feats} with c={c}\")\n",
    "rs3r = trainer3.test(net, dataloaders=[dl_train, dl_val, dl_test, dl_ood])\n",
    "rs3 = rename_pl_test_results(rs3r, [\"train\", \"val\", \"test\", \"ood\"])\n",
    "\n",
    "testval_metrics = calc_metrics(dm, trainer3, net, use_val=True)\n",
    "\n",
    "print(pd.DataFrame(rs3).round(3).to_markdown())\n"
   ]
  }
 ],
 "metadata": {
  "kernelspec": {
   "display_name": ".venv",
   "language": "python",
   "name": "python3"
  },
  "language_info": {
   "codemirror_mode": {
    "name": "ipython",
    "version": 3
   },
   "file_extension": ".py",
   "mimetype": "text/x-python",
   "name": "python",
   "nbconvert_exporter": "python",
   "pygments_lexer": "ipython3",
   "version": "3.11.0rc1"
  }
 },
 "nbformat": 4,
 "nbformat_minor": 2
}
